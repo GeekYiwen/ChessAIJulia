{
 "cells": [
  {
   "cell_type": "code",
   "execution_count": null,
   "metadata": {},
   "outputs": [],
   "source": [
    "HTML(read(open(\"style.css\"), String))"
   ]
  },
  {
   "cell_type": "code",
   "execution_count": null,
   "metadata": {},
   "outputs": [],
   "source": [
    "# Pkg.add(\"NBInclude\")\n",
    "using NBInclude\n",
    "# Pkg.add(\"Chess\")\n",
    "using Chess\n",
    "using Test\n",
    "using BenchmarkTools"
   ]
  },
  {
   "cell_type": "code",
   "execution_count": null,
   "metadata": {},
   "outputs": [],
   "source": [
    "@nbinclude(\"AlphaBetaPruning.ipynb\")"
   ]
  },
  {
   "cell_type": "markdown",
   "metadata": {},
   "source": [
    "## Alpha-Beta-Pruning No Memoization"
   ]
  },
  {
   "cell_type": "code",
   "execution_count": null,
   "metadata": {
    "scrolled": false
   },
   "outputs": [],
   "source": [
    "b1 = fromfen(\"7k/P7/8/8/8/8/8/K7 w - - 0 1\")\n",
    "test1 = AdvBoard(b1)\n",
    "# Henry Buckle vs NN, London, 1840\n",
    "b2 = fromfen(\"r2qkb1r/pp2nppp/3p4/2pNN1B1/2BnP3/3P4/PPP2PPP/R2bK2R w KQkq - 1 0\")\n",
    "# 1. Nf6+ gxf6 2. Bxf7# \n",
    "test2 = AdvBoard(b2)\n",
    "\n",
    "# Louis Paulsen vs Blachy, New York, 1857\n",
    "b3 = fromfen(\"1rb4r/pkPp3p/1b1P3n/1Q6/N3Pp2/8/P1P3PP/7K w - - 1 0\")\n",
    "# 1. Qd5+ Ka6 2. cxb8=N# \n",
    "test3 = AdvBoard(b3)\n",
    "\n",
    "# Paul Morphy vs Duke Isouard, Paris, 1858\n",
    "b4 = fromfen(\"4kb1r/p2n1ppp/4q3/4p1B1/4P3/1Q6/PPP2PPP/2KR4 w k - 1 0\")\n",
    "# 1. Qb8+ Nxb8 2. Rd8# \n",
    "test4 = AdvBoard(b4)\n",
    "\n",
    "# Johannes Zukertort vs Adolf Anderssen, Breslau, 1865\n",
    "b5 = fromfen(\"r1b2k1r/ppp1bppp/8/1B1Q4/5q2/2P5/PPP2PPP/R3R1K1 w - - 1 0\")\n",
    "# 1. Qd8+ Bxd8 2. Re8# \n",
    "test5 = AdvBoard(b5)\n",
    "\n",
    "# Gustav Neumann vs Carl Mayet, Berlin, 1866\n",
    "b6 = fromfen(\"5rkr/pp2Rp2/1b1p1Pb1/3P2Q1/2n3P1/2p5/P4P2/4R1K1 w - - 1 0\")\n",
    "# 1. Qxg6+ fxg6 2. Rg7# \n",
    "test6 = AdvBoard(b6)\n",
    "@testset \"alphaBetaPruning\" begin\n",
    "    @test alphaBetaPruning_noMem(test1, 4)[2] == movefromstring(\"a7a8q\")\n",
    "    display(b2)\n",
    "    @test alphaBetaPruning_noMem(test2, 4)[2] == movefromstring(\"d5f6\")\n",
    "    display(b3)\n",
    "    @test alphaBetaPruning_noMem(test3, 4)[2] == movefromstring(\"b5d5\")\n",
    "    display(b4)\n",
    "    @test alphaBetaPruning_noMem(test4, 4)[2] == movefromstring(\"b3b8\")\n",
    "    display(b5)\n",
    "    @test alphaBetaPruning_noMem(test5, 4)[2] == movefromstring(\"d5d8\")\n",
    "    display(b6)\n",
    "    @test alphaBetaPruning_noMem(test6, 4)[2] == movefromstring(\"g5g6\")\n",
    "end"
   ]
  },
  {
   "cell_type": "markdown",
   "metadata": {},
   "source": [
    "## Alpha Beta Pruning with Memoization"
   ]
  },
  {
   "cell_type": "code",
   "execution_count": null,
   "metadata": {
    "scrolled": false
   },
   "outputs": [],
   "source": [
    "cache = initCache()\n",
    "b1 = fromfen(\"7k/P7/8/8/8/8/8/K7 w - - 0 1\")\n",
    "test1 = AdvBoard(b1)\n",
    "# Henry Buckle vs NN, London, 1840\n",
    "b2 = fromfen(\"r2qkb1r/pp2nppp/3p4/2pNN1B1/2BnP3/3P4/PPP2PPP/R2bK2R w KQkq - 1 0\")\n",
    "# 1. Nf6+ gxf6 2. Bxf7# \n",
    "test2 = AdvBoard(b2)\n",
    "\n",
    "# Louis Paulsen vs Blachy, New York, 1857\n",
    "b3 = fromfen(\"1rb4r/pkPp3p/1b1P3n/1Q6/N3Pp2/8/P1P3PP/7K w - - 1 0\")\n",
    "# 1. Qd5+ Ka6 2. cxb8=N# \n",
    "test3 = AdvBoard(b3)\n",
    "\n",
    "# Paul Morphy vs Duke Isouard, Paris, 1858\n",
    "b4 = fromfen(\"4kb1r/p2n1ppp/4q3/4p1B1/4P3/1Q6/PPP2PPP/2KR4 w k - 1 0\")\n",
    "# 1. Qb8+ Nxb8 2. Rd8# \n",
    "test4 = AdvBoard(b4)\n",
    "\n",
    "# Johannes Zukertort vs Adolf Anderssen, Breslau, 1865\n",
    "b5 = fromfen(\"r1b2k1r/ppp1bppp/8/1B1Q4/5q2/2P5/PPP2PPP/R3R1K1 w - - 1 0\")\n",
    "# 1. Qd8+ Bxd8 2. Re8# \n",
    "test5 = AdvBoard(b5)\n",
    "\n",
    "# Gustav Neumann vs Carl Mayet, Berlin, 1866\n",
    "b6 = fromfen(\"5rkr/pp2Rp2/1b1p1Pb1/3P2Q1/2n3P1/2p5/P4P2/4R1K1 w - - 1 0\")\n",
    "# 1. Qxg6+ fxg6 2. Rg7# \n",
    "test6 = AdvBoard(b6)\n",
    "\n",
    "@testset \"alphaBetaPruning\" begin\n",
    "    display(b1)  \n",
    "    @test alphaBetaPruning(test1, 4)[2] == movefromstring(\"a7a8q\")\n",
    "    display(b2)\n",
    "    @test alphaBetaPruning(test2, 4)[2] == movefromstring(\"d5f6\")\n",
    "    display(b3)\n",
    "    @test alphaBetaPruning(test3, 4)[2] == movefromstring(\"b5d5\")\n",
    "    display(b4)\n",
    "    @test alphaBetaPruning(test4, 4)[2] == movefromstring(\"b3b8\")\n",
    "    display(b5)\n",
    "    @test alphaBetaPruning(test5, 4)[2] == movefromstring(\"d5d8\")\n",
    "    display(b6)\n",
    "    @test alphaBetaPruning(test6, 4)[2] == movefromstring(\"g5g6\")\n",
    "end"
   ]
  }
 ],
 "metadata": {
  "kernelspec": {
   "display_name": "Julia 1.8.2",
   "language": "julia",
   "name": "julia-1.8"
  },
  "language_info": {
   "file_extension": ".jl",
   "mimetype": "application/julia",
   "name": "julia",
   "version": "1.8.2"
  }
 },
 "nbformat": 4,
 "nbformat_minor": 4
}
