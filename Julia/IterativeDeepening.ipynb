{
 "cells": [
  {
   "cell_type": "code",
   "execution_count": null,
   "metadata": {},
   "outputs": [],
   "source": [
    "HTML(read(open(\"style.css\"), String))"
   ]
  },
  {
   "cell_type": "markdown",
   "metadata": {},
   "source": [
    "# Iterative Deepening"
   ]
  },
  {
   "cell_type": "markdown",
   "metadata": {},
   "source": [
    "ToDo: Theory add"
   ]
  },
  {
   "cell_type": "code",
   "execution_count": null,
   "metadata": {},
   "outputs": [],
   "source": [
    "using Pkg\n",
    "# Pkg.add(\"Chess\")\n",
    "using Chess\n",
    "using Random\n",
    "# Pkg.add(\"DataStructures\")\n",
    "using DataStructures\n",
    "# Pkg.add(\"NBInclude\")\n",
    "using NBInclude\n",
    "using BenchmarkTools"
   ]
  },
  {
   "cell_type": "code",
   "execution_count": null,
   "metadata": {},
   "outputs": [],
   "source": [
    "@nbinclude(\"EvaluatePosition.ipynb\")"
   ]
  },
  {
   "cell_type": "code",
   "execution_count": null,
   "metadata": {},
   "outputs": [],
   "source": [
    "@nbinclude(\"Memoization.ipynb\")"
   ]
  },
  {
   "cell_type": "code",
   "execution_count": null,
   "metadata": {},
   "outputs": [],
   "source": [
    "@nbinclude(\"QuiescenceSearch.ipynb\")"
   ]
  },
  {
   "cell_type": "markdown",
   "metadata": {},
   "source": [
    "## maxValue"
   ]
  },
  {
   "cell_type": "markdown",
   "metadata": {},
   "source": [
    "The `maxValue` function takes in 3 arguments and 2 optional arguments.\n",
    "1. `State` is a chess `state` of type `Board`\n",
    "1. `score` is the static centipawn evaluation of the `state`\n",
    "1. `depth` is the number of halfmoves the engine should analyze before terminating \n",
    "1. `alpha` is optional and is default to -Infinity. Alpha is a minimal value that has been calculated during the recursive process\n",
    "1. `beta`  is optional and is default to Infinity . Beta is a maximal value that has been calculated during the recursive process\n",
    "        \n",
    "The function returns the maximal centipawn evaluation of the current position for the player playing white where both players have played the optimal moves according to the algorithm and terminating after the given depth. All possible moves are sorted by a `PriorityQueue` using the evaluation of the position. Good moves will be prioritized which will increase the chance of pruning paths. "
   ]
  },
  {
   "cell_type": "code",
   "execution_count": null,
   "metadata": {},
   "outputs": [],
   "source": [
    "function maxValue(aBoard::AdvBoard, depth::Int64,\n",
    "                  cache::Dict{UInt64, Tuple{String, Int64, Int64}}, alpha::Int64=-200000, beta::Int64=200000, flagQuiesce::Bool=false)::Int64\n",
    "    if isterminal(aBoard.state) \n",
    "        return terminal_evaluation(aBoard)\n",
    "    end\n",
    "    if depth == 0\n",
    "        #return score\n",
    "        # \n",
    "        if flagQuiesce\n",
    "            return evaluate(aBoard, quiesceMax, 0, cache, alpha, beta)\n",
    "        else\n",
    "            return quiesceSee(aBoard.state, aBoard.score, alpha, beta)\n",
    "        end\n",
    "    end\n",
    "    value = alpha\n",
    "    queue = PriorityQueue{Move, Int64}()\n",
    "    for move in moves(aBoard.state)\n",
    "        undoinfo = domove!(aBoard.state, move)\n",
    "        val = value_cache(aBoard.hash, depth-1, cache)\n",
    "        undomove!(aBoard.state, undoinfo)\n",
    "        if val == nothing\n",
    "            val = -200000\n",
    "        end\n",
    "        enqueue!(queue, move, -val)\n",
    "    end\n",
    "    while !isempty(queue)\n",
    "        move = peek(queue)[1]\n",
    "        undo = domoveAdv!(aBoard, move)\n",
    "        value = max(value, evaluate(aBoard, minValue,  depth - 1, cache, value, beta, flagQuiesce))\n",
    "        undomoveAdv!(aBoard, undo)\n",
    "        if value >= beta\n",
    "            return value\n",
    "        end\n",
    "        delete!(queue, move)\n",
    "    end\n",
    "    return value\n",
    "end"
   ]
  },
  {
   "cell_type": "markdown",
   "metadata": {},
   "source": [
    "## minValue"
   ]
  },
  {
   "cell_type": "markdown",
   "metadata": {},
   "source": [
    "The `minValue` function takes in 3 arguments and 2 optional arguments.\n",
    "1. `State` is a chess `state` of type `Board`\n",
    "1. `score` is the static centipawn evaluation of the `state`\n",
    "1. `depth` is the number of halfmoves the engine should analyze before terminating \n",
    "1. `alpha` is optional and is default to -Infinity. Alpha is a minimal value that has been calculated during the recursive process\n",
    "1. `beta`  is optional and is default to Infinity . Beta is a maximal value that has been calculated during the recursive process\n",
    "        \n",
    "The function returns the maximal centipawn evaluation of the current position for the player playing white where both players have played the optimal moves according to the algorithm and terminating after the given depth. All possible moves are sorted by a `PriorityQueue` using the evaluation of the position. Good moves will be prioritized which will increase the chance of pruning paths. "
   ]
  },
  {
   "cell_type": "code",
   "execution_count": null,
   "metadata": {},
   "outputs": [],
   "source": [
    "function minValue(aBoard::AdvBoard, depth::Int64,\n",
    "                  cache::Dict{UInt64, Tuple{String, Int64, Int64}}, alpha, beta, flagQuiesce::Bool=false)::Int64\n",
    "    if isterminal(aBoard.state)\n",
    "        return terminal_evaluation(aBoard)\n",
    "    end\n",
    "    if depth == 0\n",
    "        # return score\n",
    "        # return quiesceSee(State, score, -beta, -alpha)\n",
    "        if flagQuiesce\n",
    "            return evaluate(aBoard, quiesceMin, 0, cache, alpha, beta)\n",
    "        else\n",
    "            return quiesceSee(aBoard.state, aBoard.score, alpha, beta)\n",
    "        end\n",
    "    end\n",
    "    value = beta\n",
    "    queue = PriorityQueue{Move, Int64}()\n",
    "    for move in moves(aBoard.state)\n",
    "        undoinfo = domove!(aBoard.state, move)\n",
    "        val = value_cache(aBoard.hash, depth-1, cache)\n",
    "        undomove!(aBoard.state, undoinfo)\n",
    "        if val == nothing\n",
    "            val = 200000\n",
    "        end\n",
    "        enqueue!(queue, move, val)\n",
    "    end\n",
    "    while !isempty(queue)\n",
    "        move = peek(queue)[1]\n",
    "        Undo = domoveAdv!(aBoard, move)\n",
    "        value = min(value, evaluate(aBoard, maxValue, depth - 1, cache, alpha, value, flagQuiesce))\n",
    "        undomoveAdv!(aBoard, Undo)\n",
    "        if value <= alpha\n",
    "            return value\n",
    "        end\n",
    "        delete!(queue, move)\n",
    "    end\n",
    "    return value\n",
    "end"
   ]
  },
  {
   "cell_type": "markdown",
   "metadata": {},
   "source": [
    "The function `value_cache` is a helping function for the `minValue` and `maxValue` function. It takes in 2 arguments:\n",
    "1. `State` is a chess `state` of type `Board`\n",
    "1. `depth` is the number of halfmoves the engine should analyze before terminating\n",
    "\n",
    "The function looks into the Cache and returns any previously saved values for this position. This information is used to sort good moves inside of the PriorityQueue.\n",
    "The function returns the value for this `state` if the `state` is in the Cache and has a sufficient pre-calculated depth. If the cache does not have an entry for this `state` or entry does not have sufficient depth the function will return `nothing`."
   ]
  },
  {
   "cell_type": "code",
   "execution_count": null,
   "metadata": {},
   "outputs": [],
   "source": [
    "function value_cache(hash::UInt64, depth::Int64, cache::Dict{UInt64, Tuple{String, Int64, Int64}})\n",
    "    if hash in keys(cache)\n",
    "        _, value, d = cache[hash]\n",
    "        if d >= depth\n",
    "            return value\n",
    "        end\n",
    "    end\n",
    "    # new move or no entry with enough depth\n",
    "    return nothing\n",
    "end"
   ]
  },
  {
   "cell_type": "markdown",
   "metadata": {},
   "source": [
    "### Function: pd_evaluate\n",
    "This function performs iterative deepening search on a given state of the board using the evaluation function f and caching the results using the dictionary cache.\n",
    "\n",
    "Arguments:\n",
    "1. `State::Board:` The current state of the board.\n",
    "1. `f::Function:` The evaluation function to use.\n",
    "1. `score::Int64:` The initial score of the board.\n",
    "1. `hash::UInt64:` The hash value of the board.\n",
    "1. `depth::Int64:` The maximum depth to search.\n",
    "1. `cache::Dict{UInt64, Tuple{String, Int64, Int64}}`: The dictionary to cache the results.\n",
    "\n",
    "Returns:\n",
    "1. `bestVal`: The best value found in the search.\n",
    "1. `depth`: The depth at which the best value was found."
   ]
  },
  {
   "cell_type": "code",
   "execution_count": null,
   "metadata": {},
   "outputs": [],
   "source": [
    "function pd_evaluate(aBoard::AdvBoard, f::Function, depth::Int64, \n",
    "                     cache::Dict{UInt64, Tuple{String, Int64, Int64}})\n",
    "    bestVal = aBoard.score\n",
    "    # println(\"Boards score \", score)\n",
    "    # start time\n",
    "    starttime = time()\n",
    "    d = 1\n",
    "    alpha = -200000\n",
    "    beta = 200000\n",
    "    while d <= depth\n",
    "        flagQuiesce = d == depth ? true : false\n",
    "        bestVal = evaluate(aBoard, f,d, cache,alpha, beta, flagQuiesce)\n",
    "        if abs(bestVal) == 100000\n",
    "            return bestVal, d\n",
    "        end\n",
    "        # Check if is d equals depth and the difference between startime and currenttime increases depth \n",
    "        println(\"Depth is \", d, \" and time needed is \", time() - starttime)\n",
    "        if depth == d && time() - starttime < 10\n",
    "            depth +=1 \n",
    "        end\n",
    "        d +=1\n",
    "    end\n",
    "    return bestVal, depth\n",
    "end"
   ]
  },
  {
   "cell_type": "markdown",
   "metadata": {},
   "source": [
    "### Function: iterativeDeepening\n",
    "This function performs iterative deepening search on the given State and returns the best move found.\n",
    "\n",
    "Arguments:\n",
    "1. `State::Board:` A chess board in the current state.\n",
    "1. `score::Int64:` The current score of the board.\n",
    "1. `hash::UInt64:` The current hash value of the board.\n",
    "1. `depth::Int64:` The maximum depth to search.\n",
    "1. `cache::Dict{UInt64, Tuple{String, Int64, Int64}}`: TThe cache dictionary to store the evaluated board states. It is optional and initialized by initCache() function by default.\n",
    "\n",
    "Returns:\n",
    "1. `bestVal`: The best score found by the iterative deepening search.\n",
    "1. `BestMove`: The best move found by the iterative deepening search."
   ]
  },
  {
   "cell_type": "code",
   "execution_count": null,
   "metadata": {},
   "outputs": [],
   "source": [
    "function iterativeDeepening(aBoard::AdvBoard,  depth::Int64, \n",
    "                            cache::Dict{UInt64, Tuple{String, Int64, Int64}} = initCache())\n",
    "    side = sidetomove(aBoard.state)\n",
    "    bestVal, depth = (side == WHITE) ? pd_evaluate(aBoard, maxValue, depth, cache) : \n",
    "                                       pd_evaluate(aBoard, minValue, depth, cache)\n",
    "    # println(\"BestValue $(bestVal)\")\n",
    "    next_moves = moves(aBoard.state)\n",
    "\n",
    "    BestMoves::Array{Move} = [move for move in next_moves if zobrist_hash(aBoard.state, aBoard.hash, move) in keys(cache) &&\n",
    "                                                           cache[zobrist_hash(aBoard.state, aBoard.hash, move)][1] == \"=\" &&\n",
    "                                                           cache[zobrist_hash(aBoard.state, aBoard.hash, move)][2] == bestVal]\n",
    "    \n",
    "    BestMove::Move = rand(BestMoves)\n",
    "    return bestVal, BestMove\n",
    "end"
   ]
  }
 ],
 "metadata": {
  "kernelspec": {
   "display_name": "Julia 1.8.2",
   "language": "julia",
   "name": "julia-1.8"
  },
  "language_info": {
   "file_extension": ".jl",
   "mimetype": "application/julia",
   "name": "julia",
   "version": "1.8.2"
  }
 },
 "nbformat": 4,
 "nbformat_minor": 4
}
