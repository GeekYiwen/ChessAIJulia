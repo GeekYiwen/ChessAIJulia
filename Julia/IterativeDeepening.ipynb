{
 "cells": [
  {
   "cell_type": "code",
   "execution_count": 1,
   "metadata": {},
   "outputs": [
    {
     "data": {
      "text/html": [
       "<link href='http://fonts.googleapis.com/css?family=Alegreya+Sans:100,300,400,500,700,800,900,100italic,300italic,400italic,500italic,700italic,800italic,900italic' rel='stylesheet' type='text/css'>\r\n",
       "<link href='http://fonts.googleapis.com/css?family=Arvo:400,700,400italic' rel='stylesheet' type='text/css'>\r\n",
       "<link href='http://fonts.googleapis.com/css?family=PT+Mono' rel='stylesheet' type='text/css'>\r\n",
       "<link href='http://fonts.googleapis.com/css?family=Shadows+Into+Light' rel='stylesheet' type='text/css'>\r\n",
       "<link href='http://fonts.googleapis.com/css?family=Philosopher:400,700,400italic,700italic' rel='stylesheet' type='text/css'>\r\n",
       "\r\n",
       "<style>\r\n",
       "\r\n",
       "@font-face {\r\n",
       "    font-family: \"Computer Modern\";\r\n",
       "    src: url('http://mirrors.ctan.org/fonts/cm-unicode/fonts/otf/cmunss.otf');\r\n",
       "}\r\n",
       "\r\n",
       ".container { width: 100% }\r\n",
       "\r\n",
       "/* Formatting for header cells */\r\n",
       ".text_cell_render h1 {\r\n",
       "    font-family: 'Philosopher', sans-serif;\r\n",
       "    font-weight: 400;\r\n",
       "    font-size: 2.2em;\r\n",
       "    line-height: 100%;\r\n",
       "    color: rgb(0, 80, 120);\r\n",
       "    margin-bottom: 0.1em;\r\n",
       "    margin-top: 0.1em;\r\n",
       "    display: block;\r\n",
       "}\t\r\n",
       ".text_cell_render h2 {\r\n",
       "    font-family: 'Philosopher', serif;\r\n",
       "    font-weight: 400;\r\n",
       "    font-size: 1.9em;\r\n",
       "    line-height: 100%;\r\n",
       "    color: rgb(200,100,0);\r\n",
       "    margin-bottom: 0.1em;\r\n",
       "    margin-top: 0.1em;\r\n",
       "    display: block;\r\n",
       "}\t\r\n",
       "\r\n",
       ".text_cell_render h3 {\r\n",
       "    font-family: 'Philosopher', serif;\r\n",
       "    margin-top:12px;\r\n",
       "    margin-bottom: 3px;\r\n",
       "    font-style: italic;\r\n",
       "    color: rgb(94,127,192);\r\n",
       "}\r\n",
       "\r\n",
       ".text_cell_render h4 {\r\n",
       "    font-family: 'Philosopher', serif;\r\n",
       "}\r\n",
       "\r\n",
       ".text_cell_render h5 {\r\n",
       "    font-family: 'Alegreya Sans', sans-serif;\r\n",
       "    font-weight: 300;\r\n",
       "    font-size: 16pt;\r\n",
       "    color: grey;\r\n",
       "    font-style: italic;\r\n",
       "    margin-bottom: .1em;\r\n",
       "    margin-top: 0.1em;\r\n",
       "    display: block;\r\n",
       "}\r\n",
       "\r\n",
       ".text_cell_render h6 {\r\n",
       "    font-family: 'PT Mono', sans-serif;\r\n",
       "    font-weight: 300;\r\n",
       "    font-size: 10pt;\r\n",
       "    color: grey;\r\n",
       "    margin-bottom: 1px;\r\n",
       "    margin-top: 1px;\r\n",
       "}\r\n",
       "\r\n",
       ".text_cell_render em {\r\n",
       "    font-family: 'Philosopher', sans-serif;\r\n",
       "    color:        blue;\r\n",
       "    background-color: rgb(255,220,180);\r\n",
       "    font-size:    110%;\r\n",
       "    margin-left:   2px;\r\n",
       "    margin-right:  2px;\r\n",
       "    font-weight:   100;\r\n",
       "}\r\n",
       "\r\n",
       ".text_cell_render b {\r\n",
       "    color:            rgb(255,195,195);\r\n",
       "    background-color: rgb(0,0,0);\r\n",
       "    font-size:    110%;\r\n",
       "    margin-left:   2px;\r\n",
       "    margin-right:  2px;\r\n",
       "    font-weight:   650;\r\n",
       "}\r\n",
       "\r\n",
       ".text_cell_render tt {\r\n",
       "    font-size:    120%;\r\n",
       "    margin-left:   2px;\r\n",
       "    margin-right:  2px;\r\n",
       "    font-weight:   150;\r\n",
       "}\r\n",
       "\r\n",
       ".Codemirror {\r\n",
       "    font-family: \"PT Mono\";\r\n",
       "    font-size: 100%;\r\n",
       "}\r\n",
       "\r\n",
       "</style>\r\n",
       "\r\n"
      ],
      "text/plain": [
       "HTML{String}(\"<link href='http://fonts.googleapis.com/css?family=Alegreya+Sans:100,300,400,500,700,800,900,100italic,300italic,400italic,500italic,700italic,800italic,900italic' rel='stylesheet' type='text/css'>\\r\\n<link href='http://fonts.googleapis.com/css?family=Arvo:400,700,400italic' rel='stylesheet' type='text/css'>\\r\\n<link href='http://fonts.googleapis.com/css?family=PT+Mono' rel='stylesheet' type='text/css'>\\r\\n<link href='http://fonts.googleapis.com/css?family=Shadows+Into+Light' rel='stylesheet' type='text/css'>\\r\\n<link href='http://fonts.googleapis.com/css?family=Philosopher:400,700,400italic,700italic' rel='stylesheet' type='text/css'>\\r\\n\\r\\n<style>\\r\\n\\r\\n@font-face {\\r\\n    font-family: \\\"Computer Modern\\\";\\r\\n    src: url('http://mirrors.ctan.org/fonts/cm-unicode/fonts/otf/cmunss.otf');\\r\\n}\\r\\n\\r\\n.container { width: 100% }\\r\\n\\r\\n/* Formatting for header cells */\\r\\n.text_cell_render h1 {\\r\\n    font-family: 'Philosopher', sans-serif;\\r\\n    font-weight: 400;\\r\\n    font-size: 2.2em;\\r\\n    line-height: 100%;\\r\\n    color: rgb(0, 80, 120);\\r\\n    margin-bottom: 0.1em;\\r\\n    margin-top: 0.1em;\\r\\n    display: block;\\r\\n}\\t\\r\\n.text_cell_render h2 {\\r\\n    font-family: 'Philosopher', serif;\\r\\n    font-weight: 400;\\r\\n    font-size: 1.9em;\\r\\n    line-height: 100%;\\r\\n    color: rgb(200,100,0);\\r\\n    margin-bottom: 0.1em;\\r\\n    margin-top: 0.1em;\\r\\n    display: block;\\r\\n}\\t\\r\\n\\r\\n.text_cell_render h3 {\\r\\n    font-family: 'Philosopher', serif;\\r\\n    margin-top:12px;\\r\\n    margin-bottom: 3px;\\r\\n    font-style: italic;\\r\\n    color: rgb(94,127,192);\\r\\n}\\r\\n\\r\\n.text_cell_render h4 {\\r\\n    font-family: 'Philosopher', serif;\\r\\n}\\r\\n\\r\\n.text_cell_render h5 {\\r\\n    font-family: 'Alegreya Sans', sans-serif;\\r\\n    font-weight: 300;\\r\\n    font-size: 16pt;\\r\\n    color: grey;\\r\\n    font-style: italic;\\r\\n    margin-bottom: .1em;\\r\\n    margin-top: 0.1em;\\r\\n    display: block;\\r\\n}\\r\\n\\r\\n.text_cell_render h6 {\\r\\n    font-family: 'PT Mono', sans-serif;\\r\\n    font-weight: 300;\\r\\n    font-size: 10pt;\\r\\n    color: grey;\\r\\n    margin-bottom: 1px;\\r\\n    margin-top: 1px;\\r\\n}\\r\\n\\r\\n.text_cell_render em {\\r\\n    font-family: 'Philosopher', sans-serif;\\r\\n    color:        blue;\\r\\n    background-color: rgb(255,220,180);\\r\\n    font-size:    110%;\\r\\n    margin-left:   2px;\\r\\n    margin-right:  2px;\\r\\n    font-weight:   100;\\r\\n}\\r\\n\\r\\n.text_cell_render b {\\r\\n    color:            rgb(255,195,195);\\r\\n    background-color: rgb(0,0,0);\\r\\n    font-size:    110%;\\r\\n    margin-left:   2px;\\r\\n    margin-right:  2px;\\r\\n    font-weight:   650;\\r\\n}\\r\\n\\r\\n.text_cell_render tt {\\r\\n    font-size:    120%;\\r\\n    margin-left:   2px;\\r\\n    margin-right:  2px;\\r\\n    font-weight:   150;\\r\\n}\\r\\n\\r\\n.Codemirror {\\r\\n    font-family: \\\"PT Mono\\\";\\r\\n    font-size: 100%;\\r\\n}\\r\\n\\r\\n</style>\\r\\n\\r\\n\")"
      ]
     },
     "execution_count": 1,
     "metadata": {},
     "output_type": "execute_result"
    }
   ],
   "source": [
    "HTML(read(open(\"style.css\"), String))"
   ]
  },
  {
   "cell_type": "markdown",
   "metadata": {},
   "source": [
    "# Iterative Deepening"
   ]
  },
  {
   "cell_type": "code",
   "execution_count": 2,
   "metadata": {},
   "outputs": [],
   "source": [
    "using Pkg\n",
    "# Pkg.add(\"Chess\")\n",
    "using Chess\n",
    "using Random\n",
    "# Pkg.add(\"DataStructures\")\n",
    "using DataStructures\n",
    "# Pkg.add(\"NBInclude\")\n",
    "using NBInclude"
   ]
  },
  {
   "cell_type": "code",
   "execution_count": 3,
   "metadata": {},
   "outputs": [
    {
     "data": {
      "text/plain": [
       "terminal_evaluation (generic function with 1 method)"
      ]
     },
     "execution_count": 3,
     "metadata": {},
     "output_type": "execute_result"
    }
   ],
   "source": [
    "@nbinclude(\"EvaluatePosition.ipynb\")"
   ]
  },
  {
   "cell_type": "code",
   "execution_count": 4,
   "metadata": {},
   "outputs": [
    {
     "data": {
      "text/plain": [
       "alphaBetaPruning (generic function with 1 method)"
      ]
     },
     "execution_count": 4,
     "metadata": {},
     "output_type": "execute_result"
    }
   ],
   "source": [
    "@nbinclude(\"AlphaBetaPruning.ipynb\")"
   ]
  },
  {
   "cell_type": "markdown",
   "metadata": {},
   "source": [
    "## maxValue"
   ]
  },
  {
   "cell_type": "code",
   "execution_count": 5,
   "metadata": {},
   "outputs": [
    {
     "data": {
      "text/plain": [
       "maxValue (generic function with 3 methods)"
      ]
     },
     "execution_count": 5,
     "metadata": {},
     "output_type": "execute_result"
    }
   ],
   "source": [
    "function maxValue(State, score, depth, alpha=-Inf, beta=Inf)\n",
    "    if isterminal(State) \n",
    "        return terminal_evaluation(State) - depth\n",
    "    end\n",
    "    value = alpha\n",
    "    if depth <= 1\n",
    "        for move in moves(State)\n",
    "            value = max(value, evaluate_move(State, move, score))\n",
    "        end\n",
    "        return value\n",
    "    end\n",
    "    queue = PriorityQueue()\n",
    "    for move in moves(State)\n",
    "        val = value_cache(domove(State, move), depth-1)\n",
    "        if val == nothing\n",
    "            val = -Inf\n",
    "        end\n",
    "        enqueue!(queue, move, -val)\n",
    "    end\n",
    "    while !isempty(queue)\n",
    "        move = peek(queue)[1]\n",
    "        value = max(value, evaluate(domove(State, move), minValue, evaluate_move(State, move, score), depth - 1, value, beta))\n",
    "        if value >= beta\n",
    "            return value\n",
    "        end\n",
    "        delete!(queue, move)\n",
    "    end\n",
    "    return value\n",
    "end"
   ]
  },
  {
   "cell_type": "markdown",
   "metadata": {},
   "source": [
    "## minValue"
   ]
  },
  {
   "cell_type": "code",
   "execution_count": 12,
   "metadata": {},
   "outputs": [
    {
     "data": {
      "text/plain": [
       "minValue (generic function with 3 methods)"
      ]
     },
     "execution_count": 12,
     "metadata": {},
     "output_type": "execute_result"
    }
   ],
   "source": [
    "function minValue(State, score, depth, alpha=-Inf, beta=Inf)\n",
    "    if isterminal(State)\n",
    "        #print(\"isterminal\")\n",
    "        return terminal_evaluation(State) + depth\n",
    "    end\n",
    "    value = beta\n",
    "    if depth <= 1\n",
    "        for move in moves(State)\n",
    "            value = min(value, evaluate_move(State, move, score))\n",
    "            #println(evaluate_move(State, move, score), move, value)\n",
    "        end\n",
    "        return value\n",
    "    end\n",
    "    queue = PriorityQueue()\n",
    "    for move in moves(State)\n",
    "        val = value_cache(domove(State, move), depth-1)\n",
    "        if val == nothing\n",
    "            val = Inf\n",
    "        end\n",
    "        enqueue!(queue, move, val)\n",
    "    end\n",
    "    while !isempty(queue)\n",
    "        move = peek(queue)[1]\n",
    "        value = min(value, evaluate(domove(State, move), maxValue, evaluate_move(State, move, score), depth - 1, alpha, value))\n",
    "        if value <= alpha\n",
    "            return value\n",
    "        end\n",
    "        delete!(queue, move)\n",
    "    end\n",
    "    return value\n",
    "end"
   ]
  },
  {
   "cell_type": "code",
   "execution_count": 7,
   "metadata": {},
   "outputs": [
    {
     "data": {
      "text/plain": [
       "value_cache (generic function with 1 method)"
      ]
     },
     "execution_count": 7,
     "metadata": {},
     "output_type": "execute_result"
    }
   ],
   "source": [
    "function value_cache(State, depth)\n",
    "    global gCache\n",
    "    hash = zobrist_hash(State, zobristHasher)\n",
    "    if hash in keys(gCache)\n",
    "        _, value, d = gCache[hash]\n",
    "        if d >= depth\n",
    "            return value\n",
    "        end\n",
    "    end\n",
    "    # new move or no entry with enough depth\n",
    "    return nothing\n",
    "end"
   ]
  },
  {
   "cell_type": "code",
   "execution_count": 8,
   "metadata": {},
   "outputs": [
    {
     "data": {
      "text/plain": [
       "iterativeDeepening (generic function with 1 method)"
      ]
     },
     "execution_count": 8,
     "metadata": {},
     "output_type": "execute_result"
    }
   ],
   "source": [
    "function iterativeDeepening(State, score, depth)\n",
    "    next_moves = moves(State)\n",
    "    if sidetomove(State) == WHITE\n",
    "        bestVal = evaluate(State, maxValue, score, depth)\n",
    "        BestMoves = [move for move in next_moves if evaluate(domove(State, move), minValue, evaluate_move(State, move, score), depth - 1) == bestVal]\n",
    "    elseif sidetomove(State) == BLACK\n",
    "        bestVal = evaluate(State, minValue, score, depth)\n",
    "        BestMoves = [move for move in next_moves if evaluate(domove(State, move), maxValue, evaluate_move(State, move, score), depth - 1) == bestVal]\n",
    "    end\n",
    "    BestMove = rand(BestMoves)\n",
    "    return bestVal, BestMove\n",
    "end"
   ]
  },
  {
   "cell_type": "code",
   "execution_count": null,
   "metadata": {},
   "outputs": [],
   "source": []
  }
 ],
 "metadata": {
  "kernelspec": {
   "display_name": "Julia 1.8.2",
   "language": "julia",
   "name": "julia-1.8"
  },
  "language_info": {
   "file_extension": ".jl",
   "mimetype": "application/julia",
   "name": "julia",
   "version": "1.8.2"
  }
 },
 "nbformat": 4,
 "nbformat_minor": 4
}
