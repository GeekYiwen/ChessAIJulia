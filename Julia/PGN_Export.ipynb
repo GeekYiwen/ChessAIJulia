{
 "cells": [
  {
   "cell_type": "code",
   "execution_count": null,
   "metadata": {},
   "outputs": [],
   "source": [
    "HTML(read(open(\"style.css\"), String))"
   ]
  },
  {
   "cell_type": "markdown",
   "metadata": {},
   "source": [
    "# Export Game as PGN File\n",
    "This notebook allows the user to export played games as PGN Files for further review."
   ]
  },
  {
   "cell_type": "code",
   "execution_count": null,
   "metadata": {},
   "outputs": [],
   "source": [
    "using Pkg\n",
    "# Pkg.add(\"Chess\")\n",
    "using Chess, Chess.PGN\n",
    "using Random\n",
    "using Dates\n",
    "\n",
    "# Pkg.add(\"NBInclude\")\n",
    "using NBInclude"
   ]
  },
  {
   "cell_type": "markdown",
   "metadata": {},
   "source": [
    "The function `setGameHeaders(game)` takes in a `game` and sets the required headers with default values for the given `game`. (Except the `result` tag. this will be set in the function `setGameResult(game, winner)` below.)\n",
    "Default values: \n",
    "- `Event` as `AI Testing`\n",
    "- `site` as `DHBW Mannheim`\n",
    "- `date` as current date (cannot be changed)\n",
    "- `round` as `1`\n",
    "- `white` as `Player 1`\n",
    "- `black` as `Player 2`"
   ]
  },
  {
   "cell_type": "code",
   "execution_count": null,
   "metadata": {},
   "outputs": [],
   "source": [
    "function setGameHeaders(game, event = \"AI Testing\", site = \"DHBW Mannheim\", round = \"1\", white = \"Player 1\", black = \"Player 2\")\n",
    "    setheadervalue!(game, \"Event\", event)\n",
    "    setheadervalue!(game, \"Site\", site)\n",
    "    setheadervalue!(game, \"Date\", Dates.format(now(), \"yyyy.mm.dd\"))\n",
    "    setheadervalue!(game, \"Round\", round)\n",
    "    setheadervalue!(game, \"White\", white)\n",
    "    setheadervalue!(game, \"Black\", black)\n",
    "end"
   ]
  },
  {
   "cell_type": "markdown",
   "metadata": {},
   "source": [
    "The function `saveGameToPGN(game)` takes in a `game` and converts it into a PGN file and saves it in the `/Games` directory"
   ]
  },
  {
   "cell_type": "code",
   "execution_count": null,
   "metadata": {},
   "outputs": [],
   "source": [
    "function saveGameToPGN(game)\n",
    "    currentDir = pwd()\n",
    "    println(gametopgn(game))\n",
    "    cd(dirname(pwd())*\"/Games\")    # Change from /Julia to /Games directory\n",
    "    open(Dates.format(now(), \"yyyy-mm-ddTHH-MM-SS\") * \".pgn\", \"w\") do file\n",
    "        write(file, gametopgn(game))\n",
    "    end \n",
    "    cd(currentDir)\n",
    "end"
   ]
  },
  {
   "cell_type": "markdown",
   "metadata": {},
   "source": [
    "The function `setGameResult(game, winner)` takes in a `game` and the `winner` of the game and sets the `result` header in the PGN file of the game."
   ]
  },
  {
   "cell_type": "code",
   "execution_count": null,
   "metadata": {},
   "outputs": [],
   "source": [
    "function setGameResult(game, winner)\n",
    "    if winner in [\"WHITE\", \"BLACK\", \"draw\"]\n",
    "        setheadervalue!(game, \"Result\", winner)\n",
    "    else\n",
    "        print(\"Invalid winner. Did not set winner in PGN file\")\n",
    "    end\n",
    "end"
   ]
  },
  {
   "cell_type": "code",
   "execution_count": null,
   "metadata": {},
   "outputs": [],
   "source": []
  }
 ],
 "metadata": {
  "kernelspec": {
   "display_name": "Julia 1.8.2",
   "language": "julia",
   "name": "julia-1.8"
  },
  "language_info": {
   "file_extension": ".jl",
   "mimetype": "application/julia",
   "name": "julia",
   "version": "1.8.2"
  }
 },
 "nbformat": 4,
 "nbformat_minor": 4
}
