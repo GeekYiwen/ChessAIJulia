{
 "cells": [
  {
   "cell_type": "code",
   "execution_count": null,
   "metadata": {},
   "outputs": [],
   "source": [
    "HTML(read(open(\"style.css\"), String))"
   ]
  },
  {
   "cell_type": "markdown",
   "metadata": {},
   "source": [
    "# Iterative Deepening Testing"
   ]
  },
  {
   "cell_type": "code",
   "execution_count": null,
   "metadata": {},
   "outputs": [],
   "source": [
    "using Pkg\n",
    "# Pkg.add(\"NBInclude\")\n",
    "using NBInclude\n",
    "# Pkg.add(\"Chess\")\n",
    "using Chess\n",
    "# Pkg.add(\"Test\")\n",
    "using Test\n",
    "# Pkg.add(\"BenchmarkTools\")\n",
    "using BenchmarkTools\n",
    "# Pkg.add(\"ProfileView\")\n",
    "# using ProfileView\n",
    "# Pkg.add(\"Traceur\")\n",
    "# using Traceur"
   ]
  },
  {
   "cell_type": "markdown",
   "metadata": {},
   "source": [
    "Helpful macros for analysing performance and time:\n",
    "1. `@time` measures time\n",
    "1. `@btime` runs the function multiple times (>100000) to get a more accurate average time\n",
    "1. `@profview` opens profiling window (ProfileView)\n",
    "1. `@profview` opens profiling directly in Jupyter notebook (ProfileVega)\n",
    "1. `@trace` displays performance errors"
   ]
  },
  {
   "cell_type": "code",
   "execution_count": null,
   "metadata": {},
   "outputs": [],
   "source": [
    "@nbinclude(\"IterativeDeepening.ipynb\")"
   ]
  },
  {
   "cell_type": "markdown",
   "metadata": {},
   "source": [
    "## General testing "
   ]
  },
  {
   "cell_type": "markdown",
   "metadata": {},
   "source": [
    "### mate in 1 test"
   ]
  },
  {
   "cell_type": "code",
   "execution_count": null,
   "metadata": {
    "scrolled": false
   },
   "outputs": [],
   "source": [
    "b1 = fromfen(\"7k/8/8/3K4/8/6R1/8/5R2 w - - 0 1\")\n",
    "display(b1)\n",
    "test1 = AdvBoard(b1)\n",
    "\n",
    "b2 = fromfen(\"k7/7K/8/8/6r1/8/8/5r2 b - - 0 1\")\n",
    "display(b2)\n",
    "test2 = AdvBoard(b2)\n",
    "\n",
    "@testset \"iterativeDeepening M1\" begin\n",
    "    @test iterativeDeepening(test1, 5)[2] == movefromstring(\"f1h1\")\n",
    "    @test iterativeDeepening(test2, 5)[2] == movefromstring(\"f1h1\")\n",
    "end"
   ]
  },
  {
   "cell_type": "markdown",
   "metadata": {},
   "source": [
    "### mate in 2 white"
   ]
  },
  {
   "cell_type": "code",
   "execution_count": null,
   "metadata": {
    "scrolled": false
   },
   "outputs": [],
   "source": [
    "# Henry Buckle vs NN, London, 1840\n",
    "b1 = fromfen(\"r2qkb1r/pp2nppp/3p4/2pNN1B1/2BnP3/3P4/PPP2PPP/R2bK2R w KQkq - 1 0\")\n",
    "test1 = AdvBoard(b1)\n",
    "# 1. Nf6+ gxf6 2. Bxf7# \n",
    "\n",
    "\n",
    "# Louis Paulsen vs Blachy, New York, 1857\n",
    "b2 = fromfen(\"1rb4r/pkPp3p/1b1P3n/1Q6/N3Pp2/8/P1P3PP/7K w - - 1 0\")\n",
    "test2 = AdvBoard(b2)\n",
    "# 1. Qd5+ Ka6 2. cxb8=N# \n",
    "\n",
    "\n",
    "# Paul Morphy vs Duke Isouard, Paris, 1858\n",
    "b3 = fromfen(\"4kb1r/p2n1ppp/4q3/4p1B1/4P3/1Q6/PPP2PPP/2KR4 w k - 1 0\")\n",
    "test3 = AdvBoard(b3)\n",
    "# 1. Qb8+ Nxb8 2. Rd8# \n",
    "\n",
    "\n",
    "# Johannes Zukertort vs Adolf Anderssen, Breslau, 1865\n",
    "b4 = fromfen(\"r1b2k1r/ppp1bppp/8/1B1Q4/5q2/2P5/PPP2PPP/R3R1K1 w - - 1 0\")\n",
    "test4 = AdvBoard(b4)\n",
    "# 1. Qd8+ Bxd8 2. Re8# \n",
    "\n",
    "\n",
    "# Gustav Neumann vs Carl Mayet, Berlin, 1866\n",
    "b5 = fromfen(\"5rkr/pp2Rp2/1b1p1Pb1/3P2Q1/2n3P1/2p5/P4P2/4R1K1 w - - 1 0\")\n",
    "test5 = AdvBoard(b5)\n",
    "# 1. Qxg6+ fxg6 2. Rg7# \n",
    "\n",
    "@testset \"iterativeDeepening\" begin\n",
    "    display(b1)\n",
    "    @test iterativeDeepening(test1, 4)[2] == movefromstring(\"d5f6\")\n",
    "    display(b2)\n",
    "    @test iterativeDeepening(test2, 4)[2] == movefromstring(\"b5d5\")\n",
    "    display(b3)\n",
    "    @test iterativeDeepening(test3, 4)[2] == movefromstring(\"b3b8\")\n",
    "    display(b4)\n",
    "    @test iterativeDeepening(test4, 4)[2] == movefromstring(\"d5d8\")\n",
    "    display(b5)\n",
    "    @test iterativeDeepening(test5, 4)[2] == movefromstring(\"g5g6\")\n",
    "end"
   ]
  },
  {
   "cell_type": "markdown",
   "metadata": {},
   "source": [
    "### mate in 2 black"
   ]
  },
  {
   "cell_type": "code",
   "execution_count": null,
   "metadata": {},
   "outputs": [],
   "source": [
    "cache = initCache()\n",
    "\n",
    "# Alexander Flamberg vs Oldrich Duras, Opatija, 1912\n",
    "b1 = fromfen(\"r1b3k1/ppp3pp/8/3pB3/1P1P4/3K1P2/PP1n1q1P/R2Q3R b - - 0 1\")\n",
    "test1 = AdvBoard(b1)\n",
    "# 1... Bf5+ 2. Kc3 Qe3# \n",
    "\n",
    "# Arturo Reggio vs Georg Marco, Monte Carlo, 1902\n",
    "b2 = fromfen(\"7k/1p4p1/p4b1p/3N3P/2p5/2rb4/PP2r3/K2R2R1 b - - 0 1\")\n",
    "test2 = AdvBoard(b2)\n",
    "# 1... Rc1+ 2. Rxc1 Bxb2# \n",
    "\n",
    "@testset \"iterativeDeepening\" begin\n",
    "    display(b1)\n",
    "    @test iterativeDeepening(test1, 4)[2] == movefromstring(\"c8f5\")\n",
    "    display(b2)\n",
    "    @test iterativeDeepening(test2, 4)[2] == movefromstring(\"c3c1\")\n",
    "end"
   ]
  },
  {
   "attachments": {},
   "cell_type": "markdown",
   "metadata": {},
   "source": [
    "### Mate in seven moves"
   ]
  },
  {
   "cell_type": "code",
   "execution_count": null,
   "metadata": {},
   "outputs": [],
   "source": [
    "# Edward Lasker vs George Alan Thomas, London, 1912\n",
    "b1 = fromfen(\"rn3rk1/pbppq1pp/1p2pb2/4N2Q/3PN3/3B4/PPP2PPP/R3K2R w KQ - 7 11\")\n",
    "display(b1)\n",
    "test1 = AdvBoard(b1)\n",
    "\n",
    "iterativeDeepening(test1, 5,initCache(), false)"
   ]
  },
  {
   "cell_type": "markdown",
   "metadata": {},
   "source": [
    "## Increase of Depth in simple positions"
   ]
  },
  {
   "cell_type": "code",
   "execution_count": null,
   "metadata": {},
   "outputs": [],
   "source": [
    "b1 = fromfen(\"8/8/8/6k1/6p1/1P6/1K6/8 w - - 0 1\")\n",
    "display(b1)\n",
    "test1 = AdvBoard(b1)\n",
    "\n",
    "iterativeDeepening(test1, 5)"
   ]
  },
  {
   "cell_type": "markdown",
   "metadata": {},
   "source": [
    "## Benchmarks Tests\n"
   ]
  },
  {
   "cell_type": "code",
   "execution_count": null,
   "metadata": {},
   "outputs": [],
   "source": [
    "b1 = fromfen(\"rnb1kbnr/ppp2ppp/8/3Pp3/7q/5N2/PPPP1PPP/RNBQKB1R w KQkq - 0 1\")\n",
    "display(b1)\n",
    "test1 = AdvBoard(b1)\n",
    "@time iterativeDeepening(test1, 4)"
   ]
  },
  {
   "attachments": {},
   "cell_type": "markdown",
   "metadata": {},
   "source": [
    "## Profiling "
   ]
  },
  {
   "cell_type": "code",
   "execution_count": null,
   "metadata": {
    "scrolled": false
   },
   "outputs": [],
   "source": [
    "b5 = fromfen(\"rnb1kbnr/ppp2ppp/8/3Pp3/7q/5N2/PPPP1PPP/RNBQKB1R w KQkq - 0 1\")\n",
    "display(b5)\n",
    "a5 = AdvBoard(b5)\n",
    "@profview iterativeDeepening(a5, 4)"
   ]
  }
 ],
 "metadata": {
  "kernelspec": {
   "display_name": "Julia 1.8.2",
   "language": "julia",
   "name": "julia-1.8"
  },
  "language_info": {
   "file_extension": ".jl",
   "mimetype": "application/julia",
   "name": "julia",
   "version": "1.8.2"
  }
 },
 "nbformat": 4,
 "nbformat_minor": 4
}
