{
 "cells": [
  {
   "cell_type": "code",
   "execution_count": null,
   "metadata": {},
   "outputs": [],
   "source": [
    "HTML(read(open(\"style.css\"), String))"
   ]
  },
  {
   "cell_type": "markdown",
   "metadata": {},
   "source": [
    "## Tests for Minimax.ipynb"
   ]
  },
  {
   "cell_type": "markdown",
   "metadata": {},
   "source": [
    "This notebook contains all tests from the `Minimax.ipynb` jupyter notebook."
   ]
  },
  {
   "cell_type": "code",
   "execution_count": null,
   "metadata": {},
   "outputs": [],
   "source": [
    "# Pkg.add(\"NBInclude\")\n",
    "using NBInclude\n",
    "# Pkg.add(\"Chess\")\n",
    "using Chess\n",
    "using Test"
   ]
  },
  {
   "cell_type": "code",
   "execution_count": null,
   "metadata": {},
   "outputs": [],
   "source": [
    "@nbinclude(\"Minimax.ipynb\")"
   ]
  },
  {
   "cell_type": "markdown",
   "metadata": {},
   "source": [
    "## Minimax incremental without Memoization"
   ]
  },
  {
   "cell_type": "code",
   "execution_count": null,
   "metadata": {
    "scrolled": false
   },
   "outputs": [],
   "source": [
    "# Henry Buckle vs NN, London, 1840\n",
    "b1 = fromfen(\"r2qkb1r/pp2nppp/3p4/2pNN1B1/2BnP3/3P4/PPP2PPP/R2bK2R w KQkq - 1 0\")\n",
    "# 1. Nf6+ gxf6 2. Bxf7# \n",
    "\n",
    "# Louis Paulsen vs Blachy, New York, 1857\n",
    "b2 = fromfen(\"1rb4r/pkPp3p/1b1P3n/1Q6/N3Pp2/8/P1P3PP/7K w - - 1 0\")\n",
    "# 1. Qd5+ Ka6 2. cxb8=N# \n",
    "\n",
    "# Paul Morphy vs Duke Isouard, Paris, 1858\n",
    "b3 = fromfen(\"4kb1r/p2n1ppp/4q3/4p1B1/4P3/1Q6/PPP2PPP/2KR4 w k - 1 0\")\n",
    "# 1. Qb8+ Nxb8 2. Rd8# \n",
    "\n",
    "# Johannes Zukertort vs Adolf Anderssen, Breslau, 1865\n",
    "b4 = fromfen(\"r1b2k1r/ppp1bppp/8/1B1Q4/5q2/2P5/PPP2PPP/R3R1K1 w - - 1 0\")\n",
    "# 1. Qd8+ Bxd8 2. Re8# \n",
    "\n",
    "# Gustav Neumann vs Carl Mayet, Berlin, 1866\n",
    "b5 = fromfen(\"5rkr/pp2Rp2/1b1p1Pb1/3P2Q1/2n3P1/2p5/P4P2/4R1K1 w - - 1 0\")\n",
    "# 1. Qxg6+ fxg6 2. Rg7# \n",
    "\n",
    "@testset \"minimax\" begin\n",
    "    display(b1)\n",
    "    @test minimax_noMem(b1, evaluate_position(b1), 3)[2] == movefromstring(\"d5f6\")\n",
    "    display(b2) \n",
    "    @test minimax_noMem(b2, evaluate_position(b1), 3)[2] == movefromstring(\"b5d5\")\n",
    "    #display(b3)\n",
    "    #@test minimax_noMem(b3, evaluate_position(b1), 4)[2] == movefromstring(\"b3b8\")\n",
    "    #display(b4)\n",
    "    #@test minimax_noMem(b4, evaluate_position(b1), 4)[2] == movefromstring(\"d5d8\")\n",
    "    #display(b5)\n",
    "    #@test minimax_noMem(b5, evaluate_position(b1), 4)[2] == movefromstring(\"g5g6\")\n",
    "end"
   ]
  },
  {
   "cell_type": "markdown",
   "metadata": {},
   "source": [
    "## Minimax with Memoization"
   ]
  },
  {
   "cell_type": "code",
   "execution_count": null,
   "metadata": {},
   "outputs": [],
   "source": [
    "# Henry Buckle vs NN, London, 1840\n",
    "b1 = fromfen(\"r2qkb1r/pp2nppp/3p4/2pNN1B1/2BnP3/3P4/PPP2PPP/R2bK2R w KQkq - 1 0\")\n",
    "# 1. Nf6+ gxf6 2. Bxf7# \n",
    "a1 = AdvBoard(b1)\n",
    "\n",
    "# Louis Paulsen vs Blachy, New York, 1857\n",
    "b2 = fromfen(\"1rb4r/pkPp3p/1b1P3n/1Q6/N3Pp2/8/P1P3PP/7K w - - 1 0\")\n",
    "# 1. Qd5+ Ka6 2. cxb8=N# \n",
    "a2 = AdvBoard(b2)\n",
    "\n",
    "# Paul Morphy vs Duke Isouard, Paris, 1858\n",
    "b3 = fromfen(\"4kb1r/p2n1ppp/4q3/4p1B1/4P3/1Q6/PPP2PPP/2KR4 w k - 1 0\")\n",
    "# 1. Qb8+ Nxb8 2. Rd8# \n",
    "a3 = AdvBoard(b3)\n",
    "\n",
    "# Johannes Zukertort vs Adolf Anderssen, Breslau, 1865\n",
    "b4 = fromfen(\"r1b2k1r/ppp1bppp/8/1B1Q4/5q2/2P5/PPP2PPP/R3R1K1 w - - 1 0\")\n",
    "# 1. Qd8+ Bxd8 2. Re8# \n",
    "a4 = AdvBoard(b4)\n",
    "\n",
    "# Gustav Neumann vs Carl Mayet, Berlin, 1866\n",
    "b5 = fromfen(\"5rkr/pp2Rp2/1b1p1Pb1/3P2Q1/2n3P1/2p5/P4P2/4R1K1 w - - 1 0\")\n",
    "# 1. Qxg6+ fxg6 2. Rg7# \n",
    "a5 = AdvBoard(b5)\n",
    "\n",
    "@testset \"minimax\" begin\n",
    "    display(b1)\n",
    "    @test minimax(a1, 4)[2] == movefromstring(\"d5f6\")\n",
    "    display(b2)\n",
    "    @test minimax(a2, 4)[2] == movefromstring(\"b5d5\")\n",
    "    display(b3)\n",
    "    @test minimax(a3, 4)[2] == movefromstring(\"b3b8\")\n",
    "    display(b4)\n",
    "    @test minimax(a4, 4)[2] == movefromstring(\"d5d8\")\n",
    "    display(b5)\n",
    "    @test minimax(a5, 4)[2] == movefromstring(\"g5g6\")\n",
    "end"
   ]
  },
  {
   "cell_type": "markdown",
   "metadata": {},
   "source": [
    "### Results"
   ]
  },
  {
   "cell_type": "code",
   "execution_count": null,
   "metadata": {},
   "outputs": [],
   "source": [
    "# Ding Liren vs Ian Nepomniachtchi, 2023\n",
    "b = fromfen(\"r1bq1rk1/ppp2ppp/2np4/8/2PPPp2/2P2N2/P1Q1BPPP/R3K2R w KQ - 0 11\")\n",
    "a = AdvBoard(b)\n",
    "\n",
    "display(b)\n",
    "@time minimax(a, 5)"
   ]
  },
  {
   "cell_type": "markdown",
   "metadata": {},
   "source": [
    "1. $d = 1$: (20, Move(e1g1))   0.000251 seconds (1.03 k allocations: 87.266 KiB)\n",
    "1. $d = 2$: (-25, Move(d4d5))  0.005828 seconds (21.22 k allocations: 1.935 MiB)\n",
    "1. $d = 3$: (90, Move(a1b1))   0.138837 seconds (597.90 k allocations: 50.467 MiB, 28.04% gc time)\n",
    "1. $d = 4$: (-110, Move(d4d5)) 3.161470 seconds (12.93 M allocations: 985.814 MiB, 14.84% gc time)\n",
    "1. $d = 5$: (110, Move(a1b1))  89.040390 seconds (235.31 M allocations: 16.571 GiB, 22.68% gc time)"
   ]
  },
  {
   "cell_type": "code",
   "execution_count": null,
   "metadata": {},
   "outputs": [],
   "source": []
  }
 ],
 "metadata": {
  "kernelspec": {
   "display_name": "Julia 1.8.2",
   "language": "julia",
   "name": "julia-1.8"
  },
  "language_info": {
   "file_extension": ".jl",
   "mimetype": "application/julia",
   "name": "julia",
   "version": "1.8.2"
  }
 },
 "nbformat": 4,
 "nbformat_minor": 4
}
