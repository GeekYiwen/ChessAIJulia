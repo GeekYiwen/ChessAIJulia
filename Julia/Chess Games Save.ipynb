{
 "cells": [
  {
   "cell_type": "code",
   "execution_count": 1,
   "metadata": {},
   "outputs": [
    {
     "data": {
      "text/html": [
       "<link href='http://fonts.googleapis.com/css?family=Alegreya+Sans:100,300,400,500,700,800,900,100italic,300italic,400italic,500italic,700italic,800italic,900italic' rel='stylesheet' type='text/css'>\r\n",
       "<link href='http://fonts.googleapis.com/css?family=Arvo:400,700,400italic' rel='stylesheet' type='text/css'>\r\n",
       "<link href='http://fonts.googleapis.com/css?family=PT+Mono' rel='stylesheet' type='text/css'>\r\n",
       "<link href='http://fonts.googleapis.com/css?family=Shadows+Into+Light' rel='stylesheet' type='text/css'>\r\n",
       "<link href='http://fonts.googleapis.com/css?family=Philosopher:400,700,400italic,700italic' rel='stylesheet' type='text/css'>\r\n",
       "\r\n",
       "<style>\r\n",
       "\r\n",
       "@font-face {\r\n",
       "    font-family: \"Computer Modern\";\r\n",
       "    src: url('http://mirrors.ctan.org/fonts/cm-unicode/fonts/otf/cmunss.otf');\r\n",
       "}\r\n",
       "\r\n",
       ".container { width: 100% }\r\n",
       "\r\n",
       "/* Formatting for header cells */\r\n",
       ".text_cell_render h1 {\r\n",
       "    font-family: 'Philosopher', sans-serif;\r\n",
       "    font-weight: 400;\r\n",
       "    font-size: 2.2em;\r\n",
       "    line-height: 100%;\r\n",
       "    color: rgb(0, 80, 120);\r\n",
       "    margin-bottom: 0.1em;\r\n",
       "    margin-top: 0.1em;\r\n",
       "    display: block;\r\n",
       "}\t\r\n",
       ".text_cell_render h2 {\r\n",
       "    font-family: 'Philosopher', serif;\r\n",
       "    font-weight: 400;\r\n",
       "    font-size: 1.9em;\r\n",
       "    line-height: 100%;\r\n",
       "    color: rgb(200,100,0);\r\n",
       "    margin-bottom: 0.1em;\r\n",
       "    margin-top: 0.1em;\r\n",
       "    display: block;\r\n",
       "}\t\r\n",
       "\r\n",
       ".text_cell_render h3 {\r\n",
       "    font-family: 'Philosopher', serif;\r\n",
       "    margin-top:12px;\r\n",
       "    margin-bottom: 3px;\r\n",
       "    font-style: italic;\r\n",
       "    color: rgb(94,127,192);\r\n",
       "}\r\n",
       "\r\n",
       ".text_cell_render h4 {\r\n",
       "    font-family: 'Philosopher', serif;\r\n",
       "}\r\n",
       "\r\n",
       ".text_cell_render h5 {\r\n",
       "    font-family: 'Alegreya Sans', sans-serif;\r\n",
       "    font-weight: 300;\r\n",
       "    font-size: 16pt;\r\n",
       "    color: grey;\r\n",
       "    font-style: italic;\r\n",
       "    margin-bottom: .1em;\r\n",
       "    margin-top: 0.1em;\r\n",
       "    display: block;\r\n",
       "}\r\n",
       "\r\n",
       ".text_cell_render h6 {\r\n",
       "    font-family: 'PT Mono', sans-serif;\r\n",
       "    font-weight: 300;\r\n",
       "    font-size: 10pt;\r\n",
       "    color: grey;\r\n",
       "    margin-bottom: 1px;\r\n",
       "    margin-top: 1px;\r\n",
       "}\r\n",
       "\r\n",
       ".text_cell_render em {\r\n",
       "    font-family: 'Philosopher', sans-serif;\r\n",
       "    color:        blue;\r\n",
       "    background-color: rgb(255,220,180);\r\n",
       "    font-size:    110%;\r\n",
       "    margin-left:   2px;\r\n",
       "    margin-right:  2px;\r\n",
       "    font-weight:   100;\r\n",
       "}\r\n",
       "\r\n",
       ".text_cell_render b {\r\n",
       "    color:            rgb(255,195,195);\r\n",
       "    background-color: rgb(0,0,0);\r\n",
       "    font-size:    110%;\r\n",
       "    margin-left:   2px;\r\n",
       "    margin-right:  2px;\r\n",
       "    font-weight:   650;\r\n",
       "}\r\n",
       "\r\n",
       ".text_cell_render tt {\r\n",
       "    font-size:    120%;\r\n",
       "    margin-left:   2px;\r\n",
       "    margin-right:  2px;\r\n",
       "    font-weight:   150;\r\n",
       "}\r\n",
       "\r\n",
       ".Codemirror {\r\n",
       "    font-family: \"PT Mono\";\r\n",
       "    font-size: 100%;\r\n",
       "}\r\n",
       "\r\n",
       "</style>\r\n",
       "\r\n"
      ],
      "text/plain": [
       "HTML{String}(\"<link href='http://fonts.googleapis.com/css?family=Alegreya+Sans:100,300,400,500,700,800,900,100italic,300italic,400italic,500italic,700italic,800italic,900italic' rel='stylesheet' type='text/css'>\\r\\n<link href='http://fonts.googleapis.com/css?family=Arvo:400,700,400italic' rel='stylesheet' type='text/css'>\\r\\n<link href='http://fonts.googleapis.com/css?family=PT+Mono' rel='stylesheet' type='text/css'>\\r\\n<link href='http://fonts.googleapis.com/css?family=Shadows+Into+Light' rel='stylesheet' type='text/css'>\\r\\n<link href='http://fonts.googleapis.com/css?family=Philosopher:400,700,400italic,700italic' rel='stylesheet' type='text/css'>\\r\\n\\r\\n<style>\\r\\n\\r\\n@font-face {\\r\\n    font-family: \\\"Computer Modern\\\";\\r\\n    src: url('http://mirrors.ctan.org/fonts/cm-unicode/fonts/otf/cmunss.otf');\\r\\n}\\r\\n\\r\\n.container { width: 100% }\\r\\n\\r\\n/* Formatting for header cells */\\r\\n.text_cell_render h1 {\\r\\n    font-family: 'Philosopher', sans-serif;\\r\\n    font-weight: 400;\\r\\n    font-size: 2.2em;\\r\\n    line-height: 100%;\\r\\n    color: rgb(0, 80, 120);\\r\\n    margin-bottom: 0.1em;\\r\\n    margin-top: 0.1em;\\r\\n    display: block;\\r\\n}\\t\\r\\n.text_cell_render h2 {\\r\\n    font-family: 'Philosopher', serif;\\r\\n    font-weight: 400;\\r\\n    font-size: 1.9em;\\r\\n    line-height: 100%;\\r\\n    color: rgb(200,100,0);\\r\\n    margin-bottom: 0.1em;\\r\\n    margin-top: 0.1em;\\r\\n    display: block;\\r\\n}\\t\\r\\n\\r\\n.text_cell_render h3 {\\r\\n    font-family: 'Philosopher', serif;\\r\\n    margin-top:12px;\\r\\n    margin-bottom: 3px;\\r\\n    font-style: italic;\\r\\n    color: rgb(94,127,192);\\r\\n}\\r\\n\\r\\n.text_cell_render h4 {\\r\\n    font-family: 'Philosopher', serif;\\r\\n}\\r\\n\\r\\n.text_cell_render h5 {\\r\\n    font-family: 'Alegreya Sans', sans-serif;\\r\\n    font-weight: 300;\\r\\n    font-size: 16pt;\\r\\n    color: grey;\\r\\n    font-style: italic;\\r\\n    margin-bottom: .1em;\\r\\n    margin-top: 0.1em;\\r\\n    display: block;\\r\\n}\\r\\n\\r\\n.text_cell_render h6 {\\r\\n    font-family: 'PT Mono', sans-serif;\\r\\n    font-weight: 300;\\r\\n    font-size: 10pt;\\r\\n    color: grey;\\r\\n    margin-bottom: 1px;\\r\\n    margin-top: 1px;\\r\\n}\\r\\n\\r\\n.text_cell_render em {\\r\\n    font-family: 'Philosopher', sans-serif;\\r\\n    color:        blue;\\r\\n    background-color: rgb(255,220,180);\\r\\n    font-size:    110%;\\r\\n    margin-left:   2px;\\r\\n    margin-right:  2px;\\r\\n    font-weight:   100;\\r\\n}\\r\\n\\r\\n.text_cell_render b {\\r\\n    color:            rgb(255,195,195);\\r\\n    background-color: rgb(0,0,0);\\r\\n    font-size:    110%;\\r\\n    margin-left:   2px;\\r\\n    margin-right:  2px;\\r\\n    font-weight:   650;\\r\\n}\\r\\n\\r\\n.text_cell_render tt {\\r\\n    font-size:    120%;\\r\\n    margin-left:   2px;\\r\\n    margin-right:  2px;\\r\\n    font-weight:   150;\\r\\n}\\r\\n\\r\\n.Codemirror {\\r\\n    font-family: \\\"PT Mono\\\";\\r\\n    font-size: 100%;\\r\\n}\\r\\n\\r\\n</style>\\r\\n\\r\\n\")"
      ]
     },
     "metadata": {},
     "output_type": "display_data"
    }
   ],
   "source": [
    "HTML(read(open(\"style.css\"), String))"
   ]
  },
  {
   "cell_type": "markdown",
   "metadata": {},
   "source": [
    "# Random Chess\n",
    "A Program to play a game of chess using random moves."
   ]
  },
  {
   "cell_type": "code",
   "execution_count": 9,
   "metadata": {},
   "outputs": [],
   "source": [
    "using Pkg\n",
    "#Pkg.add(\"Chess\")\n",
    "using Chess, Chess.PGN\n",
    "using Random\n",
    "using Dates"
   ]
  },
  {
   "cell_type": "code",
   "execution_count": 10,
   "metadata": {},
   "outputs": [
    {
     "data": {
      "text/html": [
       "Board:<div class=\"chessboard\"><style soped=\"true\">.dark-square {\n",
       "    fill: #c3936a;\n",
       "    stroke-width: 0;\n",
       "}\n",
       ".light-square {\n",
       "    fill: #ffd7a6;\n",
       "    stroke-width: 0;\n",
       "}\n",
       ".highlight {\n",
       "    fill: #47d18b;\n",
       "}\n",
       "@media (prefers-color-scheme: dark) {\n",
       "    .dark-square {\n",
       "        fill: #00796b;\n",
       "    }\n",
       "    .light-square {\n",
       "        fill: #3ca59b;\n",
       "    }\n",
       "    .highlight {\n",
       "        fill: #d23600;\n",
       "    }\n",
       "}\n",
       "</style><svg style=\"float: left; margin-right: 20px\" viewBox=\"0 0 8 8\" height=\"280\" width=\"280\"><g><g><rect x=\"0\" y=\"0\" class=\"light-square\" height=\"1\" width=\"1\"></rect><image x=\"0\" xlink:href=\"https://raw.githubusercontent.com/romstad/Chess.jl/master/img/br.svg\" y=\"0\" height=\"1\" width=\"1\"></image></g><g><rect x=\"0\" y=\"1\" class=\"dark-square\" height=\"1\" width=\"1\"></rect><image x=\"0\" xlink:href=\"https://raw.githubusercontent.com/romstad/Chess.jl/master/img/bp.svg\" y=\"1\" height=\"1\" width=\"1\"></image></g><g><rect x=\"0\" y=\"2\" class=\"light-square\" height=\"1\" width=\"1\"></rect><g></g></g><g><rect x=\"0\" y=\"3\" class=\"dark-square\" height=\"1\" width=\"1\"></rect><g></g></g><g><rect x=\"0\" y=\"4\" class=\"light-square\" height=\"1\" width=\"1\"></rect><g></g></g><g><rect x=\"0\" y=\"5\" class=\"dark-square\" height=\"1\" width=\"1\"></rect><g></g></g><g><rect x=\"0\" y=\"6\" class=\"light-square\" height=\"1\" width=\"1\"></rect><image x=\"0\" xlink:href=\"https://raw.githubusercontent.com/romstad/Chess.jl/master/img/wp.svg\" y=\"6\" height=\"1\" width=\"1\"></image></g><g><rect x=\"0\" y=\"7\" class=\"dark-square\" height=\"1\" width=\"1\"></rect><image x=\"0\" xlink:href=\"https://raw.githubusercontent.com/romstad/Chess.jl/master/img/wr.svg\" y=\"7\" height=\"1\" width=\"1\"></image></g><g><rect x=\"1\" y=\"0\" class=\"dark-square\" height=\"1\" width=\"1\"></rect><image x=\"1\" xlink:href=\"https://raw.githubusercontent.com/romstad/Chess.jl/master/img/bn.svg\" y=\"0\" height=\"1\" width=\"1\"></image></g><g><rect x=\"1\" y=\"1\" class=\"light-square\" height=\"1\" width=\"1\"></rect><image x=\"1\" xlink:href=\"https://raw.githubusercontent.com/romstad/Chess.jl/master/img/bp.svg\" y=\"1\" height=\"1\" width=\"1\"></image></g><g><rect x=\"1\" y=\"2\" class=\"dark-square\" height=\"1\" width=\"1\"></rect><g></g></g><g><rect x=\"1\" y=\"3\" class=\"light-square\" height=\"1\" width=\"1\"></rect><g></g></g><g><rect x=\"1\" y=\"4\" class=\"dark-square\" height=\"1\" width=\"1\"></rect><g></g></g><g><rect x=\"1\" y=\"5\" class=\"light-square\" height=\"1\" width=\"1\"></rect><g></g></g><g><rect x=\"1\" y=\"6\" class=\"dark-square\" height=\"1\" width=\"1\"></rect><image x=\"1\" xlink:href=\"https://raw.githubusercontent.com/romstad/Chess.jl/master/img/wp.svg\" y=\"6\" height=\"1\" width=\"1\"></image></g><g><rect x=\"1\" y=\"7\" class=\"light-square\" height=\"1\" width=\"1\"></rect><image x=\"1\" xlink:href=\"https://raw.githubusercontent.com/romstad/Chess.jl/master/img/wn.svg\" y=\"7\" height=\"1\" width=\"1\"></image></g><g><rect x=\"2\" y=\"0\" class=\"light-square\" height=\"1\" width=\"1\"></rect><image x=\"2\" xlink:href=\"https://raw.githubusercontent.com/romstad/Chess.jl/master/img/bb.svg\" y=\"0\" height=\"1\" width=\"1\"></image></g><g><rect x=\"2\" y=\"1\" class=\"dark-square\" height=\"1\" width=\"1\"></rect><image x=\"2\" xlink:href=\"https://raw.githubusercontent.com/romstad/Chess.jl/master/img/bp.svg\" y=\"1\" height=\"1\" width=\"1\"></image></g><g><rect x=\"2\" y=\"2\" class=\"light-square\" height=\"1\" width=\"1\"></rect><g></g></g><g><rect x=\"2\" y=\"3\" class=\"dark-square\" height=\"1\" width=\"1\"></rect><g></g></g><g><rect x=\"2\" y=\"4\" class=\"light-square\" height=\"1\" width=\"1\"></rect><g></g></g><g><rect x=\"2\" y=\"5\" class=\"dark-square\" height=\"1\" width=\"1\"></rect><g></g></g><g><rect x=\"2\" y=\"6\" class=\"light-square\" height=\"1\" width=\"1\"></rect><image x=\"2\" xlink:href=\"https://raw.githubusercontent.com/romstad/Chess.jl/master/img/wp.svg\" y=\"6\" height=\"1\" width=\"1\"></image></g><g><rect x=\"2\" y=\"7\" class=\"dark-square\" height=\"1\" width=\"1\"></rect><image x=\"2\" xlink:href=\"https://raw.githubusercontent.com/romstad/Chess.jl/master/img/wb.svg\" y=\"7\" height=\"1\" width=\"1\"></image></g><g><rect x=\"3\" y=\"0\" class=\"dark-square\" height=\"1\" width=\"1\"></rect><image x=\"3\" xlink:href=\"https://raw.githubusercontent.com/romstad/Chess.jl/master/img/bq.svg\" y=\"0\" height=\"1\" width=\"1\"></image></g><g><rect x=\"3\" y=\"1\" class=\"light-square\" height=\"1\" width=\"1\"></rect><image x=\"3\" xlink:href=\"https://raw.githubusercontent.com/romstad/Chess.jl/master/img/bp.svg\" y=\"1\" height=\"1\" width=\"1\"></image></g><g><rect x=\"3\" y=\"2\" class=\"dark-square\" height=\"1\" width=\"1\"></rect><g></g></g><g><rect x=\"3\" y=\"3\" class=\"light-square\" height=\"1\" width=\"1\"></rect><g></g></g><g><rect x=\"3\" y=\"4\" class=\"dark-square\" height=\"1\" width=\"1\"></rect><g></g></g><g><rect x=\"3\" y=\"5\" class=\"light-square\" height=\"1\" width=\"1\"></rect><g></g></g><g><rect x=\"3\" y=\"6\" class=\"dark-square\" height=\"1\" width=\"1\"></rect><image x=\"3\" xlink:href=\"https://raw.githubusercontent.com/romstad/Chess.jl/master/img/wp.svg\" y=\"6\" height=\"1\" width=\"1\"></image></g><g><rect x=\"3\" y=\"7\" class=\"light-square\" height=\"1\" width=\"1\"></rect><image x=\"3\" xlink:href=\"https://raw.githubusercontent.com/romstad/Chess.jl/master/img/wq.svg\" y=\"7\" height=\"1\" width=\"1\"></image></g><g><rect x=\"4\" y=\"0\" class=\"light-square\" height=\"1\" width=\"1\"></rect><image x=\"4\" xlink:href=\"https://raw.githubusercontent.com/romstad/Chess.jl/master/img/bk.svg\" y=\"0\" height=\"1\" width=\"1\"></image></g><g><rect x=\"4\" y=\"1\" class=\"dark-square\" height=\"1\" width=\"1\"></rect><image x=\"4\" xlink:href=\"https://raw.githubusercontent.com/romstad/Chess.jl/master/img/bp.svg\" y=\"1\" height=\"1\" width=\"1\"></image></g><g><rect x=\"4\" y=\"2\" class=\"light-square\" height=\"1\" width=\"1\"></rect><g></g></g><g><rect x=\"4\" y=\"3\" class=\"dark-square\" height=\"1\" width=\"1\"></rect><g></g></g><g><rect x=\"4\" y=\"4\" class=\"light-square\" height=\"1\" width=\"1\"></rect><g></g></g><g><rect x=\"4\" y=\"5\" class=\"dark-square\" height=\"1\" width=\"1\"></rect><g></g></g><g><rect x=\"4\" y=\"6\" class=\"light-square\" height=\"1\" width=\"1\"></rect><image x=\"4\" xlink:href=\"https://raw.githubusercontent.com/romstad/Chess.jl/master/img/wp.svg\" y=\"6\" height=\"1\" width=\"1\"></image></g><g><rect x=\"4\" y=\"7\" class=\"dark-square\" height=\"1\" width=\"1\"></rect><image x=\"4\" xlink:href=\"https://raw.githubusercontent.com/romstad/Chess.jl/master/img/wk.svg\" y=\"7\" height=\"1\" width=\"1\"></image></g><g><rect x=\"5\" y=\"0\" class=\"dark-square\" height=\"1\" width=\"1\"></rect><image x=\"5\" xlink:href=\"https://raw.githubusercontent.com/romstad/Chess.jl/master/img/bb.svg\" y=\"0\" height=\"1\" width=\"1\"></image></g><g><rect x=\"5\" y=\"1\" class=\"light-square\" height=\"1\" width=\"1\"></rect><image x=\"5\" xlink:href=\"https://raw.githubusercontent.com/romstad/Chess.jl/master/img/bp.svg\" y=\"1\" height=\"1\" width=\"1\"></image></g><g><rect x=\"5\" y=\"2\" class=\"dark-square\" height=\"1\" width=\"1\"></rect><g></g></g><g><rect x=\"5\" y=\"3\" class=\"light-square\" height=\"1\" width=\"1\"></rect><g></g></g><g><rect x=\"5\" y=\"4\" class=\"dark-square\" height=\"1\" width=\"1\"></rect><g></g></g><g><rect x=\"5\" y=\"5\" class=\"light-square\" height=\"1\" width=\"1\"></rect><g></g></g><g><rect x=\"5\" y=\"6\" class=\"dark-square\" height=\"1\" width=\"1\"></rect><image x=\"5\" xlink:href=\"https://raw.githubusercontent.com/romstad/Chess.jl/master/img/wp.svg\" y=\"6\" height=\"1\" width=\"1\"></image></g><g><rect x=\"5\" y=\"7\" class=\"light-square\" height=\"1\" width=\"1\"></rect><image x=\"5\" xlink:href=\"https://raw.githubusercontent.com/romstad/Chess.jl/master/img/wb.svg\" y=\"7\" height=\"1\" width=\"1\"></image></g><g><rect x=\"6\" y=\"0\" class=\"light-square\" height=\"1\" width=\"1\"></rect><image x=\"6\" xlink:href=\"https://raw.githubusercontent.com/romstad/Chess.jl/master/img/bn.svg\" y=\"0\" height=\"1\" width=\"1\"></image></g><g><rect x=\"6\" y=\"1\" class=\"dark-square\" height=\"1\" width=\"1\"></rect><image x=\"6\" xlink:href=\"https://raw.githubusercontent.com/romstad/Chess.jl/master/img/bp.svg\" y=\"1\" height=\"1\" width=\"1\"></image></g><g><rect x=\"6\" y=\"2\" class=\"light-square\" height=\"1\" width=\"1\"></rect><g></g></g><g><rect x=\"6\" y=\"3\" class=\"dark-square\" height=\"1\" width=\"1\"></rect><g></g></g><g><rect x=\"6\" y=\"4\" class=\"light-square\" height=\"1\" width=\"1\"></rect><g></g></g><g><rect x=\"6\" y=\"5\" class=\"dark-square\" height=\"1\" width=\"1\"></rect><g></g></g><g><rect x=\"6\" y=\"6\" class=\"light-square\" height=\"1\" width=\"1\"></rect><image x=\"6\" xlink:href=\"https://raw.githubusercontent.com/romstad/Chess.jl/master/img/wp.svg\" y=\"6\" height=\"1\" width=\"1\"></image></g><g><rect x=\"6\" y=\"7\" class=\"dark-square\" height=\"1\" width=\"1\"></rect><image x=\"6\" xlink:href=\"https://raw.githubusercontent.com/romstad/Chess.jl/master/img/wn.svg\" y=\"7\" height=\"1\" width=\"1\"></image></g><g><rect x=\"7\" y=\"0\" class=\"dark-square\" height=\"1\" width=\"1\"></rect><image x=\"7\" xlink:href=\"https://raw.githubusercontent.com/romstad/Chess.jl/master/img/br.svg\" y=\"0\" height=\"1\" width=\"1\"></image></g><g><rect x=\"7\" y=\"1\" class=\"light-square\" height=\"1\" width=\"1\"></rect><image x=\"7\" xlink:href=\"https://raw.githubusercontent.com/romstad/Chess.jl/master/img/bp.svg\" y=\"1\" height=\"1\" width=\"1\"></image></g><g><rect x=\"7\" y=\"2\" class=\"dark-square\" height=\"1\" width=\"1\"></rect><g></g></g><g><rect x=\"7\" y=\"3\" class=\"light-square\" height=\"1\" width=\"1\"></rect><g></g></g><g><rect x=\"7\" y=\"4\" class=\"dark-square\" height=\"1\" width=\"1\"></rect><g></g></g><g><rect x=\"7\" y=\"5\" class=\"light-square\" height=\"1\" width=\"1\"></rect><g></g></g><g><rect x=\"7\" y=\"6\" class=\"dark-square\" height=\"1\" width=\"1\"></rect><image x=\"7\" xlink:href=\"https://raw.githubusercontent.com/romstad/Chess.jl/master/img/wp.svg\" y=\"6\" height=\"1\" width=\"1\"></image></g><g><rect x=\"7\" y=\"7\" class=\"light-square\" height=\"1\" width=\"1\"></rect><image x=\"7\" xlink:href=\"https://raw.githubusercontent.com/romstad/Chess.jl/master/img/wr.svg\" y=\"7\" height=\"1\" width=\"1\"></image></g></g><g></g></svg><div><p>White to move</p><p>Castle rights: KQkq</p><p><a href=\"https://lichess.org/editor/rnbqkbnr/pppppppp/8/8/8/8/PPPPPPPP/RNBQKBNR_w_KQkq_-\" target=\"_blank\">Open in lichess</a></p></div></div>"
      ],
      "text/plain": [
       "Board (rnbqkbnr/pppppppp/8/8/8/8/PPPPPPPP/RNBQKBNR w KQkq -):\n",
       " r  n  b  q  k  b  n  r \n",
       " p  p  p  p  p  p  p  p \n",
       " -  -  -  -  -  -  -  - \n",
       " -  -  -  -  -  -  -  - \n",
       " -  -  -  -  -  -  -  - \n",
       " -  -  -  -  -  -  -  - \n",
       " P  P  P  P  P  P  P  P \n",
       " R  N  B  Q  K  B  N  R "
      ]
     },
     "metadata": {},
     "output_type": "display_data"
    }
   ],
   "source": [
    "board = startboard()\n"
   ]
  },
  {
   "cell_type": "code",
   "execution_count": 11,
   "metadata": {},
   "outputs": [
    {
     "data": {
      "text/plain": [
       "generateRandomMove (generic function with 1 method)"
      ]
     },
     "metadata": {},
     "output_type": "display_data"
    }
   ],
   "source": [
    "function generateRandomMove()\n",
    "    return rand(moves(board))\n",
    "end"
   ]
  },
  {
   "cell_type": "code",
   "execution_count": 12,
   "metadata": {},
   "outputs": [
    {
     "data": {
      "text/plain": [
       "Move(g2g3)"
      ]
     },
     "metadata": {},
     "output_type": "display_data"
    }
   ],
   "source": [
    "generateRandomMove()"
   ]
  },
  {
   "cell_type": "code",
   "execution_count": 13,
   "metadata": {},
   "outputs": [
    {
     "data": {
      "text/html": [
       "Board:<div class=\"chessboard\"><style soped=\"true\">.dark-square {\n",
       "    fill: #c3936a;\n",
       "    stroke-width: 0;\n",
       "}\n",
       ".light-square {\n",
       "    fill: #ffd7a6;\n",
       "    stroke-width: 0;\n",
       "}\n",
       ".highlight {\n",
       "    fill: #47d18b;\n",
       "}\n",
       "@media (prefers-color-scheme: dark) {\n",
       "    .dark-square {\n",
       "        fill: #00796b;\n",
       "    }\n",
       "    .light-square {\n",
       "        fill: #3ca59b;\n",
       "    }\n",
       "    .highlight {\n",
       "        fill: #d23600;\n",
       "    }\n",
       "}\n",
       "</style><svg style=\"float: left; margin-right: 20px\" viewBox=\"0 0 8 8\" height=\"280\" width=\"280\"><g><g><rect x=\"0\" y=\"0\" class=\"light-square\" height=\"1\" width=\"1\"></rect><image x=\"0\" xlink:href=\"https://raw.githubusercontent.com/romstad/Chess.jl/master/img/br.svg\" y=\"0\" height=\"1\" width=\"1\"></image></g><g><rect x=\"0\" y=\"1\" class=\"dark-square\" height=\"1\" width=\"1\"></rect><image x=\"0\" xlink:href=\"https://raw.githubusercontent.com/romstad/Chess.jl/master/img/bp.svg\" y=\"1\" height=\"1\" width=\"1\"></image></g><g><rect x=\"0\" y=\"2\" class=\"light-square\" height=\"1\" width=\"1\"></rect><g></g></g><g><rect x=\"0\" y=\"3\" class=\"dark-square\" height=\"1\" width=\"1\"></rect><g></g></g><g><rect x=\"0\" y=\"4\" class=\"light-square\" height=\"1\" width=\"1\"></rect><g></g></g><g><rect x=\"0\" y=\"5\" class=\"dark-square\" height=\"1\" width=\"1\"></rect><g></g></g><g><rect x=\"0\" y=\"6\" class=\"light-square\" height=\"1\" width=\"1\"></rect><image x=\"0\" xlink:href=\"https://raw.githubusercontent.com/romstad/Chess.jl/master/img/wp.svg\" y=\"6\" height=\"1\" width=\"1\"></image></g><g><rect x=\"0\" y=\"7\" class=\"dark-square\" height=\"1\" width=\"1\"></rect><image x=\"0\" xlink:href=\"https://raw.githubusercontent.com/romstad/Chess.jl/master/img/wr.svg\" y=\"7\" height=\"1\" width=\"1\"></image></g><g><rect x=\"1\" y=\"0\" class=\"dark-square\" height=\"1\" width=\"1\"></rect><image x=\"1\" xlink:href=\"https://raw.githubusercontent.com/romstad/Chess.jl/master/img/bn.svg\" y=\"0\" height=\"1\" width=\"1\"></image></g><g><rect x=\"1\" y=\"1\" class=\"light-square\" height=\"1\" width=\"1\"></rect><image x=\"1\" xlink:href=\"https://raw.githubusercontent.com/romstad/Chess.jl/master/img/bp.svg\" y=\"1\" height=\"1\" width=\"1\"></image></g><g><rect x=\"1\" y=\"2\" class=\"dark-square\" height=\"1\" width=\"1\"></rect><g></g></g><g><rect x=\"1\" y=\"3\" class=\"light-square\" height=\"1\" width=\"1\"></rect><g></g></g><g><rect x=\"1\" y=\"4\" class=\"dark-square\" height=\"1\" width=\"1\"></rect><g></g></g><g><rect x=\"1\" y=\"5\" class=\"light-square\" height=\"1\" width=\"1\"></rect><g></g></g><g><rect x=\"1\" y=\"6\" class=\"dark-square\" height=\"1\" width=\"1\"></rect><image x=\"1\" xlink:href=\"https://raw.githubusercontent.com/romstad/Chess.jl/master/img/wp.svg\" y=\"6\" height=\"1\" width=\"1\"></image></g><g><rect x=\"1\" y=\"7\" class=\"light-square\" height=\"1\" width=\"1\"></rect><image x=\"1\" xlink:href=\"https://raw.githubusercontent.com/romstad/Chess.jl/master/img/wn.svg\" y=\"7\" height=\"1\" width=\"1\"></image></g><g><rect x=\"2\" y=\"0\" class=\"light-square\" height=\"1\" width=\"1\"></rect><image x=\"2\" xlink:href=\"https://raw.githubusercontent.com/romstad/Chess.jl/master/img/bb.svg\" y=\"0\" height=\"1\" width=\"1\"></image></g><g><rect x=\"2\" y=\"1\" class=\"dark-square\" height=\"1\" width=\"1\"></rect><image x=\"2\" xlink:href=\"https://raw.githubusercontent.com/romstad/Chess.jl/master/img/bp.svg\" y=\"1\" height=\"1\" width=\"1\"></image></g><g><rect x=\"2\" y=\"2\" class=\"light-square\" height=\"1\" width=\"1\"></rect><g></g></g><g><rect x=\"2\" y=\"3\" class=\"dark-square\" height=\"1\" width=\"1\"></rect><g></g></g><g><rect x=\"2\" y=\"4\" class=\"light-square\" height=\"1\" width=\"1\"></rect><g></g></g><g><rect x=\"2\" y=\"5\" class=\"dark-square\" height=\"1\" width=\"1\"></rect><g></g></g><g><rect x=\"2\" y=\"6\" class=\"light-square\" height=\"1\" width=\"1\"></rect><image x=\"2\" xlink:href=\"https://raw.githubusercontent.com/romstad/Chess.jl/master/img/wp.svg\" y=\"6\" height=\"1\" width=\"1\"></image></g><g><rect x=\"2\" y=\"7\" class=\"dark-square\" height=\"1\" width=\"1\"></rect><image x=\"2\" xlink:href=\"https://raw.githubusercontent.com/romstad/Chess.jl/master/img/wb.svg\" y=\"7\" height=\"1\" width=\"1\"></image></g><g><rect x=\"3\" y=\"0\" class=\"dark-square\" height=\"1\" width=\"1\"></rect><image x=\"3\" xlink:href=\"https://raw.githubusercontent.com/romstad/Chess.jl/master/img/bq.svg\" y=\"0\" height=\"1\" width=\"1\"></image></g><g><rect x=\"3\" y=\"1\" class=\"light-square\" height=\"1\" width=\"1\"></rect><image x=\"3\" xlink:href=\"https://raw.githubusercontent.com/romstad/Chess.jl/master/img/bp.svg\" y=\"1\" height=\"1\" width=\"1\"></image></g><g><rect x=\"3\" y=\"2\" class=\"dark-square\" height=\"1\" width=\"1\"></rect><g></g></g><g><rect x=\"3\" y=\"3\" class=\"light-square\" height=\"1\" width=\"1\"></rect><g></g></g><g><rect x=\"3\" y=\"4\" class=\"dark-square\" height=\"1\" width=\"1\"></rect><g></g></g><g><rect x=\"3\" y=\"5\" class=\"light-square\" height=\"1\" width=\"1\"></rect><g></g></g><g><rect x=\"3\" y=\"6\" class=\"dark-square\" height=\"1\" width=\"1\"></rect><image x=\"3\" xlink:href=\"https://raw.githubusercontent.com/romstad/Chess.jl/master/img/wp.svg\" y=\"6\" height=\"1\" width=\"1\"></image></g><g><rect x=\"3\" y=\"7\" class=\"light-square\" height=\"1\" width=\"1\"></rect><image x=\"3\" xlink:href=\"https://raw.githubusercontent.com/romstad/Chess.jl/master/img/wq.svg\" y=\"7\" height=\"1\" width=\"1\"></image></g><g><rect x=\"4\" y=\"0\" class=\"light-square\" height=\"1\" width=\"1\"></rect><image x=\"4\" xlink:href=\"https://raw.githubusercontent.com/romstad/Chess.jl/master/img/bk.svg\" y=\"0\" height=\"1\" width=\"1\"></image></g><g><rect x=\"4\" y=\"1\" class=\"dark-square\" height=\"1\" width=\"1\"></rect><image x=\"4\" xlink:href=\"https://raw.githubusercontent.com/romstad/Chess.jl/master/img/bp.svg\" y=\"1\" height=\"1\" width=\"1\"></image></g><g><rect x=\"4\" y=\"2\" class=\"light-square\" height=\"1\" width=\"1\"></rect><g></g></g><g><rect x=\"4\" y=\"3\" class=\"dark-square\" height=\"1\" width=\"1\"></rect><g></g></g><g><rect x=\"4\" y=\"4\" class=\"light-square\" height=\"1\" width=\"1\"></rect><g></g></g><g><rect x=\"4\" y=\"5\" class=\"dark-square\" height=\"1\" width=\"1\"></rect><g></g></g><g><rect x=\"4\" y=\"6\" class=\"light-square\" height=\"1\" width=\"1\"></rect><image x=\"4\" xlink:href=\"https://raw.githubusercontent.com/romstad/Chess.jl/master/img/wp.svg\" y=\"6\" height=\"1\" width=\"1\"></image></g><g><rect x=\"4\" y=\"7\" class=\"dark-square\" height=\"1\" width=\"1\"></rect><image x=\"4\" xlink:href=\"https://raw.githubusercontent.com/romstad/Chess.jl/master/img/wk.svg\" y=\"7\" height=\"1\" width=\"1\"></image></g><g><rect x=\"5\" y=\"0\" class=\"dark-square\" height=\"1\" width=\"1\"></rect><image x=\"5\" xlink:href=\"https://raw.githubusercontent.com/romstad/Chess.jl/master/img/bb.svg\" y=\"0\" height=\"1\" width=\"1\"></image></g><g><rect x=\"5\" y=\"1\" class=\"light-square\" height=\"1\" width=\"1\"></rect><image x=\"5\" xlink:href=\"https://raw.githubusercontent.com/romstad/Chess.jl/master/img/bp.svg\" y=\"1\" height=\"1\" width=\"1\"></image></g><g><rect x=\"5\" y=\"2\" class=\"dark-square\" height=\"1\" width=\"1\"></rect><g></g></g><g><rect x=\"5\" y=\"3\" class=\"light-square\" height=\"1\" width=\"1\"></rect><g></g></g><g><rect x=\"5\" y=\"4\" class=\"dark-square\" height=\"1\" width=\"1\"></rect><g></g></g><g><rect x=\"5\" y=\"5\" class=\"light-square\" height=\"1\" width=\"1\"></rect><g></g></g><g><rect x=\"5\" y=\"6\" class=\"dark-square\" height=\"1\" width=\"1\"></rect><image x=\"5\" xlink:href=\"https://raw.githubusercontent.com/romstad/Chess.jl/master/img/wp.svg\" y=\"6\" height=\"1\" width=\"1\"></image></g><g><rect x=\"5\" y=\"7\" class=\"light-square\" height=\"1\" width=\"1\"></rect><image x=\"5\" xlink:href=\"https://raw.githubusercontent.com/romstad/Chess.jl/master/img/wb.svg\" y=\"7\" height=\"1\" width=\"1\"></image></g><g><rect x=\"6\" y=\"0\" class=\"light-square\" height=\"1\" width=\"1\"></rect><image x=\"6\" xlink:href=\"https://raw.githubusercontent.com/romstad/Chess.jl/master/img/bn.svg\" y=\"0\" height=\"1\" width=\"1\"></image></g><g><rect x=\"6\" y=\"1\" class=\"dark-square\" height=\"1\" width=\"1\"></rect><image x=\"6\" xlink:href=\"https://raw.githubusercontent.com/romstad/Chess.jl/master/img/bp.svg\" y=\"1\" height=\"1\" width=\"1\"></image></g><g><rect x=\"6\" y=\"2\" class=\"light-square\" height=\"1\" width=\"1\"></rect><g></g></g><g><rect x=\"6\" y=\"3\" class=\"dark-square\" height=\"1\" width=\"1\"></rect><g></g></g><g><rect x=\"6\" y=\"4\" class=\"light-square\" height=\"1\" width=\"1\"></rect><g></g></g><g><rect x=\"6\" y=\"5\" class=\"dark-square\" height=\"1\" width=\"1\"></rect><g></g></g><g><rect x=\"6\" y=\"6\" class=\"light-square\" height=\"1\" width=\"1\"></rect><image x=\"6\" xlink:href=\"https://raw.githubusercontent.com/romstad/Chess.jl/master/img/wp.svg\" y=\"6\" height=\"1\" width=\"1\"></image></g><g><rect x=\"6\" y=\"7\" class=\"dark-square\" height=\"1\" width=\"1\"></rect><image x=\"6\" xlink:href=\"https://raw.githubusercontent.com/romstad/Chess.jl/master/img/wn.svg\" y=\"7\" height=\"1\" width=\"1\"></image></g><g><rect x=\"7\" y=\"0\" class=\"dark-square\" height=\"1\" width=\"1\"></rect><image x=\"7\" xlink:href=\"https://raw.githubusercontent.com/romstad/Chess.jl/master/img/br.svg\" y=\"0\" height=\"1\" width=\"1\"></image></g><g><rect x=\"7\" y=\"1\" class=\"light-square\" height=\"1\" width=\"1\"></rect><image x=\"7\" xlink:href=\"https://raw.githubusercontent.com/romstad/Chess.jl/master/img/bp.svg\" y=\"1\" height=\"1\" width=\"1\"></image></g><g><rect x=\"7\" y=\"2\" class=\"dark-square\" height=\"1\" width=\"1\"></rect><g></g></g><g><rect x=\"7\" y=\"3\" class=\"light-square\" height=\"1\" width=\"1\"></rect><g></g></g><g><rect x=\"7\" y=\"4\" class=\"dark-square\" height=\"1\" width=\"1\"></rect><g></g></g><g><rect x=\"7\" y=\"5\" class=\"light-square\" height=\"1\" width=\"1\"></rect><g></g></g><g><rect x=\"7\" y=\"6\" class=\"dark-square\" height=\"1\" width=\"1\"></rect><image x=\"7\" xlink:href=\"https://raw.githubusercontent.com/romstad/Chess.jl/master/img/wp.svg\" y=\"6\" height=\"1\" width=\"1\"></image></g><g><rect x=\"7\" y=\"7\" class=\"light-square\" height=\"1\" width=\"1\"></rect><image x=\"7\" xlink:href=\"https://raw.githubusercontent.com/romstad/Chess.jl/master/img/wr.svg\" y=\"7\" height=\"1\" width=\"1\"></image></g></g><g></g></svg><div><p>White to move</p><p>Castle rights: KQkq</p><p><a href=\"https://lichess.org/editor/rnbqkbnr/pppppppp/8/8/8/8/PPPPPPPP/RNBQKBNR_w_KQkq_-\" target=\"_blank\">Open in lichess</a></p></div></div>"
      ],
      "text/plain": [
       "Board (rnbqkbnr/pppppppp/8/8/8/8/PPPPPPPP/RNBQKBNR w KQkq -):\n",
       " r  n  b  q  k  b  n  r \n",
       " p  p  p  p  p  p  p  p \n",
       " -  -  -  -  -  -  -  - \n",
       " -  -  -  -  -  -  -  - \n",
       " -  -  -  -  -  -  -  - \n",
       " -  -  -  -  -  -  -  - \n",
       " P  P  P  P  P  P  P  P \n",
       " R  N  B  Q  K  B  N  R "
      ]
     },
     "metadata": {},
     "output_type": "display_data"
    }
   ],
   "source": [
    "board = startboard()"
   ]
  },
  {
   "cell_type": "code",
   "execution_count": 14,
   "metadata": {},
   "outputs": [
    {
     "data": {
      "text/plain": [
       "setGameHeaders (generic function with 1 method)"
      ]
     },
     "metadata": {},
     "output_type": "display_data"
    }
   ],
   "source": [
    "function setGameHeaders(game)\n",
    "    setheadervalue!(game, \"Event\", \"Random Chess\")\n",
    "    setheadervalue!(game, \"Site\", \"???\")\n",
    "    setheadervalue!(game, \"Date\", Dates.format(now(), \"yyyy.mm.dd\"))\n",
    "    setheadervalue!(game, \"Round\", \"1\")\n",
    "    setheadervalue!(game, \"White\", \"Random Player 1\")\n",
    "    setheadervalue!(game, \"Black\", \"Random Player 2\")\n",
    "end"
   ]
  },
  {
   "cell_type": "code",
   "execution_count": 27,
   "metadata": {},
   "outputs": [
    {
     "data": {
      "text/plain": [
       "convertBoardToGame (generic function with 1 method)"
      ]
     },
     "metadata": {},
     "output_type": "display_data"
    }
   ],
   "source": [
    "function convertBoardToGame()\n",
    "    game = Game(board)\n",
    "    setGameHeaders(game)\n",
    "    return game\n",
    "end"
   ]
  },
  {
   "cell_type": "code",
   "execution_count": 32,
   "metadata": {},
   "outputs": [
    {
     "data": {
      "text/plain": [
       "playRandomChess (generic function with 1 method)"
      ]
     },
     "metadata": {},
     "output_type": "display_data"
    }
   ],
   "source": [
    "function playRandomChess()\n",
    "    while !isterminal(board)\n",
    "        move = generateRandomMove()\n",
    "        domove!(board, move)\n",
    "        addmove!(game, move)\n",
    "    end\n",
    "end"
   ]
  },
  {
   "cell_type": "code",
   "execution_count": 33,
   "metadata": {
    "collapsed": true
   },
   "outputs": [],
   "source": [
    "board = startboard()\n",
    "game = convertBoardToGame()\n",
    "playRandomChess()\n"
   ]
  },
  {
   "cell_type": "code",
   "execution_count": 34,
   "metadata": {},
   "outputs": [
    {
     "data": {
      "text/html": [
       "Game (Random Player 1 vs Random Player 2, ??? 2023):<div class=\"game\" style=\".game {\n",
       "    text-color: blue;\n",
       "}\n",
       "\"><svg style=\"float: left; margin-right: 20px\" viewBox=\"0 0 8 8\" height=\"280\" width=\"280\"><g><g><rect x=\"0\" y=\"0\" class=\"light-square\" height=\"1\" width=\"1\"></rect><g></g></g><g><rect x=\"0\" y=\"1\" class=\"dark-square\" height=\"1\" width=\"1\"></rect><g></g></g><g><rect x=\"0\" y=\"2\" class=\"light-square\" height=\"1\" width=\"1\"></rect><g></g></g><g><rect x=\"0\" y=\"3\" class=\"dark-square\" height=\"1\" width=\"1\"></rect><g></g></g><g><rect x=\"0\" y=\"4\" class=\"light-square\" height=\"1\" width=\"1\"></rect><g></g></g><g><rect x=\"0\" y=\"5\" class=\"dark-square\" height=\"1\" width=\"1\"></rect><g></g></g><g><rect x=\"0\" y=\"6\" class=\"light-square\" height=\"1\" width=\"1\"></rect><g></g></g><g><rect x=\"0\" y=\"7\" class=\"dark-square\" height=\"1\" width=\"1\"></rect><g></g></g><g><rect x=\"1\" y=\"0\" class=\"dark-square\" height=\"1\" width=\"1\"></rect><g></g></g><g><rect x=\"1\" y=\"1\" class=\"light-square\" height=\"1\" width=\"1\"></rect><g></g></g><g><rect x=\"1\" y=\"2\" class=\"dark-square\" height=\"1\" width=\"1\"></rect><g></g></g><g><rect x=\"1\" y=\"3\" class=\"light-square\" height=\"1\" width=\"1\"></rect><g></g></g><g><rect x=\"1\" y=\"4\" class=\"dark-square\" height=\"1\" width=\"1\"></rect><g></g></g><g><rect x=\"1\" y=\"5\" class=\"light-square\" height=\"1\" width=\"1\"></rect><g></g></g><g><rect x=\"1\" y=\"6\" class=\"dark-square\" height=\"1\" width=\"1\"></rect><g></g></g><g><rect x=\"1\" y=\"7\" class=\"light-square\" height=\"1\" width=\"1\"></rect><g></g></g><g><rect x=\"2\" y=\"0\" class=\"light-square\" height=\"1\" width=\"1\"></rect><g></g></g><g><rect x=\"2\" y=\"1\" class=\"dark-square\" height=\"1\" width=\"1\"></rect><g></g></g><g><rect x=\"2\" y=\"2\" class=\"light-square\" height=\"1\" width=\"1\"></rect><g></g></g><g><rect x=\"2\" y=\"3\" class=\"dark-square\" height=\"1\" width=\"1\"></rect><g></g></g><g><rect x=\"2\" y=\"4\" class=\"light-square\" height=\"1\" width=\"1\"></rect><g></g></g><g><rect x=\"2\" y=\"5\" class=\"dark-square\" height=\"1\" width=\"1\"></rect><g></g></g><g><rect x=\"2\" y=\"6\" class=\"light-square\" height=\"1\" width=\"1\"></rect><g></g></g><g><rect x=\"2\" y=\"7\" class=\"dark-square\" height=\"1\" width=\"1\"></rect><g></g></g><g><rect x=\"3\" y=\"0\" class=\"dark-square\" height=\"1\" width=\"1\"></rect><g></g></g><g><rect x=\"3\" y=\"1\" class=\"light-square\" height=\"1\" width=\"1\"></rect><g></g></g><g><rect x=\"3\" y=\"2\" class=\"dark-square\" height=\"1\" width=\"1\"></rect><g></g></g><g><rect x=\"3\" y=\"3\" class=\"light-square\" height=\"1\" width=\"1\"></rect><g></g></g><g><rect x=\"3\" y=\"4\" class=\"dark-square\" height=\"1\" width=\"1\"></rect><g></g></g><g><rect x=\"3\" y=\"5\" class=\"light-square\" height=\"1\" width=\"1\"></rect><g></g></g><g><rect x=\"3\" y=\"6\" class=\"dark-square\" height=\"1\" width=\"1\"></rect><g></g></g><g><rect x=\"3\" y=\"7\" class=\"light-square\" height=\"1\" width=\"1\"></rect><g></g></g><g><rect x=\"4\" y=\"0\" class=\"light-square\" height=\"1\" width=\"1\"></rect><g></g></g><g><rect x=\"4\" y=\"1\" class=\"dark-square\" height=\"1\" width=\"1\"></rect><g></g></g><g><rect x=\"4\" y=\"2\" class=\"light-square\" height=\"1\" width=\"1\"></rect><g></g></g><g><rect x=\"4\" y=\"3\" class=\"dark-square\" height=\"1\" width=\"1\"></rect><image x=\"4\" xlink:href=\"https://raw.githubusercontent.com/romstad/Chess.jl/master/img/wn.svg\" y=\"3\" height=\"1\" width=\"1\"></image></g><g><rect x=\"4\" y=\"4\" class=\"light-square\" height=\"1\" width=\"1\"></rect><g></g></g><g><rect x=\"4\" y=\"5\" class=\"dark-square\" height=\"1\" width=\"1\"></rect><g></g></g><g><rect x=\"4\" y=\"6\" class=\"light-square\" height=\"1\" width=\"1\"></rect><g></g></g><g><rect x=\"4\" y=\"7\" class=\"dark-square\" height=\"1\" width=\"1\"></rect><g></g></g><g><rect x=\"5\" y=\"0\" class=\"dark-square\" height=\"1\" width=\"1\"></rect><g></g></g><g><rect x=\"5\" y=\"1\" class=\"light-square\" height=\"1\" width=\"1\"></rect><g></g></g><g><rect x=\"5\" y=\"2\" class=\"dark-square\" height=\"1\" width=\"1\"></rect><g></g></g><g><rect x=\"5\" y=\"3\" class=\"light-square\" height=\"1\" width=\"1\"></rect><g></g></g><g><rect x=\"5\" y=\"4\" class=\"dark-square\" height=\"1\" width=\"1\"></rect><g></g></g><g><rect x=\"5\" y=\"5\" class=\"light-square\" height=\"1\" width=\"1\"></rect><g></g></g><g><rect x=\"5\" y=\"6\" class=\"dark-square\" height=\"1\" width=\"1\"></rect><g></g></g><g><rect x=\"5\" y=\"7\" class=\"light-square\" height=\"1\" width=\"1\"></rect><g></g></g><g><rect x=\"6\" y=\"0\" class=\"light-square\" height=\"1\" width=\"1\"></rect><g></g></g><g><rect x=\"6\" y=\"1\" class=\"dark-square\" height=\"1\" width=\"1\"></rect><g></g></g><g><rect x=\"6\" y=\"2\" class=\"light-square\" height=\"1\" width=\"1\"></rect><g></g></g><g><rect x=\"6\" y=\"3\" class=\"dark-square\" height=\"1\" width=\"1\"></rect><g></g></g><g><rect x=\"6\" y=\"4\" class=\"light-square\" height=\"1\" width=\"1\"></rect><g></g></g><g><rect x=\"6\" y=\"5\" class=\"dark-square\" height=\"1\" width=\"1\"></rect><g></g></g><g><rect x=\"6\" y=\"6\" class=\"light-square\" height=\"1\" width=\"1\"></rect><g></g></g><g><rect x=\"6\" y=\"7\" class=\"dark-square\" height=\"1\" width=\"1\"></rect><g></g></g><g><rect x=\"7\" y=\"0\" class=\"dark-square\" height=\"1\" width=\"1\"></rect><g></g></g><g><rect x=\"7\" y=\"1\" class=\"light-square\" height=\"1\" width=\"1\"></rect><image x=\"7\" xlink:href=\"https://raw.githubusercontent.com/romstad/Chess.jl/master/img/bk.svg\" y=\"1\" height=\"1\" width=\"1\"></image></g><g><rect x=\"7\" y=\"2\" class=\"dark-square\" height=\"1\" width=\"1\"></rect><g></g></g><g><rect x=\"7\" y=\"3\" class=\"light-square\" height=\"1\" width=\"1\"></rect><g></g></g><g><rect x=\"7\" y=\"4\" class=\"dark-square\" height=\"1\" width=\"1\"></rect><g></g></g><g><rect x=\"7\" y=\"5\" class=\"light-square\" height=\"1\" width=\"1\"></rect><g></g></g><g><rect x=\"7\" y=\"6\" class=\"dark-square\" height=\"1\" width=\"1\"></rect><g></g></g><g><rect x=\"7\" y=\"7\" class=\"light-square\" height=\"1\" width=\"1\"></rect><image x=\"7\" xlink:href=\"https://raw.githubusercontent.com/romstad/Chess.jl/master/img/wk.svg\" y=\"7\" height=\"1\" width=\"1\"></image></g></g><g></g></svg><p><style scoped=\"true\">    .move-depth-0 {\n",
       "        font-weight: bold; color: #000000;\n",
       "    }\n",
       "    .move-depth-1 {\n",
       "        font-weight: bold; color: #777777;\n",
       "    }\n",
       "    .move-depth-2 {\n",
       "        font-weight: bold; color: #bbbbbb;\n",
       "    }\n",
       "    .comment {\n",
       "        color: blue;\n",
       "    }\n",
       "    @media (prefers-color-scheme: dark) {\n",
       "        .move-depth-0 {\n",
       "            font-weight: bold; color: #ffffff;\n",
       "        }\n",
       "        .move-depth-1 {\n",
       "            font-weight: bold; color: #aaaaaa;\n",
       "        }\n",
       "        .move-depth-2 {\n",
       "            font-weight: bold; color: #666666;\n",
       "        }\n",
       "        .comment {\n",
       "            color: #00d9a3;\n",
       "        }\n",
       "    }\n",
       "</style><span class='move-depth-0'> 1. b4</span><span class='move-depth-0'> f5</span><span class='move-depth-0'> 2. Nc3</span><span class='move-depth-0'> c6</span><span class='move-depth-0'> 3. g4</span><span class='move-depth-0'> e5</span><span class='move-depth-0'> 4. d4</span><span class='move-depth-0'> Qa5</span><span class='move-depth-0'> 5. gxf5</span><span class='move-depth-0'> Kd8</span><span class='move-depth-0'> 6. bxa5</span><span class='move-depth-0'> d6</span><span class='move-depth-0'> 7. Be3</span><span class='move-depth-0'> c5</span><span class='move-depth-0'> 8. Qd2</span><span class='move-depth-0'> h5</span><span class='move-depth-0'> 9. Qc1</span><span class='move-depth-0'> Ke7</span><span class='move-depth-0'> 10. Nd5+</span><span class='move-depth-0'> Kd7</span><span class='move-depth-0'> 11. h3</span><span class='move-depth-0'> Ne7</span><span class='move-depth-0'> 12. Bh6</span><span class='move-depth-0'> h4</span><span class='move-depth-0'> 13. Qb1</span><span class='move-depth-0'> g5</span><span class='move-depth-0'> 14. Qb6</span><span class='move-depth-0'> Na6</span><span class='move-depth-0'> 15. Bg7</span><span class='move-depth-0'> Nxf5</span><span class='move-depth-0'> 16. Bf6</span><span class='move-depth-0'> Ng7</span><span class='move-depth-0'> 17. Qb4</span><span class='move-depth-0'> Ke8</span><span class='move-depth-0'> 18. Bxe5</span><span class='move-depth-0'> b5</span><span class='move-depth-0'> 19. Rb1</span><span class='move-depth-0'> Be6</span><span class='move-depth-0'> 20. a3</span><span class='move-depth-0'> Rc8</span><span class='move-depth-0'> 21. Rb2</span><span class='move-depth-0'> g4</span><span class='move-depth-0'> 22. Nf3</span><span class='move-depth-0'> c4</span><span class='move-depth-0'> 23. Rb1</span><span class='move-depth-0'> Nc7</span><span class='move-depth-0'> 24. e3</span><span class='move-depth-0'> Kf7</span><span class='move-depth-0'> 25. Rc1</span><span class='move-depth-0'> Rb8</span><span class='move-depth-0'> 26. Bxc4</span><span class='move-depth-0'> Na6</span><span class='move-depth-0'> 27. c3</span><span class='move-depth-0'> Nc5</span><span class='move-depth-0'> 28. Be2</span><span class='move-depth-0'> Ra8</span><span class='move-depth-0'> 29. Nxh4</span><span class='move-depth-0'> Rc8</span><span class='move-depth-0'> 30. Bh2</span><span class='move-depth-0'> a6</span><span class='move-depth-0'> 31. Nf6</span><span class='move-depth-0'> Na4</span><span class='move-depth-0'> 32. Bc4</span><span class='move-depth-0'> Rxh4</span><span class='move-depth-0'> 33. Nxg4</span><span class='move-depth-0'> Nxc3</span><span class='move-depth-0'> 34. Ne5+</span><span class='move-depth-0'> Kf6</span><span class='move-depth-0'> 35. Nd3</span><span class='move-depth-0'> Nd5</span><span class='move-depth-0'> 36. f3</span><span class='move-depth-0'> Rxd4</span><span class='move-depth-0'> 37. Bxb5</span><span class='move-depth-0'> Kg5</span><span class='move-depth-0'> 38. exd4</span><span class='move-depth-0'> Bxh3</span><span class='move-depth-0'> 39. Rc7</span><span class='move-depth-0'> Ne6</span><span class='move-depth-0'> 40. Kd1</span><span class='move-depth-0'> Bg2</span><span class='move-depth-0'> 41. Kc1</span><span class='move-depth-0'> Kg6</span><span class='move-depth-0'> 42. Qxd6</span><span class='move-depth-0'> Rxc7+</span><span class='move-depth-0'> 43. Bc6</span><span class='move-depth-0'> Kh6</span><span class='move-depth-0'> 44. Rg1</span><span class='move-depth-0'> Rc8</span><span class='move-depth-0'> 45. Nb4</span><span class='move-depth-0'> Ra8</span><span class='move-depth-0'> 46. Rxg2</span><span class='move-depth-0'> Nf6</span><span class='move-depth-0'> 47. Qxe6</span><span class='move-depth-0'> Ra7</span><span class='move-depth-0'> 48. Ra2</span><span class='move-depth-0'> Bd6</span><span class='move-depth-0'> 49. Ba8</span><span class='move-depth-0'> Bc5</span><span class='move-depth-0'> 50. Bc7</span><span class='move-depth-0'> Be7</span><span class='move-depth-0'> 51. Qe5</span><span class='move-depth-0'> Nh7</span><span class='move-depth-0'> 52. Re2</span><span class='move-depth-0'> Bc5</span><span class='move-depth-0'> 53. Re3</span><span class='move-depth-0'> Nf8</span><span class='move-depth-0'> 54. Rd3</span><span class='move-depth-0'> Bb6</span><span class='move-depth-0'> 55. Qh5+</span><span class='move-depth-0'> Kg7</span><span class='move-depth-0'> 56. Qg6+</span><span class='move-depth-0'> Kh8</span><span class='move-depth-0'> 57. Rd2</span><span class='move-depth-0'> Bxd4</span><span class='move-depth-0'> 58. Kb1</span><span class='move-depth-0'> Ne6</span><span class='move-depth-0'> 59. Bb8</span><span class='move-depth-0'> Bg7</span><span class='move-depth-0'> 60. Qh7+</span><span class='move-depth-0'> Kxh7</span><span class='move-depth-0'> 61. Kc2</span><span class='move-depth-0'> Nd8</span><span class='move-depth-0'> 62. Nd3</span><span class='move-depth-0'> Bb2</span><span class='move-depth-0'> 63. Re2</span><span class='move-depth-0'> Bxa3</span><span class='move-depth-0'> 64. Kd1</span><span class='move-depth-0'> Rf7</span><span class='move-depth-0'> 65. Nb2</span><span class='move-depth-0'> Rb7</span><span class='move-depth-0'> 66. Rg2</span><span class='move-depth-0'> Rb6</span><span class='move-depth-0'> 67. Rg3</span><span class='move-depth-0'> Bc5</span><span class='move-depth-0'> 68. Kd2</span><span class='move-depth-0'> Nb7</span><span class='move-depth-0'> 69. Nd3</span><span class='move-depth-0'> Bf8</span><span class='move-depth-0'> 70. axb6</span><span class='move-depth-0'> Kh8</span><span class='move-depth-0'> 71. Ke2</span><span class='move-depth-0'> Nc5</span><span class='move-depth-0'> 72. Rg2</span><span class='move-depth-0'> Nb7</span><span class='move-depth-0'> 73. Bh2</span><span class='move-depth-0'> Bg7</span><span class='move-depth-0'> 74. Kf2</span><span class='move-depth-0'> Bf6</span><span class='move-depth-0'> 75. Bxb7</span><span class='move-depth-0'> a5</span><span class='move-depth-0'> 76. Nc5</span><span class='move-depth-0'> Bg5</span><span class='move-depth-0'> 77. Rxg5</span><span class='move-depth-0'> a4</span><span class='move-depth-0'> 78. Ne6</span><span class='move-depth-0'> a3</span><span class='move-depth-0'> 79. Nd4</span><span class='move-depth-0'> a2</span><span class='move-depth-0'> 80. Ke1</span><span class='move-depth-0'> a1=N</span><span class='move-depth-0'> 81. Bc7</span><span class='move-depth-0'> Nc2+</span><span class='move-depth-0'> 82. Ke2</span><span class='move-depth-0'> Na1</span><span class='move-depth-0'> 83. Nb5</span><span class='move-depth-0'> Nb3</span><span class='move-depth-0'> 84. Ba6</span><span class='move-depth-0'> Nc5</span><span class='move-depth-0'> 85. Nd4</span><span class='move-depth-0'> Ne6</span><span class='move-depth-0'> 86. Rg1</span><span class='move-depth-0'> Nf4+</span><span class='move-depth-0'> 87. Kf2</span><span class='move-depth-0'> Kh7</span><span class='move-depth-0'> 88. Rg7+</span><span class='move-depth-0'> Kh8</span><span class='move-depth-0'> 89. Bd3</span><span class='move-depth-0'> Nh5</span><span class='move-depth-0'> 90. Bc2</span><span class='move-depth-0'> Ng3</span><span class='move-depth-0'> 91. Bd6</span><span class='move-depth-0'> Nh1+</span><span class='move-depth-0'> 92. Kg2</span><span class='move-depth-0'> Kxg7</span><span class='move-depth-0'> 93. Kh2</span><span class='move-depth-0'> Kh6</span><span class='move-depth-0'> 94. Bb8</span><span class='move-depth-0'> Kg7</span><span class='move-depth-0'> 95. Kh3</span><span class='move-depth-0'> Kh6</span><span class='move-depth-0'> 96. Kg2</span><span class='move-depth-0'> Kh5</span><span class='move-depth-0'> 97. Kh2</span><span class='move-depth-0'> Kg5</span><span class='move-depth-0'> 98. Kh3</span><span class='move-depth-0'> Kh5</span><span class='move-depth-0'> 99. Ne2</span><span class='move-depth-0'> Kh6</span><span class='move-depth-0'> 100. Bf4+</span><span class='move-depth-0'> Kh5</span><span class='move-depth-0'> 101. Kg2</span><span class='move-depth-0'> Kh4</span><span class='move-depth-0'> 102. Bb8</span><span class='move-depth-0'> Kg5</span><span class='move-depth-0'> 103. Bd6</span><span class='move-depth-0'> Kh6</span><span class='move-depth-0'> 104. Bd3</span><span class='move-depth-0'> Ng3</span><span class='move-depth-0'> 105. Bf8+</span><span class='move-depth-0'> Kh5</span><span class='move-depth-0'> 106. Ba3</span><span class='move-depth-0'> Ne4</span><span class='move-depth-0'> 107. Bd6</span><span class='move-depth-0'> Nc5</span><span class='move-depth-0'> 108. b7</span><span class='move-depth-0'> Nxd3</span><span class='move-depth-0'> 109. Kg1</span><span class='move-depth-0'> Kh6</span><span class='move-depth-0'> 110. Be5</span><span class='move-depth-0'> Nc1</span><span class='move-depth-0'> 111. Nf4</span><span class='move-depth-0'> Kh7</span><span class='move-depth-0'> 112. Ng2</span><span class='move-depth-0'> Na2</span><span class='move-depth-0'> 113. b8=R</span><span class='move-depth-0'> Kh6</span><span class='move-depth-0'> 114. Rc8</span><span class='move-depth-0'> Nc1</span><span class='move-depth-0'> 115. f4</span><span class='move-depth-0'> Kh5</span><span class='move-depth-0'> 116. Rc2</span><span class='move-depth-0'> Kh6</span><span class='move-depth-0'> 117. Bf6</span><span class='move-depth-0'> Kg6</span><span class='move-depth-0'> 118. Rc8</span><span class='move-depth-0'> Kf7</span><span class='move-depth-0'> 119. Bb2</span><span class='move-depth-0'> Na2</span><span class='move-depth-0'> 120. Rg8</span><span class='move-depth-0'> Nc1</span><span class='move-depth-0'> 121. Bf6</span><span class='move-depth-0'> Kxg8</span><span class='move-depth-0'> 122. Bd4</span><span class='move-depth-0'> Nd3</span><span class='move-depth-0'> 123. Bf2</span><span class='move-depth-0'> Nxf4</span><span class='move-depth-0'> 124. Kh2</span><span class='move-depth-0'> Ne2</span><span class='move-depth-0'> 125. Ne3</span><span class='move-depth-0'> Ng1</span><span class='move-depth-0'> 126. Nd1</span><span class='move-depth-0'> Nf3+</span><span class='move-depth-0'> 127. Kh1</span><span class='move-depth-0'> Ne1</span><span class='move-depth-0'> 128. Be3</span><span class='move-depth-0'> Nc2</span><span class='move-depth-0'> 129. Kg1</span><span class='move-depth-0'> Kf7</span><span class='move-depth-0'> 130. Nb2</span><span class='move-depth-0'> Kg7</span><span class='move-depth-0'> 131. Kh2</span><span class='move-depth-0'> Nxe3</span><span class='move-depth-0'> 132. Nd1</span><span class='move-depth-0'> Kf8</span><span class='move-depth-0'> 133. Kh3</span><span class='move-depth-0'> Ng2</span><span class='move-depth-0'> 134. Nf2</span><span class='move-depth-0'> Nh4</span><span class='move-depth-0'> 135. Nd1</span><span class='move-depth-0'> Nf3</span><span class='move-depth-0'> 136. Kg2</span><span class='move-depth-0'> Kf7</span><span class='move-depth-0'> 137. Kh1</span><span class='move-depth-0'> Kg6</span><span class='move-depth-0'> 138. Nf2</span><span class='move-depth-0'> Kh7</span><span class='move-depth-0'> 139. Nd1</span><span class='move-depth-0'> Ne5</span><span class='move-depth-0'> 140. Nf2</span><span class='move-depth-0'> Nc4</span><span class='move-depth-0'> 141. Ng4</span><span class='move-depth-0'> Ne5</span><span class='move-depth-0'> 142. Nxe5</span> 👉</p><a onclick=\"navigator.clipboard.writeText(&#39;[Event &quot;Random Chess&quot;]\\n[Site &quot;???&quot;]\\n[Date &quot;2023.01.02&quot;]\\n[Round &quot;1&quot;]\\n[White &quot;Random Player 1&quot;]\\n[Black &quot;Random Player 2&quot;]\\n[Result &quot;*&quot;]\\n\\n1. b4 f5 2. Nc3 c6 3. g4 e5 4. d4 Qa5 5. gxf5 Kd8 6. bxa5 d6 7. Be3 c5 8. Qd2 h5 9. Qc1 Ke7 10. Nd5+ Kd7 11. h3 Ne7 12. Bh6 h4 13. Qb1 g5 14. Qb6 Na6 15. Bg7 Nxf5 16. Bf6 Ng7 17. Qb4 Ke8 18. Bxe5 b5 19. Rb1 Be6 20. a3 Rc8 21. Rb2 g4 22. Nf3 c4 23. Rb1 Nc7 24. e3 Kf7 25. Rc1 Rb8 26. Bxc4 Na6 27. c3 Nc5 28. Be2 Ra8 29. Nxh4 Rc8 30. Bh2 a6 31. Nf6 Na4 32. Bc4 Rxh4 33. Nxg4 Nxc3 34. Ne5+ Kf6 35. Nd3 Nd5 36. f3 Rxd4 37. Bxb5 Kg5 38. exd4 Bxh3 39. Rc7 Ne6 40. Kd1 Bg2 41. Kc1 Kg6 42. Qxd6 Rxc7+ 43. Bc6 Kh6 44. Rg1 Rc8 45. Nb4 Ra8 46. Rxg2 Nf6 47. Qxe6 Ra7 48. Ra2 Bd6 49. Ba8 Bc5 50. Bc7 Be7 51. Qe5 Nh7 52. Re2 Bc5 53. Re3 Nf8 54. Rd3 Bb6 55. Qh5+ Kg7 56. Qg6+ Kh8 57. Rd2 Bxd4 58. Kb1 Ne6 59. Bb8 Bg7 60. Qh7+ Kxh7 61. Kc2 Nd8 62. Nd3 Bb2 63. Re2 Bxa3 64. Kd1 Rf7 65. Nb2 Rb7 66. Rg2 Rb6 67. Rg3 Bc5 68. Kd2 Nb7 69. Nd3 Bf8 70. axb6 Kh8 71. Ke2 Nc5 72. Rg2 Nb7 73. Bh2 Bg7 74. Kf2 Bf6 75. Bxb7 a5 76. Nc5 Bg5 77. Rxg5 a4 78. Ne6 a3 79. Nd4 a2 80. Ke1 a1=N 81. Bc7 Nc2+ 82. Ke2 Na1 83. Nb5 Nb3 84. Ba6 Nc5 85. Nd4 Ne6 86. Rg1 Nf4+ 87. Kf2 Kh7 88. Rg7+ Kh8 89. Bd3 Nh5 90. Bc2 Ng3 91. Bd6 Nh1+ 92. Kg2 Kxg7 93. Kh2 Kh6 94. Bb8 Kg7 95. Kh3 Kh6 96. Kg2 Kh5 97. Kh2 Kg5 98. Kh3 Kh5 99. Ne2 Kh6 100. Bf4+ Kh5 101. Kg2 Kh4 102. Bb8 Kg5 103. Bd6 Kh6 104. Bd3 Ng3 105. Bf8+ Kh5 106. Ba3 Ne4 107. Bd6 Nc5 108. b7 Nxd3 109. Kg1 Kh6 110. Be5 Nc1 111. Nf4 Kh7 112. Ng2 Na2 113. b8=R Kh6 114. Rc8 Nc1 115. f4 Kh5 116. Rc2 Kh6 117. Bf6 Kg6 118. Rc8 Kf7 119. Bb2 Na2 120. Rg8 Nc1 121. Bf6 Kxg8 122. Bd4 Nd3 123. Bf2 Nxf4 124. Kh2 Ne2 125. Ne3 Ng1 126. Nd1 Nf3+ 127. Kh1 Ne1 128. Be3 Nc2 129. Kg1 Kf7 130. Nb2 Kg7 131. Kh2 Nxe3 132. Nd1 Kf8 133. Kh3 Ng2 134. Nf2 Nh4 135. Nd1 Nf3 136. Kg2 Kf7 137. Kh1 Kg6 138. Nf2 Kh7 139. Nd1 Ne5 140. Nf2 Nc4 141. Ng4 Ne5 142. Nxe5 *\\n&#39;).then(function(){},function(){});window.open(&#39;https://lichess.org/paste&#39;,&#39;_blank&#39;);\" href=\"\">Open in lichess</a></div>"
      ],
      "text/plain": [
       "Game (Random Player 1 vs Random Player 2, ??? 2023):\n",
       " 1. b4 f5 2. Nc3 c6 3. g4 e5 4. d4 Qa5 5. gxf5 Kd8 6. bxa5 d6 7. Be3 c5 8. Qd2 h5 9. Qc1 Ke7 10. Nd5+ Kd7 11. h3 Ne7 12. Bh6 h4 13. Qb1 g5 14. Qb6 Na6 15. Bg7 Nxf5 16. Bf6 Ng7 17. Qb4 Ke8 18. Bxe5 b5 19. Rb1 Be6 20. a3 Rc8 21. Rb2 g4 22. Nf3 c4 23. Rb1 Nc7 24. e3 Kf7 25. Rc1 Rb8 26. Bxc4 Na6 27. c3 Nc5 28. Be2 Ra8 29. Nxh4 Rc8 30. Bh2 a6 31. Nf6 Na4 32. Bc4 Rxh4 33. Nxg4 Nxc3 34. Ne5+ Kf6 35. Nd3 Nd5 36. f3 Rxd4 37. Bxb5 Kg5 38. exd4 Bxh3 39. Rc7 Ne6 40. Kd1 Bg2 41. Kc1 Kg6 42. Qxd6 Rxc7+ 43. Bc6 Kh6 44. Rg1 Rc8 45. Nb4 Ra8 46. Rxg2 Nf6 47. Qxe6 Ra7 48. Ra2 Bd6 49. Ba8 Bc5 50. Bc7 Be7 51. Qe5 Nh7 52. Re2 Bc5 53. Re3 Nf8 54. Rd3 Bb6 55. Qh5+ Kg7 56. Qg6+ Kh8 57. Rd2 Bxd4 58. Kb1 Ne6 59. Bb8 Bg7 60. Qh7+ Kxh7 61. Kc2 Nd8 62. Nd3 Bb2 63. Re2 Bxa3 64. Kd1 Rf7 65. Nb2 Rb7 66. Rg2 Rb6 67. Rg3 Bc5 68. Kd2 Nb7 69. Nd3 Bf8 70. axb6 Kh8 71. Ke2 Nc5 72. Rg2 Nb7 73. Bh2 Bg7 74. Kf2 Bf6 75. Bxb7 a5 76. Nc5 Bg5 77. Rxg5 a4 78. Ne6 a3 79. Nd4 a2 80. Ke1 a1=N 81. Bc7 Nc2+ 82. Ke2 Na1 83. Nb5 Nb3 84. Ba6 Nc5 85. Nd4 Ne6 86. Rg1 Nf4+ 87. Kf2 Kh7 88. Rg7+ Kh8 89. Bd3 Nh5 90. Bc2 Ng3 91. Bd6 Nh1+ 92. Kg2 Kxg7 93. Kh2 Kh6 94. Bb8 Kg7 95. Kh3 Kh6 96. Kg2 Kh5 97. Kh2 Kg5 98. Kh3 Kh5 99. Ne2 Kh6 100. Bf4+ Kh5 101. Kg2 Kh4 102. Bb8 Kg5 103. Bd6 Kh6 104. Bd3 Ng3 105. Bf8+ Kh5 106. Ba3 Ne4 107. Bd6 Nc5 108. b7 Nxd3 109. Kg1 Kh6 110. Be5 Nc1 111. Nf4 Kh7 112. Ng2 Na2 113. b8=R Kh6 114. Rc8 Nc1 115. f4 Kh5 116. Rc2 Kh6 117. Bf6 Kg6 118. Rc8 Kf7 119. Bb2 Na2 120. Rg8 Nc1 121. Bf6 Kxg8 122. Bd4 Nd3 123. Bf2 Nxf4 124. Kh2 Ne2 125. Ne3 Ng1 126. Nd1 Nf3+ 127. Kh1 Ne1 128. Be3 Nc2 129. Kg1 Kf7 130. Nb2 Kg7 131. Kh2 Nxe3 132. Nd1 Kf8 133. Kh3 Ng2 134. Nf2 Nh4 135. Nd1 Nf3 136. Kg2 Kf7 137. Kh1 Kg6 138. Nf2 Kh7 139. Nd1 Ne5 140. Nf2 Nc4 141. Ng4 Ne5 142. Nxe5 * "
      ]
     },
     "metadata": {},
     "output_type": "display_data"
    }
   ],
   "source": [
    "game"
   ]
  },
  {
   "cell_type": "code",
   "execution_count": 21,
   "metadata": {},
   "outputs": [
    {
     "data": {
      "text/plain": [
       "saveGameToPGN (generic function with 1 method)"
      ]
     },
     "metadata": {},
     "output_type": "display_data"
    }
   ],
   "source": [
    "function saveGameToPGN()\n",
    "    println(gametopgn(game))\n",
    "    open(\"RandomChess.pgn\", \"w\") do file\n",
    "        write(file, gametopgn(game))\n",
    "    end \n",
    "end\n"
   ]
  },
  {
   "cell_type": "code",
   "execution_count": 22,
   "metadata": {},
   "outputs": [
    {
     "name": "stdout",
     "output_type": "stream",
     "text": [
      "[Event \"Random Chess\"]\n",
      "[Site \"???\"]\n",
      "[Date \"2023.01.02\"]\n",
      "[Round \"1\"]\n",
      "[White \"Random Player 1\"]\n",
      "[Black \"Random Player 2\"]\n",
      "[Result \"*\"]\n",
      "\n",
      "1. Nc3 b5 2. Nb1 g5 3. d3 d5 4. Na3 h5 5. Bxg5 Nh6 6. e3 Na6 7. Nc4 e6 8. a4 Nb8 9. Qf3 Qxg5 10. Qf4 Qf6 11. Qe5 Qf4 12. Qxf4 bxc4 13. Qe4 Bd6 14. O-O-O Bxh2 15. Qf4 Bg3 16. e4 Bxf2 17. Qxf2 Ke7 18. Kd2 d4 19. b3 Rf8 20. Qf4 c3+ 21. Kc1 Ng8 22. Qf3 a6 23. a5 Nf6 24. Kb1 Re8 25. Kc1 Ra7 26. Qe3 Nd5 27. Qf2 Nb6 28. g4 h4 29. Qf3 Kf8 30. Qf5 c6 31. Rh2 e5 32. Qg6 Bf5 33. Qf6 Bxg4 34. b4 Re6 35. Rdd2 Bh3 36. Qh6+ Ke7 37. Qh8 Rd6 38. Qh6 Rf6 39. Rdg2 Rf5 40. Qh7 Nc4 41. Rg8 Bg2 42. Rf8 Bxf1 43. Qxf5 Rc7 44. Qh5 Nd6 45. Qxf7+ Nxf7 46. Kd1 Kd7 47. Nf3 Nd8 48. Rh3 Be2+ 49. Ke1 Ke7 50. Nxd4 Bd1 51. Kxd1 Kd6 52. Nf3 Rg7 53. d4 Rf7 54. Rh2 Ne6 55. Rh1 Rh7 56. Rg1 Nd7 57. Rg5 exd4 58. Re5 Nd8 59. Rc5 Ne6 60. Kc1 Rh6 61. Rd8 Rg6 62. b5 Kc7 63. Ra8 Nf4 64. Rh5 Ne2+ 65. Kb1 Rd6 66. Rxh4 c5 67. Rd8 Nf4 68. Re8 Re6 69. Rh3 Rd6 70. Rhh8 Nh3 71. Nd2 Ng5 72. bxa6 Re6 73. Nf3 Rxe8 74. Ne5 Nh7 75. Nc6 Ne5 76. Rxh7+ Kd6 77. Kc1 Nc4 78. Ra7 Ne5 79. Nd8 Nc4 80. Rb7 Ke5 81. Rb4 Kf6 82. Nb7 cxb4 83. Nd8 b3 84. e5+ Kf5 85. Kb1 d3 86. Kc1 Nxe5 87. cxd3 Kg6 88. Ne6 Ng4 89. Nf4+ Kf5 90. Ng2 Nf6 91. Ne1 b2+ 92. Kd1 Kg4 93. Nf3 b1=N 94. Ne5+ Kh3 95. d4 Nh5 96. Nf7 Re4 97. Nh8 Nf6 98. a7 Nd7 99. a8=R Rxd4+ 100. Ke2 Nb6 101. Rc8 Rg4 102. Rc7 Rg1 103. Re7 Kh4 104. Re6 Kg5 105. Rc6 Kf5 106. a6 Nd2 107. Rc7 Kg4 108. Rc8 Ne4 109. Ke3 Nd2 110. Rc4+ Nbxc4+ 111. Kf2 Nb3 112. Nf7 Rb1 113. Nh6+ Kh3 114. Nf7 Nd6 115. Nh6 Nb7 116. Ke2 N3a5 117. a7 Rd1 118. a8=Q Rh1 119. Ng8 Rh2+ 120. Ke1 Re2+ 121. Kf1 Rg2 122. Qa6 Nd6 123. Qa8 Kg4 124. Kxg2 Nf5 125. Qe8 Nd6 126. Kh1 Kf4 127. Kg1 Nf7 128. Qe3+ Kxe3 129. Kh1 Nh8 130. Ne7 Nc4 131. Nd5+ Kf2 132. Nf6 Ne5 133. Ne8 Nc4 134. Ng7 Nd2 135. Ne8 Nf1 136. Ng7 Ne3 137. Nf5 Nxf5 138. Kh2 Kf3 139. Kg1 c2 140. Kf1 Nh4 141. Ke1 c1=R+ 142. Kd2 Ke4 143. Ke2 Ke5 144. Kf2 Nf7 145. Ke2 Rh1 146. Kf2 Kd5 147. Ke3 Nd8 148. Kd2 Ke5 149. Kd3 Ng2 150. Ke2 Rh7 151. Kd2 Kd6 152. Kd1 Kd7 153. Kd2 Nf7 154. Kc1 Nd6 155. Kb1 Rh2 156. Kc1 Ke7 157. Kd2 Rh1 158. Kd3 Rc1 159. Ke2 Nc8 160. Kf3 Rc3+ 161. Kxg2 Kf6 162. Kg1 Kg6 163. Kf2 Rc2+ 164. Kf3 Re2 165. Kf4 Re3 166. Kxe3 *\n",
      "\n"
     ]
    },
    {
     "data": {
      "text/plain": [
       "2212"
      ]
     },
     "metadata": {},
     "output_type": "display_data"
    }
   ],
   "source": [
    "saveGameToPGN()"
   ]
  }
 ],
 "metadata": {
  "kernelspec": {
   "display_name": "Julia 1.8.2",
   "language": "julia",
   "name": "julia-1.8"
  },
  "language_info": {
   "file_extension": ".jl",
   "mimetype": "application/julia",
   "name": "julia",
   "version": "1.8.2"
  }
 },
 "nbformat": 4,
 "nbformat_minor": 4
}
