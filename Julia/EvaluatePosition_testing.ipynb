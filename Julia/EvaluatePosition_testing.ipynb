{
 "cells": [
  {
   "cell_type": "code",
   "execution_count": null,
   "id": "df5fcc2b",
   "metadata": {},
   "outputs": [],
   "source": [
    "HTML(read(open(\"style.css\"), String))\n",
    "# Pkg.add(\"NBInclude\")\n",
    "using NBInclude\n",
    "# Pkg.add(\"Chess\")\n",
    "using Chess\n",
    "using Test\n",
    "using BenchmarkTools\n",
    "using ProfileView\n",
    "using Traceur\n",
    "# using ProfileVega"
   ]
  },
  {
   "cell_type": "code",
   "execution_count": null,
   "id": "364ed6e6",
   "metadata": {},
   "outputs": [],
   "source": [
    "@nbinclude(\"EvaluatePosition.ipynb\")"
   ]
  },
  {
   "cell_type": "markdown",
   "id": "442182b9",
   "metadata": {},
   "source": [
    "# Evaluate Position Testing"
   ]
  },
  {
   "cell_type": "markdown",
   "id": "90bc1345",
   "metadata": {},
   "source": [
    "## Test CalculatePosition for a single piece\n",
    "\n"
   ]
  },
  {
   "cell_type": "code",
   "execution_count": null,
   "id": "368bf152",
   "metadata": {},
   "outputs": [],
   "source": [
    "startBoard=startboard()\n",
    "queen = Piece(WHITE, QUEEN)\n",
    "wPawn = Piece(WHITE, PAWN)\n",
    "bPawn = Piece(BLACK, PAWN)\n",
    "sD6 = Square(FILE_D, RANK_6)\n",
    "sD2 = Square(FILE_D, RANK_2)\n",
    "sD7 = Square(FILE_D, RANK_7)\n",
    "b1 = fromfen(\"rnbqkbnr/ppp1pppp/8/3p4/4P3/8/PPPP1PPP/RNBQKBNR w KQkq - 0 1\")\n",
    "sD5 = Square(FILE_D, RANK_5)\n",
    "@testset \"Get Value of Piece\" begin\n",
    "    display(startBoard)\n",
    "    @test calc_score(startBoard, queen, sD6) == 905\n",
    "    @test calc_score(startBoard, wPawn, sD2) == 80 #100 pawn Value and -20 square \n",
    "    @test calc_score(startBoard, bPawn, sD7) == 80 #100 pawn Value and -20 square \n",
    "    display(b1)\n",
    "    @test calc_score(b1, bPawn, sD5) == 120\n",
    "end"
   ]
  },
  {
   "cell_type": "markdown",
   "id": "e07bcea3",
   "metadata": {},
   "source": [
    "## Evaluation of position "
   ]
  },
  {
   "cell_type": "code",
   "execution_count": null,
   "id": "de7dab8c",
   "metadata": {},
   "outputs": [],
   "source": [
    "b1 = fromfen(\"rnbqkbnr/ppp1pppp/8/3P4/8/8/PPPP1PPP/RNBQKBNR b KQkq - 0 1\")\n",
    "b2 = fromfen(\"rn1qkb1r/pppb1ppp/4pn2/3p4/3P1B2/2N5/PPPQPPPP/R3KBNR w KQkq - 2 5\")\n",
    "b3 = fromfen(\"1Q6/1R6/1B4k1/1N4p1/1P4n1/1K4b1/6r1/6q1 w - - 0 1\")\n",
    "\n",
    "@testset \"Get Value of Piece\" begin\n",
    "    display(b1)\n",
    "    @test evaluate_position(b1) == 125\n",
    "    display(b2)\n",
    "    @test evaluate_position(b2) == -5\n",
    "    display(b3)\n",
    "    @test evaluate_position(b3) == 0\n",
    "end"
   ]
  },
  {
   "cell_type": "markdown",
   "id": "46be209f",
   "metadata": {},
   "source": [
    "## Test Capture Piece "
   ]
  },
  {
   "cell_type": "code",
   "execution_count": null,
   "id": "6766cb43",
   "metadata": {},
   "outputs": [],
   "source": [
    "sD5 = Square(FILE_D,RANK_5)\n",
    "sA8 = Square(FILE_A,RANK_8)\n",
    "b1 = fromfen(\"rnbqkbnr/ppp1pppp/8/3p4/4P3/8/PPPP1PPP/RNBQKBNR w KQkq - 0 1\")\n",
    "b2 = fromfen(\"rnbqkb1r/pP2pp1p/5np1/8/8/8/PPPP1PPP/RNBQKBNR w KQkq - 1 5\")\n",
    "@testset \"Capture Piece\" begin\n",
    "    display(b1)\n",
    "    @test valueCapturePiece(b1, sD5) == 120\n",
    "    display(b2)\n",
    "    @test valueCapturePiece(b2, sA8) == 500\n",
    "end"
   ]
  },
  {
   "cell_type": "markdown",
   "id": "78595a28",
   "metadata": {},
   "source": [
    "## Test En Passant"
   ]
  },
  {
   "cell_type": "code",
   "execution_count": null,
   "id": "6576c4ef",
   "metadata": {},
   "outputs": [],
   "source": [
    "b1=fromfen(\"rnbqkbnr/ppp1pppp/8/3pP3/8/8/PPPP1PPP/RNBQKBNR b KQkq - 0 2\")\n",
    "domove!(b1, \"f5\")\n",
    "sF6 = Square(FILE_F,RANK_6)\n",
    "@testset \"calcEnPassant\" begin\n",
    "    display(b1)\n",
    "    @test calcEnPassant(b1, sF6) == 100\n",
    "end"
   ]
  },
  {
   "cell_type": "code",
   "execution_count": null,
   "id": "824ca49a",
   "metadata": {},
   "outputs": [],
   "source": [
    "b1=fromfen(\"rn1qkb1r/pppb1ppp/4pn2/3p4/3P1B2/2N5/PPPQPPPP/R3KBNR w KQkq - 2 5\")\n",
    "sC1 = Square(FILE_C,RANK_1)\n",
    "piece = Piece(WHITE, KING)\n",
    "@testset \"calc_castle\" begin\n",
    "    display(board)\n",
    "    @test calc_castle(b1, piece ,sC1) == 5\n",
    "end"
   ]
  },
  {
   "cell_type": "markdown",
   "id": "f8e7ae2e",
   "metadata": {},
   "source": [
    "## Testing IsEndGame\n"
   ]
  },
  {
   "cell_type": "code",
   "execution_count": null,
   "id": "dd4006dd",
   "metadata": {},
   "outputs": [],
   "source": [
    "b1 = fromfen(\"2bqk3/8/8/8/8/8/5B2/3QK3 w - - 0 1\")\n",
    "b2 = fromfen(\"rnb1kbnr/ppp2ppp/8/8/8/8/PPP2PPP/RNB1KBNR w KQkq - 0 1\")\n",
    "b3 = fromfen(\"2b1kb2/pp4pp/8/8/8/8/PP4P1/R2QK3 w Q - 0 1\")\n",
    "b4 = fromfen(\"r1b1kbnr/p2p1ppp/2pP4/1p2p1B1/4P3/1B3P2/PPP2P1P/RN3RK1 w kq - 0 1\")\n",
    "@testset \"Testing Endgame\" begin\n",
    "    display(b1)\n",
    "    @test is_endgame(b1) == true\n",
    "    display(b2)\n",
    "    @test is_endgame(b2) == true\n",
    "    display(b3)\n",
    "    @test is_endgame(b3) == false\n",
    "    display(b4)\n",
    "    @test is_endgame(b4) == true\n",
    "end"
   ]
  },
  {
   "cell_type": "markdown",
   "id": "e886421b",
   "metadata": {},
   "source": [
    "## Evaluate Move for terminal positions"
   ]
  },
  {
   "cell_type": "code",
   "execution_count": null,
   "id": "9fa2161f",
   "metadata": {},
   "outputs": [],
   "source": [
    "b1 = fromfen(\"7k/8/8/3K4/8/6R1/8/5R2 w - - 0 1\")\n",
    "m1 = movefromstring(\"f1h1\")\n",
    "b2 = fromfen(\"k7/7K/8/8/6r1/8/8/5r2 b - - 0 1\")\n",
    "m2 = movefromstring(\"f1h1\")\n",
    "\n",
    "b3 = fromfen(\"r2qkb1r/pp2np1p/3p1p2/2p1N1B1/2BnP3/3P4/PPP2PPP/R2bK2R w KQkq - 0 1\")\n",
    "m3 = movefromstring(\"c4f7\")\n",
    "\n",
    "@testset \"Evaluate Move terminal position\" begin\n",
    "    display(b1)\n",
    "    @test evaluate_move(b1, m1, evaluate_position(b1)) == evaluate_position(domove(b1, m1))\n",
    "    display(b2)\n",
    "    @test evaluate_move(b2, m2, evaluate_position(b2)) == evaluate_position(domove(b2, m2))\n",
    "    display(b3)\n",
    "    @test evaluate_move(b3, m3, evaluate_position(b3)) == evaluate_position(domove(b3, m3))\n",
    "end"
   ]
  },
  {
   "cell_type": "markdown",
   "id": "e06f27a2",
   "metadata": {},
   "source": [
    "## Evaluate Move for endgame transition"
   ]
  },
  {
   "cell_type": "code",
   "execution_count": null,
   "id": "87e8fa53",
   "metadata": {},
   "outputs": [],
   "source": [
    "b1 = fromfen(\"r1b1kbnr/p2p1ppp/2pP4/1p2p1B1/4P3/1B3q2/PPP2PPP/RN3RK1 w kq - 0 1\")\n",
    "m1 = movefromstring(\"g2f3\")\n",
    "b2 = fromfen(\"1k6/1r6/1P2n3/6Pp/1R2p2P/4P3/P2NK3/3q4 w - - 0 1\")\n",
    "m2 = movefromstring(\"e2d1\")\n",
    "@testset \"evaluate_move\" begin\n",
    "    display(b1)\n",
    "    @test evaluate_move(b1, m1, evaluate_position(b1)) == evaluate_position(domove(b1, m1)) # regular position\n",
    "    display(b2)\n",
    "    @test evaluate_move(b2, m2, evaluate_position(b2)) == evaluate_position(domove(b2, m2)) # regular position\n",
    "end"
   ]
  },
  {
   "cell_type": "markdown",
   "id": "d4b9ecdf",
   "metadata": {},
   "source": [
    "## Evaluate Move"
   ]
  },
  {
   "cell_type": "code",
   "execution_count": null,
   "id": "8c461893",
   "metadata": {
    "scrolled": false
   },
   "outputs": [],
   "source": [
    "# white to move\n",
    "b1 = startboard()\n",
    "m1 = Move(Square(FILE_E,RANK_2), Square(FILE_E,RANK_4))\n",
    "\n",
    "# Capture white and promotion\n",
    "b2 = fromfen(\"rnbqkb1r/pP2pp1p/5np1/8/8/8/PPPP1PPP/RNBQKBNR w KQkq - 1 5\")\n",
    "m2 = Move(Square(FILE_B,RANK_7), Square(FILE_A,RANK_8), QUEEN)\n",
    "\n",
    "# black to move\n",
    "b3 = fromfen(\"7k/P7/8/8/8/8/8/K7 b - - 0 1\")\n",
    "m3 = movefromstring(\"h8h7\")\n",
    "b4 = fromfen(\"rnbqkbnr/ppp2ppp/8/3Pp3/8/5N2/PPPP1PPP/RNBQKB1R b KQkq - 0 1\")\n",
    "m4 = movefromstring(\"d8h4\")\n",
    "\n",
    "# Captures white\n",
    "b5 = fromfen(\"rnb1kbnr/ppp2ppp/8/3Pp3/7q/5N2/PPPP1PPP/RNBQKB1R w KQkq - 0 1\")\n",
    "m5 = movefromstring(\"f3h4\")\n",
    "\n",
    "@testset \"evaluate_move\" begin\n",
    "    display(domove(b1, m1))\n",
    "    @test evaluate_move(b1, m1, evaluate_position(b1)) == evaluate_position(domove(b1, m1)) # regular position\n",
    "    display(domove(b2, m2))\n",
    "    @test evaluate_move(b2, m2, evaluate_position(b2)) == evaluate_position(domove(b2, m2))\n",
    "    display(domove(b3, m3))\n",
    "    @test evaluate_move(b3, m3, evaluate_position(b3)) == evaluate_position(domove(b3, m3)) # black king movement\n",
    "    display(domove(b4, m4))\n",
    "    @test evaluate_move(b4, m4, evaluate_position(b4)) == evaluate_position(domove(b4, m4)) # Queen blunder black\n",
    "    display(domove(b5, m5))\n",
    "    @test evaluate_move(b5, m5, evaluate_position(b5)) == evaluate_position(domove(b5, m5))\n",
    "end"
   ]
  },
  {
   "cell_type": "markdown",
   "id": "c2c4b996",
   "metadata": {},
   "source": [
    "### Evaluate move - Promotion"
   ]
  },
  {
   "cell_type": "code",
   "execution_count": null,
   "id": "61553e06",
   "metadata": {
    "scrolled": false
   },
   "outputs": [],
   "source": [
    "bw = fromfen(\"8/pk2P3/8/8/8/8/PK6/8 w - - 0 1\")\n",
    "mwN = movefromstring(\"e7e8N\")    # mwN = move white kNight\n",
    "mwB = movefromstring(\"e7e8B\")\n",
    "mwR = movefromstring(\"e7e8R\")\n",
    "mwQ = movefromstring(\"e7e8Q\")\n",
    "\n",
    "bb = fromfen(\"8/pk6/8/8/8/8/PK2p3/8 b - - 0 1\")\n",
    "mbN = movefromstring(\"e2e1N\")\n",
    "mbB = movefromstring(\"e2e1B\")\n",
    "mbR = movefromstring(\"e2e1R\")\n",
    "mbQ = movefromstring(\"e2e1Q\")\n",
    "\n",
    "@testset \"evaluate_move_position\" begin\n",
    "    display(bw)\n",
    "    @test evaluate_move(bw, mwN, evaluate_position(bw)) ==  evaluate_position(domove(bw, mwN)) # promotion white Knight\n",
    "    @test evaluate_move(bw, mwB, evaluate_position(bw)) ==  evaluate_position(domove(bw, mwB)) # promotion white Bishop\n",
    "    @test evaluate_move(bw, mwR, evaluate_position(bw)) ==  evaluate_position(domove(bw, mwR)) # promotion white Rook\n",
    "    @test evaluate_move(bw, mwQ, evaluate_position(bw)) ==  evaluate_position(domove(bw, mwQ)) # promotion white Queen\n",
    "    display(bb)\n",
    "    @test evaluate_move(bb, mbN, evaluate_position(bb)) ==  evaluate_position(domove(bb, mbN)) # promotion black Knight\n",
    "    @test evaluate_move(bb, mbB, evaluate_position(bb)) ==  evaluate_position(domove(bb, mbB)) # promotion black Bishop\n",
    "    @test evaluate_move(bb, mbR, evaluate_position(bb)) ==  evaluate_position(domove(bb, mbR)) # promotion black Rook\n",
    "    @test evaluate_move(bb, mbQ, evaluate_position(bb)) ==  evaluate_position(domove(bb, mbQ)) # promotion black Queen\n",
    "end"
   ]
  },
  {
   "cell_type": "markdown",
   "id": "1681956f",
   "metadata": {},
   "source": [
    "## Testing with random move engine"
   ]
  },
  {
   "cell_type": "code",
   "execution_count": null,
   "id": "bef44081",
   "metadata": {},
   "outputs": [],
   "source": [
    "@nbinclude(\"RandomChess.ipynb\")"
   ]
  },
  {
   "cell_type": "code",
   "execution_count": null,
   "id": "c95019a4",
   "metadata": {},
   "outputs": [],
   "source": [
    "@testset \"EvaluatePosition with Random Engine\" begin\n",
    "    Random.seed!(123)\n",
    "    testBoard = startboard()\n",
    "    testScore = 0\n",
    "    while !isterminal(testBoard)\n",
    "        move = generateRandomMove(testBoard)\n",
    "        incrementalScore = evaluate_move(testBoard, move, testScore)\n",
    "        undoInfo = domove!(testBoard, move)\n",
    "        actualScore = evaluate_position(testBoard)\n",
    "        @test incrementalScore == actualScore\n",
    "        if incrementalScore != actualScore\n",
    "            undomove!(testBoard, undoInfo)\n",
    "            display(testBoard)\n",
    "            println(move)\n",
    "            domove!(testBoard, move)\n",
    "        end\n",
    "        testScore = actualScore\n",
    "    end\n",
    "end"
   ]
  },
  {
   "cell_type": "markdown",
   "id": "1d5051f6",
   "metadata": {},
   "source": [
    "Special case error from endgame to middlegame"
   ]
  },
  {
   "cell_type": "code",
   "execution_count": null,
   "id": "4c81d4c5",
   "metadata": {},
   "outputs": [],
   "source": [
    "# is endgame\n",
    "b = fromfen(\"1k1n4/1r6/1P6/4pBPp/7P/p3P3/PRp2K2/R4NN1 b - - 0 1\")\n",
    "display(b)\n",
    "println(evaluate_position(b))\n",
    "move = movefromstring(\"c2c1q\")\n",
    "println(evaluate_position(domove(b, move)))\n",
    "evaluate_move(b, move, evaluate_position(b))"
   ]
  },
  {
   "cell_type": "markdown",
   "id": "84053a65",
   "metadata": {},
   "source": [
    "## Profiling"
   ]
  },
  {
   "cell_type": "code",
   "execution_count": null,
   "id": "ffb80002",
   "metadata": {},
   "outputs": [],
   "source": [
    "b5 = fromfen(\"rnb1kbnr/ppp2ppp/8/3Pp3/7q/5N2/PPPP1PPP/RNBQKB1R w KQkq - 0 1\")\n",
    "m5 = movefromstring(\"f3h4\")\n",
    "display(b5)\n",
    "score = evaluate_position(b5)\n",
    "@profview begin\n",
    "    for i in 1:100000\n",
    "        evaluate_move(b5, m5, score)\n",
    "    end\n",
    "end"
   ]
  },
  {
   "cell_type": "markdown",
   "id": "d6584683",
   "metadata": {},
   "source": [
    "## Benchmarking"
   ]
  },
  {
   "cell_type": "code",
   "execution_count": null,
   "id": "4a68a1c7",
   "metadata": {},
   "outputs": [],
   "source": [
    "b5 = fromfen(\"rnb1kbnr/ppp2ppp/8/3Pp3/7q/5N2/PPPP1PPP/RNBQKB1R w KQkq - 0 1\")\n",
    "m5 = movefromstring(\"f3h4\")\n",
    "display(b5)\n",
    "score = evaluate_position(b5)\n",
    "for i in 1:10\n",
    "   @time evaluate_move(b5, m5, score)\n",
    "end"
   ]
  }
 ],
 "metadata": {
  "kernelspec": {
   "display_name": "Julia 1.8.2",
   "language": "julia",
   "name": "julia-1.8"
  },
  "language_info": {
   "file_extension": ".jl",
   "mimetype": "application/julia",
   "name": "julia",
   "version": "1.8.2"
  }
 },
 "nbformat": 4,
 "nbformat_minor": 5
}
