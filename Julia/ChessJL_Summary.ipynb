{
 "cells": [
  {
   "cell_type": "code",
   "execution_count": null,
   "metadata": {},
   "outputs": [],
   "source": [
    "HTML(read(open(\"style.css\"), String))"
   ]
  },
  {
   "cell_type": "markdown",
   "metadata": {},
   "source": [
    "# Important Functions of Chess.jl"
   ]
  },
  {
   "cell_type": "markdown",
   "metadata": {},
   "source": [
    "This notebook explains all functions we will need from the Chess.jl library to achieve our goal of implementing a Chess AI."
   ]
  },
  {
   "cell_type": "markdown",
   "metadata": {},
   "source": [
    "The library `chess.jl` can be installed and imported into the notebook by the standard package manager."
   ]
  },
  {
   "cell_type": "code",
   "execution_count": null,
   "metadata": {},
   "outputs": [],
   "source": [
    "using Pkg"
   ]
  },
  {
   "cell_type": "code",
   "execution_count": null,
   "metadata": {},
   "outputs": [],
   "source": [
    "# Pkg.add(\"Chess\")\n",
    "using Chess, Chess.PGN"
   ]
  },
  {
   "cell_type": "markdown",
   "metadata": {},
   "source": [
    "## Documentation\n",
    "The full documentation and API Reference can be found under: https://romstad.github.io/Chess.jl/dev/"
   ]
  },
  {
   "cell_type": "markdown",
   "metadata": {},
   "source": [
    "## Boards"
   ]
  },
  {
   "cell_type": "markdown",
   "metadata": {},
   "source": [
    "The function `startboard()` returns a chess board in the starting position."
   ]
  },
  {
   "cell_type": "code",
   "execution_count": null,
   "metadata": {},
   "outputs": [],
   "source": [
    "startboard()"
   ]
  },
  {
   "cell_type": "markdown",
   "metadata": {},
   "source": [
    "### Forsyth-Edwards Notation"
   ]
  },
  {
   "cell_type": "markdown",
   "metadata": {},
   "source": [
    "Forsyth-Edwards Notation or short FEN is used to represent any chess position as a single String. The String is separated into # parts separated by spaces.\n",
    "\n",
    "The first part represents the current board position. The board is viewed from white's position meaning that the top row will be the eighth row and the bottom row being the first row. Starting from the top row all pieces on this row from left to right will be notated followed by a slash `/` ending the current row and starting the new row. This is done for each of the eight rows. Pieces are notated using their initial letter of their piece name (exception the Knight using the letter `N`).\n",
    "\n",
    "Pawn => p <br/>\n",
    "Knight => n <br/>\n",
    "Bishop => b <br/>\n",
    "Rook => r <br/>\n",
    "Queen => q <br/>\n",
    "King => k <br/>\n",
    "\n",
    "White pieces are represented using a capital letter and black with lower-case letters. Blank spaces in a row will be represented by the number of consecutive empty spaces. \n",
    "\n",
    "The second part is either the letter `w` for white or `b` for black depending on which sides moves next.\n",
    "\n",
    "The third part represents the castling rights. A capital `K` means that white has the option of castling King/short side. The initial position has all castling rights and therefore has `KQkq` as the third part of the FEN String. If no castling rights are available the third part of the FEN String is represented by a `-`.\n",
    "\n",
    "The forth part of the string is a square the moving side can En passant on. Whenever a pawn moves two squares forward the square one behind that pawn will be listed in this part of the FEN string. If there is no en passant available this part contains a `-` character.\n",
    "\n",
    "The fifth part is the halfmove clock. It represents the number of halfmoves done without capturing a piece or advancing a pawn. It is incremented after every half move and set to 0 if one of the two event occure.\n",
    "\n",
    "The sixth part is the fullmove counter. It shows the number of fullmoves done in the whole game. Initially it is set to 1 and is incremented after black has moved."
   ]
  },
  {
   "cell_type": "markdown",
   "metadata": {},
   "source": [
    "`fromfen(fenstring)` returns a board object given a Forsyth–Edwards Notation String inputted in the argument `fenstring`."
   ]
  },
  {
   "cell_type": "code",
   "execution_count": null,
   "metadata": {
    "scrolled": true
   },
   "outputs": [],
   "source": [
    "spanishOpeningBoard = fromfen(\"r1bqkbnr/1ppp1ppp/p1n5/1B2p3/4P3/5N2/PPPP1PPP/RNBQK2R w KQkq - 0 4\")"
   ]
  },
  {
   "cell_type": "code",
   "execution_count": null,
   "metadata": {},
   "outputs": [],
   "source": [
    "four_knights = fromfen(\"r1bqkb1r/pppp1ppp/2n2n2/4p3/4P3/2N2N2/PPPP1PPP/R1BQKB1R w KQkq - 4 4\")"
   ]
  },
  {
   "cell_type": "markdown",
   "metadata": {},
   "source": [
    "## Move"
   ]
  },
  {
   "cell_type": "markdown",
   "metadata": {},
   "source": [
    "The class `Move` represents a chess move a player can make when it is their turn. A `Move` object contains a `from` square and a `to` square. The from-square determines from where a piece is moved, likewise for the to-square. For this project we will create `Moves` by using the `movefromstring(string)` function."
   ]
  },
  {
   "cell_type": "markdown",
   "metadata": {},
   "source": [
    "### movefromstring function"
   ]
  },
  {
   "cell_type": "markdown",
   "metadata": {},
   "source": [
    "The `movefromstring(string)` function takes in a string and returns a `Move` object if it can parse the string into a chess move. \n",
    "\n",
    "\n",
    "Possible strings are UCI (universal chess interface) move strings. (https://www.chessprogramming.org/UCI)\n",
    "\n",
    "Regular Move:\n",
    "- Strings specifying the from-square and to-square coordinate (e.g. \"e2e4\" => From e2 to e4)\n",
    "\n",
    "Promoting:\n",
    "- Strings specifying the from-square and to-square coordinate and a piece into which the pawn should promote (e.g. \"a7a8q\" => From a7 to a8 promoting to a queen)\n",
    "\n",
    "If it cannot parse the string it will return `nothing`."
   ]
  },
  {
   "cell_type": "code",
   "execution_count": null,
   "metadata": {},
   "outputs": [],
   "source": [
    "movefromstring(\"e2e4\")"
   ]
  },
  {
   "cell_type": "code",
   "execution_count": null,
   "metadata": {},
   "outputs": [],
   "source": [
    "movefromstring(\"a7a8q\")"
   ]
  },
  {
   "cell_type": "markdown",
   "metadata": {},
   "source": [
    "### domove function"
   ]
  },
  {
   "cell_type": "markdown",
   "metadata": {},
   "source": [
    "The `domove(board, move)` function takes in a `board` object and a `move` and returns a new board where the given `move` has been made on the given `board`. Moves an be specified using strings or Move objects. Chess.jl will try to parse the String into a move object."
   ]
  },
  {
   "cell_type": "code",
   "execution_count": null,
   "metadata": {},
   "outputs": [],
   "source": [
    "b = startboard()\n",
    "move = movefromstring(\"e2e4\")\n",
    "domove(b, move)"
   ]
  },
  {
   "cell_type": "code",
   "execution_count": null,
   "metadata": {},
   "outputs": [],
   "source": [
    "b = startboard()\n",
    "domove(b, \"e4\")"
   ]
  },
  {
   "cell_type": "markdown",
   "metadata": {},
   "source": [
    "### domove! function"
   ]
  },
  {
   "cell_type": "markdown",
   "metadata": {},
   "source": [
    "The `domove!(board, move)` function takes in a `board` object and a `move` and applies the given `move` on the given `board` and returns an UndoInfo object. Moves can be specified using strings or Move objects. Chess.jl will try to parse the String into a move object."
   ]
  },
  {
   "cell_type": "code",
   "execution_count": null,
   "metadata": {},
   "outputs": [],
   "source": [
    "b = startboard()\n",
    "domove!(b, \"e4\")\n",
    "b"
   ]
  },
  {
   "cell_type": "code",
   "execution_count": null,
   "metadata": {},
   "outputs": [],
   "source": [
    "b = startboard()\n",
    "domove!(b, \"e4\")"
   ]
  },
  {
   "cell_type": "markdown",
   "metadata": {},
   "source": [
    "### undomove! function"
   ]
  },
  {
   "cell_type": "markdown",
   "metadata": {},
   "source": [
    "The `undomove!(board, UndoInfo)` takes in a board and an `UndoInfo` received from the `domove!(board, move)` function and undoes the move done in the `domove!` function and returns the previous board. "
   ]
  },
  {
   "cell_type": "code",
   "execution_count": null,
   "metadata": {},
   "outputs": [],
   "source": [
    "b = startboard()\n",
    "u = domove!(b, \"e4\")\n",
    "undomove!(b, u)\n",
    "b"
   ]
  },
  {
   "cell_type": "markdown",
   "metadata": {},
   "source": [
    "### moves function"
   ]
  },
  {
   "cell_type": "markdown",
   "metadata": {},
   "source": [
    "The function `moves(board)` takes in a `board` and returns a list containing all legal moves for this board."
   ]
  },
  {
   "cell_type": "code",
   "execution_count": null,
   "metadata": {},
   "outputs": [],
   "source": [
    "b = startboard()\n",
    "moves(b)"
   ]
  },
  {
   "cell_type": "markdown",
   "metadata": {},
   "source": [
    "## Game state"
   ]
  },
  {
   "cell_type": "markdown",
   "metadata": {},
   "source": [
    "The result of a game can be determined using the following methods:\n",
    "- `isterminal(board)`\n",
    "- `ischeckmate(board)`\n",
    "- `isstalemate(board)`\n",
    "- `ismaterialdraw(board)`\n",
    "- `isrule50draw(board)`"
   ]
  },
  {
   "cell_type": "markdown",
   "metadata": {},
   "source": [
    "### isterminal"
   ]
  },
  {
   "cell_type": "markdown",
   "metadata": {},
   "source": [
    "The `isterminal(board)` function takes in a `board` and returns whether the board is in a terminal state or not. A terminal state is a position where the side to move cannot make another legal move. This is reached when the position is in a checkmate, stalemate or when there is insufficient material or when the 50 move rule has been reached."
   ]
  },
  {
   "cell_type": "code",
   "execution_count": null,
   "metadata": {},
   "outputs": [],
   "source": [
    "stafford_gambit_trap = fromfen(\"r2Bk2r/ppp2ppp/2p5/8/4n1b1/3P4/PPP1KbPP/RN1Q1B1R w kq - 2 9\") # position where white is checkmated"
   ]
  },
  {
   "cell_type": "code",
   "execution_count": null,
   "metadata": {},
   "outputs": [],
   "source": [
    "isterminal(stafford_gambit_trap)"
   ]
  },
  {
   "cell_type": "markdown",
   "metadata": {},
   "source": [
    "### ischeckmate"
   ]
  },
  {
   "cell_type": "markdown",
   "metadata": {},
   "source": [
    "The `ischeckmate(board)` function takes in a `board` and returns whether this board has ended in a checkmate or not."
   ]
  },
  {
   "cell_type": "code",
   "execution_count": null,
   "metadata": {},
   "outputs": [],
   "source": [
    "ischeckmate(stafford_gambit_trap)"
   ]
  },
  {
   "cell_type": "markdown",
   "metadata": {},
   "source": [
    "### isstalemate"
   ]
  },
  {
   "cell_type": "markdown",
   "metadata": {},
   "source": [
    "The `isstalemate(board)` function takes in a `board` and returns whether this board has ended in a stalemate or not."
   ]
  },
  {
   "cell_type": "code",
   "execution_count": null,
   "metadata": {},
   "outputs": [],
   "source": [
    "stalemate_board = fromfen(\"5k2/5P2/5K2/8/8/8/8/8 b - - 0 50\") # position where white stalemated black"
   ]
  },
  {
   "cell_type": "code",
   "execution_count": null,
   "metadata": {},
   "outputs": [],
   "source": [
    "isstalemate(stalemate_board)"
   ]
  },
  {
   "cell_type": "markdown",
   "metadata": {},
   "source": [
    "### ismaterialdraw"
   ]
  },
  {
   "cell_type": "markdown",
   "metadata": {},
   "source": [
    "The `ismaterialdraw(board)` function takes in a `board` and returns whether the board still has sufficient material to have a decisive result."
   ]
  },
  {
   "cell_type": "code",
   "execution_count": null,
   "metadata": {},
   "outputs": [],
   "source": [
    "insufficient_material_board = fromfen(\"8/8/4kb2/8/8/3K4/8/8 w - - 0 4\") # position where both sides have insufficient material"
   ]
  },
  {
   "cell_type": "code",
   "execution_count": null,
   "metadata": {},
   "outputs": [],
   "source": [
    "ismaterialdraw(insufficient_material_board)"
   ]
  },
  {
   "cell_type": "markdown",
   "metadata": {},
   "source": [
    "The `isrule50draw(board)` function takes in a `board` and returns whether the 50 move rule has been reached."
   ]
  },
  {
   "cell_type": "code",
   "execution_count": null,
   "metadata": {},
   "outputs": [],
   "source": [
    "fifty_move_board = fromfen(\"8/6k1/8/8/4R3/5r2/1K6/8 b - - 100 108\") # position where 50 move rule has reached"
   ]
  },
  {
   "cell_type": "markdown",
   "metadata": {},
   "source": [
    "Note: fromfen is currently bugged as it does not read the 5th part of a Fen string and therefore does not read the number of halfmoves where no capture or pawn move has been done. Therefore it is initializing a new `Board` with 0 halfmoves."
   ]
  },
  {
   "cell_type": "code",
   "execution_count": null,
   "metadata": {},
   "outputs": [],
   "source": [
    "isrule50draw(fifty_move_board) # should be true"
   ]
  },
  {
   "cell_type": "markdown",
   "metadata": {},
   "source": [
    "## Games"
   ]
  },
  {
   "cell_type": "markdown",
   "metadata": {},
   "source": [
    "The `Game` and the `SimpleGame` class both store information about a whole chess game, such as the move sequence or any information about the game. The `Game` has more options than the `SimpleGame` such as branching of during the game. Therefore the `SimpleGame` performs better compared the the `Game` class."
   ]
  },
  {
   "cell_type": "markdown",
   "metadata": {},
   "source": [
    "The `Game()` function returns a `Game` object in the starting position."
   ]
  },
  {
   "cell_type": "code",
   "execution_count": null,
   "metadata": {},
   "outputs": [],
   "source": [
    "g = Game()"
   ]
  },
  {
   "cell_type": "markdown",
   "metadata": {},
   "source": [
    "The `SimpleGame()` function returns a `Game` object in the starting position."
   ]
  },
  {
   "cell_type": "code",
   "execution_count": null,
   "metadata": {},
   "outputs": [],
   "source": [
    "sg = SimpleGame()"
   ]
  },
  {
   "cell_type": "markdown",
   "metadata": {},
   "source": [
    "The `board(game)` takes in a `game` and returns the current position of the game as a board object."
   ]
  },
  {
   "cell_type": "code",
   "execution_count": null,
   "metadata": {},
   "outputs": [],
   "source": [
    "typeof(board(g))"
   ]
  },
  {
   "cell_type": "markdown",
   "metadata": {},
   "source": [
    "The function `addmove` takes in a `game` and a `move` and adds the move to the given game."
   ]
  },
  {
   "cell_type": "code",
   "execution_count": null,
   "metadata": {},
   "outputs": [],
   "source": [
    "addmove!(g, \"e4\")\n",
    "g"
   ]
  },
  {
   "cell_type": "markdown",
   "metadata": {},
   "source": [
    "The functions `forward!(game)`, `back!(game)`, `tobeginning!(game)`, `toend!(game)` take in a `game` and move the currrent position of the game."
   ]
  },
  {
   "cell_type": "code",
   "execution_count": null,
   "metadata": {},
   "outputs": [],
   "source": [
    "tobeginning!(g)"
   ]
  },
  {
   "cell_type": "code",
   "execution_count": null,
   "metadata": {},
   "outputs": [],
   "source": [
    "forward!(g)"
   ]
  },
  {
   "cell_type": "markdown",
   "metadata": {},
   "source": [
    "## Pieces"
   ]
  },
  {
   "cell_type": "markdown",
   "metadata": {},
   "source": [
    "The `Piece` class represents an instance of any chess piece. It holds information of the type and color of the piece. For example `PIECE_WP` for white pawn, `PIECE_BN` for black knight or `EMPTY` for an empty square. \n",
    "\n",
    "The class `PieceType` represents the type of the piece and therefore has the values `PAWN`, `KNIGHT`, `BISHOP`, `ROOK`, `QUEEN` and `KING`.\n",
    "\n",
    "The class `PieceColor` represents the color a piece and is either `WHITE`, `BLACK` or `COLOR_NONE`. The `COLOR_NONE` is only used for the `EMPTY` piece."
   ]
  },
  {
   "cell_type": "markdown",
   "metadata": {},
   "source": [
    "The constructur `Piece(color, type)` takes in a `PieceColor` and a `PieceType` and returns a `Piece` object with both properties."
   ]
  },
  {
   "cell_type": "code",
   "execution_count": null,
   "metadata": {},
   "outputs": [],
   "source": [
    "Piece(BLACK, KING)"
   ]
  },
  {
   "cell_type": "code",
   "execution_count": null,
   "metadata": {},
   "outputs": [],
   "source": [
    "pieceon(startboard(), FILE_A, RANK_1)"
   ]
  },
  {
   "cell_type": "markdown",
   "metadata": {},
   "source": [
    "The function `ptype(piece)` takes a `piece` and returns the `PieceType` of the piece. The class `PieceType` contains the objects `PAWN`, `KNIGHT`, `BISHOP`, `ROOK`, `QUEEN` and `KING`."
   ]
  },
  {
   "cell_type": "code",
   "execution_count": null,
   "metadata": {},
   "outputs": [],
   "source": [
    "ptype(pieceon(startboard(), FILE_A, RANK_1))"
   ]
  },
  {
   "cell_type": "markdown",
   "metadata": {},
   "source": [
    "The color of a piece is also used for the side to move on the board object."
   ]
  },
  {
   "cell_type": "markdown",
   "metadata": {},
   "source": [
    "The function `sidetomove(board)` takes in a `board` and returns the PieceColor of the side that moves next."
   ]
  },
  {
   "cell_type": "code",
   "execution_count": null,
   "metadata": {},
   "outputs": [],
   "source": [
    "sidetomove(startboard())"
   ]
  },
  {
   "cell_type": "markdown",
   "metadata": {},
   "source": [
    "## PGN files"
   ]
  },
  {
   "cell_type": "markdown",
   "metadata": {},
   "source": [
    "PGN (Portable game notation) can be used to save played games. It stores the moves that happened in the game, as well as some additional information about who the players were, the date of the game or the location of the game. \n",
    "\n",
    "The PGN file contains seven tags which are required. These are the `Event`, `Site`, `Date`, `Round`, `White`, `Black` and `result` Tag. Additionally there are optional tags. The optional tags are `Annotator`, `PlyCount`, `TimeControl`, `Time`, `Termination`, `Mode` and `FEN` Tag."
   ]
  },
  {
   "cell_type": "markdown",
   "metadata": {},
   "source": [
    "Using Chess.jl PGN files can be created from the `Game` or `SimpleGame` object. This way games can be exported and saved in a PGN file. These can be imported later and transformed back into a `Game` object."
   ]
  },
  {
   "cell_type": "markdown",
   "metadata": {},
   "source": [
    "### setheadervalue! function"
   ]
  },
  {
   "cell_type": "markdown",
   "metadata": {},
   "source": [
    "The function `setheadervalue!(game, name, value)` takes in a `Game` or a `Simplegame`, the `name` of the header and a `value` for the header and sets these for the given `Game`. It will create a header if it has not been created or overwrites the value if it has been set.\n",
    "\n",
    "Possible headers specify the Event, Site, Date, Round of the game as well as who played the game. "
   ]
  },
  {
   "cell_type": "code",
   "execution_count": null,
   "metadata": {},
   "outputs": [],
   "source": [
    "g = Game()\n",
    "setheadervalue!(g, \"Date\", \"2023.01.01\")\n",
    "dateplayed(g)"
   ]
  },
  {
   "cell_type": "markdown",
   "metadata": {},
   "source": [
    "### PGN Reader"
   ]
  },
  {
   "cell_type": "markdown",
   "metadata": {},
   "source": [
    "The constructor `PGNReader(io)` takes in an io-Stream and returns a PGNReader which will be used to interact with PGN files."
   ]
  },
  {
   "cell_type": "code",
   "execution_count": null,
   "metadata": {},
   "outputs": [],
   "source": [
    "io = open(\"./../Games/RandomChess.pgn\", \"r\")\n",
    "reader = PGNReader(io)"
   ]
  },
  {
   "cell_type": "markdown",
   "metadata": {},
   "source": [
    "### readgame function"
   ]
  },
  {
   "cell_type": "markdown",
   "metadata": {},
   "source": [
    "The `readgame(PGNReader)` function takes in a `PGNReader` and tries to parse the file from the io-Stream of the PGNReader into a `Game` or `SimpleGame` object. For a full implementation of this see the `PGN_Import.ipynb` notebook."
   ]
  },
  {
   "cell_type": "code",
   "execution_count": null,
   "metadata": {},
   "outputs": [],
   "source": [
    "readgame(reader)"
   ]
  },
  {
   "cell_type": "markdown",
   "metadata": {},
   "source": [
    "### gametopgn function"
   ]
  },
  {
   "cell_type": "markdown",
   "metadata": {},
   "source": [
    "The `gametopgn(g)` function takes in a `Game` or `Simplegame` and parses the game into a pgn file. Note: That this has no labels. For a complete implementation see the `PGN_Export.ipynb` notebook."
   ]
  },
  {
   "cell_type": "code",
   "execution_count": null,
   "metadata": {},
   "outputs": [],
   "source": [
    "g = Game()\n",
    "gametopgn(g)"
   ]
  },
  {
   "cell_type": "code",
   "execution_count": null,
   "metadata": {},
   "outputs": [],
   "source": []
  }
 ],
 "metadata": {
  "kernelspec": {
   "display_name": "Julia 1.8.2",
   "language": "julia",
   "name": "julia-1.8"
  },
  "language_info": {
   "file_extension": ".jl",
   "mimetype": "application/julia",
   "name": "julia",
   "version": "1.8.2"
  }
 },
 "nbformat": 4,
 "nbformat_minor": 4
}
