{
 "cells": [
  {
   "attachments": {},
   "cell_type": "markdown",
   "metadata": {},
   "source": [
    "# Testing Avoid Repetion when Engine have a better position"
   ]
  },
  {
   "cell_type": "code",
   "execution_count": null,
   "metadata": {},
   "outputs": [],
   "source": [
    "using Pkg\n",
    "# Pkg.add(\"NBInclude\")\n",
    "using NBInclude\n",
    "# Pkg.add(\"Chess\")\n",
    "using Chess"
   ]
  },
  {
   "cell_type": "code",
   "execution_count": null,
   "metadata": {},
   "outputs": [],
   "source": [
    "@nbinclude(\"Play.ipynb\")"
   ]
  },
  {
   "cell_type": "code",
   "execution_count": null,
   "metadata": {},
   "outputs": [],
   "source": [
    "\n",
    "# Define a set about the moves (a8,b8,b7)\n",
    "# 1. Loop above game is over (checkmate or draw)\n",
    "# 2. Make Schnittmenge from moves to possible moves\n",
    "# 3. Move Frist Move from Schnittmenge\n",
    "# 3.1 If no Schnittmenge, give User input\n",
    "# 4. Calculate with Iterative Deepening the best move for black and move it.\n",
    "# 5. Repeat 1-4 until game is over\n",
    "function testAvoidRepForWhite(game)\n",
    "    preferredMoves = Set([movefromstring(\"b8a8\"), movefromstring(\"a8b8\"), movefromstring(\"a8b7\"), movefromstring(\"b7a8\"), movefromstring(\"b7b8\"),movefromstring(\"b8b7\") ])\n",
    "    aBoard = AdvBoard(deepcopy(board(game)))\n",
    "    cache = initCache()\n",
    "    while !isterminal(game)\n",
    "        printGame(game)\n",
    "        possibleMoves = Set(moves(board(game)))\n",
    "        intersection = intersect(preferredMoves, possibleMoves)\n",
    "        if length(intersection) > 0\n",
    "            move = first(intersection)\n",
    "        else\n",
    "            println(\"Make a move.\")\n",
    "            userInput = readline()\n",
    "            move = movefromstring(userInput)\n",
    "        end\n",
    "        clearCache(aBoard, move, cache)\n",
    "        domove!(game, move)\n",
    "        domoveAdv!(aBoard, move)\n",
    "        \n",
    "        playMove(game, aBoard, cache)\n",
    "\n",
    "    end\n",
    "    setWin(game, \"\")\n",
    "    println(game)\n",
    "    saveGameToPGN(game)\n",
    "end\n"
   ]
  },
  {
   "cell_type": "code",
   "execution_count": null,
   "metadata": {},
   "outputs": [],
   "source": [
    "b1 = fromfen(\"K7/P6p/2q5/3p1k2/8/8/8/8 w - - 0 1\")\n",
    "testAvoidRepForWhite(Game(b1))"
   ]
  }
 ],
 "metadata": {
  "kernelspec": {
   "display_name": "Julia 1.8.4",
   "language": "julia",
   "name": "julia-1.8"
  },
  "language_info": {
   "file_extension": ".jl",
   "mimetype": "application/julia",
   "name": "julia",
   "version": "1.8.4"
  },
  "orig_nbformat": 4,
  "vscode": {
   "interpreter": {
    "hash": "08415b547472c0b98eef093c39ac019ce382581a8699837391430f56ce2c7631"
   }
  }
 },
 "nbformat": 4,
 "nbformat_minor": 2
}
