{
 "cells": [
  {
   "cell_type": "code",
   "execution_count": null,
   "metadata": {},
   "outputs": [],
   "source": [
    "HTML(read(open(\"style.css\"), String))"
   ]
  },
  {
   "cell_type": "markdown",
   "metadata": {},
   "source": [
    "# Testing Avoid Repetion when Engine have a better position"
   ]
  },
  {
   "cell_type": "code",
   "execution_count": null,
   "metadata": {},
   "outputs": [],
   "source": [
    "using Pkg\n",
    "# Pkg.add(\"NBInclude\")\n",
    "using NBInclude\n",
    "# Pkg.add(\"Chess\")\n",
    "using Chess"
   ]
  },
  {
   "cell_type": "code",
   "execution_count": null,
   "metadata": {
    "scrolled": false
   },
   "outputs": [],
   "source": [
    "@nbinclude(\"PGN_Export.ipynb\")"
   ]
  },
  {
   "cell_type": "code",
   "execution_count": null,
   "metadata": {
    "scrolled": false
   },
   "outputs": [],
   "source": [
    "@nbinclude(\"Utility.ipynb\")"
   ]
  },
  {
   "cell_type": "code",
   "execution_count": null,
   "metadata": {},
   "outputs": [],
   "source": [
    "# Function from Play.ipynb (We decided not to import because of the interactive function that is implemented from Play.ipynb)\n",
    "function playMove(game::Game, aBoard::AdvBoard, cache::Dict{UInt64, Tuple{String, Int64, Int64}})\n",
    "    starttime = time()\n",
    "    #---------------------- Setup Engine ----------------------------\n",
    "    # RANDOM ENGINE\n",
    "    # eval, move = 0, generateRandomMove(game)\n",
    "    \n",
    "    # MINIMAX ENGINE\n",
    "    # eval, move = minimax(board(game), currentcurrent_boardscorescore, 4, cache)\n",
    "\n",
    "    # ALPHA BETA PRUNING ENGINE\n",
    "    # eval, move = alphaBetaPruning(board(game), current_boardscore, 4, cache)\n",
    "\n",
    "    # ITERATIVE DEEPENING ENGINE\n",
    "    println(\"Cache Length before calculation: \", length(cache))\n",
    "    eval, move = iterativeDeepening(aBoard, 8, cache, true, 0.0, true)\n",
    "\n",
    "    #----------------------------------------------------------------\n",
    "    \n",
    "    println(\"The Engine needs to be calculated the bestmove: $(time() - starttime) seconds\")\n",
    "    println(\"Current board score: $(aBoard.score)\")\n",
    "    println(\"Evaluation of engine: $eval\")\n",
    "    println(\"Current entries in Cache: $(length(cache))\")\n",
    "    println(\"Computer play: $move\")\n",
    "    clearCache(aBoard, move, cache)\n",
    "    domove!(game, move)\n",
    "    domoveAdv!(aBoard, move)\n",
    "    cleanCacheBecauseRep!(aBoard, cache)\n",
    "    return aBoard\n",
    "end"
   ]
  },
  {
   "cell_type": "markdown",
   "metadata": {},
   "source": [
    "Function for simulating a game where white tries to draw by stalemate or repetition."
   ]
  },
  {
   "cell_type": "code",
   "execution_count": null,
   "metadata": {},
   "outputs": [],
   "source": [
    "# Define a set about the moves (a8,b8,b7)\n",
    "# 1. Loop above game is over (checkmate or draw)\n",
    "# 2. Make Schnittmenge from moves to possible moves\n",
    "# 3. Move First Move from Schnittmenge\n",
    "# 3.1 If no Schnittmenge, give User input\n",
    "# 4. Calculate with Iterative Deepening the best move for black and move it.\n",
    "# 5. Repeat 1-4 until game is over\n",
    "function testAvoidRepForWhite(game)\n",
    "    preferredMoves = Set([movefromstring(\"b8a8\"), movefromstring(\"a8b8\"), movefromstring(\"a8b7\"), movefromstring(\"b7a8\"), movefromstring(\"b7b8\"),movefromstring(\"b8b7\") ])\n",
    "    aBoard = AdvBoard(deepcopy(board(game)))\n",
    "    cache = initCache()\n",
    "    while !isterminal(game)\n",
    "        printGame(game)\n",
    "        possibleMoves = Set(moves(board(game)))\n",
    "        intersection = intersect(preferredMoves, possibleMoves)\n",
    "        if length(intersection) > 0\n",
    "            move = first(intersection)\n",
    "        else\n",
    "            move = first(possibleMoves)\n",
    "        end\n",
    "        clearCache(aBoard, move, cache)\n",
    "        # cache = initCache()\n",
    "        #println(\"Cache: \", aBoard.repCounter)\n",
    "        #println(\"Board: \", aBoard.state)\n",
    "        #println(\"zobrist hash: \", zobrist_hash(aBoard.state))\n",
    "        #println(\"amount: \", aBoard.repCounter[zobrist_hash(aBoard.state)])\n",
    "        domove!(game, move)\n",
    "        domoveAdv!(aBoard, move)\n",
    "        cleanCacheBecauseRep!(aBoard, cache)\n",
    "        print(aBoard.repCounter)\n",
    "        try\n",
    "            playMove(game, aBoard, cache)\n",
    "        catch e \n",
    "            bt = backtrace()\n",
    "            msg = sprint(showerror, e, bt)\n",
    "            println(msg)\n",
    "            return aBoard, cache\n",
    "        end\n",
    "    end\n",
    "    println(\"--------------------------------------\")\n",
    "    println(\"Cache: \", aBoard.repCounter)\n",
    "    println(\"Board: \", aBoard.state)\n",
    "    println(\"zobrist hash: \", zobrist_hash(aBoard.state))\n",
    "    println(\"amount: \", aBoard.repCounter[zobrist_hash(aBoard.state)])\n",
    "    setWin(game, \"\")\n",
    "    println(game)\n",
    "    saveGameToPGN(game)\n",
    "    return aBoard, cache\n",
    "end"
   ]
  },
  {
   "cell_type": "markdown",
   "metadata": {},
   "source": [
    "In this test below, we check that black should be able to checkmate white. Black should not stalemate or make a draw by repetition."
   ]
  },
  {
   "cell_type": "code",
   "execution_count": null,
   "metadata": {
    "scrolled": false
   },
   "outputs": [],
   "source": [
    "b1 = fromfen(\"K7/P6p/2q5/3p1k2/8/8/8/8 w - - 0 1\")\n",
    "myA, myCache = testAvoidRepForWhite(Game(b1)) # We excpect Black to checkmate white"
   ]
  }
 ],
 "metadata": {
  "kernelspec": {
   "display_name": "Julia 1.8.2",
   "language": "julia",
   "name": "julia-1.8"
  },
  "language_info": {
   "file_extension": ".jl",
   "mimetype": "application/julia",
   "name": "julia",
   "version": "1.8.2"
  },
  "vscode": {
   "interpreter": {
    "hash": "08415b547472c0b98eef093c39ac019ce382581a8699837391430f56ce2c7631"
   }
  }
 },
 "nbformat": 4,
 "nbformat_minor": 2
}
