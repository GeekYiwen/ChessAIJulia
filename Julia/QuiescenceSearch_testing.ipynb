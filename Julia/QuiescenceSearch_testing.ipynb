{
 "cells": [
  {
   "cell_type": "code",
   "execution_count": null,
   "metadata": {},
   "outputs": [],
   "source": [
    "HTML(read(open(\"style.css\"), String))"
   ]
  },
  {
   "cell_type": "markdown",
   "metadata": {},
   "source": [
    "# Quiescence Search Testing"
   ]
  },
  {
   "cell_type": "code",
   "execution_count": null,
   "metadata": {},
   "outputs": [],
   "source": [
    "using Pkg\n",
    "# Pkg.add(\"NBInclude\")\n",
    "using NBInclude\n",
    "# Pkg.add(\"BenchmarkTools\")\n",
    "using BenchmarkTools\n",
    "# using ProfileView"
   ]
  },
  {
   "cell_type": "code",
   "execution_count": null,
   "metadata": {
    "scrolled": true
   },
   "outputs": [],
   "source": [
    "@nbinclude(\"QuiescenceSearch.ipynb\")"
   ]
  },
  {
   "cell_type": "code",
   "execution_count": null,
   "metadata": {},
   "outputs": [],
   "source": [
    "@nbinclude(\"IterativeDeepening.ipynb\")"
   ]
  },
  {
   "cell_type": "markdown",
   "metadata": {},
   "source": [
    "## Benchmarking tests"
   ]
  },
  {
   "cell_type": "code",
   "execution_count": null,
   "metadata": {
    "scrolled": false
   },
   "outputs": [],
   "source": [
    "b1 = fromfen(\"k7/pp5r/7r/7r/7R/7R/PP5R/K7 w - - 0 1\")\n",
    "display(b1)\n",
    "test1 = AdvBoard(b1)\n",
    "cache = initCache()\n",
    "@time begin\n",
    "    # quiesceSee(b2, evaluate_position(b2), -Inf, Inf)\n",
    "    quiesceMax(test1, 0, -200000, 200000)\n",
    "end"
   ]
  },
  {
   "cell_type": "code",
   "execution_count": null,
   "metadata": {
    "scrolled": false
   },
   "outputs": [],
   "source": [
    "cache = initCache()\n",
    "b1 = fromfen(\"rn3rk1/pbppq1pp/1p2pb2/4N2Q/3PN3/3B4/PPP2PPP/R3K2R w KQ - 7 11\")\n",
    "display(b1)\n",
    "test1 = AdvBoard(b1 )\n",
    "\n",
    "@time begin\n",
    "    # @btime quiesceSee(b3, evaluate_position(b3), -Inf, Inf)\n",
    "    quiesceMax(test1, 0, -10000, 10000)\n",
    "end"
   ]
  },
  {
   "cell_type": "code",
   "execution_count": null,
   "metadata": {
    "scrolled": false
   },
   "outputs": [],
   "source": [
    "b1 = fromfen(\"r1b1k2r/pp1nqpp1/4p2p/3pP1N1/8/3BQ3/PP3PPP/2R2RK1 w kq - 0 1\")\n",
    "display(b1)\n",
    "test1 = AdvBoard(b1)\n",
    "cache = initCache()\n",
    "@time begin\n",
    "    # @btime quiesceSee(b4, evaluate_position(b4), -Inf, Inf)\n",
    "    quiesceMax(test1, 0,  -100000, 100000)\n",
    "end"
   ]
  },
  {
   "cell_type": "markdown",
   "metadata": {},
   "source": [
    "Benchmark results:\n",
    "1. noQuiescece 0.027139 seconds (22.88 k allocations: 1.142 MiB, 98.74% compilation time) ==> 215\n",
    "1. quiesce 0.139313 seconds (142.19 k allocations: 7.917 MiB, 85.17% compilation time) ==> 640\n",
    "1. quiesceMax 0.000169 seconds (319 allocations: 23.492 KiB) ==> 215"
   ]
  },
  {
   "cell_type": "code",
   "execution_count": null,
   "metadata": {},
   "outputs": [],
   "source": [
    "b1 = fromfen(\"r1b1k2r/pp1nqpp1/4p2p/3pP1N1/8/3BQ3/PP3PPP/2R2RK1 w kq - 0 1\")\n",
    "display(b1)\n",
    "test1 = AdvBoard(b1)\n",
    "@time quiesceSee(test1, -10000,10000)"
   ]
  }
 ],
 "metadata": {
  "kernelspec": {
   "display_name": "Julia 1.8.2",
   "language": "julia",
   "name": "julia-1.8"
  },
  "language_info": {
   "file_extension": ".jl",
   "mimetype": "application/julia",
   "name": "julia",
   "version": "1.8.2"
  }
 },
 "nbformat": 4,
 "nbformat_minor": 4
}
