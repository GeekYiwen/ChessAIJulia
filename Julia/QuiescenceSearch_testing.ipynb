{
 "cells": [
  {
   "cell_type": "code",
   "execution_count": null,
   "metadata": {},
   "outputs": [],
   "source": [
    "HTML(read(open(\"style.css\"), String))"
   ]
  },
  {
   "cell_type": "markdown",
   "metadata": {},
   "source": [
    "# Quiescence Search Testing"
   ]
  },
  {
   "cell_type": "code",
   "execution_count": null,
   "metadata": {},
   "outputs": [],
   "source": [
    "using Pkg\n",
    "# Pkg.add(\"NBInclude\")\n",
    "using NBInclude\n",
    "# Pkg.add(\"BenchmarkTools\")\n",
    "using BenchmarkTools\n",
    "using ProfileView\n",
    "using Traceur"
   ]
  },
  {
   "cell_type": "code",
   "execution_count": null,
   "metadata": {
    "scrolled": true
   },
   "outputs": [],
   "source": [
    "@nbinclude(\"QuiescenceSearch.ipynb\")"
   ]
  },
  {
   "cell_type": "code",
   "execution_count": null,
   "metadata": {},
   "outputs": [],
   "source": [
    "@nbinclude(\"IterativeDeepening.ipynb\")"
   ]
  },
  {
   "cell_type": "markdown",
   "metadata": {},
   "source": [
    "## Benchmarking tests"
   ]
  },
  {
   "cell_type": "code",
   "execution_count": null,
   "metadata": {
    "scrolled": false
   },
   "outputs": [],
   "source": [
    "b1 = fromfen(\"k7/pp5r/7r/7r/7R/7R/PP5R/K7 w - - 0 1\")\n",
    "display(b1)\n",
    "test1 = AdvBoard(b1)\n",
    "cache = initCache()\n",
    "@time begin\n",
    "    # @btime noQuiesce(b2, evaluate_position(b2))\n",
    "    # quiesceSee(b2, evaluate_position(b2), -Inf, Inf)\n",
    "    # quiesceNoPrune(b2, evaluate_position(b2), zobrist_hash(b2))\n",
    "    # quiesce(b2, evaluate_position(b2), zobrist_hash(b2), 0, -Inf, Inf)\n",
    "    quiesceMax(test1, 0, cache, -200000, 200000)\n",
    "end"
   ]
  },
  {
   "cell_type": "code",
   "execution_count": null,
   "metadata": {
    "scrolled": false
   },
   "outputs": [],
   "source": [
    "b1 = fromfen(\"k7/pp5r/7r/7r/7R/7R/PP5R/K7 w - - 0 1\")\n",
    "display(b1)\n",
    "test1 = AdvBoard(b1)\n",
    "cache = initCache()\n",
    "\n",
    "@trace quiesceMax(test1, 0, cache, -200000, 200000)\n"
   ]
  },
  {
   "cell_type": "code",
   "execution_count": null,
   "metadata": {
    "scrolled": false
   },
   "outputs": [],
   "source": [
    "cache = initCache()\n",
    "b3 = fromfen(\"rn3rk1/pbppq1pp/1p2pb2/4N2Q/3PN3/3B4/PPP2PPP/R3K2R w KQ - 7 11\")\n",
    "display(b3)\n",
    "\n",
    "@time begin\n",
    "    # @btime noQuiesce(b3, evaluate_position(b3))\n",
    "    # @btime quiesceSee(b3, evaluate_position(b3), -Inf, Inf)\n",
    "    # quiesceNoPrune(b3, evaluate_position(b3), zobrist_hash(b3))\n",
    "    # quiesce(b3, evaluate_position(b3), zobrist_hash(b3), 0, -Inf, Inf)\n",
    "    quiesceMax(b3, evaluate_position(b3), zobrist_hash(b3), 0, -Inf, Inf)\n",
    "end"
   ]
  },
  {
   "cell_type": "markdown",
   "metadata": {},
   "source": [
    "Benchmark results of b3 = fromfen(\"rn3rk1/pbppq1pp/1p2pb2/4N2Q/3PN3/3B4/PPP2PPP/R3K2R w KQ - 7 11\")\n",
    "1. noQuiesce   21.700 μs (316 allocations: 25.88 KiB) => -40\n",
    "1. quiesceSee  27.000 μs (391 allocations: 43.20 KiB) => -40\n",
    "1. quiesce     52.700 μs (692 allocations: 45.09 KiB) => -40\n",
    "1. quiesce no Mem  49.100 μs (656 allocations: 44.15 KiB) => -40"
   ]
  },
  {
   "cell_type": "code",
   "execution_count": null,
   "metadata": {
    "scrolled": false
   },
   "outputs": [],
   "source": [
    "b1 = fromfen(\"r1b1k2r/pp1nqpp1/4p2p/3pP1N1/8/3BQ3/PP3PPP/2R2RK1 w kq - 0 1\")\n",
    "display(b1)\n",
    "test1 = AdvBoard(b1)\n",
    "cache = initCache()\n",
    "@time begin\n",
    "    # @btime noQuiesce(b4, evaluate_position(b4))\n",
    "    # @btime quiesceSee(b4, evaluate_position(b4), -Inf, Inf)\n",
    "    # quiesce(b4, evaluate_position(b4), zobrist_hash(b4), 0, -Inf, Inf)\n",
    "    quiesceMax(test1, 0, cache, -200000, 200000)\n",
    "end"
   ]
  },
  {
   "cell_type": "code",
   "execution_count": null,
   "metadata": {},
   "outputs": [],
   "source": [
    "b5 = fromfen(\"8/4k3/8/4p3/8/2BK4/8/q7 w - - 0 1\")\n",
    "display(b5)\n",
    "\n",
    "@time begin\n",
    "    # quiesceNoPrune(b5, evaluate_position(b5), zobrist_hash(b5))\n",
    "    # quiesce(b5, evaluate_position(b5), zobrist_hash(b5), 0, -Inf, Inf)\n",
    "    quiesceMax(b5, evaluate_position(b5), zobrist_hash(b5), 0, -Inf, Inf)\n",
    "end"
   ]
  },
  {
   "cell_type": "markdown",
   "metadata": {},
   "source": [
    "Benchmark results:\n",
    "1. noQuiescece 0.027139 seconds (22.88 k allocations: 1.142 MiB, 98.74% compilation time) ==> 215\n",
    "1. quiesce 0.139313 seconds (142.19 k allocations: 7.917 MiB, 85.17% compilation time) ==> 640\n",
    "1. quiesceMax 0.000169 seconds (319 allocations: 23.492 KiB) ==> 215"
   ]
  },
  {
   "cell_type": "code",
   "execution_count": null,
   "metadata": {},
   "outputs": [],
   "source": [
    "b1 = fromfen(\"rn3rk1/pbppq1pp/1p2pb2/4N2Q/3PN3/3B4/PPP2PPP/R3K2R w KQ - 7 11\")\n",
    "display(b1)\n",
    "@btime see(b1, movefromstring(\"h5e8\"))  #, movefromstring(\"h5e8\")"
   ]
  },
  {
   "cell_type": "markdown",
   "metadata": {},
   "source": [
    "Benchmark results\n",
    "\n",
    "1. chess.jl see function 241.727 ns\n",
    "1. isTactical 213.452 ns\n",
    "1. isQuiet 1610.000 ns\n",
    "    1. 345ns durch moves(State)"
   ]
  }
 ],
 "metadata": {
  "kernelspec": {
   "display_name": "Julia 1.8.2",
   "language": "julia",
   "name": "julia-1.8"
  },
  "language_info": {
   "file_extension": ".jl",
   "mimetype": "application/julia",
   "name": "julia",
   "version": "1.8.2"
  }
 },
 "nbformat": 4,
 "nbformat_minor": 4
}
