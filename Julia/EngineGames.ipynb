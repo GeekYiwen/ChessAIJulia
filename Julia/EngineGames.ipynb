{
 "cells": [
  {
   "cell_type": "code",
   "execution_count": null,
   "metadata": {},
   "outputs": [],
   "source": [
    "HTML(read(open(\"style.css\"), String))"
   ]
  },
  {
   "cell_type": "markdown",
   "metadata": {},
   "source": [
    "# Engine Games"
   ]
  },
  {
   "cell_type": "markdown",
   "metadata": {},
   "source": [
    "This notebook contains functions for 2 engines to play against each other. "
   ]
  },
  {
   "cell_type": "code",
   "execution_count": null,
   "metadata": {},
   "outputs": [],
   "source": [
    "using Pkg\n",
    "# Pkg.add(\"Chess\")\n",
    "using Chess\n",
    "using Random\n",
    "# Pkg.add(\"NBInclude\")\n",
    "using NBInclude"
   ]
  },
  {
   "attachments": {},
   "cell_type": "markdown",
   "metadata": {},
   "source": [
    "# Imports"
   ]
  },
  {
   "cell_type": "code",
   "execution_count": null,
   "metadata": {},
   "outputs": [],
   "source": [
    "@nbinclude(\"AdvancedBoard.ipynb\")"
   ]
  },
  {
   "cell_type": "markdown",
   "metadata": {},
   "source": [
    "## Engines"
   ]
  },
  {
   "cell_type": "code",
   "execution_count": null,
   "metadata": {},
   "outputs": [],
   "source": [
    "@nbinclude(\"RandomChess.ipynb\")"
   ]
  },
  {
   "cell_type": "code",
   "execution_count": null,
   "metadata": {},
   "outputs": [],
   "source": [
    "@nbinclude(\"Minimax.ipynb\")"
   ]
  },
  {
   "cell_type": "code",
   "execution_count": null,
   "metadata": {},
   "outputs": [],
   "source": [
    "@nbinclude(\"AlphaBetaPruning.ipynb\")"
   ]
  },
  {
   "cell_type": "code",
   "execution_count": null,
   "metadata": {},
   "outputs": [],
   "source": [
    "@nbinclude(\"IterativeDeepening.ipynb\")"
   ]
  },
  {
   "cell_type": "markdown",
   "metadata": {},
   "source": [
    "## Utility"
   ]
  },
  {
   "cell_type": "code",
   "execution_count": null,
   "metadata": {},
   "outputs": [],
   "source": [
    "@nbinclude(\"Utility.ipynb\")"
   ]
  },
  {
   "cell_type": "code",
   "execution_count": null,
   "metadata": {},
   "outputs": [],
   "source": [
    "@nbinclude(\"PGN_Export.ipynb\")"
   ]
  },
  {
   "cell_type": "code",
   "execution_count": null,
   "metadata": {},
   "outputs": [],
   "source": [
    "@nbinclude(\"PGN_Import.ipynb\")"
   ]
  },
  {
   "cell_type": "markdown",
   "metadata": {},
   "source": [
    "## Players"
   ]
  },
  {
   "cell_type": "markdown",
   "metadata": {},
   "source": [
    "The `playWhiteMove` function takes in 4 arguments.\n",
    "1. `game` is the current state of type `Game`\n",
    "1. `current_boardscore` is the static evaluation of the position from the perspective of the moving player\n",
    "1. `current_hash` is the hash of the current position\n",
    "1. `cache`  is a dictionary which stores the calculated values\n",
    "\n",
    "The function makes a move for the white player and returns the new score and hash of the position."
   ]
  },
  {
   "cell_type": "code",
   "execution_count": null,
   "metadata": {},
   "outputs": [],
   "source": [
    "function playWhiteMove(game, aBoard::AdvBoard, cache::Dict{UInt64, Tuple{String, Int64, Int64}})\n",
    "    starttime = time()\n",
    "    #---------------------- Setup Engine ----------------------------\n",
    "    # RANDOM ENGINE\n",
    "    # eval, move = 0, generateRandomMove(game)\n",
    "    \n",
    "    # MINIMAX ENGINE\n",
    "    # eval, move = minimax(aBoard, currentcurrent_boardscorescore, 4, cache)\n",
    "\n",
    "    # ALPHA BETA PRUNING ENGINE\n",
    "    # eval, move = alphaBetaPruning(aBoard, 4, cache)\n",
    "\n",
    "    # ITERATIVE DEEPENING ENGINE\n",
    "    eval, move = iterativeDeepening(aBoard, 5, cache)\n",
    "\n",
    "    #----------------------------------------------------------------\n",
    "    clearCache(board(game), move, cache)\n",
    "    domoveAdv!(aBoard, move)\n",
    "    println(\"Time Engine needs to be calculated: $(time() - starttime )\")\n",
    "    println(\"Evaluation of engine: $eval\")\n",
    "    println(\"Current board score: $(aBoard.score)\")\n",
    "    println(\"Current entries in Cache: $(length(cache))\")\n",
    "    display(board(game))\n",
    "    return aBoard\n",
    "end"
   ]
  },
  {
   "cell_type": "markdown",
   "metadata": {},
   "source": [
    "The `playBlackMove` function takes in 4 arguments.\n",
    "1. `game` is the current state of type `Game`\n",
    "1. `current_boardscore` is the static evaluation of the position from the perspective of the moving player\n",
    "1. `current_hash` is the hash of the current position\n",
    "1. `cache`  is a dictionary which stores the calculated values\n",
    "\n",
    "The function makes a move for the black player and returns the new score and hash of the position."
   ]
  },
  {
   "cell_type": "code",
   "execution_count": null,
   "metadata": {},
   "outputs": [],
   "source": [
    "function playBlackMove(game, aBoard::AdvBoard, cache::Dict{UInt64, Tuple{String, Int64, Int64}})\n",
    "    starttime = time()\n",
    "    #---------------------- Setup Engine ----------------------------\n",
    "    # RANDOM ENGINE\n",
    "    # eval, move = 0, generateRandomMove(game)\n",
    "    \n",
    "    # MINIMAX ENGINE\n",
    "    # eval, move = minimax(aBoard, currentcurrent_boardscorescore, 4, cache)\n",
    "    \n",
    "    # ALPHA BETA PRUNING ENGINE\n",
    "    eval, move = alphaBetaPruning(aBoard, 4, cache)\n",
    "    # ITERATIVE DEEPENING ENGINE\n",
    "    # eval, move = iterativeDeepening(aBoard, 2, cache)\n",
    "    \n",
    "    #----------------------------------------------------------------\n",
    "    \n",
    "    clearCache(board(game), move, cache)\n",
    "    domoveAdv!(aBoard, move)\n",
    "    println(\"Time Engine needs to be calculated: $(time() - starttime )\")\n",
    "    println(\"Evaluation of engine: $eval\")\n",
    "    println(\"Current board score: $(aBoard.score)\")\n",
    "    println(\"Current entries in Cache: $(length(cache))\")\n",
    "    display(board(game))\n",
    "    return aBoard\n",
    "end"
   ]
  },
  {
   "cell_type": "markdown",
   "metadata": {},
   "source": [
    "## Game"
   ]
  },
  {
   "cell_type": "markdown",
   "metadata": {},
   "source": [
    "The `playGame` function takes in optional 1 arguments. \n",
    "1. `pgnFile` is optional and default is nothing. 'pgnFile' is the name of the pgn file to be opened. If nothing is passed, the function will generate a new game.\n",
    "\n",
    "The function plays a game between the white and black engines and returns the final state of the game."
   ]
  },
  {
   "cell_type": "code",
   "execution_count": null,
   "metadata": {},
   "outputs": [],
   "source": [
    "function playGame(pgnFile=nothing)\n",
    "    # Setup Board\n",
    "    if pgnFile == nothing\n",
    "        # new Game\n",
    "        println(\"Initializing new Game...\")\n",
    "        game = Game()\n",
    "        display(board(game))\n",
    "        setGameHeaders(game)\n",
    "    else\n",
    "        # continue saved game\n",
    "        println(\"Opening $(pgnFile) ...\")\n",
    "        game = openPGNtoGame(pgnFile)\n",
    "        if game == nothing\n",
    "            println(\"No such file found\")\n",
    "            return\n",
    "        end\n",
    "        toend!(game)\n",
    "        display(game)\n",
    "    end   \n",
    "    cacheWhite = initCache()\n",
    "    cacheBlack = initCache()\n",
    "    moveCount = 1\n",
    "    aBoard = AdvBoard(board(game))\n",
    "    while true\n",
    "        # White Move\n",
    "        \n",
    "        println(\"Move $(moveCount)\")\n",
    "        println(\"White\")\n",
    "        \n",
    "        if !isterminal(game)\n",
    "            # meassure time needed for the engine move\n",
    "            @time begin\n",
    "                aBoard = playWhiteMove(game,aBoard, cacheWhite)\n",
    "            end\n",
    "        else\n",
    "            break\n",
    "        end\n",
    "        \n",
    "        # Black Move\n",
    "        println(\"Black\")\n",
    "        if !isterminal(game)\n",
    "            # meassure time needed for the engine move\n",
    "            @time begin\n",
    "                aBoard = playBlackMove(game,aBoard, cacheBlack)\n",
    "            end\n",
    "        else\n",
    "            break\n",
    "        end\n",
    "        moveCount += 1\n",
    "    end\n",
    "    setWin(game)\n",
    "    saveGameToPGN(game)\n",
    "    return game\n",
    "end"
   ]
  },
  {
   "cell_type": "code",
   "execution_count": null,
   "metadata": {
    "scrolled": false
   },
   "outputs": [],
   "source": [
    "playGame()"
   ]
  }
 ],
 "metadata": {
  "kernelspec": {
   "display_name": "Julia 1.8.2",
   "language": "julia",
   "name": "julia-1.8"
  },
  "language_info": {
   "file_extension": ".jl",
   "mimetype": "application/julia",
   "name": "julia",
   "version": "1.8.2"
  }
 },
 "nbformat": 4,
 "nbformat_minor": 4
}
