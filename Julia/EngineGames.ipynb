{
 "cells": [
  {
   "cell_type": "code",
   "execution_count": null,
   "metadata": {},
   "outputs": [],
   "source": [
    "HTML(read(open(\"style.css\"), String))"
   ]
  },
  {
   "cell_type": "markdown",
   "metadata": {},
   "source": [
    "# Engine Games"
   ]
  },
  {
   "cell_type": "markdown",
   "metadata": {},
   "source": [
    "This notebook contains functions for 2 engines to play against each other. "
   ]
  },
  {
   "cell_type": "code",
   "execution_count": null,
   "metadata": {},
   "outputs": [],
   "source": [
    "using Pkg\n",
    "# Pkg.add(\"Chess\")\n",
    "using Chess\n",
    "using Random\n",
    "# Pkg.add(\"NBInclude\")\n",
    "using NBInclude"
   ]
  },
  {
   "cell_type": "markdown",
   "metadata": {},
   "source": [
    "## Engines"
   ]
  },
  {
   "cell_type": "code",
   "execution_count": null,
   "metadata": {},
   "outputs": [],
   "source": [
    "@nbinclude(\"RandomChess.ipynb\")"
   ]
  },
  {
   "cell_type": "code",
   "execution_count": null,
   "metadata": {},
   "outputs": [],
   "source": [
    "@nbinclude(\"Minimax.ipynb\")"
   ]
  },
  {
   "cell_type": "code",
   "execution_count": null,
   "metadata": {},
   "outputs": [],
   "source": [
    "@nbinclude(\"AlphaBetaPruning.ipynb\")"
   ]
  },
  {
   "cell_type": "code",
   "execution_count": null,
   "metadata": {},
   "outputs": [],
   "source": [
    "@nbinclude(\"IterativeDeepening.ipynb\")"
   ]
  },
  {
   "cell_type": "markdown",
   "metadata": {},
   "source": [
    "## Utility"
   ]
  },
  {
   "cell_type": "code",
   "execution_count": null,
   "metadata": {},
   "outputs": [],
   "source": [
    "@nbinclude(\"Utility.ipynb\")"
   ]
  },
  {
   "cell_type": "code",
   "execution_count": null,
   "metadata": {},
   "outputs": [],
   "source": [
    "@nbinclude(\"PGN_Export.ipynb\")"
   ]
  },
  {
   "cell_type": "code",
   "execution_count": null,
   "metadata": {},
   "outputs": [],
   "source": [
    "@nbinclude(\"PGN_Import.ipynb\")"
   ]
  },
  {
   "cell_type": "markdown",
   "metadata": {},
   "source": [
    "## Players"
   ]
  },
  {
   "cell_type": "markdown",
   "metadata": {},
   "source": [
    "The `playWhiteMove` function takes in 4 arguments.\n",
    "1. `game` is the current state of type `Game`\n",
    "1. `current_boardscore` is the static evaluation of the position from the perspective of the moving player\n",
    "1. `current_hash` is the hash of the current position\n",
    "1. `cache`  is a dictionary which stores the calculated values\n",
    "\n",
    "The function makes a move for the white player and returns the new score and hash of the position."
   ]
  },
  {
   "cell_type": "code",
   "execution_count": null,
   "metadata": {},
   "outputs": [],
   "source": [
    "function playWhiteMove(game::Game, current_boardscore::Int64, current_hash::UInt64,  cache::Dict{UInt64, Tuple{String, Int64, Int64}})\n",
    "    #---------------------- Setup Engine ----------------------------\n",
    "    # RANDOM ENGINE\n",
    "    # eval, move = 0, generateRandomMove(game)\n",
    "    \n",
    "    # MINIMAX ENGINE\n",
    "    # eval, move = minimax(board(game), currentcurrent_boardscorescore, 4, cache)\n",
    "\n",
    "    # ALPHA BETA PRUNING ENGINE\n",
    "    # eval, move = alphaBetaPruning(board(game), current_boardscore, 4, cache)\n",
    "\n",
    "    # ITERATIVE DEEPENING ENGINE\n",
    "    eval, move = iterativeDeepening(board(game), current_boardscore, current_hash, 4, cache)\n",
    "\n",
    "    #----------------------------------------------------------------\n",
    "    \n",
    "    println(\"Evaluation of engine: $eval\")\n",
    "    println(\"Current board score: $current_boardscore\")\n",
    "    println(\"Current entries in Cache: $(length(Cache))\")\n",
    "    clearCache(board(game), move)\n",
    "    current_boardscore = evaluate_move(board(game), move, current_boardscore)\n",
    "    current_hash = zobrist_hash(board(game), current_hash, move)\n",
    "    domove!(game, move)\n",
    "    return current_boardscore, current_hash\n",
    "end"
   ]
  },
  {
   "cell_type": "markdown",
   "metadata": {},
   "source": [
    "The `playBlackMove` function takes in 4 arguments.\n",
    "1. `game` is the current state of type `Game`\n",
    "1. `current_boardscore` is the static evaluation of the position from the perspective of the moving player\n",
    "1. `current_hash` is the hash of the current position\n",
    "1. `cache`  is a dictionary which stores the calculated values\n",
    "\n",
    "The function makes a move for the black player and returns the new score and hash of the position."
   ]
  },
  {
   "cell_type": "code",
   "execution_count": null,
   "metadata": {},
   "outputs": [],
   "source": [
    "function playBlackMove(game::Game, current_boardscore::Int64, current_hash::UInt64, cache::Dict{UInt64, Tuple{String, Int64, Int64}})\n",
    "    #---------------------- Setup Engine ----------------------------\n",
    "    # RANDOM ENGINE\n",
    "    # eval, move = 0, generateRandomMove(game)\n",
    "    \n",
    "    # MINIMAX ENGINE\n",
    "    # eval, move = minimax(board(game), currentcurrent_boardscorescore, 4, cache)\n",
    "\n",
    "    # ALPHA BETA PRUNING ENGINE\n",
    "    # eval, move = alphaBetaPruning(board(game), current_boardscore, 4, cache)\n",
    "\n",
    "    # ITERATIVE DEEPENING ENGINE\n",
    "    eval, move = iterativeDeepening(board(game), current_boardscore, current_hash, 2, cache)\n",
    "\n",
    "    #----------------------------------------------------------------\n",
    "    \n",
    "    println(\"Evaluation of engine: $eval\")\n",
    "    println(\"Current board score: $current_boardscore\")\n",
    "    println(\"Current entries in Cache: $(length(Cache))\")\n",
    "    clearCache(board(game), move)\n",
    "    current_boardscore = evaluate_move(board(game), move, current_boardscore)\n",
    "    current_hash = zobrist_hash(board(game), current_hash, move)\n",
    "    domove!(game, move)\n",
    "    return current_boardscore, current_hash\n",
    "end"
   ]
  },
  {
   "cell_type": "markdown",
   "metadata": {},
   "source": [
    "## Game"
   ]
  },
  {
   "cell_type": "markdown",
   "metadata": {},
   "source": [
    "The `playGame` function takes in optional 1 arguments. \n",
    "1. `pgnFile` is optional and default is nothing. 'pgnFile' is the name of the pgn file to be opened. If nothing is passed, the function will generate a new game.\n",
    "\n",
    "The function plays a game between the white and black engines and returns the final state of the game."
   ]
  },
  {
   "cell_type": "code",
   "execution_count": null,
   "metadata": {},
   "outputs": [],
   "source": [
    "function playGame(pgnFile=nothing)\n",
    "    # Setup Board\n",
    "    if pgnFile == nothing\n",
    "        # new Game\n",
    "        println(\"Initializing new Game...\")\n",
    "        game = Game()\n",
    "        setGameHeaders(game)\n",
    "    else\n",
    "        # continue saved game\n",
    "        println(\"Opening $(pgnFile) ...\")\n",
    "        game = openPGNtoGame(pgnFile)\n",
    "        if game == nothing\n",
    "            println(\"No such file found\")\n",
    "            return\n",
    "        end\n",
    "        toend!(game)\n",
    "        println(game)\n",
    "    end\n",
    "    \n",
    "    current_boardscore = evaluate_position(board(game))\n",
    "    current_hash = zobrist_hash(board(game))\n",
    "    \n",
    "    cacheWhite = initCache()\n",
    "    cacheBlack = initCache()\n",
    "    moveCount = 1\n",
    "    while true\n",
    "        # White Move\n",
    "        \n",
    "        println(\"Move $(moveCount)\")\n",
    "        println(\"White\")\n",
    "        \n",
    "        if !isterminal(game)\n",
    "            # meassure time needed for the engine move\n",
    "            @time begin\n",
    "                current_boardscore, current_hash = playWhiteMove(game, current_boardscore, current_hash, cacheWhite)\n",
    "            end\n",
    "        else\n",
    "            break\n",
    "        end\n",
    "        \n",
    "        # Black Move\n",
    "        println(\"Black\")\n",
    "        if !isterminal(game)\n",
    "            # meassure time needed for the engine move\n",
    "            @time begin\n",
    "                current_boardscore, current_hash = playBlackMove(game, current_boardscore, current_hash, cacheBlack)\n",
    "            end\n",
    "        else\n",
    "            break\n",
    "        end\n",
    "        moveCount += 1\n",
    "    end\n",
    "    setWin(game)\n",
    "    saveGameToPGN(game)\n",
    "    return game\n",
    "end"
   ]
  },
  {
   "cell_type": "code",
   "execution_count": null,
   "metadata": {
    "scrolled": false
   },
   "outputs": [],
   "source": [
    "playGame()"
   ]
  }
 ],
 "metadata": {
  "kernelspec": {
   "display_name": "Julia 1.8.2",
   "language": "julia",
   "name": "julia-1.8"
  },
  "language_info": {
   "file_extension": ".jl",
   "mimetype": "application/julia",
   "name": "julia",
   "version": "1.8.2"
  }
 },
 "nbformat": 4,
 "nbformat_minor": 4
}
