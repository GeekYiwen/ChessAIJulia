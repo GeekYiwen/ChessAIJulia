┌ Warning: dynamic dispatch to (Core.apply_type(StaticArraysCore.Size, Core._apply_iterate(Base.iterate, StaticArraysCore.tuple, Base.getfield(_2, parameters))))()
└ @ C:\Users\Luca\.julia\packages\StaticArraysCore\U2Z1K\src\StaticArraysCore.jl:470
┌ Warning: dynamic dispatch to (Core.apply_type(StaticArrays.SOneTo, _2))()
└ @ C:\Users\Luca\.julia\packages\StaticArrays\B0HhH\src\SOneTo.jl:10
┌ Warning:  is assigned as Union{Nothing, Tuple{Square, SquareSet}}
└ @ C:\Users\Luca\.julia\packages\Chess\29NoD\src\board.jl:1533
┌ Warning:  is assigned as Union{Nothing, Tuple{Square, SquareSet}}
└ @ C:\Users\Luca\.julia\packages\Chess\29NoD\src\board.jl:1538
┌ Warning:  is assigned as Tuple{Int64, Int64}
└ @ array.jl:126
┌ Warning:  is assigned as Union{Nothing, Tuple{Int64, Int64}}
└ @ array.jl:126
┌ Warning:  is assigned as Union{Nothing, Tuple{PieceType, Int64}}
└ @ operators.jl:1242
┌ Warning:  is assigned as Union{Nothing, Tuple{PieceType, Int64}}
└ @ operators.jl:1249
┌ Warning: dynamic dispatch to Base.KeyError(_3)
└ @ dict.jl:498
┌ Warning: dynamic dispatch to Base.KeyError(%new(Chess.PieceType, Base.and_int(Base.getfield(_2, val), 7)))
└ @ d:\{Entwicklungen}\GIT\ChessAIJulia\Julia\EvaluatePosition.ipynb:In[4]:498
┌ Warning: dynamic dispatch to Base.convert(Main.Int64, nothing)
└ @ d:\{Entwicklungen}\GIT\ChessAIJulia\Julia\EvaluatePosition.ipynb:In[4]:5
┌ Warning: dynamic dispatch to Base.KeyError(_3)
└ @ dict.jl:498
┌ Warning:  is assigned as Tuple{Char, Int64}
└ @ io.jl:675
┌ Warning:  is assigned as Nothing
└ @ io.jl:677
┌ Warning: dynamic dispatch to Base.ArgumentError("new length must be ≥ 0")
└ @ array.jl:1239
┌ Warning: dynamic dispatch to Base.ArgumentError("new length must be ≥ 0")
└ @ iobuffer.jl:1239
┌ Warning:  is assigned as Int64
└ @ parse.jl:43
┌ Warning:  is assigned as Union{}
└ @ parse.jl:43
┌ Warning: dynamic dispatch to Base.repr(_5)
└ @ parse.jl:46
┌ Warning: dynamic dispatch to Base.string("invalid base ", _2, " digit ", Base.repr(_5))
└ @ parse.jl:46
┌ Warning: dynamic dispatch to Base.ArgumentError(Base.string("invalid base ", _2, " digit ", Base.repr(_5)))
└ @ parse.jl:46
┌ Warning: dynamic dispatch to Base.ArgumentError($(Expr(:invoke, MethodInstance for Base.print_to_string(::String, ::Vararg{Any}), :(Base.print_to_string), "invalid base: base must be 2 ≤ base ≤ 62, got ", Core.Argument(2))))
└ @ parse.jl:42
┌ Warning:  is assigned as Union{Nothing, Tuple{Int64, Int64}}
└ @ array.jl:1809
┌ Warning:  is assigned as Union{Nothing, Tuple{Int64, Int64}}
└ @ array.jl:1811
┌ Warning:  is assigned as Union{Nothing, Tuple{Int64, Int64}}
└ @ array.jl:1812
┌ Warning:  is assigned as Union{Nothing, Tuple{Int64, Int64}}
└ @ array.jl:1814
┌ Warning:  is assigned as Union{Nothing, Tuple{Int64, Int64}}
└ @ array.jl:1806
┌ Warning:  is assigned as Union{Nothing, Tuple{Int64, Int64}}
└ @ array.jl:1808
┌ Warning: uses global variable Main.pawn_square_table
└ @ d:\{Entwicklungen}\GIT\ChessAIJulia\Julia\EvaluatePosition.ipynb:In[7]:3
┌ Warning: uses global variable Main.knight_square_table
└ @ d:\{Entwicklungen}\GIT\ChessAIJulia\Julia\EvaluatePosition.ipynb:In[7]:3
┌ Warning: uses global variable Main.bishop_square_table
└ @ d:\{Entwicklungen}\GIT\ChessAIJulia\Julia\EvaluatePosition.ipynb:In[7]:3
┌ Warning: uses global variable Main.rook_square_table
└ @ d:\{Entwicklungen}\GIT\ChessAIJulia\Julia\EvaluatePosition.ipynb:In[7]:3
┌ Warning: uses global variable Main.queen_square_table
└ @ d:\{Entwicklungen}\GIT\ChessAIJulia\Julia\EvaluatePosition.ipynb:In[7]:3
┌ Warning: uses global variable Main.king_square_middle_game_table
└ @ d:\{Entwicklungen}\GIT\ChessAIJulia\Julia\EvaluatePosition.ipynb:In[7]:3
┌ Warning: uses global variable Main.king_square_end_game_table
└ @ d:\{Entwicklungen}\GIT\ChessAIJulia\Julia\EvaluatePosition.ipynb:In[7]:22
┌ Warning: uses global variable Main.king_square_end_game_table
└ @ d:\{Entwicklungen}\GIT\ChessAIJulia\Julia\EvaluatePosition.ipynb:In[7]:25
┌ Warning: dynamic dispatch to Base.KeyError(%new(Chess.PieceType, Base.and_int(Base.getfield(_3, val), 7)))
└ @ d:\{Entwicklungen}\GIT\ChessAIJulia\Julia\EvaluatePosition.ipynb:In[7]:498
┌ Warning:  is assigned as Union{Nothing, Tuple{Square, SquareSet}}
└ @ d:\{Entwicklungen}\GIT\ChessAIJulia\Julia\EvaluatePosition.ipynb:In[13]:48
┌ Warning:  is assigned as Union{Nothing, Tuple{Square, SquareSet}}
└ @ d:\{Entwicklungen}\GIT\ChessAIJulia\Julia\EvaluatePosition.ipynb:In[13]:58
┌ Warning:  is assigned as Union{Nothing, Tuple{Square, SquareSet}}
└ @ d:\{Entwicklungen}\GIT\ChessAIJulia\Julia\EvaluatePosition.ipynb:In[13]:67
┌ Warning:  is assigned as Union{Nothing, Tuple{Square, SquareSet}}
└ @ d:\{Entwicklungen}\GIT\ChessAIJulia\Julia\EvaluatePosition.ipynb:In[13]:77
┌ Warning: dynamic dispatch to Base.convert(Main.Int64, nothing)
└ @ d:\{Entwicklungen}\GIT\ChessAIJulia\Julia\EvaluatePosition.ipynb:In[13]:16
