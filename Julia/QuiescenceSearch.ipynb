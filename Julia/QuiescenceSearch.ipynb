{
 "cells": [
  {
   "cell_type": "code",
   "execution_count": 2,
   "metadata": {},
   "outputs": [
    {
     "data": {
      "text/html": [
       "<link href='http://fonts.googleapis.com/css?family=Alegreya+Sans:100,300,400,500,700,800,900,100italic,300italic,400italic,500italic,700italic,800italic,900italic' rel='stylesheet' type='text/css'>\r\n",
       "<link href='http://fonts.googleapis.com/css?family=Arvo:400,700,400italic' rel='stylesheet' type='text/css'>\r\n",
       "<link href='http://fonts.googleapis.com/css?family=PT+Mono' rel='stylesheet' type='text/css'>\r\n",
       "<link href='http://fonts.googleapis.com/css?family=Shadows+Into+Light' rel='stylesheet' type='text/css'>\r\n",
       "<link href='http://fonts.googleapis.com/css?family=Philosopher:400,700,400italic,700italic' rel='stylesheet' type='text/css'>\r\n",
       "\r\n",
       "<style>\r\n",
       "\r\n",
       "@font-face {\r\n",
       "    font-family: \"Computer Modern\";\r\n",
       "    src: url('http://mirrors.ctan.org/fonts/cm-unicode/fonts/otf/cmunss.otf');\r\n",
       "}\r\n",
       "\r\n",
       ".container { width: 100% }\r\n",
       "\r\n",
       "/* Formatting for header cells */\r\n",
       ".text_cell_render h1 {\r\n",
       "    font-family: 'Philosopher', sans-serif;\r\n",
       "    font-weight: 400;\r\n",
       "    font-size: 2.2em;\r\n",
       "    line-height: 100%;\r\n",
       "    color: rgb(0, 80, 120);\r\n",
       "    margin-bottom: 0.1em;\r\n",
       "    margin-top: 0.1em;\r\n",
       "    display: block;\r\n",
       "}\t\r\n",
       ".text_cell_render h2 {\r\n",
       "    font-family: 'Philosopher', serif;\r\n",
       "    font-weight: 400;\r\n",
       "    font-size: 1.9em;\r\n",
       "    line-height: 100%;\r\n",
       "    color: rgb(200,100,0);\r\n",
       "    margin-bottom: 0.1em;\r\n",
       "    margin-top: 0.1em;\r\n",
       "    display: block;\r\n",
       "}\t\r\n",
       "\r\n",
       ".text_cell_render h3 {\r\n",
       "    font-family: 'Philosopher', serif;\r\n",
       "    margin-top:12px;\r\n",
       "    margin-bottom: 3px;\r\n",
       "    font-style: italic;\r\n",
       "    color: rgb(94,127,192);\r\n",
       "}\r\n",
       "\r\n",
       ".text_cell_render h4 {\r\n",
       "    font-family: 'Philosopher', serif;\r\n",
       "}\r\n",
       "\r\n",
       ".text_cell_render h5 {\r\n",
       "    font-family: 'Alegreya Sans', sans-serif;\r\n",
       "    font-weight: 300;\r\n",
       "    font-size: 16pt;\r\n",
       "    color: grey;\r\n",
       "    font-style: italic;\r\n",
       "    margin-bottom: .1em;\r\n",
       "    margin-top: 0.1em;\r\n",
       "    display: block;\r\n",
       "}\r\n",
       "\r\n",
       ".text_cell_render h6 {\r\n",
       "    font-family: 'PT Mono', sans-serif;\r\n",
       "    font-weight: 300;\r\n",
       "    font-size: 10pt;\r\n",
       "    color: grey;\r\n",
       "    margin-bottom: 1px;\r\n",
       "    margin-top: 1px;\r\n",
       "}\r\n",
       "\r\n",
       ".text_cell_render em {\r\n",
       "    font-family: 'Philosopher', sans-serif;\r\n",
       "    color:        blue;\r\n",
       "    background-color: rgb(255,220,180);\r\n",
       "    font-size:    110%;\r\n",
       "    margin-left:   2px;\r\n",
       "    margin-right:  2px;\r\n",
       "    font-weight:   100;\r\n",
       "}\r\n",
       "\r\n",
       ".text_cell_render b {\r\n",
       "    color:            rgb(255,195,195);\r\n",
       "    background-color: rgb(0,0,0);\r\n",
       "    font-size:    110%;\r\n",
       "    margin-left:   2px;\r\n",
       "    margin-right:  2px;\r\n",
       "    font-weight:   650;\r\n",
       "}\r\n",
       "\r\n",
       ".text_cell_render tt {\r\n",
       "    font-size:    120%;\r\n",
       "    margin-left:   2px;\r\n",
       "    margin-right:  2px;\r\n",
       "    font-weight:   150;\r\n",
       "}\r\n",
       "\r\n",
       ".Codemirror {\r\n",
       "    font-family: \"PT Mono\";\r\n",
       "    font-size: 100%;\r\n",
       "}\r\n",
       "\r\n",
       "</style>\r\n",
       "\r\n"
      ],
      "text/plain": [
       "HTML{String}(\"<link href='http://fonts.googleapis.com/css?family=Alegreya+Sans:100,300,400,500,700,800,900,100italic,300italic,400italic,500italic,700italic,800italic,900italic' rel='stylesheet' type='text/css'>\\r\\n<link href='http://fonts.googleapis.com/css?family=Arvo:400,700,400italic' rel='stylesheet' type='text/css'>\\r\\n<link href='http://fonts.googleapis.com/css?family=PT+Mono' rel='stylesheet' type='text/css'>\\r\\n<link href='http://fonts.googleapis.com/css?family=Shadows+Into+Light' rel='stylesheet' type='text/css'>\\r\\n<link href='http://fonts.googleapis.com/css?family=Philosopher:400,700,400italic,700italic' rel='stylesheet' type='text/css'>\\r\\n\\r\\n<style>\\r\\n\\r\\n@font-face {\\r\\n    font-family: \\\"Computer Modern\\\";\\r\\n    src: url('http://mirrors.ctan.org/fonts/cm-unicode/fonts/otf/cmunss.otf');\\r\\n}\\r\\n\\r\\n.container { width: 100% }\\r\\n\\r\\n/* Formatting for header cells */\\r\\n.text_cell_render h1 {\\r\\n    font-family: 'Philosopher', sans-serif;\\r\\n    font-weight: 400;\\r\\n    font-size: 2.2em;\\r\\n    line-height: 100%;\\r\\n    color: rgb(0, 80, 120);\\r\\n    margin-bottom: 0.1em;\\r\\n    margin-top: 0.1em;\\r\\n    display: block;\\r\\n}\\t\\r\\n.text_cell_render h2 {\\r\\n    font-family: 'Philosopher', serif;\\r\\n    font-weight: 400;\\r\\n    font-size: 1.9em;\\r\\n    line-height: 100%;\\r\\n    color: rgb(200,100,0);\\r\\n    margin-bottom: 0.1em;\\r\\n    margin-top: 0.1em;\\r\\n    display: block;\\r\\n}\\t\\r\\n\\r\\n.text_cell_render h3 {\\r\\n    font-family: 'Philosopher', serif;\\r\\n    margin-top:12px;\\r\\n    margin-bottom: 3px;\\r\\n    font-style: italic;\\r\\n    color: rgb(94,127,192);\\r\\n}\\r\\n\\r\\n.text_cell_render h4 {\\r\\n    font-family: 'Philosopher', serif;\\r\\n}\\r\\n\\r\\n.text_cell_render h5 {\\r\\n    font-family: 'Alegreya Sans', sans-serif;\\r\\n    font-weight: 300;\\r\\n    font-size: 16pt;\\r\\n    color: grey;\\r\\n    font-style: italic;\\r\\n    margin-bottom: .1em;\\r\\n    margin-top: 0.1em;\\r\\n    display: block;\\r\\n}\\r\\n\\r\\n.text_cell_render h6 {\\r\\n    font-family: 'PT Mono', sans-serif;\\r\\n    font-weight: 300;\\r\\n    font-size: 10pt;\\r\\n    color: grey;\\r\\n    margin-bottom: 1px;\\r\\n    margin-top: 1px;\\r\\n}\\r\\n\\r\\n.text_cell_render em {\\r\\n    font-family: 'Philosopher', sans-serif;\\r\\n    color:        blue;\\r\\n    background-color: rgb(255,220,180);\\r\\n    font-size:    110%;\\r\\n    margin-left:   2px;\\r\\n    margin-right:  2px;\\r\\n    font-weight:   100;\\r\\n}\\r\\n\\r\\n.text_cell_render b {\\r\\n    color:            rgb(255,195,195);\\r\\n    background-color: rgb(0,0,0);\\r\\n    font-size:    110%;\\r\\n    margin-left:   2px;\\r\\n    margin-right:  2px;\\r\\n    font-weight:   650;\\r\\n}\\r\\n\\r\\n.text_cell_render tt {\\r\\n    font-size:    120%;\\r\\n    margin-left:   2px;\\r\\n    margin-right:  2px;\\r\\n    font-weight:   150;\\r\\n}\\r\\n\\r\\n.Codemirror {\\r\\n    font-family: \\\"PT Mono\\\";\\r\\n    font-size: 100%;\\r\\n}\\r\\n\\r\\n</style>\\r\\n\\r\\n\")"
      ]
     },
     "execution_count": 2,
     "metadata": {},
     "output_type": "execute_result"
    }
   ],
   "source": [
    "HTML(read(open(\"style.css\"), String))"
   ]
  },
  {
   "cell_type": "markdown",
   "metadata": {},
   "source": [
    "# Quiescence Search"
   ]
  },
  {
   "cell_type": "code",
   "execution_count": 3,
   "metadata": {},
   "outputs": [],
   "source": [
    "using Pkg\n",
    "# Pkg.add(\"Chess\")\n",
    "using Chess\n",
    "using NBInclude"
   ]
  },
  {
   "cell_type": "markdown",
   "metadata": {},
   "source": [
    "[Chess Programming Wiki \"Quiescence Search\"](https://www.chessprogramming.org/Quiescence_Search)"
   ]
  },
  {
   "cell_type": "code",
   "execution_count": 4,
   "metadata": {},
   "outputs": [
    {
     "data": {
      "text/plain": [
       "updateBoardData (generic function with 1 method)"
      ]
     },
     "execution_count": 4,
     "metadata": {},
     "output_type": "execute_result"
    }
   ],
   "source": [
    "@nbinclude(\"Memoization.ipynb\")"
   ]
  },
  {
   "cell_type": "markdown",
   "metadata": {},
   "source": [
    "## Auxiliary functions"
   ]
  },
  {
   "attachments": {},
   "cell_type": "markdown",
   "metadata": {},
   "source": [
    "### Function: hasCaptureMoves\n",
    "This function takes in a chess game state and returns a boolean indicating whether there are any capture moves available for the opponent.\n",
    "\n",
    "Arguments:\n",
    "1. `State::Board:` A chess board in the current state.\n",
    "\n",
    "Returns:\n",
    "1. `true`: if there are any capture moves available for the opponent, `false` otherwise."
   ]
  },
  {
   "cell_type": "code",
   "execution_count": 2,
   "metadata": {},
   "outputs": [
    {
     "data": {
      "text/plain": [
       "hasCaptureMoves (generic function with 1 method)"
      ]
     },
     "execution_count": 2,
     "metadata": {},
     "output_type": "execute_result"
    }
   ],
   "source": [
    "function hasCaptureMoves(State)\n",
    "    allPiecesSq = pieces(State, coloropp(sidetomove(State)))\n",
    "    return any(isattacked(State, square, coloropp(sidetomove(State))) for square in allPiecesSq)\n",
    "end"
   ]
  },
  {
   "cell_type": "code",
   "execution_count": 6,
   "metadata": {},
   "outputs": [
    {
     "data": {
      "text/plain": [
       "isTacticalMove (generic function with 1 method)"
      ]
     },
     "execution_count": 6,
     "metadata": {},
     "output_type": "execute_result"
    }
   ],
   "source": [
    "function isTacticalMove(State, move)\n",
    "    if pieceon(State, to(move)) != EMPTY || ispromotion(move) || epsquare(State) == to(move)\n",
    "        return true\n",
    "    end\n",
    "    undoinfo = domove!(State, move)\n",
    "    isNextMoveCheck = ischeck(State)\n",
    "    undomove!(State, undoinfo)\n",
    "    \n",
    "    return isNextMoveCheck\n",
    "end "
   ]
  },
  {
   "cell_type": "code",
   "execution_count": 7,
   "metadata": {},
   "outputs": [
    {
     "data": {
      "text/plain": [
       "isQuiet (generic function with 1 method)"
      ]
     },
     "execution_count": 7,
     "metadata": {},
     "output_type": "execute_result"
    }
   ],
   "source": [
    "function isQuiet(State)\n",
    "    return any(isTacticalMove(State, move) for move in moves(State))\n",
    "\n",
    "end"
   ]
  },
  {
   "cell_type": "markdown",
   "metadata": {},
   "source": [
    "## no Quiescence Search"
   ]
  },
  {
   "cell_type": "code",
   "execution_count": 8,
   "metadata": {},
   "outputs": [
    {
     "data": {
      "text/plain": [
       "noQuiesce (generic function with 1 method)"
      ]
     },
     "execution_count": 8,
     "metadata": {},
     "output_type": "execute_result"
    }
   ],
   "source": [
    "function noQuiesce(State, score)\n",
    "    return score\n",
    "end"
   ]
  },
  {
   "cell_type": "markdown",
   "metadata": {},
   "source": [
    "## General Quiescence Search"
   ]
  },
  {
   "cell_type": "code",
   "execution_count": 9,
   "metadata": {},
   "outputs": [
    {
     "data": {
      "text/plain": [
       "quiesceNoPrune (generic function with 1 method)"
      ]
     },
     "execution_count": 9,
     "metadata": {},
     "output_type": "execute_result"
    }
   ],
   "source": [
    "function quiesceNoPrune(State, score, hash)\n",
    "    bestscore = score\n",
    "    for move in moves(State)\n",
    "        if isTacticalMove(State, move)\n",
    "            nextScore, nextHash = updateBoardData(State, score, hash, move)\n",
    "            # nextBoard = domove(State, move)\n",
    "            undoinfo = domove!(State, move)\n",
    "            # value = -evaluate(State, quiesce, nextScore, nextHash, depth-1, -beta, -alpha)\n",
    "            value = quiesceNoPrune(State, nextScore, nextHash)\n",
    "            undomove!(State, undoinfo)\n",
    "            bestscore = sidetomove(State) == WHITE ? max(bestscore, value) : min(bestscore, value)\n",
    "        end\n",
    "    end\n",
    "    \n",
    "    return bestscore\n",
    "end"
   ]
  },
  {
   "cell_type": "code",
   "execution_count": 10,
   "metadata": {},
   "outputs": [
    {
     "data": {
      "text/plain": [
       "quiesce (generic function with 1 method)"
      ]
     },
     "execution_count": 10,
     "metadata": {},
     "output_type": "execute_result"
    }
   ],
   "source": [
    "function quiesce(State, score, hash, depth, alpha, beta)\n",
    "    display(State)\n",
    "    println(\"$(score), $(depth), $(alpha), $(beta)\")\n",
    "    value = score\n",
    "    if value >= beta\n",
    "        println(\"Pruned 1\")\n",
    "        return beta\n",
    "    end\n",
    "    if value > alpha\n",
    "        alpha = value\n",
    "    end\n",
    "    for move in moves(State)\n",
    "        if isTacticalMove(State, move)\n",
    "            nextScore, nextHash = updateBoardData(State, score, hash, move)\n",
    "            \n",
    "            undoinfo = domove!(State, move)\n",
    "            \n",
    "            # value = -evaluate(State, quiesce, nextScore, nextHash, depth-1, -beta, -alpha)\n",
    "            value = -quiesce(State, nextScore, nextHash, depth-1, -beta, -alpha)\n",
    "            \n",
    "            println(value)\n",
    "            undomove!(State, undoinfo)\n",
    "            \n",
    "            if value >= beta\n",
    "                return beta\n",
    "            end\n",
    "            if value > alpha\n",
    "                alpha = value\n",
    "            end\n",
    "        end\n",
    "    end\n",
    "    \n",
    "    return alpha\n",
    "end"
   ]
  },
  {
   "cell_type": "markdown",
   "metadata": {},
   "source": [
    "## Quiescence Min and Max"
   ]
  },
  {
   "cell_type": "code",
   "execution_count": 11,
   "metadata": {},
   "outputs": [
    {
     "data": {
      "text/plain": [
       "quiesceMax (generic function with 1 method)"
      ]
     },
     "execution_count": 11,
     "metadata": {},
     "output_type": "execute_result"
    }
   ],
   "source": [
    "function quiesceMax(State, score, hash, depth, alpha, beta)\n",
    "    value = score\n",
    "    if value >= beta\n",
    "        return beta\n",
    "    end\n",
    "    if value > alpha\n",
    "        alpha = value\n",
    "    end\n",
    "    for move in moves(State)\n",
    "        if isTacticalMove(State, move)\n",
    "            nextScore, nextHash = updateBoardData(State, score, hash, move)\n",
    "            \n",
    "            undoinfo = domove!(State, move)\n",
    "            # value = -evaluate(State, quiesce, nextScore, nextHash, depth-1, -beta, -alpha)\n",
    "            value = quiesceMin(State, nextScore, nextHash, depth-1, alpha, beta)\n",
    "            undomove!(State, undoinfo)\n",
    "            \n",
    "            if value >= beta\n",
    "                return beta\n",
    "            end\n",
    "            if value > alpha\n",
    "                alpha = value\n",
    "            end\n",
    "        end\n",
    "    end\n",
    "    \n",
    "    return alpha\n",
    "end"
   ]
  },
  {
   "cell_type": "code",
   "execution_count": 12,
   "metadata": {},
   "outputs": [
    {
     "data": {
      "text/plain": [
       "quiesceMin (generic function with 1 method)"
      ]
     },
     "execution_count": 12,
     "metadata": {},
     "output_type": "execute_result"
    }
   ],
   "source": [
    "function quiesceMin(State, score, hash, depth, alpha, beta)\n",
    "    value = score\n",
    "    if value <= alpha\n",
    "        return alpha\n",
    "    end\n",
    "    if value < beta\n",
    "        beta = value\n",
    "    end\n",
    "    for move in moves(State)\n",
    "        if isTacticalMove(State, move)\n",
    "            nextScore, nextHash = updateBoardData(State, score, hash, move)\n",
    "            \n",
    "            undoinfo = domove!(State, move)\n",
    "            # value = -evaluate(State, quiesce, nextScore, nextHash, depth-1, -beta, -alpha)\n",
    "            value = quiesceMax(State, nextScore, nextHash, depth-1, alpha, beta)\n",
    "            undomove!(State, undoinfo)\n",
    "            \n",
    "            if value <= alpha\n",
    "                return alpha\n",
    "            end\n",
    "            if value < beta\n",
    "                beta = value\n",
    "            end\n",
    "        end\n",
    "    end\n",
    "    \n",
    "    return beta\n",
    "end"
   ]
  },
  {
   "cell_type": "markdown",
   "metadata": {},
   "source": [
    "## Quiescence Search with see() function"
   ]
  },
  {
   "cell_type": "code",
   "execution_count": 13,
   "metadata": {},
   "outputs": [
    {
     "data": {
      "text/plain": [
       "quiesceSee (generic function with 1 method)"
      ]
     },
     "execution_count": 13,
     "metadata": {},
     "output_type": "execute_result"
    }
   ],
   "source": [
    "function quiesceSee(State, score, alpha, beta)\n",
    "    value = score\n",
    "    if value >= beta\n",
    "        return beta\n",
    "    end\n",
    "    if value > alpha\n",
    "        alpha = value\n",
    "    end\n",
    "    if sidetomove(State) == WHITE\n",
    "        bestEstimate = -Inf\n",
    "        for move in moves(State)\n",
    "            bestEstimate = max(bestEstimate, see(State, move))\n",
    "        end\n",
    "    else \n",
    "        bestEstimate = Inf\n",
    "        for move in moves(State)\n",
    "            bestEstimate = min(bestEstimate, see(State, move))\n",
    "        end\n",
    "    end\n",
    "\n",
    "    return value + bestEstimate * 100\n",
    "end"
   ]
  },
  {
   "cell_type": "code",
   "execution_count": 14,
   "metadata": {},
   "outputs": [
    {
     "data": {
      "text/plain": [
       "quiesceSee (generic function with 1 method)"
      ]
     },
     "execution_count": 14,
     "metadata": {},
     "output_type": "execute_result"
    }
   ],
   "source": [
    "function quiesceSee(State, score, alpha, beta)\n",
    "    value = score\n",
    "    if value >= beta\n",
    "        return beta\n",
    "    end\n",
    "    if value > alpha\n",
    "        alpha = value\n",
    "    end\n",
    "    if sidetomove(State) == WHITE\n",
    "        bestEstimate = -Inf\n",
    "        for move in moves(State)\n",
    "            bestEstimate = max(bestEstimate, see(State, move))\n",
    "        end\n",
    "    else \n",
    "        bestEstimate = Inf\n",
    "        for move in moves(State)\n",
    "            bestEstimate = min(bestEstimate, see(State, move))\n",
    "        end\n",
    "    end\n",
    "\n",
    "    return value + bestEstimate * 100\n",
    "end"
   ]
  },
  {
   "cell_type": "markdown",
   "metadata": {},
   "source": [
    "## Strategic Quiescence Search"
   ]
  },
  {
   "cell_type": "code",
   "execution_count": 15,
   "metadata": {},
   "outputs": [
    {
     "data": {
      "text/plain": [
       "evalPlus (generic function with 1 method)"
      ]
     },
     "execution_count": 15,
     "metadata": {},
     "output_type": "execute_result"
    }
   ],
   "source": [
    "function evalPlus(State)\n",
    "    if isCheck(State)\n",
    "        return Inf\n",
    "    end\n",
    "    if hasCaptureMoves(State) && ispromotion(State)\n",
    "    end\n",
    "end"
   ]
  },
  {
   "cell_type": "code",
   "execution_count": 16,
   "metadata": {},
   "outputs": [
    {
     "data": {
      "text/plain": [
       "strategicQS (generic function with 1 method)"
      ]
     },
     "execution_count": 16,
     "metadata": {},
     "output_type": "execute_result"
    }
   ],
   "source": [
    "function strategicQS(State, score, hash, alpha, beta)\n",
    "    value = score\n",
    "    if value >= beta\n",
    "        return beta\n",
    "    end\n",
    "    if value > alpha\n",
    "        alpha = value\n",
    "    end\n",
    "    \n",
    "    for move in moves(State)\n",
    "        nextScore, nextHash = updateBoardData(State, score, hash, move)\n",
    "        undoinfo = domove!(State, move)\n",
    "        evalPlusValue = evalPlus(State)\n",
    "        if evalPlusValue > alpha\n",
    "            actVal = -strategicQS(State, nextScore, nextHash, -beta, -alpha)\n",
    "            if actVal > value\n",
    "                value = actVal\n",
    "                if value >= beta\n",
    "                    return beta\n",
    "                end\n",
    "                if value > alpha\n",
    "                    alpha = value\n",
    "                end\n",
    "            end\n",
    "        elseif evalPlusValue > value\n",
    "            value = evalPlusValue\n",
    "        end\n",
    "        undomove!(State, move)\n",
    "    end\n",
    "    return value\n",
    "end"
   ]
  },
  {
   "cell_type": "code",
   "execution_count": null,
   "metadata": {},
   "outputs": [],
   "source": []
  }
 ],
 "metadata": {
  "kernelspec": {
   "display_name": "Julia 1.8.2",
   "language": "julia",
   "name": "julia-1.8"
  },
  "language_info": {
   "file_extension": ".jl",
   "mimetype": "application/julia",
   "name": "julia",
   "version": "1.8.2"
  }
 },
 "nbformat": 4,
 "nbformat_minor": 4
}
