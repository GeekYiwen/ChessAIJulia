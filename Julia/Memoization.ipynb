{
 "cells": [
  {
   "cell_type": "markdown",
   "metadata": {},
   "source": [
    "Notice! Memoization has been added direktly. This is the generic function which will be used later on."
   ]
  },
  {
   "cell_type": "markdown",
   "metadata": {},
   "source": [
    "# Memoization\n",
    "\n",
    "This notebook contains alle functions needed for memoizing function calls that we have already calculated. This will greatly reduce the runtime of the program.  "
   ]
  },
  {
   "cell_type": "markdown",
   "metadata": {},
   "source": [
    "Declare global Variable gCache"
   ]
  },
  {
   "cell_type": "code",
   "execution_count": 5,
   "metadata": {},
   "outputs": [
    {
     "data": {
      "text/plain": [
       "Dict{Any, Any}()"
      ]
     },
     "execution_count": 5,
     "metadata": {},
     "output_type": "execute_result"
    }
   ],
   "source": [
    "gCache = Dict()"
   ]
  },
  {
   "cell_type": "code",
   "execution_count": 14,
   "metadata": {},
   "outputs": [
    {
     "data": {
      "text/plain": [
       "memoize (generic function with 1 method)"
      ]
     },
     "execution_count": 14,
     "metadata": {},
     "output_type": "execute_result"
    }
   ],
   "source": [
    "function memoize(f)\n",
    "    global gCache\n",
    "    function f_memoized(b, s, d)    # TODO: replace (b, s, d) with args... to make function generic\n",
    "        if (b, s, d) in keys(gCache)\n",
    "            return gCache[args]\n",
    "        end\n",
    "        result = f(b, s, d)\n",
    "        merge!(gCache, Dict((b, s, d) => result))\n",
    "        return result\n",
    "    end\n",
    "    return f_memoized\n",
    "end"
   ]
  },
  {
   "cell_type": "code",
   "execution_count": 15,
   "metadata": {},
   "outputs": [
    {
     "data": {
      "text/plain": [
       "add (generic function with 2 methods)"
      ]
     },
     "execution_count": 15,
     "metadata": {},
     "output_type": "execute_result"
    }
   ],
   "source": [
    "function add(x, y, z)\n",
    "    return x + y + z\n",
    "end"
   ]
  },
  {
   "cell_type": "code",
   "execution_count": 16,
   "metadata": {
    "scrolled": true
   },
   "outputs": [
    {
     "data": {
      "text/plain": [
       "7"
      ]
     },
     "execution_count": 16,
     "metadata": {},
     "output_type": "execute_result"
    }
   ],
   "source": [
    "add(1, 2, 4)"
   ]
  },
  {
   "cell_type": "code",
   "execution_count": 17,
   "metadata": {},
   "outputs": [
    {
     "data": {
      "text/plain": [
       "(::var\"#f_memoized#3\"{typeof(add)}) (generic function with 1 method)"
      ]
     },
     "execution_count": 17,
     "metadata": {},
     "output_type": "execute_result"
    }
   ],
   "source": [
    "newf = memoize(add)"
   ]
  },
  {
   "cell_type": "code",
   "execution_count": 18,
   "metadata": {},
   "outputs": [
    {
     "data": {
      "text/plain": [
       "6"
      ]
     },
     "execution_count": 18,
     "metadata": {},
     "output_type": "execute_result"
    }
   ],
   "source": [
    "newf(1, 2, 3)"
   ]
  },
  {
   "cell_type": "code",
   "execution_count": 19,
   "metadata": {},
   "outputs": [
    {
     "data": {
      "text/plain": [
       "Dict{Any, Any} with 1 entry:\n",
       "  (1, 2, 3) => 6"
      ]
     },
     "execution_count": 19,
     "metadata": {},
     "output_type": "execute_result"
    }
   ],
   "source": [
    "gCache"
   ]
  },
  {
   "cell_type": "code",
   "execution_count": 29,
   "metadata": {},
   "outputs": [
    {
     "data": {
      "text/html": [
       "# 1 method for callable object:<ul><li> (::<b>var\"#f_memoized#2\"</b>)(args...) in Main at In[20]:3</li> </ul>"
      ],
      "text/plain": [
       "# 1 method for callable object:\n",
       "[1] (::var\"#f_memoized#2\")(args...) in Main at In[20]:3"
      ]
     },
     "execution_count": 29,
     "metadata": {},
     "output_type": "execute_result"
    }
   ],
   "source": [
    "methods(newf)"
   ]
  },
  {
   "cell_type": "code",
   "execution_count": 25,
   "metadata": {},
   "outputs": [
    {
     "data": {
      "text/html": [
       "# 2 methods for generic function <b>add</b>:<ul><li> add(x, y) in Main at In[20]:1</li> <li> add(x, y, z) in Main at In[25]:1</li> </ul>"
      ],
      "text/plain": [
       "# 2 methods for generic function \"add\":\n",
       "[1] add(x, y) in Main at In[20]:1\n",
       "[2] add(x, y, z) in Main at In[25]:1"
      ]
     },
     "execution_count": 25,
     "metadata": {},
     "output_type": "execute_result"
    }
   ],
   "source": [
    "add(x, y, z) = invoke(memoize(add), Tuple{Any, Any, Any}, x, y, z)\n",
    "methods(add)"
   ]
  },
  {
   "cell_type": "code",
   "execution_count": 24,
   "metadata": {},
   "outputs": [
    {
     "ename": "LoadError",
     "evalue": "StackOverflowError:",
     "output_type": "error",
     "traceback": [
      "StackOverflowError:",
      "",
      "Stacktrace:",
      "     [1] (::var\"#f_memoized#3\"{typeof(add)})(b::Int64, s::Int64, d::Int64)",
      "       @ Main .\\In[14]:4",
      "     [2] add(x::Int64, y::Int64, z::Int64)",
      "       @ Main .\\In[23]:1",
      "     [3] (::var\"#f_memoized#3\"{typeof(add)})(b::Int64, s::Int64, d::Int64)",
      "       @ Main .\\In[14]:7",
      "--- the last 2 lines are repeated 16309 more times ---",
      " [32622] add(x::Int64, y::Int64, z::Int64)",
      "       @ Main .\\In[23]:1",
      " [32623] eval",
      "       @ .\\boot.jl:368 [inlined]"
     ]
    }
   ],
   "source": [
    "add(11, 4, 6)"
   ]
  },
  {
   "cell_type": "code",
   "execution_count": 22,
   "metadata": {},
   "outputs": [
    {
     "data": {
      "text/plain": [
       "Dict{Any, Any} with 1 entry:\n",
       "  (1, 2, 3) => 6"
      ]
     },
     "execution_count": 22,
     "metadata": {},
     "output_type": "execute_result"
    }
   ],
   "source": [
    "gCache"
   ]
  },
  {
   "cell_type": "code",
   "execution_count": 7,
   "metadata": {},
   "outputs": [
    {
     "data": {
      "text/plain": [
       "add2 (generic function with 1 method)"
      ]
     },
     "execution_count": 7,
     "metadata": {},
     "output_type": "execute_result"
    }
   ],
   "source": [
    "function add2(x, y)\n",
    "    return x+y+1\n",
    "end"
   ]
  },
  {
   "cell_type": "code",
   "execution_count": 8,
   "metadata": {},
   "outputs": [
    {
     "data": {
      "text/plain": [
       "add (generic function with 1 method)"
      ]
     },
     "execution_count": 8,
     "metadata": {},
     "output_type": "execute_result"
    }
   ],
   "source": [
    "add(x, y) = invoke(add2, Tuple{Any, Any}, x, y)"
   ]
  },
  {
   "cell_type": "code",
   "execution_count": 10,
   "metadata": {},
   "outputs": [
    {
     "data": {
      "text/html": [
       "# 1 method for generic function <b>add</b>:<ul><li> add(x, y) in Main at In[8]:1</li> </ul>"
      ],
      "text/plain": [
       "# 1 method for generic function \"add\":\n",
       "[1] add(x, y) in Main at In[8]:1"
      ]
     },
     "execution_count": 10,
     "metadata": {},
     "output_type": "execute_result"
    }
   ],
   "source": [
    "methods(add)"
   ]
  },
  {
   "cell_type": "code",
   "execution_count": 16,
   "metadata": {},
   "outputs": [
    {
     "ename": "LoadError",
     "evalue": "StackOverflowError:",
     "output_type": "error",
     "traceback": [
      "StackOverflowError:",
      "",
      "Stacktrace:",
      "     [1] (::var\"#f_memoized#1\"{typeof(add)})(::Int64, ::Vararg{Int64})",
      "       @ Main .\\In[2]:3",
      "     [2] add(x::Int64, y::Int64)",
      "       @ Main .\\In[15]:1",
      "     [3] (::var\"#f_memoized#1\"{typeof(add)})(::Int64, ::Vararg{Int64})",
      "       @ Main .\\In[2]:7",
      "--- the last 2 lines are repeated 10872 more times ---",
      " [21748] add(x::Int64, y::Int64)",
      "       @ Main .\\In[15]:1",
      " [21749] eval",
      "       @ .\\boot.jl:368 [inlined]"
     ]
    }
   ],
   "source": [
    "add(2, 3)"
   ]
  },
  {
   "cell_type": "code",
   "execution_count": 18,
   "metadata": {},
   "outputs": [
    {
     "data": {
      "text/plain": [
       "var\"#f_memoized#1\"{typeof(add)}"
      ]
     },
     "execution_count": 18,
     "metadata": {},
     "output_type": "execute_result"
    }
   ],
   "source": [
    "typeof(memoize(add))"
   ]
  },
  {
   "cell_type": "code",
   "execution_count": 54,
   "metadata": {},
   "outputs": [
    {
     "data": {
      "text/plain": [
       "foo (generic function with 1 method)"
      ]
     },
     "execution_count": 54,
     "metadata": {},
     "output_type": "execute_result"
    }
   ],
   "source": [
    "function foo(x, y)\n",
    "end"
   ]
  },
  {
   "cell_type": "code",
   "execution_count": 56,
   "metadata": {},
   "outputs": [
    {
     "ename": "LoadError",
     "evalue": "UndefVarError: argumentf not defined",
     "output_type": "error",
     "traceback": [
      "UndefVarError: argumentf not defined",
      "",
      "Stacktrace:",
      " [1] top-level scope",
      "   @ In[56]:1",
      " [2] eval",
      "   @ .\\boot.jl:368 [inlined]",
      " [3] include_string(mapexpr::typeof(REPL.softscope), mod::Module, code::String, filename::String)",
      "   @ Base .\\loading.jl:1428"
     ]
    }
   ],
   "source": [
    "argumentf(foo)"
   ]
  },
  {
   "cell_type": "code",
   "execution_count": null,
   "metadata": {},
   "outputs": [],
   "source": []
  }
 ],
 "metadata": {
  "kernelspec": {
   "display_name": "Julia 1.8.2",
   "language": "julia",
   "name": "julia-1.8"
  },
  "language_info": {
   "file_extension": ".jl",
   "mimetype": "application/julia",
   "name": "julia",
   "version": "1.8.2"
  }
 },
 "nbformat": 4,
 "nbformat_minor": 4
}
