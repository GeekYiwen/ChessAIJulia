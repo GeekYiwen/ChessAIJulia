{
 "cells": [
  {
   "cell_type": "code",
   "execution_count": null,
   "metadata": {},
   "outputs": [],
   "source": [
    "HTML(read(open(\"style.css\"), String))"
   ]
  },
  {
   "cell_type": "markdown",
   "metadata": {},
   "source": [
    "# Memoization\n",
    "\n",
    "This notebook contains alle functions needed for memoizing function calls that we have already calculated. This will greatly reduce the runtime of the program.  "
   ]
  },
  {
   "cell_type": "markdown",
   "metadata": {},
   "source": [
    "```\n",
    "function memoize(f)\n",
    "    global gCache\n",
    "    function f_memoized(b, s, d)    # TODO: replace (b, s, d) with args... to make function generic\n",
    "        if (b, s, d) in keys(gCache)\n",
    "            return gCache[args]\n",
    "        end\n",
    "        result = f(b, s, d)\n",
    "        merge!(gCache, Dict((b, s, d) => result))\n",
    "        return result\n",
    "    end\n",
    "    return f_memoized\n",
    "end\n",
    "```"
   ]
  },
  {
   "cell_type": "code",
   "execution_count": null,
   "metadata": {},
   "outputs": [],
   "source": [
    "using Chess\n",
    "using NBInclude"
   ]
  },
  {
   "cell_type": "code",
   "execution_count": null,
   "metadata": {},
   "outputs": [],
   "source": [
    "@nbinclude(\"ZobristHashing.ipynb\")"
   ]
  },
  {
   "cell_type": "markdown",
   "metadata": {},
   "source": [
    "The function `initCache()` returns an empty Dictionary of type `Dict{UInt64, Tuple{String, Int64, Int64}}` which will be used for the global Cache variable."
   ]
  },
  {
   "cell_type": "code",
   "execution_count": null,
   "metadata": {},
   "outputs": [],
   "source": [
    "function initCache()\n",
    "    return Dict{UInt64, Tuple{String, Int64, Int64}}()\n",
    "end"
   ]
  },
  {
   "cell_type": "markdown",
   "metadata": {},
   "source": [
    "The `evaluate` function adds memoization to the `Max` and `Min` function. \n",
    "This function is used to evaluate the given board state using the provided evaluation function (f) and cache. It performs alpha-beta pruning to reduce the number of nodes that need to be evaluated, and checks the cache to see if the given state has already been evaluated before.\n",
    "\n",
    "It takes in 4 arguments and 2 optional arguments.\n",
    "1. `State` is the current state represented by a `Board`\n",
    "1. `f` takes in either the function `alphaBetaMax` and `alphaBetaMin`\n",
    "1. `score` is the static centipawn evaluation of the `state`\n",
    "1. `depth` is the number of halfmoves the engine should analyze before terminating\n",
    "1. `alpha` is optional and is default to -Infinity. Alpha is a minimal value that has been calculated during the recursive process\n",
    "1. `beta`  is optional and is default to Infinity . Beta is a maximal value that has been calculated during the recursive process\n",
    "\n",
    "The function `evaluate` evaluates the same result as the function `f`. Additionally it saves calculated results in the `Cache`. And uses any entries in the `Cache` if the same function has already been called."
   ]
  },
  {
   "cell_type": "code",
   "execution_count": null,
   "metadata": {},
   "outputs": [],
   "source": [
    "function evaluate(aBoard::AdvBoard, f::Function, depth::Int64, cache::Dict{UInt64, Tuple{String, Int64, Int64}},\n",
    "                  alpha::Int64, beta::Int64, flagQuiesce::Bool=false)::Int64\n",
    "    if haskey(cache, aBoard.hash)\n",
    "        flag, v, d = cache[aBoard.hash]\n",
    "        if d >= depth \n",
    "            if ((flag == \"=\") || (flag == \"<=\" && v <= alpha) || (flag == \">=\" && beta <= v))\n",
    "                return v\n",
    "            elseif flag == \"<=\"\n",
    "                beta = min(beta, v)\n",
    "            elseif flag == \">=\"\n",
    "                alpha = max(alpha, v)\n",
    "            end\n",
    "        end\n",
    "    end\n",
    "    # no value stored in gCache for State or depth of stored State has less depth than required\n",
    "    if flagQuiesce\n",
    "        v = f(aBoard, depth, cache, alpha, beta, flagQuiesce)\n",
    "    else\n",
    "        v = f(aBoard, depth, cache, alpha, beta)\n",
    "    end\n",
    "    store_cache(aBoard.hash, depth, cache, alpha, beta, v)\n",
    "    return v\n",
    "end"
   ]
  },
  {
   "cell_type": "markdown",
   "metadata": {},
   "source": [
    "The `store_cache` is a helping function that stores values into the `Cache`. \n",
    "\n",
    "It takes 5 arguments:\n",
    "1. `State` is the current `state` of type `Board`\n",
    "1. `depth` is the number of halfmoves the engine should analyze before terminating\n",
    "1. `alpha` is optional and is default to -Infinity. Alpha is a minimal value that has been calculated during the recursive process\n",
    "1. `beta`  is optional and is default to Infinity . Beta is a maximal value that has been calculated during the recursive process\n",
    "1. `v` is the value that got calculated by the `evaluate` function that needs to be stored\n"
   ]
  },
  {
   "cell_type": "code",
   "execution_count": null,
   "metadata": {},
   "outputs": [],
   "source": [
    "function store_cache(hash::UInt64, depth::Int64, \n",
    "                     cache::Dict{UInt64, Tuple{String, Int64, Int64}}, alpha::Int64, beta::Int64, v::Int64)\n",
    "    if v <= alpha\n",
    "        cache[hash] = (\"<=\", v, depth)\n",
    "    elseif v < beta\n",
    "        cache[hash] = (\"=\", v, depth)\n",
    "    else # beta <= v\n",
    "        cache[hash] = (\">=\", v, depth)\n",
    "    end\n",
    "end"
   ]
  },
  {
   "cell_type": "code",
   "execution_count": null,
   "metadata": {},
   "outputs": [],
   "source": [
    "function updateBoardData(board::Board, score::Int64, hash::UInt64, move::Move)\n",
    "    next_score = evaluate_move(board, move, score)\n",
    "    next_hash = zobrist_hash(board, hash, move)\n",
    "    return next_score, next_hash\n",
    "end"
   ]
  },
  {
   "cell_type": "code",
   "execution_count": null,
   "metadata": {},
   "outputs": [],
   "source": []
  }
 ],
 "metadata": {
  "kernelspec": {
   "display_name": "Julia 1.8.2",
   "language": "julia",
   "name": "julia-1.8"
  },
  "language_info": {
   "file_extension": ".jl",
   "mimetype": "application/julia",
   "name": "julia",
   "version": "1.8.2"
  }
 },
 "nbformat": 4,
 "nbformat_minor": 4
}
