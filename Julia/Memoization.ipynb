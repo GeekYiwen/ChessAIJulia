{
 "cells": [
  {
   "cell_type": "code",
   "execution_count": null,
   "metadata": {},
   "outputs": [],
   "source": [
    "HTML(read(open(\"style.css\"), String))"
   ]
  },
  {
   "cell_type": "markdown",
   "metadata": {},
   "source": [
    "# Memoization\n",
    "\n",
    "This notebook contains alle functions needed for memoizing function calls that we have already calculated. This will greatly reduce the runtime of the program.\n",
    "\n",
    "The general idea is implemented in this function:\n",
    "1. If the value has been calculated: Look up the value in the global Cache using the arguments of the function as the key and return that value.\n",
    "1. If the value has not been calculated: Calculate the value as usual and before returning the value add the value to the global Cache for later lookup."
   ]
  },
  {
   "cell_type": "markdown",
   "metadata": {},
   "source": [
    "```\n",
    "function memoize(f)\n",
    "    global gCache\n",
    "    function f_memoized(b, s, d)    # TODO: replace (b, s, d) with args... to make function generic\n",
    "        if (b, s, d) in keys(gCache)\n",
    "            return gCache[args]\n",
    "        end\n",
    "        result = f(b, s, d)\n",
    "        merge!(gCache, Dict((b, s, d) => result))\n",
    "        return result\n",
    "    end\n",
    "    return f_memoized\n",
    "end\n",
    "```"
   ]
  },
  {
   "cell_type": "markdown",
   "metadata": {},
   "source": [
    "For Minimax we can use this simple idea of Memoization."
   ]
  },
  {
   "cell_type": "code",
   "execution_count": null,
   "metadata": {},
   "outputs": [],
   "source": [
    "using Chess\n",
    "using NBInclude"
   ]
  },
  {
   "cell_type": "code",
   "execution_count": null,
   "metadata": {},
   "outputs": [],
   "source": [
    "@nbinclude(\"ZobristHashing.ipynb\")"
   ]
  },
  {
   "cell_type": "markdown",
   "metadata": {},
   "source": [
    "The function `initCache()` returns an empty Dictionary of type `Dict{UInt64, Tuple{String, Int64, Int64}}` which will be used for the global Cache variable. As the key we use the hash of a board. The value consists of a tuple consisting of 3 arguments:\n",
    "1. `flag::String` is \"=\", \"<=\" or \">=\" representing if the value stored is the exact value or a upper or lower boundary\n",
    "1. `value::Int64` is the value of the position\n",
    "1. `depth::Int64` is the maximum depth at which the value has been calculated at."
   ]
  },
  {
   "cell_type": "code",
   "execution_count": null,
   "metadata": {},
   "outputs": [],
   "source": [
    "function initCache()\n",
    "    return Dict{UInt64, Tuple{String, Int64, Int64}}()\n",
    "end"
   ]
  },
  {
   "cell_type": "markdown",
   "metadata": {},
   "source": [
    "## Memoization with Alpha-Beta-Pruning"
   ]
  },
  {
   "cell_type": "markdown",
   "metadata": {},
   "source": [
    "When calculating with Alpha-Beta-Pruning we cannot use the same idea of using the arguments as the keys. If we were to use this method the key would consist of the following tuple:\n",
    "\n",
    "$f:(hash, value, depth, alpha, beta) \\longrightarrow (value)$ \n",
    "\n",
    "The issue with this is that the values for alpha and beta are constantly changing during the evaluation process. As the function needs an exact hit on the cache, meaning all arguments are the same, this will rarely be the case. Therefore the total amount of cache hits will be very low in comparison to the Minimax algorithm. \n",
    "\n",
    "Therefore we need a new strategy. We use the facts of the alpha-beta-algorithm and save whether the stored value is an exact value or if it has been pruned. If it is pruned we use an `<=` or `>=` flag to state that the memoized value is at least or at most the value we save in the cache.\n",
    "\n",
    "If the value stored v is:\n",
    "1. An exact value:\n",
    "\n",
    "    $\\alpha < v < \\beta \\longrightarrow cache[hash] = (\"=\", value, depth)$\n",
    "    \n",
    "1. below the lower boundary $\\alpha$:\n",
    "\n",
    "    $v <= \\alpha \\longrightarrow cache[hash] = (\"<=\", value, depth)$\n",
    "    \n",
    "1. above the upper boundary $\\beta$:\n",
    "\n",
    "    $\\beta < v \\longrightarrow cache[hash] = (\">=\", value, depth)$\n",
    "\n",
    "This way we have achieved implementing Memoization for alpha-beta-search. We use the function `evaluate` to wrap the Memoization around a given function `f`(for alphaBetaMax and alphaBetaMin). Additionally we use an auxilliary function `store_cache`to store new values into the cache using the method above.\n"
   ]
  },
  {
   "cell_type": "markdown",
   "metadata": {},
   "source": [
    "The `evaluate` function adds memoization to any function using the alpha-beta-pruning algorithm. \n",
    "This function is used to evaluate the given board state using the provided evaluation function (f) and cache. It performs alpha-beta pruning to reduce the number of nodes that need to be evaluated, and checks the cache to see if the given state has already been evaluated before.\n",
    "\n",
    "Arguments:\n",
    "1. `aBoard::AdvBoard` is the current state\n",
    "1. `f::Function` takes in either the function that needs to be calculated and memoized\n",
    "1. `depth::Int64` is the number of halfmoves the engine should analyze before terminating\n",
    "1. `cache::Dict{UInt64, Tuple{String, Int64, Int64}}` is the cache used\n",
    "1. `alpha::Int64` is a minimal value that has been calculated during the recursive process\n",
    "1. `beta::Int64`  is a maximal value that has been calculated during the recursive process\n",
    "1. `flagQuiesce::Bool` is an optional flag specifies whether the quiesce-search should be used.\n",
    "\n",
    "The function `evaluate` evaluates the same result as the function `f`. Additionally it saves calculated results in the `cache`. And uses any entries in the `cache` if the same function has already been called."
   ]
  },
  {
   "cell_type": "code",
   "execution_count": null,
   "metadata": {},
   "outputs": [],
   "source": [
    "function evaluate(aBoard::AdvBoard, f::Function, depth::Int64, cache::Dict{UInt64, Tuple{String, Int64, Int64}},\n",
    "                  alpha::Int64, beta::Int64, flagQuiesce::Bool=false)::Int64\n",
    "    \n",
    "    tuple::Tuple{String, Int64, Int64} = get(cache, aBoard.hash, (\"\", 0, 0))\n",
    "    if tuple != (\"\", 0, 0)\n",
    "        flag::String, v::Int64, d::Int64 = tuple\n",
    "        if d >= depth \n",
    "            if ((flag == \"=\") || (flag == \"<=\" && v <= alpha) || (flag == \">=\" && beta <= v))\n",
    "                return v\n",
    "            elseif flag == \"<=\"\n",
    "                beta = min(beta, v)\n",
    "            elseif flag == \">=\"\n",
    "                alpha = max(alpha, v)\n",
    "            end\n",
    "        end\n",
    "    end\n",
    "    # no value stored in gCache for State or depth of stored State has less depth than required\n",
    "    if flagQuiesce\n",
    "        v = f(aBoard, depth, cache, alpha, beta, flagQuiesce)\n",
    "    else\n",
    "        v = f(aBoard, depth, cache, alpha, beta)\n",
    "    end\n",
    "    store_cache(aBoard.hash, depth, cache, alpha, beta, v)\n",
    "    return v\n",
    "end"
   ]
  },
  {
   "cell_type": "markdown",
   "metadata": {},
   "source": [
    "The `store_cache` is a helping function that stores values into the `cache`. \n",
    "\n",
    "Arguments:\n",
    "1. `hash`  is the hash that needs to be stored\n",
    "1. `depth` is the number of halfmoves the engine should analyze before terminating\n",
    "1. `cache::Dict{UInt64, Tuple{String, Int64, Int64}}` is the cache used\n",
    "1. `alpha` is a minimal value that has been calculated during the recursive process\n",
    "1. `beta`  is a maximal value that has been calculated during the recursive process\n",
    "1. `v` is the value that got calculated by the `evaluate` function that needs to be stored\n"
   ]
  },
  {
   "cell_type": "code",
   "execution_count": null,
   "metadata": {},
   "outputs": [],
   "source": [
    "function store_cache(hash::UInt64, depth::Int64, \n",
    "                     cache::Dict{UInt64, Tuple{String, Int64, Int64}}, alpha::Int64, beta::Int64, v::Int64)\n",
    "    if v <= alpha\n",
    "        push!(cache, hash => (\"<=\", v, depth))\n",
    "    elseif v < beta\n",
    "        push!(cache, hash => (\"=\", v, depth))\n",
    "    else # beta <= v\n",
    "        push!(cache, hash => (\">=\", v, depth))\n",
    "    end\n",
    "end"
   ]
  }
 ],
 "metadata": {
  "kernelspec": {
   "display_name": "Julia 1.8.4",
   "language": "julia",
   "name": "julia-1.8"
  },
  "language_info": {
   "file_extension": ".jl",
   "mimetype": "application/julia",
   "name": "julia",
   "version": "1.8.2"
  }
 },
 "nbformat": 4,
 "nbformat_minor": 4
}
