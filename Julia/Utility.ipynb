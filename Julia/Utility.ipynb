{
 "cells": [
  {
   "cell_type": "code",
   "execution_count": null,
   "metadata": {},
   "outputs": [],
   "source": [
    "HTML(read(open(\"style.css\"), String))"
   ]
  },
  {
   "cell_type": "markdown",
   "metadata": {},
   "source": [
    "# Utility"
   ]
  },
  {
   "cell_type": "markdown",
   "metadata": {},
   "source": [
    "This notebook contains utility functions needed across all notebooks."
   ]
  },
  {
   "cell_type": "code",
   "execution_count": null,
   "metadata": {},
   "outputs": [],
   "source": [
    "using Pkg\n",
    "# Pkg.add(\"Chess\")\n",
    "using Chess"
   ]
  },
  {
   "cell_type": "markdown",
   "metadata": {},
   "source": [
    "## Functions"
   ]
  },
  {
   "cell_type": "markdown",
   "metadata": {},
   "source": [
    "`printGame(game)` prints the current position of a game."
   ]
  },
  {
   "cell_type": "code",
   "execution_count": null,
   "metadata": {},
   "outputs": [],
   "source": [
    "function printGame(game::Game)\n",
    "    display(board(game))\n",
    "end"
   ]
  },
  {
   "cell_type": "markdown",
   "metadata": {},
   "source": [
    "The function `setWin(game)` takes in a `game` and the `result` of the game as a string and sets the `result` value of the game and prints the result of the game as a text message. If no result is given, the result will be determined. `result` will only be set if the result is not clear from the board (e.g. resignation or draw by agreement)."
   ]
  },
  {
   "cell_type": "code",
   "execution_count": null,
   "metadata": {},
   "outputs": [],
   "source": [
    "function setWin(game::Game, result::String = \"\")\n",
    "    if result != \"\"\n",
    "        setGameResult(game, result)\n",
    "    else\n",
    "        if ischeckmate(board(game)) # decicive game\n",
    "            color = sidetomove(board(game))\n",
    "            color == WHITE ? color = \"BLACK\" : color = \"WHITE\"\n",
    "            setGameResult(game, color)\n",
    "            print(color * \" wins by checkmate\")\n",
    "        else # draw\n",
    "            if isstalemate(board(game))\n",
    "                print(\"Stalemate\")\n",
    "            elseif ismaterialdraw(board(game))\n",
    "                print(\"Draw by insufficient material\")\n",
    "            elseif isrule50draw(board(game))\n",
    "                print(\"Draw by 50 move draw\")\n",
    "            end\n",
    "            setGameResult(game, \"draw\")\n",
    "        end\n",
    "    end\n",
    "end"
   ]
  },
  {
   "cell_type": "markdown",
   "metadata": {},
   "source": [
    "The function `clearCache(board, move)` takes in the current `board` and the `move` that will be made next and clears the global Cache `gCache` if the move done is a pawn move or a capture. A chess position will not occure again if one of those two events happen and therefore all entries in the Cache will not be needed anymore. This will improve the runtime slightly."
   ]
  },
  {
   "cell_type": "code",
   "execution_count": null,
   "metadata": {},
   "outputs": [],
   "source": [
    "function clearCache(board::Board, move::Move, cache:: Dict{UInt64, Tuple{String, Int64, Int64}})\n",
    "    if(ptype(pieceon(board, from(move))) == PAWN || pieceon(board, to(move)) != EMPTY)\n",
    "        println(\"Cleared Cache with $(length(cache))\")\n",
    "        cache = initCache()\n",
    "    end\n",
    "end"
   ]
  },
  {
   "cell_type": "code",
   "execution_count": null,
   "metadata": {},
   "outputs": [],
   "source": []
  }
 ],
 "metadata": {
  "kernelspec": {
   "display_name": "Julia 1.8.2",
   "language": "julia",
   "name": "julia-1.8"
  },
  "language_info": {
   "file_extension": ".jl",
   "mimetype": "application/julia",
   "name": "julia",
   "version": "1.8.2"
  }
 },
 "nbformat": 4,
 "nbformat_minor": 4
}
