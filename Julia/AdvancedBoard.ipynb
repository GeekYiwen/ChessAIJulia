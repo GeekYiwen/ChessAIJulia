{
 "cells": [
  {
   "cell_type": "code",
   "execution_count": null,
   "metadata": {},
   "outputs": [],
   "source": [
    "HTML(read(open(\"style.css\"), String))"
   ]
  },
  {
   "cell_type": "markdown",
   "metadata": {},
   "source": [
    "# Advanced Board Struct\n",
    "This notebook implements the struct `AdvBoard` which combines additional attributes the the `Board` class of the chess.jl Library. These attributes relate to the `Board` directly.\n",
    "\n",
    "Added Attributes:\n",
    "1. `score::Int64` is the static evaluation of the board in centipawns\n",
    "1. `hash::UInt64` is the hash of the `Board`\n",
    "1. `repCounter::Dict{UInt64, Int8}` is a dictionary counting how often a position has been reached. This is needed to check whether a 3-fold-repetition has occured resulting in a draw."
   ]
  },
  {
   "cell_type": "code",
   "execution_count": null,
   "metadata": {},
   "outputs": [],
   "source": [
    "using Chess\n",
    "using NBInclude"
   ]
  },
  {
   "cell_type": "code",
   "execution_count": null,
   "metadata": {},
   "outputs": [],
   "source": [
    "@nbinclude(\"Repetition.ipynb\")"
   ]
  },
  {
   "cell_type": "markdown",
   "metadata": {},
   "source": [
    "This notebook contains the `Advanced Board` (short: `AdvBoard`) struct which bundles additional information about the board to the board. As the `::Board` Class of Chess.jl does not contain all the information we need to the board this will be expanded to contain the following additional contents:\n",
    "\n",
    "1. `score::Int64` is the static evaluation of the board in centipawn\n",
    "1. `hash::UInt64`  is the hash of the board\n",
    "1. `repCounter::Dict{UInt64, Int8}` is a Dictionary that counts how often a position as occured"
   ]
  },
  {
   "cell_type": "code",
   "execution_count": null,
   "metadata": {},
   "outputs": [],
   "source": [
    "mutable struct AdvBoard\n",
    "    state::Board\n",
    "    score::Int64\n",
    "    hash::UInt64\n",
    "    repCounter::Dict{UInt64, Int8}\n",
    "end"
   ]
  },
  {
   "cell_type": "markdown",
   "metadata": {},
   "source": [
    "## Constructor for AdvBoard"
   ]
  },
  {
   "cell_type": "markdown",
   "metadata": {},
   "source": [
    "The Constructor `AdvBoard` creates an `AdvBoard` from a `Board` and initializes all attributes automatically.\n",
    "\n",
    "Arguments:\n",
    "1. `board::Board` is the board that the AdvBoard should be representing\n",
    "\n",
    "Returns an `AdvBoard` with calculated attributes."
   ]
  },
  {
   "cell_type": "code",
   "execution_count": null,
   "metadata": {},
   "outputs": [],
   "source": [
    "function AdvBoard(board::Board)::AdvBoard\n",
    "    score = evaluate_position(board)\n",
    "    hash  = zobrist_hash(board)\n",
    "    repCounter = Dict{UInt64, Int8}()\n",
    "    incrementHash!(repCounter, hash)\n",
    "    return AdvBoard(board, score, hash, repCounter)\n",
    "end"
   ]
  },
  {
   "cell_type": "markdown",
   "metadata": {},
   "source": [
    "### function domoveAdv!"
   ]
  },
  {
   "cell_type": "markdown",
   "metadata": {},
   "source": [
    "The function `domoveAdv!` has the same functionality for the `AdvBoard` as the `domove!` function for a `Board`. It applies the given move on the AdvBoard and changes all attributes according to the new position.\n",
    "\n",
    "Arguments:\n",
    "1. `aBoard::AdvBoard` is the chess board where the move should be applied\n",
    "1. `move::Move` is the move that should be done\n",
    "\n",
    "Returns a three-tuple including information needed to undo the move. These values should not be mutated."
   ]
  },
  {
   "cell_type": "code",
   "execution_count": null,
   "metadata": {},
   "outputs": [],
   "source": [
    "function domoveAdv!(aBoard::AdvBoard, move::Move)\n",
    "    oldscore:: Int64 = aBoard.score\n",
    "    oldhash:: UInt64 = aBoard.hash\n",
    "    aBoard.score = evaluate_move(aBoard, move) \n",
    "    aBoard.hash = zobrist_hash(aBoard.state, aBoard.hash, move) \n",
    "    undoinfo = domove!(aBoard.state, move)\n",
    "    incrementHash!(aBoard.repCounter, aBoard.hash)\n",
    "    return (oldscore, oldhash, undoinfo)\n",
    "end"
   ]
  },
  {
   "cell_type": "markdown",
   "metadata": {},
   "source": [
    "### function undomoveAdv!"
   ]
  },
  {
   "cell_type": "markdown",
   "metadata": {},
   "source": [
    "The function `undomoveAdv!` has the same functionality for the `AdvBoard` as the `undomove!` function for a `Board`. It undoes the last move doneon  the AdvBoard and changes all attributes according to the new position.\n",
    "\n",
    "Arguments:\n",
    "1. `aBoard::AdvBoard` is the chess board where the move should be applied\n",
    "1. `undoinfo` is the three-tuple returned from the `domoveAdv!` function"
   ]
  },
  {
   "cell_type": "code",
   "execution_count": null,
   "metadata": {},
   "outputs": [],
   "source": [
    "function undomoveAdv!(ABoard::AdvBoard, undoinfo)\n",
    "    decrementHash!(ABoard.repCounter, ABoard.hash)\n",
    "    undomove!(ABoard.state, undoinfo[3])\n",
    "    ABoard.score = undoinfo[1]\n",
    "    ABoard.hash  = undoinfo[2]\n",
    "end"
   ]
  },
  {
   "cell_type": "code",
   "execution_count": null,
   "metadata": {},
   "outputs": [],
   "source": []
  }
 ],
 "metadata": {
  "kernelspec": {
   "display_name": "Julia 1.8.2",
   "language": "julia",
   "name": "julia-1.8"
  },
  "language_info": {
   "file_extension": ".jl",
   "mimetype": "application/julia",
   "name": "julia",
   "version": "1.8.2"
  }
 },
 "nbformat": 4,
 "nbformat_minor": 4
}
