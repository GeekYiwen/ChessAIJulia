{
 "cells": [
  {
   "cell_type": "code",
   "execution_count": null,
   "metadata": {},
   "outputs": [],
   "source": [
    "HTML(read(open(\"style.css\"), String))"
   ]
  },
  {
   "cell_type": "markdown",
   "metadata": {},
   "source": [
    "# Advanced Board Struct"
   ]
  },
  {
   "cell_type": "code",
   "execution_count": null,
   "metadata": {},
   "outputs": [],
   "source": [
    "using Chess\n",
    "using NBInclude"
   ]
  },
  {
   "cell_type": "code",
   "execution_count": null,
   "metadata": {},
   "outputs": [],
   "source": [
    "@nbinclude(\"Repetition.ipynb\")"
   ]
  },
  {
   "cell_type": "markdown",
   "metadata": {},
   "source": [
    "This notebook contains the `Advanced Board` (short: `AdvBoard`) struct which bundles additional information about the board to the board. As the `::Board` Class of Chess.jl does not contain all the information we need to the board this will be expanded to contain the following additional contents:\n",
    "\n",
    "1. `score::Int64` is the static evaluation of the board in centipawn\n",
    "1. `hash::UInt64`  is the hash of the board\n",
    "1. `repCounter::Dict{UInt64, Int8}` is a Dictionary that counts how often a position as occured"
   ]
  },
  {
   "cell_type": "code",
   "execution_count": null,
   "metadata": {},
   "outputs": [],
   "source": [
    "mutable struct AdvBoard\n",
    "    state::Board\n",
    "    score::Int64\n",
    "    hash::UInt64\n",
    "    repCounter::Dict{UInt64, Int8}\n",
    "end"
   ]
  },
  {
   "cell_type": "markdown",
   "metadata": {},
   "source": [
    "## Constructor for AdvBoard"
   ]
  },
  {
   "cell_type": "code",
   "execution_count": null,
   "metadata": {},
   "outputs": [],
   "source": [
    "function AdvBoard(board::Board)::AdvBoard\n",
    "    score = evaluate_position(board)\n",
    "    hash  = zobrist_hash(board)\n",
    "    repCounter = Dict{UInt64, Int8}()\n",
    "    incrementHash!(repCounter, hash)\n",
    "    return AdvBoard(board, score, hash, repCounter)\n",
    "end"
   ]
  },
  {
   "cell_type": "code",
   "execution_count": null,
   "metadata": {},
   "outputs": [],
   "source": [
    "function domoveAdv!(aBoard::AdvBoard, move::Move)\n",
    "    oldscore:: Int64 = aBoard.score\n",
    "    oldhash:: UInt64 = aBoard.hash\n",
    "    aBoard.score = evaluate_move(aBoard, move) \n",
    "    aBoard.hash = zobrist_hash(aBoard.state, aBoard.hash, move) \n",
    "    undoinfo = domove!(aBoard.state, move)\n",
    "    incrementHash!(aBoard.repCounter, aBoard.hash)\n",
    "    return (oldscore, oldhash, undoinfo)\n",
    "end"
   ]
  },
  {
   "cell_type": "code",
   "execution_count": null,
   "metadata": {},
   "outputs": [],
   "source": [
    "function undomoveAdv!(ABoard::AdvBoard, undoinfo)\n",
    "    decrementHash!(ABoard.repCounter, ABoard.hash)\n",
    "    undomove!(ABoard.state, undoinfo[3])\n",
    "    ABoard.score = undoinfo[1]\n",
    "    ABoard.hash  = undoinfo[2]\n",
    "end"
   ]
  },
  {
   "cell_type": "code",
   "execution_count": null,
   "metadata": {},
   "outputs": [],
   "source": []
  }
 ],
 "metadata": {
  "kernelspec": {
   "display_name": "Julia 1.8.2",
   "language": "julia",
   "name": "julia-1.8"
  },
  "language_info": {
   "file_extension": ".jl",
   "mimetype": "application/julia",
   "name": "julia",
   "version": "1.8.2"
  }
 },
 "nbformat": 4,
 "nbformat_minor": 4
}
