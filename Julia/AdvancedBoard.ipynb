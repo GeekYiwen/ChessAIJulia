{
 "cells": [
  {
   "cell_type": "code",
   "execution_count": null,
   "metadata": {},
   "outputs": [],
   "source": [
    "HTML(read(open(\"style.css\"), String))"
   ]
  },
  {
   "cell_type": "markdown",
   "metadata": {},
   "source": [
    "# Advanced Board Struct\n",
    "This notebook implements the struct `AdvBoard` which combines additional attributes to the `Board` class of the chess.jl Library. These attributes relate to the `Board` directly meaning that a `Board` always has the same value for this attribute during any part of the calculation. Additionally functions containing the Advanced Board are implemented in this notebook.\n",
    "\n",
    "Added Attributes:"
   ]
  },
  {
   "cell_type": "markdown",
   "metadata": {},
   "source": [
    "1. `score::Int64` is the static evaluation of the board in centipawns\n",
    "1. `hash::UInt64` is the hash of the `Board`\n",
    "1. `repCounter::Dict{UInt64, Int8}` is a dictionary counting how often a position has been reached. This is needed to check whether a 3-fold-repetition has occurred resulting in a draw."
   ]
  },
  {
   "cell_type": "markdown",
   "metadata": {},
   "source": [
    "All of these attributes are not implemented by the Chess.jl Library. The `score` and `hash` are implemented using our choice of algorithms and therefore are not accounted for. The `repCounter` dictionary was added because the `Board` object only contains the information about the current position and does not have any information about the game. The important information is whether a threefold repetition has occurred which leads to an immediate draw."
   ]
  },
  {
   "cell_type": "code",
   "execution_count": null,
   "metadata": {},
   "outputs": [],
   "source": [
    "using Chess\n",
    "using NBInclude"
   ]
  },
  {
   "cell_type": "code",
   "execution_count": null,
   "metadata": {},
   "outputs": [],
   "source": [
    "@nbinclude(\"Repetition.ipynb\")"
   ]
  },
  {
   "cell_type": "code",
   "execution_count": null,
   "metadata": {},
   "outputs": [],
   "source": [
    "@nbinclude(\"ZobristHashing.ipynb\")"
   ]
  },
  {
   "cell_type": "code",
   "execution_count": null,
   "metadata": {},
   "outputs": [],
   "source": [
    "@nbinclude(\"EvaluatePosition.ipynb\")"
   ]
  },
  {
   "cell_type": "markdown",
   "metadata": {},
   "source": [
    "This notebook contains the `Advanced Board` (short: `AdvBoard`) struct which bundles additional information about the board to the `Board`. As the `::Board` Class of Chess.jl does not contain all the information we need to the board this will be expanded to contain the following additional contents:\n",
    "\n",
    "1. `score::Int64` is the static evaluation of the board in centipawn\n",
    "1. `hash::UInt64`  is the hash of the board\n",
    "1. `repCounter::Dict{UInt64, Int8}` is a Dictionary that counts how often a position as occurred\n",
    "\n",
    "The choice for a `mutual struct` was made after checking the source code of the Chess.jl implementation of the regular `Board`."
   ]
  },
  {
   "cell_type": "code",
   "execution_count": null,
   "metadata": {},
   "outputs": [],
   "source": [
    "mutable struct AdvBoard\n",
    "    state::Board\n",
    "    score::Int64\n",
    "    hash::UInt64\n",
    "    repCounter::Dict{UInt64, Int8}\n",
    "end"
   ]
  },
  {
   "cell_type": "markdown",
   "metadata": {},
   "source": [
    "### Constructor for AdvBoard"
   ]
  },
  {
   "cell_type": "markdown",
   "metadata": {},
   "source": [
    "The Constructor `AdvBoard` creates an `AdvBoard` from a `Board` and initializes all attributes automatically.\n",
    "\n",
    "Arguments:\n",
    "\n",
    "1. `board::Board` is the board that the AdvBoard should be representing\n",
    "\n",
    "Returns an `AdvBoard` with calculated attributes."
   ]
  },
  {
   "cell_type": "code",
   "execution_count": null,
   "metadata": {},
   "outputs": [],
   "source": [
    "function AdvBoard(board::Board)::AdvBoard\n",
    "    score = evaluate_position(board)\n",
    "    hash  = zobrist_hash(board)\n",
    "    repCounter = Dict{UInt64, Int8}()\n",
    "    incrementHash!(repCounter, hash)\n",
    "    return AdvBoard(board, score, hash, repCounter)\n",
    "end"
   ]
  },
  {
   "cell_type": "markdown",
   "metadata": {},
   "source": [
    "### domoveAdv! function "
   ]
  },
  {
   "cell_type": "markdown",
   "metadata": {},
   "source": [
    "The function `domoveAdv!` has the same functionality for the `AdvBoard` as the `domove!` function for a `Board`. It applies the given move on the AdvBoard and changes all attributes according to the new position.\n",
    "\n",
    "Arguments:\n",
    "\n",
    "1. `aBoard::AdvBoard` is the chess board where the move should be applied\n",
    "1. `move::Move` is the move that should be done\n",
    "\n",
    "Returns a three-tuple including information needed to undo the move. These values should not be mutated."
   ]
  },
  {
   "cell_type": "code",
   "execution_count": null,
   "metadata": {},
   "outputs": [],
   "source": [
    "function domoveAdv!(aBoard::AdvBoard, move::Move)::Tuple{Int64, UInt64, UndoInfo}\n",
    "    oldscore::Int64 = aBoard.score\n",
    "    oldhash::UInt64 = aBoard.hash\n",
    "    aBoard.score = evaluate_move(aBoard, move) \n",
    "    aBoard.hash = zobrist_hash(aBoard.state, aBoard.hash, move) \n",
    "    undoinfo = domove!(aBoard.state, move)\n",
    "    incrementHash!(aBoard.repCounter, aBoard.hash)\n",
    "    return (oldscore, oldhash, undoinfo)\n",
    "end"
   ]
  },
  {
   "cell_type": "code",
   "execution_count": null,
   "metadata": {},
   "outputs": [],
   "source": [
    "function domoveAdvNoScore!(aBoard::AdvBoard, move::Move)::Tuple{UInt64, UndoInfo}\n",
    "    oldhash::UInt64 = aBoard.hash\n",
    "    aBoard.hash = zobrist_hash(aBoard.state, aBoard.hash, move) \n",
    "    undoinfo = domove!(aBoard.state, move)\n",
    "    incrementHash!(aBoard.repCounter, aBoard.hash)\n",
    "    return (oldhash, undoinfo)\n",
    "end"
   ]
  },
  {
   "cell_type": "markdown",
   "metadata": {},
   "source": [
    "### undomoveAdv! function "
   ]
  },
  {
   "cell_type": "markdown",
   "metadata": {},
   "source": [
    "The function `undomoveAdv!` has the same functionality for the `AdvBoard` as the `undomove!` function for a `Board`. It undoes the last move done on  the AdvBoard and changes all attributes according to the new position.\n",
    "\n",
    "Arguments:\n",
    "\n",
    "1. `aBoard::AdvBoard` is the chess board where the move should be applied\n",
    "1. `undoinfo` is the three-tuple returned from the `domoveAdv!` function"
   ]
  },
  {
   "cell_type": "code",
   "execution_count": null,
   "metadata": {},
   "outputs": [],
   "source": [
    "function undomoveAdv!(ABoard::AdvBoard, undoinfo::Tuple{Int64, UInt64, UndoInfo})\n",
    "    decrementHash!(ABoard.repCounter, ABoard.hash)\n",
    "    undomove!(ABoard.state, undoinfo[3])\n",
    "    ABoard.score = undoinfo[1]\n",
    "    ABoard.hash  = undoinfo[2]\n",
    "end"
   ]
  },
  {
   "cell_type": "code",
   "execution_count": null,
   "metadata": {},
   "outputs": [],
   "source": [
    "function undomoveAdvNoScore!(ABoard::AdvBoard, undoinfo::Tuple{UInt64, UndoInfo})\n",
    "    decrementHash!(ABoard.repCounter, ABoard.hash)\n",
    "    undomove!(ABoard.state, undoinfo[2])\n",
    "    ABoard.hash  = undoinfo[1]\n",
    "end"
   ]
  },
  {
   "cell_type": "code",
   "execution_count": null,
   "metadata": {},
   "outputs": [],
   "source": [
    "function clearRepCounter!(aBoard::AdvBoard)\n",
    "    aBoard.repCounter = Dict{UInt64, Int8}()\n",
    "end"
   ]
  },
  {
   "cell_type": "markdown",
   "metadata": {},
   "source": [
    "### evaluate_move function"
   ]
  },
  {
   "cell_type": "markdown",
   "metadata": {},
   "source": [
    "In order to implement repetition control in the isterminal function, it is necessary to call the function with the Advanced Board. For this reason, we have overloaded the evaluate_move function to take an Advanced Board as input. The `evaluate_move` function takes in an advanced chess board `aBoard` and a `move` and returns the score of the board after performing the move. The function uses an incremental implementation, which means it only considers and calculates the differences between the old and new position.\n",
    "\n",
    "The implementation of the evaluate_move function begins by performing the move on the board using the domove! function and storing the UndoInfo object returned by the function. The function then checks if the board is in a terminal state by calling the isterminal function with the Advanced Board as input. If the board is in a terminal state, the function returns the score of the board as evaluated by the terminal_evaluation function. Otherwise, the function calls the evaluate_move function with the board and the move as input parameters."
   ]
  },
  {
   "cell_type": "code",
   "execution_count": null,
   "metadata": {},
   "outputs": [],
   "source": [
    "function evaluate_move(aBoard::AdvBoard, move::Move)::Int64\n",
    "    undoinfo::Tuple{UInt64, UndoInfo} = domoveAdvNoScore!(aBoard, move)\n",
    "    if isterminal(aBoard.state)\n",
    "        score::Int64 = terminal_evaluation(aBoard)\n",
    "        undomoveAdvNoScore!(aBoard, undoinfo)\n",
    "        return score\n",
    "    end\n",
    "    if isRepetition(aBoard.repCounter)\n",
    "        undomoveAdvNoScore!(aBoard, undoinfo)\n",
    "        return 0\n",
    "    end\n",
    "    undomoveAdvNoScore!(aBoard, undoinfo)\n",
    "    return evaluate_move(aBoard.state, move, aBoard.score)\n",
    "end"
   ]
  },
  {
   "cell_type": "markdown",
   "metadata": {},
   "source": [
    "### terminal_evaluation function\n",
    "\n",
    "The terminal_evaluation function in Julia takes a Board object as an argument and returns an integer score representing the evaluation of the board in a given terminal state. The function checks if the board is in checkmate, stalemate, material draw, or rule 50 draw, and returns a score accordingly.\n",
    "\n",
    "The function first checks if the board is in a checkmate position. If the board is in checkmate, the function returns a score of -100000 or 100000, depending on which player is in checkmate.\n",
    "A repetition position occurs when the same position occurs three times in a game, and the same player has the same possible moves. If the board is a draw, it returns a score of 0."
   ]
  },
  {
   "cell_type": "code",
   "execution_count": null,
   "metadata": {},
   "outputs": [],
   "source": [
    "function terminal_evaluation(aBoard::AdvBoard)::Int64\n",
    "    if ischeckmate(aBoard.state)\n",
    "        return sidetomove(aBoard.state) == WHITE ? -100000 : 100000\n",
    "    elseif isstalemate(aBoard.state) || ismaterialdraw(aBoard.state) || isrule50draw(aBoard.state)\n",
    "        return 0\n",
    "    end\n",
    "end"
   ]
  }
 ],
 "metadata": {
  "kernelspec": {
   "display_name": "Julia 1.8.2",
   "language": "julia",
   "name": "julia-1.8"
  },
  "language_info": {
   "file_extension": ".jl",
   "mimetype": "application/julia",
   "name": "julia",
   "version": "1.8.2"
  }
 },
 "nbformat": 4,
 "nbformat_minor": 4
}
