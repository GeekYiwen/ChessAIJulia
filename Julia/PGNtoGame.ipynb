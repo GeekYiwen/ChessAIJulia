{
 "cells": [
  {
   "cell_type": "code",
   "execution_count": 1,
   "metadata": {},
   "outputs": [
    {
     "data": {
      "text/html": [
       "<link href='http://fonts.googleapis.com/css?family=Alegreya+Sans:100,300,400,500,700,800,900,100italic,300italic,400italic,500italic,700italic,800italic,900italic' rel='stylesheet' type='text/css'>\r\n",
       "<link href='http://fonts.googleapis.com/css?family=Arvo:400,700,400italic' rel='stylesheet' type='text/css'>\r\n",
       "<link href='http://fonts.googleapis.com/css?family=PT+Mono' rel='stylesheet' type='text/css'>\r\n",
       "<link href='http://fonts.googleapis.com/css?family=Shadows+Into+Light' rel='stylesheet' type='text/css'>\r\n",
       "<link href='http://fonts.googleapis.com/css?family=Philosopher:400,700,400italic,700italic' rel='stylesheet' type='text/css'>\r\n",
       "\r\n",
       "<style>\r\n",
       "\r\n",
       "@font-face {\r\n",
       "    font-family: \"Computer Modern\";\r\n",
       "    src: url('http://mirrors.ctan.org/fonts/cm-unicode/fonts/otf/cmunss.otf');\r\n",
       "}\r\n",
       "\r\n",
       ".container { width: 100% }\r\n",
       "\r\n",
       "/* Formatting for header cells */\r\n",
       ".text_cell_render h1 {\r\n",
       "    font-family: 'Philosopher', sans-serif;\r\n",
       "    font-weight: 400;\r\n",
       "    font-size: 2.2em;\r\n",
       "    line-height: 100%;\r\n",
       "    color: rgb(0, 80, 120);\r\n",
       "    margin-bottom: 0.1em;\r\n",
       "    margin-top: 0.1em;\r\n",
       "    display: block;\r\n",
       "}\t\r\n",
       ".text_cell_render h2 {\r\n",
       "    font-family: 'Philosopher', serif;\r\n",
       "    font-weight: 400;\r\n",
       "    font-size: 1.9em;\r\n",
       "    line-height: 100%;\r\n",
       "    color: rgb(200,100,0);\r\n",
       "    margin-bottom: 0.1em;\r\n",
       "    margin-top: 0.1em;\r\n",
       "    display: block;\r\n",
       "}\t\r\n",
       "\r\n",
       ".text_cell_render h3 {\r\n",
       "    font-family: 'Philosopher', serif;\r\n",
       "    margin-top:12px;\r\n",
       "    margin-bottom: 3px;\r\n",
       "    font-style: italic;\r\n",
       "    color: rgb(94,127,192);\r\n",
       "}\r\n",
       "\r\n",
       ".text_cell_render h4 {\r\n",
       "    font-family: 'Philosopher', serif;\r\n",
       "}\r\n",
       "\r\n",
       ".text_cell_render h5 {\r\n",
       "    font-family: 'Alegreya Sans', sans-serif;\r\n",
       "    font-weight: 300;\r\n",
       "    font-size: 16pt;\r\n",
       "    color: grey;\r\n",
       "    font-style: italic;\r\n",
       "    margin-bottom: .1em;\r\n",
       "    margin-top: 0.1em;\r\n",
       "    display: block;\r\n",
       "}\r\n",
       "\r\n",
       ".text_cell_render h6 {\r\n",
       "    font-family: 'PT Mono', sans-serif;\r\n",
       "    font-weight: 300;\r\n",
       "    font-size: 10pt;\r\n",
       "    color: grey;\r\n",
       "    margin-bottom: 1px;\r\n",
       "    margin-top: 1px;\r\n",
       "}\r\n",
       "\r\n",
       ".text_cell_render em {\r\n",
       "    font-family: 'Philosopher', sans-serif;\r\n",
       "    color:        blue;\r\n",
       "    background-color: rgb(255,220,180);\r\n",
       "    font-size:    110%;\r\n",
       "    margin-left:   2px;\r\n",
       "    margin-right:  2px;\r\n",
       "    font-weight:   100;\r\n",
       "}\r\n",
       "\r\n",
       ".text_cell_render b {\r\n",
       "    color:            rgb(255,195,195);\r\n",
       "    background-color: rgb(0,0,0);\r\n",
       "    font-size:    110%;\r\n",
       "    margin-left:   2px;\r\n",
       "    margin-right:  2px;\r\n",
       "    font-weight:   650;\r\n",
       "}\r\n",
       "\r\n",
       ".text_cell_render tt {\r\n",
       "    font-size:    120%;\r\n",
       "    margin-left:   2px;\r\n",
       "    margin-right:  2px;\r\n",
       "    font-weight:   150;\r\n",
       "}\r\n",
       "\r\n",
       ".Codemirror {\r\n",
       "    font-family: \"PT Mono\";\r\n",
       "    font-size: 100%;\r\n",
       "}\r\n",
       "\r\n",
       "</style>\r\n",
       "\r\n"
      ],
      "text/plain": [
       "HTML{String}(\"<link href='http://fonts.googleapis.com/css?family=Alegreya+Sans:100,300,400,500,700,800,900,100italic,300italic,400italic,500italic,700italic,800italic,900italic' rel='stylesheet' type='text/css'>\\r\\n<link href='http://fonts.googleapis.com/css?family=Arvo:400,700,400italic' rel='stylesheet' type='text/css'>\\r\\n<link href='http://fonts.googleapis.com/css?family=PT+Mono' rel='stylesheet' type='text/css'>\\r\\n<link href='http://fonts.googleapis.com/css?family=Shadows+Into+Light' rel='stylesheet' type='text/css'>\\r\\n<link href='http://fonts.googleapis.com/css?family=Philosopher:400,700,400italic,700italic' rel='stylesheet' type='text/css'>\\r\\n\\r\\n<style>\\r\\n\\r\\n@font-face {\\r\\n    font-family: \\\"Computer Modern\\\";\\r\\n    src: url('http://mirrors.ctan.org/fonts/cm-unicode/fonts/otf/cmunss.otf');\\r\\n}\\r\\n\\r\\n.container { width: 100% }\\r\\n\\r\\n/* Formatting for header cells */\\r\\n.text_cell_render h1 {\\r\\n    font-family: 'Philosopher', sans-serif;\\r\\n    font-weight: 400;\\r\\n    font-size: 2.2em;\\r\\n    line-height: 100%;\\r\\n    color: rgb(0, 80, 120);\\r\\n    margin-bottom: 0.1em;\\r\\n    margin-top: 0.1em;\\r\\n    display: block;\\r\\n}\\t\\r\\n.text_cell_render h2 {\\r\\n    font-family: 'Philosopher', serif;\\r\\n    font-weight: 400;\\r\\n    font-size: 1.9em;\\r\\n    line-height: 100%;\\r\\n    color: rgb(200,100,0);\\r\\n    margin-bottom: 0.1em;\\r\\n    margin-top: 0.1em;\\r\\n    display: block;\\r\\n}\\t\\r\\n\\r\\n.text_cell_render h3 {\\r\\n    font-family: 'Philosopher', serif;\\r\\n    margin-top:12px;\\r\\n    margin-bottom: 3px;\\r\\n    font-style: italic;\\r\\n    color: rgb(94,127,192);\\r\\n}\\r\\n\\r\\n.text_cell_render h4 {\\r\\n    font-family: 'Philosopher', serif;\\r\\n}\\r\\n\\r\\n.text_cell_render h5 {\\r\\n    font-family: 'Alegreya Sans', sans-serif;\\r\\n    font-weight: 300;\\r\\n    font-size: 16pt;\\r\\n    color: grey;\\r\\n    font-style: italic;\\r\\n    margin-bottom: .1em;\\r\\n    margin-top: 0.1em;\\r\\n    display: block;\\r\\n}\\r\\n\\r\\n.text_cell_render h6 {\\r\\n    font-family: 'PT Mono', sans-serif;\\r\\n    font-weight: 300;\\r\\n    font-size: 10pt;\\r\\n    color: grey;\\r\\n    margin-bottom: 1px;\\r\\n    margin-top: 1px;\\r\\n}\\r\\n\\r\\n.text_cell_render em {\\r\\n    font-family: 'Philosopher', sans-serif;\\r\\n    color:        blue;\\r\\n    background-color: rgb(255,220,180);\\r\\n    font-size:    110%;\\r\\n    margin-left:   2px;\\r\\n    margin-right:  2px;\\r\\n    font-weight:   100;\\r\\n}\\r\\n\\r\\n.text_cell_render b {\\r\\n    color:            rgb(255,195,195);\\r\\n    background-color: rgb(0,0,0);\\r\\n    font-size:    110%;\\r\\n    margin-left:   2px;\\r\\n    margin-right:  2px;\\r\\n    font-weight:   650;\\r\\n}\\r\\n\\r\\n.text_cell_render tt {\\r\\n    font-size:    120%;\\r\\n    margin-left:   2px;\\r\\n    margin-right:  2px;\\r\\n    font-weight:   150;\\r\\n}\\r\\n\\r\\n.Codemirror {\\r\\n    font-family: \\\"PT Mono\\\";\\r\\n    font-size: 100%;\\r\\n}\\r\\n\\r\\n</style>\\r\\n\\r\\n\")"
      ]
     },
     "execution_count": 1,
     "metadata": {},
     "output_type": "execute_result"
    }
   ],
   "source": [
    "HTML(read(open(\"style.css\"), String))"
   ]
  },
  {
   "cell_type": "markdown",
   "metadata": {},
   "source": [
    "# PGN to Game Object\n",
    "\n",
    "This notebook allows you to import saved PGN files into your code. It will help us reconstruct games that we played with the engine."
   ]
  },
  {
   "cell_type": "code",
   "execution_count": 2,
   "metadata": {},
   "outputs": [],
   "source": [
    "using Pkg\n",
    "#Pkg.add(\"Chess\")\n",
    "using Chess, Chess.PGN"
   ]
  },
  {
   "cell_type": "code",
   "execution_count": 3,
   "metadata": {},
   "outputs": [
    {
     "data": {
      "text/plain": [
       "openPGNtoGame (generic function with 1 method)"
      ]
     },
     "execution_count": 3,
     "metadata": {},
     "output_type": "execute_result"
    }
   ],
   "source": [
    "function openPGNtoGame(filename)\n",
    "    open(filename, \"r\") do file\n",
    "        reader = PGNReader(file)\n",
    "        game = readgame(reader)\n",
    "        return game\n",
    "    end\n",
    "end"
   ]
  },
  {
   "cell_type": "code",
   "execution_count": 4,
   "metadata": {},
   "outputs": [
    {
     "data": {
      "text/html": [
       "SimpleGame (Random Player 1 vs Random Player 2, ??? 2023):<div class=\"game\"><svg style=\"float: left; margin-right: 20px\" viewBox=\"0 0 8 8\" height=\"280\" width=\"280\"><g><g><rect x=\"0\" y=\"0\" class=\"light-square\" height=\"1\" width=\"1\"></rect><image x=\"0\" xlink:href=\"https://raw.githubusercontent.com/romstad/Chess.jl/master/img/br.svg\" y=\"0\" height=\"1\" width=\"1\"></image></g><g><rect x=\"0\" y=\"1\" class=\"dark-square\" height=\"1\" width=\"1\"></rect><image x=\"0\" xlink:href=\"https://raw.githubusercontent.com/romstad/Chess.jl/master/img/bp.svg\" y=\"1\" height=\"1\" width=\"1\"></image></g><g><rect x=\"0\" y=\"2\" class=\"light-square\" height=\"1\" width=\"1\"></rect><g></g></g><g><rect x=\"0\" y=\"3\" class=\"dark-square\" height=\"1\" width=\"1\"></rect><g></g></g><g><rect x=\"0\" y=\"4\" class=\"light-square\" height=\"1\" width=\"1\"></rect><g></g></g><g><rect x=\"0\" y=\"5\" class=\"dark-square\" height=\"1\" width=\"1\"></rect><g></g></g><g><rect x=\"0\" y=\"6\" class=\"light-square\" height=\"1\" width=\"1\"></rect><image x=\"0\" xlink:href=\"https://raw.githubusercontent.com/romstad/Chess.jl/master/img/wp.svg\" y=\"6\" height=\"1\" width=\"1\"></image></g><g><rect x=\"0\" y=\"7\" class=\"dark-square\" height=\"1\" width=\"1\"></rect><image x=\"0\" xlink:href=\"https://raw.githubusercontent.com/romstad/Chess.jl/master/img/wr.svg\" y=\"7\" height=\"1\" width=\"1\"></image></g><g><rect x=\"1\" y=\"0\" class=\"dark-square\" height=\"1\" width=\"1\"></rect><image x=\"1\" xlink:href=\"https://raw.githubusercontent.com/romstad/Chess.jl/master/img/bn.svg\" y=\"0\" height=\"1\" width=\"1\"></image></g><g><rect x=\"1\" y=\"1\" class=\"light-square\" height=\"1\" width=\"1\"></rect><image x=\"1\" xlink:href=\"https://raw.githubusercontent.com/romstad/Chess.jl/master/img/bp.svg\" y=\"1\" height=\"1\" width=\"1\"></image></g><g><rect x=\"1\" y=\"2\" class=\"dark-square\" height=\"1\" width=\"1\"></rect><g></g></g><g><rect x=\"1\" y=\"3\" class=\"light-square\" height=\"1\" width=\"1\"></rect><g></g></g><g><rect x=\"1\" y=\"4\" class=\"dark-square\" height=\"1\" width=\"1\"></rect><g></g></g><g><rect x=\"1\" y=\"5\" class=\"light-square\" height=\"1\" width=\"1\"></rect><g></g></g><g><rect x=\"1\" y=\"6\" class=\"dark-square\" height=\"1\" width=\"1\"></rect><image x=\"1\" xlink:href=\"https://raw.githubusercontent.com/romstad/Chess.jl/master/img/wp.svg\" y=\"6\" height=\"1\" width=\"1\"></image></g><g><rect x=\"1\" y=\"7\" class=\"light-square\" height=\"1\" width=\"1\"></rect><image x=\"1\" xlink:href=\"https://raw.githubusercontent.com/romstad/Chess.jl/master/img/wn.svg\" y=\"7\" height=\"1\" width=\"1\"></image></g><g><rect x=\"2\" y=\"0\" class=\"light-square\" height=\"1\" width=\"1\"></rect><image x=\"2\" xlink:href=\"https://raw.githubusercontent.com/romstad/Chess.jl/master/img/bb.svg\" y=\"0\" height=\"1\" width=\"1\"></image></g><g><rect x=\"2\" y=\"1\" class=\"dark-square\" height=\"1\" width=\"1\"></rect><image x=\"2\" xlink:href=\"https://raw.githubusercontent.com/romstad/Chess.jl/master/img/bp.svg\" y=\"1\" height=\"1\" width=\"1\"></image></g><g><rect x=\"2\" y=\"2\" class=\"light-square\" height=\"1\" width=\"1\"></rect><g></g></g><g><rect x=\"2\" y=\"3\" class=\"dark-square\" height=\"1\" width=\"1\"></rect><g></g></g><g><rect x=\"2\" y=\"4\" class=\"light-square\" height=\"1\" width=\"1\"></rect><g></g></g><g><rect x=\"2\" y=\"5\" class=\"dark-square\" height=\"1\" width=\"1\"></rect><g></g></g><g><rect x=\"2\" y=\"6\" class=\"light-square\" height=\"1\" width=\"1\"></rect><image x=\"2\" xlink:href=\"https://raw.githubusercontent.com/romstad/Chess.jl/master/img/wp.svg\" y=\"6\" height=\"1\" width=\"1\"></image></g><g><rect x=\"2\" y=\"7\" class=\"dark-square\" height=\"1\" width=\"1\"></rect><image x=\"2\" xlink:href=\"https://raw.githubusercontent.com/romstad/Chess.jl/master/img/wb.svg\" y=\"7\" height=\"1\" width=\"1\"></image></g><g><rect x=\"3\" y=\"0\" class=\"dark-square\" height=\"1\" width=\"1\"></rect><image x=\"3\" xlink:href=\"https://raw.githubusercontent.com/romstad/Chess.jl/master/img/bq.svg\" y=\"0\" height=\"1\" width=\"1\"></image></g><g><rect x=\"3\" y=\"1\" class=\"light-square\" height=\"1\" width=\"1\"></rect><image x=\"3\" xlink:href=\"https://raw.githubusercontent.com/romstad/Chess.jl/master/img/bp.svg\" y=\"1\" height=\"1\" width=\"1\"></image></g><g><rect x=\"3\" y=\"2\" class=\"dark-square\" height=\"1\" width=\"1\"></rect><g></g></g><g><rect x=\"3\" y=\"3\" class=\"light-square\" height=\"1\" width=\"1\"></rect><g></g></g><g><rect x=\"3\" y=\"4\" class=\"dark-square\" height=\"1\" width=\"1\"></rect><g></g></g><g><rect x=\"3\" y=\"5\" class=\"light-square\" height=\"1\" width=\"1\"></rect><g></g></g><g><rect x=\"3\" y=\"6\" class=\"dark-square\" height=\"1\" width=\"1\"></rect><image x=\"3\" xlink:href=\"https://raw.githubusercontent.com/romstad/Chess.jl/master/img/wp.svg\" y=\"6\" height=\"1\" width=\"1\"></image></g><g><rect x=\"3\" y=\"7\" class=\"light-square\" height=\"1\" width=\"1\"></rect><image x=\"3\" xlink:href=\"https://raw.githubusercontent.com/romstad/Chess.jl/master/img/wq.svg\" y=\"7\" height=\"1\" width=\"1\"></image></g><g><rect x=\"4\" y=\"0\" class=\"light-square\" height=\"1\" width=\"1\"></rect><image x=\"4\" xlink:href=\"https://raw.githubusercontent.com/romstad/Chess.jl/master/img/bk.svg\" y=\"0\" height=\"1\" width=\"1\"></image></g><g><rect x=\"4\" y=\"1\" class=\"dark-square\" height=\"1\" width=\"1\"></rect><image x=\"4\" xlink:href=\"https://raw.githubusercontent.com/romstad/Chess.jl/master/img/bp.svg\" y=\"1\" height=\"1\" width=\"1\"></image></g><g><rect x=\"4\" y=\"2\" class=\"light-square\" height=\"1\" width=\"1\"></rect><g></g></g><g><rect x=\"4\" y=\"3\" class=\"dark-square\" height=\"1\" width=\"1\"></rect><g></g></g><g><rect x=\"4\" y=\"4\" class=\"light-square\" height=\"1\" width=\"1\"></rect><g></g></g><g><rect x=\"4\" y=\"5\" class=\"dark-square\" height=\"1\" width=\"1\"></rect><g></g></g><g><rect x=\"4\" y=\"6\" class=\"light-square\" height=\"1\" width=\"1\"></rect><image x=\"4\" xlink:href=\"https://raw.githubusercontent.com/romstad/Chess.jl/master/img/wp.svg\" y=\"6\" height=\"1\" width=\"1\"></image></g><g><rect x=\"4\" y=\"7\" class=\"dark-square\" height=\"1\" width=\"1\"></rect><image x=\"4\" xlink:href=\"https://raw.githubusercontent.com/romstad/Chess.jl/master/img/wk.svg\" y=\"7\" height=\"1\" width=\"1\"></image></g><g><rect x=\"5\" y=\"0\" class=\"dark-square\" height=\"1\" width=\"1\"></rect><image x=\"5\" xlink:href=\"https://raw.githubusercontent.com/romstad/Chess.jl/master/img/bb.svg\" y=\"0\" height=\"1\" width=\"1\"></image></g><g><rect x=\"5\" y=\"1\" class=\"light-square\" height=\"1\" width=\"1\"></rect><image x=\"5\" xlink:href=\"https://raw.githubusercontent.com/romstad/Chess.jl/master/img/bp.svg\" y=\"1\" height=\"1\" width=\"1\"></image></g><g><rect x=\"5\" y=\"2\" class=\"dark-square\" height=\"1\" width=\"1\"></rect><g></g></g><g><rect x=\"5\" y=\"3\" class=\"light-square\" height=\"1\" width=\"1\"></rect><g></g></g><g><rect x=\"5\" y=\"4\" class=\"dark-square\" height=\"1\" width=\"1\"></rect><g></g></g><g><rect x=\"5\" y=\"5\" class=\"light-square\" height=\"1\" width=\"1\"></rect><g></g></g><g><rect x=\"5\" y=\"6\" class=\"dark-square\" height=\"1\" width=\"1\"></rect><image x=\"5\" xlink:href=\"https://raw.githubusercontent.com/romstad/Chess.jl/master/img/wp.svg\" y=\"6\" height=\"1\" width=\"1\"></image></g><g><rect x=\"5\" y=\"7\" class=\"light-square\" height=\"1\" width=\"1\"></rect><image x=\"5\" xlink:href=\"https://raw.githubusercontent.com/romstad/Chess.jl/master/img/wb.svg\" y=\"7\" height=\"1\" width=\"1\"></image></g><g><rect x=\"6\" y=\"0\" class=\"light-square\" height=\"1\" width=\"1\"></rect><image x=\"6\" xlink:href=\"https://raw.githubusercontent.com/romstad/Chess.jl/master/img/bn.svg\" y=\"0\" height=\"1\" width=\"1\"></image></g><g><rect x=\"6\" y=\"1\" class=\"dark-square\" height=\"1\" width=\"1\"></rect><image x=\"6\" xlink:href=\"https://raw.githubusercontent.com/romstad/Chess.jl/master/img/bp.svg\" y=\"1\" height=\"1\" width=\"1\"></image></g><g><rect x=\"6\" y=\"2\" class=\"light-square\" height=\"1\" width=\"1\"></rect><g></g></g><g><rect x=\"6\" y=\"3\" class=\"dark-square\" height=\"1\" width=\"1\"></rect><g></g></g><g><rect x=\"6\" y=\"4\" class=\"light-square\" height=\"1\" width=\"1\"></rect><g></g></g><g><rect x=\"6\" y=\"5\" class=\"dark-square\" height=\"1\" width=\"1\"></rect><g></g></g><g><rect x=\"6\" y=\"6\" class=\"light-square\" height=\"1\" width=\"1\"></rect><image x=\"6\" xlink:href=\"https://raw.githubusercontent.com/romstad/Chess.jl/master/img/wp.svg\" y=\"6\" height=\"1\" width=\"1\"></image></g><g><rect x=\"6\" y=\"7\" class=\"dark-square\" height=\"1\" width=\"1\"></rect><image x=\"6\" xlink:href=\"https://raw.githubusercontent.com/romstad/Chess.jl/master/img/wn.svg\" y=\"7\" height=\"1\" width=\"1\"></image></g><g><rect x=\"7\" y=\"0\" class=\"dark-square\" height=\"1\" width=\"1\"></rect><image x=\"7\" xlink:href=\"https://raw.githubusercontent.com/romstad/Chess.jl/master/img/br.svg\" y=\"0\" height=\"1\" width=\"1\"></image></g><g><rect x=\"7\" y=\"1\" class=\"light-square\" height=\"1\" width=\"1\"></rect><image x=\"7\" xlink:href=\"https://raw.githubusercontent.com/romstad/Chess.jl/master/img/bp.svg\" y=\"1\" height=\"1\" width=\"1\"></image></g><g><rect x=\"7\" y=\"2\" class=\"dark-square\" height=\"1\" width=\"1\"></rect><g></g></g><g><rect x=\"7\" y=\"3\" class=\"light-square\" height=\"1\" width=\"1\"></rect><g></g></g><g><rect x=\"7\" y=\"4\" class=\"dark-square\" height=\"1\" width=\"1\"></rect><g></g></g><g><rect x=\"7\" y=\"5\" class=\"light-square\" height=\"1\" width=\"1\"></rect><g></g></g><g><rect x=\"7\" y=\"6\" class=\"dark-square\" height=\"1\" width=\"1\"></rect><image x=\"7\" xlink:href=\"https://raw.githubusercontent.com/romstad/Chess.jl/master/img/wp.svg\" y=\"6\" height=\"1\" width=\"1\"></image></g><g><rect x=\"7\" y=\"7\" class=\"light-square\" height=\"1\" width=\"1\"></rect><image x=\"7\" xlink:href=\"https://raw.githubusercontent.com/romstad/Chess.jl/master/img/wr.svg\" y=\"7\" height=\"1\" width=\"1\"></image></g></g><g></g></svg><p>👉 1. Nc3 b5 2. Nb1 g5 3. d3 d5 4. Na3 h5 5. Bxg5 Nh6 6. e3 Na6 7. Nc4 e6 8. a4 Nb8 9. Qf3 Qxg5 10. Qf4 Qf6 11. Qe5 Qf4 12. Qxf4 bxc4 13. Qe4 Bd6 14. O-O-O Bxh2 15. Qf4 Bg3 16. e4 Bxf2 17. Qxf2 Ke7 18. Kd2 d4 19. b3 Rf8 20. Qf4 c3+ 21. Kc1 Ng8 22. Qf3 a6 23. a5 Nf6 24. Kb1 Re8 25. Kc1 Ra7 26. Qe3 Nd5 27. Qf2 Nb6 28. g4 h4 29. Qf3 Kf8 30. Qf5 c6 31. Rh2 e5 32. Qg6 Bf5 33. Qf6 Bxg4 34. b4 Re6 35. Rdd2 Bh3 36. Qh6+ Ke7 37. Qh8 Rd6 38. Qh6 Rf6 39. Rdg2 Rf5 40. Qh7 Nc4 41. Rg8 Bg2 42. Rf8 Bxf1 43. Qxf5 Rc7 44. Qh5 Nd6 45. Qxf7+ Nxf7 46. Kd1 Kd7 47. Nf3 Nd8 48. Rh3 Be2+ 49. Ke1 Ke7 50. Nxd4 Bd1 51. Kxd1 Kd6 52. Nf3 Rg7 53. d4 Rf7 54. Rh2 Ne6 55. Rh1 Rh7 56. Rg1 Nd7 57. Rg5 exd4 58. Re5 Nd8 59. Rc5 Ne6 60. Kc1 Rh6 61. Rd8 Rg6 62. b5 Kc7 63. Ra8 Nf4 64. Rh5 Ne2+ 65. Kb1 Rd6 66. Rxh4 c5 67. Rd8 Nf4 68. Re8 Re6 69. Rh3 Rd6 70. Rhh8 Nh3 71. Nd2 Ng5 72. bxa6 Re6 73. Nf3 Rxe8 74. Ne5 Nh7 75. Nc6 Ne5 76. Rxh7+ Kd6 77. Kc1 Nc4 78. Ra7 Ne5 79. Nd8 Nc4 80. Rb7 Ke5 81. Rb4 Kf6 82. Nb7 cxb4 83. Nd8 b3 84. e5+ Kf5 85. Kb1 d3 86. Kc1 Nxe5 87. cxd3 Kg6 88. Ne6 Ng4 89. Nf4+ Kf5 90. Ng2 Nf6 91. Ne1 b2+ 92. Kd1 Kg4 93. Nf3 b1=N 94. Ne5+ Kh3 95. d4 Nh5 96. Nf7 Re4 97. Nh8 Nf6 98. a7 Nd7 99. a8=R Rxd4+ 100. Ke2 Nb6 101. Rc8 Rg4 102. Rc7 Rg1 103. Re7 Kh4 104. Re6 Kg5 105. Rc6 Kf5 106. a6 Nd2 107. Rc7 Kg4 108. Rc8 Ne4 109. Ke3 Nd2 110. Rc4+ Nbxc4+ 111. Kf2 Nb3 112. Nf7 Rb1 113. Nh6+ Kh3 114. Nf7 Nd6 115. Nh6 Nb7 116. Ke2 N3a5 117. a7 Rd1 118. a8=Q Rh1 119. Ng8 Rh2+ 120. Ke1 Re2+ 121. Kf1 Rg2 122. Qa6 Nd6 123. Qa8 Kg4 124. Kxg2 Nf5 125. Qe8 Nd6 126. Kh1 Kf4 127. Kg1 Nf7 128. Qe3+ Kxe3 129. Kh1 Nh8 130. Ne7 Nc4 131. Nd5+ Kf2 132. Nf6 Ne5 133. Ne8 Nc4 134. Ng7 Nd2 135. Ne8 Nf1 136. Ng7 Ne3 137. Nf5 Nxf5 138. Kh2 Kf3 139. Kg1 c2 140. Kf1 Nh4 141. Ke1 c1=R+ 142. Kd2 Ke4 143. Ke2 Ke5 144. Kf2 Nf7 145. Ke2 Rh1 146. Kf2 Kd5 147. Ke3 Nd8 148. Kd2 Ke5 149. Kd3 Ng2 150. Ke2 Rh7 151. Kd2 Kd6 152. Kd1 Kd7 153. Kd2 Nf7 154. Kc1 Nd6 155. Kb1 Rh2 156. Kc1 Ke7 157. Kd2 Rh1 158. Kd3 Rc1 159. Ke2 Nc8 160. Kf3 Rc3+ 161. Kxg2 Kf6 162. Kg1 Kg6 163. Kf2 Rc2+ 164. Kf3 Re2 165. Kf4 Re3 166. Kxe3 </p><a onclick=\"navigator.clipboard.writeText(&#39;[Event &quot;Random Chess&quot;]\\n[Site &quot;???&quot;]\\n[Date &quot;2023.01.02&quot;]\\n[Round &quot;1&quot;]\\n[White &quot;Random Player 1&quot;]\\n[Black &quot;Random Player 2&quot;]\\n[Result &quot;*&quot;]\\n\\n1. Nc3 b5 2. Nb1 g5 3. d3 d5 4. Na3 h5 5. Bxg5 Nh6 6. e3 Na6 7. Nc4 e6 8. a4 Nb8 9. Qf3 Qxg5 10. Qf4 Qf6 11. Qe5 Qf4 12. Qxf4 bxc4 13. Qe4 Bd6 14. O-O-O Bxh2 15. Qf4 Bg3 16. e4 Bxf2 17. Qxf2 Ke7 18. Kd2 d4 19. b3 Rf8 20. Qf4 c3+ 21. Kc1 Ng8 22. Qf3 a6 23. a5 Nf6 24. Kb1 Re8 25. Kc1 Ra7 26. Qe3 Nd5 27. Qf2 Nb6 28. g4 h4 29. Qf3 Kf8 30. Qf5 c6 31. Rh2 e5 32. Qg6 Bf5 33. Qf6 Bxg4 34. b4 Re6 35. Rdd2 Bh3 36. Qh6+ Ke7 37. Qh8 Rd6 38. Qh6 Rf6 39. Rdg2 Rf5 40. Qh7 Nc4 41. Rg8 Bg2 42. Rf8 Bxf1 43. Qxf5 Rc7 44. Qh5 Nd6 45. Qxf7+ Nxf7 46. Kd1 Kd7 47. Nf3 Nd8 48. Rh3 Be2+ 49. Ke1 Ke7 50. Nxd4 Bd1 51. Kxd1 Kd6 52. Nf3 Rg7 53. d4 Rf7 54. Rh2 Ne6 55. Rh1 Rh7 56. Rg1 Nd7 57. Rg5 exd4 58. Re5 Nd8 59. Rc5 Ne6 60. Kc1 Rh6 61. Rd8 Rg6 62. b5 Kc7 63. Ra8 Nf4 64. Rh5 Ne2+ 65. Kb1 Rd6 66. Rxh4 c5 67. Rd8 Nf4 68. Re8 Re6 69. Rh3 Rd6 70. Rhh8 Nh3 71. Nd2 Ng5 72. bxa6 Re6 73. Nf3 Rxe8 74. Ne5 Nh7 75. Nc6 Ne5 76. Rxh7+ Kd6 77. Kc1 Nc4 78. Ra7 Ne5 79. Nd8 Nc4 80. Rb7 Ke5 81. Rb4 Kf6 82. Nb7 cxb4 83. Nd8 b3 84. e5+ Kf5 85. Kb1 d3 86. Kc1 Nxe5 87. cxd3 Kg6 88. Ne6 Ng4 89. Nf4+ Kf5 90. Ng2 Nf6 91. Ne1 b2+ 92. Kd1 Kg4 93. Nf3 b1=N 94. Ne5+ Kh3 95. d4 Nh5 96. Nf7 Re4 97. Nh8 Nf6 98. a7 Nd7 99. a8=R Rxd4+ 100. Ke2 Nb6 101. Rc8 Rg4 102. Rc7 Rg1 103. Re7 Kh4 104. Re6 Kg5 105. Rc6 Kf5 106. a6 Nd2 107. Rc7 Kg4 108. Rc8 Ne4 109. Ke3 Nd2 110. Rc4+ Nbxc4+ 111. Kf2 Nb3 112. Nf7 Rb1 113. Nh6+ Kh3 114. Nf7 Nd6 115. Nh6 Nb7 116. Ke2 N3a5 117. a7 Rd1 118. a8=Q Rh1 119. Ng8 Rh2+ 120. Ke1 Re2+ 121. Kf1 Rg2 122. Qa6 Nd6 123. Qa8 Kg4 124. Kxg2 Nf5 125. Qe8 Nd6 126. Kh1 Kf4 127. Kg1 Nf7 128. Qe3+ Kxe3 129. Kh1 Nh8 130. Ne7 Nc4 131. Nd5+ Kf2 132. Nf6 Ne5 133. Ne8 Nc4 134. Ng7 Nd2 135. Ne8 Nf1 136. Ng7 Ne3 137. Nf5 Nxf5 138. Kh2 Kf3 139. Kg1 c2 140. Kf1 Nh4 141. Ke1 c1=R+ 142. Kd2 Ke4 143. Ke2 Ke5 144. Kf2 Nf7 145. Ke2 Rh1 146. Kf2 Kd5 147. Ke3 Nd8 148. Kd2 Ke5 149. Kd3 Ng2 150. Ke2 Rh7 151. Kd2 Kd6 152. Kd1 Kd7 153. Kd2 Nf7 154. Kc1 Nd6 155. Kb1 Rh2 156. Kc1 Ke7 157. Kd2 Rh1 158. Kd3 Rc1 159. Ke2 Nc8 160. Kf3 Rc3+ 161. Kxg2 Kf6 162. Kg1 Kg6 163. Kf2 Rc2+ 164. Kf3 Re2 165. Kf4 Re3 166. Kxe3 *\\n&#39;).then(function(){},function(){});window.open(&#39;https://lichess.org/paste&#39;,&#39;_blank&#39;);\" href=\"\">Open in lichess</a></div>"
      ],
      "text/plain": [
       "SimpleGame (Random Player 1 vs Random Player 2, ??? 2023):\n",
       " * 1. Nc3 b5 2. Nb1 g5 3. d3 d5 4. Na3 h5 5. Bxg5 Nh6 6. e3 Na6 7. Nc4 e6 8. a4 Nb8 9. Qf3 Qxg5 10. Qf4 Qf6 11. Qe5 Qf4 12. Qxf4 bxc4 13. Qe4 Bd6 14. O-O-O Bxh2 15. Qf4 Bg3 16. e4 Bxf2 17. Qxf2 Ke7 18. Kd2 d4 19. b3 Rf8 20. Qf4 c3+ 21. Kc1 Ng8 22. Qf3 a6 23. a5 Nf6 24. Kb1 Re8 25. Kc1 Ra7 26. Qe3 Nd5 27. Qf2 Nb6 28. g4 h4 29. Qf3 Kf8 30. Qf5 c6 31. Rh2 e5 32. Qg6 Bf5 33. Qf6 Bxg4 34. b4 Re6 35. Rdd2 Bh3 36. Qh6+ Ke7 37. Qh8 Rd6 38. Qh6 Rf6 39. Rdg2 Rf5 40. Qh7 Nc4 41. Rg8 Bg2 42. Rf8 Bxf1 43. Qxf5 Rc7 44. Qh5 Nd6 45. Qxf7+ Nxf7 46. Kd1 Kd7 47. Nf3 Nd8 48. Rh3 Be2+ 49. Ke1 Ke7 50. Nxd4 Bd1 51. Kxd1 Kd6 52. Nf3 Rg7 53. d4 Rf7 54. Rh2 Ne6 55. Rh1 Rh7 56. Rg1 Nd7 57. Rg5 exd4 58. Re5 Nd8 59. Rc5 Ne6 60. Kc1 Rh6 61. Rd8 Rg6 62. b5 Kc7 63. Ra8 Nf4 64. Rh5 Ne2+ 65. Kb1 Rd6 66. Rxh4 c5 67. Rd8 Nf4 68. Re8 Re6 69. Rh3 Rd6 70. Rhh8 Nh3 71. Nd2 Ng5 72. bxa6 Re6 73. Nf3 Rxe8 74. Ne5 Nh7 75. Nc6 Ne5 76. Rxh7+ Kd6 77. Kc1 Nc4 78. Ra7 Ne5 79. Nd8 Nc4 80. Rb7 Ke5 81. Rb4 Kf6 82. Nb7 cxb4 83. Nd8 b3 84. e5+ Kf5 85. Kb1 d3 86. Kc1 Nxe5 87. cxd3 Kg6 88. Ne6 Ng4 89. Nf4+ Kf5 90. Ng2 Nf6 91. Ne1 b2+ 92. Kd1 Kg4 93. Nf3 b1=N 94. Ne5+ Kh3 95. d4 Nh5 96. Nf7 Re4 97. Nh8 Nf6 98. a7 Nd7 99. a8=R Rxd4+ 100. Ke2 Nb6 101. Rc8 Rg4 102. Rc7 Rg1 103. Re7 Kh4 104. Re6 Kg5 105. Rc6 Kf5 106. a6 Nd2 107. Rc7 Kg4 108. Rc8 Ne4 109. Ke3 Nd2 110. Rc4+ Nbxc4+ 111. Kf2 Nb3 112. Nf7 Rb1 113. Nh6+ Kh3 114. Nf7 Nd6 115. Nh6 Nb7 116. Ke2 N3a5 117. a7 Rd1 118. a8=Q Rh1 119. Ng8 Rh2+ 120. Ke1 Re2+ 121. Kf1 Rg2 122. Qa6 Nd6 123. Qa8 Kg4 124. Kxg2 Nf5 125. Qe8 Nd6 126. Kh1 Kf4 127. Kg1 Nf7 128. Qe3+ Kxe3 129. Kh1 Nh8 130. Ne7 Nc4 131. Nd5+ Kf2 132. Nf6 Ne5 133. Ne8 Nc4 134. Ng7 Nd2 135. Ne8 Nf1 136. Ng7 Ne3 137. Nf5 Nxf5 138. Kh2 Kf3 139. Kg1 c2 140. Kf1 Nh4 141. Ke1 c1=R+ 142. Kd2 Ke4 143. Ke2 Ke5 144. Kf2 Nf7 145. Ke2 Rh1 146. Kf2 Kd5 147. Ke3 Nd8 148. Kd2 Ke5 149. Kd3 Ng2 150. Ke2 Rh7 151. Kd2 Kd6 152. Kd1 Kd7 153. Kd2 Nf7 154. Kc1 Nd6 155. Kb1 Rh2 156. Kc1 Ke7 157. Kd2 Rh1 158. Kd3 Rc1 159. Ke2 Nc8 160. Kf3 Rc3+ 161. Kxg2 Kf6 162. Kg1 Kg6 163. Kf2 Rc2+ 164. Kf3 Re2 165. Kf4 Re3 166. Kxe3 "
      ]
     },
     "execution_count": 4,
     "metadata": {},
     "output_type": "execute_result"
    }
   ],
   "source": [
    "game = openPGNtoGame(\"RandomChess.pgn\")"
   ]
  },
  {
   "cell_type": "code",
   "execution_count": null,
   "metadata": {},
   "outputs": [],
   "source": []
  }
 ],
 "metadata": {
  "kernelspec": {
   "display_name": "Julia 1.8.2",
   "language": "julia",
   "name": "julia-1.8"
  },
  "language_info": {
   "file_extension": ".jl",
   "mimetype": "application/julia",
   "name": "julia",
   "version": "1.8.2"
  }
 },
 "nbformat": 4,
 "nbformat_minor": 4
}
