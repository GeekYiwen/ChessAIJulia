{
 "cells": [
  {
   "cell_type": "code",
   "execution_count": null,
   "metadata": {},
   "outputs": [],
   "source": [
    "HTML(read(open(\"style.css\"), String))"
   ]
  },
  {
   "cell_type": "markdown",
   "metadata": {},
   "source": [
    "# Iterative Deepening Testing"
   ]
  },
  {
   "cell_type": "code",
   "execution_count": null,
   "metadata": {},
   "outputs": [],
   "source": [
    "using Pkg\n",
    "# Pkg.add(\"NBInclude\")\n",
    "using NBInclude\n",
    "# Pkg.add(\"Chess\")\n",
    "using Chess\n",
    "using Test\n",
    "# Pkg.add(\"ProfileView\")\n",
    "using BenchmarkTools\n",
    "# using ProfileView\n",
    "# using Traceur"
   ]
  },
  {
   "cell_type": "code",
   "execution_count": null,
   "metadata": {},
   "outputs": [],
   "source": [
    "@nbinclude(\"IterativeDeepening.ipynb\")"
   ]
  },
  {
   "cell_type": "markdown",
   "metadata": {},
   "source": [
    "## Iterative Deepening"
   ]
  },
  {
   "cell_type": "code",
   "execution_count": null,
   "metadata": {
    "scrolled": false
   },
   "outputs": [],
   "source": [
    "# Alexander Flamberg vs Oldrich Duras, Opatija, 1912\n",
    "b1 = fromfen(\"r1b3k1/ppp3pp/8/3pB3/1P1P4/3K1P2/PP1n1q1P/R2Q3R b - - 0 1\")\n",
    "display(b1)\n",
    "# 1... Bf5+ 2. Kc3 Qe3# \n",
    "\n",
    "# Arturo Reggio vs Georg Marco, Monte Carlo, 1902\n",
    "b2 = fromfen(\"7k/1p4p1/p4b1p/3N3P/2p5/2rb4/PP2r3/K2R2R1 b - - 0 1\")\n",
    "display(b2)\n",
    "# 1... Rc1+ 2. Rxc1 Bxb2# \n",
    "cache = initCache()\n",
    "\n",
    "@testset \"iterativeDeepening\" begin\n",
    "    @test iterativeDeepening(b1, evaluate_position(b1), zobrist_hash(b1), 4, cache)[2] == movefromstring(\"c8f5\")\n",
    "    @test iterativeDeepening(b2, evaluate_position(b2), zobrist_hash(b2), 4)[2] == movefromstring(\"c3c1\")\n",
    "end\n",
    "print(\"Size of Cache: $(length(cache))\")"
   ]
  },
  {
   "cell_type": "code",
   "execution_count": null,
   "metadata": {},
   "outputs": [],
   "source": [
    "iterativeDeepening(b1, evaluate_position(b1), zobrist_hash(b1), 4)\n",
    "moves(b1)\n",
    "hash=zobrist_hash(b1, zobrist_hash(b1), movefromstring(\"c8f5\"))\n",
    "cache[hash]"
   ]
  },
  {
   "cell_type": "markdown",
   "metadata": {},
   "source": [
    "### mate in 1 test"
   ]
  },
  {
   "cell_type": "code",
   "execution_count": null,
   "metadata": {
    "scrolled": false
   },
   "outputs": [],
   "source": [
    "b1 = fromfen(\"7k/8/8/3K4/8/6R1/8/5R2 w - - 0 1\")\n",
    "display(b1)\n",
    "\n",
    "b2 = fromfen(\"k7/7K/8/8/6r1/8/8/5r2 b - - 0 1\")\n",
    "display(b2)\n",
    "\n",
    "@testset \"iterativeDeepening easy\" begin\n",
    "    @test iterativeDeepening(b1, evaluate_position(b1), zobrist_hash(b1), 5)[2] == movefromstring(\"f1h1\")\n",
    "    @test iterativeDeepening(b2, evaluate_position(b2), zobrist_hash(b2), 5)[2] == movefromstring(\"f1h1\")\n",
    "end"
   ]
  },
  {
   "cell_type": "markdown",
   "metadata": {},
   "source": [
    "## General Tests white"
   ]
  },
  {
   "cell_type": "code",
   "execution_count": null,
   "metadata": {},
   "outputs": [],
   "source": [
    "cache = initCache()\n",
    "pd_evaluate(b2, maxValue,evaluate_position(b2), zobrist_hash(b2), 6, cache)"
   ]
  },
  {
   "cell_type": "code",
   "execution_count": null,
   "metadata": {},
   "outputs": [],
   "source": [
    "iterativeDeepening(b2, evaluate_position(b2), zobrist_hash(b2), 4, cache)"
   ]
  },
  {
   "cell_type": "code",
   "execution_count": null,
   "metadata": {
    "scrolled": false
   },
   "outputs": [],
   "source": [
    "cache = initCache()\n",
    "b1 = fromfen(\"7k/P7/8/8/8/8/8/K7 w - - 0 1\")\n",
    "\n",
    "# Henry Buckle vs NN, London, 1840\n",
    "b2 = fromfen(\"r2qkb1r/pp2nppp/3p4/2pNN1B1/2BnP3/3P4/PPP2PPP/R2bK2R w KQkq - 1 0\")\n",
    "# 1. Nf6+ gxf6 2. Bxf7# \n",
    "\n",
    "\n",
    "# Louis Paulsen vs Blachy, New York, 1857\n",
    "b3 = fromfen(\"1rb4r/pkPp3p/1b1P3n/1Q6/N3Pp2/8/P1P3PP/7K w - - 1 0\")\n",
    "# 1. Qd5+ Ka6 2. cxb8=N# \n",
    "\n",
    "\n",
    "# Paul Morphy vs Duke Isouard, Paris, 1858\n",
    "b4 = fromfen(\"4kb1r/p2n1ppp/4q3/4p1B1/4P3/1Q6/PPP2PPP/2KR4 w k - 1 0\")\n",
    "# 1. Qb8+ Nxb8 2. Rd8# \n",
    "\n",
    "\n",
    "# Johannes Zukertort vs Adolf Anderssen, Breslau, 1865\n",
    "b5 = fromfen(\"r1b2k1r/ppp1bppp/8/1B1Q4/5q2/2P5/PPP2PPP/R3R1K1 w - - 1 0\")\n",
    "# 1. Qd8+ Bxd8 2. Re8# \n",
    "\n",
    "\n",
    "# Gustav Neumann vs Carl Mayet, Berlin, 1866\n",
    "b6 = fromfen(\"5rkr/pp2Rp2/1b1p1Pb1/3P2Q1/2n3P1/2p5/P4P2/4R1K1 w - - 1 0\")\n",
    "# 1. Qxg6+ fxg6 2. Rg7# \n",
    "\n",
    "@testset \"iterativeDeepening\" begin\n",
    "    display(b1)\n",
    "    @test iterativeDeepening(b1, evaluate_position(b1), zobrist_hash(b1), 4, cache)[2] == movefromstring(\"a7a8q\")\n",
    "    display(b2)\n",
    "    @test iterativeDeepening(b2, evaluate_position(b2), zobrist_hash(b2), 4, cache)[2] == movefromstring(\"d5f6\")\n",
    "    display(b3)\n",
    "    @test iterativeDeepening(b3, evaluate_position(b3), zobrist_hash(b3), 4, cache)[2] == movefromstring(\"b5d5\")\n",
    "    display(b4)\n",
    "    @test iterativeDeepening(b4, evaluate_position(b4), zobrist_hash(b4), 4, cache)[2] == movefromstring(\"b3b8\")\n",
    "    display(b5)\n",
    "    @test iterativeDeepening(b5, evaluate_position(b5), zobrist_hash(b5), 4, cache)[2] == movefromstring(\"d5d8\")\n",
    "    display(b6)\n",
    "    @test iterativeDeepening(b6, evaluate_position(b6), zobrist_hash(b6), 4, cache)[2] == movefromstring(\"g5g6\")\n",
    "end\n",
    "print(\"Size of Cache: $(length(cache))\")"
   ]
  },
  {
   "cell_type": "markdown",
   "metadata": {},
   "source": [
    "## General Tests black"
   ]
  },
  {
   "cell_type": "code",
   "execution_count": null,
   "metadata": {},
   "outputs": [],
   "source": [
    "cache = initCache()\n",
    "\n",
    "# Alexander Flamberg vs Oldrich Duras, Opatija, 1912\n",
    "b1 = fromfen(\"r1b3k1/ppp3pp/8/3pB3/1P1P4/3K1P2/PP1n1q1P/R2Q3R b - - 0 1\")\n",
    "# 1... Bf5+ 2. Kc3 Qe3# \n",
    "\n",
    "# Arturo Reggio vs Georg Marco, Monte Carlo, 1902\n",
    "b2 = fromfen(\"7k/1p4p1/p4b1p/3N3P/2p5/2rb4/PP2r3/K2R2R1 b - - 0 1\")\n",
    "# 1... Rc1+ 2. Rxc1 Bxb2# \n",
    "\n",
    "@testset \"iterativeDeepening\" begin\n",
    "    display(b1)\n",
    "    @test iterativeDeepening(b1, evaluate_position(b1), zobrist_hash(b1), 4, cache)[2] == movefromstring(\"c8f5\")\n",
    "    display(b2)\n",
    "    @test iterativeDeepening(b2, evaluate_position(b2), zobrist_hash(b2), 4, cache )[2] == movefromstring(\"c3c1\")\n",
    "end\n",
    "print(\"Size of Cache: $(length(cache))\")"
   ]
  },
  {
   "cell_type": "markdown",
   "metadata": {},
   "source": [
    "# Mate in seven moves"
   ]
  },
  {
   "cell_type": "code",
   "execution_count": null,
   "metadata": {},
   "outputs": [],
   "source": [
    "# Edward Lasker vs George Alan Thomas, London, 1912\n",
    "b1 = fromfen(\"rn3rk1/pbppq1pp/1p2pb2/4N2Q/3PN3/3B4/PPP2PPP/R3K2R w KQ - 7 11\")\n",
    "display(b1)\n",
    "cache = initCache()\n",
    "@time begin\n",
    "    #@profview iterativeDeepening(b1, evaluate_position(b1), zobrist_hash(b1), 5, cache)\n",
    "end"
   ]
  },
  {
   "cell_type": "markdown",
   "metadata": {},
   "source": [
    "## Benchmarks Tests\n"
   ]
  },
  {
   "cell_type": "code",
   "execution_count": null,
   "metadata": {
    "scrolled": false
   },
   "outputs": [],
   "source": [
    "b5 = fromfen(\"rnb1kbnr/ppp2ppp/8/3Pp3/7q/5N2/PPPP1PPP/RNBQKB1R w KQkq - 0 1\")\n",
    "m5 = movefromstring(\"f3h4\")\n",
    "display(b5)\n",
    "cache = initCache()\n",
    "score = evaluate_position(b5)\n",
    "score = evaluate_position(b5)\n",
    "hash = zobrist_hash(b5)\n",
    "for i in 1:10\n",
    "    @btime iterativeDeepening(b5, score, hash, 4,cache)\n",
    "end\n",
    "# @profview (evaluate_move(b5, m5, score))\n"
   ]
  },
  {
   "cell_type": "code",
   "execution_count": null,
   "metadata": {},
   "outputs": [],
   "source": [
    "b5 = fromfen(\"rnb1kbnr/ppp2ppp/8/3Pp3/7q/5N2/PPPP1PPP/RNBQKB1R w KQkq - 0 1\")\n",
    "m5 = movefromstring(\"f3h4\")\n",
    "display(b5)\n",
    "cache = initCache()\n",
    "score = evaluate_position(b5)\n",
    "score = evaluate_position(b5)\n",
    "hash = zobrist_hash(b5)\n",
    "for i in 1:10\n",
    "    @btime pd_evaluate(b5, maxValue, score,hash, 4,cache)\n",
    "end"
   ]
  },
  {
   "cell_type": "code",
   "execution_count": null,
   "metadata": {},
   "outputs": [],
   "source": [
    "State = fromfen(\"rnb1kbnr/ppp2ppp/8/3Pp3/7q/5N2/PPPP1PPP/RNBQKB1R w KQkq - 0 1\")\n",
    "display(b5)\n",
    "cache = initCache()\n",
    "score = evaluate_position(State)\n",
    "hash = zobrist_hash(State)\n",
    "next_moves = moves(State)\n",
    "side = BLACK\n",
    "bestVal = 905\n",
    "BestMoves = []\n",
    "for i in 1:10\n",
    "    @btime begin\n",
    "        BestMoves::Array{Move} = [move for move in next_moves if zobrist_hash(State, hash, move) in keys(cache) &&\n",
    "                                                cache[zobrist_hash(State, hash, move)][1] == \"=\" &&\n",
    "                                                cache[zobrist_hash(State, hash, move)][2] == bestVal]\n",
    "    end\n",
    "end"
   ]
  },
  {
   "cell_type": "markdown",
   "metadata": {},
   "source": [
    "#### Benchmark results:\n",
    "- with quiescenceMin/Max: about 2s +- 1s\n",
    "- without quiescence: about 0.15s +- 0.05s\n",
    "- quiescence see: about 0.3 +- 0.05s"
   ]
  },
  {
   "cell_type": "code",
   "execution_count": null,
   "metadata": {},
   "outputs": [],
   "source": [
    "b1 = fromfen(\"rnb1kbnr/ppp2ppp/8/3Pp3/7q/5N2/PPPP1PPP/RNBQKB1R w KQkq - 0 1\")\n",
    "display(b1)\n",
    "cache = initCache()\n",
    "for i in 1:10\n",
    "    @time iterativeDeepening(b1, evaluate_position(b1), zobrist_hash(b1), 4)\n",
    "end"
   ]
  },
  {
   "cell_type": "code",
   "execution_count": null,
   "metadata": {
    "scrolled": false
   },
   "outputs": [],
   "source": [
    "# Edward Lasker vs George Alan Thomas, London, 1912\n",
    "b1 = fromfen(\"rn3rk1/pbppq1pp/1p2pb2/4N2Q/3PN3/3B4/PPP2PPP/R3K2R w KQ - 7 11\")\n",
    "display(b1)\n",
    "cache = initCache()\n",
    "for i in 1:10\n",
    "    @time iterativeDeepening(b1, evaluate_position(b1), zobrist_hash(b1), 4)\n",
    "end"
   ]
  },
  {
   "cell_type": "markdown",
   "metadata": {},
   "source": [
    "## General Puzzles"
   ]
  },
  {
   "cell_type": "code",
   "execution_count": null,
   "metadata": {
    "scrolled": false
   },
   "outputs": [],
   "source": [
    "cache = initCache()\n",
    "\n",
    "# b1 = fromfen(\"r1b1k2r/pp1nqpp1/4p2p/3pP1N1/8/3BQ3/PP3PPP/2R2RK1 w kq - 0 1\")\n",
    "b1 = fromfen(\"kn6/pp5r/7r/7r/7R/7R/PP5R/KN6 w - - 0 1\")\n",
    "display(b1)\n",
    "\n",
    "@testset \"IDpuzzles\" begin\n",
    "    @test iterativeDeepening(b1, evaluate_position(b1), zobrist_hash(b1), 5, cache)\n",
    "end\n",
    "print(\"Size of Cache: $(length(cache))\")"
   ]
  },
  {
   "cell_type": "code",
   "execution_count": null,
   "metadata": {},
   "outputs": [],
   "source": [
    "# Edward Lasker vs George Alan Thomas, London, 1912\n",
    "b1 = fromfen(\"rn3rk1/pbppq1pp/1p2pb2/4N2Q/3PN3/3B4/PPP2PPP/R3K2R w KQ - 7 11\")\n",
    "display(b1)\n",
    "cache = initCache()\n",
    "@trace iterativeDeepening(b1, evaluate_position(b1), zobrist_hash(b1), 2, cache)"
   ]
  },
  {
   "cell_type": "code",
   "execution_count": null,
   "metadata": {},
   "outputs": [],
   "source": [
    "b1 = fromfen(\"r1bqkbnr/pppppppp/8/1P2n3/8/8/PBPPPPPP/RN1QKBNR b KQkq - 0 1\")\n",
    "display(b1)\n",
    "cache = initCache()\n",
    "iterativeDeepening(b1, evaluate_position(b1), zobrist_hash(b1), 6, cache)"
   ]
  },
  {
   "cell_type": "code",
   "execution_count": null,
   "metadata": {},
   "outputs": [],
   "source": [
    "b = fromfen(\"r1bqkbnr/pppppppp/8/1P2n3/8/8/PBPPPPPP/RN1QKBNR b KQkq - 0 1\")\n",
    "display(b)\n",
    "cache = initCache()\n",
    "iterativeDeepening(b, evaluate_position(b), zobrist_hash(b), 6, cache)"
   ]
  },
  {
   "cell_type": "code",
   "execution_count": null,
   "metadata": {},
   "outputs": [],
   "source": []
  }
 ],
 "metadata": {
  "kernelspec": {
   "display_name": "Julia 1.8.2",
   "language": "julia",
   "name": "julia-1.8"
  },
  "language_info": {
   "file_extension": ".jl",
   "mimetype": "application/julia",
   "name": "julia",
   "version": "1.8.2"
  }
 },
 "nbformat": 4,
 "nbformat_minor": 4
}
