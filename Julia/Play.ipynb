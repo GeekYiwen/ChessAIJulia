{
 "cells": [
  {
   "cell_type": "code",
   "execution_count": 25,
   "metadata": {},
   "outputs": [
    {
     "data": {
      "text/html": [
       "<link href='http://fonts.googleapis.com/css?family=Alegreya+Sans:100,300,400,500,700,800,900,100italic,300italic,400italic,500italic,700italic,800italic,900italic' rel='stylesheet' type='text/css'>\r\n",
       "<link href='http://fonts.googleapis.com/css?family=Arvo:400,700,400italic' rel='stylesheet' type='text/css'>\r\n",
       "<link href='http://fonts.googleapis.com/css?family=PT+Mono' rel='stylesheet' type='text/css'>\r\n",
       "<link href='http://fonts.googleapis.com/css?family=Shadows+Into+Light' rel='stylesheet' type='text/css'>\r\n",
       "<link href='http://fonts.googleapis.com/css?family=Philosopher:400,700,400italic,700italic' rel='stylesheet' type='text/css'>\r\n",
       "\r\n",
       "<style>\r\n",
       "\r\n",
       "@font-face {\r\n",
       "    font-family: \"Computer Modern\";\r\n",
       "    src: url('http://mirrors.ctan.org/fonts/cm-unicode/fonts/otf/cmunss.otf');\r\n",
       "}\r\n",
       "\r\n",
       ".container { width: 100% }\r\n",
       "\r\n",
       "/* Formatting for header cells */\r\n",
       ".text_cell_render h1 {\r\n",
       "    font-family: 'Philosopher', sans-serif;\r\n",
       "    font-weight: 400;\r\n",
       "    font-size: 2.2em;\r\n",
       "    line-height: 100%;\r\n",
       "    color: rgb(0, 80, 120);\r\n",
       "    margin-bottom: 0.1em;\r\n",
       "    margin-top: 0.1em;\r\n",
       "    display: block;\r\n",
       "}\t\r\n",
       ".text_cell_render h2 {\r\n",
       "    font-family: 'Philosopher', serif;\r\n",
       "    font-weight: 400;\r\n",
       "    font-size: 1.9em;\r\n",
       "    line-height: 100%;\r\n",
       "    color: rgb(200,100,0);\r\n",
       "    margin-bottom: 0.1em;\r\n",
       "    margin-top: 0.1em;\r\n",
       "    display: block;\r\n",
       "}\t\r\n",
       "\r\n",
       ".text_cell_render h3 {\r\n",
       "    font-family: 'Philosopher', serif;\r\n",
       "    margin-top:12px;\r\n",
       "    margin-bottom: 3px;\r\n",
       "    font-style: italic;\r\n",
       "    color: rgb(94,127,192);\r\n",
       "}\r\n",
       "\r\n",
       ".text_cell_render h4 {\r\n",
       "    font-family: 'Philosopher', serif;\r\n",
       "}\r\n",
       "\r\n",
       ".text_cell_render h5 {\r\n",
       "    font-family: 'Alegreya Sans', sans-serif;\r\n",
       "    font-weight: 300;\r\n",
       "    font-size: 16pt;\r\n",
       "    color: grey;\r\n",
       "    font-style: italic;\r\n",
       "    margin-bottom: .1em;\r\n",
       "    margin-top: 0.1em;\r\n",
       "    display: block;\r\n",
       "}\r\n",
       "\r\n",
       ".text_cell_render h6 {\r\n",
       "    font-family: 'PT Mono', sans-serif;\r\n",
       "    font-weight: 300;\r\n",
       "    font-size: 10pt;\r\n",
       "    color: grey;\r\n",
       "    margin-bottom: 1px;\r\n",
       "    margin-top: 1px;\r\n",
       "}\r\n",
       "\r\n",
       ".text_cell_render em {\r\n",
       "    font-family: 'Philosopher', sans-serif;\r\n",
       "    color:        blue;\r\n",
       "    background-color: rgb(255,220,180);\r\n",
       "    font-size:    110%;\r\n",
       "    margin-left:   2px;\r\n",
       "    margin-right:  2px;\r\n",
       "    font-weight:   100;\r\n",
       "}\r\n",
       "\r\n",
       ".text_cell_render b {\r\n",
       "    color:            rgb(255,195,195);\r\n",
       "    background-color: rgb(0,0,0);\r\n",
       "    font-size:    110%;\r\n",
       "    margin-left:   2px;\r\n",
       "    margin-right:  2px;\r\n",
       "    font-weight:   650;\r\n",
       "}\r\n",
       "\r\n",
       ".text_cell_render tt {\r\n",
       "    font-size:    120%;\r\n",
       "    margin-left:   2px;\r\n",
       "    margin-right:  2px;\r\n",
       "    font-weight:   150;\r\n",
       "}\r\n",
       "\r\n",
       ".Codemirror {\r\n",
       "    font-family: \"PT Mono\";\r\n",
       "    font-size: 100%;\r\n",
       "}\r\n",
       "\r\n",
       "</style>\r\n",
       "\r\n"
      ],
      "text/plain": [
       "HTML{String}(\"<link href='http://fonts.googleapis.com/css?family=Alegreya+Sans:100,300,400,500,700,800,900,100italic,300italic,400italic,500italic,700italic,800italic,900italic' rel='stylesheet' type='text/css'>\\r\\n<link href='http://fonts.googleapis.com/css?family=Arvo:400,700,400italic' rel='stylesheet' type='text/css'>\\r\\n<link href='http://fonts.googleapis.com/css?family=PT+Mono' rel='stylesheet' type='text/css'>\\r\\n<link href='http://fonts.googleapis.com/css?family=Shadows+Into+Light' rel='stylesheet' type='text/css'>\\r\\n<link href='http://fonts.googleapis.com/css?family=Philosopher:400,700,400italic,700italic' rel='stylesheet' type='text/css'>\\r\\n\\r\\n<style>\\r\\n\\r\\n@font-face {\\r\\n    font-family: \\\"Computer Modern\\\";\\r\\n    src: url('http://mirrors.ctan.org/fonts/cm-unicode/fonts/otf/cmunss.otf');\\r\\n}\\r\\n\\r\\n.container { width: 100% }\\r\\n\\r\\n/* Formatting for header cells */\\r\\n.text_cell_render h1 {\\r\\n    font-family: 'Philosopher', sans-serif;\\r\\n    font-weight: 400;\\r\\n    font-size: 2.2em;\\r\\n    line-height: 100%;\\r\\n    color: rgb(0, 80, 120);\\r\\n    margin-bottom: 0.1em;\\r\\n    margin-top: 0.1em;\\r\\n    display: block;\\r\\n}\\t\\r\\n.text_cell_render h2 {\\r\\n    font-family: 'Philosopher', serif;\\r\\n    font-weight: 400;\\r\\n    font-size: 1.9em;\\r\\n    line-height: 100%;\\r\\n    color: rgb(200,100,0);\\r\\n    margin-bottom: 0.1em;\\r\\n    margin-top: 0.1em;\\r\\n    display: block;\\r\\n}\\t\\r\\n\\r\\n.text_cell_render h3 {\\r\\n    font-family: 'Philosopher', serif;\\r\\n    margin-top:12px;\\r\\n    margin-bottom: 3px;\\r\\n    font-style: italic;\\r\\n    color: rgb(94,127,192);\\r\\n}\\r\\n\\r\\n.text_cell_render h4 {\\r\\n    font-family: 'Philosopher', serif;\\r\\n}\\r\\n\\r\\n.text_cell_render h5 {\\r\\n    font-family: 'Alegreya Sans', sans-serif;\\r\\n    font-weight: 300;\\r\\n    font-size: 16pt;\\r\\n    color: grey;\\r\\n    font-style: italic;\\r\\n    margin-bottom: .1em;\\r\\n    margin-top: 0.1em;\\r\\n    display: block;\\r\\n}\\r\\n\\r\\n.text_cell_render h6 {\\r\\n    font-family: 'PT Mono', sans-serif;\\r\\n    font-weight: 300;\\r\\n    font-size: 10pt;\\r\\n    color: grey;\\r\\n    margin-bottom: 1px;\\r\\n    margin-top: 1px;\\r\\n}\\r\\n\\r\\n.text_cell_render em {\\r\\n    font-family: 'Philosopher', sans-serif;\\r\\n    color:        blue;\\r\\n    background-color: rgb(255,220,180);\\r\\n    font-size:    110%;\\r\\n    margin-left:   2px;\\r\\n    margin-right:  2px;\\r\\n    font-weight:   100;\\r\\n}\\r\\n\\r\\n.text_cell_render b {\\r\\n    color:            rgb(255,195,195);\\r\\n    background-color: rgb(0,0,0);\\r\\n    font-size:    110%;\\r\\n    margin-left:   2px;\\r\\n    margin-right:  2px;\\r\\n    font-weight:   650;\\r\\n}\\r\\n\\r\\n.text_cell_render tt {\\r\\n    font-size:    120%;\\r\\n    margin-left:   2px;\\r\\n    margin-right:  2px;\\r\\n    font-weight:   150;\\r\\n}\\r\\n\\r\\n.Codemirror {\\r\\n    font-family: \\\"PT Mono\\\";\\r\\n    font-size: 100%;\\r\\n}\\r\\n\\r\\n</style>\\r\\n\\r\\n\")"
      ]
     },
     "execution_count": 25,
     "metadata": {},
     "output_type": "execute_result"
    }
   ],
   "source": [
    "HTML(read(open(\"style.css\"), String))"
   ]
  },
  {
   "cell_type": "markdown",
   "metadata": {},
   "source": [
    "# Play a Chess Game"
   ]
  },
  {
   "cell_type": "code",
   "execution_count": 26,
   "metadata": {},
   "outputs": [],
   "source": [
    "using Pkg\n",
    "# Pkg.add(\"Chess\")\n",
    "using Chess\n",
    "using Random\n",
    "\n",
    "# Pkg.add(\"NBInclude\")\n",
    "using NBInclude"
   ]
  },
  {
   "cell_type": "code",
   "execution_count": 27,
   "metadata": {},
   "outputs": [
    {
     "ename": "LoadError",
     "evalue": "LoadError: MethodError: objects of type Board are not callable\nin expression starting at C:\\Users\\yiwen\\Documents\\GitHub\\ChessAIJulia\\Julia\\Random Chess.ipynb:In[7]:2\nin expression starting at C:\\Users\\yiwen\\Documents\\GitHub\\ChessAIJulia\\Julia\\Chess Games Save.ipynb:In[3]:1",
     "output_type": "error",
     "traceback": [
      "LoadError: MethodError: objects of type Board are not callable\nin expression starting at C:\\Users\\yiwen\\Documents\\GitHub\\ChessAIJulia\\Julia\\Random Chess.ipynb:In[7]:2\nin expression starting at C:\\Users\\yiwen\\Documents\\GitHub\\ChessAIJulia\\Julia\\Chess Games Save.ipynb:In[3]:1",
      "",
      "Stacktrace:",
      "  [1] top-level scope",
      "    @ C:\\Users\\yiwen\\Documents\\GitHub\\ChessAIJulia\\Julia\\Random Chess.ipynb:In[7]:2",
      "  [2] eval",
      "    @ .\\boot.jl:368 [inlined]",
      "  [3] include_string(mapexpr::typeof(identity), mod::Module, code::String, filename::String)",
      "    @ Base .\\loading.jl:1428",
      "  [4] include_string",
      "    @ .\\loading.jl:1438 [inlined]",
      "  [5] my_include_string(m::Module, s::String, path::String, prev::String, softscope::Bool)",
      "    @ NBInclude C:\\Users\\yiwen\\.julia\\packages\\NBInclude\\MxvbF\\src\\NBInclude.jl:30",
      "  [6] #2",
      "    @ C:\\Users\\yiwen\\.julia\\packages\\NBInclude\\MxvbF\\src\\NBInclude.jl:93 [inlined]",
      "  [7] task_local_storage(body::NBInclude.var\"#2#3\"{Bool, Module, String, String, String, String}, key::Symbol, val::Bool)",
      "    @ Base .\\task.jl:292",
      "  [8] nbinclude(m::Module, path::String; renumber::Bool, counters::UnitRange{Int64}, regex::Regex, anshook::typeof(identity), softscope::Bool)",
      "    @ NBInclude C:\\Users\\yiwen\\.julia\\packages\\NBInclude\\MxvbF\\src\\NBInclude.jl:92",
      "  [9] nbinclude(m::Module, path::String)",
      "    @ NBInclude C:\\Users\\yiwen\\.julia\\packages\\NBInclude\\MxvbF\\src\\NBInclude.jl:57",
      " [10] top-level scope",
      "    @ C:\\Users\\yiwen\\Documents\\GitHub\\ChessAIJulia\\Julia\\Chess Games Save.ipynb:In[3]:1",
      " [11] eval",
      "    @ .\\boot.jl:368 [inlined]",
      " [12] include_string(mapexpr::typeof(identity), mod::Module, code::String, filename::String)",
      "    @ Base .\\loading.jl:1428",
      " [13] include_string",
      "    @ .\\loading.jl:1438 [inlined]",
      " [14] my_include_string(m::Module, s::String, path::String, prev::Nothing, softscope::Bool)",
      "    @ NBInclude C:\\Users\\yiwen\\.julia\\packages\\NBInclude\\MxvbF\\src\\NBInclude.jl:30",
      " [15] #2",
      "    @ C:\\Users\\yiwen\\.julia\\packages\\NBInclude\\MxvbF\\src\\NBInclude.jl:93 [inlined]",
      " [16] task_local_storage(body::NBInclude.var\"#2#3\"{Bool, Module, String, Nothing, String, String}, key::Symbol, val::Bool)",
      "    @ Base .\\task.jl:292",
      " [17] nbinclude(m::Module, path::String; renumber::Bool, counters::UnitRange{Int64}, regex::Regex, anshook::typeof(identity), softscope::Bool)",
      "    @ NBInclude C:\\Users\\yiwen\\.julia\\packages\\NBInclude\\MxvbF\\src\\NBInclude.jl:92",
      " [18] nbinclude(m::Module, path::String)",
      "    @ NBInclude C:\\Users\\yiwen\\.julia\\packages\\NBInclude\\MxvbF\\src\\NBInclude.jl:57",
      " [19] top-level scope",
      "    @ In[27]:1",
      " [20] eval",
      "    @ .\\boot.jl:368 [inlined]",
      " [21] include_string(mapexpr::typeof(REPL.softscope), mod::Module, code::String, filename::String)",
      "    @ Base .\\loading.jl:1428"
     ]
    }
   ],
   "source": [
    "@nbinclude(\"Chess Games Save.ipynb\")"
   ]
  },
  {
   "cell_type": "code",
   "execution_count": 28,
   "metadata": {},
   "outputs": [
    {
     "data": {
      "text/plain": [
       "false"
      ]
     },
     "execution_count": 28,
     "metadata": {},
     "output_type": "execute_result"
    }
   ],
   "source": [
    "@nbinclude(\"ValidateUserInput.ipynb\")"
   ]
  },
  {
   "cell_type": "markdown",
   "metadata": {},
   "source": [
    "## Side functions"
   ]
  },
  {
   "cell_type": "markdown",
   "metadata": {},
   "source": [
    "`printGame` function prints the board to standard output. Settings can be set here. "
   ]
  },
  {
   "cell_type": "code",
   "execution_count": null,
   "metadata": {},
   "outputs": [],
   "source": [
    "function printGame(game)\n",
    "    pprint(board(game), color = true)\n",
    "end"
   ]
  },
  {
   "cell_type": "markdown",
   "metadata": {},
   "source": [
    "`printWin(game)` prints the result of the game as a text message."
   ]
  },
  {
   "cell_type": "code",
   "execution_count": null,
   "metadata": {},
   "outputs": [],
   "source": [
    "function printWin(board)\n",
    "    if ischeckmate(board)\n",
    "        color = sidetomove(board)\n",
    "        color == \"WHITE\" ? color = \"BLACK\" : color = \"WHITE\"\n",
    "        print(color * \" wins by checkmate\" )\n",
    "    elseif isstalemate(board)\n",
    "        print(\"Stalemate\")\n",
    "    elseif ismaterialdraw(board)\n",
    "        print(\"Draw by insufficient material\")\n",
    "    elseif isrule50draw(board)\n",
    "        print(\"Draw by 50 move draw\")\n",
    "    end\n",
    "end"
   ]
  },
  {
   "cell_type": "markdown",
   "metadata": {},
   "source": [
    "## Play game\n",
    "\n",
    "In this section you can play a chess game against one of the programmed \"engines\". In `playMove` you can specify which algorithm you want to play against. Before that you have to load in the nessesary Jupyter Notebook with the algorithm in it."
   ]
  },
  {
   "cell_type": "code",
   "execution_count": null,
   "metadata": {},
   "outputs": [],
   "source": [
    "@nbinclude(\"Random Chess.ipynb\")"
   ]
  },
  {
   "cell_type": "code",
   "execution_count": null,
   "metadata": {},
   "outputs": [],
   "source": [
    "# @nbinclude(\"Minimax.ipynb\")"
   ]
  },
  {
   "cell_type": "markdown",
   "metadata": {},
   "source": [
    "### Select your Engine here"
   ]
  },
  {
   "cell_type": "code",
   "execution_count": null,
   "metadata": {},
   "outputs": [],
   "source": [
    "function playMove(game)\n",
    "    playRandomMove(game)\n",
    "    # playMinimaxMove(game, 4)\n",
    "end"
   ]
  },
  {
   "cell_type": "code",
   "execution_count": null,
   "metadata": {},
   "outputs": [],
   "source": [
    "function playGame(color, seed)\n",
    "    Random.seed!(seed)\n",
    "    # validation\n",
    "    game = SimpleGame()\n",
    "    printGame(game)\n",
    "    setGameHeaders(game)\n",
    "    \n",
    "    # Offset move if player is black\n",
    "    if color == \"black\"\n",
    "        playMove(game)\n",
    "        printGame(game)\n",
    "    elseif color != \"white\"\n",
    "        print(\"Invalid color. Choose white or black\")   \n",
    "        return\n",
    "    end\n",
    "\n",
    "    while true\n",
    "        # User Move\n",
    "        if !isterminal(game)\n",
    "            # User input validation\n",
    "            while true\n",
    "                userMove = readline()\n",
    "                bool_legal_move = is_legal_move(board(game), movefromstring(userMove))\n",
    "                if !bool_legal_move\n",
    "                    println(\"Invalid Move: \"* userMove)\n",
    "                end\n",
    "                !bool_legal_move || break\n",
    "            end\n",
    "            \n",
    "            domove!(game, userMove)\n",
    "            # IJulia.clear_output(true)\n",
    "            # sleep(1)\n",
    "            printGame(game)\n",
    "        else\n",
    "            break\n",
    "        end\n",
    "        \n",
    "        # Delay\n",
    "        sleep(1)\n",
    "        \n",
    "        # Engine Move\n",
    "        if !isterminal(game)\n",
    "            playMove(game)\n",
    "            # IJulia.clear_output(true)\n",
    "            # sleep(1)\n",
    "            printGame(game)\n",
    "        else\n",
    "            break\n",
    "        end\n",
    "    end\n",
    "    saveGameToPGN(game)\n",
    "    printWin(board(game))\n",
    "    return game\n",
    "end"
   ]
  },
  {
   "cell_type": "code",
   "execution_count": null,
   "metadata": {},
   "outputs": [],
   "source": [
    "playGame(\"white\", 1233)"
   ]
  },
  {
   "cell_type": "code",
   "execution_count": null,
   "metadata": {},
   "outputs": [],
   "source": [
    "g = SimpleGame()\n",
    "board(g)"
   ]
  },
  {
   "cell_type": "code",
   "execution_count": null,
   "metadata": {},
   "outputs": [],
   "source": []
  }
 ],
 "metadata": {
  "kernelspec": {
   "display_name": "Julia 1.8.2",
   "language": "julia",
   "name": "julia-1.8"
  },
  "language_info": {
   "file_extension": ".jl",
   "mimetype": "application/julia",
   "name": "julia",
   "version": "1.8.2"
  }
 },
 "nbformat": 4,
 "nbformat_minor": 4
}
