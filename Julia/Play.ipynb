{
 "cells": [
  {
   "cell_type": "code",
   "execution_count": 16,
   "metadata": {},
   "outputs": [
    {
     "data": {
      "text/html": [
       "<link href='http://fonts.googleapis.com/css?family=Alegreya+Sans:100,300,400,500,700,800,900,100italic,300italic,400italic,500italic,700italic,800italic,900italic' rel='stylesheet' type='text/css'>\r\n",
       "<link href='http://fonts.googleapis.com/css?family=Arvo:400,700,400italic' rel='stylesheet' type='text/css'>\r\n",
       "<link href='http://fonts.googleapis.com/css?family=PT+Mono' rel='stylesheet' type='text/css'>\r\n",
       "<link href='http://fonts.googleapis.com/css?family=Shadows+Into+Light' rel='stylesheet' type='text/css'>\r\n",
       "<link href='http://fonts.googleapis.com/css?family=Philosopher:400,700,400italic,700italic' rel='stylesheet' type='text/css'>\r\n",
       "\r\n",
       "<style>\r\n",
       "\r\n",
       "@font-face {\r\n",
       "    font-family: \"Computer Modern\";\r\n",
       "    src: url('http://mirrors.ctan.org/fonts/cm-unicode/fonts/otf/cmunss.otf');\r\n",
       "}\r\n",
       "\r\n",
       ".container { width: 100% }\r\n",
       "\r\n",
       "/* Formatting for header cells */\r\n",
       ".text_cell_render h1 {\r\n",
       "    font-family: 'Philosopher', sans-serif;\r\n",
       "    font-weight: 400;\r\n",
       "    font-size: 2.2em;\r\n",
       "    line-height: 100%;\r\n",
       "    color: rgb(0, 80, 120);\r\n",
       "    margin-bottom: 0.1em;\r\n",
       "    margin-top: 0.1em;\r\n",
       "    display: block;\r\n",
       "}\t\r\n",
       ".text_cell_render h2 {\r\n",
       "    font-family: 'Philosopher', serif;\r\n",
       "    font-weight: 400;\r\n",
       "    font-size: 1.9em;\r\n",
       "    line-height: 100%;\r\n",
       "    color: rgb(200,100,0);\r\n",
       "    margin-bottom: 0.1em;\r\n",
       "    margin-top: 0.1em;\r\n",
       "    display: block;\r\n",
       "}\t\r\n",
       "\r\n",
       ".text_cell_render h3 {\r\n",
       "    font-family: 'Philosopher', serif;\r\n",
       "    margin-top:12px;\r\n",
       "    margin-bottom: 3px;\r\n",
       "    font-style: italic;\r\n",
       "    color: rgb(94,127,192);\r\n",
       "}\r\n",
       "\r\n",
       ".text_cell_render h4 {\r\n",
       "    font-family: 'Philosopher', serif;\r\n",
       "}\r\n",
       "\r\n",
       ".text_cell_render h5 {\r\n",
       "    font-family: 'Alegreya Sans', sans-serif;\r\n",
       "    font-weight: 300;\r\n",
       "    font-size: 16pt;\r\n",
       "    color: grey;\r\n",
       "    font-style: italic;\r\n",
       "    margin-bottom: .1em;\r\n",
       "    margin-top: 0.1em;\r\n",
       "    display: block;\r\n",
       "}\r\n",
       "\r\n",
       ".text_cell_render h6 {\r\n",
       "    font-family: 'PT Mono', sans-serif;\r\n",
       "    font-weight: 300;\r\n",
       "    font-size: 10pt;\r\n",
       "    color: grey;\r\n",
       "    margin-bottom: 1px;\r\n",
       "    margin-top: 1px;\r\n",
       "}\r\n",
       "\r\n",
       ".text_cell_render em {\r\n",
       "    font-family: 'Philosopher', sans-serif;\r\n",
       "    color:        blue;\r\n",
       "    background-color: rgb(255,220,180);\r\n",
       "    font-size:    110%;\r\n",
       "    margin-left:   2px;\r\n",
       "    margin-right:  2px;\r\n",
       "    font-weight:   100;\r\n",
       "}\r\n",
       "\r\n",
       ".text_cell_render b {\r\n",
       "    color:            rgb(255,195,195);\r\n",
       "    background-color: rgb(0,0,0);\r\n",
       "    font-size:    110%;\r\n",
       "    margin-left:   2px;\r\n",
       "    margin-right:  2px;\r\n",
       "    font-weight:   650;\r\n",
       "}\r\n",
       "\r\n",
       ".text_cell_render tt {\r\n",
       "    font-size:    120%;\r\n",
       "    margin-left:   2px;\r\n",
       "    margin-right:  2px;\r\n",
       "    font-weight:   150;\r\n",
       "}\r\n",
       "\r\n",
       ".Codemirror {\r\n",
       "    font-family: \"PT Mono\";\r\n",
       "    font-size: 100%;\r\n",
       "}\r\n",
       "\r\n",
       "</style>\r\n",
       "\r\n"
      ],
      "text/plain": [
       "HTML{String}(\"<link href='http://fonts.googleapis.com/css?family=Alegreya+Sans:100,300,400,500,700,800,900,100italic,300italic,400italic,500italic,700italic,800italic,900italic' rel='stylesheet' type='text/css'>\\r\\n<link href='http://fonts.googleapis.com/css?family=Arvo:400,700,400italic' rel='stylesheet' type='text/css'>\\r\\n<link href='http://fonts.googleapis.com/css?family=PT+Mono' rel='stylesheet' type='text/css'>\\r\\n<link href='http://fonts.googleapis.com/css?family=Shadows+Into+Light' rel='stylesheet' type='text/css'>\\r\\n<link href='http://fonts.googleapis.com/css?family=Philosopher:400,700,400italic,700italic' rel='stylesheet' type='text/css'>\\r\\n\\r\\n<style>\\r\\n\\r\\n@font-face {\\r\\n    font-family: \\\"Computer Modern\\\";\\r\\n    src: url('http://mirrors.ctan.org/fonts/cm-unicode/fonts/otf/cmunss.otf');\\r\\n}\\r\\n\\r\\n.container { width: 100% }\\r\\n\\r\\n/* Formatting for header cells */\\r\\n.text_cell_render h1 {\\r\\n    font-family: 'Philosopher', sans-serif;\\r\\n    font-weight: 400;\\r\\n    font-size: 2.2em;\\r\\n    line-height: 100%;\\r\\n    color: rgb(0, 80, 120);\\r\\n    margin-bottom: 0.1em;\\r\\n    margin-top: 0.1em;\\r\\n    display: block;\\r\\n}\\t\\r\\n.text_cell_render h2 {\\r\\n    font-family: 'Philosopher', serif;\\r\\n    font-weight: 400;\\r\\n    font-size: 1.9em;\\r\\n    line-height: 100%;\\r\\n    color: rgb(200,100,0);\\r\\n    margin-bottom: 0.1em;\\r\\n    margin-top: 0.1em;\\r\\n    display: block;\\r\\n}\\t\\r\\n\\r\\n.text_cell_render h3 {\\r\\n    font-family: 'Philosopher', serif;\\r\\n    margin-top:12px;\\r\\n    margin-bottom: 3px;\\r\\n    font-style: italic;\\r\\n    color: rgb(94,127,192);\\r\\n}\\r\\n\\r\\n.text_cell_render h4 {\\r\\n    font-family: 'Philosopher', serif;\\r\\n}\\r\\n\\r\\n.text_cell_render h5 {\\r\\n    font-family: 'Alegreya Sans', sans-serif;\\r\\n    font-weight: 300;\\r\\n    font-size: 16pt;\\r\\n    color: grey;\\r\\n    font-style: italic;\\r\\n    margin-bottom: .1em;\\r\\n    margin-top: 0.1em;\\r\\n    display: block;\\r\\n}\\r\\n\\r\\n.text_cell_render h6 {\\r\\n    font-family: 'PT Mono', sans-serif;\\r\\n    font-weight: 300;\\r\\n    font-size: 10pt;\\r\\n    color: grey;\\r\\n    margin-bottom: 1px;\\r\\n    margin-top: 1px;\\r\\n}\\r\\n\\r\\n.text_cell_render em {\\r\\n    font-family: 'Philosopher', sans-serif;\\r\\n    color:        blue;\\r\\n    background-color: rgb(255,220,180);\\r\\n    font-size:    110%;\\r\\n    margin-left:   2px;\\r\\n    margin-right:  2px;\\r\\n    font-weight:   100;\\r\\n}\\r\\n\\r\\n.text_cell_render b {\\r\\n    color:            rgb(255,195,195);\\r\\n    background-color: rgb(0,0,0);\\r\\n    font-size:    110%;\\r\\n    margin-left:   2px;\\r\\n    margin-right:  2px;\\r\\n    font-weight:   650;\\r\\n}\\r\\n\\r\\n.text_cell_render tt {\\r\\n    font-size:    120%;\\r\\n    margin-left:   2px;\\r\\n    margin-right:  2px;\\r\\n    font-weight:   150;\\r\\n}\\r\\n\\r\\n.Codemirror {\\r\\n    font-family: \\\"PT Mono\\\";\\r\\n    font-size: 100%;\\r\\n}\\r\\n\\r\\n</style>\\r\\n\\r\\n\")"
      ]
     },
     "execution_count": 16,
     "metadata": {},
     "output_type": "execute_result"
    }
   ],
   "source": [
    "HTML(read(open(\"style.css\"), String))"
   ]
  },
  {
   "cell_type": "markdown",
   "metadata": {},
   "source": [
    "# Play a Chess Game"
   ]
  },
  {
   "cell_type": "code",
   "execution_count": 17,
   "metadata": {},
   "outputs": [],
   "source": [
    "using Pkg\n",
    "# Pkg.add(\"Chess\")\n",
    "using Chess\n",
    "using Random\n",
    "# Pkg.add(\"PyPlot\")\n",
    "using PyPlot\n",
    "# Pkg.add(\"NBInclude\")\n",
    "using NBInclude"
   ]
  },
  {
   "cell_type": "markdown",
   "metadata": {},
   "source": [
    "`printGame(game)` prints the current position of a game."
   ]
  },
  {
   "cell_type": "code",
   "execution_count": 18,
   "metadata": {},
   "outputs": [
    {
     "data": {
      "text/plain": [
       "printGame (generic function with 1 method)"
      ]
     },
     "execution_count": 18,
     "metadata": {},
     "output_type": "execute_result"
    }
   ],
   "source": [
    "function printGame(game)\n",
    "    display(board(game))\n",
    "end"
   ]
  },
  {
   "cell_type": "markdown",
   "metadata": {},
   "source": [
    "Import Notebooks needed."
   ]
  },
  {
   "cell_type": "code",
   "execution_count": 19,
   "metadata": {},
   "outputs": [
    {
     "data": {
      "text/plain": [
       "playRandomMove (generic function with 1 method)"
      ]
     },
     "execution_count": 19,
     "metadata": {},
     "output_type": "execute_result"
    }
   ],
   "source": [
    "@nbinclude(\"Random Chess.ipynb\")"
   ]
  },
  {
   "cell_type": "code",
   "execution_count": 20,
   "metadata": {},
   "outputs": [
    {
     "data": {
      "text/plain": [
       "setGameResult (generic function with 1 method)"
      ]
     },
     "execution_count": 20,
     "metadata": {},
     "output_type": "execute_result"
    }
   ],
   "source": [
    "@nbinclude(\"PGN_Export.ipynb\")"
   ]
  },
  {
   "cell_type": "code",
   "execution_count": 21,
   "metadata": {},
   "outputs": [
    {
     "data": {
      "text/plain": [
       "is_legal_move (generic function with 1 method)"
      ]
     },
     "execution_count": 21,
     "metadata": {},
     "output_type": "execute_result"
    }
   ],
   "source": [
    "@nbinclude(\"ValidateUserInput.ipynb\")"
   ]
  },
  {
   "cell_type": "code",
   "execution_count": 22,
   "metadata": {},
   "outputs": [
    {
     "data": {
      "text/plain": [
       "terminal_evaluation (generic function with 1 method)"
      ]
     },
     "execution_count": 22,
     "metadata": {},
     "output_type": "execute_result"
    }
   ],
   "source": [
    "@nbinclude(\"EvaluatePosition.ipynb\")"
   ]
  },
  {
   "cell_type": "code",
   "execution_count": 23,
   "metadata": {},
   "outputs": [
    {
     "data": {
      "text/plain": [
       "minimax_verbal (generic function with 1 method)"
      ]
     },
     "execution_count": 23,
     "metadata": {},
     "output_type": "execute_result"
    }
   ],
   "source": [
    "@nbinclude(\"Minimax.ipynb\")"
   ]
  },
  {
   "cell_type": "code",
   "execution_count": 24,
   "metadata": {},
   "outputs": [
    {
     "data": {
      "text/plain": [
       "alphaBetaPruning (generic function with 1 method)"
      ]
     },
     "execution_count": 24,
     "metadata": {},
     "output_type": "execute_result"
    }
   ],
   "source": [
    "@nbinclude(\"AlphaBetaPruning.ipynb\")"
   ]
  },
  {
   "cell_type": "code",
   "execution_count": 25,
   "metadata": {},
   "outputs": [
    {
     "data": {
      "text/plain": [
       "iterativeDeepening (generic function with 1 method)"
      ]
     },
     "execution_count": 25,
     "metadata": {},
     "output_type": "execute_result"
    }
   ],
   "source": [
    "@nbinclude(\"IterativeDeepening.ipynb\")"
   ]
  },
  {
   "cell_type": "markdown",
   "metadata": {},
   "source": [
    "Init Cache"
   ]
  },
  {
   "cell_type": "code",
   "execution_count": 26,
   "metadata": {},
   "outputs": [
    {
     "data": {
      "text/plain": [
       "Dict{Any, Any}()"
      ]
     },
     "execution_count": 26,
     "metadata": {},
     "output_type": "execute_result"
    }
   ],
   "source": [
    "gCache = Dict()"
   ]
  },
  {
   "cell_type": "markdown",
   "metadata": {},
   "source": [
    "The function `setWin(game)` takes in a `game` in a terminal position and sets the `result` value of the game and prints the result of the game as a text message."
   ]
  },
  {
   "cell_type": "code",
   "execution_count": 27,
   "metadata": {},
   "outputs": [
    {
     "data": {
      "text/plain": [
       "setWin (generic function with 1 method)"
      ]
     },
     "execution_count": 27,
     "metadata": {},
     "output_type": "execute_result"
    }
   ],
   "source": [
    "function setWin(game)\n",
    "    if ischeckmate(board(game))\n",
    "        color = sidetomove(board(game))\n",
    "        color == WHITE ? color = \"BLACK\" : color = \"WHITE\"\n",
    "        setGameResult(game, color)\n",
    "        print(color * \" wins by checkmate\")\n",
    "    elseif isstalemate(board(game))\n",
    "        print(\"Stalemate\")\n",
    "    elseif ismaterialdraw(board(game))\n",
    "        print(\"Draw by insufficient material\")\n",
    "    elseif isrule50draw(board(game))\n",
    "        print(\"Draw by 50 move draw\")\n",
    "    end\n",
    "    setGameResult(game, \"draw\")\n",
    "end"
   ]
  },
  {
   "cell_type": "markdown",
   "metadata": {},
   "source": [
    "The function `clearCache(board, move)` takes in the current `board` and the `move` that will be made next and clears the global Cache `gCache` if the move done is a pawn move or a capture. A chess position will not occure again if one of those two events happen and therefore all entries in the Cache will not be needed anymore. This will improve the runtime slightly."
   ]
  },
  {
   "cell_type": "code",
   "execution_count": 28,
   "metadata": {},
   "outputs": [
    {
     "data": {
      "text/plain": [
       "clearCache (generic function with 1 method)"
      ]
     },
     "execution_count": 28,
     "metadata": {},
     "output_type": "execute_result"
    }
   ],
   "source": [
    "function clearCache(board, move)\n",
    "    global gCache\n",
    "    if(ptype(pieceon(board, from(move))) == PAWN || ptype(pieceon(board, to(move))) != EMPTY)\n",
    "        println(\"Cleared Cache with $(length(gCache))\")\n",
    "        gCache = Dict()\n",
    "    end\n",
    "end"
   ]
  },
  {
   "cell_type": "markdown",
   "metadata": {},
   "source": [
    "## Main function"
   ]
  },
  {
   "cell_type": "markdown",
   "metadata": {},
   "source": [
    "The function `playGame()` allows a user to play a chess game. The AI is set via the `playMove(game)` function. After the game is finished (checkmate or draw) the game is saved as a PGN-file and saved in the /Games directory. The `debug` parameter can be set to `true` to print debugging statements, default is `false`.\n",
    "\n",
    "The function asks the user to input their name and what color they want to play as at the beginning. After that the player and the engine take alternate moves playing a chess game. \n",
    "\n",
    "Moves are inputted as strings which contain the pieces current location and the pieces end location. For example playing `1. e4` as white requires the string `e2e4` as input.\n",
    "\n",
    "To resign the user can type `resign` as his move."
   ]
  },
  {
   "cell_type": "code",
   "execution_count": 29,
   "metadata": {
    "scrolled": true
   },
   "outputs": [
    {
     "data": {
      "text/plain": [
       "playGame (generic function with 2 methods)"
      ]
     },
     "execution_count": 29,
     "metadata": {},
     "output_type": "execute_result"
    }
   ],
   "source": [
    "function playGame(debug = false)\n",
    "    # Setup Board\n",
    "    game = Game()\n",
    "    printGame(game)\n",
    "    setGameHeaders(game)\n",
    "    current_boardscore = 0  # evaluate_position(startboard())\n",
    "    \n",
    "    println(\"What's your name?\")\n",
    "    username = readline()\n",
    "    \n",
    "    println(\"Do you want to play as 'white' or 'black'?\")\n",
    "    color = readline()\n",
    "    \n",
    "    # Offset move if player is black\n",
    "    if color != \"black\" && color != \"white\"\n",
    "        print(\"Invalid color. Choose white or black\")   \n",
    "        return\n",
    "    elseif color == \"black\"\n",
    "        setheadervalue!(game, \"Black\", username)\n",
    "        current_boardscore = playMove(game, current_boardscore)\n",
    "        printGame(game)\n",
    "    elseif color == \"white\"\n",
    "        setheadervalue!(game, \"White\", username)\n",
    "    end\n",
    "\n",
    "    while true\n",
    "        # User Move\n",
    "        if !isterminal(game)\n",
    "            println(\"Make a move. Type 'resign' to resign from the match\")\n",
    "            userInput = readline()\n",
    "            if(userInput == \"resign\")\n",
    "                println(\"You resigned the game. The engine wins.\")\n",
    "                break\n",
    "            end\n",
    "            userMove = movefromstring(userInput)\n",
    "            if(userMove == nothing)\n",
    "                println(\"Invalid User Input. Please use the format [source] [destination]. Example(e2e4)\")\n",
    "                continue\n",
    "            end\n",
    "            if(!is_legal_move(game, userMove))\n",
    "                println(\"Invalid Chess move. Please make a other move.\")\n",
    "                continue\n",
    "            else\n",
    "                current_boardscore = evaluate_move(board(game), userMove, current_boardscore)\n",
    "                clearCache(board(game), userMove)\n",
    "                domove!(game, userMove)\n",
    "                # DEBUG \n",
    "                if debug && current_boardscore != evaluate_position(board(game))\n",
    "                    println(\"Inkremental score is $(current_boardscore) but should be $(evaluate_position(board(game)))\")\n",
    "                end\n",
    "            end\n",
    "            printGame(game)\n",
    "        else\n",
    "            break\n",
    "        end\n",
    "        \n",
    "        # Engine Move\n",
    "        if !isterminal(game)\n",
    "            # meassure time needed for the engine move\n",
    "            @time begin\n",
    "                # MINIMAX ENGINE\n",
    "                # eval, move = minimax(board(game), currentcurrent_boardscorescore, 4)\n",
    "                \n",
    "                # ALPHA BETA PRUNING ENGINE\n",
    "                # eval, move = alphaBetaPruning(board(game), current_boardscore, 4)\n",
    "                \n",
    "                # ITERATIVE DEEPENING ENGINE\n",
    "                eval, move = iterativeDeepening(board(game), current_boardscore, 4)\n",
    "                \n",
    "                println(\"Evaluation of engine: $eval\")\n",
    "                println(\"Current board score: $current_boardscore\")\n",
    "                println(\"Current entries in Cache: $(length(gCache))\")\n",
    "                clearCache(board(game), move)\n",
    "                current_boardscore = evaluate_move(board(game), move, current_boardscore)\n",
    "                domove!(game, move)\n",
    "            end\n",
    "            # DEBUG\n",
    "            if debug && current_boardscore != evaluate_position(board(game))\n",
    "                println(\"Inkremental score is $(current_boardscore) but should be $(evaluate_position(board(game)))\")\n",
    "            end\n",
    "            printGame(game)\n",
    "        else\n",
    "            break\n",
    "        end\n",
    "    end\n",
    "    setWin(game)\n",
    "    saveGameToPGN(game)\n",
    "    return game\n",
    "end"
   ]
  },
  {
   "cell_type": "code",
   "execution_count": 30,
   "metadata": {
    "scrolled": false
   },
   "outputs": [
    {
     "data": {
      "text/html": [
       "Board:<div class=\"chessboard\"><style soped=\"true\">.dark-square {\n",
       "    fill: #c3936a;\n",
       "    stroke-width: 0;\n",
       "}\n",
       ".light-square {\n",
       "    fill: #ffd7a6;\n",
       "    stroke-width: 0;\n",
       "}\n",
       ".highlight {\n",
       "    fill: #47d18b;\n",
       "}\n",
       "@media (prefers-color-scheme: dark) {\n",
       "    .dark-square {\n",
       "        fill: #00796b;\n",
       "    }\n",
       "    .light-square {\n",
       "        fill: #3ca59b;\n",
       "    }\n",
       "    .highlight {\n",
       "        fill: #d23600;\n",
       "    }\n",
       "}\n",
       "</style><svg style=\"float: left; margin-right: 20px\" viewBox=\"0 0 8 8\" height=\"280\" width=\"280\"><g><g><rect x=\"0\" y=\"0\" class=\"light-square\" height=\"1\" width=\"1\"></rect><image x=\"0\" xlink:href=\"https://raw.githubusercontent.com/romstad/Chess.jl/master/img/br.svg\" y=\"0\" height=\"1\" width=\"1\"></image></g><g><rect x=\"0\" y=\"1\" class=\"dark-square\" height=\"1\" width=\"1\"></rect><image x=\"0\" xlink:href=\"https://raw.githubusercontent.com/romstad/Chess.jl/master/img/bp.svg\" y=\"1\" height=\"1\" width=\"1\"></image></g><g><rect x=\"0\" y=\"2\" class=\"light-square\" height=\"1\" width=\"1\"></rect><g></g></g><g><rect x=\"0\" y=\"3\" class=\"dark-square\" height=\"1\" width=\"1\"></rect><g></g></g><g><rect x=\"0\" y=\"4\" class=\"light-square\" height=\"1\" width=\"1\"></rect><g></g></g><g><rect x=\"0\" y=\"5\" class=\"dark-square\" height=\"1\" width=\"1\"></rect><g></g></g><g><rect x=\"0\" y=\"6\" class=\"light-square\" height=\"1\" width=\"1\"></rect><image x=\"0\" xlink:href=\"https://raw.githubusercontent.com/romstad/Chess.jl/master/img/wp.svg\" y=\"6\" height=\"1\" width=\"1\"></image></g><g><rect x=\"0\" y=\"7\" class=\"dark-square\" height=\"1\" width=\"1\"></rect><image x=\"0\" xlink:href=\"https://raw.githubusercontent.com/romstad/Chess.jl/master/img/wr.svg\" y=\"7\" height=\"1\" width=\"1\"></image></g><g><rect x=\"1\" y=\"0\" class=\"dark-square\" height=\"1\" width=\"1\"></rect><image x=\"1\" xlink:href=\"https://raw.githubusercontent.com/romstad/Chess.jl/master/img/bn.svg\" y=\"0\" height=\"1\" width=\"1\"></image></g><g><rect x=\"1\" y=\"1\" class=\"light-square\" height=\"1\" width=\"1\"></rect><image x=\"1\" xlink:href=\"https://raw.githubusercontent.com/romstad/Chess.jl/master/img/bp.svg\" y=\"1\" height=\"1\" width=\"1\"></image></g><g><rect x=\"1\" y=\"2\" class=\"dark-square\" height=\"1\" width=\"1\"></rect><g></g></g><g><rect x=\"1\" y=\"3\" class=\"light-square\" height=\"1\" width=\"1\"></rect><g></g></g><g><rect x=\"1\" y=\"4\" class=\"dark-square\" height=\"1\" width=\"1\"></rect><g></g></g><g><rect x=\"1\" y=\"5\" class=\"light-square\" height=\"1\" width=\"1\"></rect><g></g></g><g><rect x=\"1\" y=\"6\" class=\"dark-square\" height=\"1\" width=\"1\"></rect><image x=\"1\" xlink:href=\"https://raw.githubusercontent.com/romstad/Chess.jl/master/img/wp.svg\" y=\"6\" height=\"1\" width=\"1\"></image></g><g><rect x=\"1\" y=\"7\" class=\"light-square\" height=\"1\" width=\"1\"></rect><image x=\"1\" xlink:href=\"https://raw.githubusercontent.com/romstad/Chess.jl/master/img/wn.svg\" y=\"7\" height=\"1\" width=\"1\"></image></g><g><rect x=\"2\" y=\"0\" class=\"light-square\" height=\"1\" width=\"1\"></rect><image x=\"2\" xlink:href=\"https://raw.githubusercontent.com/romstad/Chess.jl/master/img/bb.svg\" y=\"0\" height=\"1\" width=\"1\"></image></g><g><rect x=\"2\" y=\"1\" class=\"dark-square\" height=\"1\" width=\"1\"></rect><image x=\"2\" xlink:href=\"https://raw.githubusercontent.com/romstad/Chess.jl/master/img/bp.svg\" y=\"1\" height=\"1\" width=\"1\"></image></g><g><rect x=\"2\" y=\"2\" class=\"light-square\" height=\"1\" width=\"1\"></rect><g></g></g><g><rect x=\"2\" y=\"3\" class=\"dark-square\" height=\"1\" width=\"1\"></rect><g></g></g><g><rect x=\"2\" y=\"4\" class=\"light-square\" height=\"1\" width=\"1\"></rect><g></g></g><g><rect x=\"2\" y=\"5\" class=\"dark-square\" height=\"1\" width=\"1\"></rect><g></g></g><g><rect x=\"2\" y=\"6\" class=\"light-square\" height=\"1\" width=\"1\"></rect><image x=\"2\" xlink:href=\"https://raw.githubusercontent.com/romstad/Chess.jl/master/img/wp.svg\" y=\"6\" height=\"1\" width=\"1\"></image></g><g><rect x=\"2\" y=\"7\" class=\"dark-square\" height=\"1\" width=\"1\"></rect><image x=\"2\" xlink:href=\"https://raw.githubusercontent.com/romstad/Chess.jl/master/img/wb.svg\" y=\"7\" height=\"1\" width=\"1\"></image></g><g><rect x=\"3\" y=\"0\" class=\"dark-square\" height=\"1\" width=\"1\"></rect><image x=\"3\" xlink:href=\"https://raw.githubusercontent.com/romstad/Chess.jl/master/img/bq.svg\" y=\"0\" height=\"1\" width=\"1\"></image></g><g><rect x=\"3\" y=\"1\" class=\"light-square\" height=\"1\" width=\"1\"></rect><image x=\"3\" xlink:href=\"https://raw.githubusercontent.com/romstad/Chess.jl/master/img/bp.svg\" y=\"1\" height=\"1\" width=\"1\"></image></g><g><rect x=\"3\" y=\"2\" class=\"dark-square\" height=\"1\" width=\"1\"></rect><g></g></g><g><rect x=\"3\" y=\"3\" class=\"light-square\" height=\"1\" width=\"1\"></rect><g></g></g><g><rect x=\"3\" y=\"4\" class=\"dark-square\" height=\"1\" width=\"1\"></rect><g></g></g><g><rect x=\"3\" y=\"5\" class=\"light-square\" height=\"1\" width=\"1\"></rect><g></g></g><g><rect x=\"3\" y=\"6\" class=\"dark-square\" height=\"1\" width=\"1\"></rect><image x=\"3\" xlink:href=\"https://raw.githubusercontent.com/romstad/Chess.jl/master/img/wp.svg\" y=\"6\" height=\"1\" width=\"1\"></image></g><g><rect x=\"3\" y=\"7\" class=\"light-square\" height=\"1\" width=\"1\"></rect><image x=\"3\" xlink:href=\"https://raw.githubusercontent.com/romstad/Chess.jl/master/img/wq.svg\" y=\"7\" height=\"1\" width=\"1\"></image></g><g><rect x=\"4\" y=\"0\" class=\"light-square\" height=\"1\" width=\"1\"></rect><image x=\"4\" xlink:href=\"https://raw.githubusercontent.com/romstad/Chess.jl/master/img/bk.svg\" y=\"0\" height=\"1\" width=\"1\"></image></g><g><rect x=\"4\" y=\"1\" class=\"dark-square\" height=\"1\" width=\"1\"></rect><image x=\"4\" xlink:href=\"https://raw.githubusercontent.com/romstad/Chess.jl/master/img/bp.svg\" y=\"1\" height=\"1\" width=\"1\"></image></g><g><rect x=\"4\" y=\"2\" class=\"light-square\" height=\"1\" width=\"1\"></rect><g></g></g><g><rect x=\"4\" y=\"3\" class=\"dark-square\" height=\"1\" width=\"1\"></rect><g></g></g><g><rect x=\"4\" y=\"4\" class=\"light-square\" height=\"1\" width=\"1\"></rect><g></g></g><g><rect x=\"4\" y=\"5\" class=\"dark-square\" height=\"1\" width=\"1\"></rect><g></g></g><g><rect x=\"4\" y=\"6\" class=\"light-square\" height=\"1\" width=\"1\"></rect><image x=\"4\" xlink:href=\"https://raw.githubusercontent.com/romstad/Chess.jl/master/img/wp.svg\" y=\"6\" height=\"1\" width=\"1\"></image></g><g><rect x=\"4\" y=\"7\" class=\"dark-square\" height=\"1\" width=\"1\"></rect><image x=\"4\" xlink:href=\"https://raw.githubusercontent.com/romstad/Chess.jl/master/img/wk.svg\" y=\"7\" height=\"1\" width=\"1\"></image></g><g><rect x=\"5\" y=\"0\" class=\"dark-square\" height=\"1\" width=\"1\"></rect><image x=\"5\" xlink:href=\"https://raw.githubusercontent.com/romstad/Chess.jl/master/img/bb.svg\" y=\"0\" height=\"1\" width=\"1\"></image></g><g><rect x=\"5\" y=\"1\" class=\"light-square\" height=\"1\" width=\"1\"></rect><image x=\"5\" xlink:href=\"https://raw.githubusercontent.com/romstad/Chess.jl/master/img/bp.svg\" y=\"1\" height=\"1\" width=\"1\"></image></g><g><rect x=\"5\" y=\"2\" class=\"dark-square\" height=\"1\" width=\"1\"></rect><g></g></g><g><rect x=\"5\" y=\"3\" class=\"light-square\" height=\"1\" width=\"1\"></rect><g></g></g><g><rect x=\"5\" y=\"4\" class=\"dark-square\" height=\"1\" width=\"1\"></rect><g></g></g><g><rect x=\"5\" y=\"5\" class=\"light-square\" height=\"1\" width=\"1\"></rect><g></g></g><g><rect x=\"5\" y=\"6\" class=\"dark-square\" height=\"1\" width=\"1\"></rect><image x=\"5\" xlink:href=\"https://raw.githubusercontent.com/romstad/Chess.jl/master/img/wp.svg\" y=\"6\" height=\"1\" width=\"1\"></image></g><g><rect x=\"5\" y=\"7\" class=\"light-square\" height=\"1\" width=\"1\"></rect><image x=\"5\" xlink:href=\"https://raw.githubusercontent.com/romstad/Chess.jl/master/img/wb.svg\" y=\"7\" height=\"1\" width=\"1\"></image></g><g><rect x=\"6\" y=\"0\" class=\"light-square\" height=\"1\" width=\"1\"></rect><image x=\"6\" xlink:href=\"https://raw.githubusercontent.com/romstad/Chess.jl/master/img/bn.svg\" y=\"0\" height=\"1\" width=\"1\"></image></g><g><rect x=\"6\" y=\"1\" class=\"dark-square\" height=\"1\" width=\"1\"></rect><image x=\"6\" xlink:href=\"https://raw.githubusercontent.com/romstad/Chess.jl/master/img/bp.svg\" y=\"1\" height=\"1\" width=\"1\"></image></g><g><rect x=\"6\" y=\"2\" class=\"light-square\" height=\"1\" width=\"1\"></rect><g></g></g><g><rect x=\"6\" y=\"3\" class=\"dark-square\" height=\"1\" width=\"1\"></rect><g></g></g><g><rect x=\"6\" y=\"4\" class=\"light-square\" height=\"1\" width=\"1\"></rect><g></g></g><g><rect x=\"6\" y=\"5\" class=\"dark-square\" height=\"1\" width=\"1\"></rect><g></g></g><g><rect x=\"6\" y=\"6\" class=\"light-square\" height=\"1\" width=\"1\"></rect><image x=\"6\" xlink:href=\"https://raw.githubusercontent.com/romstad/Chess.jl/master/img/wp.svg\" y=\"6\" height=\"1\" width=\"1\"></image></g><g><rect x=\"6\" y=\"7\" class=\"dark-square\" height=\"1\" width=\"1\"></rect><image x=\"6\" xlink:href=\"https://raw.githubusercontent.com/romstad/Chess.jl/master/img/wn.svg\" y=\"7\" height=\"1\" width=\"1\"></image></g><g><rect x=\"7\" y=\"0\" class=\"dark-square\" height=\"1\" width=\"1\"></rect><image x=\"7\" xlink:href=\"https://raw.githubusercontent.com/romstad/Chess.jl/master/img/br.svg\" y=\"0\" height=\"1\" width=\"1\"></image></g><g><rect x=\"7\" y=\"1\" class=\"light-square\" height=\"1\" width=\"1\"></rect><image x=\"7\" xlink:href=\"https://raw.githubusercontent.com/romstad/Chess.jl/master/img/bp.svg\" y=\"1\" height=\"1\" width=\"1\"></image></g><g><rect x=\"7\" y=\"2\" class=\"dark-square\" height=\"1\" width=\"1\"></rect><g></g></g><g><rect x=\"7\" y=\"3\" class=\"light-square\" height=\"1\" width=\"1\"></rect><g></g></g><g><rect x=\"7\" y=\"4\" class=\"dark-square\" height=\"1\" width=\"1\"></rect><g></g></g><g><rect x=\"7\" y=\"5\" class=\"light-square\" height=\"1\" width=\"1\"></rect><g></g></g><g><rect x=\"7\" y=\"6\" class=\"dark-square\" height=\"1\" width=\"1\"></rect><image x=\"7\" xlink:href=\"https://raw.githubusercontent.com/romstad/Chess.jl/master/img/wp.svg\" y=\"6\" height=\"1\" width=\"1\"></image></g><g><rect x=\"7\" y=\"7\" class=\"light-square\" height=\"1\" width=\"1\"></rect><image x=\"7\" xlink:href=\"https://raw.githubusercontent.com/romstad/Chess.jl/master/img/wr.svg\" y=\"7\" height=\"1\" width=\"1\"></image></g></g><g></g></svg><div><p>White to move</p><p>Castle rights: KQkq</p><p><a href=\"https://lichess.org/editor/rnbqkbnr/pppppppp/8/8/8/8/PPPPPPPP/RNBQKBNR_w_KQkq_-\" target=\"_blank\">Open in lichess</a></p></div></div>"
      ],
      "text/plain": [
       "Board (rnbqkbnr/pppppppp/8/8/8/8/PPPPPPPP/RNBQKBNR w KQkq -):\n",
       " r  n  b  q  k  b  n  r \n",
       " p  p  p  p  p  p  p  p \n",
       " -  -  -  -  -  -  -  - \n",
       " -  -  -  -  -  -  -  - \n",
       " -  -  -  -  -  -  -  - \n",
       " -  -  -  -  -  -  -  - \n",
       " P  P  P  P  P  P  P  P \n",
       " R  N  B  Q  K  B  N  R "
      ]
     },
     "metadata": {},
     "output_type": "display_data"
    },
    {
     "name": "stdout",
     "output_type": "stream",
     "text": [
      "What's your name?\n",
      "stdin> Yiwen\n",
      "Do you want to play as 'white' or 'black'?\n",
      "stdin> white\n",
      "Make a move. Type 'resign' to resign from the match\n",
      "stdin> e2e4\n",
      "Cleared Cache with 0\n"
     ]
    },
    {
     "data": {
      "text/html": [
       "Board:<div class=\"chessboard\"><style soped=\"true\">.dark-square {\n",
       "    fill: #c3936a;\n",
       "    stroke-width: 0;\n",
       "}\n",
       ".light-square {\n",
       "    fill: #ffd7a6;\n",
       "    stroke-width: 0;\n",
       "}\n",
       ".highlight {\n",
       "    fill: #47d18b;\n",
       "}\n",
       "@media (prefers-color-scheme: dark) {\n",
       "    .dark-square {\n",
       "        fill: #00796b;\n",
       "    }\n",
       "    .light-square {\n",
       "        fill: #3ca59b;\n",
       "    }\n",
       "    .highlight {\n",
       "        fill: #d23600;\n",
       "    }\n",
       "}\n",
       "</style><svg style=\"float: left; margin-right: 20px\" viewBox=\"0 0 8 8\" height=\"280\" width=\"280\"><g><g><rect x=\"0\" y=\"0\" class=\"light-square\" height=\"1\" width=\"1\"></rect><image x=\"0\" xlink:href=\"https://raw.githubusercontent.com/romstad/Chess.jl/master/img/br.svg\" y=\"0\" height=\"1\" width=\"1\"></image></g><g><rect x=\"0\" y=\"1\" class=\"dark-square\" height=\"1\" width=\"1\"></rect><image x=\"0\" xlink:href=\"https://raw.githubusercontent.com/romstad/Chess.jl/master/img/bp.svg\" y=\"1\" height=\"1\" width=\"1\"></image></g><g><rect x=\"0\" y=\"2\" class=\"light-square\" height=\"1\" width=\"1\"></rect><g></g></g><g><rect x=\"0\" y=\"3\" class=\"dark-square\" height=\"1\" width=\"1\"></rect><g></g></g><g><rect x=\"0\" y=\"4\" class=\"light-square\" height=\"1\" width=\"1\"></rect><g></g></g><g><rect x=\"0\" y=\"5\" class=\"dark-square\" height=\"1\" width=\"1\"></rect><g></g></g><g><rect x=\"0\" y=\"6\" class=\"light-square\" height=\"1\" width=\"1\"></rect><image x=\"0\" xlink:href=\"https://raw.githubusercontent.com/romstad/Chess.jl/master/img/wp.svg\" y=\"6\" height=\"1\" width=\"1\"></image></g><g><rect x=\"0\" y=\"7\" class=\"dark-square\" height=\"1\" width=\"1\"></rect><image x=\"0\" xlink:href=\"https://raw.githubusercontent.com/romstad/Chess.jl/master/img/wr.svg\" y=\"7\" height=\"1\" width=\"1\"></image></g><g><rect x=\"1\" y=\"0\" class=\"dark-square\" height=\"1\" width=\"1\"></rect><image x=\"1\" xlink:href=\"https://raw.githubusercontent.com/romstad/Chess.jl/master/img/bn.svg\" y=\"0\" height=\"1\" width=\"1\"></image></g><g><rect x=\"1\" y=\"1\" class=\"light-square\" height=\"1\" width=\"1\"></rect><image x=\"1\" xlink:href=\"https://raw.githubusercontent.com/romstad/Chess.jl/master/img/bp.svg\" y=\"1\" height=\"1\" width=\"1\"></image></g><g><rect x=\"1\" y=\"2\" class=\"dark-square\" height=\"1\" width=\"1\"></rect><g></g></g><g><rect x=\"1\" y=\"3\" class=\"light-square\" height=\"1\" width=\"1\"></rect><g></g></g><g><rect x=\"1\" y=\"4\" class=\"dark-square\" height=\"1\" width=\"1\"></rect><g></g></g><g><rect x=\"1\" y=\"5\" class=\"light-square\" height=\"1\" width=\"1\"></rect><g></g></g><g><rect x=\"1\" y=\"6\" class=\"dark-square\" height=\"1\" width=\"1\"></rect><image x=\"1\" xlink:href=\"https://raw.githubusercontent.com/romstad/Chess.jl/master/img/wp.svg\" y=\"6\" height=\"1\" width=\"1\"></image></g><g><rect x=\"1\" y=\"7\" class=\"light-square\" height=\"1\" width=\"1\"></rect><image x=\"1\" xlink:href=\"https://raw.githubusercontent.com/romstad/Chess.jl/master/img/wn.svg\" y=\"7\" height=\"1\" width=\"1\"></image></g><g><rect x=\"2\" y=\"0\" class=\"light-square\" height=\"1\" width=\"1\"></rect><image x=\"2\" xlink:href=\"https://raw.githubusercontent.com/romstad/Chess.jl/master/img/bb.svg\" y=\"0\" height=\"1\" width=\"1\"></image></g><g><rect x=\"2\" y=\"1\" class=\"dark-square\" height=\"1\" width=\"1\"></rect><image x=\"2\" xlink:href=\"https://raw.githubusercontent.com/romstad/Chess.jl/master/img/bp.svg\" y=\"1\" height=\"1\" width=\"1\"></image></g><g><rect x=\"2\" y=\"2\" class=\"light-square\" height=\"1\" width=\"1\"></rect><g></g></g><g><rect x=\"2\" y=\"3\" class=\"dark-square\" height=\"1\" width=\"1\"></rect><g></g></g><g><rect x=\"2\" y=\"4\" class=\"light-square\" height=\"1\" width=\"1\"></rect><g></g></g><g><rect x=\"2\" y=\"5\" class=\"dark-square\" height=\"1\" width=\"1\"></rect><g></g></g><g><rect x=\"2\" y=\"6\" class=\"light-square\" height=\"1\" width=\"1\"></rect><image x=\"2\" xlink:href=\"https://raw.githubusercontent.com/romstad/Chess.jl/master/img/wp.svg\" y=\"6\" height=\"1\" width=\"1\"></image></g><g><rect x=\"2\" y=\"7\" class=\"dark-square\" height=\"1\" width=\"1\"></rect><image x=\"2\" xlink:href=\"https://raw.githubusercontent.com/romstad/Chess.jl/master/img/wb.svg\" y=\"7\" height=\"1\" width=\"1\"></image></g><g><rect x=\"3\" y=\"0\" class=\"dark-square\" height=\"1\" width=\"1\"></rect><image x=\"3\" xlink:href=\"https://raw.githubusercontent.com/romstad/Chess.jl/master/img/bq.svg\" y=\"0\" height=\"1\" width=\"1\"></image></g><g><rect x=\"3\" y=\"1\" class=\"light-square\" height=\"1\" width=\"1\"></rect><image x=\"3\" xlink:href=\"https://raw.githubusercontent.com/romstad/Chess.jl/master/img/bp.svg\" y=\"1\" height=\"1\" width=\"1\"></image></g><g><rect x=\"3\" y=\"2\" class=\"dark-square\" height=\"1\" width=\"1\"></rect><g></g></g><g><rect x=\"3\" y=\"3\" class=\"light-square\" height=\"1\" width=\"1\"></rect><g></g></g><g><rect x=\"3\" y=\"4\" class=\"dark-square\" height=\"1\" width=\"1\"></rect><g></g></g><g><rect x=\"3\" y=\"5\" class=\"light-square\" height=\"1\" width=\"1\"></rect><g></g></g><g><rect x=\"3\" y=\"6\" class=\"dark-square\" height=\"1\" width=\"1\"></rect><image x=\"3\" xlink:href=\"https://raw.githubusercontent.com/romstad/Chess.jl/master/img/wp.svg\" y=\"6\" height=\"1\" width=\"1\"></image></g><g><rect x=\"3\" y=\"7\" class=\"light-square\" height=\"1\" width=\"1\"></rect><image x=\"3\" xlink:href=\"https://raw.githubusercontent.com/romstad/Chess.jl/master/img/wq.svg\" y=\"7\" height=\"1\" width=\"1\"></image></g><g><rect x=\"4\" y=\"0\" class=\"light-square\" height=\"1\" width=\"1\"></rect><image x=\"4\" xlink:href=\"https://raw.githubusercontent.com/romstad/Chess.jl/master/img/bk.svg\" y=\"0\" height=\"1\" width=\"1\"></image></g><g><rect x=\"4\" y=\"1\" class=\"dark-square\" height=\"1\" width=\"1\"></rect><image x=\"4\" xlink:href=\"https://raw.githubusercontent.com/romstad/Chess.jl/master/img/bp.svg\" y=\"1\" height=\"1\" width=\"1\"></image></g><g><rect x=\"4\" y=\"2\" class=\"light-square\" height=\"1\" width=\"1\"></rect><g></g></g><g><rect x=\"4\" y=\"3\" class=\"dark-square\" height=\"1\" width=\"1\"></rect><g></g></g><g><rect x=\"4\" y=\"4\" class=\"light-square\" height=\"1\" width=\"1\"></rect><image x=\"4\" xlink:href=\"https://raw.githubusercontent.com/romstad/Chess.jl/master/img/wp.svg\" y=\"4\" height=\"1\" width=\"1\"></image></g><g><rect x=\"4\" y=\"5\" class=\"dark-square\" height=\"1\" width=\"1\"></rect><g></g></g><g><rect x=\"4\" y=\"6\" class=\"light-square\" height=\"1\" width=\"1\"></rect><g></g></g><g><rect x=\"4\" y=\"7\" class=\"dark-square\" height=\"1\" width=\"1\"></rect><image x=\"4\" xlink:href=\"https://raw.githubusercontent.com/romstad/Chess.jl/master/img/wk.svg\" y=\"7\" height=\"1\" width=\"1\"></image></g><g><rect x=\"5\" y=\"0\" class=\"dark-square\" height=\"1\" width=\"1\"></rect><image x=\"5\" xlink:href=\"https://raw.githubusercontent.com/romstad/Chess.jl/master/img/bb.svg\" y=\"0\" height=\"1\" width=\"1\"></image></g><g><rect x=\"5\" y=\"1\" class=\"light-square\" height=\"1\" width=\"1\"></rect><image x=\"5\" xlink:href=\"https://raw.githubusercontent.com/romstad/Chess.jl/master/img/bp.svg\" y=\"1\" height=\"1\" width=\"1\"></image></g><g><rect x=\"5\" y=\"2\" class=\"dark-square\" height=\"1\" width=\"1\"></rect><g></g></g><g><rect x=\"5\" y=\"3\" class=\"light-square\" height=\"1\" width=\"1\"></rect><g></g></g><g><rect x=\"5\" y=\"4\" class=\"dark-square\" height=\"1\" width=\"1\"></rect><g></g></g><g><rect x=\"5\" y=\"5\" class=\"light-square\" height=\"1\" width=\"1\"></rect><g></g></g><g><rect x=\"5\" y=\"6\" class=\"dark-square\" height=\"1\" width=\"1\"></rect><image x=\"5\" xlink:href=\"https://raw.githubusercontent.com/romstad/Chess.jl/master/img/wp.svg\" y=\"6\" height=\"1\" width=\"1\"></image></g><g><rect x=\"5\" y=\"7\" class=\"light-square\" height=\"1\" width=\"1\"></rect><image x=\"5\" xlink:href=\"https://raw.githubusercontent.com/romstad/Chess.jl/master/img/wb.svg\" y=\"7\" height=\"1\" width=\"1\"></image></g><g><rect x=\"6\" y=\"0\" class=\"light-square\" height=\"1\" width=\"1\"></rect><image x=\"6\" xlink:href=\"https://raw.githubusercontent.com/romstad/Chess.jl/master/img/bn.svg\" y=\"0\" height=\"1\" width=\"1\"></image></g><g><rect x=\"6\" y=\"1\" class=\"dark-square\" height=\"1\" width=\"1\"></rect><image x=\"6\" xlink:href=\"https://raw.githubusercontent.com/romstad/Chess.jl/master/img/bp.svg\" y=\"1\" height=\"1\" width=\"1\"></image></g><g><rect x=\"6\" y=\"2\" class=\"light-square\" height=\"1\" width=\"1\"></rect><g></g></g><g><rect x=\"6\" y=\"3\" class=\"dark-square\" height=\"1\" width=\"1\"></rect><g></g></g><g><rect x=\"6\" y=\"4\" class=\"light-square\" height=\"1\" width=\"1\"></rect><g></g></g><g><rect x=\"6\" y=\"5\" class=\"dark-square\" height=\"1\" width=\"1\"></rect><g></g></g><g><rect x=\"6\" y=\"6\" class=\"light-square\" height=\"1\" width=\"1\"></rect><image x=\"6\" xlink:href=\"https://raw.githubusercontent.com/romstad/Chess.jl/master/img/wp.svg\" y=\"6\" height=\"1\" width=\"1\"></image></g><g><rect x=\"6\" y=\"7\" class=\"dark-square\" height=\"1\" width=\"1\"></rect><image x=\"6\" xlink:href=\"https://raw.githubusercontent.com/romstad/Chess.jl/master/img/wn.svg\" y=\"7\" height=\"1\" width=\"1\"></image></g><g><rect x=\"7\" y=\"0\" class=\"dark-square\" height=\"1\" width=\"1\"></rect><image x=\"7\" xlink:href=\"https://raw.githubusercontent.com/romstad/Chess.jl/master/img/br.svg\" y=\"0\" height=\"1\" width=\"1\"></image></g><g><rect x=\"7\" y=\"1\" class=\"light-square\" height=\"1\" width=\"1\"></rect><image x=\"7\" xlink:href=\"https://raw.githubusercontent.com/romstad/Chess.jl/master/img/bp.svg\" y=\"1\" height=\"1\" width=\"1\"></image></g><g><rect x=\"7\" y=\"2\" class=\"dark-square\" height=\"1\" width=\"1\"></rect><g></g></g><g><rect x=\"7\" y=\"3\" class=\"light-square\" height=\"1\" width=\"1\"></rect><g></g></g><g><rect x=\"7\" y=\"4\" class=\"dark-square\" height=\"1\" width=\"1\"></rect><g></g></g><g><rect x=\"7\" y=\"5\" class=\"light-square\" height=\"1\" width=\"1\"></rect><g></g></g><g><rect x=\"7\" y=\"6\" class=\"dark-square\" height=\"1\" width=\"1\"></rect><image x=\"7\" xlink:href=\"https://raw.githubusercontent.com/romstad/Chess.jl/master/img/wp.svg\" y=\"6\" height=\"1\" width=\"1\"></image></g><g><rect x=\"7\" y=\"7\" class=\"light-square\" height=\"1\" width=\"1\"></rect><image x=\"7\" xlink:href=\"https://raw.githubusercontent.com/romstad/Chess.jl/master/img/wr.svg\" y=\"7\" height=\"1\" width=\"1\"></image></g></g><g></g></svg><div><p>Black to move</p><p>Castle rights: KQkq</p><p><a href=\"https://lichess.org/editor/rnbqkbnr/pppppppp/8/8/4P3/8/PPPP1PPP/RNBQKBNR_b_KQkq_-\" target=\"_blank\">Open in lichess</a></p></div></div>"
      ],
      "text/plain": [
       "Board (rnbqkbnr/pppppppp/8/8/4P3/8/PPPP1PPP/RNBQKBNR b KQkq -):\n",
       " r  n  b  q  k  b  n  r \n",
       " p  p  p  p  p  p  p  p \n",
       " -  -  -  -  -  -  -  - \n",
       " -  -  -  -  -  -  -  - \n",
       " -  -  -  -  P  -  -  - \n",
       " -  -  -  -  -  -  -  - \n",
       " P  P  P  P  -  P  P  P \n",
       " R  N  B  Q  K  B  N  R "
      ]
     },
     "metadata": {},
     "output_type": "display_data"
    },
    {
     "name": "stdout",
     "output_type": "stream",
     "text": [
      "Evaluation of engine: 70.0\n",
      "Current board score: 40\n",
      "Current entries in Cache: 2941\n",
      "Cleared Cache with 2941\n",
      "  3.138310 seconds (8.94 M allocations: 482.803 MiB, 3.78% gc time, 30.32% compilation time)\n"
     ]
    },
    {
     "data": {
      "text/html": [
       "Board:<div class=\"chessboard\"><style soped=\"true\">.dark-square {\n",
       "    fill: #c3936a;\n",
       "    stroke-width: 0;\n",
       "}\n",
       ".light-square {\n",
       "    fill: #ffd7a6;\n",
       "    stroke-width: 0;\n",
       "}\n",
       ".highlight {\n",
       "    fill: #47d18b;\n",
       "}\n",
       "@media (prefers-color-scheme: dark) {\n",
       "    .dark-square {\n",
       "        fill: #00796b;\n",
       "    }\n",
       "    .light-square {\n",
       "        fill: #3ca59b;\n",
       "    }\n",
       "    .highlight {\n",
       "        fill: #d23600;\n",
       "    }\n",
       "}\n",
       "</style><svg style=\"float: left; margin-right: 20px\" viewBox=\"0 0 8 8\" height=\"280\" width=\"280\"><g><g><rect x=\"0\" y=\"0\" class=\"light-square\" height=\"1\" width=\"1\"></rect><image x=\"0\" xlink:href=\"https://raw.githubusercontent.com/romstad/Chess.jl/master/img/br.svg\" y=\"0\" height=\"1\" width=\"1\"></image></g><g><rect x=\"0\" y=\"1\" class=\"dark-square\" height=\"1\" width=\"1\"></rect><image x=\"0\" xlink:href=\"https://raw.githubusercontent.com/romstad/Chess.jl/master/img/bp.svg\" y=\"1\" height=\"1\" width=\"1\"></image></g><g><rect x=\"0\" y=\"2\" class=\"light-square\" height=\"1\" width=\"1\"></rect><g></g></g><g><rect x=\"0\" y=\"3\" class=\"dark-square\" height=\"1\" width=\"1\"></rect><g></g></g><g><rect x=\"0\" y=\"4\" class=\"light-square\" height=\"1\" width=\"1\"></rect><g></g></g><g><rect x=\"0\" y=\"5\" class=\"dark-square\" height=\"1\" width=\"1\"></rect><g></g></g><g><rect x=\"0\" y=\"6\" class=\"light-square\" height=\"1\" width=\"1\"></rect><image x=\"0\" xlink:href=\"https://raw.githubusercontent.com/romstad/Chess.jl/master/img/wp.svg\" y=\"6\" height=\"1\" width=\"1\"></image></g><g><rect x=\"0\" y=\"7\" class=\"dark-square\" height=\"1\" width=\"1\"></rect><image x=\"0\" xlink:href=\"https://raw.githubusercontent.com/romstad/Chess.jl/master/img/wr.svg\" y=\"7\" height=\"1\" width=\"1\"></image></g><g><rect x=\"1\" y=\"0\" class=\"dark-square\" height=\"1\" width=\"1\"></rect><g></g></g><g><rect x=\"1\" y=\"1\" class=\"light-square\" height=\"1\" width=\"1\"></rect><image x=\"1\" xlink:href=\"https://raw.githubusercontent.com/romstad/Chess.jl/master/img/bp.svg\" y=\"1\" height=\"1\" width=\"1\"></image></g><g><rect x=\"1\" y=\"2\" class=\"dark-square\" height=\"1\" width=\"1\"></rect><g></g></g><g><rect x=\"1\" y=\"3\" class=\"light-square\" height=\"1\" width=\"1\"></rect><g></g></g><g><rect x=\"1\" y=\"4\" class=\"dark-square\" height=\"1\" width=\"1\"></rect><g></g></g><g><rect x=\"1\" y=\"5\" class=\"light-square\" height=\"1\" width=\"1\"></rect><g></g></g><g><rect x=\"1\" y=\"6\" class=\"dark-square\" height=\"1\" width=\"1\"></rect><image x=\"1\" xlink:href=\"https://raw.githubusercontent.com/romstad/Chess.jl/master/img/wp.svg\" y=\"6\" height=\"1\" width=\"1\"></image></g><g><rect x=\"1\" y=\"7\" class=\"light-square\" height=\"1\" width=\"1\"></rect><image x=\"1\" xlink:href=\"https://raw.githubusercontent.com/romstad/Chess.jl/master/img/wn.svg\" y=\"7\" height=\"1\" width=\"1\"></image></g><g><rect x=\"2\" y=\"0\" class=\"light-square\" height=\"1\" width=\"1\"></rect><image x=\"2\" xlink:href=\"https://raw.githubusercontent.com/romstad/Chess.jl/master/img/bb.svg\" y=\"0\" height=\"1\" width=\"1\"></image></g><g><rect x=\"2\" y=\"1\" class=\"dark-square\" height=\"1\" width=\"1\"></rect><image x=\"2\" xlink:href=\"https://raw.githubusercontent.com/romstad/Chess.jl/master/img/bp.svg\" y=\"1\" height=\"1\" width=\"1\"></image></g><g><rect x=\"2\" y=\"2\" class=\"light-square\" height=\"1\" width=\"1\"></rect><image x=\"2\" xlink:href=\"https://raw.githubusercontent.com/romstad/Chess.jl/master/img/bn.svg\" y=\"2\" height=\"1\" width=\"1\"></image></g><g><rect x=\"2\" y=\"3\" class=\"dark-square\" height=\"1\" width=\"1\"></rect><g></g></g><g><rect x=\"2\" y=\"4\" class=\"light-square\" height=\"1\" width=\"1\"></rect><g></g></g><g><rect x=\"2\" y=\"5\" class=\"dark-square\" height=\"1\" width=\"1\"></rect><g></g></g><g><rect x=\"2\" y=\"6\" class=\"light-square\" height=\"1\" width=\"1\"></rect><image x=\"2\" xlink:href=\"https://raw.githubusercontent.com/romstad/Chess.jl/master/img/wp.svg\" y=\"6\" height=\"1\" width=\"1\"></image></g><g><rect x=\"2\" y=\"7\" class=\"dark-square\" height=\"1\" width=\"1\"></rect><image x=\"2\" xlink:href=\"https://raw.githubusercontent.com/romstad/Chess.jl/master/img/wb.svg\" y=\"7\" height=\"1\" width=\"1\"></image></g><g><rect x=\"3\" y=\"0\" class=\"dark-square\" height=\"1\" width=\"1\"></rect><image x=\"3\" xlink:href=\"https://raw.githubusercontent.com/romstad/Chess.jl/master/img/bq.svg\" y=\"0\" height=\"1\" width=\"1\"></image></g><g><rect x=\"3\" y=\"1\" class=\"light-square\" height=\"1\" width=\"1\"></rect><image x=\"3\" xlink:href=\"https://raw.githubusercontent.com/romstad/Chess.jl/master/img/bp.svg\" y=\"1\" height=\"1\" width=\"1\"></image></g><g><rect x=\"3\" y=\"2\" class=\"dark-square\" height=\"1\" width=\"1\"></rect><g></g></g><g><rect x=\"3\" y=\"3\" class=\"light-square\" height=\"1\" width=\"1\"></rect><g></g></g><g><rect x=\"3\" y=\"4\" class=\"dark-square\" height=\"1\" width=\"1\"></rect><g></g></g><g><rect x=\"3\" y=\"5\" class=\"light-square\" height=\"1\" width=\"1\"></rect><g></g></g><g><rect x=\"3\" y=\"6\" class=\"dark-square\" height=\"1\" width=\"1\"></rect><image x=\"3\" xlink:href=\"https://raw.githubusercontent.com/romstad/Chess.jl/master/img/wp.svg\" y=\"6\" height=\"1\" width=\"1\"></image></g><g><rect x=\"3\" y=\"7\" class=\"light-square\" height=\"1\" width=\"1\"></rect><image x=\"3\" xlink:href=\"https://raw.githubusercontent.com/romstad/Chess.jl/master/img/wq.svg\" y=\"7\" height=\"1\" width=\"1\"></image></g><g><rect x=\"4\" y=\"0\" class=\"light-square\" height=\"1\" width=\"1\"></rect><image x=\"4\" xlink:href=\"https://raw.githubusercontent.com/romstad/Chess.jl/master/img/bk.svg\" y=\"0\" height=\"1\" width=\"1\"></image></g><g><rect x=\"4\" y=\"1\" class=\"dark-square\" height=\"1\" width=\"1\"></rect><image x=\"4\" xlink:href=\"https://raw.githubusercontent.com/romstad/Chess.jl/master/img/bp.svg\" y=\"1\" height=\"1\" width=\"1\"></image></g><g><rect x=\"4\" y=\"2\" class=\"light-square\" height=\"1\" width=\"1\"></rect><g></g></g><g><rect x=\"4\" y=\"3\" class=\"dark-square\" height=\"1\" width=\"1\"></rect><g></g></g><g><rect x=\"4\" y=\"4\" class=\"light-square\" height=\"1\" width=\"1\"></rect><image x=\"4\" xlink:href=\"https://raw.githubusercontent.com/romstad/Chess.jl/master/img/wp.svg\" y=\"4\" height=\"1\" width=\"1\"></image></g><g><rect x=\"4\" y=\"5\" class=\"dark-square\" height=\"1\" width=\"1\"></rect><g></g></g><g><rect x=\"4\" y=\"6\" class=\"light-square\" height=\"1\" width=\"1\"></rect><g></g></g><g><rect x=\"4\" y=\"7\" class=\"dark-square\" height=\"1\" width=\"1\"></rect><image x=\"4\" xlink:href=\"https://raw.githubusercontent.com/romstad/Chess.jl/master/img/wk.svg\" y=\"7\" height=\"1\" width=\"1\"></image></g><g><rect x=\"5\" y=\"0\" class=\"dark-square\" height=\"1\" width=\"1\"></rect><image x=\"5\" xlink:href=\"https://raw.githubusercontent.com/romstad/Chess.jl/master/img/bb.svg\" y=\"0\" height=\"1\" width=\"1\"></image></g><g><rect x=\"5\" y=\"1\" class=\"light-square\" height=\"1\" width=\"1\"></rect><image x=\"5\" xlink:href=\"https://raw.githubusercontent.com/romstad/Chess.jl/master/img/bp.svg\" y=\"1\" height=\"1\" width=\"1\"></image></g><g><rect x=\"5\" y=\"2\" class=\"dark-square\" height=\"1\" width=\"1\"></rect><g></g></g><g><rect x=\"5\" y=\"3\" class=\"light-square\" height=\"1\" width=\"1\"></rect><g></g></g><g><rect x=\"5\" y=\"4\" class=\"dark-square\" height=\"1\" width=\"1\"></rect><g></g></g><g><rect x=\"5\" y=\"5\" class=\"light-square\" height=\"1\" width=\"1\"></rect><g></g></g><g><rect x=\"5\" y=\"6\" class=\"dark-square\" height=\"1\" width=\"1\"></rect><image x=\"5\" xlink:href=\"https://raw.githubusercontent.com/romstad/Chess.jl/master/img/wp.svg\" y=\"6\" height=\"1\" width=\"1\"></image></g><g><rect x=\"5\" y=\"7\" class=\"light-square\" height=\"1\" width=\"1\"></rect><image x=\"5\" xlink:href=\"https://raw.githubusercontent.com/romstad/Chess.jl/master/img/wb.svg\" y=\"7\" height=\"1\" width=\"1\"></image></g><g><rect x=\"6\" y=\"0\" class=\"light-square\" height=\"1\" width=\"1\"></rect><image x=\"6\" xlink:href=\"https://raw.githubusercontent.com/romstad/Chess.jl/master/img/bn.svg\" y=\"0\" height=\"1\" width=\"1\"></image></g><g><rect x=\"6\" y=\"1\" class=\"dark-square\" height=\"1\" width=\"1\"></rect><image x=\"6\" xlink:href=\"https://raw.githubusercontent.com/romstad/Chess.jl/master/img/bp.svg\" y=\"1\" height=\"1\" width=\"1\"></image></g><g><rect x=\"6\" y=\"2\" class=\"light-square\" height=\"1\" width=\"1\"></rect><g></g></g><g><rect x=\"6\" y=\"3\" class=\"dark-square\" height=\"1\" width=\"1\"></rect><g></g></g><g><rect x=\"6\" y=\"4\" class=\"light-square\" height=\"1\" width=\"1\"></rect><g></g></g><g><rect x=\"6\" y=\"5\" class=\"dark-square\" height=\"1\" width=\"1\"></rect><g></g></g><g><rect x=\"6\" y=\"6\" class=\"light-square\" height=\"1\" width=\"1\"></rect><image x=\"6\" xlink:href=\"https://raw.githubusercontent.com/romstad/Chess.jl/master/img/wp.svg\" y=\"6\" height=\"1\" width=\"1\"></image></g><g><rect x=\"6\" y=\"7\" class=\"dark-square\" height=\"1\" width=\"1\"></rect><image x=\"6\" xlink:href=\"https://raw.githubusercontent.com/romstad/Chess.jl/master/img/wn.svg\" y=\"7\" height=\"1\" width=\"1\"></image></g><g><rect x=\"7\" y=\"0\" class=\"dark-square\" height=\"1\" width=\"1\"></rect><image x=\"7\" xlink:href=\"https://raw.githubusercontent.com/romstad/Chess.jl/master/img/br.svg\" y=\"0\" height=\"1\" width=\"1\"></image></g><g><rect x=\"7\" y=\"1\" class=\"light-square\" height=\"1\" width=\"1\"></rect><image x=\"7\" xlink:href=\"https://raw.githubusercontent.com/romstad/Chess.jl/master/img/bp.svg\" y=\"1\" height=\"1\" width=\"1\"></image></g><g><rect x=\"7\" y=\"2\" class=\"dark-square\" height=\"1\" width=\"1\"></rect><g></g></g><g><rect x=\"7\" y=\"3\" class=\"light-square\" height=\"1\" width=\"1\"></rect><g></g></g><g><rect x=\"7\" y=\"4\" class=\"dark-square\" height=\"1\" width=\"1\"></rect><g></g></g><g><rect x=\"7\" y=\"5\" class=\"light-square\" height=\"1\" width=\"1\"></rect><g></g></g><g><rect x=\"7\" y=\"6\" class=\"dark-square\" height=\"1\" width=\"1\"></rect><image x=\"7\" xlink:href=\"https://raw.githubusercontent.com/romstad/Chess.jl/master/img/wp.svg\" y=\"6\" height=\"1\" width=\"1\"></image></g><g><rect x=\"7\" y=\"7\" class=\"light-square\" height=\"1\" width=\"1\"></rect><image x=\"7\" xlink:href=\"https://raw.githubusercontent.com/romstad/Chess.jl/master/img/wr.svg\" y=\"7\" height=\"1\" width=\"1\"></image></g></g><g></g></svg><div><p>White to move</p><p>Castle rights: KQkq</p><p><a href=\"https://lichess.org/editor/r1bqkbnr/pppppppp/2n5/8/4P3/8/PPPP1PPP/RNBQKBNR_w_KQkq_-\" target=\"_blank\">Open in lichess</a></p></div></div>"
      ],
      "text/plain": [
       "Board (r1bqkbnr/pppppppp/2n5/8/4P3/8/PPPP1PPP/RNBQKBNR w KQkq -):\n",
       " r  -  b  q  k  b  n  r \n",
       " p  p  p  p  p  p  p  p \n",
       " -  -  n  -  -  -  -  - \n",
       " -  -  -  -  -  -  -  - \n",
       " -  -  -  -  P  -  -  - \n",
       " -  -  -  -  -  -  -  - \n",
       " P  P  P  P  -  P  P  P \n",
       " R  N  B  Q  K  B  N  R "
      ]
     },
     "metadata": {},
     "output_type": "display_data"
    },
    {
     "name": "stdout",
     "output_type": "stream",
     "text": [
      "Make a move. Type 'resign' to resign from the match\n",
      "stdin> d2d4\n",
      "Cleared Cache with 0\n"
     ]
    },
    {
     "data": {
      "text/html": [
       "Board:<div class=\"chessboard\"><style soped=\"true\">.dark-square {\n",
       "    fill: #c3936a;\n",
       "    stroke-width: 0;\n",
       "}\n",
       ".light-square {\n",
       "    fill: #ffd7a6;\n",
       "    stroke-width: 0;\n",
       "}\n",
       ".highlight {\n",
       "    fill: #47d18b;\n",
       "}\n",
       "@media (prefers-color-scheme: dark) {\n",
       "    .dark-square {\n",
       "        fill: #00796b;\n",
       "    }\n",
       "    .light-square {\n",
       "        fill: #3ca59b;\n",
       "    }\n",
       "    .highlight {\n",
       "        fill: #d23600;\n",
       "    }\n",
       "}\n",
       "</style><svg style=\"float: left; margin-right: 20px\" viewBox=\"0 0 8 8\" height=\"280\" width=\"280\"><g><g><rect x=\"0\" y=\"0\" class=\"light-square\" height=\"1\" width=\"1\"></rect><image x=\"0\" xlink:href=\"https://raw.githubusercontent.com/romstad/Chess.jl/master/img/br.svg\" y=\"0\" height=\"1\" width=\"1\"></image></g><g><rect x=\"0\" y=\"1\" class=\"dark-square\" height=\"1\" width=\"1\"></rect><image x=\"0\" xlink:href=\"https://raw.githubusercontent.com/romstad/Chess.jl/master/img/bp.svg\" y=\"1\" height=\"1\" width=\"1\"></image></g><g><rect x=\"0\" y=\"2\" class=\"light-square\" height=\"1\" width=\"1\"></rect><g></g></g><g><rect x=\"0\" y=\"3\" class=\"dark-square\" height=\"1\" width=\"1\"></rect><g></g></g><g><rect x=\"0\" y=\"4\" class=\"light-square\" height=\"1\" width=\"1\"></rect><g></g></g><g><rect x=\"0\" y=\"5\" class=\"dark-square\" height=\"1\" width=\"1\"></rect><g></g></g><g><rect x=\"0\" y=\"6\" class=\"light-square\" height=\"1\" width=\"1\"></rect><image x=\"0\" xlink:href=\"https://raw.githubusercontent.com/romstad/Chess.jl/master/img/wp.svg\" y=\"6\" height=\"1\" width=\"1\"></image></g><g><rect x=\"0\" y=\"7\" class=\"dark-square\" height=\"1\" width=\"1\"></rect><image x=\"0\" xlink:href=\"https://raw.githubusercontent.com/romstad/Chess.jl/master/img/wr.svg\" y=\"7\" height=\"1\" width=\"1\"></image></g><g><rect x=\"1\" y=\"0\" class=\"dark-square\" height=\"1\" width=\"1\"></rect><g></g></g><g><rect x=\"1\" y=\"1\" class=\"light-square\" height=\"1\" width=\"1\"></rect><image x=\"1\" xlink:href=\"https://raw.githubusercontent.com/romstad/Chess.jl/master/img/bp.svg\" y=\"1\" height=\"1\" width=\"1\"></image></g><g><rect x=\"1\" y=\"2\" class=\"dark-square\" height=\"1\" width=\"1\"></rect><g></g></g><g><rect x=\"1\" y=\"3\" class=\"light-square\" height=\"1\" width=\"1\"></rect><g></g></g><g><rect x=\"1\" y=\"4\" class=\"dark-square\" height=\"1\" width=\"1\"></rect><g></g></g><g><rect x=\"1\" y=\"5\" class=\"light-square\" height=\"1\" width=\"1\"></rect><g></g></g><g><rect x=\"1\" y=\"6\" class=\"dark-square\" height=\"1\" width=\"1\"></rect><image x=\"1\" xlink:href=\"https://raw.githubusercontent.com/romstad/Chess.jl/master/img/wp.svg\" y=\"6\" height=\"1\" width=\"1\"></image></g><g><rect x=\"1\" y=\"7\" class=\"light-square\" height=\"1\" width=\"1\"></rect><image x=\"1\" xlink:href=\"https://raw.githubusercontent.com/romstad/Chess.jl/master/img/wn.svg\" y=\"7\" height=\"1\" width=\"1\"></image></g><g><rect x=\"2\" y=\"0\" class=\"light-square\" height=\"1\" width=\"1\"></rect><image x=\"2\" xlink:href=\"https://raw.githubusercontent.com/romstad/Chess.jl/master/img/bb.svg\" y=\"0\" height=\"1\" width=\"1\"></image></g><g><rect x=\"2\" y=\"1\" class=\"dark-square\" height=\"1\" width=\"1\"></rect><image x=\"2\" xlink:href=\"https://raw.githubusercontent.com/romstad/Chess.jl/master/img/bp.svg\" y=\"1\" height=\"1\" width=\"1\"></image></g><g><rect x=\"2\" y=\"2\" class=\"light-square\" height=\"1\" width=\"1\"></rect><image x=\"2\" xlink:href=\"https://raw.githubusercontent.com/romstad/Chess.jl/master/img/bn.svg\" y=\"2\" height=\"1\" width=\"1\"></image></g><g><rect x=\"2\" y=\"3\" class=\"dark-square\" height=\"1\" width=\"1\"></rect><g></g></g><g><rect x=\"2\" y=\"4\" class=\"light-square\" height=\"1\" width=\"1\"></rect><g></g></g><g><rect x=\"2\" y=\"5\" class=\"dark-square\" height=\"1\" width=\"1\"></rect><g></g></g><g><rect x=\"2\" y=\"6\" class=\"light-square\" height=\"1\" width=\"1\"></rect><image x=\"2\" xlink:href=\"https://raw.githubusercontent.com/romstad/Chess.jl/master/img/wp.svg\" y=\"6\" height=\"1\" width=\"1\"></image></g><g><rect x=\"2\" y=\"7\" class=\"dark-square\" height=\"1\" width=\"1\"></rect><image x=\"2\" xlink:href=\"https://raw.githubusercontent.com/romstad/Chess.jl/master/img/wb.svg\" y=\"7\" height=\"1\" width=\"1\"></image></g><g><rect x=\"3\" y=\"0\" class=\"dark-square\" height=\"1\" width=\"1\"></rect><image x=\"3\" xlink:href=\"https://raw.githubusercontent.com/romstad/Chess.jl/master/img/bq.svg\" y=\"0\" height=\"1\" width=\"1\"></image></g><g><rect x=\"3\" y=\"1\" class=\"light-square\" height=\"1\" width=\"1\"></rect><image x=\"3\" xlink:href=\"https://raw.githubusercontent.com/romstad/Chess.jl/master/img/bp.svg\" y=\"1\" height=\"1\" width=\"1\"></image></g><g><rect x=\"3\" y=\"2\" class=\"dark-square\" height=\"1\" width=\"1\"></rect><g></g></g><g><rect x=\"3\" y=\"3\" class=\"light-square\" height=\"1\" width=\"1\"></rect><g></g></g><g><rect x=\"3\" y=\"4\" class=\"dark-square\" height=\"1\" width=\"1\"></rect><image x=\"3\" xlink:href=\"https://raw.githubusercontent.com/romstad/Chess.jl/master/img/wp.svg\" y=\"4\" height=\"1\" width=\"1\"></image></g><g><rect x=\"3\" y=\"5\" class=\"light-square\" height=\"1\" width=\"1\"></rect><g></g></g><g><rect x=\"3\" y=\"6\" class=\"dark-square\" height=\"1\" width=\"1\"></rect><g></g></g><g><rect x=\"3\" y=\"7\" class=\"light-square\" height=\"1\" width=\"1\"></rect><image x=\"3\" xlink:href=\"https://raw.githubusercontent.com/romstad/Chess.jl/master/img/wq.svg\" y=\"7\" height=\"1\" width=\"1\"></image></g><g><rect x=\"4\" y=\"0\" class=\"light-square\" height=\"1\" width=\"1\"></rect><image x=\"4\" xlink:href=\"https://raw.githubusercontent.com/romstad/Chess.jl/master/img/bk.svg\" y=\"0\" height=\"1\" width=\"1\"></image></g><g><rect x=\"4\" y=\"1\" class=\"dark-square\" height=\"1\" width=\"1\"></rect><image x=\"4\" xlink:href=\"https://raw.githubusercontent.com/romstad/Chess.jl/master/img/bp.svg\" y=\"1\" height=\"1\" width=\"1\"></image></g><g><rect x=\"4\" y=\"2\" class=\"light-square\" height=\"1\" width=\"1\"></rect><g></g></g><g><rect x=\"4\" y=\"3\" class=\"dark-square\" height=\"1\" width=\"1\"></rect><g></g></g><g><rect x=\"4\" y=\"4\" class=\"light-square\" height=\"1\" width=\"1\"></rect><image x=\"4\" xlink:href=\"https://raw.githubusercontent.com/romstad/Chess.jl/master/img/wp.svg\" y=\"4\" height=\"1\" width=\"1\"></image></g><g><rect x=\"4\" y=\"5\" class=\"dark-square\" height=\"1\" width=\"1\"></rect><g></g></g><g><rect x=\"4\" y=\"6\" class=\"light-square\" height=\"1\" width=\"1\"></rect><g></g></g><g><rect x=\"4\" y=\"7\" class=\"dark-square\" height=\"1\" width=\"1\"></rect><image x=\"4\" xlink:href=\"https://raw.githubusercontent.com/romstad/Chess.jl/master/img/wk.svg\" y=\"7\" height=\"1\" width=\"1\"></image></g><g><rect x=\"5\" y=\"0\" class=\"dark-square\" height=\"1\" width=\"1\"></rect><image x=\"5\" xlink:href=\"https://raw.githubusercontent.com/romstad/Chess.jl/master/img/bb.svg\" y=\"0\" height=\"1\" width=\"1\"></image></g><g><rect x=\"5\" y=\"1\" class=\"light-square\" height=\"1\" width=\"1\"></rect><image x=\"5\" xlink:href=\"https://raw.githubusercontent.com/romstad/Chess.jl/master/img/bp.svg\" y=\"1\" height=\"1\" width=\"1\"></image></g><g><rect x=\"5\" y=\"2\" class=\"dark-square\" height=\"1\" width=\"1\"></rect><g></g></g><g><rect x=\"5\" y=\"3\" class=\"light-square\" height=\"1\" width=\"1\"></rect><g></g></g><g><rect x=\"5\" y=\"4\" class=\"dark-square\" height=\"1\" width=\"1\"></rect><g></g></g><g><rect x=\"5\" y=\"5\" class=\"light-square\" height=\"1\" width=\"1\"></rect><g></g></g><g><rect x=\"5\" y=\"6\" class=\"dark-square\" height=\"1\" width=\"1\"></rect><image x=\"5\" xlink:href=\"https://raw.githubusercontent.com/romstad/Chess.jl/master/img/wp.svg\" y=\"6\" height=\"1\" width=\"1\"></image></g><g><rect x=\"5\" y=\"7\" class=\"light-square\" height=\"1\" width=\"1\"></rect><image x=\"5\" xlink:href=\"https://raw.githubusercontent.com/romstad/Chess.jl/master/img/wb.svg\" y=\"7\" height=\"1\" width=\"1\"></image></g><g><rect x=\"6\" y=\"0\" class=\"light-square\" height=\"1\" width=\"1\"></rect><image x=\"6\" xlink:href=\"https://raw.githubusercontent.com/romstad/Chess.jl/master/img/bn.svg\" y=\"0\" height=\"1\" width=\"1\"></image></g><g><rect x=\"6\" y=\"1\" class=\"dark-square\" height=\"1\" width=\"1\"></rect><image x=\"6\" xlink:href=\"https://raw.githubusercontent.com/romstad/Chess.jl/master/img/bp.svg\" y=\"1\" height=\"1\" width=\"1\"></image></g><g><rect x=\"6\" y=\"2\" class=\"light-square\" height=\"1\" width=\"1\"></rect><g></g></g><g><rect x=\"6\" y=\"3\" class=\"dark-square\" height=\"1\" width=\"1\"></rect><g></g></g><g><rect x=\"6\" y=\"4\" class=\"light-square\" height=\"1\" width=\"1\"></rect><g></g></g><g><rect x=\"6\" y=\"5\" class=\"dark-square\" height=\"1\" width=\"1\"></rect><g></g></g><g><rect x=\"6\" y=\"6\" class=\"light-square\" height=\"1\" width=\"1\"></rect><image x=\"6\" xlink:href=\"https://raw.githubusercontent.com/romstad/Chess.jl/master/img/wp.svg\" y=\"6\" height=\"1\" width=\"1\"></image></g><g><rect x=\"6\" y=\"7\" class=\"dark-square\" height=\"1\" width=\"1\"></rect><image x=\"6\" xlink:href=\"https://raw.githubusercontent.com/romstad/Chess.jl/master/img/wn.svg\" y=\"7\" height=\"1\" width=\"1\"></image></g><g><rect x=\"7\" y=\"0\" class=\"dark-square\" height=\"1\" width=\"1\"></rect><image x=\"7\" xlink:href=\"https://raw.githubusercontent.com/romstad/Chess.jl/master/img/br.svg\" y=\"0\" height=\"1\" width=\"1\"></image></g><g><rect x=\"7\" y=\"1\" class=\"light-square\" height=\"1\" width=\"1\"></rect><image x=\"7\" xlink:href=\"https://raw.githubusercontent.com/romstad/Chess.jl/master/img/bp.svg\" y=\"1\" height=\"1\" width=\"1\"></image></g><g><rect x=\"7\" y=\"2\" class=\"dark-square\" height=\"1\" width=\"1\"></rect><g></g></g><g><rect x=\"7\" y=\"3\" class=\"light-square\" height=\"1\" width=\"1\"></rect><g></g></g><g><rect x=\"7\" y=\"4\" class=\"dark-square\" height=\"1\" width=\"1\"></rect><g></g></g><g><rect x=\"7\" y=\"5\" class=\"light-square\" height=\"1\" width=\"1\"></rect><g></g></g><g><rect x=\"7\" y=\"6\" class=\"dark-square\" height=\"1\" width=\"1\"></rect><image x=\"7\" xlink:href=\"https://raw.githubusercontent.com/romstad/Chess.jl/master/img/wp.svg\" y=\"6\" height=\"1\" width=\"1\"></image></g><g><rect x=\"7\" y=\"7\" class=\"light-square\" height=\"1\" width=\"1\"></rect><image x=\"7\" xlink:href=\"https://raw.githubusercontent.com/romstad/Chess.jl/master/img/wr.svg\" y=\"7\" height=\"1\" width=\"1\"></image></g></g><g></g></svg><div><p>Black to move</p><p>Castle rights: KQkq</p><p><a href=\"https://lichess.org/editor/r1bqkbnr/pppppppp/2n5/8/3PP3/8/PPP2PPP/RNBQKBNR_b_KQkq_-\" target=\"_blank\">Open in lichess</a></p></div></div>"
      ],
      "text/plain": [
       "Board (r1bqkbnr/pppppppp/2n5/8/3PP3/8/PPP2PPP/RNBQKBNR b KQkq -):\n",
       " r  -  b  q  k  b  n  r \n",
       " p  p  p  p  p  p  p  p \n",
       " -  -  n  -  -  -  -  - \n",
       " -  -  -  -  -  -  -  - \n",
       " -  -  -  P  P  -  -  - \n",
       " -  -  -  -  -  -  -  - \n",
       " P  P  P  -  -  P  P  P \n",
       " R  N  B  Q  K  B  N  R "
      ]
     },
     "metadata": {},
     "output_type": "display_data"
    },
    {
     "name": "stdout",
     "output_type": "stream",
     "text": [
      "Evaluation of engine: 65.0\n",
      "Current board score: 30\n",
      "Current entries in Cache: 4735\n",
      "Cleared Cache with 4735\n",
      "  4.565544 seconds (15.48 M allocations: 870.151 MiB, 3.59% gc time)\n"
     ]
    },
    {
     "data": {
      "text/html": [
       "Board:<div class=\"chessboard\"><style soped=\"true\">.dark-square {\n",
       "    fill: #c3936a;\n",
       "    stroke-width: 0;\n",
       "}\n",
       ".light-square {\n",
       "    fill: #ffd7a6;\n",
       "    stroke-width: 0;\n",
       "}\n",
       ".highlight {\n",
       "    fill: #47d18b;\n",
       "}\n",
       "@media (prefers-color-scheme: dark) {\n",
       "    .dark-square {\n",
       "        fill: #00796b;\n",
       "    }\n",
       "    .light-square {\n",
       "        fill: #3ca59b;\n",
       "    }\n",
       "    .highlight {\n",
       "        fill: #d23600;\n",
       "    }\n",
       "}\n",
       "</style><svg style=\"float: left; margin-right: 20px\" viewBox=\"0 0 8 8\" height=\"280\" width=\"280\"><g><g><rect x=\"0\" y=\"0\" class=\"light-square\" height=\"1\" width=\"1\"></rect><image x=\"0\" xlink:href=\"https://raw.githubusercontent.com/romstad/Chess.jl/master/img/br.svg\" y=\"0\" height=\"1\" width=\"1\"></image></g><g><rect x=\"0\" y=\"1\" class=\"dark-square\" height=\"1\" width=\"1\"></rect><image x=\"0\" xlink:href=\"https://raw.githubusercontent.com/romstad/Chess.jl/master/img/bp.svg\" y=\"1\" height=\"1\" width=\"1\"></image></g><g><rect x=\"0\" y=\"2\" class=\"light-square\" height=\"1\" width=\"1\"></rect><g></g></g><g><rect x=\"0\" y=\"3\" class=\"dark-square\" height=\"1\" width=\"1\"></rect><g></g></g><g><rect x=\"0\" y=\"4\" class=\"light-square\" height=\"1\" width=\"1\"></rect><g></g></g><g><rect x=\"0\" y=\"5\" class=\"dark-square\" height=\"1\" width=\"1\"></rect><g></g></g><g><rect x=\"0\" y=\"6\" class=\"light-square\" height=\"1\" width=\"1\"></rect><image x=\"0\" xlink:href=\"https://raw.githubusercontent.com/romstad/Chess.jl/master/img/wp.svg\" y=\"6\" height=\"1\" width=\"1\"></image></g><g><rect x=\"0\" y=\"7\" class=\"dark-square\" height=\"1\" width=\"1\"></rect><image x=\"0\" xlink:href=\"https://raw.githubusercontent.com/romstad/Chess.jl/master/img/wr.svg\" y=\"7\" height=\"1\" width=\"1\"></image></g><g><rect x=\"1\" y=\"0\" class=\"dark-square\" height=\"1\" width=\"1\"></rect><g></g></g><g><rect x=\"1\" y=\"1\" class=\"light-square\" height=\"1\" width=\"1\"></rect><image x=\"1\" xlink:href=\"https://raw.githubusercontent.com/romstad/Chess.jl/master/img/bp.svg\" y=\"1\" height=\"1\" width=\"1\"></image></g><g><rect x=\"1\" y=\"2\" class=\"dark-square\" height=\"1\" width=\"1\"></rect><g></g></g><g><rect x=\"1\" y=\"3\" class=\"light-square\" height=\"1\" width=\"1\"></rect><g></g></g><g><rect x=\"1\" y=\"4\" class=\"dark-square\" height=\"1\" width=\"1\"></rect><g></g></g><g><rect x=\"1\" y=\"5\" class=\"light-square\" height=\"1\" width=\"1\"></rect><g></g></g><g><rect x=\"1\" y=\"6\" class=\"dark-square\" height=\"1\" width=\"1\"></rect><image x=\"1\" xlink:href=\"https://raw.githubusercontent.com/romstad/Chess.jl/master/img/wp.svg\" y=\"6\" height=\"1\" width=\"1\"></image></g><g><rect x=\"1\" y=\"7\" class=\"light-square\" height=\"1\" width=\"1\"></rect><image x=\"1\" xlink:href=\"https://raw.githubusercontent.com/romstad/Chess.jl/master/img/wn.svg\" y=\"7\" height=\"1\" width=\"1\"></image></g><g><rect x=\"2\" y=\"0\" class=\"light-square\" height=\"1\" width=\"1\"></rect><image x=\"2\" xlink:href=\"https://raw.githubusercontent.com/romstad/Chess.jl/master/img/bb.svg\" y=\"0\" height=\"1\" width=\"1\"></image></g><g><rect x=\"2\" y=\"1\" class=\"dark-square\" height=\"1\" width=\"1\"></rect><image x=\"2\" xlink:href=\"https://raw.githubusercontent.com/romstad/Chess.jl/master/img/bp.svg\" y=\"1\" height=\"1\" width=\"1\"></image></g><g><rect x=\"2\" y=\"2\" class=\"light-square\" height=\"1\" width=\"1\"></rect><image x=\"2\" xlink:href=\"https://raw.githubusercontent.com/romstad/Chess.jl/master/img/bn.svg\" y=\"2\" height=\"1\" width=\"1\"></image></g><g><rect x=\"2\" y=\"3\" class=\"dark-square\" height=\"1\" width=\"1\"></rect><g></g></g><g><rect x=\"2\" y=\"4\" class=\"light-square\" height=\"1\" width=\"1\"></rect><g></g></g><g><rect x=\"2\" y=\"5\" class=\"dark-square\" height=\"1\" width=\"1\"></rect><g></g></g><g><rect x=\"2\" y=\"6\" class=\"light-square\" height=\"1\" width=\"1\"></rect><image x=\"2\" xlink:href=\"https://raw.githubusercontent.com/romstad/Chess.jl/master/img/wp.svg\" y=\"6\" height=\"1\" width=\"1\"></image></g><g><rect x=\"2\" y=\"7\" class=\"dark-square\" height=\"1\" width=\"1\"></rect><image x=\"2\" xlink:href=\"https://raw.githubusercontent.com/romstad/Chess.jl/master/img/wb.svg\" y=\"7\" height=\"1\" width=\"1\"></image></g><g><rect x=\"3\" y=\"0\" class=\"dark-square\" height=\"1\" width=\"1\"></rect><image x=\"3\" xlink:href=\"https://raw.githubusercontent.com/romstad/Chess.jl/master/img/bq.svg\" y=\"0\" height=\"1\" width=\"1\"></image></g><g><rect x=\"3\" y=\"1\" class=\"light-square\" height=\"1\" width=\"1\"></rect><image x=\"3\" xlink:href=\"https://raw.githubusercontent.com/romstad/Chess.jl/master/img/bp.svg\" y=\"1\" height=\"1\" width=\"1\"></image></g><g><rect x=\"3\" y=\"2\" class=\"dark-square\" height=\"1\" width=\"1\"></rect><g></g></g><g><rect x=\"3\" y=\"3\" class=\"light-square\" height=\"1\" width=\"1\"></rect><g></g></g><g><rect x=\"3\" y=\"4\" class=\"dark-square\" height=\"1\" width=\"1\"></rect><image x=\"3\" xlink:href=\"https://raw.githubusercontent.com/romstad/Chess.jl/master/img/wp.svg\" y=\"4\" height=\"1\" width=\"1\"></image></g><g><rect x=\"3\" y=\"5\" class=\"light-square\" height=\"1\" width=\"1\"></rect><g></g></g><g><rect x=\"3\" y=\"6\" class=\"dark-square\" height=\"1\" width=\"1\"></rect><g></g></g><g><rect x=\"3\" y=\"7\" class=\"light-square\" height=\"1\" width=\"1\"></rect><image x=\"3\" xlink:href=\"https://raw.githubusercontent.com/romstad/Chess.jl/master/img/wq.svg\" y=\"7\" height=\"1\" width=\"1\"></image></g><g><rect x=\"4\" y=\"0\" class=\"light-square\" height=\"1\" width=\"1\"></rect><image x=\"4\" xlink:href=\"https://raw.githubusercontent.com/romstad/Chess.jl/master/img/bk.svg\" y=\"0\" height=\"1\" width=\"1\"></image></g><g><rect x=\"4\" y=\"1\" class=\"dark-square\" height=\"1\" width=\"1\"></rect><g></g></g><g><rect x=\"4\" y=\"2\" class=\"light-square\" height=\"1\" width=\"1\"></rect><g></g></g><g><rect x=\"4\" y=\"3\" class=\"dark-square\" height=\"1\" width=\"1\"></rect><image x=\"4\" xlink:href=\"https://raw.githubusercontent.com/romstad/Chess.jl/master/img/bp.svg\" y=\"3\" height=\"1\" width=\"1\"></image></g><g><rect x=\"4\" y=\"4\" class=\"light-square\" height=\"1\" width=\"1\"></rect><image x=\"4\" xlink:href=\"https://raw.githubusercontent.com/romstad/Chess.jl/master/img/wp.svg\" y=\"4\" height=\"1\" width=\"1\"></image></g><g><rect x=\"4\" y=\"5\" class=\"dark-square\" height=\"1\" width=\"1\"></rect><g></g></g><g><rect x=\"4\" y=\"6\" class=\"light-square\" height=\"1\" width=\"1\"></rect><g></g></g><g><rect x=\"4\" y=\"7\" class=\"dark-square\" height=\"1\" width=\"1\"></rect><image x=\"4\" xlink:href=\"https://raw.githubusercontent.com/romstad/Chess.jl/master/img/wk.svg\" y=\"7\" height=\"1\" width=\"1\"></image></g><g><rect x=\"5\" y=\"0\" class=\"dark-square\" height=\"1\" width=\"1\"></rect><image x=\"5\" xlink:href=\"https://raw.githubusercontent.com/romstad/Chess.jl/master/img/bb.svg\" y=\"0\" height=\"1\" width=\"1\"></image></g><g><rect x=\"5\" y=\"1\" class=\"light-square\" height=\"1\" width=\"1\"></rect><image x=\"5\" xlink:href=\"https://raw.githubusercontent.com/romstad/Chess.jl/master/img/bp.svg\" y=\"1\" height=\"1\" width=\"1\"></image></g><g><rect x=\"5\" y=\"2\" class=\"dark-square\" height=\"1\" width=\"1\"></rect><g></g></g><g><rect x=\"5\" y=\"3\" class=\"light-square\" height=\"1\" width=\"1\"></rect><g></g></g><g><rect x=\"5\" y=\"4\" class=\"dark-square\" height=\"1\" width=\"1\"></rect><g></g></g><g><rect x=\"5\" y=\"5\" class=\"light-square\" height=\"1\" width=\"1\"></rect><g></g></g><g><rect x=\"5\" y=\"6\" class=\"dark-square\" height=\"1\" width=\"1\"></rect><image x=\"5\" xlink:href=\"https://raw.githubusercontent.com/romstad/Chess.jl/master/img/wp.svg\" y=\"6\" height=\"1\" width=\"1\"></image></g><g><rect x=\"5\" y=\"7\" class=\"light-square\" height=\"1\" width=\"1\"></rect><image x=\"5\" xlink:href=\"https://raw.githubusercontent.com/romstad/Chess.jl/master/img/wb.svg\" y=\"7\" height=\"1\" width=\"1\"></image></g><g><rect x=\"6\" y=\"0\" class=\"light-square\" height=\"1\" width=\"1\"></rect><image x=\"6\" xlink:href=\"https://raw.githubusercontent.com/romstad/Chess.jl/master/img/bn.svg\" y=\"0\" height=\"1\" width=\"1\"></image></g><g><rect x=\"6\" y=\"1\" class=\"dark-square\" height=\"1\" width=\"1\"></rect><image x=\"6\" xlink:href=\"https://raw.githubusercontent.com/romstad/Chess.jl/master/img/bp.svg\" y=\"1\" height=\"1\" width=\"1\"></image></g><g><rect x=\"6\" y=\"2\" class=\"light-square\" height=\"1\" width=\"1\"></rect><g></g></g><g><rect x=\"6\" y=\"3\" class=\"dark-square\" height=\"1\" width=\"1\"></rect><g></g></g><g><rect x=\"6\" y=\"4\" class=\"light-square\" height=\"1\" width=\"1\"></rect><g></g></g><g><rect x=\"6\" y=\"5\" class=\"dark-square\" height=\"1\" width=\"1\"></rect><g></g></g><g><rect x=\"6\" y=\"6\" class=\"light-square\" height=\"1\" width=\"1\"></rect><image x=\"6\" xlink:href=\"https://raw.githubusercontent.com/romstad/Chess.jl/master/img/wp.svg\" y=\"6\" height=\"1\" width=\"1\"></image></g><g><rect x=\"6\" y=\"7\" class=\"dark-square\" height=\"1\" width=\"1\"></rect><image x=\"6\" xlink:href=\"https://raw.githubusercontent.com/romstad/Chess.jl/master/img/wn.svg\" y=\"7\" height=\"1\" width=\"1\"></image></g><g><rect x=\"7\" y=\"0\" class=\"dark-square\" height=\"1\" width=\"1\"></rect><image x=\"7\" xlink:href=\"https://raw.githubusercontent.com/romstad/Chess.jl/master/img/br.svg\" y=\"0\" height=\"1\" width=\"1\"></image></g><g><rect x=\"7\" y=\"1\" class=\"light-square\" height=\"1\" width=\"1\"></rect><image x=\"7\" xlink:href=\"https://raw.githubusercontent.com/romstad/Chess.jl/master/img/bp.svg\" y=\"1\" height=\"1\" width=\"1\"></image></g><g><rect x=\"7\" y=\"2\" class=\"dark-square\" height=\"1\" width=\"1\"></rect><g></g></g><g><rect x=\"7\" y=\"3\" class=\"light-square\" height=\"1\" width=\"1\"></rect><g></g></g><g><rect x=\"7\" y=\"4\" class=\"dark-square\" height=\"1\" width=\"1\"></rect><g></g></g><g><rect x=\"7\" y=\"5\" class=\"light-square\" height=\"1\" width=\"1\"></rect><g></g></g><g><rect x=\"7\" y=\"6\" class=\"dark-square\" height=\"1\" width=\"1\"></rect><image x=\"7\" xlink:href=\"https://raw.githubusercontent.com/romstad/Chess.jl/master/img/wp.svg\" y=\"6\" height=\"1\" width=\"1\"></image></g><g><rect x=\"7\" y=\"7\" class=\"light-square\" height=\"1\" width=\"1\"></rect><image x=\"7\" xlink:href=\"https://raw.githubusercontent.com/romstad/Chess.jl/master/img/wr.svg\" y=\"7\" height=\"1\" width=\"1\"></image></g></g><g></g></svg><div><p>White to move</p><p>Castle rights: KQkq</p><p><a href=\"https://lichess.org/editor/r1bqkbnr/pppp1ppp/2n5/4p3/3PP3/8/PPP2PPP/RNBQKBNR_w_KQkq_-\" target=\"_blank\">Open in lichess</a></p></div></div>"
      ],
      "text/plain": [
       "Board (r1bqkbnr/pppp1ppp/2n5/4p3/3PP3/8/PPP2PPP/RNBQKBNR w KQkq -):\n",
       " r  -  b  q  k  b  n  r \n",
       " p  p  p  p  -  p  p  p \n",
       " -  -  n  -  -  -  -  - \n",
       " -  -  -  -  p  -  -  - \n",
       " -  -  -  P  P  -  -  - \n",
       " -  -  -  -  -  -  -  - \n",
       " P  P  P  -  -  P  P  P \n",
       " R  N  B  Q  K  B  N  R "
      ]
     },
     "metadata": {},
     "output_type": "display_data"
    },
    {
     "name": "stdout",
     "output_type": "stream",
     "text": [
      "Make a move. Type 'resign' to resign from the match\n",
      "stdin> d4d5\n",
      "Cleared Cache with 0\n"
     ]
    },
    {
     "data": {
      "text/html": [
       "Board:<div class=\"chessboard\"><style soped=\"true\">.dark-square {\n",
       "    fill: #c3936a;\n",
       "    stroke-width: 0;\n",
       "}\n",
       ".light-square {\n",
       "    fill: #ffd7a6;\n",
       "    stroke-width: 0;\n",
       "}\n",
       ".highlight {\n",
       "    fill: #47d18b;\n",
       "}\n",
       "@media (prefers-color-scheme: dark) {\n",
       "    .dark-square {\n",
       "        fill: #00796b;\n",
       "    }\n",
       "    .light-square {\n",
       "        fill: #3ca59b;\n",
       "    }\n",
       "    .highlight {\n",
       "        fill: #d23600;\n",
       "    }\n",
       "}\n",
       "</style><svg style=\"float: left; margin-right: 20px\" viewBox=\"0 0 8 8\" height=\"280\" width=\"280\"><g><g><rect x=\"0\" y=\"0\" class=\"light-square\" height=\"1\" width=\"1\"></rect><image x=\"0\" xlink:href=\"https://raw.githubusercontent.com/romstad/Chess.jl/master/img/br.svg\" y=\"0\" height=\"1\" width=\"1\"></image></g><g><rect x=\"0\" y=\"1\" class=\"dark-square\" height=\"1\" width=\"1\"></rect><image x=\"0\" xlink:href=\"https://raw.githubusercontent.com/romstad/Chess.jl/master/img/bp.svg\" y=\"1\" height=\"1\" width=\"1\"></image></g><g><rect x=\"0\" y=\"2\" class=\"light-square\" height=\"1\" width=\"1\"></rect><g></g></g><g><rect x=\"0\" y=\"3\" class=\"dark-square\" height=\"1\" width=\"1\"></rect><g></g></g><g><rect x=\"0\" y=\"4\" class=\"light-square\" height=\"1\" width=\"1\"></rect><g></g></g><g><rect x=\"0\" y=\"5\" class=\"dark-square\" height=\"1\" width=\"1\"></rect><g></g></g><g><rect x=\"0\" y=\"6\" class=\"light-square\" height=\"1\" width=\"1\"></rect><image x=\"0\" xlink:href=\"https://raw.githubusercontent.com/romstad/Chess.jl/master/img/wp.svg\" y=\"6\" height=\"1\" width=\"1\"></image></g><g><rect x=\"0\" y=\"7\" class=\"dark-square\" height=\"1\" width=\"1\"></rect><image x=\"0\" xlink:href=\"https://raw.githubusercontent.com/romstad/Chess.jl/master/img/wr.svg\" y=\"7\" height=\"1\" width=\"1\"></image></g><g><rect x=\"1\" y=\"0\" class=\"dark-square\" height=\"1\" width=\"1\"></rect><g></g></g><g><rect x=\"1\" y=\"1\" class=\"light-square\" height=\"1\" width=\"1\"></rect><image x=\"1\" xlink:href=\"https://raw.githubusercontent.com/romstad/Chess.jl/master/img/bp.svg\" y=\"1\" height=\"1\" width=\"1\"></image></g><g><rect x=\"1\" y=\"2\" class=\"dark-square\" height=\"1\" width=\"1\"></rect><g></g></g><g><rect x=\"1\" y=\"3\" class=\"light-square\" height=\"1\" width=\"1\"></rect><g></g></g><g><rect x=\"1\" y=\"4\" class=\"dark-square\" height=\"1\" width=\"1\"></rect><g></g></g><g><rect x=\"1\" y=\"5\" class=\"light-square\" height=\"1\" width=\"1\"></rect><g></g></g><g><rect x=\"1\" y=\"6\" class=\"dark-square\" height=\"1\" width=\"1\"></rect><image x=\"1\" xlink:href=\"https://raw.githubusercontent.com/romstad/Chess.jl/master/img/wp.svg\" y=\"6\" height=\"1\" width=\"1\"></image></g><g><rect x=\"1\" y=\"7\" class=\"light-square\" height=\"1\" width=\"1\"></rect><image x=\"1\" xlink:href=\"https://raw.githubusercontent.com/romstad/Chess.jl/master/img/wn.svg\" y=\"7\" height=\"1\" width=\"1\"></image></g><g><rect x=\"2\" y=\"0\" class=\"light-square\" height=\"1\" width=\"1\"></rect><image x=\"2\" xlink:href=\"https://raw.githubusercontent.com/romstad/Chess.jl/master/img/bb.svg\" y=\"0\" height=\"1\" width=\"1\"></image></g><g><rect x=\"2\" y=\"1\" class=\"dark-square\" height=\"1\" width=\"1\"></rect><image x=\"2\" xlink:href=\"https://raw.githubusercontent.com/romstad/Chess.jl/master/img/bp.svg\" y=\"1\" height=\"1\" width=\"1\"></image></g><g><rect x=\"2\" y=\"2\" class=\"light-square\" height=\"1\" width=\"1\"></rect><image x=\"2\" xlink:href=\"https://raw.githubusercontent.com/romstad/Chess.jl/master/img/bn.svg\" y=\"2\" height=\"1\" width=\"1\"></image></g><g><rect x=\"2\" y=\"3\" class=\"dark-square\" height=\"1\" width=\"1\"></rect><g></g></g><g><rect x=\"2\" y=\"4\" class=\"light-square\" height=\"1\" width=\"1\"></rect><g></g></g><g><rect x=\"2\" y=\"5\" class=\"dark-square\" height=\"1\" width=\"1\"></rect><g></g></g><g><rect x=\"2\" y=\"6\" class=\"light-square\" height=\"1\" width=\"1\"></rect><image x=\"2\" xlink:href=\"https://raw.githubusercontent.com/romstad/Chess.jl/master/img/wp.svg\" y=\"6\" height=\"1\" width=\"1\"></image></g><g><rect x=\"2\" y=\"7\" class=\"dark-square\" height=\"1\" width=\"1\"></rect><image x=\"2\" xlink:href=\"https://raw.githubusercontent.com/romstad/Chess.jl/master/img/wb.svg\" y=\"7\" height=\"1\" width=\"1\"></image></g><g><rect x=\"3\" y=\"0\" class=\"dark-square\" height=\"1\" width=\"1\"></rect><image x=\"3\" xlink:href=\"https://raw.githubusercontent.com/romstad/Chess.jl/master/img/bq.svg\" y=\"0\" height=\"1\" width=\"1\"></image></g><g><rect x=\"3\" y=\"1\" class=\"light-square\" height=\"1\" width=\"1\"></rect><image x=\"3\" xlink:href=\"https://raw.githubusercontent.com/romstad/Chess.jl/master/img/bp.svg\" y=\"1\" height=\"1\" width=\"1\"></image></g><g><rect x=\"3\" y=\"2\" class=\"dark-square\" height=\"1\" width=\"1\"></rect><g></g></g><g><rect x=\"3\" y=\"3\" class=\"light-square\" height=\"1\" width=\"1\"></rect><image x=\"3\" xlink:href=\"https://raw.githubusercontent.com/romstad/Chess.jl/master/img/wp.svg\" y=\"3\" height=\"1\" width=\"1\"></image></g><g><rect x=\"3\" y=\"4\" class=\"dark-square\" height=\"1\" width=\"1\"></rect><g></g></g><g><rect x=\"3\" y=\"5\" class=\"light-square\" height=\"1\" width=\"1\"></rect><g></g></g><g><rect x=\"3\" y=\"6\" class=\"dark-square\" height=\"1\" width=\"1\"></rect><g></g></g><g><rect x=\"3\" y=\"7\" class=\"light-square\" height=\"1\" width=\"1\"></rect><image x=\"3\" xlink:href=\"https://raw.githubusercontent.com/romstad/Chess.jl/master/img/wq.svg\" y=\"7\" height=\"1\" width=\"1\"></image></g><g><rect x=\"4\" y=\"0\" class=\"light-square\" height=\"1\" width=\"1\"></rect><image x=\"4\" xlink:href=\"https://raw.githubusercontent.com/romstad/Chess.jl/master/img/bk.svg\" y=\"0\" height=\"1\" width=\"1\"></image></g><g><rect x=\"4\" y=\"1\" class=\"dark-square\" height=\"1\" width=\"1\"></rect><g></g></g><g><rect x=\"4\" y=\"2\" class=\"light-square\" height=\"1\" width=\"1\"></rect><g></g></g><g><rect x=\"4\" y=\"3\" class=\"dark-square\" height=\"1\" width=\"1\"></rect><image x=\"4\" xlink:href=\"https://raw.githubusercontent.com/romstad/Chess.jl/master/img/bp.svg\" y=\"3\" height=\"1\" width=\"1\"></image></g><g><rect x=\"4\" y=\"4\" class=\"light-square\" height=\"1\" width=\"1\"></rect><image x=\"4\" xlink:href=\"https://raw.githubusercontent.com/romstad/Chess.jl/master/img/wp.svg\" y=\"4\" height=\"1\" width=\"1\"></image></g><g><rect x=\"4\" y=\"5\" class=\"dark-square\" height=\"1\" width=\"1\"></rect><g></g></g><g><rect x=\"4\" y=\"6\" class=\"light-square\" height=\"1\" width=\"1\"></rect><g></g></g><g><rect x=\"4\" y=\"7\" class=\"dark-square\" height=\"1\" width=\"1\"></rect><image x=\"4\" xlink:href=\"https://raw.githubusercontent.com/romstad/Chess.jl/master/img/wk.svg\" y=\"7\" height=\"1\" width=\"1\"></image></g><g><rect x=\"5\" y=\"0\" class=\"dark-square\" height=\"1\" width=\"1\"></rect><image x=\"5\" xlink:href=\"https://raw.githubusercontent.com/romstad/Chess.jl/master/img/bb.svg\" y=\"0\" height=\"1\" width=\"1\"></image></g><g><rect x=\"5\" y=\"1\" class=\"light-square\" height=\"1\" width=\"1\"></rect><image x=\"5\" xlink:href=\"https://raw.githubusercontent.com/romstad/Chess.jl/master/img/bp.svg\" y=\"1\" height=\"1\" width=\"1\"></image></g><g><rect x=\"5\" y=\"2\" class=\"dark-square\" height=\"1\" width=\"1\"></rect><g></g></g><g><rect x=\"5\" y=\"3\" class=\"light-square\" height=\"1\" width=\"1\"></rect><g></g></g><g><rect x=\"5\" y=\"4\" class=\"dark-square\" height=\"1\" width=\"1\"></rect><g></g></g><g><rect x=\"5\" y=\"5\" class=\"light-square\" height=\"1\" width=\"1\"></rect><g></g></g><g><rect x=\"5\" y=\"6\" class=\"dark-square\" height=\"1\" width=\"1\"></rect><image x=\"5\" xlink:href=\"https://raw.githubusercontent.com/romstad/Chess.jl/master/img/wp.svg\" y=\"6\" height=\"1\" width=\"1\"></image></g><g><rect x=\"5\" y=\"7\" class=\"light-square\" height=\"1\" width=\"1\"></rect><image x=\"5\" xlink:href=\"https://raw.githubusercontent.com/romstad/Chess.jl/master/img/wb.svg\" y=\"7\" height=\"1\" width=\"1\"></image></g><g><rect x=\"6\" y=\"0\" class=\"light-square\" height=\"1\" width=\"1\"></rect><image x=\"6\" xlink:href=\"https://raw.githubusercontent.com/romstad/Chess.jl/master/img/bn.svg\" y=\"0\" height=\"1\" width=\"1\"></image></g><g><rect x=\"6\" y=\"1\" class=\"dark-square\" height=\"1\" width=\"1\"></rect><image x=\"6\" xlink:href=\"https://raw.githubusercontent.com/romstad/Chess.jl/master/img/bp.svg\" y=\"1\" height=\"1\" width=\"1\"></image></g><g><rect x=\"6\" y=\"2\" class=\"light-square\" height=\"1\" width=\"1\"></rect><g></g></g><g><rect x=\"6\" y=\"3\" class=\"dark-square\" height=\"1\" width=\"1\"></rect><g></g></g><g><rect x=\"6\" y=\"4\" class=\"light-square\" height=\"1\" width=\"1\"></rect><g></g></g><g><rect x=\"6\" y=\"5\" class=\"dark-square\" height=\"1\" width=\"1\"></rect><g></g></g><g><rect x=\"6\" y=\"6\" class=\"light-square\" height=\"1\" width=\"1\"></rect><image x=\"6\" xlink:href=\"https://raw.githubusercontent.com/romstad/Chess.jl/master/img/wp.svg\" y=\"6\" height=\"1\" width=\"1\"></image></g><g><rect x=\"6\" y=\"7\" class=\"dark-square\" height=\"1\" width=\"1\"></rect><image x=\"6\" xlink:href=\"https://raw.githubusercontent.com/romstad/Chess.jl/master/img/wn.svg\" y=\"7\" height=\"1\" width=\"1\"></image></g><g><rect x=\"7\" y=\"0\" class=\"dark-square\" height=\"1\" width=\"1\"></rect><image x=\"7\" xlink:href=\"https://raw.githubusercontent.com/romstad/Chess.jl/master/img/br.svg\" y=\"0\" height=\"1\" width=\"1\"></image></g><g><rect x=\"7\" y=\"1\" class=\"light-square\" height=\"1\" width=\"1\"></rect><image x=\"7\" xlink:href=\"https://raw.githubusercontent.com/romstad/Chess.jl/master/img/bp.svg\" y=\"1\" height=\"1\" width=\"1\"></image></g><g><rect x=\"7\" y=\"2\" class=\"dark-square\" height=\"1\" width=\"1\"></rect><g></g></g><g><rect x=\"7\" y=\"3\" class=\"light-square\" height=\"1\" width=\"1\"></rect><g></g></g><g><rect x=\"7\" y=\"4\" class=\"dark-square\" height=\"1\" width=\"1\"></rect><g></g></g><g><rect x=\"7\" y=\"5\" class=\"light-square\" height=\"1\" width=\"1\"></rect><g></g></g><g><rect x=\"7\" y=\"6\" class=\"dark-square\" height=\"1\" width=\"1\"></rect><image x=\"7\" xlink:href=\"https://raw.githubusercontent.com/romstad/Chess.jl/master/img/wp.svg\" y=\"6\" height=\"1\" width=\"1\"></image></g><g><rect x=\"7\" y=\"7\" class=\"light-square\" height=\"1\" width=\"1\"></rect><image x=\"7\" xlink:href=\"https://raw.githubusercontent.com/romstad/Chess.jl/master/img/wr.svg\" y=\"7\" height=\"1\" width=\"1\"></image></g></g><g></g></svg><div><p>Black to move</p><p>Castle rights: KQkq</p><p><a href=\"https://lichess.org/editor/r1bqkbnr/pppp1ppp/2n5/3Pp3/4P3/8/PPP2PPP/RNBQKBNR_b_KQkq_-\" target=\"_blank\">Open in lichess</a></p></div></div>"
      ],
      "text/plain": [
       "Board (r1bqkbnr/pppp1ppp/2n5/3Pp3/4P3/8/PPP2PPP/RNBQKBNR b KQkq -):\n",
       " r  -  b  q  k  b  n  r \n",
       " p  p  p  p  -  p  p  p \n",
       " -  -  n  -  -  -  -  - \n",
       " -  -  -  P  p  -  -  - \n",
       " -  -  -  -  P  -  -  - \n",
       " -  -  -  -  -  -  -  - \n",
       " P  P  P  -  -  P  P  P \n",
       " R  N  B  Q  K  B  N  R "
      ]
     },
     "metadata": {},
     "output_type": "display_data"
    },
    {
     "name": "stdout",
     "output_type": "stream",
     "text": [
      "Evaluation of engine: 130.0\n",
      "Current board score: -5\n",
      "Current entries in Cache: 9327\n",
      "Cleared Cache with 9327\n",
      "  8.065572 seconds (30.34 M allocations: 1.694 GiB, 3.76% gc time)\n"
     ]
    },
    {
     "data": {
      "text/html": [
       "Board:<div class=\"chessboard\"><style soped=\"true\">.dark-square {\n",
       "    fill: #c3936a;\n",
       "    stroke-width: 0;\n",
       "}\n",
       ".light-square {\n",
       "    fill: #ffd7a6;\n",
       "    stroke-width: 0;\n",
       "}\n",
       ".highlight {\n",
       "    fill: #47d18b;\n",
       "}\n",
       "@media (prefers-color-scheme: dark) {\n",
       "    .dark-square {\n",
       "        fill: #00796b;\n",
       "    }\n",
       "    .light-square {\n",
       "        fill: #3ca59b;\n",
       "    }\n",
       "    .highlight {\n",
       "        fill: #d23600;\n",
       "    }\n",
       "}\n",
       "</style><svg style=\"float: left; margin-right: 20px\" viewBox=\"0 0 8 8\" height=\"280\" width=\"280\"><g><g><rect x=\"0\" y=\"0\" class=\"light-square\" height=\"1\" width=\"1\"></rect><image x=\"0\" xlink:href=\"https://raw.githubusercontent.com/romstad/Chess.jl/master/img/br.svg\" y=\"0\" height=\"1\" width=\"1\"></image></g><g><rect x=\"0\" y=\"1\" class=\"dark-square\" height=\"1\" width=\"1\"></rect><image x=\"0\" xlink:href=\"https://raw.githubusercontent.com/romstad/Chess.jl/master/img/bp.svg\" y=\"1\" height=\"1\" width=\"1\"></image></g><g><rect x=\"0\" y=\"2\" class=\"light-square\" height=\"1\" width=\"1\"></rect><g></g></g><g><rect x=\"0\" y=\"3\" class=\"dark-square\" height=\"1\" width=\"1\"></rect><g></g></g><g><rect x=\"0\" y=\"4\" class=\"light-square\" height=\"1\" width=\"1\"></rect><g></g></g><g><rect x=\"0\" y=\"5\" class=\"dark-square\" height=\"1\" width=\"1\"></rect><g></g></g><g><rect x=\"0\" y=\"6\" class=\"light-square\" height=\"1\" width=\"1\"></rect><image x=\"0\" xlink:href=\"https://raw.githubusercontent.com/romstad/Chess.jl/master/img/wp.svg\" y=\"6\" height=\"1\" width=\"1\"></image></g><g><rect x=\"0\" y=\"7\" class=\"dark-square\" height=\"1\" width=\"1\"></rect><image x=\"0\" xlink:href=\"https://raw.githubusercontent.com/romstad/Chess.jl/master/img/wr.svg\" y=\"7\" height=\"1\" width=\"1\"></image></g><g><rect x=\"1\" y=\"0\" class=\"dark-square\" height=\"1\" width=\"1\"></rect><g></g></g><g><rect x=\"1\" y=\"1\" class=\"light-square\" height=\"1\" width=\"1\"></rect><image x=\"1\" xlink:href=\"https://raw.githubusercontent.com/romstad/Chess.jl/master/img/bp.svg\" y=\"1\" height=\"1\" width=\"1\"></image></g><g><rect x=\"1\" y=\"2\" class=\"dark-square\" height=\"1\" width=\"1\"></rect><g></g></g><g><rect x=\"1\" y=\"3\" class=\"light-square\" height=\"1\" width=\"1\"></rect><g></g></g><g><rect x=\"1\" y=\"4\" class=\"dark-square\" height=\"1\" width=\"1\"></rect><g></g></g><g><rect x=\"1\" y=\"5\" class=\"light-square\" height=\"1\" width=\"1\"></rect><g></g></g><g><rect x=\"1\" y=\"6\" class=\"dark-square\" height=\"1\" width=\"1\"></rect><image x=\"1\" xlink:href=\"https://raw.githubusercontent.com/romstad/Chess.jl/master/img/wp.svg\" y=\"6\" height=\"1\" width=\"1\"></image></g><g><rect x=\"1\" y=\"7\" class=\"light-square\" height=\"1\" width=\"1\"></rect><image x=\"1\" xlink:href=\"https://raw.githubusercontent.com/romstad/Chess.jl/master/img/wn.svg\" y=\"7\" height=\"1\" width=\"1\"></image></g><g><rect x=\"2\" y=\"0\" class=\"light-square\" height=\"1\" width=\"1\"></rect><image x=\"2\" xlink:href=\"https://raw.githubusercontent.com/romstad/Chess.jl/master/img/bb.svg\" y=\"0\" height=\"1\" width=\"1\"></image></g><g><rect x=\"2\" y=\"1\" class=\"dark-square\" height=\"1\" width=\"1\"></rect><image x=\"2\" xlink:href=\"https://raw.githubusercontent.com/romstad/Chess.jl/master/img/bp.svg\" y=\"1\" height=\"1\" width=\"1\"></image></g><g><rect x=\"2\" y=\"2\" class=\"light-square\" height=\"1\" width=\"1\"></rect><g></g></g><g><rect x=\"2\" y=\"3\" class=\"dark-square\" height=\"1\" width=\"1\"></rect><g></g></g><g><rect x=\"2\" y=\"4\" class=\"light-square\" height=\"1\" width=\"1\"></rect><g></g></g><g><rect x=\"2\" y=\"5\" class=\"dark-square\" height=\"1\" width=\"1\"></rect><g></g></g><g><rect x=\"2\" y=\"6\" class=\"light-square\" height=\"1\" width=\"1\"></rect><image x=\"2\" xlink:href=\"https://raw.githubusercontent.com/romstad/Chess.jl/master/img/wp.svg\" y=\"6\" height=\"1\" width=\"1\"></image></g><g><rect x=\"2\" y=\"7\" class=\"dark-square\" height=\"1\" width=\"1\"></rect><image x=\"2\" xlink:href=\"https://raw.githubusercontent.com/romstad/Chess.jl/master/img/wb.svg\" y=\"7\" height=\"1\" width=\"1\"></image></g><g><rect x=\"3\" y=\"0\" class=\"dark-square\" height=\"1\" width=\"1\"></rect><image x=\"3\" xlink:href=\"https://raw.githubusercontent.com/romstad/Chess.jl/master/img/bq.svg\" y=\"0\" height=\"1\" width=\"1\"></image></g><g><rect x=\"3\" y=\"1\" class=\"light-square\" height=\"1\" width=\"1\"></rect><image x=\"3\" xlink:href=\"https://raw.githubusercontent.com/romstad/Chess.jl/master/img/bp.svg\" y=\"1\" height=\"1\" width=\"1\"></image></g><g><rect x=\"3\" y=\"2\" class=\"dark-square\" height=\"1\" width=\"1\"></rect><g></g></g><g><rect x=\"3\" y=\"3\" class=\"light-square\" height=\"1\" width=\"1\"></rect><image x=\"3\" xlink:href=\"https://raw.githubusercontent.com/romstad/Chess.jl/master/img/wp.svg\" y=\"3\" height=\"1\" width=\"1\"></image></g><g><rect x=\"3\" y=\"4\" class=\"dark-square\" height=\"1\" width=\"1\"></rect><g></g></g><g><rect x=\"3\" y=\"5\" class=\"light-square\" height=\"1\" width=\"1\"></rect><g></g></g><g><rect x=\"3\" y=\"6\" class=\"dark-square\" height=\"1\" width=\"1\"></rect><g></g></g><g><rect x=\"3\" y=\"7\" class=\"light-square\" height=\"1\" width=\"1\"></rect><image x=\"3\" xlink:href=\"https://raw.githubusercontent.com/romstad/Chess.jl/master/img/wq.svg\" y=\"7\" height=\"1\" width=\"1\"></image></g><g><rect x=\"4\" y=\"0\" class=\"light-square\" height=\"1\" width=\"1\"></rect><image x=\"4\" xlink:href=\"https://raw.githubusercontent.com/romstad/Chess.jl/master/img/bk.svg\" y=\"0\" height=\"1\" width=\"1\"></image></g><g><rect x=\"4\" y=\"1\" class=\"dark-square\" height=\"1\" width=\"1\"></rect><image x=\"4\" xlink:href=\"https://raw.githubusercontent.com/romstad/Chess.jl/master/img/bn.svg\" y=\"1\" height=\"1\" width=\"1\"></image></g><g><rect x=\"4\" y=\"2\" class=\"light-square\" height=\"1\" width=\"1\"></rect><g></g></g><g><rect x=\"4\" y=\"3\" class=\"dark-square\" height=\"1\" width=\"1\"></rect><image x=\"4\" xlink:href=\"https://raw.githubusercontent.com/romstad/Chess.jl/master/img/bp.svg\" y=\"3\" height=\"1\" width=\"1\"></image></g><g><rect x=\"4\" y=\"4\" class=\"light-square\" height=\"1\" width=\"1\"></rect><image x=\"4\" xlink:href=\"https://raw.githubusercontent.com/romstad/Chess.jl/master/img/wp.svg\" y=\"4\" height=\"1\" width=\"1\"></image></g><g><rect x=\"4\" y=\"5\" class=\"dark-square\" height=\"1\" width=\"1\"></rect><g></g></g><g><rect x=\"4\" y=\"6\" class=\"light-square\" height=\"1\" width=\"1\"></rect><g></g></g><g><rect x=\"4\" y=\"7\" class=\"dark-square\" height=\"1\" width=\"1\"></rect><image x=\"4\" xlink:href=\"https://raw.githubusercontent.com/romstad/Chess.jl/master/img/wk.svg\" y=\"7\" height=\"1\" width=\"1\"></image></g><g><rect x=\"5\" y=\"0\" class=\"dark-square\" height=\"1\" width=\"1\"></rect><image x=\"5\" xlink:href=\"https://raw.githubusercontent.com/romstad/Chess.jl/master/img/bb.svg\" y=\"0\" height=\"1\" width=\"1\"></image></g><g><rect x=\"5\" y=\"1\" class=\"light-square\" height=\"1\" width=\"1\"></rect><image x=\"5\" xlink:href=\"https://raw.githubusercontent.com/romstad/Chess.jl/master/img/bp.svg\" y=\"1\" height=\"1\" width=\"1\"></image></g><g><rect x=\"5\" y=\"2\" class=\"dark-square\" height=\"1\" width=\"1\"></rect><g></g></g><g><rect x=\"5\" y=\"3\" class=\"light-square\" height=\"1\" width=\"1\"></rect><g></g></g><g><rect x=\"5\" y=\"4\" class=\"dark-square\" height=\"1\" width=\"1\"></rect><g></g></g><g><rect x=\"5\" y=\"5\" class=\"light-square\" height=\"1\" width=\"1\"></rect><g></g></g><g><rect x=\"5\" y=\"6\" class=\"dark-square\" height=\"1\" width=\"1\"></rect><image x=\"5\" xlink:href=\"https://raw.githubusercontent.com/romstad/Chess.jl/master/img/wp.svg\" y=\"6\" height=\"1\" width=\"1\"></image></g><g><rect x=\"5\" y=\"7\" class=\"light-square\" height=\"1\" width=\"1\"></rect><image x=\"5\" xlink:href=\"https://raw.githubusercontent.com/romstad/Chess.jl/master/img/wb.svg\" y=\"7\" height=\"1\" width=\"1\"></image></g><g><rect x=\"6\" y=\"0\" class=\"light-square\" height=\"1\" width=\"1\"></rect><image x=\"6\" xlink:href=\"https://raw.githubusercontent.com/romstad/Chess.jl/master/img/bn.svg\" y=\"0\" height=\"1\" width=\"1\"></image></g><g><rect x=\"6\" y=\"1\" class=\"dark-square\" height=\"1\" width=\"1\"></rect><image x=\"6\" xlink:href=\"https://raw.githubusercontent.com/romstad/Chess.jl/master/img/bp.svg\" y=\"1\" height=\"1\" width=\"1\"></image></g><g><rect x=\"6\" y=\"2\" class=\"light-square\" height=\"1\" width=\"1\"></rect><g></g></g><g><rect x=\"6\" y=\"3\" class=\"dark-square\" height=\"1\" width=\"1\"></rect><g></g></g><g><rect x=\"6\" y=\"4\" class=\"light-square\" height=\"1\" width=\"1\"></rect><g></g></g><g><rect x=\"6\" y=\"5\" class=\"dark-square\" height=\"1\" width=\"1\"></rect><g></g></g><g><rect x=\"6\" y=\"6\" class=\"light-square\" height=\"1\" width=\"1\"></rect><image x=\"6\" xlink:href=\"https://raw.githubusercontent.com/romstad/Chess.jl/master/img/wp.svg\" y=\"6\" height=\"1\" width=\"1\"></image></g><g><rect x=\"6\" y=\"7\" class=\"dark-square\" height=\"1\" width=\"1\"></rect><image x=\"6\" xlink:href=\"https://raw.githubusercontent.com/romstad/Chess.jl/master/img/wn.svg\" y=\"7\" height=\"1\" width=\"1\"></image></g><g><rect x=\"7\" y=\"0\" class=\"dark-square\" height=\"1\" width=\"1\"></rect><image x=\"7\" xlink:href=\"https://raw.githubusercontent.com/romstad/Chess.jl/master/img/br.svg\" y=\"0\" height=\"1\" width=\"1\"></image></g><g><rect x=\"7\" y=\"1\" class=\"light-square\" height=\"1\" width=\"1\"></rect><image x=\"7\" xlink:href=\"https://raw.githubusercontent.com/romstad/Chess.jl/master/img/bp.svg\" y=\"1\" height=\"1\" width=\"1\"></image></g><g><rect x=\"7\" y=\"2\" class=\"dark-square\" height=\"1\" width=\"1\"></rect><g></g></g><g><rect x=\"7\" y=\"3\" class=\"light-square\" height=\"1\" width=\"1\"></rect><g></g></g><g><rect x=\"7\" y=\"4\" class=\"dark-square\" height=\"1\" width=\"1\"></rect><g></g></g><g><rect x=\"7\" y=\"5\" class=\"light-square\" height=\"1\" width=\"1\"></rect><g></g></g><g><rect x=\"7\" y=\"6\" class=\"dark-square\" height=\"1\" width=\"1\"></rect><image x=\"7\" xlink:href=\"https://raw.githubusercontent.com/romstad/Chess.jl/master/img/wp.svg\" y=\"6\" height=\"1\" width=\"1\"></image></g><g><rect x=\"7\" y=\"7\" class=\"light-square\" height=\"1\" width=\"1\"></rect><image x=\"7\" xlink:href=\"https://raw.githubusercontent.com/romstad/Chess.jl/master/img/wr.svg\" y=\"7\" height=\"1\" width=\"1\"></image></g></g><g></g></svg><div><p>White to move</p><p>Castle rights: KQkq</p><p><a href=\"https://lichess.org/editor/r1bqkbnr/ppppnppp/8/3Pp3/4P3/8/PPP2PPP/RNBQKBNR_w_KQkq_-\" target=\"_blank\">Open in lichess</a></p></div></div>"
      ],
      "text/plain": [
       "Board (r1bqkbnr/ppppnppp/8/3Pp3/4P3/8/PPP2PPP/RNBQKBNR w KQkq -):\n",
       " r  -  b  q  k  b  n  r \n",
       " p  p  p  p  n  p  p  p \n",
       " -  -  -  -  -  -  -  - \n",
       " -  -  -  P  p  -  -  - \n",
       " -  -  -  -  P  -  -  - \n",
       " -  -  -  -  -  -  -  - \n",
       " P  P  P  -  -  P  P  P \n",
       " R  N  B  Q  K  B  N  R "
      ]
     },
     "metadata": {},
     "output_type": "display_data"
    },
    {
     "name": "stdout",
     "output_type": "stream",
     "text": [
      "Make a move. Type 'resign' to resign from the match\n",
      "stdin> g1f3\n",
      "Cleared Cache with 0\n"
     ]
    },
    {
     "data": {
      "text/html": [
       "Board:<div class=\"chessboard\"><style soped=\"true\">.dark-square {\n",
       "    fill: #c3936a;\n",
       "    stroke-width: 0;\n",
       "}\n",
       ".light-square {\n",
       "    fill: #ffd7a6;\n",
       "    stroke-width: 0;\n",
       "}\n",
       ".highlight {\n",
       "    fill: #47d18b;\n",
       "}\n",
       "@media (prefers-color-scheme: dark) {\n",
       "    .dark-square {\n",
       "        fill: #00796b;\n",
       "    }\n",
       "    .light-square {\n",
       "        fill: #3ca59b;\n",
       "    }\n",
       "    .highlight {\n",
       "        fill: #d23600;\n",
       "    }\n",
       "}\n",
       "</style><svg style=\"float: left; margin-right: 20px\" viewBox=\"0 0 8 8\" height=\"280\" width=\"280\"><g><g><rect x=\"0\" y=\"0\" class=\"light-square\" height=\"1\" width=\"1\"></rect><image x=\"0\" xlink:href=\"https://raw.githubusercontent.com/romstad/Chess.jl/master/img/br.svg\" y=\"0\" height=\"1\" width=\"1\"></image></g><g><rect x=\"0\" y=\"1\" class=\"dark-square\" height=\"1\" width=\"1\"></rect><image x=\"0\" xlink:href=\"https://raw.githubusercontent.com/romstad/Chess.jl/master/img/bp.svg\" y=\"1\" height=\"1\" width=\"1\"></image></g><g><rect x=\"0\" y=\"2\" class=\"light-square\" height=\"1\" width=\"1\"></rect><g></g></g><g><rect x=\"0\" y=\"3\" class=\"dark-square\" height=\"1\" width=\"1\"></rect><g></g></g><g><rect x=\"0\" y=\"4\" class=\"light-square\" height=\"1\" width=\"1\"></rect><g></g></g><g><rect x=\"0\" y=\"5\" class=\"dark-square\" height=\"1\" width=\"1\"></rect><g></g></g><g><rect x=\"0\" y=\"6\" class=\"light-square\" height=\"1\" width=\"1\"></rect><image x=\"0\" xlink:href=\"https://raw.githubusercontent.com/romstad/Chess.jl/master/img/wp.svg\" y=\"6\" height=\"1\" width=\"1\"></image></g><g><rect x=\"0\" y=\"7\" class=\"dark-square\" height=\"1\" width=\"1\"></rect><image x=\"0\" xlink:href=\"https://raw.githubusercontent.com/romstad/Chess.jl/master/img/wr.svg\" y=\"7\" height=\"1\" width=\"1\"></image></g><g><rect x=\"1\" y=\"0\" class=\"dark-square\" height=\"1\" width=\"1\"></rect><g></g></g><g><rect x=\"1\" y=\"1\" class=\"light-square\" height=\"1\" width=\"1\"></rect><image x=\"1\" xlink:href=\"https://raw.githubusercontent.com/romstad/Chess.jl/master/img/bp.svg\" y=\"1\" height=\"1\" width=\"1\"></image></g><g><rect x=\"1\" y=\"2\" class=\"dark-square\" height=\"1\" width=\"1\"></rect><g></g></g><g><rect x=\"1\" y=\"3\" class=\"light-square\" height=\"1\" width=\"1\"></rect><g></g></g><g><rect x=\"1\" y=\"4\" class=\"dark-square\" height=\"1\" width=\"1\"></rect><g></g></g><g><rect x=\"1\" y=\"5\" class=\"light-square\" height=\"1\" width=\"1\"></rect><g></g></g><g><rect x=\"1\" y=\"6\" class=\"dark-square\" height=\"1\" width=\"1\"></rect><image x=\"1\" xlink:href=\"https://raw.githubusercontent.com/romstad/Chess.jl/master/img/wp.svg\" y=\"6\" height=\"1\" width=\"1\"></image></g><g><rect x=\"1\" y=\"7\" class=\"light-square\" height=\"1\" width=\"1\"></rect><image x=\"1\" xlink:href=\"https://raw.githubusercontent.com/romstad/Chess.jl/master/img/wn.svg\" y=\"7\" height=\"1\" width=\"1\"></image></g><g><rect x=\"2\" y=\"0\" class=\"light-square\" height=\"1\" width=\"1\"></rect><image x=\"2\" xlink:href=\"https://raw.githubusercontent.com/romstad/Chess.jl/master/img/bb.svg\" y=\"0\" height=\"1\" width=\"1\"></image></g><g><rect x=\"2\" y=\"1\" class=\"dark-square\" height=\"1\" width=\"1\"></rect><image x=\"2\" xlink:href=\"https://raw.githubusercontent.com/romstad/Chess.jl/master/img/bp.svg\" y=\"1\" height=\"1\" width=\"1\"></image></g><g><rect x=\"2\" y=\"2\" class=\"light-square\" height=\"1\" width=\"1\"></rect><g></g></g><g><rect x=\"2\" y=\"3\" class=\"dark-square\" height=\"1\" width=\"1\"></rect><g></g></g><g><rect x=\"2\" y=\"4\" class=\"light-square\" height=\"1\" width=\"1\"></rect><g></g></g><g><rect x=\"2\" y=\"5\" class=\"dark-square\" height=\"1\" width=\"1\"></rect><g></g></g><g><rect x=\"2\" y=\"6\" class=\"light-square\" height=\"1\" width=\"1\"></rect><image x=\"2\" xlink:href=\"https://raw.githubusercontent.com/romstad/Chess.jl/master/img/wp.svg\" y=\"6\" height=\"1\" width=\"1\"></image></g><g><rect x=\"2\" y=\"7\" class=\"dark-square\" height=\"1\" width=\"1\"></rect><image x=\"2\" xlink:href=\"https://raw.githubusercontent.com/romstad/Chess.jl/master/img/wb.svg\" y=\"7\" height=\"1\" width=\"1\"></image></g><g><rect x=\"3\" y=\"0\" class=\"dark-square\" height=\"1\" width=\"1\"></rect><image x=\"3\" xlink:href=\"https://raw.githubusercontent.com/romstad/Chess.jl/master/img/bq.svg\" y=\"0\" height=\"1\" width=\"1\"></image></g><g><rect x=\"3\" y=\"1\" class=\"light-square\" height=\"1\" width=\"1\"></rect><image x=\"3\" xlink:href=\"https://raw.githubusercontent.com/romstad/Chess.jl/master/img/bp.svg\" y=\"1\" height=\"1\" width=\"1\"></image></g><g><rect x=\"3\" y=\"2\" class=\"dark-square\" height=\"1\" width=\"1\"></rect><g></g></g><g><rect x=\"3\" y=\"3\" class=\"light-square\" height=\"1\" width=\"1\"></rect><image x=\"3\" xlink:href=\"https://raw.githubusercontent.com/romstad/Chess.jl/master/img/wp.svg\" y=\"3\" height=\"1\" width=\"1\"></image></g><g><rect x=\"3\" y=\"4\" class=\"dark-square\" height=\"1\" width=\"1\"></rect><g></g></g><g><rect x=\"3\" y=\"5\" class=\"light-square\" height=\"1\" width=\"1\"></rect><g></g></g><g><rect x=\"3\" y=\"6\" class=\"dark-square\" height=\"1\" width=\"1\"></rect><g></g></g><g><rect x=\"3\" y=\"7\" class=\"light-square\" height=\"1\" width=\"1\"></rect><image x=\"3\" xlink:href=\"https://raw.githubusercontent.com/romstad/Chess.jl/master/img/wq.svg\" y=\"7\" height=\"1\" width=\"1\"></image></g><g><rect x=\"4\" y=\"0\" class=\"light-square\" height=\"1\" width=\"1\"></rect><image x=\"4\" xlink:href=\"https://raw.githubusercontent.com/romstad/Chess.jl/master/img/bk.svg\" y=\"0\" height=\"1\" width=\"1\"></image></g><g><rect x=\"4\" y=\"1\" class=\"dark-square\" height=\"1\" width=\"1\"></rect><image x=\"4\" xlink:href=\"https://raw.githubusercontent.com/romstad/Chess.jl/master/img/bn.svg\" y=\"1\" height=\"1\" width=\"1\"></image></g><g><rect x=\"4\" y=\"2\" class=\"light-square\" height=\"1\" width=\"1\"></rect><g></g></g><g><rect x=\"4\" y=\"3\" class=\"dark-square\" height=\"1\" width=\"1\"></rect><image x=\"4\" xlink:href=\"https://raw.githubusercontent.com/romstad/Chess.jl/master/img/bp.svg\" y=\"3\" height=\"1\" width=\"1\"></image></g><g><rect x=\"4\" y=\"4\" class=\"light-square\" height=\"1\" width=\"1\"></rect><image x=\"4\" xlink:href=\"https://raw.githubusercontent.com/romstad/Chess.jl/master/img/wp.svg\" y=\"4\" height=\"1\" width=\"1\"></image></g><g><rect x=\"4\" y=\"5\" class=\"dark-square\" height=\"1\" width=\"1\"></rect><g></g></g><g><rect x=\"4\" y=\"6\" class=\"light-square\" height=\"1\" width=\"1\"></rect><g></g></g><g><rect x=\"4\" y=\"7\" class=\"dark-square\" height=\"1\" width=\"1\"></rect><image x=\"4\" xlink:href=\"https://raw.githubusercontent.com/romstad/Chess.jl/master/img/wk.svg\" y=\"7\" height=\"1\" width=\"1\"></image></g><g><rect x=\"5\" y=\"0\" class=\"dark-square\" height=\"1\" width=\"1\"></rect><image x=\"5\" xlink:href=\"https://raw.githubusercontent.com/romstad/Chess.jl/master/img/bb.svg\" y=\"0\" height=\"1\" width=\"1\"></image></g><g><rect x=\"5\" y=\"1\" class=\"light-square\" height=\"1\" width=\"1\"></rect><image x=\"5\" xlink:href=\"https://raw.githubusercontent.com/romstad/Chess.jl/master/img/bp.svg\" y=\"1\" height=\"1\" width=\"1\"></image></g><g><rect x=\"5\" y=\"2\" class=\"dark-square\" height=\"1\" width=\"1\"></rect><g></g></g><g><rect x=\"5\" y=\"3\" class=\"light-square\" height=\"1\" width=\"1\"></rect><g></g></g><g><rect x=\"5\" y=\"4\" class=\"dark-square\" height=\"1\" width=\"1\"></rect><g></g></g><g><rect x=\"5\" y=\"5\" class=\"light-square\" height=\"1\" width=\"1\"></rect><image x=\"5\" xlink:href=\"https://raw.githubusercontent.com/romstad/Chess.jl/master/img/wn.svg\" y=\"5\" height=\"1\" width=\"1\"></image></g><g><rect x=\"5\" y=\"6\" class=\"dark-square\" height=\"1\" width=\"1\"></rect><image x=\"5\" xlink:href=\"https://raw.githubusercontent.com/romstad/Chess.jl/master/img/wp.svg\" y=\"6\" height=\"1\" width=\"1\"></image></g><g><rect x=\"5\" y=\"7\" class=\"light-square\" height=\"1\" width=\"1\"></rect><image x=\"5\" xlink:href=\"https://raw.githubusercontent.com/romstad/Chess.jl/master/img/wb.svg\" y=\"7\" height=\"1\" width=\"1\"></image></g><g><rect x=\"6\" y=\"0\" class=\"light-square\" height=\"1\" width=\"1\"></rect><image x=\"6\" xlink:href=\"https://raw.githubusercontent.com/romstad/Chess.jl/master/img/bn.svg\" y=\"0\" height=\"1\" width=\"1\"></image></g><g><rect x=\"6\" y=\"1\" class=\"dark-square\" height=\"1\" width=\"1\"></rect><image x=\"6\" xlink:href=\"https://raw.githubusercontent.com/romstad/Chess.jl/master/img/bp.svg\" y=\"1\" height=\"1\" width=\"1\"></image></g><g><rect x=\"6\" y=\"2\" class=\"light-square\" height=\"1\" width=\"1\"></rect><g></g></g><g><rect x=\"6\" y=\"3\" class=\"dark-square\" height=\"1\" width=\"1\"></rect><g></g></g><g><rect x=\"6\" y=\"4\" class=\"light-square\" height=\"1\" width=\"1\"></rect><g></g></g><g><rect x=\"6\" y=\"5\" class=\"dark-square\" height=\"1\" width=\"1\"></rect><g></g></g><g><rect x=\"6\" y=\"6\" class=\"light-square\" height=\"1\" width=\"1\"></rect><image x=\"6\" xlink:href=\"https://raw.githubusercontent.com/romstad/Chess.jl/master/img/wp.svg\" y=\"6\" height=\"1\" width=\"1\"></image></g><g><rect x=\"6\" y=\"7\" class=\"dark-square\" height=\"1\" width=\"1\"></rect><g></g></g><g><rect x=\"7\" y=\"0\" class=\"dark-square\" height=\"1\" width=\"1\"></rect><image x=\"7\" xlink:href=\"https://raw.githubusercontent.com/romstad/Chess.jl/master/img/br.svg\" y=\"0\" height=\"1\" width=\"1\"></image></g><g><rect x=\"7\" y=\"1\" class=\"light-square\" height=\"1\" width=\"1\"></rect><image x=\"7\" xlink:href=\"https://raw.githubusercontent.com/romstad/Chess.jl/master/img/bp.svg\" y=\"1\" height=\"1\" width=\"1\"></image></g><g><rect x=\"7\" y=\"2\" class=\"dark-square\" height=\"1\" width=\"1\"></rect><g></g></g><g><rect x=\"7\" y=\"3\" class=\"light-square\" height=\"1\" width=\"1\"></rect><g></g></g><g><rect x=\"7\" y=\"4\" class=\"dark-square\" height=\"1\" width=\"1\"></rect><g></g></g><g><rect x=\"7\" y=\"5\" class=\"light-square\" height=\"1\" width=\"1\"></rect><g></g></g><g><rect x=\"7\" y=\"6\" class=\"dark-square\" height=\"1\" width=\"1\"></rect><image x=\"7\" xlink:href=\"https://raw.githubusercontent.com/romstad/Chess.jl/master/img/wp.svg\" y=\"6\" height=\"1\" width=\"1\"></image></g><g><rect x=\"7\" y=\"7\" class=\"light-square\" height=\"1\" width=\"1\"></rect><image x=\"7\" xlink:href=\"https://raw.githubusercontent.com/romstad/Chess.jl/master/img/wr.svg\" y=\"7\" height=\"1\" width=\"1\"></image></g></g><g></g></svg><div><p>Black to move</p><p>Castle rights: KQkq</p><p><a href=\"https://lichess.org/editor/r1bqkbnr/ppppnppp/8/3Pp3/4P3/5N2/PPP2PPP/RNBQKB1R_b_KQkq_-\" target=\"_blank\">Open in lichess</a></p></div></div>"
      ],
      "text/plain": [
       "Board (r1bqkbnr/ppppnppp/8/3Pp3/4P3/5N2/PPP2PPP/RNBQKB1R b KQkq -):\n",
       " r  -  b  q  k  b  n  r \n",
       " p  p  p  p  n  p  p  p \n",
       " -  -  -  -  -  -  -  - \n",
       " -  -  -  P  p  -  -  - \n",
       " -  -  -  -  P  -  -  - \n",
       " -  -  -  -  -  N  -  - \n",
       " P  P  P  -  -  P  P  P \n",
       " R  N  B  Q  K  B  -  R "
      ]
     },
     "metadata": {},
     "output_type": "display_data"
    },
    {
     "name": "stdout",
     "output_type": "stream",
     "text": [
      "Evaluation of engine: 175.0\n",
      "Current board score: 50\n",
      "Current entries in Cache: 4636\n",
      "Cleared Cache with 4636\n",
      "  3.947484 seconds (14.81 M allocations: 849.711 MiB, 3.68% gc time)\n"
     ]
    },
    {
     "data": {
      "text/html": [
       "Board:<div class=\"chessboard\"><style soped=\"true\">.dark-square {\n",
       "    fill: #c3936a;\n",
       "    stroke-width: 0;\n",
       "}\n",
       ".light-square {\n",
       "    fill: #ffd7a6;\n",
       "    stroke-width: 0;\n",
       "}\n",
       ".highlight {\n",
       "    fill: #47d18b;\n",
       "}\n",
       "@media (prefers-color-scheme: dark) {\n",
       "    .dark-square {\n",
       "        fill: #00796b;\n",
       "    }\n",
       "    .light-square {\n",
       "        fill: #3ca59b;\n",
       "    }\n",
       "    .highlight {\n",
       "        fill: #d23600;\n",
       "    }\n",
       "}\n",
       "</style><svg style=\"float: left; margin-right: 20px\" viewBox=\"0 0 8 8\" height=\"280\" width=\"280\"><g><g><rect x=\"0\" y=\"0\" class=\"light-square\" height=\"1\" width=\"1\"></rect><image x=\"0\" xlink:href=\"https://raw.githubusercontent.com/romstad/Chess.jl/master/img/br.svg\" y=\"0\" height=\"1\" width=\"1\"></image></g><g><rect x=\"0\" y=\"1\" class=\"dark-square\" height=\"1\" width=\"1\"></rect><image x=\"0\" xlink:href=\"https://raw.githubusercontent.com/romstad/Chess.jl/master/img/bp.svg\" y=\"1\" height=\"1\" width=\"1\"></image></g><g><rect x=\"0\" y=\"2\" class=\"light-square\" height=\"1\" width=\"1\"></rect><g></g></g><g><rect x=\"0\" y=\"3\" class=\"dark-square\" height=\"1\" width=\"1\"></rect><g></g></g><g><rect x=\"0\" y=\"4\" class=\"light-square\" height=\"1\" width=\"1\"></rect><g></g></g><g><rect x=\"0\" y=\"5\" class=\"dark-square\" height=\"1\" width=\"1\"></rect><g></g></g><g><rect x=\"0\" y=\"6\" class=\"light-square\" height=\"1\" width=\"1\"></rect><image x=\"0\" xlink:href=\"https://raw.githubusercontent.com/romstad/Chess.jl/master/img/wp.svg\" y=\"6\" height=\"1\" width=\"1\"></image></g><g><rect x=\"0\" y=\"7\" class=\"dark-square\" height=\"1\" width=\"1\"></rect><image x=\"0\" xlink:href=\"https://raw.githubusercontent.com/romstad/Chess.jl/master/img/wr.svg\" y=\"7\" height=\"1\" width=\"1\"></image></g><g><rect x=\"1\" y=\"0\" class=\"dark-square\" height=\"1\" width=\"1\"></rect><g></g></g><g><rect x=\"1\" y=\"1\" class=\"light-square\" height=\"1\" width=\"1\"></rect><image x=\"1\" xlink:href=\"https://raw.githubusercontent.com/romstad/Chess.jl/master/img/bp.svg\" y=\"1\" height=\"1\" width=\"1\"></image></g><g><rect x=\"1\" y=\"2\" class=\"dark-square\" height=\"1\" width=\"1\"></rect><g></g></g><g><rect x=\"1\" y=\"3\" class=\"light-square\" height=\"1\" width=\"1\"></rect><g></g></g><g><rect x=\"1\" y=\"4\" class=\"dark-square\" height=\"1\" width=\"1\"></rect><g></g></g><g><rect x=\"1\" y=\"5\" class=\"light-square\" height=\"1\" width=\"1\"></rect><g></g></g><g><rect x=\"1\" y=\"6\" class=\"dark-square\" height=\"1\" width=\"1\"></rect><image x=\"1\" xlink:href=\"https://raw.githubusercontent.com/romstad/Chess.jl/master/img/wp.svg\" y=\"6\" height=\"1\" width=\"1\"></image></g><g><rect x=\"1\" y=\"7\" class=\"light-square\" height=\"1\" width=\"1\"></rect><image x=\"1\" xlink:href=\"https://raw.githubusercontent.com/romstad/Chess.jl/master/img/wn.svg\" y=\"7\" height=\"1\" width=\"1\"></image></g><g><rect x=\"2\" y=\"0\" class=\"light-square\" height=\"1\" width=\"1\"></rect><image x=\"2\" xlink:href=\"https://raw.githubusercontent.com/romstad/Chess.jl/master/img/bb.svg\" y=\"0\" height=\"1\" width=\"1\"></image></g><g><rect x=\"2\" y=\"1\" class=\"dark-square\" height=\"1\" width=\"1\"></rect><g></g></g><g><rect x=\"2\" y=\"2\" class=\"light-square\" height=\"1\" width=\"1\"></rect><image x=\"2\" xlink:href=\"https://raw.githubusercontent.com/romstad/Chess.jl/master/img/bp.svg\" y=\"2\" height=\"1\" width=\"1\"></image></g><g><rect x=\"2\" y=\"3\" class=\"dark-square\" height=\"1\" width=\"1\"></rect><g></g></g><g><rect x=\"2\" y=\"4\" class=\"light-square\" height=\"1\" width=\"1\"></rect><g></g></g><g><rect x=\"2\" y=\"5\" class=\"dark-square\" height=\"1\" width=\"1\"></rect><g></g></g><g><rect x=\"2\" y=\"6\" class=\"light-square\" height=\"1\" width=\"1\"></rect><image x=\"2\" xlink:href=\"https://raw.githubusercontent.com/romstad/Chess.jl/master/img/wp.svg\" y=\"6\" height=\"1\" width=\"1\"></image></g><g><rect x=\"2\" y=\"7\" class=\"dark-square\" height=\"1\" width=\"1\"></rect><image x=\"2\" xlink:href=\"https://raw.githubusercontent.com/romstad/Chess.jl/master/img/wb.svg\" y=\"7\" height=\"1\" width=\"1\"></image></g><g><rect x=\"3\" y=\"0\" class=\"dark-square\" height=\"1\" width=\"1\"></rect><image x=\"3\" xlink:href=\"https://raw.githubusercontent.com/romstad/Chess.jl/master/img/bq.svg\" y=\"0\" height=\"1\" width=\"1\"></image></g><g><rect x=\"3\" y=\"1\" class=\"light-square\" height=\"1\" width=\"1\"></rect><image x=\"3\" xlink:href=\"https://raw.githubusercontent.com/romstad/Chess.jl/master/img/bp.svg\" y=\"1\" height=\"1\" width=\"1\"></image></g><g><rect x=\"3\" y=\"2\" class=\"dark-square\" height=\"1\" width=\"1\"></rect><g></g></g><g><rect x=\"3\" y=\"3\" class=\"light-square\" height=\"1\" width=\"1\"></rect><image x=\"3\" xlink:href=\"https://raw.githubusercontent.com/romstad/Chess.jl/master/img/wp.svg\" y=\"3\" height=\"1\" width=\"1\"></image></g><g><rect x=\"3\" y=\"4\" class=\"dark-square\" height=\"1\" width=\"1\"></rect><g></g></g><g><rect x=\"3\" y=\"5\" class=\"light-square\" height=\"1\" width=\"1\"></rect><g></g></g><g><rect x=\"3\" y=\"6\" class=\"dark-square\" height=\"1\" width=\"1\"></rect><g></g></g><g><rect x=\"3\" y=\"7\" class=\"light-square\" height=\"1\" width=\"1\"></rect><image x=\"3\" xlink:href=\"https://raw.githubusercontent.com/romstad/Chess.jl/master/img/wq.svg\" y=\"7\" height=\"1\" width=\"1\"></image></g><g><rect x=\"4\" y=\"0\" class=\"light-square\" height=\"1\" width=\"1\"></rect><image x=\"4\" xlink:href=\"https://raw.githubusercontent.com/romstad/Chess.jl/master/img/bk.svg\" y=\"0\" height=\"1\" width=\"1\"></image></g><g><rect x=\"4\" y=\"1\" class=\"dark-square\" height=\"1\" width=\"1\"></rect><image x=\"4\" xlink:href=\"https://raw.githubusercontent.com/romstad/Chess.jl/master/img/bn.svg\" y=\"1\" height=\"1\" width=\"1\"></image></g><g><rect x=\"4\" y=\"2\" class=\"light-square\" height=\"1\" width=\"1\"></rect><g></g></g><g><rect x=\"4\" y=\"3\" class=\"dark-square\" height=\"1\" width=\"1\"></rect><image x=\"4\" xlink:href=\"https://raw.githubusercontent.com/romstad/Chess.jl/master/img/bp.svg\" y=\"3\" height=\"1\" width=\"1\"></image></g><g><rect x=\"4\" y=\"4\" class=\"light-square\" height=\"1\" width=\"1\"></rect><image x=\"4\" xlink:href=\"https://raw.githubusercontent.com/romstad/Chess.jl/master/img/wp.svg\" y=\"4\" height=\"1\" width=\"1\"></image></g><g><rect x=\"4\" y=\"5\" class=\"dark-square\" height=\"1\" width=\"1\"></rect><g></g></g><g><rect x=\"4\" y=\"6\" class=\"light-square\" height=\"1\" width=\"1\"></rect><g></g></g><g><rect x=\"4\" y=\"7\" class=\"dark-square\" height=\"1\" width=\"1\"></rect><image x=\"4\" xlink:href=\"https://raw.githubusercontent.com/romstad/Chess.jl/master/img/wk.svg\" y=\"7\" height=\"1\" width=\"1\"></image></g><g><rect x=\"5\" y=\"0\" class=\"dark-square\" height=\"1\" width=\"1\"></rect><image x=\"5\" xlink:href=\"https://raw.githubusercontent.com/romstad/Chess.jl/master/img/bb.svg\" y=\"0\" height=\"1\" width=\"1\"></image></g><g><rect x=\"5\" y=\"1\" class=\"light-square\" height=\"1\" width=\"1\"></rect><image x=\"5\" xlink:href=\"https://raw.githubusercontent.com/romstad/Chess.jl/master/img/bp.svg\" y=\"1\" height=\"1\" width=\"1\"></image></g><g><rect x=\"5\" y=\"2\" class=\"dark-square\" height=\"1\" width=\"1\"></rect><g></g></g><g><rect x=\"5\" y=\"3\" class=\"light-square\" height=\"1\" width=\"1\"></rect><g></g></g><g><rect x=\"5\" y=\"4\" class=\"dark-square\" height=\"1\" width=\"1\"></rect><g></g></g><g><rect x=\"5\" y=\"5\" class=\"light-square\" height=\"1\" width=\"1\"></rect><image x=\"5\" xlink:href=\"https://raw.githubusercontent.com/romstad/Chess.jl/master/img/wn.svg\" y=\"5\" height=\"1\" width=\"1\"></image></g><g><rect x=\"5\" y=\"6\" class=\"dark-square\" height=\"1\" width=\"1\"></rect><image x=\"5\" xlink:href=\"https://raw.githubusercontent.com/romstad/Chess.jl/master/img/wp.svg\" y=\"6\" height=\"1\" width=\"1\"></image></g><g><rect x=\"5\" y=\"7\" class=\"light-square\" height=\"1\" width=\"1\"></rect><image x=\"5\" xlink:href=\"https://raw.githubusercontent.com/romstad/Chess.jl/master/img/wb.svg\" y=\"7\" height=\"1\" width=\"1\"></image></g><g><rect x=\"6\" y=\"0\" class=\"light-square\" height=\"1\" width=\"1\"></rect><image x=\"6\" xlink:href=\"https://raw.githubusercontent.com/romstad/Chess.jl/master/img/bn.svg\" y=\"0\" height=\"1\" width=\"1\"></image></g><g><rect x=\"6\" y=\"1\" class=\"dark-square\" height=\"1\" width=\"1\"></rect><image x=\"6\" xlink:href=\"https://raw.githubusercontent.com/romstad/Chess.jl/master/img/bp.svg\" y=\"1\" height=\"1\" width=\"1\"></image></g><g><rect x=\"6\" y=\"2\" class=\"light-square\" height=\"1\" width=\"1\"></rect><g></g></g><g><rect x=\"6\" y=\"3\" class=\"dark-square\" height=\"1\" width=\"1\"></rect><g></g></g><g><rect x=\"6\" y=\"4\" class=\"light-square\" height=\"1\" width=\"1\"></rect><g></g></g><g><rect x=\"6\" y=\"5\" class=\"dark-square\" height=\"1\" width=\"1\"></rect><g></g></g><g><rect x=\"6\" y=\"6\" class=\"light-square\" height=\"1\" width=\"1\"></rect><image x=\"6\" xlink:href=\"https://raw.githubusercontent.com/romstad/Chess.jl/master/img/wp.svg\" y=\"6\" height=\"1\" width=\"1\"></image></g><g><rect x=\"6\" y=\"7\" class=\"dark-square\" height=\"1\" width=\"1\"></rect><g></g></g><g><rect x=\"7\" y=\"0\" class=\"dark-square\" height=\"1\" width=\"1\"></rect><image x=\"7\" xlink:href=\"https://raw.githubusercontent.com/romstad/Chess.jl/master/img/br.svg\" y=\"0\" height=\"1\" width=\"1\"></image></g><g><rect x=\"7\" y=\"1\" class=\"light-square\" height=\"1\" width=\"1\"></rect><image x=\"7\" xlink:href=\"https://raw.githubusercontent.com/romstad/Chess.jl/master/img/bp.svg\" y=\"1\" height=\"1\" width=\"1\"></image></g><g><rect x=\"7\" y=\"2\" class=\"dark-square\" height=\"1\" width=\"1\"></rect><g></g></g><g><rect x=\"7\" y=\"3\" class=\"light-square\" height=\"1\" width=\"1\"></rect><g></g></g><g><rect x=\"7\" y=\"4\" class=\"dark-square\" height=\"1\" width=\"1\"></rect><g></g></g><g><rect x=\"7\" y=\"5\" class=\"light-square\" height=\"1\" width=\"1\"></rect><g></g></g><g><rect x=\"7\" y=\"6\" class=\"dark-square\" height=\"1\" width=\"1\"></rect><image x=\"7\" xlink:href=\"https://raw.githubusercontent.com/romstad/Chess.jl/master/img/wp.svg\" y=\"6\" height=\"1\" width=\"1\"></image></g><g><rect x=\"7\" y=\"7\" class=\"light-square\" height=\"1\" width=\"1\"></rect><image x=\"7\" xlink:href=\"https://raw.githubusercontent.com/romstad/Chess.jl/master/img/wr.svg\" y=\"7\" height=\"1\" width=\"1\"></image></g></g><g></g></svg><div><p>White to move</p><p>Castle rights: KQkq</p><p><a href=\"https://lichess.org/editor/r1bqkbnr/pp1pnppp/2p5/3Pp3/4P3/5N2/PPP2PPP/RNBQKB1R_w_KQkq_-\" target=\"_blank\">Open in lichess</a></p></div></div>"
      ],
      "text/plain": [
       "Board (r1bqkbnr/pp1pnppp/2p5/3Pp3/4P3/5N2/PPP2PPP/RNBQKB1R w KQkq -):\n",
       " r  -  b  q  k  b  n  r \n",
       " p  p  -  p  n  p  p  p \n",
       " -  -  p  -  -  -  -  - \n",
       " -  -  -  P  p  -  -  - \n",
       " -  -  -  -  P  -  -  - \n",
       " -  -  -  -  -  N  -  - \n",
       " P  P  P  -  -  P  P  P \n",
       " R  N  B  Q  K  B  -  R "
      ]
     },
     "metadata": {},
     "output_type": "display_data"
    },
    {
     "name": "stdout",
     "output_type": "stream",
     "text": [
      "Make a move. Type 'resign' to resign from the match\n",
      "stdin> d5d6\n",
      "Cleared Cache with 0\n"
     ]
    },
    {
     "data": {
      "text/html": [
       "Board:<div class=\"chessboard\"><style soped=\"true\">.dark-square {\n",
       "    fill: #c3936a;\n",
       "    stroke-width: 0;\n",
       "}\n",
       ".light-square {\n",
       "    fill: #ffd7a6;\n",
       "    stroke-width: 0;\n",
       "}\n",
       ".highlight {\n",
       "    fill: #47d18b;\n",
       "}\n",
       "@media (prefers-color-scheme: dark) {\n",
       "    .dark-square {\n",
       "        fill: #00796b;\n",
       "    }\n",
       "    .light-square {\n",
       "        fill: #3ca59b;\n",
       "    }\n",
       "    .highlight {\n",
       "        fill: #d23600;\n",
       "    }\n",
       "}\n",
       "</style><svg style=\"float: left; margin-right: 20px\" viewBox=\"0 0 8 8\" height=\"280\" width=\"280\"><g><g><rect x=\"0\" y=\"0\" class=\"light-square\" height=\"1\" width=\"1\"></rect><image x=\"0\" xlink:href=\"https://raw.githubusercontent.com/romstad/Chess.jl/master/img/br.svg\" y=\"0\" height=\"1\" width=\"1\"></image></g><g><rect x=\"0\" y=\"1\" class=\"dark-square\" height=\"1\" width=\"1\"></rect><image x=\"0\" xlink:href=\"https://raw.githubusercontent.com/romstad/Chess.jl/master/img/bp.svg\" y=\"1\" height=\"1\" width=\"1\"></image></g><g><rect x=\"0\" y=\"2\" class=\"light-square\" height=\"1\" width=\"1\"></rect><g></g></g><g><rect x=\"0\" y=\"3\" class=\"dark-square\" height=\"1\" width=\"1\"></rect><g></g></g><g><rect x=\"0\" y=\"4\" class=\"light-square\" height=\"1\" width=\"1\"></rect><g></g></g><g><rect x=\"0\" y=\"5\" class=\"dark-square\" height=\"1\" width=\"1\"></rect><g></g></g><g><rect x=\"0\" y=\"6\" class=\"light-square\" height=\"1\" width=\"1\"></rect><image x=\"0\" xlink:href=\"https://raw.githubusercontent.com/romstad/Chess.jl/master/img/wp.svg\" y=\"6\" height=\"1\" width=\"1\"></image></g><g><rect x=\"0\" y=\"7\" class=\"dark-square\" height=\"1\" width=\"1\"></rect><image x=\"0\" xlink:href=\"https://raw.githubusercontent.com/romstad/Chess.jl/master/img/wr.svg\" y=\"7\" height=\"1\" width=\"1\"></image></g><g><rect x=\"1\" y=\"0\" class=\"dark-square\" height=\"1\" width=\"1\"></rect><g></g></g><g><rect x=\"1\" y=\"1\" class=\"light-square\" height=\"1\" width=\"1\"></rect><image x=\"1\" xlink:href=\"https://raw.githubusercontent.com/romstad/Chess.jl/master/img/bp.svg\" y=\"1\" height=\"1\" width=\"1\"></image></g><g><rect x=\"1\" y=\"2\" class=\"dark-square\" height=\"1\" width=\"1\"></rect><g></g></g><g><rect x=\"1\" y=\"3\" class=\"light-square\" height=\"1\" width=\"1\"></rect><g></g></g><g><rect x=\"1\" y=\"4\" class=\"dark-square\" height=\"1\" width=\"1\"></rect><g></g></g><g><rect x=\"1\" y=\"5\" class=\"light-square\" height=\"1\" width=\"1\"></rect><g></g></g><g><rect x=\"1\" y=\"6\" class=\"dark-square\" height=\"1\" width=\"1\"></rect><image x=\"1\" xlink:href=\"https://raw.githubusercontent.com/romstad/Chess.jl/master/img/wp.svg\" y=\"6\" height=\"1\" width=\"1\"></image></g><g><rect x=\"1\" y=\"7\" class=\"light-square\" height=\"1\" width=\"1\"></rect><image x=\"1\" xlink:href=\"https://raw.githubusercontent.com/romstad/Chess.jl/master/img/wn.svg\" y=\"7\" height=\"1\" width=\"1\"></image></g><g><rect x=\"2\" y=\"0\" class=\"light-square\" height=\"1\" width=\"1\"></rect><image x=\"2\" xlink:href=\"https://raw.githubusercontent.com/romstad/Chess.jl/master/img/bb.svg\" y=\"0\" height=\"1\" width=\"1\"></image></g><g><rect x=\"2\" y=\"1\" class=\"dark-square\" height=\"1\" width=\"1\"></rect><g></g></g><g><rect x=\"2\" y=\"2\" class=\"light-square\" height=\"1\" width=\"1\"></rect><image x=\"2\" xlink:href=\"https://raw.githubusercontent.com/romstad/Chess.jl/master/img/bp.svg\" y=\"2\" height=\"1\" width=\"1\"></image></g><g><rect x=\"2\" y=\"3\" class=\"dark-square\" height=\"1\" width=\"1\"></rect><g></g></g><g><rect x=\"2\" y=\"4\" class=\"light-square\" height=\"1\" width=\"1\"></rect><g></g></g><g><rect x=\"2\" y=\"5\" class=\"dark-square\" height=\"1\" width=\"1\"></rect><g></g></g><g><rect x=\"2\" y=\"6\" class=\"light-square\" height=\"1\" width=\"1\"></rect><image x=\"2\" xlink:href=\"https://raw.githubusercontent.com/romstad/Chess.jl/master/img/wp.svg\" y=\"6\" height=\"1\" width=\"1\"></image></g><g><rect x=\"2\" y=\"7\" class=\"dark-square\" height=\"1\" width=\"1\"></rect><image x=\"2\" xlink:href=\"https://raw.githubusercontent.com/romstad/Chess.jl/master/img/wb.svg\" y=\"7\" height=\"1\" width=\"1\"></image></g><g><rect x=\"3\" y=\"0\" class=\"dark-square\" height=\"1\" width=\"1\"></rect><image x=\"3\" xlink:href=\"https://raw.githubusercontent.com/romstad/Chess.jl/master/img/bq.svg\" y=\"0\" height=\"1\" width=\"1\"></image></g><g><rect x=\"3\" y=\"1\" class=\"light-square\" height=\"1\" width=\"1\"></rect><image x=\"3\" xlink:href=\"https://raw.githubusercontent.com/romstad/Chess.jl/master/img/bp.svg\" y=\"1\" height=\"1\" width=\"1\"></image></g><g><rect x=\"3\" y=\"2\" class=\"dark-square\" height=\"1\" width=\"1\"></rect><image x=\"3\" xlink:href=\"https://raw.githubusercontent.com/romstad/Chess.jl/master/img/wp.svg\" y=\"2\" height=\"1\" width=\"1\"></image></g><g><rect x=\"3\" y=\"3\" class=\"light-square\" height=\"1\" width=\"1\"></rect><g></g></g><g><rect x=\"3\" y=\"4\" class=\"dark-square\" height=\"1\" width=\"1\"></rect><g></g></g><g><rect x=\"3\" y=\"5\" class=\"light-square\" height=\"1\" width=\"1\"></rect><g></g></g><g><rect x=\"3\" y=\"6\" class=\"dark-square\" height=\"1\" width=\"1\"></rect><g></g></g><g><rect x=\"3\" y=\"7\" class=\"light-square\" height=\"1\" width=\"1\"></rect><image x=\"3\" xlink:href=\"https://raw.githubusercontent.com/romstad/Chess.jl/master/img/wq.svg\" y=\"7\" height=\"1\" width=\"1\"></image></g><g><rect x=\"4\" y=\"0\" class=\"light-square\" height=\"1\" width=\"1\"></rect><image x=\"4\" xlink:href=\"https://raw.githubusercontent.com/romstad/Chess.jl/master/img/bk.svg\" y=\"0\" height=\"1\" width=\"1\"></image></g><g><rect x=\"4\" y=\"1\" class=\"dark-square\" height=\"1\" width=\"1\"></rect><image x=\"4\" xlink:href=\"https://raw.githubusercontent.com/romstad/Chess.jl/master/img/bn.svg\" y=\"1\" height=\"1\" width=\"1\"></image></g><g><rect x=\"4\" y=\"2\" class=\"light-square\" height=\"1\" width=\"1\"></rect><g></g></g><g><rect x=\"4\" y=\"3\" class=\"dark-square\" height=\"1\" width=\"1\"></rect><image x=\"4\" xlink:href=\"https://raw.githubusercontent.com/romstad/Chess.jl/master/img/bp.svg\" y=\"3\" height=\"1\" width=\"1\"></image></g><g><rect x=\"4\" y=\"4\" class=\"light-square\" height=\"1\" width=\"1\"></rect><image x=\"4\" xlink:href=\"https://raw.githubusercontent.com/romstad/Chess.jl/master/img/wp.svg\" y=\"4\" height=\"1\" width=\"1\"></image></g><g><rect x=\"4\" y=\"5\" class=\"dark-square\" height=\"1\" width=\"1\"></rect><g></g></g><g><rect x=\"4\" y=\"6\" class=\"light-square\" height=\"1\" width=\"1\"></rect><g></g></g><g><rect x=\"4\" y=\"7\" class=\"dark-square\" height=\"1\" width=\"1\"></rect><image x=\"4\" xlink:href=\"https://raw.githubusercontent.com/romstad/Chess.jl/master/img/wk.svg\" y=\"7\" height=\"1\" width=\"1\"></image></g><g><rect x=\"5\" y=\"0\" class=\"dark-square\" height=\"1\" width=\"1\"></rect><image x=\"5\" xlink:href=\"https://raw.githubusercontent.com/romstad/Chess.jl/master/img/bb.svg\" y=\"0\" height=\"1\" width=\"1\"></image></g><g><rect x=\"5\" y=\"1\" class=\"light-square\" height=\"1\" width=\"1\"></rect><image x=\"5\" xlink:href=\"https://raw.githubusercontent.com/romstad/Chess.jl/master/img/bp.svg\" y=\"1\" height=\"1\" width=\"1\"></image></g><g><rect x=\"5\" y=\"2\" class=\"dark-square\" height=\"1\" width=\"1\"></rect><g></g></g><g><rect x=\"5\" y=\"3\" class=\"light-square\" height=\"1\" width=\"1\"></rect><g></g></g><g><rect x=\"5\" y=\"4\" class=\"dark-square\" height=\"1\" width=\"1\"></rect><g></g></g><g><rect x=\"5\" y=\"5\" class=\"light-square\" height=\"1\" width=\"1\"></rect><image x=\"5\" xlink:href=\"https://raw.githubusercontent.com/romstad/Chess.jl/master/img/wn.svg\" y=\"5\" height=\"1\" width=\"1\"></image></g><g><rect x=\"5\" y=\"6\" class=\"dark-square\" height=\"1\" width=\"1\"></rect><image x=\"5\" xlink:href=\"https://raw.githubusercontent.com/romstad/Chess.jl/master/img/wp.svg\" y=\"6\" height=\"1\" width=\"1\"></image></g><g><rect x=\"5\" y=\"7\" class=\"light-square\" height=\"1\" width=\"1\"></rect><image x=\"5\" xlink:href=\"https://raw.githubusercontent.com/romstad/Chess.jl/master/img/wb.svg\" y=\"7\" height=\"1\" width=\"1\"></image></g><g><rect x=\"6\" y=\"0\" class=\"light-square\" height=\"1\" width=\"1\"></rect><image x=\"6\" xlink:href=\"https://raw.githubusercontent.com/romstad/Chess.jl/master/img/bn.svg\" y=\"0\" height=\"1\" width=\"1\"></image></g><g><rect x=\"6\" y=\"1\" class=\"dark-square\" height=\"1\" width=\"1\"></rect><image x=\"6\" xlink:href=\"https://raw.githubusercontent.com/romstad/Chess.jl/master/img/bp.svg\" y=\"1\" height=\"1\" width=\"1\"></image></g><g><rect x=\"6\" y=\"2\" class=\"light-square\" height=\"1\" width=\"1\"></rect><g></g></g><g><rect x=\"6\" y=\"3\" class=\"dark-square\" height=\"1\" width=\"1\"></rect><g></g></g><g><rect x=\"6\" y=\"4\" class=\"light-square\" height=\"1\" width=\"1\"></rect><g></g></g><g><rect x=\"6\" y=\"5\" class=\"dark-square\" height=\"1\" width=\"1\"></rect><g></g></g><g><rect x=\"6\" y=\"6\" class=\"light-square\" height=\"1\" width=\"1\"></rect><image x=\"6\" xlink:href=\"https://raw.githubusercontent.com/romstad/Chess.jl/master/img/wp.svg\" y=\"6\" height=\"1\" width=\"1\"></image></g><g><rect x=\"6\" y=\"7\" class=\"dark-square\" height=\"1\" width=\"1\"></rect><g></g></g><g><rect x=\"7\" y=\"0\" class=\"dark-square\" height=\"1\" width=\"1\"></rect><image x=\"7\" xlink:href=\"https://raw.githubusercontent.com/romstad/Chess.jl/master/img/br.svg\" y=\"0\" height=\"1\" width=\"1\"></image></g><g><rect x=\"7\" y=\"1\" class=\"light-square\" height=\"1\" width=\"1\"></rect><image x=\"7\" xlink:href=\"https://raw.githubusercontent.com/romstad/Chess.jl/master/img/bp.svg\" y=\"1\" height=\"1\" width=\"1\"></image></g><g><rect x=\"7\" y=\"2\" class=\"dark-square\" height=\"1\" width=\"1\"></rect><g></g></g><g><rect x=\"7\" y=\"3\" class=\"light-square\" height=\"1\" width=\"1\"></rect><g></g></g><g><rect x=\"7\" y=\"4\" class=\"dark-square\" height=\"1\" width=\"1\"></rect><g></g></g><g><rect x=\"7\" y=\"5\" class=\"light-square\" height=\"1\" width=\"1\"></rect><g></g></g><g><rect x=\"7\" y=\"6\" class=\"dark-square\" height=\"1\" width=\"1\"></rect><image x=\"7\" xlink:href=\"https://raw.githubusercontent.com/romstad/Chess.jl/master/img/wp.svg\" y=\"6\" height=\"1\" width=\"1\"></image></g><g><rect x=\"7\" y=\"7\" class=\"light-square\" height=\"1\" width=\"1\"></rect><image x=\"7\" xlink:href=\"https://raw.githubusercontent.com/romstad/Chess.jl/master/img/wr.svg\" y=\"7\" height=\"1\" width=\"1\"></image></g></g><g></g></svg><div><p>Black to move</p><p>Castle rights: KQkq</p><p><a href=\"https://lichess.org/editor/r1bqkbnr/pp1pnppp/2pP4/4p3/4P3/5N2/PPP2PPP/RNBQKB1R_b_KQkq_-\" target=\"_blank\">Open in lichess</a></p></div></div>"
      ],
      "text/plain": [
       "Board (r1bqkbnr/pp1pnppp/2pP4/4p3/4P3/5N2/PPP2PPP/RNBQKB1R b KQkq -):\n",
       " r  -  b  q  k  b  n  r \n",
       " p  p  -  p  n  p  p  p \n",
       " -  -  p  P  -  -  -  - \n",
       " -  -  -  -  p  -  -  - \n",
       " -  -  -  -  P  -  -  - \n",
       " -  -  -  -  -  N  -  - \n",
       " P  P  P  -  -  P  P  P \n",
       " R  N  B  Q  K  B  -  R "
      ]
     },
     "metadata": {},
     "output_type": "display_data"
    },
    {
     "name": "stdout",
     "output_type": "stream",
     "text": [
      "Evaluation of engine: 205.0\n",
      "Current board score: 75\n",
      "Current entries in Cache: 5444\n",
      "Cleared Cache with 5444\n",
      "  4.592002 seconds (16.66 M allocations: 970.189 MiB, 4.47% gc time)\n"
     ]
    },
    {
     "data": {
      "text/html": [
       "Board:<div class=\"chessboard\"><style soped=\"true\">.dark-square {\n",
       "    fill: #c3936a;\n",
       "    stroke-width: 0;\n",
       "}\n",
       ".light-square {\n",
       "    fill: #ffd7a6;\n",
       "    stroke-width: 0;\n",
       "}\n",
       ".highlight {\n",
       "    fill: #47d18b;\n",
       "}\n",
       "@media (prefers-color-scheme: dark) {\n",
       "    .dark-square {\n",
       "        fill: #00796b;\n",
       "    }\n",
       "    .light-square {\n",
       "        fill: #3ca59b;\n",
       "    }\n",
       "    .highlight {\n",
       "        fill: #d23600;\n",
       "    }\n",
       "}\n",
       "</style><svg style=\"float: left; margin-right: 20px\" viewBox=\"0 0 8 8\" height=\"280\" width=\"280\"><g><g><rect x=\"0\" y=\"0\" class=\"light-square\" height=\"1\" width=\"1\"></rect><image x=\"0\" xlink:href=\"https://raw.githubusercontent.com/romstad/Chess.jl/master/img/br.svg\" y=\"0\" height=\"1\" width=\"1\"></image></g><g><rect x=\"0\" y=\"1\" class=\"dark-square\" height=\"1\" width=\"1\"></rect><image x=\"0\" xlink:href=\"https://raw.githubusercontent.com/romstad/Chess.jl/master/img/bp.svg\" y=\"1\" height=\"1\" width=\"1\"></image></g><g><rect x=\"0\" y=\"2\" class=\"light-square\" height=\"1\" width=\"1\"></rect><g></g></g><g><rect x=\"0\" y=\"3\" class=\"dark-square\" height=\"1\" width=\"1\"></rect><g></g></g><g><rect x=\"0\" y=\"4\" class=\"light-square\" height=\"1\" width=\"1\"></rect><g></g></g><g><rect x=\"0\" y=\"5\" class=\"dark-square\" height=\"1\" width=\"1\"></rect><g></g></g><g><rect x=\"0\" y=\"6\" class=\"light-square\" height=\"1\" width=\"1\"></rect><image x=\"0\" xlink:href=\"https://raw.githubusercontent.com/romstad/Chess.jl/master/img/wp.svg\" y=\"6\" height=\"1\" width=\"1\"></image></g><g><rect x=\"0\" y=\"7\" class=\"dark-square\" height=\"1\" width=\"1\"></rect><image x=\"0\" xlink:href=\"https://raw.githubusercontent.com/romstad/Chess.jl/master/img/wr.svg\" y=\"7\" height=\"1\" width=\"1\"></image></g><g><rect x=\"1\" y=\"0\" class=\"dark-square\" height=\"1\" width=\"1\"></rect><g></g></g><g><rect x=\"1\" y=\"1\" class=\"light-square\" height=\"1\" width=\"1\"></rect><image x=\"1\" xlink:href=\"https://raw.githubusercontent.com/romstad/Chess.jl/master/img/bp.svg\" y=\"1\" height=\"1\" width=\"1\"></image></g><g><rect x=\"1\" y=\"2\" class=\"dark-square\" height=\"1\" width=\"1\"></rect><g></g></g><g><rect x=\"1\" y=\"3\" class=\"light-square\" height=\"1\" width=\"1\"></rect><g></g></g><g><rect x=\"1\" y=\"4\" class=\"dark-square\" height=\"1\" width=\"1\"></rect><g></g></g><g><rect x=\"1\" y=\"5\" class=\"light-square\" height=\"1\" width=\"1\"></rect><g></g></g><g><rect x=\"1\" y=\"6\" class=\"dark-square\" height=\"1\" width=\"1\"></rect><image x=\"1\" xlink:href=\"https://raw.githubusercontent.com/romstad/Chess.jl/master/img/wp.svg\" y=\"6\" height=\"1\" width=\"1\"></image></g><g><rect x=\"1\" y=\"7\" class=\"light-square\" height=\"1\" width=\"1\"></rect><image x=\"1\" xlink:href=\"https://raw.githubusercontent.com/romstad/Chess.jl/master/img/wn.svg\" y=\"7\" height=\"1\" width=\"1\"></image></g><g><rect x=\"2\" y=\"0\" class=\"light-square\" height=\"1\" width=\"1\"></rect><image x=\"2\" xlink:href=\"https://raw.githubusercontent.com/romstad/Chess.jl/master/img/bb.svg\" y=\"0\" height=\"1\" width=\"1\"></image></g><g><rect x=\"2\" y=\"1\" class=\"dark-square\" height=\"1\" width=\"1\"></rect><g></g></g><g><rect x=\"2\" y=\"2\" class=\"light-square\" height=\"1\" width=\"1\"></rect><image x=\"2\" xlink:href=\"https://raw.githubusercontent.com/romstad/Chess.jl/master/img/bp.svg\" y=\"2\" height=\"1\" width=\"1\"></image></g><g><rect x=\"2\" y=\"3\" class=\"dark-square\" height=\"1\" width=\"1\"></rect><g></g></g><g><rect x=\"2\" y=\"4\" class=\"light-square\" height=\"1\" width=\"1\"></rect><g></g></g><g><rect x=\"2\" y=\"5\" class=\"dark-square\" height=\"1\" width=\"1\"></rect><g></g></g><g><rect x=\"2\" y=\"6\" class=\"light-square\" height=\"1\" width=\"1\"></rect><image x=\"2\" xlink:href=\"https://raw.githubusercontent.com/romstad/Chess.jl/master/img/wp.svg\" y=\"6\" height=\"1\" width=\"1\"></image></g><g><rect x=\"2\" y=\"7\" class=\"dark-square\" height=\"1\" width=\"1\"></rect><image x=\"2\" xlink:href=\"https://raw.githubusercontent.com/romstad/Chess.jl/master/img/wb.svg\" y=\"7\" height=\"1\" width=\"1\"></image></g><g><rect x=\"3\" y=\"0\" class=\"dark-square\" height=\"1\" width=\"1\"></rect><image x=\"3\" xlink:href=\"https://raw.githubusercontent.com/romstad/Chess.jl/master/img/bq.svg\" y=\"0\" height=\"1\" width=\"1\"></image></g><g><rect x=\"3\" y=\"1\" class=\"light-square\" height=\"1\" width=\"1\"></rect><image x=\"3\" xlink:href=\"https://raw.githubusercontent.com/romstad/Chess.jl/master/img/bp.svg\" y=\"1\" height=\"1\" width=\"1\"></image></g><g><rect x=\"3\" y=\"2\" class=\"dark-square\" height=\"1\" width=\"1\"></rect><image x=\"3\" xlink:href=\"https://raw.githubusercontent.com/romstad/Chess.jl/master/img/wp.svg\" y=\"2\" height=\"1\" width=\"1\"></image></g><g><rect x=\"3\" y=\"3\" class=\"light-square\" height=\"1\" width=\"1\"></rect><g></g></g><g><rect x=\"3\" y=\"4\" class=\"dark-square\" height=\"1\" width=\"1\"></rect><g></g></g><g><rect x=\"3\" y=\"5\" class=\"light-square\" height=\"1\" width=\"1\"></rect><g></g></g><g><rect x=\"3\" y=\"6\" class=\"dark-square\" height=\"1\" width=\"1\"></rect><g></g></g><g><rect x=\"3\" y=\"7\" class=\"light-square\" height=\"1\" width=\"1\"></rect><image x=\"3\" xlink:href=\"https://raw.githubusercontent.com/romstad/Chess.jl/master/img/wq.svg\" y=\"7\" height=\"1\" width=\"1\"></image></g><g><rect x=\"4\" y=\"0\" class=\"light-square\" height=\"1\" width=\"1\"></rect><image x=\"4\" xlink:href=\"https://raw.githubusercontent.com/romstad/Chess.jl/master/img/bk.svg\" y=\"0\" height=\"1\" width=\"1\"></image></g><g><rect x=\"4\" y=\"1\" class=\"dark-square\" height=\"1\" width=\"1\"></rect><g></g></g><g><rect x=\"4\" y=\"2\" class=\"light-square\" height=\"1\" width=\"1\"></rect><g></g></g><g><rect x=\"4\" y=\"3\" class=\"dark-square\" height=\"1\" width=\"1\"></rect><image x=\"4\" xlink:href=\"https://raw.githubusercontent.com/romstad/Chess.jl/master/img/bp.svg\" y=\"3\" height=\"1\" width=\"1\"></image></g><g><rect x=\"4\" y=\"4\" class=\"light-square\" height=\"1\" width=\"1\"></rect><image x=\"4\" xlink:href=\"https://raw.githubusercontent.com/romstad/Chess.jl/master/img/wp.svg\" y=\"4\" height=\"1\" width=\"1\"></image></g><g><rect x=\"4\" y=\"5\" class=\"dark-square\" height=\"1\" width=\"1\"></rect><g></g></g><g><rect x=\"4\" y=\"6\" class=\"light-square\" height=\"1\" width=\"1\"></rect><g></g></g><g><rect x=\"4\" y=\"7\" class=\"dark-square\" height=\"1\" width=\"1\"></rect><image x=\"4\" xlink:href=\"https://raw.githubusercontent.com/romstad/Chess.jl/master/img/wk.svg\" y=\"7\" height=\"1\" width=\"1\"></image></g><g><rect x=\"5\" y=\"0\" class=\"dark-square\" height=\"1\" width=\"1\"></rect><image x=\"5\" xlink:href=\"https://raw.githubusercontent.com/romstad/Chess.jl/master/img/bb.svg\" y=\"0\" height=\"1\" width=\"1\"></image></g><g><rect x=\"5\" y=\"1\" class=\"light-square\" height=\"1\" width=\"1\"></rect><image x=\"5\" xlink:href=\"https://raw.githubusercontent.com/romstad/Chess.jl/master/img/bp.svg\" y=\"1\" height=\"1\" width=\"1\"></image></g><g><rect x=\"5\" y=\"2\" class=\"dark-square\" height=\"1\" width=\"1\"></rect><g></g></g><g><rect x=\"5\" y=\"3\" class=\"light-square\" height=\"1\" width=\"1\"></rect><g></g></g><g><rect x=\"5\" y=\"4\" class=\"dark-square\" height=\"1\" width=\"1\"></rect><g></g></g><g><rect x=\"5\" y=\"5\" class=\"light-square\" height=\"1\" width=\"1\"></rect><image x=\"5\" xlink:href=\"https://raw.githubusercontent.com/romstad/Chess.jl/master/img/wn.svg\" y=\"5\" height=\"1\" width=\"1\"></image></g><g><rect x=\"5\" y=\"6\" class=\"dark-square\" height=\"1\" width=\"1\"></rect><image x=\"5\" xlink:href=\"https://raw.githubusercontent.com/romstad/Chess.jl/master/img/wp.svg\" y=\"6\" height=\"1\" width=\"1\"></image></g><g><rect x=\"5\" y=\"7\" class=\"light-square\" height=\"1\" width=\"1\"></rect><image x=\"5\" xlink:href=\"https://raw.githubusercontent.com/romstad/Chess.jl/master/img/wb.svg\" y=\"7\" height=\"1\" width=\"1\"></image></g><g><rect x=\"6\" y=\"0\" class=\"light-square\" height=\"1\" width=\"1\"></rect><image x=\"6\" xlink:href=\"https://raw.githubusercontent.com/romstad/Chess.jl/master/img/bn.svg\" y=\"0\" height=\"1\" width=\"1\"></image></g><g><rect x=\"6\" y=\"1\" class=\"dark-square\" height=\"1\" width=\"1\"></rect><image x=\"6\" xlink:href=\"https://raw.githubusercontent.com/romstad/Chess.jl/master/img/bp.svg\" y=\"1\" height=\"1\" width=\"1\"></image></g><g><rect x=\"6\" y=\"2\" class=\"light-square\" height=\"1\" width=\"1\"></rect><image x=\"6\" xlink:href=\"https://raw.githubusercontent.com/romstad/Chess.jl/master/img/bn.svg\" y=\"2\" height=\"1\" width=\"1\"></image></g><g><rect x=\"6\" y=\"3\" class=\"dark-square\" height=\"1\" width=\"1\"></rect><g></g></g><g><rect x=\"6\" y=\"4\" class=\"light-square\" height=\"1\" width=\"1\"></rect><g></g></g><g><rect x=\"6\" y=\"5\" class=\"dark-square\" height=\"1\" width=\"1\"></rect><g></g></g><g><rect x=\"6\" y=\"6\" class=\"light-square\" height=\"1\" width=\"1\"></rect><image x=\"6\" xlink:href=\"https://raw.githubusercontent.com/romstad/Chess.jl/master/img/wp.svg\" y=\"6\" height=\"1\" width=\"1\"></image></g><g><rect x=\"6\" y=\"7\" class=\"dark-square\" height=\"1\" width=\"1\"></rect><g></g></g><g><rect x=\"7\" y=\"0\" class=\"dark-square\" height=\"1\" width=\"1\"></rect><image x=\"7\" xlink:href=\"https://raw.githubusercontent.com/romstad/Chess.jl/master/img/br.svg\" y=\"0\" height=\"1\" width=\"1\"></image></g><g><rect x=\"7\" y=\"1\" class=\"light-square\" height=\"1\" width=\"1\"></rect><image x=\"7\" xlink:href=\"https://raw.githubusercontent.com/romstad/Chess.jl/master/img/bp.svg\" y=\"1\" height=\"1\" width=\"1\"></image></g><g><rect x=\"7\" y=\"2\" class=\"dark-square\" height=\"1\" width=\"1\"></rect><g></g></g><g><rect x=\"7\" y=\"3\" class=\"light-square\" height=\"1\" width=\"1\"></rect><g></g></g><g><rect x=\"7\" y=\"4\" class=\"dark-square\" height=\"1\" width=\"1\"></rect><g></g></g><g><rect x=\"7\" y=\"5\" class=\"light-square\" height=\"1\" width=\"1\"></rect><g></g></g><g><rect x=\"7\" y=\"6\" class=\"dark-square\" height=\"1\" width=\"1\"></rect><image x=\"7\" xlink:href=\"https://raw.githubusercontent.com/romstad/Chess.jl/master/img/wp.svg\" y=\"6\" height=\"1\" width=\"1\"></image></g><g><rect x=\"7\" y=\"7\" class=\"light-square\" height=\"1\" width=\"1\"></rect><image x=\"7\" xlink:href=\"https://raw.githubusercontent.com/romstad/Chess.jl/master/img/wr.svg\" y=\"7\" height=\"1\" width=\"1\"></image></g></g><g></g></svg><div><p>White to move</p><p>Castle rights: KQkq</p><p><a href=\"https://lichess.org/editor/r1bqkbnr/pp1p1ppp/2pP2n1/4p3/4P3/5N2/PPP2PPP/RNBQKB1R_w_KQkq_-\" target=\"_blank\">Open in lichess</a></p></div></div>"
      ],
      "text/plain": [
       "Board (r1bqkbnr/pp1p1ppp/2pP2n1/4p3/4P3/5N2/PPP2PPP/RNBQKB1R w KQkq -):\n",
       " r  -  b  q  k  b  n  r \n",
       " p  p  -  p  -  p  p  p \n",
       " -  -  p  P  -  -  n  - \n",
       " -  -  -  -  p  -  -  - \n",
       " -  -  -  -  P  -  -  - \n",
       " -  -  -  -  -  N  -  - \n",
       " P  P  P  -  -  P  P  P \n",
       " R  N  B  Q  K  B  -  R "
      ]
     },
     "metadata": {},
     "output_type": "display_data"
    },
    {
     "name": "stdout",
     "output_type": "stream",
     "text": [
      "Make a move. Type 'resign' to resign from the match\n",
      "stdin> f1c4\n",
      "Cleared Cache with 0\n"
     ]
    },
    {
     "data": {
      "text/html": [
       "Board:<div class=\"chessboard\"><style soped=\"true\">.dark-square {\n",
       "    fill: #c3936a;\n",
       "    stroke-width: 0;\n",
       "}\n",
       ".light-square {\n",
       "    fill: #ffd7a6;\n",
       "    stroke-width: 0;\n",
       "}\n",
       ".highlight {\n",
       "    fill: #47d18b;\n",
       "}\n",
       "@media (prefers-color-scheme: dark) {\n",
       "    .dark-square {\n",
       "        fill: #00796b;\n",
       "    }\n",
       "    .light-square {\n",
       "        fill: #3ca59b;\n",
       "    }\n",
       "    .highlight {\n",
       "        fill: #d23600;\n",
       "    }\n",
       "}\n",
       "</style><svg style=\"float: left; margin-right: 20px\" viewBox=\"0 0 8 8\" height=\"280\" width=\"280\"><g><g><rect x=\"0\" y=\"0\" class=\"light-square\" height=\"1\" width=\"1\"></rect><image x=\"0\" xlink:href=\"https://raw.githubusercontent.com/romstad/Chess.jl/master/img/br.svg\" y=\"0\" height=\"1\" width=\"1\"></image></g><g><rect x=\"0\" y=\"1\" class=\"dark-square\" height=\"1\" width=\"1\"></rect><image x=\"0\" xlink:href=\"https://raw.githubusercontent.com/romstad/Chess.jl/master/img/bp.svg\" y=\"1\" height=\"1\" width=\"1\"></image></g><g><rect x=\"0\" y=\"2\" class=\"light-square\" height=\"1\" width=\"1\"></rect><g></g></g><g><rect x=\"0\" y=\"3\" class=\"dark-square\" height=\"1\" width=\"1\"></rect><g></g></g><g><rect x=\"0\" y=\"4\" class=\"light-square\" height=\"1\" width=\"1\"></rect><g></g></g><g><rect x=\"0\" y=\"5\" class=\"dark-square\" height=\"1\" width=\"1\"></rect><g></g></g><g><rect x=\"0\" y=\"6\" class=\"light-square\" height=\"1\" width=\"1\"></rect><image x=\"0\" xlink:href=\"https://raw.githubusercontent.com/romstad/Chess.jl/master/img/wp.svg\" y=\"6\" height=\"1\" width=\"1\"></image></g><g><rect x=\"0\" y=\"7\" class=\"dark-square\" height=\"1\" width=\"1\"></rect><image x=\"0\" xlink:href=\"https://raw.githubusercontent.com/romstad/Chess.jl/master/img/wr.svg\" y=\"7\" height=\"1\" width=\"1\"></image></g><g><rect x=\"1\" y=\"0\" class=\"dark-square\" height=\"1\" width=\"1\"></rect><g></g></g><g><rect x=\"1\" y=\"1\" class=\"light-square\" height=\"1\" width=\"1\"></rect><image x=\"1\" xlink:href=\"https://raw.githubusercontent.com/romstad/Chess.jl/master/img/bp.svg\" y=\"1\" height=\"1\" width=\"1\"></image></g><g><rect x=\"1\" y=\"2\" class=\"dark-square\" height=\"1\" width=\"1\"></rect><g></g></g><g><rect x=\"1\" y=\"3\" class=\"light-square\" height=\"1\" width=\"1\"></rect><g></g></g><g><rect x=\"1\" y=\"4\" class=\"dark-square\" height=\"1\" width=\"1\"></rect><g></g></g><g><rect x=\"1\" y=\"5\" class=\"light-square\" height=\"1\" width=\"1\"></rect><g></g></g><g><rect x=\"1\" y=\"6\" class=\"dark-square\" height=\"1\" width=\"1\"></rect><image x=\"1\" xlink:href=\"https://raw.githubusercontent.com/romstad/Chess.jl/master/img/wp.svg\" y=\"6\" height=\"1\" width=\"1\"></image></g><g><rect x=\"1\" y=\"7\" class=\"light-square\" height=\"1\" width=\"1\"></rect><image x=\"1\" xlink:href=\"https://raw.githubusercontent.com/romstad/Chess.jl/master/img/wn.svg\" y=\"7\" height=\"1\" width=\"1\"></image></g><g><rect x=\"2\" y=\"0\" class=\"light-square\" height=\"1\" width=\"1\"></rect><image x=\"2\" xlink:href=\"https://raw.githubusercontent.com/romstad/Chess.jl/master/img/bb.svg\" y=\"0\" height=\"1\" width=\"1\"></image></g><g><rect x=\"2\" y=\"1\" class=\"dark-square\" height=\"1\" width=\"1\"></rect><g></g></g><g><rect x=\"2\" y=\"2\" class=\"light-square\" height=\"1\" width=\"1\"></rect><image x=\"2\" xlink:href=\"https://raw.githubusercontent.com/romstad/Chess.jl/master/img/bp.svg\" y=\"2\" height=\"1\" width=\"1\"></image></g><g><rect x=\"2\" y=\"3\" class=\"dark-square\" height=\"1\" width=\"1\"></rect><g></g></g><g><rect x=\"2\" y=\"4\" class=\"light-square\" height=\"1\" width=\"1\"></rect><image x=\"2\" xlink:href=\"https://raw.githubusercontent.com/romstad/Chess.jl/master/img/wb.svg\" y=\"4\" height=\"1\" width=\"1\"></image></g><g><rect x=\"2\" y=\"5\" class=\"dark-square\" height=\"1\" width=\"1\"></rect><g></g></g><g><rect x=\"2\" y=\"6\" class=\"light-square\" height=\"1\" width=\"1\"></rect><image x=\"2\" xlink:href=\"https://raw.githubusercontent.com/romstad/Chess.jl/master/img/wp.svg\" y=\"6\" height=\"1\" width=\"1\"></image></g><g><rect x=\"2\" y=\"7\" class=\"dark-square\" height=\"1\" width=\"1\"></rect><image x=\"2\" xlink:href=\"https://raw.githubusercontent.com/romstad/Chess.jl/master/img/wb.svg\" y=\"7\" height=\"1\" width=\"1\"></image></g><g><rect x=\"3\" y=\"0\" class=\"dark-square\" height=\"1\" width=\"1\"></rect><image x=\"3\" xlink:href=\"https://raw.githubusercontent.com/romstad/Chess.jl/master/img/bq.svg\" y=\"0\" height=\"1\" width=\"1\"></image></g><g><rect x=\"3\" y=\"1\" class=\"light-square\" height=\"1\" width=\"1\"></rect><image x=\"3\" xlink:href=\"https://raw.githubusercontent.com/romstad/Chess.jl/master/img/bp.svg\" y=\"1\" height=\"1\" width=\"1\"></image></g><g><rect x=\"3\" y=\"2\" class=\"dark-square\" height=\"1\" width=\"1\"></rect><image x=\"3\" xlink:href=\"https://raw.githubusercontent.com/romstad/Chess.jl/master/img/wp.svg\" y=\"2\" height=\"1\" width=\"1\"></image></g><g><rect x=\"3\" y=\"3\" class=\"light-square\" height=\"1\" width=\"1\"></rect><g></g></g><g><rect x=\"3\" y=\"4\" class=\"dark-square\" height=\"1\" width=\"1\"></rect><g></g></g><g><rect x=\"3\" y=\"5\" class=\"light-square\" height=\"1\" width=\"1\"></rect><g></g></g><g><rect x=\"3\" y=\"6\" class=\"dark-square\" height=\"1\" width=\"1\"></rect><g></g></g><g><rect x=\"3\" y=\"7\" class=\"light-square\" height=\"1\" width=\"1\"></rect><image x=\"3\" xlink:href=\"https://raw.githubusercontent.com/romstad/Chess.jl/master/img/wq.svg\" y=\"7\" height=\"1\" width=\"1\"></image></g><g><rect x=\"4\" y=\"0\" class=\"light-square\" height=\"1\" width=\"1\"></rect><image x=\"4\" xlink:href=\"https://raw.githubusercontent.com/romstad/Chess.jl/master/img/bk.svg\" y=\"0\" height=\"1\" width=\"1\"></image></g><g><rect x=\"4\" y=\"1\" class=\"dark-square\" height=\"1\" width=\"1\"></rect><g></g></g><g><rect x=\"4\" y=\"2\" class=\"light-square\" height=\"1\" width=\"1\"></rect><g></g></g><g><rect x=\"4\" y=\"3\" class=\"dark-square\" height=\"1\" width=\"1\"></rect><image x=\"4\" xlink:href=\"https://raw.githubusercontent.com/romstad/Chess.jl/master/img/bp.svg\" y=\"3\" height=\"1\" width=\"1\"></image></g><g><rect x=\"4\" y=\"4\" class=\"light-square\" height=\"1\" width=\"1\"></rect><image x=\"4\" xlink:href=\"https://raw.githubusercontent.com/romstad/Chess.jl/master/img/wp.svg\" y=\"4\" height=\"1\" width=\"1\"></image></g><g><rect x=\"4\" y=\"5\" class=\"dark-square\" height=\"1\" width=\"1\"></rect><g></g></g><g><rect x=\"4\" y=\"6\" class=\"light-square\" height=\"1\" width=\"1\"></rect><g></g></g><g><rect x=\"4\" y=\"7\" class=\"dark-square\" height=\"1\" width=\"1\"></rect><image x=\"4\" xlink:href=\"https://raw.githubusercontent.com/romstad/Chess.jl/master/img/wk.svg\" y=\"7\" height=\"1\" width=\"1\"></image></g><g><rect x=\"5\" y=\"0\" class=\"dark-square\" height=\"1\" width=\"1\"></rect><image x=\"5\" xlink:href=\"https://raw.githubusercontent.com/romstad/Chess.jl/master/img/bb.svg\" y=\"0\" height=\"1\" width=\"1\"></image></g><g><rect x=\"5\" y=\"1\" class=\"light-square\" height=\"1\" width=\"1\"></rect><image x=\"5\" xlink:href=\"https://raw.githubusercontent.com/romstad/Chess.jl/master/img/bp.svg\" y=\"1\" height=\"1\" width=\"1\"></image></g><g><rect x=\"5\" y=\"2\" class=\"dark-square\" height=\"1\" width=\"1\"></rect><g></g></g><g><rect x=\"5\" y=\"3\" class=\"light-square\" height=\"1\" width=\"1\"></rect><g></g></g><g><rect x=\"5\" y=\"4\" class=\"dark-square\" height=\"1\" width=\"1\"></rect><g></g></g><g><rect x=\"5\" y=\"5\" class=\"light-square\" height=\"1\" width=\"1\"></rect><image x=\"5\" xlink:href=\"https://raw.githubusercontent.com/romstad/Chess.jl/master/img/wn.svg\" y=\"5\" height=\"1\" width=\"1\"></image></g><g><rect x=\"5\" y=\"6\" class=\"dark-square\" height=\"1\" width=\"1\"></rect><image x=\"5\" xlink:href=\"https://raw.githubusercontent.com/romstad/Chess.jl/master/img/wp.svg\" y=\"6\" height=\"1\" width=\"1\"></image></g><g><rect x=\"5\" y=\"7\" class=\"light-square\" height=\"1\" width=\"1\"></rect><g></g></g><g><rect x=\"6\" y=\"0\" class=\"light-square\" height=\"1\" width=\"1\"></rect><image x=\"6\" xlink:href=\"https://raw.githubusercontent.com/romstad/Chess.jl/master/img/bn.svg\" y=\"0\" height=\"1\" width=\"1\"></image></g><g><rect x=\"6\" y=\"1\" class=\"dark-square\" height=\"1\" width=\"1\"></rect><image x=\"6\" xlink:href=\"https://raw.githubusercontent.com/romstad/Chess.jl/master/img/bp.svg\" y=\"1\" height=\"1\" width=\"1\"></image></g><g><rect x=\"6\" y=\"2\" class=\"light-square\" height=\"1\" width=\"1\"></rect><image x=\"6\" xlink:href=\"https://raw.githubusercontent.com/romstad/Chess.jl/master/img/bn.svg\" y=\"2\" height=\"1\" width=\"1\"></image></g><g><rect x=\"6\" y=\"3\" class=\"dark-square\" height=\"1\" width=\"1\"></rect><g></g></g><g><rect x=\"6\" y=\"4\" class=\"light-square\" height=\"1\" width=\"1\"></rect><g></g></g><g><rect x=\"6\" y=\"5\" class=\"dark-square\" height=\"1\" width=\"1\"></rect><g></g></g><g><rect x=\"6\" y=\"6\" class=\"light-square\" height=\"1\" width=\"1\"></rect><image x=\"6\" xlink:href=\"https://raw.githubusercontent.com/romstad/Chess.jl/master/img/wp.svg\" y=\"6\" height=\"1\" width=\"1\"></image></g><g><rect x=\"6\" y=\"7\" class=\"dark-square\" height=\"1\" width=\"1\"></rect><g></g></g><g><rect x=\"7\" y=\"0\" class=\"dark-square\" height=\"1\" width=\"1\"></rect><image x=\"7\" xlink:href=\"https://raw.githubusercontent.com/romstad/Chess.jl/master/img/br.svg\" y=\"0\" height=\"1\" width=\"1\"></image></g><g><rect x=\"7\" y=\"1\" class=\"light-square\" height=\"1\" width=\"1\"></rect><image x=\"7\" xlink:href=\"https://raw.githubusercontent.com/romstad/Chess.jl/master/img/bp.svg\" y=\"1\" height=\"1\" width=\"1\"></image></g><g><rect x=\"7\" y=\"2\" class=\"dark-square\" height=\"1\" width=\"1\"></rect><g></g></g><g><rect x=\"7\" y=\"3\" class=\"light-square\" height=\"1\" width=\"1\"></rect><g></g></g><g><rect x=\"7\" y=\"4\" class=\"dark-square\" height=\"1\" width=\"1\"></rect><g></g></g><g><rect x=\"7\" y=\"5\" class=\"light-square\" height=\"1\" width=\"1\"></rect><g></g></g><g><rect x=\"7\" y=\"6\" class=\"dark-square\" height=\"1\" width=\"1\"></rect><image x=\"7\" xlink:href=\"https://raw.githubusercontent.com/romstad/Chess.jl/master/img/wp.svg\" y=\"6\" height=\"1\" width=\"1\"></image></g><g><rect x=\"7\" y=\"7\" class=\"light-square\" height=\"1\" width=\"1\"></rect><image x=\"7\" xlink:href=\"https://raw.githubusercontent.com/romstad/Chess.jl/master/img/wr.svg\" y=\"7\" height=\"1\" width=\"1\"></image></g></g><g></g></svg><div><p>Black to move</p><p>Castle rights: KQkq</p><p><a href=\"https://lichess.org/editor/r1bqkbnr/pp1p1ppp/2pP2n1/4p3/2B1P3/5N2/PPP2PPP/RNBQK2R_b_KQkq_-\" target=\"_blank\">Open in lichess</a></p></div></div>"
      ],
      "text/plain": [
       "Board (r1bqkbnr/pp1p1ppp/2pP2n1/4p3/2B1P3/5N2/PPP2PPP/RNBQK2R b KQkq -):\n",
       " r  -  b  q  k  b  n  r \n",
       " p  p  -  p  -  p  p  p \n",
       " -  -  p  P  -  -  n  - \n",
       " -  -  -  -  p  -  -  - \n",
       " -  -  B  -  P  -  -  - \n",
       " -  -  -  -  -  N  -  - \n",
       " P  P  P  -  -  P  P  P \n",
       " R  N  B  Q  K  -  -  R "
      ]
     },
     "metadata": {},
     "output_type": "display_data"
    },
    {
     "name": "stdout",
     "output_type": "stream",
     "text": [
      "Evaluation of engine: 165.0\n",
      "Current board score: 95\n",
      "Current entries in Cache: 6664\n",
      "Cleared Cache with 6664\n",
      " 10.602503 seconds (22.99 M allocations: 1.290 GiB, 3.35% gc time)\n"
     ]
    },
    {
     "data": {
      "text/html": [
       "Board:<div class=\"chessboard\"><style soped=\"true\">.dark-square {\n",
       "    fill: #c3936a;\n",
       "    stroke-width: 0;\n",
       "}\n",
       ".light-square {\n",
       "    fill: #ffd7a6;\n",
       "    stroke-width: 0;\n",
       "}\n",
       ".highlight {\n",
       "    fill: #47d18b;\n",
       "}\n",
       "@media (prefers-color-scheme: dark) {\n",
       "    .dark-square {\n",
       "        fill: #00796b;\n",
       "    }\n",
       "    .light-square {\n",
       "        fill: #3ca59b;\n",
       "    }\n",
       "    .highlight {\n",
       "        fill: #d23600;\n",
       "    }\n",
       "}\n",
       "</style><svg style=\"float: left; margin-right: 20px\" viewBox=\"0 0 8 8\" height=\"280\" width=\"280\"><g><g><rect x=\"0\" y=\"0\" class=\"light-square\" height=\"1\" width=\"1\"></rect><image x=\"0\" xlink:href=\"https://raw.githubusercontent.com/romstad/Chess.jl/master/img/br.svg\" y=\"0\" height=\"1\" width=\"1\"></image></g><g><rect x=\"0\" y=\"1\" class=\"dark-square\" height=\"1\" width=\"1\"></rect><image x=\"0\" xlink:href=\"https://raw.githubusercontent.com/romstad/Chess.jl/master/img/bp.svg\" y=\"1\" height=\"1\" width=\"1\"></image></g><g><rect x=\"0\" y=\"2\" class=\"light-square\" height=\"1\" width=\"1\"></rect><g></g></g><g><rect x=\"0\" y=\"3\" class=\"dark-square\" height=\"1\" width=\"1\"></rect><g></g></g><g><rect x=\"0\" y=\"4\" class=\"light-square\" height=\"1\" width=\"1\"></rect><g></g></g><g><rect x=\"0\" y=\"5\" class=\"dark-square\" height=\"1\" width=\"1\"></rect><g></g></g><g><rect x=\"0\" y=\"6\" class=\"light-square\" height=\"1\" width=\"1\"></rect><image x=\"0\" xlink:href=\"https://raw.githubusercontent.com/romstad/Chess.jl/master/img/wp.svg\" y=\"6\" height=\"1\" width=\"1\"></image></g><g><rect x=\"0\" y=\"7\" class=\"dark-square\" height=\"1\" width=\"1\"></rect><image x=\"0\" xlink:href=\"https://raw.githubusercontent.com/romstad/Chess.jl/master/img/wr.svg\" y=\"7\" height=\"1\" width=\"1\"></image></g><g><rect x=\"1\" y=\"0\" class=\"dark-square\" height=\"1\" width=\"1\"></rect><g></g></g><g><rect x=\"1\" y=\"1\" class=\"light-square\" height=\"1\" width=\"1\"></rect><g></g></g><g><rect x=\"1\" y=\"2\" class=\"dark-square\" height=\"1\" width=\"1\"></rect><g></g></g><g><rect x=\"1\" y=\"3\" class=\"light-square\" height=\"1\" width=\"1\"></rect><image x=\"1\" xlink:href=\"https://raw.githubusercontent.com/romstad/Chess.jl/master/img/bp.svg\" y=\"3\" height=\"1\" width=\"1\"></image></g><g><rect x=\"1\" y=\"4\" class=\"dark-square\" height=\"1\" width=\"1\"></rect><g></g></g><g><rect x=\"1\" y=\"5\" class=\"light-square\" height=\"1\" width=\"1\"></rect><g></g></g><g><rect x=\"1\" y=\"6\" class=\"dark-square\" height=\"1\" width=\"1\"></rect><image x=\"1\" xlink:href=\"https://raw.githubusercontent.com/romstad/Chess.jl/master/img/wp.svg\" y=\"6\" height=\"1\" width=\"1\"></image></g><g><rect x=\"1\" y=\"7\" class=\"light-square\" height=\"1\" width=\"1\"></rect><image x=\"1\" xlink:href=\"https://raw.githubusercontent.com/romstad/Chess.jl/master/img/wn.svg\" y=\"7\" height=\"1\" width=\"1\"></image></g><g><rect x=\"2\" y=\"0\" class=\"light-square\" height=\"1\" width=\"1\"></rect><image x=\"2\" xlink:href=\"https://raw.githubusercontent.com/romstad/Chess.jl/master/img/bb.svg\" y=\"0\" height=\"1\" width=\"1\"></image></g><g><rect x=\"2\" y=\"1\" class=\"dark-square\" height=\"1\" width=\"1\"></rect><g></g></g><g><rect x=\"2\" y=\"2\" class=\"light-square\" height=\"1\" width=\"1\"></rect><image x=\"2\" xlink:href=\"https://raw.githubusercontent.com/romstad/Chess.jl/master/img/bp.svg\" y=\"2\" height=\"1\" width=\"1\"></image></g><g><rect x=\"2\" y=\"3\" class=\"dark-square\" height=\"1\" width=\"1\"></rect><g></g></g><g><rect x=\"2\" y=\"4\" class=\"light-square\" height=\"1\" width=\"1\"></rect><image x=\"2\" xlink:href=\"https://raw.githubusercontent.com/romstad/Chess.jl/master/img/wb.svg\" y=\"4\" height=\"1\" width=\"1\"></image></g><g><rect x=\"2\" y=\"5\" class=\"dark-square\" height=\"1\" width=\"1\"></rect><g></g></g><g><rect x=\"2\" y=\"6\" class=\"light-square\" height=\"1\" width=\"1\"></rect><image x=\"2\" xlink:href=\"https://raw.githubusercontent.com/romstad/Chess.jl/master/img/wp.svg\" y=\"6\" height=\"1\" width=\"1\"></image></g><g><rect x=\"2\" y=\"7\" class=\"dark-square\" height=\"1\" width=\"1\"></rect><image x=\"2\" xlink:href=\"https://raw.githubusercontent.com/romstad/Chess.jl/master/img/wb.svg\" y=\"7\" height=\"1\" width=\"1\"></image></g><g><rect x=\"3\" y=\"0\" class=\"dark-square\" height=\"1\" width=\"1\"></rect><image x=\"3\" xlink:href=\"https://raw.githubusercontent.com/romstad/Chess.jl/master/img/bq.svg\" y=\"0\" height=\"1\" width=\"1\"></image></g><g><rect x=\"3\" y=\"1\" class=\"light-square\" height=\"1\" width=\"1\"></rect><image x=\"3\" xlink:href=\"https://raw.githubusercontent.com/romstad/Chess.jl/master/img/bp.svg\" y=\"1\" height=\"1\" width=\"1\"></image></g><g><rect x=\"3\" y=\"2\" class=\"dark-square\" height=\"1\" width=\"1\"></rect><image x=\"3\" xlink:href=\"https://raw.githubusercontent.com/romstad/Chess.jl/master/img/wp.svg\" y=\"2\" height=\"1\" width=\"1\"></image></g><g><rect x=\"3\" y=\"3\" class=\"light-square\" height=\"1\" width=\"1\"></rect><g></g></g><g><rect x=\"3\" y=\"4\" class=\"dark-square\" height=\"1\" width=\"1\"></rect><g></g></g><g><rect x=\"3\" y=\"5\" class=\"light-square\" height=\"1\" width=\"1\"></rect><g></g></g><g><rect x=\"3\" y=\"6\" class=\"dark-square\" height=\"1\" width=\"1\"></rect><g></g></g><g><rect x=\"3\" y=\"7\" class=\"light-square\" height=\"1\" width=\"1\"></rect><image x=\"3\" xlink:href=\"https://raw.githubusercontent.com/romstad/Chess.jl/master/img/wq.svg\" y=\"7\" height=\"1\" width=\"1\"></image></g><g><rect x=\"4\" y=\"0\" class=\"light-square\" height=\"1\" width=\"1\"></rect><image x=\"4\" xlink:href=\"https://raw.githubusercontent.com/romstad/Chess.jl/master/img/bk.svg\" y=\"0\" height=\"1\" width=\"1\"></image></g><g><rect x=\"4\" y=\"1\" class=\"dark-square\" height=\"1\" width=\"1\"></rect><g></g></g><g><rect x=\"4\" y=\"2\" class=\"light-square\" height=\"1\" width=\"1\"></rect><g></g></g><g><rect x=\"4\" y=\"3\" class=\"dark-square\" height=\"1\" width=\"1\"></rect><image x=\"4\" xlink:href=\"https://raw.githubusercontent.com/romstad/Chess.jl/master/img/bp.svg\" y=\"3\" height=\"1\" width=\"1\"></image></g><g><rect x=\"4\" y=\"4\" class=\"light-square\" height=\"1\" width=\"1\"></rect><image x=\"4\" xlink:href=\"https://raw.githubusercontent.com/romstad/Chess.jl/master/img/wp.svg\" y=\"4\" height=\"1\" width=\"1\"></image></g><g><rect x=\"4\" y=\"5\" class=\"dark-square\" height=\"1\" width=\"1\"></rect><g></g></g><g><rect x=\"4\" y=\"6\" class=\"light-square\" height=\"1\" width=\"1\"></rect><g></g></g><g><rect x=\"4\" y=\"7\" class=\"dark-square\" height=\"1\" width=\"1\"></rect><image x=\"4\" xlink:href=\"https://raw.githubusercontent.com/romstad/Chess.jl/master/img/wk.svg\" y=\"7\" height=\"1\" width=\"1\"></image></g><g><rect x=\"5\" y=\"0\" class=\"dark-square\" height=\"1\" width=\"1\"></rect><image x=\"5\" xlink:href=\"https://raw.githubusercontent.com/romstad/Chess.jl/master/img/bb.svg\" y=\"0\" height=\"1\" width=\"1\"></image></g><g><rect x=\"5\" y=\"1\" class=\"light-square\" height=\"1\" width=\"1\"></rect><image x=\"5\" xlink:href=\"https://raw.githubusercontent.com/romstad/Chess.jl/master/img/bp.svg\" y=\"1\" height=\"1\" width=\"1\"></image></g><g><rect x=\"5\" y=\"2\" class=\"dark-square\" height=\"1\" width=\"1\"></rect><g></g></g><g><rect x=\"5\" y=\"3\" class=\"light-square\" height=\"1\" width=\"1\"></rect><g></g></g><g><rect x=\"5\" y=\"4\" class=\"dark-square\" height=\"1\" width=\"1\"></rect><g></g></g><g><rect x=\"5\" y=\"5\" class=\"light-square\" height=\"1\" width=\"1\"></rect><image x=\"5\" xlink:href=\"https://raw.githubusercontent.com/romstad/Chess.jl/master/img/wn.svg\" y=\"5\" height=\"1\" width=\"1\"></image></g><g><rect x=\"5\" y=\"6\" class=\"dark-square\" height=\"1\" width=\"1\"></rect><image x=\"5\" xlink:href=\"https://raw.githubusercontent.com/romstad/Chess.jl/master/img/wp.svg\" y=\"6\" height=\"1\" width=\"1\"></image></g><g><rect x=\"5\" y=\"7\" class=\"light-square\" height=\"1\" width=\"1\"></rect><g></g></g><g><rect x=\"6\" y=\"0\" class=\"light-square\" height=\"1\" width=\"1\"></rect><image x=\"6\" xlink:href=\"https://raw.githubusercontent.com/romstad/Chess.jl/master/img/bn.svg\" y=\"0\" height=\"1\" width=\"1\"></image></g><g><rect x=\"6\" y=\"1\" class=\"dark-square\" height=\"1\" width=\"1\"></rect><image x=\"6\" xlink:href=\"https://raw.githubusercontent.com/romstad/Chess.jl/master/img/bp.svg\" y=\"1\" height=\"1\" width=\"1\"></image></g><g><rect x=\"6\" y=\"2\" class=\"light-square\" height=\"1\" width=\"1\"></rect><image x=\"6\" xlink:href=\"https://raw.githubusercontent.com/romstad/Chess.jl/master/img/bn.svg\" y=\"2\" height=\"1\" width=\"1\"></image></g><g><rect x=\"6\" y=\"3\" class=\"dark-square\" height=\"1\" width=\"1\"></rect><g></g></g><g><rect x=\"6\" y=\"4\" class=\"light-square\" height=\"1\" width=\"1\"></rect><g></g></g><g><rect x=\"6\" y=\"5\" class=\"dark-square\" height=\"1\" width=\"1\"></rect><g></g></g><g><rect x=\"6\" y=\"6\" class=\"light-square\" height=\"1\" width=\"1\"></rect><image x=\"6\" xlink:href=\"https://raw.githubusercontent.com/romstad/Chess.jl/master/img/wp.svg\" y=\"6\" height=\"1\" width=\"1\"></image></g><g><rect x=\"6\" y=\"7\" class=\"dark-square\" height=\"1\" width=\"1\"></rect><g></g></g><g><rect x=\"7\" y=\"0\" class=\"dark-square\" height=\"1\" width=\"1\"></rect><image x=\"7\" xlink:href=\"https://raw.githubusercontent.com/romstad/Chess.jl/master/img/br.svg\" y=\"0\" height=\"1\" width=\"1\"></image></g><g><rect x=\"7\" y=\"1\" class=\"light-square\" height=\"1\" width=\"1\"></rect><image x=\"7\" xlink:href=\"https://raw.githubusercontent.com/romstad/Chess.jl/master/img/bp.svg\" y=\"1\" height=\"1\" width=\"1\"></image></g><g><rect x=\"7\" y=\"2\" class=\"dark-square\" height=\"1\" width=\"1\"></rect><g></g></g><g><rect x=\"7\" y=\"3\" class=\"light-square\" height=\"1\" width=\"1\"></rect><g></g></g><g><rect x=\"7\" y=\"4\" class=\"dark-square\" height=\"1\" width=\"1\"></rect><g></g></g><g><rect x=\"7\" y=\"5\" class=\"light-square\" height=\"1\" width=\"1\"></rect><g></g></g><g><rect x=\"7\" y=\"6\" class=\"dark-square\" height=\"1\" width=\"1\"></rect><image x=\"7\" xlink:href=\"https://raw.githubusercontent.com/romstad/Chess.jl/master/img/wp.svg\" y=\"6\" height=\"1\" width=\"1\"></image></g><g><rect x=\"7\" y=\"7\" class=\"light-square\" height=\"1\" width=\"1\"></rect><image x=\"7\" xlink:href=\"https://raw.githubusercontent.com/romstad/Chess.jl/master/img/wr.svg\" y=\"7\" height=\"1\" width=\"1\"></image></g></g><g></g></svg><div><p>White to move</p><p>Castle rights: KQkq</p><p><a href=\"https://lichess.org/editor/r1bqkbnr/p2p1ppp/2pP2n1/1p2p3/2B1P3/5N2/PPP2PPP/RNBQK2R_w_KQkq_-\" target=\"_blank\">Open in lichess</a></p></div></div>"
      ],
      "text/plain": [
       "Board (r1bqkbnr/p2p1ppp/2pP2n1/1p2p3/2B1P3/5N2/PPP2PPP/RNBQK2R w KQkq -):\n",
       " r  -  b  q  k  b  n  r \n",
       " p  -  -  p  -  p  p  p \n",
       " -  -  p  P  -  -  n  - \n",
       " -  p  -  -  p  -  -  - \n",
       " -  -  B  -  P  -  -  - \n",
       " -  -  -  -  -  N  -  - \n",
       " P  P  P  -  -  P  P  P \n",
       " R  N  B  Q  K  -  -  R "
      ]
     },
     "metadata": {},
     "output_type": "display_data"
    },
    {
     "name": "stdout",
     "output_type": "stream",
     "text": [
      "Make a move. Type 'resign' to resign from the match\n",
      "stdin> c4b3\n",
      "Cleared Cache with 0\n"
     ]
    },
    {
     "data": {
      "text/html": [
       "Board:<div class=\"chessboard\"><style soped=\"true\">.dark-square {\n",
       "    fill: #c3936a;\n",
       "    stroke-width: 0;\n",
       "}\n",
       ".light-square {\n",
       "    fill: #ffd7a6;\n",
       "    stroke-width: 0;\n",
       "}\n",
       ".highlight {\n",
       "    fill: #47d18b;\n",
       "}\n",
       "@media (prefers-color-scheme: dark) {\n",
       "    .dark-square {\n",
       "        fill: #00796b;\n",
       "    }\n",
       "    .light-square {\n",
       "        fill: #3ca59b;\n",
       "    }\n",
       "    .highlight {\n",
       "        fill: #d23600;\n",
       "    }\n",
       "}\n",
       "</style><svg style=\"float: left; margin-right: 20px\" viewBox=\"0 0 8 8\" height=\"280\" width=\"280\"><g><g><rect x=\"0\" y=\"0\" class=\"light-square\" height=\"1\" width=\"1\"></rect><image x=\"0\" xlink:href=\"https://raw.githubusercontent.com/romstad/Chess.jl/master/img/br.svg\" y=\"0\" height=\"1\" width=\"1\"></image></g><g><rect x=\"0\" y=\"1\" class=\"dark-square\" height=\"1\" width=\"1\"></rect><image x=\"0\" xlink:href=\"https://raw.githubusercontent.com/romstad/Chess.jl/master/img/bp.svg\" y=\"1\" height=\"1\" width=\"1\"></image></g><g><rect x=\"0\" y=\"2\" class=\"light-square\" height=\"1\" width=\"1\"></rect><g></g></g><g><rect x=\"0\" y=\"3\" class=\"dark-square\" height=\"1\" width=\"1\"></rect><g></g></g><g><rect x=\"0\" y=\"4\" class=\"light-square\" height=\"1\" width=\"1\"></rect><g></g></g><g><rect x=\"0\" y=\"5\" class=\"dark-square\" height=\"1\" width=\"1\"></rect><g></g></g><g><rect x=\"0\" y=\"6\" class=\"light-square\" height=\"1\" width=\"1\"></rect><image x=\"0\" xlink:href=\"https://raw.githubusercontent.com/romstad/Chess.jl/master/img/wp.svg\" y=\"6\" height=\"1\" width=\"1\"></image></g><g><rect x=\"0\" y=\"7\" class=\"dark-square\" height=\"1\" width=\"1\"></rect><image x=\"0\" xlink:href=\"https://raw.githubusercontent.com/romstad/Chess.jl/master/img/wr.svg\" y=\"7\" height=\"1\" width=\"1\"></image></g><g><rect x=\"1\" y=\"0\" class=\"dark-square\" height=\"1\" width=\"1\"></rect><g></g></g><g><rect x=\"1\" y=\"1\" class=\"light-square\" height=\"1\" width=\"1\"></rect><g></g></g><g><rect x=\"1\" y=\"2\" class=\"dark-square\" height=\"1\" width=\"1\"></rect><g></g></g><g><rect x=\"1\" y=\"3\" class=\"light-square\" height=\"1\" width=\"1\"></rect><image x=\"1\" xlink:href=\"https://raw.githubusercontent.com/romstad/Chess.jl/master/img/bp.svg\" y=\"3\" height=\"1\" width=\"1\"></image></g><g><rect x=\"1\" y=\"4\" class=\"dark-square\" height=\"1\" width=\"1\"></rect><g></g></g><g><rect x=\"1\" y=\"5\" class=\"light-square\" height=\"1\" width=\"1\"></rect><image x=\"1\" xlink:href=\"https://raw.githubusercontent.com/romstad/Chess.jl/master/img/wb.svg\" y=\"5\" height=\"1\" width=\"1\"></image></g><g><rect x=\"1\" y=\"6\" class=\"dark-square\" height=\"1\" width=\"1\"></rect><image x=\"1\" xlink:href=\"https://raw.githubusercontent.com/romstad/Chess.jl/master/img/wp.svg\" y=\"6\" height=\"1\" width=\"1\"></image></g><g><rect x=\"1\" y=\"7\" class=\"light-square\" height=\"1\" width=\"1\"></rect><image x=\"1\" xlink:href=\"https://raw.githubusercontent.com/romstad/Chess.jl/master/img/wn.svg\" y=\"7\" height=\"1\" width=\"1\"></image></g><g><rect x=\"2\" y=\"0\" class=\"light-square\" height=\"1\" width=\"1\"></rect><image x=\"2\" xlink:href=\"https://raw.githubusercontent.com/romstad/Chess.jl/master/img/bb.svg\" y=\"0\" height=\"1\" width=\"1\"></image></g><g><rect x=\"2\" y=\"1\" class=\"dark-square\" height=\"1\" width=\"1\"></rect><g></g></g><g><rect x=\"2\" y=\"2\" class=\"light-square\" height=\"1\" width=\"1\"></rect><image x=\"2\" xlink:href=\"https://raw.githubusercontent.com/romstad/Chess.jl/master/img/bp.svg\" y=\"2\" height=\"1\" width=\"1\"></image></g><g><rect x=\"2\" y=\"3\" class=\"dark-square\" height=\"1\" width=\"1\"></rect><g></g></g><g><rect x=\"2\" y=\"4\" class=\"light-square\" height=\"1\" width=\"1\"></rect><g></g></g><g><rect x=\"2\" y=\"5\" class=\"dark-square\" height=\"1\" width=\"1\"></rect><g></g></g><g><rect x=\"2\" y=\"6\" class=\"light-square\" height=\"1\" width=\"1\"></rect><image x=\"2\" xlink:href=\"https://raw.githubusercontent.com/romstad/Chess.jl/master/img/wp.svg\" y=\"6\" height=\"1\" width=\"1\"></image></g><g><rect x=\"2\" y=\"7\" class=\"dark-square\" height=\"1\" width=\"1\"></rect><image x=\"2\" xlink:href=\"https://raw.githubusercontent.com/romstad/Chess.jl/master/img/wb.svg\" y=\"7\" height=\"1\" width=\"1\"></image></g><g><rect x=\"3\" y=\"0\" class=\"dark-square\" height=\"1\" width=\"1\"></rect><image x=\"3\" xlink:href=\"https://raw.githubusercontent.com/romstad/Chess.jl/master/img/bq.svg\" y=\"0\" height=\"1\" width=\"1\"></image></g><g><rect x=\"3\" y=\"1\" class=\"light-square\" height=\"1\" width=\"1\"></rect><image x=\"3\" xlink:href=\"https://raw.githubusercontent.com/romstad/Chess.jl/master/img/bp.svg\" y=\"1\" height=\"1\" width=\"1\"></image></g><g><rect x=\"3\" y=\"2\" class=\"dark-square\" height=\"1\" width=\"1\"></rect><image x=\"3\" xlink:href=\"https://raw.githubusercontent.com/romstad/Chess.jl/master/img/wp.svg\" y=\"2\" height=\"1\" width=\"1\"></image></g><g><rect x=\"3\" y=\"3\" class=\"light-square\" height=\"1\" width=\"1\"></rect><g></g></g><g><rect x=\"3\" y=\"4\" class=\"dark-square\" height=\"1\" width=\"1\"></rect><g></g></g><g><rect x=\"3\" y=\"5\" class=\"light-square\" height=\"1\" width=\"1\"></rect><g></g></g><g><rect x=\"3\" y=\"6\" class=\"dark-square\" height=\"1\" width=\"1\"></rect><g></g></g><g><rect x=\"3\" y=\"7\" class=\"light-square\" height=\"1\" width=\"1\"></rect><image x=\"3\" xlink:href=\"https://raw.githubusercontent.com/romstad/Chess.jl/master/img/wq.svg\" y=\"7\" height=\"1\" width=\"1\"></image></g><g><rect x=\"4\" y=\"0\" class=\"light-square\" height=\"1\" width=\"1\"></rect><image x=\"4\" xlink:href=\"https://raw.githubusercontent.com/romstad/Chess.jl/master/img/bk.svg\" y=\"0\" height=\"1\" width=\"1\"></image></g><g><rect x=\"4\" y=\"1\" class=\"dark-square\" height=\"1\" width=\"1\"></rect><g></g></g><g><rect x=\"4\" y=\"2\" class=\"light-square\" height=\"1\" width=\"1\"></rect><g></g></g><g><rect x=\"4\" y=\"3\" class=\"dark-square\" height=\"1\" width=\"1\"></rect><image x=\"4\" xlink:href=\"https://raw.githubusercontent.com/romstad/Chess.jl/master/img/bp.svg\" y=\"3\" height=\"1\" width=\"1\"></image></g><g><rect x=\"4\" y=\"4\" class=\"light-square\" height=\"1\" width=\"1\"></rect><image x=\"4\" xlink:href=\"https://raw.githubusercontent.com/romstad/Chess.jl/master/img/wp.svg\" y=\"4\" height=\"1\" width=\"1\"></image></g><g><rect x=\"4\" y=\"5\" class=\"dark-square\" height=\"1\" width=\"1\"></rect><g></g></g><g><rect x=\"4\" y=\"6\" class=\"light-square\" height=\"1\" width=\"1\"></rect><g></g></g><g><rect x=\"4\" y=\"7\" class=\"dark-square\" height=\"1\" width=\"1\"></rect><image x=\"4\" xlink:href=\"https://raw.githubusercontent.com/romstad/Chess.jl/master/img/wk.svg\" y=\"7\" height=\"1\" width=\"1\"></image></g><g><rect x=\"5\" y=\"0\" class=\"dark-square\" height=\"1\" width=\"1\"></rect><image x=\"5\" xlink:href=\"https://raw.githubusercontent.com/romstad/Chess.jl/master/img/bb.svg\" y=\"0\" height=\"1\" width=\"1\"></image></g><g><rect x=\"5\" y=\"1\" class=\"light-square\" height=\"1\" width=\"1\"></rect><image x=\"5\" xlink:href=\"https://raw.githubusercontent.com/romstad/Chess.jl/master/img/bp.svg\" y=\"1\" height=\"1\" width=\"1\"></image></g><g><rect x=\"5\" y=\"2\" class=\"dark-square\" height=\"1\" width=\"1\"></rect><g></g></g><g><rect x=\"5\" y=\"3\" class=\"light-square\" height=\"1\" width=\"1\"></rect><g></g></g><g><rect x=\"5\" y=\"4\" class=\"dark-square\" height=\"1\" width=\"1\"></rect><g></g></g><g><rect x=\"5\" y=\"5\" class=\"light-square\" height=\"1\" width=\"1\"></rect><image x=\"5\" xlink:href=\"https://raw.githubusercontent.com/romstad/Chess.jl/master/img/wn.svg\" y=\"5\" height=\"1\" width=\"1\"></image></g><g><rect x=\"5\" y=\"6\" class=\"dark-square\" height=\"1\" width=\"1\"></rect><image x=\"5\" xlink:href=\"https://raw.githubusercontent.com/romstad/Chess.jl/master/img/wp.svg\" y=\"6\" height=\"1\" width=\"1\"></image></g><g><rect x=\"5\" y=\"7\" class=\"light-square\" height=\"1\" width=\"1\"></rect><g></g></g><g><rect x=\"6\" y=\"0\" class=\"light-square\" height=\"1\" width=\"1\"></rect><image x=\"6\" xlink:href=\"https://raw.githubusercontent.com/romstad/Chess.jl/master/img/bn.svg\" y=\"0\" height=\"1\" width=\"1\"></image></g><g><rect x=\"6\" y=\"1\" class=\"dark-square\" height=\"1\" width=\"1\"></rect><image x=\"6\" xlink:href=\"https://raw.githubusercontent.com/romstad/Chess.jl/master/img/bp.svg\" y=\"1\" height=\"1\" width=\"1\"></image></g><g><rect x=\"6\" y=\"2\" class=\"light-square\" height=\"1\" width=\"1\"></rect><image x=\"6\" xlink:href=\"https://raw.githubusercontent.com/romstad/Chess.jl/master/img/bn.svg\" y=\"2\" height=\"1\" width=\"1\"></image></g><g><rect x=\"6\" y=\"3\" class=\"dark-square\" height=\"1\" width=\"1\"></rect><g></g></g><g><rect x=\"6\" y=\"4\" class=\"light-square\" height=\"1\" width=\"1\"></rect><g></g></g><g><rect x=\"6\" y=\"5\" class=\"dark-square\" height=\"1\" width=\"1\"></rect><g></g></g><g><rect x=\"6\" y=\"6\" class=\"light-square\" height=\"1\" width=\"1\"></rect><image x=\"6\" xlink:href=\"https://raw.githubusercontent.com/romstad/Chess.jl/master/img/wp.svg\" y=\"6\" height=\"1\" width=\"1\"></image></g><g><rect x=\"6\" y=\"7\" class=\"dark-square\" height=\"1\" width=\"1\"></rect><g></g></g><g><rect x=\"7\" y=\"0\" class=\"dark-square\" height=\"1\" width=\"1\"></rect><image x=\"7\" xlink:href=\"https://raw.githubusercontent.com/romstad/Chess.jl/master/img/br.svg\" y=\"0\" height=\"1\" width=\"1\"></image></g><g><rect x=\"7\" y=\"1\" class=\"light-square\" height=\"1\" width=\"1\"></rect><image x=\"7\" xlink:href=\"https://raw.githubusercontent.com/romstad/Chess.jl/master/img/bp.svg\" y=\"1\" height=\"1\" width=\"1\"></image></g><g><rect x=\"7\" y=\"2\" class=\"dark-square\" height=\"1\" width=\"1\"></rect><g></g></g><g><rect x=\"7\" y=\"3\" class=\"light-square\" height=\"1\" width=\"1\"></rect><g></g></g><g><rect x=\"7\" y=\"4\" class=\"dark-square\" height=\"1\" width=\"1\"></rect><g></g></g><g><rect x=\"7\" y=\"5\" class=\"light-square\" height=\"1\" width=\"1\"></rect><g></g></g><g><rect x=\"7\" y=\"6\" class=\"dark-square\" height=\"1\" width=\"1\"></rect><image x=\"7\" xlink:href=\"https://raw.githubusercontent.com/romstad/Chess.jl/master/img/wp.svg\" y=\"6\" height=\"1\" width=\"1\"></image></g><g><rect x=\"7\" y=\"7\" class=\"light-square\" height=\"1\" width=\"1\"></rect><image x=\"7\" xlink:href=\"https://raw.githubusercontent.com/romstad/Chess.jl/master/img/wr.svg\" y=\"7\" height=\"1\" width=\"1\"></image></g></g><g></g></svg><div><p>Black to move</p><p>Castle rights: KQkq</p><p><a href=\"https://lichess.org/editor/r1bqkbnr/p2p1ppp/2pP2n1/1p2p3/4P3/1B3N2/PPP2PPP/RNBQK2R_b_KQkq_-\" target=\"_blank\">Open in lichess</a></p></div></div>"
      ],
      "text/plain": [
       "Board (r1bqkbnr/p2p1ppp/2pP2n1/1p2p3/4P3/1B3N2/PPP2PPP/RNBQK2R b KQkq -):\n",
       " r  -  b  q  k  b  n  r \n",
       " p  -  -  p  -  p  p  p \n",
       " -  -  p  P  -  -  n  - \n",
       " -  p  -  -  p  -  -  - \n",
       " -  -  -  -  P  -  -  - \n",
       " -  B  -  -  -  N  -  - \n",
       " P  P  P  -  -  P  P  P \n",
       " R  N  B  Q  K  -  -  R "
      ]
     },
     "metadata": {},
     "output_type": "display_data"
    },
    {
     "name": "stdout",
     "output_type": "stream",
     "text": [
      "Evaluation of engine: 200.0\n",
      "Current board score: 105\n",
      "Current entries in Cache: 6305\n",
      "Cleared Cache with 6305\n",
      "  5.518300 seconds (20.55 M allocations: 1.136 GiB, 3.93% gc time)\n"
     ]
    },
    {
     "data": {
      "text/html": [
       "Board:<div class=\"chessboard\"><style soped=\"true\">.dark-square {\n",
       "    fill: #c3936a;\n",
       "    stroke-width: 0;\n",
       "}\n",
       ".light-square {\n",
       "    fill: #ffd7a6;\n",
       "    stroke-width: 0;\n",
       "}\n",
       ".highlight {\n",
       "    fill: #47d18b;\n",
       "}\n",
       "@media (prefers-color-scheme: dark) {\n",
       "    .dark-square {\n",
       "        fill: #00796b;\n",
       "    }\n",
       "    .light-square {\n",
       "        fill: #3ca59b;\n",
       "    }\n",
       "    .highlight {\n",
       "        fill: #d23600;\n",
       "    }\n",
       "}\n",
       "</style><svg style=\"float: left; margin-right: 20px\" viewBox=\"0 0 8 8\" height=\"280\" width=\"280\"><g><g><rect x=\"0\" y=\"0\" class=\"light-square\" height=\"1\" width=\"1\"></rect><image x=\"0\" xlink:href=\"https://raw.githubusercontent.com/romstad/Chess.jl/master/img/br.svg\" y=\"0\" height=\"1\" width=\"1\"></image></g><g><rect x=\"0\" y=\"1\" class=\"dark-square\" height=\"1\" width=\"1\"></rect><image x=\"0\" xlink:href=\"https://raw.githubusercontent.com/romstad/Chess.jl/master/img/bp.svg\" y=\"1\" height=\"1\" width=\"1\"></image></g><g><rect x=\"0\" y=\"2\" class=\"light-square\" height=\"1\" width=\"1\"></rect><g></g></g><g><rect x=\"0\" y=\"3\" class=\"dark-square\" height=\"1\" width=\"1\"></rect><g></g></g><g><rect x=\"0\" y=\"4\" class=\"light-square\" height=\"1\" width=\"1\"></rect><g></g></g><g><rect x=\"0\" y=\"5\" class=\"dark-square\" height=\"1\" width=\"1\"></rect><g></g></g><g><rect x=\"0\" y=\"6\" class=\"light-square\" height=\"1\" width=\"1\"></rect><image x=\"0\" xlink:href=\"https://raw.githubusercontent.com/romstad/Chess.jl/master/img/wp.svg\" y=\"6\" height=\"1\" width=\"1\"></image></g><g><rect x=\"0\" y=\"7\" class=\"dark-square\" height=\"1\" width=\"1\"></rect><image x=\"0\" xlink:href=\"https://raw.githubusercontent.com/romstad/Chess.jl/master/img/wr.svg\" y=\"7\" height=\"1\" width=\"1\"></image></g><g><rect x=\"1\" y=\"0\" class=\"dark-square\" height=\"1\" width=\"1\"></rect><g></g></g><g><rect x=\"1\" y=\"1\" class=\"light-square\" height=\"1\" width=\"1\"></rect><g></g></g><g><rect x=\"1\" y=\"2\" class=\"dark-square\" height=\"1\" width=\"1\"></rect><g></g></g><g><rect x=\"1\" y=\"3\" class=\"light-square\" height=\"1\" width=\"1\"></rect><image x=\"1\" xlink:href=\"https://raw.githubusercontent.com/romstad/Chess.jl/master/img/bp.svg\" y=\"3\" height=\"1\" width=\"1\"></image></g><g><rect x=\"1\" y=\"4\" class=\"dark-square\" height=\"1\" width=\"1\"></rect><g></g></g><g><rect x=\"1\" y=\"5\" class=\"light-square\" height=\"1\" width=\"1\"></rect><image x=\"1\" xlink:href=\"https://raw.githubusercontent.com/romstad/Chess.jl/master/img/wb.svg\" y=\"5\" height=\"1\" width=\"1\"></image></g><g><rect x=\"1\" y=\"6\" class=\"dark-square\" height=\"1\" width=\"1\"></rect><image x=\"1\" xlink:href=\"https://raw.githubusercontent.com/romstad/Chess.jl/master/img/wp.svg\" y=\"6\" height=\"1\" width=\"1\"></image></g><g><rect x=\"1\" y=\"7\" class=\"light-square\" height=\"1\" width=\"1\"></rect><image x=\"1\" xlink:href=\"https://raw.githubusercontent.com/romstad/Chess.jl/master/img/wn.svg\" y=\"7\" height=\"1\" width=\"1\"></image></g><g><rect x=\"2\" y=\"0\" class=\"light-square\" height=\"1\" width=\"1\"></rect><image x=\"2\" xlink:href=\"https://raw.githubusercontent.com/romstad/Chess.jl/master/img/bb.svg\" y=\"0\" height=\"1\" width=\"1\"></image></g><g><rect x=\"2\" y=\"1\" class=\"dark-square\" height=\"1\" width=\"1\"></rect><g></g></g><g><rect x=\"2\" y=\"2\" class=\"light-square\" height=\"1\" width=\"1\"></rect><image x=\"2\" xlink:href=\"https://raw.githubusercontent.com/romstad/Chess.jl/master/img/bp.svg\" y=\"2\" height=\"1\" width=\"1\"></image></g><g><rect x=\"2\" y=\"3\" class=\"dark-square\" height=\"1\" width=\"1\"></rect><g></g></g><g><rect x=\"2\" y=\"4\" class=\"light-square\" height=\"1\" width=\"1\"></rect><g></g></g><g><rect x=\"2\" y=\"5\" class=\"dark-square\" height=\"1\" width=\"1\"></rect><g></g></g><g><rect x=\"2\" y=\"6\" class=\"light-square\" height=\"1\" width=\"1\"></rect><image x=\"2\" xlink:href=\"https://raw.githubusercontent.com/romstad/Chess.jl/master/img/wp.svg\" y=\"6\" height=\"1\" width=\"1\"></image></g><g><rect x=\"2\" y=\"7\" class=\"dark-square\" height=\"1\" width=\"1\"></rect><image x=\"2\" xlink:href=\"https://raw.githubusercontent.com/romstad/Chess.jl/master/img/wb.svg\" y=\"7\" height=\"1\" width=\"1\"></image></g><g><rect x=\"3\" y=\"0\" class=\"dark-square\" height=\"1\" width=\"1\"></rect><image x=\"3\" xlink:href=\"https://raw.githubusercontent.com/romstad/Chess.jl/master/img/bq.svg\" y=\"0\" height=\"1\" width=\"1\"></image></g><g><rect x=\"3\" y=\"1\" class=\"light-square\" height=\"1\" width=\"1\"></rect><image x=\"3\" xlink:href=\"https://raw.githubusercontent.com/romstad/Chess.jl/master/img/bp.svg\" y=\"1\" height=\"1\" width=\"1\"></image></g><g><rect x=\"3\" y=\"2\" class=\"dark-square\" height=\"1\" width=\"1\"></rect><image x=\"3\" xlink:href=\"https://raw.githubusercontent.com/romstad/Chess.jl/master/img/wp.svg\" y=\"2\" height=\"1\" width=\"1\"></image></g><g><rect x=\"3\" y=\"3\" class=\"light-square\" height=\"1\" width=\"1\"></rect><g></g></g><g><rect x=\"3\" y=\"4\" class=\"dark-square\" height=\"1\" width=\"1\"></rect><g></g></g><g><rect x=\"3\" y=\"5\" class=\"light-square\" height=\"1\" width=\"1\"></rect><g></g></g><g><rect x=\"3\" y=\"6\" class=\"dark-square\" height=\"1\" width=\"1\"></rect><g></g></g><g><rect x=\"3\" y=\"7\" class=\"light-square\" height=\"1\" width=\"1\"></rect><image x=\"3\" xlink:href=\"https://raw.githubusercontent.com/romstad/Chess.jl/master/img/wq.svg\" y=\"7\" height=\"1\" width=\"1\"></image></g><g><rect x=\"4\" y=\"0\" class=\"light-square\" height=\"1\" width=\"1\"></rect><image x=\"4\" xlink:href=\"https://raw.githubusercontent.com/romstad/Chess.jl/master/img/bk.svg\" y=\"0\" height=\"1\" width=\"1\"></image></g><g><rect x=\"4\" y=\"1\" class=\"dark-square\" height=\"1\" width=\"1\"></rect><g></g></g><g><rect x=\"4\" y=\"2\" class=\"light-square\" height=\"1\" width=\"1\"></rect><g></g></g><g><rect x=\"4\" y=\"3\" class=\"dark-square\" height=\"1\" width=\"1\"></rect><image x=\"4\" xlink:href=\"https://raw.githubusercontent.com/romstad/Chess.jl/master/img/bp.svg\" y=\"3\" height=\"1\" width=\"1\"></image></g><g><rect x=\"4\" y=\"4\" class=\"light-square\" height=\"1\" width=\"1\"></rect><image x=\"4\" xlink:href=\"https://raw.githubusercontent.com/romstad/Chess.jl/master/img/wp.svg\" y=\"4\" height=\"1\" width=\"1\"></image></g><g><rect x=\"4\" y=\"5\" class=\"dark-square\" height=\"1\" width=\"1\"></rect><g></g></g><g><rect x=\"4\" y=\"6\" class=\"light-square\" height=\"1\" width=\"1\"></rect><g></g></g><g><rect x=\"4\" y=\"7\" class=\"dark-square\" height=\"1\" width=\"1\"></rect><image x=\"4\" xlink:href=\"https://raw.githubusercontent.com/romstad/Chess.jl/master/img/wk.svg\" y=\"7\" height=\"1\" width=\"1\"></image></g><g><rect x=\"5\" y=\"0\" class=\"dark-square\" height=\"1\" width=\"1\"></rect><image x=\"5\" xlink:href=\"https://raw.githubusercontent.com/romstad/Chess.jl/master/img/bb.svg\" y=\"0\" height=\"1\" width=\"1\"></image></g><g><rect x=\"5\" y=\"1\" class=\"light-square\" height=\"1\" width=\"1\"></rect><image x=\"5\" xlink:href=\"https://raw.githubusercontent.com/romstad/Chess.jl/master/img/bp.svg\" y=\"1\" height=\"1\" width=\"1\"></image></g><g><rect x=\"5\" y=\"2\" class=\"dark-square\" height=\"1\" width=\"1\"></rect><g></g></g><g><rect x=\"5\" y=\"3\" class=\"light-square\" height=\"1\" width=\"1\"></rect><g></g></g><g><rect x=\"5\" y=\"4\" class=\"dark-square\" height=\"1\" width=\"1\"></rect><g></g></g><g><rect x=\"5\" y=\"5\" class=\"light-square\" height=\"1\" width=\"1\"></rect><image x=\"5\" xlink:href=\"https://raw.githubusercontent.com/romstad/Chess.jl/master/img/wn.svg\" y=\"5\" height=\"1\" width=\"1\"></image></g><g><rect x=\"5\" y=\"6\" class=\"dark-square\" height=\"1\" width=\"1\"></rect><image x=\"5\" xlink:href=\"https://raw.githubusercontent.com/romstad/Chess.jl/master/img/wp.svg\" y=\"6\" height=\"1\" width=\"1\"></image></g><g><rect x=\"5\" y=\"7\" class=\"light-square\" height=\"1\" width=\"1\"></rect><g></g></g><g><rect x=\"6\" y=\"0\" class=\"light-square\" height=\"1\" width=\"1\"></rect><image x=\"6\" xlink:href=\"https://raw.githubusercontent.com/romstad/Chess.jl/master/img/bn.svg\" y=\"0\" height=\"1\" width=\"1\"></image></g><g><rect x=\"6\" y=\"1\" class=\"dark-square\" height=\"1\" width=\"1\"></rect><image x=\"6\" xlink:href=\"https://raw.githubusercontent.com/romstad/Chess.jl/master/img/bp.svg\" y=\"1\" height=\"1\" width=\"1\"></image></g><g><rect x=\"6\" y=\"2\" class=\"light-square\" height=\"1\" width=\"1\"></rect><g></g></g><g><rect x=\"6\" y=\"3\" class=\"dark-square\" height=\"1\" width=\"1\"></rect><g></g></g><g><rect x=\"6\" y=\"4\" class=\"light-square\" height=\"1\" width=\"1\"></rect><g></g></g><g><rect x=\"6\" y=\"5\" class=\"dark-square\" height=\"1\" width=\"1\"></rect><g></g></g><g><rect x=\"6\" y=\"6\" class=\"light-square\" height=\"1\" width=\"1\"></rect><image x=\"6\" xlink:href=\"https://raw.githubusercontent.com/romstad/Chess.jl/master/img/wp.svg\" y=\"6\" height=\"1\" width=\"1\"></image></g><g><rect x=\"6\" y=\"7\" class=\"dark-square\" height=\"1\" width=\"1\"></rect><g></g></g><g><rect x=\"7\" y=\"0\" class=\"dark-square\" height=\"1\" width=\"1\"></rect><image x=\"7\" xlink:href=\"https://raw.githubusercontent.com/romstad/Chess.jl/master/img/br.svg\" y=\"0\" height=\"1\" width=\"1\"></image></g><g><rect x=\"7\" y=\"1\" class=\"light-square\" height=\"1\" width=\"1\"></rect><image x=\"7\" xlink:href=\"https://raw.githubusercontent.com/romstad/Chess.jl/master/img/bp.svg\" y=\"1\" height=\"1\" width=\"1\"></image></g><g><rect x=\"7\" y=\"2\" class=\"dark-square\" height=\"1\" width=\"1\"></rect><g></g></g><g><rect x=\"7\" y=\"3\" class=\"light-square\" height=\"1\" width=\"1\"></rect><g></g></g><g><rect x=\"7\" y=\"4\" class=\"dark-square\" height=\"1\" width=\"1\"></rect><image x=\"7\" xlink:href=\"https://raw.githubusercontent.com/romstad/Chess.jl/master/img/bn.svg\" y=\"4\" height=\"1\" width=\"1\"></image></g><g><rect x=\"7\" y=\"5\" class=\"light-square\" height=\"1\" width=\"1\"></rect><g></g></g><g><rect x=\"7\" y=\"6\" class=\"dark-square\" height=\"1\" width=\"1\"></rect><image x=\"7\" xlink:href=\"https://raw.githubusercontent.com/romstad/Chess.jl/master/img/wp.svg\" y=\"6\" height=\"1\" width=\"1\"></image></g><g><rect x=\"7\" y=\"7\" class=\"light-square\" height=\"1\" width=\"1\"></rect><image x=\"7\" xlink:href=\"https://raw.githubusercontent.com/romstad/Chess.jl/master/img/wr.svg\" y=\"7\" height=\"1\" width=\"1\"></image></g></g><g></g></svg><div><p>White to move</p><p>Castle rights: KQkq</p><p><a href=\"https://lichess.org/editor/r1bqkbnr/p2p1ppp/2pP4/1p2p3/4P2n/1B3N2/PPP2PPP/RNBQK2R_w_KQkq_-\" target=\"_blank\">Open in lichess</a></p></div></div>"
      ],
      "text/plain": [
       "Board (r1bqkbnr/p2p1ppp/2pP4/1p2p3/4P2n/1B3N2/PPP2PPP/RNBQK2R w KQkq -):\n",
       " r  -  b  q  k  b  n  r \n",
       " p  -  -  p  -  p  p  p \n",
       " -  -  p  P  -  -  -  - \n",
       " -  p  -  -  p  -  -  - \n",
       " -  -  -  -  P  -  -  n \n",
       " -  B  -  -  -  N  -  - \n",
       " P  P  P  -  -  P  P  P \n",
       " R  N  B  Q  K  -  -  R "
      ]
     },
     "metadata": {},
     "output_type": "display_data"
    },
    {
     "name": "stdout",
     "output_type": "stream",
     "text": [
      "Make a move. Type 'resign' to resign from the match\n",
      "stdin> e1g1\n",
      "Cleared Cache with 0\n"
     ]
    },
    {
     "data": {
      "text/html": [
       "Board:<div class=\"chessboard\"><style soped=\"true\">.dark-square {\n",
       "    fill: #c3936a;\n",
       "    stroke-width: 0;\n",
       "}\n",
       ".light-square {\n",
       "    fill: #ffd7a6;\n",
       "    stroke-width: 0;\n",
       "}\n",
       ".highlight {\n",
       "    fill: #47d18b;\n",
       "}\n",
       "@media (prefers-color-scheme: dark) {\n",
       "    .dark-square {\n",
       "        fill: #00796b;\n",
       "    }\n",
       "    .light-square {\n",
       "        fill: #3ca59b;\n",
       "    }\n",
       "    .highlight {\n",
       "        fill: #d23600;\n",
       "    }\n",
       "}\n",
       "</style><svg style=\"float: left; margin-right: 20px\" viewBox=\"0 0 8 8\" height=\"280\" width=\"280\"><g><g><rect x=\"0\" y=\"0\" class=\"light-square\" height=\"1\" width=\"1\"></rect><image x=\"0\" xlink:href=\"https://raw.githubusercontent.com/romstad/Chess.jl/master/img/br.svg\" y=\"0\" height=\"1\" width=\"1\"></image></g><g><rect x=\"0\" y=\"1\" class=\"dark-square\" height=\"1\" width=\"1\"></rect><image x=\"0\" xlink:href=\"https://raw.githubusercontent.com/romstad/Chess.jl/master/img/bp.svg\" y=\"1\" height=\"1\" width=\"1\"></image></g><g><rect x=\"0\" y=\"2\" class=\"light-square\" height=\"1\" width=\"1\"></rect><g></g></g><g><rect x=\"0\" y=\"3\" class=\"dark-square\" height=\"1\" width=\"1\"></rect><g></g></g><g><rect x=\"0\" y=\"4\" class=\"light-square\" height=\"1\" width=\"1\"></rect><g></g></g><g><rect x=\"0\" y=\"5\" class=\"dark-square\" height=\"1\" width=\"1\"></rect><g></g></g><g><rect x=\"0\" y=\"6\" class=\"light-square\" height=\"1\" width=\"1\"></rect><image x=\"0\" xlink:href=\"https://raw.githubusercontent.com/romstad/Chess.jl/master/img/wp.svg\" y=\"6\" height=\"1\" width=\"1\"></image></g><g><rect x=\"0\" y=\"7\" class=\"dark-square\" height=\"1\" width=\"1\"></rect><image x=\"0\" xlink:href=\"https://raw.githubusercontent.com/romstad/Chess.jl/master/img/wr.svg\" y=\"7\" height=\"1\" width=\"1\"></image></g><g><rect x=\"1\" y=\"0\" class=\"dark-square\" height=\"1\" width=\"1\"></rect><g></g></g><g><rect x=\"1\" y=\"1\" class=\"light-square\" height=\"1\" width=\"1\"></rect><g></g></g><g><rect x=\"1\" y=\"2\" class=\"dark-square\" height=\"1\" width=\"1\"></rect><g></g></g><g><rect x=\"1\" y=\"3\" class=\"light-square\" height=\"1\" width=\"1\"></rect><image x=\"1\" xlink:href=\"https://raw.githubusercontent.com/romstad/Chess.jl/master/img/bp.svg\" y=\"3\" height=\"1\" width=\"1\"></image></g><g><rect x=\"1\" y=\"4\" class=\"dark-square\" height=\"1\" width=\"1\"></rect><g></g></g><g><rect x=\"1\" y=\"5\" class=\"light-square\" height=\"1\" width=\"1\"></rect><image x=\"1\" xlink:href=\"https://raw.githubusercontent.com/romstad/Chess.jl/master/img/wb.svg\" y=\"5\" height=\"1\" width=\"1\"></image></g><g><rect x=\"1\" y=\"6\" class=\"dark-square\" height=\"1\" width=\"1\"></rect><image x=\"1\" xlink:href=\"https://raw.githubusercontent.com/romstad/Chess.jl/master/img/wp.svg\" y=\"6\" height=\"1\" width=\"1\"></image></g><g><rect x=\"1\" y=\"7\" class=\"light-square\" height=\"1\" width=\"1\"></rect><image x=\"1\" xlink:href=\"https://raw.githubusercontent.com/romstad/Chess.jl/master/img/wn.svg\" y=\"7\" height=\"1\" width=\"1\"></image></g><g><rect x=\"2\" y=\"0\" class=\"light-square\" height=\"1\" width=\"1\"></rect><image x=\"2\" xlink:href=\"https://raw.githubusercontent.com/romstad/Chess.jl/master/img/bb.svg\" y=\"0\" height=\"1\" width=\"1\"></image></g><g><rect x=\"2\" y=\"1\" class=\"dark-square\" height=\"1\" width=\"1\"></rect><g></g></g><g><rect x=\"2\" y=\"2\" class=\"light-square\" height=\"1\" width=\"1\"></rect><image x=\"2\" xlink:href=\"https://raw.githubusercontent.com/romstad/Chess.jl/master/img/bp.svg\" y=\"2\" height=\"1\" width=\"1\"></image></g><g><rect x=\"2\" y=\"3\" class=\"dark-square\" height=\"1\" width=\"1\"></rect><g></g></g><g><rect x=\"2\" y=\"4\" class=\"light-square\" height=\"1\" width=\"1\"></rect><g></g></g><g><rect x=\"2\" y=\"5\" class=\"dark-square\" height=\"1\" width=\"1\"></rect><g></g></g><g><rect x=\"2\" y=\"6\" class=\"light-square\" height=\"1\" width=\"1\"></rect><image x=\"2\" xlink:href=\"https://raw.githubusercontent.com/romstad/Chess.jl/master/img/wp.svg\" y=\"6\" height=\"1\" width=\"1\"></image></g><g><rect x=\"2\" y=\"7\" class=\"dark-square\" height=\"1\" width=\"1\"></rect><image x=\"2\" xlink:href=\"https://raw.githubusercontent.com/romstad/Chess.jl/master/img/wb.svg\" y=\"7\" height=\"1\" width=\"1\"></image></g><g><rect x=\"3\" y=\"0\" class=\"dark-square\" height=\"1\" width=\"1\"></rect><image x=\"3\" xlink:href=\"https://raw.githubusercontent.com/romstad/Chess.jl/master/img/bq.svg\" y=\"0\" height=\"1\" width=\"1\"></image></g><g><rect x=\"3\" y=\"1\" class=\"light-square\" height=\"1\" width=\"1\"></rect><image x=\"3\" xlink:href=\"https://raw.githubusercontent.com/romstad/Chess.jl/master/img/bp.svg\" y=\"1\" height=\"1\" width=\"1\"></image></g><g><rect x=\"3\" y=\"2\" class=\"dark-square\" height=\"1\" width=\"1\"></rect><image x=\"3\" xlink:href=\"https://raw.githubusercontent.com/romstad/Chess.jl/master/img/wp.svg\" y=\"2\" height=\"1\" width=\"1\"></image></g><g><rect x=\"3\" y=\"3\" class=\"light-square\" height=\"1\" width=\"1\"></rect><g></g></g><g><rect x=\"3\" y=\"4\" class=\"dark-square\" height=\"1\" width=\"1\"></rect><g></g></g><g><rect x=\"3\" y=\"5\" class=\"light-square\" height=\"1\" width=\"1\"></rect><g></g></g><g><rect x=\"3\" y=\"6\" class=\"dark-square\" height=\"1\" width=\"1\"></rect><g></g></g><g><rect x=\"3\" y=\"7\" class=\"light-square\" height=\"1\" width=\"1\"></rect><image x=\"3\" xlink:href=\"https://raw.githubusercontent.com/romstad/Chess.jl/master/img/wq.svg\" y=\"7\" height=\"1\" width=\"1\"></image></g><g><rect x=\"4\" y=\"0\" class=\"light-square\" height=\"1\" width=\"1\"></rect><image x=\"4\" xlink:href=\"https://raw.githubusercontent.com/romstad/Chess.jl/master/img/bk.svg\" y=\"0\" height=\"1\" width=\"1\"></image></g><g><rect x=\"4\" y=\"1\" class=\"dark-square\" height=\"1\" width=\"1\"></rect><g></g></g><g><rect x=\"4\" y=\"2\" class=\"light-square\" height=\"1\" width=\"1\"></rect><g></g></g><g><rect x=\"4\" y=\"3\" class=\"dark-square\" height=\"1\" width=\"1\"></rect><image x=\"4\" xlink:href=\"https://raw.githubusercontent.com/romstad/Chess.jl/master/img/bp.svg\" y=\"3\" height=\"1\" width=\"1\"></image></g><g><rect x=\"4\" y=\"4\" class=\"light-square\" height=\"1\" width=\"1\"></rect><image x=\"4\" xlink:href=\"https://raw.githubusercontent.com/romstad/Chess.jl/master/img/wp.svg\" y=\"4\" height=\"1\" width=\"1\"></image></g><g><rect x=\"4\" y=\"5\" class=\"dark-square\" height=\"1\" width=\"1\"></rect><g></g></g><g><rect x=\"4\" y=\"6\" class=\"light-square\" height=\"1\" width=\"1\"></rect><g></g></g><g><rect x=\"4\" y=\"7\" class=\"dark-square\" height=\"1\" width=\"1\"></rect><g></g></g><g><rect x=\"5\" y=\"0\" class=\"dark-square\" height=\"1\" width=\"1\"></rect><image x=\"5\" xlink:href=\"https://raw.githubusercontent.com/romstad/Chess.jl/master/img/bb.svg\" y=\"0\" height=\"1\" width=\"1\"></image></g><g><rect x=\"5\" y=\"1\" class=\"light-square\" height=\"1\" width=\"1\"></rect><image x=\"5\" xlink:href=\"https://raw.githubusercontent.com/romstad/Chess.jl/master/img/bp.svg\" y=\"1\" height=\"1\" width=\"1\"></image></g><g><rect x=\"5\" y=\"2\" class=\"dark-square\" height=\"1\" width=\"1\"></rect><g></g></g><g><rect x=\"5\" y=\"3\" class=\"light-square\" height=\"1\" width=\"1\"></rect><g></g></g><g><rect x=\"5\" y=\"4\" class=\"dark-square\" height=\"1\" width=\"1\"></rect><g></g></g><g><rect x=\"5\" y=\"5\" class=\"light-square\" height=\"1\" width=\"1\"></rect><image x=\"5\" xlink:href=\"https://raw.githubusercontent.com/romstad/Chess.jl/master/img/wn.svg\" y=\"5\" height=\"1\" width=\"1\"></image></g><g><rect x=\"5\" y=\"6\" class=\"dark-square\" height=\"1\" width=\"1\"></rect><image x=\"5\" xlink:href=\"https://raw.githubusercontent.com/romstad/Chess.jl/master/img/wp.svg\" y=\"6\" height=\"1\" width=\"1\"></image></g><g><rect x=\"5\" y=\"7\" class=\"light-square\" height=\"1\" width=\"1\"></rect><image x=\"5\" xlink:href=\"https://raw.githubusercontent.com/romstad/Chess.jl/master/img/wr.svg\" y=\"7\" height=\"1\" width=\"1\"></image></g><g><rect x=\"6\" y=\"0\" class=\"light-square\" height=\"1\" width=\"1\"></rect><image x=\"6\" xlink:href=\"https://raw.githubusercontent.com/romstad/Chess.jl/master/img/bn.svg\" y=\"0\" height=\"1\" width=\"1\"></image></g><g><rect x=\"6\" y=\"1\" class=\"dark-square\" height=\"1\" width=\"1\"></rect><image x=\"6\" xlink:href=\"https://raw.githubusercontent.com/romstad/Chess.jl/master/img/bp.svg\" y=\"1\" height=\"1\" width=\"1\"></image></g><g><rect x=\"6\" y=\"2\" class=\"light-square\" height=\"1\" width=\"1\"></rect><g></g></g><g><rect x=\"6\" y=\"3\" class=\"dark-square\" height=\"1\" width=\"1\"></rect><g></g></g><g><rect x=\"6\" y=\"4\" class=\"light-square\" height=\"1\" width=\"1\"></rect><g></g></g><g><rect x=\"6\" y=\"5\" class=\"dark-square\" height=\"1\" width=\"1\"></rect><g></g></g><g><rect x=\"6\" y=\"6\" class=\"light-square\" height=\"1\" width=\"1\"></rect><image x=\"6\" xlink:href=\"https://raw.githubusercontent.com/romstad/Chess.jl/master/img/wp.svg\" y=\"6\" height=\"1\" width=\"1\"></image></g><g><rect x=\"6\" y=\"7\" class=\"dark-square\" height=\"1\" width=\"1\"></rect><image x=\"6\" xlink:href=\"https://raw.githubusercontent.com/romstad/Chess.jl/master/img/wk.svg\" y=\"7\" height=\"1\" width=\"1\"></image></g><g><rect x=\"7\" y=\"0\" class=\"dark-square\" height=\"1\" width=\"1\"></rect><image x=\"7\" xlink:href=\"https://raw.githubusercontent.com/romstad/Chess.jl/master/img/br.svg\" y=\"0\" height=\"1\" width=\"1\"></image></g><g><rect x=\"7\" y=\"1\" class=\"light-square\" height=\"1\" width=\"1\"></rect><image x=\"7\" xlink:href=\"https://raw.githubusercontent.com/romstad/Chess.jl/master/img/bp.svg\" y=\"1\" height=\"1\" width=\"1\"></image></g><g><rect x=\"7\" y=\"2\" class=\"dark-square\" height=\"1\" width=\"1\"></rect><g></g></g><g><rect x=\"7\" y=\"3\" class=\"light-square\" height=\"1\" width=\"1\"></rect><g></g></g><g><rect x=\"7\" y=\"4\" class=\"dark-square\" height=\"1\" width=\"1\"></rect><image x=\"7\" xlink:href=\"https://raw.githubusercontent.com/romstad/Chess.jl/master/img/bn.svg\" y=\"4\" height=\"1\" width=\"1\"></image></g><g><rect x=\"7\" y=\"5\" class=\"light-square\" height=\"1\" width=\"1\"></rect><g></g></g><g><rect x=\"7\" y=\"6\" class=\"dark-square\" height=\"1\" width=\"1\"></rect><image x=\"7\" xlink:href=\"https://raw.githubusercontent.com/romstad/Chess.jl/master/img/wp.svg\" y=\"6\" height=\"1\" width=\"1\"></image></g><g><rect x=\"7\" y=\"7\" class=\"light-square\" height=\"1\" width=\"1\"></rect><g></g></g></g><g></g></svg><div><p>Black to move</p><p>Castle rights: kq</p><p><a href=\"https://lichess.org/editor/r1bqkbnr/p2p1ppp/2pP4/1p2p3/4P2n/1B3N2/PPP2PPP/RNBQ1RK1_b_kq_-\" target=\"_blank\">Open in lichess</a></p></div></div>"
      ],
      "text/plain": [
       "Board (r1bqkbnr/p2p1ppp/2pP4/1p2p3/4P2n/1B3N2/PPP2PPP/RNBQ1RK1 b kq -):\n",
       " r  -  b  q  k  b  n  r \n",
       " p  -  -  p  -  p  p  p \n",
       " -  -  p  P  -  -  -  - \n",
       " -  p  -  -  p  -  -  - \n",
       " -  -  -  -  P  -  -  n \n",
       " -  B  -  -  -  N  -  - \n",
       " P  P  P  -  -  P  P  P \n",
       " R  N  B  Q  -  R  K  - "
      ]
     },
     "metadata": {},
     "output_type": "display_data"
    },
    {
     "name": "stdout",
     "output_type": "stream",
     "text": [
      "Evaluation of engine: 230.0\n",
      "Current board score: 170\n",
      "Current entries in Cache: 9255\n",
      "Cleared Cache with 9255\n",
      "  8.590711 seconds (28.54 M allocations: 1.640 GiB, 3.99% gc time, 0.28% compilation time)\n"
     ]
    },
    {
     "data": {
      "text/html": [
       "Board:<div class=\"chessboard\"><style soped=\"true\">.dark-square {\n",
       "    fill: #c3936a;\n",
       "    stroke-width: 0;\n",
       "}\n",
       ".light-square {\n",
       "    fill: #ffd7a6;\n",
       "    stroke-width: 0;\n",
       "}\n",
       ".highlight {\n",
       "    fill: #47d18b;\n",
       "}\n",
       "@media (prefers-color-scheme: dark) {\n",
       "    .dark-square {\n",
       "        fill: #00796b;\n",
       "    }\n",
       "    .light-square {\n",
       "        fill: #3ca59b;\n",
       "    }\n",
       "    .highlight {\n",
       "        fill: #d23600;\n",
       "    }\n",
       "}\n",
       "</style><svg style=\"float: left; margin-right: 20px\" viewBox=\"0 0 8 8\" height=\"280\" width=\"280\"><g><g><rect x=\"0\" y=\"0\" class=\"light-square\" height=\"1\" width=\"1\"></rect><image x=\"0\" xlink:href=\"https://raw.githubusercontent.com/romstad/Chess.jl/master/img/br.svg\" y=\"0\" height=\"1\" width=\"1\"></image></g><g><rect x=\"0\" y=\"1\" class=\"dark-square\" height=\"1\" width=\"1\"></rect><image x=\"0\" xlink:href=\"https://raw.githubusercontent.com/romstad/Chess.jl/master/img/bp.svg\" y=\"1\" height=\"1\" width=\"1\"></image></g><g><rect x=\"0\" y=\"2\" class=\"light-square\" height=\"1\" width=\"1\"></rect><g></g></g><g><rect x=\"0\" y=\"3\" class=\"dark-square\" height=\"1\" width=\"1\"></rect><g></g></g><g><rect x=\"0\" y=\"4\" class=\"light-square\" height=\"1\" width=\"1\"></rect><g></g></g><g><rect x=\"0\" y=\"5\" class=\"dark-square\" height=\"1\" width=\"1\"></rect><g></g></g><g><rect x=\"0\" y=\"6\" class=\"light-square\" height=\"1\" width=\"1\"></rect><image x=\"0\" xlink:href=\"https://raw.githubusercontent.com/romstad/Chess.jl/master/img/wp.svg\" y=\"6\" height=\"1\" width=\"1\"></image></g><g><rect x=\"0\" y=\"7\" class=\"dark-square\" height=\"1\" width=\"1\"></rect><image x=\"0\" xlink:href=\"https://raw.githubusercontent.com/romstad/Chess.jl/master/img/wr.svg\" y=\"7\" height=\"1\" width=\"1\"></image></g><g><rect x=\"1\" y=\"0\" class=\"dark-square\" height=\"1\" width=\"1\"></rect><g></g></g><g><rect x=\"1\" y=\"1\" class=\"light-square\" height=\"1\" width=\"1\"></rect><g></g></g><g><rect x=\"1\" y=\"2\" class=\"dark-square\" height=\"1\" width=\"1\"></rect><g></g></g><g><rect x=\"1\" y=\"3\" class=\"light-square\" height=\"1\" width=\"1\"></rect><image x=\"1\" xlink:href=\"https://raw.githubusercontent.com/romstad/Chess.jl/master/img/bp.svg\" y=\"3\" height=\"1\" width=\"1\"></image></g><g><rect x=\"1\" y=\"4\" class=\"dark-square\" height=\"1\" width=\"1\"></rect><g></g></g><g><rect x=\"1\" y=\"5\" class=\"light-square\" height=\"1\" width=\"1\"></rect><image x=\"1\" xlink:href=\"https://raw.githubusercontent.com/romstad/Chess.jl/master/img/wb.svg\" y=\"5\" height=\"1\" width=\"1\"></image></g><g><rect x=\"1\" y=\"6\" class=\"dark-square\" height=\"1\" width=\"1\"></rect><image x=\"1\" xlink:href=\"https://raw.githubusercontent.com/romstad/Chess.jl/master/img/wp.svg\" y=\"6\" height=\"1\" width=\"1\"></image></g><g><rect x=\"1\" y=\"7\" class=\"light-square\" height=\"1\" width=\"1\"></rect><image x=\"1\" xlink:href=\"https://raw.githubusercontent.com/romstad/Chess.jl/master/img/wn.svg\" y=\"7\" height=\"1\" width=\"1\"></image></g><g><rect x=\"2\" y=\"0\" class=\"light-square\" height=\"1\" width=\"1\"></rect><image x=\"2\" xlink:href=\"https://raw.githubusercontent.com/romstad/Chess.jl/master/img/bb.svg\" y=\"0\" height=\"1\" width=\"1\"></image></g><g><rect x=\"2\" y=\"1\" class=\"dark-square\" height=\"1\" width=\"1\"></rect><g></g></g><g><rect x=\"2\" y=\"2\" class=\"light-square\" height=\"1\" width=\"1\"></rect><image x=\"2\" xlink:href=\"https://raw.githubusercontent.com/romstad/Chess.jl/master/img/bp.svg\" y=\"2\" height=\"1\" width=\"1\"></image></g><g><rect x=\"2\" y=\"3\" class=\"dark-square\" height=\"1\" width=\"1\"></rect><g></g></g><g><rect x=\"2\" y=\"4\" class=\"light-square\" height=\"1\" width=\"1\"></rect><g></g></g><g><rect x=\"2\" y=\"5\" class=\"dark-square\" height=\"1\" width=\"1\"></rect><g></g></g><g><rect x=\"2\" y=\"6\" class=\"light-square\" height=\"1\" width=\"1\"></rect><image x=\"2\" xlink:href=\"https://raw.githubusercontent.com/romstad/Chess.jl/master/img/wp.svg\" y=\"6\" height=\"1\" width=\"1\"></image></g><g><rect x=\"2\" y=\"7\" class=\"dark-square\" height=\"1\" width=\"1\"></rect><image x=\"2\" xlink:href=\"https://raw.githubusercontent.com/romstad/Chess.jl/master/img/wb.svg\" y=\"7\" height=\"1\" width=\"1\"></image></g><g><rect x=\"3\" y=\"0\" class=\"dark-square\" height=\"1\" width=\"1\"></rect><g></g></g><g><rect x=\"3\" y=\"1\" class=\"light-square\" height=\"1\" width=\"1\"></rect><image x=\"3\" xlink:href=\"https://raw.githubusercontent.com/romstad/Chess.jl/master/img/bp.svg\" y=\"1\" height=\"1\" width=\"1\"></image></g><g><rect x=\"3\" y=\"2\" class=\"dark-square\" height=\"1\" width=\"1\"></rect><image x=\"3\" xlink:href=\"https://raw.githubusercontent.com/romstad/Chess.jl/master/img/wp.svg\" y=\"2\" height=\"1\" width=\"1\"></image></g><g><rect x=\"3\" y=\"3\" class=\"light-square\" height=\"1\" width=\"1\"></rect><g></g></g><g><rect x=\"3\" y=\"4\" class=\"dark-square\" height=\"1\" width=\"1\"></rect><g></g></g><g><rect x=\"3\" y=\"5\" class=\"light-square\" height=\"1\" width=\"1\"></rect><g></g></g><g><rect x=\"3\" y=\"6\" class=\"dark-square\" height=\"1\" width=\"1\"></rect><g></g></g><g><rect x=\"3\" y=\"7\" class=\"light-square\" height=\"1\" width=\"1\"></rect><image x=\"3\" xlink:href=\"https://raw.githubusercontent.com/romstad/Chess.jl/master/img/wq.svg\" y=\"7\" height=\"1\" width=\"1\"></image></g><g><rect x=\"4\" y=\"0\" class=\"light-square\" height=\"1\" width=\"1\"></rect><image x=\"4\" xlink:href=\"https://raw.githubusercontent.com/romstad/Chess.jl/master/img/bk.svg\" y=\"0\" height=\"1\" width=\"1\"></image></g><g><rect x=\"4\" y=\"1\" class=\"dark-square\" height=\"1\" width=\"1\"></rect><g></g></g><g><rect x=\"4\" y=\"2\" class=\"light-square\" height=\"1\" width=\"1\"></rect><g></g></g><g><rect x=\"4\" y=\"3\" class=\"dark-square\" height=\"1\" width=\"1\"></rect><image x=\"4\" xlink:href=\"https://raw.githubusercontent.com/romstad/Chess.jl/master/img/bp.svg\" y=\"3\" height=\"1\" width=\"1\"></image></g><g><rect x=\"4\" y=\"4\" class=\"light-square\" height=\"1\" width=\"1\"></rect><image x=\"4\" xlink:href=\"https://raw.githubusercontent.com/romstad/Chess.jl/master/img/wp.svg\" y=\"4\" height=\"1\" width=\"1\"></image></g><g><rect x=\"4\" y=\"5\" class=\"dark-square\" height=\"1\" width=\"1\"></rect><g></g></g><g><rect x=\"4\" y=\"6\" class=\"light-square\" height=\"1\" width=\"1\"></rect><g></g></g><g><rect x=\"4\" y=\"7\" class=\"dark-square\" height=\"1\" width=\"1\"></rect><g></g></g><g><rect x=\"5\" y=\"0\" class=\"dark-square\" height=\"1\" width=\"1\"></rect><image x=\"5\" xlink:href=\"https://raw.githubusercontent.com/romstad/Chess.jl/master/img/bb.svg\" y=\"0\" height=\"1\" width=\"1\"></image></g><g><rect x=\"5\" y=\"1\" class=\"light-square\" height=\"1\" width=\"1\"></rect><image x=\"5\" xlink:href=\"https://raw.githubusercontent.com/romstad/Chess.jl/master/img/bp.svg\" y=\"1\" height=\"1\" width=\"1\"></image></g><g><rect x=\"5\" y=\"2\" class=\"dark-square\" height=\"1\" width=\"1\"></rect><image x=\"5\" xlink:href=\"https://raw.githubusercontent.com/romstad/Chess.jl/master/img/bq.svg\" y=\"2\" height=\"1\" width=\"1\"></image></g><g><rect x=\"5\" y=\"3\" class=\"light-square\" height=\"1\" width=\"1\"></rect><g></g></g><g><rect x=\"5\" y=\"4\" class=\"dark-square\" height=\"1\" width=\"1\"></rect><g></g></g><g><rect x=\"5\" y=\"5\" class=\"light-square\" height=\"1\" width=\"1\"></rect><image x=\"5\" xlink:href=\"https://raw.githubusercontent.com/romstad/Chess.jl/master/img/wn.svg\" y=\"5\" height=\"1\" width=\"1\"></image></g><g><rect x=\"5\" y=\"6\" class=\"dark-square\" height=\"1\" width=\"1\"></rect><image x=\"5\" xlink:href=\"https://raw.githubusercontent.com/romstad/Chess.jl/master/img/wp.svg\" y=\"6\" height=\"1\" width=\"1\"></image></g><g><rect x=\"5\" y=\"7\" class=\"light-square\" height=\"1\" width=\"1\"></rect><image x=\"5\" xlink:href=\"https://raw.githubusercontent.com/romstad/Chess.jl/master/img/wr.svg\" y=\"7\" height=\"1\" width=\"1\"></image></g><g><rect x=\"6\" y=\"0\" class=\"light-square\" height=\"1\" width=\"1\"></rect><image x=\"6\" xlink:href=\"https://raw.githubusercontent.com/romstad/Chess.jl/master/img/bn.svg\" y=\"0\" height=\"1\" width=\"1\"></image></g><g><rect x=\"6\" y=\"1\" class=\"dark-square\" height=\"1\" width=\"1\"></rect><image x=\"6\" xlink:href=\"https://raw.githubusercontent.com/romstad/Chess.jl/master/img/bp.svg\" y=\"1\" height=\"1\" width=\"1\"></image></g><g><rect x=\"6\" y=\"2\" class=\"light-square\" height=\"1\" width=\"1\"></rect><g></g></g><g><rect x=\"6\" y=\"3\" class=\"dark-square\" height=\"1\" width=\"1\"></rect><g></g></g><g><rect x=\"6\" y=\"4\" class=\"light-square\" height=\"1\" width=\"1\"></rect><g></g></g><g><rect x=\"6\" y=\"5\" class=\"dark-square\" height=\"1\" width=\"1\"></rect><g></g></g><g><rect x=\"6\" y=\"6\" class=\"light-square\" height=\"1\" width=\"1\"></rect><image x=\"6\" xlink:href=\"https://raw.githubusercontent.com/romstad/Chess.jl/master/img/wp.svg\" y=\"6\" height=\"1\" width=\"1\"></image></g><g><rect x=\"6\" y=\"7\" class=\"dark-square\" height=\"1\" width=\"1\"></rect><image x=\"6\" xlink:href=\"https://raw.githubusercontent.com/romstad/Chess.jl/master/img/wk.svg\" y=\"7\" height=\"1\" width=\"1\"></image></g><g><rect x=\"7\" y=\"0\" class=\"dark-square\" height=\"1\" width=\"1\"></rect><image x=\"7\" xlink:href=\"https://raw.githubusercontent.com/romstad/Chess.jl/master/img/br.svg\" y=\"0\" height=\"1\" width=\"1\"></image></g><g><rect x=\"7\" y=\"1\" class=\"light-square\" height=\"1\" width=\"1\"></rect><image x=\"7\" xlink:href=\"https://raw.githubusercontent.com/romstad/Chess.jl/master/img/bp.svg\" y=\"1\" height=\"1\" width=\"1\"></image></g><g><rect x=\"7\" y=\"2\" class=\"dark-square\" height=\"1\" width=\"1\"></rect><g></g></g><g><rect x=\"7\" y=\"3\" class=\"light-square\" height=\"1\" width=\"1\"></rect><g></g></g><g><rect x=\"7\" y=\"4\" class=\"dark-square\" height=\"1\" width=\"1\"></rect><image x=\"7\" xlink:href=\"https://raw.githubusercontent.com/romstad/Chess.jl/master/img/bn.svg\" y=\"4\" height=\"1\" width=\"1\"></image></g><g><rect x=\"7\" y=\"5\" class=\"light-square\" height=\"1\" width=\"1\"></rect><g></g></g><g><rect x=\"7\" y=\"6\" class=\"dark-square\" height=\"1\" width=\"1\"></rect><image x=\"7\" xlink:href=\"https://raw.githubusercontent.com/romstad/Chess.jl/master/img/wp.svg\" y=\"6\" height=\"1\" width=\"1\"></image></g><g><rect x=\"7\" y=\"7\" class=\"light-square\" height=\"1\" width=\"1\"></rect><g></g></g></g><g></g></svg><div><p>White to move</p><p>Castle rights: kq</p><p><a href=\"https://lichess.org/editor/r1b1kbnr/p2p1ppp/2pP1q2/1p2p3/4P2n/1B3N2/PPP2PPP/RNBQ1RK1_w_kq_-\" target=\"_blank\">Open in lichess</a></p></div></div>"
      ],
      "text/plain": [
       "Board (r1b1kbnr/p2p1ppp/2pP1q2/1p2p3/4P2n/1B3N2/PPP2PPP/RNBQ1RK1 w kq -):\n",
       " r  -  b  -  k  b  n  r \n",
       " p  -  -  p  -  p  p  p \n",
       " -  -  p  P  -  q  -  - \n",
       " -  p  -  -  p  -  -  - \n",
       " -  -  -  -  P  -  -  n \n",
       " -  B  -  -  -  N  -  - \n",
       " P  P  P  -  -  P  P  P \n",
       " R  N  B  Q  -  R  K  - "
      ]
     },
     "metadata": {},
     "output_type": "display_data"
    },
    {
     "name": "stdout",
     "output_type": "stream",
     "text": [
      "Make a move. Type 'resign' to resign from the match\n",
      "stdin> c1g5\n",
      "Cleared Cache with 0\n"
     ]
    },
    {
     "data": {
      "text/html": [
       "Board:<div class=\"chessboard\"><style soped=\"true\">.dark-square {\n",
       "    fill: #c3936a;\n",
       "    stroke-width: 0;\n",
       "}\n",
       ".light-square {\n",
       "    fill: #ffd7a6;\n",
       "    stroke-width: 0;\n",
       "}\n",
       ".highlight {\n",
       "    fill: #47d18b;\n",
       "}\n",
       "@media (prefers-color-scheme: dark) {\n",
       "    .dark-square {\n",
       "        fill: #00796b;\n",
       "    }\n",
       "    .light-square {\n",
       "        fill: #3ca59b;\n",
       "    }\n",
       "    .highlight {\n",
       "        fill: #d23600;\n",
       "    }\n",
       "}\n",
       "</style><svg style=\"float: left; margin-right: 20px\" viewBox=\"0 0 8 8\" height=\"280\" width=\"280\"><g><g><rect x=\"0\" y=\"0\" class=\"light-square\" height=\"1\" width=\"1\"></rect><image x=\"0\" xlink:href=\"https://raw.githubusercontent.com/romstad/Chess.jl/master/img/br.svg\" y=\"0\" height=\"1\" width=\"1\"></image></g><g><rect x=\"0\" y=\"1\" class=\"dark-square\" height=\"1\" width=\"1\"></rect><image x=\"0\" xlink:href=\"https://raw.githubusercontent.com/romstad/Chess.jl/master/img/bp.svg\" y=\"1\" height=\"1\" width=\"1\"></image></g><g><rect x=\"0\" y=\"2\" class=\"light-square\" height=\"1\" width=\"1\"></rect><g></g></g><g><rect x=\"0\" y=\"3\" class=\"dark-square\" height=\"1\" width=\"1\"></rect><g></g></g><g><rect x=\"0\" y=\"4\" class=\"light-square\" height=\"1\" width=\"1\"></rect><g></g></g><g><rect x=\"0\" y=\"5\" class=\"dark-square\" height=\"1\" width=\"1\"></rect><g></g></g><g><rect x=\"0\" y=\"6\" class=\"light-square\" height=\"1\" width=\"1\"></rect><image x=\"0\" xlink:href=\"https://raw.githubusercontent.com/romstad/Chess.jl/master/img/wp.svg\" y=\"6\" height=\"1\" width=\"1\"></image></g><g><rect x=\"0\" y=\"7\" class=\"dark-square\" height=\"1\" width=\"1\"></rect><image x=\"0\" xlink:href=\"https://raw.githubusercontent.com/romstad/Chess.jl/master/img/wr.svg\" y=\"7\" height=\"1\" width=\"1\"></image></g><g><rect x=\"1\" y=\"0\" class=\"dark-square\" height=\"1\" width=\"1\"></rect><g></g></g><g><rect x=\"1\" y=\"1\" class=\"light-square\" height=\"1\" width=\"1\"></rect><g></g></g><g><rect x=\"1\" y=\"2\" class=\"dark-square\" height=\"1\" width=\"1\"></rect><g></g></g><g><rect x=\"1\" y=\"3\" class=\"light-square\" height=\"1\" width=\"1\"></rect><image x=\"1\" xlink:href=\"https://raw.githubusercontent.com/romstad/Chess.jl/master/img/bp.svg\" y=\"3\" height=\"1\" width=\"1\"></image></g><g><rect x=\"1\" y=\"4\" class=\"dark-square\" height=\"1\" width=\"1\"></rect><g></g></g><g><rect x=\"1\" y=\"5\" class=\"light-square\" height=\"1\" width=\"1\"></rect><image x=\"1\" xlink:href=\"https://raw.githubusercontent.com/romstad/Chess.jl/master/img/wb.svg\" y=\"5\" height=\"1\" width=\"1\"></image></g><g><rect x=\"1\" y=\"6\" class=\"dark-square\" height=\"1\" width=\"1\"></rect><image x=\"1\" xlink:href=\"https://raw.githubusercontent.com/romstad/Chess.jl/master/img/wp.svg\" y=\"6\" height=\"1\" width=\"1\"></image></g><g><rect x=\"1\" y=\"7\" class=\"light-square\" height=\"1\" width=\"1\"></rect><image x=\"1\" xlink:href=\"https://raw.githubusercontent.com/romstad/Chess.jl/master/img/wn.svg\" y=\"7\" height=\"1\" width=\"1\"></image></g><g><rect x=\"2\" y=\"0\" class=\"light-square\" height=\"1\" width=\"1\"></rect><image x=\"2\" xlink:href=\"https://raw.githubusercontent.com/romstad/Chess.jl/master/img/bb.svg\" y=\"0\" height=\"1\" width=\"1\"></image></g><g><rect x=\"2\" y=\"1\" class=\"dark-square\" height=\"1\" width=\"1\"></rect><g></g></g><g><rect x=\"2\" y=\"2\" class=\"light-square\" height=\"1\" width=\"1\"></rect><image x=\"2\" xlink:href=\"https://raw.githubusercontent.com/romstad/Chess.jl/master/img/bp.svg\" y=\"2\" height=\"1\" width=\"1\"></image></g><g><rect x=\"2\" y=\"3\" class=\"dark-square\" height=\"1\" width=\"1\"></rect><g></g></g><g><rect x=\"2\" y=\"4\" class=\"light-square\" height=\"1\" width=\"1\"></rect><g></g></g><g><rect x=\"2\" y=\"5\" class=\"dark-square\" height=\"1\" width=\"1\"></rect><g></g></g><g><rect x=\"2\" y=\"6\" class=\"light-square\" height=\"1\" width=\"1\"></rect><image x=\"2\" xlink:href=\"https://raw.githubusercontent.com/romstad/Chess.jl/master/img/wp.svg\" y=\"6\" height=\"1\" width=\"1\"></image></g><g><rect x=\"2\" y=\"7\" class=\"dark-square\" height=\"1\" width=\"1\"></rect><g></g></g><g><rect x=\"3\" y=\"0\" class=\"dark-square\" height=\"1\" width=\"1\"></rect><g></g></g><g><rect x=\"3\" y=\"1\" class=\"light-square\" height=\"1\" width=\"1\"></rect><image x=\"3\" xlink:href=\"https://raw.githubusercontent.com/romstad/Chess.jl/master/img/bp.svg\" y=\"1\" height=\"1\" width=\"1\"></image></g><g><rect x=\"3\" y=\"2\" class=\"dark-square\" height=\"1\" width=\"1\"></rect><image x=\"3\" xlink:href=\"https://raw.githubusercontent.com/romstad/Chess.jl/master/img/wp.svg\" y=\"2\" height=\"1\" width=\"1\"></image></g><g><rect x=\"3\" y=\"3\" class=\"light-square\" height=\"1\" width=\"1\"></rect><g></g></g><g><rect x=\"3\" y=\"4\" class=\"dark-square\" height=\"1\" width=\"1\"></rect><g></g></g><g><rect x=\"3\" y=\"5\" class=\"light-square\" height=\"1\" width=\"1\"></rect><g></g></g><g><rect x=\"3\" y=\"6\" class=\"dark-square\" height=\"1\" width=\"1\"></rect><g></g></g><g><rect x=\"3\" y=\"7\" class=\"light-square\" height=\"1\" width=\"1\"></rect><image x=\"3\" xlink:href=\"https://raw.githubusercontent.com/romstad/Chess.jl/master/img/wq.svg\" y=\"7\" height=\"1\" width=\"1\"></image></g><g><rect x=\"4\" y=\"0\" class=\"light-square\" height=\"1\" width=\"1\"></rect><image x=\"4\" xlink:href=\"https://raw.githubusercontent.com/romstad/Chess.jl/master/img/bk.svg\" y=\"0\" height=\"1\" width=\"1\"></image></g><g><rect x=\"4\" y=\"1\" class=\"dark-square\" height=\"1\" width=\"1\"></rect><g></g></g><g><rect x=\"4\" y=\"2\" class=\"light-square\" height=\"1\" width=\"1\"></rect><g></g></g><g><rect x=\"4\" y=\"3\" class=\"dark-square\" height=\"1\" width=\"1\"></rect><image x=\"4\" xlink:href=\"https://raw.githubusercontent.com/romstad/Chess.jl/master/img/bp.svg\" y=\"3\" height=\"1\" width=\"1\"></image></g><g><rect x=\"4\" y=\"4\" class=\"light-square\" height=\"1\" width=\"1\"></rect><image x=\"4\" xlink:href=\"https://raw.githubusercontent.com/romstad/Chess.jl/master/img/wp.svg\" y=\"4\" height=\"1\" width=\"1\"></image></g><g><rect x=\"4\" y=\"5\" class=\"dark-square\" height=\"1\" width=\"1\"></rect><g></g></g><g><rect x=\"4\" y=\"6\" class=\"light-square\" height=\"1\" width=\"1\"></rect><g></g></g><g><rect x=\"4\" y=\"7\" class=\"dark-square\" height=\"1\" width=\"1\"></rect><g></g></g><g><rect x=\"5\" y=\"0\" class=\"dark-square\" height=\"1\" width=\"1\"></rect><image x=\"5\" xlink:href=\"https://raw.githubusercontent.com/romstad/Chess.jl/master/img/bb.svg\" y=\"0\" height=\"1\" width=\"1\"></image></g><g><rect x=\"5\" y=\"1\" class=\"light-square\" height=\"1\" width=\"1\"></rect><image x=\"5\" xlink:href=\"https://raw.githubusercontent.com/romstad/Chess.jl/master/img/bp.svg\" y=\"1\" height=\"1\" width=\"1\"></image></g><g><rect x=\"5\" y=\"2\" class=\"dark-square\" height=\"1\" width=\"1\"></rect><image x=\"5\" xlink:href=\"https://raw.githubusercontent.com/romstad/Chess.jl/master/img/bq.svg\" y=\"2\" height=\"1\" width=\"1\"></image></g><g><rect x=\"5\" y=\"3\" class=\"light-square\" height=\"1\" width=\"1\"></rect><g></g></g><g><rect x=\"5\" y=\"4\" class=\"dark-square\" height=\"1\" width=\"1\"></rect><g></g></g><g><rect x=\"5\" y=\"5\" class=\"light-square\" height=\"1\" width=\"1\"></rect><image x=\"5\" xlink:href=\"https://raw.githubusercontent.com/romstad/Chess.jl/master/img/wn.svg\" y=\"5\" height=\"1\" width=\"1\"></image></g><g><rect x=\"5\" y=\"6\" class=\"dark-square\" height=\"1\" width=\"1\"></rect><image x=\"5\" xlink:href=\"https://raw.githubusercontent.com/romstad/Chess.jl/master/img/wp.svg\" y=\"6\" height=\"1\" width=\"1\"></image></g><g><rect x=\"5\" y=\"7\" class=\"light-square\" height=\"1\" width=\"1\"></rect><image x=\"5\" xlink:href=\"https://raw.githubusercontent.com/romstad/Chess.jl/master/img/wr.svg\" y=\"7\" height=\"1\" width=\"1\"></image></g><g><rect x=\"6\" y=\"0\" class=\"light-square\" height=\"1\" width=\"1\"></rect><image x=\"6\" xlink:href=\"https://raw.githubusercontent.com/romstad/Chess.jl/master/img/bn.svg\" y=\"0\" height=\"1\" width=\"1\"></image></g><g><rect x=\"6\" y=\"1\" class=\"dark-square\" height=\"1\" width=\"1\"></rect><image x=\"6\" xlink:href=\"https://raw.githubusercontent.com/romstad/Chess.jl/master/img/bp.svg\" y=\"1\" height=\"1\" width=\"1\"></image></g><g><rect x=\"6\" y=\"2\" class=\"light-square\" height=\"1\" width=\"1\"></rect><g></g></g><g><rect x=\"6\" y=\"3\" class=\"dark-square\" height=\"1\" width=\"1\"></rect><image x=\"6\" xlink:href=\"https://raw.githubusercontent.com/romstad/Chess.jl/master/img/wb.svg\" y=\"3\" height=\"1\" width=\"1\"></image></g><g><rect x=\"6\" y=\"4\" class=\"light-square\" height=\"1\" width=\"1\"></rect><g></g></g><g><rect x=\"6\" y=\"5\" class=\"dark-square\" height=\"1\" width=\"1\"></rect><g></g></g><g><rect x=\"6\" y=\"6\" class=\"light-square\" height=\"1\" width=\"1\"></rect><image x=\"6\" xlink:href=\"https://raw.githubusercontent.com/romstad/Chess.jl/master/img/wp.svg\" y=\"6\" height=\"1\" width=\"1\"></image></g><g><rect x=\"6\" y=\"7\" class=\"dark-square\" height=\"1\" width=\"1\"></rect><image x=\"6\" xlink:href=\"https://raw.githubusercontent.com/romstad/Chess.jl/master/img/wk.svg\" y=\"7\" height=\"1\" width=\"1\"></image></g><g><rect x=\"7\" y=\"0\" class=\"dark-square\" height=\"1\" width=\"1\"></rect><image x=\"7\" xlink:href=\"https://raw.githubusercontent.com/romstad/Chess.jl/master/img/br.svg\" y=\"0\" height=\"1\" width=\"1\"></image></g><g><rect x=\"7\" y=\"1\" class=\"light-square\" height=\"1\" width=\"1\"></rect><image x=\"7\" xlink:href=\"https://raw.githubusercontent.com/romstad/Chess.jl/master/img/bp.svg\" y=\"1\" height=\"1\" width=\"1\"></image></g><g><rect x=\"7\" y=\"2\" class=\"dark-square\" height=\"1\" width=\"1\"></rect><g></g></g><g><rect x=\"7\" y=\"3\" class=\"light-square\" height=\"1\" width=\"1\"></rect><g></g></g><g><rect x=\"7\" y=\"4\" class=\"dark-square\" height=\"1\" width=\"1\"></rect><image x=\"7\" xlink:href=\"https://raw.githubusercontent.com/romstad/Chess.jl/master/img/bn.svg\" y=\"4\" height=\"1\" width=\"1\"></image></g><g><rect x=\"7\" y=\"5\" class=\"light-square\" height=\"1\" width=\"1\"></rect><g></g></g><g><rect x=\"7\" y=\"6\" class=\"dark-square\" height=\"1\" width=\"1\"></rect><image x=\"7\" xlink:href=\"https://raw.githubusercontent.com/romstad/Chess.jl/master/img/wp.svg\" y=\"6\" height=\"1\" width=\"1\"></image></g><g><rect x=\"7\" y=\"7\" class=\"light-square\" height=\"1\" width=\"1\"></rect><g></g></g></g><g></g></svg><div><p>Black to move</p><p>Castle rights: kq</p><p><a href=\"https://lichess.org/editor/r1b1kbnr/p2p1ppp/2pP1q2/1p2p1B1/4P2n/1B3N2/PPP2PPP/RN1Q1RK1_b_kq_-\" target=\"_blank\">Open in lichess</a></p></div></div>"
      ],
      "text/plain": [
       "Board (r1b1kbnr/p2p1ppp/2pP1q2/1p2p1B1/4P2n/1B3N2/PPP2PPP/RN1Q1RK1 b kq -):\n",
       " r  -  b  -  k  b  n  r \n",
       " p  -  -  p  -  p  p  p \n",
       " -  -  p  P  -  q  -  - \n",
       " -  p  -  -  p  -  B  - \n",
       " -  -  -  -  P  -  -  n \n",
       " -  B  -  -  -  N  -  - \n",
       " P  P  P  -  -  P  P  P \n",
       " R  N  -  Q  -  R  K  - "
      ]
     },
     "metadata": {},
     "output_type": "display_data"
    },
    {
     "name": "stdout",
     "output_type": "stream",
     "text": [
      "Evaluation of engine: -80.0\n",
      "Current board score: 175\n",
      "Current entries in Cache: 6675\n",
      "Cleared Cache with 6675\n",
      "  5.821821 seconds (22.21 M allocations: 1.222 GiB, 4.46% gc time)\n"
     ]
    },
    {
     "data": {
      "text/html": [
       "Board:<div class=\"chessboard\"><style soped=\"true\">.dark-square {\n",
       "    fill: #c3936a;\n",
       "    stroke-width: 0;\n",
       "}\n",
       ".light-square {\n",
       "    fill: #ffd7a6;\n",
       "    stroke-width: 0;\n",
       "}\n",
       ".highlight {\n",
       "    fill: #47d18b;\n",
       "}\n",
       "@media (prefers-color-scheme: dark) {\n",
       "    .dark-square {\n",
       "        fill: #00796b;\n",
       "    }\n",
       "    .light-square {\n",
       "        fill: #3ca59b;\n",
       "    }\n",
       "    .highlight {\n",
       "        fill: #d23600;\n",
       "    }\n",
       "}\n",
       "</style><svg style=\"float: left; margin-right: 20px\" viewBox=\"0 0 8 8\" height=\"280\" width=\"280\"><g><g><rect x=\"0\" y=\"0\" class=\"light-square\" height=\"1\" width=\"1\"></rect><image x=\"0\" xlink:href=\"https://raw.githubusercontent.com/romstad/Chess.jl/master/img/br.svg\" y=\"0\" height=\"1\" width=\"1\"></image></g><g><rect x=\"0\" y=\"1\" class=\"dark-square\" height=\"1\" width=\"1\"></rect><image x=\"0\" xlink:href=\"https://raw.githubusercontent.com/romstad/Chess.jl/master/img/bp.svg\" y=\"1\" height=\"1\" width=\"1\"></image></g><g><rect x=\"0\" y=\"2\" class=\"light-square\" height=\"1\" width=\"1\"></rect><g></g></g><g><rect x=\"0\" y=\"3\" class=\"dark-square\" height=\"1\" width=\"1\"></rect><g></g></g><g><rect x=\"0\" y=\"4\" class=\"light-square\" height=\"1\" width=\"1\"></rect><g></g></g><g><rect x=\"0\" y=\"5\" class=\"dark-square\" height=\"1\" width=\"1\"></rect><g></g></g><g><rect x=\"0\" y=\"6\" class=\"light-square\" height=\"1\" width=\"1\"></rect><image x=\"0\" xlink:href=\"https://raw.githubusercontent.com/romstad/Chess.jl/master/img/wp.svg\" y=\"6\" height=\"1\" width=\"1\"></image></g><g><rect x=\"0\" y=\"7\" class=\"dark-square\" height=\"1\" width=\"1\"></rect><image x=\"0\" xlink:href=\"https://raw.githubusercontent.com/romstad/Chess.jl/master/img/wr.svg\" y=\"7\" height=\"1\" width=\"1\"></image></g><g><rect x=\"1\" y=\"0\" class=\"dark-square\" height=\"1\" width=\"1\"></rect><g></g></g><g><rect x=\"1\" y=\"1\" class=\"light-square\" height=\"1\" width=\"1\"></rect><g></g></g><g><rect x=\"1\" y=\"2\" class=\"dark-square\" height=\"1\" width=\"1\"></rect><g></g></g><g><rect x=\"1\" y=\"3\" class=\"light-square\" height=\"1\" width=\"1\"></rect><image x=\"1\" xlink:href=\"https://raw.githubusercontent.com/romstad/Chess.jl/master/img/bp.svg\" y=\"3\" height=\"1\" width=\"1\"></image></g><g><rect x=\"1\" y=\"4\" class=\"dark-square\" height=\"1\" width=\"1\"></rect><g></g></g><g><rect x=\"1\" y=\"5\" class=\"light-square\" height=\"1\" width=\"1\"></rect><image x=\"1\" xlink:href=\"https://raw.githubusercontent.com/romstad/Chess.jl/master/img/wb.svg\" y=\"5\" height=\"1\" width=\"1\"></image></g><g><rect x=\"1\" y=\"6\" class=\"dark-square\" height=\"1\" width=\"1\"></rect><image x=\"1\" xlink:href=\"https://raw.githubusercontent.com/romstad/Chess.jl/master/img/wp.svg\" y=\"6\" height=\"1\" width=\"1\"></image></g><g><rect x=\"1\" y=\"7\" class=\"light-square\" height=\"1\" width=\"1\"></rect><image x=\"1\" xlink:href=\"https://raw.githubusercontent.com/romstad/Chess.jl/master/img/wn.svg\" y=\"7\" height=\"1\" width=\"1\"></image></g><g><rect x=\"2\" y=\"0\" class=\"light-square\" height=\"1\" width=\"1\"></rect><image x=\"2\" xlink:href=\"https://raw.githubusercontent.com/romstad/Chess.jl/master/img/bb.svg\" y=\"0\" height=\"1\" width=\"1\"></image></g><g><rect x=\"2\" y=\"1\" class=\"dark-square\" height=\"1\" width=\"1\"></rect><g></g></g><g><rect x=\"2\" y=\"2\" class=\"light-square\" height=\"1\" width=\"1\"></rect><image x=\"2\" xlink:href=\"https://raw.githubusercontent.com/romstad/Chess.jl/master/img/bp.svg\" y=\"2\" height=\"1\" width=\"1\"></image></g><g><rect x=\"2\" y=\"3\" class=\"dark-square\" height=\"1\" width=\"1\"></rect><g></g></g><g><rect x=\"2\" y=\"4\" class=\"light-square\" height=\"1\" width=\"1\"></rect><g></g></g><g><rect x=\"2\" y=\"5\" class=\"dark-square\" height=\"1\" width=\"1\"></rect><g></g></g><g><rect x=\"2\" y=\"6\" class=\"light-square\" height=\"1\" width=\"1\"></rect><image x=\"2\" xlink:href=\"https://raw.githubusercontent.com/romstad/Chess.jl/master/img/wp.svg\" y=\"6\" height=\"1\" width=\"1\"></image></g><g><rect x=\"2\" y=\"7\" class=\"dark-square\" height=\"1\" width=\"1\"></rect><g></g></g><g><rect x=\"3\" y=\"0\" class=\"dark-square\" height=\"1\" width=\"1\"></rect><g></g></g><g><rect x=\"3\" y=\"1\" class=\"light-square\" height=\"1\" width=\"1\"></rect><image x=\"3\" xlink:href=\"https://raw.githubusercontent.com/romstad/Chess.jl/master/img/bp.svg\" y=\"1\" height=\"1\" width=\"1\"></image></g><g><rect x=\"3\" y=\"2\" class=\"dark-square\" height=\"1\" width=\"1\"></rect><image x=\"3\" xlink:href=\"https://raw.githubusercontent.com/romstad/Chess.jl/master/img/wp.svg\" y=\"2\" height=\"1\" width=\"1\"></image></g><g><rect x=\"3\" y=\"3\" class=\"light-square\" height=\"1\" width=\"1\"></rect><g></g></g><g><rect x=\"3\" y=\"4\" class=\"dark-square\" height=\"1\" width=\"1\"></rect><g></g></g><g><rect x=\"3\" y=\"5\" class=\"light-square\" height=\"1\" width=\"1\"></rect><g></g></g><g><rect x=\"3\" y=\"6\" class=\"dark-square\" height=\"1\" width=\"1\"></rect><g></g></g><g><rect x=\"3\" y=\"7\" class=\"light-square\" height=\"1\" width=\"1\"></rect><image x=\"3\" xlink:href=\"https://raw.githubusercontent.com/romstad/Chess.jl/master/img/wq.svg\" y=\"7\" height=\"1\" width=\"1\"></image></g><g><rect x=\"4\" y=\"0\" class=\"light-square\" height=\"1\" width=\"1\"></rect><image x=\"4\" xlink:href=\"https://raw.githubusercontent.com/romstad/Chess.jl/master/img/bk.svg\" y=\"0\" height=\"1\" width=\"1\"></image></g><g><rect x=\"4\" y=\"1\" class=\"dark-square\" height=\"1\" width=\"1\"></rect><g></g></g><g><rect x=\"4\" y=\"2\" class=\"light-square\" height=\"1\" width=\"1\"></rect><g></g></g><g><rect x=\"4\" y=\"3\" class=\"dark-square\" height=\"1\" width=\"1\"></rect><image x=\"4\" xlink:href=\"https://raw.githubusercontent.com/romstad/Chess.jl/master/img/bp.svg\" y=\"3\" height=\"1\" width=\"1\"></image></g><g><rect x=\"4\" y=\"4\" class=\"light-square\" height=\"1\" width=\"1\"></rect><image x=\"4\" xlink:href=\"https://raw.githubusercontent.com/romstad/Chess.jl/master/img/wp.svg\" y=\"4\" height=\"1\" width=\"1\"></image></g><g><rect x=\"4\" y=\"5\" class=\"dark-square\" height=\"1\" width=\"1\"></rect><g></g></g><g><rect x=\"4\" y=\"6\" class=\"light-square\" height=\"1\" width=\"1\"></rect><g></g></g><g><rect x=\"4\" y=\"7\" class=\"dark-square\" height=\"1\" width=\"1\"></rect><g></g></g><g><rect x=\"5\" y=\"0\" class=\"dark-square\" height=\"1\" width=\"1\"></rect><image x=\"5\" xlink:href=\"https://raw.githubusercontent.com/romstad/Chess.jl/master/img/bb.svg\" y=\"0\" height=\"1\" width=\"1\"></image></g><g><rect x=\"5\" y=\"1\" class=\"light-square\" height=\"1\" width=\"1\"></rect><image x=\"5\" xlink:href=\"https://raw.githubusercontent.com/romstad/Chess.jl/master/img/bp.svg\" y=\"1\" height=\"1\" width=\"1\"></image></g><g><rect x=\"5\" y=\"2\" class=\"dark-square\" height=\"1\" width=\"1\"></rect><image x=\"5\" xlink:href=\"https://raw.githubusercontent.com/romstad/Chess.jl/master/img/bq.svg\" y=\"2\" height=\"1\" width=\"1\"></image></g><g><rect x=\"5\" y=\"3\" class=\"light-square\" height=\"1\" width=\"1\"></rect><g></g></g><g><rect x=\"5\" y=\"4\" class=\"dark-square\" height=\"1\" width=\"1\"></rect><g></g></g><g><rect x=\"5\" y=\"5\" class=\"light-square\" height=\"1\" width=\"1\"></rect><image x=\"5\" xlink:href=\"https://raw.githubusercontent.com/romstad/Chess.jl/master/img/bn.svg\" y=\"5\" height=\"1\" width=\"1\"></image></g><g><rect x=\"5\" y=\"6\" class=\"dark-square\" height=\"1\" width=\"1\"></rect><image x=\"5\" xlink:href=\"https://raw.githubusercontent.com/romstad/Chess.jl/master/img/wp.svg\" y=\"6\" height=\"1\" width=\"1\"></image></g><g><rect x=\"5\" y=\"7\" class=\"light-square\" height=\"1\" width=\"1\"></rect><image x=\"5\" xlink:href=\"https://raw.githubusercontent.com/romstad/Chess.jl/master/img/wr.svg\" y=\"7\" height=\"1\" width=\"1\"></image></g><g><rect x=\"6\" y=\"0\" class=\"light-square\" height=\"1\" width=\"1\"></rect><image x=\"6\" xlink:href=\"https://raw.githubusercontent.com/romstad/Chess.jl/master/img/bn.svg\" y=\"0\" height=\"1\" width=\"1\"></image></g><g><rect x=\"6\" y=\"1\" class=\"dark-square\" height=\"1\" width=\"1\"></rect><image x=\"6\" xlink:href=\"https://raw.githubusercontent.com/romstad/Chess.jl/master/img/bp.svg\" y=\"1\" height=\"1\" width=\"1\"></image></g><g><rect x=\"6\" y=\"2\" class=\"light-square\" height=\"1\" width=\"1\"></rect><g></g></g><g><rect x=\"6\" y=\"3\" class=\"dark-square\" height=\"1\" width=\"1\"></rect><image x=\"6\" xlink:href=\"https://raw.githubusercontent.com/romstad/Chess.jl/master/img/wb.svg\" y=\"3\" height=\"1\" width=\"1\"></image></g><g><rect x=\"6\" y=\"4\" class=\"light-square\" height=\"1\" width=\"1\"></rect><g></g></g><g><rect x=\"6\" y=\"5\" class=\"dark-square\" height=\"1\" width=\"1\"></rect><g></g></g><g><rect x=\"6\" y=\"6\" class=\"light-square\" height=\"1\" width=\"1\"></rect><image x=\"6\" xlink:href=\"https://raw.githubusercontent.com/romstad/Chess.jl/master/img/wp.svg\" y=\"6\" height=\"1\" width=\"1\"></image></g><g><rect x=\"6\" y=\"7\" class=\"dark-square\" height=\"1\" width=\"1\"></rect><image x=\"6\" xlink:href=\"https://raw.githubusercontent.com/romstad/Chess.jl/master/img/wk.svg\" y=\"7\" height=\"1\" width=\"1\"></image></g><g><rect x=\"7\" y=\"0\" class=\"dark-square\" height=\"1\" width=\"1\"></rect><image x=\"7\" xlink:href=\"https://raw.githubusercontent.com/romstad/Chess.jl/master/img/br.svg\" y=\"0\" height=\"1\" width=\"1\"></image></g><g><rect x=\"7\" y=\"1\" class=\"light-square\" height=\"1\" width=\"1\"></rect><image x=\"7\" xlink:href=\"https://raw.githubusercontent.com/romstad/Chess.jl/master/img/bp.svg\" y=\"1\" height=\"1\" width=\"1\"></image></g><g><rect x=\"7\" y=\"2\" class=\"dark-square\" height=\"1\" width=\"1\"></rect><g></g></g><g><rect x=\"7\" y=\"3\" class=\"light-square\" height=\"1\" width=\"1\"></rect><g></g></g><g><rect x=\"7\" y=\"4\" class=\"dark-square\" height=\"1\" width=\"1\"></rect><g></g></g><g><rect x=\"7\" y=\"5\" class=\"light-square\" height=\"1\" width=\"1\"></rect><g></g></g><g><rect x=\"7\" y=\"6\" class=\"dark-square\" height=\"1\" width=\"1\"></rect><image x=\"7\" xlink:href=\"https://raw.githubusercontent.com/romstad/Chess.jl/master/img/wp.svg\" y=\"6\" height=\"1\" width=\"1\"></image></g><g><rect x=\"7\" y=\"7\" class=\"light-square\" height=\"1\" width=\"1\"></rect><g></g></g></g><g></g></svg><div><p>White to move</p><p>Castle rights: kq</p><p><a href=\"https://lichess.org/editor/r1b1kbnr/p2p1ppp/2pP1q2/1p2p1B1/4P3/1B3n2/PPP2PPP/RN1Q1RK1_w_kq_-\" target=\"_blank\">Open in lichess</a></p></div></div>"
      ],
      "text/plain": [
       "Board (r1b1kbnr/p2p1ppp/2pP1q2/1p2p1B1/4P3/1B3n2/PPP2PPP/RN1Q1RK1 w kq -):\n",
       " r  -  b  -  k  b  n  r \n",
       " p  -  -  p  -  p  p  p \n",
       " -  -  p  P  -  q  -  - \n",
       " -  p  -  -  p  -  B  - \n",
       " -  -  -  -  P  -  -  - \n",
       " -  B  -  -  -  n  -  - \n",
       " P  P  P  -  -  P  P  P \n",
       " R  N  -  Q  -  R  K  - "
      ]
     },
     "metadata": {},
     "output_type": "display_data"
    },
    {
     "name": "stdout",
     "output_type": "stream",
     "text": [
      "Make a move. Type 'resign' to resign from the match\n",
      "stdin> d1f3\n",
      "Cleared Cache with 0\n"
     ]
    },
    {
     "data": {
      "text/html": [
       "Board:<div class=\"chessboard\"><style soped=\"true\">.dark-square {\n",
       "    fill: #c3936a;\n",
       "    stroke-width: 0;\n",
       "}\n",
       ".light-square {\n",
       "    fill: #ffd7a6;\n",
       "    stroke-width: 0;\n",
       "}\n",
       ".highlight {\n",
       "    fill: #47d18b;\n",
       "}\n",
       "@media (prefers-color-scheme: dark) {\n",
       "    .dark-square {\n",
       "        fill: #00796b;\n",
       "    }\n",
       "    .light-square {\n",
       "        fill: #3ca59b;\n",
       "    }\n",
       "    .highlight {\n",
       "        fill: #d23600;\n",
       "    }\n",
       "}\n",
       "</style><svg style=\"float: left; margin-right: 20px\" viewBox=\"0 0 8 8\" height=\"280\" width=\"280\"><g><g><rect x=\"0\" y=\"0\" class=\"light-square\" height=\"1\" width=\"1\"></rect><image x=\"0\" xlink:href=\"https://raw.githubusercontent.com/romstad/Chess.jl/master/img/br.svg\" y=\"0\" height=\"1\" width=\"1\"></image></g><g><rect x=\"0\" y=\"1\" class=\"dark-square\" height=\"1\" width=\"1\"></rect><image x=\"0\" xlink:href=\"https://raw.githubusercontent.com/romstad/Chess.jl/master/img/bp.svg\" y=\"1\" height=\"1\" width=\"1\"></image></g><g><rect x=\"0\" y=\"2\" class=\"light-square\" height=\"1\" width=\"1\"></rect><g></g></g><g><rect x=\"0\" y=\"3\" class=\"dark-square\" height=\"1\" width=\"1\"></rect><g></g></g><g><rect x=\"0\" y=\"4\" class=\"light-square\" height=\"1\" width=\"1\"></rect><g></g></g><g><rect x=\"0\" y=\"5\" class=\"dark-square\" height=\"1\" width=\"1\"></rect><g></g></g><g><rect x=\"0\" y=\"6\" class=\"light-square\" height=\"1\" width=\"1\"></rect><image x=\"0\" xlink:href=\"https://raw.githubusercontent.com/romstad/Chess.jl/master/img/wp.svg\" y=\"6\" height=\"1\" width=\"1\"></image></g><g><rect x=\"0\" y=\"7\" class=\"dark-square\" height=\"1\" width=\"1\"></rect><image x=\"0\" xlink:href=\"https://raw.githubusercontent.com/romstad/Chess.jl/master/img/wr.svg\" y=\"7\" height=\"1\" width=\"1\"></image></g><g><rect x=\"1\" y=\"0\" class=\"dark-square\" height=\"1\" width=\"1\"></rect><g></g></g><g><rect x=\"1\" y=\"1\" class=\"light-square\" height=\"1\" width=\"1\"></rect><g></g></g><g><rect x=\"1\" y=\"2\" class=\"dark-square\" height=\"1\" width=\"1\"></rect><g></g></g><g><rect x=\"1\" y=\"3\" class=\"light-square\" height=\"1\" width=\"1\"></rect><image x=\"1\" xlink:href=\"https://raw.githubusercontent.com/romstad/Chess.jl/master/img/bp.svg\" y=\"3\" height=\"1\" width=\"1\"></image></g><g><rect x=\"1\" y=\"4\" class=\"dark-square\" height=\"1\" width=\"1\"></rect><g></g></g><g><rect x=\"1\" y=\"5\" class=\"light-square\" height=\"1\" width=\"1\"></rect><image x=\"1\" xlink:href=\"https://raw.githubusercontent.com/romstad/Chess.jl/master/img/wb.svg\" y=\"5\" height=\"1\" width=\"1\"></image></g><g><rect x=\"1\" y=\"6\" class=\"dark-square\" height=\"1\" width=\"1\"></rect><image x=\"1\" xlink:href=\"https://raw.githubusercontent.com/romstad/Chess.jl/master/img/wp.svg\" y=\"6\" height=\"1\" width=\"1\"></image></g><g><rect x=\"1\" y=\"7\" class=\"light-square\" height=\"1\" width=\"1\"></rect><image x=\"1\" xlink:href=\"https://raw.githubusercontent.com/romstad/Chess.jl/master/img/wn.svg\" y=\"7\" height=\"1\" width=\"1\"></image></g><g><rect x=\"2\" y=\"0\" class=\"light-square\" height=\"1\" width=\"1\"></rect><image x=\"2\" xlink:href=\"https://raw.githubusercontent.com/romstad/Chess.jl/master/img/bb.svg\" y=\"0\" height=\"1\" width=\"1\"></image></g><g><rect x=\"2\" y=\"1\" class=\"dark-square\" height=\"1\" width=\"1\"></rect><g></g></g><g><rect x=\"2\" y=\"2\" class=\"light-square\" height=\"1\" width=\"1\"></rect><image x=\"2\" xlink:href=\"https://raw.githubusercontent.com/romstad/Chess.jl/master/img/bp.svg\" y=\"2\" height=\"1\" width=\"1\"></image></g><g><rect x=\"2\" y=\"3\" class=\"dark-square\" height=\"1\" width=\"1\"></rect><g></g></g><g><rect x=\"2\" y=\"4\" class=\"light-square\" height=\"1\" width=\"1\"></rect><g></g></g><g><rect x=\"2\" y=\"5\" class=\"dark-square\" height=\"1\" width=\"1\"></rect><g></g></g><g><rect x=\"2\" y=\"6\" class=\"light-square\" height=\"1\" width=\"1\"></rect><image x=\"2\" xlink:href=\"https://raw.githubusercontent.com/romstad/Chess.jl/master/img/wp.svg\" y=\"6\" height=\"1\" width=\"1\"></image></g><g><rect x=\"2\" y=\"7\" class=\"dark-square\" height=\"1\" width=\"1\"></rect><g></g></g><g><rect x=\"3\" y=\"0\" class=\"dark-square\" height=\"1\" width=\"1\"></rect><g></g></g><g><rect x=\"3\" y=\"1\" class=\"light-square\" height=\"1\" width=\"1\"></rect><image x=\"3\" xlink:href=\"https://raw.githubusercontent.com/romstad/Chess.jl/master/img/bp.svg\" y=\"1\" height=\"1\" width=\"1\"></image></g><g><rect x=\"3\" y=\"2\" class=\"dark-square\" height=\"1\" width=\"1\"></rect><image x=\"3\" xlink:href=\"https://raw.githubusercontent.com/romstad/Chess.jl/master/img/wp.svg\" y=\"2\" height=\"1\" width=\"1\"></image></g><g><rect x=\"3\" y=\"3\" class=\"light-square\" height=\"1\" width=\"1\"></rect><g></g></g><g><rect x=\"3\" y=\"4\" class=\"dark-square\" height=\"1\" width=\"1\"></rect><g></g></g><g><rect x=\"3\" y=\"5\" class=\"light-square\" height=\"1\" width=\"1\"></rect><g></g></g><g><rect x=\"3\" y=\"6\" class=\"dark-square\" height=\"1\" width=\"1\"></rect><g></g></g><g><rect x=\"3\" y=\"7\" class=\"light-square\" height=\"1\" width=\"1\"></rect><g></g></g><g><rect x=\"4\" y=\"0\" class=\"light-square\" height=\"1\" width=\"1\"></rect><image x=\"4\" xlink:href=\"https://raw.githubusercontent.com/romstad/Chess.jl/master/img/bk.svg\" y=\"0\" height=\"1\" width=\"1\"></image></g><g><rect x=\"4\" y=\"1\" class=\"dark-square\" height=\"1\" width=\"1\"></rect><g></g></g><g><rect x=\"4\" y=\"2\" class=\"light-square\" height=\"1\" width=\"1\"></rect><g></g></g><g><rect x=\"4\" y=\"3\" class=\"dark-square\" height=\"1\" width=\"1\"></rect><image x=\"4\" xlink:href=\"https://raw.githubusercontent.com/romstad/Chess.jl/master/img/bp.svg\" y=\"3\" height=\"1\" width=\"1\"></image></g><g><rect x=\"4\" y=\"4\" class=\"light-square\" height=\"1\" width=\"1\"></rect><image x=\"4\" xlink:href=\"https://raw.githubusercontent.com/romstad/Chess.jl/master/img/wp.svg\" y=\"4\" height=\"1\" width=\"1\"></image></g><g><rect x=\"4\" y=\"5\" class=\"dark-square\" height=\"1\" width=\"1\"></rect><g></g></g><g><rect x=\"4\" y=\"6\" class=\"light-square\" height=\"1\" width=\"1\"></rect><g></g></g><g><rect x=\"4\" y=\"7\" class=\"dark-square\" height=\"1\" width=\"1\"></rect><g></g></g><g><rect x=\"5\" y=\"0\" class=\"dark-square\" height=\"1\" width=\"1\"></rect><image x=\"5\" xlink:href=\"https://raw.githubusercontent.com/romstad/Chess.jl/master/img/bb.svg\" y=\"0\" height=\"1\" width=\"1\"></image></g><g><rect x=\"5\" y=\"1\" class=\"light-square\" height=\"1\" width=\"1\"></rect><image x=\"5\" xlink:href=\"https://raw.githubusercontent.com/romstad/Chess.jl/master/img/bp.svg\" y=\"1\" height=\"1\" width=\"1\"></image></g><g><rect x=\"5\" y=\"2\" class=\"dark-square\" height=\"1\" width=\"1\"></rect><image x=\"5\" xlink:href=\"https://raw.githubusercontent.com/romstad/Chess.jl/master/img/bq.svg\" y=\"2\" height=\"1\" width=\"1\"></image></g><g><rect x=\"5\" y=\"3\" class=\"light-square\" height=\"1\" width=\"1\"></rect><g></g></g><g><rect x=\"5\" y=\"4\" class=\"dark-square\" height=\"1\" width=\"1\"></rect><g></g></g><g><rect x=\"5\" y=\"5\" class=\"light-square\" height=\"1\" width=\"1\"></rect><image x=\"5\" xlink:href=\"https://raw.githubusercontent.com/romstad/Chess.jl/master/img/wq.svg\" y=\"5\" height=\"1\" width=\"1\"></image></g><g><rect x=\"5\" y=\"6\" class=\"dark-square\" height=\"1\" width=\"1\"></rect><image x=\"5\" xlink:href=\"https://raw.githubusercontent.com/romstad/Chess.jl/master/img/wp.svg\" y=\"6\" height=\"1\" width=\"1\"></image></g><g><rect x=\"5\" y=\"7\" class=\"light-square\" height=\"1\" width=\"1\"></rect><image x=\"5\" xlink:href=\"https://raw.githubusercontent.com/romstad/Chess.jl/master/img/wr.svg\" y=\"7\" height=\"1\" width=\"1\"></image></g><g><rect x=\"6\" y=\"0\" class=\"light-square\" height=\"1\" width=\"1\"></rect><image x=\"6\" xlink:href=\"https://raw.githubusercontent.com/romstad/Chess.jl/master/img/bn.svg\" y=\"0\" height=\"1\" width=\"1\"></image></g><g><rect x=\"6\" y=\"1\" class=\"dark-square\" height=\"1\" width=\"1\"></rect><image x=\"6\" xlink:href=\"https://raw.githubusercontent.com/romstad/Chess.jl/master/img/bp.svg\" y=\"1\" height=\"1\" width=\"1\"></image></g><g><rect x=\"6\" y=\"2\" class=\"light-square\" height=\"1\" width=\"1\"></rect><g></g></g><g><rect x=\"6\" y=\"3\" class=\"dark-square\" height=\"1\" width=\"1\"></rect><image x=\"6\" xlink:href=\"https://raw.githubusercontent.com/romstad/Chess.jl/master/img/wb.svg\" y=\"3\" height=\"1\" width=\"1\"></image></g><g><rect x=\"6\" y=\"4\" class=\"light-square\" height=\"1\" width=\"1\"></rect><g></g></g><g><rect x=\"6\" y=\"5\" class=\"dark-square\" height=\"1\" width=\"1\"></rect><g></g></g><g><rect x=\"6\" y=\"6\" class=\"light-square\" height=\"1\" width=\"1\"></rect><image x=\"6\" xlink:href=\"https://raw.githubusercontent.com/romstad/Chess.jl/master/img/wp.svg\" y=\"6\" height=\"1\" width=\"1\"></image></g><g><rect x=\"6\" y=\"7\" class=\"dark-square\" height=\"1\" width=\"1\"></rect><image x=\"6\" xlink:href=\"https://raw.githubusercontent.com/romstad/Chess.jl/master/img/wk.svg\" y=\"7\" height=\"1\" width=\"1\"></image></g><g><rect x=\"7\" y=\"0\" class=\"dark-square\" height=\"1\" width=\"1\"></rect><image x=\"7\" xlink:href=\"https://raw.githubusercontent.com/romstad/Chess.jl/master/img/br.svg\" y=\"0\" height=\"1\" width=\"1\"></image></g><g><rect x=\"7\" y=\"1\" class=\"light-square\" height=\"1\" width=\"1\"></rect><image x=\"7\" xlink:href=\"https://raw.githubusercontent.com/romstad/Chess.jl/master/img/bp.svg\" y=\"1\" height=\"1\" width=\"1\"></image></g><g><rect x=\"7\" y=\"2\" class=\"dark-square\" height=\"1\" width=\"1\"></rect><g></g></g><g><rect x=\"7\" y=\"3\" class=\"light-square\" height=\"1\" width=\"1\"></rect><g></g></g><g><rect x=\"7\" y=\"4\" class=\"dark-square\" height=\"1\" width=\"1\"></rect><g></g></g><g><rect x=\"7\" y=\"5\" class=\"light-square\" height=\"1\" width=\"1\"></rect><g></g></g><g><rect x=\"7\" y=\"6\" class=\"dark-square\" height=\"1\" width=\"1\"></rect><image x=\"7\" xlink:href=\"https://raw.githubusercontent.com/romstad/Chess.jl/master/img/wp.svg\" y=\"6\" height=\"1\" width=\"1\"></image></g><g><rect x=\"7\" y=\"7\" class=\"light-square\" height=\"1\" width=\"1\"></rect><g></g></g></g><g></g></svg><div><p>Black to move</p><p>Castle rights: kq</p><p><a href=\"https://lichess.org/editor/r1b1kbnr/p2p1ppp/2pP1q2/1p2p1B1/4P3/1B3Q2/PPP2PPP/RN3RK1_b_kq_-\" target=\"_blank\">Open in lichess</a></p></div></div>"
      ],
      "text/plain": [
       "Board (r1b1kbnr/p2p1ppp/2pP1q2/1p2p1B1/4P3/1B3Q2/PPP2PPP/RN3RK1 b kq -):\n",
       " r  -  b  -  k  b  n  r \n",
       " p  -  -  p  -  p  p  p \n",
       " -  -  p  P  -  q  -  - \n",
       " -  p  -  -  p  -  B  - \n",
       " -  -  -  -  P  -  -  - \n",
       " -  B  -  -  -  Q  -  - \n",
       " P  P  P  -  -  P  P  P \n",
       " R  N  -  -  -  R  K  - "
      ]
     },
     "metadata": {},
     "output_type": "display_data"
    },
    {
     "name": "stdout",
     "output_type": "stream",
     "text": [
      "Evaluation of engine: -15.0\n",
      "Current board score: 145\n",
      "Current entries in Cache: 4924\n",
      "Cleared Cache with 4924\n",
      "  4.357609 seconds (16.35 M allocations: 904.297 MiB, 3.96% gc time, 1.13% compilation time)\n"
     ]
    },
    {
     "data": {
      "text/html": [
       "Board:<div class=\"chessboard\"><style soped=\"true\">.dark-square {\n",
       "    fill: #c3936a;\n",
       "    stroke-width: 0;\n",
       "}\n",
       ".light-square {\n",
       "    fill: #ffd7a6;\n",
       "    stroke-width: 0;\n",
       "}\n",
       ".highlight {\n",
       "    fill: #47d18b;\n",
       "}\n",
       "@media (prefers-color-scheme: dark) {\n",
       "    .dark-square {\n",
       "        fill: #00796b;\n",
       "    }\n",
       "    .light-square {\n",
       "        fill: #3ca59b;\n",
       "    }\n",
       "    .highlight {\n",
       "        fill: #d23600;\n",
       "    }\n",
       "}\n",
       "</style><svg style=\"float: left; margin-right: 20px\" viewBox=\"0 0 8 8\" height=\"280\" width=\"280\"><g><g><rect x=\"0\" y=\"0\" class=\"light-square\" height=\"1\" width=\"1\"></rect><image x=\"0\" xlink:href=\"https://raw.githubusercontent.com/romstad/Chess.jl/master/img/br.svg\" y=\"0\" height=\"1\" width=\"1\"></image></g><g><rect x=\"0\" y=\"1\" class=\"dark-square\" height=\"1\" width=\"1\"></rect><image x=\"0\" xlink:href=\"https://raw.githubusercontent.com/romstad/Chess.jl/master/img/bp.svg\" y=\"1\" height=\"1\" width=\"1\"></image></g><g><rect x=\"0\" y=\"2\" class=\"light-square\" height=\"1\" width=\"1\"></rect><g></g></g><g><rect x=\"0\" y=\"3\" class=\"dark-square\" height=\"1\" width=\"1\"></rect><g></g></g><g><rect x=\"0\" y=\"4\" class=\"light-square\" height=\"1\" width=\"1\"></rect><g></g></g><g><rect x=\"0\" y=\"5\" class=\"dark-square\" height=\"1\" width=\"1\"></rect><g></g></g><g><rect x=\"0\" y=\"6\" class=\"light-square\" height=\"1\" width=\"1\"></rect><image x=\"0\" xlink:href=\"https://raw.githubusercontent.com/romstad/Chess.jl/master/img/wp.svg\" y=\"6\" height=\"1\" width=\"1\"></image></g><g><rect x=\"0\" y=\"7\" class=\"dark-square\" height=\"1\" width=\"1\"></rect><image x=\"0\" xlink:href=\"https://raw.githubusercontent.com/romstad/Chess.jl/master/img/wr.svg\" y=\"7\" height=\"1\" width=\"1\"></image></g><g><rect x=\"1\" y=\"0\" class=\"dark-square\" height=\"1\" width=\"1\"></rect><g></g></g><g><rect x=\"1\" y=\"1\" class=\"light-square\" height=\"1\" width=\"1\"></rect><g></g></g><g><rect x=\"1\" y=\"2\" class=\"dark-square\" height=\"1\" width=\"1\"></rect><g></g></g><g><rect x=\"1\" y=\"3\" class=\"light-square\" height=\"1\" width=\"1\"></rect><image x=\"1\" xlink:href=\"https://raw.githubusercontent.com/romstad/Chess.jl/master/img/bp.svg\" y=\"3\" height=\"1\" width=\"1\"></image></g><g><rect x=\"1\" y=\"4\" class=\"dark-square\" height=\"1\" width=\"1\"></rect><g></g></g><g><rect x=\"1\" y=\"5\" class=\"light-square\" height=\"1\" width=\"1\"></rect><image x=\"1\" xlink:href=\"https://raw.githubusercontent.com/romstad/Chess.jl/master/img/wb.svg\" y=\"5\" height=\"1\" width=\"1\"></image></g><g><rect x=\"1\" y=\"6\" class=\"dark-square\" height=\"1\" width=\"1\"></rect><image x=\"1\" xlink:href=\"https://raw.githubusercontent.com/romstad/Chess.jl/master/img/wp.svg\" y=\"6\" height=\"1\" width=\"1\"></image></g><g><rect x=\"1\" y=\"7\" class=\"light-square\" height=\"1\" width=\"1\"></rect><image x=\"1\" xlink:href=\"https://raw.githubusercontent.com/romstad/Chess.jl/master/img/wn.svg\" y=\"7\" height=\"1\" width=\"1\"></image></g><g><rect x=\"2\" y=\"0\" class=\"light-square\" height=\"1\" width=\"1\"></rect><image x=\"2\" xlink:href=\"https://raw.githubusercontent.com/romstad/Chess.jl/master/img/bb.svg\" y=\"0\" height=\"1\" width=\"1\"></image></g><g><rect x=\"2\" y=\"1\" class=\"dark-square\" height=\"1\" width=\"1\"></rect><g></g></g><g><rect x=\"2\" y=\"2\" class=\"light-square\" height=\"1\" width=\"1\"></rect><image x=\"2\" xlink:href=\"https://raw.githubusercontent.com/romstad/Chess.jl/master/img/bp.svg\" y=\"2\" height=\"1\" width=\"1\"></image></g><g><rect x=\"2\" y=\"3\" class=\"dark-square\" height=\"1\" width=\"1\"></rect><g></g></g><g><rect x=\"2\" y=\"4\" class=\"light-square\" height=\"1\" width=\"1\"></rect><g></g></g><g><rect x=\"2\" y=\"5\" class=\"dark-square\" height=\"1\" width=\"1\"></rect><g></g></g><g><rect x=\"2\" y=\"6\" class=\"light-square\" height=\"1\" width=\"1\"></rect><image x=\"2\" xlink:href=\"https://raw.githubusercontent.com/romstad/Chess.jl/master/img/wp.svg\" y=\"6\" height=\"1\" width=\"1\"></image></g><g><rect x=\"2\" y=\"7\" class=\"dark-square\" height=\"1\" width=\"1\"></rect><g></g></g><g><rect x=\"3\" y=\"0\" class=\"dark-square\" height=\"1\" width=\"1\"></rect><g></g></g><g><rect x=\"3\" y=\"1\" class=\"light-square\" height=\"1\" width=\"1\"></rect><image x=\"3\" xlink:href=\"https://raw.githubusercontent.com/romstad/Chess.jl/master/img/bp.svg\" y=\"1\" height=\"1\" width=\"1\"></image></g><g><rect x=\"3\" y=\"2\" class=\"dark-square\" height=\"1\" width=\"1\"></rect><image x=\"3\" xlink:href=\"https://raw.githubusercontent.com/romstad/Chess.jl/master/img/wp.svg\" y=\"2\" height=\"1\" width=\"1\"></image></g><g><rect x=\"3\" y=\"3\" class=\"light-square\" height=\"1\" width=\"1\"></rect><g></g></g><g><rect x=\"3\" y=\"4\" class=\"dark-square\" height=\"1\" width=\"1\"></rect><g></g></g><g><rect x=\"3\" y=\"5\" class=\"light-square\" height=\"1\" width=\"1\"></rect><g></g></g><g><rect x=\"3\" y=\"6\" class=\"dark-square\" height=\"1\" width=\"1\"></rect><g></g></g><g><rect x=\"3\" y=\"7\" class=\"light-square\" height=\"1\" width=\"1\"></rect><g></g></g><g><rect x=\"4\" y=\"0\" class=\"light-square\" height=\"1\" width=\"1\"></rect><image x=\"4\" xlink:href=\"https://raw.githubusercontent.com/romstad/Chess.jl/master/img/bk.svg\" y=\"0\" height=\"1\" width=\"1\"></image></g><g><rect x=\"4\" y=\"1\" class=\"dark-square\" height=\"1\" width=\"1\"></rect><g></g></g><g><rect x=\"4\" y=\"2\" class=\"light-square\" height=\"1\" width=\"1\"></rect><g></g></g><g><rect x=\"4\" y=\"3\" class=\"dark-square\" height=\"1\" width=\"1\"></rect><image x=\"4\" xlink:href=\"https://raw.githubusercontent.com/romstad/Chess.jl/master/img/bp.svg\" y=\"3\" height=\"1\" width=\"1\"></image></g><g><rect x=\"4\" y=\"4\" class=\"light-square\" height=\"1\" width=\"1\"></rect><image x=\"4\" xlink:href=\"https://raw.githubusercontent.com/romstad/Chess.jl/master/img/wp.svg\" y=\"4\" height=\"1\" width=\"1\"></image></g><g><rect x=\"4\" y=\"5\" class=\"dark-square\" height=\"1\" width=\"1\"></rect><g></g></g><g><rect x=\"4\" y=\"6\" class=\"light-square\" height=\"1\" width=\"1\"></rect><g></g></g><g><rect x=\"4\" y=\"7\" class=\"dark-square\" height=\"1\" width=\"1\"></rect><g></g></g><g><rect x=\"5\" y=\"0\" class=\"dark-square\" height=\"1\" width=\"1\"></rect><image x=\"5\" xlink:href=\"https://raw.githubusercontent.com/romstad/Chess.jl/master/img/bb.svg\" y=\"0\" height=\"1\" width=\"1\"></image></g><g><rect x=\"5\" y=\"1\" class=\"light-square\" height=\"1\" width=\"1\"></rect><image x=\"5\" xlink:href=\"https://raw.githubusercontent.com/romstad/Chess.jl/master/img/bp.svg\" y=\"1\" height=\"1\" width=\"1\"></image></g><g><rect x=\"5\" y=\"2\" class=\"dark-square\" height=\"1\" width=\"1\"></rect><g></g></g><g><rect x=\"5\" y=\"3\" class=\"light-square\" height=\"1\" width=\"1\"></rect><g></g></g><g><rect x=\"5\" y=\"4\" class=\"dark-square\" height=\"1\" width=\"1\"></rect><g></g></g><g><rect x=\"5\" y=\"5\" class=\"light-square\" height=\"1\" width=\"1\"></rect><image x=\"5\" xlink:href=\"https://raw.githubusercontent.com/romstad/Chess.jl/master/img/bq.svg\" y=\"5\" height=\"1\" width=\"1\"></image></g><g><rect x=\"5\" y=\"6\" class=\"dark-square\" height=\"1\" width=\"1\"></rect><image x=\"5\" xlink:href=\"https://raw.githubusercontent.com/romstad/Chess.jl/master/img/wp.svg\" y=\"6\" height=\"1\" width=\"1\"></image></g><g><rect x=\"5\" y=\"7\" class=\"light-square\" height=\"1\" width=\"1\"></rect><image x=\"5\" xlink:href=\"https://raw.githubusercontent.com/romstad/Chess.jl/master/img/wr.svg\" y=\"7\" height=\"1\" width=\"1\"></image></g><g><rect x=\"6\" y=\"0\" class=\"light-square\" height=\"1\" width=\"1\"></rect><image x=\"6\" xlink:href=\"https://raw.githubusercontent.com/romstad/Chess.jl/master/img/bn.svg\" y=\"0\" height=\"1\" width=\"1\"></image></g><g><rect x=\"6\" y=\"1\" class=\"dark-square\" height=\"1\" width=\"1\"></rect><image x=\"6\" xlink:href=\"https://raw.githubusercontent.com/romstad/Chess.jl/master/img/bp.svg\" y=\"1\" height=\"1\" width=\"1\"></image></g><g><rect x=\"6\" y=\"2\" class=\"light-square\" height=\"1\" width=\"1\"></rect><g></g></g><g><rect x=\"6\" y=\"3\" class=\"dark-square\" height=\"1\" width=\"1\"></rect><image x=\"6\" xlink:href=\"https://raw.githubusercontent.com/romstad/Chess.jl/master/img/wb.svg\" y=\"3\" height=\"1\" width=\"1\"></image></g><g><rect x=\"6\" y=\"4\" class=\"light-square\" height=\"1\" width=\"1\"></rect><g></g></g><g><rect x=\"6\" y=\"5\" class=\"dark-square\" height=\"1\" width=\"1\"></rect><g></g></g><g><rect x=\"6\" y=\"6\" class=\"light-square\" height=\"1\" width=\"1\"></rect><image x=\"6\" xlink:href=\"https://raw.githubusercontent.com/romstad/Chess.jl/master/img/wp.svg\" y=\"6\" height=\"1\" width=\"1\"></image></g><g><rect x=\"6\" y=\"7\" class=\"dark-square\" height=\"1\" width=\"1\"></rect><image x=\"6\" xlink:href=\"https://raw.githubusercontent.com/romstad/Chess.jl/master/img/wk.svg\" y=\"7\" height=\"1\" width=\"1\"></image></g><g><rect x=\"7\" y=\"0\" class=\"dark-square\" height=\"1\" width=\"1\"></rect><image x=\"7\" xlink:href=\"https://raw.githubusercontent.com/romstad/Chess.jl/master/img/br.svg\" y=\"0\" height=\"1\" width=\"1\"></image></g><g><rect x=\"7\" y=\"1\" class=\"light-square\" height=\"1\" width=\"1\"></rect><image x=\"7\" xlink:href=\"https://raw.githubusercontent.com/romstad/Chess.jl/master/img/bp.svg\" y=\"1\" height=\"1\" width=\"1\"></image></g><g><rect x=\"7\" y=\"2\" class=\"dark-square\" height=\"1\" width=\"1\"></rect><g></g></g><g><rect x=\"7\" y=\"3\" class=\"light-square\" height=\"1\" width=\"1\"></rect><g></g></g><g><rect x=\"7\" y=\"4\" class=\"dark-square\" height=\"1\" width=\"1\"></rect><g></g></g><g><rect x=\"7\" y=\"5\" class=\"light-square\" height=\"1\" width=\"1\"></rect><g></g></g><g><rect x=\"7\" y=\"6\" class=\"dark-square\" height=\"1\" width=\"1\"></rect><image x=\"7\" xlink:href=\"https://raw.githubusercontent.com/romstad/Chess.jl/master/img/wp.svg\" y=\"6\" height=\"1\" width=\"1\"></image></g><g><rect x=\"7\" y=\"7\" class=\"light-square\" height=\"1\" width=\"1\"></rect><g></g></g></g><g></g></svg><div><p>White to move</p><p>Castle rights: kq</p><p><a href=\"https://lichess.org/editor/r1b1kbnr/p2p1ppp/2pP4/1p2p1B1/4P3/1B3q2/PPP2PPP/RN3RK1_w_kq_-\" target=\"_blank\">Open in lichess</a></p></div></div>"
      ],
      "text/plain": [
       "Board (r1b1kbnr/p2p1ppp/2pP4/1p2p1B1/4P3/1B3q2/PPP2PPP/RN3RK1 w kq -):\n",
       " r  -  b  -  k  b  n  r \n",
       " p  -  -  p  -  p  p  p \n",
       " -  -  p  P  -  -  -  - \n",
       " -  p  -  -  p  -  B  - \n",
       " -  -  -  -  P  -  -  - \n",
       " -  B  -  -  -  q  -  - \n",
       " P  P  P  -  -  P  P  P \n",
       " R  N  -  -  -  R  K  - "
      ]
     },
     "metadata": {},
     "output_type": "display_data"
    },
    {
     "name": "stdout",
     "output_type": "stream",
     "text": [
      "Make a move. Type 'resign' to resign from the match\n",
      "stdin> g2f3\n",
      "Cleared Cache with 0\n",
      "Inkremental score is 35 but should be 95\n"
     ]
    },
    {
     "data": {
      "text/html": [
       "Board:<div class=\"chessboard\"><style soped=\"true\">.dark-square {\n",
       "    fill: #c3936a;\n",
       "    stroke-width: 0;\n",
       "}\n",
       ".light-square {\n",
       "    fill: #ffd7a6;\n",
       "    stroke-width: 0;\n",
       "}\n",
       ".highlight {\n",
       "    fill: #47d18b;\n",
       "}\n",
       "@media (prefers-color-scheme: dark) {\n",
       "    .dark-square {\n",
       "        fill: #00796b;\n",
       "    }\n",
       "    .light-square {\n",
       "        fill: #3ca59b;\n",
       "    }\n",
       "    .highlight {\n",
       "        fill: #d23600;\n",
       "    }\n",
       "}\n",
       "</style><svg style=\"float: left; margin-right: 20px\" viewBox=\"0 0 8 8\" height=\"280\" width=\"280\"><g><g><rect x=\"0\" y=\"0\" class=\"light-square\" height=\"1\" width=\"1\"></rect><image x=\"0\" xlink:href=\"https://raw.githubusercontent.com/romstad/Chess.jl/master/img/br.svg\" y=\"0\" height=\"1\" width=\"1\"></image></g><g><rect x=\"0\" y=\"1\" class=\"dark-square\" height=\"1\" width=\"1\"></rect><image x=\"0\" xlink:href=\"https://raw.githubusercontent.com/romstad/Chess.jl/master/img/bp.svg\" y=\"1\" height=\"1\" width=\"1\"></image></g><g><rect x=\"0\" y=\"2\" class=\"light-square\" height=\"1\" width=\"1\"></rect><g></g></g><g><rect x=\"0\" y=\"3\" class=\"dark-square\" height=\"1\" width=\"1\"></rect><g></g></g><g><rect x=\"0\" y=\"4\" class=\"light-square\" height=\"1\" width=\"1\"></rect><g></g></g><g><rect x=\"0\" y=\"5\" class=\"dark-square\" height=\"1\" width=\"1\"></rect><g></g></g><g><rect x=\"0\" y=\"6\" class=\"light-square\" height=\"1\" width=\"1\"></rect><image x=\"0\" xlink:href=\"https://raw.githubusercontent.com/romstad/Chess.jl/master/img/wp.svg\" y=\"6\" height=\"1\" width=\"1\"></image></g><g><rect x=\"0\" y=\"7\" class=\"dark-square\" height=\"1\" width=\"1\"></rect><image x=\"0\" xlink:href=\"https://raw.githubusercontent.com/romstad/Chess.jl/master/img/wr.svg\" y=\"7\" height=\"1\" width=\"1\"></image></g><g><rect x=\"1\" y=\"0\" class=\"dark-square\" height=\"1\" width=\"1\"></rect><g></g></g><g><rect x=\"1\" y=\"1\" class=\"light-square\" height=\"1\" width=\"1\"></rect><g></g></g><g><rect x=\"1\" y=\"2\" class=\"dark-square\" height=\"1\" width=\"1\"></rect><g></g></g><g><rect x=\"1\" y=\"3\" class=\"light-square\" height=\"1\" width=\"1\"></rect><image x=\"1\" xlink:href=\"https://raw.githubusercontent.com/romstad/Chess.jl/master/img/bp.svg\" y=\"3\" height=\"1\" width=\"1\"></image></g><g><rect x=\"1\" y=\"4\" class=\"dark-square\" height=\"1\" width=\"1\"></rect><g></g></g><g><rect x=\"1\" y=\"5\" class=\"light-square\" height=\"1\" width=\"1\"></rect><image x=\"1\" xlink:href=\"https://raw.githubusercontent.com/romstad/Chess.jl/master/img/wb.svg\" y=\"5\" height=\"1\" width=\"1\"></image></g><g><rect x=\"1\" y=\"6\" class=\"dark-square\" height=\"1\" width=\"1\"></rect><image x=\"1\" xlink:href=\"https://raw.githubusercontent.com/romstad/Chess.jl/master/img/wp.svg\" y=\"6\" height=\"1\" width=\"1\"></image></g><g><rect x=\"1\" y=\"7\" class=\"light-square\" height=\"1\" width=\"1\"></rect><image x=\"1\" xlink:href=\"https://raw.githubusercontent.com/romstad/Chess.jl/master/img/wn.svg\" y=\"7\" height=\"1\" width=\"1\"></image></g><g><rect x=\"2\" y=\"0\" class=\"light-square\" height=\"1\" width=\"1\"></rect><image x=\"2\" xlink:href=\"https://raw.githubusercontent.com/romstad/Chess.jl/master/img/bb.svg\" y=\"0\" height=\"1\" width=\"1\"></image></g><g><rect x=\"2\" y=\"1\" class=\"dark-square\" height=\"1\" width=\"1\"></rect><g></g></g><g><rect x=\"2\" y=\"2\" class=\"light-square\" height=\"1\" width=\"1\"></rect><image x=\"2\" xlink:href=\"https://raw.githubusercontent.com/romstad/Chess.jl/master/img/bp.svg\" y=\"2\" height=\"1\" width=\"1\"></image></g><g><rect x=\"2\" y=\"3\" class=\"dark-square\" height=\"1\" width=\"1\"></rect><g></g></g><g><rect x=\"2\" y=\"4\" class=\"light-square\" height=\"1\" width=\"1\"></rect><g></g></g><g><rect x=\"2\" y=\"5\" class=\"dark-square\" height=\"1\" width=\"1\"></rect><g></g></g><g><rect x=\"2\" y=\"6\" class=\"light-square\" height=\"1\" width=\"1\"></rect><image x=\"2\" xlink:href=\"https://raw.githubusercontent.com/romstad/Chess.jl/master/img/wp.svg\" y=\"6\" height=\"1\" width=\"1\"></image></g><g><rect x=\"2\" y=\"7\" class=\"dark-square\" height=\"1\" width=\"1\"></rect><g></g></g><g><rect x=\"3\" y=\"0\" class=\"dark-square\" height=\"1\" width=\"1\"></rect><g></g></g><g><rect x=\"3\" y=\"1\" class=\"light-square\" height=\"1\" width=\"1\"></rect><image x=\"3\" xlink:href=\"https://raw.githubusercontent.com/romstad/Chess.jl/master/img/bp.svg\" y=\"1\" height=\"1\" width=\"1\"></image></g><g><rect x=\"3\" y=\"2\" class=\"dark-square\" height=\"1\" width=\"1\"></rect><image x=\"3\" xlink:href=\"https://raw.githubusercontent.com/romstad/Chess.jl/master/img/wp.svg\" y=\"2\" height=\"1\" width=\"1\"></image></g><g><rect x=\"3\" y=\"3\" class=\"light-square\" height=\"1\" width=\"1\"></rect><g></g></g><g><rect x=\"3\" y=\"4\" class=\"dark-square\" height=\"1\" width=\"1\"></rect><g></g></g><g><rect x=\"3\" y=\"5\" class=\"light-square\" height=\"1\" width=\"1\"></rect><g></g></g><g><rect x=\"3\" y=\"6\" class=\"dark-square\" height=\"1\" width=\"1\"></rect><g></g></g><g><rect x=\"3\" y=\"7\" class=\"light-square\" height=\"1\" width=\"1\"></rect><g></g></g><g><rect x=\"4\" y=\"0\" class=\"light-square\" height=\"1\" width=\"1\"></rect><image x=\"4\" xlink:href=\"https://raw.githubusercontent.com/romstad/Chess.jl/master/img/bk.svg\" y=\"0\" height=\"1\" width=\"1\"></image></g><g><rect x=\"4\" y=\"1\" class=\"dark-square\" height=\"1\" width=\"1\"></rect><g></g></g><g><rect x=\"4\" y=\"2\" class=\"light-square\" height=\"1\" width=\"1\"></rect><g></g></g><g><rect x=\"4\" y=\"3\" class=\"dark-square\" height=\"1\" width=\"1\"></rect><image x=\"4\" xlink:href=\"https://raw.githubusercontent.com/romstad/Chess.jl/master/img/bp.svg\" y=\"3\" height=\"1\" width=\"1\"></image></g><g><rect x=\"4\" y=\"4\" class=\"light-square\" height=\"1\" width=\"1\"></rect><image x=\"4\" xlink:href=\"https://raw.githubusercontent.com/romstad/Chess.jl/master/img/wp.svg\" y=\"4\" height=\"1\" width=\"1\"></image></g><g><rect x=\"4\" y=\"5\" class=\"dark-square\" height=\"1\" width=\"1\"></rect><g></g></g><g><rect x=\"4\" y=\"6\" class=\"light-square\" height=\"1\" width=\"1\"></rect><g></g></g><g><rect x=\"4\" y=\"7\" class=\"dark-square\" height=\"1\" width=\"1\"></rect><g></g></g><g><rect x=\"5\" y=\"0\" class=\"dark-square\" height=\"1\" width=\"1\"></rect><image x=\"5\" xlink:href=\"https://raw.githubusercontent.com/romstad/Chess.jl/master/img/bb.svg\" y=\"0\" height=\"1\" width=\"1\"></image></g><g><rect x=\"5\" y=\"1\" class=\"light-square\" height=\"1\" width=\"1\"></rect><image x=\"5\" xlink:href=\"https://raw.githubusercontent.com/romstad/Chess.jl/master/img/bp.svg\" y=\"1\" height=\"1\" width=\"1\"></image></g><g><rect x=\"5\" y=\"2\" class=\"dark-square\" height=\"1\" width=\"1\"></rect><g></g></g><g><rect x=\"5\" y=\"3\" class=\"light-square\" height=\"1\" width=\"1\"></rect><g></g></g><g><rect x=\"5\" y=\"4\" class=\"dark-square\" height=\"1\" width=\"1\"></rect><g></g></g><g><rect x=\"5\" y=\"5\" class=\"light-square\" height=\"1\" width=\"1\"></rect><image x=\"5\" xlink:href=\"https://raw.githubusercontent.com/romstad/Chess.jl/master/img/wp.svg\" y=\"5\" height=\"1\" width=\"1\"></image></g><g><rect x=\"5\" y=\"6\" class=\"dark-square\" height=\"1\" width=\"1\"></rect><image x=\"5\" xlink:href=\"https://raw.githubusercontent.com/romstad/Chess.jl/master/img/wp.svg\" y=\"6\" height=\"1\" width=\"1\"></image></g><g><rect x=\"5\" y=\"7\" class=\"light-square\" height=\"1\" width=\"1\"></rect><image x=\"5\" xlink:href=\"https://raw.githubusercontent.com/romstad/Chess.jl/master/img/wr.svg\" y=\"7\" height=\"1\" width=\"1\"></image></g><g><rect x=\"6\" y=\"0\" class=\"light-square\" height=\"1\" width=\"1\"></rect><image x=\"6\" xlink:href=\"https://raw.githubusercontent.com/romstad/Chess.jl/master/img/bn.svg\" y=\"0\" height=\"1\" width=\"1\"></image></g><g><rect x=\"6\" y=\"1\" class=\"dark-square\" height=\"1\" width=\"1\"></rect><image x=\"6\" xlink:href=\"https://raw.githubusercontent.com/romstad/Chess.jl/master/img/bp.svg\" y=\"1\" height=\"1\" width=\"1\"></image></g><g><rect x=\"6\" y=\"2\" class=\"light-square\" height=\"1\" width=\"1\"></rect><g></g></g><g><rect x=\"6\" y=\"3\" class=\"dark-square\" height=\"1\" width=\"1\"></rect><image x=\"6\" xlink:href=\"https://raw.githubusercontent.com/romstad/Chess.jl/master/img/wb.svg\" y=\"3\" height=\"1\" width=\"1\"></image></g><g><rect x=\"6\" y=\"4\" class=\"light-square\" height=\"1\" width=\"1\"></rect><g></g></g><g><rect x=\"6\" y=\"5\" class=\"dark-square\" height=\"1\" width=\"1\"></rect><g></g></g><g><rect x=\"6\" y=\"6\" class=\"light-square\" height=\"1\" width=\"1\"></rect><g></g></g><g><rect x=\"6\" y=\"7\" class=\"dark-square\" height=\"1\" width=\"1\"></rect><image x=\"6\" xlink:href=\"https://raw.githubusercontent.com/romstad/Chess.jl/master/img/wk.svg\" y=\"7\" height=\"1\" width=\"1\"></image></g><g><rect x=\"7\" y=\"0\" class=\"dark-square\" height=\"1\" width=\"1\"></rect><image x=\"7\" xlink:href=\"https://raw.githubusercontent.com/romstad/Chess.jl/master/img/br.svg\" y=\"0\" height=\"1\" width=\"1\"></image></g><g><rect x=\"7\" y=\"1\" class=\"light-square\" height=\"1\" width=\"1\"></rect><image x=\"7\" xlink:href=\"https://raw.githubusercontent.com/romstad/Chess.jl/master/img/bp.svg\" y=\"1\" height=\"1\" width=\"1\"></image></g><g><rect x=\"7\" y=\"2\" class=\"dark-square\" height=\"1\" width=\"1\"></rect><g></g></g><g><rect x=\"7\" y=\"3\" class=\"light-square\" height=\"1\" width=\"1\"></rect><g></g></g><g><rect x=\"7\" y=\"4\" class=\"dark-square\" height=\"1\" width=\"1\"></rect><g></g></g><g><rect x=\"7\" y=\"5\" class=\"light-square\" height=\"1\" width=\"1\"></rect><g></g></g><g><rect x=\"7\" y=\"6\" class=\"dark-square\" height=\"1\" width=\"1\"></rect><image x=\"7\" xlink:href=\"https://raw.githubusercontent.com/romstad/Chess.jl/master/img/wp.svg\" y=\"6\" height=\"1\" width=\"1\"></image></g><g><rect x=\"7\" y=\"7\" class=\"light-square\" height=\"1\" width=\"1\"></rect><g></g></g></g><g></g></svg><div><p>Black to move</p><p>Castle rights: kq</p><p><a href=\"https://lichess.org/editor/r1b1kbnr/p2p1ppp/2pP4/1p2p1B1/4P3/1B3P2/PPP2P1P/RN3RK1_b_kq_-\" target=\"_blank\">Open in lichess</a></p></div></div>"
      ],
      "text/plain": [
       "Board (r1b1kbnr/p2p1ppp/2pP4/1p2p1B1/4P3/1B3P2/PPP2P1P/RN3RK1 b kq -):\n",
       " r  -  b  -  k  b  n  r \n",
       " p  -  -  p  -  p  p  p \n",
       " -  -  p  P  -  -  -  - \n",
       " -  p  -  -  p  -  B  - \n",
       " -  -  -  -  P  -  -  - \n",
       " -  B  -  -  -  P  -  - \n",
       " P  P  P  -  -  P  -  P \n",
       " R  N  -  -  -  R  K  - "
      ]
     },
     "metadata": {},
     "output_type": "display_data"
    },
    {
     "name": "stdout",
     "output_type": "stream",
     "text": [
      "Evaluation of engine: 0.0\n",
      "Current board score: 35\n",
      "Current entries in Cache: 2859\n",
      "Cleared Cache with 2859\n",
      "  2.237622 seconds (7.41 M allocations: 430.959 MiB, 4.33% gc time)\n",
      "Inkremental score is 35 but should be 95\n"
     ]
    },
    {
     "data": {
      "text/html": [
       "Board:<div class=\"chessboard\"><style soped=\"true\">.dark-square {\n",
       "    fill: #c3936a;\n",
       "    stroke-width: 0;\n",
       "}\n",
       ".light-square {\n",
       "    fill: #ffd7a6;\n",
       "    stroke-width: 0;\n",
       "}\n",
       ".highlight {\n",
       "    fill: #47d18b;\n",
       "}\n",
       "@media (prefers-color-scheme: dark) {\n",
       "    .dark-square {\n",
       "        fill: #00796b;\n",
       "    }\n",
       "    .light-square {\n",
       "        fill: #3ca59b;\n",
       "    }\n",
       "    .highlight {\n",
       "        fill: #d23600;\n",
       "    }\n",
       "}\n",
       "</style><svg style=\"float: left; margin-right: 20px\" viewBox=\"0 0 8 8\" height=\"280\" width=\"280\"><g><g><rect x=\"0\" y=\"0\" class=\"light-square\" height=\"1\" width=\"1\"></rect><image x=\"0\" xlink:href=\"https://raw.githubusercontent.com/romstad/Chess.jl/master/img/br.svg\" y=\"0\" height=\"1\" width=\"1\"></image></g><g><rect x=\"0\" y=\"1\" class=\"dark-square\" height=\"1\" width=\"1\"></rect><image x=\"0\" xlink:href=\"https://raw.githubusercontent.com/romstad/Chess.jl/master/img/bp.svg\" y=\"1\" height=\"1\" width=\"1\"></image></g><g><rect x=\"0\" y=\"2\" class=\"light-square\" height=\"1\" width=\"1\"></rect><g></g></g><g><rect x=\"0\" y=\"3\" class=\"dark-square\" height=\"1\" width=\"1\"></rect><g></g></g><g><rect x=\"0\" y=\"4\" class=\"light-square\" height=\"1\" width=\"1\"></rect><g></g></g><g><rect x=\"0\" y=\"5\" class=\"dark-square\" height=\"1\" width=\"1\"></rect><g></g></g><g><rect x=\"0\" y=\"6\" class=\"light-square\" height=\"1\" width=\"1\"></rect><image x=\"0\" xlink:href=\"https://raw.githubusercontent.com/romstad/Chess.jl/master/img/wp.svg\" y=\"6\" height=\"1\" width=\"1\"></image></g><g><rect x=\"0\" y=\"7\" class=\"dark-square\" height=\"1\" width=\"1\"></rect><image x=\"0\" xlink:href=\"https://raw.githubusercontent.com/romstad/Chess.jl/master/img/wr.svg\" y=\"7\" height=\"1\" width=\"1\"></image></g><g><rect x=\"1\" y=\"0\" class=\"dark-square\" height=\"1\" width=\"1\"></rect><g></g></g><g><rect x=\"1\" y=\"1\" class=\"light-square\" height=\"1\" width=\"1\"></rect><g></g></g><g><rect x=\"1\" y=\"2\" class=\"dark-square\" height=\"1\" width=\"1\"></rect><g></g></g><g><rect x=\"1\" y=\"3\" class=\"light-square\" height=\"1\" width=\"1\"></rect><image x=\"1\" xlink:href=\"https://raw.githubusercontent.com/romstad/Chess.jl/master/img/bp.svg\" y=\"3\" height=\"1\" width=\"1\"></image></g><g><rect x=\"1\" y=\"4\" class=\"dark-square\" height=\"1\" width=\"1\"></rect><g></g></g><g><rect x=\"1\" y=\"5\" class=\"light-square\" height=\"1\" width=\"1\"></rect><image x=\"1\" xlink:href=\"https://raw.githubusercontent.com/romstad/Chess.jl/master/img/wb.svg\" y=\"5\" height=\"1\" width=\"1\"></image></g><g><rect x=\"1\" y=\"6\" class=\"dark-square\" height=\"1\" width=\"1\"></rect><image x=\"1\" xlink:href=\"https://raw.githubusercontent.com/romstad/Chess.jl/master/img/wp.svg\" y=\"6\" height=\"1\" width=\"1\"></image></g><g><rect x=\"1\" y=\"7\" class=\"light-square\" height=\"1\" width=\"1\"></rect><image x=\"1\" xlink:href=\"https://raw.githubusercontent.com/romstad/Chess.jl/master/img/wn.svg\" y=\"7\" height=\"1\" width=\"1\"></image></g><g><rect x=\"2\" y=\"0\" class=\"light-square\" height=\"1\" width=\"1\"></rect><image x=\"2\" xlink:href=\"https://raw.githubusercontent.com/romstad/Chess.jl/master/img/bb.svg\" y=\"0\" height=\"1\" width=\"1\"></image></g><g><rect x=\"2\" y=\"1\" class=\"dark-square\" height=\"1\" width=\"1\"></rect><g></g></g><g><rect x=\"2\" y=\"2\" class=\"light-square\" height=\"1\" width=\"1\"></rect><image x=\"2\" xlink:href=\"https://raw.githubusercontent.com/romstad/Chess.jl/master/img/bp.svg\" y=\"2\" height=\"1\" width=\"1\"></image></g><g><rect x=\"2\" y=\"3\" class=\"dark-square\" height=\"1\" width=\"1\"></rect><g></g></g><g><rect x=\"2\" y=\"4\" class=\"light-square\" height=\"1\" width=\"1\"></rect><g></g></g><g><rect x=\"2\" y=\"5\" class=\"dark-square\" height=\"1\" width=\"1\"></rect><g></g></g><g><rect x=\"2\" y=\"6\" class=\"light-square\" height=\"1\" width=\"1\"></rect><image x=\"2\" xlink:href=\"https://raw.githubusercontent.com/romstad/Chess.jl/master/img/wp.svg\" y=\"6\" height=\"1\" width=\"1\"></image></g><g><rect x=\"2\" y=\"7\" class=\"dark-square\" height=\"1\" width=\"1\"></rect><g></g></g><g><rect x=\"3\" y=\"0\" class=\"dark-square\" height=\"1\" width=\"1\"></rect><g></g></g><g><rect x=\"3\" y=\"1\" class=\"light-square\" height=\"1\" width=\"1\"></rect><image x=\"3\" xlink:href=\"https://raw.githubusercontent.com/romstad/Chess.jl/master/img/bp.svg\" y=\"1\" height=\"1\" width=\"1\"></image></g><g><rect x=\"3\" y=\"2\" class=\"dark-square\" height=\"1\" width=\"1\"></rect><image x=\"3\" xlink:href=\"https://raw.githubusercontent.com/romstad/Chess.jl/master/img/wp.svg\" y=\"2\" height=\"1\" width=\"1\"></image></g><g><rect x=\"3\" y=\"3\" class=\"light-square\" height=\"1\" width=\"1\"></rect><g></g></g><g><rect x=\"3\" y=\"4\" class=\"dark-square\" height=\"1\" width=\"1\"></rect><g></g></g><g><rect x=\"3\" y=\"5\" class=\"light-square\" height=\"1\" width=\"1\"></rect><g></g></g><g><rect x=\"3\" y=\"6\" class=\"dark-square\" height=\"1\" width=\"1\"></rect><g></g></g><g><rect x=\"3\" y=\"7\" class=\"light-square\" height=\"1\" width=\"1\"></rect><g></g></g><g><rect x=\"4\" y=\"0\" class=\"light-square\" height=\"1\" width=\"1\"></rect><image x=\"4\" xlink:href=\"https://raw.githubusercontent.com/romstad/Chess.jl/master/img/bk.svg\" y=\"0\" height=\"1\" width=\"1\"></image></g><g><rect x=\"4\" y=\"1\" class=\"dark-square\" height=\"1\" width=\"1\"></rect><g></g></g><g><rect x=\"4\" y=\"2\" class=\"light-square\" height=\"1\" width=\"1\"></rect><g></g></g><g><rect x=\"4\" y=\"3\" class=\"dark-square\" height=\"1\" width=\"1\"></rect><image x=\"4\" xlink:href=\"https://raw.githubusercontent.com/romstad/Chess.jl/master/img/bp.svg\" y=\"3\" height=\"1\" width=\"1\"></image></g><g><rect x=\"4\" y=\"4\" class=\"light-square\" height=\"1\" width=\"1\"></rect><image x=\"4\" xlink:href=\"https://raw.githubusercontent.com/romstad/Chess.jl/master/img/wp.svg\" y=\"4\" height=\"1\" width=\"1\"></image></g><g><rect x=\"4\" y=\"5\" class=\"dark-square\" height=\"1\" width=\"1\"></rect><g></g></g><g><rect x=\"4\" y=\"6\" class=\"light-square\" height=\"1\" width=\"1\"></rect><g></g></g><g><rect x=\"4\" y=\"7\" class=\"dark-square\" height=\"1\" width=\"1\"></rect><g></g></g><g><rect x=\"5\" y=\"0\" class=\"dark-square\" height=\"1\" width=\"1\"></rect><image x=\"5\" xlink:href=\"https://raw.githubusercontent.com/romstad/Chess.jl/master/img/bb.svg\" y=\"0\" height=\"1\" width=\"1\"></image></g><g><rect x=\"5\" y=\"1\" class=\"light-square\" height=\"1\" width=\"1\"></rect><image x=\"5\" xlink:href=\"https://raw.githubusercontent.com/romstad/Chess.jl/master/img/bp.svg\" y=\"1\" height=\"1\" width=\"1\"></image></g><g><rect x=\"5\" y=\"2\" class=\"dark-square\" height=\"1\" width=\"1\"></rect><g></g></g><g><rect x=\"5\" y=\"3\" class=\"light-square\" height=\"1\" width=\"1\"></rect><g></g></g><g><rect x=\"5\" y=\"4\" class=\"dark-square\" height=\"1\" width=\"1\"></rect><g></g></g><g><rect x=\"5\" y=\"5\" class=\"light-square\" height=\"1\" width=\"1\"></rect><image x=\"5\" xlink:href=\"https://raw.githubusercontent.com/romstad/Chess.jl/master/img/wp.svg\" y=\"5\" height=\"1\" width=\"1\"></image></g><g><rect x=\"5\" y=\"6\" class=\"dark-square\" height=\"1\" width=\"1\"></rect><image x=\"5\" xlink:href=\"https://raw.githubusercontent.com/romstad/Chess.jl/master/img/wp.svg\" y=\"6\" height=\"1\" width=\"1\"></image></g><g><rect x=\"5\" y=\"7\" class=\"light-square\" height=\"1\" width=\"1\"></rect><image x=\"5\" xlink:href=\"https://raw.githubusercontent.com/romstad/Chess.jl/master/img/wr.svg\" y=\"7\" height=\"1\" width=\"1\"></image></g><g><rect x=\"6\" y=\"0\" class=\"light-square\" height=\"1\" width=\"1\"></rect><image x=\"6\" xlink:href=\"https://raw.githubusercontent.com/romstad/Chess.jl/master/img/bn.svg\" y=\"0\" height=\"1\" width=\"1\"></image></g><g><rect x=\"6\" y=\"1\" class=\"dark-square\" height=\"1\" width=\"1\"></rect><image x=\"6\" xlink:href=\"https://raw.githubusercontent.com/romstad/Chess.jl/master/img/bp.svg\" y=\"1\" height=\"1\" width=\"1\"></image></g><g><rect x=\"6\" y=\"2\" class=\"light-square\" height=\"1\" width=\"1\"></rect><g></g></g><g><rect x=\"6\" y=\"3\" class=\"dark-square\" height=\"1\" width=\"1\"></rect><image x=\"6\" xlink:href=\"https://raw.githubusercontent.com/romstad/Chess.jl/master/img/wb.svg\" y=\"3\" height=\"1\" width=\"1\"></image></g><g><rect x=\"6\" y=\"4\" class=\"light-square\" height=\"1\" width=\"1\"></rect><g></g></g><g><rect x=\"6\" y=\"5\" class=\"dark-square\" height=\"1\" width=\"1\"></rect><g></g></g><g><rect x=\"6\" y=\"6\" class=\"light-square\" height=\"1\" width=\"1\"></rect><g></g></g><g><rect x=\"6\" y=\"7\" class=\"dark-square\" height=\"1\" width=\"1\"></rect><image x=\"6\" xlink:href=\"https://raw.githubusercontent.com/romstad/Chess.jl/master/img/wk.svg\" y=\"7\" height=\"1\" width=\"1\"></image></g><g><rect x=\"7\" y=\"0\" class=\"dark-square\" height=\"1\" width=\"1\"></rect><image x=\"7\" xlink:href=\"https://raw.githubusercontent.com/romstad/Chess.jl/master/img/br.svg\" y=\"0\" height=\"1\" width=\"1\"></image></g><g><rect x=\"7\" y=\"1\" class=\"light-square\" height=\"1\" width=\"1\"></rect><g></g></g><g><rect x=\"7\" y=\"2\" class=\"dark-square\" height=\"1\" width=\"1\"></rect><image x=\"7\" xlink:href=\"https://raw.githubusercontent.com/romstad/Chess.jl/master/img/bp.svg\" y=\"2\" height=\"1\" width=\"1\"></image></g><g><rect x=\"7\" y=\"3\" class=\"light-square\" height=\"1\" width=\"1\"></rect><g></g></g><g><rect x=\"7\" y=\"4\" class=\"dark-square\" height=\"1\" width=\"1\"></rect><g></g></g><g><rect x=\"7\" y=\"5\" class=\"light-square\" height=\"1\" width=\"1\"></rect><g></g></g><g><rect x=\"7\" y=\"6\" class=\"dark-square\" height=\"1\" width=\"1\"></rect><image x=\"7\" xlink:href=\"https://raw.githubusercontent.com/romstad/Chess.jl/master/img/wp.svg\" y=\"6\" height=\"1\" width=\"1\"></image></g><g><rect x=\"7\" y=\"7\" class=\"light-square\" height=\"1\" width=\"1\"></rect><g></g></g></g><g></g></svg><div><p>White to move</p><p>Castle rights: kq</p><p><a href=\"https://lichess.org/editor/r1b1kbnr/p2p1pp1/2pP3p/1p2p1B1/4P3/1B3P2/PPP2P1P/RN3RK1_w_kq_-\" target=\"_blank\">Open in lichess</a></p></div></div>"
      ],
      "text/plain": [
       "Board (r1b1kbnr/p2p1pp1/2pP3p/1p2p1B1/4P3/1B3P2/PPP2P1P/RN3RK1 w kq -):\n",
       " r  -  b  -  k  b  n  r \n",
       " p  -  -  p  -  p  p  - \n",
       " -  -  p  P  -  -  -  p \n",
       " -  p  -  -  p  -  B  - \n",
       " -  -  -  -  P  -  -  - \n",
       " -  B  -  -  -  P  -  - \n",
       " P  P  P  -  -  P  -  P \n",
       " R  N  -  -  -  R  K  - "
      ]
     },
     "metadata": {},
     "output_type": "display_data"
    },
    {
     "name": "stdout",
     "output_type": "stream",
     "text": [
      "Make a move. Type 'resign' to resign from the match\n",
      "stdin> g5e3\n",
      "Cleared Cache with 0\n",
      "Inkremental score is 40 but should be 100\n"
     ]
    },
    {
     "data": {
      "text/html": [
       "Board:<div class=\"chessboard\"><style soped=\"true\">.dark-square {\n",
       "    fill: #c3936a;\n",
       "    stroke-width: 0;\n",
       "}\n",
       ".light-square {\n",
       "    fill: #ffd7a6;\n",
       "    stroke-width: 0;\n",
       "}\n",
       ".highlight {\n",
       "    fill: #47d18b;\n",
       "}\n",
       "@media (prefers-color-scheme: dark) {\n",
       "    .dark-square {\n",
       "        fill: #00796b;\n",
       "    }\n",
       "    .light-square {\n",
       "        fill: #3ca59b;\n",
       "    }\n",
       "    .highlight {\n",
       "        fill: #d23600;\n",
       "    }\n",
       "}\n",
       "</style><svg style=\"float: left; margin-right: 20px\" viewBox=\"0 0 8 8\" height=\"280\" width=\"280\"><g><g><rect x=\"0\" y=\"0\" class=\"light-square\" height=\"1\" width=\"1\"></rect><image x=\"0\" xlink:href=\"https://raw.githubusercontent.com/romstad/Chess.jl/master/img/br.svg\" y=\"0\" height=\"1\" width=\"1\"></image></g><g><rect x=\"0\" y=\"1\" class=\"dark-square\" height=\"1\" width=\"1\"></rect><image x=\"0\" xlink:href=\"https://raw.githubusercontent.com/romstad/Chess.jl/master/img/bp.svg\" y=\"1\" height=\"1\" width=\"1\"></image></g><g><rect x=\"0\" y=\"2\" class=\"light-square\" height=\"1\" width=\"1\"></rect><g></g></g><g><rect x=\"0\" y=\"3\" class=\"dark-square\" height=\"1\" width=\"1\"></rect><g></g></g><g><rect x=\"0\" y=\"4\" class=\"light-square\" height=\"1\" width=\"1\"></rect><g></g></g><g><rect x=\"0\" y=\"5\" class=\"dark-square\" height=\"1\" width=\"1\"></rect><g></g></g><g><rect x=\"0\" y=\"6\" class=\"light-square\" height=\"1\" width=\"1\"></rect><image x=\"0\" xlink:href=\"https://raw.githubusercontent.com/romstad/Chess.jl/master/img/wp.svg\" y=\"6\" height=\"1\" width=\"1\"></image></g><g><rect x=\"0\" y=\"7\" class=\"dark-square\" height=\"1\" width=\"1\"></rect><image x=\"0\" xlink:href=\"https://raw.githubusercontent.com/romstad/Chess.jl/master/img/wr.svg\" y=\"7\" height=\"1\" width=\"1\"></image></g><g><rect x=\"1\" y=\"0\" class=\"dark-square\" height=\"1\" width=\"1\"></rect><g></g></g><g><rect x=\"1\" y=\"1\" class=\"light-square\" height=\"1\" width=\"1\"></rect><g></g></g><g><rect x=\"1\" y=\"2\" class=\"dark-square\" height=\"1\" width=\"1\"></rect><g></g></g><g><rect x=\"1\" y=\"3\" class=\"light-square\" height=\"1\" width=\"1\"></rect><image x=\"1\" xlink:href=\"https://raw.githubusercontent.com/romstad/Chess.jl/master/img/bp.svg\" y=\"3\" height=\"1\" width=\"1\"></image></g><g><rect x=\"1\" y=\"4\" class=\"dark-square\" height=\"1\" width=\"1\"></rect><g></g></g><g><rect x=\"1\" y=\"5\" class=\"light-square\" height=\"1\" width=\"1\"></rect><image x=\"1\" xlink:href=\"https://raw.githubusercontent.com/romstad/Chess.jl/master/img/wb.svg\" y=\"5\" height=\"1\" width=\"1\"></image></g><g><rect x=\"1\" y=\"6\" class=\"dark-square\" height=\"1\" width=\"1\"></rect><image x=\"1\" xlink:href=\"https://raw.githubusercontent.com/romstad/Chess.jl/master/img/wp.svg\" y=\"6\" height=\"1\" width=\"1\"></image></g><g><rect x=\"1\" y=\"7\" class=\"light-square\" height=\"1\" width=\"1\"></rect><image x=\"1\" xlink:href=\"https://raw.githubusercontent.com/romstad/Chess.jl/master/img/wn.svg\" y=\"7\" height=\"1\" width=\"1\"></image></g><g><rect x=\"2\" y=\"0\" class=\"light-square\" height=\"1\" width=\"1\"></rect><image x=\"2\" xlink:href=\"https://raw.githubusercontent.com/romstad/Chess.jl/master/img/bb.svg\" y=\"0\" height=\"1\" width=\"1\"></image></g><g><rect x=\"2\" y=\"1\" class=\"dark-square\" height=\"1\" width=\"1\"></rect><g></g></g><g><rect x=\"2\" y=\"2\" class=\"light-square\" height=\"1\" width=\"1\"></rect><image x=\"2\" xlink:href=\"https://raw.githubusercontent.com/romstad/Chess.jl/master/img/bp.svg\" y=\"2\" height=\"1\" width=\"1\"></image></g><g><rect x=\"2\" y=\"3\" class=\"dark-square\" height=\"1\" width=\"1\"></rect><g></g></g><g><rect x=\"2\" y=\"4\" class=\"light-square\" height=\"1\" width=\"1\"></rect><g></g></g><g><rect x=\"2\" y=\"5\" class=\"dark-square\" height=\"1\" width=\"1\"></rect><g></g></g><g><rect x=\"2\" y=\"6\" class=\"light-square\" height=\"1\" width=\"1\"></rect><image x=\"2\" xlink:href=\"https://raw.githubusercontent.com/romstad/Chess.jl/master/img/wp.svg\" y=\"6\" height=\"1\" width=\"1\"></image></g><g><rect x=\"2\" y=\"7\" class=\"dark-square\" height=\"1\" width=\"1\"></rect><g></g></g><g><rect x=\"3\" y=\"0\" class=\"dark-square\" height=\"1\" width=\"1\"></rect><g></g></g><g><rect x=\"3\" y=\"1\" class=\"light-square\" height=\"1\" width=\"1\"></rect><image x=\"3\" xlink:href=\"https://raw.githubusercontent.com/romstad/Chess.jl/master/img/bp.svg\" y=\"1\" height=\"1\" width=\"1\"></image></g><g><rect x=\"3\" y=\"2\" class=\"dark-square\" height=\"1\" width=\"1\"></rect><image x=\"3\" xlink:href=\"https://raw.githubusercontent.com/romstad/Chess.jl/master/img/wp.svg\" y=\"2\" height=\"1\" width=\"1\"></image></g><g><rect x=\"3\" y=\"3\" class=\"light-square\" height=\"1\" width=\"1\"></rect><g></g></g><g><rect x=\"3\" y=\"4\" class=\"dark-square\" height=\"1\" width=\"1\"></rect><g></g></g><g><rect x=\"3\" y=\"5\" class=\"light-square\" height=\"1\" width=\"1\"></rect><g></g></g><g><rect x=\"3\" y=\"6\" class=\"dark-square\" height=\"1\" width=\"1\"></rect><g></g></g><g><rect x=\"3\" y=\"7\" class=\"light-square\" height=\"1\" width=\"1\"></rect><g></g></g><g><rect x=\"4\" y=\"0\" class=\"light-square\" height=\"1\" width=\"1\"></rect><image x=\"4\" xlink:href=\"https://raw.githubusercontent.com/romstad/Chess.jl/master/img/bk.svg\" y=\"0\" height=\"1\" width=\"1\"></image></g><g><rect x=\"4\" y=\"1\" class=\"dark-square\" height=\"1\" width=\"1\"></rect><g></g></g><g><rect x=\"4\" y=\"2\" class=\"light-square\" height=\"1\" width=\"1\"></rect><g></g></g><g><rect x=\"4\" y=\"3\" class=\"dark-square\" height=\"1\" width=\"1\"></rect><image x=\"4\" xlink:href=\"https://raw.githubusercontent.com/romstad/Chess.jl/master/img/bp.svg\" y=\"3\" height=\"1\" width=\"1\"></image></g><g><rect x=\"4\" y=\"4\" class=\"light-square\" height=\"1\" width=\"1\"></rect><image x=\"4\" xlink:href=\"https://raw.githubusercontent.com/romstad/Chess.jl/master/img/wp.svg\" y=\"4\" height=\"1\" width=\"1\"></image></g><g><rect x=\"4\" y=\"5\" class=\"dark-square\" height=\"1\" width=\"1\"></rect><image x=\"4\" xlink:href=\"https://raw.githubusercontent.com/romstad/Chess.jl/master/img/wb.svg\" y=\"5\" height=\"1\" width=\"1\"></image></g><g><rect x=\"4\" y=\"6\" class=\"light-square\" height=\"1\" width=\"1\"></rect><g></g></g><g><rect x=\"4\" y=\"7\" class=\"dark-square\" height=\"1\" width=\"1\"></rect><g></g></g><g><rect x=\"5\" y=\"0\" class=\"dark-square\" height=\"1\" width=\"1\"></rect><image x=\"5\" xlink:href=\"https://raw.githubusercontent.com/romstad/Chess.jl/master/img/bb.svg\" y=\"0\" height=\"1\" width=\"1\"></image></g><g><rect x=\"5\" y=\"1\" class=\"light-square\" height=\"1\" width=\"1\"></rect><image x=\"5\" xlink:href=\"https://raw.githubusercontent.com/romstad/Chess.jl/master/img/bp.svg\" y=\"1\" height=\"1\" width=\"1\"></image></g><g><rect x=\"5\" y=\"2\" class=\"dark-square\" height=\"1\" width=\"1\"></rect><g></g></g><g><rect x=\"5\" y=\"3\" class=\"light-square\" height=\"1\" width=\"1\"></rect><g></g></g><g><rect x=\"5\" y=\"4\" class=\"dark-square\" height=\"1\" width=\"1\"></rect><g></g></g><g><rect x=\"5\" y=\"5\" class=\"light-square\" height=\"1\" width=\"1\"></rect><image x=\"5\" xlink:href=\"https://raw.githubusercontent.com/romstad/Chess.jl/master/img/wp.svg\" y=\"5\" height=\"1\" width=\"1\"></image></g><g><rect x=\"5\" y=\"6\" class=\"dark-square\" height=\"1\" width=\"1\"></rect><image x=\"5\" xlink:href=\"https://raw.githubusercontent.com/romstad/Chess.jl/master/img/wp.svg\" y=\"6\" height=\"1\" width=\"1\"></image></g><g><rect x=\"5\" y=\"7\" class=\"light-square\" height=\"1\" width=\"1\"></rect><image x=\"5\" xlink:href=\"https://raw.githubusercontent.com/romstad/Chess.jl/master/img/wr.svg\" y=\"7\" height=\"1\" width=\"1\"></image></g><g><rect x=\"6\" y=\"0\" class=\"light-square\" height=\"1\" width=\"1\"></rect><image x=\"6\" xlink:href=\"https://raw.githubusercontent.com/romstad/Chess.jl/master/img/bn.svg\" y=\"0\" height=\"1\" width=\"1\"></image></g><g><rect x=\"6\" y=\"1\" class=\"dark-square\" height=\"1\" width=\"1\"></rect><image x=\"6\" xlink:href=\"https://raw.githubusercontent.com/romstad/Chess.jl/master/img/bp.svg\" y=\"1\" height=\"1\" width=\"1\"></image></g><g><rect x=\"6\" y=\"2\" class=\"light-square\" height=\"1\" width=\"1\"></rect><g></g></g><g><rect x=\"6\" y=\"3\" class=\"dark-square\" height=\"1\" width=\"1\"></rect><g></g></g><g><rect x=\"6\" y=\"4\" class=\"light-square\" height=\"1\" width=\"1\"></rect><g></g></g><g><rect x=\"6\" y=\"5\" class=\"dark-square\" height=\"1\" width=\"1\"></rect><g></g></g><g><rect x=\"6\" y=\"6\" class=\"light-square\" height=\"1\" width=\"1\"></rect><g></g></g><g><rect x=\"6\" y=\"7\" class=\"dark-square\" height=\"1\" width=\"1\"></rect><image x=\"6\" xlink:href=\"https://raw.githubusercontent.com/romstad/Chess.jl/master/img/wk.svg\" y=\"7\" height=\"1\" width=\"1\"></image></g><g><rect x=\"7\" y=\"0\" class=\"dark-square\" height=\"1\" width=\"1\"></rect><image x=\"7\" xlink:href=\"https://raw.githubusercontent.com/romstad/Chess.jl/master/img/br.svg\" y=\"0\" height=\"1\" width=\"1\"></image></g><g><rect x=\"7\" y=\"1\" class=\"light-square\" height=\"1\" width=\"1\"></rect><g></g></g><g><rect x=\"7\" y=\"2\" class=\"dark-square\" height=\"1\" width=\"1\"></rect><image x=\"7\" xlink:href=\"https://raw.githubusercontent.com/romstad/Chess.jl/master/img/bp.svg\" y=\"2\" height=\"1\" width=\"1\"></image></g><g><rect x=\"7\" y=\"3\" class=\"light-square\" height=\"1\" width=\"1\"></rect><g></g></g><g><rect x=\"7\" y=\"4\" class=\"dark-square\" height=\"1\" width=\"1\"></rect><g></g></g><g><rect x=\"7\" y=\"5\" class=\"light-square\" height=\"1\" width=\"1\"></rect><g></g></g><g><rect x=\"7\" y=\"6\" class=\"dark-square\" height=\"1\" width=\"1\"></rect><image x=\"7\" xlink:href=\"https://raw.githubusercontent.com/romstad/Chess.jl/master/img/wp.svg\" y=\"6\" height=\"1\" width=\"1\"></image></g><g><rect x=\"7\" y=\"7\" class=\"light-square\" height=\"1\" width=\"1\"></rect><g></g></g></g><g></g></svg><div><p>Black to move</p><p>Castle rights: kq</p><p><a href=\"https://lichess.org/editor/r1b1kbnr/p2p1pp1/2pP3p/1p2p3/4P3/1B2BP2/PPP2P1P/RN3RK1_b_kq_-\" target=\"_blank\">Open in lichess</a></p></div></div>"
      ],
      "text/plain": [
       "Board (r1b1kbnr/p2p1pp1/2pP3p/1p2p3/4P3/1B2BP2/PPP2P1P/RN3RK1 b kq -):\n",
       " r  -  b  -  k  b  n  r \n",
       " p  -  -  p  -  p  p  - \n",
       " -  -  p  P  -  -  -  p \n",
       " -  p  -  -  p  -  -  - \n",
       " -  -  -  -  P  -  -  - \n",
       " -  B  -  -  B  P  -  - \n",
       " P  P  P  -  -  P  -  P \n",
       " R  N  -  -  -  R  K  - "
      ]
     },
     "metadata": {},
     "output_type": "display_data"
    },
    {
     "name": "stdout",
     "output_type": "stream",
     "text": [
      "Evaluation of engine: 0.0\n",
      "Current board score: 40\n",
      "Current entries in Cache: 3604\n",
      "Cleared Cache with 3604\n",
      "  2.765014 seconds (9.40 M allocations: 555.839 MiB, 4.19% gc time)\n",
      "Inkremental score is -110 but should be -50\n"
     ]
    },
    {
     "data": {
      "text/html": [
       "Board:<div class=\"chessboard\"><style soped=\"true\">.dark-square {\n",
       "    fill: #c3936a;\n",
       "    stroke-width: 0;\n",
       "}\n",
       ".light-square {\n",
       "    fill: #ffd7a6;\n",
       "    stroke-width: 0;\n",
       "}\n",
       ".highlight {\n",
       "    fill: #47d18b;\n",
       "}\n",
       "@media (prefers-color-scheme: dark) {\n",
       "    .dark-square {\n",
       "        fill: #00796b;\n",
       "    }\n",
       "    .light-square {\n",
       "        fill: #3ca59b;\n",
       "    }\n",
       "    .highlight {\n",
       "        fill: #d23600;\n",
       "    }\n",
       "}\n",
       "</style><svg style=\"float: left; margin-right: 20px\" viewBox=\"0 0 8 8\" height=\"280\" width=\"280\"><g><g><rect x=\"0\" y=\"0\" class=\"light-square\" height=\"1\" width=\"1\"></rect><image x=\"0\" xlink:href=\"https://raw.githubusercontent.com/romstad/Chess.jl/master/img/br.svg\" y=\"0\" height=\"1\" width=\"1\"></image></g><g><rect x=\"0\" y=\"1\" class=\"dark-square\" height=\"1\" width=\"1\"></rect><image x=\"0\" xlink:href=\"https://raw.githubusercontent.com/romstad/Chess.jl/master/img/bp.svg\" y=\"1\" height=\"1\" width=\"1\"></image></g><g><rect x=\"0\" y=\"2\" class=\"light-square\" height=\"1\" width=\"1\"></rect><g></g></g><g><rect x=\"0\" y=\"3\" class=\"dark-square\" height=\"1\" width=\"1\"></rect><g></g></g><g><rect x=\"0\" y=\"4\" class=\"light-square\" height=\"1\" width=\"1\"></rect><g></g></g><g><rect x=\"0\" y=\"5\" class=\"dark-square\" height=\"1\" width=\"1\"></rect><g></g></g><g><rect x=\"0\" y=\"6\" class=\"light-square\" height=\"1\" width=\"1\"></rect><image x=\"0\" xlink:href=\"https://raw.githubusercontent.com/romstad/Chess.jl/master/img/wp.svg\" y=\"6\" height=\"1\" width=\"1\"></image></g><g><rect x=\"0\" y=\"7\" class=\"dark-square\" height=\"1\" width=\"1\"></rect><image x=\"0\" xlink:href=\"https://raw.githubusercontent.com/romstad/Chess.jl/master/img/wr.svg\" y=\"7\" height=\"1\" width=\"1\"></image></g><g><rect x=\"1\" y=\"0\" class=\"dark-square\" height=\"1\" width=\"1\"></rect><g></g></g><g><rect x=\"1\" y=\"1\" class=\"light-square\" height=\"1\" width=\"1\"></rect><g></g></g><g><rect x=\"1\" y=\"2\" class=\"dark-square\" height=\"1\" width=\"1\"></rect><g></g></g><g><rect x=\"1\" y=\"3\" class=\"light-square\" height=\"1\" width=\"1\"></rect><image x=\"1\" xlink:href=\"https://raw.githubusercontent.com/romstad/Chess.jl/master/img/bp.svg\" y=\"3\" height=\"1\" width=\"1\"></image></g><g><rect x=\"1\" y=\"4\" class=\"dark-square\" height=\"1\" width=\"1\"></rect><g></g></g><g><rect x=\"1\" y=\"5\" class=\"light-square\" height=\"1\" width=\"1\"></rect><image x=\"1\" xlink:href=\"https://raw.githubusercontent.com/romstad/Chess.jl/master/img/wb.svg\" y=\"5\" height=\"1\" width=\"1\"></image></g><g><rect x=\"1\" y=\"6\" class=\"dark-square\" height=\"1\" width=\"1\"></rect><image x=\"1\" xlink:href=\"https://raw.githubusercontent.com/romstad/Chess.jl/master/img/wp.svg\" y=\"6\" height=\"1\" width=\"1\"></image></g><g><rect x=\"1\" y=\"7\" class=\"light-square\" height=\"1\" width=\"1\"></rect><image x=\"1\" xlink:href=\"https://raw.githubusercontent.com/romstad/Chess.jl/master/img/wn.svg\" y=\"7\" height=\"1\" width=\"1\"></image></g><g><rect x=\"2\" y=\"0\" class=\"light-square\" height=\"1\" width=\"1\"></rect><image x=\"2\" xlink:href=\"https://raw.githubusercontent.com/romstad/Chess.jl/master/img/bb.svg\" y=\"0\" height=\"1\" width=\"1\"></image></g><g><rect x=\"2\" y=\"1\" class=\"dark-square\" height=\"1\" width=\"1\"></rect><g></g></g><g><rect x=\"2\" y=\"2\" class=\"light-square\" height=\"1\" width=\"1\"></rect><image x=\"2\" xlink:href=\"https://raw.githubusercontent.com/romstad/Chess.jl/master/img/bp.svg\" y=\"2\" height=\"1\" width=\"1\"></image></g><g><rect x=\"2\" y=\"3\" class=\"dark-square\" height=\"1\" width=\"1\"></rect><g></g></g><g><rect x=\"2\" y=\"4\" class=\"light-square\" height=\"1\" width=\"1\"></rect><g></g></g><g><rect x=\"2\" y=\"5\" class=\"dark-square\" height=\"1\" width=\"1\"></rect><g></g></g><g><rect x=\"2\" y=\"6\" class=\"light-square\" height=\"1\" width=\"1\"></rect><image x=\"2\" xlink:href=\"https://raw.githubusercontent.com/romstad/Chess.jl/master/img/wp.svg\" y=\"6\" height=\"1\" width=\"1\"></image></g><g><rect x=\"2\" y=\"7\" class=\"dark-square\" height=\"1\" width=\"1\"></rect><g></g></g><g><rect x=\"3\" y=\"0\" class=\"dark-square\" height=\"1\" width=\"1\"></rect><g></g></g><g><rect x=\"3\" y=\"1\" class=\"light-square\" height=\"1\" width=\"1\"></rect><image x=\"3\" xlink:href=\"https://raw.githubusercontent.com/romstad/Chess.jl/master/img/bp.svg\" y=\"1\" height=\"1\" width=\"1\"></image></g><g><rect x=\"3\" y=\"2\" class=\"dark-square\" height=\"1\" width=\"1\"></rect><image x=\"3\" xlink:href=\"https://raw.githubusercontent.com/romstad/Chess.jl/master/img/bb.svg\" y=\"2\" height=\"1\" width=\"1\"></image></g><g><rect x=\"3\" y=\"3\" class=\"light-square\" height=\"1\" width=\"1\"></rect><g></g></g><g><rect x=\"3\" y=\"4\" class=\"dark-square\" height=\"1\" width=\"1\"></rect><g></g></g><g><rect x=\"3\" y=\"5\" class=\"light-square\" height=\"1\" width=\"1\"></rect><g></g></g><g><rect x=\"3\" y=\"6\" class=\"dark-square\" height=\"1\" width=\"1\"></rect><g></g></g><g><rect x=\"3\" y=\"7\" class=\"light-square\" height=\"1\" width=\"1\"></rect><g></g></g><g><rect x=\"4\" y=\"0\" class=\"light-square\" height=\"1\" width=\"1\"></rect><image x=\"4\" xlink:href=\"https://raw.githubusercontent.com/romstad/Chess.jl/master/img/bk.svg\" y=\"0\" height=\"1\" width=\"1\"></image></g><g><rect x=\"4\" y=\"1\" class=\"dark-square\" height=\"1\" width=\"1\"></rect><g></g></g><g><rect x=\"4\" y=\"2\" class=\"light-square\" height=\"1\" width=\"1\"></rect><g></g></g><g><rect x=\"4\" y=\"3\" class=\"dark-square\" height=\"1\" width=\"1\"></rect><image x=\"4\" xlink:href=\"https://raw.githubusercontent.com/romstad/Chess.jl/master/img/bp.svg\" y=\"3\" height=\"1\" width=\"1\"></image></g><g><rect x=\"4\" y=\"4\" class=\"light-square\" height=\"1\" width=\"1\"></rect><image x=\"4\" xlink:href=\"https://raw.githubusercontent.com/romstad/Chess.jl/master/img/wp.svg\" y=\"4\" height=\"1\" width=\"1\"></image></g><g><rect x=\"4\" y=\"5\" class=\"dark-square\" height=\"1\" width=\"1\"></rect><image x=\"4\" xlink:href=\"https://raw.githubusercontent.com/romstad/Chess.jl/master/img/wb.svg\" y=\"5\" height=\"1\" width=\"1\"></image></g><g><rect x=\"4\" y=\"6\" class=\"light-square\" height=\"1\" width=\"1\"></rect><g></g></g><g><rect x=\"4\" y=\"7\" class=\"dark-square\" height=\"1\" width=\"1\"></rect><g></g></g><g><rect x=\"5\" y=\"0\" class=\"dark-square\" height=\"1\" width=\"1\"></rect><g></g></g><g><rect x=\"5\" y=\"1\" class=\"light-square\" height=\"1\" width=\"1\"></rect><image x=\"5\" xlink:href=\"https://raw.githubusercontent.com/romstad/Chess.jl/master/img/bp.svg\" y=\"1\" height=\"1\" width=\"1\"></image></g><g><rect x=\"5\" y=\"2\" class=\"dark-square\" height=\"1\" width=\"1\"></rect><g></g></g><g><rect x=\"5\" y=\"3\" class=\"light-square\" height=\"1\" width=\"1\"></rect><g></g></g><g><rect x=\"5\" y=\"4\" class=\"dark-square\" height=\"1\" width=\"1\"></rect><g></g></g><g><rect x=\"5\" y=\"5\" class=\"light-square\" height=\"1\" width=\"1\"></rect><image x=\"5\" xlink:href=\"https://raw.githubusercontent.com/romstad/Chess.jl/master/img/wp.svg\" y=\"5\" height=\"1\" width=\"1\"></image></g><g><rect x=\"5\" y=\"6\" class=\"dark-square\" height=\"1\" width=\"1\"></rect><image x=\"5\" xlink:href=\"https://raw.githubusercontent.com/romstad/Chess.jl/master/img/wp.svg\" y=\"6\" height=\"1\" width=\"1\"></image></g><g><rect x=\"5\" y=\"7\" class=\"light-square\" height=\"1\" width=\"1\"></rect><image x=\"5\" xlink:href=\"https://raw.githubusercontent.com/romstad/Chess.jl/master/img/wr.svg\" y=\"7\" height=\"1\" width=\"1\"></image></g><g><rect x=\"6\" y=\"0\" class=\"light-square\" height=\"1\" width=\"1\"></rect><image x=\"6\" xlink:href=\"https://raw.githubusercontent.com/romstad/Chess.jl/master/img/bn.svg\" y=\"0\" height=\"1\" width=\"1\"></image></g><g><rect x=\"6\" y=\"1\" class=\"dark-square\" height=\"1\" width=\"1\"></rect><image x=\"6\" xlink:href=\"https://raw.githubusercontent.com/romstad/Chess.jl/master/img/bp.svg\" y=\"1\" height=\"1\" width=\"1\"></image></g><g><rect x=\"6\" y=\"2\" class=\"light-square\" height=\"1\" width=\"1\"></rect><g></g></g><g><rect x=\"6\" y=\"3\" class=\"dark-square\" height=\"1\" width=\"1\"></rect><g></g></g><g><rect x=\"6\" y=\"4\" class=\"light-square\" height=\"1\" width=\"1\"></rect><g></g></g><g><rect x=\"6\" y=\"5\" class=\"dark-square\" height=\"1\" width=\"1\"></rect><g></g></g><g><rect x=\"6\" y=\"6\" class=\"light-square\" height=\"1\" width=\"1\"></rect><g></g></g><g><rect x=\"6\" y=\"7\" class=\"dark-square\" height=\"1\" width=\"1\"></rect><image x=\"6\" xlink:href=\"https://raw.githubusercontent.com/romstad/Chess.jl/master/img/wk.svg\" y=\"7\" height=\"1\" width=\"1\"></image></g><g><rect x=\"7\" y=\"0\" class=\"dark-square\" height=\"1\" width=\"1\"></rect><image x=\"7\" xlink:href=\"https://raw.githubusercontent.com/romstad/Chess.jl/master/img/br.svg\" y=\"0\" height=\"1\" width=\"1\"></image></g><g><rect x=\"7\" y=\"1\" class=\"light-square\" height=\"1\" width=\"1\"></rect><g></g></g><g><rect x=\"7\" y=\"2\" class=\"dark-square\" height=\"1\" width=\"1\"></rect><image x=\"7\" xlink:href=\"https://raw.githubusercontent.com/romstad/Chess.jl/master/img/bp.svg\" y=\"2\" height=\"1\" width=\"1\"></image></g><g><rect x=\"7\" y=\"3\" class=\"light-square\" height=\"1\" width=\"1\"></rect><g></g></g><g><rect x=\"7\" y=\"4\" class=\"dark-square\" height=\"1\" width=\"1\"></rect><g></g></g><g><rect x=\"7\" y=\"5\" class=\"light-square\" height=\"1\" width=\"1\"></rect><g></g></g><g><rect x=\"7\" y=\"6\" class=\"dark-square\" height=\"1\" width=\"1\"></rect><image x=\"7\" xlink:href=\"https://raw.githubusercontent.com/romstad/Chess.jl/master/img/wp.svg\" y=\"6\" height=\"1\" width=\"1\"></image></g><g><rect x=\"7\" y=\"7\" class=\"light-square\" height=\"1\" width=\"1\"></rect><g></g></g></g><g></g></svg><div><p>White to move</p><p>Castle rights: kq</p><p><a href=\"https://lichess.org/editor/r1b1k1nr/p2p1pp1/2pb3p/1p2p3/4P3/1B2BP2/PPP2P1P/RN3RK1_w_kq_-\" target=\"_blank\">Open in lichess</a></p></div></div>"
      ],
      "text/plain": [
       "Board (r1b1k1nr/p2p1pp1/2pb3p/1p2p3/4P3/1B2BP2/PPP2P1P/RN3RK1 w kq -):\n",
       " r  -  b  -  k  -  n  r \n",
       " p  -  -  p  -  p  p  - \n",
       " -  -  p  b  -  -  -  p \n",
       " -  p  -  -  p  -  -  - \n",
       " -  -  -  -  P  -  -  - \n",
       " -  B  -  -  B  P  -  - \n",
       " P  P  P  -  -  P  -  P \n",
       " R  N  -  -  -  R  K  - "
      ]
     },
     "metadata": {},
     "output_type": "display_data"
    },
    {
     "name": "stdout",
     "output_type": "stream",
     "text": [
      "Make a move. Type 'resign' to resign from the match\n",
      "stdin> b1c3\n",
      "Cleared Cache with 0\n",
      "Inkremental score is -60 but should be 0\n"
     ]
    },
    {
     "data": {
      "text/html": [
       "Board:<div class=\"chessboard\"><style soped=\"true\">.dark-square {\n",
       "    fill: #c3936a;\n",
       "    stroke-width: 0;\n",
       "}\n",
       ".light-square {\n",
       "    fill: #ffd7a6;\n",
       "    stroke-width: 0;\n",
       "}\n",
       ".highlight {\n",
       "    fill: #47d18b;\n",
       "}\n",
       "@media (prefers-color-scheme: dark) {\n",
       "    .dark-square {\n",
       "        fill: #00796b;\n",
       "    }\n",
       "    .light-square {\n",
       "        fill: #3ca59b;\n",
       "    }\n",
       "    .highlight {\n",
       "        fill: #d23600;\n",
       "    }\n",
       "}\n",
       "</style><svg style=\"float: left; margin-right: 20px\" viewBox=\"0 0 8 8\" height=\"280\" width=\"280\"><g><g><rect x=\"0\" y=\"0\" class=\"light-square\" height=\"1\" width=\"1\"></rect><image x=\"0\" xlink:href=\"https://raw.githubusercontent.com/romstad/Chess.jl/master/img/br.svg\" y=\"0\" height=\"1\" width=\"1\"></image></g><g><rect x=\"0\" y=\"1\" class=\"dark-square\" height=\"1\" width=\"1\"></rect><image x=\"0\" xlink:href=\"https://raw.githubusercontent.com/romstad/Chess.jl/master/img/bp.svg\" y=\"1\" height=\"1\" width=\"1\"></image></g><g><rect x=\"0\" y=\"2\" class=\"light-square\" height=\"1\" width=\"1\"></rect><g></g></g><g><rect x=\"0\" y=\"3\" class=\"dark-square\" height=\"1\" width=\"1\"></rect><g></g></g><g><rect x=\"0\" y=\"4\" class=\"light-square\" height=\"1\" width=\"1\"></rect><g></g></g><g><rect x=\"0\" y=\"5\" class=\"dark-square\" height=\"1\" width=\"1\"></rect><g></g></g><g><rect x=\"0\" y=\"6\" class=\"light-square\" height=\"1\" width=\"1\"></rect><image x=\"0\" xlink:href=\"https://raw.githubusercontent.com/romstad/Chess.jl/master/img/wp.svg\" y=\"6\" height=\"1\" width=\"1\"></image></g><g><rect x=\"0\" y=\"7\" class=\"dark-square\" height=\"1\" width=\"1\"></rect><image x=\"0\" xlink:href=\"https://raw.githubusercontent.com/romstad/Chess.jl/master/img/wr.svg\" y=\"7\" height=\"1\" width=\"1\"></image></g><g><rect x=\"1\" y=\"0\" class=\"dark-square\" height=\"1\" width=\"1\"></rect><g></g></g><g><rect x=\"1\" y=\"1\" class=\"light-square\" height=\"1\" width=\"1\"></rect><g></g></g><g><rect x=\"1\" y=\"2\" class=\"dark-square\" height=\"1\" width=\"1\"></rect><g></g></g><g><rect x=\"1\" y=\"3\" class=\"light-square\" height=\"1\" width=\"1\"></rect><image x=\"1\" xlink:href=\"https://raw.githubusercontent.com/romstad/Chess.jl/master/img/bp.svg\" y=\"3\" height=\"1\" width=\"1\"></image></g><g><rect x=\"1\" y=\"4\" class=\"dark-square\" height=\"1\" width=\"1\"></rect><g></g></g><g><rect x=\"1\" y=\"5\" class=\"light-square\" height=\"1\" width=\"1\"></rect><image x=\"1\" xlink:href=\"https://raw.githubusercontent.com/romstad/Chess.jl/master/img/wb.svg\" y=\"5\" height=\"1\" width=\"1\"></image></g><g><rect x=\"1\" y=\"6\" class=\"dark-square\" height=\"1\" width=\"1\"></rect><image x=\"1\" xlink:href=\"https://raw.githubusercontent.com/romstad/Chess.jl/master/img/wp.svg\" y=\"6\" height=\"1\" width=\"1\"></image></g><g><rect x=\"1\" y=\"7\" class=\"light-square\" height=\"1\" width=\"1\"></rect><g></g></g><g><rect x=\"2\" y=\"0\" class=\"light-square\" height=\"1\" width=\"1\"></rect><image x=\"2\" xlink:href=\"https://raw.githubusercontent.com/romstad/Chess.jl/master/img/bb.svg\" y=\"0\" height=\"1\" width=\"1\"></image></g><g><rect x=\"2\" y=\"1\" class=\"dark-square\" height=\"1\" width=\"1\"></rect><g></g></g><g><rect x=\"2\" y=\"2\" class=\"light-square\" height=\"1\" width=\"1\"></rect><image x=\"2\" xlink:href=\"https://raw.githubusercontent.com/romstad/Chess.jl/master/img/bp.svg\" y=\"2\" height=\"1\" width=\"1\"></image></g><g><rect x=\"2\" y=\"3\" class=\"dark-square\" height=\"1\" width=\"1\"></rect><g></g></g><g><rect x=\"2\" y=\"4\" class=\"light-square\" height=\"1\" width=\"1\"></rect><g></g></g><g><rect x=\"2\" y=\"5\" class=\"dark-square\" height=\"1\" width=\"1\"></rect><image x=\"2\" xlink:href=\"https://raw.githubusercontent.com/romstad/Chess.jl/master/img/wn.svg\" y=\"5\" height=\"1\" width=\"1\"></image></g><g><rect x=\"2\" y=\"6\" class=\"light-square\" height=\"1\" width=\"1\"></rect><image x=\"2\" xlink:href=\"https://raw.githubusercontent.com/romstad/Chess.jl/master/img/wp.svg\" y=\"6\" height=\"1\" width=\"1\"></image></g><g><rect x=\"2\" y=\"7\" class=\"dark-square\" height=\"1\" width=\"1\"></rect><g></g></g><g><rect x=\"3\" y=\"0\" class=\"dark-square\" height=\"1\" width=\"1\"></rect><g></g></g><g><rect x=\"3\" y=\"1\" class=\"light-square\" height=\"1\" width=\"1\"></rect><image x=\"3\" xlink:href=\"https://raw.githubusercontent.com/romstad/Chess.jl/master/img/bp.svg\" y=\"1\" height=\"1\" width=\"1\"></image></g><g><rect x=\"3\" y=\"2\" class=\"dark-square\" height=\"1\" width=\"1\"></rect><image x=\"3\" xlink:href=\"https://raw.githubusercontent.com/romstad/Chess.jl/master/img/bb.svg\" y=\"2\" height=\"1\" width=\"1\"></image></g><g><rect x=\"3\" y=\"3\" class=\"light-square\" height=\"1\" width=\"1\"></rect><g></g></g><g><rect x=\"3\" y=\"4\" class=\"dark-square\" height=\"1\" width=\"1\"></rect><g></g></g><g><rect x=\"3\" y=\"5\" class=\"light-square\" height=\"1\" width=\"1\"></rect><g></g></g><g><rect x=\"3\" y=\"6\" class=\"dark-square\" height=\"1\" width=\"1\"></rect><g></g></g><g><rect x=\"3\" y=\"7\" class=\"light-square\" height=\"1\" width=\"1\"></rect><g></g></g><g><rect x=\"4\" y=\"0\" class=\"light-square\" height=\"1\" width=\"1\"></rect><image x=\"4\" xlink:href=\"https://raw.githubusercontent.com/romstad/Chess.jl/master/img/bk.svg\" y=\"0\" height=\"1\" width=\"1\"></image></g><g><rect x=\"4\" y=\"1\" class=\"dark-square\" height=\"1\" width=\"1\"></rect><g></g></g><g><rect x=\"4\" y=\"2\" class=\"light-square\" height=\"1\" width=\"1\"></rect><g></g></g><g><rect x=\"4\" y=\"3\" class=\"dark-square\" height=\"1\" width=\"1\"></rect><image x=\"4\" xlink:href=\"https://raw.githubusercontent.com/romstad/Chess.jl/master/img/bp.svg\" y=\"3\" height=\"1\" width=\"1\"></image></g><g><rect x=\"4\" y=\"4\" class=\"light-square\" height=\"1\" width=\"1\"></rect><image x=\"4\" xlink:href=\"https://raw.githubusercontent.com/romstad/Chess.jl/master/img/wp.svg\" y=\"4\" height=\"1\" width=\"1\"></image></g><g><rect x=\"4\" y=\"5\" class=\"dark-square\" height=\"1\" width=\"1\"></rect><image x=\"4\" xlink:href=\"https://raw.githubusercontent.com/romstad/Chess.jl/master/img/wb.svg\" y=\"5\" height=\"1\" width=\"1\"></image></g><g><rect x=\"4\" y=\"6\" class=\"light-square\" height=\"1\" width=\"1\"></rect><g></g></g><g><rect x=\"4\" y=\"7\" class=\"dark-square\" height=\"1\" width=\"1\"></rect><g></g></g><g><rect x=\"5\" y=\"0\" class=\"dark-square\" height=\"1\" width=\"1\"></rect><g></g></g><g><rect x=\"5\" y=\"1\" class=\"light-square\" height=\"1\" width=\"1\"></rect><image x=\"5\" xlink:href=\"https://raw.githubusercontent.com/romstad/Chess.jl/master/img/bp.svg\" y=\"1\" height=\"1\" width=\"1\"></image></g><g><rect x=\"5\" y=\"2\" class=\"dark-square\" height=\"1\" width=\"1\"></rect><g></g></g><g><rect x=\"5\" y=\"3\" class=\"light-square\" height=\"1\" width=\"1\"></rect><g></g></g><g><rect x=\"5\" y=\"4\" class=\"dark-square\" height=\"1\" width=\"1\"></rect><g></g></g><g><rect x=\"5\" y=\"5\" class=\"light-square\" height=\"1\" width=\"1\"></rect><image x=\"5\" xlink:href=\"https://raw.githubusercontent.com/romstad/Chess.jl/master/img/wp.svg\" y=\"5\" height=\"1\" width=\"1\"></image></g><g><rect x=\"5\" y=\"6\" class=\"dark-square\" height=\"1\" width=\"1\"></rect><image x=\"5\" xlink:href=\"https://raw.githubusercontent.com/romstad/Chess.jl/master/img/wp.svg\" y=\"6\" height=\"1\" width=\"1\"></image></g><g><rect x=\"5\" y=\"7\" class=\"light-square\" height=\"1\" width=\"1\"></rect><image x=\"5\" xlink:href=\"https://raw.githubusercontent.com/romstad/Chess.jl/master/img/wr.svg\" y=\"7\" height=\"1\" width=\"1\"></image></g><g><rect x=\"6\" y=\"0\" class=\"light-square\" height=\"1\" width=\"1\"></rect><image x=\"6\" xlink:href=\"https://raw.githubusercontent.com/romstad/Chess.jl/master/img/bn.svg\" y=\"0\" height=\"1\" width=\"1\"></image></g><g><rect x=\"6\" y=\"1\" class=\"dark-square\" height=\"1\" width=\"1\"></rect><image x=\"6\" xlink:href=\"https://raw.githubusercontent.com/romstad/Chess.jl/master/img/bp.svg\" y=\"1\" height=\"1\" width=\"1\"></image></g><g><rect x=\"6\" y=\"2\" class=\"light-square\" height=\"1\" width=\"1\"></rect><g></g></g><g><rect x=\"6\" y=\"3\" class=\"dark-square\" height=\"1\" width=\"1\"></rect><g></g></g><g><rect x=\"6\" y=\"4\" class=\"light-square\" height=\"1\" width=\"1\"></rect><g></g></g><g><rect x=\"6\" y=\"5\" class=\"dark-square\" height=\"1\" width=\"1\"></rect><g></g></g><g><rect x=\"6\" y=\"6\" class=\"light-square\" height=\"1\" width=\"1\"></rect><g></g></g><g><rect x=\"6\" y=\"7\" class=\"dark-square\" height=\"1\" width=\"1\"></rect><image x=\"6\" xlink:href=\"https://raw.githubusercontent.com/romstad/Chess.jl/master/img/wk.svg\" y=\"7\" height=\"1\" width=\"1\"></image></g><g><rect x=\"7\" y=\"0\" class=\"dark-square\" height=\"1\" width=\"1\"></rect><image x=\"7\" xlink:href=\"https://raw.githubusercontent.com/romstad/Chess.jl/master/img/br.svg\" y=\"0\" height=\"1\" width=\"1\"></image></g><g><rect x=\"7\" y=\"1\" class=\"light-square\" height=\"1\" width=\"1\"></rect><g></g></g><g><rect x=\"7\" y=\"2\" class=\"dark-square\" height=\"1\" width=\"1\"></rect><image x=\"7\" xlink:href=\"https://raw.githubusercontent.com/romstad/Chess.jl/master/img/bp.svg\" y=\"2\" height=\"1\" width=\"1\"></image></g><g><rect x=\"7\" y=\"3\" class=\"light-square\" height=\"1\" width=\"1\"></rect><g></g></g><g><rect x=\"7\" y=\"4\" class=\"dark-square\" height=\"1\" width=\"1\"></rect><g></g></g><g><rect x=\"7\" y=\"5\" class=\"light-square\" height=\"1\" width=\"1\"></rect><g></g></g><g><rect x=\"7\" y=\"6\" class=\"dark-square\" height=\"1\" width=\"1\"></rect><image x=\"7\" xlink:href=\"https://raw.githubusercontent.com/romstad/Chess.jl/master/img/wp.svg\" y=\"6\" height=\"1\" width=\"1\"></image></g><g><rect x=\"7\" y=\"7\" class=\"light-square\" height=\"1\" width=\"1\"></rect><g></g></g></g><g></g></svg><div><p>Black to move</p><p>Castle rights: kq</p><p><a href=\"https://lichess.org/editor/r1b1k1nr/p2p1pp1/2pb3p/1p2p3/4P3/1BN1BP2/PPP2P1P/R4RK1_b_kq_-\" target=\"_blank\">Open in lichess</a></p></div></div>"
      ],
      "text/plain": [
       "Board (r1b1k1nr/p2p1pp1/2pb3p/1p2p3/4P3/1BN1BP2/PPP2P1P/R4RK1 b kq -):\n",
       " r  -  b  -  k  -  n  r \n",
       " p  -  -  p  -  p  p  - \n",
       " -  -  p  b  -  -  -  p \n",
       " -  p  -  -  p  -  -  - \n",
       " -  -  -  -  P  -  -  - \n",
       " -  B  N  -  B  P  -  - \n",
       " P  P  P  -  -  P  -  P \n",
       " R  -  -  -  -  R  K  - "
      ]
     },
     "metadata": {},
     "output_type": "display_data"
    },
    {
     "name": "stdout",
     "output_type": "stream",
     "text": [
      "Evaluation of engine: -20.0\n",
      "Current board score: -60\n",
      "Current entries in Cache: 5485\n",
      "Cleared Cache with 5485\n",
      "  4.816441 seconds (17.03 M allocations: 994.254 MiB, 4.26% gc time)\n",
      "Inkremental score is -65 but should be -5\n"
     ]
    },
    {
     "data": {
      "text/html": [
       "Board:<div class=\"chessboard\"><style soped=\"true\">.dark-square {\n",
       "    fill: #c3936a;\n",
       "    stroke-width: 0;\n",
       "}\n",
       ".light-square {\n",
       "    fill: #ffd7a6;\n",
       "    stroke-width: 0;\n",
       "}\n",
       ".highlight {\n",
       "    fill: #47d18b;\n",
       "}\n",
       "@media (prefers-color-scheme: dark) {\n",
       "    .dark-square {\n",
       "        fill: #00796b;\n",
       "    }\n",
       "    .light-square {\n",
       "        fill: #3ca59b;\n",
       "    }\n",
       "    .highlight {\n",
       "        fill: #d23600;\n",
       "    }\n",
       "}\n",
       "</style><svg style=\"float: left; margin-right: 20px\" viewBox=\"0 0 8 8\" height=\"280\" width=\"280\"><g><g><rect x=\"0\" y=\"0\" class=\"light-square\" height=\"1\" width=\"1\"></rect><image x=\"0\" xlink:href=\"https://raw.githubusercontent.com/romstad/Chess.jl/master/img/br.svg\" y=\"0\" height=\"1\" width=\"1\"></image></g><g><rect x=\"0\" y=\"1\" class=\"dark-square\" height=\"1\" width=\"1\"></rect><image x=\"0\" xlink:href=\"https://raw.githubusercontent.com/romstad/Chess.jl/master/img/bp.svg\" y=\"1\" height=\"1\" width=\"1\"></image></g><g><rect x=\"0\" y=\"2\" class=\"light-square\" height=\"1\" width=\"1\"></rect><g></g></g><g><rect x=\"0\" y=\"3\" class=\"dark-square\" height=\"1\" width=\"1\"></rect><g></g></g><g><rect x=\"0\" y=\"4\" class=\"light-square\" height=\"1\" width=\"1\"></rect><g></g></g><g><rect x=\"0\" y=\"5\" class=\"dark-square\" height=\"1\" width=\"1\"></rect><g></g></g><g><rect x=\"0\" y=\"6\" class=\"light-square\" height=\"1\" width=\"1\"></rect><image x=\"0\" xlink:href=\"https://raw.githubusercontent.com/romstad/Chess.jl/master/img/wp.svg\" y=\"6\" height=\"1\" width=\"1\"></image></g><g><rect x=\"0\" y=\"7\" class=\"dark-square\" height=\"1\" width=\"1\"></rect><image x=\"0\" xlink:href=\"https://raw.githubusercontent.com/romstad/Chess.jl/master/img/wr.svg\" y=\"7\" height=\"1\" width=\"1\"></image></g><g><rect x=\"1\" y=\"0\" class=\"dark-square\" height=\"1\" width=\"1\"></rect><g></g></g><g><rect x=\"1\" y=\"1\" class=\"light-square\" height=\"1\" width=\"1\"></rect><g></g></g><g><rect x=\"1\" y=\"2\" class=\"dark-square\" height=\"1\" width=\"1\"></rect><g></g></g><g><rect x=\"1\" y=\"3\" class=\"light-square\" height=\"1\" width=\"1\"></rect><g></g></g><g><rect x=\"1\" y=\"4\" class=\"dark-square\" height=\"1\" width=\"1\"></rect><image x=\"1\" xlink:href=\"https://raw.githubusercontent.com/romstad/Chess.jl/master/img/bp.svg\" y=\"4\" height=\"1\" width=\"1\"></image></g><g><rect x=\"1\" y=\"5\" class=\"light-square\" height=\"1\" width=\"1\"></rect><image x=\"1\" xlink:href=\"https://raw.githubusercontent.com/romstad/Chess.jl/master/img/wb.svg\" y=\"5\" height=\"1\" width=\"1\"></image></g><g><rect x=\"1\" y=\"6\" class=\"dark-square\" height=\"1\" width=\"1\"></rect><image x=\"1\" xlink:href=\"https://raw.githubusercontent.com/romstad/Chess.jl/master/img/wp.svg\" y=\"6\" height=\"1\" width=\"1\"></image></g><g><rect x=\"1\" y=\"7\" class=\"light-square\" height=\"1\" width=\"1\"></rect><g></g></g><g><rect x=\"2\" y=\"0\" class=\"light-square\" height=\"1\" width=\"1\"></rect><image x=\"2\" xlink:href=\"https://raw.githubusercontent.com/romstad/Chess.jl/master/img/bb.svg\" y=\"0\" height=\"1\" width=\"1\"></image></g><g><rect x=\"2\" y=\"1\" class=\"dark-square\" height=\"1\" width=\"1\"></rect><g></g></g><g><rect x=\"2\" y=\"2\" class=\"light-square\" height=\"1\" width=\"1\"></rect><image x=\"2\" xlink:href=\"https://raw.githubusercontent.com/romstad/Chess.jl/master/img/bp.svg\" y=\"2\" height=\"1\" width=\"1\"></image></g><g><rect x=\"2\" y=\"3\" class=\"dark-square\" height=\"1\" width=\"1\"></rect><g></g></g><g><rect x=\"2\" y=\"4\" class=\"light-square\" height=\"1\" width=\"1\"></rect><g></g></g><g><rect x=\"2\" y=\"5\" class=\"dark-square\" height=\"1\" width=\"1\"></rect><image x=\"2\" xlink:href=\"https://raw.githubusercontent.com/romstad/Chess.jl/master/img/wn.svg\" y=\"5\" height=\"1\" width=\"1\"></image></g><g><rect x=\"2\" y=\"6\" class=\"light-square\" height=\"1\" width=\"1\"></rect><image x=\"2\" xlink:href=\"https://raw.githubusercontent.com/romstad/Chess.jl/master/img/wp.svg\" y=\"6\" height=\"1\" width=\"1\"></image></g><g><rect x=\"2\" y=\"7\" class=\"dark-square\" height=\"1\" width=\"1\"></rect><g></g></g><g><rect x=\"3\" y=\"0\" class=\"dark-square\" height=\"1\" width=\"1\"></rect><g></g></g><g><rect x=\"3\" y=\"1\" class=\"light-square\" height=\"1\" width=\"1\"></rect><image x=\"3\" xlink:href=\"https://raw.githubusercontent.com/romstad/Chess.jl/master/img/bp.svg\" y=\"1\" height=\"1\" width=\"1\"></image></g><g><rect x=\"3\" y=\"2\" class=\"dark-square\" height=\"1\" width=\"1\"></rect><image x=\"3\" xlink:href=\"https://raw.githubusercontent.com/romstad/Chess.jl/master/img/bb.svg\" y=\"2\" height=\"1\" width=\"1\"></image></g><g><rect x=\"3\" y=\"3\" class=\"light-square\" height=\"1\" width=\"1\"></rect><g></g></g><g><rect x=\"3\" y=\"4\" class=\"dark-square\" height=\"1\" width=\"1\"></rect><g></g></g><g><rect x=\"3\" y=\"5\" class=\"light-square\" height=\"1\" width=\"1\"></rect><g></g></g><g><rect x=\"3\" y=\"6\" class=\"dark-square\" height=\"1\" width=\"1\"></rect><g></g></g><g><rect x=\"3\" y=\"7\" class=\"light-square\" height=\"1\" width=\"1\"></rect><g></g></g><g><rect x=\"4\" y=\"0\" class=\"light-square\" height=\"1\" width=\"1\"></rect><image x=\"4\" xlink:href=\"https://raw.githubusercontent.com/romstad/Chess.jl/master/img/bk.svg\" y=\"0\" height=\"1\" width=\"1\"></image></g><g><rect x=\"4\" y=\"1\" class=\"dark-square\" height=\"1\" width=\"1\"></rect><g></g></g><g><rect x=\"4\" y=\"2\" class=\"light-square\" height=\"1\" width=\"1\"></rect><g></g></g><g><rect x=\"4\" y=\"3\" class=\"dark-square\" height=\"1\" width=\"1\"></rect><image x=\"4\" xlink:href=\"https://raw.githubusercontent.com/romstad/Chess.jl/master/img/bp.svg\" y=\"3\" height=\"1\" width=\"1\"></image></g><g><rect x=\"4\" y=\"4\" class=\"light-square\" height=\"1\" width=\"1\"></rect><image x=\"4\" xlink:href=\"https://raw.githubusercontent.com/romstad/Chess.jl/master/img/wp.svg\" y=\"4\" height=\"1\" width=\"1\"></image></g><g><rect x=\"4\" y=\"5\" class=\"dark-square\" height=\"1\" width=\"1\"></rect><image x=\"4\" xlink:href=\"https://raw.githubusercontent.com/romstad/Chess.jl/master/img/wb.svg\" y=\"5\" height=\"1\" width=\"1\"></image></g><g><rect x=\"4\" y=\"6\" class=\"light-square\" height=\"1\" width=\"1\"></rect><g></g></g><g><rect x=\"4\" y=\"7\" class=\"dark-square\" height=\"1\" width=\"1\"></rect><g></g></g><g><rect x=\"5\" y=\"0\" class=\"dark-square\" height=\"1\" width=\"1\"></rect><g></g></g><g><rect x=\"5\" y=\"1\" class=\"light-square\" height=\"1\" width=\"1\"></rect><image x=\"5\" xlink:href=\"https://raw.githubusercontent.com/romstad/Chess.jl/master/img/bp.svg\" y=\"1\" height=\"1\" width=\"1\"></image></g><g><rect x=\"5\" y=\"2\" class=\"dark-square\" height=\"1\" width=\"1\"></rect><g></g></g><g><rect x=\"5\" y=\"3\" class=\"light-square\" height=\"1\" width=\"1\"></rect><g></g></g><g><rect x=\"5\" y=\"4\" class=\"dark-square\" height=\"1\" width=\"1\"></rect><g></g></g><g><rect x=\"5\" y=\"5\" class=\"light-square\" height=\"1\" width=\"1\"></rect><image x=\"5\" xlink:href=\"https://raw.githubusercontent.com/romstad/Chess.jl/master/img/wp.svg\" y=\"5\" height=\"1\" width=\"1\"></image></g><g><rect x=\"5\" y=\"6\" class=\"dark-square\" height=\"1\" width=\"1\"></rect><image x=\"5\" xlink:href=\"https://raw.githubusercontent.com/romstad/Chess.jl/master/img/wp.svg\" y=\"6\" height=\"1\" width=\"1\"></image></g><g><rect x=\"5\" y=\"7\" class=\"light-square\" height=\"1\" width=\"1\"></rect><image x=\"5\" xlink:href=\"https://raw.githubusercontent.com/romstad/Chess.jl/master/img/wr.svg\" y=\"7\" height=\"1\" width=\"1\"></image></g><g><rect x=\"6\" y=\"0\" class=\"light-square\" height=\"1\" width=\"1\"></rect><image x=\"6\" xlink:href=\"https://raw.githubusercontent.com/romstad/Chess.jl/master/img/bn.svg\" y=\"0\" height=\"1\" width=\"1\"></image></g><g><rect x=\"6\" y=\"1\" class=\"dark-square\" height=\"1\" width=\"1\"></rect><image x=\"6\" xlink:href=\"https://raw.githubusercontent.com/romstad/Chess.jl/master/img/bp.svg\" y=\"1\" height=\"1\" width=\"1\"></image></g><g><rect x=\"6\" y=\"2\" class=\"light-square\" height=\"1\" width=\"1\"></rect><g></g></g><g><rect x=\"6\" y=\"3\" class=\"dark-square\" height=\"1\" width=\"1\"></rect><g></g></g><g><rect x=\"6\" y=\"4\" class=\"light-square\" height=\"1\" width=\"1\"></rect><g></g></g><g><rect x=\"6\" y=\"5\" class=\"dark-square\" height=\"1\" width=\"1\"></rect><g></g></g><g><rect x=\"6\" y=\"6\" class=\"light-square\" height=\"1\" width=\"1\"></rect><g></g></g><g><rect x=\"6\" y=\"7\" class=\"dark-square\" height=\"1\" width=\"1\"></rect><image x=\"6\" xlink:href=\"https://raw.githubusercontent.com/romstad/Chess.jl/master/img/wk.svg\" y=\"7\" height=\"1\" width=\"1\"></image></g><g><rect x=\"7\" y=\"0\" class=\"dark-square\" height=\"1\" width=\"1\"></rect><image x=\"7\" xlink:href=\"https://raw.githubusercontent.com/romstad/Chess.jl/master/img/br.svg\" y=\"0\" height=\"1\" width=\"1\"></image></g><g><rect x=\"7\" y=\"1\" class=\"light-square\" height=\"1\" width=\"1\"></rect><g></g></g><g><rect x=\"7\" y=\"2\" class=\"dark-square\" height=\"1\" width=\"1\"></rect><image x=\"7\" xlink:href=\"https://raw.githubusercontent.com/romstad/Chess.jl/master/img/bp.svg\" y=\"2\" height=\"1\" width=\"1\"></image></g><g><rect x=\"7\" y=\"3\" class=\"light-square\" height=\"1\" width=\"1\"></rect><g></g></g><g><rect x=\"7\" y=\"4\" class=\"dark-square\" height=\"1\" width=\"1\"></rect><g></g></g><g><rect x=\"7\" y=\"5\" class=\"light-square\" height=\"1\" width=\"1\"></rect><g></g></g><g><rect x=\"7\" y=\"6\" class=\"dark-square\" height=\"1\" width=\"1\"></rect><image x=\"7\" xlink:href=\"https://raw.githubusercontent.com/romstad/Chess.jl/master/img/wp.svg\" y=\"6\" height=\"1\" width=\"1\"></image></g><g><rect x=\"7\" y=\"7\" class=\"light-square\" height=\"1\" width=\"1\"></rect><g></g></g></g><g></g></svg><div><p>White to move</p><p>Castle rights: kq</p><p><a href=\"https://lichess.org/editor/r1b1k1nr/p2p1pp1/2pb3p/4p3/1p2P3/1BN1BP2/PPP2P1P/R4RK1_w_kq_-\" target=\"_blank\">Open in lichess</a></p></div></div>"
      ],
      "text/plain": [
       "Board (r1b1k1nr/p2p1pp1/2pb3p/4p3/1p2P3/1BN1BP2/PPP2P1P/R4RK1 w kq -):\n",
       " r  -  b  -  k  -  n  r \n",
       " p  -  -  p  -  p  p  - \n",
       " -  -  p  b  -  -  -  p \n",
       " -  -  -  -  p  -  -  - \n",
       " -  p  -  -  P  -  -  - \n",
       " -  B  N  -  B  P  -  - \n",
       " P  P  P  -  -  P  -  P \n",
       " R  -  -  -  -  R  K  - "
      ]
     },
     "metadata": {},
     "output_type": "display_data"
    },
    {
     "name": "stdout",
     "output_type": "stream",
     "text": [
      "Make a move. Type 'resign' to resign from the match\n",
      "stdin> c3e2\n",
      "Cleared Cache with 0\n",
      "Inkremental score is -70 but should be -10\n"
     ]
    },
    {
     "data": {
      "text/html": [
       "Board:<div class=\"chessboard\"><style soped=\"true\">.dark-square {\n",
       "    fill: #c3936a;\n",
       "    stroke-width: 0;\n",
       "}\n",
       ".light-square {\n",
       "    fill: #ffd7a6;\n",
       "    stroke-width: 0;\n",
       "}\n",
       ".highlight {\n",
       "    fill: #47d18b;\n",
       "}\n",
       "@media (prefers-color-scheme: dark) {\n",
       "    .dark-square {\n",
       "        fill: #00796b;\n",
       "    }\n",
       "    .light-square {\n",
       "        fill: #3ca59b;\n",
       "    }\n",
       "    .highlight {\n",
       "        fill: #d23600;\n",
       "    }\n",
       "}\n",
       "</style><svg style=\"float: left; margin-right: 20px\" viewBox=\"0 0 8 8\" height=\"280\" width=\"280\"><g><g><rect x=\"0\" y=\"0\" class=\"light-square\" height=\"1\" width=\"1\"></rect><image x=\"0\" xlink:href=\"https://raw.githubusercontent.com/romstad/Chess.jl/master/img/br.svg\" y=\"0\" height=\"1\" width=\"1\"></image></g><g><rect x=\"0\" y=\"1\" class=\"dark-square\" height=\"1\" width=\"1\"></rect><image x=\"0\" xlink:href=\"https://raw.githubusercontent.com/romstad/Chess.jl/master/img/bp.svg\" y=\"1\" height=\"1\" width=\"1\"></image></g><g><rect x=\"0\" y=\"2\" class=\"light-square\" height=\"1\" width=\"1\"></rect><g></g></g><g><rect x=\"0\" y=\"3\" class=\"dark-square\" height=\"1\" width=\"1\"></rect><g></g></g><g><rect x=\"0\" y=\"4\" class=\"light-square\" height=\"1\" width=\"1\"></rect><g></g></g><g><rect x=\"0\" y=\"5\" class=\"dark-square\" height=\"1\" width=\"1\"></rect><g></g></g><g><rect x=\"0\" y=\"6\" class=\"light-square\" height=\"1\" width=\"1\"></rect><image x=\"0\" xlink:href=\"https://raw.githubusercontent.com/romstad/Chess.jl/master/img/wp.svg\" y=\"6\" height=\"1\" width=\"1\"></image></g><g><rect x=\"0\" y=\"7\" class=\"dark-square\" height=\"1\" width=\"1\"></rect><image x=\"0\" xlink:href=\"https://raw.githubusercontent.com/romstad/Chess.jl/master/img/wr.svg\" y=\"7\" height=\"1\" width=\"1\"></image></g><g><rect x=\"1\" y=\"0\" class=\"dark-square\" height=\"1\" width=\"1\"></rect><g></g></g><g><rect x=\"1\" y=\"1\" class=\"light-square\" height=\"1\" width=\"1\"></rect><g></g></g><g><rect x=\"1\" y=\"2\" class=\"dark-square\" height=\"1\" width=\"1\"></rect><g></g></g><g><rect x=\"1\" y=\"3\" class=\"light-square\" height=\"1\" width=\"1\"></rect><g></g></g><g><rect x=\"1\" y=\"4\" class=\"dark-square\" height=\"1\" width=\"1\"></rect><image x=\"1\" xlink:href=\"https://raw.githubusercontent.com/romstad/Chess.jl/master/img/bp.svg\" y=\"4\" height=\"1\" width=\"1\"></image></g><g><rect x=\"1\" y=\"5\" class=\"light-square\" height=\"1\" width=\"1\"></rect><image x=\"1\" xlink:href=\"https://raw.githubusercontent.com/romstad/Chess.jl/master/img/wb.svg\" y=\"5\" height=\"1\" width=\"1\"></image></g><g><rect x=\"1\" y=\"6\" class=\"dark-square\" height=\"1\" width=\"1\"></rect><image x=\"1\" xlink:href=\"https://raw.githubusercontent.com/romstad/Chess.jl/master/img/wp.svg\" y=\"6\" height=\"1\" width=\"1\"></image></g><g><rect x=\"1\" y=\"7\" class=\"light-square\" height=\"1\" width=\"1\"></rect><g></g></g><g><rect x=\"2\" y=\"0\" class=\"light-square\" height=\"1\" width=\"1\"></rect><image x=\"2\" xlink:href=\"https://raw.githubusercontent.com/romstad/Chess.jl/master/img/bb.svg\" y=\"0\" height=\"1\" width=\"1\"></image></g><g><rect x=\"2\" y=\"1\" class=\"dark-square\" height=\"1\" width=\"1\"></rect><g></g></g><g><rect x=\"2\" y=\"2\" class=\"light-square\" height=\"1\" width=\"1\"></rect><image x=\"2\" xlink:href=\"https://raw.githubusercontent.com/romstad/Chess.jl/master/img/bp.svg\" y=\"2\" height=\"1\" width=\"1\"></image></g><g><rect x=\"2\" y=\"3\" class=\"dark-square\" height=\"1\" width=\"1\"></rect><g></g></g><g><rect x=\"2\" y=\"4\" class=\"light-square\" height=\"1\" width=\"1\"></rect><g></g></g><g><rect x=\"2\" y=\"5\" class=\"dark-square\" height=\"1\" width=\"1\"></rect><g></g></g><g><rect x=\"2\" y=\"6\" class=\"light-square\" height=\"1\" width=\"1\"></rect><image x=\"2\" xlink:href=\"https://raw.githubusercontent.com/romstad/Chess.jl/master/img/wp.svg\" y=\"6\" height=\"1\" width=\"1\"></image></g><g><rect x=\"2\" y=\"7\" class=\"dark-square\" height=\"1\" width=\"1\"></rect><g></g></g><g><rect x=\"3\" y=\"0\" class=\"dark-square\" height=\"1\" width=\"1\"></rect><g></g></g><g><rect x=\"3\" y=\"1\" class=\"light-square\" height=\"1\" width=\"1\"></rect><image x=\"3\" xlink:href=\"https://raw.githubusercontent.com/romstad/Chess.jl/master/img/bp.svg\" y=\"1\" height=\"1\" width=\"1\"></image></g><g><rect x=\"3\" y=\"2\" class=\"dark-square\" height=\"1\" width=\"1\"></rect><image x=\"3\" xlink:href=\"https://raw.githubusercontent.com/romstad/Chess.jl/master/img/bb.svg\" y=\"2\" height=\"1\" width=\"1\"></image></g><g><rect x=\"3\" y=\"3\" class=\"light-square\" height=\"1\" width=\"1\"></rect><g></g></g><g><rect x=\"3\" y=\"4\" class=\"dark-square\" height=\"1\" width=\"1\"></rect><g></g></g><g><rect x=\"3\" y=\"5\" class=\"light-square\" height=\"1\" width=\"1\"></rect><g></g></g><g><rect x=\"3\" y=\"6\" class=\"dark-square\" height=\"1\" width=\"1\"></rect><g></g></g><g><rect x=\"3\" y=\"7\" class=\"light-square\" height=\"1\" width=\"1\"></rect><g></g></g><g><rect x=\"4\" y=\"0\" class=\"light-square\" height=\"1\" width=\"1\"></rect><image x=\"4\" xlink:href=\"https://raw.githubusercontent.com/romstad/Chess.jl/master/img/bk.svg\" y=\"0\" height=\"1\" width=\"1\"></image></g><g><rect x=\"4\" y=\"1\" class=\"dark-square\" height=\"1\" width=\"1\"></rect><g></g></g><g><rect x=\"4\" y=\"2\" class=\"light-square\" height=\"1\" width=\"1\"></rect><g></g></g><g><rect x=\"4\" y=\"3\" class=\"dark-square\" height=\"1\" width=\"1\"></rect><image x=\"4\" xlink:href=\"https://raw.githubusercontent.com/romstad/Chess.jl/master/img/bp.svg\" y=\"3\" height=\"1\" width=\"1\"></image></g><g><rect x=\"4\" y=\"4\" class=\"light-square\" height=\"1\" width=\"1\"></rect><image x=\"4\" xlink:href=\"https://raw.githubusercontent.com/romstad/Chess.jl/master/img/wp.svg\" y=\"4\" height=\"1\" width=\"1\"></image></g><g><rect x=\"4\" y=\"5\" class=\"dark-square\" height=\"1\" width=\"1\"></rect><image x=\"4\" xlink:href=\"https://raw.githubusercontent.com/romstad/Chess.jl/master/img/wb.svg\" y=\"5\" height=\"1\" width=\"1\"></image></g><g><rect x=\"4\" y=\"6\" class=\"light-square\" height=\"1\" width=\"1\"></rect><image x=\"4\" xlink:href=\"https://raw.githubusercontent.com/romstad/Chess.jl/master/img/wn.svg\" y=\"6\" height=\"1\" width=\"1\"></image></g><g><rect x=\"4\" y=\"7\" class=\"dark-square\" height=\"1\" width=\"1\"></rect><g></g></g><g><rect x=\"5\" y=\"0\" class=\"dark-square\" height=\"1\" width=\"1\"></rect><g></g></g><g><rect x=\"5\" y=\"1\" class=\"light-square\" height=\"1\" width=\"1\"></rect><image x=\"5\" xlink:href=\"https://raw.githubusercontent.com/romstad/Chess.jl/master/img/bp.svg\" y=\"1\" height=\"1\" width=\"1\"></image></g><g><rect x=\"5\" y=\"2\" class=\"dark-square\" height=\"1\" width=\"1\"></rect><g></g></g><g><rect x=\"5\" y=\"3\" class=\"light-square\" height=\"1\" width=\"1\"></rect><g></g></g><g><rect x=\"5\" y=\"4\" class=\"dark-square\" height=\"1\" width=\"1\"></rect><g></g></g><g><rect x=\"5\" y=\"5\" class=\"light-square\" height=\"1\" width=\"1\"></rect><image x=\"5\" xlink:href=\"https://raw.githubusercontent.com/romstad/Chess.jl/master/img/wp.svg\" y=\"5\" height=\"1\" width=\"1\"></image></g><g><rect x=\"5\" y=\"6\" class=\"dark-square\" height=\"1\" width=\"1\"></rect><image x=\"5\" xlink:href=\"https://raw.githubusercontent.com/romstad/Chess.jl/master/img/wp.svg\" y=\"6\" height=\"1\" width=\"1\"></image></g><g><rect x=\"5\" y=\"7\" class=\"light-square\" height=\"1\" width=\"1\"></rect><image x=\"5\" xlink:href=\"https://raw.githubusercontent.com/romstad/Chess.jl/master/img/wr.svg\" y=\"7\" height=\"1\" width=\"1\"></image></g><g><rect x=\"6\" y=\"0\" class=\"light-square\" height=\"1\" width=\"1\"></rect><image x=\"6\" xlink:href=\"https://raw.githubusercontent.com/romstad/Chess.jl/master/img/bn.svg\" y=\"0\" height=\"1\" width=\"1\"></image></g><g><rect x=\"6\" y=\"1\" class=\"dark-square\" height=\"1\" width=\"1\"></rect><image x=\"6\" xlink:href=\"https://raw.githubusercontent.com/romstad/Chess.jl/master/img/bp.svg\" y=\"1\" height=\"1\" width=\"1\"></image></g><g><rect x=\"6\" y=\"2\" class=\"light-square\" height=\"1\" width=\"1\"></rect><g></g></g><g><rect x=\"6\" y=\"3\" class=\"dark-square\" height=\"1\" width=\"1\"></rect><g></g></g><g><rect x=\"6\" y=\"4\" class=\"light-square\" height=\"1\" width=\"1\"></rect><g></g></g><g><rect x=\"6\" y=\"5\" class=\"dark-square\" height=\"1\" width=\"1\"></rect><g></g></g><g><rect x=\"6\" y=\"6\" class=\"light-square\" height=\"1\" width=\"1\"></rect><g></g></g><g><rect x=\"6\" y=\"7\" class=\"dark-square\" height=\"1\" width=\"1\"></rect><image x=\"6\" xlink:href=\"https://raw.githubusercontent.com/romstad/Chess.jl/master/img/wk.svg\" y=\"7\" height=\"1\" width=\"1\"></image></g><g><rect x=\"7\" y=\"0\" class=\"dark-square\" height=\"1\" width=\"1\"></rect><image x=\"7\" xlink:href=\"https://raw.githubusercontent.com/romstad/Chess.jl/master/img/br.svg\" y=\"0\" height=\"1\" width=\"1\"></image></g><g><rect x=\"7\" y=\"1\" class=\"light-square\" height=\"1\" width=\"1\"></rect><g></g></g><g><rect x=\"7\" y=\"2\" class=\"dark-square\" height=\"1\" width=\"1\"></rect><image x=\"7\" xlink:href=\"https://raw.githubusercontent.com/romstad/Chess.jl/master/img/bp.svg\" y=\"2\" height=\"1\" width=\"1\"></image></g><g><rect x=\"7\" y=\"3\" class=\"light-square\" height=\"1\" width=\"1\"></rect><g></g></g><g><rect x=\"7\" y=\"4\" class=\"dark-square\" height=\"1\" width=\"1\"></rect><g></g></g><g><rect x=\"7\" y=\"5\" class=\"light-square\" height=\"1\" width=\"1\"></rect><g></g></g><g><rect x=\"7\" y=\"6\" class=\"dark-square\" height=\"1\" width=\"1\"></rect><image x=\"7\" xlink:href=\"https://raw.githubusercontent.com/romstad/Chess.jl/master/img/wp.svg\" y=\"6\" height=\"1\" width=\"1\"></image></g><g><rect x=\"7\" y=\"7\" class=\"light-square\" height=\"1\" width=\"1\"></rect><g></g></g></g><g></g></svg><div><p>Black to move</p><p>Castle rights: kq</p><p><a href=\"https://lichess.org/editor/r1b1k1nr/p2p1pp1/2pb3p/4p3/1p2P3/1B2BP2/PPP1NP1P/R4RK1_b_kq_-\" target=\"_blank\">Open in lichess</a></p></div></div>"
      ],
      "text/plain": [
       "Board (r1b1k1nr/p2p1pp1/2pb3p/4p3/1p2P3/1B2BP2/PPP1NP1P/R4RK1 b kq -):\n",
       " r  -  b  -  k  -  n  r \n",
       " p  -  -  p  -  p  p  - \n",
       " -  -  p  b  -  -  -  p \n",
       " -  -  -  -  p  -  -  - \n",
       " -  p  -  -  P  -  -  - \n",
       " -  B  -  -  B  P  -  - \n",
       " P  P  P  -  N  P  -  P \n",
       " R  -  -  -  -  R  K  - "
      ]
     },
     "metadata": {},
     "output_type": "display_data"
    },
    {
     "name": "stdout",
     "output_type": "stream",
     "text": [
      "Evaluation of engine: -65.0\n",
      "Current board score: -70\n",
      "Current entries in Cache: 4783\n",
      "Cleared Cache with 4783\n",
      "  4.171481 seconds (14.76 M allocations: 866.058 MiB, 4.16% gc time)\n",
      "Inkremental score is -70 but should be -10\n"
     ]
    },
    {
     "data": {
      "text/html": [
       "Board:<div class=\"chessboard\"><style soped=\"true\">.dark-square {\n",
       "    fill: #c3936a;\n",
       "    stroke-width: 0;\n",
       "}\n",
       ".light-square {\n",
       "    fill: #ffd7a6;\n",
       "    stroke-width: 0;\n",
       "}\n",
       ".highlight {\n",
       "    fill: #47d18b;\n",
       "}\n",
       "@media (prefers-color-scheme: dark) {\n",
       "    .dark-square {\n",
       "        fill: #00796b;\n",
       "    }\n",
       "    .light-square {\n",
       "        fill: #3ca59b;\n",
       "    }\n",
       "    .highlight {\n",
       "        fill: #d23600;\n",
       "    }\n",
       "}\n",
       "</style><svg style=\"float: left; margin-right: 20px\" viewBox=\"0 0 8 8\" height=\"280\" width=\"280\"><g><g><rect x=\"0\" y=\"0\" class=\"light-square\" height=\"1\" width=\"1\"></rect><image x=\"0\" xlink:href=\"https://raw.githubusercontent.com/romstad/Chess.jl/master/img/br.svg\" y=\"0\" height=\"1\" width=\"1\"></image></g><g><rect x=\"0\" y=\"1\" class=\"dark-square\" height=\"1\" width=\"1\"></rect><image x=\"0\" xlink:href=\"https://raw.githubusercontent.com/romstad/Chess.jl/master/img/bp.svg\" y=\"1\" height=\"1\" width=\"1\"></image></g><g><rect x=\"0\" y=\"2\" class=\"light-square\" height=\"1\" width=\"1\"></rect><image x=\"0\" xlink:href=\"https://raw.githubusercontent.com/romstad/Chess.jl/master/img/bb.svg\" y=\"2\" height=\"1\" width=\"1\"></image></g><g><rect x=\"0\" y=\"3\" class=\"dark-square\" height=\"1\" width=\"1\"></rect><g></g></g><g><rect x=\"0\" y=\"4\" class=\"light-square\" height=\"1\" width=\"1\"></rect><g></g></g><g><rect x=\"0\" y=\"5\" class=\"dark-square\" height=\"1\" width=\"1\"></rect><g></g></g><g><rect x=\"0\" y=\"6\" class=\"light-square\" height=\"1\" width=\"1\"></rect><image x=\"0\" xlink:href=\"https://raw.githubusercontent.com/romstad/Chess.jl/master/img/wp.svg\" y=\"6\" height=\"1\" width=\"1\"></image></g><g><rect x=\"0\" y=\"7\" class=\"dark-square\" height=\"1\" width=\"1\"></rect><image x=\"0\" xlink:href=\"https://raw.githubusercontent.com/romstad/Chess.jl/master/img/wr.svg\" y=\"7\" height=\"1\" width=\"1\"></image></g><g><rect x=\"1\" y=\"0\" class=\"dark-square\" height=\"1\" width=\"1\"></rect><g></g></g><g><rect x=\"1\" y=\"1\" class=\"light-square\" height=\"1\" width=\"1\"></rect><g></g></g><g><rect x=\"1\" y=\"2\" class=\"dark-square\" height=\"1\" width=\"1\"></rect><g></g></g><g><rect x=\"1\" y=\"3\" class=\"light-square\" height=\"1\" width=\"1\"></rect><g></g></g><g><rect x=\"1\" y=\"4\" class=\"dark-square\" height=\"1\" width=\"1\"></rect><image x=\"1\" xlink:href=\"https://raw.githubusercontent.com/romstad/Chess.jl/master/img/bp.svg\" y=\"4\" height=\"1\" width=\"1\"></image></g><g><rect x=\"1\" y=\"5\" class=\"light-square\" height=\"1\" width=\"1\"></rect><image x=\"1\" xlink:href=\"https://raw.githubusercontent.com/romstad/Chess.jl/master/img/wb.svg\" y=\"5\" height=\"1\" width=\"1\"></image></g><g><rect x=\"1\" y=\"6\" class=\"dark-square\" height=\"1\" width=\"1\"></rect><image x=\"1\" xlink:href=\"https://raw.githubusercontent.com/romstad/Chess.jl/master/img/wp.svg\" y=\"6\" height=\"1\" width=\"1\"></image></g><g><rect x=\"1\" y=\"7\" class=\"light-square\" height=\"1\" width=\"1\"></rect><g></g></g><g><rect x=\"2\" y=\"0\" class=\"light-square\" height=\"1\" width=\"1\"></rect><g></g></g><g><rect x=\"2\" y=\"1\" class=\"dark-square\" height=\"1\" width=\"1\"></rect><g></g></g><g><rect x=\"2\" y=\"2\" class=\"light-square\" height=\"1\" width=\"1\"></rect><image x=\"2\" xlink:href=\"https://raw.githubusercontent.com/romstad/Chess.jl/master/img/bp.svg\" y=\"2\" height=\"1\" width=\"1\"></image></g><g><rect x=\"2\" y=\"3\" class=\"dark-square\" height=\"1\" width=\"1\"></rect><g></g></g><g><rect x=\"2\" y=\"4\" class=\"light-square\" height=\"1\" width=\"1\"></rect><g></g></g><g><rect x=\"2\" y=\"5\" class=\"dark-square\" height=\"1\" width=\"1\"></rect><g></g></g><g><rect x=\"2\" y=\"6\" class=\"light-square\" height=\"1\" width=\"1\"></rect><image x=\"2\" xlink:href=\"https://raw.githubusercontent.com/romstad/Chess.jl/master/img/wp.svg\" y=\"6\" height=\"1\" width=\"1\"></image></g><g><rect x=\"2\" y=\"7\" class=\"dark-square\" height=\"1\" width=\"1\"></rect><g></g></g><g><rect x=\"3\" y=\"0\" class=\"dark-square\" height=\"1\" width=\"1\"></rect><g></g></g><g><rect x=\"3\" y=\"1\" class=\"light-square\" height=\"1\" width=\"1\"></rect><image x=\"3\" xlink:href=\"https://raw.githubusercontent.com/romstad/Chess.jl/master/img/bp.svg\" y=\"1\" height=\"1\" width=\"1\"></image></g><g><rect x=\"3\" y=\"2\" class=\"dark-square\" height=\"1\" width=\"1\"></rect><image x=\"3\" xlink:href=\"https://raw.githubusercontent.com/romstad/Chess.jl/master/img/bb.svg\" y=\"2\" height=\"1\" width=\"1\"></image></g><g><rect x=\"3\" y=\"3\" class=\"light-square\" height=\"1\" width=\"1\"></rect><g></g></g><g><rect x=\"3\" y=\"4\" class=\"dark-square\" height=\"1\" width=\"1\"></rect><g></g></g><g><rect x=\"3\" y=\"5\" class=\"light-square\" height=\"1\" width=\"1\"></rect><g></g></g><g><rect x=\"3\" y=\"6\" class=\"dark-square\" height=\"1\" width=\"1\"></rect><g></g></g><g><rect x=\"3\" y=\"7\" class=\"light-square\" height=\"1\" width=\"1\"></rect><g></g></g><g><rect x=\"4\" y=\"0\" class=\"light-square\" height=\"1\" width=\"1\"></rect><image x=\"4\" xlink:href=\"https://raw.githubusercontent.com/romstad/Chess.jl/master/img/bk.svg\" y=\"0\" height=\"1\" width=\"1\"></image></g><g><rect x=\"4\" y=\"1\" class=\"dark-square\" height=\"1\" width=\"1\"></rect><g></g></g><g><rect x=\"4\" y=\"2\" class=\"light-square\" height=\"1\" width=\"1\"></rect><g></g></g><g><rect x=\"4\" y=\"3\" class=\"dark-square\" height=\"1\" width=\"1\"></rect><image x=\"4\" xlink:href=\"https://raw.githubusercontent.com/romstad/Chess.jl/master/img/bp.svg\" y=\"3\" height=\"1\" width=\"1\"></image></g><g><rect x=\"4\" y=\"4\" class=\"light-square\" height=\"1\" width=\"1\"></rect><image x=\"4\" xlink:href=\"https://raw.githubusercontent.com/romstad/Chess.jl/master/img/wp.svg\" y=\"4\" height=\"1\" width=\"1\"></image></g><g><rect x=\"4\" y=\"5\" class=\"dark-square\" height=\"1\" width=\"1\"></rect><image x=\"4\" xlink:href=\"https://raw.githubusercontent.com/romstad/Chess.jl/master/img/wb.svg\" y=\"5\" height=\"1\" width=\"1\"></image></g><g><rect x=\"4\" y=\"6\" class=\"light-square\" height=\"1\" width=\"1\"></rect><image x=\"4\" xlink:href=\"https://raw.githubusercontent.com/romstad/Chess.jl/master/img/wn.svg\" y=\"6\" height=\"1\" width=\"1\"></image></g><g><rect x=\"4\" y=\"7\" class=\"dark-square\" height=\"1\" width=\"1\"></rect><g></g></g><g><rect x=\"5\" y=\"0\" class=\"dark-square\" height=\"1\" width=\"1\"></rect><g></g></g><g><rect x=\"5\" y=\"1\" class=\"light-square\" height=\"1\" width=\"1\"></rect><image x=\"5\" xlink:href=\"https://raw.githubusercontent.com/romstad/Chess.jl/master/img/bp.svg\" y=\"1\" height=\"1\" width=\"1\"></image></g><g><rect x=\"5\" y=\"2\" class=\"dark-square\" height=\"1\" width=\"1\"></rect><g></g></g><g><rect x=\"5\" y=\"3\" class=\"light-square\" height=\"1\" width=\"1\"></rect><g></g></g><g><rect x=\"5\" y=\"4\" class=\"dark-square\" height=\"1\" width=\"1\"></rect><g></g></g><g><rect x=\"5\" y=\"5\" class=\"light-square\" height=\"1\" width=\"1\"></rect><image x=\"5\" xlink:href=\"https://raw.githubusercontent.com/romstad/Chess.jl/master/img/wp.svg\" y=\"5\" height=\"1\" width=\"1\"></image></g><g><rect x=\"5\" y=\"6\" class=\"dark-square\" height=\"1\" width=\"1\"></rect><image x=\"5\" xlink:href=\"https://raw.githubusercontent.com/romstad/Chess.jl/master/img/wp.svg\" y=\"6\" height=\"1\" width=\"1\"></image></g><g><rect x=\"5\" y=\"7\" class=\"light-square\" height=\"1\" width=\"1\"></rect><image x=\"5\" xlink:href=\"https://raw.githubusercontent.com/romstad/Chess.jl/master/img/wr.svg\" y=\"7\" height=\"1\" width=\"1\"></image></g><g><rect x=\"6\" y=\"0\" class=\"light-square\" height=\"1\" width=\"1\"></rect><image x=\"6\" xlink:href=\"https://raw.githubusercontent.com/romstad/Chess.jl/master/img/bn.svg\" y=\"0\" height=\"1\" width=\"1\"></image></g><g><rect x=\"6\" y=\"1\" class=\"dark-square\" height=\"1\" width=\"1\"></rect><image x=\"6\" xlink:href=\"https://raw.githubusercontent.com/romstad/Chess.jl/master/img/bp.svg\" y=\"1\" height=\"1\" width=\"1\"></image></g><g><rect x=\"6\" y=\"2\" class=\"light-square\" height=\"1\" width=\"1\"></rect><g></g></g><g><rect x=\"6\" y=\"3\" class=\"dark-square\" height=\"1\" width=\"1\"></rect><g></g></g><g><rect x=\"6\" y=\"4\" class=\"light-square\" height=\"1\" width=\"1\"></rect><g></g></g><g><rect x=\"6\" y=\"5\" class=\"dark-square\" height=\"1\" width=\"1\"></rect><g></g></g><g><rect x=\"6\" y=\"6\" class=\"light-square\" height=\"1\" width=\"1\"></rect><g></g></g><g><rect x=\"6\" y=\"7\" class=\"dark-square\" height=\"1\" width=\"1\"></rect><image x=\"6\" xlink:href=\"https://raw.githubusercontent.com/romstad/Chess.jl/master/img/wk.svg\" y=\"7\" height=\"1\" width=\"1\"></image></g><g><rect x=\"7\" y=\"0\" class=\"dark-square\" height=\"1\" width=\"1\"></rect><image x=\"7\" xlink:href=\"https://raw.githubusercontent.com/romstad/Chess.jl/master/img/br.svg\" y=\"0\" height=\"1\" width=\"1\"></image></g><g><rect x=\"7\" y=\"1\" class=\"light-square\" height=\"1\" width=\"1\"></rect><g></g></g><g><rect x=\"7\" y=\"2\" class=\"dark-square\" height=\"1\" width=\"1\"></rect><image x=\"7\" xlink:href=\"https://raw.githubusercontent.com/romstad/Chess.jl/master/img/bp.svg\" y=\"2\" height=\"1\" width=\"1\"></image></g><g><rect x=\"7\" y=\"3\" class=\"light-square\" height=\"1\" width=\"1\"></rect><g></g></g><g><rect x=\"7\" y=\"4\" class=\"dark-square\" height=\"1\" width=\"1\"></rect><g></g></g><g><rect x=\"7\" y=\"5\" class=\"light-square\" height=\"1\" width=\"1\"></rect><g></g></g><g><rect x=\"7\" y=\"6\" class=\"dark-square\" height=\"1\" width=\"1\"></rect><image x=\"7\" xlink:href=\"https://raw.githubusercontent.com/romstad/Chess.jl/master/img/wp.svg\" y=\"6\" height=\"1\" width=\"1\"></image></g><g><rect x=\"7\" y=\"7\" class=\"light-square\" height=\"1\" width=\"1\"></rect><g></g></g></g><g></g></svg><div><p>White to move</p><p>Castle rights: kq</p><p><a href=\"https://lichess.org/editor/r3k1nr/p2p1pp1/b1pb3p/4p3/1p2P3/1B2BP2/PPP1NP1P/R4RK1_w_kq_-\" target=\"_blank\">Open in lichess</a></p></div></div>"
      ],
      "text/plain": [
       "Board (r3k1nr/p2p1pp1/b1pb3p/4p3/1p2P3/1B2BP2/PPP1NP1P/R4RK1 w kq -):\n",
       " r  -  -  -  k  -  n  r \n",
       " p  -  -  p  -  p  p  - \n",
       " b  -  p  b  -  -  -  p \n",
       " -  -  -  -  p  -  -  - \n",
       " -  p  -  -  P  -  -  - \n",
       " -  B  -  -  B  P  -  - \n",
       " P  P  P  -  N  P  -  P \n",
       " R  -  -  -  -  R  K  - "
      ]
     },
     "metadata": {},
     "output_type": "display_data"
    },
    {
     "name": "stdout",
     "output_type": "stream",
     "text": [
      "Make a move. Type 'resign' to resign from the match\n",
      "stdin> f1e1\n",
      "Cleared Cache with 0\n",
      "Inkremental score is -65 but should be -5\n"
     ]
    },
    {
     "data": {
      "text/html": [
       "Board:<div class=\"chessboard\"><style soped=\"true\">.dark-square {\n",
       "    fill: #c3936a;\n",
       "    stroke-width: 0;\n",
       "}\n",
       ".light-square {\n",
       "    fill: #ffd7a6;\n",
       "    stroke-width: 0;\n",
       "}\n",
       ".highlight {\n",
       "    fill: #47d18b;\n",
       "}\n",
       "@media (prefers-color-scheme: dark) {\n",
       "    .dark-square {\n",
       "        fill: #00796b;\n",
       "    }\n",
       "    .light-square {\n",
       "        fill: #3ca59b;\n",
       "    }\n",
       "    .highlight {\n",
       "        fill: #d23600;\n",
       "    }\n",
       "}\n",
       "</style><svg style=\"float: left; margin-right: 20px\" viewBox=\"0 0 8 8\" height=\"280\" width=\"280\"><g><g><rect x=\"0\" y=\"0\" class=\"light-square\" height=\"1\" width=\"1\"></rect><image x=\"0\" xlink:href=\"https://raw.githubusercontent.com/romstad/Chess.jl/master/img/br.svg\" y=\"0\" height=\"1\" width=\"1\"></image></g><g><rect x=\"0\" y=\"1\" class=\"dark-square\" height=\"1\" width=\"1\"></rect><image x=\"0\" xlink:href=\"https://raw.githubusercontent.com/romstad/Chess.jl/master/img/bp.svg\" y=\"1\" height=\"1\" width=\"1\"></image></g><g><rect x=\"0\" y=\"2\" class=\"light-square\" height=\"1\" width=\"1\"></rect><image x=\"0\" xlink:href=\"https://raw.githubusercontent.com/romstad/Chess.jl/master/img/bb.svg\" y=\"2\" height=\"1\" width=\"1\"></image></g><g><rect x=\"0\" y=\"3\" class=\"dark-square\" height=\"1\" width=\"1\"></rect><g></g></g><g><rect x=\"0\" y=\"4\" class=\"light-square\" height=\"1\" width=\"1\"></rect><g></g></g><g><rect x=\"0\" y=\"5\" class=\"dark-square\" height=\"1\" width=\"1\"></rect><g></g></g><g><rect x=\"0\" y=\"6\" class=\"light-square\" height=\"1\" width=\"1\"></rect><image x=\"0\" xlink:href=\"https://raw.githubusercontent.com/romstad/Chess.jl/master/img/wp.svg\" y=\"6\" height=\"1\" width=\"1\"></image></g><g><rect x=\"0\" y=\"7\" class=\"dark-square\" height=\"1\" width=\"1\"></rect><image x=\"0\" xlink:href=\"https://raw.githubusercontent.com/romstad/Chess.jl/master/img/wr.svg\" y=\"7\" height=\"1\" width=\"1\"></image></g><g><rect x=\"1\" y=\"0\" class=\"dark-square\" height=\"1\" width=\"1\"></rect><g></g></g><g><rect x=\"1\" y=\"1\" class=\"light-square\" height=\"1\" width=\"1\"></rect><g></g></g><g><rect x=\"1\" y=\"2\" class=\"dark-square\" height=\"1\" width=\"1\"></rect><g></g></g><g><rect x=\"1\" y=\"3\" class=\"light-square\" height=\"1\" width=\"1\"></rect><g></g></g><g><rect x=\"1\" y=\"4\" class=\"dark-square\" height=\"1\" width=\"1\"></rect><image x=\"1\" xlink:href=\"https://raw.githubusercontent.com/romstad/Chess.jl/master/img/bp.svg\" y=\"4\" height=\"1\" width=\"1\"></image></g><g><rect x=\"1\" y=\"5\" class=\"light-square\" height=\"1\" width=\"1\"></rect><image x=\"1\" xlink:href=\"https://raw.githubusercontent.com/romstad/Chess.jl/master/img/wb.svg\" y=\"5\" height=\"1\" width=\"1\"></image></g><g><rect x=\"1\" y=\"6\" class=\"dark-square\" height=\"1\" width=\"1\"></rect><image x=\"1\" xlink:href=\"https://raw.githubusercontent.com/romstad/Chess.jl/master/img/wp.svg\" y=\"6\" height=\"1\" width=\"1\"></image></g><g><rect x=\"1\" y=\"7\" class=\"light-square\" height=\"1\" width=\"1\"></rect><g></g></g><g><rect x=\"2\" y=\"0\" class=\"light-square\" height=\"1\" width=\"1\"></rect><g></g></g><g><rect x=\"2\" y=\"1\" class=\"dark-square\" height=\"1\" width=\"1\"></rect><g></g></g><g><rect x=\"2\" y=\"2\" class=\"light-square\" height=\"1\" width=\"1\"></rect><image x=\"2\" xlink:href=\"https://raw.githubusercontent.com/romstad/Chess.jl/master/img/bp.svg\" y=\"2\" height=\"1\" width=\"1\"></image></g><g><rect x=\"2\" y=\"3\" class=\"dark-square\" height=\"1\" width=\"1\"></rect><g></g></g><g><rect x=\"2\" y=\"4\" class=\"light-square\" height=\"1\" width=\"1\"></rect><g></g></g><g><rect x=\"2\" y=\"5\" class=\"dark-square\" height=\"1\" width=\"1\"></rect><g></g></g><g><rect x=\"2\" y=\"6\" class=\"light-square\" height=\"1\" width=\"1\"></rect><image x=\"2\" xlink:href=\"https://raw.githubusercontent.com/romstad/Chess.jl/master/img/wp.svg\" y=\"6\" height=\"1\" width=\"1\"></image></g><g><rect x=\"2\" y=\"7\" class=\"dark-square\" height=\"1\" width=\"1\"></rect><g></g></g><g><rect x=\"3\" y=\"0\" class=\"dark-square\" height=\"1\" width=\"1\"></rect><g></g></g><g><rect x=\"3\" y=\"1\" class=\"light-square\" height=\"1\" width=\"1\"></rect><image x=\"3\" xlink:href=\"https://raw.githubusercontent.com/romstad/Chess.jl/master/img/bp.svg\" y=\"1\" height=\"1\" width=\"1\"></image></g><g><rect x=\"3\" y=\"2\" class=\"dark-square\" height=\"1\" width=\"1\"></rect><image x=\"3\" xlink:href=\"https://raw.githubusercontent.com/romstad/Chess.jl/master/img/bb.svg\" y=\"2\" height=\"1\" width=\"1\"></image></g><g><rect x=\"3\" y=\"3\" class=\"light-square\" height=\"1\" width=\"1\"></rect><g></g></g><g><rect x=\"3\" y=\"4\" class=\"dark-square\" height=\"1\" width=\"1\"></rect><g></g></g><g><rect x=\"3\" y=\"5\" class=\"light-square\" height=\"1\" width=\"1\"></rect><g></g></g><g><rect x=\"3\" y=\"6\" class=\"dark-square\" height=\"1\" width=\"1\"></rect><g></g></g><g><rect x=\"3\" y=\"7\" class=\"light-square\" height=\"1\" width=\"1\"></rect><g></g></g><g><rect x=\"4\" y=\"0\" class=\"light-square\" height=\"1\" width=\"1\"></rect><image x=\"4\" xlink:href=\"https://raw.githubusercontent.com/romstad/Chess.jl/master/img/bk.svg\" y=\"0\" height=\"1\" width=\"1\"></image></g><g><rect x=\"4\" y=\"1\" class=\"dark-square\" height=\"1\" width=\"1\"></rect><g></g></g><g><rect x=\"4\" y=\"2\" class=\"light-square\" height=\"1\" width=\"1\"></rect><g></g></g><g><rect x=\"4\" y=\"3\" class=\"dark-square\" height=\"1\" width=\"1\"></rect><image x=\"4\" xlink:href=\"https://raw.githubusercontent.com/romstad/Chess.jl/master/img/bp.svg\" y=\"3\" height=\"1\" width=\"1\"></image></g><g><rect x=\"4\" y=\"4\" class=\"light-square\" height=\"1\" width=\"1\"></rect><image x=\"4\" xlink:href=\"https://raw.githubusercontent.com/romstad/Chess.jl/master/img/wp.svg\" y=\"4\" height=\"1\" width=\"1\"></image></g><g><rect x=\"4\" y=\"5\" class=\"dark-square\" height=\"1\" width=\"1\"></rect><image x=\"4\" xlink:href=\"https://raw.githubusercontent.com/romstad/Chess.jl/master/img/wb.svg\" y=\"5\" height=\"1\" width=\"1\"></image></g><g><rect x=\"4\" y=\"6\" class=\"light-square\" height=\"1\" width=\"1\"></rect><image x=\"4\" xlink:href=\"https://raw.githubusercontent.com/romstad/Chess.jl/master/img/wn.svg\" y=\"6\" height=\"1\" width=\"1\"></image></g><g><rect x=\"4\" y=\"7\" class=\"dark-square\" height=\"1\" width=\"1\"></rect><image x=\"4\" xlink:href=\"https://raw.githubusercontent.com/romstad/Chess.jl/master/img/wr.svg\" y=\"7\" height=\"1\" width=\"1\"></image></g><g><rect x=\"5\" y=\"0\" class=\"dark-square\" height=\"1\" width=\"1\"></rect><g></g></g><g><rect x=\"5\" y=\"1\" class=\"light-square\" height=\"1\" width=\"1\"></rect><image x=\"5\" xlink:href=\"https://raw.githubusercontent.com/romstad/Chess.jl/master/img/bp.svg\" y=\"1\" height=\"1\" width=\"1\"></image></g><g><rect x=\"5\" y=\"2\" class=\"dark-square\" height=\"1\" width=\"1\"></rect><g></g></g><g><rect x=\"5\" y=\"3\" class=\"light-square\" height=\"1\" width=\"1\"></rect><g></g></g><g><rect x=\"5\" y=\"4\" class=\"dark-square\" height=\"1\" width=\"1\"></rect><g></g></g><g><rect x=\"5\" y=\"5\" class=\"light-square\" height=\"1\" width=\"1\"></rect><image x=\"5\" xlink:href=\"https://raw.githubusercontent.com/romstad/Chess.jl/master/img/wp.svg\" y=\"5\" height=\"1\" width=\"1\"></image></g><g><rect x=\"5\" y=\"6\" class=\"dark-square\" height=\"1\" width=\"1\"></rect><image x=\"5\" xlink:href=\"https://raw.githubusercontent.com/romstad/Chess.jl/master/img/wp.svg\" y=\"6\" height=\"1\" width=\"1\"></image></g><g><rect x=\"5\" y=\"7\" class=\"light-square\" height=\"1\" width=\"1\"></rect><g></g></g><g><rect x=\"6\" y=\"0\" class=\"light-square\" height=\"1\" width=\"1\"></rect><image x=\"6\" xlink:href=\"https://raw.githubusercontent.com/romstad/Chess.jl/master/img/bn.svg\" y=\"0\" height=\"1\" width=\"1\"></image></g><g><rect x=\"6\" y=\"1\" class=\"dark-square\" height=\"1\" width=\"1\"></rect><image x=\"6\" xlink:href=\"https://raw.githubusercontent.com/romstad/Chess.jl/master/img/bp.svg\" y=\"1\" height=\"1\" width=\"1\"></image></g><g><rect x=\"6\" y=\"2\" class=\"light-square\" height=\"1\" width=\"1\"></rect><g></g></g><g><rect x=\"6\" y=\"3\" class=\"dark-square\" height=\"1\" width=\"1\"></rect><g></g></g><g><rect x=\"6\" y=\"4\" class=\"light-square\" height=\"1\" width=\"1\"></rect><g></g></g><g><rect x=\"6\" y=\"5\" class=\"dark-square\" height=\"1\" width=\"1\"></rect><g></g></g><g><rect x=\"6\" y=\"6\" class=\"light-square\" height=\"1\" width=\"1\"></rect><g></g></g><g><rect x=\"6\" y=\"7\" class=\"dark-square\" height=\"1\" width=\"1\"></rect><image x=\"6\" xlink:href=\"https://raw.githubusercontent.com/romstad/Chess.jl/master/img/wk.svg\" y=\"7\" height=\"1\" width=\"1\"></image></g><g><rect x=\"7\" y=\"0\" class=\"dark-square\" height=\"1\" width=\"1\"></rect><image x=\"7\" xlink:href=\"https://raw.githubusercontent.com/romstad/Chess.jl/master/img/br.svg\" y=\"0\" height=\"1\" width=\"1\"></image></g><g><rect x=\"7\" y=\"1\" class=\"light-square\" height=\"1\" width=\"1\"></rect><g></g></g><g><rect x=\"7\" y=\"2\" class=\"dark-square\" height=\"1\" width=\"1\"></rect><image x=\"7\" xlink:href=\"https://raw.githubusercontent.com/romstad/Chess.jl/master/img/bp.svg\" y=\"2\" height=\"1\" width=\"1\"></image></g><g><rect x=\"7\" y=\"3\" class=\"light-square\" height=\"1\" width=\"1\"></rect><g></g></g><g><rect x=\"7\" y=\"4\" class=\"dark-square\" height=\"1\" width=\"1\"></rect><g></g></g><g><rect x=\"7\" y=\"5\" class=\"light-square\" height=\"1\" width=\"1\"></rect><g></g></g><g><rect x=\"7\" y=\"6\" class=\"dark-square\" height=\"1\" width=\"1\"></rect><image x=\"7\" xlink:href=\"https://raw.githubusercontent.com/romstad/Chess.jl/master/img/wp.svg\" y=\"6\" height=\"1\" width=\"1\"></image></g><g><rect x=\"7\" y=\"7\" class=\"light-square\" height=\"1\" width=\"1\"></rect><g></g></g></g><g></g></svg><div><p>Black to move</p><p>Castle rights: kq</p><p><a href=\"https://lichess.org/editor/r3k1nr/p2p1pp1/b1pb3p/4p3/1p2P3/1B2BP2/PPP1NP1P/R3R1K1_b_kq_-\" target=\"_blank\">Open in lichess</a></p></div></div>"
      ],
      "text/plain": [
       "Board (r3k1nr/p2p1pp1/b1pb3p/4p3/1p2P3/1B2BP2/PPP1NP1P/R3R1K1 b kq -):\n",
       " r  -  -  -  k  -  n  r \n",
       " p  -  -  p  -  p  p  - \n",
       " b  -  p  b  -  -  -  p \n",
       " -  -  -  -  p  -  -  - \n",
       " -  p  -  -  P  -  -  - \n",
       " -  B  -  -  B  P  -  - \n",
       " P  P  P  -  N  P  -  P \n",
       " R  -  -  -  R  -  K  - "
      ]
     },
     "metadata": {},
     "output_type": "display_data"
    },
    {
     "name": "stdout",
     "output_type": "stream",
     "text": [
      "Evaluation of engine: -45.0\n",
      "Current board score: -65\n",
      "Current entries in Cache: 9302\n",
      "Cleared Cache with 9302\n",
      "  7.798653 seconds (27.91 M allocations: 1.638 GiB, 4.74% gc time)\n",
      "Inkremental score is -115 but should be -55\n"
     ]
    },
    {
     "data": {
      "text/html": [
       "Board:<div class=\"chessboard\"><style soped=\"true\">.dark-square {\n",
       "    fill: #c3936a;\n",
       "    stroke-width: 0;\n",
       "}\n",
       ".light-square {\n",
       "    fill: #ffd7a6;\n",
       "    stroke-width: 0;\n",
       "}\n",
       ".highlight {\n",
       "    fill: #47d18b;\n",
       "}\n",
       "@media (prefers-color-scheme: dark) {\n",
       "    .dark-square {\n",
       "        fill: #00796b;\n",
       "    }\n",
       "    .light-square {\n",
       "        fill: #3ca59b;\n",
       "    }\n",
       "    .highlight {\n",
       "        fill: #d23600;\n",
       "    }\n",
       "}\n",
       "</style><svg style=\"float: left; margin-right: 20px\" viewBox=\"0 0 8 8\" height=\"280\" width=\"280\"><g><g><rect x=\"0\" y=\"0\" class=\"light-square\" height=\"1\" width=\"1\"></rect><image x=\"0\" xlink:href=\"https://raw.githubusercontent.com/romstad/Chess.jl/master/img/br.svg\" y=\"0\" height=\"1\" width=\"1\"></image></g><g><rect x=\"0\" y=\"1\" class=\"dark-square\" height=\"1\" width=\"1\"></rect><image x=\"0\" xlink:href=\"https://raw.githubusercontent.com/romstad/Chess.jl/master/img/bp.svg\" y=\"1\" height=\"1\" width=\"1\"></image></g><g><rect x=\"0\" y=\"2\" class=\"light-square\" height=\"1\" width=\"1\"></rect><image x=\"0\" xlink:href=\"https://raw.githubusercontent.com/romstad/Chess.jl/master/img/bb.svg\" y=\"2\" height=\"1\" width=\"1\"></image></g><g><rect x=\"0\" y=\"3\" class=\"dark-square\" height=\"1\" width=\"1\"></rect><g></g></g><g><rect x=\"0\" y=\"4\" class=\"light-square\" height=\"1\" width=\"1\"></rect><g></g></g><g><rect x=\"0\" y=\"5\" class=\"dark-square\" height=\"1\" width=\"1\"></rect><g></g></g><g><rect x=\"0\" y=\"6\" class=\"light-square\" height=\"1\" width=\"1\"></rect><image x=\"0\" xlink:href=\"https://raw.githubusercontent.com/romstad/Chess.jl/master/img/wp.svg\" y=\"6\" height=\"1\" width=\"1\"></image></g><g><rect x=\"0\" y=\"7\" class=\"dark-square\" height=\"1\" width=\"1\"></rect><image x=\"0\" xlink:href=\"https://raw.githubusercontent.com/romstad/Chess.jl/master/img/wr.svg\" y=\"7\" height=\"1\" width=\"1\"></image></g><g><rect x=\"1\" y=\"0\" class=\"dark-square\" height=\"1\" width=\"1\"></rect><g></g></g><g><rect x=\"1\" y=\"1\" class=\"light-square\" height=\"1\" width=\"1\"></rect><g></g></g><g><rect x=\"1\" y=\"2\" class=\"dark-square\" height=\"1\" width=\"1\"></rect><g></g></g><g><rect x=\"1\" y=\"3\" class=\"light-square\" height=\"1\" width=\"1\"></rect><g></g></g><g><rect x=\"1\" y=\"4\" class=\"dark-square\" height=\"1\" width=\"1\"></rect><image x=\"1\" xlink:href=\"https://raw.githubusercontent.com/romstad/Chess.jl/master/img/bp.svg\" y=\"4\" height=\"1\" width=\"1\"></image></g><g><rect x=\"1\" y=\"5\" class=\"light-square\" height=\"1\" width=\"1\"></rect><image x=\"1\" xlink:href=\"https://raw.githubusercontent.com/romstad/Chess.jl/master/img/wb.svg\" y=\"5\" height=\"1\" width=\"1\"></image></g><g><rect x=\"1\" y=\"6\" class=\"dark-square\" height=\"1\" width=\"1\"></rect><image x=\"1\" xlink:href=\"https://raw.githubusercontent.com/romstad/Chess.jl/master/img/wp.svg\" y=\"6\" height=\"1\" width=\"1\"></image></g><g><rect x=\"1\" y=\"7\" class=\"light-square\" height=\"1\" width=\"1\"></rect><g></g></g><g><rect x=\"2\" y=\"0\" class=\"light-square\" height=\"1\" width=\"1\"></rect><g></g></g><g><rect x=\"2\" y=\"1\" class=\"dark-square\" height=\"1\" width=\"1\"></rect><g></g></g><g><rect x=\"2\" y=\"2\" class=\"light-square\" height=\"1\" width=\"1\"></rect><image x=\"2\" xlink:href=\"https://raw.githubusercontent.com/romstad/Chess.jl/master/img/bp.svg\" y=\"2\" height=\"1\" width=\"1\"></image></g><g><rect x=\"2\" y=\"3\" class=\"dark-square\" height=\"1\" width=\"1\"></rect><g></g></g><g><rect x=\"2\" y=\"4\" class=\"light-square\" height=\"1\" width=\"1\"></rect><g></g></g><g><rect x=\"2\" y=\"5\" class=\"dark-square\" height=\"1\" width=\"1\"></rect><g></g></g><g><rect x=\"2\" y=\"6\" class=\"light-square\" height=\"1\" width=\"1\"></rect><image x=\"2\" xlink:href=\"https://raw.githubusercontent.com/romstad/Chess.jl/master/img/wp.svg\" y=\"6\" height=\"1\" width=\"1\"></image></g><g><rect x=\"2\" y=\"7\" class=\"dark-square\" height=\"1\" width=\"1\"></rect><g></g></g><g><rect x=\"3\" y=\"0\" class=\"dark-square\" height=\"1\" width=\"1\"></rect><g></g></g><g><rect x=\"3\" y=\"1\" class=\"light-square\" height=\"1\" width=\"1\"></rect><image x=\"3\" xlink:href=\"https://raw.githubusercontent.com/romstad/Chess.jl/master/img/bp.svg\" y=\"1\" height=\"1\" width=\"1\"></image></g><g><rect x=\"3\" y=\"2\" class=\"dark-square\" height=\"1\" width=\"1\"></rect><image x=\"3\" xlink:href=\"https://raw.githubusercontent.com/romstad/Chess.jl/master/img/bb.svg\" y=\"2\" height=\"1\" width=\"1\"></image></g><g><rect x=\"3\" y=\"3\" class=\"light-square\" height=\"1\" width=\"1\"></rect><g></g></g><g><rect x=\"3\" y=\"4\" class=\"dark-square\" height=\"1\" width=\"1\"></rect><g></g></g><g><rect x=\"3\" y=\"5\" class=\"light-square\" height=\"1\" width=\"1\"></rect><g></g></g><g><rect x=\"3\" y=\"6\" class=\"dark-square\" height=\"1\" width=\"1\"></rect><g></g></g><g><rect x=\"3\" y=\"7\" class=\"light-square\" height=\"1\" width=\"1\"></rect><g></g></g><g><rect x=\"4\" y=\"0\" class=\"light-square\" height=\"1\" width=\"1\"></rect><image x=\"4\" xlink:href=\"https://raw.githubusercontent.com/romstad/Chess.jl/master/img/bk.svg\" y=\"0\" height=\"1\" width=\"1\"></image></g><g><rect x=\"4\" y=\"1\" class=\"dark-square\" height=\"1\" width=\"1\"></rect><g></g></g><g><rect x=\"4\" y=\"2\" class=\"light-square\" height=\"1\" width=\"1\"></rect><g></g></g><g><rect x=\"4\" y=\"3\" class=\"dark-square\" height=\"1\" width=\"1\"></rect><image x=\"4\" xlink:href=\"https://raw.githubusercontent.com/romstad/Chess.jl/master/img/bp.svg\" y=\"3\" height=\"1\" width=\"1\"></image></g><g><rect x=\"4\" y=\"4\" class=\"light-square\" height=\"1\" width=\"1\"></rect><image x=\"4\" xlink:href=\"https://raw.githubusercontent.com/romstad/Chess.jl/master/img/wp.svg\" y=\"4\" height=\"1\" width=\"1\"></image></g><g><rect x=\"4\" y=\"5\" class=\"dark-square\" height=\"1\" width=\"1\"></rect><image x=\"4\" xlink:href=\"https://raw.githubusercontent.com/romstad/Chess.jl/master/img/wb.svg\" y=\"5\" height=\"1\" width=\"1\"></image></g><g><rect x=\"4\" y=\"6\" class=\"light-square\" height=\"1\" width=\"1\"></rect><image x=\"4\" xlink:href=\"https://raw.githubusercontent.com/romstad/Chess.jl/master/img/wn.svg\" y=\"6\" height=\"1\" width=\"1\"></image></g><g><rect x=\"4\" y=\"7\" class=\"dark-square\" height=\"1\" width=\"1\"></rect><image x=\"4\" xlink:href=\"https://raw.githubusercontent.com/romstad/Chess.jl/master/img/wr.svg\" y=\"7\" height=\"1\" width=\"1\"></image></g><g><rect x=\"5\" y=\"0\" class=\"dark-square\" height=\"1\" width=\"1\"></rect><g></g></g><g><rect x=\"5\" y=\"1\" class=\"light-square\" height=\"1\" width=\"1\"></rect><image x=\"5\" xlink:href=\"https://raw.githubusercontent.com/romstad/Chess.jl/master/img/bp.svg\" y=\"1\" height=\"1\" width=\"1\"></image></g><g><rect x=\"5\" y=\"2\" class=\"dark-square\" height=\"1\" width=\"1\"></rect><image x=\"5\" xlink:href=\"https://raw.githubusercontent.com/romstad/Chess.jl/master/img/bn.svg\" y=\"2\" height=\"1\" width=\"1\"></image></g><g><rect x=\"5\" y=\"3\" class=\"light-square\" height=\"1\" width=\"1\"></rect><g></g></g><g><rect x=\"5\" y=\"4\" class=\"dark-square\" height=\"1\" width=\"1\"></rect><g></g></g><g><rect x=\"5\" y=\"5\" class=\"light-square\" height=\"1\" width=\"1\"></rect><image x=\"5\" xlink:href=\"https://raw.githubusercontent.com/romstad/Chess.jl/master/img/wp.svg\" y=\"5\" height=\"1\" width=\"1\"></image></g><g><rect x=\"5\" y=\"6\" class=\"dark-square\" height=\"1\" width=\"1\"></rect><image x=\"5\" xlink:href=\"https://raw.githubusercontent.com/romstad/Chess.jl/master/img/wp.svg\" y=\"6\" height=\"1\" width=\"1\"></image></g><g><rect x=\"5\" y=\"7\" class=\"light-square\" height=\"1\" width=\"1\"></rect><g></g></g><g><rect x=\"6\" y=\"0\" class=\"light-square\" height=\"1\" width=\"1\"></rect><g></g></g><g><rect x=\"6\" y=\"1\" class=\"dark-square\" height=\"1\" width=\"1\"></rect><image x=\"6\" xlink:href=\"https://raw.githubusercontent.com/romstad/Chess.jl/master/img/bp.svg\" y=\"1\" height=\"1\" width=\"1\"></image></g><g><rect x=\"6\" y=\"2\" class=\"light-square\" height=\"1\" width=\"1\"></rect><g></g></g><g><rect x=\"6\" y=\"3\" class=\"dark-square\" height=\"1\" width=\"1\"></rect><g></g></g><g><rect x=\"6\" y=\"4\" class=\"light-square\" height=\"1\" width=\"1\"></rect><g></g></g><g><rect x=\"6\" y=\"5\" class=\"dark-square\" height=\"1\" width=\"1\"></rect><g></g></g><g><rect x=\"6\" y=\"6\" class=\"light-square\" height=\"1\" width=\"1\"></rect><g></g></g><g><rect x=\"6\" y=\"7\" class=\"dark-square\" height=\"1\" width=\"1\"></rect><image x=\"6\" xlink:href=\"https://raw.githubusercontent.com/romstad/Chess.jl/master/img/wk.svg\" y=\"7\" height=\"1\" width=\"1\"></image></g><g><rect x=\"7\" y=\"0\" class=\"dark-square\" height=\"1\" width=\"1\"></rect><image x=\"7\" xlink:href=\"https://raw.githubusercontent.com/romstad/Chess.jl/master/img/br.svg\" y=\"0\" height=\"1\" width=\"1\"></image></g><g><rect x=\"7\" y=\"1\" class=\"light-square\" height=\"1\" width=\"1\"></rect><g></g></g><g><rect x=\"7\" y=\"2\" class=\"dark-square\" height=\"1\" width=\"1\"></rect><image x=\"7\" xlink:href=\"https://raw.githubusercontent.com/romstad/Chess.jl/master/img/bp.svg\" y=\"2\" height=\"1\" width=\"1\"></image></g><g><rect x=\"7\" y=\"3\" class=\"light-square\" height=\"1\" width=\"1\"></rect><g></g></g><g><rect x=\"7\" y=\"4\" class=\"dark-square\" height=\"1\" width=\"1\"></rect><g></g></g><g><rect x=\"7\" y=\"5\" class=\"light-square\" height=\"1\" width=\"1\"></rect><g></g></g><g><rect x=\"7\" y=\"6\" class=\"dark-square\" height=\"1\" width=\"1\"></rect><image x=\"7\" xlink:href=\"https://raw.githubusercontent.com/romstad/Chess.jl/master/img/wp.svg\" y=\"6\" height=\"1\" width=\"1\"></image></g><g><rect x=\"7\" y=\"7\" class=\"light-square\" height=\"1\" width=\"1\"></rect><g></g></g></g><g></g></svg><div><p>White to move</p><p>Castle rights: kq</p><p><a href=\"https://lichess.org/editor/r3k2r/p2p1pp1/b1pb1n1p/4p3/1p2P3/1B2BP2/PPP1NP1P/R3R1K1_w_kq_-\" target=\"_blank\">Open in lichess</a></p></div></div>"
      ],
      "text/plain": [
       "Board (r3k2r/p2p1pp1/b1pb1n1p/4p3/1p2P3/1B2BP2/PPP1NP1P/R3R1K1 w kq -):\n",
       " r  -  -  -  k  -  -  r \n",
       " p  -  -  p  -  p  p  - \n",
       " b  -  p  b  -  n  -  p \n",
       " -  -  -  -  p  -  -  - \n",
       " -  p  -  -  P  -  -  - \n",
       " -  B  -  -  B  P  -  - \n",
       " P  P  P  -  N  P  -  P \n",
       " R  -  -  -  R  -  K  - "
      ]
     },
     "metadata": {},
     "output_type": "display_data"
    },
    {
     "name": "stdout",
     "output_type": "stream",
     "text": [
      "Make a move. Type 'resign' to resign from the match\n",
      "stdin> e2g3\n",
      "Cleared Cache with 0\n",
      "Inkremental score is -115 but should be -55\n"
     ]
    },
    {
     "data": {
      "text/html": [
       "Board:<div class=\"chessboard\"><style soped=\"true\">.dark-square {\n",
       "    fill: #c3936a;\n",
       "    stroke-width: 0;\n",
       "}\n",
       ".light-square {\n",
       "    fill: #ffd7a6;\n",
       "    stroke-width: 0;\n",
       "}\n",
       ".highlight {\n",
       "    fill: #47d18b;\n",
       "}\n",
       "@media (prefers-color-scheme: dark) {\n",
       "    .dark-square {\n",
       "        fill: #00796b;\n",
       "    }\n",
       "    .light-square {\n",
       "        fill: #3ca59b;\n",
       "    }\n",
       "    .highlight {\n",
       "        fill: #d23600;\n",
       "    }\n",
       "}\n",
       "</style><svg style=\"float: left; margin-right: 20px\" viewBox=\"0 0 8 8\" height=\"280\" width=\"280\"><g><g><rect x=\"0\" y=\"0\" class=\"light-square\" height=\"1\" width=\"1\"></rect><image x=\"0\" xlink:href=\"https://raw.githubusercontent.com/romstad/Chess.jl/master/img/br.svg\" y=\"0\" height=\"1\" width=\"1\"></image></g><g><rect x=\"0\" y=\"1\" class=\"dark-square\" height=\"1\" width=\"1\"></rect><image x=\"0\" xlink:href=\"https://raw.githubusercontent.com/romstad/Chess.jl/master/img/bp.svg\" y=\"1\" height=\"1\" width=\"1\"></image></g><g><rect x=\"0\" y=\"2\" class=\"light-square\" height=\"1\" width=\"1\"></rect><image x=\"0\" xlink:href=\"https://raw.githubusercontent.com/romstad/Chess.jl/master/img/bb.svg\" y=\"2\" height=\"1\" width=\"1\"></image></g><g><rect x=\"0\" y=\"3\" class=\"dark-square\" height=\"1\" width=\"1\"></rect><g></g></g><g><rect x=\"0\" y=\"4\" class=\"light-square\" height=\"1\" width=\"1\"></rect><g></g></g><g><rect x=\"0\" y=\"5\" class=\"dark-square\" height=\"1\" width=\"1\"></rect><g></g></g><g><rect x=\"0\" y=\"6\" class=\"light-square\" height=\"1\" width=\"1\"></rect><image x=\"0\" xlink:href=\"https://raw.githubusercontent.com/romstad/Chess.jl/master/img/wp.svg\" y=\"6\" height=\"1\" width=\"1\"></image></g><g><rect x=\"0\" y=\"7\" class=\"dark-square\" height=\"1\" width=\"1\"></rect><image x=\"0\" xlink:href=\"https://raw.githubusercontent.com/romstad/Chess.jl/master/img/wr.svg\" y=\"7\" height=\"1\" width=\"1\"></image></g><g><rect x=\"1\" y=\"0\" class=\"dark-square\" height=\"1\" width=\"1\"></rect><g></g></g><g><rect x=\"1\" y=\"1\" class=\"light-square\" height=\"1\" width=\"1\"></rect><g></g></g><g><rect x=\"1\" y=\"2\" class=\"dark-square\" height=\"1\" width=\"1\"></rect><g></g></g><g><rect x=\"1\" y=\"3\" class=\"light-square\" height=\"1\" width=\"1\"></rect><g></g></g><g><rect x=\"1\" y=\"4\" class=\"dark-square\" height=\"1\" width=\"1\"></rect><image x=\"1\" xlink:href=\"https://raw.githubusercontent.com/romstad/Chess.jl/master/img/bp.svg\" y=\"4\" height=\"1\" width=\"1\"></image></g><g><rect x=\"1\" y=\"5\" class=\"light-square\" height=\"1\" width=\"1\"></rect><image x=\"1\" xlink:href=\"https://raw.githubusercontent.com/romstad/Chess.jl/master/img/wb.svg\" y=\"5\" height=\"1\" width=\"1\"></image></g><g><rect x=\"1\" y=\"6\" class=\"dark-square\" height=\"1\" width=\"1\"></rect><image x=\"1\" xlink:href=\"https://raw.githubusercontent.com/romstad/Chess.jl/master/img/wp.svg\" y=\"6\" height=\"1\" width=\"1\"></image></g><g><rect x=\"1\" y=\"7\" class=\"light-square\" height=\"1\" width=\"1\"></rect><g></g></g><g><rect x=\"2\" y=\"0\" class=\"light-square\" height=\"1\" width=\"1\"></rect><g></g></g><g><rect x=\"2\" y=\"1\" class=\"dark-square\" height=\"1\" width=\"1\"></rect><g></g></g><g><rect x=\"2\" y=\"2\" class=\"light-square\" height=\"1\" width=\"1\"></rect><image x=\"2\" xlink:href=\"https://raw.githubusercontent.com/romstad/Chess.jl/master/img/bp.svg\" y=\"2\" height=\"1\" width=\"1\"></image></g><g><rect x=\"2\" y=\"3\" class=\"dark-square\" height=\"1\" width=\"1\"></rect><g></g></g><g><rect x=\"2\" y=\"4\" class=\"light-square\" height=\"1\" width=\"1\"></rect><g></g></g><g><rect x=\"2\" y=\"5\" class=\"dark-square\" height=\"1\" width=\"1\"></rect><g></g></g><g><rect x=\"2\" y=\"6\" class=\"light-square\" height=\"1\" width=\"1\"></rect><image x=\"2\" xlink:href=\"https://raw.githubusercontent.com/romstad/Chess.jl/master/img/wp.svg\" y=\"6\" height=\"1\" width=\"1\"></image></g><g><rect x=\"2\" y=\"7\" class=\"dark-square\" height=\"1\" width=\"1\"></rect><g></g></g><g><rect x=\"3\" y=\"0\" class=\"dark-square\" height=\"1\" width=\"1\"></rect><g></g></g><g><rect x=\"3\" y=\"1\" class=\"light-square\" height=\"1\" width=\"1\"></rect><image x=\"3\" xlink:href=\"https://raw.githubusercontent.com/romstad/Chess.jl/master/img/bp.svg\" y=\"1\" height=\"1\" width=\"1\"></image></g><g><rect x=\"3\" y=\"2\" class=\"dark-square\" height=\"1\" width=\"1\"></rect><image x=\"3\" xlink:href=\"https://raw.githubusercontent.com/romstad/Chess.jl/master/img/bb.svg\" y=\"2\" height=\"1\" width=\"1\"></image></g><g><rect x=\"3\" y=\"3\" class=\"light-square\" height=\"1\" width=\"1\"></rect><g></g></g><g><rect x=\"3\" y=\"4\" class=\"dark-square\" height=\"1\" width=\"1\"></rect><g></g></g><g><rect x=\"3\" y=\"5\" class=\"light-square\" height=\"1\" width=\"1\"></rect><g></g></g><g><rect x=\"3\" y=\"6\" class=\"dark-square\" height=\"1\" width=\"1\"></rect><g></g></g><g><rect x=\"3\" y=\"7\" class=\"light-square\" height=\"1\" width=\"1\"></rect><g></g></g><g><rect x=\"4\" y=\"0\" class=\"light-square\" height=\"1\" width=\"1\"></rect><image x=\"4\" xlink:href=\"https://raw.githubusercontent.com/romstad/Chess.jl/master/img/bk.svg\" y=\"0\" height=\"1\" width=\"1\"></image></g><g><rect x=\"4\" y=\"1\" class=\"dark-square\" height=\"1\" width=\"1\"></rect><g></g></g><g><rect x=\"4\" y=\"2\" class=\"light-square\" height=\"1\" width=\"1\"></rect><g></g></g><g><rect x=\"4\" y=\"3\" class=\"dark-square\" height=\"1\" width=\"1\"></rect><image x=\"4\" xlink:href=\"https://raw.githubusercontent.com/romstad/Chess.jl/master/img/bp.svg\" y=\"3\" height=\"1\" width=\"1\"></image></g><g><rect x=\"4\" y=\"4\" class=\"light-square\" height=\"1\" width=\"1\"></rect><image x=\"4\" xlink:href=\"https://raw.githubusercontent.com/romstad/Chess.jl/master/img/wp.svg\" y=\"4\" height=\"1\" width=\"1\"></image></g><g><rect x=\"4\" y=\"5\" class=\"dark-square\" height=\"1\" width=\"1\"></rect><image x=\"4\" xlink:href=\"https://raw.githubusercontent.com/romstad/Chess.jl/master/img/wb.svg\" y=\"5\" height=\"1\" width=\"1\"></image></g><g><rect x=\"4\" y=\"6\" class=\"light-square\" height=\"1\" width=\"1\"></rect><g></g></g><g><rect x=\"4\" y=\"7\" class=\"dark-square\" height=\"1\" width=\"1\"></rect><image x=\"4\" xlink:href=\"https://raw.githubusercontent.com/romstad/Chess.jl/master/img/wr.svg\" y=\"7\" height=\"1\" width=\"1\"></image></g><g><rect x=\"5\" y=\"0\" class=\"dark-square\" height=\"1\" width=\"1\"></rect><g></g></g><g><rect x=\"5\" y=\"1\" class=\"light-square\" height=\"1\" width=\"1\"></rect><image x=\"5\" xlink:href=\"https://raw.githubusercontent.com/romstad/Chess.jl/master/img/bp.svg\" y=\"1\" height=\"1\" width=\"1\"></image></g><g><rect x=\"5\" y=\"2\" class=\"dark-square\" height=\"1\" width=\"1\"></rect><image x=\"5\" xlink:href=\"https://raw.githubusercontent.com/romstad/Chess.jl/master/img/bn.svg\" y=\"2\" height=\"1\" width=\"1\"></image></g><g><rect x=\"5\" y=\"3\" class=\"light-square\" height=\"1\" width=\"1\"></rect><g></g></g><g><rect x=\"5\" y=\"4\" class=\"dark-square\" height=\"1\" width=\"1\"></rect><g></g></g><g><rect x=\"5\" y=\"5\" class=\"light-square\" height=\"1\" width=\"1\"></rect><image x=\"5\" xlink:href=\"https://raw.githubusercontent.com/romstad/Chess.jl/master/img/wp.svg\" y=\"5\" height=\"1\" width=\"1\"></image></g><g><rect x=\"5\" y=\"6\" class=\"dark-square\" height=\"1\" width=\"1\"></rect><image x=\"5\" xlink:href=\"https://raw.githubusercontent.com/romstad/Chess.jl/master/img/wp.svg\" y=\"6\" height=\"1\" width=\"1\"></image></g><g><rect x=\"5\" y=\"7\" class=\"light-square\" height=\"1\" width=\"1\"></rect><g></g></g><g><rect x=\"6\" y=\"0\" class=\"light-square\" height=\"1\" width=\"1\"></rect><g></g></g><g><rect x=\"6\" y=\"1\" class=\"dark-square\" height=\"1\" width=\"1\"></rect><image x=\"6\" xlink:href=\"https://raw.githubusercontent.com/romstad/Chess.jl/master/img/bp.svg\" y=\"1\" height=\"1\" width=\"1\"></image></g><g><rect x=\"6\" y=\"2\" class=\"light-square\" height=\"1\" width=\"1\"></rect><g></g></g><g><rect x=\"6\" y=\"3\" class=\"dark-square\" height=\"1\" width=\"1\"></rect><g></g></g><g><rect x=\"6\" y=\"4\" class=\"light-square\" height=\"1\" width=\"1\"></rect><g></g></g><g><rect x=\"6\" y=\"5\" class=\"dark-square\" height=\"1\" width=\"1\"></rect><image x=\"6\" xlink:href=\"https://raw.githubusercontent.com/romstad/Chess.jl/master/img/wn.svg\" y=\"5\" height=\"1\" width=\"1\"></image></g><g><rect x=\"6\" y=\"6\" class=\"light-square\" height=\"1\" width=\"1\"></rect><g></g></g><g><rect x=\"6\" y=\"7\" class=\"dark-square\" height=\"1\" width=\"1\"></rect><image x=\"6\" xlink:href=\"https://raw.githubusercontent.com/romstad/Chess.jl/master/img/wk.svg\" y=\"7\" height=\"1\" width=\"1\"></image></g><g><rect x=\"7\" y=\"0\" class=\"dark-square\" height=\"1\" width=\"1\"></rect><image x=\"7\" xlink:href=\"https://raw.githubusercontent.com/romstad/Chess.jl/master/img/br.svg\" y=\"0\" height=\"1\" width=\"1\"></image></g><g><rect x=\"7\" y=\"1\" class=\"light-square\" height=\"1\" width=\"1\"></rect><g></g></g><g><rect x=\"7\" y=\"2\" class=\"dark-square\" height=\"1\" width=\"1\"></rect><image x=\"7\" xlink:href=\"https://raw.githubusercontent.com/romstad/Chess.jl/master/img/bp.svg\" y=\"2\" height=\"1\" width=\"1\"></image></g><g><rect x=\"7\" y=\"3\" class=\"light-square\" height=\"1\" width=\"1\"></rect><g></g></g><g><rect x=\"7\" y=\"4\" class=\"dark-square\" height=\"1\" width=\"1\"></rect><g></g></g><g><rect x=\"7\" y=\"5\" class=\"light-square\" height=\"1\" width=\"1\"></rect><g></g></g><g><rect x=\"7\" y=\"6\" class=\"dark-square\" height=\"1\" width=\"1\"></rect><image x=\"7\" xlink:href=\"https://raw.githubusercontent.com/romstad/Chess.jl/master/img/wp.svg\" y=\"6\" height=\"1\" width=\"1\"></image></g><g><rect x=\"7\" y=\"7\" class=\"light-square\" height=\"1\" width=\"1\"></rect><g></g></g></g><g></g></svg><div><p>Black to move</p><p>Castle rights: kq</p><p><a href=\"https://lichess.org/editor/r3k2r/p2p1pp1/b1pb1n1p/4p3/1p2P3/1B2BPN1/PPP2P1P/R3R1K1_b_kq_-\" target=\"_blank\">Open in lichess</a></p></div></div>"
      ],
      "text/plain": [
       "Board (r3k2r/p2p1pp1/b1pb1n1p/4p3/1p2P3/1B2BPN1/PPP2P1P/R3R1K1 b kq -):\n",
       " r  -  -  -  k  -  -  r \n",
       " p  -  -  p  -  p  p  - \n",
       " b  -  p  b  -  n  -  p \n",
       " -  -  -  -  p  -  -  - \n",
       " -  p  -  -  P  -  -  - \n",
       " -  B  -  -  B  P  N  - \n",
       " P  P  P  -  -  P  -  P \n",
       " R  -  -  -  R  -  K  - "
      ]
     },
     "metadata": {},
     "output_type": "display_data"
    },
    {
     "name": "stdout",
     "output_type": "stream",
     "text": [
      "Evaluation of engine: -15.0\n",
      "Current board score: -115\n",
      "Current entries in Cache: 9455\n",
      "Cleared Cache with 9455\n",
      "  8.179562 seconds (30.45 M allocations: 1.741 GiB, 4.61% gc time)\n",
      "Inkremental score is -105 but should be -45\n"
     ]
    },
    {
     "data": {
      "text/html": [
       "Board:<div class=\"chessboard\"><style soped=\"true\">.dark-square {\n",
       "    fill: #c3936a;\n",
       "    stroke-width: 0;\n",
       "}\n",
       ".light-square {\n",
       "    fill: #ffd7a6;\n",
       "    stroke-width: 0;\n",
       "}\n",
       ".highlight {\n",
       "    fill: #47d18b;\n",
       "}\n",
       "@media (prefers-color-scheme: dark) {\n",
       "    .dark-square {\n",
       "        fill: #00796b;\n",
       "    }\n",
       "    .light-square {\n",
       "        fill: #3ca59b;\n",
       "    }\n",
       "    .highlight {\n",
       "        fill: #d23600;\n",
       "    }\n",
       "}\n",
       "</style><svg style=\"float: left; margin-right: 20px\" viewBox=\"0 0 8 8\" height=\"280\" width=\"280\"><g><g><rect x=\"0\" y=\"0\" class=\"light-square\" height=\"1\" width=\"1\"></rect><image x=\"0\" xlink:href=\"https://raw.githubusercontent.com/romstad/Chess.jl/master/img/br.svg\" y=\"0\" height=\"1\" width=\"1\"></image></g><g><rect x=\"0\" y=\"1\" class=\"dark-square\" height=\"1\" width=\"1\"></rect><image x=\"0\" xlink:href=\"https://raw.githubusercontent.com/romstad/Chess.jl/master/img/bp.svg\" y=\"1\" height=\"1\" width=\"1\"></image></g><g><rect x=\"0\" y=\"2\" class=\"light-square\" height=\"1\" width=\"1\"></rect><image x=\"0\" xlink:href=\"https://raw.githubusercontent.com/romstad/Chess.jl/master/img/bb.svg\" y=\"2\" height=\"1\" width=\"1\"></image></g><g><rect x=\"0\" y=\"3\" class=\"dark-square\" height=\"1\" width=\"1\"></rect><g></g></g><g><rect x=\"0\" y=\"4\" class=\"light-square\" height=\"1\" width=\"1\"></rect><g></g></g><g><rect x=\"0\" y=\"5\" class=\"dark-square\" height=\"1\" width=\"1\"></rect><g></g></g><g><rect x=\"0\" y=\"6\" class=\"light-square\" height=\"1\" width=\"1\"></rect><image x=\"0\" xlink:href=\"https://raw.githubusercontent.com/romstad/Chess.jl/master/img/wp.svg\" y=\"6\" height=\"1\" width=\"1\"></image></g><g><rect x=\"0\" y=\"7\" class=\"dark-square\" height=\"1\" width=\"1\"></rect><image x=\"0\" xlink:href=\"https://raw.githubusercontent.com/romstad/Chess.jl/master/img/wr.svg\" y=\"7\" height=\"1\" width=\"1\"></image></g><g><rect x=\"1\" y=\"0\" class=\"dark-square\" height=\"1\" width=\"1\"></rect><g></g></g><g><rect x=\"1\" y=\"1\" class=\"light-square\" height=\"1\" width=\"1\"></rect><g></g></g><g><rect x=\"1\" y=\"2\" class=\"dark-square\" height=\"1\" width=\"1\"></rect><g></g></g><g><rect x=\"1\" y=\"3\" class=\"light-square\" height=\"1\" width=\"1\"></rect><g></g></g><g><rect x=\"1\" y=\"4\" class=\"dark-square\" height=\"1\" width=\"1\"></rect><image x=\"1\" xlink:href=\"https://raw.githubusercontent.com/romstad/Chess.jl/master/img/bp.svg\" y=\"4\" height=\"1\" width=\"1\"></image></g><g><rect x=\"1\" y=\"5\" class=\"light-square\" height=\"1\" width=\"1\"></rect><image x=\"1\" xlink:href=\"https://raw.githubusercontent.com/romstad/Chess.jl/master/img/wb.svg\" y=\"5\" height=\"1\" width=\"1\"></image></g><g><rect x=\"1\" y=\"6\" class=\"dark-square\" height=\"1\" width=\"1\"></rect><image x=\"1\" xlink:href=\"https://raw.githubusercontent.com/romstad/Chess.jl/master/img/wp.svg\" y=\"6\" height=\"1\" width=\"1\"></image></g><g><rect x=\"1\" y=\"7\" class=\"light-square\" height=\"1\" width=\"1\"></rect><g></g></g><g><rect x=\"2\" y=\"0\" class=\"light-square\" height=\"1\" width=\"1\"></rect><g></g></g><g><rect x=\"2\" y=\"1\" class=\"dark-square\" height=\"1\" width=\"1\"></rect><image x=\"2\" xlink:href=\"https://raw.githubusercontent.com/romstad/Chess.jl/master/img/bb.svg\" y=\"1\" height=\"1\" width=\"1\"></image></g><g><rect x=\"2\" y=\"2\" class=\"light-square\" height=\"1\" width=\"1\"></rect><image x=\"2\" xlink:href=\"https://raw.githubusercontent.com/romstad/Chess.jl/master/img/bp.svg\" y=\"2\" height=\"1\" width=\"1\"></image></g><g><rect x=\"2\" y=\"3\" class=\"dark-square\" height=\"1\" width=\"1\"></rect><g></g></g><g><rect x=\"2\" y=\"4\" class=\"light-square\" height=\"1\" width=\"1\"></rect><g></g></g><g><rect x=\"2\" y=\"5\" class=\"dark-square\" height=\"1\" width=\"1\"></rect><g></g></g><g><rect x=\"2\" y=\"6\" class=\"light-square\" height=\"1\" width=\"1\"></rect><image x=\"2\" xlink:href=\"https://raw.githubusercontent.com/romstad/Chess.jl/master/img/wp.svg\" y=\"6\" height=\"1\" width=\"1\"></image></g><g><rect x=\"2\" y=\"7\" class=\"dark-square\" height=\"1\" width=\"1\"></rect><g></g></g><g><rect x=\"3\" y=\"0\" class=\"dark-square\" height=\"1\" width=\"1\"></rect><g></g></g><g><rect x=\"3\" y=\"1\" class=\"light-square\" height=\"1\" width=\"1\"></rect><image x=\"3\" xlink:href=\"https://raw.githubusercontent.com/romstad/Chess.jl/master/img/bp.svg\" y=\"1\" height=\"1\" width=\"1\"></image></g><g><rect x=\"3\" y=\"2\" class=\"dark-square\" height=\"1\" width=\"1\"></rect><g></g></g><g><rect x=\"3\" y=\"3\" class=\"light-square\" height=\"1\" width=\"1\"></rect><g></g></g><g><rect x=\"3\" y=\"4\" class=\"dark-square\" height=\"1\" width=\"1\"></rect><g></g></g><g><rect x=\"3\" y=\"5\" class=\"light-square\" height=\"1\" width=\"1\"></rect><g></g></g><g><rect x=\"3\" y=\"6\" class=\"dark-square\" height=\"1\" width=\"1\"></rect><g></g></g><g><rect x=\"3\" y=\"7\" class=\"light-square\" height=\"1\" width=\"1\"></rect><g></g></g><g><rect x=\"4\" y=\"0\" class=\"light-square\" height=\"1\" width=\"1\"></rect><image x=\"4\" xlink:href=\"https://raw.githubusercontent.com/romstad/Chess.jl/master/img/bk.svg\" y=\"0\" height=\"1\" width=\"1\"></image></g><g><rect x=\"4\" y=\"1\" class=\"dark-square\" height=\"1\" width=\"1\"></rect><g></g></g><g><rect x=\"4\" y=\"2\" class=\"light-square\" height=\"1\" width=\"1\"></rect><g></g></g><g><rect x=\"4\" y=\"3\" class=\"dark-square\" height=\"1\" width=\"1\"></rect><image x=\"4\" xlink:href=\"https://raw.githubusercontent.com/romstad/Chess.jl/master/img/bp.svg\" y=\"3\" height=\"1\" width=\"1\"></image></g><g><rect x=\"4\" y=\"4\" class=\"light-square\" height=\"1\" width=\"1\"></rect><image x=\"4\" xlink:href=\"https://raw.githubusercontent.com/romstad/Chess.jl/master/img/wp.svg\" y=\"4\" height=\"1\" width=\"1\"></image></g><g><rect x=\"4\" y=\"5\" class=\"dark-square\" height=\"1\" width=\"1\"></rect><image x=\"4\" xlink:href=\"https://raw.githubusercontent.com/romstad/Chess.jl/master/img/wb.svg\" y=\"5\" height=\"1\" width=\"1\"></image></g><g><rect x=\"4\" y=\"6\" class=\"light-square\" height=\"1\" width=\"1\"></rect><g></g></g><g><rect x=\"4\" y=\"7\" class=\"dark-square\" height=\"1\" width=\"1\"></rect><image x=\"4\" xlink:href=\"https://raw.githubusercontent.com/romstad/Chess.jl/master/img/wr.svg\" y=\"7\" height=\"1\" width=\"1\"></image></g><g><rect x=\"5\" y=\"0\" class=\"dark-square\" height=\"1\" width=\"1\"></rect><g></g></g><g><rect x=\"5\" y=\"1\" class=\"light-square\" height=\"1\" width=\"1\"></rect><image x=\"5\" xlink:href=\"https://raw.githubusercontent.com/romstad/Chess.jl/master/img/bp.svg\" y=\"1\" height=\"1\" width=\"1\"></image></g><g><rect x=\"5\" y=\"2\" class=\"dark-square\" height=\"1\" width=\"1\"></rect><image x=\"5\" xlink:href=\"https://raw.githubusercontent.com/romstad/Chess.jl/master/img/bn.svg\" y=\"2\" height=\"1\" width=\"1\"></image></g><g><rect x=\"5\" y=\"3\" class=\"light-square\" height=\"1\" width=\"1\"></rect><g></g></g><g><rect x=\"5\" y=\"4\" class=\"dark-square\" height=\"1\" width=\"1\"></rect><g></g></g><g><rect x=\"5\" y=\"5\" class=\"light-square\" height=\"1\" width=\"1\"></rect><image x=\"5\" xlink:href=\"https://raw.githubusercontent.com/romstad/Chess.jl/master/img/wp.svg\" y=\"5\" height=\"1\" width=\"1\"></image></g><g><rect x=\"5\" y=\"6\" class=\"dark-square\" height=\"1\" width=\"1\"></rect><image x=\"5\" xlink:href=\"https://raw.githubusercontent.com/romstad/Chess.jl/master/img/wp.svg\" y=\"6\" height=\"1\" width=\"1\"></image></g><g><rect x=\"5\" y=\"7\" class=\"light-square\" height=\"1\" width=\"1\"></rect><g></g></g><g><rect x=\"6\" y=\"0\" class=\"light-square\" height=\"1\" width=\"1\"></rect><g></g></g><g><rect x=\"6\" y=\"1\" class=\"dark-square\" height=\"1\" width=\"1\"></rect><image x=\"6\" xlink:href=\"https://raw.githubusercontent.com/romstad/Chess.jl/master/img/bp.svg\" y=\"1\" height=\"1\" width=\"1\"></image></g><g><rect x=\"6\" y=\"2\" class=\"light-square\" height=\"1\" width=\"1\"></rect><g></g></g><g><rect x=\"6\" y=\"3\" class=\"dark-square\" height=\"1\" width=\"1\"></rect><g></g></g><g><rect x=\"6\" y=\"4\" class=\"light-square\" height=\"1\" width=\"1\"></rect><g></g></g><g><rect x=\"6\" y=\"5\" class=\"dark-square\" height=\"1\" width=\"1\"></rect><image x=\"6\" xlink:href=\"https://raw.githubusercontent.com/romstad/Chess.jl/master/img/wn.svg\" y=\"5\" height=\"1\" width=\"1\"></image></g><g><rect x=\"6\" y=\"6\" class=\"light-square\" height=\"1\" width=\"1\"></rect><g></g></g><g><rect x=\"6\" y=\"7\" class=\"dark-square\" height=\"1\" width=\"1\"></rect><image x=\"6\" xlink:href=\"https://raw.githubusercontent.com/romstad/Chess.jl/master/img/wk.svg\" y=\"7\" height=\"1\" width=\"1\"></image></g><g><rect x=\"7\" y=\"0\" class=\"dark-square\" height=\"1\" width=\"1\"></rect><image x=\"7\" xlink:href=\"https://raw.githubusercontent.com/romstad/Chess.jl/master/img/br.svg\" y=\"0\" height=\"1\" width=\"1\"></image></g><g><rect x=\"7\" y=\"1\" class=\"light-square\" height=\"1\" width=\"1\"></rect><g></g></g><g><rect x=\"7\" y=\"2\" class=\"dark-square\" height=\"1\" width=\"1\"></rect><image x=\"7\" xlink:href=\"https://raw.githubusercontent.com/romstad/Chess.jl/master/img/bp.svg\" y=\"2\" height=\"1\" width=\"1\"></image></g><g><rect x=\"7\" y=\"3\" class=\"light-square\" height=\"1\" width=\"1\"></rect><g></g></g><g><rect x=\"7\" y=\"4\" class=\"dark-square\" height=\"1\" width=\"1\"></rect><g></g></g><g><rect x=\"7\" y=\"5\" class=\"light-square\" height=\"1\" width=\"1\"></rect><g></g></g><g><rect x=\"7\" y=\"6\" class=\"dark-square\" height=\"1\" width=\"1\"></rect><image x=\"7\" xlink:href=\"https://raw.githubusercontent.com/romstad/Chess.jl/master/img/wp.svg\" y=\"6\" height=\"1\" width=\"1\"></image></g><g><rect x=\"7\" y=\"7\" class=\"light-square\" height=\"1\" width=\"1\"></rect><g></g></g></g><g></g></svg><div><p>White to move</p><p>Castle rights: kq</p><p><a href=\"https://lichess.org/editor/r3k2r/p1bp1pp1/b1p2n1p/4p3/1p2P3/1B2BPN1/PPP2P1P/R3R1K1_w_kq_-\" target=\"_blank\">Open in lichess</a></p></div></div>"
      ],
      "text/plain": [
       "Board (r3k2r/p1bp1pp1/b1p2n1p/4p3/1p2P3/1B2BPN1/PPP2P1P/R3R1K1 w kq -):\n",
       " r  -  -  -  k  -  -  r \n",
       " p  -  b  p  -  p  p  - \n",
       " b  -  p  -  -  n  -  p \n",
       " -  -  -  -  p  -  -  - \n",
       " -  p  -  -  P  -  -  - \n",
       " -  B  -  -  B  P  N  - \n",
       " P  P  P  -  -  P  -  P \n",
       " R  -  -  -  R  -  K  - "
      ]
     },
     "metadata": {},
     "output_type": "display_data"
    },
    {
     "name": "stdout",
     "output_type": "stream",
     "text": [
      "Make a move. Type 'resign' to resign from the match\n",
      "stdin> a1d1\n",
      "Cleared Cache with 0\n",
      "Inkremental score is -100 but should be -40\n"
     ]
    },
    {
     "data": {
      "text/html": [
       "Board:<div class=\"chessboard\"><style soped=\"true\">.dark-square {\n",
       "    fill: #c3936a;\n",
       "    stroke-width: 0;\n",
       "}\n",
       ".light-square {\n",
       "    fill: #ffd7a6;\n",
       "    stroke-width: 0;\n",
       "}\n",
       ".highlight {\n",
       "    fill: #47d18b;\n",
       "}\n",
       "@media (prefers-color-scheme: dark) {\n",
       "    .dark-square {\n",
       "        fill: #00796b;\n",
       "    }\n",
       "    .light-square {\n",
       "        fill: #3ca59b;\n",
       "    }\n",
       "    .highlight {\n",
       "        fill: #d23600;\n",
       "    }\n",
       "}\n",
       "</style><svg style=\"float: left; margin-right: 20px\" viewBox=\"0 0 8 8\" height=\"280\" width=\"280\"><g><g><rect x=\"0\" y=\"0\" class=\"light-square\" height=\"1\" width=\"1\"></rect><image x=\"0\" xlink:href=\"https://raw.githubusercontent.com/romstad/Chess.jl/master/img/br.svg\" y=\"0\" height=\"1\" width=\"1\"></image></g><g><rect x=\"0\" y=\"1\" class=\"dark-square\" height=\"1\" width=\"1\"></rect><image x=\"0\" xlink:href=\"https://raw.githubusercontent.com/romstad/Chess.jl/master/img/bp.svg\" y=\"1\" height=\"1\" width=\"1\"></image></g><g><rect x=\"0\" y=\"2\" class=\"light-square\" height=\"1\" width=\"1\"></rect><image x=\"0\" xlink:href=\"https://raw.githubusercontent.com/romstad/Chess.jl/master/img/bb.svg\" y=\"2\" height=\"1\" width=\"1\"></image></g><g><rect x=\"0\" y=\"3\" class=\"dark-square\" height=\"1\" width=\"1\"></rect><g></g></g><g><rect x=\"0\" y=\"4\" class=\"light-square\" height=\"1\" width=\"1\"></rect><g></g></g><g><rect x=\"0\" y=\"5\" class=\"dark-square\" height=\"1\" width=\"1\"></rect><g></g></g><g><rect x=\"0\" y=\"6\" class=\"light-square\" height=\"1\" width=\"1\"></rect><image x=\"0\" xlink:href=\"https://raw.githubusercontent.com/romstad/Chess.jl/master/img/wp.svg\" y=\"6\" height=\"1\" width=\"1\"></image></g><g><rect x=\"0\" y=\"7\" class=\"dark-square\" height=\"1\" width=\"1\"></rect><g></g></g><g><rect x=\"1\" y=\"0\" class=\"dark-square\" height=\"1\" width=\"1\"></rect><g></g></g><g><rect x=\"1\" y=\"1\" class=\"light-square\" height=\"1\" width=\"1\"></rect><g></g></g><g><rect x=\"1\" y=\"2\" class=\"dark-square\" height=\"1\" width=\"1\"></rect><g></g></g><g><rect x=\"1\" y=\"3\" class=\"light-square\" height=\"1\" width=\"1\"></rect><g></g></g><g><rect x=\"1\" y=\"4\" class=\"dark-square\" height=\"1\" width=\"1\"></rect><image x=\"1\" xlink:href=\"https://raw.githubusercontent.com/romstad/Chess.jl/master/img/bp.svg\" y=\"4\" height=\"1\" width=\"1\"></image></g><g><rect x=\"1\" y=\"5\" class=\"light-square\" height=\"1\" width=\"1\"></rect><image x=\"1\" xlink:href=\"https://raw.githubusercontent.com/romstad/Chess.jl/master/img/wb.svg\" y=\"5\" height=\"1\" width=\"1\"></image></g><g><rect x=\"1\" y=\"6\" class=\"dark-square\" height=\"1\" width=\"1\"></rect><image x=\"1\" xlink:href=\"https://raw.githubusercontent.com/romstad/Chess.jl/master/img/wp.svg\" y=\"6\" height=\"1\" width=\"1\"></image></g><g><rect x=\"1\" y=\"7\" class=\"light-square\" height=\"1\" width=\"1\"></rect><g></g></g><g><rect x=\"2\" y=\"0\" class=\"light-square\" height=\"1\" width=\"1\"></rect><g></g></g><g><rect x=\"2\" y=\"1\" class=\"dark-square\" height=\"1\" width=\"1\"></rect><image x=\"2\" xlink:href=\"https://raw.githubusercontent.com/romstad/Chess.jl/master/img/bb.svg\" y=\"1\" height=\"1\" width=\"1\"></image></g><g><rect x=\"2\" y=\"2\" class=\"light-square\" height=\"1\" width=\"1\"></rect><image x=\"2\" xlink:href=\"https://raw.githubusercontent.com/romstad/Chess.jl/master/img/bp.svg\" y=\"2\" height=\"1\" width=\"1\"></image></g><g><rect x=\"2\" y=\"3\" class=\"dark-square\" height=\"1\" width=\"1\"></rect><g></g></g><g><rect x=\"2\" y=\"4\" class=\"light-square\" height=\"1\" width=\"1\"></rect><g></g></g><g><rect x=\"2\" y=\"5\" class=\"dark-square\" height=\"1\" width=\"1\"></rect><g></g></g><g><rect x=\"2\" y=\"6\" class=\"light-square\" height=\"1\" width=\"1\"></rect><image x=\"2\" xlink:href=\"https://raw.githubusercontent.com/romstad/Chess.jl/master/img/wp.svg\" y=\"6\" height=\"1\" width=\"1\"></image></g><g><rect x=\"2\" y=\"7\" class=\"dark-square\" height=\"1\" width=\"1\"></rect><g></g></g><g><rect x=\"3\" y=\"0\" class=\"dark-square\" height=\"1\" width=\"1\"></rect><g></g></g><g><rect x=\"3\" y=\"1\" class=\"light-square\" height=\"1\" width=\"1\"></rect><image x=\"3\" xlink:href=\"https://raw.githubusercontent.com/romstad/Chess.jl/master/img/bp.svg\" y=\"1\" height=\"1\" width=\"1\"></image></g><g><rect x=\"3\" y=\"2\" class=\"dark-square\" height=\"1\" width=\"1\"></rect><g></g></g><g><rect x=\"3\" y=\"3\" class=\"light-square\" height=\"1\" width=\"1\"></rect><g></g></g><g><rect x=\"3\" y=\"4\" class=\"dark-square\" height=\"1\" width=\"1\"></rect><g></g></g><g><rect x=\"3\" y=\"5\" class=\"light-square\" height=\"1\" width=\"1\"></rect><g></g></g><g><rect x=\"3\" y=\"6\" class=\"dark-square\" height=\"1\" width=\"1\"></rect><g></g></g><g><rect x=\"3\" y=\"7\" class=\"light-square\" height=\"1\" width=\"1\"></rect><image x=\"3\" xlink:href=\"https://raw.githubusercontent.com/romstad/Chess.jl/master/img/wr.svg\" y=\"7\" height=\"1\" width=\"1\"></image></g><g><rect x=\"4\" y=\"0\" class=\"light-square\" height=\"1\" width=\"1\"></rect><image x=\"4\" xlink:href=\"https://raw.githubusercontent.com/romstad/Chess.jl/master/img/bk.svg\" y=\"0\" height=\"1\" width=\"1\"></image></g><g><rect x=\"4\" y=\"1\" class=\"dark-square\" height=\"1\" width=\"1\"></rect><g></g></g><g><rect x=\"4\" y=\"2\" class=\"light-square\" height=\"1\" width=\"1\"></rect><g></g></g><g><rect x=\"4\" y=\"3\" class=\"dark-square\" height=\"1\" width=\"1\"></rect><image x=\"4\" xlink:href=\"https://raw.githubusercontent.com/romstad/Chess.jl/master/img/bp.svg\" y=\"3\" height=\"1\" width=\"1\"></image></g><g><rect x=\"4\" y=\"4\" class=\"light-square\" height=\"1\" width=\"1\"></rect><image x=\"4\" xlink:href=\"https://raw.githubusercontent.com/romstad/Chess.jl/master/img/wp.svg\" y=\"4\" height=\"1\" width=\"1\"></image></g><g><rect x=\"4\" y=\"5\" class=\"dark-square\" height=\"1\" width=\"1\"></rect><image x=\"4\" xlink:href=\"https://raw.githubusercontent.com/romstad/Chess.jl/master/img/wb.svg\" y=\"5\" height=\"1\" width=\"1\"></image></g><g><rect x=\"4\" y=\"6\" class=\"light-square\" height=\"1\" width=\"1\"></rect><g></g></g><g><rect x=\"4\" y=\"7\" class=\"dark-square\" height=\"1\" width=\"1\"></rect><image x=\"4\" xlink:href=\"https://raw.githubusercontent.com/romstad/Chess.jl/master/img/wr.svg\" y=\"7\" height=\"1\" width=\"1\"></image></g><g><rect x=\"5\" y=\"0\" class=\"dark-square\" height=\"1\" width=\"1\"></rect><g></g></g><g><rect x=\"5\" y=\"1\" class=\"light-square\" height=\"1\" width=\"1\"></rect><image x=\"5\" xlink:href=\"https://raw.githubusercontent.com/romstad/Chess.jl/master/img/bp.svg\" y=\"1\" height=\"1\" width=\"1\"></image></g><g><rect x=\"5\" y=\"2\" class=\"dark-square\" height=\"1\" width=\"1\"></rect><image x=\"5\" xlink:href=\"https://raw.githubusercontent.com/romstad/Chess.jl/master/img/bn.svg\" y=\"2\" height=\"1\" width=\"1\"></image></g><g><rect x=\"5\" y=\"3\" class=\"light-square\" height=\"1\" width=\"1\"></rect><g></g></g><g><rect x=\"5\" y=\"4\" class=\"dark-square\" height=\"1\" width=\"1\"></rect><g></g></g><g><rect x=\"5\" y=\"5\" class=\"light-square\" height=\"1\" width=\"1\"></rect><image x=\"5\" xlink:href=\"https://raw.githubusercontent.com/romstad/Chess.jl/master/img/wp.svg\" y=\"5\" height=\"1\" width=\"1\"></image></g><g><rect x=\"5\" y=\"6\" class=\"dark-square\" height=\"1\" width=\"1\"></rect><image x=\"5\" xlink:href=\"https://raw.githubusercontent.com/romstad/Chess.jl/master/img/wp.svg\" y=\"6\" height=\"1\" width=\"1\"></image></g><g><rect x=\"5\" y=\"7\" class=\"light-square\" height=\"1\" width=\"1\"></rect><g></g></g><g><rect x=\"6\" y=\"0\" class=\"light-square\" height=\"1\" width=\"1\"></rect><g></g></g><g><rect x=\"6\" y=\"1\" class=\"dark-square\" height=\"1\" width=\"1\"></rect><image x=\"6\" xlink:href=\"https://raw.githubusercontent.com/romstad/Chess.jl/master/img/bp.svg\" y=\"1\" height=\"1\" width=\"1\"></image></g><g><rect x=\"6\" y=\"2\" class=\"light-square\" height=\"1\" width=\"1\"></rect><g></g></g><g><rect x=\"6\" y=\"3\" class=\"dark-square\" height=\"1\" width=\"1\"></rect><g></g></g><g><rect x=\"6\" y=\"4\" class=\"light-square\" height=\"1\" width=\"1\"></rect><g></g></g><g><rect x=\"6\" y=\"5\" class=\"dark-square\" height=\"1\" width=\"1\"></rect><image x=\"6\" xlink:href=\"https://raw.githubusercontent.com/romstad/Chess.jl/master/img/wn.svg\" y=\"5\" height=\"1\" width=\"1\"></image></g><g><rect x=\"6\" y=\"6\" class=\"light-square\" height=\"1\" width=\"1\"></rect><g></g></g><g><rect x=\"6\" y=\"7\" class=\"dark-square\" height=\"1\" width=\"1\"></rect><image x=\"6\" xlink:href=\"https://raw.githubusercontent.com/romstad/Chess.jl/master/img/wk.svg\" y=\"7\" height=\"1\" width=\"1\"></image></g><g><rect x=\"7\" y=\"0\" class=\"dark-square\" height=\"1\" width=\"1\"></rect><image x=\"7\" xlink:href=\"https://raw.githubusercontent.com/romstad/Chess.jl/master/img/br.svg\" y=\"0\" height=\"1\" width=\"1\"></image></g><g><rect x=\"7\" y=\"1\" class=\"light-square\" height=\"1\" width=\"1\"></rect><g></g></g><g><rect x=\"7\" y=\"2\" class=\"dark-square\" height=\"1\" width=\"1\"></rect><image x=\"7\" xlink:href=\"https://raw.githubusercontent.com/romstad/Chess.jl/master/img/bp.svg\" y=\"2\" height=\"1\" width=\"1\"></image></g><g><rect x=\"7\" y=\"3\" class=\"light-square\" height=\"1\" width=\"1\"></rect><g></g></g><g><rect x=\"7\" y=\"4\" class=\"dark-square\" height=\"1\" width=\"1\"></rect><g></g></g><g><rect x=\"7\" y=\"5\" class=\"light-square\" height=\"1\" width=\"1\"></rect><g></g></g><g><rect x=\"7\" y=\"6\" class=\"dark-square\" height=\"1\" width=\"1\"></rect><image x=\"7\" xlink:href=\"https://raw.githubusercontent.com/romstad/Chess.jl/master/img/wp.svg\" y=\"6\" height=\"1\" width=\"1\"></image></g><g><rect x=\"7\" y=\"7\" class=\"light-square\" height=\"1\" width=\"1\"></rect><g></g></g></g><g></g></svg><div><p>Black to move</p><p>Castle rights: kq</p><p><a href=\"https://lichess.org/editor/r3k2r/p1bp1pp1/b1p2n1p/4p3/1p2P3/1B2BPN1/PPP2P1P/3RR1K1_b_kq_-\" target=\"_blank\">Open in lichess</a></p></div></div>"
      ],
      "text/plain": [
       "Board (r3k2r/p1bp1pp1/b1p2n1p/4p3/1p2P3/1B2BPN1/PPP2P1P/3RR1K1 b kq -):\n",
       " r  -  -  -  k  -  -  r \n",
       " p  -  b  p  -  p  p  - \n",
       " b  -  p  -  -  n  -  p \n",
       " -  -  -  -  p  -  -  - \n",
       " -  p  -  -  P  -  -  - \n",
       " -  B  -  -  B  P  N  - \n",
       " P  P  P  -  -  P  -  P \n",
       " -  -  -  R  R  -  K  - "
      ]
     },
     "metadata": {},
     "output_type": "display_data"
    },
    {
     "name": "stdout",
     "output_type": "stream",
     "text": [
      "Evaluation of engine: -50.0\n",
      "Current board score: -100\n",
      "Current entries in Cache: 12788\n",
      "Cleared Cache with 12788\n",
      " 11.749894 seconds (42.56 M allocations: 2.491 GiB, 4.72% gc time)\n",
      "Inkremental score is -140 but should be -80\n"
     ]
    },
    {
     "data": {
      "text/html": [
       "Board:<div class=\"chessboard\"><style soped=\"true\">.dark-square {\n",
       "    fill: #c3936a;\n",
       "    stroke-width: 0;\n",
       "}\n",
       ".light-square {\n",
       "    fill: #ffd7a6;\n",
       "    stroke-width: 0;\n",
       "}\n",
       ".highlight {\n",
       "    fill: #47d18b;\n",
       "}\n",
       "@media (prefers-color-scheme: dark) {\n",
       "    .dark-square {\n",
       "        fill: #00796b;\n",
       "    }\n",
       "    .light-square {\n",
       "        fill: #3ca59b;\n",
       "    }\n",
       "    .highlight {\n",
       "        fill: #d23600;\n",
       "    }\n",
       "}\n",
       "</style><svg style=\"float: left; margin-right: 20px\" viewBox=\"0 0 8 8\" height=\"280\" width=\"280\"><g><g><rect x=\"0\" y=\"0\" class=\"light-square\" height=\"1\" width=\"1\"></rect><image x=\"0\" xlink:href=\"https://raw.githubusercontent.com/romstad/Chess.jl/master/img/br.svg\" y=\"0\" height=\"1\" width=\"1\"></image></g><g><rect x=\"0\" y=\"1\" class=\"dark-square\" height=\"1\" width=\"1\"></rect><image x=\"0\" xlink:href=\"https://raw.githubusercontent.com/romstad/Chess.jl/master/img/bp.svg\" y=\"1\" height=\"1\" width=\"1\"></image></g><g><rect x=\"0\" y=\"2\" class=\"light-square\" height=\"1\" width=\"1\"></rect><image x=\"0\" xlink:href=\"https://raw.githubusercontent.com/romstad/Chess.jl/master/img/bb.svg\" y=\"2\" height=\"1\" width=\"1\"></image></g><g><rect x=\"0\" y=\"3\" class=\"dark-square\" height=\"1\" width=\"1\"></rect><g></g></g><g><rect x=\"0\" y=\"4\" class=\"light-square\" height=\"1\" width=\"1\"></rect><g></g></g><g><rect x=\"0\" y=\"5\" class=\"dark-square\" height=\"1\" width=\"1\"></rect><g></g></g><g><rect x=\"0\" y=\"6\" class=\"light-square\" height=\"1\" width=\"1\"></rect><image x=\"0\" xlink:href=\"https://raw.githubusercontent.com/romstad/Chess.jl/master/img/wp.svg\" y=\"6\" height=\"1\" width=\"1\"></image></g><g><rect x=\"0\" y=\"7\" class=\"dark-square\" height=\"1\" width=\"1\"></rect><g></g></g><g><rect x=\"1\" y=\"0\" class=\"dark-square\" height=\"1\" width=\"1\"></rect><g></g></g><g><rect x=\"1\" y=\"1\" class=\"light-square\" height=\"1\" width=\"1\"></rect><g></g></g><g><rect x=\"1\" y=\"2\" class=\"dark-square\" height=\"1\" width=\"1\"></rect><g></g></g><g><rect x=\"1\" y=\"3\" class=\"light-square\" height=\"1\" width=\"1\"></rect><g></g></g><g><rect x=\"1\" y=\"4\" class=\"dark-square\" height=\"1\" width=\"1\"></rect><image x=\"1\" xlink:href=\"https://raw.githubusercontent.com/romstad/Chess.jl/master/img/bp.svg\" y=\"4\" height=\"1\" width=\"1\"></image></g><g><rect x=\"1\" y=\"5\" class=\"light-square\" height=\"1\" width=\"1\"></rect><image x=\"1\" xlink:href=\"https://raw.githubusercontent.com/romstad/Chess.jl/master/img/wb.svg\" y=\"5\" height=\"1\" width=\"1\"></image></g><g><rect x=\"1\" y=\"6\" class=\"dark-square\" height=\"1\" width=\"1\"></rect><image x=\"1\" xlink:href=\"https://raw.githubusercontent.com/romstad/Chess.jl/master/img/wp.svg\" y=\"6\" height=\"1\" width=\"1\"></image></g><g><rect x=\"1\" y=\"7\" class=\"light-square\" height=\"1\" width=\"1\"></rect><g></g></g><g><rect x=\"2\" y=\"0\" class=\"light-square\" height=\"1\" width=\"1\"></rect><g></g></g><g><rect x=\"2\" y=\"1\" class=\"dark-square\" height=\"1\" width=\"1\"></rect><image x=\"2\" xlink:href=\"https://raw.githubusercontent.com/romstad/Chess.jl/master/img/bb.svg\" y=\"1\" height=\"1\" width=\"1\"></image></g><g><rect x=\"2\" y=\"2\" class=\"light-square\" height=\"1\" width=\"1\"></rect><image x=\"2\" xlink:href=\"https://raw.githubusercontent.com/romstad/Chess.jl/master/img/bp.svg\" y=\"2\" height=\"1\" width=\"1\"></image></g><g><rect x=\"2\" y=\"3\" class=\"dark-square\" height=\"1\" width=\"1\"></rect><g></g></g><g><rect x=\"2\" y=\"4\" class=\"light-square\" height=\"1\" width=\"1\"></rect><g></g></g><g><rect x=\"2\" y=\"5\" class=\"dark-square\" height=\"1\" width=\"1\"></rect><g></g></g><g><rect x=\"2\" y=\"6\" class=\"light-square\" height=\"1\" width=\"1\"></rect><image x=\"2\" xlink:href=\"https://raw.githubusercontent.com/romstad/Chess.jl/master/img/wp.svg\" y=\"6\" height=\"1\" width=\"1\"></image></g><g><rect x=\"2\" y=\"7\" class=\"dark-square\" height=\"1\" width=\"1\"></rect><g></g></g><g><rect x=\"3\" y=\"0\" class=\"dark-square\" height=\"1\" width=\"1\"></rect><g></g></g><g><rect x=\"3\" y=\"1\" class=\"light-square\" height=\"1\" width=\"1\"></rect><g></g></g><g><rect x=\"3\" y=\"2\" class=\"dark-square\" height=\"1\" width=\"1\"></rect><g></g></g><g><rect x=\"3\" y=\"3\" class=\"light-square\" height=\"1\" width=\"1\"></rect><image x=\"3\" xlink:href=\"https://raw.githubusercontent.com/romstad/Chess.jl/master/img/bp.svg\" y=\"3\" height=\"1\" width=\"1\"></image></g><g><rect x=\"3\" y=\"4\" class=\"dark-square\" height=\"1\" width=\"1\"></rect><g></g></g><g><rect x=\"3\" y=\"5\" class=\"light-square\" height=\"1\" width=\"1\"></rect><g></g></g><g><rect x=\"3\" y=\"6\" class=\"dark-square\" height=\"1\" width=\"1\"></rect><g></g></g><g><rect x=\"3\" y=\"7\" class=\"light-square\" height=\"1\" width=\"1\"></rect><image x=\"3\" xlink:href=\"https://raw.githubusercontent.com/romstad/Chess.jl/master/img/wr.svg\" y=\"7\" height=\"1\" width=\"1\"></image></g><g><rect x=\"4\" y=\"0\" class=\"light-square\" height=\"1\" width=\"1\"></rect><image x=\"4\" xlink:href=\"https://raw.githubusercontent.com/romstad/Chess.jl/master/img/bk.svg\" y=\"0\" height=\"1\" width=\"1\"></image></g><g><rect x=\"4\" y=\"1\" class=\"dark-square\" height=\"1\" width=\"1\"></rect><g></g></g><g><rect x=\"4\" y=\"2\" class=\"light-square\" height=\"1\" width=\"1\"></rect><g></g></g><g><rect x=\"4\" y=\"3\" class=\"dark-square\" height=\"1\" width=\"1\"></rect><image x=\"4\" xlink:href=\"https://raw.githubusercontent.com/romstad/Chess.jl/master/img/bp.svg\" y=\"3\" height=\"1\" width=\"1\"></image></g><g><rect x=\"4\" y=\"4\" class=\"light-square\" height=\"1\" width=\"1\"></rect><image x=\"4\" xlink:href=\"https://raw.githubusercontent.com/romstad/Chess.jl/master/img/wp.svg\" y=\"4\" height=\"1\" width=\"1\"></image></g><g><rect x=\"4\" y=\"5\" class=\"dark-square\" height=\"1\" width=\"1\"></rect><image x=\"4\" xlink:href=\"https://raw.githubusercontent.com/romstad/Chess.jl/master/img/wb.svg\" y=\"5\" height=\"1\" width=\"1\"></image></g><g><rect x=\"4\" y=\"6\" class=\"light-square\" height=\"1\" width=\"1\"></rect><g></g></g><g><rect x=\"4\" y=\"7\" class=\"dark-square\" height=\"1\" width=\"1\"></rect><image x=\"4\" xlink:href=\"https://raw.githubusercontent.com/romstad/Chess.jl/master/img/wr.svg\" y=\"7\" height=\"1\" width=\"1\"></image></g><g><rect x=\"5\" y=\"0\" class=\"dark-square\" height=\"1\" width=\"1\"></rect><g></g></g><g><rect x=\"5\" y=\"1\" class=\"light-square\" height=\"1\" width=\"1\"></rect><image x=\"5\" xlink:href=\"https://raw.githubusercontent.com/romstad/Chess.jl/master/img/bp.svg\" y=\"1\" height=\"1\" width=\"1\"></image></g><g><rect x=\"5\" y=\"2\" class=\"dark-square\" height=\"1\" width=\"1\"></rect><image x=\"5\" xlink:href=\"https://raw.githubusercontent.com/romstad/Chess.jl/master/img/bn.svg\" y=\"2\" height=\"1\" width=\"1\"></image></g><g><rect x=\"5\" y=\"3\" class=\"light-square\" height=\"1\" width=\"1\"></rect><g></g></g><g><rect x=\"5\" y=\"4\" class=\"dark-square\" height=\"1\" width=\"1\"></rect><g></g></g><g><rect x=\"5\" y=\"5\" class=\"light-square\" height=\"1\" width=\"1\"></rect><image x=\"5\" xlink:href=\"https://raw.githubusercontent.com/romstad/Chess.jl/master/img/wp.svg\" y=\"5\" height=\"1\" width=\"1\"></image></g><g><rect x=\"5\" y=\"6\" class=\"dark-square\" height=\"1\" width=\"1\"></rect><image x=\"5\" xlink:href=\"https://raw.githubusercontent.com/romstad/Chess.jl/master/img/wp.svg\" y=\"6\" height=\"1\" width=\"1\"></image></g><g><rect x=\"5\" y=\"7\" class=\"light-square\" height=\"1\" width=\"1\"></rect><g></g></g><g><rect x=\"6\" y=\"0\" class=\"light-square\" height=\"1\" width=\"1\"></rect><g></g></g><g><rect x=\"6\" y=\"1\" class=\"dark-square\" height=\"1\" width=\"1\"></rect><image x=\"6\" xlink:href=\"https://raw.githubusercontent.com/romstad/Chess.jl/master/img/bp.svg\" y=\"1\" height=\"1\" width=\"1\"></image></g><g><rect x=\"6\" y=\"2\" class=\"light-square\" height=\"1\" width=\"1\"></rect><g></g></g><g><rect x=\"6\" y=\"3\" class=\"dark-square\" height=\"1\" width=\"1\"></rect><g></g></g><g><rect x=\"6\" y=\"4\" class=\"light-square\" height=\"1\" width=\"1\"></rect><g></g></g><g><rect x=\"6\" y=\"5\" class=\"dark-square\" height=\"1\" width=\"1\"></rect><image x=\"6\" xlink:href=\"https://raw.githubusercontent.com/romstad/Chess.jl/master/img/wn.svg\" y=\"5\" height=\"1\" width=\"1\"></image></g><g><rect x=\"6\" y=\"6\" class=\"light-square\" height=\"1\" width=\"1\"></rect><g></g></g><g><rect x=\"6\" y=\"7\" class=\"dark-square\" height=\"1\" width=\"1\"></rect><image x=\"6\" xlink:href=\"https://raw.githubusercontent.com/romstad/Chess.jl/master/img/wk.svg\" y=\"7\" height=\"1\" width=\"1\"></image></g><g><rect x=\"7\" y=\"0\" class=\"dark-square\" height=\"1\" width=\"1\"></rect><image x=\"7\" xlink:href=\"https://raw.githubusercontent.com/romstad/Chess.jl/master/img/br.svg\" y=\"0\" height=\"1\" width=\"1\"></image></g><g><rect x=\"7\" y=\"1\" class=\"light-square\" height=\"1\" width=\"1\"></rect><g></g></g><g><rect x=\"7\" y=\"2\" class=\"dark-square\" height=\"1\" width=\"1\"></rect><image x=\"7\" xlink:href=\"https://raw.githubusercontent.com/romstad/Chess.jl/master/img/bp.svg\" y=\"2\" height=\"1\" width=\"1\"></image></g><g><rect x=\"7\" y=\"3\" class=\"light-square\" height=\"1\" width=\"1\"></rect><g></g></g><g><rect x=\"7\" y=\"4\" class=\"dark-square\" height=\"1\" width=\"1\"></rect><g></g></g><g><rect x=\"7\" y=\"5\" class=\"light-square\" height=\"1\" width=\"1\"></rect><g></g></g><g><rect x=\"7\" y=\"6\" class=\"dark-square\" height=\"1\" width=\"1\"></rect><image x=\"7\" xlink:href=\"https://raw.githubusercontent.com/romstad/Chess.jl/master/img/wp.svg\" y=\"6\" height=\"1\" width=\"1\"></image></g><g><rect x=\"7\" y=\"7\" class=\"light-square\" height=\"1\" width=\"1\"></rect><g></g></g></g><g></g></svg><div><p>White to move</p><p>Castle rights: kq</p><p><a href=\"https://lichess.org/editor/r3k2r/p1b2pp1/b1p2n1p/3pp3/1p2P3/1B2BPN1/PPP2P1P/3RR1K1_w_kq_-\" target=\"_blank\">Open in lichess</a></p></div></div>"
      ],
      "text/plain": [
       "Board (r3k2r/p1b2pp1/b1p2n1p/3pp3/1p2P3/1B2BPN1/PPP2P1P/3RR1K1 w kq -):\n",
       " r  -  -  -  k  -  -  r \n",
       " p  -  b  -  -  p  p  - \n",
       " b  -  p  -  -  n  -  p \n",
       " -  -  -  p  p  -  -  - \n",
       " -  p  -  -  P  -  -  - \n",
       " -  B  -  -  B  P  N  - \n",
       " P  P  P  -  -  P  -  P \n",
       " -  -  -  R  R  -  K  - "
      ]
     },
     "metadata": {},
     "output_type": "display_data"
    },
    {
     "name": "stdout",
     "output_type": "stream",
     "text": [
      "Make a move. Type 'resign' to resign from the match\n",
      "stdin> c2c3\n",
      "Cleared Cache with 0\n",
      "Inkremental score is -160 but should be -100\n"
     ]
    },
    {
     "data": {
      "text/html": [
       "Board:<div class=\"chessboard\"><style soped=\"true\">.dark-square {\n",
       "    fill: #c3936a;\n",
       "    stroke-width: 0;\n",
       "}\n",
       ".light-square {\n",
       "    fill: #ffd7a6;\n",
       "    stroke-width: 0;\n",
       "}\n",
       ".highlight {\n",
       "    fill: #47d18b;\n",
       "}\n",
       "@media (prefers-color-scheme: dark) {\n",
       "    .dark-square {\n",
       "        fill: #00796b;\n",
       "    }\n",
       "    .light-square {\n",
       "        fill: #3ca59b;\n",
       "    }\n",
       "    .highlight {\n",
       "        fill: #d23600;\n",
       "    }\n",
       "}\n",
       "</style><svg style=\"float: left; margin-right: 20px\" viewBox=\"0 0 8 8\" height=\"280\" width=\"280\"><g><g><rect x=\"0\" y=\"0\" class=\"light-square\" height=\"1\" width=\"1\"></rect><image x=\"0\" xlink:href=\"https://raw.githubusercontent.com/romstad/Chess.jl/master/img/br.svg\" y=\"0\" height=\"1\" width=\"1\"></image></g><g><rect x=\"0\" y=\"1\" class=\"dark-square\" height=\"1\" width=\"1\"></rect><image x=\"0\" xlink:href=\"https://raw.githubusercontent.com/romstad/Chess.jl/master/img/bp.svg\" y=\"1\" height=\"1\" width=\"1\"></image></g><g><rect x=\"0\" y=\"2\" class=\"light-square\" height=\"1\" width=\"1\"></rect><image x=\"0\" xlink:href=\"https://raw.githubusercontent.com/romstad/Chess.jl/master/img/bb.svg\" y=\"2\" height=\"1\" width=\"1\"></image></g><g><rect x=\"0\" y=\"3\" class=\"dark-square\" height=\"1\" width=\"1\"></rect><g></g></g><g><rect x=\"0\" y=\"4\" class=\"light-square\" height=\"1\" width=\"1\"></rect><g></g></g><g><rect x=\"0\" y=\"5\" class=\"dark-square\" height=\"1\" width=\"1\"></rect><g></g></g><g><rect x=\"0\" y=\"6\" class=\"light-square\" height=\"1\" width=\"1\"></rect><image x=\"0\" xlink:href=\"https://raw.githubusercontent.com/romstad/Chess.jl/master/img/wp.svg\" y=\"6\" height=\"1\" width=\"1\"></image></g><g><rect x=\"0\" y=\"7\" class=\"dark-square\" height=\"1\" width=\"1\"></rect><g></g></g><g><rect x=\"1\" y=\"0\" class=\"dark-square\" height=\"1\" width=\"1\"></rect><g></g></g><g><rect x=\"1\" y=\"1\" class=\"light-square\" height=\"1\" width=\"1\"></rect><g></g></g><g><rect x=\"1\" y=\"2\" class=\"dark-square\" height=\"1\" width=\"1\"></rect><g></g></g><g><rect x=\"1\" y=\"3\" class=\"light-square\" height=\"1\" width=\"1\"></rect><g></g></g><g><rect x=\"1\" y=\"4\" class=\"dark-square\" height=\"1\" width=\"1\"></rect><image x=\"1\" xlink:href=\"https://raw.githubusercontent.com/romstad/Chess.jl/master/img/bp.svg\" y=\"4\" height=\"1\" width=\"1\"></image></g><g><rect x=\"1\" y=\"5\" class=\"light-square\" height=\"1\" width=\"1\"></rect><image x=\"1\" xlink:href=\"https://raw.githubusercontent.com/romstad/Chess.jl/master/img/wb.svg\" y=\"5\" height=\"1\" width=\"1\"></image></g><g><rect x=\"1\" y=\"6\" class=\"dark-square\" height=\"1\" width=\"1\"></rect><image x=\"1\" xlink:href=\"https://raw.githubusercontent.com/romstad/Chess.jl/master/img/wp.svg\" y=\"6\" height=\"1\" width=\"1\"></image></g><g><rect x=\"1\" y=\"7\" class=\"light-square\" height=\"1\" width=\"1\"></rect><g></g></g><g><rect x=\"2\" y=\"0\" class=\"light-square\" height=\"1\" width=\"1\"></rect><g></g></g><g><rect x=\"2\" y=\"1\" class=\"dark-square\" height=\"1\" width=\"1\"></rect><image x=\"2\" xlink:href=\"https://raw.githubusercontent.com/romstad/Chess.jl/master/img/bb.svg\" y=\"1\" height=\"1\" width=\"1\"></image></g><g><rect x=\"2\" y=\"2\" class=\"light-square\" height=\"1\" width=\"1\"></rect><image x=\"2\" xlink:href=\"https://raw.githubusercontent.com/romstad/Chess.jl/master/img/bp.svg\" y=\"2\" height=\"1\" width=\"1\"></image></g><g><rect x=\"2\" y=\"3\" class=\"dark-square\" height=\"1\" width=\"1\"></rect><g></g></g><g><rect x=\"2\" y=\"4\" class=\"light-square\" height=\"1\" width=\"1\"></rect><g></g></g><g><rect x=\"2\" y=\"5\" class=\"dark-square\" height=\"1\" width=\"1\"></rect><image x=\"2\" xlink:href=\"https://raw.githubusercontent.com/romstad/Chess.jl/master/img/wp.svg\" y=\"5\" height=\"1\" width=\"1\"></image></g><g><rect x=\"2\" y=\"6\" class=\"light-square\" height=\"1\" width=\"1\"></rect><g></g></g><g><rect x=\"2\" y=\"7\" class=\"dark-square\" height=\"1\" width=\"1\"></rect><g></g></g><g><rect x=\"3\" y=\"0\" class=\"dark-square\" height=\"1\" width=\"1\"></rect><g></g></g><g><rect x=\"3\" y=\"1\" class=\"light-square\" height=\"1\" width=\"1\"></rect><g></g></g><g><rect x=\"3\" y=\"2\" class=\"dark-square\" height=\"1\" width=\"1\"></rect><g></g></g><g><rect x=\"3\" y=\"3\" class=\"light-square\" height=\"1\" width=\"1\"></rect><image x=\"3\" xlink:href=\"https://raw.githubusercontent.com/romstad/Chess.jl/master/img/bp.svg\" y=\"3\" height=\"1\" width=\"1\"></image></g><g><rect x=\"3\" y=\"4\" class=\"dark-square\" height=\"1\" width=\"1\"></rect><g></g></g><g><rect x=\"3\" y=\"5\" class=\"light-square\" height=\"1\" width=\"1\"></rect><g></g></g><g><rect x=\"3\" y=\"6\" class=\"dark-square\" height=\"1\" width=\"1\"></rect><g></g></g><g><rect x=\"3\" y=\"7\" class=\"light-square\" height=\"1\" width=\"1\"></rect><image x=\"3\" xlink:href=\"https://raw.githubusercontent.com/romstad/Chess.jl/master/img/wr.svg\" y=\"7\" height=\"1\" width=\"1\"></image></g><g><rect x=\"4\" y=\"0\" class=\"light-square\" height=\"1\" width=\"1\"></rect><image x=\"4\" xlink:href=\"https://raw.githubusercontent.com/romstad/Chess.jl/master/img/bk.svg\" y=\"0\" height=\"1\" width=\"1\"></image></g><g><rect x=\"4\" y=\"1\" class=\"dark-square\" height=\"1\" width=\"1\"></rect><g></g></g><g><rect x=\"4\" y=\"2\" class=\"light-square\" height=\"1\" width=\"1\"></rect><g></g></g><g><rect x=\"4\" y=\"3\" class=\"dark-square\" height=\"1\" width=\"1\"></rect><image x=\"4\" xlink:href=\"https://raw.githubusercontent.com/romstad/Chess.jl/master/img/bp.svg\" y=\"3\" height=\"1\" width=\"1\"></image></g><g><rect x=\"4\" y=\"4\" class=\"light-square\" height=\"1\" width=\"1\"></rect><image x=\"4\" xlink:href=\"https://raw.githubusercontent.com/romstad/Chess.jl/master/img/wp.svg\" y=\"4\" height=\"1\" width=\"1\"></image></g><g><rect x=\"4\" y=\"5\" class=\"dark-square\" height=\"1\" width=\"1\"></rect><image x=\"4\" xlink:href=\"https://raw.githubusercontent.com/romstad/Chess.jl/master/img/wb.svg\" y=\"5\" height=\"1\" width=\"1\"></image></g><g><rect x=\"4\" y=\"6\" class=\"light-square\" height=\"1\" width=\"1\"></rect><g></g></g><g><rect x=\"4\" y=\"7\" class=\"dark-square\" height=\"1\" width=\"1\"></rect><image x=\"4\" xlink:href=\"https://raw.githubusercontent.com/romstad/Chess.jl/master/img/wr.svg\" y=\"7\" height=\"1\" width=\"1\"></image></g><g><rect x=\"5\" y=\"0\" class=\"dark-square\" height=\"1\" width=\"1\"></rect><g></g></g><g><rect x=\"5\" y=\"1\" class=\"light-square\" height=\"1\" width=\"1\"></rect><image x=\"5\" xlink:href=\"https://raw.githubusercontent.com/romstad/Chess.jl/master/img/bp.svg\" y=\"1\" height=\"1\" width=\"1\"></image></g><g><rect x=\"5\" y=\"2\" class=\"dark-square\" height=\"1\" width=\"1\"></rect><image x=\"5\" xlink:href=\"https://raw.githubusercontent.com/romstad/Chess.jl/master/img/bn.svg\" y=\"2\" height=\"1\" width=\"1\"></image></g><g><rect x=\"5\" y=\"3\" class=\"light-square\" height=\"1\" width=\"1\"></rect><g></g></g><g><rect x=\"5\" y=\"4\" class=\"dark-square\" height=\"1\" width=\"1\"></rect><g></g></g><g><rect x=\"5\" y=\"5\" class=\"light-square\" height=\"1\" width=\"1\"></rect><image x=\"5\" xlink:href=\"https://raw.githubusercontent.com/romstad/Chess.jl/master/img/wp.svg\" y=\"5\" height=\"1\" width=\"1\"></image></g><g><rect x=\"5\" y=\"6\" class=\"dark-square\" height=\"1\" width=\"1\"></rect><image x=\"5\" xlink:href=\"https://raw.githubusercontent.com/romstad/Chess.jl/master/img/wp.svg\" y=\"6\" height=\"1\" width=\"1\"></image></g><g><rect x=\"5\" y=\"7\" class=\"light-square\" height=\"1\" width=\"1\"></rect><g></g></g><g><rect x=\"6\" y=\"0\" class=\"light-square\" height=\"1\" width=\"1\"></rect><g></g></g><g><rect x=\"6\" y=\"1\" class=\"dark-square\" height=\"1\" width=\"1\"></rect><image x=\"6\" xlink:href=\"https://raw.githubusercontent.com/romstad/Chess.jl/master/img/bp.svg\" y=\"1\" height=\"1\" width=\"1\"></image></g><g><rect x=\"6\" y=\"2\" class=\"light-square\" height=\"1\" width=\"1\"></rect><g></g></g><g><rect x=\"6\" y=\"3\" class=\"dark-square\" height=\"1\" width=\"1\"></rect><g></g></g><g><rect x=\"6\" y=\"4\" class=\"light-square\" height=\"1\" width=\"1\"></rect><g></g></g><g><rect x=\"6\" y=\"5\" class=\"dark-square\" height=\"1\" width=\"1\"></rect><image x=\"6\" xlink:href=\"https://raw.githubusercontent.com/romstad/Chess.jl/master/img/wn.svg\" y=\"5\" height=\"1\" width=\"1\"></image></g><g><rect x=\"6\" y=\"6\" class=\"light-square\" height=\"1\" width=\"1\"></rect><g></g></g><g><rect x=\"6\" y=\"7\" class=\"dark-square\" height=\"1\" width=\"1\"></rect><image x=\"6\" xlink:href=\"https://raw.githubusercontent.com/romstad/Chess.jl/master/img/wk.svg\" y=\"7\" height=\"1\" width=\"1\"></image></g><g><rect x=\"7\" y=\"0\" class=\"dark-square\" height=\"1\" width=\"1\"></rect><image x=\"7\" xlink:href=\"https://raw.githubusercontent.com/romstad/Chess.jl/master/img/br.svg\" y=\"0\" height=\"1\" width=\"1\"></image></g><g><rect x=\"7\" y=\"1\" class=\"light-square\" height=\"1\" width=\"1\"></rect><g></g></g><g><rect x=\"7\" y=\"2\" class=\"dark-square\" height=\"1\" width=\"1\"></rect><image x=\"7\" xlink:href=\"https://raw.githubusercontent.com/romstad/Chess.jl/master/img/bp.svg\" y=\"2\" height=\"1\" width=\"1\"></image></g><g><rect x=\"7\" y=\"3\" class=\"light-square\" height=\"1\" width=\"1\"></rect><g></g></g><g><rect x=\"7\" y=\"4\" class=\"dark-square\" height=\"1\" width=\"1\"></rect><g></g></g><g><rect x=\"7\" y=\"5\" class=\"light-square\" height=\"1\" width=\"1\"></rect><g></g></g><g><rect x=\"7\" y=\"6\" class=\"dark-square\" height=\"1\" width=\"1\"></rect><image x=\"7\" xlink:href=\"https://raw.githubusercontent.com/romstad/Chess.jl/master/img/wp.svg\" y=\"6\" height=\"1\" width=\"1\"></image></g><g><rect x=\"7\" y=\"7\" class=\"light-square\" height=\"1\" width=\"1\"></rect><g></g></g></g><g></g></svg><div><p>Black to move</p><p>Castle rights: kq</p><p><a href=\"https://lichess.org/editor/r3k2r/p1b2pp1/b1p2n1p/3pp3/1p2P3/1BP1BPN1/PP3P1P/3RR1K1_b_kq_-\" target=\"_blank\">Open in lichess</a></p></div></div>"
      ],
      "text/plain": [
       "Board (r3k2r/p1b2pp1/b1p2n1p/3pp3/1p2P3/1BP1BPN1/PP3P1P/3RR1K1 b kq -):\n",
       " r  -  -  -  k  -  -  r \n",
       " p  -  b  -  -  p  p  - \n",
       " b  -  p  -  -  n  -  p \n",
       " -  -  -  p  p  -  -  - \n",
       " -  p  -  -  P  -  -  - \n",
       " -  B  P  -  B  P  N  - \n",
       " P  P  -  -  -  P  -  P \n",
       " -  -  -  R  R  -  K  - "
      ]
     },
     "metadata": {},
     "output_type": "display_data"
    },
    {
     "name": "stdout",
     "output_type": "stream",
     "text": [
      "Evaluation of engine: -135.0\n",
      "Current board score: -160\n",
      "Current entries in Cache: 18361\n",
      "Cleared Cache with 18361\n",
      " 17.419726 seconds (60.26 M allocations: 3.593 GiB, 4.86% gc time)\n",
      "Inkremental score is -265 but should be -205\n"
     ]
    },
    {
     "data": {
      "text/html": [
       "Board:<div class=\"chessboard\"><style soped=\"true\">.dark-square {\n",
       "    fill: #c3936a;\n",
       "    stroke-width: 0;\n",
       "}\n",
       ".light-square {\n",
       "    fill: #ffd7a6;\n",
       "    stroke-width: 0;\n",
       "}\n",
       ".highlight {\n",
       "    fill: #47d18b;\n",
       "}\n",
       "@media (prefers-color-scheme: dark) {\n",
       "    .dark-square {\n",
       "        fill: #00796b;\n",
       "    }\n",
       "    .light-square {\n",
       "        fill: #3ca59b;\n",
       "    }\n",
       "    .highlight {\n",
       "        fill: #d23600;\n",
       "    }\n",
       "}\n",
       "</style><svg style=\"float: left; margin-right: 20px\" viewBox=\"0 0 8 8\" height=\"280\" width=\"280\"><g><g><rect x=\"0\" y=\"0\" class=\"light-square\" height=\"1\" width=\"1\"></rect><image x=\"0\" xlink:href=\"https://raw.githubusercontent.com/romstad/Chess.jl/master/img/br.svg\" y=\"0\" height=\"1\" width=\"1\"></image></g><g><rect x=\"0\" y=\"1\" class=\"dark-square\" height=\"1\" width=\"1\"></rect><image x=\"0\" xlink:href=\"https://raw.githubusercontent.com/romstad/Chess.jl/master/img/bp.svg\" y=\"1\" height=\"1\" width=\"1\"></image></g><g><rect x=\"0\" y=\"2\" class=\"light-square\" height=\"1\" width=\"1\"></rect><image x=\"0\" xlink:href=\"https://raw.githubusercontent.com/romstad/Chess.jl/master/img/bb.svg\" y=\"2\" height=\"1\" width=\"1\"></image></g><g><rect x=\"0\" y=\"3\" class=\"dark-square\" height=\"1\" width=\"1\"></rect><g></g></g><g><rect x=\"0\" y=\"4\" class=\"light-square\" height=\"1\" width=\"1\"></rect><g></g></g><g><rect x=\"0\" y=\"5\" class=\"dark-square\" height=\"1\" width=\"1\"></rect><g></g></g><g><rect x=\"0\" y=\"6\" class=\"light-square\" height=\"1\" width=\"1\"></rect><image x=\"0\" xlink:href=\"https://raw.githubusercontent.com/romstad/Chess.jl/master/img/wp.svg\" y=\"6\" height=\"1\" width=\"1\"></image></g><g><rect x=\"0\" y=\"7\" class=\"dark-square\" height=\"1\" width=\"1\"></rect><g></g></g><g><rect x=\"1\" y=\"0\" class=\"dark-square\" height=\"1\" width=\"1\"></rect><g></g></g><g><rect x=\"1\" y=\"1\" class=\"light-square\" height=\"1\" width=\"1\"></rect><g></g></g><g><rect x=\"1\" y=\"2\" class=\"dark-square\" height=\"1\" width=\"1\"></rect><g></g></g><g><rect x=\"1\" y=\"3\" class=\"light-square\" height=\"1\" width=\"1\"></rect><g></g></g><g><rect x=\"1\" y=\"4\" class=\"dark-square\" height=\"1\" width=\"1\"></rect><g></g></g><g><rect x=\"1\" y=\"5\" class=\"light-square\" height=\"1\" width=\"1\"></rect><image x=\"1\" xlink:href=\"https://raw.githubusercontent.com/romstad/Chess.jl/master/img/wb.svg\" y=\"5\" height=\"1\" width=\"1\"></image></g><g><rect x=\"1\" y=\"6\" class=\"dark-square\" height=\"1\" width=\"1\"></rect><image x=\"1\" xlink:href=\"https://raw.githubusercontent.com/romstad/Chess.jl/master/img/wp.svg\" y=\"6\" height=\"1\" width=\"1\"></image></g><g><rect x=\"1\" y=\"7\" class=\"light-square\" height=\"1\" width=\"1\"></rect><g></g></g><g><rect x=\"2\" y=\"0\" class=\"light-square\" height=\"1\" width=\"1\"></rect><g></g></g><g><rect x=\"2\" y=\"1\" class=\"dark-square\" height=\"1\" width=\"1\"></rect><image x=\"2\" xlink:href=\"https://raw.githubusercontent.com/romstad/Chess.jl/master/img/bb.svg\" y=\"1\" height=\"1\" width=\"1\"></image></g><g><rect x=\"2\" y=\"2\" class=\"light-square\" height=\"1\" width=\"1\"></rect><image x=\"2\" xlink:href=\"https://raw.githubusercontent.com/romstad/Chess.jl/master/img/bp.svg\" y=\"2\" height=\"1\" width=\"1\"></image></g><g><rect x=\"2\" y=\"3\" class=\"dark-square\" height=\"1\" width=\"1\"></rect><g></g></g><g><rect x=\"2\" y=\"4\" class=\"light-square\" height=\"1\" width=\"1\"></rect><g></g></g><g><rect x=\"2\" y=\"5\" class=\"dark-square\" height=\"1\" width=\"1\"></rect><image x=\"2\" xlink:href=\"https://raw.githubusercontent.com/romstad/Chess.jl/master/img/bp.svg\" y=\"5\" height=\"1\" width=\"1\"></image></g><g><rect x=\"2\" y=\"6\" class=\"light-square\" height=\"1\" width=\"1\"></rect><g></g></g><g><rect x=\"2\" y=\"7\" class=\"dark-square\" height=\"1\" width=\"1\"></rect><g></g></g><g><rect x=\"3\" y=\"0\" class=\"dark-square\" height=\"1\" width=\"1\"></rect><g></g></g><g><rect x=\"3\" y=\"1\" class=\"light-square\" height=\"1\" width=\"1\"></rect><g></g></g><g><rect x=\"3\" y=\"2\" class=\"dark-square\" height=\"1\" width=\"1\"></rect><g></g></g><g><rect x=\"3\" y=\"3\" class=\"light-square\" height=\"1\" width=\"1\"></rect><image x=\"3\" xlink:href=\"https://raw.githubusercontent.com/romstad/Chess.jl/master/img/bp.svg\" y=\"3\" height=\"1\" width=\"1\"></image></g><g><rect x=\"3\" y=\"4\" class=\"dark-square\" height=\"1\" width=\"1\"></rect><g></g></g><g><rect x=\"3\" y=\"5\" class=\"light-square\" height=\"1\" width=\"1\"></rect><g></g></g><g><rect x=\"3\" y=\"6\" class=\"dark-square\" height=\"1\" width=\"1\"></rect><g></g></g><g><rect x=\"3\" y=\"7\" class=\"light-square\" height=\"1\" width=\"1\"></rect><image x=\"3\" xlink:href=\"https://raw.githubusercontent.com/romstad/Chess.jl/master/img/wr.svg\" y=\"7\" height=\"1\" width=\"1\"></image></g><g><rect x=\"4\" y=\"0\" class=\"light-square\" height=\"1\" width=\"1\"></rect><image x=\"4\" xlink:href=\"https://raw.githubusercontent.com/romstad/Chess.jl/master/img/bk.svg\" y=\"0\" height=\"1\" width=\"1\"></image></g><g><rect x=\"4\" y=\"1\" class=\"dark-square\" height=\"1\" width=\"1\"></rect><g></g></g><g><rect x=\"4\" y=\"2\" class=\"light-square\" height=\"1\" width=\"1\"></rect><g></g></g><g><rect x=\"4\" y=\"3\" class=\"dark-square\" height=\"1\" width=\"1\"></rect><image x=\"4\" xlink:href=\"https://raw.githubusercontent.com/romstad/Chess.jl/master/img/bp.svg\" y=\"3\" height=\"1\" width=\"1\"></image></g><g><rect x=\"4\" y=\"4\" class=\"light-square\" height=\"1\" width=\"1\"></rect><image x=\"4\" xlink:href=\"https://raw.githubusercontent.com/romstad/Chess.jl/master/img/wp.svg\" y=\"4\" height=\"1\" width=\"1\"></image></g><g><rect x=\"4\" y=\"5\" class=\"dark-square\" height=\"1\" width=\"1\"></rect><image x=\"4\" xlink:href=\"https://raw.githubusercontent.com/romstad/Chess.jl/master/img/wb.svg\" y=\"5\" height=\"1\" width=\"1\"></image></g><g><rect x=\"4\" y=\"6\" class=\"light-square\" height=\"1\" width=\"1\"></rect><g></g></g><g><rect x=\"4\" y=\"7\" class=\"dark-square\" height=\"1\" width=\"1\"></rect><image x=\"4\" xlink:href=\"https://raw.githubusercontent.com/romstad/Chess.jl/master/img/wr.svg\" y=\"7\" height=\"1\" width=\"1\"></image></g><g><rect x=\"5\" y=\"0\" class=\"dark-square\" height=\"1\" width=\"1\"></rect><g></g></g><g><rect x=\"5\" y=\"1\" class=\"light-square\" height=\"1\" width=\"1\"></rect><image x=\"5\" xlink:href=\"https://raw.githubusercontent.com/romstad/Chess.jl/master/img/bp.svg\" y=\"1\" height=\"1\" width=\"1\"></image></g><g><rect x=\"5\" y=\"2\" class=\"dark-square\" height=\"1\" width=\"1\"></rect><image x=\"5\" xlink:href=\"https://raw.githubusercontent.com/romstad/Chess.jl/master/img/bn.svg\" y=\"2\" height=\"1\" width=\"1\"></image></g><g><rect x=\"5\" y=\"3\" class=\"light-square\" height=\"1\" width=\"1\"></rect><g></g></g><g><rect x=\"5\" y=\"4\" class=\"dark-square\" height=\"1\" width=\"1\"></rect><g></g></g><g><rect x=\"5\" y=\"5\" class=\"light-square\" height=\"1\" width=\"1\"></rect><image x=\"5\" xlink:href=\"https://raw.githubusercontent.com/romstad/Chess.jl/master/img/wp.svg\" y=\"5\" height=\"1\" width=\"1\"></image></g><g><rect x=\"5\" y=\"6\" class=\"dark-square\" height=\"1\" width=\"1\"></rect><image x=\"5\" xlink:href=\"https://raw.githubusercontent.com/romstad/Chess.jl/master/img/wp.svg\" y=\"6\" height=\"1\" width=\"1\"></image></g><g><rect x=\"5\" y=\"7\" class=\"light-square\" height=\"1\" width=\"1\"></rect><g></g></g><g><rect x=\"6\" y=\"0\" class=\"light-square\" height=\"1\" width=\"1\"></rect><g></g></g><g><rect x=\"6\" y=\"1\" class=\"dark-square\" height=\"1\" width=\"1\"></rect><image x=\"6\" xlink:href=\"https://raw.githubusercontent.com/romstad/Chess.jl/master/img/bp.svg\" y=\"1\" height=\"1\" width=\"1\"></image></g><g><rect x=\"6\" y=\"2\" class=\"light-square\" height=\"1\" width=\"1\"></rect><g></g></g><g><rect x=\"6\" y=\"3\" class=\"dark-square\" height=\"1\" width=\"1\"></rect><g></g></g><g><rect x=\"6\" y=\"4\" class=\"light-square\" height=\"1\" width=\"1\"></rect><g></g></g><g><rect x=\"6\" y=\"5\" class=\"dark-square\" height=\"1\" width=\"1\"></rect><image x=\"6\" xlink:href=\"https://raw.githubusercontent.com/romstad/Chess.jl/master/img/wn.svg\" y=\"5\" height=\"1\" width=\"1\"></image></g><g><rect x=\"6\" y=\"6\" class=\"light-square\" height=\"1\" width=\"1\"></rect><g></g></g><g><rect x=\"6\" y=\"7\" class=\"dark-square\" height=\"1\" width=\"1\"></rect><image x=\"6\" xlink:href=\"https://raw.githubusercontent.com/romstad/Chess.jl/master/img/wk.svg\" y=\"7\" height=\"1\" width=\"1\"></image></g><g><rect x=\"7\" y=\"0\" class=\"dark-square\" height=\"1\" width=\"1\"></rect><image x=\"7\" xlink:href=\"https://raw.githubusercontent.com/romstad/Chess.jl/master/img/br.svg\" y=\"0\" height=\"1\" width=\"1\"></image></g><g><rect x=\"7\" y=\"1\" class=\"light-square\" height=\"1\" width=\"1\"></rect><g></g></g><g><rect x=\"7\" y=\"2\" class=\"dark-square\" height=\"1\" width=\"1\"></rect><image x=\"7\" xlink:href=\"https://raw.githubusercontent.com/romstad/Chess.jl/master/img/bp.svg\" y=\"2\" height=\"1\" width=\"1\"></image></g><g><rect x=\"7\" y=\"3\" class=\"light-square\" height=\"1\" width=\"1\"></rect><g></g></g><g><rect x=\"7\" y=\"4\" class=\"dark-square\" height=\"1\" width=\"1\"></rect><g></g></g><g><rect x=\"7\" y=\"5\" class=\"light-square\" height=\"1\" width=\"1\"></rect><g></g></g><g><rect x=\"7\" y=\"6\" class=\"dark-square\" height=\"1\" width=\"1\"></rect><image x=\"7\" xlink:href=\"https://raw.githubusercontent.com/romstad/Chess.jl/master/img/wp.svg\" y=\"6\" height=\"1\" width=\"1\"></image></g><g><rect x=\"7\" y=\"7\" class=\"light-square\" height=\"1\" width=\"1\"></rect><g></g></g></g><g></g></svg><div><p>White to move</p><p>Castle rights: kq</p><p><a href=\"https://lichess.org/editor/r3k2r/p1b2pp1/b1p2n1p/3pp3/4P3/1Bp1BPN1/PP3P1P/3RR1K1_w_kq_-\" target=\"_blank\">Open in lichess</a></p></div></div>"
      ],
      "text/plain": [
       "Board (r3k2r/p1b2pp1/b1p2n1p/3pp3/4P3/1Bp1BPN1/PP3P1P/3RR1K1 w kq -):\n",
       " r  -  -  -  k  -  -  r \n",
       " p  -  b  -  -  p  p  - \n",
       " b  -  p  -  -  n  -  p \n",
       " -  -  -  p  p  -  -  - \n",
       " -  -  -  -  P  -  -  - \n",
       " -  B  p  -  B  P  N  - \n",
       " P  P  -  -  -  P  -  P \n",
       " -  -  -  R  R  -  K  - "
      ]
     },
     "metadata": {},
     "output_type": "display_data"
    },
    {
     "name": "stdout",
     "output_type": "stream",
     "text": [
      "Make a move. Type 'resign' to resign from the match\n",
      "stdin> b2c3\n",
      "Cleared Cache with 0\n",
      "Inkremental score is -165 but should be -105\n"
     ]
    },
    {
     "data": {
      "text/html": [
       "Board:<div class=\"chessboard\"><style soped=\"true\">.dark-square {\n",
       "    fill: #c3936a;\n",
       "    stroke-width: 0;\n",
       "}\n",
       ".light-square {\n",
       "    fill: #ffd7a6;\n",
       "    stroke-width: 0;\n",
       "}\n",
       ".highlight {\n",
       "    fill: #47d18b;\n",
       "}\n",
       "@media (prefers-color-scheme: dark) {\n",
       "    .dark-square {\n",
       "        fill: #00796b;\n",
       "    }\n",
       "    .light-square {\n",
       "        fill: #3ca59b;\n",
       "    }\n",
       "    .highlight {\n",
       "        fill: #d23600;\n",
       "    }\n",
       "}\n",
       "</style><svg style=\"float: left; margin-right: 20px\" viewBox=\"0 0 8 8\" height=\"280\" width=\"280\"><g><g><rect x=\"0\" y=\"0\" class=\"light-square\" height=\"1\" width=\"1\"></rect><image x=\"0\" xlink:href=\"https://raw.githubusercontent.com/romstad/Chess.jl/master/img/br.svg\" y=\"0\" height=\"1\" width=\"1\"></image></g><g><rect x=\"0\" y=\"1\" class=\"dark-square\" height=\"1\" width=\"1\"></rect><image x=\"0\" xlink:href=\"https://raw.githubusercontent.com/romstad/Chess.jl/master/img/bp.svg\" y=\"1\" height=\"1\" width=\"1\"></image></g><g><rect x=\"0\" y=\"2\" class=\"light-square\" height=\"1\" width=\"1\"></rect><image x=\"0\" xlink:href=\"https://raw.githubusercontent.com/romstad/Chess.jl/master/img/bb.svg\" y=\"2\" height=\"1\" width=\"1\"></image></g><g><rect x=\"0\" y=\"3\" class=\"dark-square\" height=\"1\" width=\"1\"></rect><g></g></g><g><rect x=\"0\" y=\"4\" class=\"light-square\" height=\"1\" width=\"1\"></rect><g></g></g><g><rect x=\"0\" y=\"5\" class=\"dark-square\" height=\"1\" width=\"1\"></rect><g></g></g><g><rect x=\"0\" y=\"6\" class=\"light-square\" height=\"1\" width=\"1\"></rect><image x=\"0\" xlink:href=\"https://raw.githubusercontent.com/romstad/Chess.jl/master/img/wp.svg\" y=\"6\" height=\"1\" width=\"1\"></image></g><g><rect x=\"0\" y=\"7\" class=\"dark-square\" height=\"1\" width=\"1\"></rect><g></g></g><g><rect x=\"1\" y=\"0\" class=\"dark-square\" height=\"1\" width=\"1\"></rect><g></g></g><g><rect x=\"1\" y=\"1\" class=\"light-square\" height=\"1\" width=\"1\"></rect><g></g></g><g><rect x=\"1\" y=\"2\" class=\"dark-square\" height=\"1\" width=\"1\"></rect><g></g></g><g><rect x=\"1\" y=\"3\" class=\"light-square\" height=\"1\" width=\"1\"></rect><g></g></g><g><rect x=\"1\" y=\"4\" class=\"dark-square\" height=\"1\" width=\"1\"></rect><g></g></g><g><rect x=\"1\" y=\"5\" class=\"light-square\" height=\"1\" width=\"1\"></rect><image x=\"1\" xlink:href=\"https://raw.githubusercontent.com/romstad/Chess.jl/master/img/wb.svg\" y=\"5\" height=\"1\" width=\"1\"></image></g><g><rect x=\"1\" y=\"6\" class=\"dark-square\" height=\"1\" width=\"1\"></rect><g></g></g><g><rect x=\"1\" y=\"7\" class=\"light-square\" height=\"1\" width=\"1\"></rect><g></g></g><g><rect x=\"2\" y=\"0\" class=\"light-square\" height=\"1\" width=\"1\"></rect><g></g></g><g><rect x=\"2\" y=\"1\" class=\"dark-square\" height=\"1\" width=\"1\"></rect><image x=\"2\" xlink:href=\"https://raw.githubusercontent.com/romstad/Chess.jl/master/img/bb.svg\" y=\"1\" height=\"1\" width=\"1\"></image></g><g><rect x=\"2\" y=\"2\" class=\"light-square\" height=\"1\" width=\"1\"></rect><image x=\"2\" xlink:href=\"https://raw.githubusercontent.com/romstad/Chess.jl/master/img/bp.svg\" y=\"2\" height=\"1\" width=\"1\"></image></g><g><rect x=\"2\" y=\"3\" class=\"dark-square\" height=\"1\" width=\"1\"></rect><g></g></g><g><rect x=\"2\" y=\"4\" class=\"light-square\" height=\"1\" width=\"1\"></rect><g></g></g><g><rect x=\"2\" y=\"5\" class=\"dark-square\" height=\"1\" width=\"1\"></rect><image x=\"2\" xlink:href=\"https://raw.githubusercontent.com/romstad/Chess.jl/master/img/wp.svg\" y=\"5\" height=\"1\" width=\"1\"></image></g><g><rect x=\"2\" y=\"6\" class=\"light-square\" height=\"1\" width=\"1\"></rect><g></g></g><g><rect x=\"2\" y=\"7\" class=\"dark-square\" height=\"1\" width=\"1\"></rect><g></g></g><g><rect x=\"3\" y=\"0\" class=\"dark-square\" height=\"1\" width=\"1\"></rect><g></g></g><g><rect x=\"3\" y=\"1\" class=\"light-square\" height=\"1\" width=\"1\"></rect><g></g></g><g><rect x=\"3\" y=\"2\" class=\"dark-square\" height=\"1\" width=\"1\"></rect><g></g></g><g><rect x=\"3\" y=\"3\" class=\"light-square\" height=\"1\" width=\"1\"></rect><image x=\"3\" xlink:href=\"https://raw.githubusercontent.com/romstad/Chess.jl/master/img/bp.svg\" y=\"3\" height=\"1\" width=\"1\"></image></g><g><rect x=\"3\" y=\"4\" class=\"dark-square\" height=\"1\" width=\"1\"></rect><g></g></g><g><rect x=\"3\" y=\"5\" class=\"light-square\" height=\"1\" width=\"1\"></rect><g></g></g><g><rect x=\"3\" y=\"6\" class=\"dark-square\" height=\"1\" width=\"1\"></rect><g></g></g><g><rect x=\"3\" y=\"7\" class=\"light-square\" height=\"1\" width=\"1\"></rect><image x=\"3\" xlink:href=\"https://raw.githubusercontent.com/romstad/Chess.jl/master/img/wr.svg\" y=\"7\" height=\"1\" width=\"1\"></image></g><g><rect x=\"4\" y=\"0\" class=\"light-square\" height=\"1\" width=\"1\"></rect><image x=\"4\" xlink:href=\"https://raw.githubusercontent.com/romstad/Chess.jl/master/img/bk.svg\" y=\"0\" height=\"1\" width=\"1\"></image></g><g><rect x=\"4\" y=\"1\" class=\"dark-square\" height=\"1\" width=\"1\"></rect><g></g></g><g><rect x=\"4\" y=\"2\" class=\"light-square\" height=\"1\" width=\"1\"></rect><g></g></g><g><rect x=\"4\" y=\"3\" class=\"dark-square\" height=\"1\" width=\"1\"></rect><image x=\"4\" xlink:href=\"https://raw.githubusercontent.com/romstad/Chess.jl/master/img/bp.svg\" y=\"3\" height=\"1\" width=\"1\"></image></g><g><rect x=\"4\" y=\"4\" class=\"light-square\" height=\"1\" width=\"1\"></rect><image x=\"4\" xlink:href=\"https://raw.githubusercontent.com/romstad/Chess.jl/master/img/wp.svg\" y=\"4\" height=\"1\" width=\"1\"></image></g><g><rect x=\"4\" y=\"5\" class=\"dark-square\" height=\"1\" width=\"1\"></rect><image x=\"4\" xlink:href=\"https://raw.githubusercontent.com/romstad/Chess.jl/master/img/wb.svg\" y=\"5\" height=\"1\" width=\"1\"></image></g><g><rect x=\"4\" y=\"6\" class=\"light-square\" height=\"1\" width=\"1\"></rect><g></g></g><g><rect x=\"4\" y=\"7\" class=\"dark-square\" height=\"1\" width=\"1\"></rect><image x=\"4\" xlink:href=\"https://raw.githubusercontent.com/romstad/Chess.jl/master/img/wr.svg\" y=\"7\" height=\"1\" width=\"1\"></image></g><g><rect x=\"5\" y=\"0\" class=\"dark-square\" height=\"1\" width=\"1\"></rect><g></g></g><g><rect x=\"5\" y=\"1\" class=\"light-square\" height=\"1\" width=\"1\"></rect><image x=\"5\" xlink:href=\"https://raw.githubusercontent.com/romstad/Chess.jl/master/img/bp.svg\" y=\"1\" height=\"1\" width=\"1\"></image></g><g><rect x=\"5\" y=\"2\" class=\"dark-square\" height=\"1\" width=\"1\"></rect><image x=\"5\" xlink:href=\"https://raw.githubusercontent.com/romstad/Chess.jl/master/img/bn.svg\" y=\"2\" height=\"1\" width=\"1\"></image></g><g><rect x=\"5\" y=\"3\" class=\"light-square\" height=\"1\" width=\"1\"></rect><g></g></g><g><rect x=\"5\" y=\"4\" class=\"dark-square\" height=\"1\" width=\"1\"></rect><g></g></g><g><rect x=\"5\" y=\"5\" class=\"light-square\" height=\"1\" width=\"1\"></rect><image x=\"5\" xlink:href=\"https://raw.githubusercontent.com/romstad/Chess.jl/master/img/wp.svg\" y=\"5\" height=\"1\" width=\"1\"></image></g><g><rect x=\"5\" y=\"6\" class=\"dark-square\" height=\"1\" width=\"1\"></rect><image x=\"5\" xlink:href=\"https://raw.githubusercontent.com/romstad/Chess.jl/master/img/wp.svg\" y=\"6\" height=\"1\" width=\"1\"></image></g><g><rect x=\"5\" y=\"7\" class=\"light-square\" height=\"1\" width=\"1\"></rect><g></g></g><g><rect x=\"6\" y=\"0\" class=\"light-square\" height=\"1\" width=\"1\"></rect><g></g></g><g><rect x=\"6\" y=\"1\" class=\"dark-square\" height=\"1\" width=\"1\"></rect><image x=\"6\" xlink:href=\"https://raw.githubusercontent.com/romstad/Chess.jl/master/img/bp.svg\" y=\"1\" height=\"1\" width=\"1\"></image></g><g><rect x=\"6\" y=\"2\" class=\"light-square\" height=\"1\" width=\"1\"></rect><g></g></g><g><rect x=\"6\" y=\"3\" class=\"dark-square\" height=\"1\" width=\"1\"></rect><g></g></g><g><rect x=\"6\" y=\"4\" class=\"light-square\" height=\"1\" width=\"1\"></rect><g></g></g><g><rect x=\"6\" y=\"5\" class=\"dark-square\" height=\"1\" width=\"1\"></rect><image x=\"6\" xlink:href=\"https://raw.githubusercontent.com/romstad/Chess.jl/master/img/wn.svg\" y=\"5\" height=\"1\" width=\"1\"></image></g><g><rect x=\"6\" y=\"6\" class=\"light-square\" height=\"1\" width=\"1\"></rect><g></g></g><g><rect x=\"6\" y=\"7\" class=\"dark-square\" height=\"1\" width=\"1\"></rect><image x=\"6\" xlink:href=\"https://raw.githubusercontent.com/romstad/Chess.jl/master/img/wk.svg\" y=\"7\" height=\"1\" width=\"1\"></image></g><g><rect x=\"7\" y=\"0\" class=\"dark-square\" height=\"1\" width=\"1\"></rect><image x=\"7\" xlink:href=\"https://raw.githubusercontent.com/romstad/Chess.jl/master/img/br.svg\" y=\"0\" height=\"1\" width=\"1\"></image></g><g><rect x=\"7\" y=\"1\" class=\"light-square\" height=\"1\" width=\"1\"></rect><g></g></g><g><rect x=\"7\" y=\"2\" class=\"dark-square\" height=\"1\" width=\"1\"></rect><image x=\"7\" xlink:href=\"https://raw.githubusercontent.com/romstad/Chess.jl/master/img/bp.svg\" y=\"2\" height=\"1\" width=\"1\"></image></g><g><rect x=\"7\" y=\"3\" class=\"light-square\" height=\"1\" width=\"1\"></rect><g></g></g><g><rect x=\"7\" y=\"4\" class=\"dark-square\" height=\"1\" width=\"1\"></rect><g></g></g><g><rect x=\"7\" y=\"5\" class=\"light-square\" height=\"1\" width=\"1\"></rect><g></g></g><g><rect x=\"7\" y=\"6\" class=\"dark-square\" height=\"1\" width=\"1\"></rect><image x=\"7\" xlink:href=\"https://raw.githubusercontent.com/romstad/Chess.jl/master/img/wp.svg\" y=\"6\" height=\"1\" width=\"1\"></image></g><g><rect x=\"7\" y=\"7\" class=\"light-square\" height=\"1\" width=\"1\"></rect><g></g></g></g><g></g></svg><div><p>Black to move</p><p>Castle rights: kq</p><p><a href=\"https://lichess.org/editor/r3k2r/p1b2pp1/b1p2n1p/3pp3/4P3/1BP1BPN1/P4P1P/3RR1K1_b_kq_-\" target=\"_blank\">Open in lichess</a></p></div></div>"
      ],
      "text/plain": [
       "Board (r3k2r/p1b2pp1/b1p2n1p/3pp3/4P3/1BP1BPN1/P4P1P/3RR1K1 b kq -):\n",
       " r  -  -  -  k  -  -  r \n",
       " p  -  b  -  -  p  p  - \n",
       " b  -  p  -  -  n  -  p \n",
       " -  -  -  p  p  -  -  - \n",
       " -  -  -  -  P  -  -  - \n",
       " -  B  P  -  B  P  N  - \n",
       " P  -  -  -  -  P  -  P \n",
       " -  -  -  R  R  -  K  - "
      ]
     },
     "metadata": {},
     "output_type": "display_data"
    },
    {
     "name": "stdout",
     "output_type": "stream",
     "text": [
      "Evaluation of engine: -90.0\n",
      "Current board score: -165\n",
      "Current entries in Cache: 15800\n",
      "Cleared Cache with 15800\n",
      " 14.369091 seconds (49.83 M allocations: 2.963 GiB, 4.76% gc time)\n",
      "Inkremental score is -180 but should be -120\n"
     ]
    },
    {
     "data": {
      "text/html": [
       "Board:<div class=\"chessboard\"><style soped=\"true\">.dark-square {\n",
       "    fill: #c3936a;\n",
       "    stroke-width: 0;\n",
       "}\n",
       ".light-square {\n",
       "    fill: #ffd7a6;\n",
       "    stroke-width: 0;\n",
       "}\n",
       ".highlight {\n",
       "    fill: #47d18b;\n",
       "}\n",
       "@media (prefers-color-scheme: dark) {\n",
       "    .dark-square {\n",
       "        fill: #00796b;\n",
       "    }\n",
       "    .light-square {\n",
       "        fill: #3ca59b;\n",
       "    }\n",
       "    .highlight {\n",
       "        fill: #d23600;\n",
       "    }\n",
       "}\n",
       "</style><svg style=\"float: left; margin-right: 20px\" viewBox=\"0 0 8 8\" height=\"280\" width=\"280\"><g><g><rect x=\"0\" y=\"0\" class=\"light-square\" height=\"1\" width=\"1\"></rect><image x=\"0\" xlink:href=\"https://raw.githubusercontent.com/romstad/Chess.jl/master/img/br.svg\" y=\"0\" height=\"1\" width=\"1\"></image></g><g><rect x=\"0\" y=\"1\" class=\"dark-square\" height=\"1\" width=\"1\"></rect><image x=\"0\" xlink:href=\"https://raw.githubusercontent.com/romstad/Chess.jl/master/img/bp.svg\" y=\"1\" height=\"1\" width=\"1\"></image></g><g><rect x=\"0\" y=\"2\" class=\"light-square\" height=\"1\" width=\"1\"></rect><g></g></g><g><rect x=\"0\" y=\"3\" class=\"dark-square\" height=\"1\" width=\"1\"></rect><g></g></g><g><rect x=\"0\" y=\"4\" class=\"light-square\" height=\"1\" width=\"1\"></rect><g></g></g><g><rect x=\"0\" y=\"5\" class=\"dark-square\" height=\"1\" width=\"1\"></rect><g></g></g><g><rect x=\"0\" y=\"6\" class=\"light-square\" height=\"1\" width=\"1\"></rect><image x=\"0\" xlink:href=\"https://raw.githubusercontent.com/romstad/Chess.jl/master/img/wp.svg\" y=\"6\" height=\"1\" width=\"1\"></image></g><g><rect x=\"0\" y=\"7\" class=\"dark-square\" height=\"1\" width=\"1\"></rect><g></g></g><g><rect x=\"1\" y=\"0\" class=\"dark-square\" height=\"1\" width=\"1\"></rect><g></g></g><g><rect x=\"1\" y=\"1\" class=\"light-square\" height=\"1\" width=\"1\"></rect><image x=\"1\" xlink:href=\"https://raw.githubusercontent.com/romstad/Chess.jl/master/img/bb.svg\" y=\"1\" height=\"1\" width=\"1\"></image></g><g><rect x=\"1\" y=\"2\" class=\"dark-square\" height=\"1\" width=\"1\"></rect><g></g></g><g><rect x=\"1\" y=\"3\" class=\"light-square\" height=\"1\" width=\"1\"></rect><g></g></g><g><rect x=\"1\" y=\"4\" class=\"dark-square\" height=\"1\" width=\"1\"></rect><g></g></g><g><rect x=\"1\" y=\"5\" class=\"light-square\" height=\"1\" width=\"1\"></rect><image x=\"1\" xlink:href=\"https://raw.githubusercontent.com/romstad/Chess.jl/master/img/wb.svg\" y=\"5\" height=\"1\" width=\"1\"></image></g><g><rect x=\"1\" y=\"6\" class=\"dark-square\" height=\"1\" width=\"1\"></rect><g></g></g><g><rect x=\"1\" y=\"7\" class=\"light-square\" height=\"1\" width=\"1\"></rect><g></g></g><g><rect x=\"2\" y=\"0\" class=\"light-square\" height=\"1\" width=\"1\"></rect><g></g></g><g><rect x=\"2\" y=\"1\" class=\"dark-square\" height=\"1\" width=\"1\"></rect><image x=\"2\" xlink:href=\"https://raw.githubusercontent.com/romstad/Chess.jl/master/img/bb.svg\" y=\"1\" height=\"1\" width=\"1\"></image></g><g><rect x=\"2\" y=\"2\" class=\"light-square\" height=\"1\" width=\"1\"></rect><image x=\"2\" xlink:href=\"https://raw.githubusercontent.com/romstad/Chess.jl/master/img/bp.svg\" y=\"2\" height=\"1\" width=\"1\"></image></g><g><rect x=\"2\" y=\"3\" class=\"dark-square\" height=\"1\" width=\"1\"></rect><g></g></g><g><rect x=\"2\" y=\"4\" class=\"light-square\" height=\"1\" width=\"1\"></rect><g></g></g><g><rect x=\"2\" y=\"5\" class=\"dark-square\" height=\"1\" width=\"1\"></rect><image x=\"2\" xlink:href=\"https://raw.githubusercontent.com/romstad/Chess.jl/master/img/wp.svg\" y=\"5\" height=\"1\" width=\"1\"></image></g><g><rect x=\"2\" y=\"6\" class=\"light-square\" height=\"1\" width=\"1\"></rect><g></g></g><g><rect x=\"2\" y=\"7\" class=\"dark-square\" height=\"1\" width=\"1\"></rect><g></g></g><g><rect x=\"3\" y=\"0\" class=\"dark-square\" height=\"1\" width=\"1\"></rect><g></g></g><g><rect x=\"3\" y=\"1\" class=\"light-square\" height=\"1\" width=\"1\"></rect><g></g></g><g><rect x=\"3\" y=\"2\" class=\"dark-square\" height=\"1\" width=\"1\"></rect><g></g></g><g><rect x=\"3\" y=\"3\" class=\"light-square\" height=\"1\" width=\"1\"></rect><image x=\"3\" xlink:href=\"https://raw.githubusercontent.com/romstad/Chess.jl/master/img/bp.svg\" y=\"3\" height=\"1\" width=\"1\"></image></g><g><rect x=\"3\" y=\"4\" class=\"dark-square\" height=\"1\" width=\"1\"></rect><g></g></g><g><rect x=\"3\" y=\"5\" class=\"light-square\" height=\"1\" width=\"1\"></rect><g></g></g><g><rect x=\"3\" y=\"6\" class=\"dark-square\" height=\"1\" width=\"1\"></rect><g></g></g><g><rect x=\"3\" y=\"7\" class=\"light-square\" height=\"1\" width=\"1\"></rect><image x=\"3\" xlink:href=\"https://raw.githubusercontent.com/romstad/Chess.jl/master/img/wr.svg\" y=\"7\" height=\"1\" width=\"1\"></image></g><g><rect x=\"4\" y=\"0\" class=\"light-square\" height=\"1\" width=\"1\"></rect><image x=\"4\" xlink:href=\"https://raw.githubusercontent.com/romstad/Chess.jl/master/img/bk.svg\" y=\"0\" height=\"1\" width=\"1\"></image></g><g><rect x=\"4\" y=\"1\" class=\"dark-square\" height=\"1\" width=\"1\"></rect><g></g></g><g><rect x=\"4\" y=\"2\" class=\"light-square\" height=\"1\" width=\"1\"></rect><g></g></g><g><rect x=\"4\" y=\"3\" class=\"dark-square\" height=\"1\" width=\"1\"></rect><image x=\"4\" xlink:href=\"https://raw.githubusercontent.com/romstad/Chess.jl/master/img/bp.svg\" y=\"3\" height=\"1\" width=\"1\"></image></g><g><rect x=\"4\" y=\"4\" class=\"light-square\" height=\"1\" width=\"1\"></rect><image x=\"4\" xlink:href=\"https://raw.githubusercontent.com/romstad/Chess.jl/master/img/wp.svg\" y=\"4\" height=\"1\" width=\"1\"></image></g><g><rect x=\"4\" y=\"5\" class=\"dark-square\" height=\"1\" width=\"1\"></rect><image x=\"4\" xlink:href=\"https://raw.githubusercontent.com/romstad/Chess.jl/master/img/wb.svg\" y=\"5\" height=\"1\" width=\"1\"></image></g><g><rect x=\"4\" y=\"6\" class=\"light-square\" height=\"1\" width=\"1\"></rect><g></g></g><g><rect x=\"4\" y=\"7\" class=\"dark-square\" height=\"1\" width=\"1\"></rect><image x=\"4\" xlink:href=\"https://raw.githubusercontent.com/romstad/Chess.jl/master/img/wr.svg\" y=\"7\" height=\"1\" width=\"1\"></image></g><g><rect x=\"5\" y=\"0\" class=\"dark-square\" height=\"1\" width=\"1\"></rect><g></g></g><g><rect x=\"5\" y=\"1\" class=\"light-square\" height=\"1\" width=\"1\"></rect><image x=\"5\" xlink:href=\"https://raw.githubusercontent.com/romstad/Chess.jl/master/img/bp.svg\" y=\"1\" height=\"1\" width=\"1\"></image></g><g><rect x=\"5\" y=\"2\" class=\"dark-square\" height=\"1\" width=\"1\"></rect><image x=\"5\" xlink:href=\"https://raw.githubusercontent.com/romstad/Chess.jl/master/img/bn.svg\" y=\"2\" height=\"1\" width=\"1\"></image></g><g><rect x=\"5\" y=\"3\" class=\"light-square\" height=\"1\" width=\"1\"></rect><g></g></g><g><rect x=\"5\" y=\"4\" class=\"dark-square\" height=\"1\" width=\"1\"></rect><g></g></g><g><rect x=\"5\" y=\"5\" class=\"light-square\" height=\"1\" width=\"1\"></rect><image x=\"5\" xlink:href=\"https://raw.githubusercontent.com/romstad/Chess.jl/master/img/wp.svg\" y=\"5\" height=\"1\" width=\"1\"></image></g><g><rect x=\"5\" y=\"6\" class=\"dark-square\" height=\"1\" width=\"1\"></rect><image x=\"5\" xlink:href=\"https://raw.githubusercontent.com/romstad/Chess.jl/master/img/wp.svg\" y=\"6\" height=\"1\" width=\"1\"></image></g><g><rect x=\"5\" y=\"7\" class=\"light-square\" height=\"1\" width=\"1\"></rect><g></g></g><g><rect x=\"6\" y=\"0\" class=\"light-square\" height=\"1\" width=\"1\"></rect><g></g></g><g><rect x=\"6\" y=\"1\" class=\"dark-square\" height=\"1\" width=\"1\"></rect><image x=\"6\" xlink:href=\"https://raw.githubusercontent.com/romstad/Chess.jl/master/img/bp.svg\" y=\"1\" height=\"1\" width=\"1\"></image></g><g><rect x=\"6\" y=\"2\" class=\"light-square\" height=\"1\" width=\"1\"></rect><g></g></g><g><rect x=\"6\" y=\"3\" class=\"dark-square\" height=\"1\" width=\"1\"></rect><g></g></g><g><rect x=\"6\" y=\"4\" class=\"light-square\" height=\"1\" width=\"1\"></rect><g></g></g><g><rect x=\"6\" y=\"5\" class=\"dark-square\" height=\"1\" width=\"1\"></rect><image x=\"6\" xlink:href=\"https://raw.githubusercontent.com/romstad/Chess.jl/master/img/wn.svg\" y=\"5\" height=\"1\" width=\"1\"></image></g><g><rect x=\"6\" y=\"6\" class=\"light-square\" height=\"1\" width=\"1\"></rect><g></g></g><g><rect x=\"6\" y=\"7\" class=\"dark-square\" height=\"1\" width=\"1\"></rect><image x=\"6\" xlink:href=\"https://raw.githubusercontent.com/romstad/Chess.jl/master/img/wk.svg\" y=\"7\" height=\"1\" width=\"1\"></image></g><g><rect x=\"7\" y=\"0\" class=\"dark-square\" height=\"1\" width=\"1\"></rect><image x=\"7\" xlink:href=\"https://raw.githubusercontent.com/romstad/Chess.jl/master/img/br.svg\" y=\"0\" height=\"1\" width=\"1\"></image></g><g><rect x=\"7\" y=\"1\" class=\"light-square\" height=\"1\" width=\"1\"></rect><g></g></g><g><rect x=\"7\" y=\"2\" class=\"dark-square\" height=\"1\" width=\"1\"></rect><image x=\"7\" xlink:href=\"https://raw.githubusercontent.com/romstad/Chess.jl/master/img/bp.svg\" y=\"2\" height=\"1\" width=\"1\"></image></g><g><rect x=\"7\" y=\"3\" class=\"light-square\" height=\"1\" width=\"1\"></rect><g></g></g><g><rect x=\"7\" y=\"4\" class=\"dark-square\" height=\"1\" width=\"1\"></rect><g></g></g><g><rect x=\"7\" y=\"5\" class=\"light-square\" height=\"1\" width=\"1\"></rect><g></g></g><g><rect x=\"7\" y=\"6\" class=\"dark-square\" height=\"1\" width=\"1\"></rect><image x=\"7\" xlink:href=\"https://raw.githubusercontent.com/romstad/Chess.jl/master/img/wp.svg\" y=\"6\" height=\"1\" width=\"1\"></image></g><g><rect x=\"7\" y=\"7\" class=\"light-square\" height=\"1\" width=\"1\"></rect><g></g></g></g><g></g></svg><div><p>White to move</p><p>Castle rights: kq</p><p><a href=\"https://lichess.org/editor/r3k2r/pbb2pp1/2p2n1p/3pp3/4P3/1BP1BPN1/P4P1P/3RR1K1_w_kq_-\" target=\"_blank\">Open in lichess</a></p></div></div>"
      ],
      "text/plain": [
       "Board (r3k2r/pbb2pp1/2p2n1p/3pp3/4P3/1BP1BPN1/P4P1P/3RR1K1 w kq -):\n",
       " r  -  -  -  k  -  -  r \n",
       " p  b  b  -  -  p  p  - \n",
       " -  -  p  -  -  n  -  p \n",
       " -  -  -  p  p  -  -  - \n",
       " -  -  -  -  P  -  -  - \n",
       " -  B  P  -  B  P  N  - \n",
       " P  -  -  -  -  P  -  P \n",
       " -  -  -  R  R  -  K  - "
      ]
     },
     "metadata": {},
     "output_type": "display_data"
    },
    {
     "name": "stdout",
     "output_type": "stream",
     "text": [
      "Make a move. Type 'resign' to resign from the match\n",
      "stdin> e3c5\n",
      "Cleared Cache with 0\n",
      "Inkremental score is -185 but should be -125\n"
     ]
    },
    {
     "data": {
      "text/html": [
       "Board:<div class=\"chessboard\"><style soped=\"true\">.dark-square {\n",
       "    fill: #c3936a;\n",
       "    stroke-width: 0;\n",
       "}\n",
       ".light-square {\n",
       "    fill: #ffd7a6;\n",
       "    stroke-width: 0;\n",
       "}\n",
       ".highlight {\n",
       "    fill: #47d18b;\n",
       "}\n",
       "@media (prefers-color-scheme: dark) {\n",
       "    .dark-square {\n",
       "        fill: #00796b;\n",
       "    }\n",
       "    .light-square {\n",
       "        fill: #3ca59b;\n",
       "    }\n",
       "    .highlight {\n",
       "        fill: #d23600;\n",
       "    }\n",
       "}\n",
       "</style><svg style=\"float: left; margin-right: 20px\" viewBox=\"0 0 8 8\" height=\"280\" width=\"280\"><g><g><rect x=\"0\" y=\"0\" class=\"light-square\" height=\"1\" width=\"1\"></rect><image x=\"0\" xlink:href=\"https://raw.githubusercontent.com/romstad/Chess.jl/master/img/br.svg\" y=\"0\" height=\"1\" width=\"1\"></image></g><g><rect x=\"0\" y=\"1\" class=\"dark-square\" height=\"1\" width=\"1\"></rect><image x=\"0\" xlink:href=\"https://raw.githubusercontent.com/romstad/Chess.jl/master/img/bp.svg\" y=\"1\" height=\"1\" width=\"1\"></image></g><g><rect x=\"0\" y=\"2\" class=\"light-square\" height=\"1\" width=\"1\"></rect><g></g></g><g><rect x=\"0\" y=\"3\" class=\"dark-square\" height=\"1\" width=\"1\"></rect><g></g></g><g><rect x=\"0\" y=\"4\" class=\"light-square\" height=\"1\" width=\"1\"></rect><g></g></g><g><rect x=\"0\" y=\"5\" class=\"dark-square\" height=\"1\" width=\"1\"></rect><g></g></g><g><rect x=\"0\" y=\"6\" class=\"light-square\" height=\"1\" width=\"1\"></rect><image x=\"0\" xlink:href=\"https://raw.githubusercontent.com/romstad/Chess.jl/master/img/wp.svg\" y=\"6\" height=\"1\" width=\"1\"></image></g><g><rect x=\"0\" y=\"7\" class=\"dark-square\" height=\"1\" width=\"1\"></rect><g></g></g><g><rect x=\"1\" y=\"0\" class=\"dark-square\" height=\"1\" width=\"1\"></rect><g></g></g><g><rect x=\"1\" y=\"1\" class=\"light-square\" height=\"1\" width=\"1\"></rect><image x=\"1\" xlink:href=\"https://raw.githubusercontent.com/romstad/Chess.jl/master/img/bb.svg\" y=\"1\" height=\"1\" width=\"1\"></image></g><g><rect x=\"1\" y=\"2\" class=\"dark-square\" height=\"1\" width=\"1\"></rect><g></g></g><g><rect x=\"1\" y=\"3\" class=\"light-square\" height=\"1\" width=\"1\"></rect><g></g></g><g><rect x=\"1\" y=\"4\" class=\"dark-square\" height=\"1\" width=\"1\"></rect><g></g></g><g><rect x=\"1\" y=\"5\" class=\"light-square\" height=\"1\" width=\"1\"></rect><image x=\"1\" xlink:href=\"https://raw.githubusercontent.com/romstad/Chess.jl/master/img/wb.svg\" y=\"5\" height=\"1\" width=\"1\"></image></g><g><rect x=\"1\" y=\"6\" class=\"dark-square\" height=\"1\" width=\"1\"></rect><g></g></g><g><rect x=\"1\" y=\"7\" class=\"light-square\" height=\"1\" width=\"1\"></rect><g></g></g><g><rect x=\"2\" y=\"0\" class=\"light-square\" height=\"1\" width=\"1\"></rect><g></g></g><g><rect x=\"2\" y=\"1\" class=\"dark-square\" height=\"1\" width=\"1\"></rect><image x=\"2\" xlink:href=\"https://raw.githubusercontent.com/romstad/Chess.jl/master/img/bb.svg\" y=\"1\" height=\"1\" width=\"1\"></image></g><g><rect x=\"2\" y=\"2\" class=\"light-square\" height=\"1\" width=\"1\"></rect><image x=\"2\" xlink:href=\"https://raw.githubusercontent.com/romstad/Chess.jl/master/img/bp.svg\" y=\"2\" height=\"1\" width=\"1\"></image></g><g><rect x=\"2\" y=\"3\" class=\"dark-square\" height=\"1\" width=\"1\"></rect><image x=\"2\" xlink:href=\"https://raw.githubusercontent.com/romstad/Chess.jl/master/img/wb.svg\" y=\"3\" height=\"1\" width=\"1\"></image></g><g><rect x=\"2\" y=\"4\" class=\"light-square\" height=\"1\" width=\"1\"></rect><g></g></g><g><rect x=\"2\" y=\"5\" class=\"dark-square\" height=\"1\" width=\"1\"></rect><image x=\"2\" xlink:href=\"https://raw.githubusercontent.com/romstad/Chess.jl/master/img/wp.svg\" y=\"5\" height=\"1\" width=\"1\"></image></g><g><rect x=\"2\" y=\"6\" class=\"light-square\" height=\"1\" width=\"1\"></rect><g></g></g><g><rect x=\"2\" y=\"7\" class=\"dark-square\" height=\"1\" width=\"1\"></rect><g></g></g><g><rect x=\"3\" y=\"0\" class=\"dark-square\" height=\"1\" width=\"1\"></rect><g></g></g><g><rect x=\"3\" y=\"1\" class=\"light-square\" height=\"1\" width=\"1\"></rect><g></g></g><g><rect x=\"3\" y=\"2\" class=\"dark-square\" height=\"1\" width=\"1\"></rect><g></g></g><g><rect x=\"3\" y=\"3\" class=\"light-square\" height=\"1\" width=\"1\"></rect><image x=\"3\" xlink:href=\"https://raw.githubusercontent.com/romstad/Chess.jl/master/img/bp.svg\" y=\"3\" height=\"1\" width=\"1\"></image></g><g><rect x=\"3\" y=\"4\" class=\"dark-square\" height=\"1\" width=\"1\"></rect><g></g></g><g><rect x=\"3\" y=\"5\" class=\"light-square\" height=\"1\" width=\"1\"></rect><g></g></g><g><rect x=\"3\" y=\"6\" class=\"dark-square\" height=\"1\" width=\"1\"></rect><g></g></g><g><rect x=\"3\" y=\"7\" class=\"light-square\" height=\"1\" width=\"1\"></rect><image x=\"3\" xlink:href=\"https://raw.githubusercontent.com/romstad/Chess.jl/master/img/wr.svg\" y=\"7\" height=\"1\" width=\"1\"></image></g><g><rect x=\"4\" y=\"0\" class=\"light-square\" height=\"1\" width=\"1\"></rect><image x=\"4\" xlink:href=\"https://raw.githubusercontent.com/romstad/Chess.jl/master/img/bk.svg\" y=\"0\" height=\"1\" width=\"1\"></image></g><g><rect x=\"4\" y=\"1\" class=\"dark-square\" height=\"1\" width=\"1\"></rect><g></g></g><g><rect x=\"4\" y=\"2\" class=\"light-square\" height=\"1\" width=\"1\"></rect><g></g></g><g><rect x=\"4\" y=\"3\" class=\"dark-square\" height=\"1\" width=\"1\"></rect><image x=\"4\" xlink:href=\"https://raw.githubusercontent.com/romstad/Chess.jl/master/img/bp.svg\" y=\"3\" height=\"1\" width=\"1\"></image></g><g><rect x=\"4\" y=\"4\" class=\"light-square\" height=\"1\" width=\"1\"></rect><image x=\"4\" xlink:href=\"https://raw.githubusercontent.com/romstad/Chess.jl/master/img/wp.svg\" y=\"4\" height=\"1\" width=\"1\"></image></g><g><rect x=\"4\" y=\"5\" class=\"dark-square\" height=\"1\" width=\"1\"></rect><g></g></g><g><rect x=\"4\" y=\"6\" class=\"light-square\" height=\"1\" width=\"1\"></rect><g></g></g><g><rect x=\"4\" y=\"7\" class=\"dark-square\" height=\"1\" width=\"1\"></rect><image x=\"4\" xlink:href=\"https://raw.githubusercontent.com/romstad/Chess.jl/master/img/wr.svg\" y=\"7\" height=\"1\" width=\"1\"></image></g><g><rect x=\"5\" y=\"0\" class=\"dark-square\" height=\"1\" width=\"1\"></rect><g></g></g><g><rect x=\"5\" y=\"1\" class=\"light-square\" height=\"1\" width=\"1\"></rect><image x=\"5\" xlink:href=\"https://raw.githubusercontent.com/romstad/Chess.jl/master/img/bp.svg\" y=\"1\" height=\"1\" width=\"1\"></image></g><g><rect x=\"5\" y=\"2\" class=\"dark-square\" height=\"1\" width=\"1\"></rect><image x=\"5\" xlink:href=\"https://raw.githubusercontent.com/romstad/Chess.jl/master/img/bn.svg\" y=\"2\" height=\"1\" width=\"1\"></image></g><g><rect x=\"5\" y=\"3\" class=\"light-square\" height=\"1\" width=\"1\"></rect><g></g></g><g><rect x=\"5\" y=\"4\" class=\"dark-square\" height=\"1\" width=\"1\"></rect><g></g></g><g><rect x=\"5\" y=\"5\" class=\"light-square\" height=\"1\" width=\"1\"></rect><image x=\"5\" xlink:href=\"https://raw.githubusercontent.com/romstad/Chess.jl/master/img/wp.svg\" y=\"5\" height=\"1\" width=\"1\"></image></g><g><rect x=\"5\" y=\"6\" class=\"dark-square\" height=\"1\" width=\"1\"></rect><image x=\"5\" xlink:href=\"https://raw.githubusercontent.com/romstad/Chess.jl/master/img/wp.svg\" y=\"6\" height=\"1\" width=\"1\"></image></g><g><rect x=\"5\" y=\"7\" class=\"light-square\" height=\"1\" width=\"1\"></rect><g></g></g><g><rect x=\"6\" y=\"0\" class=\"light-square\" height=\"1\" width=\"1\"></rect><g></g></g><g><rect x=\"6\" y=\"1\" class=\"dark-square\" height=\"1\" width=\"1\"></rect><image x=\"6\" xlink:href=\"https://raw.githubusercontent.com/romstad/Chess.jl/master/img/bp.svg\" y=\"1\" height=\"1\" width=\"1\"></image></g><g><rect x=\"6\" y=\"2\" class=\"light-square\" height=\"1\" width=\"1\"></rect><g></g></g><g><rect x=\"6\" y=\"3\" class=\"dark-square\" height=\"1\" width=\"1\"></rect><g></g></g><g><rect x=\"6\" y=\"4\" class=\"light-square\" height=\"1\" width=\"1\"></rect><g></g></g><g><rect x=\"6\" y=\"5\" class=\"dark-square\" height=\"1\" width=\"1\"></rect><image x=\"6\" xlink:href=\"https://raw.githubusercontent.com/romstad/Chess.jl/master/img/wn.svg\" y=\"5\" height=\"1\" width=\"1\"></image></g><g><rect x=\"6\" y=\"6\" class=\"light-square\" height=\"1\" width=\"1\"></rect><g></g></g><g><rect x=\"6\" y=\"7\" class=\"dark-square\" height=\"1\" width=\"1\"></rect><image x=\"6\" xlink:href=\"https://raw.githubusercontent.com/romstad/Chess.jl/master/img/wk.svg\" y=\"7\" height=\"1\" width=\"1\"></image></g><g><rect x=\"7\" y=\"0\" class=\"dark-square\" height=\"1\" width=\"1\"></rect><image x=\"7\" xlink:href=\"https://raw.githubusercontent.com/romstad/Chess.jl/master/img/br.svg\" y=\"0\" height=\"1\" width=\"1\"></image></g><g><rect x=\"7\" y=\"1\" class=\"light-square\" height=\"1\" width=\"1\"></rect><g></g></g><g><rect x=\"7\" y=\"2\" class=\"dark-square\" height=\"1\" width=\"1\"></rect><image x=\"7\" xlink:href=\"https://raw.githubusercontent.com/romstad/Chess.jl/master/img/bp.svg\" y=\"2\" height=\"1\" width=\"1\"></image></g><g><rect x=\"7\" y=\"3\" class=\"light-square\" height=\"1\" width=\"1\"></rect><g></g></g><g><rect x=\"7\" y=\"4\" class=\"dark-square\" height=\"1\" width=\"1\"></rect><g></g></g><g><rect x=\"7\" y=\"5\" class=\"light-square\" height=\"1\" width=\"1\"></rect><g></g></g><g><rect x=\"7\" y=\"6\" class=\"dark-square\" height=\"1\" width=\"1\"></rect><image x=\"7\" xlink:href=\"https://raw.githubusercontent.com/romstad/Chess.jl/master/img/wp.svg\" y=\"6\" height=\"1\" width=\"1\"></image></g><g><rect x=\"7\" y=\"7\" class=\"light-square\" height=\"1\" width=\"1\"></rect><g></g></g></g><g></g></svg><div><p>Black to move</p><p>Castle rights: kq</p><p><a href=\"https://lichess.org/editor/r3k2r/pbb2pp1/2p2n1p/2Bpp3/4P3/1BP2PN1/P4P1P/3RR1K1_b_kq_-\" target=\"_blank\">Open in lichess</a></p></div></div>"
      ],
      "text/plain": [
       "Board (r3k2r/pbb2pp1/2p2n1p/2Bpp3/4P3/1BP2PN1/P4P1P/3RR1K1 b kq -):\n",
       " r  -  -  -  k  -  -  r \n",
       " p  b  b  -  -  p  p  - \n",
       " -  -  p  -  -  n  -  p \n",
       " -  -  B  p  p  -  -  - \n",
       " -  -  -  -  P  -  -  - \n",
       " -  B  P  -  -  P  N  - \n",
       " P  -  -  -  -  P  -  P \n",
       " -  -  -  R  R  -  K  - "
      ]
     },
     "metadata": {},
     "output_type": "display_data"
    },
    {
     "name": "stdout",
     "output_type": "stream",
     "text": [
      "Evaluation of engine: -95.0\n",
      "Current board score: -185\n",
      "Current entries in Cache: 11851\n",
      "Cleared Cache with 11851\n",
      " 11.057111 seconds (38.57 M allocations: 2.301 GiB, 4.99% gc time)\n",
      "Inkremental score is -185 but should be -125\n"
     ]
    },
    {
     "data": {
      "text/html": [
       "Board:<div class=\"chessboard\"><style soped=\"true\">.dark-square {\n",
       "    fill: #c3936a;\n",
       "    stroke-width: 0;\n",
       "}\n",
       ".light-square {\n",
       "    fill: #ffd7a6;\n",
       "    stroke-width: 0;\n",
       "}\n",
       ".highlight {\n",
       "    fill: #47d18b;\n",
       "}\n",
       "@media (prefers-color-scheme: dark) {\n",
       "    .dark-square {\n",
       "        fill: #00796b;\n",
       "    }\n",
       "    .light-square {\n",
       "        fill: #3ca59b;\n",
       "    }\n",
       "    .highlight {\n",
       "        fill: #d23600;\n",
       "    }\n",
       "}\n",
       "</style><svg style=\"float: left; margin-right: 20px\" viewBox=\"0 0 8 8\" height=\"280\" width=\"280\"><g><g><rect x=\"0\" y=\"0\" class=\"light-square\" height=\"1\" width=\"1\"></rect><image x=\"0\" xlink:href=\"https://raw.githubusercontent.com/romstad/Chess.jl/master/img/br.svg\" y=\"0\" height=\"1\" width=\"1\"></image></g><g><rect x=\"0\" y=\"1\" class=\"dark-square\" height=\"1\" width=\"1\"></rect><image x=\"0\" xlink:href=\"https://raw.githubusercontent.com/romstad/Chess.jl/master/img/bp.svg\" y=\"1\" height=\"1\" width=\"1\"></image></g><g><rect x=\"0\" y=\"2\" class=\"light-square\" height=\"1\" width=\"1\"></rect><g></g></g><g><rect x=\"0\" y=\"3\" class=\"dark-square\" height=\"1\" width=\"1\"></rect><g></g></g><g><rect x=\"0\" y=\"4\" class=\"light-square\" height=\"1\" width=\"1\"></rect><g></g></g><g><rect x=\"0\" y=\"5\" class=\"dark-square\" height=\"1\" width=\"1\"></rect><g></g></g><g><rect x=\"0\" y=\"6\" class=\"light-square\" height=\"1\" width=\"1\"></rect><image x=\"0\" xlink:href=\"https://raw.githubusercontent.com/romstad/Chess.jl/master/img/wp.svg\" y=\"6\" height=\"1\" width=\"1\"></image></g><g><rect x=\"0\" y=\"7\" class=\"dark-square\" height=\"1\" width=\"1\"></rect><g></g></g><g><rect x=\"1\" y=\"0\" class=\"dark-square\" height=\"1\" width=\"1\"></rect><g></g></g><g><rect x=\"1\" y=\"1\" class=\"light-square\" height=\"1\" width=\"1\"></rect><image x=\"1\" xlink:href=\"https://raw.githubusercontent.com/romstad/Chess.jl/master/img/bb.svg\" y=\"1\" height=\"1\" width=\"1\"></image></g><g><rect x=\"1\" y=\"2\" class=\"dark-square\" height=\"1\" width=\"1\"></rect><g></g></g><g><rect x=\"1\" y=\"3\" class=\"light-square\" height=\"1\" width=\"1\"></rect><g></g></g><g><rect x=\"1\" y=\"4\" class=\"dark-square\" height=\"1\" width=\"1\"></rect><g></g></g><g><rect x=\"1\" y=\"5\" class=\"light-square\" height=\"1\" width=\"1\"></rect><image x=\"1\" xlink:href=\"https://raw.githubusercontent.com/romstad/Chess.jl/master/img/wb.svg\" y=\"5\" height=\"1\" width=\"1\"></image></g><g><rect x=\"1\" y=\"6\" class=\"dark-square\" height=\"1\" width=\"1\"></rect><g></g></g><g><rect x=\"1\" y=\"7\" class=\"light-square\" height=\"1\" width=\"1\"></rect><g></g></g><g><rect x=\"2\" y=\"0\" class=\"light-square\" height=\"1\" width=\"1\"></rect><g></g></g><g><rect x=\"2\" y=\"1\" class=\"dark-square\" height=\"1\" width=\"1\"></rect><image x=\"2\" xlink:href=\"https://raw.githubusercontent.com/romstad/Chess.jl/master/img/bb.svg\" y=\"1\" height=\"1\" width=\"1\"></image></g><g><rect x=\"2\" y=\"2\" class=\"light-square\" height=\"1\" width=\"1\"></rect><image x=\"2\" xlink:href=\"https://raw.githubusercontent.com/romstad/Chess.jl/master/img/bp.svg\" y=\"2\" height=\"1\" width=\"1\"></image></g><g><rect x=\"2\" y=\"3\" class=\"dark-square\" height=\"1\" width=\"1\"></rect><image x=\"2\" xlink:href=\"https://raw.githubusercontent.com/romstad/Chess.jl/master/img/wb.svg\" y=\"3\" height=\"1\" width=\"1\"></image></g><g><rect x=\"2\" y=\"4\" class=\"light-square\" height=\"1\" width=\"1\"></rect><g></g></g><g><rect x=\"2\" y=\"5\" class=\"dark-square\" height=\"1\" width=\"1\"></rect><image x=\"2\" xlink:href=\"https://raw.githubusercontent.com/romstad/Chess.jl/master/img/wp.svg\" y=\"5\" height=\"1\" width=\"1\"></image></g><g><rect x=\"2\" y=\"6\" class=\"light-square\" height=\"1\" width=\"1\"></rect><g></g></g><g><rect x=\"2\" y=\"7\" class=\"dark-square\" height=\"1\" width=\"1\"></rect><g></g></g><g><rect x=\"3\" y=\"0\" class=\"dark-square\" height=\"1\" width=\"1\"></rect><g></g></g><g><rect x=\"3\" y=\"1\" class=\"light-square\" height=\"1\" width=\"1\"></rect><g></g></g><g><rect x=\"3\" y=\"2\" class=\"dark-square\" height=\"1\" width=\"1\"></rect><g></g></g><g><rect x=\"3\" y=\"3\" class=\"light-square\" height=\"1\" width=\"1\"></rect><image x=\"3\" xlink:href=\"https://raw.githubusercontent.com/romstad/Chess.jl/master/img/bp.svg\" y=\"3\" height=\"1\" width=\"1\"></image></g><g><rect x=\"3\" y=\"4\" class=\"dark-square\" height=\"1\" width=\"1\"></rect><g></g></g><g><rect x=\"3\" y=\"5\" class=\"light-square\" height=\"1\" width=\"1\"></rect><g></g></g><g><rect x=\"3\" y=\"6\" class=\"dark-square\" height=\"1\" width=\"1\"></rect><g></g></g><g><rect x=\"3\" y=\"7\" class=\"light-square\" height=\"1\" width=\"1\"></rect><image x=\"3\" xlink:href=\"https://raw.githubusercontent.com/romstad/Chess.jl/master/img/wr.svg\" y=\"7\" height=\"1\" width=\"1\"></image></g><g><rect x=\"4\" y=\"0\" class=\"light-square\" height=\"1\" width=\"1\"></rect><image x=\"4\" xlink:href=\"https://raw.githubusercontent.com/romstad/Chess.jl/master/img/bk.svg\" y=\"0\" height=\"1\" width=\"1\"></image></g><g><rect x=\"4\" y=\"1\" class=\"dark-square\" height=\"1\" width=\"1\"></rect><g></g></g><g><rect x=\"4\" y=\"2\" class=\"light-square\" height=\"1\" width=\"1\"></rect><g></g></g><g><rect x=\"4\" y=\"3\" class=\"dark-square\" height=\"1\" width=\"1\"></rect><image x=\"4\" xlink:href=\"https://raw.githubusercontent.com/romstad/Chess.jl/master/img/bp.svg\" y=\"3\" height=\"1\" width=\"1\"></image></g><g><rect x=\"4\" y=\"4\" class=\"light-square\" height=\"1\" width=\"1\"></rect><image x=\"4\" xlink:href=\"https://raw.githubusercontent.com/romstad/Chess.jl/master/img/wp.svg\" y=\"4\" height=\"1\" width=\"1\"></image></g><g><rect x=\"4\" y=\"5\" class=\"dark-square\" height=\"1\" width=\"1\"></rect><g></g></g><g><rect x=\"4\" y=\"6\" class=\"light-square\" height=\"1\" width=\"1\"></rect><g></g></g><g><rect x=\"4\" y=\"7\" class=\"dark-square\" height=\"1\" width=\"1\"></rect><image x=\"4\" xlink:href=\"https://raw.githubusercontent.com/romstad/Chess.jl/master/img/wr.svg\" y=\"7\" height=\"1\" width=\"1\"></image></g><g><rect x=\"5\" y=\"0\" class=\"dark-square\" height=\"1\" width=\"1\"></rect><g></g></g><g><rect x=\"5\" y=\"1\" class=\"light-square\" height=\"1\" width=\"1\"></rect><image x=\"5\" xlink:href=\"https://raw.githubusercontent.com/romstad/Chess.jl/master/img/bp.svg\" y=\"1\" height=\"1\" width=\"1\"></image></g><g><rect x=\"5\" y=\"2\" class=\"dark-square\" height=\"1\" width=\"1\"></rect><image x=\"5\" xlink:href=\"https://raw.githubusercontent.com/romstad/Chess.jl/master/img/bn.svg\" y=\"2\" height=\"1\" width=\"1\"></image></g><g><rect x=\"5\" y=\"3\" class=\"light-square\" height=\"1\" width=\"1\"></rect><g></g></g><g><rect x=\"5\" y=\"4\" class=\"dark-square\" height=\"1\" width=\"1\"></rect><g></g></g><g><rect x=\"5\" y=\"5\" class=\"light-square\" height=\"1\" width=\"1\"></rect><image x=\"5\" xlink:href=\"https://raw.githubusercontent.com/romstad/Chess.jl/master/img/wp.svg\" y=\"5\" height=\"1\" width=\"1\"></image></g><g><rect x=\"5\" y=\"6\" class=\"dark-square\" height=\"1\" width=\"1\"></rect><image x=\"5\" xlink:href=\"https://raw.githubusercontent.com/romstad/Chess.jl/master/img/wp.svg\" y=\"6\" height=\"1\" width=\"1\"></image></g><g><rect x=\"5\" y=\"7\" class=\"light-square\" height=\"1\" width=\"1\"></rect><g></g></g><g><rect x=\"6\" y=\"0\" class=\"light-square\" height=\"1\" width=\"1\"></rect><image x=\"6\" xlink:href=\"https://raw.githubusercontent.com/romstad/Chess.jl/master/img/br.svg\" y=\"0\" height=\"1\" width=\"1\"></image></g><g><rect x=\"6\" y=\"1\" class=\"dark-square\" height=\"1\" width=\"1\"></rect><image x=\"6\" xlink:href=\"https://raw.githubusercontent.com/romstad/Chess.jl/master/img/bp.svg\" y=\"1\" height=\"1\" width=\"1\"></image></g><g><rect x=\"6\" y=\"2\" class=\"light-square\" height=\"1\" width=\"1\"></rect><g></g></g><g><rect x=\"6\" y=\"3\" class=\"dark-square\" height=\"1\" width=\"1\"></rect><g></g></g><g><rect x=\"6\" y=\"4\" class=\"light-square\" height=\"1\" width=\"1\"></rect><g></g></g><g><rect x=\"6\" y=\"5\" class=\"dark-square\" height=\"1\" width=\"1\"></rect><image x=\"6\" xlink:href=\"https://raw.githubusercontent.com/romstad/Chess.jl/master/img/wn.svg\" y=\"5\" height=\"1\" width=\"1\"></image></g><g><rect x=\"6\" y=\"6\" class=\"light-square\" height=\"1\" width=\"1\"></rect><g></g></g><g><rect x=\"6\" y=\"7\" class=\"dark-square\" height=\"1\" width=\"1\"></rect><image x=\"6\" xlink:href=\"https://raw.githubusercontent.com/romstad/Chess.jl/master/img/wk.svg\" y=\"7\" height=\"1\" width=\"1\"></image></g><g><rect x=\"7\" y=\"0\" class=\"dark-square\" height=\"1\" width=\"1\"></rect><g></g></g><g><rect x=\"7\" y=\"1\" class=\"light-square\" height=\"1\" width=\"1\"></rect><g></g></g><g><rect x=\"7\" y=\"2\" class=\"dark-square\" height=\"1\" width=\"1\"></rect><image x=\"7\" xlink:href=\"https://raw.githubusercontent.com/romstad/Chess.jl/master/img/bp.svg\" y=\"2\" height=\"1\" width=\"1\"></image></g><g><rect x=\"7\" y=\"3\" class=\"light-square\" height=\"1\" width=\"1\"></rect><g></g></g><g><rect x=\"7\" y=\"4\" class=\"dark-square\" height=\"1\" width=\"1\"></rect><g></g></g><g><rect x=\"7\" y=\"5\" class=\"light-square\" height=\"1\" width=\"1\"></rect><g></g></g><g><rect x=\"7\" y=\"6\" class=\"dark-square\" height=\"1\" width=\"1\"></rect><image x=\"7\" xlink:href=\"https://raw.githubusercontent.com/romstad/Chess.jl/master/img/wp.svg\" y=\"6\" height=\"1\" width=\"1\"></image></g><g><rect x=\"7\" y=\"7\" class=\"light-square\" height=\"1\" width=\"1\"></rect><g></g></g></g><g></g></svg><div><p>White to move</p><p>Castle rights: q</p><p><a href=\"https://lichess.org/editor/r3k1r1/pbb2pp1/2p2n1p/2Bpp3/4P3/1BP2PN1/P4P1P/3RR1K1_w_q_-\" target=\"_blank\">Open in lichess</a></p></div></div>"
      ],
      "text/plain": [
       "Board (r3k1r1/pbb2pp1/2p2n1p/2Bpp3/4P3/1BP2PN1/P4P1P/3RR1K1 w q -):\n",
       " r  -  -  -  k  -  r  - \n",
       " p  b  b  -  -  p  p  - \n",
       " -  -  p  -  -  n  -  p \n",
       " -  -  B  p  p  -  -  - \n",
       " -  -  -  -  P  -  -  - \n",
       " -  B  P  -  -  P  N  - \n",
       " P  -  -  -  -  P  -  P \n",
       " -  -  -  R  R  -  K  - "
      ]
     },
     "metadata": {},
     "output_type": "display_data"
    },
    {
     "name": "stdout",
     "output_type": "stream",
     "text": [
      "Make a move. Type 'resign' to resign from the match\n",
      "stdin> h2h3\n",
      "Cleared Cache with 0\n",
      "Inkremental score is -185 but should be -125\n"
     ]
    },
    {
     "data": {
      "text/html": [
       "Board:<div class=\"chessboard\"><style soped=\"true\">.dark-square {\n",
       "    fill: #c3936a;\n",
       "    stroke-width: 0;\n",
       "}\n",
       ".light-square {\n",
       "    fill: #ffd7a6;\n",
       "    stroke-width: 0;\n",
       "}\n",
       ".highlight {\n",
       "    fill: #47d18b;\n",
       "}\n",
       "@media (prefers-color-scheme: dark) {\n",
       "    .dark-square {\n",
       "        fill: #00796b;\n",
       "    }\n",
       "    .light-square {\n",
       "        fill: #3ca59b;\n",
       "    }\n",
       "    .highlight {\n",
       "        fill: #d23600;\n",
       "    }\n",
       "}\n",
       "</style><svg style=\"float: left; margin-right: 20px\" viewBox=\"0 0 8 8\" height=\"280\" width=\"280\"><g><g><rect x=\"0\" y=\"0\" class=\"light-square\" height=\"1\" width=\"1\"></rect><image x=\"0\" xlink:href=\"https://raw.githubusercontent.com/romstad/Chess.jl/master/img/br.svg\" y=\"0\" height=\"1\" width=\"1\"></image></g><g><rect x=\"0\" y=\"1\" class=\"dark-square\" height=\"1\" width=\"1\"></rect><image x=\"0\" xlink:href=\"https://raw.githubusercontent.com/romstad/Chess.jl/master/img/bp.svg\" y=\"1\" height=\"1\" width=\"1\"></image></g><g><rect x=\"0\" y=\"2\" class=\"light-square\" height=\"1\" width=\"1\"></rect><g></g></g><g><rect x=\"0\" y=\"3\" class=\"dark-square\" height=\"1\" width=\"1\"></rect><g></g></g><g><rect x=\"0\" y=\"4\" class=\"light-square\" height=\"1\" width=\"1\"></rect><g></g></g><g><rect x=\"0\" y=\"5\" class=\"dark-square\" height=\"1\" width=\"1\"></rect><g></g></g><g><rect x=\"0\" y=\"6\" class=\"light-square\" height=\"1\" width=\"1\"></rect><image x=\"0\" xlink:href=\"https://raw.githubusercontent.com/romstad/Chess.jl/master/img/wp.svg\" y=\"6\" height=\"1\" width=\"1\"></image></g><g><rect x=\"0\" y=\"7\" class=\"dark-square\" height=\"1\" width=\"1\"></rect><g></g></g><g><rect x=\"1\" y=\"0\" class=\"dark-square\" height=\"1\" width=\"1\"></rect><g></g></g><g><rect x=\"1\" y=\"1\" class=\"light-square\" height=\"1\" width=\"1\"></rect><image x=\"1\" xlink:href=\"https://raw.githubusercontent.com/romstad/Chess.jl/master/img/bb.svg\" y=\"1\" height=\"1\" width=\"1\"></image></g><g><rect x=\"1\" y=\"2\" class=\"dark-square\" height=\"1\" width=\"1\"></rect><g></g></g><g><rect x=\"1\" y=\"3\" class=\"light-square\" height=\"1\" width=\"1\"></rect><g></g></g><g><rect x=\"1\" y=\"4\" class=\"dark-square\" height=\"1\" width=\"1\"></rect><g></g></g><g><rect x=\"1\" y=\"5\" class=\"light-square\" height=\"1\" width=\"1\"></rect><image x=\"1\" xlink:href=\"https://raw.githubusercontent.com/romstad/Chess.jl/master/img/wb.svg\" y=\"5\" height=\"1\" width=\"1\"></image></g><g><rect x=\"1\" y=\"6\" class=\"dark-square\" height=\"1\" width=\"1\"></rect><g></g></g><g><rect x=\"1\" y=\"7\" class=\"light-square\" height=\"1\" width=\"1\"></rect><g></g></g><g><rect x=\"2\" y=\"0\" class=\"light-square\" height=\"1\" width=\"1\"></rect><g></g></g><g><rect x=\"2\" y=\"1\" class=\"dark-square\" height=\"1\" width=\"1\"></rect><image x=\"2\" xlink:href=\"https://raw.githubusercontent.com/romstad/Chess.jl/master/img/bb.svg\" y=\"1\" height=\"1\" width=\"1\"></image></g><g><rect x=\"2\" y=\"2\" class=\"light-square\" height=\"1\" width=\"1\"></rect><image x=\"2\" xlink:href=\"https://raw.githubusercontent.com/romstad/Chess.jl/master/img/bp.svg\" y=\"2\" height=\"1\" width=\"1\"></image></g><g><rect x=\"2\" y=\"3\" class=\"dark-square\" height=\"1\" width=\"1\"></rect><image x=\"2\" xlink:href=\"https://raw.githubusercontent.com/romstad/Chess.jl/master/img/wb.svg\" y=\"3\" height=\"1\" width=\"1\"></image></g><g><rect x=\"2\" y=\"4\" class=\"light-square\" height=\"1\" width=\"1\"></rect><g></g></g><g><rect x=\"2\" y=\"5\" class=\"dark-square\" height=\"1\" width=\"1\"></rect><image x=\"2\" xlink:href=\"https://raw.githubusercontent.com/romstad/Chess.jl/master/img/wp.svg\" y=\"5\" height=\"1\" width=\"1\"></image></g><g><rect x=\"2\" y=\"6\" class=\"light-square\" height=\"1\" width=\"1\"></rect><g></g></g><g><rect x=\"2\" y=\"7\" class=\"dark-square\" height=\"1\" width=\"1\"></rect><g></g></g><g><rect x=\"3\" y=\"0\" class=\"dark-square\" height=\"1\" width=\"1\"></rect><g></g></g><g><rect x=\"3\" y=\"1\" class=\"light-square\" height=\"1\" width=\"1\"></rect><g></g></g><g><rect x=\"3\" y=\"2\" class=\"dark-square\" height=\"1\" width=\"1\"></rect><g></g></g><g><rect x=\"3\" y=\"3\" class=\"light-square\" height=\"1\" width=\"1\"></rect><image x=\"3\" xlink:href=\"https://raw.githubusercontent.com/romstad/Chess.jl/master/img/bp.svg\" y=\"3\" height=\"1\" width=\"1\"></image></g><g><rect x=\"3\" y=\"4\" class=\"dark-square\" height=\"1\" width=\"1\"></rect><g></g></g><g><rect x=\"3\" y=\"5\" class=\"light-square\" height=\"1\" width=\"1\"></rect><g></g></g><g><rect x=\"3\" y=\"6\" class=\"dark-square\" height=\"1\" width=\"1\"></rect><g></g></g><g><rect x=\"3\" y=\"7\" class=\"light-square\" height=\"1\" width=\"1\"></rect><image x=\"3\" xlink:href=\"https://raw.githubusercontent.com/romstad/Chess.jl/master/img/wr.svg\" y=\"7\" height=\"1\" width=\"1\"></image></g><g><rect x=\"4\" y=\"0\" class=\"light-square\" height=\"1\" width=\"1\"></rect><image x=\"4\" xlink:href=\"https://raw.githubusercontent.com/romstad/Chess.jl/master/img/bk.svg\" y=\"0\" height=\"1\" width=\"1\"></image></g><g><rect x=\"4\" y=\"1\" class=\"dark-square\" height=\"1\" width=\"1\"></rect><g></g></g><g><rect x=\"4\" y=\"2\" class=\"light-square\" height=\"1\" width=\"1\"></rect><g></g></g><g><rect x=\"4\" y=\"3\" class=\"dark-square\" height=\"1\" width=\"1\"></rect><image x=\"4\" xlink:href=\"https://raw.githubusercontent.com/romstad/Chess.jl/master/img/bp.svg\" y=\"3\" height=\"1\" width=\"1\"></image></g><g><rect x=\"4\" y=\"4\" class=\"light-square\" height=\"1\" width=\"1\"></rect><image x=\"4\" xlink:href=\"https://raw.githubusercontent.com/romstad/Chess.jl/master/img/wp.svg\" y=\"4\" height=\"1\" width=\"1\"></image></g><g><rect x=\"4\" y=\"5\" class=\"dark-square\" height=\"1\" width=\"1\"></rect><g></g></g><g><rect x=\"4\" y=\"6\" class=\"light-square\" height=\"1\" width=\"1\"></rect><g></g></g><g><rect x=\"4\" y=\"7\" class=\"dark-square\" height=\"1\" width=\"1\"></rect><image x=\"4\" xlink:href=\"https://raw.githubusercontent.com/romstad/Chess.jl/master/img/wr.svg\" y=\"7\" height=\"1\" width=\"1\"></image></g><g><rect x=\"5\" y=\"0\" class=\"dark-square\" height=\"1\" width=\"1\"></rect><g></g></g><g><rect x=\"5\" y=\"1\" class=\"light-square\" height=\"1\" width=\"1\"></rect><image x=\"5\" xlink:href=\"https://raw.githubusercontent.com/romstad/Chess.jl/master/img/bp.svg\" y=\"1\" height=\"1\" width=\"1\"></image></g><g><rect x=\"5\" y=\"2\" class=\"dark-square\" height=\"1\" width=\"1\"></rect><image x=\"5\" xlink:href=\"https://raw.githubusercontent.com/romstad/Chess.jl/master/img/bn.svg\" y=\"2\" height=\"1\" width=\"1\"></image></g><g><rect x=\"5\" y=\"3\" class=\"light-square\" height=\"1\" width=\"1\"></rect><g></g></g><g><rect x=\"5\" y=\"4\" class=\"dark-square\" height=\"1\" width=\"1\"></rect><g></g></g><g><rect x=\"5\" y=\"5\" class=\"light-square\" height=\"1\" width=\"1\"></rect><image x=\"5\" xlink:href=\"https://raw.githubusercontent.com/romstad/Chess.jl/master/img/wp.svg\" y=\"5\" height=\"1\" width=\"1\"></image></g><g><rect x=\"5\" y=\"6\" class=\"dark-square\" height=\"1\" width=\"1\"></rect><image x=\"5\" xlink:href=\"https://raw.githubusercontent.com/romstad/Chess.jl/master/img/wp.svg\" y=\"6\" height=\"1\" width=\"1\"></image></g><g><rect x=\"5\" y=\"7\" class=\"light-square\" height=\"1\" width=\"1\"></rect><g></g></g><g><rect x=\"6\" y=\"0\" class=\"light-square\" height=\"1\" width=\"1\"></rect><image x=\"6\" xlink:href=\"https://raw.githubusercontent.com/romstad/Chess.jl/master/img/br.svg\" y=\"0\" height=\"1\" width=\"1\"></image></g><g><rect x=\"6\" y=\"1\" class=\"dark-square\" height=\"1\" width=\"1\"></rect><image x=\"6\" xlink:href=\"https://raw.githubusercontent.com/romstad/Chess.jl/master/img/bp.svg\" y=\"1\" height=\"1\" width=\"1\"></image></g><g><rect x=\"6\" y=\"2\" class=\"light-square\" height=\"1\" width=\"1\"></rect><g></g></g><g><rect x=\"6\" y=\"3\" class=\"dark-square\" height=\"1\" width=\"1\"></rect><g></g></g><g><rect x=\"6\" y=\"4\" class=\"light-square\" height=\"1\" width=\"1\"></rect><g></g></g><g><rect x=\"6\" y=\"5\" class=\"dark-square\" height=\"1\" width=\"1\"></rect><image x=\"6\" xlink:href=\"https://raw.githubusercontent.com/romstad/Chess.jl/master/img/wn.svg\" y=\"5\" height=\"1\" width=\"1\"></image></g><g><rect x=\"6\" y=\"6\" class=\"light-square\" height=\"1\" width=\"1\"></rect><g></g></g><g><rect x=\"6\" y=\"7\" class=\"dark-square\" height=\"1\" width=\"1\"></rect><image x=\"6\" xlink:href=\"https://raw.githubusercontent.com/romstad/Chess.jl/master/img/wk.svg\" y=\"7\" height=\"1\" width=\"1\"></image></g><g><rect x=\"7\" y=\"0\" class=\"dark-square\" height=\"1\" width=\"1\"></rect><g></g></g><g><rect x=\"7\" y=\"1\" class=\"light-square\" height=\"1\" width=\"1\"></rect><g></g></g><g><rect x=\"7\" y=\"2\" class=\"dark-square\" height=\"1\" width=\"1\"></rect><image x=\"7\" xlink:href=\"https://raw.githubusercontent.com/romstad/Chess.jl/master/img/bp.svg\" y=\"2\" height=\"1\" width=\"1\"></image></g><g><rect x=\"7\" y=\"3\" class=\"light-square\" height=\"1\" width=\"1\"></rect><g></g></g><g><rect x=\"7\" y=\"4\" class=\"dark-square\" height=\"1\" width=\"1\"></rect><g></g></g><g><rect x=\"7\" y=\"5\" class=\"light-square\" height=\"1\" width=\"1\"></rect><image x=\"7\" xlink:href=\"https://raw.githubusercontent.com/romstad/Chess.jl/master/img/wp.svg\" y=\"5\" height=\"1\" width=\"1\"></image></g><g><rect x=\"7\" y=\"6\" class=\"dark-square\" height=\"1\" width=\"1\"></rect><g></g></g><g><rect x=\"7\" y=\"7\" class=\"light-square\" height=\"1\" width=\"1\"></rect><g></g></g></g><g></g></svg><div><p>Black to move</p><p>Castle rights: q</p><p><a href=\"https://lichess.org/editor/r3k1r1/pbb2pp1/2p2n1p/2Bpp3/4P3/1BP2PNP/P4P2/3RR1K1_b_q_-\" target=\"_blank\">Open in lichess</a></p></div></div>"
      ],
      "text/plain": [
       "Board (r3k1r1/pbb2pp1/2p2n1p/2Bpp3/4P3/1BP2PNP/P4P2/3RR1K1 b q -):\n",
       " r  -  -  -  k  -  r  - \n",
       " p  b  b  -  -  p  p  - \n",
       " -  -  p  -  -  n  -  p \n",
       " -  -  B  p  p  -  -  - \n",
       " -  -  -  -  P  -  -  - \n",
       " -  B  P  -  -  P  N  P \n",
       " P  -  -  -  -  P  -  - \n",
       " -  -  -  R  R  -  K  - "
      ]
     },
     "metadata": {},
     "output_type": "display_data"
    },
    {
     "name": "stdout",
     "output_type": "stream",
     "text": [
      "Evaluation of engine: -95.0\n",
      "Current board score: -185\n",
      "Current entries in Cache: 10552\n",
      "Cleared Cache with 10552\n",
      "  9.575260 seconds (34.18 M allocations: 2.038 GiB, 4.68% gc time)\n",
      "Inkremental score is -185 but should be -125\n"
     ]
    },
    {
     "data": {
      "text/html": [
       "Board:<div class=\"chessboard\"><style soped=\"true\">.dark-square {\n",
       "    fill: #c3936a;\n",
       "    stroke-width: 0;\n",
       "}\n",
       ".light-square {\n",
       "    fill: #ffd7a6;\n",
       "    stroke-width: 0;\n",
       "}\n",
       ".highlight {\n",
       "    fill: #47d18b;\n",
       "}\n",
       "@media (prefers-color-scheme: dark) {\n",
       "    .dark-square {\n",
       "        fill: #00796b;\n",
       "    }\n",
       "    .light-square {\n",
       "        fill: #3ca59b;\n",
       "    }\n",
       "    .highlight {\n",
       "        fill: #d23600;\n",
       "    }\n",
       "}\n",
       "</style><svg style=\"float: left; margin-right: 20px\" viewBox=\"0 0 8 8\" height=\"280\" width=\"280\"><g><g><rect x=\"0\" y=\"0\" class=\"light-square\" height=\"1\" width=\"1\"></rect><image x=\"0\" xlink:href=\"https://raw.githubusercontent.com/romstad/Chess.jl/master/img/br.svg\" y=\"0\" height=\"1\" width=\"1\"></image></g><g><rect x=\"0\" y=\"1\" class=\"dark-square\" height=\"1\" width=\"1\"></rect><g></g></g><g><rect x=\"0\" y=\"2\" class=\"light-square\" height=\"1\" width=\"1\"></rect><image x=\"0\" xlink:href=\"https://raw.githubusercontent.com/romstad/Chess.jl/master/img/bp.svg\" y=\"2\" height=\"1\" width=\"1\"></image></g><g><rect x=\"0\" y=\"3\" class=\"dark-square\" height=\"1\" width=\"1\"></rect><g></g></g><g><rect x=\"0\" y=\"4\" class=\"light-square\" height=\"1\" width=\"1\"></rect><g></g></g><g><rect x=\"0\" y=\"5\" class=\"dark-square\" height=\"1\" width=\"1\"></rect><g></g></g><g><rect x=\"0\" y=\"6\" class=\"light-square\" height=\"1\" width=\"1\"></rect><image x=\"0\" xlink:href=\"https://raw.githubusercontent.com/romstad/Chess.jl/master/img/wp.svg\" y=\"6\" height=\"1\" width=\"1\"></image></g><g><rect x=\"0\" y=\"7\" class=\"dark-square\" height=\"1\" width=\"1\"></rect><g></g></g><g><rect x=\"1\" y=\"0\" class=\"dark-square\" height=\"1\" width=\"1\"></rect><g></g></g><g><rect x=\"1\" y=\"1\" class=\"light-square\" height=\"1\" width=\"1\"></rect><image x=\"1\" xlink:href=\"https://raw.githubusercontent.com/romstad/Chess.jl/master/img/bb.svg\" y=\"1\" height=\"1\" width=\"1\"></image></g><g><rect x=\"1\" y=\"2\" class=\"dark-square\" height=\"1\" width=\"1\"></rect><g></g></g><g><rect x=\"1\" y=\"3\" class=\"light-square\" height=\"1\" width=\"1\"></rect><g></g></g><g><rect x=\"1\" y=\"4\" class=\"dark-square\" height=\"1\" width=\"1\"></rect><g></g></g><g><rect x=\"1\" y=\"5\" class=\"light-square\" height=\"1\" width=\"1\"></rect><image x=\"1\" xlink:href=\"https://raw.githubusercontent.com/romstad/Chess.jl/master/img/wb.svg\" y=\"5\" height=\"1\" width=\"1\"></image></g><g><rect x=\"1\" y=\"6\" class=\"dark-square\" height=\"1\" width=\"1\"></rect><g></g></g><g><rect x=\"1\" y=\"7\" class=\"light-square\" height=\"1\" width=\"1\"></rect><g></g></g><g><rect x=\"2\" y=\"0\" class=\"light-square\" height=\"1\" width=\"1\"></rect><g></g></g><g><rect x=\"2\" y=\"1\" class=\"dark-square\" height=\"1\" width=\"1\"></rect><image x=\"2\" xlink:href=\"https://raw.githubusercontent.com/romstad/Chess.jl/master/img/bb.svg\" y=\"1\" height=\"1\" width=\"1\"></image></g><g><rect x=\"2\" y=\"2\" class=\"light-square\" height=\"1\" width=\"1\"></rect><image x=\"2\" xlink:href=\"https://raw.githubusercontent.com/romstad/Chess.jl/master/img/bp.svg\" y=\"2\" height=\"1\" width=\"1\"></image></g><g><rect x=\"2\" y=\"3\" class=\"dark-square\" height=\"1\" width=\"1\"></rect><image x=\"2\" xlink:href=\"https://raw.githubusercontent.com/romstad/Chess.jl/master/img/wb.svg\" y=\"3\" height=\"1\" width=\"1\"></image></g><g><rect x=\"2\" y=\"4\" class=\"light-square\" height=\"1\" width=\"1\"></rect><g></g></g><g><rect x=\"2\" y=\"5\" class=\"dark-square\" height=\"1\" width=\"1\"></rect><image x=\"2\" xlink:href=\"https://raw.githubusercontent.com/romstad/Chess.jl/master/img/wp.svg\" y=\"5\" height=\"1\" width=\"1\"></image></g><g><rect x=\"2\" y=\"6\" class=\"light-square\" height=\"1\" width=\"1\"></rect><g></g></g><g><rect x=\"2\" y=\"7\" class=\"dark-square\" height=\"1\" width=\"1\"></rect><g></g></g><g><rect x=\"3\" y=\"0\" class=\"dark-square\" height=\"1\" width=\"1\"></rect><g></g></g><g><rect x=\"3\" y=\"1\" class=\"light-square\" height=\"1\" width=\"1\"></rect><g></g></g><g><rect x=\"3\" y=\"2\" class=\"dark-square\" height=\"1\" width=\"1\"></rect><g></g></g><g><rect x=\"3\" y=\"3\" class=\"light-square\" height=\"1\" width=\"1\"></rect><image x=\"3\" xlink:href=\"https://raw.githubusercontent.com/romstad/Chess.jl/master/img/bp.svg\" y=\"3\" height=\"1\" width=\"1\"></image></g><g><rect x=\"3\" y=\"4\" class=\"dark-square\" height=\"1\" width=\"1\"></rect><g></g></g><g><rect x=\"3\" y=\"5\" class=\"light-square\" height=\"1\" width=\"1\"></rect><g></g></g><g><rect x=\"3\" y=\"6\" class=\"dark-square\" height=\"1\" width=\"1\"></rect><g></g></g><g><rect x=\"3\" y=\"7\" class=\"light-square\" height=\"1\" width=\"1\"></rect><image x=\"3\" xlink:href=\"https://raw.githubusercontent.com/romstad/Chess.jl/master/img/wr.svg\" y=\"7\" height=\"1\" width=\"1\"></image></g><g><rect x=\"4\" y=\"0\" class=\"light-square\" height=\"1\" width=\"1\"></rect><image x=\"4\" xlink:href=\"https://raw.githubusercontent.com/romstad/Chess.jl/master/img/bk.svg\" y=\"0\" height=\"1\" width=\"1\"></image></g><g><rect x=\"4\" y=\"1\" class=\"dark-square\" height=\"1\" width=\"1\"></rect><g></g></g><g><rect x=\"4\" y=\"2\" class=\"light-square\" height=\"1\" width=\"1\"></rect><g></g></g><g><rect x=\"4\" y=\"3\" class=\"dark-square\" height=\"1\" width=\"1\"></rect><image x=\"4\" xlink:href=\"https://raw.githubusercontent.com/romstad/Chess.jl/master/img/bp.svg\" y=\"3\" height=\"1\" width=\"1\"></image></g><g><rect x=\"4\" y=\"4\" class=\"light-square\" height=\"1\" width=\"1\"></rect><image x=\"4\" xlink:href=\"https://raw.githubusercontent.com/romstad/Chess.jl/master/img/wp.svg\" y=\"4\" height=\"1\" width=\"1\"></image></g><g><rect x=\"4\" y=\"5\" class=\"dark-square\" height=\"1\" width=\"1\"></rect><g></g></g><g><rect x=\"4\" y=\"6\" class=\"light-square\" height=\"1\" width=\"1\"></rect><g></g></g><g><rect x=\"4\" y=\"7\" class=\"dark-square\" height=\"1\" width=\"1\"></rect><image x=\"4\" xlink:href=\"https://raw.githubusercontent.com/romstad/Chess.jl/master/img/wr.svg\" y=\"7\" height=\"1\" width=\"1\"></image></g><g><rect x=\"5\" y=\"0\" class=\"dark-square\" height=\"1\" width=\"1\"></rect><g></g></g><g><rect x=\"5\" y=\"1\" class=\"light-square\" height=\"1\" width=\"1\"></rect><image x=\"5\" xlink:href=\"https://raw.githubusercontent.com/romstad/Chess.jl/master/img/bp.svg\" y=\"1\" height=\"1\" width=\"1\"></image></g><g><rect x=\"5\" y=\"2\" class=\"dark-square\" height=\"1\" width=\"1\"></rect><image x=\"5\" xlink:href=\"https://raw.githubusercontent.com/romstad/Chess.jl/master/img/bn.svg\" y=\"2\" height=\"1\" width=\"1\"></image></g><g><rect x=\"5\" y=\"3\" class=\"light-square\" height=\"1\" width=\"1\"></rect><g></g></g><g><rect x=\"5\" y=\"4\" class=\"dark-square\" height=\"1\" width=\"1\"></rect><g></g></g><g><rect x=\"5\" y=\"5\" class=\"light-square\" height=\"1\" width=\"1\"></rect><image x=\"5\" xlink:href=\"https://raw.githubusercontent.com/romstad/Chess.jl/master/img/wp.svg\" y=\"5\" height=\"1\" width=\"1\"></image></g><g><rect x=\"5\" y=\"6\" class=\"dark-square\" height=\"1\" width=\"1\"></rect><image x=\"5\" xlink:href=\"https://raw.githubusercontent.com/romstad/Chess.jl/master/img/wp.svg\" y=\"6\" height=\"1\" width=\"1\"></image></g><g><rect x=\"5\" y=\"7\" class=\"light-square\" height=\"1\" width=\"1\"></rect><g></g></g><g><rect x=\"6\" y=\"0\" class=\"light-square\" height=\"1\" width=\"1\"></rect><image x=\"6\" xlink:href=\"https://raw.githubusercontent.com/romstad/Chess.jl/master/img/br.svg\" y=\"0\" height=\"1\" width=\"1\"></image></g><g><rect x=\"6\" y=\"1\" class=\"dark-square\" height=\"1\" width=\"1\"></rect><image x=\"6\" xlink:href=\"https://raw.githubusercontent.com/romstad/Chess.jl/master/img/bp.svg\" y=\"1\" height=\"1\" width=\"1\"></image></g><g><rect x=\"6\" y=\"2\" class=\"light-square\" height=\"1\" width=\"1\"></rect><g></g></g><g><rect x=\"6\" y=\"3\" class=\"dark-square\" height=\"1\" width=\"1\"></rect><g></g></g><g><rect x=\"6\" y=\"4\" class=\"light-square\" height=\"1\" width=\"1\"></rect><g></g></g><g><rect x=\"6\" y=\"5\" class=\"dark-square\" height=\"1\" width=\"1\"></rect><image x=\"6\" xlink:href=\"https://raw.githubusercontent.com/romstad/Chess.jl/master/img/wn.svg\" y=\"5\" height=\"1\" width=\"1\"></image></g><g><rect x=\"6\" y=\"6\" class=\"light-square\" height=\"1\" width=\"1\"></rect><g></g></g><g><rect x=\"6\" y=\"7\" class=\"dark-square\" height=\"1\" width=\"1\"></rect><image x=\"6\" xlink:href=\"https://raw.githubusercontent.com/romstad/Chess.jl/master/img/wk.svg\" y=\"7\" height=\"1\" width=\"1\"></image></g><g><rect x=\"7\" y=\"0\" class=\"dark-square\" height=\"1\" width=\"1\"></rect><g></g></g><g><rect x=\"7\" y=\"1\" class=\"light-square\" height=\"1\" width=\"1\"></rect><g></g></g><g><rect x=\"7\" y=\"2\" class=\"dark-square\" height=\"1\" width=\"1\"></rect><image x=\"7\" xlink:href=\"https://raw.githubusercontent.com/romstad/Chess.jl/master/img/bp.svg\" y=\"2\" height=\"1\" width=\"1\"></image></g><g><rect x=\"7\" y=\"3\" class=\"light-square\" height=\"1\" width=\"1\"></rect><g></g></g><g><rect x=\"7\" y=\"4\" class=\"dark-square\" height=\"1\" width=\"1\"></rect><g></g></g><g><rect x=\"7\" y=\"5\" class=\"light-square\" height=\"1\" width=\"1\"></rect><image x=\"7\" xlink:href=\"https://raw.githubusercontent.com/romstad/Chess.jl/master/img/wp.svg\" y=\"5\" height=\"1\" width=\"1\"></image></g><g><rect x=\"7\" y=\"6\" class=\"dark-square\" height=\"1\" width=\"1\"></rect><g></g></g><g><rect x=\"7\" y=\"7\" class=\"light-square\" height=\"1\" width=\"1\"></rect><g></g></g></g><g></g></svg><div><p>White to move</p><p>Castle rights: q</p><p><a href=\"https://lichess.org/editor/r3k1r1/1bb2pp1/p1p2n1p/2Bpp3/4P3/1BP2PNP/P4P2/3RR1K1_w_q_-\" target=\"_blank\">Open in lichess</a></p></div></div>"
      ],
      "text/plain": [
       "Board (r3k1r1/1bb2pp1/p1p2n1p/2Bpp3/4P3/1BP2PNP/P4P2/3RR1K1 w q -):\n",
       " r  -  -  -  k  -  r  - \n",
       " -  b  b  -  -  p  p  - \n",
       " p  -  p  -  -  n  -  p \n",
       " -  -  B  p  p  -  -  - \n",
       " -  -  -  -  P  -  -  - \n",
       " -  B  P  -  -  P  N  P \n",
       " P  -  -  -  -  P  -  - \n",
       " -  -  -  R  R  -  K  - "
      ]
     },
     "metadata": {},
     "output_type": "display_data"
    },
    {
     "name": "stdout",
     "output_type": "stream",
     "text": [
      "Make a move. Type 'resign' to resign from the match\n",
      "stdin> g1g2\n",
      "Cleared Cache with 0\n",
      "Inkremental score is -185 but should be -125\n"
     ]
    },
    {
     "data": {
      "text/html": [
       "Board:<div class=\"chessboard\"><style soped=\"true\">.dark-square {\n",
       "    fill: #c3936a;\n",
       "    stroke-width: 0;\n",
       "}\n",
       ".light-square {\n",
       "    fill: #ffd7a6;\n",
       "    stroke-width: 0;\n",
       "}\n",
       ".highlight {\n",
       "    fill: #47d18b;\n",
       "}\n",
       "@media (prefers-color-scheme: dark) {\n",
       "    .dark-square {\n",
       "        fill: #00796b;\n",
       "    }\n",
       "    .light-square {\n",
       "        fill: #3ca59b;\n",
       "    }\n",
       "    .highlight {\n",
       "        fill: #d23600;\n",
       "    }\n",
       "}\n",
       "</style><svg style=\"float: left; margin-right: 20px\" viewBox=\"0 0 8 8\" height=\"280\" width=\"280\"><g><g><rect x=\"0\" y=\"0\" class=\"light-square\" height=\"1\" width=\"1\"></rect><image x=\"0\" xlink:href=\"https://raw.githubusercontent.com/romstad/Chess.jl/master/img/br.svg\" y=\"0\" height=\"1\" width=\"1\"></image></g><g><rect x=\"0\" y=\"1\" class=\"dark-square\" height=\"1\" width=\"1\"></rect><g></g></g><g><rect x=\"0\" y=\"2\" class=\"light-square\" height=\"1\" width=\"1\"></rect><image x=\"0\" xlink:href=\"https://raw.githubusercontent.com/romstad/Chess.jl/master/img/bp.svg\" y=\"2\" height=\"1\" width=\"1\"></image></g><g><rect x=\"0\" y=\"3\" class=\"dark-square\" height=\"1\" width=\"1\"></rect><g></g></g><g><rect x=\"0\" y=\"4\" class=\"light-square\" height=\"1\" width=\"1\"></rect><g></g></g><g><rect x=\"0\" y=\"5\" class=\"dark-square\" height=\"1\" width=\"1\"></rect><g></g></g><g><rect x=\"0\" y=\"6\" class=\"light-square\" height=\"1\" width=\"1\"></rect><image x=\"0\" xlink:href=\"https://raw.githubusercontent.com/romstad/Chess.jl/master/img/wp.svg\" y=\"6\" height=\"1\" width=\"1\"></image></g><g><rect x=\"0\" y=\"7\" class=\"dark-square\" height=\"1\" width=\"1\"></rect><g></g></g><g><rect x=\"1\" y=\"0\" class=\"dark-square\" height=\"1\" width=\"1\"></rect><g></g></g><g><rect x=\"1\" y=\"1\" class=\"light-square\" height=\"1\" width=\"1\"></rect><image x=\"1\" xlink:href=\"https://raw.githubusercontent.com/romstad/Chess.jl/master/img/bb.svg\" y=\"1\" height=\"1\" width=\"1\"></image></g><g><rect x=\"1\" y=\"2\" class=\"dark-square\" height=\"1\" width=\"1\"></rect><g></g></g><g><rect x=\"1\" y=\"3\" class=\"light-square\" height=\"1\" width=\"1\"></rect><g></g></g><g><rect x=\"1\" y=\"4\" class=\"dark-square\" height=\"1\" width=\"1\"></rect><g></g></g><g><rect x=\"1\" y=\"5\" class=\"light-square\" height=\"1\" width=\"1\"></rect><image x=\"1\" xlink:href=\"https://raw.githubusercontent.com/romstad/Chess.jl/master/img/wb.svg\" y=\"5\" height=\"1\" width=\"1\"></image></g><g><rect x=\"1\" y=\"6\" class=\"dark-square\" height=\"1\" width=\"1\"></rect><g></g></g><g><rect x=\"1\" y=\"7\" class=\"light-square\" height=\"1\" width=\"1\"></rect><g></g></g><g><rect x=\"2\" y=\"0\" class=\"light-square\" height=\"1\" width=\"1\"></rect><g></g></g><g><rect x=\"2\" y=\"1\" class=\"dark-square\" height=\"1\" width=\"1\"></rect><image x=\"2\" xlink:href=\"https://raw.githubusercontent.com/romstad/Chess.jl/master/img/bb.svg\" y=\"1\" height=\"1\" width=\"1\"></image></g><g><rect x=\"2\" y=\"2\" class=\"light-square\" height=\"1\" width=\"1\"></rect><image x=\"2\" xlink:href=\"https://raw.githubusercontent.com/romstad/Chess.jl/master/img/bp.svg\" y=\"2\" height=\"1\" width=\"1\"></image></g><g><rect x=\"2\" y=\"3\" class=\"dark-square\" height=\"1\" width=\"1\"></rect><image x=\"2\" xlink:href=\"https://raw.githubusercontent.com/romstad/Chess.jl/master/img/wb.svg\" y=\"3\" height=\"1\" width=\"1\"></image></g><g><rect x=\"2\" y=\"4\" class=\"light-square\" height=\"1\" width=\"1\"></rect><g></g></g><g><rect x=\"2\" y=\"5\" class=\"dark-square\" height=\"1\" width=\"1\"></rect><image x=\"2\" xlink:href=\"https://raw.githubusercontent.com/romstad/Chess.jl/master/img/wp.svg\" y=\"5\" height=\"1\" width=\"1\"></image></g><g><rect x=\"2\" y=\"6\" class=\"light-square\" height=\"1\" width=\"1\"></rect><g></g></g><g><rect x=\"2\" y=\"7\" class=\"dark-square\" height=\"1\" width=\"1\"></rect><g></g></g><g><rect x=\"3\" y=\"0\" class=\"dark-square\" height=\"1\" width=\"1\"></rect><g></g></g><g><rect x=\"3\" y=\"1\" class=\"light-square\" height=\"1\" width=\"1\"></rect><g></g></g><g><rect x=\"3\" y=\"2\" class=\"dark-square\" height=\"1\" width=\"1\"></rect><g></g></g><g><rect x=\"3\" y=\"3\" class=\"light-square\" height=\"1\" width=\"1\"></rect><image x=\"3\" xlink:href=\"https://raw.githubusercontent.com/romstad/Chess.jl/master/img/bp.svg\" y=\"3\" height=\"1\" width=\"1\"></image></g><g><rect x=\"3\" y=\"4\" class=\"dark-square\" height=\"1\" width=\"1\"></rect><g></g></g><g><rect x=\"3\" y=\"5\" class=\"light-square\" height=\"1\" width=\"1\"></rect><g></g></g><g><rect x=\"3\" y=\"6\" class=\"dark-square\" height=\"1\" width=\"1\"></rect><g></g></g><g><rect x=\"3\" y=\"7\" class=\"light-square\" height=\"1\" width=\"1\"></rect><image x=\"3\" xlink:href=\"https://raw.githubusercontent.com/romstad/Chess.jl/master/img/wr.svg\" y=\"7\" height=\"1\" width=\"1\"></image></g><g><rect x=\"4\" y=\"0\" class=\"light-square\" height=\"1\" width=\"1\"></rect><image x=\"4\" xlink:href=\"https://raw.githubusercontent.com/romstad/Chess.jl/master/img/bk.svg\" y=\"0\" height=\"1\" width=\"1\"></image></g><g><rect x=\"4\" y=\"1\" class=\"dark-square\" height=\"1\" width=\"1\"></rect><g></g></g><g><rect x=\"4\" y=\"2\" class=\"light-square\" height=\"1\" width=\"1\"></rect><g></g></g><g><rect x=\"4\" y=\"3\" class=\"dark-square\" height=\"1\" width=\"1\"></rect><image x=\"4\" xlink:href=\"https://raw.githubusercontent.com/romstad/Chess.jl/master/img/bp.svg\" y=\"3\" height=\"1\" width=\"1\"></image></g><g><rect x=\"4\" y=\"4\" class=\"light-square\" height=\"1\" width=\"1\"></rect><image x=\"4\" xlink:href=\"https://raw.githubusercontent.com/romstad/Chess.jl/master/img/wp.svg\" y=\"4\" height=\"1\" width=\"1\"></image></g><g><rect x=\"4\" y=\"5\" class=\"dark-square\" height=\"1\" width=\"1\"></rect><g></g></g><g><rect x=\"4\" y=\"6\" class=\"light-square\" height=\"1\" width=\"1\"></rect><g></g></g><g><rect x=\"4\" y=\"7\" class=\"dark-square\" height=\"1\" width=\"1\"></rect><image x=\"4\" xlink:href=\"https://raw.githubusercontent.com/romstad/Chess.jl/master/img/wr.svg\" y=\"7\" height=\"1\" width=\"1\"></image></g><g><rect x=\"5\" y=\"0\" class=\"dark-square\" height=\"1\" width=\"1\"></rect><g></g></g><g><rect x=\"5\" y=\"1\" class=\"light-square\" height=\"1\" width=\"1\"></rect><image x=\"5\" xlink:href=\"https://raw.githubusercontent.com/romstad/Chess.jl/master/img/bp.svg\" y=\"1\" height=\"1\" width=\"1\"></image></g><g><rect x=\"5\" y=\"2\" class=\"dark-square\" height=\"1\" width=\"1\"></rect><image x=\"5\" xlink:href=\"https://raw.githubusercontent.com/romstad/Chess.jl/master/img/bn.svg\" y=\"2\" height=\"1\" width=\"1\"></image></g><g><rect x=\"5\" y=\"3\" class=\"light-square\" height=\"1\" width=\"1\"></rect><g></g></g><g><rect x=\"5\" y=\"4\" class=\"dark-square\" height=\"1\" width=\"1\"></rect><g></g></g><g><rect x=\"5\" y=\"5\" class=\"light-square\" height=\"1\" width=\"1\"></rect><image x=\"5\" xlink:href=\"https://raw.githubusercontent.com/romstad/Chess.jl/master/img/wp.svg\" y=\"5\" height=\"1\" width=\"1\"></image></g><g><rect x=\"5\" y=\"6\" class=\"dark-square\" height=\"1\" width=\"1\"></rect><image x=\"5\" xlink:href=\"https://raw.githubusercontent.com/romstad/Chess.jl/master/img/wp.svg\" y=\"6\" height=\"1\" width=\"1\"></image></g><g><rect x=\"5\" y=\"7\" class=\"light-square\" height=\"1\" width=\"1\"></rect><g></g></g><g><rect x=\"6\" y=\"0\" class=\"light-square\" height=\"1\" width=\"1\"></rect><image x=\"6\" xlink:href=\"https://raw.githubusercontent.com/romstad/Chess.jl/master/img/br.svg\" y=\"0\" height=\"1\" width=\"1\"></image></g><g><rect x=\"6\" y=\"1\" class=\"dark-square\" height=\"1\" width=\"1\"></rect><image x=\"6\" xlink:href=\"https://raw.githubusercontent.com/romstad/Chess.jl/master/img/bp.svg\" y=\"1\" height=\"1\" width=\"1\"></image></g><g><rect x=\"6\" y=\"2\" class=\"light-square\" height=\"1\" width=\"1\"></rect><g></g></g><g><rect x=\"6\" y=\"3\" class=\"dark-square\" height=\"1\" width=\"1\"></rect><g></g></g><g><rect x=\"6\" y=\"4\" class=\"light-square\" height=\"1\" width=\"1\"></rect><g></g></g><g><rect x=\"6\" y=\"5\" class=\"dark-square\" height=\"1\" width=\"1\"></rect><image x=\"6\" xlink:href=\"https://raw.githubusercontent.com/romstad/Chess.jl/master/img/wn.svg\" y=\"5\" height=\"1\" width=\"1\"></image></g><g><rect x=\"6\" y=\"6\" class=\"light-square\" height=\"1\" width=\"1\"></rect><image x=\"6\" xlink:href=\"https://raw.githubusercontent.com/romstad/Chess.jl/master/img/wk.svg\" y=\"6\" height=\"1\" width=\"1\"></image></g><g><rect x=\"6\" y=\"7\" class=\"dark-square\" height=\"1\" width=\"1\"></rect><g></g></g><g><rect x=\"7\" y=\"0\" class=\"dark-square\" height=\"1\" width=\"1\"></rect><g></g></g><g><rect x=\"7\" y=\"1\" class=\"light-square\" height=\"1\" width=\"1\"></rect><g></g></g><g><rect x=\"7\" y=\"2\" class=\"dark-square\" height=\"1\" width=\"1\"></rect><image x=\"7\" xlink:href=\"https://raw.githubusercontent.com/romstad/Chess.jl/master/img/bp.svg\" y=\"2\" height=\"1\" width=\"1\"></image></g><g><rect x=\"7\" y=\"3\" class=\"light-square\" height=\"1\" width=\"1\"></rect><g></g></g><g><rect x=\"7\" y=\"4\" class=\"dark-square\" height=\"1\" width=\"1\"></rect><g></g></g><g><rect x=\"7\" y=\"5\" class=\"light-square\" height=\"1\" width=\"1\"></rect><image x=\"7\" xlink:href=\"https://raw.githubusercontent.com/romstad/Chess.jl/master/img/wp.svg\" y=\"5\" height=\"1\" width=\"1\"></image></g><g><rect x=\"7\" y=\"6\" class=\"dark-square\" height=\"1\" width=\"1\"></rect><g></g></g><g><rect x=\"7\" y=\"7\" class=\"light-square\" height=\"1\" width=\"1\"></rect><g></g></g></g><g></g></svg><div><p>Black to move</p><p>Castle rights: q</p><p><a href=\"https://lichess.org/editor/r3k1r1/1bb2pp1/p1p2n1p/2Bpp3/4P3/1BP2PNP/P4PK1/3RR3_b_q_-\" target=\"_blank\">Open in lichess</a></p></div></div>"
      ],
      "text/plain": [
       "Board (r3k1r1/1bb2pp1/p1p2n1p/2Bpp3/4P3/1BP2PNP/P4PK1/3RR3 b q -):\n",
       " r  -  -  -  k  -  r  - \n",
       " -  b  b  -  -  p  p  - \n",
       " p  -  p  -  -  n  -  p \n",
       " -  -  B  p  p  -  -  - \n",
       " -  -  -  -  P  -  -  - \n",
       " -  B  P  -  -  P  N  P \n",
       " P  -  -  -  -  P  K  - \n",
       " -  -  -  R  R  -  -  - "
      ]
     },
     "metadata": {},
     "output_type": "display_data"
    },
    {
     "name": "stdout",
     "output_type": "stream",
     "text": [
      "Evaluation of engine: -95.0\n",
      "Current board score: -185\n",
      "Current entries in Cache: 10758\n",
      "Cleared Cache with 10758\n",
      " 10.121896 seconds (35.90 M allocations: 2.154 GiB, 4.74% gc time)\n",
      "Inkremental score is -185 but should be -125\n"
     ]
    },
    {
     "data": {
      "text/html": [
       "Board:<div class=\"chessboard\"><style soped=\"true\">.dark-square {\n",
       "    fill: #c3936a;\n",
       "    stroke-width: 0;\n",
       "}\n",
       ".light-square {\n",
       "    fill: #ffd7a6;\n",
       "    stroke-width: 0;\n",
       "}\n",
       ".highlight {\n",
       "    fill: #47d18b;\n",
       "}\n",
       "@media (prefers-color-scheme: dark) {\n",
       "    .dark-square {\n",
       "        fill: #00796b;\n",
       "    }\n",
       "    .light-square {\n",
       "        fill: #3ca59b;\n",
       "    }\n",
       "    .highlight {\n",
       "        fill: #d23600;\n",
       "    }\n",
       "}\n",
       "</style><svg style=\"float: left; margin-right: 20px\" viewBox=\"0 0 8 8\" height=\"280\" width=\"280\"><g><g><rect x=\"0\" y=\"0\" class=\"light-square\" height=\"1\" width=\"1\"></rect><g></g></g><g><rect x=\"0\" y=\"1\" class=\"dark-square\" height=\"1\" width=\"1\"></rect><g></g></g><g><rect x=\"0\" y=\"2\" class=\"light-square\" height=\"1\" width=\"1\"></rect><image x=\"0\" xlink:href=\"https://raw.githubusercontent.com/romstad/Chess.jl/master/img/bp.svg\" y=\"2\" height=\"1\" width=\"1\"></image></g><g><rect x=\"0\" y=\"3\" class=\"dark-square\" height=\"1\" width=\"1\"></rect><g></g></g><g><rect x=\"0\" y=\"4\" class=\"light-square\" height=\"1\" width=\"1\"></rect><g></g></g><g><rect x=\"0\" y=\"5\" class=\"dark-square\" height=\"1\" width=\"1\"></rect><g></g></g><g><rect x=\"0\" y=\"6\" class=\"light-square\" height=\"1\" width=\"1\"></rect><image x=\"0\" xlink:href=\"https://raw.githubusercontent.com/romstad/Chess.jl/master/img/wp.svg\" y=\"6\" height=\"1\" width=\"1\"></image></g><g><rect x=\"0\" y=\"7\" class=\"dark-square\" height=\"1\" width=\"1\"></rect><g></g></g><g><rect x=\"1\" y=\"0\" class=\"dark-square\" height=\"1\" width=\"1\"></rect><g></g></g><g><rect x=\"1\" y=\"1\" class=\"light-square\" height=\"1\" width=\"1\"></rect><image x=\"1\" xlink:href=\"https://raw.githubusercontent.com/romstad/Chess.jl/master/img/bb.svg\" y=\"1\" height=\"1\" width=\"1\"></image></g><g><rect x=\"1\" y=\"2\" class=\"dark-square\" height=\"1\" width=\"1\"></rect><g></g></g><g><rect x=\"1\" y=\"3\" class=\"light-square\" height=\"1\" width=\"1\"></rect><g></g></g><g><rect x=\"1\" y=\"4\" class=\"dark-square\" height=\"1\" width=\"1\"></rect><g></g></g><g><rect x=\"1\" y=\"5\" class=\"light-square\" height=\"1\" width=\"1\"></rect><image x=\"1\" xlink:href=\"https://raw.githubusercontent.com/romstad/Chess.jl/master/img/wb.svg\" y=\"5\" height=\"1\" width=\"1\"></image></g><g><rect x=\"1\" y=\"6\" class=\"dark-square\" height=\"1\" width=\"1\"></rect><g></g></g><g><rect x=\"1\" y=\"7\" class=\"light-square\" height=\"1\" width=\"1\"></rect><g></g></g><g><rect x=\"2\" y=\"0\" class=\"light-square\" height=\"1\" width=\"1\"></rect><image x=\"2\" xlink:href=\"https://raw.githubusercontent.com/romstad/Chess.jl/master/img/br.svg\" y=\"0\" height=\"1\" width=\"1\"></image></g><g><rect x=\"2\" y=\"1\" class=\"dark-square\" height=\"1\" width=\"1\"></rect><image x=\"2\" xlink:href=\"https://raw.githubusercontent.com/romstad/Chess.jl/master/img/bb.svg\" y=\"1\" height=\"1\" width=\"1\"></image></g><g><rect x=\"2\" y=\"2\" class=\"light-square\" height=\"1\" width=\"1\"></rect><image x=\"2\" xlink:href=\"https://raw.githubusercontent.com/romstad/Chess.jl/master/img/bp.svg\" y=\"2\" height=\"1\" width=\"1\"></image></g><g><rect x=\"2\" y=\"3\" class=\"dark-square\" height=\"1\" width=\"1\"></rect><image x=\"2\" xlink:href=\"https://raw.githubusercontent.com/romstad/Chess.jl/master/img/wb.svg\" y=\"3\" height=\"1\" width=\"1\"></image></g><g><rect x=\"2\" y=\"4\" class=\"light-square\" height=\"1\" width=\"1\"></rect><g></g></g><g><rect x=\"2\" y=\"5\" class=\"dark-square\" height=\"1\" width=\"1\"></rect><image x=\"2\" xlink:href=\"https://raw.githubusercontent.com/romstad/Chess.jl/master/img/wp.svg\" y=\"5\" height=\"1\" width=\"1\"></image></g><g><rect x=\"2\" y=\"6\" class=\"light-square\" height=\"1\" width=\"1\"></rect><g></g></g><g><rect x=\"2\" y=\"7\" class=\"dark-square\" height=\"1\" width=\"1\"></rect><g></g></g><g><rect x=\"3\" y=\"0\" class=\"dark-square\" height=\"1\" width=\"1\"></rect><g></g></g><g><rect x=\"3\" y=\"1\" class=\"light-square\" height=\"1\" width=\"1\"></rect><g></g></g><g><rect x=\"3\" y=\"2\" class=\"dark-square\" height=\"1\" width=\"1\"></rect><g></g></g><g><rect x=\"3\" y=\"3\" class=\"light-square\" height=\"1\" width=\"1\"></rect><image x=\"3\" xlink:href=\"https://raw.githubusercontent.com/romstad/Chess.jl/master/img/bp.svg\" y=\"3\" height=\"1\" width=\"1\"></image></g><g><rect x=\"3\" y=\"4\" class=\"dark-square\" height=\"1\" width=\"1\"></rect><g></g></g><g><rect x=\"3\" y=\"5\" class=\"light-square\" height=\"1\" width=\"1\"></rect><g></g></g><g><rect x=\"3\" y=\"6\" class=\"dark-square\" height=\"1\" width=\"1\"></rect><g></g></g><g><rect x=\"3\" y=\"7\" class=\"light-square\" height=\"1\" width=\"1\"></rect><image x=\"3\" xlink:href=\"https://raw.githubusercontent.com/romstad/Chess.jl/master/img/wr.svg\" y=\"7\" height=\"1\" width=\"1\"></image></g><g><rect x=\"4\" y=\"0\" class=\"light-square\" height=\"1\" width=\"1\"></rect><image x=\"4\" xlink:href=\"https://raw.githubusercontent.com/romstad/Chess.jl/master/img/bk.svg\" y=\"0\" height=\"1\" width=\"1\"></image></g><g><rect x=\"4\" y=\"1\" class=\"dark-square\" height=\"1\" width=\"1\"></rect><g></g></g><g><rect x=\"4\" y=\"2\" class=\"light-square\" height=\"1\" width=\"1\"></rect><g></g></g><g><rect x=\"4\" y=\"3\" class=\"dark-square\" height=\"1\" width=\"1\"></rect><image x=\"4\" xlink:href=\"https://raw.githubusercontent.com/romstad/Chess.jl/master/img/bp.svg\" y=\"3\" height=\"1\" width=\"1\"></image></g><g><rect x=\"4\" y=\"4\" class=\"light-square\" height=\"1\" width=\"1\"></rect><image x=\"4\" xlink:href=\"https://raw.githubusercontent.com/romstad/Chess.jl/master/img/wp.svg\" y=\"4\" height=\"1\" width=\"1\"></image></g><g><rect x=\"4\" y=\"5\" class=\"dark-square\" height=\"1\" width=\"1\"></rect><g></g></g><g><rect x=\"4\" y=\"6\" class=\"light-square\" height=\"1\" width=\"1\"></rect><g></g></g><g><rect x=\"4\" y=\"7\" class=\"dark-square\" height=\"1\" width=\"1\"></rect><image x=\"4\" xlink:href=\"https://raw.githubusercontent.com/romstad/Chess.jl/master/img/wr.svg\" y=\"7\" height=\"1\" width=\"1\"></image></g><g><rect x=\"5\" y=\"0\" class=\"dark-square\" height=\"1\" width=\"1\"></rect><g></g></g><g><rect x=\"5\" y=\"1\" class=\"light-square\" height=\"1\" width=\"1\"></rect><image x=\"5\" xlink:href=\"https://raw.githubusercontent.com/romstad/Chess.jl/master/img/bp.svg\" y=\"1\" height=\"1\" width=\"1\"></image></g><g><rect x=\"5\" y=\"2\" class=\"dark-square\" height=\"1\" width=\"1\"></rect><image x=\"5\" xlink:href=\"https://raw.githubusercontent.com/romstad/Chess.jl/master/img/bn.svg\" y=\"2\" height=\"1\" width=\"1\"></image></g><g><rect x=\"5\" y=\"3\" class=\"light-square\" height=\"1\" width=\"1\"></rect><g></g></g><g><rect x=\"5\" y=\"4\" class=\"dark-square\" height=\"1\" width=\"1\"></rect><g></g></g><g><rect x=\"5\" y=\"5\" class=\"light-square\" height=\"1\" width=\"1\"></rect><image x=\"5\" xlink:href=\"https://raw.githubusercontent.com/romstad/Chess.jl/master/img/wp.svg\" y=\"5\" height=\"1\" width=\"1\"></image></g><g><rect x=\"5\" y=\"6\" class=\"dark-square\" height=\"1\" width=\"1\"></rect><image x=\"5\" xlink:href=\"https://raw.githubusercontent.com/romstad/Chess.jl/master/img/wp.svg\" y=\"6\" height=\"1\" width=\"1\"></image></g><g><rect x=\"5\" y=\"7\" class=\"light-square\" height=\"1\" width=\"1\"></rect><g></g></g><g><rect x=\"6\" y=\"0\" class=\"light-square\" height=\"1\" width=\"1\"></rect><image x=\"6\" xlink:href=\"https://raw.githubusercontent.com/romstad/Chess.jl/master/img/br.svg\" y=\"0\" height=\"1\" width=\"1\"></image></g><g><rect x=\"6\" y=\"1\" class=\"dark-square\" height=\"1\" width=\"1\"></rect><image x=\"6\" xlink:href=\"https://raw.githubusercontent.com/romstad/Chess.jl/master/img/bp.svg\" y=\"1\" height=\"1\" width=\"1\"></image></g><g><rect x=\"6\" y=\"2\" class=\"light-square\" height=\"1\" width=\"1\"></rect><g></g></g><g><rect x=\"6\" y=\"3\" class=\"dark-square\" height=\"1\" width=\"1\"></rect><g></g></g><g><rect x=\"6\" y=\"4\" class=\"light-square\" height=\"1\" width=\"1\"></rect><g></g></g><g><rect x=\"6\" y=\"5\" class=\"dark-square\" height=\"1\" width=\"1\"></rect><image x=\"6\" xlink:href=\"https://raw.githubusercontent.com/romstad/Chess.jl/master/img/wn.svg\" y=\"5\" height=\"1\" width=\"1\"></image></g><g><rect x=\"6\" y=\"6\" class=\"light-square\" height=\"1\" width=\"1\"></rect><image x=\"6\" xlink:href=\"https://raw.githubusercontent.com/romstad/Chess.jl/master/img/wk.svg\" y=\"6\" height=\"1\" width=\"1\"></image></g><g><rect x=\"6\" y=\"7\" class=\"dark-square\" height=\"1\" width=\"1\"></rect><g></g></g><g><rect x=\"7\" y=\"0\" class=\"dark-square\" height=\"1\" width=\"1\"></rect><g></g></g><g><rect x=\"7\" y=\"1\" class=\"light-square\" height=\"1\" width=\"1\"></rect><g></g></g><g><rect x=\"7\" y=\"2\" class=\"dark-square\" height=\"1\" width=\"1\"></rect><image x=\"7\" xlink:href=\"https://raw.githubusercontent.com/romstad/Chess.jl/master/img/bp.svg\" y=\"2\" height=\"1\" width=\"1\"></image></g><g><rect x=\"7\" y=\"3\" class=\"light-square\" height=\"1\" width=\"1\"></rect><g></g></g><g><rect x=\"7\" y=\"4\" class=\"dark-square\" height=\"1\" width=\"1\"></rect><g></g></g><g><rect x=\"7\" y=\"5\" class=\"light-square\" height=\"1\" width=\"1\"></rect><image x=\"7\" xlink:href=\"https://raw.githubusercontent.com/romstad/Chess.jl/master/img/wp.svg\" y=\"5\" height=\"1\" width=\"1\"></image></g><g><rect x=\"7\" y=\"6\" class=\"dark-square\" height=\"1\" width=\"1\"></rect><g></g></g><g><rect x=\"7\" y=\"7\" class=\"light-square\" height=\"1\" width=\"1\"></rect><g></g></g></g><g></g></svg><div><p>White to move</p><p><a href=\"https://lichess.org/editor/2r1k1r1/1bb2pp1/p1p2n1p/2Bpp3/4P3/1BP2PNP/P4PK1/3RR3_w_-_-\" target=\"_blank\">Open in lichess</a></p></div></div>"
      ],
      "text/plain": [
       "Board (2r1k1r1/1bb2pp1/p1p2n1p/2Bpp3/4P3/1BP2PNP/P4PK1/3RR3 w - -):\n",
       " -  -  r  -  k  -  r  - \n",
       " -  b  b  -  -  p  p  - \n",
       " p  -  p  -  -  n  -  p \n",
       " -  -  B  p  p  -  -  - \n",
       " -  -  -  -  P  -  -  - \n",
       " -  B  P  -  -  P  N  P \n",
       " P  -  -  -  -  P  K  - \n",
       " -  -  -  R  R  -  -  - "
      ]
     },
     "metadata": {},
     "output_type": "display_data"
    },
    {
     "name": "stdout",
     "output_type": "stream",
     "text": [
      "Make a move. Type 'resign' to resign from the match\n",
      "stdin> g3f5\n",
      "Cleared Cache with 0\n",
      "Inkremental score is -175 but should be -115\n"
     ]
    },
    {
     "data": {
      "text/html": [
       "Board:<div class=\"chessboard\"><style soped=\"true\">.dark-square {\n",
       "    fill: #c3936a;\n",
       "    stroke-width: 0;\n",
       "}\n",
       ".light-square {\n",
       "    fill: #ffd7a6;\n",
       "    stroke-width: 0;\n",
       "}\n",
       ".highlight {\n",
       "    fill: #47d18b;\n",
       "}\n",
       "@media (prefers-color-scheme: dark) {\n",
       "    .dark-square {\n",
       "        fill: #00796b;\n",
       "    }\n",
       "    .light-square {\n",
       "        fill: #3ca59b;\n",
       "    }\n",
       "    .highlight {\n",
       "        fill: #d23600;\n",
       "    }\n",
       "}\n",
       "</style><svg style=\"float: left; margin-right: 20px\" viewBox=\"0 0 8 8\" height=\"280\" width=\"280\"><g><g><rect x=\"0\" y=\"0\" class=\"light-square\" height=\"1\" width=\"1\"></rect><g></g></g><g><rect x=\"0\" y=\"1\" class=\"dark-square\" height=\"1\" width=\"1\"></rect><g></g></g><g><rect x=\"0\" y=\"2\" class=\"light-square\" height=\"1\" width=\"1\"></rect><image x=\"0\" xlink:href=\"https://raw.githubusercontent.com/romstad/Chess.jl/master/img/bp.svg\" y=\"2\" height=\"1\" width=\"1\"></image></g><g><rect x=\"0\" y=\"3\" class=\"dark-square\" height=\"1\" width=\"1\"></rect><g></g></g><g><rect x=\"0\" y=\"4\" class=\"light-square\" height=\"1\" width=\"1\"></rect><g></g></g><g><rect x=\"0\" y=\"5\" class=\"dark-square\" height=\"1\" width=\"1\"></rect><g></g></g><g><rect x=\"0\" y=\"6\" class=\"light-square\" height=\"1\" width=\"1\"></rect><image x=\"0\" xlink:href=\"https://raw.githubusercontent.com/romstad/Chess.jl/master/img/wp.svg\" y=\"6\" height=\"1\" width=\"1\"></image></g><g><rect x=\"0\" y=\"7\" class=\"dark-square\" height=\"1\" width=\"1\"></rect><g></g></g><g><rect x=\"1\" y=\"0\" class=\"dark-square\" height=\"1\" width=\"1\"></rect><g></g></g><g><rect x=\"1\" y=\"1\" class=\"light-square\" height=\"1\" width=\"1\"></rect><image x=\"1\" xlink:href=\"https://raw.githubusercontent.com/romstad/Chess.jl/master/img/bb.svg\" y=\"1\" height=\"1\" width=\"1\"></image></g><g><rect x=\"1\" y=\"2\" class=\"dark-square\" height=\"1\" width=\"1\"></rect><g></g></g><g><rect x=\"1\" y=\"3\" class=\"light-square\" height=\"1\" width=\"1\"></rect><g></g></g><g><rect x=\"1\" y=\"4\" class=\"dark-square\" height=\"1\" width=\"1\"></rect><g></g></g><g><rect x=\"1\" y=\"5\" class=\"light-square\" height=\"1\" width=\"1\"></rect><image x=\"1\" xlink:href=\"https://raw.githubusercontent.com/romstad/Chess.jl/master/img/wb.svg\" y=\"5\" height=\"1\" width=\"1\"></image></g><g><rect x=\"1\" y=\"6\" class=\"dark-square\" height=\"1\" width=\"1\"></rect><g></g></g><g><rect x=\"1\" y=\"7\" class=\"light-square\" height=\"1\" width=\"1\"></rect><g></g></g><g><rect x=\"2\" y=\"0\" class=\"light-square\" height=\"1\" width=\"1\"></rect><image x=\"2\" xlink:href=\"https://raw.githubusercontent.com/romstad/Chess.jl/master/img/br.svg\" y=\"0\" height=\"1\" width=\"1\"></image></g><g><rect x=\"2\" y=\"1\" class=\"dark-square\" height=\"1\" width=\"1\"></rect><image x=\"2\" xlink:href=\"https://raw.githubusercontent.com/romstad/Chess.jl/master/img/bb.svg\" y=\"1\" height=\"1\" width=\"1\"></image></g><g><rect x=\"2\" y=\"2\" class=\"light-square\" height=\"1\" width=\"1\"></rect><image x=\"2\" xlink:href=\"https://raw.githubusercontent.com/romstad/Chess.jl/master/img/bp.svg\" y=\"2\" height=\"1\" width=\"1\"></image></g><g><rect x=\"2\" y=\"3\" class=\"dark-square\" height=\"1\" width=\"1\"></rect><image x=\"2\" xlink:href=\"https://raw.githubusercontent.com/romstad/Chess.jl/master/img/wb.svg\" y=\"3\" height=\"1\" width=\"1\"></image></g><g><rect x=\"2\" y=\"4\" class=\"light-square\" height=\"1\" width=\"1\"></rect><g></g></g><g><rect x=\"2\" y=\"5\" class=\"dark-square\" height=\"1\" width=\"1\"></rect><image x=\"2\" xlink:href=\"https://raw.githubusercontent.com/romstad/Chess.jl/master/img/wp.svg\" y=\"5\" height=\"1\" width=\"1\"></image></g><g><rect x=\"2\" y=\"6\" class=\"light-square\" height=\"1\" width=\"1\"></rect><g></g></g><g><rect x=\"2\" y=\"7\" class=\"dark-square\" height=\"1\" width=\"1\"></rect><g></g></g><g><rect x=\"3\" y=\"0\" class=\"dark-square\" height=\"1\" width=\"1\"></rect><g></g></g><g><rect x=\"3\" y=\"1\" class=\"light-square\" height=\"1\" width=\"1\"></rect><g></g></g><g><rect x=\"3\" y=\"2\" class=\"dark-square\" height=\"1\" width=\"1\"></rect><g></g></g><g><rect x=\"3\" y=\"3\" class=\"light-square\" height=\"1\" width=\"1\"></rect><image x=\"3\" xlink:href=\"https://raw.githubusercontent.com/romstad/Chess.jl/master/img/bp.svg\" y=\"3\" height=\"1\" width=\"1\"></image></g><g><rect x=\"3\" y=\"4\" class=\"dark-square\" height=\"1\" width=\"1\"></rect><g></g></g><g><rect x=\"3\" y=\"5\" class=\"light-square\" height=\"1\" width=\"1\"></rect><g></g></g><g><rect x=\"3\" y=\"6\" class=\"dark-square\" height=\"1\" width=\"1\"></rect><g></g></g><g><rect x=\"3\" y=\"7\" class=\"light-square\" height=\"1\" width=\"1\"></rect><image x=\"3\" xlink:href=\"https://raw.githubusercontent.com/romstad/Chess.jl/master/img/wr.svg\" y=\"7\" height=\"1\" width=\"1\"></image></g><g><rect x=\"4\" y=\"0\" class=\"light-square\" height=\"1\" width=\"1\"></rect><image x=\"4\" xlink:href=\"https://raw.githubusercontent.com/romstad/Chess.jl/master/img/bk.svg\" y=\"0\" height=\"1\" width=\"1\"></image></g><g><rect x=\"4\" y=\"1\" class=\"dark-square\" height=\"1\" width=\"1\"></rect><g></g></g><g><rect x=\"4\" y=\"2\" class=\"light-square\" height=\"1\" width=\"1\"></rect><g></g></g><g><rect x=\"4\" y=\"3\" class=\"dark-square\" height=\"1\" width=\"1\"></rect><image x=\"4\" xlink:href=\"https://raw.githubusercontent.com/romstad/Chess.jl/master/img/bp.svg\" y=\"3\" height=\"1\" width=\"1\"></image></g><g><rect x=\"4\" y=\"4\" class=\"light-square\" height=\"1\" width=\"1\"></rect><image x=\"4\" xlink:href=\"https://raw.githubusercontent.com/romstad/Chess.jl/master/img/wp.svg\" y=\"4\" height=\"1\" width=\"1\"></image></g><g><rect x=\"4\" y=\"5\" class=\"dark-square\" height=\"1\" width=\"1\"></rect><g></g></g><g><rect x=\"4\" y=\"6\" class=\"light-square\" height=\"1\" width=\"1\"></rect><g></g></g><g><rect x=\"4\" y=\"7\" class=\"dark-square\" height=\"1\" width=\"1\"></rect><image x=\"4\" xlink:href=\"https://raw.githubusercontent.com/romstad/Chess.jl/master/img/wr.svg\" y=\"7\" height=\"1\" width=\"1\"></image></g><g><rect x=\"5\" y=\"0\" class=\"dark-square\" height=\"1\" width=\"1\"></rect><g></g></g><g><rect x=\"5\" y=\"1\" class=\"light-square\" height=\"1\" width=\"1\"></rect><image x=\"5\" xlink:href=\"https://raw.githubusercontent.com/romstad/Chess.jl/master/img/bp.svg\" y=\"1\" height=\"1\" width=\"1\"></image></g><g><rect x=\"5\" y=\"2\" class=\"dark-square\" height=\"1\" width=\"1\"></rect><image x=\"5\" xlink:href=\"https://raw.githubusercontent.com/romstad/Chess.jl/master/img/bn.svg\" y=\"2\" height=\"1\" width=\"1\"></image></g><g><rect x=\"5\" y=\"3\" class=\"light-square\" height=\"1\" width=\"1\"></rect><image x=\"5\" xlink:href=\"https://raw.githubusercontent.com/romstad/Chess.jl/master/img/wn.svg\" y=\"3\" height=\"1\" width=\"1\"></image></g><g><rect x=\"5\" y=\"4\" class=\"dark-square\" height=\"1\" width=\"1\"></rect><g></g></g><g><rect x=\"5\" y=\"5\" class=\"light-square\" height=\"1\" width=\"1\"></rect><image x=\"5\" xlink:href=\"https://raw.githubusercontent.com/romstad/Chess.jl/master/img/wp.svg\" y=\"5\" height=\"1\" width=\"1\"></image></g><g><rect x=\"5\" y=\"6\" class=\"dark-square\" height=\"1\" width=\"1\"></rect><image x=\"5\" xlink:href=\"https://raw.githubusercontent.com/romstad/Chess.jl/master/img/wp.svg\" y=\"6\" height=\"1\" width=\"1\"></image></g><g><rect x=\"5\" y=\"7\" class=\"light-square\" height=\"1\" width=\"1\"></rect><g></g></g><g><rect x=\"6\" y=\"0\" class=\"light-square\" height=\"1\" width=\"1\"></rect><image x=\"6\" xlink:href=\"https://raw.githubusercontent.com/romstad/Chess.jl/master/img/br.svg\" y=\"0\" height=\"1\" width=\"1\"></image></g><g><rect x=\"6\" y=\"1\" class=\"dark-square\" height=\"1\" width=\"1\"></rect><image x=\"6\" xlink:href=\"https://raw.githubusercontent.com/romstad/Chess.jl/master/img/bp.svg\" y=\"1\" height=\"1\" width=\"1\"></image></g><g><rect x=\"6\" y=\"2\" class=\"light-square\" height=\"1\" width=\"1\"></rect><g></g></g><g><rect x=\"6\" y=\"3\" class=\"dark-square\" height=\"1\" width=\"1\"></rect><g></g></g><g><rect x=\"6\" y=\"4\" class=\"light-square\" height=\"1\" width=\"1\"></rect><g></g></g><g><rect x=\"6\" y=\"5\" class=\"dark-square\" height=\"1\" width=\"1\"></rect><g></g></g><g><rect x=\"6\" y=\"6\" class=\"light-square\" height=\"1\" width=\"1\"></rect><image x=\"6\" xlink:href=\"https://raw.githubusercontent.com/romstad/Chess.jl/master/img/wk.svg\" y=\"6\" height=\"1\" width=\"1\"></image></g><g><rect x=\"6\" y=\"7\" class=\"dark-square\" height=\"1\" width=\"1\"></rect><g></g></g><g><rect x=\"7\" y=\"0\" class=\"dark-square\" height=\"1\" width=\"1\"></rect><g></g></g><g><rect x=\"7\" y=\"1\" class=\"light-square\" height=\"1\" width=\"1\"></rect><g></g></g><g><rect x=\"7\" y=\"2\" class=\"dark-square\" height=\"1\" width=\"1\"></rect><image x=\"7\" xlink:href=\"https://raw.githubusercontent.com/romstad/Chess.jl/master/img/bp.svg\" y=\"2\" height=\"1\" width=\"1\"></image></g><g><rect x=\"7\" y=\"3\" class=\"light-square\" height=\"1\" width=\"1\"></rect><g></g></g><g><rect x=\"7\" y=\"4\" class=\"dark-square\" height=\"1\" width=\"1\"></rect><g></g></g><g><rect x=\"7\" y=\"5\" class=\"light-square\" height=\"1\" width=\"1\"></rect><image x=\"7\" xlink:href=\"https://raw.githubusercontent.com/romstad/Chess.jl/master/img/wp.svg\" y=\"5\" height=\"1\" width=\"1\"></image></g><g><rect x=\"7\" y=\"6\" class=\"dark-square\" height=\"1\" width=\"1\"></rect><g></g></g><g><rect x=\"7\" y=\"7\" class=\"light-square\" height=\"1\" width=\"1\"></rect><g></g></g></g><g></g></svg><div><p>Black to move</p><p><a href=\"https://lichess.org/editor/2r1k1r1/1bb2pp1/p1p2n1p/2BppN2/4P3/1BP2P1P/P4PK1/3RR3_b_-_-\" target=\"_blank\">Open in lichess</a></p></div></div>"
      ],
      "text/plain": [
       "Board (2r1k1r1/1bb2pp1/p1p2n1p/2BppN2/4P3/1BP2P1P/P4PK1/3RR3 b - -):\n",
       " -  -  r  -  k  -  r  - \n",
       " -  b  b  -  -  p  p  - \n",
       " p  -  p  -  -  n  -  p \n",
       " -  -  B  p  p  N  -  - \n",
       " -  -  -  -  P  -  -  - \n",
       " -  B  P  -  -  P  -  P \n",
       " P  -  -  -  -  P  K  - \n",
       " -  -  -  R  R  -  -  - "
      ]
     },
     "metadata": {},
     "output_type": "display_data"
    },
    {
     "name": "stdout",
     "output_type": "stream",
     "text": [
      "Evaluation of engine: -50.0\n",
      "Current board score: -175\n",
      "Current entries in Cache: 8436\n",
      "Cleared Cache with 8436\n",
      "  8.417051 seconds (29.47 M allocations: 1.762 GiB, 4.90% gc time)\n",
      "Inkremental score is -175 but should be -115\n"
     ]
    },
    {
     "data": {
      "text/html": [
       "Board:<div class=\"chessboard\"><style soped=\"true\">.dark-square {\n",
       "    fill: #c3936a;\n",
       "    stroke-width: 0;\n",
       "}\n",
       ".light-square {\n",
       "    fill: #ffd7a6;\n",
       "    stroke-width: 0;\n",
       "}\n",
       ".highlight {\n",
       "    fill: #47d18b;\n",
       "}\n",
       "@media (prefers-color-scheme: dark) {\n",
       "    .dark-square {\n",
       "        fill: #00796b;\n",
       "    }\n",
       "    .light-square {\n",
       "        fill: #3ca59b;\n",
       "    }\n",
       "    .highlight {\n",
       "        fill: #d23600;\n",
       "    }\n",
       "}\n",
       "</style><svg style=\"float: left; margin-right: 20px\" viewBox=\"0 0 8 8\" height=\"280\" width=\"280\"><g><g><rect x=\"0\" y=\"0\" class=\"light-square\" height=\"1\" width=\"1\"></rect><image x=\"0\" xlink:href=\"https://raw.githubusercontent.com/romstad/Chess.jl/master/img/br.svg\" y=\"0\" height=\"1\" width=\"1\"></image></g><g><rect x=\"0\" y=\"1\" class=\"dark-square\" height=\"1\" width=\"1\"></rect><g></g></g><g><rect x=\"0\" y=\"2\" class=\"light-square\" height=\"1\" width=\"1\"></rect><image x=\"0\" xlink:href=\"https://raw.githubusercontent.com/romstad/Chess.jl/master/img/bp.svg\" y=\"2\" height=\"1\" width=\"1\"></image></g><g><rect x=\"0\" y=\"3\" class=\"dark-square\" height=\"1\" width=\"1\"></rect><g></g></g><g><rect x=\"0\" y=\"4\" class=\"light-square\" height=\"1\" width=\"1\"></rect><g></g></g><g><rect x=\"0\" y=\"5\" class=\"dark-square\" height=\"1\" width=\"1\"></rect><g></g></g><g><rect x=\"0\" y=\"6\" class=\"light-square\" height=\"1\" width=\"1\"></rect><image x=\"0\" xlink:href=\"https://raw.githubusercontent.com/romstad/Chess.jl/master/img/wp.svg\" y=\"6\" height=\"1\" width=\"1\"></image></g><g><rect x=\"0\" y=\"7\" class=\"dark-square\" height=\"1\" width=\"1\"></rect><g></g></g><g><rect x=\"1\" y=\"0\" class=\"dark-square\" height=\"1\" width=\"1\"></rect><g></g></g><g><rect x=\"1\" y=\"1\" class=\"light-square\" height=\"1\" width=\"1\"></rect><image x=\"1\" xlink:href=\"https://raw.githubusercontent.com/romstad/Chess.jl/master/img/bb.svg\" y=\"1\" height=\"1\" width=\"1\"></image></g><g><rect x=\"1\" y=\"2\" class=\"dark-square\" height=\"1\" width=\"1\"></rect><g></g></g><g><rect x=\"1\" y=\"3\" class=\"light-square\" height=\"1\" width=\"1\"></rect><g></g></g><g><rect x=\"1\" y=\"4\" class=\"dark-square\" height=\"1\" width=\"1\"></rect><g></g></g><g><rect x=\"1\" y=\"5\" class=\"light-square\" height=\"1\" width=\"1\"></rect><image x=\"1\" xlink:href=\"https://raw.githubusercontent.com/romstad/Chess.jl/master/img/wb.svg\" y=\"5\" height=\"1\" width=\"1\"></image></g><g><rect x=\"1\" y=\"6\" class=\"dark-square\" height=\"1\" width=\"1\"></rect><g></g></g><g><rect x=\"1\" y=\"7\" class=\"light-square\" height=\"1\" width=\"1\"></rect><g></g></g><g><rect x=\"2\" y=\"0\" class=\"light-square\" height=\"1\" width=\"1\"></rect><g></g></g><g><rect x=\"2\" y=\"1\" class=\"dark-square\" height=\"1\" width=\"1\"></rect><image x=\"2\" xlink:href=\"https://raw.githubusercontent.com/romstad/Chess.jl/master/img/bb.svg\" y=\"1\" height=\"1\" width=\"1\"></image></g><g><rect x=\"2\" y=\"2\" class=\"light-square\" height=\"1\" width=\"1\"></rect><image x=\"2\" xlink:href=\"https://raw.githubusercontent.com/romstad/Chess.jl/master/img/bp.svg\" y=\"2\" height=\"1\" width=\"1\"></image></g><g><rect x=\"2\" y=\"3\" class=\"dark-square\" height=\"1\" width=\"1\"></rect><image x=\"2\" xlink:href=\"https://raw.githubusercontent.com/romstad/Chess.jl/master/img/wb.svg\" y=\"3\" height=\"1\" width=\"1\"></image></g><g><rect x=\"2\" y=\"4\" class=\"light-square\" height=\"1\" width=\"1\"></rect><g></g></g><g><rect x=\"2\" y=\"5\" class=\"dark-square\" height=\"1\" width=\"1\"></rect><image x=\"2\" xlink:href=\"https://raw.githubusercontent.com/romstad/Chess.jl/master/img/wp.svg\" y=\"5\" height=\"1\" width=\"1\"></image></g><g><rect x=\"2\" y=\"6\" class=\"light-square\" height=\"1\" width=\"1\"></rect><g></g></g><g><rect x=\"2\" y=\"7\" class=\"dark-square\" height=\"1\" width=\"1\"></rect><g></g></g><g><rect x=\"3\" y=\"0\" class=\"dark-square\" height=\"1\" width=\"1\"></rect><g></g></g><g><rect x=\"3\" y=\"1\" class=\"light-square\" height=\"1\" width=\"1\"></rect><g></g></g><g><rect x=\"3\" y=\"2\" class=\"dark-square\" height=\"1\" width=\"1\"></rect><g></g></g><g><rect x=\"3\" y=\"3\" class=\"light-square\" height=\"1\" width=\"1\"></rect><image x=\"3\" xlink:href=\"https://raw.githubusercontent.com/romstad/Chess.jl/master/img/bp.svg\" y=\"3\" height=\"1\" width=\"1\"></image></g><g><rect x=\"3\" y=\"4\" class=\"dark-square\" height=\"1\" width=\"1\"></rect><g></g></g><g><rect x=\"3\" y=\"5\" class=\"light-square\" height=\"1\" width=\"1\"></rect><g></g></g><g><rect x=\"3\" y=\"6\" class=\"dark-square\" height=\"1\" width=\"1\"></rect><g></g></g><g><rect x=\"3\" y=\"7\" class=\"light-square\" height=\"1\" width=\"1\"></rect><image x=\"3\" xlink:href=\"https://raw.githubusercontent.com/romstad/Chess.jl/master/img/wr.svg\" y=\"7\" height=\"1\" width=\"1\"></image></g><g><rect x=\"4\" y=\"0\" class=\"light-square\" height=\"1\" width=\"1\"></rect><image x=\"4\" xlink:href=\"https://raw.githubusercontent.com/romstad/Chess.jl/master/img/bk.svg\" y=\"0\" height=\"1\" width=\"1\"></image></g><g><rect x=\"4\" y=\"1\" class=\"dark-square\" height=\"1\" width=\"1\"></rect><g></g></g><g><rect x=\"4\" y=\"2\" class=\"light-square\" height=\"1\" width=\"1\"></rect><g></g></g><g><rect x=\"4\" y=\"3\" class=\"dark-square\" height=\"1\" width=\"1\"></rect><image x=\"4\" xlink:href=\"https://raw.githubusercontent.com/romstad/Chess.jl/master/img/bp.svg\" y=\"3\" height=\"1\" width=\"1\"></image></g><g><rect x=\"4\" y=\"4\" class=\"light-square\" height=\"1\" width=\"1\"></rect><image x=\"4\" xlink:href=\"https://raw.githubusercontent.com/romstad/Chess.jl/master/img/wp.svg\" y=\"4\" height=\"1\" width=\"1\"></image></g><g><rect x=\"4\" y=\"5\" class=\"dark-square\" height=\"1\" width=\"1\"></rect><g></g></g><g><rect x=\"4\" y=\"6\" class=\"light-square\" height=\"1\" width=\"1\"></rect><g></g></g><g><rect x=\"4\" y=\"7\" class=\"dark-square\" height=\"1\" width=\"1\"></rect><image x=\"4\" xlink:href=\"https://raw.githubusercontent.com/romstad/Chess.jl/master/img/wr.svg\" y=\"7\" height=\"1\" width=\"1\"></image></g><g><rect x=\"5\" y=\"0\" class=\"dark-square\" height=\"1\" width=\"1\"></rect><g></g></g><g><rect x=\"5\" y=\"1\" class=\"light-square\" height=\"1\" width=\"1\"></rect><image x=\"5\" xlink:href=\"https://raw.githubusercontent.com/romstad/Chess.jl/master/img/bp.svg\" y=\"1\" height=\"1\" width=\"1\"></image></g><g><rect x=\"5\" y=\"2\" class=\"dark-square\" height=\"1\" width=\"1\"></rect><image x=\"5\" xlink:href=\"https://raw.githubusercontent.com/romstad/Chess.jl/master/img/bn.svg\" y=\"2\" height=\"1\" width=\"1\"></image></g><g><rect x=\"5\" y=\"3\" class=\"light-square\" height=\"1\" width=\"1\"></rect><image x=\"5\" xlink:href=\"https://raw.githubusercontent.com/romstad/Chess.jl/master/img/wn.svg\" y=\"3\" height=\"1\" width=\"1\"></image></g><g><rect x=\"5\" y=\"4\" class=\"dark-square\" height=\"1\" width=\"1\"></rect><g></g></g><g><rect x=\"5\" y=\"5\" class=\"light-square\" height=\"1\" width=\"1\"></rect><image x=\"5\" xlink:href=\"https://raw.githubusercontent.com/romstad/Chess.jl/master/img/wp.svg\" y=\"5\" height=\"1\" width=\"1\"></image></g><g><rect x=\"5\" y=\"6\" class=\"dark-square\" height=\"1\" width=\"1\"></rect><image x=\"5\" xlink:href=\"https://raw.githubusercontent.com/romstad/Chess.jl/master/img/wp.svg\" y=\"6\" height=\"1\" width=\"1\"></image></g><g><rect x=\"5\" y=\"7\" class=\"light-square\" height=\"1\" width=\"1\"></rect><g></g></g><g><rect x=\"6\" y=\"0\" class=\"light-square\" height=\"1\" width=\"1\"></rect><image x=\"6\" xlink:href=\"https://raw.githubusercontent.com/romstad/Chess.jl/master/img/br.svg\" y=\"0\" height=\"1\" width=\"1\"></image></g><g><rect x=\"6\" y=\"1\" class=\"dark-square\" height=\"1\" width=\"1\"></rect><image x=\"6\" xlink:href=\"https://raw.githubusercontent.com/romstad/Chess.jl/master/img/bp.svg\" y=\"1\" height=\"1\" width=\"1\"></image></g><g><rect x=\"6\" y=\"2\" class=\"light-square\" height=\"1\" width=\"1\"></rect><g></g></g><g><rect x=\"6\" y=\"3\" class=\"dark-square\" height=\"1\" width=\"1\"></rect><g></g></g><g><rect x=\"6\" y=\"4\" class=\"light-square\" height=\"1\" width=\"1\"></rect><g></g></g><g><rect x=\"6\" y=\"5\" class=\"dark-square\" height=\"1\" width=\"1\"></rect><g></g></g><g><rect x=\"6\" y=\"6\" class=\"light-square\" height=\"1\" width=\"1\"></rect><image x=\"6\" xlink:href=\"https://raw.githubusercontent.com/romstad/Chess.jl/master/img/wk.svg\" y=\"6\" height=\"1\" width=\"1\"></image></g><g><rect x=\"6\" y=\"7\" class=\"dark-square\" height=\"1\" width=\"1\"></rect><g></g></g><g><rect x=\"7\" y=\"0\" class=\"dark-square\" height=\"1\" width=\"1\"></rect><g></g></g><g><rect x=\"7\" y=\"1\" class=\"light-square\" height=\"1\" width=\"1\"></rect><g></g></g><g><rect x=\"7\" y=\"2\" class=\"dark-square\" height=\"1\" width=\"1\"></rect><image x=\"7\" xlink:href=\"https://raw.githubusercontent.com/romstad/Chess.jl/master/img/bp.svg\" y=\"2\" height=\"1\" width=\"1\"></image></g><g><rect x=\"7\" y=\"3\" class=\"light-square\" height=\"1\" width=\"1\"></rect><g></g></g><g><rect x=\"7\" y=\"4\" class=\"dark-square\" height=\"1\" width=\"1\"></rect><g></g></g><g><rect x=\"7\" y=\"5\" class=\"light-square\" height=\"1\" width=\"1\"></rect><image x=\"7\" xlink:href=\"https://raw.githubusercontent.com/romstad/Chess.jl/master/img/wp.svg\" y=\"5\" height=\"1\" width=\"1\"></image></g><g><rect x=\"7\" y=\"6\" class=\"dark-square\" height=\"1\" width=\"1\"></rect><g></g></g><g><rect x=\"7\" y=\"7\" class=\"light-square\" height=\"1\" width=\"1\"></rect><g></g></g></g><g></g></svg><div><p>White to move</p><p><a href=\"https://lichess.org/editor/r3k1r1/1bb2pp1/p1p2n1p/2BppN2/4P3/1BP2P1P/P4PK1/3RR3_w_-_-\" target=\"_blank\">Open in lichess</a></p></div></div>"
      ],
      "text/plain": [
       "Board (r3k1r1/1bb2pp1/p1p2n1p/2BppN2/4P3/1BP2P1P/P4PK1/3RR3 w - -):\n",
       " r  -  -  -  k  -  r  - \n",
       " -  b  b  -  -  p  p  - \n",
       " p  -  p  -  -  n  -  p \n",
       " -  -  B  p  p  N  -  - \n",
       " -  -  -  -  P  -  -  - \n",
       " -  B  P  -  -  P  -  P \n",
       " P  -  -  -  -  P  K  - \n",
       " -  -  -  R  R  -  -  - "
      ]
     },
     "metadata": {},
     "output_type": "display_data"
    },
    {
     "name": "stdout",
     "output_type": "stream",
     "text": [
      "Make a move. Type 'resign' to resign from the match\n",
      "stdin> c5d6\n",
      "Cleared Cache with 0\n",
      "Inkremental score is -170 but should be -110\n"
     ]
    },
    {
     "data": {
      "text/html": [
       "Board:<div class=\"chessboard\"><style soped=\"true\">.dark-square {\n",
       "    fill: #c3936a;\n",
       "    stroke-width: 0;\n",
       "}\n",
       ".light-square {\n",
       "    fill: #ffd7a6;\n",
       "    stroke-width: 0;\n",
       "}\n",
       ".highlight {\n",
       "    fill: #47d18b;\n",
       "}\n",
       "@media (prefers-color-scheme: dark) {\n",
       "    .dark-square {\n",
       "        fill: #00796b;\n",
       "    }\n",
       "    .light-square {\n",
       "        fill: #3ca59b;\n",
       "    }\n",
       "    .highlight {\n",
       "        fill: #d23600;\n",
       "    }\n",
       "}\n",
       "</style><svg style=\"float: left; margin-right: 20px\" viewBox=\"0 0 8 8\" height=\"280\" width=\"280\"><g><g><rect x=\"0\" y=\"0\" class=\"light-square\" height=\"1\" width=\"1\"></rect><image x=\"0\" xlink:href=\"https://raw.githubusercontent.com/romstad/Chess.jl/master/img/br.svg\" y=\"0\" height=\"1\" width=\"1\"></image></g><g><rect x=\"0\" y=\"1\" class=\"dark-square\" height=\"1\" width=\"1\"></rect><g></g></g><g><rect x=\"0\" y=\"2\" class=\"light-square\" height=\"1\" width=\"1\"></rect><image x=\"0\" xlink:href=\"https://raw.githubusercontent.com/romstad/Chess.jl/master/img/bp.svg\" y=\"2\" height=\"1\" width=\"1\"></image></g><g><rect x=\"0\" y=\"3\" class=\"dark-square\" height=\"1\" width=\"1\"></rect><g></g></g><g><rect x=\"0\" y=\"4\" class=\"light-square\" height=\"1\" width=\"1\"></rect><g></g></g><g><rect x=\"0\" y=\"5\" class=\"dark-square\" height=\"1\" width=\"1\"></rect><g></g></g><g><rect x=\"0\" y=\"6\" class=\"light-square\" height=\"1\" width=\"1\"></rect><image x=\"0\" xlink:href=\"https://raw.githubusercontent.com/romstad/Chess.jl/master/img/wp.svg\" y=\"6\" height=\"1\" width=\"1\"></image></g><g><rect x=\"0\" y=\"7\" class=\"dark-square\" height=\"1\" width=\"1\"></rect><g></g></g><g><rect x=\"1\" y=\"0\" class=\"dark-square\" height=\"1\" width=\"1\"></rect><g></g></g><g><rect x=\"1\" y=\"1\" class=\"light-square\" height=\"1\" width=\"1\"></rect><image x=\"1\" xlink:href=\"https://raw.githubusercontent.com/romstad/Chess.jl/master/img/bb.svg\" y=\"1\" height=\"1\" width=\"1\"></image></g><g><rect x=\"1\" y=\"2\" class=\"dark-square\" height=\"1\" width=\"1\"></rect><g></g></g><g><rect x=\"1\" y=\"3\" class=\"light-square\" height=\"1\" width=\"1\"></rect><g></g></g><g><rect x=\"1\" y=\"4\" class=\"dark-square\" height=\"1\" width=\"1\"></rect><g></g></g><g><rect x=\"1\" y=\"5\" class=\"light-square\" height=\"1\" width=\"1\"></rect><image x=\"1\" xlink:href=\"https://raw.githubusercontent.com/romstad/Chess.jl/master/img/wb.svg\" y=\"5\" height=\"1\" width=\"1\"></image></g><g><rect x=\"1\" y=\"6\" class=\"dark-square\" height=\"1\" width=\"1\"></rect><g></g></g><g><rect x=\"1\" y=\"7\" class=\"light-square\" height=\"1\" width=\"1\"></rect><g></g></g><g><rect x=\"2\" y=\"0\" class=\"light-square\" height=\"1\" width=\"1\"></rect><g></g></g><g><rect x=\"2\" y=\"1\" class=\"dark-square\" height=\"1\" width=\"1\"></rect><image x=\"2\" xlink:href=\"https://raw.githubusercontent.com/romstad/Chess.jl/master/img/bb.svg\" y=\"1\" height=\"1\" width=\"1\"></image></g><g><rect x=\"2\" y=\"2\" class=\"light-square\" height=\"1\" width=\"1\"></rect><image x=\"2\" xlink:href=\"https://raw.githubusercontent.com/romstad/Chess.jl/master/img/bp.svg\" y=\"2\" height=\"1\" width=\"1\"></image></g><g><rect x=\"2\" y=\"3\" class=\"dark-square\" height=\"1\" width=\"1\"></rect><g></g></g><g><rect x=\"2\" y=\"4\" class=\"light-square\" height=\"1\" width=\"1\"></rect><g></g></g><g><rect x=\"2\" y=\"5\" class=\"dark-square\" height=\"1\" width=\"1\"></rect><image x=\"2\" xlink:href=\"https://raw.githubusercontent.com/romstad/Chess.jl/master/img/wp.svg\" y=\"5\" height=\"1\" width=\"1\"></image></g><g><rect x=\"2\" y=\"6\" class=\"light-square\" height=\"1\" width=\"1\"></rect><g></g></g><g><rect x=\"2\" y=\"7\" class=\"dark-square\" height=\"1\" width=\"1\"></rect><g></g></g><g><rect x=\"3\" y=\"0\" class=\"dark-square\" height=\"1\" width=\"1\"></rect><g></g></g><g><rect x=\"3\" y=\"1\" class=\"light-square\" height=\"1\" width=\"1\"></rect><g></g></g><g><rect x=\"3\" y=\"2\" class=\"dark-square\" height=\"1\" width=\"1\"></rect><image x=\"3\" xlink:href=\"https://raw.githubusercontent.com/romstad/Chess.jl/master/img/wb.svg\" y=\"2\" height=\"1\" width=\"1\"></image></g><g><rect x=\"3\" y=\"3\" class=\"light-square\" height=\"1\" width=\"1\"></rect><image x=\"3\" xlink:href=\"https://raw.githubusercontent.com/romstad/Chess.jl/master/img/bp.svg\" y=\"3\" height=\"1\" width=\"1\"></image></g><g><rect x=\"3\" y=\"4\" class=\"dark-square\" height=\"1\" width=\"1\"></rect><g></g></g><g><rect x=\"3\" y=\"5\" class=\"light-square\" height=\"1\" width=\"1\"></rect><g></g></g><g><rect x=\"3\" y=\"6\" class=\"dark-square\" height=\"1\" width=\"1\"></rect><g></g></g><g><rect x=\"3\" y=\"7\" class=\"light-square\" height=\"1\" width=\"1\"></rect><image x=\"3\" xlink:href=\"https://raw.githubusercontent.com/romstad/Chess.jl/master/img/wr.svg\" y=\"7\" height=\"1\" width=\"1\"></image></g><g><rect x=\"4\" y=\"0\" class=\"light-square\" height=\"1\" width=\"1\"></rect><image x=\"4\" xlink:href=\"https://raw.githubusercontent.com/romstad/Chess.jl/master/img/bk.svg\" y=\"0\" height=\"1\" width=\"1\"></image></g><g><rect x=\"4\" y=\"1\" class=\"dark-square\" height=\"1\" width=\"1\"></rect><g></g></g><g><rect x=\"4\" y=\"2\" class=\"light-square\" height=\"1\" width=\"1\"></rect><g></g></g><g><rect x=\"4\" y=\"3\" class=\"dark-square\" height=\"1\" width=\"1\"></rect><image x=\"4\" xlink:href=\"https://raw.githubusercontent.com/romstad/Chess.jl/master/img/bp.svg\" y=\"3\" height=\"1\" width=\"1\"></image></g><g><rect x=\"4\" y=\"4\" class=\"light-square\" height=\"1\" width=\"1\"></rect><image x=\"4\" xlink:href=\"https://raw.githubusercontent.com/romstad/Chess.jl/master/img/wp.svg\" y=\"4\" height=\"1\" width=\"1\"></image></g><g><rect x=\"4\" y=\"5\" class=\"dark-square\" height=\"1\" width=\"1\"></rect><g></g></g><g><rect x=\"4\" y=\"6\" class=\"light-square\" height=\"1\" width=\"1\"></rect><g></g></g><g><rect x=\"4\" y=\"7\" class=\"dark-square\" height=\"1\" width=\"1\"></rect><image x=\"4\" xlink:href=\"https://raw.githubusercontent.com/romstad/Chess.jl/master/img/wr.svg\" y=\"7\" height=\"1\" width=\"1\"></image></g><g><rect x=\"5\" y=\"0\" class=\"dark-square\" height=\"1\" width=\"1\"></rect><g></g></g><g><rect x=\"5\" y=\"1\" class=\"light-square\" height=\"1\" width=\"1\"></rect><image x=\"5\" xlink:href=\"https://raw.githubusercontent.com/romstad/Chess.jl/master/img/bp.svg\" y=\"1\" height=\"1\" width=\"1\"></image></g><g><rect x=\"5\" y=\"2\" class=\"dark-square\" height=\"1\" width=\"1\"></rect><image x=\"5\" xlink:href=\"https://raw.githubusercontent.com/romstad/Chess.jl/master/img/bn.svg\" y=\"2\" height=\"1\" width=\"1\"></image></g><g><rect x=\"5\" y=\"3\" class=\"light-square\" height=\"1\" width=\"1\"></rect><image x=\"5\" xlink:href=\"https://raw.githubusercontent.com/romstad/Chess.jl/master/img/wn.svg\" y=\"3\" height=\"1\" width=\"1\"></image></g><g><rect x=\"5\" y=\"4\" class=\"dark-square\" height=\"1\" width=\"1\"></rect><g></g></g><g><rect x=\"5\" y=\"5\" class=\"light-square\" height=\"1\" width=\"1\"></rect><image x=\"5\" xlink:href=\"https://raw.githubusercontent.com/romstad/Chess.jl/master/img/wp.svg\" y=\"5\" height=\"1\" width=\"1\"></image></g><g><rect x=\"5\" y=\"6\" class=\"dark-square\" height=\"1\" width=\"1\"></rect><image x=\"5\" xlink:href=\"https://raw.githubusercontent.com/romstad/Chess.jl/master/img/wp.svg\" y=\"6\" height=\"1\" width=\"1\"></image></g><g><rect x=\"5\" y=\"7\" class=\"light-square\" height=\"1\" width=\"1\"></rect><g></g></g><g><rect x=\"6\" y=\"0\" class=\"light-square\" height=\"1\" width=\"1\"></rect><image x=\"6\" xlink:href=\"https://raw.githubusercontent.com/romstad/Chess.jl/master/img/br.svg\" y=\"0\" height=\"1\" width=\"1\"></image></g><g><rect x=\"6\" y=\"1\" class=\"dark-square\" height=\"1\" width=\"1\"></rect><image x=\"6\" xlink:href=\"https://raw.githubusercontent.com/romstad/Chess.jl/master/img/bp.svg\" y=\"1\" height=\"1\" width=\"1\"></image></g><g><rect x=\"6\" y=\"2\" class=\"light-square\" height=\"1\" width=\"1\"></rect><g></g></g><g><rect x=\"6\" y=\"3\" class=\"dark-square\" height=\"1\" width=\"1\"></rect><g></g></g><g><rect x=\"6\" y=\"4\" class=\"light-square\" height=\"1\" width=\"1\"></rect><g></g></g><g><rect x=\"6\" y=\"5\" class=\"dark-square\" height=\"1\" width=\"1\"></rect><g></g></g><g><rect x=\"6\" y=\"6\" class=\"light-square\" height=\"1\" width=\"1\"></rect><image x=\"6\" xlink:href=\"https://raw.githubusercontent.com/romstad/Chess.jl/master/img/wk.svg\" y=\"6\" height=\"1\" width=\"1\"></image></g><g><rect x=\"6\" y=\"7\" class=\"dark-square\" height=\"1\" width=\"1\"></rect><g></g></g><g><rect x=\"7\" y=\"0\" class=\"dark-square\" height=\"1\" width=\"1\"></rect><g></g></g><g><rect x=\"7\" y=\"1\" class=\"light-square\" height=\"1\" width=\"1\"></rect><g></g></g><g><rect x=\"7\" y=\"2\" class=\"dark-square\" height=\"1\" width=\"1\"></rect><image x=\"7\" xlink:href=\"https://raw.githubusercontent.com/romstad/Chess.jl/master/img/bp.svg\" y=\"2\" height=\"1\" width=\"1\"></image></g><g><rect x=\"7\" y=\"3\" class=\"light-square\" height=\"1\" width=\"1\"></rect><g></g></g><g><rect x=\"7\" y=\"4\" class=\"dark-square\" height=\"1\" width=\"1\"></rect><g></g></g><g><rect x=\"7\" y=\"5\" class=\"light-square\" height=\"1\" width=\"1\"></rect><image x=\"7\" xlink:href=\"https://raw.githubusercontent.com/romstad/Chess.jl/master/img/wp.svg\" y=\"5\" height=\"1\" width=\"1\"></image></g><g><rect x=\"7\" y=\"6\" class=\"dark-square\" height=\"1\" width=\"1\"></rect><g></g></g><g><rect x=\"7\" y=\"7\" class=\"light-square\" height=\"1\" width=\"1\"></rect><g></g></g></g><g></g></svg><div><p>Black to move</p><p><a href=\"https://lichess.org/editor/r3k1r1/1bb2pp1/p1pB1n1p/3ppN2/4P3/1BP2P1P/P4PK1/3RR3_b_-_-\" target=\"_blank\">Open in lichess</a></p></div></div>"
      ],
      "text/plain": [
       "Board (r3k1r1/1bb2pp1/p1pB1n1p/3ppN2/4P3/1BP2P1P/P4PK1/3RR3 b - -):\n",
       " r  -  -  -  k  -  r  - \n",
       " -  b  b  -  -  p  p  - \n",
       " p  -  p  B  -  n  -  p \n",
       " -  -  -  p  p  N  -  - \n",
       " -  -  -  -  P  -  -  - \n",
       " -  B  P  -  -  P  -  P \n",
       " P  -  -  -  -  P  K  - \n",
       " -  -  -  R  R  -  -  - "
      ]
     },
     "metadata": {},
     "output_type": "display_data"
    },
    {
     "name": "stdout",
     "output_type": "stream",
     "text": [
      "Evaluation of engine: -50.0\n",
      "Current board score: -170\n",
      "Current entries in Cache: 7624\n",
      "Cleared Cache with 7624\n",
      "  7.434933 seconds (26.54 M allocations: 1.565 GiB, 6.05% gc time)\n",
      "Inkremental score is -170 but should be -110\n"
     ]
    },
    {
     "data": {
      "text/html": [
       "Board:<div class=\"chessboard\"><style soped=\"true\">.dark-square {\n",
       "    fill: #c3936a;\n",
       "    stroke-width: 0;\n",
       "}\n",
       ".light-square {\n",
       "    fill: #ffd7a6;\n",
       "    stroke-width: 0;\n",
       "}\n",
       ".highlight {\n",
       "    fill: #47d18b;\n",
       "}\n",
       "@media (prefers-color-scheme: dark) {\n",
       "    .dark-square {\n",
       "        fill: #00796b;\n",
       "    }\n",
       "    .light-square {\n",
       "        fill: #3ca59b;\n",
       "    }\n",
       "    .highlight {\n",
       "        fill: #d23600;\n",
       "    }\n",
       "}\n",
       "</style><svg style=\"float: left; margin-right: 20px\" viewBox=\"0 0 8 8\" height=\"280\" width=\"280\"><g><g><rect x=\"0\" y=\"0\" class=\"light-square\" height=\"1\" width=\"1\"></rect><g></g></g><g><rect x=\"0\" y=\"1\" class=\"dark-square\" height=\"1\" width=\"1\"></rect><g></g></g><g><rect x=\"0\" y=\"2\" class=\"light-square\" height=\"1\" width=\"1\"></rect><image x=\"0\" xlink:href=\"https://raw.githubusercontent.com/romstad/Chess.jl/master/img/bp.svg\" y=\"2\" height=\"1\" width=\"1\"></image></g><g><rect x=\"0\" y=\"3\" class=\"dark-square\" height=\"1\" width=\"1\"></rect><g></g></g><g><rect x=\"0\" y=\"4\" class=\"light-square\" height=\"1\" width=\"1\"></rect><g></g></g><g><rect x=\"0\" y=\"5\" class=\"dark-square\" height=\"1\" width=\"1\"></rect><g></g></g><g><rect x=\"0\" y=\"6\" class=\"light-square\" height=\"1\" width=\"1\"></rect><image x=\"0\" xlink:href=\"https://raw.githubusercontent.com/romstad/Chess.jl/master/img/wp.svg\" y=\"6\" height=\"1\" width=\"1\"></image></g><g><rect x=\"0\" y=\"7\" class=\"dark-square\" height=\"1\" width=\"1\"></rect><g></g></g><g><rect x=\"1\" y=\"0\" class=\"dark-square\" height=\"1\" width=\"1\"></rect><g></g></g><g><rect x=\"1\" y=\"1\" class=\"light-square\" height=\"1\" width=\"1\"></rect><image x=\"1\" xlink:href=\"https://raw.githubusercontent.com/romstad/Chess.jl/master/img/bb.svg\" y=\"1\" height=\"1\" width=\"1\"></image></g><g><rect x=\"1\" y=\"2\" class=\"dark-square\" height=\"1\" width=\"1\"></rect><g></g></g><g><rect x=\"1\" y=\"3\" class=\"light-square\" height=\"1\" width=\"1\"></rect><g></g></g><g><rect x=\"1\" y=\"4\" class=\"dark-square\" height=\"1\" width=\"1\"></rect><g></g></g><g><rect x=\"1\" y=\"5\" class=\"light-square\" height=\"1\" width=\"1\"></rect><image x=\"1\" xlink:href=\"https://raw.githubusercontent.com/romstad/Chess.jl/master/img/wb.svg\" y=\"5\" height=\"1\" width=\"1\"></image></g><g><rect x=\"1\" y=\"6\" class=\"dark-square\" height=\"1\" width=\"1\"></rect><g></g></g><g><rect x=\"1\" y=\"7\" class=\"light-square\" height=\"1\" width=\"1\"></rect><g></g></g><g><rect x=\"2\" y=\"0\" class=\"light-square\" height=\"1\" width=\"1\"></rect><image x=\"2\" xlink:href=\"https://raw.githubusercontent.com/romstad/Chess.jl/master/img/br.svg\" y=\"0\" height=\"1\" width=\"1\"></image></g><g><rect x=\"2\" y=\"1\" class=\"dark-square\" height=\"1\" width=\"1\"></rect><image x=\"2\" xlink:href=\"https://raw.githubusercontent.com/romstad/Chess.jl/master/img/bb.svg\" y=\"1\" height=\"1\" width=\"1\"></image></g><g><rect x=\"2\" y=\"2\" class=\"light-square\" height=\"1\" width=\"1\"></rect><image x=\"2\" xlink:href=\"https://raw.githubusercontent.com/romstad/Chess.jl/master/img/bp.svg\" y=\"2\" height=\"1\" width=\"1\"></image></g><g><rect x=\"2\" y=\"3\" class=\"dark-square\" height=\"1\" width=\"1\"></rect><g></g></g><g><rect x=\"2\" y=\"4\" class=\"light-square\" height=\"1\" width=\"1\"></rect><g></g></g><g><rect x=\"2\" y=\"5\" class=\"dark-square\" height=\"1\" width=\"1\"></rect><image x=\"2\" xlink:href=\"https://raw.githubusercontent.com/romstad/Chess.jl/master/img/wp.svg\" y=\"5\" height=\"1\" width=\"1\"></image></g><g><rect x=\"2\" y=\"6\" class=\"light-square\" height=\"1\" width=\"1\"></rect><g></g></g><g><rect x=\"2\" y=\"7\" class=\"dark-square\" height=\"1\" width=\"1\"></rect><g></g></g><g><rect x=\"3\" y=\"0\" class=\"dark-square\" height=\"1\" width=\"1\"></rect><g></g></g><g><rect x=\"3\" y=\"1\" class=\"light-square\" height=\"1\" width=\"1\"></rect><g></g></g><g><rect x=\"3\" y=\"2\" class=\"dark-square\" height=\"1\" width=\"1\"></rect><image x=\"3\" xlink:href=\"https://raw.githubusercontent.com/romstad/Chess.jl/master/img/wb.svg\" y=\"2\" height=\"1\" width=\"1\"></image></g><g><rect x=\"3\" y=\"3\" class=\"light-square\" height=\"1\" width=\"1\"></rect><image x=\"3\" xlink:href=\"https://raw.githubusercontent.com/romstad/Chess.jl/master/img/bp.svg\" y=\"3\" height=\"1\" width=\"1\"></image></g><g><rect x=\"3\" y=\"4\" class=\"dark-square\" height=\"1\" width=\"1\"></rect><g></g></g><g><rect x=\"3\" y=\"5\" class=\"light-square\" height=\"1\" width=\"1\"></rect><g></g></g><g><rect x=\"3\" y=\"6\" class=\"dark-square\" height=\"1\" width=\"1\"></rect><g></g></g><g><rect x=\"3\" y=\"7\" class=\"light-square\" height=\"1\" width=\"1\"></rect><image x=\"3\" xlink:href=\"https://raw.githubusercontent.com/romstad/Chess.jl/master/img/wr.svg\" y=\"7\" height=\"1\" width=\"1\"></image></g><g><rect x=\"4\" y=\"0\" class=\"light-square\" height=\"1\" width=\"1\"></rect><image x=\"4\" xlink:href=\"https://raw.githubusercontent.com/romstad/Chess.jl/master/img/bk.svg\" y=\"0\" height=\"1\" width=\"1\"></image></g><g><rect x=\"4\" y=\"1\" class=\"dark-square\" height=\"1\" width=\"1\"></rect><g></g></g><g><rect x=\"4\" y=\"2\" class=\"light-square\" height=\"1\" width=\"1\"></rect><g></g></g><g><rect x=\"4\" y=\"3\" class=\"dark-square\" height=\"1\" width=\"1\"></rect><image x=\"4\" xlink:href=\"https://raw.githubusercontent.com/romstad/Chess.jl/master/img/bp.svg\" y=\"3\" height=\"1\" width=\"1\"></image></g><g><rect x=\"4\" y=\"4\" class=\"light-square\" height=\"1\" width=\"1\"></rect><image x=\"4\" xlink:href=\"https://raw.githubusercontent.com/romstad/Chess.jl/master/img/wp.svg\" y=\"4\" height=\"1\" width=\"1\"></image></g><g><rect x=\"4\" y=\"5\" class=\"dark-square\" height=\"1\" width=\"1\"></rect><g></g></g><g><rect x=\"4\" y=\"6\" class=\"light-square\" height=\"1\" width=\"1\"></rect><g></g></g><g><rect x=\"4\" y=\"7\" class=\"dark-square\" height=\"1\" width=\"1\"></rect><image x=\"4\" xlink:href=\"https://raw.githubusercontent.com/romstad/Chess.jl/master/img/wr.svg\" y=\"7\" height=\"1\" width=\"1\"></image></g><g><rect x=\"5\" y=\"0\" class=\"dark-square\" height=\"1\" width=\"1\"></rect><g></g></g><g><rect x=\"5\" y=\"1\" class=\"light-square\" height=\"1\" width=\"1\"></rect><image x=\"5\" xlink:href=\"https://raw.githubusercontent.com/romstad/Chess.jl/master/img/bp.svg\" y=\"1\" height=\"1\" width=\"1\"></image></g><g><rect x=\"5\" y=\"2\" class=\"dark-square\" height=\"1\" width=\"1\"></rect><image x=\"5\" xlink:href=\"https://raw.githubusercontent.com/romstad/Chess.jl/master/img/bn.svg\" y=\"2\" height=\"1\" width=\"1\"></image></g><g><rect x=\"5\" y=\"3\" class=\"light-square\" height=\"1\" width=\"1\"></rect><image x=\"5\" xlink:href=\"https://raw.githubusercontent.com/romstad/Chess.jl/master/img/wn.svg\" y=\"3\" height=\"1\" width=\"1\"></image></g><g><rect x=\"5\" y=\"4\" class=\"dark-square\" height=\"1\" width=\"1\"></rect><g></g></g><g><rect x=\"5\" y=\"5\" class=\"light-square\" height=\"1\" width=\"1\"></rect><image x=\"5\" xlink:href=\"https://raw.githubusercontent.com/romstad/Chess.jl/master/img/wp.svg\" y=\"5\" height=\"1\" width=\"1\"></image></g><g><rect x=\"5\" y=\"6\" class=\"dark-square\" height=\"1\" width=\"1\"></rect><image x=\"5\" xlink:href=\"https://raw.githubusercontent.com/romstad/Chess.jl/master/img/wp.svg\" y=\"6\" height=\"1\" width=\"1\"></image></g><g><rect x=\"5\" y=\"7\" class=\"light-square\" height=\"1\" width=\"1\"></rect><g></g></g><g><rect x=\"6\" y=\"0\" class=\"light-square\" height=\"1\" width=\"1\"></rect><image x=\"6\" xlink:href=\"https://raw.githubusercontent.com/romstad/Chess.jl/master/img/br.svg\" y=\"0\" height=\"1\" width=\"1\"></image></g><g><rect x=\"6\" y=\"1\" class=\"dark-square\" height=\"1\" width=\"1\"></rect><image x=\"6\" xlink:href=\"https://raw.githubusercontent.com/romstad/Chess.jl/master/img/bp.svg\" y=\"1\" height=\"1\" width=\"1\"></image></g><g><rect x=\"6\" y=\"2\" class=\"light-square\" height=\"1\" width=\"1\"></rect><g></g></g><g><rect x=\"6\" y=\"3\" class=\"dark-square\" height=\"1\" width=\"1\"></rect><g></g></g><g><rect x=\"6\" y=\"4\" class=\"light-square\" height=\"1\" width=\"1\"></rect><g></g></g><g><rect x=\"6\" y=\"5\" class=\"dark-square\" height=\"1\" width=\"1\"></rect><g></g></g><g><rect x=\"6\" y=\"6\" class=\"light-square\" height=\"1\" width=\"1\"></rect><image x=\"6\" xlink:href=\"https://raw.githubusercontent.com/romstad/Chess.jl/master/img/wk.svg\" y=\"6\" height=\"1\" width=\"1\"></image></g><g><rect x=\"6\" y=\"7\" class=\"dark-square\" height=\"1\" width=\"1\"></rect><g></g></g><g><rect x=\"7\" y=\"0\" class=\"dark-square\" height=\"1\" width=\"1\"></rect><g></g></g><g><rect x=\"7\" y=\"1\" class=\"light-square\" height=\"1\" width=\"1\"></rect><g></g></g><g><rect x=\"7\" y=\"2\" class=\"dark-square\" height=\"1\" width=\"1\"></rect><image x=\"7\" xlink:href=\"https://raw.githubusercontent.com/romstad/Chess.jl/master/img/bp.svg\" y=\"2\" height=\"1\" width=\"1\"></image></g><g><rect x=\"7\" y=\"3\" class=\"light-square\" height=\"1\" width=\"1\"></rect><g></g></g><g><rect x=\"7\" y=\"4\" class=\"dark-square\" height=\"1\" width=\"1\"></rect><g></g></g><g><rect x=\"7\" y=\"5\" class=\"light-square\" height=\"1\" width=\"1\"></rect><image x=\"7\" xlink:href=\"https://raw.githubusercontent.com/romstad/Chess.jl/master/img/wp.svg\" y=\"5\" height=\"1\" width=\"1\"></image></g><g><rect x=\"7\" y=\"6\" class=\"dark-square\" height=\"1\" width=\"1\"></rect><g></g></g><g><rect x=\"7\" y=\"7\" class=\"light-square\" height=\"1\" width=\"1\"></rect><g></g></g></g><g></g></svg><div><p>White to move</p><p><a href=\"https://lichess.org/editor/2r1k1r1/1bb2pp1/p1pB1n1p/3ppN2/4P3/1BP2P1P/P4PK1/3RR3_w_-_-\" target=\"_blank\">Open in lichess</a></p></div></div>"
      ],
      "text/plain": [
       "Board (2r1k1r1/1bb2pp1/p1pB1n1p/3ppN2/4P3/1BP2P1P/P4PK1/3RR3 w - -):\n",
       " -  -  r  -  k  -  r  - \n",
       " -  b  b  -  -  p  p  - \n",
       " p  -  p  B  -  n  -  p \n",
       " -  -  -  p  p  N  -  - \n",
       " -  -  -  -  P  -  -  - \n",
       " -  B  P  -  -  P  -  P \n",
       " P  -  -  -  -  P  K  - \n",
       " -  -  -  R  R  -  -  - "
      ]
     },
     "metadata": {},
     "output_type": "display_data"
    },
    {
     "name": "stdout",
     "output_type": "stream",
     "text": [
      "Make a move. Type 'resign' to resign from the match\n",
      "stdin> d6c7\n",
      "Cleared Cache with 0\n",
      "Inkremental score is 150 but should be 210\n"
     ]
    },
    {
     "data": {
      "text/html": [
       "Board:<div class=\"chessboard\"><style soped=\"true\">.dark-square {\n",
       "    fill: #c3936a;\n",
       "    stroke-width: 0;\n",
       "}\n",
       ".light-square {\n",
       "    fill: #ffd7a6;\n",
       "    stroke-width: 0;\n",
       "}\n",
       ".highlight {\n",
       "    fill: #47d18b;\n",
       "}\n",
       "@media (prefers-color-scheme: dark) {\n",
       "    .dark-square {\n",
       "        fill: #00796b;\n",
       "    }\n",
       "    .light-square {\n",
       "        fill: #3ca59b;\n",
       "    }\n",
       "    .highlight {\n",
       "        fill: #d23600;\n",
       "    }\n",
       "}\n",
       "</style><svg style=\"float: left; margin-right: 20px\" viewBox=\"0 0 8 8\" height=\"280\" width=\"280\"><g><g><rect x=\"0\" y=\"0\" class=\"light-square\" height=\"1\" width=\"1\"></rect><g></g></g><g><rect x=\"0\" y=\"1\" class=\"dark-square\" height=\"1\" width=\"1\"></rect><g></g></g><g><rect x=\"0\" y=\"2\" class=\"light-square\" height=\"1\" width=\"1\"></rect><image x=\"0\" xlink:href=\"https://raw.githubusercontent.com/romstad/Chess.jl/master/img/bp.svg\" y=\"2\" height=\"1\" width=\"1\"></image></g><g><rect x=\"0\" y=\"3\" class=\"dark-square\" height=\"1\" width=\"1\"></rect><g></g></g><g><rect x=\"0\" y=\"4\" class=\"light-square\" height=\"1\" width=\"1\"></rect><g></g></g><g><rect x=\"0\" y=\"5\" class=\"dark-square\" height=\"1\" width=\"1\"></rect><g></g></g><g><rect x=\"0\" y=\"6\" class=\"light-square\" height=\"1\" width=\"1\"></rect><image x=\"0\" xlink:href=\"https://raw.githubusercontent.com/romstad/Chess.jl/master/img/wp.svg\" y=\"6\" height=\"1\" width=\"1\"></image></g><g><rect x=\"0\" y=\"7\" class=\"dark-square\" height=\"1\" width=\"1\"></rect><g></g></g><g><rect x=\"1\" y=\"0\" class=\"dark-square\" height=\"1\" width=\"1\"></rect><g></g></g><g><rect x=\"1\" y=\"1\" class=\"light-square\" height=\"1\" width=\"1\"></rect><image x=\"1\" xlink:href=\"https://raw.githubusercontent.com/romstad/Chess.jl/master/img/bb.svg\" y=\"1\" height=\"1\" width=\"1\"></image></g><g><rect x=\"1\" y=\"2\" class=\"dark-square\" height=\"1\" width=\"1\"></rect><g></g></g><g><rect x=\"1\" y=\"3\" class=\"light-square\" height=\"1\" width=\"1\"></rect><g></g></g><g><rect x=\"1\" y=\"4\" class=\"dark-square\" height=\"1\" width=\"1\"></rect><g></g></g><g><rect x=\"1\" y=\"5\" class=\"light-square\" height=\"1\" width=\"1\"></rect><image x=\"1\" xlink:href=\"https://raw.githubusercontent.com/romstad/Chess.jl/master/img/wb.svg\" y=\"5\" height=\"1\" width=\"1\"></image></g><g><rect x=\"1\" y=\"6\" class=\"dark-square\" height=\"1\" width=\"1\"></rect><g></g></g><g><rect x=\"1\" y=\"7\" class=\"light-square\" height=\"1\" width=\"1\"></rect><g></g></g><g><rect x=\"2\" y=\"0\" class=\"light-square\" height=\"1\" width=\"1\"></rect><image x=\"2\" xlink:href=\"https://raw.githubusercontent.com/romstad/Chess.jl/master/img/br.svg\" y=\"0\" height=\"1\" width=\"1\"></image></g><g><rect x=\"2\" y=\"1\" class=\"dark-square\" height=\"1\" width=\"1\"></rect><image x=\"2\" xlink:href=\"https://raw.githubusercontent.com/romstad/Chess.jl/master/img/wb.svg\" y=\"1\" height=\"1\" width=\"1\"></image></g><g><rect x=\"2\" y=\"2\" class=\"light-square\" height=\"1\" width=\"1\"></rect><image x=\"2\" xlink:href=\"https://raw.githubusercontent.com/romstad/Chess.jl/master/img/bp.svg\" y=\"2\" height=\"1\" width=\"1\"></image></g><g><rect x=\"2\" y=\"3\" class=\"dark-square\" height=\"1\" width=\"1\"></rect><g></g></g><g><rect x=\"2\" y=\"4\" class=\"light-square\" height=\"1\" width=\"1\"></rect><g></g></g><g><rect x=\"2\" y=\"5\" class=\"dark-square\" height=\"1\" width=\"1\"></rect><image x=\"2\" xlink:href=\"https://raw.githubusercontent.com/romstad/Chess.jl/master/img/wp.svg\" y=\"5\" height=\"1\" width=\"1\"></image></g><g><rect x=\"2\" y=\"6\" class=\"light-square\" height=\"1\" width=\"1\"></rect><g></g></g><g><rect x=\"2\" y=\"7\" class=\"dark-square\" height=\"1\" width=\"1\"></rect><g></g></g><g><rect x=\"3\" y=\"0\" class=\"dark-square\" height=\"1\" width=\"1\"></rect><g></g></g><g><rect x=\"3\" y=\"1\" class=\"light-square\" height=\"1\" width=\"1\"></rect><g></g></g><g><rect x=\"3\" y=\"2\" class=\"dark-square\" height=\"1\" width=\"1\"></rect><g></g></g><g><rect x=\"3\" y=\"3\" class=\"light-square\" height=\"1\" width=\"1\"></rect><image x=\"3\" xlink:href=\"https://raw.githubusercontent.com/romstad/Chess.jl/master/img/bp.svg\" y=\"3\" height=\"1\" width=\"1\"></image></g><g><rect x=\"3\" y=\"4\" class=\"dark-square\" height=\"1\" width=\"1\"></rect><g></g></g><g><rect x=\"3\" y=\"5\" class=\"light-square\" height=\"1\" width=\"1\"></rect><g></g></g><g><rect x=\"3\" y=\"6\" class=\"dark-square\" height=\"1\" width=\"1\"></rect><g></g></g><g><rect x=\"3\" y=\"7\" class=\"light-square\" height=\"1\" width=\"1\"></rect><image x=\"3\" xlink:href=\"https://raw.githubusercontent.com/romstad/Chess.jl/master/img/wr.svg\" y=\"7\" height=\"1\" width=\"1\"></image></g><g><rect x=\"4\" y=\"0\" class=\"light-square\" height=\"1\" width=\"1\"></rect><image x=\"4\" xlink:href=\"https://raw.githubusercontent.com/romstad/Chess.jl/master/img/bk.svg\" y=\"0\" height=\"1\" width=\"1\"></image></g><g><rect x=\"4\" y=\"1\" class=\"dark-square\" height=\"1\" width=\"1\"></rect><g></g></g><g><rect x=\"4\" y=\"2\" class=\"light-square\" height=\"1\" width=\"1\"></rect><g></g></g><g><rect x=\"4\" y=\"3\" class=\"dark-square\" height=\"1\" width=\"1\"></rect><image x=\"4\" xlink:href=\"https://raw.githubusercontent.com/romstad/Chess.jl/master/img/bp.svg\" y=\"3\" height=\"1\" width=\"1\"></image></g><g><rect x=\"4\" y=\"4\" class=\"light-square\" height=\"1\" width=\"1\"></rect><image x=\"4\" xlink:href=\"https://raw.githubusercontent.com/romstad/Chess.jl/master/img/wp.svg\" y=\"4\" height=\"1\" width=\"1\"></image></g><g><rect x=\"4\" y=\"5\" class=\"dark-square\" height=\"1\" width=\"1\"></rect><g></g></g><g><rect x=\"4\" y=\"6\" class=\"light-square\" height=\"1\" width=\"1\"></rect><g></g></g><g><rect x=\"4\" y=\"7\" class=\"dark-square\" height=\"1\" width=\"1\"></rect><image x=\"4\" xlink:href=\"https://raw.githubusercontent.com/romstad/Chess.jl/master/img/wr.svg\" y=\"7\" height=\"1\" width=\"1\"></image></g><g><rect x=\"5\" y=\"0\" class=\"dark-square\" height=\"1\" width=\"1\"></rect><g></g></g><g><rect x=\"5\" y=\"1\" class=\"light-square\" height=\"1\" width=\"1\"></rect><image x=\"5\" xlink:href=\"https://raw.githubusercontent.com/romstad/Chess.jl/master/img/bp.svg\" y=\"1\" height=\"1\" width=\"1\"></image></g><g><rect x=\"5\" y=\"2\" class=\"dark-square\" height=\"1\" width=\"1\"></rect><image x=\"5\" xlink:href=\"https://raw.githubusercontent.com/romstad/Chess.jl/master/img/bn.svg\" y=\"2\" height=\"1\" width=\"1\"></image></g><g><rect x=\"5\" y=\"3\" class=\"light-square\" height=\"1\" width=\"1\"></rect><image x=\"5\" xlink:href=\"https://raw.githubusercontent.com/romstad/Chess.jl/master/img/wn.svg\" y=\"3\" height=\"1\" width=\"1\"></image></g><g><rect x=\"5\" y=\"4\" class=\"dark-square\" height=\"1\" width=\"1\"></rect><g></g></g><g><rect x=\"5\" y=\"5\" class=\"light-square\" height=\"1\" width=\"1\"></rect><image x=\"5\" xlink:href=\"https://raw.githubusercontent.com/romstad/Chess.jl/master/img/wp.svg\" y=\"5\" height=\"1\" width=\"1\"></image></g><g><rect x=\"5\" y=\"6\" class=\"dark-square\" height=\"1\" width=\"1\"></rect><image x=\"5\" xlink:href=\"https://raw.githubusercontent.com/romstad/Chess.jl/master/img/wp.svg\" y=\"6\" height=\"1\" width=\"1\"></image></g><g><rect x=\"5\" y=\"7\" class=\"light-square\" height=\"1\" width=\"1\"></rect><g></g></g><g><rect x=\"6\" y=\"0\" class=\"light-square\" height=\"1\" width=\"1\"></rect><image x=\"6\" xlink:href=\"https://raw.githubusercontent.com/romstad/Chess.jl/master/img/br.svg\" y=\"0\" height=\"1\" width=\"1\"></image></g><g><rect x=\"6\" y=\"1\" class=\"dark-square\" height=\"1\" width=\"1\"></rect><image x=\"6\" xlink:href=\"https://raw.githubusercontent.com/romstad/Chess.jl/master/img/bp.svg\" y=\"1\" height=\"1\" width=\"1\"></image></g><g><rect x=\"6\" y=\"2\" class=\"light-square\" height=\"1\" width=\"1\"></rect><g></g></g><g><rect x=\"6\" y=\"3\" class=\"dark-square\" height=\"1\" width=\"1\"></rect><g></g></g><g><rect x=\"6\" y=\"4\" class=\"light-square\" height=\"1\" width=\"1\"></rect><g></g></g><g><rect x=\"6\" y=\"5\" class=\"dark-square\" height=\"1\" width=\"1\"></rect><g></g></g><g><rect x=\"6\" y=\"6\" class=\"light-square\" height=\"1\" width=\"1\"></rect><image x=\"6\" xlink:href=\"https://raw.githubusercontent.com/romstad/Chess.jl/master/img/wk.svg\" y=\"6\" height=\"1\" width=\"1\"></image></g><g><rect x=\"6\" y=\"7\" class=\"dark-square\" height=\"1\" width=\"1\"></rect><g></g></g><g><rect x=\"7\" y=\"0\" class=\"dark-square\" height=\"1\" width=\"1\"></rect><g></g></g><g><rect x=\"7\" y=\"1\" class=\"light-square\" height=\"1\" width=\"1\"></rect><g></g></g><g><rect x=\"7\" y=\"2\" class=\"dark-square\" height=\"1\" width=\"1\"></rect><image x=\"7\" xlink:href=\"https://raw.githubusercontent.com/romstad/Chess.jl/master/img/bp.svg\" y=\"2\" height=\"1\" width=\"1\"></image></g><g><rect x=\"7\" y=\"3\" class=\"light-square\" height=\"1\" width=\"1\"></rect><g></g></g><g><rect x=\"7\" y=\"4\" class=\"dark-square\" height=\"1\" width=\"1\"></rect><g></g></g><g><rect x=\"7\" y=\"5\" class=\"light-square\" height=\"1\" width=\"1\"></rect><image x=\"7\" xlink:href=\"https://raw.githubusercontent.com/romstad/Chess.jl/master/img/wp.svg\" y=\"5\" height=\"1\" width=\"1\"></image></g><g><rect x=\"7\" y=\"6\" class=\"dark-square\" height=\"1\" width=\"1\"></rect><g></g></g><g><rect x=\"7\" y=\"7\" class=\"light-square\" height=\"1\" width=\"1\"></rect><g></g></g></g><g></g></svg><div><p>Black to move</p><p><a href=\"https://lichess.org/editor/2r1k1r1/1bB2pp1/p1p2n1p/3ppN2/4P3/1BP2P1P/P4PK1/3RR3_b_-_-\" target=\"_blank\">Open in lichess</a></p></div></div>"
      ],
      "text/plain": [
       "Board (2r1k1r1/1bB2pp1/p1p2n1p/3ppN2/4P3/1BP2P1P/P4PK1/3RR3 b - -):\n",
       " -  -  r  -  k  -  r  - \n",
       " -  b  B  -  -  p  p  - \n",
       " p  -  p  -  -  n  -  p \n",
       " -  -  -  p  p  N  -  - \n",
       " -  -  -  -  P  -  -  - \n",
       " -  B  P  -  -  P  -  P \n",
       " P  -  -  -  -  P  K  - \n",
       " -  -  -  R  R  -  -  - "
      ]
     },
     "metadata": {},
     "output_type": "display_data"
    },
    {
     "name": "stdout",
     "output_type": "stream",
     "text": [
      "Evaluation of engine: 90.0\n",
      "Current board score: 150\n",
      "Current entries in Cache: 4121\n",
      "Cleared Cache with 4121\n",
      "  3.828437 seconds (13.69 M allocations: 813.984 MiB, 2.53% gc time)\n",
      "Inkremental score is -180 but should be -120\n"
     ]
    },
    {
     "data": {
      "text/html": [
       "Board:<div class=\"chessboard\"><style soped=\"true\">.dark-square {\n",
       "    fill: #c3936a;\n",
       "    stroke-width: 0;\n",
       "}\n",
       ".light-square {\n",
       "    fill: #ffd7a6;\n",
       "    stroke-width: 0;\n",
       "}\n",
       ".highlight {\n",
       "    fill: #47d18b;\n",
       "}\n",
       "@media (prefers-color-scheme: dark) {\n",
       "    .dark-square {\n",
       "        fill: #00796b;\n",
       "    }\n",
       "    .light-square {\n",
       "        fill: #3ca59b;\n",
       "    }\n",
       "    .highlight {\n",
       "        fill: #d23600;\n",
       "    }\n",
       "}\n",
       "</style><svg style=\"float: left; margin-right: 20px\" viewBox=\"0 0 8 8\" height=\"280\" width=\"280\"><g><g><rect x=\"0\" y=\"0\" class=\"light-square\" height=\"1\" width=\"1\"></rect><g></g></g><g><rect x=\"0\" y=\"1\" class=\"dark-square\" height=\"1\" width=\"1\"></rect><g></g></g><g><rect x=\"0\" y=\"2\" class=\"light-square\" height=\"1\" width=\"1\"></rect><image x=\"0\" xlink:href=\"https://raw.githubusercontent.com/romstad/Chess.jl/master/img/bp.svg\" y=\"2\" height=\"1\" width=\"1\"></image></g><g><rect x=\"0\" y=\"3\" class=\"dark-square\" height=\"1\" width=\"1\"></rect><g></g></g><g><rect x=\"0\" y=\"4\" class=\"light-square\" height=\"1\" width=\"1\"></rect><g></g></g><g><rect x=\"0\" y=\"5\" class=\"dark-square\" height=\"1\" width=\"1\"></rect><g></g></g><g><rect x=\"0\" y=\"6\" class=\"light-square\" height=\"1\" width=\"1\"></rect><image x=\"0\" xlink:href=\"https://raw.githubusercontent.com/romstad/Chess.jl/master/img/wp.svg\" y=\"6\" height=\"1\" width=\"1\"></image></g><g><rect x=\"0\" y=\"7\" class=\"dark-square\" height=\"1\" width=\"1\"></rect><g></g></g><g><rect x=\"1\" y=\"0\" class=\"dark-square\" height=\"1\" width=\"1\"></rect><g></g></g><g><rect x=\"1\" y=\"1\" class=\"light-square\" height=\"1\" width=\"1\"></rect><image x=\"1\" xlink:href=\"https://raw.githubusercontent.com/romstad/Chess.jl/master/img/bb.svg\" y=\"1\" height=\"1\" width=\"1\"></image></g><g><rect x=\"1\" y=\"2\" class=\"dark-square\" height=\"1\" width=\"1\"></rect><g></g></g><g><rect x=\"1\" y=\"3\" class=\"light-square\" height=\"1\" width=\"1\"></rect><g></g></g><g><rect x=\"1\" y=\"4\" class=\"dark-square\" height=\"1\" width=\"1\"></rect><g></g></g><g><rect x=\"1\" y=\"5\" class=\"light-square\" height=\"1\" width=\"1\"></rect><image x=\"1\" xlink:href=\"https://raw.githubusercontent.com/romstad/Chess.jl/master/img/wb.svg\" y=\"5\" height=\"1\" width=\"1\"></image></g><g><rect x=\"1\" y=\"6\" class=\"dark-square\" height=\"1\" width=\"1\"></rect><g></g></g><g><rect x=\"1\" y=\"7\" class=\"light-square\" height=\"1\" width=\"1\"></rect><g></g></g><g><rect x=\"2\" y=\"0\" class=\"light-square\" height=\"1\" width=\"1\"></rect><g></g></g><g><rect x=\"2\" y=\"1\" class=\"dark-square\" height=\"1\" width=\"1\"></rect><image x=\"2\" xlink:href=\"https://raw.githubusercontent.com/romstad/Chess.jl/master/img/br.svg\" y=\"1\" height=\"1\" width=\"1\"></image></g><g><rect x=\"2\" y=\"2\" class=\"light-square\" height=\"1\" width=\"1\"></rect><image x=\"2\" xlink:href=\"https://raw.githubusercontent.com/romstad/Chess.jl/master/img/bp.svg\" y=\"2\" height=\"1\" width=\"1\"></image></g><g><rect x=\"2\" y=\"3\" class=\"dark-square\" height=\"1\" width=\"1\"></rect><g></g></g><g><rect x=\"2\" y=\"4\" class=\"light-square\" height=\"1\" width=\"1\"></rect><g></g></g><g><rect x=\"2\" y=\"5\" class=\"dark-square\" height=\"1\" width=\"1\"></rect><image x=\"2\" xlink:href=\"https://raw.githubusercontent.com/romstad/Chess.jl/master/img/wp.svg\" y=\"5\" height=\"1\" width=\"1\"></image></g><g><rect x=\"2\" y=\"6\" class=\"light-square\" height=\"1\" width=\"1\"></rect><g></g></g><g><rect x=\"2\" y=\"7\" class=\"dark-square\" height=\"1\" width=\"1\"></rect><g></g></g><g><rect x=\"3\" y=\"0\" class=\"dark-square\" height=\"1\" width=\"1\"></rect><g></g></g><g><rect x=\"3\" y=\"1\" class=\"light-square\" height=\"1\" width=\"1\"></rect><g></g></g><g><rect x=\"3\" y=\"2\" class=\"dark-square\" height=\"1\" width=\"1\"></rect><g></g></g><g><rect x=\"3\" y=\"3\" class=\"light-square\" height=\"1\" width=\"1\"></rect><image x=\"3\" xlink:href=\"https://raw.githubusercontent.com/romstad/Chess.jl/master/img/bp.svg\" y=\"3\" height=\"1\" width=\"1\"></image></g><g><rect x=\"3\" y=\"4\" class=\"dark-square\" height=\"1\" width=\"1\"></rect><g></g></g><g><rect x=\"3\" y=\"5\" class=\"light-square\" height=\"1\" width=\"1\"></rect><g></g></g><g><rect x=\"3\" y=\"6\" class=\"dark-square\" height=\"1\" width=\"1\"></rect><g></g></g><g><rect x=\"3\" y=\"7\" class=\"light-square\" height=\"1\" width=\"1\"></rect><image x=\"3\" xlink:href=\"https://raw.githubusercontent.com/romstad/Chess.jl/master/img/wr.svg\" y=\"7\" height=\"1\" width=\"1\"></image></g><g><rect x=\"4\" y=\"0\" class=\"light-square\" height=\"1\" width=\"1\"></rect><image x=\"4\" xlink:href=\"https://raw.githubusercontent.com/romstad/Chess.jl/master/img/bk.svg\" y=\"0\" height=\"1\" width=\"1\"></image></g><g><rect x=\"4\" y=\"1\" class=\"dark-square\" height=\"1\" width=\"1\"></rect><g></g></g><g><rect x=\"4\" y=\"2\" class=\"light-square\" height=\"1\" width=\"1\"></rect><g></g></g><g><rect x=\"4\" y=\"3\" class=\"dark-square\" height=\"1\" width=\"1\"></rect><image x=\"4\" xlink:href=\"https://raw.githubusercontent.com/romstad/Chess.jl/master/img/bp.svg\" y=\"3\" height=\"1\" width=\"1\"></image></g><g><rect x=\"4\" y=\"4\" class=\"light-square\" height=\"1\" width=\"1\"></rect><image x=\"4\" xlink:href=\"https://raw.githubusercontent.com/romstad/Chess.jl/master/img/wp.svg\" y=\"4\" height=\"1\" width=\"1\"></image></g><g><rect x=\"4\" y=\"5\" class=\"dark-square\" height=\"1\" width=\"1\"></rect><g></g></g><g><rect x=\"4\" y=\"6\" class=\"light-square\" height=\"1\" width=\"1\"></rect><g></g></g><g><rect x=\"4\" y=\"7\" class=\"dark-square\" height=\"1\" width=\"1\"></rect><image x=\"4\" xlink:href=\"https://raw.githubusercontent.com/romstad/Chess.jl/master/img/wr.svg\" y=\"7\" height=\"1\" width=\"1\"></image></g><g><rect x=\"5\" y=\"0\" class=\"dark-square\" height=\"1\" width=\"1\"></rect><g></g></g><g><rect x=\"5\" y=\"1\" class=\"light-square\" height=\"1\" width=\"1\"></rect><image x=\"5\" xlink:href=\"https://raw.githubusercontent.com/romstad/Chess.jl/master/img/bp.svg\" y=\"1\" height=\"1\" width=\"1\"></image></g><g><rect x=\"5\" y=\"2\" class=\"dark-square\" height=\"1\" width=\"1\"></rect><image x=\"5\" xlink:href=\"https://raw.githubusercontent.com/romstad/Chess.jl/master/img/bn.svg\" y=\"2\" height=\"1\" width=\"1\"></image></g><g><rect x=\"5\" y=\"3\" class=\"light-square\" height=\"1\" width=\"1\"></rect><image x=\"5\" xlink:href=\"https://raw.githubusercontent.com/romstad/Chess.jl/master/img/wn.svg\" y=\"3\" height=\"1\" width=\"1\"></image></g><g><rect x=\"5\" y=\"4\" class=\"dark-square\" height=\"1\" width=\"1\"></rect><g></g></g><g><rect x=\"5\" y=\"5\" class=\"light-square\" height=\"1\" width=\"1\"></rect><image x=\"5\" xlink:href=\"https://raw.githubusercontent.com/romstad/Chess.jl/master/img/wp.svg\" y=\"5\" height=\"1\" width=\"1\"></image></g><g><rect x=\"5\" y=\"6\" class=\"dark-square\" height=\"1\" width=\"1\"></rect><image x=\"5\" xlink:href=\"https://raw.githubusercontent.com/romstad/Chess.jl/master/img/wp.svg\" y=\"6\" height=\"1\" width=\"1\"></image></g><g><rect x=\"5\" y=\"7\" class=\"light-square\" height=\"1\" width=\"1\"></rect><g></g></g><g><rect x=\"6\" y=\"0\" class=\"light-square\" height=\"1\" width=\"1\"></rect><image x=\"6\" xlink:href=\"https://raw.githubusercontent.com/romstad/Chess.jl/master/img/br.svg\" y=\"0\" height=\"1\" width=\"1\"></image></g><g><rect x=\"6\" y=\"1\" class=\"dark-square\" height=\"1\" width=\"1\"></rect><image x=\"6\" xlink:href=\"https://raw.githubusercontent.com/romstad/Chess.jl/master/img/bp.svg\" y=\"1\" height=\"1\" width=\"1\"></image></g><g><rect x=\"6\" y=\"2\" class=\"light-square\" height=\"1\" width=\"1\"></rect><g></g></g><g><rect x=\"6\" y=\"3\" class=\"dark-square\" height=\"1\" width=\"1\"></rect><g></g></g><g><rect x=\"6\" y=\"4\" class=\"light-square\" height=\"1\" width=\"1\"></rect><g></g></g><g><rect x=\"6\" y=\"5\" class=\"dark-square\" height=\"1\" width=\"1\"></rect><g></g></g><g><rect x=\"6\" y=\"6\" class=\"light-square\" height=\"1\" width=\"1\"></rect><image x=\"6\" xlink:href=\"https://raw.githubusercontent.com/romstad/Chess.jl/master/img/wk.svg\" y=\"6\" height=\"1\" width=\"1\"></image></g><g><rect x=\"6\" y=\"7\" class=\"dark-square\" height=\"1\" width=\"1\"></rect><g></g></g><g><rect x=\"7\" y=\"0\" class=\"dark-square\" height=\"1\" width=\"1\"></rect><g></g></g><g><rect x=\"7\" y=\"1\" class=\"light-square\" height=\"1\" width=\"1\"></rect><g></g></g><g><rect x=\"7\" y=\"2\" class=\"dark-square\" height=\"1\" width=\"1\"></rect><image x=\"7\" xlink:href=\"https://raw.githubusercontent.com/romstad/Chess.jl/master/img/bp.svg\" y=\"2\" height=\"1\" width=\"1\"></image></g><g><rect x=\"7\" y=\"3\" class=\"light-square\" height=\"1\" width=\"1\"></rect><g></g></g><g><rect x=\"7\" y=\"4\" class=\"dark-square\" height=\"1\" width=\"1\"></rect><g></g></g><g><rect x=\"7\" y=\"5\" class=\"light-square\" height=\"1\" width=\"1\"></rect><image x=\"7\" xlink:href=\"https://raw.githubusercontent.com/romstad/Chess.jl/master/img/wp.svg\" y=\"5\" height=\"1\" width=\"1\"></image></g><g><rect x=\"7\" y=\"6\" class=\"dark-square\" height=\"1\" width=\"1\"></rect><g></g></g><g><rect x=\"7\" y=\"7\" class=\"light-square\" height=\"1\" width=\"1\"></rect><g></g></g></g><g></g></svg><div><p>White to move</p><p><a href=\"https://lichess.org/editor/4k1r1/1br2pp1/p1p2n1p/3ppN2/4P3/1BP2P1P/P4PK1/3RR3_w_-_-\" target=\"_blank\">Open in lichess</a></p></div></div>"
      ],
      "text/plain": [
       "Board (4k1r1/1br2pp1/p1p2n1p/3ppN2/4P3/1BP2P1P/P4PK1/3RR3 w - -):\n",
       " -  -  -  -  k  -  r  - \n",
       " -  b  r  -  -  p  p  - \n",
       " p  -  p  -  -  n  -  p \n",
       " -  -  -  p  p  N  -  - \n",
       " -  -  -  -  P  -  -  - \n",
       " -  B  P  -  -  P  -  P \n",
       " P  -  -  -  -  P  K  - \n",
       " -  -  -  R  R  -  -  - "
      ]
     },
     "metadata": {},
     "output_type": "display_data"
    },
    {
     "name": "stdout",
     "output_type": "stream",
     "text": [
      "Make a move. Type 'resign' to resign from the match\n",
      "stdin> g2g3\n",
      "Cleared Cache with 0\n",
      "Inkremental score is -160 but should be -100\n"
     ]
    },
    {
     "data": {
      "text/html": [
       "Board:<div class=\"chessboard\"><style soped=\"true\">.dark-square {\n",
       "    fill: #c3936a;\n",
       "    stroke-width: 0;\n",
       "}\n",
       ".light-square {\n",
       "    fill: #ffd7a6;\n",
       "    stroke-width: 0;\n",
       "}\n",
       ".highlight {\n",
       "    fill: #47d18b;\n",
       "}\n",
       "@media (prefers-color-scheme: dark) {\n",
       "    .dark-square {\n",
       "        fill: #00796b;\n",
       "    }\n",
       "    .light-square {\n",
       "        fill: #3ca59b;\n",
       "    }\n",
       "    .highlight {\n",
       "        fill: #d23600;\n",
       "    }\n",
       "}\n",
       "</style><svg style=\"float: left; margin-right: 20px\" viewBox=\"0 0 8 8\" height=\"280\" width=\"280\"><g><g><rect x=\"0\" y=\"0\" class=\"light-square\" height=\"1\" width=\"1\"></rect><g></g></g><g><rect x=\"0\" y=\"1\" class=\"dark-square\" height=\"1\" width=\"1\"></rect><g></g></g><g><rect x=\"0\" y=\"2\" class=\"light-square\" height=\"1\" width=\"1\"></rect><image x=\"0\" xlink:href=\"https://raw.githubusercontent.com/romstad/Chess.jl/master/img/bp.svg\" y=\"2\" height=\"1\" width=\"1\"></image></g><g><rect x=\"0\" y=\"3\" class=\"dark-square\" height=\"1\" width=\"1\"></rect><g></g></g><g><rect x=\"0\" y=\"4\" class=\"light-square\" height=\"1\" width=\"1\"></rect><g></g></g><g><rect x=\"0\" y=\"5\" class=\"dark-square\" height=\"1\" width=\"1\"></rect><g></g></g><g><rect x=\"0\" y=\"6\" class=\"light-square\" height=\"1\" width=\"1\"></rect><image x=\"0\" xlink:href=\"https://raw.githubusercontent.com/romstad/Chess.jl/master/img/wp.svg\" y=\"6\" height=\"1\" width=\"1\"></image></g><g><rect x=\"0\" y=\"7\" class=\"dark-square\" height=\"1\" width=\"1\"></rect><g></g></g><g><rect x=\"1\" y=\"0\" class=\"dark-square\" height=\"1\" width=\"1\"></rect><g></g></g><g><rect x=\"1\" y=\"1\" class=\"light-square\" height=\"1\" width=\"1\"></rect><image x=\"1\" xlink:href=\"https://raw.githubusercontent.com/romstad/Chess.jl/master/img/bb.svg\" y=\"1\" height=\"1\" width=\"1\"></image></g><g><rect x=\"1\" y=\"2\" class=\"dark-square\" height=\"1\" width=\"1\"></rect><g></g></g><g><rect x=\"1\" y=\"3\" class=\"light-square\" height=\"1\" width=\"1\"></rect><g></g></g><g><rect x=\"1\" y=\"4\" class=\"dark-square\" height=\"1\" width=\"1\"></rect><g></g></g><g><rect x=\"1\" y=\"5\" class=\"light-square\" height=\"1\" width=\"1\"></rect><image x=\"1\" xlink:href=\"https://raw.githubusercontent.com/romstad/Chess.jl/master/img/wb.svg\" y=\"5\" height=\"1\" width=\"1\"></image></g><g><rect x=\"1\" y=\"6\" class=\"dark-square\" height=\"1\" width=\"1\"></rect><g></g></g><g><rect x=\"1\" y=\"7\" class=\"light-square\" height=\"1\" width=\"1\"></rect><g></g></g><g><rect x=\"2\" y=\"0\" class=\"light-square\" height=\"1\" width=\"1\"></rect><g></g></g><g><rect x=\"2\" y=\"1\" class=\"dark-square\" height=\"1\" width=\"1\"></rect><image x=\"2\" xlink:href=\"https://raw.githubusercontent.com/romstad/Chess.jl/master/img/br.svg\" y=\"1\" height=\"1\" width=\"1\"></image></g><g><rect x=\"2\" y=\"2\" class=\"light-square\" height=\"1\" width=\"1\"></rect><image x=\"2\" xlink:href=\"https://raw.githubusercontent.com/romstad/Chess.jl/master/img/bp.svg\" y=\"2\" height=\"1\" width=\"1\"></image></g><g><rect x=\"2\" y=\"3\" class=\"dark-square\" height=\"1\" width=\"1\"></rect><g></g></g><g><rect x=\"2\" y=\"4\" class=\"light-square\" height=\"1\" width=\"1\"></rect><g></g></g><g><rect x=\"2\" y=\"5\" class=\"dark-square\" height=\"1\" width=\"1\"></rect><image x=\"2\" xlink:href=\"https://raw.githubusercontent.com/romstad/Chess.jl/master/img/wp.svg\" y=\"5\" height=\"1\" width=\"1\"></image></g><g><rect x=\"2\" y=\"6\" class=\"light-square\" height=\"1\" width=\"1\"></rect><g></g></g><g><rect x=\"2\" y=\"7\" class=\"dark-square\" height=\"1\" width=\"1\"></rect><g></g></g><g><rect x=\"3\" y=\"0\" class=\"dark-square\" height=\"1\" width=\"1\"></rect><g></g></g><g><rect x=\"3\" y=\"1\" class=\"light-square\" height=\"1\" width=\"1\"></rect><g></g></g><g><rect x=\"3\" y=\"2\" class=\"dark-square\" height=\"1\" width=\"1\"></rect><g></g></g><g><rect x=\"3\" y=\"3\" class=\"light-square\" height=\"1\" width=\"1\"></rect><image x=\"3\" xlink:href=\"https://raw.githubusercontent.com/romstad/Chess.jl/master/img/bp.svg\" y=\"3\" height=\"1\" width=\"1\"></image></g><g><rect x=\"3\" y=\"4\" class=\"dark-square\" height=\"1\" width=\"1\"></rect><g></g></g><g><rect x=\"3\" y=\"5\" class=\"light-square\" height=\"1\" width=\"1\"></rect><g></g></g><g><rect x=\"3\" y=\"6\" class=\"dark-square\" height=\"1\" width=\"1\"></rect><g></g></g><g><rect x=\"3\" y=\"7\" class=\"light-square\" height=\"1\" width=\"1\"></rect><image x=\"3\" xlink:href=\"https://raw.githubusercontent.com/romstad/Chess.jl/master/img/wr.svg\" y=\"7\" height=\"1\" width=\"1\"></image></g><g><rect x=\"4\" y=\"0\" class=\"light-square\" height=\"1\" width=\"1\"></rect><image x=\"4\" xlink:href=\"https://raw.githubusercontent.com/romstad/Chess.jl/master/img/bk.svg\" y=\"0\" height=\"1\" width=\"1\"></image></g><g><rect x=\"4\" y=\"1\" class=\"dark-square\" height=\"1\" width=\"1\"></rect><g></g></g><g><rect x=\"4\" y=\"2\" class=\"light-square\" height=\"1\" width=\"1\"></rect><g></g></g><g><rect x=\"4\" y=\"3\" class=\"dark-square\" height=\"1\" width=\"1\"></rect><image x=\"4\" xlink:href=\"https://raw.githubusercontent.com/romstad/Chess.jl/master/img/bp.svg\" y=\"3\" height=\"1\" width=\"1\"></image></g><g><rect x=\"4\" y=\"4\" class=\"light-square\" height=\"1\" width=\"1\"></rect><image x=\"4\" xlink:href=\"https://raw.githubusercontent.com/romstad/Chess.jl/master/img/wp.svg\" y=\"4\" height=\"1\" width=\"1\"></image></g><g><rect x=\"4\" y=\"5\" class=\"dark-square\" height=\"1\" width=\"1\"></rect><g></g></g><g><rect x=\"4\" y=\"6\" class=\"light-square\" height=\"1\" width=\"1\"></rect><g></g></g><g><rect x=\"4\" y=\"7\" class=\"dark-square\" height=\"1\" width=\"1\"></rect><image x=\"4\" xlink:href=\"https://raw.githubusercontent.com/romstad/Chess.jl/master/img/wr.svg\" y=\"7\" height=\"1\" width=\"1\"></image></g><g><rect x=\"5\" y=\"0\" class=\"dark-square\" height=\"1\" width=\"1\"></rect><g></g></g><g><rect x=\"5\" y=\"1\" class=\"light-square\" height=\"1\" width=\"1\"></rect><image x=\"5\" xlink:href=\"https://raw.githubusercontent.com/romstad/Chess.jl/master/img/bp.svg\" y=\"1\" height=\"1\" width=\"1\"></image></g><g><rect x=\"5\" y=\"2\" class=\"dark-square\" height=\"1\" width=\"1\"></rect><image x=\"5\" xlink:href=\"https://raw.githubusercontent.com/romstad/Chess.jl/master/img/bn.svg\" y=\"2\" height=\"1\" width=\"1\"></image></g><g><rect x=\"5\" y=\"3\" class=\"light-square\" height=\"1\" width=\"1\"></rect><image x=\"5\" xlink:href=\"https://raw.githubusercontent.com/romstad/Chess.jl/master/img/wn.svg\" y=\"3\" height=\"1\" width=\"1\"></image></g><g><rect x=\"5\" y=\"4\" class=\"dark-square\" height=\"1\" width=\"1\"></rect><g></g></g><g><rect x=\"5\" y=\"5\" class=\"light-square\" height=\"1\" width=\"1\"></rect><image x=\"5\" xlink:href=\"https://raw.githubusercontent.com/romstad/Chess.jl/master/img/wp.svg\" y=\"5\" height=\"1\" width=\"1\"></image></g><g><rect x=\"5\" y=\"6\" class=\"dark-square\" height=\"1\" width=\"1\"></rect><image x=\"5\" xlink:href=\"https://raw.githubusercontent.com/romstad/Chess.jl/master/img/wp.svg\" y=\"6\" height=\"1\" width=\"1\"></image></g><g><rect x=\"5\" y=\"7\" class=\"light-square\" height=\"1\" width=\"1\"></rect><g></g></g><g><rect x=\"6\" y=\"0\" class=\"light-square\" height=\"1\" width=\"1\"></rect><image x=\"6\" xlink:href=\"https://raw.githubusercontent.com/romstad/Chess.jl/master/img/br.svg\" y=\"0\" height=\"1\" width=\"1\"></image></g><g><rect x=\"6\" y=\"1\" class=\"dark-square\" height=\"1\" width=\"1\"></rect><image x=\"6\" xlink:href=\"https://raw.githubusercontent.com/romstad/Chess.jl/master/img/bp.svg\" y=\"1\" height=\"1\" width=\"1\"></image></g><g><rect x=\"6\" y=\"2\" class=\"light-square\" height=\"1\" width=\"1\"></rect><g></g></g><g><rect x=\"6\" y=\"3\" class=\"dark-square\" height=\"1\" width=\"1\"></rect><g></g></g><g><rect x=\"6\" y=\"4\" class=\"light-square\" height=\"1\" width=\"1\"></rect><g></g></g><g><rect x=\"6\" y=\"5\" class=\"dark-square\" height=\"1\" width=\"1\"></rect><image x=\"6\" xlink:href=\"https://raw.githubusercontent.com/romstad/Chess.jl/master/img/wk.svg\" y=\"5\" height=\"1\" width=\"1\"></image></g><g><rect x=\"6\" y=\"6\" class=\"light-square\" height=\"1\" width=\"1\"></rect><g></g></g><g><rect x=\"6\" y=\"7\" class=\"dark-square\" height=\"1\" width=\"1\"></rect><g></g></g><g><rect x=\"7\" y=\"0\" class=\"dark-square\" height=\"1\" width=\"1\"></rect><g></g></g><g><rect x=\"7\" y=\"1\" class=\"light-square\" height=\"1\" width=\"1\"></rect><g></g></g><g><rect x=\"7\" y=\"2\" class=\"dark-square\" height=\"1\" width=\"1\"></rect><image x=\"7\" xlink:href=\"https://raw.githubusercontent.com/romstad/Chess.jl/master/img/bp.svg\" y=\"2\" height=\"1\" width=\"1\"></image></g><g><rect x=\"7\" y=\"3\" class=\"light-square\" height=\"1\" width=\"1\"></rect><g></g></g><g><rect x=\"7\" y=\"4\" class=\"dark-square\" height=\"1\" width=\"1\"></rect><g></g></g><g><rect x=\"7\" y=\"5\" class=\"light-square\" height=\"1\" width=\"1\"></rect><image x=\"7\" xlink:href=\"https://raw.githubusercontent.com/romstad/Chess.jl/master/img/wp.svg\" y=\"5\" height=\"1\" width=\"1\"></image></g><g><rect x=\"7\" y=\"6\" class=\"dark-square\" height=\"1\" width=\"1\"></rect><g></g></g><g><rect x=\"7\" y=\"7\" class=\"light-square\" height=\"1\" width=\"1\"></rect><g></g></g></g><g></g></svg><div><p>Black to move</p><p><a href=\"https://lichess.org/editor/4k1r1/1br2pp1/p1p2n1p/3ppN2/4P3/1BP2PKP/P4P2/3RR3_b_-_-\" target=\"_blank\">Open in lichess</a></p></div></div>"
      ],
      "text/plain": [
       "Board (4k1r1/1br2pp1/p1p2n1p/3ppN2/4P3/1BP2PKP/P4P2/3RR3 b - -):\n",
       " -  -  -  -  k  -  r  - \n",
       " -  b  r  -  -  p  p  - \n",
       " p  -  p  -  -  n  -  p \n",
       " -  -  -  p  p  N  -  - \n",
       " -  -  -  -  P  -  -  - \n",
       " -  B  P  -  -  P  K  P \n",
       " P  -  -  -  -  P  -  - \n",
       " -  -  -  R  R  -  -  - "
      ]
     },
     "metadata": {},
     "output_type": "display_data"
    },
    {
     "name": "stdout",
     "output_type": "stream",
     "text": [
      "Evaluation of engine: -100.0\n",
      "Current board score: -160\n",
      "Current entries in Cache: 5746\n",
      "Cleared Cache with 5746\n",
      "  4.269824 seconds (15.19 M allocations: 924.214 MiB, 2.63% gc time)\n",
      "Inkremental score is -190 but should be -130\n"
     ]
    },
    {
     "data": {
      "text/html": [
       "Board:<div class=\"chessboard\"><style soped=\"true\">.dark-square {\n",
       "    fill: #c3936a;\n",
       "    stroke-width: 0;\n",
       "}\n",
       ".light-square {\n",
       "    fill: #ffd7a6;\n",
       "    stroke-width: 0;\n",
       "}\n",
       ".highlight {\n",
       "    fill: #47d18b;\n",
       "}\n",
       "@media (prefers-color-scheme: dark) {\n",
       "    .dark-square {\n",
       "        fill: #00796b;\n",
       "    }\n",
       "    .light-square {\n",
       "        fill: #3ca59b;\n",
       "    }\n",
       "    .highlight {\n",
       "        fill: #d23600;\n",
       "    }\n",
       "}\n",
       "</style><svg style=\"float: left; margin-right: 20px\" viewBox=\"0 0 8 8\" height=\"280\" width=\"280\"><g><g><rect x=\"0\" y=\"0\" class=\"light-square\" height=\"1\" width=\"1\"></rect><g></g></g><g><rect x=\"0\" y=\"1\" class=\"dark-square\" height=\"1\" width=\"1\"></rect><g></g></g><g><rect x=\"0\" y=\"2\" class=\"light-square\" height=\"1\" width=\"1\"></rect><image x=\"0\" xlink:href=\"https://raw.githubusercontent.com/romstad/Chess.jl/master/img/bp.svg\" y=\"2\" height=\"1\" width=\"1\"></image></g><g><rect x=\"0\" y=\"3\" class=\"dark-square\" height=\"1\" width=\"1\"></rect><g></g></g><g><rect x=\"0\" y=\"4\" class=\"light-square\" height=\"1\" width=\"1\"></rect><g></g></g><g><rect x=\"0\" y=\"5\" class=\"dark-square\" height=\"1\" width=\"1\"></rect><g></g></g><g><rect x=\"0\" y=\"6\" class=\"light-square\" height=\"1\" width=\"1\"></rect><image x=\"0\" xlink:href=\"https://raw.githubusercontent.com/romstad/Chess.jl/master/img/wp.svg\" y=\"6\" height=\"1\" width=\"1\"></image></g><g><rect x=\"0\" y=\"7\" class=\"dark-square\" height=\"1\" width=\"1\"></rect><g></g></g><g><rect x=\"1\" y=\"0\" class=\"dark-square\" height=\"1\" width=\"1\"></rect><g></g></g><g><rect x=\"1\" y=\"1\" class=\"light-square\" height=\"1\" width=\"1\"></rect><image x=\"1\" xlink:href=\"https://raw.githubusercontent.com/romstad/Chess.jl/master/img/bb.svg\" y=\"1\" height=\"1\" width=\"1\"></image></g><g><rect x=\"1\" y=\"2\" class=\"dark-square\" height=\"1\" width=\"1\"></rect><g></g></g><g><rect x=\"1\" y=\"3\" class=\"light-square\" height=\"1\" width=\"1\"></rect><g></g></g><g><rect x=\"1\" y=\"4\" class=\"dark-square\" height=\"1\" width=\"1\"></rect><g></g></g><g><rect x=\"1\" y=\"5\" class=\"light-square\" height=\"1\" width=\"1\"></rect><image x=\"1\" xlink:href=\"https://raw.githubusercontent.com/romstad/Chess.jl/master/img/wb.svg\" y=\"5\" height=\"1\" width=\"1\"></image></g><g><rect x=\"1\" y=\"6\" class=\"dark-square\" height=\"1\" width=\"1\"></rect><g></g></g><g><rect x=\"1\" y=\"7\" class=\"light-square\" height=\"1\" width=\"1\"></rect><g></g></g><g><rect x=\"2\" y=\"0\" class=\"light-square\" height=\"1\" width=\"1\"></rect><g></g></g><g><rect x=\"2\" y=\"1\" class=\"dark-square\" height=\"1\" width=\"1\"></rect><image x=\"2\" xlink:href=\"https://raw.githubusercontent.com/romstad/Chess.jl/master/img/br.svg\" y=\"1\" height=\"1\" width=\"1\"></image></g><g><rect x=\"2\" y=\"2\" class=\"light-square\" height=\"1\" width=\"1\"></rect><image x=\"2\" xlink:href=\"https://raw.githubusercontent.com/romstad/Chess.jl/master/img/bp.svg\" y=\"2\" height=\"1\" width=\"1\"></image></g><g><rect x=\"2\" y=\"3\" class=\"dark-square\" height=\"1\" width=\"1\"></rect><g></g></g><g><rect x=\"2\" y=\"4\" class=\"light-square\" height=\"1\" width=\"1\"></rect><g></g></g><g><rect x=\"2\" y=\"5\" class=\"dark-square\" height=\"1\" width=\"1\"></rect><image x=\"2\" xlink:href=\"https://raw.githubusercontent.com/romstad/Chess.jl/master/img/wp.svg\" y=\"5\" height=\"1\" width=\"1\"></image></g><g><rect x=\"2\" y=\"6\" class=\"light-square\" height=\"1\" width=\"1\"></rect><g></g></g><g><rect x=\"2\" y=\"7\" class=\"dark-square\" height=\"1\" width=\"1\"></rect><g></g></g><g><rect x=\"3\" y=\"0\" class=\"dark-square\" height=\"1\" width=\"1\"></rect><g></g></g><g><rect x=\"3\" y=\"1\" class=\"light-square\" height=\"1\" width=\"1\"></rect><image x=\"3\" xlink:href=\"https://raw.githubusercontent.com/romstad/Chess.jl/master/img/bk.svg\" y=\"1\" height=\"1\" width=\"1\"></image></g><g><rect x=\"3\" y=\"2\" class=\"dark-square\" height=\"1\" width=\"1\"></rect><g></g></g><g><rect x=\"3\" y=\"3\" class=\"light-square\" height=\"1\" width=\"1\"></rect><image x=\"3\" xlink:href=\"https://raw.githubusercontent.com/romstad/Chess.jl/master/img/bp.svg\" y=\"3\" height=\"1\" width=\"1\"></image></g><g><rect x=\"3\" y=\"4\" class=\"dark-square\" height=\"1\" width=\"1\"></rect><g></g></g><g><rect x=\"3\" y=\"5\" class=\"light-square\" height=\"1\" width=\"1\"></rect><g></g></g><g><rect x=\"3\" y=\"6\" class=\"dark-square\" height=\"1\" width=\"1\"></rect><g></g></g><g><rect x=\"3\" y=\"7\" class=\"light-square\" height=\"1\" width=\"1\"></rect><image x=\"3\" xlink:href=\"https://raw.githubusercontent.com/romstad/Chess.jl/master/img/wr.svg\" y=\"7\" height=\"1\" width=\"1\"></image></g><g><rect x=\"4\" y=\"0\" class=\"light-square\" height=\"1\" width=\"1\"></rect><g></g></g><g><rect x=\"4\" y=\"1\" class=\"dark-square\" height=\"1\" width=\"1\"></rect><g></g></g><g><rect x=\"4\" y=\"2\" class=\"light-square\" height=\"1\" width=\"1\"></rect><g></g></g><g><rect x=\"4\" y=\"3\" class=\"dark-square\" height=\"1\" width=\"1\"></rect><image x=\"4\" xlink:href=\"https://raw.githubusercontent.com/romstad/Chess.jl/master/img/bp.svg\" y=\"3\" height=\"1\" width=\"1\"></image></g><g><rect x=\"4\" y=\"4\" class=\"light-square\" height=\"1\" width=\"1\"></rect><image x=\"4\" xlink:href=\"https://raw.githubusercontent.com/romstad/Chess.jl/master/img/wp.svg\" y=\"4\" height=\"1\" width=\"1\"></image></g><g><rect x=\"4\" y=\"5\" class=\"dark-square\" height=\"1\" width=\"1\"></rect><g></g></g><g><rect x=\"4\" y=\"6\" class=\"light-square\" height=\"1\" width=\"1\"></rect><g></g></g><g><rect x=\"4\" y=\"7\" class=\"dark-square\" height=\"1\" width=\"1\"></rect><image x=\"4\" xlink:href=\"https://raw.githubusercontent.com/romstad/Chess.jl/master/img/wr.svg\" y=\"7\" height=\"1\" width=\"1\"></image></g><g><rect x=\"5\" y=\"0\" class=\"dark-square\" height=\"1\" width=\"1\"></rect><g></g></g><g><rect x=\"5\" y=\"1\" class=\"light-square\" height=\"1\" width=\"1\"></rect><image x=\"5\" xlink:href=\"https://raw.githubusercontent.com/romstad/Chess.jl/master/img/bp.svg\" y=\"1\" height=\"1\" width=\"1\"></image></g><g><rect x=\"5\" y=\"2\" class=\"dark-square\" height=\"1\" width=\"1\"></rect><image x=\"5\" xlink:href=\"https://raw.githubusercontent.com/romstad/Chess.jl/master/img/bn.svg\" y=\"2\" height=\"1\" width=\"1\"></image></g><g><rect x=\"5\" y=\"3\" class=\"light-square\" height=\"1\" width=\"1\"></rect><image x=\"5\" xlink:href=\"https://raw.githubusercontent.com/romstad/Chess.jl/master/img/wn.svg\" y=\"3\" height=\"1\" width=\"1\"></image></g><g><rect x=\"5\" y=\"4\" class=\"dark-square\" height=\"1\" width=\"1\"></rect><g></g></g><g><rect x=\"5\" y=\"5\" class=\"light-square\" height=\"1\" width=\"1\"></rect><image x=\"5\" xlink:href=\"https://raw.githubusercontent.com/romstad/Chess.jl/master/img/wp.svg\" y=\"5\" height=\"1\" width=\"1\"></image></g><g><rect x=\"5\" y=\"6\" class=\"dark-square\" height=\"1\" width=\"1\"></rect><image x=\"5\" xlink:href=\"https://raw.githubusercontent.com/romstad/Chess.jl/master/img/wp.svg\" y=\"6\" height=\"1\" width=\"1\"></image></g><g><rect x=\"5\" y=\"7\" class=\"light-square\" height=\"1\" width=\"1\"></rect><g></g></g><g><rect x=\"6\" y=\"0\" class=\"light-square\" height=\"1\" width=\"1\"></rect><image x=\"6\" xlink:href=\"https://raw.githubusercontent.com/romstad/Chess.jl/master/img/br.svg\" y=\"0\" height=\"1\" width=\"1\"></image></g><g><rect x=\"6\" y=\"1\" class=\"dark-square\" height=\"1\" width=\"1\"></rect><image x=\"6\" xlink:href=\"https://raw.githubusercontent.com/romstad/Chess.jl/master/img/bp.svg\" y=\"1\" height=\"1\" width=\"1\"></image></g><g><rect x=\"6\" y=\"2\" class=\"light-square\" height=\"1\" width=\"1\"></rect><g></g></g><g><rect x=\"6\" y=\"3\" class=\"dark-square\" height=\"1\" width=\"1\"></rect><g></g></g><g><rect x=\"6\" y=\"4\" class=\"light-square\" height=\"1\" width=\"1\"></rect><g></g></g><g><rect x=\"6\" y=\"5\" class=\"dark-square\" height=\"1\" width=\"1\"></rect><image x=\"6\" xlink:href=\"https://raw.githubusercontent.com/romstad/Chess.jl/master/img/wk.svg\" y=\"5\" height=\"1\" width=\"1\"></image></g><g><rect x=\"6\" y=\"6\" class=\"light-square\" height=\"1\" width=\"1\"></rect><g></g></g><g><rect x=\"6\" y=\"7\" class=\"dark-square\" height=\"1\" width=\"1\"></rect><g></g></g><g><rect x=\"7\" y=\"0\" class=\"dark-square\" height=\"1\" width=\"1\"></rect><g></g></g><g><rect x=\"7\" y=\"1\" class=\"light-square\" height=\"1\" width=\"1\"></rect><g></g></g><g><rect x=\"7\" y=\"2\" class=\"dark-square\" height=\"1\" width=\"1\"></rect><image x=\"7\" xlink:href=\"https://raw.githubusercontent.com/romstad/Chess.jl/master/img/bp.svg\" y=\"2\" height=\"1\" width=\"1\"></image></g><g><rect x=\"7\" y=\"3\" class=\"light-square\" height=\"1\" width=\"1\"></rect><g></g></g><g><rect x=\"7\" y=\"4\" class=\"dark-square\" height=\"1\" width=\"1\"></rect><g></g></g><g><rect x=\"7\" y=\"5\" class=\"light-square\" height=\"1\" width=\"1\"></rect><image x=\"7\" xlink:href=\"https://raw.githubusercontent.com/romstad/Chess.jl/master/img/wp.svg\" y=\"5\" height=\"1\" width=\"1\"></image></g><g><rect x=\"7\" y=\"6\" class=\"dark-square\" height=\"1\" width=\"1\"></rect><g></g></g><g><rect x=\"7\" y=\"7\" class=\"light-square\" height=\"1\" width=\"1\"></rect><g></g></g></g><g></g></svg><div><p>White to move</p><p><a href=\"https://lichess.org/editor/6r1/1brk1pp1/p1p2n1p/3ppN2/4P3/1BP2PKP/P4P2/3RR3_w_-_-\" target=\"_blank\">Open in lichess</a></p></div></div>"
      ],
      "text/plain": [
       "Board (6r1/1brk1pp1/p1p2n1p/3ppN2/4P3/1BP2PKP/P4P2/3RR3 w - -):\n",
       " -  -  -  -  -  -  r  - \n",
       " -  b  r  k  -  p  p  - \n",
       " p  -  p  -  -  n  -  p \n",
       " -  -  -  p  p  N  -  - \n",
       " -  -  -  -  P  -  -  - \n",
       " -  B  P  -  -  P  K  P \n",
       " P  -  -  -  -  P  -  - \n",
       " -  -  -  R  R  -  -  - "
      ]
     },
     "metadata": {},
     "output_type": "display_data"
    },
    {
     "name": "stdout",
     "output_type": "stream",
     "text": [
      "Make a move. Type 'resign' to resign from the match\n",
      "stdin> a2a4\n",
      "Cleared Cache with 0\n",
      "Inkremental score is -195 but should be -135\n"
     ]
    },
    {
     "data": {
      "text/html": [
       "Board:<div class=\"chessboard\"><style soped=\"true\">.dark-square {\n",
       "    fill: #c3936a;\n",
       "    stroke-width: 0;\n",
       "}\n",
       ".light-square {\n",
       "    fill: #ffd7a6;\n",
       "    stroke-width: 0;\n",
       "}\n",
       ".highlight {\n",
       "    fill: #47d18b;\n",
       "}\n",
       "@media (prefers-color-scheme: dark) {\n",
       "    .dark-square {\n",
       "        fill: #00796b;\n",
       "    }\n",
       "    .light-square {\n",
       "        fill: #3ca59b;\n",
       "    }\n",
       "    .highlight {\n",
       "        fill: #d23600;\n",
       "    }\n",
       "}\n",
       "</style><svg style=\"float: left; margin-right: 20px\" viewBox=\"0 0 8 8\" height=\"280\" width=\"280\"><g><g><rect x=\"0\" y=\"0\" class=\"light-square\" height=\"1\" width=\"1\"></rect><g></g></g><g><rect x=\"0\" y=\"1\" class=\"dark-square\" height=\"1\" width=\"1\"></rect><g></g></g><g><rect x=\"0\" y=\"2\" class=\"light-square\" height=\"1\" width=\"1\"></rect><image x=\"0\" xlink:href=\"https://raw.githubusercontent.com/romstad/Chess.jl/master/img/bp.svg\" y=\"2\" height=\"1\" width=\"1\"></image></g><g><rect x=\"0\" y=\"3\" class=\"dark-square\" height=\"1\" width=\"1\"></rect><g></g></g><g><rect x=\"0\" y=\"4\" class=\"light-square\" height=\"1\" width=\"1\"></rect><image x=\"0\" xlink:href=\"https://raw.githubusercontent.com/romstad/Chess.jl/master/img/wp.svg\" y=\"4\" height=\"1\" width=\"1\"></image></g><g><rect x=\"0\" y=\"5\" class=\"dark-square\" height=\"1\" width=\"1\"></rect><g></g></g><g><rect x=\"0\" y=\"6\" class=\"light-square\" height=\"1\" width=\"1\"></rect><g></g></g><g><rect x=\"0\" y=\"7\" class=\"dark-square\" height=\"1\" width=\"1\"></rect><g></g></g><g><rect x=\"1\" y=\"0\" class=\"dark-square\" height=\"1\" width=\"1\"></rect><g></g></g><g><rect x=\"1\" y=\"1\" class=\"light-square\" height=\"1\" width=\"1\"></rect><image x=\"1\" xlink:href=\"https://raw.githubusercontent.com/romstad/Chess.jl/master/img/bb.svg\" y=\"1\" height=\"1\" width=\"1\"></image></g><g><rect x=\"1\" y=\"2\" class=\"dark-square\" height=\"1\" width=\"1\"></rect><g></g></g><g><rect x=\"1\" y=\"3\" class=\"light-square\" height=\"1\" width=\"1\"></rect><g></g></g><g><rect x=\"1\" y=\"4\" class=\"dark-square\" height=\"1\" width=\"1\"></rect><g></g></g><g><rect x=\"1\" y=\"5\" class=\"light-square\" height=\"1\" width=\"1\"></rect><image x=\"1\" xlink:href=\"https://raw.githubusercontent.com/romstad/Chess.jl/master/img/wb.svg\" y=\"5\" height=\"1\" width=\"1\"></image></g><g><rect x=\"1\" y=\"6\" class=\"dark-square\" height=\"1\" width=\"1\"></rect><g></g></g><g><rect x=\"1\" y=\"7\" class=\"light-square\" height=\"1\" width=\"1\"></rect><g></g></g><g><rect x=\"2\" y=\"0\" class=\"light-square\" height=\"1\" width=\"1\"></rect><g></g></g><g><rect x=\"2\" y=\"1\" class=\"dark-square\" height=\"1\" width=\"1\"></rect><image x=\"2\" xlink:href=\"https://raw.githubusercontent.com/romstad/Chess.jl/master/img/br.svg\" y=\"1\" height=\"1\" width=\"1\"></image></g><g><rect x=\"2\" y=\"2\" class=\"light-square\" height=\"1\" width=\"1\"></rect><image x=\"2\" xlink:href=\"https://raw.githubusercontent.com/romstad/Chess.jl/master/img/bp.svg\" y=\"2\" height=\"1\" width=\"1\"></image></g><g><rect x=\"2\" y=\"3\" class=\"dark-square\" height=\"1\" width=\"1\"></rect><g></g></g><g><rect x=\"2\" y=\"4\" class=\"light-square\" height=\"1\" width=\"1\"></rect><g></g></g><g><rect x=\"2\" y=\"5\" class=\"dark-square\" height=\"1\" width=\"1\"></rect><image x=\"2\" xlink:href=\"https://raw.githubusercontent.com/romstad/Chess.jl/master/img/wp.svg\" y=\"5\" height=\"1\" width=\"1\"></image></g><g><rect x=\"2\" y=\"6\" class=\"light-square\" height=\"1\" width=\"1\"></rect><g></g></g><g><rect x=\"2\" y=\"7\" class=\"dark-square\" height=\"1\" width=\"1\"></rect><g></g></g><g><rect x=\"3\" y=\"0\" class=\"dark-square\" height=\"1\" width=\"1\"></rect><g></g></g><g><rect x=\"3\" y=\"1\" class=\"light-square\" height=\"1\" width=\"1\"></rect><image x=\"3\" xlink:href=\"https://raw.githubusercontent.com/romstad/Chess.jl/master/img/bk.svg\" y=\"1\" height=\"1\" width=\"1\"></image></g><g><rect x=\"3\" y=\"2\" class=\"dark-square\" height=\"1\" width=\"1\"></rect><g></g></g><g><rect x=\"3\" y=\"3\" class=\"light-square\" height=\"1\" width=\"1\"></rect><image x=\"3\" xlink:href=\"https://raw.githubusercontent.com/romstad/Chess.jl/master/img/bp.svg\" y=\"3\" height=\"1\" width=\"1\"></image></g><g><rect x=\"3\" y=\"4\" class=\"dark-square\" height=\"1\" width=\"1\"></rect><g></g></g><g><rect x=\"3\" y=\"5\" class=\"light-square\" height=\"1\" width=\"1\"></rect><g></g></g><g><rect x=\"3\" y=\"6\" class=\"dark-square\" height=\"1\" width=\"1\"></rect><g></g></g><g><rect x=\"3\" y=\"7\" class=\"light-square\" height=\"1\" width=\"1\"></rect><image x=\"3\" xlink:href=\"https://raw.githubusercontent.com/romstad/Chess.jl/master/img/wr.svg\" y=\"7\" height=\"1\" width=\"1\"></image></g><g><rect x=\"4\" y=\"0\" class=\"light-square\" height=\"1\" width=\"1\"></rect><g></g></g><g><rect x=\"4\" y=\"1\" class=\"dark-square\" height=\"1\" width=\"1\"></rect><g></g></g><g><rect x=\"4\" y=\"2\" class=\"light-square\" height=\"1\" width=\"1\"></rect><g></g></g><g><rect x=\"4\" y=\"3\" class=\"dark-square\" height=\"1\" width=\"1\"></rect><image x=\"4\" xlink:href=\"https://raw.githubusercontent.com/romstad/Chess.jl/master/img/bp.svg\" y=\"3\" height=\"1\" width=\"1\"></image></g><g><rect x=\"4\" y=\"4\" class=\"light-square\" height=\"1\" width=\"1\"></rect><image x=\"4\" xlink:href=\"https://raw.githubusercontent.com/romstad/Chess.jl/master/img/wp.svg\" y=\"4\" height=\"1\" width=\"1\"></image></g><g><rect x=\"4\" y=\"5\" class=\"dark-square\" height=\"1\" width=\"1\"></rect><g></g></g><g><rect x=\"4\" y=\"6\" class=\"light-square\" height=\"1\" width=\"1\"></rect><g></g></g><g><rect x=\"4\" y=\"7\" class=\"dark-square\" height=\"1\" width=\"1\"></rect><image x=\"4\" xlink:href=\"https://raw.githubusercontent.com/romstad/Chess.jl/master/img/wr.svg\" y=\"7\" height=\"1\" width=\"1\"></image></g><g><rect x=\"5\" y=\"0\" class=\"dark-square\" height=\"1\" width=\"1\"></rect><g></g></g><g><rect x=\"5\" y=\"1\" class=\"light-square\" height=\"1\" width=\"1\"></rect><image x=\"5\" xlink:href=\"https://raw.githubusercontent.com/romstad/Chess.jl/master/img/bp.svg\" y=\"1\" height=\"1\" width=\"1\"></image></g><g><rect x=\"5\" y=\"2\" class=\"dark-square\" height=\"1\" width=\"1\"></rect><image x=\"5\" xlink:href=\"https://raw.githubusercontent.com/romstad/Chess.jl/master/img/bn.svg\" y=\"2\" height=\"1\" width=\"1\"></image></g><g><rect x=\"5\" y=\"3\" class=\"light-square\" height=\"1\" width=\"1\"></rect><image x=\"5\" xlink:href=\"https://raw.githubusercontent.com/romstad/Chess.jl/master/img/wn.svg\" y=\"3\" height=\"1\" width=\"1\"></image></g><g><rect x=\"5\" y=\"4\" class=\"dark-square\" height=\"1\" width=\"1\"></rect><g></g></g><g><rect x=\"5\" y=\"5\" class=\"light-square\" height=\"1\" width=\"1\"></rect><image x=\"5\" xlink:href=\"https://raw.githubusercontent.com/romstad/Chess.jl/master/img/wp.svg\" y=\"5\" height=\"1\" width=\"1\"></image></g><g><rect x=\"5\" y=\"6\" class=\"dark-square\" height=\"1\" width=\"1\"></rect><image x=\"5\" xlink:href=\"https://raw.githubusercontent.com/romstad/Chess.jl/master/img/wp.svg\" y=\"6\" height=\"1\" width=\"1\"></image></g><g><rect x=\"5\" y=\"7\" class=\"light-square\" height=\"1\" width=\"1\"></rect><g></g></g><g><rect x=\"6\" y=\"0\" class=\"light-square\" height=\"1\" width=\"1\"></rect><image x=\"6\" xlink:href=\"https://raw.githubusercontent.com/romstad/Chess.jl/master/img/br.svg\" y=\"0\" height=\"1\" width=\"1\"></image></g><g><rect x=\"6\" y=\"1\" class=\"dark-square\" height=\"1\" width=\"1\"></rect><image x=\"6\" xlink:href=\"https://raw.githubusercontent.com/romstad/Chess.jl/master/img/bp.svg\" y=\"1\" height=\"1\" width=\"1\"></image></g><g><rect x=\"6\" y=\"2\" class=\"light-square\" height=\"1\" width=\"1\"></rect><g></g></g><g><rect x=\"6\" y=\"3\" class=\"dark-square\" height=\"1\" width=\"1\"></rect><g></g></g><g><rect x=\"6\" y=\"4\" class=\"light-square\" height=\"1\" width=\"1\"></rect><g></g></g><g><rect x=\"6\" y=\"5\" class=\"dark-square\" height=\"1\" width=\"1\"></rect><image x=\"6\" xlink:href=\"https://raw.githubusercontent.com/romstad/Chess.jl/master/img/wk.svg\" y=\"5\" height=\"1\" width=\"1\"></image></g><g><rect x=\"6\" y=\"6\" class=\"light-square\" height=\"1\" width=\"1\"></rect><g></g></g><g><rect x=\"6\" y=\"7\" class=\"dark-square\" height=\"1\" width=\"1\"></rect><g></g></g><g><rect x=\"7\" y=\"0\" class=\"dark-square\" height=\"1\" width=\"1\"></rect><g></g></g><g><rect x=\"7\" y=\"1\" class=\"light-square\" height=\"1\" width=\"1\"></rect><g></g></g><g><rect x=\"7\" y=\"2\" class=\"dark-square\" height=\"1\" width=\"1\"></rect><image x=\"7\" xlink:href=\"https://raw.githubusercontent.com/romstad/Chess.jl/master/img/bp.svg\" y=\"2\" height=\"1\" width=\"1\"></image></g><g><rect x=\"7\" y=\"3\" class=\"light-square\" height=\"1\" width=\"1\"></rect><g></g></g><g><rect x=\"7\" y=\"4\" class=\"dark-square\" height=\"1\" width=\"1\"></rect><g></g></g><g><rect x=\"7\" y=\"5\" class=\"light-square\" height=\"1\" width=\"1\"></rect><image x=\"7\" xlink:href=\"https://raw.githubusercontent.com/romstad/Chess.jl/master/img/wp.svg\" y=\"5\" height=\"1\" width=\"1\"></image></g><g><rect x=\"7\" y=\"6\" class=\"dark-square\" height=\"1\" width=\"1\"></rect><g></g></g><g><rect x=\"7\" y=\"7\" class=\"light-square\" height=\"1\" width=\"1\"></rect><g></g></g></g><g></g></svg><div><p>Black to move</p><p><a href=\"https://lichess.org/editor/6r1/1brk1pp1/p1p2n1p/3ppN2/P3P3/1BP2PKP/5P2/3RR3_b_-_-\" target=\"_blank\">Open in lichess</a></p></div></div>"
      ],
      "text/plain": [
       "Board (6r1/1brk1pp1/p1p2n1p/3ppN2/P3P3/1BP2PKP/5P2/3RR3 b - -):\n",
       " -  -  -  -  -  -  r  - \n",
       " -  b  r  k  -  p  p  - \n",
       " p  -  p  -  -  n  -  p \n",
       " -  -  -  p  p  N  -  - \n",
       " P  -  -  -  P  -  -  - \n",
       " -  B  P  -  -  P  K  P \n",
       " -  -  -  -  -  P  -  - \n",
       " -  -  -  R  R  -  -  - "
      ]
     },
     "metadata": {},
     "output_type": "display_data"
    },
    {
     "name": "stdout",
     "output_type": "stream",
     "text": [
      "Evaluation of engine: -130.0\n",
      "Current board score: -195\n",
      "Current entries in Cache: 6125\n",
      "Cleared Cache with 6125\n",
      "  4.411117 seconds (16.45 M allocations: 981.996 MiB, 2.68% gc time)\n",
      "Inkremental score is -225 but should be -165\n"
     ]
    },
    {
     "data": {
      "text/html": [
       "Board:<div class=\"chessboard\"><style soped=\"true\">.dark-square {\n",
       "    fill: #c3936a;\n",
       "    stroke-width: 0;\n",
       "}\n",
       ".light-square {\n",
       "    fill: #ffd7a6;\n",
       "    stroke-width: 0;\n",
       "}\n",
       ".highlight {\n",
       "    fill: #47d18b;\n",
       "}\n",
       "@media (prefers-color-scheme: dark) {\n",
       "    .dark-square {\n",
       "        fill: #00796b;\n",
       "    }\n",
       "    .light-square {\n",
       "        fill: #3ca59b;\n",
       "    }\n",
       "    .highlight {\n",
       "        fill: #d23600;\n",
       "    }\n",
       "}\n",
       "</style><svg style=\"float: left; margin-right: 20px\" viewBox=\"0 0 8 8\" height=\"280\" width=\"280\"><g><g><rect x=\"0\" y=\"0\" class=\"light-square\" height=\"1\" width=\"1\"></rect><g></g></g><g><rect x=\"0\" y=\"1\" class=\"dark-square\" height=\"1\" width=\"1\"></rect><g></g></g><g><rect x=\"0\" y=\"2\" class=\"light-square\" height=\"1\" width=\"1\"></rect><image x=\"0\" xlink:href=\"https://raw.githubusercontent.com/romstad/Chess.jl/master/img/bp.svg\" y=\"2\" height=\"1\" width=\"1\"></image></g><g><rect x=\"0\" y=\"3\" class=\"dark-square\" height=\"1\" width=\"1\"></rect><g></g></g><g><rect x=\"0\" y=\"4\" class=\"light-square\" height=\"1\" width=\"1\"></rect><image x=\"0\" xlink:href=\"https://raw.githubusercontent.com/romstad/Chess.jl/master/img/wp.svg\" y=\"4\" height=\"1\" width=\"1\"></image></g><g><rect x=\"0\" y=\"5\" class=\"dark-square\" height=\"1\" width=\"1\"></rect><g></g></g><g><rect x=\"0\" y=\"6\" class=\"light-square\" height=\"1\" width=\"1\"></rect><g></g></g><g><rect x=\"0\" y=\"7\" class=\"dark-square\" height=\"1\" width=\"1\"></rect><g></g></g><g><rect x=\"1\" y=\"0\" class=\"dark-square\" height=\"1\" width=\"1\"></rect><g></g></g><g><rect x=\"1\" y=\"1\" class=\"light-square\" height=\"1\" width=\"1\"></rect><image x=\"1\" xlink:href=\"https://raw.githubusercontent.com/romstad/Chess.jl/master/img/bb.svg\" y=\"1\" height=\"1\" width=\"1\"></image></g><g><rect x=\"1\" y=\"2\" class=\"dark-square\" height=\"1\" width=\"1\"></rect><g></g></g><g><rect x=\"1\" y=\"3\" class=\"light-square\" height=\"1\" width=\"1\"></rect><g></g></g><g><rect x=\"1\" y=\"4\" class=\"dark-square\" height=\"1\" width=\"1\"></rect><g></g></g><g><rect x=\"1\" y=\"5\" class=\"light-square\" height=\"1\" width=\"1\"></rect><image x=\"1\" xlink:href=\"https://raw.githubusercontent.com/romstad/Chess.jl/master/img/wb.svg\" y=\"5\" height=\"1\" width=\"1\"></image></g><g><rect x=\"1\" y=\"6\" class=\"dark-square\" height=\"1\" width=\"1\"></rect><g></g></g><g><rect x=\"1\" y=\"7\" class=\"light-square\" height=\"1\" width=\"1\"></rect><g></g></g><g><rect x=\"2\" y=\"0\" class=\"light-square\" height=\"1\" width=\"1\"></rect><g></g></g><g><rect x=\"2\" y=\"1\" class=\"dark-square\" height=\"1\" width=\"1\"></rect><image x=\"2\" xlink:href=\"https://raw.githubusercontent.com/romstad/Chess.jl/master/img/br.svg\" y=\"1\" height=\"1\" width=\"1\"></image></g><g><rect x=\"2\" y=\"2\" class=\"light-square\" height=\"1\" width=\"1\"></rect><image x=\"2\" xlink:href=\"https://raw.githubusercontent.com/romstad/Chess.jl/master/img/bp.svg\" y=\"2\" height=\"1\" width=\"1\"></image></g><g><rect x=\"2\" y=\"3\" class=\"dark-square\" height=\"1\" width=\"1\"></rect><g></g></g><g><rect x=\"2\" y=\"4\" class=\"light-square\" height=\"1\" width=\"1\"></rect><g></g></g><g><rect x=\"2\" y=\"5\" class=\"dark-square\" height=\"1\" width=\"1\"></rect><image x=\"2\" xlink:href=\"https://raw.githubusercontent.com/romstad/Chess.jl/master/img/wp.svg\" y=\"5\" height=\"1\" width=\"1\"></image></g><g><rect x=\"2\" y=\"6\" class=\"light-square\" height=\"1\" width=\"1\"></rect><g></g></g><g><rect x=\"2\" y=\"7\" class=\"dark-square\" height=\"1\" width=\"1\"></rect><g></g></g><g><rect x=\"3\" y=\"0\" class=\"dark-square\" height=\"1\" width=\"1\"></rect><g></g></g><g><rect x=\"3\" y=\"1\" class=\"light-square\" height=\"1\" width=\"1\"></rect><g></g></g><g><rect x=\"3\" y=\"2\" class=\"dark-square\" height=\"1\" width=\"1\"></rect><g></g></g><g><rect x=\"3\" y=\"3\" class=\"light-square\" height=\"1\" width=\"1\"></rect><image x=\"3\" xlink:href=\"https://raw.githubusercontent.com/romstad/Chess.jl/master/img/bp.svg\" y=\"3\" height=\"1\" width=\"1\"></image></g><g><rect x=\"3\" y=\"4\" class=\"dark-square\" height=\"1\" width=\"1\"></rect><g></g></g><g><rect x=\"3\" y=\"5\" class=\"light-square\" height=\"1\" width=\"1\"></rect><g></g></g><g><rect x=\"3\" y=\"6\" class=\"dark-square\" height=\"1\" width=\"1\"></rect><g></g></g><g><rect x=\"3\" y=\"7\" class=\"light-square\" height=\"1\" width=\"1\"></rect><image x=\"3\" xlink:href=\"https://raw.githubusercontent.com/romstad/Chess.jl/master/img/wr.svg\" y=\"7\" height=\"1\" width=\"1\"></image></g><g><rect x=\"4\" y=\"0\" class=\"light-square\" height=\"1\" width=\"1\"></rect><g></g></g><g><rect x=\"4\" y=\"1\" class=\"dark-square\" height=\"1\" width=\"1\"></rect><g></g></g><g><rect x=\"4\" y=\"2\" class=\"light-square\" height=\"1\" width=\"1\"></rect><image x=\"4\" xlink:href=\"https://raw.githubusercontent.com/romstad/Chess.jl/master/img/bk.svg\" y=\"2\" height=\"1\" width=\"1\"></image></g><g><rect x=\"4\" y=\"3\" class=\"dark-square\" height=\"1\" width=\"1\"></rect><image x=\"4\" xlink:href=\"https://raw.githubusercontent.com/romstad/Chess.jl/master/img/bp.svg\" y=\"3\" height=\"1\" width=\"1\"></image></g><g><rect x=\"4\" y=\"4\" class=\"light-square\" height=\"1\" width=\"1\"></rect><image x=\"4\" xlink:href=\"https://raw.githubusercontent.com/romstad/Chess.jl/master/img/wp.svg\" y=\"4\" height=\"1\" width=\"1\"></image></g><g><rect x=\"4\" y=\"5\" class=\"dark-square\" height=\"1\" width=\"1\"></rect><g></g></g><g><rect x=\"4\" y=\"6\" class=\"light-square\" height=\"1\" width=\"1\"></rect><g></g></g><g><rect x=\"4\" y=\"7\" class=\"dark-square\" height=\"1\" width=\"1\"></rect><image x=\"4\" xlink:href=\"https://raw.githubusercontent.com/romstad/Chess.jl/master/img/wr.svg\" y=\"7\" height=\"1\" width=\"1\"></image></g><g><rect x=\"5\" y=\"0\" class=\"dark-square\" height=\"1\" width=\"1\"></rect><g></g></g><g><rect x=\"5\" y=\"1\" class=\"light-square\" height=\"1\" width=\"1\"></rect><image x=\"5\" xlink:href=\"https://raw.githubusercontent.com/romstad/Chess.jl/master/img/bp.svg\" y=\"1\" height=\"1\" width=\"1\"></image></g><g><rect x=\"5\" y=\"2\" class=\"dark-square\" height=\"1\" width=\"1\"></rect><image x=\"5\" xlink:href=\"https://raw.githubusercontent.com/romstad/Chess.jl/master/img/bn.svg\" y=\"2\" height=\"1\" width=\"1\"></image></g><g><rect x=\"5\" y=\"3\" class=\"light-square\" height=\"1\" width=\"1\"></rect><image x=\"5\" xlink:href=\"https://raw.githubusercontent.com/romstad/Chess.jl/master/img/wn.svg\" y=\"3\" height=\"1\" width=\"1\"></image></g><g><rect x=\"5\" y=\"4\" class=\"dark-square\" height=\"1\" width=\"1\"></rect><g></g></g><g><rect x=\"5\" y=\"5\" class=\"light-square\" height=\"1\" width=\"1\"></rect><image x=\"5\" xlink:href=\"https://raw.githubusercontent.com/romstad/Chess.jl/master/img/wp.svg\" y=\"5\" height=\"1\" width=\"1\"></image></g><g><rect x=\"5\" y=\"6\" class=\"dark-square\" height=\"1\" width=\"1\"></rect><image x=\"5\" xlink:href=\"https://raw.githubusercontent.com/romstad/Chess.jl/master/img/wp.svg\" y=\"6\" height=\"1\" width=\"1\"></image></g><g><rect x=\"5\" y=\"7\" class=\"light-square\" height=\"1\" width=\"1\"></rect><g></g></g><g><rect x=\"6\" y=\"0\" class=\"light-square\" height=\"1\" width=\"1\"></rect><image x=\"6\" xlink:href=\"https://raw.githubusercontent.com/romstad/Chess.jl/master/img/br.svg\" y=\"0\" height=\"1\" width=\"1\"></image></g><g><rect x=\"6\" y=\"1\" class=\"dark-square\" height=\"1\" width=\"1\"></rect><image x=\"6\" xlink:href=\"https://raw.githubusercontent.com/romstad/Chess.jl/master/img/bp.svg\" y=\"1\" height=\"1\" width=\"1\"></image></g><g><rect x=\"6\" y=\"2\" class=\"light-square\" height=\"1\" width=\"1\"></rect><g></g></g><g><rect x=\"6\" y=\"3\" class=\"dark-square\" height=\"1\" width=\"1\"></rect><g></g></g><g><rect x=\"6\" y=\"4\" class=\"light-square\" height=\"1\" width=\"1\"></rect><g></g></g><g><rect x=\"6\" y=\"5\" class=\"dark-square\" height=\"1\" width=\"1\"></rect><image x=\"6\" xlink:href=\"https://raw.githubusercontent.com/romstad/Chess.jl/master/img/wk.svg\" y=\"5\" height=\"1\" width=\"1\"></image></g><g><rect x=\"6\" y=\"6\" class=\"light-square\" height=\"1\" width=\"1\"></rect><g></g></g><g><rect x=\"6\" y=\"7\" class=\"dark-square\" height=\"1\" width=\"1\"></rect><g></g></g><g><rect x=\"7\" y=\"0\" class=\"dark-square\" height=\"1\" width=\"1\"></rect><g></g></g><g><rect x=\"7\" y=\"1\" class=\"light-square\" height=\"1\" width=\"1\"></rect><g></g></g><g><rect x=\"7\" y=\"2\" class=\"dark-square\" height=\"1\" width=\"1\"></rect><image x=\"7\" xlink:href=\"https://raw.githubusercontent.com/romstad/Chess.jl/master/img/bp.svg\" y=\"2\" height=\"1\" width=\"1\"></image></g><g><rect x=\"7\" y=\"3\" class=\"light-square\" height=\"1\" width=\"1\"></rect><g></g></g><g><rect x=\"7\" y=\"4\" class=\"dark-square\" height=\"1\" width=\"1\"></rect><g></g></g><g><rect x=\"7\" y=\"5\" class=\"light-square\" height=\"1\" width=\"1\"></rect><image x=\"7\" xlink:href=\"https://raw.githubusercontent.com/romstad/Chess.jl/master/img/wp.svg\" y=\"5\" height=\"1\" width=\"1\"></image></g><g><rect x=\"7\" y=\"6\" class=\"dark-square\" height=\"1\" width=\"1\"></rect><g></g></g><g><rect x=\"7\" y=\"7\" class=\"light-square\" height=\"1\" width=\"1\"></rect><g></g></g></g><g></g></svg><div><p>White to move</p><p><a href=\"https://lichess.org/editor/6r1/1br2pp1/p1p1kn1p/3ppN2/P3P3/1BP2PKP/5P2/3RR3_w_-_-\" target=\"_blank\">Open in lichess</a></p></div></div>"
      ],
      "text/plain": [
       "Board (6r1/1br2pp1/p1p1kn1p/3ppN2/P3P3/1BP2PKP/5P2/3RR3 w - -):\n",
       " -  -  -  -  -  -  r  - \n",
       " -  b  r  -  -  p  p  - \n",
       " p  -  p  -  k  n  -  p \n",
       " -  -  -  p  p  N  -  - \n",
       " P  -  -  -  P  -  -  - \n",
       " -  B  P  -  -  P  K  P \n",
       " -  -  -  -  -  P  -  - \n",
       " -  -  -  R  R  -  -  - "
      ]
     },
     "metadata": {},
     "output_type": "display_data"
    },
    {
     "name": "stdout",
     "output_type": "stream",
     "text": [
      "Make a move. Type 'resign' to resign from the match\n",
      "stdin> e4d5\n",
      "Cleared Cache with 0\n",
      "Inkremental score is -100 but should be -40\n"
     ]
    },
    {
     "data": {
      "text/html": [
       "Board:<div class=\"chessboard\"><style soped=\"true\">.dark-square {\n",
       "    fill: #c3936a;\n",
       "    stroke-width: 0;\n",
       "}\n",
       ".light-square {\n",
       "    fill: #ffd7a6;\n",
       "    stroke-width: 0;\n",
       "}\n",
       ".highlight {\n",
       "    fill: #47d18b;\n",
       "}\n",
       "@media (prefers-color-scheme: dark) {\n",
       "    .dark-square {\n",
       "        fill: #00796b;\n",
       "    }\n",
       "    .light-square {\n",
       "        fill: #3ca59b;\n",
       "    }\n",
       "    .highlight {\n",
       "        fill: #d23600;\n",
       "    }\n",
       "}\n",
       "</style><svg style=\"float: left; margin-right: 20px\" viewBox=\"0 0 8 8\" height=\"280\" width=\"280\"><g><g><rect x=\"0\" y=\"0\" class=\"light-square\" height=\"1\" width=\"1\"></rect><g></g></g><g><rect x=\"0\" y=\"1\" class=\"dark-square\" height=\"1\" width=\"1\"></rect><g></g></g><g><rect x=\"0\" y=\"2\" class=\"light-square\" height=\"1\" width=\"1\"></rect><image x=\"0\" xlink:href=\"https://raw.githubusercontent.com/romstad/Chess.jl/master/img/bp.svg\" y=\"2\" height=\"1\" width=\"1\"></image></g><g><rect x=\"0\" y=\"3\" class=\"dark-square\" height=\"1\" width=\"1\"></rect><g></g></g><g><rect x=\"0\" y=\"4\" class=\"light-square\" height=\"1\" width=\"1\"></rect><image x=\"0\" xlink:href=\"https://raw.githubusercontent.com/romstad/Chess.jl/master/img/wp.svg\" y=\"4\" height=\"1\" width=\"1\"></image></g><g><rect x=\"0\" y=\"5\" class=\"dark-square\" height=\"1\" width=\"1\"></rect><g></g></g><g><rect x=\"0\" y=\"6\" class=\"light-square\" height=\"1\" width=\"1\"></rect><g></g></g><g><rect x=\"0\" y=\"7\" class=\"dark-square\" height=\"1\" width=\"1\"></rect><g></g></g><g><rect x=\"1\" y=\"0\" class=\"dark-square\" height=\"1\" width=\"1\"></rect><g></g></g><g><rect x=\"1\" y=\"1\" class=\"light-square\" height=\"1\" width=\"1\"></rect><image x=\"1\" xlink:href=\"https://raw.githubusercontent.com/romstad/Chess.jl/master/img/bb.svg\" y=\"1\" height=\"1\" width=\"1\"></image></g><g><rect x=\"1\" y=\"2\" class=\"dark-square\" height=\"1\" width=\"1\"></rect><g></g></g><g><rect x=\"1\" y=\"3\" class=\"light-square\" height=\"1\" width=\"1\"></rect><g></g></g><g><rect x=\"1\" y=\"4\" class=\"dark-square\" height=\"1\" width=\"1\"></rect><g></g></g><g><rect x=\"1\" y=\"5\" class=\"light-square\" height=\"1\" width=\"1\"></rect><image x=\"1\" xlink:href=\"https://raw.githubusercontent.com/romstad/Chess.jl/master/img/wb.svg\" y=\"5\" height=\"1\" width=\"1\"></image></g><g><rect x=\"1\" y=\"6\" class=\"dark-square\" height=\"1\" width=\"1\"></rect><g></g></g><g><rect x=\"1\" y=\"7\" class=\"light-square\" height=\"1\" width=\"1\"></rect><g></g></g><g><rect x=\"2\" y=\"0\" class=\"light-square\" height=\"1\" width=\"1\"></rect><g></g></g><g><rect x=\"2\" y=\"1\" class=\"dark-square\" height=\"1\" width=\"1\"></rect><image x=\"2\" xlink:href=\"https://raw.githubusercontent.com/romstad/Chess.jl/master/img/br.svg\" y=\"1\" height=\"1\" width=\"1\"></image></g><g><rect x=\"2\" y=\"2\" class=\"light-square\" height=\"1\" width=\"1\"></rect><image x=\"2\" xlink:href=\"https://raw.githubusercontent.com/romstad/Chess.jl/master/img/bp.svg\" y=\"2\" height=\"1\" width=\"1\"></image></g><g><rect x=\"2\" y=\"3\" class=\"dark-square\" height=\"1\" width=\"1\"></rect><g></g></g><g><rect x=\"2\" y=\"4\" class=\"light-square\" height=\"1\" width=\"1\"></rect><g></g></g><g><rect x=\"2\" y=\"5\" class=\"dark-square\" height=\"1\" width=\"1\"></rect><image x=\"2\" xlink:href=\"https://raw.githubusercontent.com/romstad/Chess.jl/master/img/wp.svg\" y=\"5\" height=\"1\" width=\"1\"></image></g><g><rect x=\"2\" y=\"6\" class=\"light-square\" height=\"1\" width=\"1\"></rect><g></g></g><g><rect x=\"2\" y=\"7\" class=\"dark-square\" height=\"1\" width=\"1\"></rect><g></g></g><g><rect x=\"3\" y=\"0\" class=\"dark-square\" height=\"1\" width=\"1\"></rect><g></g></g><g><rect x=\"3\" y=\"1\" class=\"light-square\" height=\"1\" width=\"1\"></rect><g></g></g><g><rect x=\"3\" y=\"2\" class=\"dark-square\" height=\"1\" width=\"1\"></rect><g></g></g><g><rect x=\"3\" y=\"3\" class=\"light-square\" height=\"1\" width=\"1\"></rect><image x=\"3\" xlink:href=\"https://raw.githubusercontent.com/romstad/Chess.jl/master/img/wp.svg\" y=\"3\" height=\"1\" width=\"1\"></image></g><g><rect x=\"3\" y=\"4\" class=\"dark-square\" height=\"1\" width=\"1\"></rect><g></g></g><g><rect x=\"3\" y=\"5\" class=\"light-square\" height=\"1\" width=\"1\"></rect><g></g></g><g><rect x=\"3\" y=\"6\" class=\"dark-square\" height=\"1\" width=\"1\"></rect><g></g></g><g><rect x=\"3\" y=\"7\" class=\"light-square\" height=\"1\" width=\"1\"></rect><image x=\"3\" xlink:href=\"https://raw.githubusercontent.com/romstad/Chess.jl/master/img/wr.svg\" y=\"7\" height=\"1\" width=\"1\"></image></g><g><rect x=\"4\" y=\"0\" class=\"light-square\" height=\"1\" width=\"1\"></rect><g></g></g><g><rect x=\"4\" y=\"1\" class=\"dark-square\" height=\"1\" width=\"1\"></rect><g></g></g><g><rect x=\"4\" y=\"2\" class=\"light-square\" height=\"1\" width=\"1\"></rect><image x=\"4\" xlink:href=\"https://raw.githubusercontent.com/romstad/Chess.jl/master/img/bk.svg\" y=\"2\" height=\"1\" width=\"1\"></image></g><g><rect x=\"4\" y=\"3\" class=\"dark-square\" height=\"1\" width=\"1\"></rect><image x=\"4\" xlink:href=\"https://raw.githubusercontent.com/romstad/Chess.jl/master/img/bp.svg\" y=\"3\" height=\"1\" width=\"1\"></image></g><g><rect x=\"4\" y=\"4\" class=\"light-square\" height=\"1\" width=\"1\"></rect><g></g></g><g><rect x=\"4\" y=\"5\" class=\"dark-square\" height=\"1\" width=\"1\"></rect><g></g></g><g><rect x=\"4\" y=\"6\" class=\"light-square\" height=\"1\" width=\"1\"></rect><g></g></g><g><rect x=\"4\" y=\"7\" class=\"dark-square\" height=\"1\" width=\"1\"></rect><image x=\"4\" xlink:href=\"https://raw.githubusercontent.com/romstad/Chess.jl/master/img/wr.svg\" y=\"7\" height=\"1\" width=\"1\"></image></g><g><rect x=\"5\" y=\"0\" class=\"dark-square\" height=\"1\" width=\"1\"></rect><g></g></g><g><rect x=\"5\" y=\"1\" class=\"light-square\" height=\"1\" width=\"1\"></rect><image x=\"5\" xlink:href=\"https://raw.githubusercontent.com/romstad/Chess.jl/master/img/bp.svg\" y=\"1\" height=\"1\" width=\"1\"></image></g><g><rect x=\"5\" y=\"2\" class=\"dark-square\" height=\"1\" width=\"1\"></rect><image x=\"5\" xlink:href=\"https://raw.githubusercontent.com/romstad/Chess.jl/master/img/bn.svg\" y=\"2\" height=\"1\" width=\"1\"></image></g><g><rect x=\"5\" y=\"3\" class=\"light-square\" height=\"1\" width=\"1\"></rect><image x=\"5\" xlink:href=\"https://raw.githubusercontent.com/romstad/Chess.jl/master/img/wn.svg\" y=\"3\" height=\"1\" width=\"1\"></image></g><g><rect x=\"5\" y=\"4\" class=\"dark-square\" height=\"1\" width=\"1\"></rect><g></g></g><g><rect x=\"5\" y=\"5\" class=\"light-square\" height=\"1\" width=\"1\"></rect><image x=\"5\" xlink:href=\"https://raw.githubusercontent.com/romstad/Chess.jl/master/img/wp.svg\" y=\"5\" height=\"1\" width=\"1\"></image></g><g><rect x=\"5\" y=\"6\" class=\"dark-square\" height=\"1\" width=\"1\"></rect><image x=\"5\" xlink:href=\"https://raw.githubusercontent.com/romstad/Chess.jl/master/img/wp.svg\" y=\"6\" height=\"1\" width=\"1\"></image></g><g><rect x=\"5\" y=\"7\" class=\"light-square\" height=\"1\" width=\"1\"></rect><g></g></g><g><rect x=\"6\" y=\"0\" class=\"light-square\" height=\"1\" width=\"1\"></rect><image x=\"6\" xlink:href=\"https://raw.githubusercontent.com/romstad/Chess.jl/master/img/br.svg\" y=\"0\" height=\"1\" width=\"1\"></image></g><g><rect x=\"6\" y=\"1\" class=\"dark-square\" height=\"1\" width=\"1\"></rect><image x=\"6\" xlink:href=\"https://raw.githubusercontent.com/romstad/Chess.jl/master/img/bp.svg\" y=\"1\" height=\"1\" width=\"1\"></image></g><g><rect x=\"6\" y=\"2\" class=\"light-square\" height=\"1\" width=\"1\"></rect><g></g></g><g><rect x=\"6\" y=\"3\" class=\"dark-square\" height=\"1\" width=\"1\"></rect><g></g></g><g><rect x=\"6\" y=\"4\" class=\"light-square\" height=\"1\" width=\"1\"></rect><g></g></g><g><rect x=\"6\" y=\"5\" class=\"dark-square\" height=\"1\" width=\"1\"></rect><image x=\"6\" xlink:href=\"https://raw.githubusercontent.com/romstad/Chess.jl/master/img/wk.svg\" y=\"5\" height=\"1\" width=\"1\"></image></g><g><rect x=\"6\" y=\"6\" class=\"light-square\" height=\"1\" width=\"1\"></rect><g></g></g><g><rect x=\"6\" y=\"7\" class=\"dark-square\" height=\"1\" width=\"1\"></rect><g></g></g><g><rect x=\"7\" y=\"0\" class=\"dark-square\" height=\"1\" width=\"1\"></rect><g></g></g><g><rect x=\"7\" y=\"1\" class=\"light-square\" height=\"1\" width=\"1\"></rect><g></g></g><g><rect x=\"7\" y=\"2\" class=\"dark-square\" height=\"1\" width=\"1\"></rect><image x=\"7\" xlink:href=\"https://raw.githubusercontent.com/romstad/Chess.jl/master/img/bp.svg\" y=\"2\" height=\"1\" width=\"1\"></image></g><g><rect x=\"7\" y=\"3\" class=\"light-square\" height=\"1\" width=\"1\"></rect><g></g></g><g><rect x=\"7\" y=\"4\" class=\"dark-square\" height=\"1\" width=\"1\"></rect><g></g></g><g><rect x=\"7\" y=\"5\" class=\"light-square\" height=\"1\" width=\"1\"></rect><image x=\"7\" xlink:href=\"https://raw.githubusercontent.com/romstad/Chess.jl/master/img/wp.svg\" y=\"5\" height=\"1\" width=\"1\"></image></g><g><rect x=\"7\" y=\"6\" class=\"dark-square\" height=\"1\" width=\"1\"></rect><g></g></g><g><rect x=\"7\" y=\"7\" class=\"light-square\" height=\"1\" width=\"1\"></rect><g></g></g></g><g></g></svg><div><p>Black to move</p><p><a href=\"https://lichess.org/editor/6r1/1br2pp1/p1p1kn1p/3PpN2/P7/1BP2PKP/5P2/3RR3_b_-_-\" target=\"_blank\">Open in lichess</a></p></div></div>"
      ],
      "text/plain": [
       "Board (6r1/1br2pp1/p1p1kn1p/3PpN2/P7/1BP2PKP/5P2/3RR3 b - -):\n",
       " -  -  -  -  -  -  r  - \n",
       " -  b  r  -  -  p  p  - \n",
       " p  -  p  -  k  n  -  p \n",
       " -  -  -  P  p  N  -  - \n",
       " P  -  -  -  -  -  -  - \n",
       " -  B  P  -  -  P  K  P \n",
       " -  -  -  -  -  P  -  - \n",
       " -  -  -  R  R  -  -  - "
      ]
     },
     "metadata": {},
     "output_type": "display_data"
    },
    {
     "name": "stdout",
     "output_type": "stream",
     "text": [
      "Evaluation of engine: -295.0\n",
      "Current board score: -100\n",
      "Current entries in Cache: 988\n",
      "Cleared Cache with 988\n",
      "  0.794871 seconds (2.50 M allocations: 151.646 MiB, 2.82% gc time)\n",
      "Inkremental score is -435 but should be -375\n"
     ]
    },
    {
     "data": {
      "text/html": [
       "Board:<div class=\"chessboard\"><style soped=\"true\">.dark-square {\n",
       "    fill: #c3936a;\n",
       "    stroke-width: 0;\n",
       "}\n",
       ".light-square {\n",
       "    fill: #ffd7a6;\n",
       "    stroke-width: 0;\n",
       "}\n",
       ".highlight {\n",
       "    fill: #47d18b;\n",
       "}\n",
       "@media (prefers-color-scheme: dark) {\n",
       "    .dark-square {\n",
       "        fill: #00796b;\n",
       "    }\n",
       "    .light-square {\n",
       "        fill: #3ca59b;\n",
       "    }\n",
       "    .highlight {\n",
       "        fill: #d23600;\n",
       "    }\n",
       "}\n",
       "</style><svg style=\"float: left; margin-right: 20px\" viewBox=\"0 0 8 8\" height=\"280\" width=\"280\"><g><g><rect x=\"0\" y=\"0\" class=\"light-square\" height=\"1\" width=\"1\"></rect><g></g></g><g><rect x=\"0\" y=\"1\" class=\"dark-square\" height=\"1\" width=\"1\"></rect><g></g></g><g><rect x=\"0\" y=\"2\" class=\"light-square\" height=\"1\" width=\"1\"></rect><image x=\"0\" xlink:href=\"https://raw.githubusercontent.com/romstad/Chess.jl/master/img/bp.svg\" y=\"2\" height=\"1\" width=\"1\"></image></g><g><rect x=\"0\" y=\"3\" class=\"dark-square\" height=\"1\" width=\"1\"></rect><g></g></g><g><rect x=\"0\" y=\"4\" class=\"light-square\" height=\"1\" width=\"1\"></rect><image x=\"0\" xlink:href=\"https://raw.githubusercontent.com/romstad/Chess.jl/master/img/wp.svg\" y=\"4\" height=\"1\" width=\"1\"></image></g><g><rect x=\"0\" y=\"5\" class=\"dark-square\" height=\"1\" width=\"1\"></rect><g></g></g><g><rect x=\"0\" y=\"6\" class=\"light-square\" height=\"1\" width=\"1\"></rect><g></g></g><g><rect x=\"0\" y=\"7\" class=\"dark-square\" height=\"1\" width=\"1\"></rect><g></g></g><g><rect x=\"1\" y=\"0\" class=\"dark-square\" height=\"1\" width=\"1\"></rect><g></g></g><g><rect x=\"1\" y=\"1\" class=\"light-square\" height=\"1\" width=\"1\"></rect><image x=\"1\" xlink:href=\"https://raw.githubusercontent.com/romstad/Chess.jl/master/img/bb.svg\" y=\"1\" height=\"1\" width=\"1\"></image></g><g><rect x=\"1\" y=\"2\" class=\"dark-square\" height=\"1\" width=\"1\"></rect><g></g></g><g><rect x=\"1\" y=\"3\" class=\"light-square\" height=\"1\" width=\"1\"></rect><g></g></g><g><rect x=\"1\" y=\"4\" class=\"dark-square\" height=\"1\" width=\"1\"></rect><g></g></g><g><rect x=\"1\" y=\"5\" class=\"light-square\" height=\"1\" width=\"1\"></rect><image x=\"1\" xlink:href=\"https://raw.githubusercontent.com/romstad/Chess.jl/master/img/wb.svg\" y=\"5\" height=\"1\" width=\"1\"></image></g><g><rect x=\"1\" y=\"6\" class=\"dark-square\" height=\"1\" width=\"1\"></rect><g></g></g><g><rect x=\"1\" y=\"7\" class=\"light-square\" height=\"1\" width=\"1\"></rect><g></g></g><g><rect x=\"2\" y=\"0\" class=\"light-square\" height=\"1\" width=\"1\"></rect><g></g></g><g><rect x=\"2\" y=\"1\" class=\"dark-square\" height=\"1\" width=\"1\"></rect><image x=\"2\" xlink:href=\"https://raw.githubusercontent.com/romstad/Chess.jl/master/img/br.svg\" y=\"1\" height=\"1\" width=\"1\"></image></g><g><rect x=\"2\" y=\"2\" class=\"light-square\" height=\"1\" width=\"1\"></rect><image x=\"2\" xlink:href=\"https://raw.githubusercontent.com/romstad/Chess.jl/master/img/bp.svg\" y=\"2\" height=\"1\" width=\"1\"></image></g><g><rect x=\"2\" y=\"3\" class=\"dark-square\" height=\"1\" width=\"1\"></rect><g></g></g><g><rect x=\"2\" y=\"4\" class=\"light-square\" height=\"1\" width=\"1\"></rect><g></g></g><g><rect x=\"2\" y=\"5\" class=\"dark-square\" height=\"1\" width=\"1\"></rect><image x=\"2\" xlink:href=\"https://raw.githubusercontent.com/romstad/Chess.jl/master/img/wp.svg\" y=\"5\" height=\"1\" width=\"1\"></image></g><g><rect x=\"2\" y=\"6\" class=\"light-square\" height=\"1\" width=\"1\"></rect><g></g></g><g><rect x=\"2\" y=\"7\" class=\"dark-square\" height=\"1\" width=\"1\"></rect><g></g></g><g><rect x=\"3\" y=\"0\" class=\"dark-square\" height=\"1\" width=\"1\"></rect><g></g></g><g><rect x=\"3\" y=\"1\" class=\"light-square\" height=\"1\" width=\"1\"></rect><g></g></g><g><rect x=\"3\" y=\"2\" class=\"dark-square\" height=\"1\" width=\"1\"></rect><g></g></g><g><rect x=\"3\" y=\"3\" class=\"light-square\" height=\"1\" width=\"1\"></rect><image x=\"3\" xlink:href=\"https://raw.githubusercontent.com/romstad/Chess.jl/master/img/wp.svg\" y=\"3\" height=\"1\" width=\"1\"></image></g><g><rect x=\"3\" y=\"4\" class=\"dark-square\" height=\"1\" width=\"1\"></rect><g></g></g><g><rect x=\"3\" y=\"5\" class=\"light-square\" height=\"1\" width=\"1\"></rect><g></g></g><g><rect x=\"3\" y=\"6\" class=\"dark-square\" height=\"1\" width=\"1\"></rect><g></g></g><g><rect x=\"3\" y=\"7\" class=\"light-square\" height=\"1\" width=\"1\"></rect><image x=\"3\" xlink:href=\"https://raw.githubusercontent.com/romstad/Chess.jl/master/img/wr.svg\" y=\"7\" height=\"1\" width=\"1\"></image></g><g><rect x=\"4\" y=\"0\" class=\"light-square\" height=\"1\" width=\"1\"></rect><g></g></g><g><rect x=\"4\" y=\"1\" class=\"dark-square\" height=\"1\" width=\"1\"></rect><g></g></g><g><rect x=\"4\" y=\"2\" class=\"light-square\" height=\"1\" width=\"1\"></rect><g></g></g><g><rect x=\"4\" y=\"3\" class=\"dark-square\" height=\"1\" width=\"1\"></rect><image x=\"4\" xlink:href=\"https://raw.githubusercontent.com/romstad/Chess.jl/master/img/bp.svg\" y=\"3\" height=\"1\" width=\"1\"></image></g><g><rect x=\"4\" y=\"4\" class=\"light-square\" height=\"1\" width=\"1\"></rect><g></g></g><g><rect x=\"4\" y=\"5\" class=\"dark-square\" height=\"1\" width=\"1\"></rect><g></g></g><g><rect x=\"4\" y=\"6\" class=\"light-square\" height=\"1\" width=\"1\"></rect><g></g></g><g><rect x=\"4\" y=\"7\" class=\"dark-square\" height=\"1\" width=\"1\"></rect><image x=\"4\" xlink:href=\"https://raw.githubusercontent.com/romstad/Chess.jl/master/img/wr.svg\" y=\"7\" height=\"1\" width=\"1\"></image></g><g><rect x=\"5\" y=\"0\" class=\"dark-square\" height=\"1\" width=\"1\"></rect><g></g></g><g><rect x=\"5\" y=\"1\" class=\"light-square\" height=\"1\" width=\"1\"></rect><image x=\"5\" xlink:href=\"https://raw.githubusercontent.com/romstad/Chess.jl/master/img/bp.svg\" y=\"1\" height=\"1\" width=\"1\"></image></g><g><rect x=\"5\" y=\"2\" class=\"dark-square\" height=\"1\" width=\"1\"></rect><image x=\"5\" xlink:href=\"https://raw.githubusercontent.com/romstad/Chess.jl/master/img/bn.svg\" y=\"2\" height=\"1\" width=\"1\"></image></g><g><rect x=\"5\" y=\"3\" class=\"light-square\" height=\"1\" width=\"1\"></rect><image x=\"5\" xlink:href=\"https://raw.githubusercontent.com/romstad/Chess.jl/master/img/bk.svg\" y=\"3\" height=\"1\" width=\"1\"></image></g><g><rect x=\"5\" y=\"4\" class=\"dark-square\" height=\"1\" width=\"1\"></rect><g></g></g><g><rect x=\"5\" y=\"5\" class=\"light-square\" height=\"1\" width=\"1\"></rect><image x=\"5\" xlink:href=\"https://raw.githubusercontent.com/romstad/Chess.jl/master/img/wp.svg\" y=\"5\" height=\"1\" width=\"1\"></image></g><g><rect x=\"5\" y=\"6\" class=\"dark-square\" height=\"1\" width=\"1\"></rect><image x=\"5\" xlink:href=\"https://raw.githubusercontent.com/romstad/Chess.jl/master/img/wp.svg\" y=\"6\" height=\"1\" width=\"1\"></image></g><g><rect x=\"5\" y=\"7\" class=\"light-square\" height=\"1\" width=\"1\"></rect><g></g></g><g><rect x=\"6\" y=\"0\" class=\"light-square\" height=\"1\" width=\"1\"></rect><image x=\"6\" xlink:href=\"https://raw.githubusercontent.com/romstad/Chess.jl/master/img/br.svg\" y=\"0\" height=\"1\" width=\"1\"></image></g><g><rect x=\"6\" y=\"1\" class=\"dark-square\" height=\"1\" width=\"1\"></rect><image x=\"6\" xlink:href=\"https://raw.githubusercontent.com/romstad/Chess.jl/master/img/bp.svg\" y=\"1\" height=\"1\" width=\"1\"></image></g><g><rect x=\"6\" y=\"2\" class=\"light-square\" height=\"1\" width=\"1\"></rect><g></g></g><g><rect x=\"6\" y=\"3\" class=\"dark-square\" height=\"1\" width=\"1\"></rect><g></g></g><g><rect x=\"6\" y=\"4\" class=\"light-square\" height=\"1\" width=\"1\"></rect><g></g></g><g><rect x=\"6\" y=\"5\" class=\"dark-square\" height=\"1\" width=\"1\"></rect><image x=\"6\" xlink:href=\"https://raw.githubusercontent.com/romstad/Chess.jl/master/img/wk.svg\" y=\"5\" height=\"1\" width=\"1\"></image></g><g><rect x=\"6\" y=\"6\" class=\"light-square\" height=\"1\" width=\"1\"></rect><g></g></g><g><rect x=\"6\" y=\"7\" class=\"dark-square\" height=\"1\" width=\"1\"></rect><g></g></g><g><rect x=\"7\" y=\"0\" class=\"dark-square\" height=\"1\" width=\"1\"></rect><g></g></g><g><rect x=\"7\" y=\"1\" class=\"light-square\" height=\"1\" width=\"1\"></rect><g></g></g><g><rect x=\"7\" y=\"2\" class=\"dark-square\" height=\"1\" width=\"1\"></rect><image x=\"7\" xlink:href=\"https://raw.githubusercontent.com/romstad/Chess.jl/master/img/bp.svg\" y=\"2\" height=\"1\" width=\"1\"></image></g><g><rect x=\"7\" y=\"3\" class=\"light-square\" height=\"1\" width=\"1\"></rect><g></g></g><g><rect x=\"7\" y=\"4\" class=\"dark-square\" height=\"1\" width=\"1\"></rect><g></g></g><g><rect x=\"7\" y=\"5\" class=\"light-square\" height=\"1\" width=\"1\"></rect><image x=\"7\" xlink:href=\"https://raw.githubusercontent.com/romstad/Chess.jl/master/img/wp.svg\" y=\"5\" height=\"1\" width=\"1\"></image></g><g><rect x=\"7\" y=\"6\" class=\"dark-square\" height=\"1\" width=\"1\"></rect><g></g></g><g><rect x=\"7\" y=\"7\" class=\"light-square\" height=\"1\" width=\"1\"></rect><g></g></g></g><g></g></svg><div><p>White to move</p><p><a href=\"https://lichess.org/editor/6r1/1br2pp1/p1p2n1p/3Ppk2/P7/1BP2PKP/5P2/3RR3_w_-_-\" target=\"_blank\">Open in lichess</a></p></div></div>"
      ],
      "text/plain": [
       "Board (6r1/1br2pp1/p1p2n1p/3Ppk2/P7/1BP2PKP/5P2/3RR3 w - -):\n",
       " -  -  -  -  -  -  r  - \n",
       " -  b  r  -  -  p  p  - \n",
       " p  -  p  -  -  n  -  p \n",
       " -  -  -  P  p  k  -  - \n",
       " P  -  -  -  -  -  -  - \n",
       " -  B  P  -  -  P  K  P \n",
       " -  -  -  -  -  P  -  - \n",
       " -  -  -  R  R  -  -  - "
      ]
     },
     "metadata": {},
     "output_type": "display_data"
    },
    {
     "name": "stdout",
     "output_type": "stream",
     "text": [
      "Make a move. Type 'resign' to resign from the match\n",
      "stdin> d5d6\n",
      "Cleared Cache with 0\n",
      "Inkremental score is -430 but should be -370\n"
     ]
    },
    {
     "data": {
      "text/html": [
       "Board:<div class=\"chessboard\"><style soped=\"true\">.dark-square {\n",
       "    fill: #c3936a;\n",
       "    stroke-width: 0;\n",
       "}\n",
       ".light-square {\n",
       "    fill: #ffd7a6;\n",
       "    stroke-width: 0;\n",
       "}\n",
       ".highlight {\n",
       "    fill: #47d18b;\n",
       "}\n",
       "@media (prefers-color-scheme: dark) {\n",
       "    .dark-square {\n",
       "        fill: #00796b;\n",
       "    }\n",
       "    .light-square {\n",
       "        fill: #3ca59b;\n",
       "    }\n",
       "    .highlight {\n",
       "        fill: #d23600;\n",
       "    }\n",
       "}\n",
       "</style><svg style=\"float: left; margin-right: 20px\" viewBox=\"0 0 8 8\" height=\"280\" width=\"280\"><g><g><rect x=\"0\" y=\"0\" class=\"light-square\" height=\"1\" width=\"1\"></rect><g></g></g><g><rect x=\"0\" y=\"1\" class=\"dark-square\" height=\"1\" width=\"1\"></rect><g></g></g><g><rect x=\"0\" y=\"2\" class=\"light-square\" height=\"1\" width=\"1\"></rect><image x=\"0\" xlink:href=\"https://raw.githubusercontent.com/romstad/Chess.jl/master/img/bp.svg\" y=\"2\" height=\"1\" width=\"1\"></image></g><g><rect x=\"0\" y=\"3\" class=\"dark-square\" height=\"1\" width=\"1\"></rect><g></g></g><g><rect x=\"0\" y=\"4\" class=\"light-square\" height=\"1\" width=\"1\"></rect><image x=\"0\" xlink:href=\"https://raw.githubusercontent.com/romstad/Chess.jl/master/img/wp.svg\" y=\"4\" height=\"1\" width=\"1\"></image></g><g><rect x=\"0\" y=\"5\" class=\"dark-square\" height=\"1\" width=\"1\"></rect><g></g></g><g><rect x=\"0\" y=\"6\" class=\"light-square\" height=\"1\" width=\"1\"></rect><g></g></g><g><rect x=\"0\" y=\"7\" class=\"dark-square\" height=\"1\" width=\"1\"></rect><g></g></g><g><rect x=\"1\" y=\"0\" class=\"dark-square\" height=\"1\" width=\"1\"></rect><g></g></g><g><rect x=\"1\" y=\"1\" class=\"light-square\" height=\"1\" width=\"1\"></rect><image x=\"1\" xlink:href=\"https://raw.githubusercontent.com/romstad/Chess.jl/master/img/bb.svg\" y=\"1\" height=\"1\" width=\"1\"></image></g><g><rect x=\"1\" y=\"2\" class=\"dark-square\" height=\"1\" width=\"1\"></rect><g></g></g><g><rect x=\"1\" y=\"3\" class=\"light-square\" height=\"1\" width=\"1\"></rect><g></g></g><g><rect x=\"1\" y=\"4\" class=\"dark-square\" height=\"1\" width=\"1\"></rect><g></g></g><g><rect x=\"1\" y=\"5\" class=\"light-square\" height=\"1\" width=\"1\"></rect><image x=\"1\" xlink:href=\"https://raw.githubusercontent.com/romstad/Chess.jl/master/img/wb.svg\" y=\"5\" height=\"1\" width=\"1\"></image></g><g><rect x=\"1\" y=\"6\" class=\"dark-square\" height=\"1\" width=\"1\"></rect><g></g></g><g><rect x=\"1\" y=\"7\" class=\"light-square\" height=\"1\" width=\"1\"></rect><g></g></g><g><rect x=\"2\" y=\"0\" class=\"light-square\" height=\"1\" width=\"1\"></rect><g></g></g><g><rect x=\"2\" y=\"1\" class=\"dark-square\" height=\"1\" width=\"1\"></rect><image x=\"2\" xlink:href=\"https://raw.githubusercontent.com/romstad/Chess.jl/master/img/br.svg\" y=\"1\" height=\"1\" width=\"1\"></image></g><g><rect x=\"2\" y=\"2\" class=\"light-square\" height=\"1\" width=\"1\"></rect><image x=\"2\" xlink:href=\"https://raw.githubusercontent.com/romstad/Chess.jl/master/img/bp.svg\" y=\"2\" height=\"1\" width=\"1\"></image></g><g><rect x=\"2\" y=\"3\" class=\"dark-square\" height=\"1\" width=\"1\"></rect><g></g></g><g><rect x=\"2\" y=\"4\" class=\"light-square\" height=\"1\" width=\"1\"></rect><g></g></g><g><rect x=\"2\" y=\"5\" class=\"dark-square\" height=\"1\" width=\"1\"></rect><image x=\"2\" xlink:href=\"https://raw.githubusercontent.com/romstad/Chess.jl/master/img/wp.svg\" y=\"5\" height=\"1\" width=\"1\"></image></g><g><rect x=\"2\" y=\"6\" class=\"light-square\" height=\"1\" width=\"1\"></rect><g></g></g><g><rect x=\"2\" y=\"7\" class=\"dark-square\" height=\"1\" width=\"1\"></rect><g></g></g><g><rect x=\"3\" y=\"0\" class=\"dark-square\" height=\"1\" width=\"1\"></rect><g></g></g><g><rect x=\"3\" y=\"1\" class=\"light-square\" height=\"1\" width=\"1\"></rect><g></g></g><g><rect x=\"3\" y=\"2\" class=\"dark-square\" height=\"1\" width=\"1\"></rect><image x=\"3\" xlink:href=\"https://raw.githubusercontent.com/romstad/Chess.jl/master/img/wp.svg\" y=\"2\" height=\"1\" width=\"1\"></image></g><g><rect x=\"3\" y=\"3\" class=\"light-square\" height=\"1\" width=\"1\"></rect><g></g></g><g><rect x=\"3\" y=\"4\" class=\"dark-square\" height=\"1\" width=\"1\"></rect><g></g></g><g><rect x=\"3\" y=\"5\" class=\"light-square\" height=\"1\" width=\"1\"></rect><g></g></g><g><rect x=\"3\" y=\"6\" class=\"dark-square\" height=\"1\" width=\"1\"></rect><g></g></g><g><rect x=\"3\" y=\"7\" class=\"light-square\" height=\"1\" width=\"1\"></rect><image x=\"3\" xlink:href=\"https://raw.githubusercontent.com/romstad/Chess.jl/master/img/wr.svg\" y=\"7\" height=\"1\" width=\"1\"></image></g><g><rect x=\"4\" y=\"0\" class=\"light-square\" height=\"1\" width=\"1\"></rect><g></g></g><g><rect x=\"4\" y=\"1\" class=\"dark-square\" height=\"1\" width=\"1\"></rect><g></g></g><g><rect x=\"4\" y=\"2\" class=\"light-square\" height=\"1\" width=\"1\"></rect><g></g></g><g><rect x=\"4\" y=\"3\" class=\"dark-square\" height=\"1\" width=\"1\"></rect><image x=\"4\" xlink:href=\"https://raw.githubusercontent.com/romstad/Chess.jl/master/img/bp.svg\" y=\"3\" height=\"1\" width=\"1\"></image></g><g><rect x=\"4\" y=\"4\" class=\"light-square\" height=\"1\" width=\"1\"></rect><g></g></g><g><rect x=\"4\" y=\"5\" class=\"dark-square\" height=\"1\" width=\"1\"></rect><g></g></g><g><rect x=\"4\" y=\"6\" class=\"light-square\" height=\"1\" width=\"1\"></rect><g></g></g><g><rect x=\"4\" y=\"7\" class=\"dark-square\" height=\"1\" width=\"1\"></rect><image x=\"4\" xlink:href=\"https://raw.githubusercontent.com/romstad/Chess.jl/master/img/wr.svg\" y=\"7\" height=\"1\" width=\"1\"></image></g><g><rect x=\"5\" y=\"0\" class=\"dark-square\" height=\"1\" width=\"1\"></rect><g></g></g><g><rect x=\"5\" y=\"1\" class=\"light-square\" height=\"1\" width=\"1\"></rect><image x=\"5\" xlink:href=\"https://raw.githubusercontent.com/romstad/Chess.jl/master/img/bp.svg\" y=\"1\" height=\"1\" width=\"1\"></image></g><g><rect x=\"5\" y=\"2\" class=\"dark-square\" height=\"1\" width=\"1\"></rect><image x=\"5\" xlink:href=\"https://raw.githubusercontent.com/romstad/Chess.jl/master/img/bn.svg\" y=\"2\" height=\"1\" width=\"1\"></image></g><g><rect x=\"5\" y=\"3\" class=\"light-square\" height=\"1\" width=\"1\"></rect><image x=\"5\" xlink:href=\"https://raw.githubusercontent.com/romstad/Chess.jl/master/img/bk.svg\" y=\"3\" height=\"1\" width=\"1\"></image></g><g><rect x=\"5\" y=\"4\" class=\"dark-square\" height=\"1\" width=\"1\"></rect><g></g></g><g><rect x=\"5\" y=\"5\" class=\"light-square\" height=\"1\" width=\"1\"></rect><image x=\"5\" xlink:href=\"https://raw.githubusercontent.com/romstad/Chess.jl/master/img/wp.svg\" y=\"5\" height=\"1\" width=\"1\"></image></g><g><rect x=\"5\" y=\"6\" class=\"dark-square\" height=\"1\" width=\"1\"></rect><image x=\"5\" xlink:href=\"https://raw.githubusercontent.com/romstad/Chess.jl/master/img/wp.svg\" y=\"6\" height=\"1\" width=\"1\"></image></g><g><rect x=\"5\" y=\"7\" class=\"light-square\" height=\"1\" width=\"1\"></rect><g></g></g><g><rect x=\"6\" y=\"0\" class=\"light-square\" height=\"1\" width=\"1\"></rect><image x=\"6\" xlink:href=\"https://raw.githubusercontent.com/romstad/Chess.jl/master/img/br.svg\" y=\"0\" height=\"1\" width=\"1\"></image></g><g><rect x=\"6\" y=\"1\" class=\"dark-square\" height=\"1\" width=\"1\"></rect><image x=\"6\" xlink:href=\"https://raw.githubusercontent.com/romstad/Chess.jl/master/img/bp.svg\" y=\"1\" height=\"1\" width=\"1\"></image></g><g><rect x=\"6\" y=\"2\" class=\"light-square\" height=\"1\" width=\"1\"></rect><g></g></g><g><rect x=\"6\" y=\"3\" class=\"dark-square\" height=\"1\" width=\"1\"></rect><g></g></g><g><rect x=\"6\" y=\"4\" class=\"light-square\" height=\"1\" width=\"1\"></rect><g></g></g><g><rect x=\"6\" y=\"5\" class=\"dark-square\" height=\"1\" width=\"1\"></rect><image x=\"6\" xlink:href=\"https://raw.githubusercontent.com/romstad/Chess.jl/master/img/wk.svg\" y=\"5\" height=\"1\" width=\"1\"></image></g><g><rect x=\"6\" y=\"6\" class=\"light-square\" height=\"1\" width=\"1\"></rect><g></g></g><g><rect x=\"6\" y=\"7\" class=\"dark-square\" height=\"1\" width=\"1\"></rect><g></g></g><g><rect x=\"7\" y=\"0\" class=\"dark-square\" height=\"1\" width=\"1\"></rect><g></g></g><g><rect x=\"7\" y=\"1\" class=\"light-square\" height=\"1\" width=\"1\"></rect><g></g></g><g><rect x=\"7\" y=\"2\" class=\"dark-square\" height=\"1\" width=\"1\"></rect><image x=\"7\" xlink:href=\"https://raw.githubusercontent.com/romstad/Chess.jl/master/img/bp.svg\" y=\"2\" height=\"1\" width=\"1\"></image></g><g><rect x=\"7\" y=\"3\" class=\"light-square\" height=\"1\" width=\"1\"></rect><g></g></g><g><rect x=\"7\" y=\"4\" class=\"dark-square\" height=\"1\" width=\"1\"></rect><g></g></g><g><rect x=\"7\" y=\"5\" class=\"light-square\" height=\"1\" width=\"1\"></rect><image x=\"7\" xlink:href=\"https://raw.githubusercontent.com/romstad/Chess.jl/master/img/wp.svg\" y=\"5\" height=\"1\" width=\"1\"></image></g><g><rect x=\"7\" y=\"6\" class=\"dark-square\" height=\"1\" width=\"1\"></rect><g></g></g><g><rect x=\"7\" y=\"7\" class=\"light-square\" height=\"1\" width=\"1\"></rect><g></g></g></g><g></g></svg><div><p>Black to move</p><p><a href=\"https://lichess.org/editor/6r1/1br2pp1/p1pP1n1p/4pk2/P7/1BP2PKP/5P2/3RR3_b_-_-\" target=\"_blank\">Open in lichess</a></p></div></div>"
      ],
      "text/plain": [
       "Board (6r1/1br2pp1/p1pP1n1p/4pk2/P7/1BP2PKP/5P2/3RR3 b - -):\n",
       " -  -  -  -  -  -  r  - \n",
       " -  b  r  -  -  p  p  - \n",
       " p  -  p  P  -  n  -  p \n",
       " -  -  -  -  p  k  -  - \n",
       " P  -  -  -  -  -  -  - \n",
       " -  B  P  -  -  P  K  P \n",
       " -  -  -  -  -  P  -  - \n",
       " -  -  -  R  R  -  -  - "
      ]
     },
     "metadata": {},
     "output_type": "display_data"
    },
    {
     "name": "stdout",
     "output_type": "stream",
     "text": [
      "Evaluation of engine: -325.0\n",
      "Current board score: -430\n",
      "Current entries in Cache: 5738\n",
      "Cleared Cache with 5738\n",
      "  4.204110 seconds (15.02 M allocations: 888.901 MiB, 2.73% gc time)\n",
      "Inkremental score is -430 but should be -370\n"
     ]
    },
    {
     "data": {
      "text/html": [
       "Board:<div class=\"chessboard\"><style soped=\"true\">.dark-square {\n",
       "    fill: #c3936a;\n",
       "    stroke-width: 0;\n",
       "}\n",
       ".light-square {\n",
       "    fill: #ffd7a6;\n",
       "    stroke-width: 0;\n",
       "}\n",
       ".highlight {\n",
       "    fill: #47d18b;\n",
       "}\n",
       "@media (prefers-color-scheme: dark) {\n",
       "    .dark-square {\n",
       "        fill: #00796b;\n",
       "    }\n",
       "    .light-square {\n",
       "        fill: #3ca59b;\n",
       "    }\n",
       "    .highlight {\n",
       "        fill: #d23600;\n",
       "    }\n",
       "}\n",
       "</style><svg style=\"float: left; margin-right: 20px\" viewBox=\"0 0 8 8\" height=\"280\" width=\"280\"><g><g><rect x=\"0\" y=\"0\" class=\"light-square\" height=\"1\" width=\"1\"></rect><g></g></g><g><rect x=\"0\" y=\"1\" class=\"dark-square\" height=\"1\" width=\"1\"></rect><g></g></g><g><rect x=\"0\" y=\"2\" class=\"light-square\" height=\"1\" width=\"1\"></rect><image x=\"0\" xlink:href=\"https://raw.githubusercontent.com/romstad/Chess.jl/master/img/bp.svg\" y=\"2\" height=\"1\" width=\"1\"></image></g><g><rect x=\"0\" y=\"3\" class=\"dark-square\" height=\"1\" width=\"1\"></rect><g></g></g><g><rect x=\"0\" y=\"4\" class=\"light-square\" height=\"1\" width=\"1\"></rect><image x=\"0\" xlink:href=\"https://raw.githubusercontent.com/romstad/Chess.jl/master/img/wp.svg\" y=\"4\" height=\"1\" width=\"1\"></image></g><g><rect x=\"0\" y=\"5\" class=\"dark-square\" height=\"1\" width=\"1\"></rect><g></g></g><g><rect x=\"0\" y=\"6\" class=\"light-square\" height=\"1\" width=\"1\"></rect><g></g></g><g><rect x=\"0\" y=\"7\" class=\"dark-square\" height=\"1\" width=\"1\"></rect><g></g></g><g><rect x=\"1\" y=\"0\" class=\"dark-square\" height=\"1\" width=\"1\"></rect><g></g></g><g><rect x=\"1\" y=\"1\" class=\"light-square\" height=\"1\" width=\"1\"></rect><image x=\"1\" xlink:href=\"https://raw.githubusercontent.com/romstad/Chess.jl/master/img/bb.svg\" y=\"1\" height=\"1\" width=\"1\"></image></g><g><rect x=\"1\" y=\"2\" class=\"dark-square\" height=\"1\" width=\"1\"></rect><g></g></g><g><rect x=\"1\" y=\"3\" class=\"light-square\" height=\"1\" width=\"1\"></rect><g></g></g><g><rect x=\"1\" y=\"4\" class=\"dark-square\" height=\"1\" width=\"1\"></rect><g></g></g><g><rect x=\"1\" y=\"5\" class=\"light-square\" height=\"1\" width=\"1\"></rect><image x=\"1\" xlink:href=\"https://raw.githubusercontent.com/romstad/Chess.jl/master/img/wb.svg\" y=\"5\" height=\"1\" width=\"1\"></image></g><g><rect x=\"1\" y=\"6\" class=\"dark-square\" height=\"1\" width=\"1\"></rect><g></g></g><g><rect x=\"1\" y=\"7\" class=\"light-square\" height=\"1\" width=\"1\"></rect><g></g></g><g><rect x=\"2\" y=\"0\" class=\"light-square\" height=\"1\" width=\"1\"></rect><g></g></g><g><rect x=\"2\" y=\"1\" class=\"dark-square\" height=\"1\" width=\"1\"></rect><g></g></g><g><rect x=\"2\" y=\"2\" class=\"light-square\" height=\"1\" width=\"1\"></rect><image x=\"2\" xlink:href=\"https://raw.githubusercontent.com/romstad/Chess.jl/master/img/bp.svg\" y=\"2\" height=\"1\" width=\"1\"></image></g><g><rect x=\"2\" y=\"3\" class=\"dark-square\" height=\"1\" width=\"1\"></rect><g></g></g><g><rect x=\"2\" y=\"4\" class=\"light-square\" height=\"1\" width=\"1\"></rect><g></g></g><g><rect x=\"2\" y=\"5\" class=\"dark-square\" height=\"1\" width=\"1\"></rect><image x=\"2\" xlink:href=\"https://raw.githubusercontent.com/romstad/Chess.jl/master/img/wp.svg\" y=\"5\" height=\"1\" width=\"1\"></image></g><g><rect x=\"2\" y=\"6\" class=\"light-square\" height=\"1\" width=\"1\"></rect><g></g></g><g><rect x=\"2\" y=\"7\" class=\"dark-square\" height=\"1\" width=\"1\"></rect><g></g></g><g><rect x=\"3\" y=\"0\" class=\"dark-square\" height=\"1\" width=\"1\"></rect><g></g></g><g><rect x=\"3\" y=\"1\" class=\"light-square\" height=\"1\" width=\"1\"></rect><image x=\"3\" xlink:href=\"https://raw.githubusercontent.com/romstad/Chess.jl/master/img/br.svg\" y=\"1\" height=\"1\" width=\"1\"></image></g><g><rect x=\"3\" y=\"2\" class=\"dark-square\" height=\"1\" width=\"1\"></rect><image x=\"3\" xlink:href=\"https://raw.githubusercontent.com/romstad/Chess.jl/master/img/wp.svg\" y=\"2\" height=\"1\" width=\"1\"></image></g><g><rect x=\"3\" y=\"3\" class=\"light-square\" height=\"1\" width=\"1\"></rect><g></g></g><g><rect x=\"3\" y=\"4\" class=\"dark-square\" height=\"1\" width=\"1\"></rect><g></g></g><g><rect x=\"3\" y=\"5\" class=\"light-square\" height=\"1\" width=\"1\"></rect><g></g></g><g><rect x=\"3\" y=\"6\" class=\"dark-square\" height=\"1\" width=\"1\"></rect><g></g></g><g><rect x=\"3\" y=\"7\" class=\"light-square\" height=\"1\" width=\"1\"></rect><image x=\"3\" xlink:href=\"https://raw.githubusercontent.com/romstad/Chess.jl/master/img/wr.svg\" y=\"7\" height=\"1\" width=\"1\"></image></g><g><rect x=\"4\" y=\"0\" class=\"light-square\" height=\"1\" width=\"1\"></rect><g></g></g><g><rect x=\"4\" y=\"1\" class=\"dark-square\" height=\"1\" width=\"1\"></rect><g></g></g><g><rect x=\"4\" y=\"2\" class=\"light-square\" height=\"1\" width=\"1\"></rect><g></g></g><g><rect x=\"4\" y=\"3\" class=\"dark-square\" height=\"1\" width=\"1\"></rect><image x=\"4\" xlink:href=\"https://raw.githubusercontent.com/romstad/Chess.jl/master/img/bp.svg\" y=\"3\" height=\"1\" width=\"1\"></image></g><g><rect x=\"4\" y=\"4\" class=\"light-square\" height=\"1\" width=\"1\"></rect><g></g></g><g><rect x=\"4\" y=\"5\" class=\"dark-square\" height=\"1\" width=\"1\"></rect><g></g></g><g><rect x=\"4\" y=\"6\" class=\"light-square\" height=\"1\" width=\"1\"></rect><g></g></g><g><rect x=\"4\" y=\"7\" class=\"dark-square\" height=\"1\" width=\"1\"></rect><image x=\"4\" xlink:href=\"https://raw.githubusercontent.com/romstad/Chess.jl/master/img/wr.svg\" y=\"7\" height=\"1\" width=\"1\"></image></g><g><rect x=\"5\" y=\"0\" class=\"dark-square\" height=\"1\" width=\"1\"></rect><g></g></g><g><rect x=\"5\" y=\"1\" class=\"light-square\" height=\"1\" width=\"1\"></rect><image x=\"5\" xlink:href=\"https://raw.githubusercontent.com/romstad/Chess.jl/master/img/bp.svg\" y=\"1\" height=\"1\" width=\"1\"></image></g><g><rect x=\"5\" y=\"2\" class=\"dark-square\" height=\"1\" width=\"1\"></rect><image x=\"5\" xlink:href=\"https://raw.githubusercontent.com/romstad/Chess.jl/master/img/bn.svg\" y=\"2\" height=\"1\" width=\"1\"></image></g><g><rect x=\"5\" y=\"3\" class=\"light-square\" height=\"1\" width=\"1\"></rect><image x=\"5\" xlink:href=\"https://raw.githubusercontent.com/romstad/Chess.jl/master/img/bk.svg\" y=\"3\" height=\"1\" width=\"1\"></image></g><g><rect x=\"5\" y=\"4\" class=\"dark-square\" height=\"1\" width=\"1\"></rect><g></g></g><g><rect x=\"5\" y=\"5\" class=\"light-square\" height=\"1\" width=\"1\"></rect><image x=\"5\" xlink:href=\"https://raw.githubusercontent.com/romstad/Chess.jl/master/img/wp.svg\" y=\"5\" height=\"1\" width=\"1\"></image></g><g><rect x=\"5\" y=\"6\" class=\"dark-square\" height=\"1\" width=\"1\"></rect><image x=\"5\" xlink:href=\"https://raw.githubusercontent.com/romstad/Chess.jl/master/img/wp.svg\" y=\"6\" height=\"1\" width=\"1\"></image></g><g><rect x=\"5\" y=\"7\" class=\"light-square\" height=\"1\" width=\"1\"></rect><g></g></g><g><rect x=\"6\" y=\"0\" class=\"light-square\" height=\"1\" width=\"1\"></rect><image x=\"6\" xlink:href=\"https://raw.githubusercontent.com/romstad/Chess.jl/master/img/br.svg\" y=\"0\" height=\"1\" width=\"1\"></image></g><g><rect x=\"6\" y=\"1\" class=\"dark-square\" height=\"1\" width=\"1\"></rect><image x=\"6\" xlink:href=\"https://raw.githubusercontent.com/romstad/Chess.jl/master/img/bp.svg\" y=\"1\" height=\"1\" width=\"1\"></image></g><g><rect x=\"6\" y=\"2\" class=\"light-square\" height=\"1\" width=\"1\"></rect><g></g></g><g><rect x=\"6\" y=\"3\" class=\"dark-square\" height=\"1\" width=\"1\"></rect><g></g></g><g><rect x=\"6\" y=\"4\" class=\"light-square\" height=\"1\" width=\"1\"></rect><g></g></g><g><rect x=\"6\" y=\"5\" class=\"dark-square\" height=\"1\" width=\"1\"></rect><image x=\"6\" xlink:href=\"https://raw.githubusercontent.com/romstad/Chess.jl/master/img/wk.svg\" y=\"5\" height=\"1\" width=\"1\"></image></g><g><rect x=\"6\" y=\"6\" class=\"light-square\" height=\"1\" width=\"1\"></rect><g></g></g><g><rect x=\"6\" y=\"7\" class=\"dark-square\" height=\"1\" width=\"1\"></rect><g></g></g><g><rect x=\"7\" y=\"0\" class=\"dark-square\" height=\"1\" width=\"1\"></rect><g></g></g><g><rect x=\"7\" y=\"1\" class=\"light-square\" height=\"1\" width=\"1\"></rect><g></g></g><g><rect x=\"7\" y=\"2\" class=\"dark-square\" height=\"1\" width=\"1\"></rect><image x=\"7\" xlink:href=\"https://raw.githubusercontent.com/romstad/Chess.jl/master/img/bp.svg\" y=\"2\" height=\"1\" width=\"1\"></image></g><g><rect x=\"7\" y=\"3\" class=\"light-square\" height=\"1\" width=\"1\"></rect><g></g></g><g><rect x=\"7\" y=\"4\" class=\"dark-square\" height=\"1\" width=\"1\"></rect><g></g></g><g><rect x=\"7\" y=\"5\" class=\"light-square\" height=\"1\" width=\"1\"></rect><image x=\"7\" xlink:href=\"https://raw.githubusercontent.com/romstad/Chess.jl/master/img/wp.svg\" y=\"5\" height=\"1\" width=\"1\"></image></g><g><rect x=\"7\" y=\"6\" class=\"dark-square\" height=\"1\" width=\"1\"></rect><g></g></g><g><rect x=\"7\" y=\"7\" class=\"light-square\" height=\"1\" width=\"1\"></rect><g></g></g></g><g></g></svg><div><p>White to move</p><p><a href=\"https://lichess.org/editor/6r1/1b1r1pp1/p1pP1n1p/4pk2/P7/1BP2PKP/5P2/3RR3_w_-_-\" target=\"_blank\">Open in lichess</a></p></div></div>"
      ],
      "text/plain": [
       "Board (6r1/1b1r1pp1/p1pP1n1p/4pk2/P7/1BP2PKP/5P2/3RR3 w - -):\n",
       " -  -  -  -  -  -  r  - \n",
       " -  b  -  r  -  p  p  - \n",
       " p  -  p  P  -  n  -  p \n",
       " -  -  -  -  p  k  -  - \n",
       " P  -  -  -  -  -  -  - \n",
       " -  B  P  -  -  P  K  P \n",
       " -  -  -  -  -  P  -  - \n",
       " -  -  -  R  R  -  -  - "
      ]
     },
     "metadata": {},
     "output_type": "display_data"
    },
    {
     "name": "stdout",
     "output_type": "stream",
     "text": [
      "Make a move. Type 'resign' to resign from the match\n",
      "stdin> b3c2\n",
      "Cleared Cache with 0\n",
      "Inkremental score is -440 but should be -380\n"
     ]
    },
    {
     "data": {
      "text/html": [
       "Board:<div class=\"chessboard\"><style soped=\"true\">.dark-square {\n",
       "    fill: #c3936a;\n",
       "    stroke-width: 0;\n",
       "}\n",
       ".light-square {\n",
       "    fill: #ffd7a6;\n",
       "    stroke-width: 0;\n",
       "}\n",
       ".highlight {\n",
       "    fill: #47d18b;\n",
       "}\n",
       "@media (prefers-color-scheme: dark) {\n",
       "    .dark-square {\n",
       "        fill: #00796b;\n",
       "    }\n",
       "    .light-square {\n",
       "        fill: #3ca59b;\n",
       "    }\n",
       "    .highlight {\n",
       "        fill: #d23600;\n",
       "    }\n",
       "}\n",
       "</style><svg style=\"float: left; margin-right: 20px\" viewBox=\"0 0 8 8\" height=\"280\" width=\"280\"><g><g><rect x=\"0\" y=\"0\" class=\"light-square\" height=\"1\" width=\"1\"></rect><g></g></g><g><rect x=\"0\" y=\"1\" class=\"dark-square\" height=\"1\" width=\"1\"></rect><g></g></g><g><rect x=\"0\" y=\"2\" class=\"light-square\" height=\"1\" width=\"1\"></rect><image x=\"0\" xlink:href=\"https://raw.githubusercontent.com/romstad/Chess.jl/master/img/bp.svg\" y=\"2\" height=\"1\" width=\"1\"></image></g><g><rect x=\"0\" y=\"3\" class=\"dark-square\" height=\"1\" width=\"1\"></rect><g></g></g><g><rect x=\"0\" y=\"4\" class=\"light-square\" height=\"1\" width=\"1\"></rect><image x=\"0\" xlink:href=\"https://raw.githubusercontent.com/romstad/Chess.jl/master/img/wp.svg\" y=\"4\" height=\"1\" width=\"1\"></image></g><g><rect x=\"0\" y=\"5\" class=\"dark-square\" height=\"1\" width=\"1\"></rect><g></g></g><g><rect x=\"0\" y=\"6\" class=\"light-square\" height=\"1\" width=\"1\"></rect><g></g></g><g><rect x=\"0\" y=\"7\" class=\"dark-square\" height=\"1\" width=\"1\"></rect><g></g></g><g><rect x=\"1\" y=\"0\" class=\"dark-square\" height=\"1\" width=\"1\"></rect><g></g></g><g><rect x=\"1\" y=\"1\" class=\"light-square\" height=\"1\" width=\"1\"></rect><image x=\"1\" xlink:href=\"https://raw.githubusercontent.com/romstad/Chess.jl/master/img/bb.svg\" y=\"1\" height=\"1\" width=\"1\"></image></g><g><rect x=\"1\" y=\"2\" class=\"dark-square\" height=\"1\" width=\"1\"></rect><g></g></g><g><rect x=\"1\" y=\"3\" class=\"light-square\" height=\"1\" width=\"1\"></rect><g></g></g><g><rect x=\"1\" y=\"4\" class=\"dark-square\" height=\"1\" width=\"1\"></rect><g></g></g><g><rect x=\"1\" y=\"5\" class=\"light-square\" height=\"1\" width=\"1\"></rect><g></g></g><g><rect x=\"1\" y=\"6\" class=\"dark-square\" height=\"1\" width=\"1\"></rect><g></g></g><g><rect x=\"1\" y=\"7\" class=\"light-square\" height=\"1\" width=\"1\"></rect><g></g></g><g><rect x=\"2\" y=\"0\" class=\"light-square\" height=\"1\" width=\"1\"></rect><g></g></g><g><rect x=\"2\" y=\"1\" class=\"dark-square\" height=\"1\" width=\"1\"></rect><g></g></g><g><rect x=\"2\" y=\"2\" class=\"light-square\" height=\"1\" width=\"1\"></rect><image x=\"2\" xlink:href=\"https://raw.githubusercontent.com/romstad/Chess.jl/master/img/bp.svg\" y=\"2\" height=\"1\" width=\"1\"></image></g><g><rect x=\"2\" y=\"3\" class=\"dark-square\" height=\"1\" width=\"1\"></rect><g></g></g><g><rect x=\"2\" y=\"4\" class=\"light-square\" height=\"1\" width=\"1\"></rect><g></g></g><g><rect x=\"2\" y=\"5\" class=\"dark-square\" height=\"1\" width=\"1\"></rect><image x=\"2\" xlink:href=\"https://raw.githubusercontent.com/romstad/Chess.jl/master/img/wp.svg\" y=\"5\" height=\"1\" width=\"1\"></image></g><g><rect x=\"2\" y=\"6\" class=\"light-square\" height=\"1\" width=\"1\"></rect><image x=\"2\" xlink:href=\"https://raw.githubusercontent.com/romstad/Chess.jl/master/img/wb.svg\" y=\"6\" height=\"1\" width=\"1\"></image></g><g><rect x=\"2\" y=\"7\" class=\"dark-square\" height=\"1\" width=\"1\"></rect><g></g></g><g><rect x=\"3\" y=\"0\" class=\"dark-square\" height=\"1\" width=\"1\"></rect><g></g></g><g><rect x=\"3\" y=\"1\" class=\"light-square\" height=\"1\" width=\"1\"></rect><image x=\"3\" xlink:href=\"https://raw.githubusercontent.com/romstad/Chess.jl/master/img/br.svg\" y=\"1\" height=\"1\" width=\"1\"></image></g><g><rect x=\"3\" y=\"2\" class=\"dark-square\" height=\"1\" width=\"1\"></rect><image x=\"3\" xlink:href=\"https://raw.githubusercontent.com/romstad/Chess.jl/master/img/wp.svg\" y=\"2\" height=\"1\" width=\"1\"></image></g><g><rect x=\"3\" y=\"3\" class=\"light-square\" height=\"1\" width=\"1\"></rect><g></g></g><g><rect x=\"3\" y=\"4\" class=\"dark-square\" height=\"1\" width=\"1\"></rect><g></g></g><g><rect x=\"3\" y=\"5\" class=\"light-square\" height=\"1\" width=\"1\"></rect><g></g></g><g><rect x=\"3\" y=\"6\" class=\"dark-square\" height=\"1\" width=\"1\"></rect><g></g></g><g><rect x=\"3\" y=\"7\" class=\"light-square\" height=\"1\" width=\"1\"></rect><image x=\"3\" xlink:href=\"https://raw.githubusercontent.com/romstad/Chess.jl/master/img/wr.svg\" y=\"7\" height=\"1\" width=\"1\"></image></g><g><rect x=\"4\" y=\"0\" class=\"light-square\" height=\"1\" width=\"1\"></rect><g></g></g><g><rect x=\"4\" y=\"1\" class=\"dark-square\" height=\"1\" width=\"1\"></rect><g></g></g><g><rect x=\"4\" y=\"2\" class=\"light-square\" height=\"1\" width=\"1\"></rect><g></g></g><g><rect x=\"4\" y=\"3\" class=\"dark-square\" height=\"1\" width=\"1\"></rect><image x=\"4\" xlink:href=\"https://raw.githubusercontent.com/romstad/Chess.jl/master/img/bp.svg\" y=\"3\" height=\"1\" width=\"1\"></image></g><g><rect x=\"4\" y=\"4\" class=\"light-square\" height=\"1\" width=\"1\"></rect><g></g></g><g><rect x=\"4\" y=\"5\" class=\"dark-square\" height=\"1\" width=\"1\"></rect><g></g></g><g><rect x=\"4\" y=\"6\" class=\"light-square\" height=\"1\" width=\"1\"></rect><g></g></g><g><rect x=\"4\" y=\"7\" class=\"dark-square\" height=\"1\" width=\"1\"></rect><image x=\"4\" xlink:href=\"https://raw.githubusercontent.com/romstad/Chess.jl/master/img/wr.svg\" y=\"7\" height=\"1\" width=\"1\"></image></g><g><rect x=\"5\" y=\"0\" class=\"dark-square\" height=\"1\" width=\"1\"></rect><g></g></g><g><rect x=\"5\" y=\"1\" class=\"light-square\" height=\"1\" width=\"1\"></rect><image x=\"5\" xlink:href=\"https://raw.githubusercontent.com/romstad/Chess.jl/master/img/bp.svg\" y=\"1\" height=\"1\" width=\"1\"></image></g><g><rect x=\"5\" y=\"2\" class=\"dark-square\" height=\"1\" width=\"1\"></rect><image x=\"5\" xlink:href=\"https://raw.githubusercontent.com/romstad/Chess.jl/master/img/bn.svg\" y=\"2\" height=\"1\" width=\"1\"></image></g><g><rect x=\"5\" y=\"3\" class=\"light-square\" height=\"1\" width=\"1\"></rect><image x=\"5\" xlink:href=\"https://raw.githubusercontent.com/romstad/Chess.jl/master/img/bk.svg\" y=\"3\" height=\"1\" width=\"1\"></image></g><g><rect x=\"5\" y=\"4\" class=\"dark-square\" height=\"1\" width=\"1\"></rect><g></g></g><g><rect x=\"5\" y=\"5\" class=\"light-square\" height=\"1\" width=\"1\"></rect><image x=\"5\" xlink:href=\"https://raw.githubusercontent.com/romstad/Chess.jl/master/img/wp.svg\" y=\"5\" height=\"1\" width=\"1\"></image></g><g><rect x=\"5\" y=\"6\" class=\"dark-square\" height=\"1\" width=\"1\"></rect><image x=\"5\" xlink:href=\"https://raw.githubusercontent.com/romstad/Chess.jl/master/img/wp.svg\" y=\"6\" height=\"1\" width=\"1\"></image></g><g><rect x=\"5\" y=\"7\" class=\"light-square\" height=\"1\" width=\"1\"></rect><g></g></g><g><rect x=\"6\" y=\"0\" class=\"light-square\" height=\"1\" width=\"1\"></rect><image x=\"6\" xlink:href=\"https://raw.githubusercontent.com/romstad/Chess.jl/master/img/br.svg\" y=\"0\" height=\"1\" width=\"1\"></image></g><g><rect x=\"6\" y=\"1\" class=\"dark-square\" height=\"1\" width=\"1\"></rect><image x=\"6\" xlink:href=\"https://raw.githubusercontent.com/romstad/Chess.jl/master/img/bp.svg\" y=\"1\" height=\"1\" width=\"1\"></image></g><g><rect x=\"6\" y=\"2\" class=\"light-square\" height=\"1\" width=\"1\"></rect><g></g></g><g><rect x=\"6\" y=\"3\" class=\"dark-square\" height=\"1\" width=\"1\"></rect><g></g></g><g><rect x=\"6\" y=\"4\" class=\"light-square\" height=\"1\" width=\"1\"></rect><g></g></g><g><rect x=\"6\" y=\"5\" class=\"dark-square\" height=\"1\" width=\"1\"></rect><image x=\"6\" xlink:href=\"https://raw.githubusercontent.com/romstad/Chess.jl/master/img/wk.svg\" y=\"5\" height=\"1\" width=\"1\"></image></g><g><rect x=\"6\" y=\"6\" class=\"light-square\" height=\"1\" width=\"1\"></rect><g></g></g><g><rect x=\"6\" y=\"7\" class=\"dark-square\" height=\"1\" width=\"1\"></rect><g></g></g><g><rect x=\"7\" y=\"0\" class=\"dark-square\" height=\"1\" width=\"1\"></rect><g></g></g><g><rect x=\"7\" y=\"1\" class=\"light-square\" height=\"1\" width=\"1\"></rect><g></g></g><g><rect x=\"7\" y=\"2\" class=\"dark-square\" height=\"1\" width=\"1\"></rect><image x=\"7\" xlink:href=\"https://raw.githubusercontent.com/romstad/Chess.jl/master/img/bp.svg\" y=\"2\" height=\"1\" width=\"1\"></image></g><g><rect x=\"7\" y=\"3\" class=\"light-square\" height=\"1\" width=\"1\"></rect><g></g></g><g><rect x=\"7\" y=\"4\" class=\"dark-square\" height=\"1\" width=\"1\"></rect><g></g></g><g><rect x=\"7\" y=\"5\" class=\"light-square\" height=\"1\" width=\"1\"></rect><image x=\"7\" xlink:href=\"https://raw.githubusercontent.com/romstad/Chess.jl/master/img/wp.svg\" y=\"5\" height=\"1\" width=\"1\"></image></g><g><rect x=\"7\" y=\"6\" class=\"dark-square\" height=\"1\" width=\"1\"></rect><g></g></g><g><rect x=\"7\" y=\"7\" class=\"light-square\" height=\"1\" width=\"1\"></rect><g></g></g></g><g></g></svg><div><p>Black to move</p><p><a href=\"https://lichess.org/editor/6r1/1b1r1pp1/p1pP1n1p/4pk2/P7/2P2PKP/2B2P2/3RR3_b_-_-\" target=\"_blank\">Open in lichess</a></p></div></div>"
      ],
      "text/plain": [
       "Board (6r1/1b1r1pp1/p1pP1n1p/4pk2/P7/2P2PKP/2B2P2/3RR3 b - -):\n",
       " -  -  -  -  -  -  r  - \n",
       " -  b  -  r  -  p  p  - \n",
       " p  -  p  P  -  n  -  p \n",
       " -  -  -  -  p  k  -  - \n",
       " P  -  -  -  -  -  -  - \n",
       " -  -  P  -  -  P  K  P \n",
       " -  -  B  -  -  P  -  - \n",
       " -  -  -  R  R  -  -  - "
      ]
     },
     "metadata": {},
     "output_type": "display_data"
    },
    {
     "name": "stdout",
     "output_type": "stream",
     "text": [
      "Evaluation of engine: -315.0\n",
      "Current board score: -440\n",
      "Current entries in Cache: 838\n",
      "Cleared Cache with 838\n",
      "  0.648850 seconds (1.87 M allocations: 112.798 MiB, 3.10% gc time)\n",
      "Inkremental score is -440 but should be -380\n"
     ]
    },
    {
     "data": {
      "text/html": [
       "Board:<div class=\"chessboard\"><style soped=\"true\">.dark-square {\n",
       "    fill: #c3936a;\n",
       "    stroke-width: 0;\n",
       "}\n",
       ".light-square {\n",
       "    fill: #ffd7a6;\n",
       "    stroke-width: 0;\n",
       "}\n",
       ".highlight {\n",
       "    fill: #47d18b;\n",
       "}\n",
       "@media (prefers-color-scheme: dark) {\n",
       "    .dark-square {\n",
       "        fill: #00796b;\n",
       "    }\n",
       "    .light-square {\n",
       "        fill: #3ca59b;\n",
       "    }\n",
       "    .highlight {\n",
       "        fill: #d23600;\n",
       "    }\n",
       "}\n",
       "</style><svg style=\"float: left; margin-right: 20px\" viewBox=\"0 0 8 8\" height=\"280\" width=\"280\"><g><g><rect x=\"0\" y=\"0\" class=\"light-square\" height=\"1\" width=\"1\"></rect><g></g></g><g><rect x=\"0\" y=\"1\" class=\"dark-square\" height=\"1\" width=\"1\"></rect><g></g></g><g><rect x=\"0\" y=\"2\" class=\"light-square\" height=\"1\" width=\"1\"></rect><image x=\"0\" xlink:href=\"https://raw.githubusercontent.com/romstad/Chess.jl/master/img/bp.svg\" y=\"2\" height=\"1\" width=\"1\"></image></g><g><rect x=\"0\" y=\"3\" class=\"dark-square\" height=\"1\" width=\"1\"></rect><g></g></g><g><rect x=\"0\" y=\"4\" class=\"light-square\" height=\"1\" width=\"1\"></rect><image x=\"0\" xlink:href=\"https://raw.githubusercontent.com/romstad/Chess.jl/master/img/wp.svg\" y=\"4\" height=\"1\" width=\"1\"></image></g><g><rect x=\"0\" y=\"5\" class=\"dark-square\" height=\"1\" width=\"1\"></rect><g></g></g><g><rect x=\"0\" y=\"6\" class=\"light-square\" height=\"1\" width=\"1\"></rect><g></g></g><g><rect x=\"0\" y=\"7\" class=\"dark-square\" height=\"1\" width=\"1\"></rect><g></g></g><g><rect x=\"1\" y=\"0\" class=\"dark-square\" height=\"1\" width=\"1\"></rect><g></g></g><g><rect x=\"1\" y=\"1\" class=\"light-square\" height=\"1\" width=\"1\"></rect><image x=\"1\" xlink:href=\"https://raw.githubusercontent.com/romstad/Chess.jl/master/img/bb.svg\" y=\"1\" height=\"1\" width=\"1\"></image></g><g><rect x=\"1\" y=\"2\" class=\"dark-square\" height=\"1\" width=\"1\"></rect><g></g></g><g><rect x=\"1\" y=\"3\" class=\"light-square\" height=\"1\" width=\"1\"></rect><g></g></g><g><rect x=\"1\" y=\"4\" class=\"dark-square\" height=\"1\" width=\"1\"></rect><g></g></g><g><rect x=\"1\" y=\"5\" class=\"light-square\" height=\"1\" width=\"1\"></rect><g></g></g><g><rect x=\"1\" y=\"6\" class=\"dark-square\" height=\"1\" width=\"1\"></rect><g></g></g><g><rect x=\"1\" y=\"7\" class=\"light-square\" height=\"1\" width=\"1\"></rect><g></g></g><g><rect x=\"2\" y=\"0\" class=\"light-square\" height=\"1\" width=\"1\"></rect><g></g></g><g><rect x=\"2\" y=\"1\" class=\"dark-square\" height=\"1\" width=\"1\"></rect><g></g></g><g><rect x=\"2\" y=\"2\" class=\"light-square\" height=\"1\" width=\"1\"></rect><image x=\"2\" xlink:href=\"https://raw.githubusercontent.com/romstad/Chess.jl/master/img/bp.svg\" y=\"2\" height=\"1\" width=\"1\"></image></g><g><rect x=\"2\" y=\"3\" class=\"dark-square\" height=\"1\" width=\"1\"></rect><g></g></g><g><rect x=\"2\" y=\"4\" class=\"light-square\" height=\"1\" width=\"1\"></rect><g></g></g><g><rect x=\"2\" y=\"5\" class=\"dark-square\" height=\"1\" width=\"1\"></rect><image x=\"2\" xlink:href=\"https://raw.githubusercontent.com/romstad/Chess.jl/master/img/wp.svg\" y=\"5\" height=\"1\" width=\"1\"></image></g><g><rect x=\"2\" y=\"6\" class=\"light-square\" height=\"1\" width=\"1\"></rect><image x=\"2\" xlink:href=\"https://raw.githubusercontent.com/romstad/Chess.jl/master/img/wb.svg\" y=\"6\" height=\"1\" width=\"1\"></image></g><g><rect x=\"2\" y=\"7\" class=\"dark-square\" height=\"1\" width=\"1\"></rect><g></g></g><g><rect x=\"3\" y=\"0\" class=\"dark-square\" height=\"1\" width=\"1\"></rect><g></g></g><g><rect x=\"3\" y=\"1\" class=\"light-square\" height=\"1\" width=\"1\"></rect><image x=\"3\" xlink:href=\"https://raw.githubusercontent.com/romstad/Chess.jl/master/img/br.svg\" y=\"1\" height=\"1\" width=\"1\"></image></g><g><rect x=\"3\" y=\"2\" class=\"dark-square\" height=\"1\" width=\"1\"></rect><image x=\"3\" xlink:href=\"https://raw.githubusercontent.com/romstad/Chess.jl/master/img/wp.svg\" y=\"2\" height=\"1\" width=\"1\"></image></g><g><rect x=\"3\" y=\"3\" class=\"light-square\" height=\"1\" width=\"1\"></rect><g></g></g><g><rect x=\"3\" y=\"4\" class=\"dark-square\" height=\"1\" width=\"1\"></rect><g></g></g><g><rect x=\"3\" y=\"5\" class=\"light-square\" height=\"1\" width=\"1\"></rect><g></g></g><g><rect x=\"3\" y=\"6\" class=\"dark-square\" height=\"1\" width=\"1\"></rect><g></g></g><g><rect x=\"3\" y=\"7\" class=\"light-square\" height=\"1\" width=\"1\"></rect><image x=\"3\" xlink:href=\"https://raw.githubusercontent.com/romstad/Chess.jl/master/img/wr.svg\" y=\"7\" height=\"1\" width=\"1\"></image></g><g><rect x=\"4\" y=\"0\" class=\"light-square\" height=\"1\" width=\"1\"></rect><g></g></g><g><rect x=\"4\" y=\"1\" class=\"dark-square\" height=\"1\" width=\"1\"></rect><g></g></g><g><rect x=\"4\" y=\"2\" class=\"light-square\" height=\"1\" width=\"1\"></rect><image x=\"4\" xlink:href=\"https://raw.githubusercontent.com/romstad/Chess.jl/master/img/bk.svg\" y=\"2\" height=\"1\" width=\"1\"></image></g><g><rect x=\"4\" y=\"3\" class=\"dark-square\" height=\"1\" width=\"1\"></rect><image x=\"4\" xlink:href=\"https://raw.githubusercontent.com/romstad/Chess.jl/master/img/bp.svg\" y=\"3\" height=\"1\" width=\"1\"></image></g><g><rect x=\"4\" y=\"4\" class=\"light-square\" height=\"1\" width=\"1\"></rect><g></g></g><g><rect x=\"4\" y=\"5\" class=\"dark-square\" height=\"1\" width=\"1\"></rect><g></g></g><g><rect x=\"4\" y=\"6\" class=\"light-square\" height=\"1\" width=\"1\"></rect><g></g></g><g><rect x=\"4\" y=\"7\" class=\"dark-square\" height=\"1\" width=\"1\"></rect><image x=\"4\" xlink:href=\"https://raw.githubusercontent.com/romstad/Chess.jl/master/img/wr.svg\" y=\"7\" height=\"1\" width=\"1\"></image></g><g><rect x=\"5\" y=\"0\" class=\"dark-square\" height=\"1\" width=\"1\"></rect><g></g></g><g><rect x=\"5\" y=\"1\" class=\"light-square\" height=\"1\" width=\"1\"></rect><image x=\"5\" xlink:href=\"https://raw.githubusercontent.com/romstad/Chess.jl/master/img/bp.svg\" y=\"1\" height=\"1\" width=\"1\"></image></g><g><rect x=\"5\" y=\"2\" class=\"dark-square\" height=\"1\" width=\"1\"></rect><image x=\"5\" xlink:href=\"https://raw.githubusercontent.com/romstad/Chess.jl/master/img/bn.svg\" y=\"2\" height=\"1\" width=\"1\"></image></g><g><rect x=\"5\" y=\"3\" class=\"light-square\" height=\"1\" width=\"1\"></rect><g></g></g><g><rect x=\"5\" y=\"4\" class=\"dark-square\" height=\"1\" width=\"1\"></rect><g></g></g><g><rect x=\"5\" y=\"5\" class=\"light-square\" height=\"1\" width=\"1\"></rect><image x=\"5\" xlink:href=\"https://raw.githubusercontent.com/romstad/Chess.jl/master/img/wp.svg\" y=\"5\" height=\"1\" width=\"1\"></image></g><g><rect x=\"5\" y=\"6\" class=\"dark-square\" height=\"1\" width=\"1\"></rect><image x=\"5\" xlink:href=\"https://raw.githubusercontent.com/romstad/Chess.jl/master/img/wp.svg\" y=\"6\" height=\"1\" width=\"1\"></image></g><g><rect x=\"5\" y=\"7\" class=\"light-square\" height=\"1\" width=\"1\"></rect><g></g></g><g><rect x=\"6\" y=\"0\" class=\"light-square\" height=\"1\" width=\"1\"></rect><image x=\"6\" xlink:href=\"https://raw.githubusercontent.com/romstad/Chess.jl/master/img/br.svg\" y=\"0\" height=\"1\" width=\"1\"></image></g><g><rect x=\"6\" y=\"1\" class=\"dark-square\" height=\"1\" width=\"1\"></rect><image x=\"6\" xlink:href=\"https://raw.githubusercontent.com/romstad/Chess.jl/master/img/bp.svg\" y=\"1\" height=\"1\" width=\"1\"></image></g><g><rect x=\"6\" y=\"2\" class=\"light-square\" height=\"1\" width=\"1\"></rect><g></g></g><g><rect x=\"6\" y=\"3\" class=\"dark-square\" height=\"1\" width=\"1\"></rect><g></g></g><g><rect x=\"6\" y=\"4\" class=\"light-square\" height=\"1\" width=\"1\"></rect><g></g></g><g><rect x=\"6\" y=\"5\" class=\"dark-square\" height=\"1\" width=\"1\"></rect><image x=\"6\" xlink:href=\"https://raw.githubusercontent.com/romstad/Chess.jl/master/img/wk.svg\" y=\"5\" height=\"1\" width=\"1\"></image></g><g><rect x=\"6\" y=\"6\" class=\"light-square\" height=\"1\" width=\"1\"></rect><g></g></g><g><rect x=\"6\" y=\"7\" class=\"dark-square\" height=\"1\" width=\"1\"></rect><g></g></g><g><rect x=\"7\" y=\"0\" class=\"dark-square\" height=\"1\" width=\"1\"></rect><g></g></g><g><rect x=\"7\" y=\"1\" class=\"light-square\" height=\"1\" width=\"1\"></rect><g></g></g><g><rect x=\"7\" y=\"2\" class=\"dark-square\" height=\"1\" width=\"1\"></rect><image x=\"7\" xlink:href=\"https://raw.githubusercontent.com/romstad/Chess.jl/master/img/bp.svg\" y=\"2\" height=\"1\" width=\"1\"></image></g><g><rect x=\"7\" y=\"3\" class=\"light-square\" height=\"1\" width=\"1\"></rect><g></g></g><g><rect x=\"7\" y=\"4\" class=\"dark-square\" height=\"1\" width=\"1\"></rect><g></g></g><g><rect x=\"7\" y=\"5\" class=\"light-square\" height=\"1\" width=\"1\"></rect><image x=\"7\" xlink:href=\"https://raw.githubusercontent.com/romstad/Chess.jl/master/img/wp.svg\" y=\"5\" height=\"1\" width=\"1\"></image></g><g><rect x=\"7\" y=\"6\" class=\"dark-square\" height=\"1\" width=\"1\"></rect><g></g></g><g><rect x=\"7\" y=\"7\" class=\"light-square\" height=\"1\" width=\"1\"></rect><g></g></g></g><g></g></svg><div><p>White to move</p><p><a href=\"https://lichess.org/editor/6r1/1b1r1pp1/p1pPkn1p/4p3/P7/2P2PKP/2B2P2/3RR3_w_-_-\" target=\"_blank\">Open in lichess</a></p></div></div>"
      ],
      "text/plain": [
       "Board (6r1/1b1r1pp1/p1pPkn1p/4p3/P7/2P2PKP/2B2P2/3RR3 w - -):\n",
       " -  -  -  -  -  -  r  - \n",
       " -  b  -  r  -  p  p  - \n",
       " p  -  p  P  k  n  -  p \n",
       " -  -  -  -  p  -  -  - \n",
       " P  -  -  -  -  -  -  - \n",
       " -  -  P  -  -  P  K  P \n",
       " -  -  B  -  -  P  -  - \n",
       " -  -  -  R  R  -  -  - "
      ]
     },
     "metadata": {},
     "output_type": "display_data"
    },
    {
     "name": "stdout",
     "output_type": "stream",
     "text": [
      "Make a move. Type 'resign' to resign from the match\n",
      "stdin> f3f4\n",
      "Cleared Cache with 0\n",
      "Inkremental score is -430 but should be -370\n"
     ]
    },
    {
     "data": {
      "text/html": [
       "Board:<div class=\"chessboard\"><style soped=\"true\">.dark-square {\n",
       "    fill: #c3936a;\n",
       "    stroke-width: 0;\n",
       "}\n",
       ".light-square {\n",
       "    fill: #ffd7a6;\n",
       "    stroke-width: 0;\n",
       "}\n",
       ".highlight {\n",
       "    fill: #47d18b;\n",
       "}\n",
       "@media (prefers-color-scheme: dark) {\n",
       "    .dark-square {\n",
       "        fill: #00796b;\n",
       "    }\n",
       "    .light-square {\n",
       "        fill: #3ca59b;\n",
       "    }\n",
       "    .highlight {\n",
       "        fill: #d23600;\n",
       "    }\n",
       "}\n",
       "</style><svg style=\"float: left; margin-right: 20px\" viewBox=\"0 0 8 8\" height=\"280\" width=\"280\"><g><g><rect x=\"0\" y=\"0\" class=\"light-square\" height=\"1\" width=\"1\"></rect><g></g></g><g><rect x=\"0\" y=\"1\" class=\"dark-square\" height=\"1\" width=\"1\"></rect><g></g></g><g><rect x=\"0\" y=\"2\" class=\"light-square\" height=\"1\" width=\"1\"></rect><image x=\"0\" xlink:href=\"https://raw.githubusercontent.com/romstad/Chess.jl/master/img/bp.svg\" y=\"2\" height=\"1\" width=\"1\"></image></g><g><rect x=\"0\" y=\"3\" class=\"dark-square\" height=\"1\" width=\"1\"></rect><g></g></g><g><rect x=\"0\" y=\"4\" class=\"light-square\" height=\"1\" width=\"1\"></rect><image x=\"0\" xlink:href=\"https://raw.githubusercontent.com/romstad/Chess.jl/master/img/wp.svg\" y=\"4\" height=\"1\" width=\"1\"></image></g><g><rect x=\"0\" y=\"5\" class=\"dark-square\" height=\"1\" width=\"1\"></rect><g></g></g><g><rect x=\"0\" y=\"6\" class=\"light-square\" height=\"1\" width=\"1\"></rect><g></g></g><g><rect x=\"0\" y=\"7\" class=\"dark-square\" height=\"1\" width=\"1\"></rect><g></g></g><g><rect x=\"1\" y=\"0\" class=\"dark-square\" height=\"1\" width=\"1\"></rect><g></g></g><g><rect x=\"1\" y=\"1\" class=\"light-square\" height=\"1\" width=\"1\"></rect><image x=\"1\" xlink:href=\"https://raw.githubusercontent.com/romstad/Chess.jl/master/img/bb.svg\" y=\"1\" height=\"1\" width=\"1\"></image></g><g><rect x=\"1\" y=\"2\" class=\"dark-square\" height=\"1\" width=\"1\"></rect><g></g></g><g><rect x=\"1\" y=\"3\" class=\"light-square\" height=\"1\" width=\"1\"></rect><g></g></g><g><rect x=\"1\" y=\"4\" class=\"dark-square\" height=\"1\" width=\"1\"></rect><g></g></g><g><rect x=\"1\" y=\"5\" class=\"light-square\" height=\"1\" width=\"1\"></rect><g></g></g><g><rect x=\"1\" y=\"6\" class=\"dark-square\" height=\"1\" width=\"1\"></rect><g></g></g><g><rect x=\"1\" y=\"7\" class=\"light-square\" height=\"1\" width=\"1\"></rect><g></g></g><g><rect x=\"2\" y=\"0\" class=\"light-square\" height=\"1\" width=\"1\"></rect><g></g></g><g><rect x=\"2\" y=\"1\" class=\"dark-square\" height=\"1\" width=\"1\"></rect><g></g></g><g><rect x=\"2\" y=\"2\" class=\"light-square\" height=\"1\" width=\"1\"></rect><image x=\"2\" xlink:href=\"https://raw.githubusercontent.com/romstad/Chess.jl/master/img/bp.svg\" y=\"2\" height=\"1\" width=\"1\"></image></g><g><rect x=\"2\" y=\"3\" class=\"dark-square\" height=\"1\" width=\"1\"></rect><g></g></g><g><rect x=\"2\" y=\"4\" class=\"light-square\" height=\"1\" width=\"1\"></rect><g></g></g><g><rect x=\"2\" y=\"5\" class=\"dark-square\" height=\"1\" width=\"1\"></rect><image x=\"2\" xlink:href=\"https://raw.githubusercontent.com/romstad/Chess.jl/master/img/wp.svg\" y=\"5\" height=\"1\" width=\"1\"></image></g><g><rect x=\"2\" y=\"6\" class=\"light-square\" height=\"1\" width=\"1\"></rect><image x=\"2\" xlink:href=\"https://raw.githubusercontent.com/romstad/Chess.jl/master/img/wb.svg\" y=\"6\" height=\"1\" width=\"1\"></image></g><g><rect x=\"2\" y=\"7\" class=\"dark-square\" height=\"1\" width=\"1\"></rect><g></g></g><g><rect x=\"3\" y=\"0\" class=\"dark-square\" height=\"1\" width=\"1\"></rect><g></g></g><g><rect x=\"3\" y=\"1\" class=\"light-square\" height=\"1\" width=\"1\"></rect><image x=\"3\" xlink:href=\"https://raw.githubusercontent.com/romstad/Chess.jl/master/img/br.svg\" y=\"1\" height=\"1\" width=\"1\"></image></g><g><rect x=\"3\" y=\"2\" class=\"dark-square\" height=\"1\" width=\"1\"></rect><image x=\"3\" xlink:href=\"https://raw.githubusercontent.com/romstad/Chess.jl/master/img/wp.svg\" y=\"2\" height=\"1\" width=\"1\"></image></g><g><rect x=\"3\" y=\"3\" class=\"light-square\" height=\"1\" width=\"1\"></rect><g></g></g><g><rect x=\"3\" y=\"4\" class=\"dark-square\" height=\"1\" width=\"1\"></rect><g></g></g><g><rect x=\"3\" y=\"5\" class=\"light-square\" height=\"1\" width=\"1\"></rect><g></g></g><g><rect x=\"3\" y=\"6\" class=\"dark-square\" height=\"1\" width=\"1\"></rect><g></g></g><g><rect x=\"3\" y=\"7\" class=\"light-square\" height=\"1\" width=\"1\"></rect><image x=\"3\" xlink:href=\"https://raw.githubusercontent.com/romstad/Chess.jl/master/img/wr.svg\" y=\"7\" height=\"1\" width=\"1\"></image></g><g><rect x=\"4\" y=\"0\" class=\"light-square\" height=\"1\" width=\"1\"></rect><g></g></g><g><rect x=\"4\" y=\"1\" class=\"dark-square\" height=\"1\" width=\"1\"></rect><g></g></g><g><rect x=\"4\" y=\"2\" class=\"light-square\" height=\"1\" width=\"1\"></rect><image x=\"4\" xlink:href=\"https://raw.githubusercontent.com/romstad/Chess.jl/master/img/bk.svg\" y=\"2\" height=\"1\" width=\"1\"></image></g><g><rect x=\"4\" y=\"3\" class=\"dark-square\" height=\"1\" width=\"1\"></rect><image x=\"4\" xlink:href=\"https://raw.githubusercontent.com/romstad/Chess.jl/master/img/bp.svg\" y=\"3\" height=\"1\" width=\"1\"></image></g><g><rect x=\"4\" y=\"4\" class=\"light-square\" height=\"1\" width=\"1\"></rect><g></g></g><g><rect x=\"4\" y=\"5\" class=\"dark-square\" height=\"1\" width=\"1\"></rect><g></g></g><g><rect x=\"4\" y=\"6\" class=\"light-square\" height=\"1\" width=\"1\"></rect><g></g></g><g><rect x=\"4\" y=\"7\" class=\"dark-square\" height=\"1\" width=\"1\"></rect><image x=\"4\" xlink:href=\"https://raw.githubusercontent.com/romstad/Chess.jl/master/img/wr.svg\" y=\"7\" height=\"1\" width=\"1\"></image></g><g><rect x=\"5\" y=\"0\" class=\"dark-square\" height=\"1\" width=\"1\"></rect><g></g></g><g><rect x=\"5\" y=\"1\" class=\"light-square\" height=\"1\" width=\"1\"></rect><image x=\"5\" xlink:href=\"https://raw.githubusercontent.com/romstad/Chess.jl/master/img/bp.svg\" y=\"1\" height=\"1\" width=\"1\"></image></g><g><rect x=\"5\" y=\"2\" class=\"dark-square\" height=\"1\" width=\"1\"></rect><image x=\"5\" xlink:href=\"https://raw.githubusercontent.com/romstad/Chess.jl/master/img/bn.svg\" y=\"2\" height=\"1\" width=\"1\"></image></g><g><rect x=\"5\" y=\"3\" class=\"light-square\" height=\"1\" width=\"1\"></rect><g></g></g><g><rect x=\"5\" y=\"4\" class=\"dark-square\" height=\"1\" width=\"1\"></rect><image x=\"5\" xlink:href=\"https://raw.githubusercontent.com/romstad/Chess.jl/master/img/wp.svg\" y=\"4\" height=\"1\" width=\"1\"></image></g><g><rect x=\"5\" y=\"5\" class=\"light-square\" height=\"1\" width=\"1\"></rect><g></g></g><g><rect x=\"5\" y=\"6\" class=\"dark-square\" height=\"1\" width=\"1\"></rect><image x=\"5\" xlink:href=\"https://raw.githubusercontent.com/romstad/Chess.jl/master/img/wp.svg\" y=\"6\" height=\"1\" width=\"1\"></image></g><g><rect x=\"5\" y=\"7\" class=\"light-square\" height=\"1\" width=\"1\"></rect><g></g></g><g><rect x=\"6\" y=\"0\" class=\"light-square\" height=\"1\" width=\"1\"></rect><image x=\"6\" xlink:href=\"https://raw.githubusercontent.com/romstad/Chess.jl/master/img/br.svg\" y=\"0\" height=\"1\" width=\"1\"></image></g><g><rect x=\"6\" y=\"1\" class=\"dark-square\" height=\"1\" width=\"1\"></rect><image x=\"6\" xlink:href=\"https://raw.githubusercontent.com/romstad/Chess.jl/master/img/bp.svg\" y=\"1\" height=\"1\" width=\"1\"></image></g><g><rect x=\"6\" y=\"2\" class=\"light-square\" height=\"1\" width=\"1\"></rect><g></g></g><g><rect x=\"6\" y=\"3\" class=\"dark-square\" height=\"1\" width=\"1\"></rect><g></g></g><g><rect x=\"6\" y=\"4\" class=\"light-square\" height=\"1\" width=\"1\"></rect><g></g></g><g><rect x=\"6\" y=\"5\" class=\"dark-square\" height=\"1\" width=\"1\"></rect><image x=\"6\" xlink:href=\"https://raw.githubusercontent.com/romstad/Chess.jl/master/img/wk.svg\" y=\"5\" height=\"1\" width=\"1\"></image></g><g><rect x=\"6\" y=\"6\" class=\"light-square\" height=\"1\" width=\"1\"></rect><g></g></g><g><rect x=\"6\" y=\"7\" class=\"dark-square\" height=\"1\" width=\"1\"></rect><g></g></g><g><rect x=\"7\" y=\"0\" class=\"dark-square\" height=\"1\" width=\"1\"></rect><g></g></g><g><rect x=\"7\" y=\"1\" class=\"light-square\" height=\"1\" width=\"1\"></rect><g></g></g><g><rect x=\"7\" y=\"2\" class=\"dark-square\" height=\"1\" width=\"1\"></rect><image x=\"7\" xlink:href=\"https://raw.githubusercontent.com/romstad/Chess.jl/master/img/bp.svg\" y=\"2\" height=\"1\" width=\"1\"></image></g><g><rect x=\"7\" y=\"3\" class=\"light-square\" height=\"1\" width=\"1\"></rect><g></g></g><g><rect x=\"7\" y=\"4\" class=\"dark-square\" height=\"1\" width=\"1\"></rect><g></g></g><g><rect x=\"7\" y=\"5\" class=\"light-square\" height=\"1\" width=\"1\"></rect><image x=\"7\" xlink:href=\"https://raw.githubusercontent.com/romstad/Chess.jl/master/img/wp.svg\" y=\"5\" height=\"1\" width=\"1\"></image></g><g><rect x=\"7\" y=\"6\" class=\"dark-square\" height=\"1\" width=\"1\"></rect><g></g></g><g><rect x=\"7\" y=\"7\" class=\"light-square\" height=\"1\" width=\"1\"></rect><g></g></g></g><g></g></svg><div><p>Black to move</p><p><a href=\"https://lichess.org/editor/6r1/1b1r1pp1/p1pPkn1p/4p3/P4P2/2P3KP/2B2P2/3RR3_b_-_-\" target=\"_blank\">Open in lichess</a></p></div></div>"
      ],
      "text/plain": [
       "Board (6r1/1b1r1pp1/p1pPkn1p/4p3/P4P2/2P3KP/2B2P2/3RR3 b - -):\n",
       " -  -  -  -  -  -  r  - \n",
       " -  b  -  r  -  p  p  - \n",
       " p  -  p  P  k  n  -  p \n",
       " -  -  -  -  p  -  -  - \n",
       " P  -  -  -  -  P  -  - \n",
       " -  -  P  -  -  -  K  P \n",
       " -  -  B  -  -  P  -  - \n",
       " -  -  -  R  R  -  -  - "
      ]
     },
     "metadata": {},
     "output_type": "display_data"
    },
    {
     "name": "stdout",
     "output_type": "stream",
     "text": [
      "Evaluation of engine: -390.0\n",
      "Current board score: -430\n",
      "Current entries in Cache: 3984\n",
      "Cleared Cache with 3984\n",
      "  2.921078 seconds (10.29 M allocations: 588.073 MiB, 2.65% gc time)\n",
      "Inkremental score is -390 but should be -330\n"
     ]
    },
    {
     "data": {
      "text/html": [
       "Board:<div class=\"chessboard\"><style soped=\"true\">.dark-square {\n",
       "    fill: #c3936a;\n",
       "    stroke-width: 0;\n",
       "}\n",
       ".light-square {\n",
       "    fill: #ffd7a6;\n",
       "    stroke-width: 0;\n",
       "}\n",
       ".highlight {\n",
       "    fill: #47d18b;\n",
       "}\n",
       "@media (prefers-color-scheme: dark) {\n",
       "    .dark-square {\n",
       "        fill: #00796b;\n",
       "    }\n",
       "    .light-square {\n",
       "        fill: #3ca59b;\n",
       "    }\n",
       "    .highlight {\n",
       "        fill: #d23600;\n",
       "    }\n",
       "}\n",
       "</style><svg style=\"float: left; margin-right: 20px\" viewBox=\"0 0 8 8\" height=\"280\" width=\"280\"><g><g><rect x=\"0\" y=\"0\" class=\"light-square\" height=\"1\" width=\"1\"></rect><g></g></g><g><rect x=\"0\" y=\"1\" class=\"dark-square\" height=\"1\" width=\"1\"></rect><g></g></g><g><rect x=\"0\" y=\"2\" class=\"light-square\" height=\"1\" width=\"1\"></rect><image x=\"0\" xlink:href=\"https://raw.githubusercontent.com/romstad/Chess.jl/master/img/bp.svg\" y=\"2\" height=\"1\" width=\"1\"></image></g><g><rect x=\"0\" y=\"3\" class=\"dark-square\" height=\"1\" width=\"1\"></rect><g></g></g><g><rect x=\"0\" y=\"4\" class=\"light-square\" height=\"1\" width=\"1\"></rect><image x=\"0\" xlink:href=\"https://raw.githubusercontent.com/romstad/Chess.jl/master/img/wp.svg\" y=\"4\" height=\"1\" width=\"1\"></image></g><g><rect x=\"0\" y=\"5\" class=\"dark-square\" height=\"1\" width=\"1\"></rect><g></g></g><g><rect x=\"0\" y=\"6\" class=\"light-square\" height=\"1\" width=\"1\"></rect><g></g></g><g><rect x=\"0\" y=\"7\" class=\"dark-square\" height=\"1\" width=\"1\"></rect><g></g></g><g><rect x=\"1\" y=\"0\" class=\"dark-square\" height=\"1\" width=\"1\"></rect><g></g></g><g><rect x=\"1\" y=\"1\" class=\"light-square\" height=\"1\" width=\"1\"></rect><image x=\"1\" xlink:href=\"https://raw.githubusercontent.com/romstad/Chess.jl/master/img/bb.svg\" y=\"1\" height=\"1\" width=\"1\"></image></g><g><rect x=\"1\" y=\"2\" class=\"dark-square\" height=\"1\" width=\"1\"></rect><g></g></g><g><rect x=\"1\" y=\"3\" class=\"light-square\" height=\"1\" width=\"1\"></rect><g></g></g><g><rect x=\"1\" y=\"4\" class=\"dark-square\" height=\"1\" width=\"1\"></rect><g></g></g><g><rect x=\"1\" y=\"5\" class=\"light-square\" height=\"1\" width=\"1\"></rect><g></g></g><g><rect x=\"1\" y=\"6\" class=\"dark-square\" height=\"1\" width=\"1\"></rect><g></g></g><g><rect x=\"1\" y=\"7\" class=\"light-square\" height=\"1\" width=\"1\"></rect><g></g></g><g><rect x=\"2\" y=\"0\" class=\"light-square\" height=\"1\" width=\"1\"></rect><g></g></g><g><rect x=\"2\" y=\"1\" class=\"dark-square\" height=\"1\" width=\"1\"></rect><g></g></g><g><rect x=\"2\" y=\"2\" class=\"light-square\" height=\"1\" width=\"1\"></rect><image x=\"2\" xlink:href=\"https://raw.githubusercontent.com/romstad/Chess.jl/master/img/bp.svg\" y=\"2\" height=\"1\" width=\"1\"></image></g><g><rect x=\"2\" y=\"3\" class=\"dark-square\" height=\"1\" width=\"1\"></rect><g></g></g><g><rect x=\"2\" y=\"4\" class=\"light-square\" height=\"1\" width=\"1\"></rect><g></g></g><g><rect x=\"2\" y=\"5\" class=\"dark-square\" height=\"1\" width=\"1\"></rect><image x=\"2\" xlink:href=\"https://raw.githubusercontent.com/romstad/Chess.jl/master/img/wp.svg\" y=\"5\" height=\"1\" width=\"1\"></image></g><g><rect x=\"2\" y=\"6\" class=\"light-square\" height=\"1\" width=\"1\"></rect><image x=\"2\" xlink:href=\"https://raw.githubusercontent.com/romstad/Chess.jl/master/img/wb.svg\" y=\"6\" height=\"1\" width=\"1\"></image></g><g><rect x=\"2\" y=\"7\" class=\"dark-square\" height=\"1\" width=\"1\"></rect><g></g></g><g><rect x=\"3\" y=\"0\" class=\"dark-square\" height=\"1\" width=\"1\"></rect><g></g></g><g><rect x=\"3\" y=\"1\" class=\"light-square\" height=\"1\" width=\"1\"></rect><image x=\"3\" xlink:href=\"https://raw.githubusercontent.com/romstad/Chess.jl/master/img/br.svg\" y=\"1\" height=\"1\" width=\"1\"></image></g><g><rect x=\"3\" y=\"2\" class=\"dark-square\" height=\"1\" width=\"1\"></rect><image x=\"3\" xlink:href=\"https://raw.githubusercontent.com/romstad/Chess.jl/master/img/wp.svg\" y=\"2\" height=\"1\" width=\"1\"></image></g><g><rect x=\"3\" y=\"3\" class=\"light-square\" height=\"1\" width=\"1\"></rect><g></g></g><g><rect x=\"3\" y=\"4\" class=\"dark-square\" height=\"1\" width=\"1\"></rect><g></g></g><g><rect x=\"3\" y=\"5\" class=\"light-square\" height=\"1\" width=\"1\"></rect><g></g></g><g><rect x=\"3\" y=\"6\" class=\"dark-square\" height=\"1\" width=\"1\"></rect><g></g></g><g><rect x=\"3\" y=\"7\" class=\"light-square\" height=\"1\" width=\"1\"></rect><image x=\"3\" xlink:href=\"https://raw.githubusercontent.com/romstad/Chess.jl/master/img/wr.svg\" y=\"7\" height=\"1\" width=\"1\"></image></g><g><rect x=\"4\" y=\"0\" class=\"light-square\" height=\"1\" width=\"1\"></rect><g></g></g><g><rect x=\"4\" y=\"1\" class=\"dark-square\" height=\"1\" width=\"1\"></rect><g></g></g><g><rect x=\"4\" y=\"2\" class=\"light-square\" height=\"1\" width=\"1\"></rect><image x=\"4\" xlink:href=\"https://raw.githubusercontent.com/romstad/Chess.jl/master/img/bk.svg\" y=\"2\" height=\"1\" width=\"1\"></image></g><g><rect x=\"4\" y=\"3\" class=\"dark-square\" height=\"1\" width=\"1\"></rect><image x=\"4\" xlink:href=\"https://raw.githubusercontent.com/romstad/Chess.jl/master/img/bp.svg\" y=\"3\" height=\"1\" width=\"1\"></image></g><g><rect x=\"4\" y=\"4\" class=\"light-square\" height=\"1\" width=\"1\"></rect><g></g></g><g><rect x=\"4\" y=\"5\" class=\"dark-square\" height=\"1\" width=\"1\"></rect><g></g></g><g><rect x=\"4\" y=\"6\" class=\"light-square\" height=\"1\" width=\"1\"></rect><g></g></g><g><rect x=\"4\" y=\"7\" class=\"dark-square\" height=\"1\" width=\"1\"></rect><image x=\"4\" xlink:href=\"https://raw.githubusercontent.com/romstad/Chess.jl/master/img/wr.svg\" y=\"7\" height=\"1\" width=\"1\"></image></g><g><rect x=\"5\" y=\"0\" class=\"dark-square\" height=\"1\" width=\"1\"></rect><g></g></g><g><rect x=\"5\" y=\"1\" class=\"light-square\" height=\"1\" width=\"1\"></rect><image x=\"5\" xlink:href=\"https://raw.githubusercontent.com/romstad/Chess.jl/master/img/bp.svg\" y=\"1\" height=\"1\" width=\"1\"></image></g><g><rect x=\"5\" y=\"2\" class=\"dark-square\" height=\"1\" width=\"1\"></rect><g></g></g><g><rect x=\"5\" y=\"3\" class=\"light-square\" height=\"1\" width=\"1\"></rect><g></g></g><g><rect x=\"5\" y=\"4\" class=\"dark-square\" height=\"1\" width=\"1\"></rect><image x=\"5\" xlink:href=\"https://raw.githubusercontent.com/romstad/Chess.jl/master/img/wp.svg\" y=\"4\" height=\"1\" width=\"1\"></image></g><g><rect x=\"5\" y=\"5\" class=\"light-square\" height=\"1\" width=\"1\"></rect><g></g></g><g><rect x=\"5\" y=\"6\" class=\"dark-square\" height=\"1\" width=\"1\"></rect><image x=\"5\" xlink:href=\"https://raw.githubusercontent.com/romstad/Chess.jl/master/img/wp.svg\" y=\"6\" height=\"1\" width=\"1\"></image></g><g><rect x=\"5\" y=\"7\" class=\"light-square\" height=\"1\" width=\"1\"></rect><g></g></g><g><rect x=\"6\" y=\"0\" class=\"light-square\" height=\"1\" width=\"1\"></rect><image x=\"6\" xlink:href=\"https://raw.githubusercontent.com/romstad/Chess.jl/master/img/br.svg\" y=\"0\" height=\"1\" width=\"1\"></image></g><g><rect x=\"6\" y=\"1\" class=\"dark-square\" height=\"1\" width=\"1\"></rect><image x=\"6\" xlink:href=\"https://raw.githubusercontent.com/romstad/Chess.jl/master/img/bp.svg\" y=\"1\" height=\"1\" width=\"1\"></image></g><g><rect x=\"6\" y=\"2\" class=\"light-square\" height=\"1\" width=\"1\"></rect><g></g></g><g><rect x=\"6\" y=\"3\" class=\"dark-square\" height=\"1\" width=\"1\"></rect><g></g></g><g><rect x=\"6\" y=\"4\" class=\"light-square\" height=\"1\" width=\"1\"></rect><g></g></g><g><rect x=\"6\" y=\"5\" class=\"dark-square\" height=\"1\" width=\"1\"></rect><image x=\"6\" xlink:href=\"https://raw.githubusercontent.com/romstad/Chess.jl/master/img/wk.svg\" y=\"5\" height=\"1\" width=\"1\"></image></g><g><rect x=\"6\" y=\"6\" class=\"light-square\" height=\"1\" width=\"1\"></rect><g></g></g><g><rect x=\"6\" y=\"7\" class=\"dark-square\" height=\"1\" width=\"1\"></rect><g></g></g><g><rect x=\"7\" y=\"0\" class=\"dark-square\" height=\"1\" width=\"1\"></rect><g></g></g><g><rect x=\"7\" y=\"1\" class=\"light-square\" height=\"1\" width=\"1\"></rect><g></g></g><g><rect x=\"7\" y=\"2\" class=\"dark-square\" height=\"1\" width=\"1\"></rect><image x=\"7\" xlink:href=\"https://raw.githubusercontent.com/romstad/Chess.jl/master/img/bp.svg\" y=\"2\" height=\"1\" width=\"1\"></image></g><g><rect x=\"7\" y=\"3\" class=\"light-square\" height=\"1\" width=\"1\"></rect><image x=\"7\" xlink:href=\"https://raw.githubusercontent.com/romstad/Chess.jl/master/img/bn.svg\" y=\"3\" height=\"1\" width=\"1\"></image></g><g><rect x=\"7\" y=\"4\" class=\"dark-square\" height=\"1\" width=\"1\"></rect><g></g></g><g><rect x=\"7\" y=\"5\" class=\"light-square\" height=\"1\" width=\"1\"></rect><image x=\"7\" xlink:href=\"https://raw.githubusercontent.com/romstad/Chess.jl/master/img/wp.svg\" y=\"5\" height=\"1\" width=\"1\"></image></g><g><rect x=\"7\" y=\"6\" class=\"dark-square\" height=\"1\" width=\"1\"></rect><g></g></g><g><rect x=\"7\" y=\"7\" class=\"light-square\" height=\"1\" width=\"1\"></rect><g></g></g></g><g></g></svg><div><p>White to move</p><p><a href=\"https://lichess.org/editor/6r1/1b1r1pp1/p1pPk2p/4p2n/P4P2/2P3KP/2B2P2/3RR3_w_-_-\" target=\"_blank\">Open in lichess</a></p></div></div>"
      ],
      "text/plain": [
       "Board (6r1/1b1r1pp1/p1pPk2p/4p2n/P4P2/2P3KP/2B2P2/3RR3 w - -):\n",
       " -  -  -  -  -  -  r  - \n",
       " -  b  -  r  -  p  p  - \n",
       " p  -  p  P  k  -  -  p \n",
       " -  -  -  -  p  -  -  n \n",
       " P  -  -  -  -  P  -  - \n",
       " -  -  P  -  -  -  K  P \n",
       " -  -  B  -  -  P  -  - \n",
       " -  -  -  R  R  -  -  - "
      ]
     },
     "metadata": {},
     "output_type": "display_data"
    },
    {
     "name": "stdout",
     "output_type": "stream",
     "text": [
      "Make a move. Type 'resign' to resign from the match\n",
      "stdin> g3g4\n",
      "Cleared Cache with 0\n",
      "Inkremental score is -390 but should be -330\n"
     ]
    },
    {
     "data": {
      "text/html": [
       "Board:<div class=\"chessboard\"><style soped=\"true\">.dark-square {\n",
       "    fill: #c3936a;\n",
       "    stroke-width: 0;\n",
       "}\n",
       ".light-square {\n",
       "    fill: #ffd7a6;\n",
       "    stroke-width: 0;\n",
       "}\n",
       ".highlight {\n",
       "    fill: #47d18b;\n",
       "}\n",
       "@media (prefers-color-scheme: dark) {\n",
       "    .dark-square {\n",
       "        fill: #00796b;\n",
       "    }\n",
       "    .light-square {\n",
       "        fill: #3ca59b;\n",
       "    }\n",
       "    .highlight {\n",
       "        fill: #d23600;\n",
       "    }\n",
       "}\n",
       "</style><svg style=\"float: left; margin-right: 20px\" viewBox=\"0 0 8 8\" height=\"280\" width=\"280\"><g><g><rect x=\"0\" y=\"0\" class=\"light-square\" height=\"1\" width=\"1\"></rect><g></g></g><g><rect x=\"0\" y=\"1\" class=\"dark-square\" height=\"1\" width=\"1\"></rect><g></g></g><g><rect x=\"0\" y=\"2\" class=\"light-square\" height=\"1\" width=\"1\"></rect><image x=\"0\" xlink:href=\"https://raw.githubusercontent.com/romstad/Chess.jl/master/img/bp.svg\" y=\"2\" height=\"1\" width=\"1\"></image></g><g><rect x=\"0\" y=\"3\" class=\"dark-square\" height=\"1\" width=\"1\"></rect><g></g></g><g><rect x=\"0\" y=\"4\" class=\"light-square\" height=\"1\" width=\"1\"></rect><image x=\"0\" xlink:href=\"https://raw.githubusercontent.com/romstad/Chess.jl/master/img/wp.svg\" y=\"4\" height=\"1\" width=\"1\"></image></g><g><rect x=\"0\" y=\"5\" class=\"dark-square\" height=\"1\" width=\"1\"></rect><g></g></g><g><rect x=\"0\" y=\"6\" class=\"light-square\" height=\"1\" width=\"1\"></rect><g></g></g><g><rect x=\"0\" y=\"7\" class=\"dark-square\" height=\"1\" width=\"1\"></rect><g></g></g><g><rect x=\"1\" y=\"0\" class=\"dark-square\" height=\"1\" width=\"1\"></rect><g></g></g><g><rect x=\"1\" y=\"1\" class=\"light-square\" height=\"1\" width=\"1\"></rect><image x=\"1\" xlink:href=\"https://raw.githubusercontent.com/romstad/Chess.jl/master/img/bb.svg\" y=\"1\" height=\"1\" width=\"1\"></image></g><g><rect x=\"1\" y=\"2\" class=\"dark-square\" height=\"1\" width=\"1\"></rect><g></g></g><g><rect x=\"1\" y=\"3\" class=\"light-square\" height=\"1\" width=\"1\"></rect><g></g></g><g><rect x=\"1\" y=\"4\" class=\"dark-square\" height=\"1\" width=\"1\"></rect><g></g></g><g><rect x=\"1\" y=\"5\" class=\"light-square\" height=\"1\" width=\"1\"></rect><g></g></g><g><rect x=\"1\" y=\"6\" class=\"dark-square\" height=\"1\" width=\"1\"></rect><g></g></g><g><rect x=\"1\" y=\"7\" class=\"light-square\" height=\"1\" width=\"1\"></rect><g></g></g><g><rect x=\"2\" y=\"0\" class=\"light-square\" height=\"1\" width=\"1\"></rect><g></g></g><g><rect x=\"2\" y=\"1\" class=\"dark-square\" height=\"1\" width=\"1\"></rect><g></g></g><g><rect x=\"2\" y=\"2\" class=\"light-square\" height=\"1\" width=\"1\"></rect><image x=\"2\" xlink:href=\"https://raw.githubusercontent.com/romstad/Chess.jl/master/img/bp.svg\" y=\"2\" height=\"1\" width=\"1\"></image></g><g><rect x=\"2\" y=\"3\" class=\"dark-square\" height=\"1\" width=\"1\"></rect><g></g></g><g><rect x=\"2\" y=\"4\" class=\"light-square\" height=\"1\" width=\"1\"></rect><g></g></g><g><rect x=\"2\" y=\"5\" class=\"dark-square\" height=\"1\" width=\"1\"></rect><image x=\"2\" xlink:href=\"https://raw.githubusercontent.com/romstad/Chess.jl/master/img/wp.svg\" y=\"5\" height=\"1\" width=\"1\"></image></g><g><rect x=\"2\" y=\"6\" class=\"light-square\" height=\"1\" width=\"1\"></rect><image x=\"2\" xlink:href=\"https://raw.githubusercontent.com/romstad/Chess.jl/master/img/wb.svg\" y=\"6\" height=\"1\" width=\"1\"></image></g><g><rect x=\"2\" y=\"7\" class=\"dark-square\" height=\"1\" width=\"1\"></rect><g></g></g><g><rect x=\"3\" y=\"0\" class=\"dark-square\" height=\"1\" width=\"1\"></rect><g></g></g><g><rect x=\"3\" y=\"1\" class=\"light-square\" height=\"1\" width=\"1\"></rect><image x=\"3\" xlink:href=\"https://raw.githubusercontent.com/romstad/Chess.jl/master/img/br.svg\" y=\"1\" height=\"1\" width=\"1\"></image></g><g><rect x=\"3\" y=\"2\" class=\"dark-square\" height=\"1\" width=\"1\"></rect><image x=\"3\" xlink:href=\"https://raw.githubusercontent.com/romstad/Chess.jl/master/img/wp.svg\" y=\"2\" height=\"1\" width=\"1\"></image></g><g><rect x=\"3\" y=\"3\" class=\"light-square\" height=\"1\" width=\"1\"></rect><g></g></g><g><rect x=\"3\" y=\"4\" class=\"dark-square\" height=\"1\" width=\"1\"></rect><g></g></g><g><rect x=\"3\" y=\"5\" class=\"light-square\" height=\"1\" width=\"1\"></rect><g></g></g><g><rect x=\"3\" y=\"6\" class=\"dark-square\" height=\"1\" width=\"1\"></rect><g></g></g><g><rect x=\"3\" y=\"7\" class=\"light-square\" height=\"1\" width=\"1\"></rect><image x=\"3\" xlink:href=\"https://raw.githubusercontent.com/romstad/Chess.jl/master/img/wr.svg\" y=\"7\" height=\"1\" width=\"1\"></image></g><g><rect x=\"4\" y=\"0\" class=\"light-square\" height=\"1\" width=\"1\"></rect><g></g></g><g><rect x=\"4\" y=\"1\" class=\"dark-square\" height=\"1\" width=\"1\"></rect><g></g></g><g><rect x=\"4\" y=\"2\" class=\"light-square\" height=\"1\" width=\"1\"></rect><image x=\"4\" xlink:href=\"https://raw.githubusercontent.com/romstad/Chess.jl/master/img/bk.svg\" y=\"2\" height=\"1\" width=\"1\"></image></g><g><rect x=\"4\" y=\"3\" class=\"dark-square\" height=\"1\" width=\"1\"></rect><image x=\"4\" xlink:href=\"https://raw.githubusercontent.com/romstad/Chess.jl/master/img/bp.svg\" y=\"3\" height=\"1\" width=\"1\"></image></g><g><rect x=\"4\" y=\"4\" class=\"light-square\" height=\"1\" width=\"1\"></rect><g></g></g><g><rect x=\"4\" y=\"5\" class=\"dark-square\" height=\"1\" width=\"1\"></rect><g></g></g><g><rect x=\"4\" y=\"6\" class=\"light-square\" height=\"1\" width=\"1\"></rect><g></g></g><g><rect x=\"4\" y=\"7\" class=\"dark-square\" height=\"1\" width=\"1\"></rect><image x=\"4\" xlink:href=\"https://raw.githubusercontent.com/romstad/Chess.jl/master/img/wr.svg\" y=\"7\" height=\"1\" width=\"1\"></image></g><g><rect x=\"5\" y=\"0\" class=\"dark-square\" height=\"1\" width=\"1\"></rect><g></g></g><g><rect x=\"5\" y=\"1\" class=\"light-square\" height=\"1\" width=\"1\"></rect><image x=\"5\" xlink:href=\"https://raw.githubusercontent.com/romstad/Chess.jl/master/img/bp.svg\" y=\"1\" height=\"1\" width=\"1\"></image></g><g><rect x=\"5\" y=\"2\" class=\"dark-square\" height=\"1\" width=\"1\"></rect><g></g></g><g><rect x=\"5\" y=\"3\" class=\"light-square\" height=\"1\" width=\"1\"></rect><g></g></g><g><rect x=\"5\" y=\"4\" class=\"dark-square\" height=\"1\" width=\"1\"></rect><image x=\"5\" xlink:href=\"https://raw.githubusercontent.com/romstad/Chess.jl/master/img/wp.svg\" y=\"4\" height=\"1\" width=\"1\"></image></g><g><rect x=\"5\" y=\"5\" class=\"light-square\" height=\"1\" width=\"1\"></rect><g></g></g><g><rect x=\"5\" y=\"6\" class=\"dark-square\" height=\"1\" width=\"1\"></rect><image x=\"5\" xlink:href=\"https://raw.githubusercontent.com/romstad/Chess.jl/master/img/wp.svg\" y=\"6\" height=\"1\" width=\"1\"></image></g><g><rect x=\"5\" y=\"7\" class=\"light-square\" height=\"1\" width=\"1\"></rect><g></g></g><g><rect x=\"6\" y=\"0\" class=\"light-square\" height=\"1\" width=\"1\"></rect><image x=\"6\" xlink:href=\"https://raw.githubusercontent.com/romstad/Chess.jl/master/img/br.svg\" y=\"0\" height=\"1\" width=\"1\"></image></g><g><rect x=\"6\" y=\"1\" class=\"dark-square\" height=\"1\" width=\"1\"></rect><image x=\"6\" xlink:href=\"https://raw.githubusercontent.com/romstad/Chess.jl/master/img/bp.svg\" y=\"1\" height=\"1\" width=\"1\"></image></g><g><rect x=\"6\" y=\"2\" class=\"light-square\" height=\"1\" width=\"1\"></rect><g></g></g><g><rect x=\"6\" y=\"3\" class=\"dark-square\" height=\"1\" width=\"1\"></rect><g></g></g><g><rect x=\"6\" y=\"4\" class=\"light-square\" height=\"1\" width=\"1\"></rect><image x=\"6\" xlink:href=\"https://raw.githubusercontent.com/romstad/Chess.jl/master/img/wk.svg\" y=\"4\" height=\"1\" width=\"1\"></image></g><g><rect x=\"6\" y=\"5\" class=\"dark-square\" height=\"1\" width=\"1\"></rect><g></g></g><g><rect x=\"6\" y=\"6\" class=\"light-square\" height=\"1\" width=\"1\"></rect><g></g></g><g><rect x=\"6\" y=\"7\" class=\"dark-square\" height=\"1\" width=\"1\"></rect><g></g></g><g><rect x=\"7\" y=\"0\" class=\"dark-square\" height=\"1\" width=\"1\"></rect><g></g></g><g><rect x=\"7\" y=\"1\" class=\"light-square\" height=\"1\" width=\"1\"></rect><g></g></g><g><rect x=\"7\" y=\"2\" class=\"dark-square\" height=\"1\" width=\"1\"></rect><image x=\"7\" xlink:href=\"https://raw.githubusercontent.com/romstad/Chess.jl/master/img/bp.svg\" y=\"2\" height=\"1\" width=\"1\"></image></g><g><rect x=\"7\" y=\"3\" class=\"light-square\" height=\"1\" width=\"1\"></rect><image x=\"7\" xlink:href=\"https://raw.githubusercontent.com/romstad/Chess.jl/master/img/bn.svg\" y=\"3\" height=\"1\" width=\"1\"></image></g><g><rect x=\"7\" y=\"4\" class=\"dark-square\" height=\"1\" width=\"1\"></rect><g></g></g><g><rect x=\"7\" y=\"5\" class=\"light-square\" height=\"1\" width=\"1\"></rect><image x=\"7\" xlink:href=\"https://raw.githubusercontent.com/romstad/Chess.jl/master/img/wp.svg\" y=\"5\" height=\"1\" width=\"1\"></image></g><g><rect x=\"7\" y=\"6\" class=\"dark-square\" height=\"1\" width=\"1\"></rect><g></g></g><g><rect x=\"7\" y=\"7\" class=\"light-square\" height=\"1\" width=\"1\"></rect><g></g></g></g><g></g></svg><div><p>Black to move</p><p><a href=\"https://lichess.org/editor/6r1/1b1r1pp1/p1pPk2p/4p2n/P4PK1/2P4P/2B2P2/3RR3_b_-_-\" target=\"_blank\">Open in lichess</a></p></div></div>"
      ],
      "text/plain": [
       "Board (6r1/1b1r1pp1/p1pPk2p/4p2n/P4PK1/2P4P/2B2P2/3RR3 b - -):\n",
       " -  -  -  -  -  -  r  - \n",
       " -  b  -  r  -  p  p  - \n",
       " p  -  p  P  k  -  -  p \n",
       " -  -  -  -  p  -  -  n \n",
       " P  -  -  -  -  P  K  - \n",
       " -  -  P  -  -  -  -  P \n",
       " -  -  B  -  -  P  -  - \n",
       " -  -  -  R  R  -  -  - "
      ]
     },
     "metadata": {},
     "output_type": "display_data"
    },
    {
     "name": "stdout",
     "output_type": "stream",
     "text": [
      "Evaluation of engine: -335.0\n",
      "Current board score: -390\n",
      "Current entries in Cache: 2672\n",
      "Cleared Cache with 2672\n",
      "  1.854119 seconds (6.78 M allocations: 373.790 MiB, 2.98% gc time)\n",
      "Inkremental score is -430 but should be -370\n"
     ]
    },
    {
     "data": {
      "text/html": [
       "Board:<div class=\"chessboard\"><style soped=\"true\">.dark-square {\n",
       "    fill: #c3936a;\n",
       "    stroke-width: 0;\n",
       "}\n",
       ".light-square {\n",
       "    fill: #ffd7a6;\n",
       "    stroke-width: 0;\n",
       "}\n",
       ".highlight {\n",
       "    fill: #47d18b;\n",
       "}\n",
       "@media (prefers-color-scheme: dark) {\n",
       "    .dark-square {\n",
       "        fill: #00796b;\n",
       "    }\n",
       "    .light-square {\n",
       "        fill: #3ca59b;\n",
       "    }\n",
       "    .highlight {\n",
       "        fill: #d23600;\n",
       "    }\n",
       "}\n",
       "</style><svg style=\"float: left; margin-right: 20px\" viewBox=\"0 0 8 8\" height=\"280\" width=\"280\"><g><g><rect x=\"0\" y=\"0\" class=\"light-square\" height=\"1\" width=\"1\"></rect><g></g></g><g><rect x=\"0\" y=\"1\" class=\"dark-square\" height=\"1\" width=\"1\"></rect><g></g></g><g><rect x=\"0\" y=\"2\" class=\"light-square\" height=\"1\" width=\"1\"></rect><image x=\"0\" xlink:href=\"https://raw.githubusercontent.com/romstad/Chess.jl/master/img/bp.svg\" y=\"2\" height=\"1\" width=\"1\"></image></g><g><rect x=\"0\" y=\"3\" class=\"dark-square\" height=\"1\" width=\"1\"></rect><g></g></g><g><rect x=\"0\" y=\"4\" class=\"light-square\" height=\"1\" width=\"1\"></rect><image x=\"0\" xlink:href=\"https://raw.githubusercontent.com/romstad/Chess.jl/master/img/wp.svg\" y=\"4\" height=\"1\" width=\"1\"></image></g><g><rect x=\"0\" y=\"5\" class=\"dark-square\" height=\"1\" width=\"1\"></rect><g></g></g><g><rect x=\"0\" y=\"6\" class=\"light-square\" height=\"1\" width=\"1\"></rect><g></g></g><g><rect x=\"0\" y=\"7\" class=\"dark-square\" height=\"1\" width=\"1\"></rect><g></g></g><g><rect x=\"1\" y=\"0\" class=\"dark-square\" height=\"1\" width=\"1\"></rect><g></g></g><g><rect x=\"1\" y=\"1\" class=\"light-square\" height=\"1\" width=\"1\"></rect><image x=\"1\" xlink:href=\"https://raw.githubusercontent.com/romstad/Chess.jl/master/img/bb.svg\" y=\"1\" height=\"1\" width=\"1\"></image></g><g><rect x=\"1\" y=\"2\" class=\"dark-square\" height=\"1\" width=\"1\"></rect><g></g></g><g><rect x=\"1\" y=\"3\" class=\"light-square\" height=\"1\" width=\"1\"></rect><g></g></g><g><rect x=\"1\" y=\"4\" class=\"dark-square\" height=\"1\" width=\"1\"></rect><g></g></g><g><rect x=\"1\" y=\"5\" class=\"light-square\" height=\"1\" width=\"1\"></rect><g></g></g><g><rect x=\"1\" y=\"6\" class=\"dark-square\" height=\"1\" width=\"1\"></rect><g></g></g><g><rect x=\"1\" y=\"7\" class=\"light-square\" height=\"1\" width=\"1\"></rect><g></g></g><g><rect x=\"2\" y=\"0\" class=\"light-square\" height=\"1\" width=\"1\"></rect><g></g></g><g><rect x=\"2\" y=\"1\" class=\"dark-square\" height=\"1\" width=\"1\"></rect><g></g></g><g><rect x=\"2\" y=\"2\" class=\"light-square\" height=\"1\" width=\"1\"></rect><image x=\"2\" xlink:href=\"https://raw.githubusercontent.com/romstad/Chess.jl/master/img/bp.svg\" y=\"2\" height=\"1\" width=\"1\"></image></g><g><rect x=\"2\" y=\"3\" class=\"dark-square\" height=\"1\" width=\"1\"></rect><g></g></g><g><rect x=\"2\" y=\"4\" class=\"light-square\" height=\"1\" width=\"1\"></rect><g></g></g><g><rect x=\"2\" y=\"5\" class=\"dark-square\" height=\"1\" width=\"1\"></rect><image x=\"2\" xlink:href=\"https://raw.githubusercontent.com/romstad/Chess.jl/master/img/wp.svg\" y=\"5\" height=\"1\" width=\"1\"></image></g><g><rect x=\"2\" y=\"6\" class=\"light-square\" height=\"1\" width=\"1\"></rect><image x=\"2\" xlink:href=\"https://raw.githubusercontent.com/romstad/Chess.jl/master/img/wb.svg\" y=\"6\" height=\"1\" width=\"1\"></image></g><g><rect x=\"2\" y=\"7\" class=\"dark-square\" height=\"1\" width=\"1\"></rect><g></g></g><g><rect x=\"3\" y=\"0\" class=\"dark-square\" height=\"1\" width=\"1\"></rect><g></g></g><g><rect x=\"3\" y=\"1\" class=\"light-square\" height=\"1\" width=\"1\"></rect><image x=\"3\" xlink:href=\"https://raw.githubusercontent.com/romstad/Chess.jl/master/img/br.svg\" y=\"1\" height=\"1\" width=\"1\"></image></g><g><rect x=\"3\" y=\"2\" class=\"dark-square\" height=\"1\" width=\"1\"></rect><image x=\"3\" xlink:href=\"https://raw.githubusercontent.com/romstad/Chess.jl/master/img/wp.svg\" y=\"2\" height=\"1\" width=\"1\"></image></g><g><rect x=\"3\" y=\"3\" class=\"light-square\" height=\"1\" width=\"1\"></rect><g></g></g><g><rect x=\"3\" y=\"4\" class=\"dark-square\" height=\"1\" width=\"1\"></rect><g></g></g><g><rect x=\"3\" y=\"5\" class=\"light-square\" height=\"1\" width=\"1\"></rect><g></g></g><g><rect x=\"3\" y=\"6\" class=\"dark-square\" height=\"1\" width=\"1\"></rect><g></g></g><g><rect x=\"3\" y=\"7\" class=\"light-square\" height=\"1\" width=\"1\"></rect><image x=\"3\" xlink:href=\"https://raw.githubusercontent.com/romstad/Chess.jl/master/img/wr.svg\" y=\"7\" height=\"1\" width=\"1\"></image></g><g><rect x=\"4\" y=\"0\" class=\"light-square\" height=\"1\" width=\"1\"></rect><g></g></g><g><rect x=\"4\" y=\"1\" class=\"dark-square\" height=\"1\" width=\"1\"></rect><g></g></g><g><rect x=\"4\" y=\"2\" class=\"light-square\" height=\"1\" width=\"1\"></rect><image x=\"4\" xlink:href=\"https://raw.githubusercontent.com/romstad/Chess.jl/master/img/bk.svg\" y=\"2\" height=\"1\" width=\"1\"></image></g><g><rect x=\"4\" y=\"3\" class=\"dark-square\" height=\"1\" width=\"1\"></rect><image x=\"4\" xlink:href=\"https://raw.githubusercontent.com/romstad/Chess.jl/master/img/bp.svg\" y=\"3\" height=\"1\" width=\"1\"></image></g><g><rect x=\"4\" y=\"4\" class=\"light-square\" height=\"1\" width=\"1\"></rect><g></g></g><g><rect x=\"4\" y=\"5\" class=\"dark-square\" height=\"1\" width=\"1\"></rect><g></g></g><g><rect x=\"4\" y=\"6\" class=\"light-square\" height=\"1\" width=\"1\"></rect><g></g></g><g><rect x=\"4\" y=\"7\" class=\"dark-square\" height=\"1\" width=\"1\"></rect><image x=\"4\" xlink:href=\"https://raw.githubusercontent.com/romstad/Chess.jl/master/img/wr.svg\" y=\"7\" height=\"1\" width=\"1\"></image></g><g><rect x=\"5\" y=\"0\" class=\"dark-square\" height=\"1\" width=\"1\"></rect><g></g></g><g><rect x=\"5\" y=\"1\" class=\"light-square\" height=\"1\" width=\"1\"></rect><image x=\"5\" xlink:href=\"https://raw.githubusercontent.com/romstad/Chess.jl/master/img/bp.svg\" y=\"1\" height=\"1\" width=\"1\"></image></g><g><rect x=\"5\" y=\"2\" class=\"dark-square\" height=\"1\" width=\"1\"></rect><image x=\"5\" xlink:href=\"https://raw.githubusercontent.com/romstad/Chess.jl/master/img/bn.svg\" y=\"2\" height=\"1\" width=\"1\"></image></g><g><rect x=\"5\" y=\"3\" class=\"light-square\" height=\"1\" width=\"1\"></rect><g></g></g><g><rect x=\"5\" y=\"4\" class=\"dark-square\" height=\"1\" width=\"1\"></rect><image x=\"5\" xlink:href=\"https://raw.githubusercontent.com/romstad/Chess.jl/master/img/wp.svg\" y=\"4\" height=\"1\" width=\"1\"></image></g><g><rect x=\"5\" y=\"5\" class=\"light-square\" height=\"1\" width=\"1\"></rect><g></g></g><g><rect x=\"5\" y=\"6\" class=\"dark-square\" height=\"1\" width=\"1\"></rect><image x=\"5\" xlink:href=\"https://raw.githubusercontent.com/romstad/Chess.jl/master/img/wp.svg\" y=\"6\" height=\"1\" width=\"1\"></image></g><g><rect x=\"5\" y=\"7\" class=\"light-square\" height=\"1\" width=\"1\"></rect><g></g></g><g><rect x=\"6\" y=\"0\" class=\"light-square\" height=\"1\" width=\"1\"></rect><image x=\"6\" xlink:href=\"https://raw.githubusercontent.com/romstad/Chess.jl/master/img/br.svg\" y=\"0\" height=\"1\" width=\"1\"></image></g><g><rect x=\"6\" y=\"1\" class=\"dark-square\" height=\"1\" width=\"1\"></rect><image x=\"6\" xlink:href=\"https://raw.githubusercontent.com/romstad/Chess.jl/master/img/bp.svg\" y=\"1\" height=\"1\" width=\"1\"></image></g><g><rect x=\"6\" y=\"2\" class=\"light-square\" height=\"1\" width=\"1\"></rect><g></g></g><g><rect x=\"6\" y=\"3\" class=\"dark-square\" height=\"1\" width=\"1\"></rect><g></g></g><g><rect x=\"6\" y=\"4\" class=\"light-square\" height=\"1\" width=\"1\"></rect><image x=\"6\" xlink:href=\"https://raw.githubusercontent.com/romstad/Chess.jl/master/img/wk.svg\" y=\"4\" height=\"1\" width=\"1\"></image></g><g><rect x=\"6\" y=\"5\" class=\"dark-square\" height=\"1\" width=\"1\"></rect><g></g></g><g><rect x=\"6\" y=\"6\" class=\"light-square\" height=\"1\" width=\"1\"></rect><g></g></g><g><rect x=\"6\" y=\"7\" class=\"dark-square\" height=\"1\" width=\"1\"></rect><g></g></g><g><rect x=\"7\" y=\"0\" class=\"dark-square\" height=\"1\" width=\"1\"></rect><g></g></g><g><rect x=\"7\" y=\"1\" class=\"light-square\" height=\"1\" width=\"1\"></rect><g></g></g><g><rect x=\"7\" y=\"2\" class=\"dark-square\" height=\"1\" width=\"1\"></rect><image x=\"7\" xlink:href=\"https://raw.githubusercontent.com/romstad/Chess.jl/master/img/bp.svg\" y=\"2\" height=\"1\" width=\"1\"></image></g><g><rect x=\"7\" y=\"3\" class=\"light-square\" height=\"1\" width=\"1\"></rect><g></g></g><g><rect x=\"7\" y=\"4\" class=\"dark-square\" height=\"1\" width=\"1\"></rect><g></g></g><g><rect x=\"7\" y=\"5\" class=\"light-square\" height=\"1\" width=\"1\"></rect><image x=\"7\" xlink:href=\"https://raw.githubusercontent.com/romstad/Chess.jl/master/img/wp.svg\" y=\"5\" height=\"1\" width=\"1\"></image></g><g><rect x=\"7\" y=\"6\" class=\"dark-square\" height=\"1\" width=\"1\"></rect><g></g></g><g><rect x=\"7\" y=\"7\" class=\"light-square\" height=\"1\" width=\"1\"></rect><g></g></g></g><g></g></svg><div><p>White to move</p><p><a href=\"https://lichess.org/editor/6r1/1b1r1pp1/p1pPkn1p/4p3/P4PK1/2P4P/2B2P2/3RR3_w_-_-\" target=\"_blank\">Open in lichess</a></p></div></div>"
      ],
      "text/plain": [
       "Board (6r1/1b1r1pp1/p1pPkn1p/4p3/P4PK1/2P4P/2B2P2/3RR3 w - -):\n",
       " -  -  -  -  -  -  r  - \n",
       " -  b  -  r  -  p  p  - \n",
       " p  -  p  P  k  n  -  p \n",
       " -  -  -  -  p  -  -  - \n",
       " P  -  -  -  -  P  K  - \n",
       " -  -  P  -  -  -  -  P \n",
       " -  -  B  -  -  P  -  - \n",
       " -  -  -  R  R  -  -  - "
      ]
     },
     "metadata": {},
     "output_type": "display_data"
    },
    {
     "name": "stdout",
     "output_type": "stream",
     "text": [
      "Make a move. Type 'resign' to resign from the match\n",
      "stdin> g4g3\n",
      "Cleared Cache with 0\n",
      "Inkremental score is -430 but should be -370\n"
     ]
    },
    {
     "data": {
      "text/html": [
       "Board:<div class=\"chessboard\"><style soped=\"true\">.dark-square {\n",
       "    fill: #c3936a;\n",
       "    stroke-width: 0;\n",
       "}\n",
       ".light-square {\n",
       "    fill: #ffd7a6;\n",
       "    stroke-width: 0;\n",
       "}\n",
       ".highlight {\n",
       "    fill: #47d18b;\n",
       "}\n",
       "@media (prefers-color-scheme: dark) {\n",
       "    .dark-square {\n",
       "        fill: #00796b;\n",
       "    }\n",
       "    .light-square {\n",
       "        fill: #3ca59b;\n",
       "    }\n",
       "    .highlight {\n",
       "        fill: #d23600;\n",
       "    }\n",
       "}\n",
       "</style><svg style=\"float: left; margin-right: 20px\" viewBox=\"0 0 8 8\" height=\"280\" width=\"280\"><g><g><rect x=\"0\" y=\"0\" class=\"light-square\" height=\"1\" width=\"1\"></rect><g></g></g><g><rect x=\"0\" y=\"1\" class=\"dark-square\" height=\"1\" width=\"1\"></rect><g></g></g><g><rect x=\"0\" y=\"2\" class=\"light-square\" height=\"1\" width=\"1\"></rect><image x=\"0\" xlink:href=\"https://raw.githubusercontent.com/romstad/Chess.jl/master/img/bp.svg\" y=\"2\" height=\"1\" width=\"1\"></image></g><g><rect x=\"0\" y=\"3\" class=\"dark-square\" height=\"1\" width=\"1\"></rect><g></g></g><g><rect x=\"0\" y=\"4\" class=\"light-square\" height=\"1\" width=\"1\"></rect><image x=\"0\" xlink:href=\"https://raw.githubusercontent.com/romstad/Chess.jl/master/img/wp.svg\" y=\"4\" height=\"1\" width=\"1\"></image></g><g><rect x=\"0\" y=\"5\" class=\"dark-square\" height=\"1\" width=\"1\"></rect><g></g></g><g><rect x=\"0\" y=\"6\" class=\"light-square\" height=\"1\" width=\"1\"></rect><g></g></g><g><rect x=\"0\" y=\"7\" class=\"dark-square\" height=\"1\" width=\"1\"></rect><g></g></g><g><rect x=\"1\" y=\"0\" class=\"dark-square\" height=\"1\" width=\"1\"></rect><g></g></g><g><rect x=\"1\" y=\"1\" class=\"light-square\" height=\"1\" width=\"1\"></rect><image x=\"1\" xlink:href=\"https://raw.githubusercontent.com/romstad/Chess.jl/master/img/bb.svg\" y=\"1\" height=\"1\" width=\"1\"></image></g><g><rect x=\"1\" y=\"2\" class=\"dark-square\" height=\"1\" width=\"1\"></rect><g></g></g><g><rect x=\"1\" y=\"3\" class=\"light-square\" height=\"1\" width=\"1\"></rect><g></g></g><g><rect x=\"1\" y=\"4\" class=\"dark-square\" height=\"1\" width=\"1\"></rect><g></g></g><g><rect x=\"1\" y=\"5\" class=\"light-square\" height=\"1\" width=\"1\"></rect><g></g></g><g><rect x=\"1\" y=\"6\" class=\"dark-square\" height=\"1\" width=\"1\"></rect><g></g></g><g><rect x=\"1\" y=\"7\" class=\"light-square\" height=\"1\" width=\"1\"></rect><g></g></g><g><rect x=\"2\" y=\"0\" class=\"light-square\" height=\"1\" width=\"1\"></rect><g></g></g><g><rect x=\"2\" y=\"1\" class=\"dark-square\" height=\"1\" width=\"1\"></rect><g></g></g><g><rect x=\"2\" y=\"2\" class=\"light-square\" height=\"1\" width=\"1\"></rect><image x=\"2\" xlink:href=\"https://raw.githubusercontent.com/romstad/Chess.jl/master/img/bp.svg\" y=\"2\" height=\"1\" width=\"1\"></image></g><g><rect x=\"2\" y=\"3\" class=\"dark-square\" height=\"1\" width=\"1\"></rect><g></g></g><g><rect x=\"2\" y=\"4\" class=\"light-square\" height=\"1\" width=\"1\"></rect><g></g></g><g><rect x=\"2\" y=\"5\" class=\"dark-square\" height=\"1\" width=\"1\"></rect><image x=\"2\" xlink:href=\"https://raw.githubusercontent.com/romstad/Chess.jl/master/img/wp.svg\" y=\"5\" height=\"1\" width=\"1\"></image></g><g><rect x=\"2\" y=\"6\" class=\"light-square\" height=\"1\" width=\"1\"></rect><image x=\"2\" xlink:href=\"https://raw.githubusercontent.com/romstad/Chess.jl/master/img/wb.svg\" y=\"6\" height=\"1\" width=\"1\"></image></g><g><rect x=\"2\" y=\"7\" class=\"dark-square\" height=\"1\" width=\"1\"></rect><g></g></g><g><rect x=\"3\" y=\"0\" class=\"dark-square\" height=\"1\" width=\"1\"></rect><g></g></g><g><rect x=\"3\" y=\"1\" class=\"light-square\" height=\"1\" width=\"1\"></rect><image x=\"3\" xlink:href=\"https://raw.githubusercontent.com/romstad/Chess.jl/master/img/br.svg\" y=\"1\" height=\"1\" width=\"1\"></image></g><g><rect x=\"3\" y=\"2\" class=\"dark-square\" height=\"1\" width=\"1\"></rect><image x=\"3\" xlink:href=\"https://raw.githubusercontent.com/romstad/Chess.jl/master/img/wp.svg\" y=\"2\" height=\"1\" width=\"1\"></image></g><g><rect x=\"3\" y=\"3\" class=\"light-square\" height=\"1\" width=\"1\"></rect><g></g></g><g><rect x=\"3\" y=\"4\" class=\"dark-square\" height=\"1\" width=\"1\"></rect><g></g></g><g><rect x=\"3\" y=\"5\" class=\"light-square\" height=\"1\" width=\"1\"></rect><g></g></g><g><rect x=\"3\" y=\"6\" class=\"dark-square\" height=\"1\" width=\"1\"></rect><g></g></g><g><rect x=\"3\" y=\"7\" class=\"light-square\" height=\"1\" width=\"1\"></rect><image x=\"3\" xlink:href=\"https://raw.githubusercontent.com/romstad/Chess.jl/master/img/wr.svg\" y=\"7\" height=\"1\" width=\"1\"></image></g><g><rect x=\"4\" y=\"0\" class=\"light-square\" height=\"1\" width=\"1\"></rect><g></g></g><g><rect x=\"4\" y=\"1\" class=\"dark-square\" height=\"1\" width=\"1\"></rect><g></g></g><g><rect x=\"4\" y=\"2\" class=\"light-square\" height=\"1\" width=\"1\"></rect><image x=\"4\" xlink:href=\"https://raw.githubusercontent.com/romstad/Chess.jl/master/img/bk.svg\" y=\"2\" height=\"1\" width=\"1\"></image></g><g><rect x=\"4\" y=\"3\" class=\"dark-square\" height=\"1\" width=\"1\"></rect><image x=\"4\" xlink:href=\"https://raw.githubusercontent.com/romstad/Chess.jl/master/img/bp.svg\" y=\"3\" height=\"1\" width=\"1\"></image></g><g><rect x=\"4\" y=\"4\" class=\"light-square\" height=\"1\" width=\"1\"></rect><g></g></g><g><rect x=\"4\" y=\"5\" class=\"dark-square\" height=\"1\" width=\"1\"></rect><g></g></g><g><rect x=\"4\" y=\"6\" class=\"light-square\" height=\"1\" width=\"1\"></rect><g></g></g><g><rect x=\"4\" y=\"7\" class=\"dark-square\" height=\"1\" width=\"1\"></rect><image x=\"4\" xlink:href=\"https://raw.githubusercontent.com/romstad/Chess.jl/master/img/wr.svg\" y=\"7\" height=\"1\" width=\"1\"></image></g><g><rect x=\"5\" y=\"0\" class=\"dark-square\" height=\"1\" width=\"1\"></rect><g></g></g><g><rect x=\"5\" y=\"1\" class=\"light-square\" height=\"1\" width=\"1\"></rect><image x=\"5\" xlink:href=\"https://raw.githubusercontent.com/romstad/Chess.jl/master/img/bp.svg\" y=\"1\" height=\"1\" width=\"1\"></image></g><g><rect x=\"5\" y=\"2\" class=\"dark-square\" height=\"1\" width=\"1\"></rect><image x=\"5\" xlink:href=\"https://raw.githubusercontent.com/romstad/Chess.jl/master/img/bn.svg\" y=\"2\" height=\"1\" width=\"1\"></image></g><g><rect x=\"5\" y=\"3\" class=\"light-square\" height=\"1\" width=\"1\"></rect><g></g></g><g><rect x=\"5\" y=\"4\" class=\"dark-square\" height=\"1\" width=\"1\"></rect><image x=\"5\" xlink:href=\"https://raw.githubusercontent.com/romstad/Chess.jl/master/img/wp.svg\" y=\"4\" height=\"1\" width=\"1\"></image></g><g><rect x=\"5\" y=\"5\" class=\"light-square\" height=\"1\" width=\"1\"></rect><g></g></g><g><rect x=\"5\" y=\"6\" class=\"dark-square\" height=\"1\" width=\"1\"></rect><image x=\"5\" xlink:href=\"https://raw.githubusercontent.com/romstad/Chess.jl/master/img/wp.svg\" y=\"6\" height=\"1\" width=\"1\"></image></g><g><rect x=\"5\" y=\"7\" class=\"light-square\" height=\"1\" width=\"1\"></rect><g></g></g><g><rect x=\"6\" y=\"0\" class=\"light-square\" height=\"1\" width=\"1\"></rect><image x=\"6\" xlink:href=\"https://raw.githubusercontent.com/romstad/Chess.jl/master/img/br.svg\" y=\"0\" height=\"1\" width=\"1\"></image></g><g><rect x=\"6\" y=\"1\" class=\"dark-square\" height=\"1\" width=\"1\"></rect><image x=\"6\" xlink:href=\"https://raw.githubusercontent.com/romstad/Chess.jl/master/img/bp.svg\" y=\"1\" height=\"1\" width=\"1\"></image></g><g><rect x=\"6\" y=\"2\" class=\"light-square\" height=\"1\" width=\"1\"></rect><g></g></g><g><rect x=\"6\" y=\"3\" class=\"dark-square\" height=\"1\" width=\"1\"></rect><g></g></g><g><rect x=\"6\" y=\"4\" class=\"light-square\" height=\"1\" width=\"1\"></rect><g></g></g><g><rect x=\"6\" y=\"5\" class=\"dark-square\" height=\"1\" width=\"1\"></rect><image x=\"6\" xlink:href=\"https://raw.githubusercontent.com/romstad/Chess.jl/master/img/wk.svg\" y=\"5\" height=\"1\" width=\"1\"></image></g><g><rect x=\"6\" y=\"6\" class=\"light-square\" height=\"1\" width=\"1\"></rect><g></g></g><g><rect x=\"6\" y=\"7\" class=\"dark-square\" height=\"1\" width=\"1\"></rect><g></g></g><g><rect x=\"7\" y=\"0\" class=\"dark-square\" height=\"1\" width=\"1\"></rect><g></g></g><g><rect x=\"7\" y=\"1\" class=\"light-square\" height=\"1\" width=\"1\"></rect><g></g></g><g><rect x=\"7\" y=\"2\" class=\"dark-square\" height=\"1\" width=\"1\"></rect><image x=\"7\" xlink:href=\"https://raw.githubusercontent.com/romstad/Chess.jl/master/img/bp.svg\" y=\"2\" height=\"1\" width=\"1\"></image></g><g><rect x=\"7\" y=\"3\" class=\"light-square\" height=\"1\" width=\"1\"></rect><g></g></g><g><rect x=\"7\" y=\"4\" class=\"dark-square\" height=\"1\" width=\"1\"></rect><g></g></g><g><rect x=\"7\" y=\"5\" class=\"light-square\" height=\"1\" width=\"1\"></rect><image x=\"7\" xlink:href=\"https://raw.githubusercontent.com/romstad/Chess.jl/master/img/wp.svg\" y=\"5\" height=\"1\" width=\"1\"></image></g><g><rect x=\"7\" y=\"6\" class=\"dark-square\" height=\"1\" width=\"1\"></rect><g></g></g><g><rect x=\"7\" y=\"7\" class=\"light-square\" height=\"1\" width=\"1\"></rect><g></g></g></g><g></g></svg><div><p>Black to move</p><p><a href=\"https://lichess.org/editor/6r1/1b1r1pp1/p1pPkn1p/4p3/P4P2/2P3KP/2B2P2/3RR3_b_-_-\" target=\"_blank\">Open in lichess</a></p></div></div>"
      ],
      "text/plain": [
       "Board (6r1/1b1r1pp1/p1pPkn1p/4p3/P4P2/2P3KP/2B2P2/3RR3 b - -):\n",
       " -  -  -  -  -  -  r  - \n",
       " -  b  -  r  -  p  p  - \n",
       " p  -  p  P  k  n  -  p \n",
       " -  -  -  -  p  -  -  - \n",
       " P  -  -  -  -  P  -  - \n",
       " -  -  P  -  -  -  K  P \n",
       " -  -  B  -  -  P  -  - \n",
       " -  -  -  R  R  -  -  - "
      ]
     },
     "metadata": {},
     "output_type": "display_data"
    },
    {
     "name": "stdout",
     "output_type": "stream",
     "text": [
      "Evaluation of engine: -390.0\n",
      "Current board score: -430\n",
      "Current entries in Cache: 3984\n",
      "Cleared Cache with 3984\n",
      "  3.073974 seconds (10.29 M allocations: 588.073 MiB, 2.72% gc time)\n",
      "Inkremental score is -390 but should be -330\n"
     ]
    },
    {
     "data": {
      "text/html": [
       "Board:<div class=\"chessboard\"><style soped=\"true\">.dark-square {\n",
       "    fill: #c3936a;\n",
       "    stroke-width: 0;\n",
       "}\n",
       ".light-square {\n",
       "    fill: #ffd7a6;\n",
       "    stroke-width: 0;\n",
       "}\n",
       ".highlight {\n",
       "    fill: #47d18b;\n",
       "}\n",
       "@media (prefers-color-scheme: dark) {\n",
       "    .dark-square {\n",
       "        fill: #00796b;\n",
       "    }\n",
       "    .light-square {\n",
       "        fill: #3ca59b;\n",
       "    }\n",
       "    .highlight {\n",
       "        fill: #d23600;\n",
       "    }\n",
       "}\n",
       "</style><svg style=\"float: left; margin-right: 20px\" viewBox=\"0 0 8 8\" height=\"280\" width=\"280\"><g><g><rect x=\"0\" y=\"0\" class=\"light-square\" height=\"1\" width=\"1\"></rect><g></g></g><g><rect x=\"0\" y=\"1\" class=\"dark-square\" height=\"1\" width=\"1\"></rect><g></g></g><g><rect x=\"0\" y=\"2\" class=\"light-square\" height=\"1\" width=\"1\"></rect><image x=\"0\" xlink:href=\"https://raw.githubusercontent.com/romstad/Chess.jl/master/img/bp.svg\" y=\"2\" height=\"1\" width=\"1\"></image></g><g><rect x=\"0\" y=\"3\" class=\"dark-square\" height=\"1\" width=\"1\"></rect><g></g></g><g><rect x=\"0\" y=\"4\" class=\"light-square\" height=\"1\" width=\"1\"></rect><image x=\"0\" xlink:href=\"https://raw.githubusercontent.com/romstad/Chess.jl/master/img/wp.svg\" y=\"4\" height=\"1\" width=\"1\"></image></g><g><rect x=\"0\" y=\"5\" class=\"dark-square\" height=\"1\" width=\"1\"></rect><g></g></g><g><rect x=\"0\" y=\"6\" class=\"light-square\" height=\"1\" width=\"1\"></rect><g></g></g><g><rect x=\"0\" y=\"7\" class=\"dark-square\" height=\"1\" width=\"1\"></rect><g></g></g><g><rect x=\"1\" y=\"0\" class=\"dark-square\" height=\"1\" width=\"1\"></rect><g></g></g><g><rect x=\"1\" y=\"1\" class=\"light-square\" height=\"1\" width=\"1\"></rect><image x=\"1\" xlink:href=\"https://raw.githubusercontent.com/romstad/Chess.jl/master/img/bb.svg\" y=\"1\" height=\"1\" width=\"1\"></image></g><g><rect x=\"1\" y=\"2\" class=\"dark-square\" height=\"1\" width=\"1\"></rect><g></g></g><g><rect x=\"1\" y=\"3\" class=\"light-square\" height=\"1\" width=\"1\"></rect><g></g></g><g><rect x=\"1\" y=\"4\" class=\"dark-square\" height=\"1\" width=\"1\"></rect><g></g></g><g><rect x=\"1\" y=\"5\" class=\"light-square\" height=\"1\" width=\"1\"></rect><g></g></g><g><rect x=\"1\" y=\"6\" class=\"dark-square\" height=\"1\" width=\"1\"></rect><g></g></g><g><rect x=\"1\" y=\"7\" class=\"light-square\" height=\"1\" width=\"1\"></rect><g></g></g><g><rect x=\"2\" y=\"0\" class=\"light-square\" height=\"1\" width=\"1\"></rect><g></g></g><g><rect x=\"2\" y=\"1\" class=\"dark-square\" height=\"1\" width=\"1\"></rect><g></g></g><g><rect x=\"2\" y=\"2\" class=\"light-square\" height=\"1\" width=\"1\"></rect><image x=\"2\" xlink:href=\"https://raw.githubusercontent.com/romstad/Chess.jl/master/img/bp.svg\" y=\"2\" height=\"1\" width=\"1\"></image></g><g><rect x=\"2\" y=\"3\" class=\"dark-square\" height=\"1\" width=\"1\"></rect><g></g></g><g><rect x=\"2\" y=\"4\" class=\"light-square\" height=\"1\" width=\"1\"></rect><g></g></g><g><rect x=\"2\" y=\"5\" class=\"dark-square\" height=\"1\" width=\"1\"></rect><image x=\"2\" xlink:href=\"https://raw.githubusercontent.com/romstad/Chess.jl/master/img/wp.svg\" y=\"5\" height=\"1\" width=\"1\"></image></g><g><rect x=\"2\" y=\"6\" class=\"light-square\" height=\"1\" width=\"1\"></rect><image x=\"2\" xlink:href=\"https://raw.githubusercontent.com/romstad/Chess.jl/master/img/wb.svg\" y=\"6\" height=\"1\" width=\"1\"></image></g><g><rect x=\"2\" y=\"7\" class=\"dark-square\" height=\"1\" width=\"1\"></rect><g></g></g><g><rect x=\"3\" y=\"0\" class=\"dark-square\" height=\"1\" width=\"1\"></rect><g></g></g><g><rect x=\"3\" y=\"1\" class=\"light-square\" height=\"1\" width=\"1\"></rect><image x=\"3\" xlink:href=\"https://raw.githubusercontent.com/romstad/Chess.jl/master/img/br.svg\" y=\"1\" height=\"1\" width=\"1\"></image></g><g><rect x=\"3\" y=\"2\" class=\"dark-square\" height=\"1\" width=\"1\"></rect><image x=\"3\" xlink:href=\"https://raw.githubusercontent.com/romstad/Chess.jl/master/img/wp.svg\" y=\"2\" height=\"1\" width=\"1\"></image></g><g><rect x=\"3\" y=\"3\" class=\"light-square\" height=\"1\" width=\"1\"></rect><g></g></g><g><rect x=\"3\" y=\"4\" class=\"dark-square\" height=\"1\" width=\"1\"></rect><g></g></g><g><rect x=\"3\" y=\"5\" class=\"light-square\" height=\"1\" width=\"1\"></rect><g></g></g><g><rect x=\"3\" y=\"6\" class=\"dark-square\" height=\"1\" width=\"1\"></rect><g></g></g><g><rect x=\"3\" y=\"7\" class=\"light-square\" height=\"1\" width=\"1\"></rect><image x=\"3\" xlink:href=\"https://raw.githubusercontent.com/romstad/Chess.jl/master/img/wr.svg\" y=\"7\" height=\"1\" width=\"1\"></image></g><g><rect x=\"4\" y=\"0\" class=\"light-square\" height=\"1\" width=\"1\"></rect><g></g></g><g><rect x=\"4\" y=\"1\" class=\"dark-square\" height=\"1\" width=\"1\"></rect><g></g></g><g><rect x=\"4\" y=\"2\" class=\"light-square\" height=\"1\" width=\"1\"></rect><image x=\"4\" xlink:href=\"https://raw.githubusercontent.com/romstad/Chess.jl/master/img/bk.svg\" y=\"2\" height=\"1\" width=\"1\"></image></g><g><rect x=\"4\" y=\"3\" class=\"dark-square\" height=\"1\" width=\"1\"></rect><image x=\"4\" xlink:href=\"https://raw.githubusercontent.com/romstad/Chess.jl/master/img/bp.svg\" y=\"3\" height=\"1\" width=\"1\"></image></g><g><rect x=\"4\" y=\"4\" class=\"light-square\" height=\"1\" width=\"1\"></rect><g></g></g><g><rect x=\"4\" y=\"5\" class=\"dark-square\" height=\"1\" width=\"1\"></rect><g></g></g><g><rect x=\"4\" y=\"6\" class=\"light-square\" height=\"1\" width=\"1\"></rect><g></g></g><g><rect x=\"4\" y=\"7\" class=\"dark-square\" height=\"1\" width=\"1\"></rect><image x=\"4\" xlink:href=\"https://raw.githubusercontent.com/romstad/Chess.jl/master/img/wr.svg\" y=\"7\" height=\"1\" width=\"1\"></image></g><g><rect x=\"5\" y=\"0\" class=\"dark-square\" height=\"1\" width=\"1\"></rect><g></g></g><g><rect x=\"5\" y=\"1\" class=\"light-square\" height=\"1\" width=\"1\"></rect><image x=\"5\" xlink:href=\"https://raw.githubusercontent.com/romstad/Chess.jl/master/img/bp.svg\" y=\"1\" height=\"1\" width=\"1\"></image></g><g><rect x=\"5\" y=\"2\" class=\"dark-square\" height=\"1\" width=\"1\"></rect><g></g></g><g><rect x=\"5\" y=\"3\" class=\"light-square\" height=\"1\" width=\"1\"></rect><g></g></g><g><rect x=\"5\" y=\"4\" class=\"dark-square\" height=\"1\" width=\"1\"></rect><image x=\"5\" xlink:href=\"https://raw.githubusercontent.com/romstad/Chess.jl/master/img/wp.svg\" y=\"4\" height=\"1\" width=\"1\"></image></g><g><rect x=\"5\" y=\"5\" class=\"light-square\" height=\"1\" width=\"1\"></rect><g></g></g><g><rect x=\"5\" y=\"6\" class=\"dark-square\" height=\"1\" width=\"1\"></rect><image x=\"5\" xlink:href=\"https://raw.githubusercontent.com/romstad/Chess.jl/master/img/wp.svg\" y=\"6\" height=\"1\" width=\"1\"></image></g><g><rect x=\"5\" y=\"7\" class=\"light-square\" height=\"1\" width=\"1\"></rect><g></g></g><g><rect x=\"6\" y=\"0\" class=\"light-square\" height=\"1\" width=\"1\"></rect><image x=\"6\" xlink:href=\"https://raw.githubusercontent.com/romstad/Chess.jl/master/img/br.svg\" y=\"0\" height=\"1\" width=\"1\"></image></g><g><rect x=\"6\" y=\"1\" class=\"dark-square\" height=\"1\" width=\"1\"></rect><image x=\"6\" xlink:href=\"https://raw.githubusercontent.com/romstad/Chess.jl/master/img/bp.svg\" y=\"1\" height=\"1\" width=\"1\"></image></g><g><rect x=\"6\" y=\"2\" class=\"light-square\" height=\"1\" width=\"1\"></rect><g></g></g><g><rect x=\"6\" y=\"3\" class=\"dark-square\" height=\"1\" width=\"1\"></rect><g></g></g><g><rect x=\"6\" y=\"4\" class=\"light-square\" height=\"1\" width=\"1\"></rect><g></g></g><g><rect x=\"6\" y=\"5\" class=\"dark-square\" height=\"1\" width=\"1\"></rect><image x=\"6\" xlink:href=\"https://raw.githubusercontent.com/romstad/Chess.jl/master/img/wk.svg\" y=\"5\" height=\"1\" width=\"1\"></image></g><g><rect x=\"6\" y=\"6\" class=\"light-square\" height=\"1\" width=\"1\"></rect><g></g></g><g><rect x=\"6\" y=\"7\" class=\"dark-square\" height=\"1\" width=\"1\"></rect><g></g></g><g><rect x=\"7\" y=\"0\" class=\"dark-square\" height=\"1\" width=\"1\"></rect><g></g></g><g><rect x=\"7\" y=\"1\" class=\"light-square\" height=\"1\" width=\"1\"></rect><g></g></g><g><rect x=\"7\" y=\"2\" class=\"dark-square\" height=\"1\" width=\"1\"></rect><image x=\"7\" xlink:href=\"https://raw.githubusercontent.com/romstad/Chess.jl/master/img/bp.svg\" y=\"2\" height=\"1\" width=\"1\"></image></g><g><rect x=\"7\" y=\"3\" class=\"light-square\" height=\"1\" width=\"1\"></rect><image x=\"7\" xlink:href=\"https://raw.githubusercontent.com/romstad/Chess.jl/master/img/bn.svg\" y=\"3\" height=\"1\" width=\"1\"></image></g><g><rect x=\"7\" y=\"4\" class=\"dark-square\" height=\"1\" width=\"1\"></rect><g></g></g><g><rect x=\"7\" y=\"5\" class=\"light-square\" height=\"1\" width=\"1\"></rect><image x=\"7\" xlink:href=\"https://raw.githubusercontent.com/romstad/Chess.jl/master/img/wp.svg\" y=\"5\" height=\"1\" width=\"1\"></image></g><g><rect x=\"7\" y=\"6\" class=\"dark-square\" height=\"1\" width=\"1\"></rect><g></g></g><g><rect x=\"7\" y=\"7\" class=\"light-square\" height=\"1\" width=\"1\"></rect><g></g></g></g><g></g></svg><div><p>White to move</p><p><a href=\"https://lichess.org/editor/6r1/1b1r1pp1/p1pPk2p/4p2n/P4P2/2P3KP/2B2P2/3RR3_w_-_-\" target=\"_blank\">Open in lichess</a></p></div></div>"
      ],
      "text/plain": [
       "Board (6r1/1b1r1pp1/p1pPk2p/4p2n/P4P2/2P3KP/2B2P2/3RR3 w - -):\n",
       " -  -  -  -  -  -  r  - \n",
       " -  b  -  r  -  p  p  - \n",
       " p  -  p  P  k  -  -  p \n",
       " -  -  -  -  p  -  -  n \n",
       " P  -  -  -  -  P  -  - \n",
       " -  -  P  -  -  -  K  P \n",
       " -  -  B  -  -  P  -  - \n",
       " -  -  -  R  R  -  -  - "
      ]
     },
     "metadata": {},
     "output_type": "display_data"
    },
    {
     "name": "stdout",
     "output_type": "stream",
     "text": [
      "Make a move. Type 'resign' to resign from the match\n",
      "stdin> g3g4\n",
      "Cleared Cache with 0\n",
      "Inkremental score is -390 but should be -330\n"
     ]
    },
    {
     "data": {
      "text/html": [
       "Board:<div class=\"chessboard\"><style soped=\"true\">.dark-square {\n",
       "    fill: #c3936a;\n",
       "    stroke-width: 0;\n",
       "}\n",
       ".light-square {\n",
       "    fill: #ffd7a6;\n",
       "    stroke-width: 0;\n",
       "}\n",
       ".highlight {\n",
       "    fill: #47d18b;\n",
       "}\n",
       "@media (prefers-color-scheme: dark) {\n",
       "    .dark-square {\n",
       "        fill: #00796b;\n",
       "    }\n",
       "    .light-square {\n",
       "        fill: #3ca59b;\n",
       "    }\n",
       "    .highlight {\n",
       "        fill: #d23600;\n",
       "    }\n",
       "}\n",
       "</style><svg style=\"float: left; margin-right: 20px\" viewBox=\"0 0 8 8\" height=\"280\" width=\"280\"><g><g><rect x=\"0\" y=\"0\" class=\"light-square\" height=\"1\" width=\"1\"></rect><g></g></g><g><rect x=\"0\" y=\"1\" class=\"dark-square\" height=\"1\" width=\"1\"></rect><g></g></g><g><rect x=\"0\" y=\"2\" class=\"light-square\" height=\"1\" width=\"1\"></rect><image x=\"0\" xlink:href=\"https://raw.githubusercontent.com/romstad/Chess.jl/master/img/bp.svg\" y=\"2\" height=\"1\" width=\"1\"></image></g><g><rect x=\"0\" y=\"3\" class=\"dark-square\" height=\"1\" width=\"1\"></rect><g></g></g><g><rect x=\"0\" y=\"4\" class=\"light-square\" height=\"1\" width=\"1\"></rect><image x=\"0\" xlink:href=\"https://raw.githubusercontent.com/romstad/Chess.jl/master/img/wp.svg\" y=\"4\" height=\"1\" width=\"1\"></image></g><g><rect x=\"0\" y=\"5\" class=\"dark-square\" height=\"1\" width=\"1\"></rect><g></g></g><g><rect x=\"0\" y=\"6\" class=\"light-square\" height=\"1\" width=\"1\"></rect><g></g></g><g><rect x=\"0\" y=\"7\" class=\"dark-square\" height=\"1\" width=\"1\"></rect><g></g></g><g><rect x=\"1\" y=\"0\" class=\"dark-square\" height=\"1\" width=\"1\"></rect><g></g></g><g><rect x=\"1\" y=\"1\" class=\"light-square\" height=\"1\" width=\"1\"></rect><image x=\"1\" xlink:href=\"https://raw.githubusercontent.com/romstad/Chess.jl/master/img/bb.svg\" y=\"1\" height=\"1\" width=\"1\"></image></g><g><rect x=\"1\" y=\"2\" class=\"dark-square\" height=\"1\" width=\"1\"></rect><g></g></g><g><rect x=\"1\" y=\"3\" class=\"light-square\" height=\"1\" width=\"1\"></rect><g></g></g><g><rect x=\"1\" y=\"4\" class=\"dark-square\" height=\"1\" width=\"1\"></rect><g></g></g><g><rect x=\"1\" y=\"5\" class=\"light-square\" height=\"1\" width=\"1\"></rect><g></g></g><g><rect x=\"1\" y=\"6\" class=\"dark-square\" height=\"1\" width=\"1\"></rect><g></g></g><g><rect x=\"1\" y=\"7\" class=\"light-square\" height=\"1\" width=\"1\"></rect><g></g></g><g><rect x=\"2\" y=\"0\" class=\"light-square\" height=\"1\" width=\"1\"></rect><g></g></g><g><rect x=\"2\" y=\"1\" class=\"dark-square\" height=\"1\" width=\"1\"></rect><g></g></g><g><rect x=\"2\" y=\"2\" class=\"light-square\" height=\"1\" width=\"1\"></rect><image x=\"2\" xlink:href=\"https://raw.githubusercontent.com/romstad/Chess.jl/master/img/bp.svg\" y=\"2\" height=\"1\" width=\"1\"></image></g><g><rect x=\"2\" y=\"3\" class=\"dark-square\" height=\"1\" width=\"1\"></rect><g></g></g><g><rect x=\"2\" y=\"4\" class=\"light-square\" height=\"1\" width=\"1\"></rect><g></g></g><g><rect x=\"2\" y=\"5\" class=\"dark-square\" height=\"1\" width=\"1\"></rect><image x=\"2\" xlink:href=\"https://raw.githubusercontent.com/romstad/Chess.jl/master/img/wp.svg\" y=\"5\" height=\"1\" width=\"1\"></image></g><g><rect x=\"2\" y=\"6\" class=\"light-square\" height=\"1\" width=\"1\"></rect><image x=\"2\" xlink:href=\"https://raw.githubusercontent.com/romstad/Chess.jl/master/img/wb.svg\" y=\"6\" height=\"1\" width=\"1\"></image></g><g><rect x=\"2\" y=\"7\" class=\"dark-square\" height=\"1\" width=\"1\"></rect><g></g></g><g><rect x=\"3\" y=\"0\" class=\"dark-square\" height=\"1\" width=\"1\"></rect><g></g></g><g><rect x=\"3\" y=\"1\" class=\"light-square\" height=\"1\" width=\"1\"></rect><image x=\"3\" xlink:href=\"https://raw.githubusercontent.com/romstad/Chess.jl/master/img/br.svg\" y=\"1\" height=\"1\" width=\"1\"></image></g><g><rect x=\"3\" y=\"2\" class=\"dark-square\" height=\"1\" width=\"1\"></rect><image x=\"3\" xlink:href=\"https://raw.githubusercontent.com/romstad/Chess.jl/master/img/wp.svg\" y=\"2\" height=\"1\" width=\"1\"></image></g><g><rect x=\"3\" y=\"3\" class=\"light-square\" height=\"1\" width=\"1\"></rect><g></g></g><g><rect x=\"3\" y=\"4\" class=\"dark-square\" height=\"1\" width=\"1\"></rect><g></g></g><g><rect x=\"3\" y=\"5\" class=\"light-square\" height=\"1\" width=\"1\"></rect><g></g></g><g><rect x=\"3\" y=\"6\" class=\"dark-square\" height=\"1\" width=\"1\"></rect><g></g></g><g><rect x=\"3\" y=\"7\" class=\"light-square\" height=\"1\" width=\"1\"></rect><image x=\"3\" xlink:href=\"https://raw.githubusercontent.com/romstad/Chess.jl/master/img/wr.svg\" y=\"7\" height=\"1\" width=\"1\"></image></g><g><rect x=\"4\" y=\"0\" class=\"light-square\" height=\"1\" width=\"1\"></rect><g></g></g><g><rect x=\"4\" y=\"1\" class=\"dark-square\" height=\"1\" width=\"1\"></rect><g></g></g><g><rect x=\"4\" y=\"2\" class=\"light-square\" height=\"1\" width=\"1\"></rect><image x=\"4\" xlink:href=\"https://raw.githubusercontent.com/romstad/Chess.jl/master/img/bk.svg\" y=\"2\" height=\"1\" width=\"1\"></image></g><g><rect x=\"4\" y=\"3\" class=\"dark-square\" height=\"1\" width=\"1\"></rect><image x=\"4\" xlink:href=\"https://raw.githubusercontent.com/romstad/Chess.jl/master/img/bp.svg\" y=\"3\" height=\"1\" width=\"1\"></image></g><g><rect x=\"4\" y=\"4\" class=\"light-square\" height=\"1\" width=\"1\"></rect><g></g></g><g><rect x=\"4\" y=\"5\" class=\"dark-square\" height=\"1\" width=\"1\"></rect><g></g></g><g><rect x=\"4\" y=\"6\" class=\"light-square\" height=\"1\" width=\"1\"></rect><g></g></g><g><rect x=\"4\" y=\"7\" class=\"dark-square\" height=\"1\" width=\"1\"></rect><image x=\"4\" xlink:href=\"https://raw.githubusercontent.com/romstad/Chess.jl/master/img/wr.svg\" y=\"7\" height=\"1\" width=\"1\"></image></g><g><rect x=\"5\" y=\"0\" class=\"dark-square\" height=\"1\" width=\"1\"></rect><g></g></g><g><rect x=\"5\" y=\"1\" class=\"light-square\" height=\"1\" width=\"1\"></rect><image x=\"5\" xlink:href=\"https://raw.githubusercontent.com/romstad/Chess.jl/master/img/bp.svg\" y=\"1\" height=\"1\" width=\"1\"></image></g><g><rect x=\"5\" y=\"2\" class=\"dark-square\" height=\"1\" width=\"1\"></rect><g></g></g><g><rect x=\"5\" y=\"3\" class=\"light-square\" height=\"1\" width=\"1\"></rect><g></g></g><g><rect x=\"5\" y=\"4\" class=\"dark-square\" height=\"1\" width=\"1\"></rect><image x=\"5\" xlink:href=\"https://raw.githubusercontent.com/romstad/Chess.jl/master/img/wp.svg\" y=\"4\" height=\"1\" width=\"1\"></image></g><g><rect x=\"5\" y=\"5\" class=\"light-square\" height=\"1\" width=\"1\"></rect><g></g></g><g><rect x=\"5\" y=\"6\" class=\"dark-square\" height=\"1\" width=\"1\"></rect><image x=\"5\" xlink:href=\"https://raw.githubusercontent.com/romstad/Chess.jl/master/img/wp.svg\" y=\"6\" height=\"1\" width=\"1\"></image></g><g><rect x=\"5\" y=\"7\" class=\"light-square\" height=\"1\" width=\"1\"></rect><g></g></g><g><rect x=\"6\" y=\"0\" class=\"light-square\" height=\"1\" width=\"1\"></rect><image x=\"6\" xlink:href=\"https://raw.githubusercontent.com/romstad/Chess.jl/master/img/br.svg\" y=\"0\" height=\"1\" width=\"1\"></image></g><g><rect x=\"6\" y=\"1\" class=\"dark-square\" height=\"1\" width=\"1\"></rect><image x=\"6\" xlink:href=\"https://raw.githubusercontent.com/romstad/Chess.jl/master/img/bp.svg\" y=\"1\" height=\"1\" width=\"1\"></image></g><g><rect x=\"6\" y=\"2\" class=\"light-square\" height=\"1\" width=\"1\"></rect><g></g></g><g><rect x=\"6\" y=\"3\" class=\"dark-square\" height=\"1\" width=\"1\"></rect><g></g></g><g><rect x=\"6\" y=\"4\" class=\"light-square\" height=\"1\" width=\"1\"></rect><image x=\"6\" xlink:href=\"https://raw.githubusercontent.com/romstad/Chess.jl/master/img/wk.svg\" y=\"4\" height=\"1\" width=\"1\"></image></g><g><rect x=\"6\" y=\"5\" class=\"dark-square\" height=\"1\" width=\"1\"></rect><g></g></g><g><rect x=\"6\" y=\"6\" class=\"light-square\" height=\"1\" width=\"1\"></rect><g></g></g><g><rect x=\"6\" y=\"7\" class=\"dark-square\" height=\"1\" width=\"1\"></rect><g></g></g><g><rect x=\"7\" y=\"0\" class=\"dark-square\" height=\"1\" width=\"1\"></rect><g></g></g><g><rect x=\"7\" y=\"1\" class=\"light-square\" height=\"1\" width=\"1\"></rect><g></g></g><g><rect x=\"7\" y=\"2\" class=\"dark-square\" height=\"1\" width=\"1\"></rect><image x=\"7\" xlink:href=\"https://raw.githubusercontent.com/romstad/Chess.jl/master/img/bp.svg\" y=\"2\" height=\"1\" width=\"1\"></image></g><g><rect x=\"7\" y=\"3\" class=\"light-square\" height=\"1\" width=\"1\"></rect><image x=\"7\" xlink:href=\"https://raw.githubusercontent.com/romstad/Chess.jl/master/img/bn.svg\" y=\"3\" height=\"1\" width=\"1\"></image></g><g><rect x=\"7\" y=\"4\" class=\"dark-square\" height=\"1\" width=\"1\"></rect><g></g></g><g><rect x=\"7\" y=\"5\" class=\"light-square\" height=\"1\" width=\"1\"></rect><image x=\"7\" xlink:href=\"https://raw.githubusercontent.com/romstad/Chess.jl/master/img/wp.svg\" y=\"5\" height=\"1\" width=\"1\"></image></g><g><rect x=\"7\" y=\"6\" class=\"dark-square\" height=\"1\" width=\"1\"></rect><g></g></g><g><rect x=\"7\" y=\"7\" class=\"light-square\" height=\"1\" width=\"1\"></rect><g></g></g></g><g></g></svg><div><p>Black to move</p><p><a href=\"https://lichess.org/editor/6r1/1b1r1pp1/p1pPk2p/4p2n/P4PK1/2P4P/2B2P2/3RR3_b_-_-\" target=\"_blank\">Open in lichess</a></p></div></div>"
      ],
      "text/plain": [
       "Board (6r1/1b1r1pp1/p1pPk2p/4p2n/P4PK1/2P4P/2B2P2/3RR3 b - -):\n",
       " -  -  -  -  -  -  r  - \n",
       " -  b  -  r  -  p  p  - \n",
       " p  -  p  P  k  -  -  p \n",
       " -  -  -  -  p  -  -  n \n",
       " P  -  -  -  -  P  K  - \n",
       " -  -  P  -  -  -  -  P \n",
       " -  -  B  -  -  P  -  - \n",
       " -  -  -  R  R  -  -  - "
      ]
     },
     "metadata": {},
     "output_type": "display_data"
    },
    {
     "name": "stdout",
     "output_type": "stream",
     "text": [
      "Evaluation of engine: -335.0\n",
      "Current board score: -390\n",
      "Current entries in Cache: 2672\n",
      "Cleared Cache with 2672\n",
      "  1.862240 seconds (6.78 M allocations: 373.791 MiB, 3.05% gc time)\n",
      "Inkremental score is -430 but should be -370\n"
     ]
    },
    {
     "data": {
      "text/html": [
       "Board:<div class=\"chessboard\"><style soped=\"true\">.dark-square {\n",
       "    fill: #c3936a;\n",
       "    stroke-width: 0;\n",
       "}\n",
       ".light-square {\n",
       "    fill: #ffd7a6;\n",
       "    stroke-width: 0;\n",
       "}\n",
       ".highlight {\n",
       "    fill: #47d18b;\n",
       "}\n",
       "@media (prefers-color-scheme: dark) {\n",
       "    .dark-square {\n",
       "        fill: #00796b;\n",
       "    }\n",
       "    .light-square {\n",
       "        fill: #3ca59b;\n",
       "    }\n",
       "    .highlight {\n",
       "        fill: #d23600;\n",
       "    }\n",
       "}\n",
       "</style><svg style=\"float: left; margin-right: 20px\" viewBox=\"0 0 8 8\" height=\"280\" width=\"280\"><g><g><rect x=\"0\" y=\"0\" class=\"light-square\" height=\"1\" width=\"1\"></rect><g></g></g><g><rect x=\"0\" y=\"1\" class=\"dark-square\" height=\"1\" width=\"1\"></rect><g></g></g><g><rect x=\"0\" y=\"2\" class=\"light-square\" height=\"1\" width=\"1\"></rect><image x=\"0\" xlink:href=\"https://raw.githubusercontent.com/romstad/Chess.jl/master/img/bp.svg\" y=\"2\" height=\"1\" width=\"1\"></image></g><g><rect x=\"0\" y=\"3\" class=\"dark-square\" height=\"1\" width=\"1\"></rect><g></g></g><g><rect x=\"0\" y=\"4\" class=\"light-square\" height=\"1\" width=\"1\"></rect><image x=\"0\" xlink:href=\"https://raw.githubusercontent.com/romstad/Chess.jl/master/img/wp.svg\" y=\"4\" height=\"1\" width=\"1\"></image></g><g><rect x=\"0\" y=\"5\" class=\"dark-square\" height=\"1\" width=\"1\"></rect><g></g></g><g><rect x=\"0\" y=\"6\" class=\"light-square\" height=\"1\" width=\"1\"></rect><g></g></g><g><rect x=\"0\" y=\"7\" class=\"dark-square\" height=\"1\" width=\"1\"></rect><g></g></g><g><rect x=\"1\" y=\"0\" class=\"dark-square\" height=\"1\" width=\"1\"></rect><g></g></g><g><rect x=\"1\" y=\"1\" class=\"light-square\" height=\"1\" width=\"1\"></rect><image x=\"1\" xlink:href=\"https://raw.githubusercontent.com/romstad/Chess.jl/master/img/bb.svg\" y=\"1\" height=\"1\" width=\"1\"></image></g><g><rect x=\"1\" y=\"2\" class=\"dark-square\" height=\"1\" width=\"1\"></rect><g></g></g><g><rect x=\"1\" y=\"3\" class=\"light-square\" height=\"1\" width=\"1\"></rect><g></g></g><g><rect x=\"1\" y=\"4\" class=\"dark-square\" height=\"1\" width=\"1\"></rect><g></g></g><g><rect x=\"1\" y=\"5\" class=\"light-square\" height=\"1\" width=\"1\"></rect><g></g></g><g><rect x=\"1\" y=\"6\" class=\"dark-square\" height=\"1\" width=\"1\"></rect><g></g></g><g><rect x=\"1\" y=\"7\" class=\"light-square\" height=\"1\" width=\"1\"></rect><g></g></g><g><rect x=\"2\" y=\"0\" class=\"light-square\" height=\"1\" width=\"1\"></rect><g></g></g><g><rect x=\"2\" y=\"1\" class=\"dark-square\" height=\"1\" width=\"1\"></rect><g></g></g><g><rect x=\"2\" y=\"2\" class=\"light-square\" height=\"1\" width=\"1\"></rect><image x=\"2\" xlink:href=\"https://raw.githubusercontent.com/romstad/Chess.jl/master/img/bp.svg\" y=\"2\" height=\"1\" width=\"1\"></image></g><g><rect x=\"2\" y=\"3\" class=\"dark-square\" height=\"1\" width=\"1\"></rect><g></g></g><g><rect x=\"2\" y=\"4\" class=\"light-square\" height=\"1\" width=\"1\"></rect><g></g></g><g><rect x=\"2\" y=\"5\" class=\"dark-square\" height=\"1\" width=\"1\"></rect><image x=\"2\" xlink:href=\"https://raw.githubusercontent.com/romstad/Chess.jl/master/img/wp.svg\" y=\"5\" height=\"1\" width=\"1\"></image></g><g><rect x=\"2\" y=\"6\" class=\"light-square\" height=\"1\" width=\"1\"></rect><image x=\"2\" xlink:href=\"https://raw.githubusercontent.com/romstad/Chess.jl/master/img/wb.svg\" y=\"6\" height=\"1\" width=\"1\"></image></g><g><rect x=\"2\" y=\"7\" class=\"dark-square\" height=\"1\" width=\"1\"></rect><g></g></g><g><rect x=\"3\" y=\"0\" class=\"dark-square\" height=\"1\" width=\"1\"></rect><g></g></g><g><rect x=\"3\" y=\"1\" class=\"light-square\" height=\"1\" width=\"1\"></rect><image x=\"3\" xlink:href=\"https://raw.githubusercontent.com/romstad/Chess.jl/master/img/br.svg\" y=\"1\" height=\"1\" width=\"1\"></image></g><g><rect x=\"3\" y=\"2\" class=\"dark-square\" height=\"1\" width=\"1\"></rect><image x=\"3\" xlink:href=\"https://raw.githubusercontent.com/romstad/Chess.jl/master/img/wp.svg\" y=\"2\" height=\"1\" width=\"1\"></image></g><g><rect x=\"3\" y=\"3\" class=\"light-square\" height=\"1\" width=\"1\"></rect><g></g></g><g><rect x=\"3\" y=\"4\" class=\"dark-square\" height=\"1\" width=\"1\"></rect><g></g></g><g><rect x=\"3\" y=\"5\" class=\"light-square\" height=\"1\" width=\"1\"></rect><g></g></g><g><rect x=\"3\" y=\"6\" class=\"dark-square\" height=\"1\" width=\"1\"></rect><g></g></g><g><rect x=\"3\" y=\"7\" class=\"light-square\" height=\"1\" width=\"1\"></rect><image x=\"3\" xlink:href=\"https://raw.githubusercontent.com/romstad/Chess.jl/master/img/wr.svg\" y=\"7\" height=\"1\" width=\"1\"></image></g><g><rect x=\"4\" y=\"0\" class=\"light-square\" height=\"1\" width=\"1\"></rect><g></g></g><g><rect x=\"4\" y=\"1\" class=\"dark-square\" height=\"1\" width=\"1\"></rect><g></g></g><g><rect x=\"4\" y=\"2\" class=\"light-square\" height=\"1\" width=\"1\"></rect><image x=\"4\" xlink:href=\"https://raw.githubusercontent.com/romstad/Chess.jl/master/img/bk.svg\" y=\"2\" height=\"1\" width=\"1\"></image></g><g><rect x=\"4\" y=\"3\" class=\"dark-square\" height=\"1\" width=\"1\"></rect><image x=\"4\" xlink:href=\"https://raw.githubusercontent.com/romstad/Chess.jl/master/img/bp.svg\" y=\"3\" height=\"1\" width=\"1\"></image></g><g><rect x=\"4\" y=\"4\" class=\"light-square\" height=\"1\" width=\"1\"></rect><g></g></g><g><rect x=\"4\" y=\"5\" class=\"dark-square\" height=\"1\" width=\"1\"></rect><g></g></g><g><rect x=\"4\" y=\"6\" class=\"light-square\" height=\"1\" width=\"1\"></rect><g></g></g><g><rect x=\"4\" y=\"7\" class=\"dark-square\" height=\"1\" width=\"1\"></rect><image x=\"4\" xlink:href=\"https://raw.githubusercontent.com/romstad/Chess.jl/master/img/wr.svg\" y=\"7\" height=\"1\" width=\"1\"></image></g><g><rect x=\"5\" y=\"0\" class=\"dark-square\" height=\"1\" width=\"1\"></rect><g></g></g><g><rect x=\"5\" y=\"1\" class=\"light-square\" height=\"1\" width=\"1\"></rect><image x=\"5\" xlink:href=\"https://raw.githubusercontent.com/romstad/Chess.jl/master/img/bp.svg\" y=\"1\" height=\"1\" width=\"1\"></image></g><g><rect x=\"5\" y=\"2\" class=\"dark-square\" height=\"1\" width=\"1\"></rect><image x=\"5\" xlink:href=\"https://raw.githubusercontent.com/romstad/Chess.jl/master/img/bn.svg\" y=\"2\" height=\"1\" width=\"1\"></image></g><g><rect x=\"5\" y=\"3\" class=\"light-square\" height=\"1\" width=\"1\"></rect><g></g></g><g><rect x=\"5\" y=\"4\" class=\"dark-square\" height=\"1\" width=\"1\"></rect><image x=\"5\" xlink:href=\"https://raw.githubusercontent.com/romstad/Chess.jl/master/img/wp.svg\" y=\"4\" height=\"1\" width=\"1\"></image></g><g><rect x=\"5\" y=\"5\" class=\"light-square\" height=\"1\" width=\"1\"></rect><g></g></g><g><rect x=\"5\" y=\"6\" class=\"dark-square\" height=\"1\" width=\"1\"></rect><image x=\"5\" xlink:href=\"https://raw.githubusercontent.com/romstad/Chess.jl/master/img/wp.svg\" y=\"6\" height=\"1\" width=\"1\"></image></g><g><rect x=\"5\" y=\"7\" class=\"light-square\" height=\"1\" width=\"1\"></rect><g></g></g><g><rect x=\"6\" y=\"0\" class=\"light-square\" height=\"1\" width=\"1\"></rect><image x=\"6\" xlink:href=\"https://raw.githubusercontent.com/romstad/Chess.jl/master/img/br.svg\" y=\"0\" height=\"1\" width=\"1\"></image></g><g><rect x=\"6\" y=\"1\" class=\"dark-square\" height=\"1\" width=\"1\"></rect><image x=\"6\" xlink:href=\"https://raw.githubusercontent.com/romstad/Chess.jl/master/img/bp.svg\" y=\"1\" height=\"1\" width=\"1\"></image></g><g><rect x=\"6\" y=\"2\" class=\"light-square\" height=\"1\" width=\"1\"></rect><g></g></g><g><rect x=\"6\" y=\"3\" class=\"dark-square\" height=\"1\" width=\"1\"></rect><g></g></g><g><rect x=\"6\" y=\"4\" class=\"light-square\" height=\"1\" width=\"1\"></rect><image x=\"6\" xlink:href=\"https://raw.githubusercontent.com/romstad/Chess.jl/master/img/wk.svg\" y=\"4\" height=\"1\" width=\"1\"></image></g><g><rect x=\"6\" y=\"5\" class=\"dark-square\" height=\"1\" width=\"1\"></rect><g></g></g><g><rect x=\"6\" y=\"6\" class=\"light-square\" height=\"1\" width=\"1\"></rect><g></g></g><g><rect x=\"6\" y=\"7\" class=\"dark-square\" height=\"1\" width=\"1\"></rect><g></g></g><g><rect x=\"7\" y=\"0\" class=\"dark-square\" height=\"1\" width=\"1\"></rect><g></g></g><g><rect x=\"7\" y=\"1\" class=\"light-square\" height=\"1\" width=\"1\"></rect><g></g></g><g><rect x=\"7\" y=\"2\" class=\"dark-square\" height=\"1\" width=\"1\"></rect><image x=\"7\" xlink:href=\"https://raw.githubusercontent.com/romstad/Chess.jl/master/img/bp.svg\" y=\"2\" height=\"1\" width=\"1\"></image></g><g><rect x=\"7\" y=\"3\" class=\"light-square\" height=\"1\" width=\"1\"></rect><g></g></g><g><rect x=\"7\" y=\"4\" class=\"dark-square\" height=\"1\" width=\"1\"></rect><g></g></g><g><rect x=\"7\" y=\"5\" class=\"light-square\" height=\"1\" width=\"1\"></rect><image x=\"7\" xlink:href=\"https://raw.githubusercontent.com/romstad/Chess.jl/master/img/wp.svg\" y=\"5\" height=\"1\" width=\"1\"></image></g><g><rect x=\"7\" y=\"6\" class=\"dark-square\" height=\"1\" width=\"1\"></rect><g></g></g><g><rect x=\"7\" y=\"7\" class=\"light-square\" height=\"1\" width=\"1\"></rect><g></g></g></g><g></g></svg><div><p>White to move</p><p><a href=\"https://lichess.org/editor/6r1/1b1r1pp1/p1pPkn1p/4p3/P4PK1/2P4P/2B2P2/3RR3_w_-_-\" target=\"_blank\">Open in lichess</a></p></div></div>"
      ],
      "text/plain": [
       "Board (6r1/1b1r1pp1/p1pPkn1p/4p3/P4PK1/2P4P/2B2P2/3RR3 w - -):\n",
       " -  -  -  -  -  -  r  - \n",
       " -  b  -  r  -  p  p  - \n",
       " p  -  p  P  k  n  -  p \n",
       " -  -  -  -  p  -  -  - \n",
       " P  -  -  -  -  P  K  - \n",
       " -  -  P  -  -  -  -  P \n",
       " -  -  B  -  -  P  -  - \n",
       " -  -  -  R  R  -  -  - "
      ]
     },
     "metadata": {},
     "output_type": "display_data"
    },
    {
     "name": "stdout",
     "output_type": "stream",
     "text": [
      "Make a move. Type 'resign' to resign from the match\n",
      "stdin> g4g3\n",
      "Cleared Cache with 0\n",
      "Inkremental score is -430 but should be -370\n"
     ]
    },
    {
     "data": {
      "text/html": [
       "Board:<div class=\"chessboard\"><style soped=\"true\">.dark-square {\n",
       "    fill: #c3936a;\n",
       "    stroke-width: 0;\n",
       "}\n",
       ".light-square {\n",
       "    fill: #ffd7a6;\n",
       "    stroke-width: 0;\n",
       "}\n",
       ".highlight {\n",
       "    fill: #47d18b;\n",
       "}\n",
       "@media (prefers-color-scheme: dark) {\n",
       "    .dark-square {\n",
       "        fill: #00796b;\n",
       "    }\n",
       "    .light-square {\n",
       "        fill: #3ca59b;\n",
       "    }\n",
       "    .highlight {\n",
       "        fill: #d23600;\n",
       "    }\n",
       "}\n",
       "</style><svg style=\"float: left; margin-right: 20px\" viewBox=\"0 0 8 8\" height=\"280\" width=\"280\"><g><g><rect x=\"0\" y=\"0\" class=\"light-square\" height=\"1\" width=\"1\"></rect><g></g></g><g><rect x=\"0\" y=\"1\" class=\"dark-square\" height=\"1\" width=\"1\"></rect><g></g></g><g><rect x=\"0\" y=\"2\" class=\"light-square\" height=\"1\" width=\"1\"></rect><image x=\"0\" xlink:href=\"https://raw.githubusercontent.com/romstad/Chess.jl/master/img/bp.svg\" y=\"2\" height=\"1\" width=\"1\"></image></g><g><rect x=\"0\" y=\"3\" class=\"dark-square\" height=\"1\" width=\"1\"></rect><g></g></g><g><rect x=\"0\" y=\"4\" class=\"light-square\" height=\"1\" width=\"1\"></rect><image x=\"0\" xlink:href=\"https://raw.githubusercontent.com/romstad/Chess.jl/master/img/wp.svg\" y=\"4\" height=\"1\" width=\"1\"></image></g><g><rect x=\"0\" y=\"5\" class=\"dark-square\" height=\"1\" width=\"1\"></rect><g></g></g><g><rect x=\"0\" y=\"6\" class=\"light-square\" height=\"1\" width=\"1\"></rect><g></g></g><g><rect x=\"0\" y=\"7\" class=\"dark-square\" height=\"1\" width=\"1\"></rect><g></g></g><g><rect x=\"1\" y=\"0\" class=\"dark-square\" height=\"1\" width=\"1\"></rect><g></g></g><g><rect x=\"1\" y=\"1\" class=\"light-square\" height=\"1\" width=\"1\"></rect><image x=\"1\" xlink:href=\"https://raw.githubusercontent.com/romstad/Chess.jl/master/img/bb.svg\" y=\"1\" height=\"1\" width=\"1\"></image></g><g><rect x=\"1\" y=\"2\" class=\"dark-square\" height=\"1\" width=\"1\"></rect><g></g></g><g><rect x=\"1\" y=\"3\" class=\"light-square\" height=\"1\" width=\"1\"></rect><g></g></g><g><rect x=\"1\" y=\"4\" class=\"dark-square\" height=\"1\" width=\"1\"></rect><g></g></g><g><rect x=\"1\" y=\"5\" class=\"light-square\" height=\"1\" width=\"1\"></rect><g></g></g><g><rect x=\"1\" y=\"6\" class=\"dark-square\" height=\"1\" width=\"1\"></rect><g></g></g><g><rect x=\"1\" y=\"7\" class=\"light-square\" height=\"1\" width=\"1\"></rect><g></g></g><g><rect x=\"2\" y=\"0\" class=\"light-square\" height=\"1\" width=\"1\"></rect><g></g></g><g><rect x=\"2\" y=\"1\" class=\"dark-square\" height=\"1\" width=\"1\"></rect><g></g></g><g><rect x=\"2\" y=\"2\" class=\"light-square\" height=\"1\" width=\"1\"></rect><image x=\"2\" xlink:href=\"https://raw.githubusercontent.com/romstad/Chess.jl/master/img/bp.svg\" y=\"2\" height=\"1\" width=\"1\"></image></g><g><rect x=\"2\" y=\"3\" class=\"dark-square\" height=\"1\" width=\"1\"></rect><g></g></g><g><rect x=\"2\" y=\"4\" class=\"light-square\" height=\"1\" width=\"1\"></rect><g></g></g><g><rect x=\"2\" y=\"5\" class=\"dark-square\" height=\"1\" width=\"1\"></rect><image x=\"2\" xlink:href=\"https://raw.githubusercontent.com/romstad/Chess.jl/master/img/wp.svg\" y=\"5\" height=\"1\" width=\"1\"></image></g><g><rect x=\"2\" y=\"6\" class=\"light-square\" height=\"1\" width=\"1\"></rect><image x=\"2\" xlink:href=\"https://raw.githubusercontent.com/romstad/Chess.jl/master/img/wb.svg\" y=\"6\" height=\"1\" width=\"1\"></image></g><g><rect x=\"2\" y=\"7\" class=\"dark-square\" height=\"1\" width=\"1\"></rect><g></g></g><g><rect x=\"3\" y=\"0\" class=\"dark-square\" height=\"1\" width=\"1\"></rect><g></g></g><g><rect x=\"3\" y=\"1\" class=\"light-square\" height=\"1\" width=\"1\"></rect><image x=\"3\" xlink:href=\"https://raw.githubusercontent.com/romstad/Chess.jl/master/img/br.svg\" y=\"1\" height=\"1\" width=\"1\"></image></g><g><rect x=\"3\" y=\"2\" class=\"dark-square\" height=\"1\" width=\"1\"></rect><image x=\"3\" xlink:href=\"https://raw.githubusercontent.com/romstad/Chess.jl/master/img/wp.svg\" y=\"2\" height=\"1\" width=\"1\"></image></g><g><rect x=\"3\" y=\"3\" class=\"light-square\" height=\"1\" width=\"1\"></rect><g></g></g><g><rect x=\"3\" y=\"4\" class=\"dark-square\" height=\"1\" width=\"1\"></rect><g></g></g><g><rect x=\"3\" y=\"5\" class=\"light-square\" height=\"1\" width=\"1\"></rect><g></g></g><g><rect x=\"3\" y=\"6\" class=\"dark-square\" height=\"1\" width=\"1\"></rect><g></g></g><g><rect x=\"3\" y=\"7\" class=\"light-square\" height=\"1\" width=\"1\"></rect><image x=\"3\" xlink:href=\"https://raw.githubusercontent.com/romstad/Chess.jl/master/img/wr.svg\" y=\"7\" height=\"1\" width=\"1\"></image></g><g><rect x=\"4\" y=\"0\" class=\"light-square\" height=\"1\" width=\"1\"></rect><g></g></g><g><rect x=\"4\" y=\"1\" class=\"dark-square\" height=\"1\" width=\"1\"></rect><g></g></g><g><rect x=\"4\" y=\"2\" class=\"light-square\" height=\"1\" width=\"1\"></rect><image x=\"4\" xlink:href=\"https://raw.githubusercontent.com/romstad/Chess.jl/master/img/bk.svg\" y=\"2\" height=\"1\" width=\"1\"></image></g><g><rect x=\"4\" y=\"3\" class=\"dark-square\" height=\"1\" width=\"1\"></rect><image x=\"4\" xlink:href=\"https://raw.githubusercontent.com/romstad/Chess.jl/master/img/bp.svg\" y=\"3\" height=\"1\" width=\"1\"></image></g><g><rect x=\"4\" y=\"4\" class=\"light-square\" height=\"1\" width=\"1\"></rect><g></g></g><g><rect x=\"4\" y=\"5\" class=\"dark-square\" height=\"1\" width=\"1\"></rect><g></g></g><g><rect x=\"4\" y=\"6\" class=\"light-square\" height=\"1\" width=\"1\"></rect><g></g></g><g><rect x=\"4\" y=\"7\" class=\"dark-square\" height=\"1\" width=\"1\"></rect><image x=\"4\" xlink:href=\"https://raw.githubusercontent.com/romstad/Chess.jl/master/img/wr.svg\" y=\"7\" height=\"1\" width=\"1\"></image></g><g><rect x=\"5\" y=\"0\" class=\"dark-square\" height=\"1\" width=\"1\"></rect><g></g></g><g><rect x=\"5\" y=\"1\" class=\"light-square\" height=\"1\" width=\"1\"></rect><image x=\"5\" xlink:href=\"https://raw.githubusercontent.com/romstad/Chess.jl/master/img/bp.svg\" y=\"1\" height=\"1\" width=\"1\"></image></g><g><rect x=\"5\" y=\"2\" class=\"dark-square\" height=\"1\" width=\"1\"></rect><image x=\"5\" xlink:href=\"https://raw.githubusercontent.com/romstad/Chess.jl/master/img/bn.svg\" y=\"2\" height=\"1\" width=\"1\"></image></g><g><rect x=\"5\" y=\"3\" class=\"light-square\" height=\"1\" width=\"1\"></rect><g></g></g><g><rect x=\"5\" y=\"4\" class=\"dark-square\" height=\"1\" width=\"1\"></rect><image x=\"5\" xlink:href=\"https://raw.githubusercontent.com/romstad/Chess.jl/master/img/wp.svg\" y=\"4\" height=\"1\" width=\"1\"></image></g><g><rect x=\"5\" y=\"5\" class=\"light-square\" height=\"1\" width=\"1\"></rect><g></g></g><g><rect x=\"5\" y=\"6\" class=\"dark-square\" height=\"1\" width=\"1\"></rect><image x=\"5\" xlink:href=\"https://raw.githubusercontent.com/romstad/Chess.jl/master/img/wp.svg\" y=\"6\" height=\"1\" width=\"1\"></image></g><g><rect x=\"5\" y=\"7\" class=\"light-square\" height=\"1\" width=\"1\"></rect><g></g></g><g><rect x=\"6\" y=\"0\" class=\"light-square\" height=\"1\" width=\"1\"></rect><image x=\"6\" xlink:href=\"https://raw.githubusercontent.com/romstad/Chess.jl/master/img/br.svg\" y=\"0\" height=\"1\" width=\"1\"></image></g><g><rect x=\"6\" y=\"1\" class=\"dark-square\" height=\"1\" width=\"1\"></rect><image x=\"6\" xlink:href=\"https://raw.githubusercontent.com/romstad/Chess.jl/master/img/bp.svg\" y=\"1\" height=\"1\" width=\"1\"></image></g><g><rect x=\"6\" y=\"2\" class=\"light-square\" height=\"1\" width=\"1\"></rect><g></g></g><g><rect x=\"6\" y=\"3\" class=\"dark-square\" height=\"1\" width=\"1\"></rect><g></g></g><g><rect x=\"6\" y=\"4\" class=\"light-square\" height=\"1\" width=\"1\"></rect><g></g></g><g><rect x=\"6\" y=\"5\" class=\"dark-square\" height=\"1\" width=\"1\"></rect><image x=\"6\" xlink:href=\"https://raw.githubusercontent.com/romstad/Chess.jl/master/img/wk.svg\" y=\"5\" height=\"1\" width=\"1\"></image></g><g><rect x=\"6\" y=\"6\" class=\"light-square\" height=\"1\" width=\"1\"></rect><g></g></g><g><rect x=\"6\" y=\"7\" class=\"dark-square\" height=\"1\" width=\"1\"></rect><g></g></g><g><rect x=\"7\" y=\"0\" class=\"dark-square\" height=\"1\" width=\"1\"></rect><g></g></g><g><rect x=\"7\" y=\"1\" class=\"light-square\" height=\"1\" width=\"1\"></rect><g></g></g><g><rect x=\"7\" y=\"2\" class=\"dark-square\" height=\"1\" width=\"1\"></rect><image x=\"7\" xlink:href=\"https://raw.githubusercontent.com/romstad/Chess.jl/master/img/bp.svg\" y=\"2\" height=\"1\" width=\"1\"></image></g><g><rect x=\"7\" y=\"3\" class=\"light-square\" height=\"1\" width=\"1\"></rect><g></g></g><g><rect x=\"7\" y=\"4\" class=\"dark-square\" height=\"1\" width=\"1\"></rect><g></g></g><g><rect x=\"7\" y=\"5\" class=\"light-square\" height=\"1\" width=\"1\"></rect><image x=\"7\" xlink:href=\"https://raw.githubusercontent.com/romstad/Chess.jl/master/img/wp.svg\" y=\"5\" height=\"1\" width=\"1\"></image></g><g><rect x=\"7\" y=\"6\" class=\"dark-square\" height=\"1\" width=\"1\"></rect><g></g></g><g><rect x=\"7\" y=\"7\" class=\"light-square\" height=\"1\" width=\"1\"></rect><g></g></g></g><g></g></svg><div><p>Black to move</p><p><a href=\"https://lichess.org/editor/6r1/1b1r1pp1/p1pPkn1p/4p3/P4P2/2P3KP/2B2P2/3RR3_b_-_-\" target=\"_blank\">Open in lichess</a></p></div></div>"
      ],
      "text/plain": [
       "Board (6r1/1b1r1pp1/p1pPkn1p/4p3/P4P2/2P3KP/2B2P2/3RR3 b - -):\n",
       " -  -  -  -  -  -  r  - \n",
       " -  b  -  r  -  p  p  - \n",
       " p  -  p  P  k  n  -  p \n",
       " -  -  -  -  p  -  -  - \n",
       " P  -  -  -  -  P  -  - \n",
       " -  -  P  -  -  -  K  P \n",
       " -  -  B  -  -  P  -  - \n",
       " -  -  -  R  R  -  -  - "
      ]
     },
     "metadata": {},
     "output_type": "display_data"
    },
    {
     "ename": "LoadError",
     "evalue": "UndefVarError: black not defined",
     "output_type": "error",
     "traceback": [
      "UndefVarError: black not defined",
      "",
      "Stacktrace:",
      " [1] setGameResult(game::Game, winner::String)",
      "   @ Main C:\\Users\\yiwen\\Documents\\GitHub\\ChessAIJulia\\Julia\\PGN_Export.ipynb:In[3]:2",
      " [2] setWin(game::Game)",
      "   @ Main .\\In[27]:14",
      " [3] playGame(debug::Bool)",
      "   @ Main .\\In[29]:86",
      " [4] top-level scope",
      "   @ In[30]:1",
      " [5] eval",
      "   @ .\\boot.jl:368 [inlined]",
      " [6] include_string(mapexpr::typeof(REPL.softscope), mod::Module, code::String, filename::String)",
      "   @ Base .\\loading.jl:1428"
     ]
    }
   ],
   "source": [
    "playGame(true)"
   ]
  },
  {
   "cell_type": "code",
   "execution_count": null,
   "metadata": {},
   "outputs": [],
   "source": []
  }
 ],
 "metadata": {
  "kernelspec": {
   "display_name": "Julia 1.8.2",
   "language": "julia",
   "name": "julia-1.8"
  },
  "language_info": {
   "file_extension": ".jl",
   "mimetype": "application/julia",
   "name": "julia",
   "version": "1.8.2"
  }
 },
 "nbformat": 4,
 "nbformat_minor": 4
}
