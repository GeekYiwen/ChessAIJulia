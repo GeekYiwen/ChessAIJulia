{
 "cells": [
  {
   "cell_type": "code",
   "execution_count": null,
   "metadata": {
    "scrolled": false
   },
   "outputs": [],
   "source": [
    "HTML(read(open(\"style.css\"), String))"
   ]
  },
  {
   "cell_type": "markdown",
   "metadata": {},
   "source": [
    "# Play a Chess Game"
   ]
  },
  {
   "cell_type": "code",
   "execution_count": null,
   "metadata": {
    "scrolled": false
   },
   "outputs": [],
   "source": [
    "using Pkg\n",
    "# Pkg.add(\"Chess\")\n",
    "using Chess\n",
    "using Random\n",
    "# Pkg.add(\"NBInclude\")\n",
    "using NBInclude"
   ]
  },
  {
   "cell_type": "markdown",
   "metadata": {},
   "source": [
    "## Import Notebooks"
   ]
  },
  {
   "cell_type": "markdown",
   "metadata": {},
   "source": [
    "### Engines"
   ]
  },
  {
   "cell_type": "code",
   "execution_count": null,
   "metadata": {
    "scrolled": false
   },
   "outputs": [],
   "source": [
    "# @nbinclude(\"RandomChess.ipynb\")"
   ]
  },
  {
   "cell_type": "code",
   "execution_count": null,
   "metadata": {
    "scrolled": false
   },
   "outputs": [],
   "source": [
    "# @nbinclude(\"Minimax.ipynb\")"
   ]
  },
  {
   "cell_type": "code",
   "execution_count": null,
   "metadata": {
    "scrolled": false
   },
   "outputs": [],
   "source": [
    "# @nbinclude(\"AlphaBetaPruning.ipynb\")"
   ]
  },
  {
   "cell_type": "code",
   "execution_count": null,
   "metadata": {
    "scrolled": false
   },
   "outputs": [],
   "source": [
    "@nbinclude(\"IterativeDeepening.ipynb\")"
   ]
  },
  {
   "cell_type": "markdown",
   "metadata": {},
   "source": [
    "### Utility"
   ]
  },
  {
   "cell_type": "code",
   "execution_count": null,
   "metadata": {
    "scrolled": false
   },
   "outputs": [],
   "source": [
    "@nbinclude(\"PGN_Export.ipynb\")"
   ]
  },
  {
   "cell_type": "code",
   "execution_count": null,
   "metadata": {
    "scrolled": false
   },
   "outputs": [],
   "source": [
    "@nbinclude(\"PGN_Import.ipynb\")"
   ]
  },
  {
   "cell_type": "code",
   "execution_count": null,
   "metadata": {
    "scrolled": false
   },
   "outputs": [],
   "source": [
    "# @nbinclude(\"EvaluatePosition.ipynb\")"
   ]
  },
  {
   "cell_type": "code",
   "execution_count": null,
   "metadata": {
    "scrolled": false
   },
   "outputs": [],
   "source": [
    "@nbinclude(\"Utility.ipynb\")"
   ]
  },
  {
   "cell_type": "markdown",
   "metadata": {},
   "source": [
    "The function `playMove` is a helping function for the main `playGame` function and takes in the played game and it's current static evaluation. It applies an engine move to the game and information about the current evaluation of the engine, the static evaluation and the length of the cache. The function returns the new static evaluation as `current_boardscore` of the board after applying the engine move.\n",
    "\n",
    "Possible engines are the `Random move chooser`, `Minimax Algorithm`, `Alpha-Beta-Pruning Algorithm` and `Iterative Deepening Algorithm`."
   ]
  },
  {
   "cell_type": "code",
   "execution_count": null,
   "metadata": {
    "scrolled": false
   },
   "outputs": [],
   "source": [
    "function playMove(game::Game, aBoard::AdvBoard, cache::Dict{UInt64, Tuple{String, Int64, Int64}})\n",
    "    starttime = time()\n",
    "    #---------------------- Setup Engine ----------------------------\n",
    "    # RANDOM ENGINE\n",
    "    # eval, move = 0, generateRandomMove(game)\n",
    "    \n",
    "    # MINIMAX ENGINE\n",
    "    # eval, move = minimax(board(game), currentcurrent_boardscorescore, 4, cache)\n",
    "\n",
    "    # ALPHA BETA PRUNING ENGINE\n",
    "    # eval, move = alphaBetaPruning(board(game), current_boardscore, 4, cache)\n",
    "\n",
    "    # ITERATIVE DEEPENING ENGINE\n",
    "    eval, move = iterativeDeepening(aBoard, 5, cache, true, 1.0, true)\n",
    "\n",
    "    #----------------------------------------------------------------\n",
    "    \n",
    "    println(\"The Engine needs to be calculated the bestmove: $(time() - starttime) seconds\")\n",
    "    println(\"Current board score: $(aBoard.score)\")\n",
    "    println(\"Evaluation of engine: $eval\")\n",
    "    println(\"Current entries in Cache: $(length(cache))\")\n",
    "    println(\"Computer play: $move\")\n",
    "    clearCache(aBoard, move, cache)\n",
    "    domove!(game, move)\n",
    "    domoveAdv!(aBoard, move)\n",
    "    cleanCacheBecauseRep!(aBoard, cache)\n",
    "    return aBoard\n",
    "end"
   ]
  },
  {
   "cell_type": "markdown",
   "metadata": {},
   "source": [
    "## Main function"
   ]
  },
  {
   "cell_type": "markdown",
   "metadata": {},
   "source": [
    "The function `playGame()` allows a user to play a chess game. The AI is set via the `playMove(game)` function. After the game is finished (checkmate or draw) the game is saved as a PGN-file and saved in the /Games directory.\n",
    "\n",
    "The function asks the user to input their name and what color they want to play as at the beginning. After that the player and the engine take alternate moves playing a chess game. \n",
    "\n",
    "Moves are inputted as strings which contain the pieces current location and the pieces end location. For example playing `1. e4` as white requires the string `e2e4` as input.\n",
    "\n",
    "To resign the user can type `resign` as his move."
   ]
  },
  {
   "cell_type": "code",
   "execution_count": null,
   "metadata": {
    "scrolled": true
   },
   "outputs": [],
   "source": [
    "function playGame(pgnFile=nothing)\n",
    "    # Setup Board\n",
    "    if pgnFile == nothing\n",
    "        # new Game\n",
    "        println(\"Initializing new Game...\")\n",
    "        game = Game()\n",
    "        setGameHeaders(game)\n",
    "    else\n",
    "        # continue saved game\n",
    "        println(\"Opening $(pgnFile) ...\")\n",
    "        game = openPGNtoGame(pgnFile)\n",
    "        if game == nothing\n",
    "            println(\"No such file found\")\n",
    "            return\n",
    "        end\n",
    "        toend!(game)\n",
    "        println(game)\n",
    "    end\n",
    "    \n",
    "    aBoard = AdvBoard(board(deepcopy(game)))\n",
    "    result = \"\"\n",
    "    \n",
    "  \n",
    "    println(\"What's your name?\")\n",
    "    username = readline()\n",
    "    \n",
    "    println(\"Do you want to play as 'white' or 'black'?\")\n",
    "    color = readline()\n",
    "    color = lowercase(color)\n",
    "    # Offset move if player is black\n",
    "    cache = initCache()\n",
    "    if color != \"black\" && color != \"white\"\n",
    "        print(\"Invalid color. Choose white or black\")   \n",
    "        return\n",
    "    elseif color  == \"black\"\n",
    "        setheadervalue!(game, \"Black\", username)\n",
    "        aBoard = playMove(game, aBoard, cache)\n",
    "        printGame(game)\n",
    "    elseif color == \"white\"\n",
    "        setheadervalue!(game, \"White\", username)\n",
    "    end\n",
    "    while true\n",
    "        # User Move\n",
    "        if !isterminal(game)\n",
    "            println(\"Make a move. Other actions: 'resign' or 'pause'\")\n",
    "            userInput = readline()\n",
    "            # Special user input handler\n",
    "            if(userInput == \"resign\")\n",
    "                println(\"You resigned the game. The engine wins.\")\n",
    "                result = string(sidetomove(board(game)))\n",
    "                break\n",
    "            elseif(userInput == \"pause\")\n",
    "                println(\"Saving game to resume later\")\n",
    "                saveGameToPGN(game)\n",
    "                return game\n",
    "            end\n",
    "            \n",
    "            userMove = movefromstring(userInput)\n",
    "            if(userMove == nothing)\n",
    "                println(\"Invalid User Input. Please use the format [source] [destination]. Example(e2e4)\")\n",
    "                continue\n",
    "            end\n",
    "            if(!is_legal_move(game, userMove))\n",
    "                println(\"Invalid Chess move. Please make a other move.\")\n",
    "                continue\n",
    "            else\n",
    "                clearCache(aBoard, userMove, cache)\n",
    "                domove!(game, userMove)\n",
    "                domoveAdv!(aBoard, userMove)\n",
    "                # cleanCacheBecauseRep!(aBoard, cache)\n",
    "            end\n",
    "            printGame(game)\n",
    "        else\n",
    "            break\n",
    "        end\n",
    "        \n",
    "        # Engine Move\n",
    "        if !isterminal(game)\n",
    "            aBoard = playMove(game, aBoard, cache)\n",
    "            printGame(game)\n",
    "        else\n",
    "            break\n",
    "        end\n",
    "    end\n",
    "    setWin(game, result)\n",
    "    println(game)\n",
    "    saveGameToPGN(game)\n",
    "    return game\n",
    "end"
   ]
  },
  {
   "cell_type": "code",
   "execution_count": null,
   "metadata": {
    "scrolled": false
   },
   "outputs": [],
   "source": [
    "playGame()"
   ]
  },
  {
   "cell_type": "code",
   "execution_count": null,
   "metadata": {},
   "outputs": [],
   "source": []
  }
 ],
 "metadata": {
  "kernelspec": {
   "display_name": "Julia 1.8.2",
   "language": "julia",
   "name": "julia-1.8"
  },
  "language_info": {
   "file_extension": ".jl",
   "mimetype": "application/julia",
   "name": "julia",
   "version": "1.8.2"
  }
 },
 "nbformat": 4,
 "nbformat_minor": 4
}
