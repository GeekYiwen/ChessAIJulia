{
 "cells": [
  {
   "cell_type": "code",
   "execution_count": 1,
   "metadata": {},
   "outputs": [
    {
     "data": {
      "text/html": [
       "<link href='http://fonts.googleapis.com/css?family=Alegreya+Sans:100,300,400,500,700,800,900,100italic,300italic,400italic,500italic,700italic,800italic,900italic' rel='stylesheet' type='text/css'>\r\n",
       "<link href='http://fonts.googleapis.com/css?family=Arvo:400,700,400italic' rel='stylesheet' type='text/css'>\r\n",
       "<link href='http://fonts.googleapis.com/css?family=PT+Mono' rel='stylesheet' type='text/css'>\r\n",
       "<link href='http://fonts.googleapis.com/css?family=Shadows+Into+Light' rel='stylesheet' type='text/css'>\r\n",
       "<link href='http://fonts.googleapis.com/css?family=Philosopher:400,700,400italic,700italic' rel='stylesheet' type='text/css'>\r\n",
       "\r\n",
       "<style>\r\n",
       "\r\n",
       "@font-face {\r\n",
       "    font-family: \"Computer Modern\";\r\n",
       "    src: url('http://mirrors.ctan.org/fonts/cm-unicode/fonts/otf/cmunss.otf');\r\n",
       "}\r\n",
       "\r\n",
       ".container { width: 100% }\r\n",
       "\r\n",
       "/* Formatting for header cells */\r\n",
       ".text_cell_render h1 {\r\n",
       "    font-family: 'Philosopher', sans-serif;\r\n",
       "    font-weight: 400;\r\n",
       "    font-size: 2.2em;\r\n",
       "    line-height: 100%;\r\n",
       "    color: rgb(0, 80, 120);\r\n",
       "    margin-bottom: 0.1em;\r\n",
       "    margin-top: 0.1em;\r\n",
       "    display: block;\r\n",
       "}\t\r\n",
       ".text_cell_render h2 {\r\n",
       "    font-family: 'Philosopher', serif;\r\n",
       "    font-weight: 400;\r\n",
       "    font-size: 1.9em;\r\n",
       "    line-height: 100%;\r\n",
       "    color: rgb(200,100,0);\r\n",
       "    margin-bottom: 0.1em;\r\n",
       "    margin-top: 0.1em;\r\n",
       "    display: block;\r\n",
       "}\t\r\n",
       "\r\n",
       ".text_cell_render h3 {\r\n",
       "    font-family: 'Philosopher', serif;\r\n",
       "    margin-top:12px;\r\n",
       "    margin-bottom: 3px;\r\n",
       "    font-style: italic;\r\n",
       "    color: rgb(94,127,192);\r\n",
       "}\r\n",
       "\r\n",
       ".text_cell_render h4 {\r\n",
       "    font-family: 'Philosopher', serif;\r\n",
       "}\r\n",
       "\r\n",
       ".text_cell_render h5 {\r\n",
       "    font-family: 'Alegreya Sans', sans-serif;\r\n",
       "    font-weight: 300;\r\n",
       "    font-size: 16pt;\r\n",
       "    color: grey;\r\n",
       "    font-style: italic;\r\n",
       "    margin-bottom: .1em;\r\n",
       "    margin-top: 0.1em;\r\n",
       "    display: block;\r\n",
       "}\r\n",
       "\r\n",
       ".text_cell_render h6 {\r\n",
       "    font-family: 'PT Mono', sans-serif;\r\n",
       "    font-weight: 300;\r\n",
       "    font-size: 10pt;\r\n",
       "    color: grey;\r\n",
       "    margin-bottom: 1px;\r\n",
       "    margin-top: 1px;\r\n",
       "}\r\n",
       "\r\n",
       ".text_cell_render em {\r\n",
       "    font-family: 'Philosopher', sans-serif;\r\n",
       "    color:        blue;\r\n",
       "    background-color: rgb(255,220,180);\r\n",
       "    font-size:    110%;\r\n",
       "    margin-left:   2px;\r\n",
       "    margin-right:  2px;\r\n",
       "    font-weight:   100;\r\n",
       "}\r\n",
       "\r\n",
       ".text_cell_render b {\r\n",
       "    color:            rgb(255,195,195);\r\n",
       "    background-color: rgb(0,0,0);\r\n",
       "    font-size:    110%;\r\n",
       "    margin-left:   2px;\r\n",
       "    margin-right:  2px;\r\n",
       "    font-weight:   650;\r\n",
       "}\r\n",
       "\r\n",
       ".text_cell_render tt {\r\n",
       "    font-size:    120%;\r\n",
       "    margin-left:   2px;\r\n",
       "    margin-right:  2px;\r\n",
       "    font-weight:   150;\r\n",
       "}\r\n",
       "\r\n",
       ".Codemirror {\r\n",
       "    font-family: \"PT Mono\";\r\n",
       "    font-size: 100%;\r\n",
       "}\r\n",
       "\r\n",
       "</style>\r\n",
       "\r\n"
      ],
      "text/plain": [
       "HTML{String}(\"<link href='http://fonts.googleapis.com/css?family=Alegreya+Sans:100,300,400,500,700,800,900,100italic,300italic,400italic,500italic,700italic,800italic,900italic' rel='stylesheet' type='text/css'>\\r\\n<link href='http://fonts.googleapis.com/css?family=Arvo:400,700,400italic' rel='stylesheet' type='text/css'>\\r\\n<link href='http://fonts.googleapis.com/css?family=PT+Mono' rel='stylesheet' type='text/css'>\\r\\n<link href='http://fonts.googleapis.com/css?family=Shadows+Into+Light' rel='stylesheet' type='text/css'>\\r\\n<link href='http://fonts.googleapis.com/css?family=Philosopher:400,700,400italic,700italic' rel='stylesheet' type='text/css'>\\r\\n\\r\\n<style>\\r\\n\\r\\n@font-face {\\r\\n    font-family: \\\"Computer Modern\\\";\\r\\n    src: url('http://mirrors.ctan.org/fonts/cm-unicode/fonts/otf/cmunss.otf');\\r\\n}\\r\\n\\r\\n.container { width: 100% }\\r\\n\\r\\n/* Formatting for header cells */\\r\\n.text_cell_render h1 {\\r\\n    font-family: 'Philosopher', sans-serif;\\r\\n    font-weight: 400;\\r\\n    font-size: 2.2em;\\r\\n    line-height: 100%;\\r\\n    color: rgb(0, 80, 120);\\r\\n    margin-bottom: 0.1em;\\r\\n    margin-top: 0.1em;\\r\\n    display: block;\\r\\n}\\t\\r\\n.text_cell_render h2 {\\r\\n    font-family: 'Philosopher', serif;\\r\\n    font-weight: 400;\\r\\n    font-size: 1.9em;\\r\\n    line-height: 100%;\\r\\n    color: rgb(200,100,0);\\r\\n    margin-bottom: 0.1em;\\r\\n    margin-top: 0.1em;\\r\\n    display: block;\\r\\n}\\t\\r\\n\\r\\n.text_cell_render h3 {\\r\\n    font-family: 'Philosopher', serif;\\r\\n    margin-top:12px;\\r\\n    margin-bottom: 3px;\\r\\n    font-style: italic;\\r\\n    color: rgb(94,127,192);\\r\\n}\\r\\n\\r\\n.text_cell_render h4 {\\r\\n    font-family: 'Philosopher', serif;\\r\\n}\\r\\n\\r\\n.text_cell_render h5 {\\r\\n    font-family: 'Alegreya Sans', sans-serif;\\r\\n    font-weight: 300;\\r\\n    font-size: 16pt;\\r\\n    color: grey;\\r\\n    font-style: italic;\\r\\n    margin-bottom: .1em;\\r\\n    margin-top: 0.1em;\\r\\n    display: block;\\r\\n}\\r\\n\\r\\n.text_cell_render h6 {\\r\\n    font-family: 'PT Mono', sans-serif;\\r\\n    font-weight: 300;\\r\\n    font-size: 10pt;\\r\\n    color: grey;\\r\\n    margin-bottom: 1px;\\r\\n    margin-top: 1px;\\r\\n}\\r\\n\\r\\n.text_cell_render em {\\r\\n    font-family: 'Philosopher', sans-serif;\\r\\n    color:        blue;\\r\\n    background-color: rgb(255,220,180);\\r\\n    font-size:    110%;\\r\\n    margin-left:   2px;\\r\\n    margin-right:  2px;\\r\\n    font-weight:   100;\\r\\n}\\r\\n\\r\\n.text_cell_render b {\\r\\n    color:            rgb(255,195,195);\\r\\n    background-color: rgb(0,0,0);\\r\\n    font-size:    110%;\\r\\n    margin-left:   2px;\\r\\n    margin-right:  2px;\\r\\n    font-weight:   650;\\r\\n}\\r\\n\\r\\n.text_cell_render tt {\\r\\n    font-size:    120%;\\r\\n    margin-left:   2px;\\r\\n    margin-right:  2px;\\r\\n    font-weight:   150;\\r\\n}\\r\\n\\r\\n.Codemirror {\\r\\n    font-family: \\\"PT Mono\\\";\\r\\n    font-size: 100%;\\r\\n}\\r\\n\\r\\n</style>\\r\\n\\r\\n\")"
      ]
     },
     "execution_count": 1,
     "metadata": {},
     "output_type": "execute_result"
    }
   ],
   "source": [
    "HTML(read(open(\"style.css\"), String))"
   ]
  },
  {
   "cell_type": "markdown",
   "metadata": {},
   "source": [
    "# Play a Chess Game"
   ]
  },
  {
   "cell_type": "code",
   "execution_count": 2,
   "metadata": {},
   "outputs": [],
   "source": [
    "using Pkg\n",
    "# Pkg.add(\"Chess\")\n",
    "using Chess\n",
    "using Random\n",
    "\n",
    "# Pkg.add(\"NBInclude\")\n",
    "using NBInclude"
   ]
  },
  {
   "cell_type": "code",
   "execution_count": 3,
   "metadata": {},
   "outputs": [
    {
     "data": {
      "text/plain": [
       "playMove (generic function with 1 method)"
      ]
     },
     "execution_count": 3,
     "metadata": {},
     "output_type": "execute_result"
    }
   ],
   "source": [
    "@nbinclude(\"Random Chess.ipynb\")"
   ]
  },
  {
   "cell_type": "markdown",
   "metadata": {},
   "source": [
    "`printGame` function prints the board to standard output. Settings can be set here. "
   ]
  },
  {
   "cell_type": "code",
   "execution_count": 4,
   "metadata": {},
   "outputs": [
    {
     "data": {
      "text/plain": [
       "printGame (generic function with 1 method)"
      ]
     },
     "execution_count": 4,
     "metadata": {},
     "output_type": "execute_result"
    }
   ],
   "source": [
    "function printGame(game)\n",
    "    pprint(board(game), color = true)\n",
    "end"
   ]
  },
  {
   "cell_type": "markdown",
   "metadata": {},
   "source": [
    "`printWin(game)` prints the result of the game as a text message."
   ]
  },
  {
   "cell_type": "code",
   "execution_count": 5,
   "metadata": {},
   "outputs": [
    {
     "data": {
      "text/plain": [
       "printWin (generic function with 1 method)"
      ]
     },
     "execution_count": 5,
     "metadata": {},
     "output_type": "execute_result"
    }
   ],
   "source": [
    "function printWin(game)\n",
    "    board = board(game)\n",
    "    if ischeckmate(board)\n",
    "        color = sidetomove(board)\n",
    "        color == \"WHITE\" ? color = \"BLACK\" : color = \"WHITE\"\n",
    "        print(color * \" wins by checkmate\" )\n",
    "    elseif isstalemate(board)\n",
    "        print(\"Stalemate\")\n",
    "    elseif ismaterialdraw(board)\n",
    "        print(\"Draw by insufficient material\")\n",
    "    elseif isrule50draw(board)\n",
    "        print(\"Draw by 50 move draw\")\n",
    "    end\n",
    "end"
   ]
  },
  {
   "cell_type": "code",
   "execution_count": 6,
   "metadata": {},
   "outputs": [
    {
     "data": {
      "text/plain": [
       "playGame (generic function with 1 method)"
      ]
     },
     "execution_count": 6,
     "metadata": {},
     "output_type": "execute_result"
    }
   ],
   "source": [
    "function playGame(color, seed)\n",
    "    Random.seed!(seed)\n",
    "    # validation\n",
    "    game = SimpleGame()\n",
    "    printGame(game)\n",
    "    \n",
    "    # Offset move if player is black\n",
    "    if color == \"black\"\n",
    "        playRandomMove(game)\n",
    "        printGame(game)\n",
    "    elseif color != \"white\"\n",
    "        print(\"Invalid color. Choose white or black\")   \n",
    "        return\n",
    "    end\n",
    "\n",
    "    while true\n",
    "        # User Move\n",
    "        if !isterminal(game)\n",
    "            userMove = readline()\n",
    "            domove!(game, userMove)\n",
    "            # IJulia.clear_output(true)\n",
    "            # sleep(1)\n",
    "            printGame(game)\n",
    "        else\n",
    "            break\n",
    "        end\n",
    "        \n",
    "        # Delay\n",
    "        sleep(1)\n",
    "        \n",
    "        # Engine Move\n",
    "        if !isterminal(game)\n",
    "            playRandomMove(game)\n",
    "            # IJulia.clear_output(true)\n",
    "            # sleep(1)\n",
    "            printGame(game)\n",
    "        else\n",
    "            break\n",
    "        end\n",
    "    end\n",
    "    printWin(game)\n",
    "    return game\n",
    "end"
   ]
  },
  {
   "cell_type": "code",
   "execution_count": 7,
   "metadata": {
    "collapsed": true
   },
   "outputs": [
    {
     "name": "stdout",
     "output_type": "stream",
     "text": [
      "\u001b[38;2;0;0;0;48;2;138;204;192m r \u001b[38;2;0;0;0;48;2;102;176;163m n \u001b[38;2;0;0;0;48;2;138;204;192m b \u001b[38;2;0;0;0;48;2;102;176;163m q \u001b[38;2;0;0;0;48;2;138;204;192m k \u001b[38;2;0;0;0;48;2;102;176;163m b \u001b[38;2;0;0;0;48;2;138;204;192m n \u001b[38;2;0;0;0;48;2;102;176;163m r \u001b[0m\n",
      "\u001b[38;2;0;0;0;48;2;102;176;163m p \u001b[38;2;0;0;0;48;2;138;204;192m p \u001b[38;2;0;0;0;48;2;102;176;163m p \u001b[38;2;0;0;0;48;2;138;204;192m p \u001b[38;2;0;0;0;48;2;102;176;163m p \u001b[38;2;0;0;0;48;2;138;204;192m p \u001b[38;2;0;0;0;48;2;102;176;163m p \u001b[38;2;0;0;0;48;2;138;204;192m p \u001b[0m\n",
      "\u001b[38;2;0;0;0;48;2;138;204;192m   \u001b[38;2;0;0;0;48;2;102;176;163m   \u001b[38;2;0;0;0;48;2;138;204;192m   \u001b[38;2;0;0;0;48;2;102;176;163m   \u001b[38;2;0;0;0;48;2;138;204;192m   \u001b[38;2;0;0;0;48;2;102;176;163m   \u001b[38;2;0;0;0;48;2;138;204;192m   \u001b[38;2;0;0;0;48;2;102;176;163m   \u001b[0m\n",
      "\u001b[38;2;0;0;0;48;2;102;176;163m   \u001b[38;2;0;0;0;48;2;138;204;192m   \u001b[38;2;0;0;0;48;2;102;176;163m   \u001b[38;2;0;0;0;48;2;138;204;192m   \u001b[38;2;0;0;0;48;2;102;176;163m   \u001b[38;2;0;0;0;48;2;138;204;192m   \u001b[38;2;0;0;0;48;2;102;176;163m   \u001b[38;2;0;0;0;48;2;138;204;192m   \u001b[0m\n",
      "\u001b[38;2;0;0;0;48;2;138;204;192m   \u001b[38;2;0;0;0;48;2;102;176;163m   \u001b[38;2;0;0;0;48;2;138;204;192m   \u001b[38;2;0;0;0;48;2;102;176;163m   \u001b[38;2;0;0;0;48;2;138;204;192m   \u001b[38;2;0;0;0;48;2;102;176;163m   \u001b[38;2;0;0;0;48;2;138;204;192m   \u001b[38;2;0;0;0;48;2;102;176;163m   \u001b[0m\n",
      "\u001b[38;2;0;0;0;48;2;102;176;163m   \u001b[38;2;0;0;0;48;2;138;204;192m   \u001b[38;2;0;0;0;48;2;102;176;163m   \u001b[38;2;0;0;0;48;2;138;204;192m   \u001b[38;2;0;0;0;48;2;102;176;163m   \u001b[38;2;0;0;0;48;2;138;204;192m   \u001b[38;2;0;0;0;48;2;102;176;163m   \u001b[38;2;0;0;0;48;2;138;204;192m   \u001b[0m\n",
      "\u001b[38;2;255;255;136;48;2;138;204;192m p \u001b[38;2;255;255;136;48;2;102;176;163m p \u001b[38;2;255;255;136;48;2;138;204;192m p \u001b[38;2;255;255;136;48;2;102;176;163m p \u001b[38;2;255;255;136;48;2;138;204;192m p \u001b[38;2;255;255;136;48;2;102;176;163m p \u001b[38;2;255;255;136;48;2;138;204;192m p \u001b[38;2;255;255;136;48;2;102;176;163m p \u001b[0m\n",
      "\u001b[38;2;255;255;136;48;2;102;176;163m r \u001b[38;2;255;255;136;48;2;138;204;192m n \u001b[38;2;255;255;136;48;2;102;176;163m b \u001b[38;2;255;255;136;48;2;138;204;192m q \u001b[38;2;255;255;136;48;2;102;176;163m k \u001b[38;2;255;255;136;48;2;138;204;192m b \u001b[38;2;255;255;136;48;2;102;176;163m n \u001b[38;2;255;255;136;48;2;138;204;192m r \u001b[0m\n",
      "rnbqkbnr/pppppppp/8/8/8/8/PPPPPPPP/RNBQKBNR w KQkq -\n",
      "stdin> e4\n",
      "\u001b[38;2;0;0;0;48;2;138;204;192m r \u001b[38;2;0;0;0;48;2;102;176;163m n \u001b[38;2;0;0;0;48;2;138;204;192m b \u001b[38;2;0;0;0;48;2;102;176;163m q \u001b[38;2;0;0;0;48;2;138;204;192m k \u001b[38;2;0;0;0;48;2;102;176;163m b \u001b[38;2;0;0;0;48;2;138;204;192m n \u001b[38;2;0;0;0;48;2;102;176;163m r \u001b[0m\n",
      "\u001b[38;2;0;0;0;48;2;102;176;163m p \u001b[38;2;0;0;0;48;2;138;204;192m p \u001b[38;2;0;0;0;48;2;102;176;163m p \u001b[38;2;0;0;0;48;2;138;204;192m p \u001b[38;2;0;0;0;48;2;102;176;163m p \u001b[38;2;0;0;0;48;2;138;204;192m p \u001b[38;2;0;0;0;48;2;102;176;163m p \u001b[38;2;0;0;0;48;2;138;204;192m p \u001b[0m\n",
      "\u001b[38;2;0;0;0;48;2;138;204;192m   \u001b[38;2;0;0;0;48;2;102;176;163m   \u001b[38;2;0;0;0;48;2;138;204;192m   \u001b[38;2;0;0;0;48;2;102;176;163m   \u001b[38;2;0;0;0;48;2;138;204;192m   \u001b[38;2;0;0;0;48;2;102;176;163m   \u001b[38;2;0;0;0;48;2;138;204;192m   \u001b[38;2;0;0;0;48;2;102;176;163m   \u001b[0m\n",
      "\u001b[38;2;0;0;0;48;2;102;176;163m   \u001b[38;2;0;0;0;48;2;138;204;192m   \u001b[38;2;0;0;0;48;2;102;176;163m   \u001b[38;2;0;0;0;48;2;138;204;192m   \u001b[38;2;0;0;0;48;2;102;176;163m   \u001b[38;2;0;0;0;48;2;138;204;192m   \u001b[38;2;0;0;0;48;2;102;176;163m   \u001b[38;2;0;0;0;48;2;138;204;192m   \u001b[0m\n",
      "\u001b[38;2;0;0;0;48;2;138;204;192m   \u001b[38;2;0;0;0;48;2;102;176;163m   \u001b[38;2;0;0;0;48;2;138;204;192m   \u001b[38;2;0;0;0;48;2;102;176;163m   \u001b[38;2;255;255;136;48;2;138;204;192m p \u001b[38;2;0;0;0;48;2;102;176;163m   \u001b[38;2;0;0;0;48;2;138;204;192m   \u001b[38;2;0;0;0;48;2;102;176;163m   \u001b[0m\n",
      "\u001b[38;2;0;0;0;48;2;102;176;163m   \u001b[38;2;0;0;0;48;2;138;204;192m   \u001b[38;2;0;0;0;48;2;102;176;163m   \u001b[38;2;0;0;0;48;2;138;204;192m   \u001b[38;2;0;0;0;48;2;102;176;163m   \u001b[38;2;0;0;0;48;2;138;204;192m   \u001b[38;2;0;0;0;48;2;102;176;163m   \u001b[38;2;0;0;0;48;2;138;204;192m   \u001b[0m\n",
      "\u001b[38;2;255;255;136;48;2;138;204;192m p \u001b[38;2;255;255;136;48;2;102;176;163m p \u001b[38;2;255;255;136;48;2;138;204;192m p \u001b[38;2;255;255;136;48;2;102;176;163m p \u001b[38;2;0;0;0;48;2;138;204;192m   \u001b[38;2;255;255;136;48;2;102;176;163m p \u001b[38;2;255;255;136;48;2;138;204;192m p \u001b[38;2;255;255;136;48;2;102;176;163m p \u001b[0m\n",
      "\u001b[38;2;255;255;136;48;2;102;176;163m r \u001b[38;2;255;255;136;48;2;138;204;192m n \u001b[38;2;255;255;136;48;2;102;176;163m b \u001b[38;2;255;255;136;48;2;138;204;192m q \u001b[38;2;255;255;136;48;2;102;176;163m k \u001b[38;2;255;255;136;48;2;138;204;192m b \u001b[38;2;255;255;136;48;2;102;176;163m n \u001b[38;2;255;255;136;48;2;138;204;192m r \u001b[0m\n",
      "rnbqkbnr/pppppppp/8/8/4P3/8/PPPP1PPP/RNBQKBNR b KQkq -\n",
      "\u001b[38;2;0;0;0;48;2;138;204;192m r \u001b[38;2;0;0;0;48;2;102;176;163m n \u001b[38;2;0;0;0;48;2;138;204;192m b \u001b[38;2;0;0;0;48;2;102;176;163m q \u001b[38;2;0;0;0;48;2;138;204;192m k \u001b[38;2;0;0;0;48;2;102;176;163m b \u001b[38;2;0;0;0;48;2;138;204;192m n \u001b[38;2;0;0;0;48;2;102;176;163m r \u001b[0m\n",
      "\u001b[38;2;0;0;0;48;2;102;176;163m p \u001b[38;2;0;0;0;48;2;138;204;192m p \u001b[38;2;0;0;0;48;2;102;176;163m p \u001b[38;2;0;0;0;48;2;138;204;192m p \u001b[38;2;0;0;0;48;2;102;176;163m p \u001b[38;2;0;0;0;48;2;138;204;192m p \u001b[38;2;0;0;0;48;2;102;176;163m   \u001b[38;2;0;0;0;48;2;138;204;192m p \u001b[0m\n",
      "\u001b[38;2;0;0;0;48;2;138;204;192m   \u001b[38;2;0;0;0;48;2;102;176;163m   \u001b[38;2;0;0;0;48;2;138;204;192m   \u001b[38;2;0;0;0;48;2;102;176;163m   \u001b[38;2;0;0;0;48;2;138;204;192m   \u001b[38;2;0;0;0;48;2;102;176;163m   \u001b[38;2;0;0;0;48;2;138;204;192m p \u001b[38;2;0;0;0;48;2;102;176;163m   \u001b[0m\n",
      "\u001b[38;2;0;0;0;48;2;102;176;163m   \u001b[38;2;0;0;0;48;2;138;204;192m   \u001b[38;2;0;0;0;48;2;102;176;163m   \u001b[38;2;0;0;0;48;2;138;204;192m   \u001b[38;2;0;0;0;48;2;102;176;163m   \u001b[38;2;0;0;0;48;2;138;204;192m   \u001b[38;2;0;0;0;48;2;102;176;163m   \u001b[38;2;0;0;0;48;2;138;204;192m   \u001b[0m\n",
      "\u001b[38;2;0;0;0;48;2;138;204;192m   \u001b[38;2;0;0;0;48;2;102;176;163m   \u001b[38;2;0;0;0;48;2;138;204;192m   \u001b[38;2;0;0;0;48;2;102;176;163m   \u001b[38;2;255;255;136;48;2;138;204;192m p \u001b[38;2;0;0;0;48;2;102;176;163m   \u001b[38;2;0;0;0;48;2;138;204;192m   \u001b[38;2;0;0;0;48;2;102;176;163m   \u001b[0m\n",
      "\u001b[38;2;0;0;0;48;2;102;176;163m   \u001b[38;2;0;0;0;48;2;138;204;192m   \u001b[38;2;0;0;0;48;2;102;176;163m   \u001b[38;2;0;0;0;48;2;138;204;192m   \u001b[38;2;0;0;0;48;2;102;176;163m   \u001b[38;2;0;0;0;48;2;138;204;192m   \u001b[38;2;0;0;0;48;2;102;176;163m   \u001b[38;2;0;0;0;48;2;138;204;192m   \u001b[0m\n",
      "\u001b[38;2;255;255;136;48;2;138;204;192m p \u001b[38;2;255;255;136;48;2;102;176;163m p \u001b[38;2;255;255;136;48;2;138;204;192m p \u001b[38;2;255;255;136;48;2;102;176;163m p \u001b[38;2;0;0;0;48;2;138;204;192m   \u001b[38;2;255;255;136;48;2;102;176;163m p \u001b[38;2;255;255;136;48;2;138;204;192m p \u001b[38;2;255;255;136;48;2;102;176;163m p \u001b[0m\n",
      "\u001b[38;2;255;255;136;48;2;102;176;163m r \u001b[38;2;255;255;136;48;2;138;204;192m n \u001b[38;2;255;255;136;48;2;102;176;163m b \u001b[38;2;255;255;136;48;2;138;204;192m q \u001b[38;2;255;255;136;48;2;102;176;163m k \u001b[38;2;255;255;136;48;2;138;204;192m b \u001b[38;2;255;255;136;48;2;102;176;163m n \u001b[38;2;255;255;136;48;2;138;204;192m r \u001b[0m\n",
      "rnbqkbnr/pppppp1p/6p1/8/4P3/8/PPPP1PPP/RNBQKBNR w KQkq -\n",
      "stdin> d4\n",
      "\u001b[38;2;0;0;0;48;2;138;204;192m r \u001b[38;2;0;0;0;48;2;102;176;163m n \u001b[38;2;0;0;0;48;2;138;204;192m b \u001b[38;2;0;0;0;48;2;102;176;163m q \u001b[38;2;0;0;0;48;2;138;204;192m k \u001b[38;2;0;0;0;48;2;102;176;163m b \u001b[38;2;0;0;0;48;2;138;204;192m n \u001b[38;2;0;0;0;48;2;102;176;163m r \u001b[0m\n",
      "\u001b[38;2;0;0;0;48;2;102;176;163m p \u001b[38;2;0;0;0;48;2;138;204;192m p \u001b[38;2;0;0;0;48;2;102;176;163m p \u001b[38;2;0;0;0;48;2;138;204;192m p \u001b[38;2;0;0;0;48;2;102;176;163m p \u001b[38;2;0;0;0;48;2;138;204;192m p \u001b[38;2;0;0;0;48;2;102;176;163m   \u001b[38;2;0;0;0;48;2;138;204;192m p \u001b[0m\n",
      "\u001b[38;2;0;0;0;48;2;138;204;192m   \u001b[38;2;0;0;0;48;2;102;176;163m   \u001b[38;2;0;0;0;48;2;138;204;192m   \u001b[38;2;0;0;0;48;2;102;176;163m   \u001b[38;2;0;0;0;48;2;138;204;192m   \u001b[38;2;0;0;0;48;2;102;176;163m   \u001b[38;2;0;0;0;48;2;138;204;192m p \u001b[38;2;0;0;0;48;2;102;176;163m   \u001b[0m\n",
      "\u001b[38;2;0;0;0;48;2;102;176;163m   \u001b[38;2;0;0;0;48;2;138;204;192m   \u001b[38;2;0;0;0;48;2;102;176;163m   \u001b[38;2;0;0;0;48;2;138;204;192m   \u001b[38;2;0;0;0;48;2;102;176;163m   \u001b[38;2;0;0;0;48;2;138;204;192m   \u001b[38;2;0;0;0;48;2;102;176;163m   \u001b[38;2;0;0;0;48;2;138;204;192m   \u001b[0m\n",
      "\u001b[38;2;0;0;0;48;2;138;204;192m   \u001b[38;2;0;0;0;48;2;102;176;163m   \u001b[38;2;0;0;0;48;2;138;204;192m   \u001b[38;2;255;255;136;48;2;102;176;163m p \u001b[38;2;255;255;136;48;2;138;204;192m p \u001b[38;2;0;0;0;48;2;102;176;163m   \u001b[38;2;0;0;0;48;2;138;204;192m   \u001b[38;2;0;0;0;48;2;102;176;163m   \u001b[0m\n",
      "\u001b[38;2;0;0;0;48;2;102;176;163m   \u001b[38;2;0;0;0;48;2;138;204;192m   \u001b[38;2;0;0;0;48;2;102;176;163m   \u001b[38;2;0;0;0;48;2;138;204;192m   \u001b[38;2;0;0;0;48;2;102;176;163m   \u001b[38;2;0;0;0;48;2;138;204;192m   \u001b[38;2;0;0;0;48;2;102;176;163m   \u001b[38;2;0;0;0;48;2;138;204;192m   \u001b[0m\n",
      "\u001b[38;2;255;255;136;48;2;138;204;192m p \u001b[38;2;255;255;136;48;2;102;176;163m p \u001b[38;2;255;255;136;48;2;138;204;192m p \u001b[38;2;0;0;0;48;2;102;176;163m   \u001b[38;2;0;0;0;48;2;138;204;192m   \u001b[38;2;255;255;136;48;2;102;176;163m p \u001b[38;2;255;255;136;48;2;138;204;192m p \u001b[38;2;255;255;136;48;2;102;176;163m p \u001b[0m\n",
      "\u001b[38;2;255;255;136;48;2;102;176;163m r \u001b[38;2;255;255;136;48;2;138;204;192m n \u001b[38;2;255;255;136;48;2;102;176;163m b \u001b[38;2;255;255;136;48;2;138;204;192m q \u001b[38;2;255;255;136;48;2;102;176;163m k \u001b[38;2;255;255;136;48;2;138;204;192m b \u001b[38;2;255;255;136;48;2;102;176;163m n \u001b[38;2;255;255;136;48;2;138;204;192m r \u001b[0m\n",
      "rnbqkbnr/pppppp1p/6p1/8/3PP3/8/PPP2PPP/RNBQKBNR b KQkq -\n"
     ]
    },
    {
     "name": "stdout",
     "output_type": "stream",
     "text": [
      "\u001b[38;2;0;0;0;48;2;138;204;192m r \u001b[38;2;0;0;0;48;2;102;176;163m n \u001b[38;2;0;0;0;48;2;138;204;192m b \u001b[38;2;0;0;0;48;2;102;176;163m q \u001b[38;2;0;0;0;48;2;138;204;192m k \u001b[38;2;0;0;0;48;2;102;176;163m b \u001b[38;2;0;0;0;48;2;138;204;192m n \u001b[38;2;0;0;0;48;2;102;176;163m r \u001b[0m\n",
      "\u001b[38;2;0;0;0;48;2;102;176;163m p \u001b[38;2;0;0;0;48;2;138;204;192m p \u001b[38;2;0;0;0;48;2;102;176;163m p \u001b[38;2;0;0;0;48;2;138;204;192m   \u001b[38;2;0;0;0;48;2;102;176;163m p \u001b[38;2;0;0;0;48;2;138;204;192m p \u001b[38;2;0;0;0;48;2;102;176;163m   \u001b[38;2;0;0;0;48;2;138;204;192m p \u001b[0m\n",
      "\u001b[38;2;0;0;0;48;2;138;204;192m   \u001b[38;2;0;0;0;48;2;102;176;163m   \u001b[38;2;0;0;0;48;2;138;204;192m   \u001b[38;2;0;0;0;48;2;102;176;163m   \u001b[38;2;0;0;0;48;2;138;204;192m   \u001b[38;2;0;0;0;48;2;102;176;163m   \u001b[38;2;0;0;0;48;2;138;204;192m p \u001b[38;2;0;0;0;48;2;102;176;163m   \u001b[0m\n",
      "\u001b[38;2;0;0;0;48;2;102;176;163m   \u001b[38;2;0;0;0;48;2;138;204;192m   \u001b[38;2;0;0;0;48;2;102;176;163m   \u001b[38;2;0;0;0;48;2;138;204;192m p \u001b[38;2;0;0;0;48;2;102;176;163m   \u001b[38;2;0;0;0;48;2;138;204;192m   \u001b[38;2;0;0;0;48;2;102;176;163m   \u001b[38;2;0;0;0;48;2;138;204;192m   \u001b[0m\n",
      "\u001b[38;2;0;0;0;48;2;138;204;192m   \u001b[38;2;0;0;0;48;2;102;176;163m   \u001b[38;2;0;0;0;48;2;138;204;192m   \u001b[38;2;255;255;136;48;2;102;176;163m p \u001b[38;2;255;255;136;48;2;138;204;192m p \u001b[38;2;0;0;0;48;2;102;176;163m   \u001b[38;2;0;0;0;48;2;138;204;192m   \u001b[38;2;0;0;0;48;2;102;176;163m   \u001b[0m\n",
      "\u001b[38;2;0;0;0;48;2;102;176;163m   \u001b[38;2;0;0;0;48;2;138;204;192m   \u001b[38;2;0;0;0;48;2;102;176;163m   \u001b[38;2;0;0;0;48;2;138;204;192m   \u001b[38;2;0;0;0;48;2;102;176;163m   \u001b[38;2;0;0;0;48;2;138;204;192m   \u001b[38;2;0;0;0;48;2;102;176;163m   \u001b[38;2;0;0;0;48;2;138;204;192m   \u001b[0m\n",
      "\u001b[38;2;255;255;136;48;2;138;204;192m p \u001b[38;2;255;255;136;48;2;102;176;163m p \u001b[38;2;255;255;136;48;2;138;204;192m p \u001b[38;2;0;0;0;48;2;102;176;163m   \u001b[38;2;0;0;0;48;2;138;204;192m   \u001b[38;2;255;255;136;48;2;102;176;163m p \u001b[38;2;255;255;136;48;2;138;204;192m p \u001b[38;2;255;255;136;48;2;102;176;163m p \u001b[0m\n",
      "\u001b[38;2;255;255;136;48;2;102;176;163m r \u001b[38;2;255;255;136;48;2;138;204;192m n \u001b[38;2;255;255;136;48;2;102;176;163m b \u001b[38;2;255;255;136;48;2;138;204;192m q \u001b[38;2;255;255;136;48;2;102;176;163m k \u001b[38;2;255;255;136;48;2;138;204;192m b \u001b[38;2;255;255;136;48;2;102;176;163m n \u001b[38;2;255;255;136;48;2;138;204;192m r \u001b[0m\n",
      "rnbqkbnr/ppp1pp1p/6p1/3p4/3PP3/8/PPP2PPP/RNBQKBNR w KQkq -\n"
     ]
    },
    {
     "ename": "LoadError",
     "evalue": "InterruptException:",
     "output_type": "error",
     "traceback": [
      "InterruptException:",
      "",
      "Stacktrace:",
      "  [1] try_yieldto(undo::typeof(Base.ensure_rescheduled))",
      "    @ Base .\\task.jl:871",
      "  [2] wait()",
      "    @ Base .\\task.jl:931",
      "  [3] wait(c::Base.GenericCondition{Base.Threads.SpinLock})",
      "    @ Base .\\condition.jl:124",
      "  [4] _wait(fdw::FileWatching._FDWatcher, mask::FileWatching.FDEvent)",
      "    @ FileWatching C:\\Users\\yiwen\\AppData\\Local\\Programs\\Julia-1.8.2\\share\\julia\\stdlib\\v1.8\\FileWatching\\src\\FileWatching.jl:535",
      "  [5] wait(fdw::FileWatching._FDWatcher, mask::FileWatching.FDEvent)",
      "    @ FileWatching C:\\Users\\yiwen\\AppData\\Local\\Programs\\Julia-1.8.2\\share\\julia\\stdlib\\v1.8\\FileWatching\\src\\FileWatching.jl:552",
      "  [6] #wait#1",
      "    @ C:\\Users\\yiwen\\AppData\\Local\\Programs\\Julia-1.8.2\\share\\julia\\stdlib\\v1.8\\FileWatching\\src\\FileWatching.jl:547 [inlined]",
      "  [7] wait",
      "    @ C:\\Users\\yiwen\\.julia\\packages\\ZMQ\\R3wSD\\src\\socket.jl:52 [inlined]",
      "  [8] _recv!(socket::ZMQ.Socket, zmsg::Base.RefValue{ZMQ._Message})",
      "    @ ZMQ C:\\Users\\yiwen\\.julia\\packages\\ZMQ\\R3wSD\\src\\comm.jl:75",
      "  [9] recv(socket::ZMQ.Socket, #unused#::Type{String})",
      "    @ ZMQ C:\\Users\\yiwen\\.julia\\packages\\ZMQ\\R3wSD\\src\\comm.jl:106",
      " [10] recv_ipython(socket::ZMQ.Socket)",
      "    @ IJulia C:\\Users\\yiwen\\.julia\\packages\\IJulia\\AQu2H\\src\\msg.jl:69",
      " [11] readprompt(prompt::String; password::Bool)",
      "    @ IJulia C:\\Users\\yiwen\\.julia\\packages\\IJulia\\AQu2H\\src\\stdio.jl:202",
      " [12] readprompt",
      "    @ C:\\Users\\yiwen\\.julia\\packages\\IJulia\\AQu2H\\src\\stdio.jl:194 [inlined]",
      " [13] readline(io::IJulia.IJuliaStdio{Base.PipeEndpoint})",
      "    @ IJulia C:\\Users\\yiwen\\.julia\\packages\\IJulia\\AQu2H\\src\\stdio.jl:237",
      " [14] readline()",
      "    @ Base .\\io.jl:542",
      " [15] playGame(color::String, seed::Int64)",
      "    @ Main .\\In[6]:19",
      " [16] top-level scope",
      "    @ In[7]:1",
      " [17] eval",
      "    @ .\\boot.jl:368 [inlined]",
      " [18] include_string(mapexpr::typeof(REPL.softscope), mod::Module, code::String, filename::String)",
      "    @ Base .\\loading.jl:1428"
     ]
    }
   ],
   "source": [
    "playGame(\"white\", 1234)"
   ]
  },
  {
   "cell_type": "code",
   "execution_count": null,
   "metadata": {},
   "outputs": [],
   "source": []
  }
 ],
 "metadata": {
  "kernelspec": {
   "display_name": "Julia 1.8.2",
   "language": "julia",
   "name": "julia-1.8"
  },
  "language_info": {
   "file_extension": ".jl",
   "mimetype": "application/julia",
   "name": "julia",
   "version": "1.8.2"
  }
 },
 "nbformat": 4,
 "nbformat_minor": 4
}
