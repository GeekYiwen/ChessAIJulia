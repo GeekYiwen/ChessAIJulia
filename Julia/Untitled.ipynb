{
 "cells": [
  {
   "cell_type": "code",
   "execution_count": 1,
   "id": "31303330",
   "metadata": {},
   "outputs": [],
   "source": [
    "using Pkg\n",
    "# Pkg.add(\"Chess\")\n",
    "using Chess\n",
    "using Random\n",
    "\n",
    "# Pkg.add(\"NBInclude\")\n",
    "using NBInclude"
   ]
  },
  {
   "cell_type": "code",
   "execution_count": 2,
   "id": "121d36c0",
   "metadata": {},
   "outputs": [
    {
     "data": {
      "text/plain": [
       "playMove (generic function with 1 method)"
      ]
     },
     "execution_count": 2,
     "metadata": {},
     "output_type": "execute_result"
    }
   ],
   "source": [
    "@nbinclude(\"Random Chess.ipynb\")"
   ]
  },
  {
   "cell_type": "code",
   "execution_count": 3,
   "id": "78cb1c49",
   "metadata": {},
   "outputs": [
    {
     "data": {
      "text/plain": [
       "64-element Vector{Int64}:\n",
       " -50\n",
       " -40\n",
       " -30\n",
       " -20\n",
       " -20\n",
       " -30\n",
       " -40\n",
       " -50\n",
       " -30\n",
       " -20\n",
       " -10\n",
       "   0\n",
       "   0\n",
       "   ⋮\n",
       "   0\n",
       "   0\n",
       " -30\n",
       " -30\n",
       " -50\n",
       " -30\n",
       " -30\n",
       " -30\n",
       " -30\n",
       " -30\n",
       " -30\n",
       " -50"
      ]
     },
     "execution_count": 3,
     "metadata": {},
     "output_type": "execute_result"
    }
   ],
   "source": [
    "pawn_square_table = [\n",
    "     0,  0,  0,  0,  0,  0,  0,  0,\n",
    "    50, 50, 50, 50, 50, 50, 50, 50,\n",
    "    10, 10, 20, 30, 30, 20, 10, 10,\n",
    "     5,  5, 10, 25, 25, 10,  5,  5,\n",
    "     0,  0,  0, 20, 20,  0,  0,  0,\n",
    "     5, -5,-10,  0,  0,-10, -5,  5,\n",
    "     5, 10, 10,-20,-20, 10, 10,  5,\n",
    "     0,  0,  0,  0,  0,  0,  0,  0\n",
    "]\n",
    "\n",
    "\n",
    "knight_square_table = [\n",
    "    -50,-40,-30,-30,-30,-30,-40,-50,\n",
    "    -40,-20,  0,  0,  0,  0,-20,-40,\n",
    "    -30,  0, 10, 15, 15, 10,  0,-30,\n",
    "    -30,  5, 15, 20, 20, 15,  5,-30,\n",
    "    -30,  0, 15, 20, 20, 15,  0,-30,\n",
    "    -30,  5, 10, 15, 15, 10,  5,-30,\n",
    "    -40,-20,  0,  5,  5,  0,-20,-40,\n",
    "    -50,-40,-30,-30,-30,-30,-40,-50,\n",
    "]\n",
    "\n",
    "bishop_square_table = [\n",
    "    -20,-10,-10,-10,-10,-10,-10,-20,\n",
    "    -10,  0,  0,  0,  0,  0,  0,-10,\n",
    "    -10,  0,  5, 10, 10,  5,  0,-10,\n",
    "    -10,  5,  5, 10, 10,  5,  5,-10,\n",
    "    -10,  0, 10, 10, 10, 10,  0,-10,\n",
    "    -10, 10, 10, 10, 10, 10, 10,-10,\n",
    "    -10,  5,  0,  0,  0,  0,  5,-10,\n",
    "    -20,-10,-10,-10,-10,-10,-10,-20,\n",
    "]\n",
    "\n",
    "rook_square_table = [\n",
    "      0,  0,  0,  0,  0,  0,  0,  0,\n",
    "      5, 10, 10, 10, 10, 10, 10,  5,\n",
    "     -5,  0,  0,  0,  0,  0,  0, -5,\n",
    "     -5,  0,  0,  0,  0,  0,  0, -5,\n",
    "     -5,  0,  0,  0,  0,  0,  0, -5,\n",
    "     -5,  0,  0,  0,  0,  0,  0, -5,\n",
    "     -5,  0,  0,  0,  0,  0,  0, -5,\n",
    "      0,  0,  0,  5,  5,  0,  0,  0\n",
    "]\n",
    "\n",
    "queen_square_table = [\n",
    "    -20,-10,-10, -5, -5,-10,-10,-20,\n",
    "    -10,  0,  0,  0,  0,  0,  0,-10,\n",
    "    -10,  0,  5,  5,  5,  5,  0,-10,\n",
    "     -5,  0,  5,  5,  5,  5,  0, -5,\n",
    "      0,  0,  5,  5,  5,  5,  0, -5,\n",
    "    -10,  5,  5,  5,  5,  5,  0,-10,\n",
    "    -10,  0,  5,  0,  0,  0,  0,-10,\n",
    "    -20,-10,-10, -5, -5,-10,-10,-20\n",
    "]\n",
    "\n",
    "king_square_middle_game_table = [\n",
    "    -30,-40,-40,-50,-50,-40,-40,-30,\n",
    "    -30,-40,-40,-50,-50,-40,-40,-30,\n",
    "    -30,-40,-40,-50,-50,-40,-40,-30,\n",
    "    -30,-40,-40,-50,-50,-40,-40,-30,\n",
    "    -20,-30,-30,-40,-40,-30,-30,-20,\n",
    "    -10,-20,-20,-20,-20,-20,-20,-10,\n",
    "     20, 20,  0,  0,  0,  0, 20, 20,\n",
    "     20, 30, 10,  0,  0, 10, 30, 20\n",
    "]\n",
    "\n",
    "king_square_end_game_table = [\n",
    "    -50,-40,-30,-20,-20,-30,-40,-50,\n",
    "    -30,-20,-10,  0,  0,-10,-20,-30,\n",
    "    -30,-10, 20, 30, 30, 20,-10,-30,\n",
    "    -30,-10, 30, 40, 40, 30,-10,-30,\n",
    "    -30,-10, 30, 40, 40, 30,-10,-30,\n",
    "    -30,-10, 20, 30, 30, 20,-10,-30,\n",
    "    -30,-30,  0,  0,  0,  0,-30,-30,\n",
    "    -50,-30,-30,-30,-30,-30,-30,-50\n",
    "]"
   ]
  },
  {
   "cell_type": "code",
   "execution_count": 4,
   "id": "2ce0067a",
   "metadata": {},
   "outputs": [
    {
     "data": {
      "text/html": [
       "Board:<div class=\"chessboard\"><style soped=\"true\">.dark-square {\n",
       "    fill: #c3936a;\n",
       "    stroke-width: 0;\n",
       "}\n",
       ".light-square {\n",
       "    fill: #ffd7a6;\n",
       "    stroke-width: 0;\n",
       "}\n",
       ".highlight {\n",
       "    fill: #47d18b;\n",
       "}\n",
       "@media (prefers-color-scheme: dark) {\n",
       "    .dark-square {\n",
       "        fill: #00796b;\n",
       "    }\n",
       "    .light-square {\n",
       "        fill: #3ca59b;\n",
       "    }\n",
       "    .highlight {\n",
       "        fill: #d23600;\n",
       "    }\n",
       "}\n",
       "</style><svg style=\"float: left; margin-right: 20px\" viewBox=\"0 0 8 8\" height=\"280\" width=\"280\"><g><g><rect x=\"0\" y=\"0\" class=\"light-square\" height=\"1\" width=\"1\"></rect><image x=\"0\" xlink:href=\"https://raw.githubusercontent.com/romstad/Chess.jl/master/img/br.svg\" y=\"0\" height=\"1\" width=\"1\"></image></g><g><rect x=\"0\" y=\"1\" class=\"dark-square\" height=\"1\" width=\"1\"></rect><image x=\"0\" xlink:href=\"https://raw.githubusercontent.com/romstad/Chess.jl/master/img/bp.svg\" y=\"1\" height=\"1\" width=\"1\"></image></g><g><rect x=\"0\" y=\"2\" class=\"light-square\" height=\"1\" width=\"1\"></rect><g></g></g><g><rect x=\"0\" y=\"3\" class=\"dark-square\" height=\"1\" width=\"1\"></rect><g></g></g><g><rect x=\"0\" y=\"4\" class=\"light-square\" height=\"1\" width=\"1\"></rect><g></g></g><g><rect x=\"0\" y=\"5\" class=\"dark-square\" height=\"1\" width=\"1\"></rect><g></g></g><g><rect x=\"0\" y=\"6\" class=\"light-square\" height=\"1\" width=\"1\"></rect><image x=\"0\" xlink:href=\"https://raw.githubusercontent.com/romstad/Chess.jl/master/img/wp.svg\" y=\"6\" height=\"1\" width=\"1\"></image></g><g><rect x=\"0\" y=\"7\" class=\"dark-square\" height=\"1\" width=\"1\"></rect><image x=\"0\" xlink:href=\"https://raw.githubusercontent.com/romstad/Chess.jl/master/img/wr.svg\" y=\"7\" height=\"1\" width=\"1\"></image></g><g><rect x=\"1\" y=\"0\" class=\"dark-square\" height=\"1\" width=\"1\"></rect><image x=\"1\" xlink:href=\"https://raw.githubusercontent.com/romstad/Chess.jl/master/img/bn.svg\" y=\"0\" height=\"1\" width=\"1\"></image></g><g><rect x=\"1\" y=\"1\" class=\"light-square\" height=\"1\" width=\"1\"></rect><image x=\"1\" xlink:href=\"https://raw.githubusercontent.com/romstad/Chess.jl/master/img/bp.svg\" y=\"1\" height=\"1\" width=\"1\"></image></g><g><rect x=\"1\" y=\"2\" class=\"dark-square\" height=\"1\" width=\"1\"></rect><g></g></g><g><rect x=\"1\" y=\"3\" class=\"light-square\" height=\"1\" width=\"1\"></rect><g></g></g><g><rect x=\"1\" y=\"4\" class=\"dark-square\" height=\"1\" width=\"1\"></rect><g></g></g><g><rect x=\"1\" y=\"5\" class=\"light-square\" height=\"1\" width=\"1\"></rect><g></g></g><g><rect x=\"1\" y=\"6\" class=\"dark-square\" height=\"1\" width=\"1\"></rect><image x=\"1\" xlink:href=\"https://raw.githubusercontent.com/romstad/Chess.jl/master/img/wp.svg\" y=\"6\" height=\"1\" width=\"1\"></image></g><g><rect x=\"1\" y=\"7\" class=\"light-square\" height=\"1\" width=\"1\"></rect><image x=\"1\" xlink:href=\"https://raw.githubusercontent.com/romstad/Chess.jl/master/img/wn.svg\" y=\"7\" height=\"1\" width=\"1\"></image></g><g><rect x=\"2\" y=\"0\" class=\"light-square\" height=\"1\" width=\"1\"></rect><image x=\"2\" xlink:href=\"https://raw.githubusercontent.com/romstad/Chess.jl/master/img/bb.svg\" y=\"0\" height=\"1\" width=\"1\"></image></g><g><rect x=\"2\" y=\"1\" class=\"dark-square\" height=\"1\" width=\"1\"></rect><image x=\"2\" xlink:href=\"https://raw.githubusercontent.com/romstad/Chess.jl/master/img/bp.svg\" y=\"1\" height=\"1\" width=\"1\"></image></g><g><rect x=\"2\" y=\"2\" class=\"light-square\" height=\"1\" width=\"1\"></rect><g></g></g><g><rect x=\"2\" y=\"3\" class=\"dark-square\" height=\"1\" width=\"1\"></rect><g></g></g><g><rect x=\"2\" y=\"4\" class=\"light-square\" height=\"1\" width=\"1\"></rect><g></g></g><g><rect x=\"2\" y=\"5\" class=\"dark-square\" height=\"1\" width=\"1\"></rect><g></g></g><g><rect x=\"2\" y=\"6\" class=\"light-square\" height=\"1\" width=\"1\"></rect><image x=\"2\" xlink:href=\"https://raw.githubusercontent.com/romstad/Chess.jl/master/img/wp.svg\" y=\"6\" height=\"1\" width=\"1\"></image></g><g><rect x=\"2\" y=\"7\" class=\"dark-square\" height=\"1\" width=\"1\"></rect><image x=\"2\" xlink:href=\"https://raw.githubusercontent.com/romstad/Chess.jl/master/img/wb.svg\" y=\"7\" height=\"1\" width=\"1\"></image></g><g><rect x=\"3\" y=\"0\" class=\"dark-square\" height=\"1\" width=\"1\"></rect><image x=\"3\" xlink:href=\"https://raw.githubusercontent.com/romstad/Chess.jl/master/img/bq.svg\" y=\"0\" height=\"1\" width=\"1\"></image></g><g><rect x=\"3\" y=\"1\" class=\"light-square\" height=\"1\" width=\"1\"></rect><image x=\"3\" xlink:href=\"https://raw.githubusercontent.com/romstad/Chess.jl/master/img/bp.svg\" y=\"1\" height=\"1\" width=\"1\"></image></g><g><rect x=\"3\" y=\"2\" class=\"dark-square\" height=\"1\" width=\"1\"></rect><g></g></g><g><rect x=\"3\" y=\"3\" class=\"light-square\" height=\"1\" width=\"1\"></rect><g></g></g><g><rect x=\"3\" y=\"4\" class=\"dark-square\" height=\"1\" width=\"1\"></rect><g></g></g><g><rect x=\"3\" y=\"5\" class=\"light-square\" height=\"1\" width=\"1\"></rect><g></g></g><g><rect x=\"3\" y=\"6\" class=\"dark-square\" height=\"1\" width=\"1\"></rect><image x=\"3\" xlink:href=\"https://raw.githubusercontent.com/romstad/Chess.jl/master/img/wp.svg\" y=\"6\" height=\"1\" width=\"1\"></image></g><g><rect x=\"3\" y=\"7\" class=\"light-square\" height=\"1\" width=\"1\"></rect><image x=\"3\" xlink:href=\"https://raw.githubusercontent.com/romstad/Chess.jl/master/img/wq.svg\" y=\"7\" height=\"1\" width=\"1\"></image></g><g><rect x=\"4\" y=\"0\" class=\"light-square\" height=\"1\" width=\"1\"></rect><image x=\"4\" xlink:href=\"https://raw.githubusercontent.com/romstad/Chess.jl/master/img/bk.svg\" y=\"0\" height=\"1\" width=\"1\"></image></g><g><rect x=\"4\" y=\"1\" class=\"dark-square\" height=\"1\" width=\"1\"></rect><image x=\"4\" xlink:href=\"https://raw.githubusercontent.com/romstad/Chess.jl/master/img/bp.svg\" y=\"1\" height=\"1\" width=\"1\"></image></g><g><rect x=\"4\" y=\"2\" class=\"light-square\" height=\"1\" width=\"1\"></rect><g></g></g><g><rect x=\"4\" y=\"3\" class=\"dark-square\" height=\"1\" width=\"1\"></rect><g></g></g><g><rect x=\"4\" y=\"4\" class=\"light-square\" height=\"1\" width=\"1\"></rect><g></g></g><g><rect x=\"4\" y=\"5\" class=\"dark-square\" height=\"1\" width=\"1\"></rect><g></g></g><g><rect x=\"4\" y=\"6\" class=\"light-square\" height=\"1\" width=\"1\"></rect><image x=\"4\" xlink:href=\"https://raw.githubusercontent.com/romstad/Chess.jl/master/img/wp.svg\" y=\"6\" height=\"1\" width=\"1\"></image></g><g><rect x=\"4\" y=\"7\" class=\"dark-square\" height=\"1\" width=\"1\"></rect><image x=\"4\" xlink:href=\"https://raw.githubusercontent.com/romstad/Chess.jl/master/img/wk.svg\" y=\"7\" height=\"1\" width=\"1\"></image></g><g><rect x=\"5\" y=\"0\" class=\"dark-square\" height=\"1\" width=\"1\"></rect><image x=\"5\" xlink:href=\"https://raw.githubusercontent.com/romstad/Chess.jl/master/img/bb.svg\" y=\"0\" height=\"1\" width=\"1\"></image></g><g><rect x=\"5\" y=\"1\" class=\"light-square\" height=\"1\" width=\"1\"></rect><image x=\"5\" xlink:href=\"https://raw.githubusercontent.com/romstad/Chess.jl/master/img/bp.svg\" y=\"1\" height=\"1\" width=\"1\"></image></g><g><rect x=\"5\" y=\"2\" class=\"dark-square\" height=\"1\" width=\"1\"></rect><g></g></g><g><rect x=\"5\" y=\"3\" class=\"light-square\" height=\"1\" width=\"1\"></rect><g></g></g><g><rect x=\"5\" y=\"4\" class=\"dark-square\" height=\"1\" width=\"1\"></rect><g></g></g><g><rect x=\"5\" y=\"5\" class=\"light-square\" height=\"1\" width=\"1\"></rect><g></g></g><g><rect x=\"5\" y=\"6\" class=\"dark-square\" height=\"1\" width=\"1\"></rect><image x=\"5\" xlink:href=\"https://raw.githubusercontent.com/romstad/Chess.jl/master/img/wp.svg\" y=\"6\" height=\"1\" width=\"1\"></image></g><g><rect x=\"5\" y=\"7\" class=\"light-square\" height=\"1\" width=\"1\"></rect><image x=\"5\" xlink:href=\"https://raw.githubusercontent.com/romstad/Chess.jl/master/img/wb.svg\" y=\"7\" height=\"1\" width=\"1\"></image></g><g><rect x=\"6\" y=\"0\" class=\"light-square\" height=\"1\" width=\"1\"></rect><image x=\"6\" xlink:href=\"https://raw.githubusercontent.com/romstad/Chess.jl/master/img/bn.svg\" y=\"0\" height=\"1\" width=\"1\"></image></g><g><rect x=\"6\" y=\"1\" class=\"dark-square\" height=\"1\" width=\"1\"></rect><image x=\"6\" xlink:href=\"https://raw.githubusercontent.com/romstad/Chess.jl/master/img/bp.svg\" y=\"1\" height=\"1\" width=\"1\"></image></g><g><rect x=\"6\" y=\"2\" class=\"light-square\" height=\"1\" width=\"1\"></rect><g></g></g><g><rect x=\"6\" y=\"3\" class=\"dark-square\" height=\"1\" width=\"1\"></rect><g></g></g><g><rect x=\"6\" y=\"4\" class=\"light-square\" height=\"1\" width=\"1\"></rect><g></g></g><g><rect x=\"6\" y=\"5\" class=\"dark-square\" height=\"1\" width=\"1\"></rect><g></g></g><g><rect x=\"6\" y=\"6\" class=\"light-square\" height=\"1\" width=\"1\"></rect><image x=\"6\" xlink:href=\"https://raw.githubusercontent.com/romstad/Chess.jl/master/img/wp.svg\" y=\"6\" height=\"1\" width=\"1\"></image></g><g><rect x=\"6\" y=\"7\" class=\"dark-square\" height=\"1\" width=\"1\"></rect><image x=\"6\" xlink:href=\"https://raw.githubusercontent.com/romstad/Chess.jl/master/img/wn.svg\" y=\"7\" height=\"1\" width=\"1\"></image></g><g><rect x=\"7\" y=\"0\" class=\"dark-square\" height=\"1\" width=\"1\"></rect><image x=\"7\" xlink:href=\"https://raw.githubusercontent.com/romstad/Chess.jl/master/img/br.svg\" y=\"0\" height=\"1\" width=\"1\"></image></g><g><rect x=\"7\" y=\"1\" class=\"light-square\" height=\"1\" width=\"1\"></rect><image x=\"7\" xlink:href=\"https://raw.githubusercontent.com/romstad/Chess.jl/master/img/bp.svg\" y=\"1\" height=\"1\" width=\"1\"></image></g><g><rect x=\"7\" y=\"2\" class=\"dark-square\" height=\"1\" width=\"1\"></rect><g></g></g><g><rect x=\"7\" y=\"3\" class=\"light-square\" height=\"1\" width=\"1\"></rect><g></g></g><g><rect x=\"7\" y=\"4\" class=\"dark-square\" height=\"1\" width=\"1\"></rect><g></g></g><g><rect x=\"7\" y=\"5\" class=\"light-square\" height=\"1\" width=\"1\"></rect><g></g></g><g><rect x=\"7\" y=\"6\" class=\"dark-square\" height=\"1\" width=\"1\"></rect><image x=\"7\" xlink:href=\"https://raw.githubusercontent.com/romstad/Chess.jl/master/img/wp.svg\" y=\"6\" height=\"1\" width=\"1\"></image></g><g><rect x=\"7\" y=\"7\" class=\"light-square\" height=\"1\" width=\"1\"></rect><image x=\"7\" xlink:href=\"https://raw.githubusercontent.com/romstad/Chess.jl/master/img/wr.svg\" y=\"7\" height=\"1\" width=\"1\"></image></g></g><g></g></svg><div><p>White to move</p><p>Castle rights: KQkq</p><p><a href=\"https://lichess.org/editor/rnbqkbnr/pppppppp/8/8/8/8/PPPPPPPP/RNBQKBNR_w_KQkq_-\" target=\"_blank\">Open in lichess</a></p></div></div>"
      ],
      "text/plain": [
       "Board (rnbqkbnr/pppppppp/8/8/8/8/PPPPPPPP/RNBQKBNR w KQkq -):\n",
       " r  n  b  q  k  b  n  r \n",
       " p  p  p  p  p  p  p  p \n",
       " -  -  -  -  -  -  -  - \n",
       " -  -  -  -  -  -  -  - \n",
       " -  -  -  -  -  -  -  - \n",
       " -  -  -  -  -  -  -  - \n",
       " P  P  P  P  P  P  P  P \n",
       " R  N  B  Q  K  B  N  R "
      ]
     },
     "execution_count": 4,
     "metadata": {},
     "output_type": "execute_result"
    }
   ],
   "source": [
    "board = startboard()"
   ]
  },
  {
   "cell_type": "code",
   "execution_count": 5,
   "id": "4df32ea6",
   "metadata": {},
   "outputs": [
    {
     "data": {
      "text/plain": [
       "Dict{String, Int64} with 6 entries:\n",
       "  \"B\" => 330\n",
       "  \"Q\" => 900\n",
       "  \"P\" => 100\n",
       "  \"N\" => 320\n",
       "  \"R\" => 500\n",
       "  \"K\" => 20000"
      ]
     },
     "execution_count": 5,
     "metadata": {},
     "output_type": "execute_result"
    }
   ],
   "source": []
  },
  {
   "cell_type": "code",
   "execution_count": 40,
   "id": "40a1e60a",
   "metadata": {},
   "outputs": [
    {
     "data": {
      "text/plain": [
       "getPiece (generic function with 1 method)"
      ]
     },
     "execution_count": 40,
     "metadata": {},
     "output_type": "execute_result"
    }
   ],
   "source": [
    "function get_piece(board, file, rank)\n",
    "    feld = file * string(rank)\n",
    "    piece = pieceon(board, feld)\n",
    "    return piece\n",
    "end"
   ]
  },
  {
   "cell_type": "code",
   "execution_count": 54,
   "id": "1cf11899",
   "metadata": {},
   "outputs": [
    {
     "name": "stdout",
     "output_type": "stream",
     "text": [
      "keine Figur vorhanden"
     ]
    },
    {
     "data": {
      "text/plain": [
       "PIECE_TYPE_NONE"
      ]
     },
     "execution_count": 54,
     "metadata": {},
     "output_type": "execute_result"
    }
   ],
   "source": [
    "piece = getPiece(board, \"g\", \"3\")\n",
    "if(piece == EMPTY)\n",
    "    print(\"keine Figur vorhanden\")\n",
    "end\n",
    "ptype(piece)"
   ]
  },
  {
   "cell_type": "code",
   "execution_count": 59,
   "id": "28c97386",
   "metadata": {},
   "outputs": [
    {
     "ename": "LoadError",
     "evalue": "syntax: character literal contains multiple characters",
     "output_type": "error",
     "traceback": [
      "syntax: character literal contains multiple characters",
      "",
      "Stacktrace:",
      " [1] top-level scope",
      "   @ In[59]:2"
     ]
    }
   ],
   "source": [
    "function get_value(piece::String)\n",
    "    piece_values  = Dict('PAWN'=> 100, 'KNIGHT' => 320, 'BISHOP' => 330, 'ROOK' => 500, 'QUEEN' => 900, 'KING' => 20000)\n",
    "    return piece_values[piece]\n",
    "end"
   ]
  },
  {
   "cell_type": "code",
   "execution_count": 57,
   "id": "57178c87",
   "metadata": {},
   "outputs": [
    {
     "ename": "LoadError",
     "evalue": "KeyError: key \"PAWN\" not found",
     "output_type": "error",
     "traceback": [
      "KeyError: key \"PAWN\" not found",
      "",
      "Stacktrace:",
      " [1] getindex",
      "   @ .\\dict.jl:498 [inlined]",
      " [2] get_value(piece::String)",
      "   @ Main .\\In[11]:3",
      " [3] top-level scope",
      "   @ In[57]:1"
     ]
    }
   ],
   "source": [
    "get_value(\"PAWN\")"
   ]
  },
  {
   "cell_type": "code",
   "execution_count": null,
   "id": "4898922f",
   "metadata": {},
   "outputs": [],
   "source": [
    "function get_square_value(piece)\n",
    "    # Bestimmen Sie den Wert des Feldes für diese Schachfigur\n",
    "    # TODO: Plus Minus bei Square Value vergleichen\n",
    "    if piece.color == White\n",
    "            case piece.kind\n",
    "                when Pawn\n",
    "                    square_table = pawn_square_table\n",
    "                when Knight\n",
    "                    square_table = knight_square_table\n",
    "                when Bishop\n",
    "                    square_table = bishop_square_table\n",
    "                when Rook\n",
    "                    square_table = rook_square_table\n",
    "                when Queen\n",
    "                    square_table = queen_square_table\n",
    "                when King\n",
    "                    square_table = king_square_table\n",
    "            end\n",
    "            return square_table[i + 8*(j-1)]\n",
    "        else\n",
    "            case piece.kind\n",
    "                when Pawn\n",
    "                    square_table = pawn_square_table\n",
    "                when Knight\n",
    "                    square_table = knight_square_table\n",
    "                when Bishop\n",
    "                    square_table = bishop_square_table\n",
    "                when Rook\n",
    "                    square_table = rook_square_table\n",
    "                when Queen\n",
    "                    square_table = queen_square_table\n",
    "                when King\n",
    "                    square_table = king_square_table\n",
    "            end\n",
    "            return -square_table[8 - i + 8*(j-1)]\n",
    "        end\n",
    "end"
   ]
  },
  {
   "cell_type": "code",
   "execution_count": 46,
   "id": "97ce0a27",
   "metadata": {},
   "outputs": [
    {
     "ename": "LoadError",
     "evalue": "syntax: incomplete: \"for\" at In[46]:5 requires end",
     "output_type": "error",
     "traceback": [
      "syntax: incomplete: \"for\" at In[46]:5 requires end",
      "",
      "Stacktrace:",
      " [1] top-level scope",
      "   @ In[46]:1"
     ]
    }
   ],
   "source": [
    "function evaluate_position(board:: Board)\n",
    "    score = 0\n",
    "    files = [\"a\", \"b\", \"c\", \"d\", \"e\", \"f\", \"g\", \"h\"]\n",
    "    for file in files\n",
    "        for rank in 1:8\n",
    "            piece = get_piece()\n",
    "             if piece == EMPTY\n",
    "                continue\n",
    "            end\n",
    "            score += value + square_value\n",
    "        end\n",
    "    end \n",
    "    return score \n",
    "end \n",
    "                \n",
    "            "
   ]
  }
 ],
 "metadata": {
  "kernelspec": {
   "display_name": "Julia 1.8.2",
   "language": "julia",
   "name": "julia-1.8"
  },
  "language_info": {
   "file_extension": ".jl",
   "mimetype": "application/julia",
   "name": "julia",
   "version": "1.8.2"
  }
 },
 "nbformat": 4,
 "nbformat_minor": 5
}
