{
 "cells": [
  {
   "cell_type": "code",
   "execution_count": null,
   "metadata": {},
   "outputs": [],
   "source": [
    "HTML(read(open(\"style.css\"), String))"
   ]
  },
  {
   "cell_type": "markdown",
   "metadata": {},
   "source": [
    "# PGN to Game Object\n",
    "\n",
    "This notebook allows you to import saved PGN files into your code. It will help us reconstruct games that we played with the engine."
   ]
  },
  {
   "cell_type": "code",
   "execution_count": null,
   "metadata": {},
   "outputs": [],
   "source": [
    "using Pkg\n",
    "#Pkg.add(\"Chess\")\n",
    "using Chess, Chess.PGN"
   ]
  },
  {
   "attachments": {},
   "cell_type": "markdown",
   "metadata": {},
   "source": [
    "### Function: function openPGNtoGame(filename)\n",
    "\n",
    "This function takes a PGN filename, opens the file and reads the contents using the PGNReader module. It then returns the Game object that was read. \n",
    "\n",
    "Arguments:\n",
    "1. `filename:: String:` The name of the file to be read.\n",
    "\n",
    "\n",
    "Returns:\n",
    "1. `game: Game`: A chess game object representing the contents of the PGN file."
   ]
  },
  {
   "cell_type": "code",
   "execution_count": null,
   "metadata": {},
   "outputs": [],
   "source": [
    "function openPGNtoGame(filename)\n",
    "    try \n",
    "        currentDir = pwd()\n",
    "        cd(dirname(pwd())*\"/Games\")    # Change from /Julia to /Games directory\n",
    "        io = open(filename, \"r\")\n",
    "        reader = PGNReader(io)\n",
    "        game = readgame(reader, annotations=true)\n",
    "        cd(currentDir)       # Return back to /Julia directory\n",
    "        return game\n",
    "    catch e\n",
    "        println(\"An error occurred while reading the PGN file: \", e)\n",
    "        return nothing\n",
    "    end\n",
    "end"
   ]
  },
  {
   "cell_type": "code",
   "execution_count": null,
   "metadata": {},
   "outputs": [],
   "source": []
  }
 ],
 "metadata": {
  "kernelspec": {
   "display_name": "Julia 1.8.2",
   "language": "julia",
   "name": "julia-1.8"
  },
  "language_info": {
   "file_extension": ".jl",
   "mimetype": "application/julia",
   "name": "julia",
   "version": "1.8.2"
  }
 },
 "nbformat": 4,
 "nbformat_minor": 4
}
