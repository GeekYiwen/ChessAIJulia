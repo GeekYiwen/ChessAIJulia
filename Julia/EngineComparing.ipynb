{
 "cells": [
  {
   "cell_type": "code",
   "execution_count": null,
   "metadata": {},
   "outputs": [],
   "source": [
    "HTML(read(open(\"style.css\"), String))"
   ]
  },
  {
   "attachments": {},
   "cell_type": "markdown",
   "metadata": {},
   "source": [
    "# Engine Comparing\n",
    "\n"
   ]
  },
  {
   "cell_type": "code",
   "execution_count": 1,
   "metadata": {},
   "outputs": [],
   "source": [
    "using Pkg\n",
    "# Pkg.add(\"Chess\")\n",
    "using Chess\n",
    "using Random\n",
    "# Pkg.add(\"NBInclude\")\n",
    "using NBInclude"
   ]
  },
  {
   "cell_type": "code",
   "execution_count": 2,
   "metadata": {},
   "outputs": [
    {
     "data": {
      "text/plain": [
       "terminal_evaluation (generic function with 2 methods)"
      ]
     },
     "execution_count": 2,
     "metadata": {},
     "output_type": "execute_result"
    }
   ],
   "source": [
    "@nbinclude(\"AdvancedBoard.ipynb\")"
   ]
  },
  {
   "attachments": {},
   "cell_type": "markdown",
   "metadata": {},
   "source": [
    "## Engine"
   ]
  },
  {
   "attachments": {},
   "cell_type": "markdown",
   "metadata": {},
   "source": [
    "### Importing Engines"
   ]
  },
  {
   "cell_type": "code",
   "execution_count": 3,
   "metadata": {},
   "outputs": [
    {
     "data": {
      "text/plain": [
       "iterativeDeepening (generic function with 5 methods)"
      ]
     },
     "execution_count": 3,
     "metadata": {},
     "output_type": "execute_result"
    }
   ],
   "source": [
    "@nbinclude(\"RandomChess.ipynb\")\n",
    "@nbinclude(\"Minimax.ipynb\")\n",
    "@nbinclude(\"AlphaBetaPruning.ipynb\")\n",
    "@nbinclude(\"IterativeDeepening.ipynb\")"
   ]
  },
  {
   "attachments": {},
   "cell_type": "markdown",
   "metadata": {},
   "source": [
    "### Random Engine: "
   ]
  },
  {
   "cell_type": "code",
   "execution_count": 5,
   "metadata": {},
   "outputs": [
    {
     "name": "stdout",
     "output_type": "stream",
     "text": [
      "  0.000016 seconds (2 allocations: 1.797 KiB)\n"
     ]
    },
    {
     "data": {
      "text/plain": [
       "Move(b1c3)"
      ]
     },
     "execution_count": 5,
     "metadata": {},
     "output_type": "execute_result"
    }
   ],
   "source": [
    "@time generateRandomMove(board)\n"
   ]
  },
  {
   "attachments": {},
   "cell_type": "markdown",
   "metadata": {},
   "source": [
    "### Minimax:"
   ]
  },
  {
   "cell_type": "code",
   "execution_count": 12,
   "metadata": {},
   "outputs": [
    {
     "name": "stdout",
     "output_type": "stream",
     "text": [
      "depth: 1 :   0.000288 seconds (1.27 k allocations: 75.328 KiB)\n",
      "depth: 2 :   0.000998 seconds (16.13 k allocations: 1.057 MiB)\n",
      "depth: 3 :   0.028712 seconds (497.69 k allocations: 32.469 MiB, 21.42% gc time)\n",
      "depth: 4 :   0.712952 seconds (14.56 M allocations: 958.160 MiB, 7.56% gc time)\n",
      "depth: 5 :  23.254259 seconds (474.55 M allocations: 30.189 GiB, 6.93% gc time)\n"
     ]
    }
   ],
   "source": [
    "\n",
    "for i in 1:5\n",
    "    print(\"depth \", i , \": \")\n",
    "    @time minimax_noMem(b1, boardScore, i)\n",
    "end\n",
    "\n",
    "# @time minimax_noMem(b1, boardScore, 4)"
   ]
  },
  {
   "cell_type": "code",
   "execution_count": 13,
   "metadata": {},
   "outputs": [
    {
     "name": "stdout",
     "output_type": "stream",
     "text": [
      "depth 1:   0.000111 seconds (843 allocations: 72.547 KiB)\n",
      "depth 2:   0.001236 seconds (16.41 k allocations: 1.508 MiB)\n",
      "depth 3:   0.037381 seconds (431.90 k allocations: 35.855 MiB)\n",
      "depth 4:   1.023599 seconds (8.01 M allocations: 628.796 MiB, 30.15% gc time)\n",
      "depth 5:  20.143161 seconds (149.75 M allocations: 10.820 GiB, 14.70% gc time)\n"
     ]
    }
   ],
   "source": [
    "for i in 1:5\n",
    "        print(\"depth \", i , \": \")\n",
    "        @time minimax(board, i)\n",
    "end\n"
   ]
  },
  {
   "attachments": {},
   "cell_type": "markdown",
   "metadata": {},
   "source": [
    "### Alpha Beta Pruning"
   ]
  },
  {
   "cell_type": "code",
   "execution_count": 15,
   "metadata": {},
   "outputs": [
    {
     "name": "stdout",
     "output_type": "stream",
     "text": [
      "depth 1:   0.000079 seconds (601 allocations: 41.797 KiB)\n",
      "depth 2:   0.001400 seconds (12.90 k allocations: 937.359 KiB)\n",
      "depth 3:   0.023793 seconds (252.29 k allocations: 17.964 MiB)\n",
      "depth 4:   0.230518 seconds (2.52 M allocations: 187.117 MiB)\n",
      "depth 5:   2.370186 seconds (18.91 M allocations: 1.376 GiB, 28.88% gc time)\n",
      "depth 6:  30.131101 seconds (310.35 M allocations: 23.835 GiB, 5.97% gc time)\n"
     ]
    }
   ],
   "source": [
    "for i in 1:6\n",
    "    print(\"depth \", i , \": \")\n",
    "    @time alphaBetaPruning_noMem(aB1, i)\n",
    "end"
   ]
  },
  {
   "cell_type": "code",
   "execution_count": 18,
   "metadata": {},
   "outputs": [
    {
     "name": "stdout",
     "output_type": "stream",
     "text": [
      "depth 1:   0.000088 seconds (641 allocations: 45.375 KiB)\n",
      "depth 2:   0.001148 seconds (13.94 k allocations: 1.104 MiB)\n",
      "depth 3:   0.022663 seconds (256.34 k allocations: 20.777 MiB)\n",
      "depth 4:   0.271792 seconds (2.55 M allocations: 198.641 MiB)\n",
      "depth 5:   2.309635 seconds (19.05 M allocations: 1.502 GiB, 5.09% gc time)\n",
      "depth 6:  40.939080 seconds (311.98 M allocations: 24.417 GiB, 6.50% gc time)\n"
     ]
    }
   ],
   "source": [
    "for i in 1:6\n",
    "    print(\"depth \", i , \": \")\n",
    "    @time alphaBetaPruning(aB1, i)\n",
    "end"
   ]
  },
  {
   "attachments": {},
   "cell_type": "markdown",
   "metadata": {},
   "source": [
    "### Iterativ Deepening"
   ]
  },
  {
   "cell_type": "code",
   "execution_count": 19,
   "metadata": {},
   "outputs": [
    {
     "name": "stdout",
     "output_type": "stream",
     "text": [
      "depth 1:   0.000644 seconds (3.05 k allocations: 396.320 KiB)\n",
      "depth 2:   0.006060 seconds (38.93 k allocations: 5.016 MiB)\n",
      "depth 3:   0.029808 seconds (183.89 k allocations: 22.987 MiB)\n",
      "depth 4:   0.392371 seconds (2.48 M allocations: 295.814 MiB)\n",
      "depth 5:   2.862997 seconds (16.93 M allocations: 1.968 GiB, 6.54% gc time)\n",
      "depth 6:  23.856391 seconds (143.23 M allocations: 16.821 GiB, 6.02% gc time)\n"
     ]
    }
   ],
   "source": [
    "for i in 1:6\n",
    "    cache = initCache()\n",
    "    print(\"depth \", i , \": \")\n",
    "    @time iterativeDeepening(aB1, i, cache, false,  false, false )\n",
    "end"
   ]
  },
  {
   "cell_type": "code",
   "execution_count": 20,
   "metadata": {},
   "outputs": [
    {
     "name": "stdout",
     "output_type": "stream",
     "text": [
      "  0.457176 seconds (2.48 M allocations: 295.814 MiB, 10.15% gc time)\n",
      "depth 1:   0.000479 seconds (3.05 k allocations: 396.320 KiB)\n",
      "depth 2:   0.004992 seconds (38.93 k allocations: 5.016 MiB)\n",
      "depth 3:   0.025687 seconds (183.89 k allocations: 22.987 MiB)\n",
      "depth 4:   0.370349 seconds (2.48 M allocations: 295.814 MiB)\n",
      "depth 5:   2.856788 seconds (16.93 M allocations: 1.968 GiB, 6.65% gc time)\n",
      "depth 6:  24.545907 seconds (143.23 M allocations: 16.821 GiB, 6.01% gc time)\n"
     ]
    }
   ],
   "source": [
    "for i in 1: 6\n",
    "    cache = initCache()\n",
    "    print(\"depth \", i , \": \")\n",
    "    @time iterativeDeepening(aB1, i, cache, true,  false, false )\n",
    "end"
   ]
  },
  {
   "attachments": {},
   "cell_type": "markdown",
   "metadata": {},
   "source": [
    "### King's Indian Defence (Black to move)"
   ]
  },
  {
   "cell_type": "code",
   "execution_count": null,
   "metadata": {},
   "outputs": [],
   "source": [
    "b1 = fromfen(\"r1bqkb1r/pppp1ppp/2n2n2/1B2p3/4P3/5N2/PPPP1PPP/RNBQK2R w KQkq - 0 1\")\n",
    "boardScore = evaluate_position(b1)\n",
    "aB1 = AdvBoard(b1)"
   ]
  },
  {
   "cell_type": "markdown",
   "metadata": {},
   "source": [
    "Alpha Beta Pruning"
   ]
  },
  {
   "cell_type": "code",
   "execution_count": null,
   "metadata": {},
   "outputs": [],
   "source": [
    "@time alphaBetaPruning_noMem(aB1, 4)"
   ]
  },
  {
   "cell_type": "code",
   "execution_count": null,
   "metadata": {},
   "outputs": [],
   "source": [
    "@time alphaBetaPruning(aB1, 4)"
   ]
  },
  {
   "cell_type": "markdown",
   "metadata": {},
   "source": [
    "Iterativ Deepening"
   ]
  },
  {
   "cell_type": "code",
   "execution_count": null,
   "metadata": {},
   "outputs": [],
   "source": [
    "@time iterativeDeepening(aB1, 4)"
   ]
  },
  {
   "attachments": {},
   "cell_type": "markdown",
   "metadata": {},
   "source": [
    "## Analyse Time "
   ]
  },
  {
   "attachments": {},
   "cell_type": "markdown",
   "metadata": {},
   "source": [
    "### Berlin Opening (White to move)"
   ]
  },
  {
   "cell_type": "code",
   "execution_count": null,
   "metadata": {},
   "outputs": [],
   "source": [
    "### Berlin Opening (White to move)\n",
    "b1 = fromfen(\"r1bqkb1r/pppp1ppp/2n2n2/1B2p3/4P3/5N2/PPPP1PPP/RNBQK2R w KQkq - 0 1\")\n",
    "boardScore = evaluate_position(b1)\n",
    "aB1 = AdvBoard(b1)"
   ]
  }
 ],
 "metadata": {
  "kernelspec": {
   "display_name": "Julia 1.8.2",
   "language": "julia",
   "name": "julia-1.8"
  },
  "language_info": {
   "file_extension": ".jl",
   "mimetype": "application/julia",
   "name": "julia",
   "version": "1.8.2"
  },
  "orig_nbformat": 4
 },
 "nbformat": 4,
 "nbformat_minor": 2
}
