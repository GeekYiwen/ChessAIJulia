{
 "cells": [
  {
   "cell_type": "markdown",
   "metadata": {},
   "source": [
    "# Simple Evaluation Function\n",
    "\n",
    "This notebook can return a static centipawn value for each chess position. It will not look into the future and only consider the current state of the board. \n",
    "\n",
    "This method has been developed by Tomasz Michniewski in the Polish chess programming discussion list (progszach).\n",
    "\n",
    "\n",
    "https://www.chessprogramming.org/Simplified_Evaluation_Function"
   ]
  },
  {
   "cell_type": "code",
   "execution_count": 104,
   "metadata": {},
   "outputs": [],
   "source": [
    "using Pkg\n",
    "# Pkg.add(\"Chess\")\n",
    "using Chess"
   ]
  },
  {
   "cell_type": "code",
   "execution_count": 105,
   "metadata": {
    "collapsed": true
   },
   "outputs": [
    {
     "data": {
      "text/plain": [
       "64-element Vector{Int64}:\n",
       " -50\n",
       " -40\n",
       " -30\n",
       " -20\n",
       " -20\n",
       " -30\n",
       " -40\n",
       " -50\n",
       " -30\n",
       " -20\n",
       " -10\n",
       "   0\n",
       "   0\n",
       "   ⋮\n",
       "   0\n",
       "   0\n",
       " -30\n",
       " -30\n",
       " -50\n",
       " -30\n",
       " -30\n",
       " -30\n",
       " -30\n",
       " -30\n",
       " -30\n",
       " -50"
      ]
     },
     "execution_count": 105,
     "metadata": {},
     "output_type": "execute_result"
    }
   ],
   "source": [
    "pawn_square_table = [\n",
    "     0,  0,  0,  0,  0,  0,  0,  0,\n",
    "     5, 10, 10,-20,-20, 10, 10,  5,\n",
    "     5, -5,-10,  0,  0,-10, -5,  5,\n",
    "     0,  0,  0, 20, 20,  0,  0,  0,\n",
    "     5,  5, 10, 25, 25, 10,  5,  5,\n",
    "    10, 10, 20, 30, 30, 20, 10, 10,\n",
    "    50, 50, 50, 50, 50, 50, 50, 50,\n",
    "     0,  0,  0,  0,  0,  0,  0,  0\n",
    "]\n",
    "\n",
    "\n",
    "knight_square_table = [\n",
    "    -50,-40,-30,-30,-30,-30,-40,-50,\n",
    "    -40,-20,  0,  5,  5,  0,-20,-40,\n",
    "    -30,  5, 10, 15, 15, 10,  5,-30,\n",
    "    -30,  0, 15, 20, 20, 15,  0,-30,\n",
    "    -30,  5, 15, 20, 20, 15,  5,-30,\n",
    "    -30,  0, 10, 15, 15, 10,  0,-30,\n",
    "    -40,-20,  0,  0,  0,  0,-20,-40,\n",
    "    -50,-40,-30,-30,-30,-30,-40,-50\n",
    "]\n",
    "\n",
    "bishop_square_table = [\n",
    "    -20,-10,-10,-10,-10,-10,-10,-20,\n",
    "    -10,  5,  0,  0,  0,  0,  5,-10,\n",
    "    -10, 10, 10, 10, 10, 10, 10,-10,\n",
    "    -10,  0, 10, 10, 10, 10,  0,-10,\n",
    "    -10,  5,  5, 10, 10,  5,  5,-10,\n",
    "    -10,  0,  5, 10, 10,  5,  0,-10,\n",
    "    -10,  0,  0,  0,  0,  0,  0,-10,\n",
    "    -20,-10,-10,-10,-10,-10,-10,-20\n",
    "]\n",
    "\n",
    "rook_square_table = [\n",
    "     0,  0,  0,  5,  5,  0,  0,  0,\n",
    "    -5,  0,  0,  0,  0,  0,  0, -5,\n",
    "    -5,  0,  0,  0,  0,  0,  0, -5,\n",
    "    -5,  0,  0,  0,  0,  0,  0, -5,\n",
    "    -5,  0,  0,  0,  0,  0,  0, -5,\n",
    "    -5,  0,  0,  0,  0,  0,  0, -5,\n",
    "     5, 10, 10, 10, 10, 10, 10,  5,\n",
    "     0,  0,  0,  0,  0,  0,  0,  0\n",
    "]\n",
    "\n",
    "queen_square_table = [\n",
    "    -20,-10,-10, -5, -5,-10,-10,-20,\n",
    "    -10,  0,  0,  0,  0,  0,  0,-10,\n",
    "    -10,  5,  5,  5,  5,  5,  0,-10,\n",
    "     0,  0,  5,  5,  5,  5,  0, -5,\n",
    "     0,  5,  5,  5,  5,  5,  0, -5,\n",
    "    -10,  0,  5,  5,  5,  5,  0,-10,\n",
    "    -10,  0,  0,  0,  0,  0,  0,-10,\n",
    "    -20,-10,-10, -5, -5,-10,-10,-20\n",
    "]\n",
    "\n",
    "king_square_middle_game_table = [\n",
    "    20, 30, 10,  0,  0, 10, 30, 20,\n",
    "    20, 20,  0,  0,  0,  0, 20, 20,\n",
    "    -10,-20,-20,-20,-20,-20,-20,-10,\n",
    "    -20,-30,-30,-40,-40,-30,-30,-20,\n",
    "    -30,-40,-40,-50,-50,-40,-40,-30,\n",
    "    -30,-40,-40,-50,-50,-40,-40,-30,\n",
    "    -30,-40,-40,-50,-50,-40,-40,-30,\n",
    "    -30,-40,-40,-50,-50,-40,-40,-40\n",
    "]\n",
    "\n",
    "king_square_end_game_table = [\n",
    "    -50,-40,-30,-20,-20,-30,-40,-50,\n",
    "    -30,-20,-10,  0,  0,-10,-20,-30,\n",
    "    -30,-10, 20, 30, 30, 20,-10,-30,\n",
    "    -30,-10, 30, 40, 40, 30,-10,-30,\n",
    "    -30,-10, 30, 40, 40, 30,-10,-30,\n",
    "    -30,-10, 20, 30, 30, 20,-10,-30,\n",
    "    -30,-30,  0,  0,  0,  0,-30,-30,\n",
    "    -50,-30,-30,-30,-30,-30,-30,-50\n",
    "]"
   ]
  },
  {
   "cell_type": "code",
   "execution_count": 106,
   "metadata": {},
   "outputs": [
    {
     "data": {
      "text/plain": [
       "get_files (generic function with 1 method)"
      ]
     },
     "execution_count": 106,
     "metadata": {},
     "output_type": "execute_result"
    }
   ],
   "source": [
    "function get_files()\n",
    "    return ('a', 'b', 'c', 'd', 'e', 'f', 'g', 'h')\n",
    "end"
   ]
  },
  {
   "cell_type": "code",
   "execution_count": 107,
   "metadata": {},
   "outputs": [
    {
     "data": {
      "text/plain": [
       "('a', 'b', 'c', 'd', 'e', 'f', 'g', 'h')"
      ]
     },
     "execution_count": 107,
     "metadata": {},
     "output_type": "execute_result"
    }
   ],
   "source": [
    "get_files()"
   ]
  },
  {
   "cell_type": "code",
   "execution_count": 108,
   "metadata": {},
   "outputs": [
    {
     "data": {
      "text/plain": [
       "get_Index_by_File (generic function with 1 method)"
      ]
     },
     "execution_count": 108,
     "metadata": {},
     "output_type": "execute_result"
    }
   ],
   "source": [
    "function get_Index_by_File(myfile::Char)\n",
    "    files=get_files()\n",
    "    return findfirst(item -> item == myfile, files)\n",
    "end"
   ]
  },
  {
   "cell_type": "code",
   "execution_count": 109,
   "metadata": {},
   "outputs": [
    {
     "data": {
      "text/plain": [
       "4"
      ]
     },
     "execution_count": 109,
     "metadata": {},
     "output_type": "execute_result"
    }
   ],
   "source": [
    "get_Index_by_File('d')"
   ]
  },
  {
   "cell_type": "code",
   "execution_count": 110,
   "metadata": {},
   "outputs": [
    {
     "data": {
      "text/html": [
       "Board:<div class=\"chessboard\"><style soped=\"true\">.dark-square {\n",
       "    fill: #c3936a;\n",
       "    stroke-width: 0;\n",
       "}\n",
       ".light-square {\n",
       "    fill: #ffd7a6;\n",
       "    stroke-width: 0;\n",
       "}\n",
       ".highlight {\n",
       "    fill: #47d18b;\n",
       "}\n",
       "@media (prefers-color-scheme: dark) {\n",
       "    .dark-square {\n",
       "        fill: #00796b;\n",
       "    }\n",
       "    .light-square {\n",
       "        fill: #3ca59b;\n",
       "    }\n",
       "    .highlight {\n",
       "        fill: #d23600;\n",
       "    }\n",
       "}\n",
       "</style><svg style=\"float: left; margin-right: 20px\" viewBox=\"0 0 8 8\" height=\"280\" width=\"280\"><g><g><rect x=\"0\" y=\"0\" class=\"light-square\" height=\"1\" width=\"1\"></rect><image x=\"0\" xlink:href=\"https://raw.githubusercontent.com/romstad/Chess.jl/master/img/br.svg\" y=\"0\" height=\"1\" width=\"1\"></image></g><g><rect x=\"0\" y=\"1\" class=\"dark-square\" height=\"1\" width=\"1\"></rect><image x=\"0\" xlink:href=\"https://raw.githubusercontent.com/romstad/Chess.jl/master/img/bp.svg\" y=\"1\" height=\"1\" width=\"1\"></image></g><g><rect x=\"0\" y=\"2\" class=\"light-square\" height=\"1\" width=\"1\"></rect><g></g></g><g><rect x=\"0\" y=\"3\" class=\"dark-square\" height=\"1\" width=\"1\"></rect><g></g></g><g><rect x=\"0\" y=\"4\" class=\"light-square\" height=\"1\" width=\"1\"></rect><g></g></g><g><rect x=\"0\" y=\"5\" class=\"dark-square\" height=\"1\" width=\"1\"></rect><g></g></g><g><rect x=\"0\" y=\"6\" class=\"light-square\" height=\"1\" width=\"1\"></rect><image x=\"0\" xlink:href=\"https://raw.githubusercontent.com/romstad/Chess.jl/master/img/wp.svg\" y=\"6\" height=\"1\" width=\"1\"></image></g><g><rect x=\"0\" y=\"7\" class=\"dark-square\" height=\"1\" width=\"1\"></rect><image x=\"0\" xlink:href=\"https://raw.githubusercontent.com/romstad/Chess.jl/master/img/wr.svg\" y=\"7\" height=\"1\" width=\"1\"></image></g><g><rect x=\"1\" y=\"0\" class=\"dark-square\" height=\"1\" width=\"1\"></rect><image x=\"1\" xlink:href=\"https://raw.githubusercontent.com/romstad/Chess.jl/master/img/bn.svg\" y=\"0\" height=\"1\" width=\"1\"></image></g><g><rect x=\"1\" y=\"1\" class=\"light-square\" height=\"1\" width=\"1\"></rect><image x=\"1\" xlink:href=\"https://raw.githubusercontent.com/romstad/Chess.jl/master/img/bp.svg\" y=\"1\" height=\"1\" width=\"1\"></image></g><g><rect x=\"1\" y=\"2\" class=\"dark-square\" height=\"1\" width=\"1\"></rect><g></g></g><g><rect x=\"1\" y=\"3\" class=\"light-square\" height=\"1\" width=\"1\"></rect><g></g></g><g><rect x=\"1\" y=\"4\" class=\"dark-square\" height=\"1\" width=\"1\"></rect><g></g></g><g><rect x=\"1\" y=\"5\" class=\"light-square\" height=\"1\" width=\"1\"></rect><g></g></g><g><rect x=\"1\" y=\"6\" class=\"dark-square\" height=\"1\" width=\"1\"></rect><image x=\"1\" xlink:href=\"https://raw.githubusercontent.com/romstad/Chess.jl/master/img/wp.svg\" y=\"6\" height=\"1\" width=\"1\"></image></g><g><rect x=\"1\" y=\"7\" class=\"light-square\" height=\"1\" width=\"1\"></rect><image x=\"1\" xlink:href=\"https://raw.githubusercontent.com/romstad/Chess.jl/master/img/wn.svg\" y=\"7\" height=\"1\" width=\"1\"></image></g><g><rect x=\"2\" y=\"0\" class=\"light-square\" height=\"1\" width=\"1\"></rect><image x=\"2\" xlink:href=\"https://raw.githubusercontent.com/romstad/Chess.jl/master/img/bb.svg\" y=\"0\" height=\"1\" width=\"1\"></image></g><g><rect x=\"2\" y=\"1\" class=\"dark-square\" height=\"1\" width=\"1\"></rect><image x=\"2\" xlink:href=\"https://raw.githubusercontent.com/romstad/Chess.jl/master/img/bp.svg\" y=\"1\" height=\"1\" width=\"1\"></image></g><g><rect x=\"2\" y=\"2\" class=\"light-square\" height=\"1\" width=\"1\"></rect><g></g></g><g><rect x=\"2\" y=\"3\" class=\"dark-square\" height=\"1\" width=\"1\"></rect><g></g></g><g><rect x=\"2\" y=\"4\" class=\"light-square\" height=\"1\" width=\"1\"></rect><g></g></g><g><rect x=\"2\" y=\"5\" class=\"dark-square\" height=\"1\" width=\"1\"></rect><g></g></g><g><rect x=\"2\" y=\"6\" class=\"light-square\" height=\"1\" width=\"1\"></rect><image x=\"2\" xlink:href=\"https://raw.githubusercontent.com/romstad/Chess.jl/master/img/wp.svg\" y=\"6\" height=\"1\" width=\"1\"></image></g><g><rect x=\"2\" y=\"7\" class=\"dark-square\" height=\"1\" width=\"1\"></rect><image x=\"2\" xlink:href=\"https://raw.githubusercontent.com/romstad/Chess.jl/master/img/wb.svg\" y=\"7\" height=\"1\" width=\"1\"></image></g><g><rect x=\"3\" y=\"0\" class=\"dark-square\" height=\"1\" width=\"1\"></rect><image x=\"3\" xlink:href=\"https://raw.githubusercontent.com/romstad/Chess.jl/master/img/bq.svg\" y=\"0\" height=\"1\" width=\"1\"></image></g><g><rect x=\"3\" y=\"1\" class=\"light-square\" height=\"1\" width=\"1\"></rect><image x=\"3\" xlink:href=\"https://raw.githubusercontent.com/romstad/Chess.jl/master/img/bp.svg\" y=\"1\" height=\"1\" width=\"1\"></image></g><g><rect x=\"3\" y=\"2\" class=\"dark-square\" height=\"1\" width=\"1\"></rect><g></g></g><g><rect x=\"3\" y=\"3\" class=\"light-square\" height=\"1\" width=\"1\"></rect><g></g></g><g><rect x=\"3\" y=\"4\" class=\"dark-square\" height=\"1\" width=\"1\"></rect><g></g></g><g><rect x=\"3\" y=\"5\" class=\"light-square\" height=\"1\" width=\"1\"></rect><g></g></g><g><rect x=\"3\" y=\"6\" class=\"dark-square\" height=\"1\" width=\"1\"></rect><image x=\"3\" xlink:href=\"https://raw.githubusercontent.com/romstad/Chess.jl/master/img/wp.svg\" y=\"6\" height=\"1\" width=\"1\"></image></g><g><rect x=\"3\" y=\"7\" class=\"light-square\" height=\"1\" width=\"1\"></rect><image x=\"3\" xlink:href=\"https://raw.githubusercontent.com/romstad/Chess.jl/master/img/wq.svg\" y=\"7\" height=\"1\" width=\"1\"></image></g><g><rect x=\"4\" y=\"0\" class=\"light-square\" height=\"1\" width=\"1\"></rect><image x=\"4\" xlink:href=\"https://raw.githubusercontent.com/romstad/Chess.jl/master/img/bk.svg\" y=\"0\" height=\"1\" width=\"1\"></image></g><g><rect x=\"4\" y=\"1\" class=\"dark-square\" height=\"1\" width=\"1\"></rect><image x=\"4\" xlink:href=\"https://raw.githubusercontent.com/romstad/Chess.jl/master/img/bp.svg\" y=\"1\" height=\"1\" width=\"1\"></image></g><g><rect x=\"4\" y=\"2\" class=\"light-square\" height=\"1\" width=\"1\"></rect><g></g></g><g><rect x=\"4\" y=\"3\" class=\"dark-square\" height=\"1\" width=\"1\"></rect><g></g></g><g><rect x=\"4\" y=\"4\" class=\"light-square\" height=\"1\" width=\"1\"></rect><g></g></g><g><rect x=\"4\" y=\"5\" class=\"dark-square\" height=\"1\" width=\"1\"></rect><g></g></g><g><rect x=\"4\" y=\"6\" class=\"light-square\" height=\"1\" width=\"1\"></rect><image x=\"4\" xlink:href=\"https://raw.githubusercontent.com/romstad/Chess.jl/master/img/wp.svg\" y=\"6\" height=\"1\" width=\"1\"></image></g><g><rect x=\"4\" y=\"7\" class=\"dark-square\" height=\"1\" width=\"1\"></rect><image x=\"4\" xlink:href=\"https://raw.githubusercontent.com/romstad/Chess.jl/master/img/wk.svg\" y=\"7\" height=\"1\" width=\"1\"></image></g><g><rect x=\"5\" y=\"0\" class=\"dark-square\" height=\"1\" width=\"1\"></rect><image x=\"5\" xlink:href=\"https://raw.githubusercontent.com/romstad/Chess.jl/master/img/bb.svg\" y=\"0\" height=\"1\" width=\"1\"></image></g><g><rect x=\"5\" y=\"1\" class=\"light-square\" height=\"1\" width=\"1\"></rect><image x=\"5\" xlink:href=\"https://raw.githubusercontent.com/romstad/Chess.jl/master/img/bp.svg\" y=\"1\" height=\"1\" width=\"1\"></image></g><g><rect x=\"5\" y=\"2\" class=\"dark-square\" height=\"1\" width=\"1\"></rect><g></g></g><g><rect x=\"5\" y=\"3\" class=\"light-square\" height=\"1\" width=\"1\"></rect><g></g></g><g><rect x=\"5\" y=\"4\" class=\"dark-square\" height=\"1\" width=\"1\"></rect><g></g></g><g><rect x=\"5\" y=\"5\" class=\"light-square\" height=\"1\" width=\"1\"></rect><g></g></g><g><rect x=\"5\" y=\"6\" class=\"dark-square\" height=\"1\" width=\"1\"></rect><image x=\"5\" xlink:href=\"https://raw.githubusercontent.com/romstad/Chess.jl/master/img/wp.svg\" y=\"6\" height=\"1\" width=\"1\"></image></g><g><rect x=\"5\" y=\"7\" class=\"light-square\" height=\"1\" width=\"1\"></rect><image x=\"5\" xlink:href=\"https://raw.githubusercontent.com/romstad/Chess.jl/master/img/wb.svg\" y=\"7\" height=\"1\" width=\"1\"></image></g><g><rect x=\"6\" y=\"0\" class=\"light-square\" height=\"1\" width=\"1\"></rect><image x=\"6\" xlink:href=\"https://raw.githubusercontent.com/romstad/Chess.jl/master/img/bn.svg\" y=\"0\" height=\"1\" width=\"1\"></image></g><g><rect x=\"6\" y=\"1\" class=\"dark-square\" height=\"1\" width=\"1\"></rect><image x=\"6\" xlink:href=\"https://raw.githubusercontent.com/romstad/Chess.jl/master/img/bp.svg\" y=\"1\" height=\"1\" width=\"1\"></image></g><g><rect x=\"6\" y=\"2\" class=\"light-square\" height=\"1\" width=\"1\"></rect><g></g></g><g><rect x=\"6\" y=\"3\" class=\"dark-square\" height=\"1\" width=\"1\"></rect><g></g></g><g><rect x=\"6\" y=\"4\" class=\"light-square\" height=\"1\" width=\"1\"></rect><g></g></g><g><rect x=\"6\" y=\"5\" class=\"dark-square\" height=\"1\" width=\"1\"></rect><g></g></g><g><rect x=\"6\" y=\"6\" class=\"light-square\" height=\"1\" width=\"1\"></rect><image x=\"6\" xlink:href=\"https://raw.githubusercontent.com/romstad/Chess.jl/master/img/wp.svg\" y=\"6\" height=\"1\" width=\"1\"></image></g><g><rect x=\"6\" y=\"7\" class=\"dark-square\" height=\"1\" width=\"1\"></rect><image x=\"6\" xlink:href=\"https://raw.githubusercontent.com/romstad/Chess.jl/master/img/wn.svg\" y=\"7\" height=\"1\" width=\"1\"></image></g><g><rect x=\"7\" y=\"0\" class=\"dark-square\" height=\"1\" width=\"1\"></rect><image x=\"7\" xlink:href=\"https://raw.githubusercontent.com/romstad/Chess.jl/master/img/br.svg\" y=\"0\" height=\"1\" width=\"1\"></image></g><g><rect x=\"7\" y=\"1\" class=\"light-square\" height=\"1\" width=\"1\"></rect><image x=\"7\" xlink:href=\"https://raw.githubusercontent.com/romstad/Chess.jl/master/img/bp.svg\" y=\"1\" height=\"1\" width=\"1\"></image></g><g><rect x=\"7\" y=\"2\" class=\"dark-square\" height=\"1\" width=\"1\"></rect><g></g></g><g><rect x=\"7\" y=\"3\" class=\"light-square\" height=\"1\" width=\"1\"></rect><g></g></g><g><rect x=\"7\" y=\"4\" class=\"dark-square\" height=\"1\" width=\"1\"></rect><g></g></g><g><rect x=\"7\" y=\"5\" class=\"light-square\" height=\"1\" width=\"1\"></rect><g></g></g><g><rect x=\"7\" y=\"6\" class=\"dark-square\" height=\"1\" width=\"1\"></rect><image x=\"7\" xlink:href=\"https://raw.githubusercontent.com/romstad/Chess.jl/master/img/wp.svg\" y=\"6\" height=\"1\" width=\"1\"></image></g><g><rect x=\"7\" y=\"7\" class=\"light-square\" height=\"1\" width=\"1\"></rect><image x=\"7\" xlink:href=\"https://raw.githubusercontent.com/romstad/Chess.jl/master/img/wr.svg\" y=\"7\" height=\"1\" width=\"1\"></image></g></g><g></g></svg><div><p>White to move</p><p>Castle rights: KQkq</p><p><a href=\"https://lichess.org/editor/rnbqkbnr/pppppppp/8/8/8/8/PPPPPPPP/RNBQKBNR_w_KQkq_-\" target=\"_blank\">Open in lichess</a></p></div></div>"
      ],
      "text/plain": [
       "Board (rnbqkbnr/pppppppp/8/8/8/8/PPPPPPPP/RNBQKBNR w KQkq -):\n",
       " r  n  b  q  k  b  n  r \n",
       " p  p  p  p  p  p  p  p \n",
       " -  -  -  -  -  -  -  - \n",
       " -  -  -  -  -  -  -  - \n",
       " -  -  -  -  -  -  -  - \n",
       " -  -  -  -  -  -  -  - \n",
       " P  P  P  P  P  P  P  P \n",
       " R  N  B  Q  K  B  N  R "
      ]
     },
     "execution_count": 110,
     "metadata": {},
     "output_type": "execute_result"
    }
   ],
   "source": [
    "b = startboard()"
   ]
  },
  {
   "cell_type": "code",
   "execution_count": 111,
   "metadata": {},
   "outputs": [
    {
     "data": {
      "text/plain": [
       "get_piece (generic function with 2 methods)"
      ]
     },
     "execution_count": 111,
     "metadata": {},
     "output_type": "execute_result"
    }
   ],
   "source": [
    "function get_piece(board, square)\n",
    "    return pieceon(board, square)\n",
    "end"
   ]
  },
  {
   "cell_type": "code",
   "execution_count": 112,
   "metadata": {},
   "outputs": [
    {
     "data": {
      "text/plain": [
       "get_piece (generic function with 2 methods)"
      ]
     },
     "execution_count": 112,
     "metadata": {},
     "output_type": "execute_result"
    }
   ],
   "source": [
    "function get_piece(board, file, rank)\n",
    "    square = squarefromstring(file * string(rank))\n",
    "    return get_piece(board, square)\n",
    "end"
   ]
  },
  {
   "cell_type": "code",
   "execution_count": 113,
   "metadata": {},
   "outputs": [
    {
     "name": "stdout",
     "output_type": "stream",
     "text": [
      "keine Figur vorhanden"
     ]
    },
    {
     "data": {
      "text/plain": [
       "PIECE_TYPE_NONE"
      ]
     },
     "execution_count": 113,
     "metadata": {},
     "output_type": "execute_result"
    }
   ],
   "source": [
    "piece = get_piece(b, \"g\", \"3\")\n",
    "if(piece == EMPTY)\n",
    "    print(\"keine Figur vorhanden\")\n",
    "end\n",
    "ptype(piece)"
   ]
  },
  {
   "cell_type": "code",
   "execution_count": 114,
   "metadata": {},
   "outputs": [
    {
     "data": {
      "text/plain": [
       "get_value (generic function with 1 method)"
      ]
     },
     "execution_count": 114,
     "metadata": {},
     "output_type": "execute_result"
    }
   ],
   "source": [
    "function get_value(piece::Piece)\n",
    "    \n",
    "    if ptype(piece) == PAWN\n",
    "        return 100\n",
    "    elseif ptype(piece) == KNIGHT\n",
    "        return 320\n",
    "    elseif ptype(piece) == BISHOP\n",
    "        return 330\n",
    "    elseif ptype(piece) == ROOK\n",
    "        return 500\n",
    "    elseif ptype(piece) == QUEEN\n",
    "        return 900\n",
    "    elseif ptype(piece) == KING \n",
    "        return 20000\n",
    "    else\n",
    "    print(\"Figur nicht vorhanden\")\n",
    "    return nothing        \n",
    "\n",
    "    end \n",
    "end\n"
   ]
  },
  {
   "cell_type": "code",
   "execution_count": 115,
   "metadata": {},
   "outputs": [
    {
     "data": {
      "text/plain": [
       "320"
      ]
     },
     "execution_count": 115,
     "metadata": {},
     "output_type": "execute_result"
    }
   ],
   "source": [
    "piece = get_piece(b, \"g\", \"1\")\n",
    "get_value(piece)"
   ]
  },
  {
   "cell_type": "markdown",
   "metadata": {},
   "source": [
    "Additionally we should define where the ending begins. For me it might be either if:\n",
    "\n",
    "Both sides have no queens or\n",
    "Every side which has a queen has additionally no other pieces or one minorpiece maximum."
   ]
  },
  {
   "cell_type": "code",
   "execution_count": 1,
   "metadata": {},
   "outputs": [
    {
     "data": {
      "text/plain": [
       "is_endgame (generic function with 1 method)"
      ]
     },
     "execution_count": 1,
     "metadata": {},
     "output_type": "execute_result"
    }
   ],
   "source": [
    "function is_endgame(board)\n",
    "    # Check if both sides have no queens\n",
    "    if(isempty(queens(board)))\n",
    "        return true\n",
    "    end \n",
    "     # Check if each side that has a queen also has no more than one minor piece\n",
    "    num_white_minor_pieces = squarecount(knights(board, WHITE)) + squarecount(bishops(board, WHITE))\n",
    "    num_black_minor_pieces = squarecount(knights(board, BLACK)) + squarecount(bishops(board, BLACK))\n",
    "    if(isempty(rooks(board)) && num_white_minor_pieces <= 1 && num_black_minor_pieces <= 1 )\n",
    "        return true\n",
    "    end\n",
    "    return false\n",
    "end"
   ]
  },
  {
   "cell_type": "code",
   "execution_count": 117,
   "metadata": {},
   "outputs": [
    {
     "data": {
      "text/plain": [
       "false"
      ]
     },
     "execution_count": 117,
     "metadata": {},
     "output_type": "execute_result"
    }
   ],
   "source": [
    "b = startboard()\n",
    "is_endgame(b)"
   ]
  },
  {
   "cell_type": "code",
   "execution_count": 118,
   "metadata": {},
   "outputs": [
    {
     "data": {
      "text/plain": [
       "true"
      ]
     },
     "execution_count": 118,
     "metadata": {},
     "output_type": "execute_result"
    }
   ],
   "source": [
    "b = fromfen(\"r3k2r/pppppppp/8/8/8/8/PPPPPPPP/R3K2R w KQkq - 0 1\")\n",
    "is_endgame(b)"
   ]
  },
  {
   "cell_type": "code",
   "execution_count": 119,
   "metadata": {},
   "outputs": [
    {
     "data": {
      "text/plain": [
       "get_square_value (generic function with 3 methods)"
      ]
     },
     "execution_count": 119,
     "metadata": {},
     "output_type": "execute_result"
    }
   ],
   "source": [
    "function get_square_value(board::Board, piece::Piece, x, y)\n",
    "    # Bestimmen Sie den Wert des Feldes für diese Schachfigur\n",
    "    if ptype(piece) == PAWN\n",
    "        square_table = pawn_square_table\n",
    "    elseif ptype(piece) == KNIGHT\n",
    "        square_table = knight_square_table\n",
    "    elseif ptype(piece) == BISHOP\n",
    "        square_table = bishop_square_table\n",
    "    elseif ptype(piece) == ROOK\n",
    "        square_table = rook_square_table\n",
    "    elseif ptype(piece) == QUEEN\n",
    "        square_table = queen_square_table\n",
    "    elseif ptype(piece) == KING\n",
    "        if(is_endgame(board))\n",
    "            square_table = king_square_end_game_table\n",
    "        else\n",
    "            square_table = king_square_middle_game_table\n",
    "        end \n",
    "         # square_table = king_square_middle_game_table\n",
    "    else\n",
    "        print(\"Figur nicht vorhanden\")\n",
    "        return nothing\n",
    "    end\n",
    "\n",
    "    if Chess.pcolor(piece) == WHITE\n",
    "        return square_table[x + 8*(y-1)]\n",
    "   elseif Chess.pcolor(piece) == BLACK\n",
    "        square_table = reverse(square_table)\n",
    "        return square_table[x + 8*(y-1)]\n",
    "    end\n",
    "end"
   ]
  },
  {
   "cell_type": "code",
   "execution_count": 120,
   "metadata": {},
   "outputs": [
    {
     "data": {
      "text/plain": [
       "-30"
      ]
     },
     "execution_count": 120,
     "metadata": {},
     "output_type": "execute_result"
    }
   ],
   "source": [
    "# White Piece \n",
    "b = startboard()\n",
    "piece = get_piece(b, \"e\", \"1\")\n",
    "get_square_value(b,piece,1,8)"
   ]
  },
  {
   "cell_type": "code",
   "execution_count": 121,
   "metadata": {},
   "outputs": [
    {
     "data": {
      "text/plain": [
       "20"
      ]
     },
     "execution_count": 121,
     "metadata": {},
     "output_type": "execute_result"
    }
   ],
   "source": [
    "#black Piece\n",
    "piece = get_piece(b, 'e', \"8\")\n",
    "get_square_value(b, piece, 1, 8)"
   ]
  },
  {
   "cell_type": "code",
   "execution_count": 122,
   "metadata": {},
   "outputs": [
    {
     "data": {
      "text/plain": [
       "calc_score (generic function with 2 methods)"
      ]
     },
     "execution_count": 122,
     "metadata": {},
     "output_type": "execute_result"
    }
   ],
   "source": [
    "function calc_score(board, piece, score, x, y)\n",
    "    if Chess.pcolor(piece) == WHITE\n",
    "        score += get_value(piece) + get_square_value(board,piece, x, y)\n",
    "    elseif Chess.pcolor(piece) == BLACK\n",
    "        score -= get_value(piece) + get_square_value(board, piece, x, y)\n",
    "    end\n",
    "    return score\n",
    "end"
   ]
  },
  {
   "cell_type": "code",
   "execution_count": 123,
   "metadata": {},
   "outputs": [
    {
     "data": {
      "text/plain": [
       "calc_score (generic function with 2 methods)"
      ]
     },
     "execution_count": 123,
     "metadata": {},
     "output_type": "execute_result"
    }
   ],
   "source": [
    "function calc_score(board, piece, score, square)\n",
    "    myfile = get_Index_by_File(tochar(file(square)))\n",
    "    myrank = parse(Int64, tochar(rank(square)))\n",
    "    return calc_score(board,piece, score, myfile, myrank)\n",
    "end "
   ]
  },
  {
   "cell_type": "code",
   "execution_count": 124,
   "metadata": {},
   "outputs": [
    {
     "data": {
      "text/plain": [
       "1020"
      ]
     },
     "execution_count": 124,
     "metadata": {},
     "output_type": "execute_result"
    }
   ],
   "source": [
    "move = movefromstring(\"d3d1\")\n",
    "toMove = to(move)\n",
    "capturePiece = get_piece(b, toMove)\n",
    "\n",
    "calc_score(b, capturePiece, 125, toMove)"
   ]
  },
  {
   "cell_type": "code",
   "execution_count": 125,
   "metadata": {},
   "outputs": [
    {
     "data": {
      "text/plain": [
       "evaluate_position (generic function with 1 method)"
      ]
     },
     "execution_count": 125,
     "metadata": {},
     "output_type": "execute_result"
    }
   ],
   "source": [
    "function evaluate_position(board:: Board)\n",
    "    if isterminal(board)\n",
    "        return terminal_evaluation(board)\n",
    "    end\n",
    "    score = 0\n",
    "    files = get_files()\n",
    "    for x in 1:8\n",
    "        for y in 1:8\n",
    "            piece = get_piece(board, files[x], y)\n",
    "             if piece == EMPTY\n",
    "                continue\n",
    "            end\n",
    "            score = calc_score(board,piece, score, x, y)\n",
    "        end\n",
    "    end \n",
    "    return score \n",
    "end   "
   ]
  },
  {
   "cell_type": "code",
   "execution_count": 126,
   "metadata": {},
   "outputs": [
    {
     "data": {
      "text/html": [
       "Board:<div class=\"chessboard\"><style soped=\"true\">.dark-square {\n",
       "    fill: #c3936a;\n",
       "    stroke-width: 0;\n",
       "}\n",
       ".light-square {\n",
       "    fill: #ffd7a6;\n",
       "    stroke-width: 0;\n",
       "}\n",
       ".highlight {\n",
       "    fill: #47d18b;\n",
       "}\n",
       "@media (prefers-color-scheme: dark) {\n",
       "    .dark-square {\n",
       "        fill: #00796b;\n",
       "    }\n",
       "    .light-square {\n",
       "        fill: #3ca59b;\n",
       "    }\n",
       "    .highlight {\n",
       "        fill: #d23600;\n",
       "    }\n",
       "}\n",
       "</style><svg style=\"float: left; margin-right: 20px\" viewBox=\"0 0 8 8\" height=\"280\" width=\"280\"><g><g><rect x=\"0\" y=\"0\" class=\"light-square\" height=\"1\" width=\"1\"></rect><image x=\"0\" xlink:href=\"https://raw.githubusercontent.com/romstad/Chess.jl/master/img/br.svg\" y=\"0\" height=\"1\" width=\"1\"></image></g><g><rect x=\"0\" y=\"1\" class=\"dark-square\" height=\"1\" width=\"1\"></rect><image x=\"0\" xlink:href=\"https://raw.githubusercontent.com/romstad/Chess.jl/master/img/bp.svg\" y=\"1\" height=\"1\" width=\"1\"></image></g><g><rect x=\"0\" y=\"2\" class=\"light-square\" height=\"1\" width=\"1\"></rect><g></g></g><g><rect x=\"0\" y=\"3\" class=\"dark-square\" height=\"1\" width=\"1\"></rect><g></g></g><g><rect x=\"0\" y=\"4\" class=\"light-square\" height=\"1\" width=\"1\"></rect><g></g></g><g><rect x=\"0\" y=\"5\" class=\"dark-square\" height=\"1\" width=\"1\"></rect><g></g></g><g><rect x=\"0\" y=\"6\" class=\"light-square\" height=\"1\" width=\"1\"></rect><image x=\"0\" xlink:href=\"https://raw.githubusercontent.com/romstad/Chess.jl/master/img/wp.svg\" y=\"6\" height=\"1\" width=\"1\"></image></g><g><rect x=\"0\" y=\"7\" class=\"dark-square\" height=\"1\" width=\"1\"></rect><image x=\"0\" xlink:href=\"https://raw.githubusercontent.com/romstad/Chess.jl/master/img/wr.svg\" y=\"7\" height=\"1\" width=\"1\"></image></g><g><rect x=\"1\" y=\"0\" class=\"dark-square\" height=\"1\" width=\"1\"></rect><image x=\"1\" xlink:href=\"https://raw.githubusercontent.com/romstad/Chess.jl/master/img/bn.svg\" y=\"0\" height=\"1\" width=\"1\"></image></g><g><rect x=\"1\" y=\"1\" class=\"light-square\" height=\"1\" width=\"1\"></rect><image x=\"1\" xlink:href=\"https://raw.githubusercontent.com/romstad/Chess.jl/master/img/bp.svg\" y=\"1\" height=\"1\" width=\"1\"></image></g><g><rect x=\"1\" y=\"2\" class=\"dark-square\" height=\"1\" width=\"1\"></rect><g></g></g><g><rect x=\"1\" y=\"3\" class=\"light-square\" height=\"1\" width=\"1\"></rect><g></g></g><g><rect x=\"1\" y=\"4\" class=\"dark-square\" height=\"1\" width=\"1\"></rect><g></g></g><g><rect x=\"1\" y=\"5\" class=\"light-square\" height=\"1\" width=\"1\"></rect><g></g></g><g><rect x=\"1\" y=\"6\" class=\"dark-square\" height=\"1\" width=\"1\"></rect><image x=\"1\" xlink:href=\"https://raw.githubusercontent.com/romstad/Chess.jl/master/img/wp.svg\" y=\"6\" height=\"1\" width=\"1\"></image></g><g><rect x=\"1\" y=\"7\" class=\"light-square\" height=\"1\" width=\"1\"></rect><image x=\"1\" xlink:href=\"https://raw.githubusercontent.com/romstad/Chess.jl/master/img/wn.svg\" y=\"7\" height=\"1\" width=\"1\"></image></g><g><rect x=\"2\" y=\"0\" class=\"light-square\" height=\"1\" width=\"1\"></rect><image x=\"2\" xlink:href=\"https://raw.githubusercontent.com/romstad/Chess.jl/master/img/bb.svg\" y=\"0\" height=\"1\" width=\"1\"></image></g><g><rect x=\"2\" y=\"1\" class=\"dark-square\" height=\"1\" width=\"1\"></rect><image x=\"2\" xlink:href=\"https://raw.githubusercontent.com/romstad/Chess.jl/master/img/bp.svg\" y=\"1\" height=\"1\" width=\"1\"></image></g><g><rect x=\"2\" y=\"2\" class=\"light-square\" height=\"1\" width=\"1\"></rect><g></g></g><g><rect x=\"2\" y=\"3\" class=\"dark-square\" height=\"1\" width=\"1\"></rect><g></g></g><g><rect x=\"2\" y=\"4\" class=\"light-square\" height=\"1\" width=\"1\"></rect><g></g></g><g><rect x=\"2\" y=\"5\" class=\"dark-square\" height=\"1\" width=\"1\"></rect><g></g></g><g><rect x=\"2\" y=\"6\" class=\"light-square\" height=\"1\" width=\"1\"></rect><image x=\"2\" xlink:href=\"https://raw.githubusercontent.com/romstad/Chess.jl/master/img/wp.svg\" y=\"6\" height=\"1\" width=\"1\"></image></g><g><rect x=\"2\" y=\"7\" class=\"dark-square\" height=\"1\" width=\"1\"></rect><image x=\"2\" xlink:href=\"https://raw.githubusercontent.com/romstad/Chess.jl/master/img/wb.svg\" y=\"7\" height=\"1\" width=\"1\"></image></g><g><rect x=\"3\" y=\"0\" class=\"dark-square\" height=\"1\" width=\"1\"></rect><image x=\"3\" xlink:href=\"https://raw.githubusercontent.com/romstad/Chess.jl/master/img/bq.svg\" y=\"0\" height=\"1\" width=\"1\"></image></g><g><rect x=\"3\" y=\"1\" class=\"light-square\" height=\"1\" width=\"1\"></rect><g></g></g><g><rect x=\"3\" y=\"2\" class=\"dark-square\" height=\"1\" width=\"1\"></rect><g></g></g><g><rect x=\"3\" y=\"3\" class=\"light-square\" height=\"1\" width=\"1\"></rect><image x=\"3\" xlink:href=\"https://raw.githubusercontent.com/romstad/Chess.jl/master/img/wp.svg\" y=\"3\" height=\"1\" width=\"1\"></image></g><g><rect x=\"3\" y=\"4\" class=\"dark-square\" height=\"1\" width=\"1\"></rect><g></g></g><g><rect x=\"3\" y=\"5\" class=\"light-square\" height=\"1\" width=\"1\"></rect><g></g></g><g><rect x=\"3\" y=\"6\" class=\"dark-square\" height=\"1\" width=\"1\"></rect><image x=\"3\" xlink:href=\"https://raw.githubusercontent.com/romstad/Chess.jl/master/img/wp.svg\" y=\"6\" height=\"1\" width=\"1\"></image></g><g><rect x=\"3\" y=\"7\" class=\"light-square\" height=\"1\" width=\"1\"></rect><image x=\"3\" xlink:href=\"https://raw.githubusercontent.com/romstad/Chess.jl/master/img/wq.svg\" y=\"7\" height=\"1\" width=\"1\"></image></g><g><rect x=\"4\" y=\"0\" class=\"light-square\" height=\"1\" width=\"1\"></rect><image x=\"4\" xlink:href=\"https://raw.githubusercontent.com/romstad/Chess.jl/master/img/bk.svg\" y=\"0\" height=\"1\" width=\"1\"></image></g><g><rect x=\"4\" y=\"1\" class=\"dark-square\" height=\"1\" width=\"1\"></rect><image x=\"4\" xlink:href=\"https://raw.githubusercontent.com/romstad/Chess.jl/master/img/bp.svg\" y=\"1\" height=\"1\" width=\"1\"></image></g><g><rect x=\"4\" y=\"2\" class=\"light-square\" height=\"1\" width=\"1\"></rect><g></g></g><g><rect x=\"4\" y=\"3\" class=\"dark-square\" height=\"1\" width=\"1\"></rect><g></g></g><g><rect x=\"4\" y=\"4\" class=\"light-square\" height=\"1\" width=\"1\"></rect><g></g></g><g><rect x=\"4\" y=\"5\" class=\"dark-square\" height=\"1\" width=\"1\"></rect><g></g></g><g><rect x=\"4\" y=\"6\" class=\"light-square\" height=\"1\" width=\"1\"></rect><g></g></g><g><rect x=\"4\" y=\"7\" class=\"dark-square\" height=\"1\" width=\"1\"></rect><image x=\"4\" xlink:href=\"https://raw.githubusercontent.com/romstad/Chess.jl/master/img/wk.svg\" y=\"7\" height=\"1\" width=\"1\"></image></g><g><rect x=\"5\" y=\"0\" class=\"dark-square\" height=\"1\" width=\"1\"></rect><image x=\"5\" xlink:href=\"https://raw.githubusercontent.com/romstad/Chess.jl/master/img/bb.svg\" y=\"0\" height=\"1\" width=\"1\"></image></g><g><rect x=\"5\" y=\"1\" class=\"light-square\" height=\"1\" width=\"1\"></rect><image x=\"5\" xlink:href=\"https://raw.githubusercontent.com/romstad/Chess.jl/master/img/bp.svg\" y=\"1\" height=\"1\" width=\"1\"></image></g><g><rect x=\"5\" y=\"2\" class=\"dark-square\" height=\"1\" width=\"1\"></rect><g></g></g><g><rect x=\"5\" y=\"3\" class=\"light-square\" height=\"1\" width=\"1\"></rect><g></g></g><g><rect x=\"5\" y=\"4\" class=\"dark-square\" height=\"1\" width=\"1\"></rect><g></g></g><g><rect x=\"5\" y=\"5\" class=\"light-square\" height=\"1\" width=\"1\"></rect><g></g></g><g><rect x=\"5\" y=\"6\" class=\"dark-square\" height=\"1\" width=\"1\"></rect><image x=\"5\" xlink:href=\"https://raw.githubusercontent.com/romstad/Chess.jl/master/img/wp.svg\" y=\"6\" height=\"1\" width=\"1\"></image></g><g><rect x=\"5\" y=\"7\" class=\"light-square\" height=\"1\" width=\"1\"></rect><image x=\"5\" xlink:href=\"https://raw.githubusercontent.com/romstad/Chess.jl/master/img/wb.svg\" y=\"7\" height=\"1\" width=\"1\"></image></g><g><rect x=\"6\" y=\"0\" class=\"light-square\" height=\"1\" width=\"1\"></rect><image x=\"6\" xlink:href=\"https://raw.githubusercontent.com/romstad/Chess.jl/master/img/bn.svg\" y=\"0\" height=\"1\" width=\"1\"></image></g><g><rect x=\"6\" y=\"1\" class=\"dark-square\" height=\"1\" width=\"1\"></rect><image x=\"6\" xlink:href=\"https://raw.githubusercontent.com/romstad/Chess.jl/master/img/bp.svg\" y=\"1\" height=\"1\" width=\"1\"></image></g><g><rect x=\"6\" y=\"2\" class=\"light-square\" height=\"1\" width=\"1\"></rect><g></g></g><g><rect x=\"6\" y=\"3\" class=\"dark-square\" height=\"1\" width=\"1\"></rect><g></g></g><g><rect x=\"6\" y=\"4\" class=\"light-square\" height=\"1\" width=\"1\"></rect><g></g></g><g><rect x=\"6\" y=\"5\" class=\"dark-square\" height=\"1\" width=\"1\"></rect><g></g></g><g><rect x=\"6\" y=\"6\" class=\"light-square\" height=\"1\" width=\"1\"></rect><image x=\"6\" xlink:href=\"https://raw.githubusercontent.com/romstad/Chess.jl/master/img/wp.svg\" y=\"6\" height=\"1\" width=\"1\"></image></g><g><rect x=\"6\" y=\"7\" class=\"dark-square\" height=\"1\" width=\"1\"></rect><image x=\"6\" xlink:href=\"https://raw.githubusercontent.com/romstad/Chess.jl/master/img/wn.svg\" y=\"7\" height=\"1\" width=\"1\"></image></g><g><rect x=\"7\" y=\"0\" class=\"dark-square\" height=\"1\" width=\"1\"></rect><image x=\"7\" xlink:href=\"https://raw.githubusercontent.com/romstad/Chess.jl/master/img/br.svg\" y=\"0\" height=\"1\" width=\"1\"></image></g><g><rect x=\"7\" y=\"1\" class=\"light-square\" height=\"1\" width=\"1\"></rect><image x=\"7\" xlink:href=\"https://raw.githubusercontent.com/romstad/Chess.jl/master/img/bp.svg\" y=\"1\" height=\"1\" width=\"1\"></image></g><g><rect x=\"7\" y=\"2\" class=\"dark-square\" height=\"1\" width=\"1\"></rect><g></g></g><g><rect x=\"7\" y=\"3\" class=\"light-square\" height=\"1\" width=\"1\"></rect><g></g></g><g><rect x=\"7\" y=\"4\" class=\"dark-square\" height=\"1\" width=\"1\"></rect><g></g></g><g><rect x=\"7\" y=\"5\" class=\"light-square\" height=\"1\" width=\"1\"></rect><g></g></g><g><rect x=\"7\" y=\"6\" class=\"dark-square\" height=\"1\" width=\"1\"></rect><image x=\"7\" xlink:href=\"https://raw.githubusercontent.com/romstad/Chess.jl/master/img/wp.svg\" y=\"6\" height=\"1\" width=\"1\"></image></g><g><rect x=\"7\" y=\"7\" class=\"light-square\" height=\"1\" width=\"1\"></rect><image x=\"7\" xlink:href=\"https://raw.githubusercontent.com/romstad/Chess.jl/master/img/wr.svg\" y=\"7\" height=\"1\" width=\"1\"></image></g></g><g></g></svg><div><p>Black to move</p><p>Castle rights: KQkq</p><p><a href=\"https://lichess.org/editor/rnbqkbnr/ppp1pppp/8/3P4/8/8/PPPP1PPP/RNBQKBNR_b_KQkq_-\" target=\"_blank\">Open in lichess</a></p></div></div>"
      ],
      "text/plain": [
       "Board (rnbqkbnr/ppp1pppp/8/3P4/8/8/PPPP1PPP/RNBQKBNR b KQkq -):\n",
       " r  n  b  q  k  b  n  r \n",
       " p  p  p  -  p  p  p  p \n",
       " -  -  -  -  -  -  -  - \n",
       " -  -  -  P  -  -  -  - \n",
       " -  -  -  -  -  -  -  - \n",
       " -  -  -  -  -  -  -  - \n",
       " P  P  P  P  -  P  P  P \n",
       " R  N  B  Q  K  B  N  R "
      ]
     },
     "execution_count": 126,
     "metadata": {},
     "output_type": "execute_result"
    }
   ],
   "source": [
    "b = startboard()\n",
    "domove!(b, \"e4\")\n",
    "domove!(b, \"d5\")\n",
    "domove!(b, \"d5\")\n",
    "b"
   ]
  },
  {
   "cell_type": "code",
   "execution_count": 127,
   "metadata": {},
   "outputs": [
    {
     "data": {
      "text/plain": [
       "125"
      ]
     },
     "execution_count": 127,
     "metadata": {},
     "output_type": "execute_result"
    }
   ],
   "source": [
    "evaluate_position(b)"
   ]
  },
  {
   "cell_type": "markdown",
   "metadata": {},
   "source": [
    "## Ohne Inkrementelle Evaluation eines Zuges"
   ]
  },
  {
   "cell_type": "code",
   "execution_count": 128,
   "metadata": {},
   "outputs": [
    {
     "data": {
      "text/plain": [
       "evaluate_move (generic function with 2 methods)"
      ]
     },
     "execution_count": 128,
     "metadata": {},
     "output_type": "execute_result"
    }
   ],
   "source": [
    "function evaluate_move(board, move)\n",
    "    oldScore = evaluate_position(board)\n",
    "    domove!(board, move)\n",
    "    newScore = evaluate_position(board)\n",
    "    return newScore - oldScore\n",
    "end"
   ]
  },
  {
   "cell_type": "markdown",
   "metadata": {},
   "source": [
    "## Inkrementelle Evaluation eines Zuges"
   ]
  },
  {
   "cell_type": "code",
   "execution_count": 129,
   "metadata": {},
   "outputs": [
    {
     "data": {
      "text/plain": [
       "subPiece (generic function with 1 method)"
      ]
     },
     "execution_count": 129,
     "metadata": {},
     "output_type": "execute_result"
    }
   ],
   "source": [
    "function subPiece(board,piece, toMove, score)\n",
    "        score *= -1\n",
    "        score = calc_score(board,piece, score, toMove)\n",
    "        score *= -1\n",
    "    return score\n",
    "end"
   ]
  },
  {
   "cell_type": "code",
   "execution_count": 130,
   "metadata": {},
   "outputs": [
    {
     "data": {
      "text/plain": [
       "SQ_NONE"
      ]
     },
     "execution_count": 130,
     "metadata": {},
     "output_type": "execute_result"
    }
   ],
   "source": [
    "epsquare(b)"
   ]
  },
  {
   "cell_type": "code",
   "execution_count": 131,
   "metadata": {},
   "outputs": [
    {
     "data": {
      "text/plain": [
       "subCapturePiece (generic function with 1 method)"
      ]
     },
     "execution_count": 131,
     "metadata": {},
     "output_type": "execute_result"
    }
   ],
   "source": [
    "function subCapturePiece(board, toMove, score)    \n",
    "    capturePiece = get_piece(board, toMove)\n",
    "    if (capturePiece != EMPTY)\n",
    "        score = subPiece(board,capturePiece, toMove, score)\n",
    "    end\n",
    "    return score\n",
    "end"
   ]
  },
  {
   "cell_type": "code",
   "execution_count": 132,
   "metadata": {},
   "outputs": [
    {
     "data": {
      "text/plain": [
       "800"
      ]
     },
     "execution_count": 132,
     "metadata": {},
     "output_type": "execute_result"
    }
   ],
   "source": [
    "move = movefromstring(\"d8d5\")\n",
    "toMove = to(move)\n",
    "subCapturePiece(b,toMove, 925)"
   ]
  },
  {
   "cell_type": "code",
   "execution_count": 133,
   "metadata": {},
   "outputs": [
    {
     "data": {
      "text/plain": [
       "checkEnPassan (generic function with 1 method)"
      ]
     },
     "execution_count": 133,
     "metadata": {},
     "output_type": "execute_result"
    }
   ],
   "source": [
    "function checkEnPassant(board, toMove, score)\n",
    "    enpassantSquare = epsquare(board)\n",
    "    if(enpassantSquare != SQ_NONE && enpassantSquare == toMove)\n",
    "        print(\"SubCapture\")\n",
    "        lastToMove = to(lastmove(board))\n",
    "        score = subCapturePiece(board, lastToMove, score)\n",
    "    end \n",
    "    return score\n",
    "end "
   ]
  },
  {
   "cell_type": "code",
   "execution_count": 134,
   "metadata": {},
   "outputs": [
    {
     "data": {
      "text/plain": [
       "125"
      ]
     },
     "execution_count": 134,
     "metadata": {},
     "output_type": "execute_result"
    }
   ],
   "source": [
    "checkEnPassant(b, movefromstring(\"c7c5\"), 125)"
   ]
  },
  {
   "cell_type": "code",
   "execution_count": 135,
   "metadata": {},
   "outputs": [
    {
     "data": {
      "text/html": [
       "Board:<div class=\"chessboard\"><style soped=\"true\">.dark-square {\n",
       "    fill: #c3936a;\n",
       "    stroke-width: 0;\n",
       "}\n",
       ".light-square {\n",
       "    fill: #ffd7a6;\n",
       "    stroke-width: 0;\n",
       "}\n",
       ".highlight {\n",
       "    fill: #47d18b;\n",
       "}\n",
       "@media (prefers-color-scheme: dark) {\n",
       "    .dark-square {\n",
       "        fill: #00796b;\n",
       "    }\n",
       "    .light-square {\n",
       "        fill: #3ca59b;\n",
       "    }\n",
       "    .highlight {\n",
       "        fill: #d23600;\n",
       "    }\n",
       "}\n",
       "</style><svg style=\"float: left; margin-right: 20px\" viewBox=\"0 0 8 8\" height=\"280\" width=\"280\"><g><g><rect x=\"0\" y=\"0\" class=\"light-square\" height=\"1\" width=\"1\"></rect><image x=\"0\" xlink:href=\"https://raw.githubusercontent.com/romstad/Chess.jl/master/img/br.svg\" y=\"0\" height=\"1\" width=\"1\"></image></g><g><rect x=\"0\" y=\"1\" class=\"dark-square\" height=\"1\" width=\"1\"></rect><image x=\"0\" xlink:href=\"https://raw.githubusercontent.com/romstad/Chess.jl/master/img/bp.svg\" y=\"1\" height=\"1\" width=\"1\"></image></g><g><rect x=\"0\" y=\"2\" class=\"light-square\" height=\"1\" width=\"1\"></rect><g></g></g><g><rect x=\"0\" y=\"3\" class=\"dark-square\" height=\"1\" width=\"1\"></rect><g></g></g><g><rect x=\"0\" y=\"4\" class=\"light-square\" height=\"1\" width=\"1\"></rect><g></g></g><g><rect x=\"0\" y=\"5\" class=\"dark-square\" height=\"1\" width=\"1\"></rect><g></g></g><g><rect x=\"0\" y=\"6\" class=\"light-square\" height=\"1\" width=\"1\"></rect><image x=\"0\" xlink:href=\"https://raw.githubusercontent.com/romstad/Chess.jl/master/img/wp.svg\" y=\"6\" height=\"1\" width=\"1\"></image></g><g><rect x=\"0\" y=\"7\" class=\"dark-square\" height=\"1\" width=\"1\"></rect><image x=\"0\" xlink:href=\"https://raw.githubusercontent.com/romstad/Chess.jl/master/img/wr.svg\" y=\"7\" height=\"1\" width=\"1\"></image></g><g><rect x=\"1\" y=\"0\" class=\"dark-square\" height=\"1\" width=\"1\"></rect><image x=\"1\" xlink:href=\"https://raw.githubusercontent.com/romstad/Chess.jl/master/img/bn.svg\" y=\"0\" height=\"1\" width=\"1\"></image></g><g><rect x=\"1\" y=\"1\" class=\"light-square\" height=\"1\" width=\"1\"></rect><image x=\"1\" xlink:href=\"https://raw.githubusercontent.com/romstad/Chess.jl/master/img/bp.svg\" y=\"1\" height=\"1\" width=\"1\"></image></g><g><rect x=\"1\" y=\"2\" class=\"dark-square\" height=\"1\" width=\"1\"></rect><g></g></g><g><rect x=\"1\" y=\"3\" class=\"light-square\" height=\"1\" width=\"1\"></rect><g></g></g><g><rect x=\"1\" y=\"4\" class=\"dark-square\" height=\"1\" width=\"1\"></rect><g></g></g><g><rect x=\"1\" y=\"5\" class=\"light-square\" height=\"1\" width=\"1\"></rect><g></g></g><g><rect x=\"1\" y=\"6\" class=\"dark-square\" height=\"1\" width=\"1\"></rect><image x=\"1\" xlink:href=\"https://raw.githubusercontent.com/romstad/Chess.jl/master/img/wp.svg\" y=\"6\" height=\"1\" width=\"1\"></image></g><g><rect x=\"1\" y=\"7\" class=\"light-square\" height=\"1\" width=\"1\"></rect><image x=\"1\" xlink:href=\"https://raw.githubusercontent.com/romstad/Chess.jl/master/img/wn.svg\" y=\"7\" height=\"1\" width=\"1\"></image></g><g><rect x=\"2\" y=\"0\" class=\"light-square\" height=\"1\" width=\"1\"></rect><image x=\"2\" xlink:href=\"https://raw.githubusercontent.com/romstad/Chess.jl/master/img/bb.svg\" y=\"0\" height=\"1\" width=\"1\"></image></g><g><rect x=\"2\" y=\"1\" class=\"dark-square\" height=\"1\" width=\"1\"></rect><g></g></g><g><rect x=\"2\" y=\"2\" class=\"light-square\" height=\"1\" width=\"1\"></rect><g></g></g><g><rect x=\"2\" y=\"3\" class=\"dark-square\" height=\"1\" width=\"1\"></rect><image x=\"2\" xlink:href=\"https://raw.githubusercontent.com/romstad/Chess.jl/master/img/bp.svg\" y=\"3\" height=\"1\" width=\"1\"></image></g><g><rect x=\"2\" y=\"4\" class=\"light-square\" height=\"1\" width=\"1\"></rect><g></g></g><g><rect x=\"2\" y=\"5\" class=\"dark-square\" height=\"1\" width=\"1\"></rect><g></g></g><g><rect x=\"2\" y=\"6\" class=\"light-square\" height=\"1\" width=\"1\"></rect><image x=\"2\" xlink:href=\"https://raw.githubusercontent.com/romstad/Chess.jl/master/img/wp.svg\" y=\"6\" height=\"1\" width=\"1\"></image></g><g><rect x=\"2\" y=\"7\" class=\"dark-square\" height=\"1\" width=\"1\"></rect><image x=\"2\" xlink:href=\"https://raw.githubusercontent.com/romstad/Chess.jl/master/img/wb.svg\" y=\"7\" height=\"1\" width=\"1\"></image></g><g><rect x=\"3\" y=\"0\" class=\"dark-square\" height=\"1\" width=\"1\"></rect><image x=\"3\" xlink:href=\"https://raw.githubusercontent.com/romstad/Chess.jl/master/img/bq.svg\" y=\"0\" height=\"1\" width=\"1\"></image></g><g><rect x=\"3\" y=\"1\" class=\"light-square\" height=\"1\" width=\"1\"></rect><g></g></g><g><rect x=\"3\" y=\"2\" class=\"dark-square\" height=\"1\" width=\"1\"></rect><g></g></g><g><rect x=\"3\" y=\"3\" class=\"light-square\" height=\"1\" width=\"1\"></rect><image x=\"3\" xlink:href=\"https://raw.githubusercontent.com/romstad/Chess.jl/master/img/wp.svg\" y=\"3\" height=\"1\" width=\"1\"></image></g><g><rect x=\"3\" y=\"4\" class=\"dark-square\" height=\"1\" width=\"1\"></rect><g></g></g><g><rect x=\"3\" y=\"5\" class=\"light-square\" height=\"1\" width=\"1\"></rect><g></g></g><g><rect x=\"3\" y=\"6\" class=\"dark-square\" height=\"1\" width=\"1\"></rect><image x=\"3\" xlink:href=\"https://raw.githubusercontent.com/romstad/Chess.jl/master/img/wp.svg\" y=\"6\" height=\"1\" width=\"1\"></image></g><g><rect x=\"3\" y=\"7\" class=\"light-square\" height=\"1\" width=\"1\"></rect><image x=\"3\" xlink:href=\"https://raw.githubusercontent.com/romstad/Chess.jl/master/img/wq.svg\" y=\"7\" height=\"1\" width=\"1\"></image></g><g><rect x=\"4\" y=\"0\" class=\"light-square\" height=\"1\" width=\"1\"></rect><image x=\"4\" xlink:href=\"https://raw.githubusercontent.com/romstad/Chess.jl/master/img/bk.svg\" y=\"0\" height=\"1\" width=\"1\"></image></g><g><rect x=\"4\" y=\"1\" class=\"dark-square\" height=\"1\" width=\"1\"></rect><image x=\"4\" xlink:href=\"https://raw.githubusercontent.com/romstad/Chess.jl/master/img/bp.svg\" y=\"1\" height=\"1\" width=\"1\"></image></g><g><rect x=\"4\" y=\"2\" class=\"light-square\" height=\"1\" width=\"1\"></rect><g></g></g><g><rect x=\"4\" y=\"3\" class=\"dark-square\" height=\"1\" width=\"1\"></rect><g></g></g><g><rect x=\"4\" y=\"4\" class=\"light-square\" height=\"1\" width=\"1\"></rect><g></g></g><g><rect x=\"4\" y=\"5\" class=\"dark-square\" height=\"1\" width=\"1\"></rect><g></g></g><g><rect x=\"4\" y=\"6\" class=\"light-square\" height=\"1\" width=\"1\"></rect><g></g></g><g><rect x=\"4\" y=\"7\" class=\"dark-square\" height=\"1\" width=\"1\"></rect><image x=\"4\" xlink:href=\"https://raw.githubusercontent.com/romstad/Chess.jl/master/img/wk.svg\" y=\"7\" height=\"1\" width=\"1\"></image></g><g><rect x=\"5\" y=\"0\" class=\"dark-square\" height=\"1\" width=\"1\"></rect><image x=\"5\" xlink:href=\"https://raw.githubusercontent.com/romstad/Chess.jl/master/img/bb.svg\" y=\"0\" height=\"1\" width=\"1\"></image></g><g><rect x=\"5\" y=\"1\" class=\"light-square\" height=\"1\" width=\"1\"></rect><image x=\"5\" xlink:href=\"https://raw.githubusercontent.com/romstad/Chess.jl/master/img/bp.svg\" y=\"1\" height=\"1\" width=\"1\"></image></g><g><rect x=\"5\" y=\"2\" class=\"dark-square\" height=\"1\" width=\"1\"></rect><g></g></g><g><rect x=\"5\" y=\"3\" class=\"light-square\" height=\"1\" width=\"1\"></rect><g></g></g><g><rect x=\"5\" y=\"4\" class=\"dark-square\" height=\"1\" width=\"1\"></rect><g></g></g><g><rect x=\"5\" y=\"5\" class=\"light-square\" height=\"1\" width=\"1\"></rect><g></g></g><g><rect x=\"5\" y=\"6\" class=\"dark-square\" height=\"1\" width=\"1\"></rect><image x=\"5\" xlink:href=\"https://raw.githubusercontent.com/romstad/Chess.jl/master/img/wp.svg\" y=\"6\" height=\"1\" width=\"1\"></image></g><g><rect x=\"5\" y=\"7\" class=\"light-square\" height=\"1\" width=\"1\"></rect><image x=\"5\" xlink:href=\"https://raw.githubusercontent.com/romstad/Chess.jl/master/img/wb.svg\" y=\"7\" height=\"1\" width=\"1\"></image></g><g><rect x=\"6\" y=\"0\" class=\"light-square\" height=\"1\" width=\"1\"></rect><image x=\"6\" xlink:href=\"https://raw.githubusercontent.com/romstad/Chess.jl/master/img/bn.svg\" y=\"0\" height=\"1\" width=\"1\"></image></g><g><rect x=\"6\" y=\"1\" class=\"dark-square\" height=\"1\" width=\"1\"></rect><image x=\"6\" xlink:href=\"https://raw.githubusercontent.com/romstad/Chess.jl/master/img/bp.svg\" y=\"1\" height=\"1\" width=\"1\"></image></g><g><rect x=\"6\" y=\"2\" class=\"light-square\" height=\"1\" width=\"1\"></rect><g></g></g><g><rect x=\"6\" y=\"3\" class=\"dark-square\" height=\"1\" width=\"1\"></rect><g></g></g><g><rect x=\"6\" y=\"4\" class=\"light-square\" height=\"1\" width=\"1\"></rect><g></g></g><g><rect x=\"6\" y=\"5\" class=\"dark-square\" height=\"1\" width=\"1\"></rect><g></g></g><g><rect x=\"6\" y=\"6\" class=\"light-square\" height=\"1\" width=\"1\"></rect><image x=\"6\" xlink:href=\"https://raw.githubusercontent.com/romstad/Chess.jl/master/img/wp.svg\" y=\"6\" height=\"1\" width=\"1\"></image></g><g><rect x=\"6\" y=\"7\" class=\"dark-square\" height=\"1\" width=\"1\"></rect><image x=\"6\" xlink:href=\"https://raw.githubusercontent.com/romstad/Chess.jl/master/img/wn.svg\" y=\"7\" height=\"1\" width=\"1\"></image></g><g><rect x=\"7\" y=\"0\" class=\"dark-square\" height=\"1\" width=\"1\"></rect><image x=\"7\" xlink:href=\"https://raw.githubusercontent.com/romstad/Chess.jl/master/img/br.svg\" y=\"0\" height=\"1\" width=\"1\"></image></g><g><rect x=\"7\" y=\"1\" class=\"light-square\" height=\"1\" width=\"1\"></rect><image x=\"7\" xlink:href=\"https://raw.githubusercontent.com/romstad/Chess.jl/master/img/bp.svg\" y=\"1\" height=\"1\" width=\"1\"></image></g><g><rect x=\"7\" y=\"2\" class=\"dark-square\" height=\"1\" width=\"1\"></rect><g></g></g><g><rect x=\"7\" y=\"3\" class=\"light-square\" height=\"1\" width=\"1\"></rect><g></g></g><g><rect x=\"7\" y=\"4\" class=\"dark-square\" height=\"1\" width=\"1\"></rect><g></g></g><g><rect x=\"7\" y=\"5\" class=\"light-square\" height=\"1\" width=\"1\"></rect><g></g></g><g><rect x=\"7\" y=\"6\" class=\"dark-square\" height=\"1\" width=\"1\"></rect><image x=\"7\" xlink:href=\"https://raw.githubusercontent.com/romstad/Chess.jl/master/img/wp.svg\" y=\"6\" height=\"1\" width=\"1\"></image></g><g><rect x=\"7\" y=\"7\" class=\"light-square\" height=\"1\" width=\"1\"></rect><image x=\"7\" xlink:href=\"https://raw.githubusercontent.com/romstad/Chess.jl/master/img/wr.svg\" y=\"7\" height=\"1\" width=\"1\"></image></g></g><g></g></svg><div><p>White to move</p><p>Castle rights: KQkq</p><p>En passant square: c6</p><p><a href=\"https://lichess.org/editor/rnbqkbnr/pp2pppp/8/2pP4/8/8/PPPP1PPP/RNBQKBNR_w_KQkq_c6\" target=\"_blank\">Open in lichess</a></p></div></div>"
      ],
      "text/plain": [
       "Board (rnbqkbnr/pp2pppp/8/2pP4/8/8/PPPP1PPP/RNBQKBNR w KQkq c6):\n",
       " r  n  b  q  k  b  n  r \n",
       " p  p  -  -  p  p  p  p \n",
       " -  -  -  -  -  -  -  - \n",
       " -  -  p  P  -  -  -  - \n",
       " -  -  -  -  -  -  -  - \n",
       " -  -  -  -  -  -  -  - \n",
       " P  P  P  P  -  P  P  P \n",
       " R  N  B  Q  K  B  N  R "
      ]
     },
     "execution_count": 135,
     "metadata": {},
     "output_type": "execute_result"
    }
   ],
   "source": [
    "domove!(b, \"c5\")\n",
    "b"
   ]
  },
  {
   "cell_type": "code",
   "execution_count": 136,
   "metadata": {},
   "outputs": [
    {
     "name": "stdout",
     "output_type": "stream",
     "text": [
      "SubCapture"
     ]
    },
    {
     "data": {
      "text/plain": [
       "225"
      ]
     },
     "execution_count": 136,
     "metadata": {},
     "output_type": "execute_result"
    }
   ],
   "source": [
    "checkEnPassant(b, Square(FILE_C, RANK_6), 125)"
   ]
  },
  {
   "cell_type": "markdown",
   "metadata": {},
   "source": [
    "`calc_castle` checks wether the `move` done was a castleing move. \n",
    "\n",
    "If no the score will be returned back.\n",
    "\n",
    "If yes it will adds the value of the move rook. The moved King will be calculated as the regularmove in the `evaluate_move` function. Casteling Kingside does not effect the value of the rook. Casteling Queenside adds +5 to the value of the position."
   ]
  },
  {
   "cell_type": "code",
   "execution_count": 137,
   "metadata": {},
   "outputs": [
    {
     "data": {
      "text/plain": [
       "calc_castle (generic function with 1 method)"
      ]
     },
     "execution_count": 137,
     "metadata": {},
     "output_type": "execute_result"
    }
   ],
   "source": [
    "function calc_castle(board, move, score)\n",
    "    toMove = to(move)\n",
    "    fromMove = from(move)\n",
    "    piece = get_piece(board, fromMove)\n",
    "    if(ptype(piece) == KING && file(fromMove) == FILE_E)\n",
    "        # Check Castle Kingside\n",
    "        if(file(toMove)==FILE_G) \n",
    "            return score\n",
    "        # Check Castle Queenside\n",
    "        elseif(file(toMove)==FILE_C)\n",
    "            return score + 5\n",
    "        end\n",
    "    end \n",
    "    return score\n",
    "end"
   ]
  },
  {
   "cell_type": "code",
   "execution_count": 138,
   "metadata": {},
   "outputs": [
    {
     "data": {
      "text/plain": [
       "5"
      ]
     },
     "execution_count": 138,
     "metadata": {},
     "output_type": "execute_result"
    }
   ],
   "source": [
    "b1 = fromfen(\"r3k2r/pppppppp/8/8/8/8/PPPPPPPP/R3K2R w KQkq - 0 1\")\n",
    "calc_castle(b1, movefromstring(\"e1c1\"), 0)"
   ]
  },
  {
   "cell_type": "code",
   "execution_count": 139,
   "metadata": {},
   "outputs": [
    {
     "data": {
      "text/plain": [
       "evaluate_move (generic function with 2 methods)"
      ]
     },
     "execution_count": 139,
     "metadata": {},
     "output_type": "execute_result"
    }
   ],
   "source": [
    "function evaluate_move(board:: Board, move:: Move, oldscore)\n",
    "    if isterminal(domove(board, move))\n",
    "        return terminal_evaluation(domove(board, move))\n",
    "    end\n",
    "    newscore = oldscore\n",
    "    toMove = to(move)\n",
    "    fromMove = from(move)\n",
    "    piece = get_piece(board, fromMove)\n",
    "    newscore = subCapturePiece(board, toMove, newscore)\n",
    "    if ptype(piece) == PAWN\n",
    "        \n",
    "    end\n",
    "    # TODO: define and check for endgame state for king calculation\n",
    "    newscore = subPiece(board, piece, fromMove, newscore)\n",
    "    if ispromotion(move)\n",
    "        piece = promotion(move)\n",
    "    end\n",
    "    newscore = calc_castle(board, move, newscore)\n",
    "    return calc_score(board, piece, newscore, toMove)\n",
    "end"
   ]
  },
  {
   "cell_type": "code",
   "execution_count": 140,
   "metadata": {},
   "outputs": [
    {
     "data": {
      "text/plain": [
       "terminal_evaluation (generic function with 1 method)"
      ]
     },
     "execution_count": 140,
     "metadata": {},
     "output_type": "execute_result"
    }
   ],
   "source": [
    "function terminal_evaluation(board:: Board)\n",
    "    if ischeckmate(board)\n",
    "        color = sidetomove(board)\n",
    "        if color == \"WHITE\"\n",
    "            return -100000\n",
    "        else\n",
    "            return 100000\n",
    "        end\n",
    "    elseif isstalemate(board)\n",
    "        return 0\n",
    "    elseif ismaterialdraw(board)\n",
    "        return 0\n",
    "    elseif isrule50draw(board)\n",
    "        return 0\n",
    "    end\n",
    "    return\n",
    "end"
   ]
  },
  {
   "cell_type": "code",
   "execution_count": 141,
   "metadata": {},
   "outputs": [
    {
     "data": {
      "text/plain": [
       "135"
      ]
     },
     "execution_count": 141,
     "metadata": {},
     "output_type": "execute_result"
    }
   ],
   "source": [
    "move = movefromstring(\"f1e2\")\n",
    "evaluate_move(b, move,125)"
   ]
  },
  {
   "cell_type": "code",
   "execution_count": 142,
   "metadata": {},
   "outputs": [
    {
     "data": {
      "text/plain": [
       "-630"
      ]
     },
     "execution_count": 142,
     "metadata": {},
     "output_type": "execute_result"
    }
   ],
   "source": [
    "b = fromfen(\"8/4k3/8/4p3/8/2BK4/8/q7 w - - 0 1\")\n",
    "evaluate_position(b)"
   ]
  },
  {
   "cell_type": "code",
   "execution_count": 143,
   "metadata": {},
   "outputs": [
    {
     "data": {
      "text/plain": [
       "-650"
      ]
     },
     "execution_count": 143,
     "metadata": {},
     "output_type": "execute_result"
    }
   ],
   "source": [
    "b = fromfen(\"8/4k3/8/B3p3/8/3K4/8/q7 w - - 0 1\")\n",
    "evaluate_position(b)"
   ]
  },
  {
   "cell_type": "code",
   "execution_count": 144,
   "metadata": {},
   "outputs": [
    {
     "data": {
      "text/plain": [
       "-700"
      ]
     },
     "execution_count": 144,
     "metadata": {},
     "output_type": "execute_result"
    }
   ],
   "source": [
    "b = fromfen(\"8/4k3/8/4p3/8/2BK4/8/q7 w - - 0 1\")\n",
    "evaluate_move(b, movefromstring(\"c3a5\"), -680)"
   ]
  },
  {
   "cell_type": "code",
   "execution_count": 146,
   "metadata": {},
   "outputs": [
    {
     "data": {
      "text/html": [
       "Board:<div class=\"chessboard\"><style soped=\"true\">.dark-square {\n",
       "    fill: #c3936a;\n",
       "    stroke-width: 0;\n",
       "}\n",
       ".light-square {\n",
       "    fill: #ffd7a6;\n",
       "    stroke-width: 0;\n",
       "}\n",
       ".highlight {\n",
       "    fill: #47d18b;\n",
       "}\n",
       "@media (prefers-color-scheme: dark) {\n",
       "    .dark-square {\n",
       "        fill: #00796b;\n",
       "    }\n",
       "    .light-square {\n",
       "        fill: #3ca59b;\n",
       "    }\n",
       "    .highlight {\n",
       "        fill: #d23600;\n",
       "    }\n",
       "}\n",
       "</style><svg style=\"float: left; margin-right: 20px\" viewBox=\"0 0 8 8\" height=\"280\" width=\"280\"><g><g><rect x=\"0\" y=\"0\" class=\"light-square\" height=\"1\" width=\"1\"></rect><image x=\"0\" xlink:href=\"https://raw.githubusercontent.com/romstad/Chess.jl/master/img/bk.svg\" y=\"0\" height=\"1\" width=\"1\"></image></g><g><rect x=\"0\" y=\"1\" class=\"dark-square\" height=\"1\" width=\"1\"></rect><g></g></g><g><rect x=\"0\" y=\"2\" class=\"light-square\" height=\"1\" width=\"1\"></rect><g></g></g><g><rect x=\"0\" y=\"3\" class=\"dark-square\" height=\"1\" width=\"1\"></rect><g></g></g><g><rect x=\"0\" y=\"4\" class=\"light-square\" height=\"1\" width=\"1\"></rect><g></g></g><g><rect x=\"0\" y=\"5\" class=\"dark-square\" height=\"1\" width=\"1\"></rect><g></g></g><g><rect x=\"0\" y=\"6\" class=\"light-square\" height=\"1\" width=\"1\"></rect><g></g></g><g><rect x=\"0\" y=\"7\" class=\"dark-square\" height=\"1\" width=\"1\"></rect><g></g></g><g><rect x=\"1\" y=\"0\" class=\"dark-square\" height=\"1\" width=\"1\"></rect><g></g></g><g><rect x=\"1\" y=\"1\" class=\"light-square\" height=\"1\" width=\"1\"></rect><g></g></g><g><rect x=\"1\" y=\"2\" class=\"dark-square\" height=\"1\" width=\"1\"></rect><g></g></g><g><rect x=\"1\" y=\"3\" class=\"light-square\" height=\"1\" width=\"1\"></rect><g></g></g><g><rect x=\"1\" y=\"4\" class=\"dark-square\" height=\"1\" width=\"1\"></rect><g></g></g><g><rect x=\"1\" y=\"5\" class=\"light-square\" height=\"1\" width=\"1\"></rect><g></g></g><g><rect x=\"1\" y=\"6\" class=\"dark-square\" height=\"1\" width=\"1\"></rect><g></g></g><g><rect x=\"1\" y=\"7\" class=\"light-square\" height=\"1\" width=\"1\"></rect><g></g></g><g><rect x=\"2\" y=\"0\" class=\"light-square\" height=\"1\" width=\"1\"></rect><g></g></g><g><rect x=\"2\" y=\"1\" class=\"dark-square\" height=\"1\" width=\"1\"></rect><g></g></g><g><rect x=\"2\" y=\"2\" class=\"light-square\" height=\"1\" width=\"1\"></rect><image x=\"2\" xlink:href=\"https://raw.githubusercontent.com/romstad/Chess.jl/master/img/wk.svg\" y=\"2\" height=\"1\" width=\"1\"></image></g><g><rect x=\"2\" y=\"3\" class=\"dark-square\" height=\"1\" width=\"1\"></rect><g></g></g><g><rect x=\"2\" y=\"4\" class=\"light-square\" height=\"1\" width=\"1\"></rect><g></g></g><g><rect x=\"2\" y=\"5\" class=\"dark-square\" height=\"1\" width=\"1\"></rect><g></g></g><g><rect x=\"2\" y=\"6\" class=\"light-square\" height=\"1\" width=\"1\"></rect><g></g></g><g><rect x=\"2\" y=\"7\" class=\"dark-square\" height=\"1\" width=\"1\"></rect><g></g></g><g><rect x=\"3\" y=\"0\" class=\"dark-square\" height=\"1\" width=\"1\"></rect><g></g></g><g><rect x=\"3\" y=\"1\" class=\"light-square\" height=\"1\" width=\"1\"></rect><g></g></g><g><rect x=\"3\" y=\"2\" class=\"dark-square\" height=\"1\" width=\"1\"></rect><g></g></g><g><rect x=\"3\" y=\"3\" class=\"light-square\" height=\"1\" width=\"1\"></rect><g></g></g><g><rect x=\"3\" y=\"4\" class=\"dark-square\" height=\"1\" width=\"1\"></rect><g></g></g><g><rect x=\"3\" y=\"5\" class=\"light-square\" height=\"1\" width=\"1\"></rect><g></g></g><g><rect x=\"3\" y=\"6\" class=\"dark-square\" height=\"1\" width=\"1\"></rect><g></g></g><g><rect x=\"3\" y=\"7\" class=\"light-square\" height=\"1\" width=\"1\"></rect><g></g></g><g><rect x=\"4\" y=\"0\" class=\"light-square\" height=\"1\" width=\"1\"></rect><g></g></g><g><rect x=\"4\" y=\"1\" class=\"dark-square\" height=\"1\" width=\"1\"></rect><image x=\"4\" xlink:href=\"https://raw.githubusercontent.com/romstad/Chess.jl/master/img/wq.svg\" y=\"1\" height=\"1\" width=\"1\"></image></g><g><rect x=\"4\" y=\"2\" class=\"light-square\" height=\"1\" width=\"1\"></rect><g></g></g><g><rect x=\"4\" y=\"3\" class=\"dark-square\" height=\"1\" width=\"1\"></rect><g></g></g><g><rect x=\"4\" y=\"4\" class=\"light-square\" height=\"1\" width=\"1\"></rect><g></g></g><g><rect x=\"4\" y=\"5\" class=\"dark-square\" height=\"1\" width=\"1\"></rect><g></g></g><g><rect x=\"4\" y=\"6\" class=\"light-square\" height=\"1\" width=\"1\"></rect><g></g></g><g><rect x=\"4\" y=\"7\" class=\"dark-square\" height=\"1\" width=\"1\"></rect><g></g></g><g><rect x=\"5\" y=\"0\" class=\"dark-square\" height=\"1\" width=\"1\"></rect><g></g></g><g><rect x=\"5\" y=\"1\" class=\"light-square\" height=\"1\" width=\"1\"></rect><g></g></g><g><rect x=\"5\" y=\"2\" class=\"dark-square\" height=\"1\" width=\"1\"></rect><g></g></g><g><rect x=\"5\" y=\"3\" class=\"light-square\" height=\"1\" width=\"1\"></rect><g></g></g><g><rect x=\"5\" y=\"4\" class=\"dark-square\" height=\"1\" width=\"1\"></rect><g></g></g><g><rect x=\"5\" y=\"5\" class=\"light-square\" height=\"1\" width=\"1\"></rect><g></g></g><g><rect x=\"5\" y=\"6\" class=\"dark-square\" height=\"1\" width=\"1\"></rect><g></g></g><g><rect x=\"5\" y=\"7\" class=\"light-square\" height=\"1\" width=\"1\"></rect><g></g></g><g><rect x=\"6\" y=\"0\" class=\"light-square\" height=\"1\" width=\"1\"></rect><g></g></g><g><rect x=\"6\" y=\"1\" class=\"dark-square\" height=\"1\" width=\"1\"></rect><g></g></g><g><rect x=\"6\" y=\"2\" class=\"light-square\" height=\"1\" width=\"1\"></rect><g></g></g><g><rect x=\"6\" y=\"3\" class=\"dark-square\" height=\"1\" width=\"1\"></rect><g></g></g><g><rect x=\"6\" y=\"4\" class=\"light-square\" height=\"1\" width=\"1\"></rect><g></g></g><g><rect x=\"6\" y=\"5\" class=\"dark-square\" height=\"1\" width=\"1\"></rect><g></g></g><g><rect x=\"6\" y=\"6\" class=\"light-square\" height=\"1\" width=\"1\"></rect><g></g></g><g><rect x=\"6\" y=\"7\" class=\"dark-square\" height=\"1\" width=\"1\"></rect><g></g></g><g><rect x=\"7\" y=\"0\" class=\"dark-square\" height=\"1\" width=\"1\"></rect><g></g></g><g><rect x=\"7\" y=\"1\" class=\"light-square\" height=\"1\" width=\"1\"></rect><g></g></g><g><rect x=\"7\" y=\"2\" class=\"dark-square\" height=\"1\" width=\"1\"></rect><g></g></g><g><rect x=\"7\" y=\"3\" class=\"light-square\" height=\"1\" width=\"1\"></rect><g></g></g><g><rect x=\"7\" y=\"4\" class=\"dark-square\" height=\"1\" width=\"1\"></rect><g></g></g><g><rect x=\"7\" y=\"5\" class=\"light-square\" height=\"1\" width=\"1\"></rect><g></g></g><g><rect x=\"7\" y=\"6\" class=\"dark-square\" height=\"1\" width=\"1\"></rect><g></g></g><g><rect x=\"7\" y=\"7\" class=\"light-square\" height=\"1\" width=\"1\"></rect><g></g></g></g><g></g></svg><div><p>White to move</p><p><a href=\"https://lichess.org/editor/k7/4Q3/2K5/8/8/8/8/8_w_-_-\" target=\"_blank\">Open in lichess</a></p></div></div>"
      ],
      "text/plain": [
       "Board (k7/4Q3/2K5/8/8/8/8/8 w - -):\n",
       " k  -  -  -  -  -  -  - \n",
       " -  -  -  -  Q  -  -  - \n",
       " -  -  K  -  -  -  -  - \n",
       " -  -  -  -  -  -  -  - \n",
       " -  -  -  -  -  -  -  - \n",
       " -  -  -  -  -  -  -  - \n",
       " -  -  -  -  -  -  -  - \n",
       " -  -  -  -  -  -  -  - "
      ]
     },
     "execution_count": 146,
     "metadata": {},
     "output_type": "execute_result"
    }
   ],
   "source": [
    "b = fromfen(\"k7/4Q3/2K5/8/8/8/8/8 w - - 3 3\")\n",
    "evaluate_move(b, movefromstring(\"e7b7\"), 0)\n",
    "b"
   ]
  },
  {
   "cell_type": "code",
   "execution_count": null,
   "metadata": {},
   "outputs": [],
   "source": []
  }
 ],
 "metadata": {
  "kernelspec": {
   "display_name": "Julia 1.8.2",
   "language": "julia",
   "name": "julia-1.8"
  },
  "language_info": {
   "file_extension": ".jl",
   "mimetype": "application/julia",
   "name": "julia",
   "version": "1.8.2"
  }
 },
 "nbformat": 4,
 "nbformat_minor": 5
}
