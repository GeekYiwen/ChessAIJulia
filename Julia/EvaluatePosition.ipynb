{
 "cells": [
  {
   "cell_type": "code",
   "execution_count": null,
   "metadata": {},
   "outputs": [],
   "source": [
    "HTML(read(open(\"style.css\"), String))"
   ]
  },
  {
   "cell_type": "markdown",
   "metadata": {},
   "source": [
    "# Simple Evaluation Function\n",
    "\n",
    "This notebook can return a static centipawn value for each chess position. It will not look into the future and only consider the current state of the board. \n",
    "\n",
    "This method has been developed by Tomasz Michniewski in the Polish chess programming discussion list (progszach).\n",
    "\n",
    "\n",
    "https://www.chessprogramming.org/Simplified_Evaluation_Function"
   ]
  },
  {
   "cell_type": "code",
   "execution_count": null,
   "id": "d5d4375f",
   "metadata": {},
   "outputs": [],
   "source": [
    "using Pkg\n",
    "#Pkg.add(\"Chess\")\n",
    "using Chess\n",
    "using BenchmarkTools"
   ]
  },
  {
   "cell_type": "markdown",
   "id": "caab9c94",
   "metadata": {},
   "source": [
    "Defining the global variable of 'piece values'"
   ]
  },
  {
   "cell_type": "code",
   "execution_count": null,
   "id": "ba6a0e15",
   "metadata": {},
   "outputs": [],
   "source": [
    "if !@isdefined(PIECE_VALUES)\n",
    "    const PIECE_VALUES::Dict{PieceType, Int} = Dict([(PAWN, 100),(KNIGHT, 320),(BISHOP, 330),(ROOK, 500),(QUEEN, 900),(KING, 20000)])\n",
    "end"
   ]
  },
  {
   "cell_type": "markdown",
   "id": "5d8ce5df",
   "metadata": {},
   "source": [
    "The `get_value` function takes in 1 argument, `piece` which is a chess piece. It returns the value of the piece from global variable **PIECE_VALUES**."
   ]
  },
  {
   "cell_type": "code",
   "execution_count": null,
   "id": "6870459b",
   "metadata": {},
   "outputs": [],
   "source": [
    "function get_value(piece::Piece)::Int64\n",
    "    return get(PIECE_VALUES, ptype(piece), 0)\n",
    "end"
   ]
  },
  {
   "cell_type": "markdown",
   "id": "d05f610a",
   "metadata": {},
   "source": [
    "The `is_endgame` function takes in 1 argument, `board` which is a chess board. It returns a boolean value of whether the game is in the endgame or not.\n",
    "\n",
    "According to the article:\n",
    "\"Additionally we should define where the ending begins. For me it might be either if:\n",
    "\n",
    "Both sides have no queens or\n",
    "Every side which has a queen has additionally no other pieces or one minorpiece maximum.\"\n",
    "\n",
    "\n"
   ]
  },
  {
   "cell_type": "code",
   "execution_count": null,
   "id": "c930d47a",
   "metadata": {},
   "outputs": [],
   "source": [
    "function is_endgame(board::Board)::Bool\n",
    "    # Inline Functions to calculate the number of minor pieces\n",
    "    num_minor_pieces(side) = squarecount(knights(board, side)) + squarecount(bishops(board, side))\n",
    "    # Check if Player White or Black is in endgame\n",
    "    is_in_endgame(color) = isempty(queens(board, color)) || (num_minor_pieces(color) <= 1 && isempty(rooks(board, color)))\n",
    "    return is_in_endgame(WHITE) && is_in_endgame(BLACK)\n",
    "end"
   ]
  },
  {
   "cell_type": "markdown",
   "id": "ddd48db1",
   "metadata": {},
   "source": [
    "## Get_Square_Value\n",
    "\n"
   ]
  },
  {
   "cell_type": "markdown",
   "id": "0f8c1afe",
   "metadata": {},
   "source": [
    "The `White_Pawn_Square_Table` and `Black_Pawn_Square_Table` are the tables of values for each type of piece and square on the board. The values are based on the position. The values are taken from the article.\n",
    " https://www.chessprogramming.org/Simplified_Evaluation_Function"
   ]
  },
  {
   "cell_type": "code",
   "execution_count": null,
   "id": "09ec5ac5",
   "metadata": {
    "scrolled": true
   },
   "outputs": [],
   "source": [
    "if !@isdefined(WHITE_PIECE_SQUARE_TABLES)\n",
    "    const WHITE_PIECE_SQUARE_TABLES::Dict{PieceType, Vector{Vector{Int8}}} = Dict(\n",
    "        PAWN => [\n",
    "        [  0,  0,  0,  0,  0,  0,  0,  0],\n",
    "        [ 50, 50, 50, 50, 50, 50, 50, 50],\n",
    "        [ 10, 10, 20, 30, 30, 20, 10, 10],\n",
    "        [  5,  5, 10, 25, 25, 10,  5,  5],\n",
    "        [  0,  0,  0, 20, 20,  0,  0,  0],\n",
    "        [  5, -5,-10,  0,  0,-10, -5,  5],\n",
    "        [  5, 10, 10,-20,-20, 10, 10,  5],\n",
    "        [  0,  0,  0,  0,  0,  0,  0,  0]\n",
    "    ],\n",
    "        KNIGHT => [\n",
    "        [-50,-40,-30,-30,-30,-30,-40,-50],\n",
    "        [-40,-20,  0,  0,  0,  0,-20,-40],\n",
    "        [-30,  0, 10, 15, 15, 10,  0,-30],\n",
    "        [-30,  5, 15, 20, 20, 15,  5,-30],\n",
    "        [-30,  0, 15, 20, 20, 15,  0,-30],\n",
    "        [-30,  5, 10, 15, 15, 10,  5,-30],\n",
    "        [-40,-20,  0,  5,  5,  0,-20,-40],\n",
    "        [-50,-40,-30,-30,-30,-30,-40,-50]\n",
    "    ],\n",
    "        BISHOP => [\n",
    "        [-20,-10,-10,-10,-10,-10,-10,-20],\n",
    "        [-10,  0,  0,  0,  0,  0,  0,-10],\n",
    "        [-10,  0,  5, 10, 10,  5,  0,-10],\n",
    "        [-10,  5,  5, 10, 10,  5,  5,-10],\n",
    "        [-10,  0, 10, 10, 10, 10,  0,-10],\n",
    "        [-10, 10, 10, 10, 10, 10, 10,-10],\n",
    "        [-10,  5,  0,  0,  0,  0,  5,-10],\n",
    "        [-20,-10,-10,-10,-10,-10,-10,-20]\n",
    "    ],\n",
    "        ROOK => [\n",
    "        [ 0,  0,  0,  0,  0,  0,  0,  0],\n",
    "        [ 5, 10, 10, 10, 10, 10, 10,  5],\n",
    "        [-5,  0,  0,  0,  0,  0,  0, -5],\n",
    "        [-5,  0,  0,  0,  0,  0,  0, -5],\n",
    "        [-5,  0,  0,  0,  0,  0,  0, -5],\n",
    "        [-5,  0,  0,  0,  0,  0,  0, -5],\n",
    "        [-5,  0,  0,  0,  0,  0,  0, -5],\n",
    "        [ 0,  0,  0,  5,  5,  0,  0,  0]\n",
    "    ],\n",
    "        QUEEN => [\n",
    "        [-20,-10,-10, -5, -5,-10,-10,-20],\n",
    "        [-10,  0,  0,  0,  0,  0,  0,-10],\n",
    "        [-10,  0,  5,  5,  5,  5,  0,-10],\n",
    "        [ -5,  0,  5,  5,  5,  5,  0, -5],\n",
    "        [  0,  0,  5,  5,  5,  5,  0, -5],\n",
    "        [-10,  5,  5,  5,  5,  5,  0,-10],\n",
    "        [-10,  0,  5,  0,  0,  0,  0,-10],\n",
    "        [-20,-10,-10, -5, -5,-10,-10,-20]\n",
    "    ],\n",
    "        KING => [\n",
    "        [-30,-40,-40,-50,-50,-40,-40,-30],\n",
    "        [-30,-40,-40,-50,-50,-40,-40,-30],\n",
    "        [-30,-40,-40,-50,-50,-40,-40,-30],\n",
    "        [-30,-40,-40,-50,-50,-40,-40,-30],\n",
    "        [-20,-30,-30,-40,-40,-30,-30,-20],\n",
    "        [-10,-20,-20,-20,-20,-20,-20,-10],\n",
    "        [ 20, 20,  0,  0,  0,  0, 20, 20],\n",
    "        [ 20, 30, 10,  0,  0, 10, 30, 20]\n",
    "    ]\n",
    "    )\n",
    "    const white_king_square_end_game_table::Array{Array{Int8, 1}, 1} = [\n",
    "        [-50,-40,-30,-20,-20,-30,-40,-50],\n",
    "        [-30,-20,-10,  0,  0,-10,-20,-30],\n",
    "        [-30,-10, 20, 30, 30, 20,-10,-30],\n",
    "        [-30,-10, 30, 40, 40, 30,-10,-30],\n",
    "        [-30,-10, 30, 40, 40, 30,-10,-30],\n",
    "        [-30,-10, 20, 30, 30, 20,-10,-30],\n",
    "        [-30,-30,  0,  0,  0,  0,-30,-30],\n",
    "        [-50,-30,-30,-30,-30,-30,-30,-50]\n",
    "    ]\n",
    "end"
   ]
  },
  {
   "cell_type": "code",
   "execution_count": null,
   "id": "b862a54a",
   "metadata": {},
   "outputs": [],
   "source": [
    "if !@isdefined(BLACK_PIECE_SQUARE_TABLES)\n",
    "    const BLACK_PIECE_SQUARE_TABLES::Dict{PieceType, Vector{Vector{Int8}}} = Dict(\n",
    "        PAWN => [\n",
    "        [  0,  0,  0,  0,  0,  0,  0,  0],\n",
    "        [  5, 10, 10,-20,-20, 10, 10,  5],\n",
    "        [  5, -5,-10,  0,  0,-10, -5,  5],\n",
    "        [  0,  0,  0, 20, 20,  0,  0,  0],\n",
    "        [  5,  5, 10, 25, 25, 10,  5,  5],\n",
    "        [ 10, 10, 20, 30, 30, 20, 10, 10],\n",
    "        [ 50, 50, 50, 50, 50, 50, 50, 50],\n",
    "        [  0,  0,  0,  0,  0,  0,  0,  0]\n",
    "    ],\n",
    "        KNIGHT => [\n",
    "        [-50,-40,-30,-30,-30,-30,-40,-50],\n",
    "        [-40,-20,  0,  5,  5,  0,-20,-40],\n",
    "        [-30,  5, 10, 15, 15, 10,  5,-30],\n",
    "        [-30,  0, 15, 20, 20, 15,  0,-30],\n",
    "        [-30,  5, 15, 20, 20, 15,  5,-30],\n",
    "        [-30,  0, 10, 15, 15, 10,  0,-30],\n",
    "        [-40,-20,  0,  0,  0,  0,-20,-40],\n",
    "        [-50,-40,-30,-30,-30,-30,-40,-50]\n",
    "    ],\n",
    "        BISHOP => [\n",
    "        [-20,-10,-10,-10,-10,-10,-10,-20],\n",
    "        [-10,  5,  0,  0,  0,  0,  5,-10],\n",
    "        [-10, 10, 10, 10, 10, 10, 10,-10],\n",
    "        [-10,  0, 10, 10, 10, 10,  0,-10],\n",
    "        [-10,  5,  5, 10, 10,  5,  5,-10],\n",
    "        [-10,  0,  5, 10, 10,  5,  0,-10],\n",
    "        [-10,  0,  0,  0,  0,  0,  0,-10],\n",
    "        [-20,-10,-10,-10,-10,-10,-10,-20]\n",
    "    ],\n",
    "        ROOK => [\n",
    "        [  0,  0,  0,  5,  5,  0,  0,  0],\n",
    "        [ -5,  0,  0,  0,  0,  0,  0, -5],\n",
    "        [ -5,  0,  0,  0,  0,  0,  0, -5],\n",
    "        [ -5,  0,  0,  0,  0,  0,  0, -5],\n",
    "        [ -5,  0,  0,  0,  0,  0,  0, -5],\n",
    "        [ -5,  0,  0,  0,  0,  0,  0, -5],\n",
    "        [  5, 10, 10, 10, 10, 10, 10,  5],\n",
    "        [  0,  0,  0,  0,  0,  0,  0,  0]\n",
    "    ],\n",
    "        QUEEN => [\n",
    "        [-20,-10,-10, -5, -5,-10,-10,-20],\n",
    "        [-10,  0,  5,  0,  0,  0,  0,-10],\n",
    "        [-10,  5,  5,  5,  5,  5,  0,-10],\n",
    "        [  0,  0,  5,  5,  5,  5,  0, -5],\n",
    "        [ -5,  0,  5,  5,  5,  5,  0, -5],\n",
    "        [-10,  0,  5,  5,  5,  5,  0,-10],\n",
    "        [-10,  0,  0,  0,  0,  0,  0,-10],\n",
    "        [-20,-10,-10, -5, -5,-10,-10,-20]\n",
    "    ],\n",
    "        KING => [\n",
    "        [ 20, 30, 10,  0,  0, 10, 30, 20],\n",
    "        [ 20, 20,  0,  0,  0,  0, 20, 20],\n",
    "        [-10,-20,-20,-20,-20,-20,-20,-10],\n",
    "        [-20,-30,-30,-40,-40,-30,-30,-20],\n",
    "        [-30,-40,-40,-50,-50,-40,-40,-30],\n",
    "        [-30,-40,-40,-50,-50,-40,-40,-30],\n",
    "        [-30,-40,-40,-50,-50,-40,-40,-30],\n",
    "        [-30,-40,-40,-50,-50,-40,-40,-30]\n",
    "    ]\n",
    "    )\n",
    "    const black_king_square_end_game_table::Array{Array{Int8, 1}, 1} = [\n",
    "        [-50,-30,-30,-30,-30,-30,-30,-50],\n",
    "        [-30,-30,  0,  0,  0,  0,-30,-30],\n",
    "        [-30,-10, 20, 30, 30, 20,-10,-30],\n",
    "        [-30,-10, 30, 40, 40, 30,-10,-30],\n",
    "        [-30,-10, 30, 40, 40, 30,-10,-30],\n",
    "        [-30,-10, 20, 30, 30, 20,-10,-30],\n",
    "        [-30,-20,-10,  0,  0,-10,-20,-30],\n",
    "        [-50,-40,-30,-20,-20,-30,-40,-50]\n",
    "    ]\n",
    "end"
   ]
  },
  {
   "cell_type": "markdown",
   "id": "226d4078",
   "metadata": {},
   "source": [
    "The function `get_square_value` is used to evaluate the position of a chess piece on a board. As input parameters it takes a board (board::Board), a chess piece (piece::Piece) and a playing field (square::Square) on which the piece is located. The function calculates a numeric centipawn value that describes the strength or weakness of the current position of the piece. \n",
    "\n",
    "The King uses two tables. The `table_opt` can be set to \"end\" to enforce the usage of the endgame table. This feature overrides the actual position of the board."
   ]
  },
  {
   "cell_type": "code",
   "execution_count": null,
   "id": "74707106",
   "metadata": {},
   "outputs": [],
   "source": [
    "function get_square_value(board::Board, piece::Piece, square::Square, table_opt::String=\"\")::Int\n",
    "    piece_type::PieceType = ptype(piece)\n",
    "    if table_opt == \"\" && is_endgame(board)\n",
    "        table_opt = \"end\"\n",
    "    end\n",
    "    is_white::Bool = Chess.pcolor(piece) == WHITE\n",
    "    is_endgame_king::Bool = piece_type == KING && table_opt == \"end\"\n",
    "    square_table = is_white ? WHITE_PIECE_SQUARE_TABLES[piece_type] : BLACK_PIECE_SQUARE_TABLES[piece_type]\n",
    "    is_endgame_king && (is_white ? white_king_square_end_game_table : black_king_square_end_game_table)\n",
    "    x::Int8 = Int(tochar(file(square))) - Int('a')+1\n",
    "    y::Int8 = parse(Int, tochar(rank(square))) \n",
    "    return square_table[9 - y][x]\n",
    "end"
   ]
  },
  {
   "cell_type": "markdown",
   "id": "a743417a",
   "metadata": {},
   "source": [
    "The `calc_score` function takes in 3 arguments, \n",
    "1. `board` which is a chess board \n",
    "1. `piece` which is a chess piece\n",
    "1. `square` which is a chess square\n",
    "\n",
    "The function returns the value of the piece on the square."
   ]
  },
  {
   "cell_type": "code",
   "execution_count": null,
   "id": "281d4324",
   "metadata": {},
   "outputs": [],
   "source": [
    "function calc_score(board::Board, piece::Piece, square::Square)::Int64\n",
    "    return get_value(piece) + get_square_value(board, piece, square)\n",
    "end"
   ]
  },
  {
   "cell_type": "markdown",
   "id": "ce3eabc1",
   "metadata": {},
   "source": [
    "## Non incremental Evaluation of a Position"
   ]
  },
  {
   "cell_type": "markdown",
   "id": "68b2cb5f",
   "metadata": {},
   "source": [
    "The function `evaluate_position` takes in 1 argument, `board` which is a chess board. It returns the value of the board. This function not incrementally evaluate one move."
   ]
  },
  {
   "cell_type": "code",
   "execution_count": null,
   "id": "6c3fdf4d",
   "metadata": {},
   "outputs": [],
   "source": [
    "function evaluate_position(board::Board)::Int64\n",
    "    if isterminal(board)\n",
    "        return terminal_evaluation(board)\n",
    "    end\n",
    "    score = 0\n",
    "    for x in 1:8,y in 1:8\n",
    "        square = Square(SquareFile(x),SquareRank(y))\n",
    "        piece = pieceon(board, square)\n",
    "        if piece != EMPTY\n",
    "            score += (Chess.pcolor(piece) == WHITE ? 1 : -1) * calc_score(board, piece, square)\n",
    "        end\n",
    "    end\n",
    "    return score \n",
    "end"
   ]
  },
  {
   "cell_type": "markdown",
   "id": "726d6ff4",
   "metadata": {},
   "source": [
    "## Incrementle Evaluation of a Move"
   ]
  },
  {
   "cell_type": "markdown",
   "id": "02b3faaf",
   "metadata": {},
   "source": [
    "### Capture Piece\n",
    "The function `valueCapturePiece` is used to update the value of a chessboard when a piece is captured by the opponent. As input parameters it takes a chess board (board) and a chess piece that was captured (toMove).\n",
    "\n",
    "When the function is called, the value of the captured piece is subtracted from the current value of the chess board."
   ]
  },
  {
   "cell_type": "code",
   "execution_count": null,
   "id": "14a29efd",
   "metadata": {},
   "outputs": [],
   "source": [
    "function valueCapturePiece(board::Board, square::Square)::Int64\n",
    "    capturePiece = pieceon(board, square)\n",
    "    return capturePiece == EMPTY ? 0 : calc_score(board, capturePiece, square)\n",
    "end"
   ]
  },
  {
   "cell_type": "markdown",
   "id": "c5b38eab",
   "metadata": {},
   "source": [
    "The function `calcEnPassant` is used to check if the last move was an en passant move. As input parameters it takes a chess board (board) and a chess piece that was captured (toMove).\n",
    "The function returns a captured piece if the last move was an en passant move, otherwise it returns zero."
   ]
  },
  {
   "cell_type": "code",
   "execution_count": null,
   "id": "7c92d421",
   "metadata": {},
   "outputs": [],
   "source": [
    "function calcEnPassant(board::Board, toSquare::Square)::Int64\n",
    "    enpassantSquare = epsquare(board)\n",
    "    if(enpassantSquare != SQ_NONE && enpassantSquare == toSquare)\n",
    "        lastToMove = to(lastmove(board))\n",
    "        return valueCapturePiece(board, lastToMove)\n",
    "    end \n",
    "    return 0\n",
    "end "
   ]
  },
  {
   "cell_type": "markdown",
   "id": "2790a4e5",
   "metadata": {},
   "source": [
    "`calc_castle` checks wether the `move` done was a castleing move. \n",
    "\n",
    "If no the score will be returned back.\n",
    "\n",
    "If yes it will adds the value of the move rook. The moved King will be calculated as the regularmove in the `evaluate_move` function. Casteling Kingside does not effect the value of the rook. Casteling Queenside adds +5 to the value of the position.\n",
    "\n",
    "Check Castle KingSide is ignored, because the score is not changed. The reason is that the rook on square f1/f8 has the value zero. "
   ]
  },
  {
   "cell_type": "code",
   "execution_count": null,
   "id": "5bae4151",
   "metadata": {},
   "outputs": [],
   "source": [
    "function calc_castle(board::Board, piece::Piece, toSquare::Square)::Int64\n",
    "    if(ptype(piece) == KING && cancastlequeenside(board, Chess.pcolor(piece)) && file(toSquare) == FILE_C)\n",
    "        return  5\n",
    "    end \n",
    "    return 0\n",
    "end"
   ]
  },
  {
   "cell_type": "markdown",
   "id": "e206d628",
   "metadata": {},
   "source": [
    "The function `evaluate_move takes` in a `board` with it's current static centipawn `score` and a `move` and returns the static centipawn score after doing the move. The function is a incremental implementation meaning it will only consider and calculate the differences between the old and new position.\n",
    "\n",
    "Following things need to be considered:\n",
    "- Take away old square position value\n",
    "- Add new square position value\n",
    "- Take away score of captured pieces\n",
    "\n",
    "Special events in chess\n",
    "- castling\n",
    "- promotion\n",
    "- en passant\n",
    "- entry into endgame\n",
    "\n",
    "The function "
   ]
  },
  {
   "cell_type": "code",
   "execution_count": null,
   "id": "b2d7679a",
   "metadata": {},
   "outputs": [],
   "source": [
    "function evaluate_move(board::Board, move::Move, score::Int64)::Int64\n",
    "    undoinfo = domove!(board, move)\n",
    "    is_after_move_endgame = is_endgame(board)\n",
    "    if isterminal(board)\n",
    "        score = terminal_evaluation(board)\n",
    "        undomove!(board, undoinfo)\n",
    "        return score\n",
    "    end\n",
    "    undomove!(board, undoinfo)\n",
    "    \n",
    "    toMove = to(move)\n",
    "    fromMove = from(move)\n",
    "    piece = pieceon(board, from(move))\n",
    "    pieceType = ptype(piece)\n",
    "    isBlack = Chess.pcolor(piece) == BLACK\n",
    "    \n",
    "    # invert score if piece is black (imitate black is white)\n",
    "    score = isBlack ? -score : score\n",
    "    \n",
    "    # Sub Points for old Position from Piece\n",
    "    score -= valueCapturePiece(board, fromMove)\n",
    "    score += valueCapturePiece(board, toMove)\n",
    "\n",
    "    # Handle en passant and promotion\n",
    "    if pieceType == PAWN      \n",
    "        score += calcEnPassant(board, toMove)\n",
    "        if ispromotion(move)      \n",
    "            piece = Piece(sidetomove(board), promotion(move))\n",
    "        end\n",
    "    end\n",
    "    \n",
    "    # Handle castling\n",
    "    if pieceType == KING     \n",
    "        score += calc_castle(board, piece, toMove)\n",
    "    end\n",
    "    \n",
    "    score += calc_score(board, piece, toMove)\n",
    "    \n",
    "    # invert back\n",
    "    score = isBlack ? -score : score\n",
    "    \n",
    "    # entry into endgame\n",
    "    if is_endgame(board) != is_after_move_endgame \n",
    "        for kingPos in kings(board)\n",
    "            k = pieceon(board, kingPos)\n",
    "            score = Chess.pcolor(k) == BLACK ? -score : score\n",
    "            if is_endgame(board)\n",
    "                score -= get_square_value(board, k, kingPos, \"middle\")\n",
    "                score += get_square_value(board, k, kingPos, \"end\")\n",
    "            else\n",
    "                score -= get_square_value(board, k, kingPos, \"end\")\n",
    "                score += get_square_value(board, k, kingPos, \"middle\")\n",
    "            end\n",
    "            score = Chess.pcolor(k) == BLACK ? -score : score\n",
    "        end\n",
    "    end\n",
    "    return score\n",
    "end"
   ]
  },
  {
   "cell_type": "markdown",
   "id": "35c18d97",
   "metadata": {},
   "source": [
    "### terminal_evaluation Function\n",
    "\n",
    "The terminal_evaluation function in Julia takes a Board object as an argument and returns an integer score representing the evaluation of the board in a given terminal state. The function checks if the board is in checkmate, stalemate, material draw, or rule 50 draw, and returns a score accordingly.\n",
    "\n"
   ]
  },
  {
   "cell_type": "code",
   "execution_count": null,
   "id": "e349a282",
   "metadata": {},
   "outputs": [],
   "source": [
    "function terminal_evaluation(board::Board)::Int64\n",
    "    if ischeckmate(board)\n",
    "        return sidetomove(board) == WHITE ? -100000 : 100000\n",
    "    elseif isstalemate(board) || ismaterialdraw(board) || isrule50draw(board)\n",
    "        return 0\n",
    "    end\n",
    "end"
   ]
  },
  {
   "cell_type": "code",
   "execution_count": null,
   "id": "dcb73e9c",
   "metadata": {},
   "outputs": [],
   "source": []
  }
 ],
 "metadata": {
  "kernelspec": {
   "display_name": "Julia 1.8.2",
   "language": "julia",
   "name": "julia-1.8"
  },
  "language_info": {
   "file_extension": ".jl",
   "mimetype": "application/julia",
   "name": "julia",
   "version": "1.8.2"
  }
 },
 "nbformat": 4,
 "nbformat_minor": 5
}
