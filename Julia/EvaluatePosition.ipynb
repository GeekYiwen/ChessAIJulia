{
 "cells": [
  {
   "cell_type": "code",
   "execution_count": null,
   "metadata": {},
   "outputs": [],
   "source": [
    "HTML(read(open(\"style.css\"), String))"
   ]
  },
  {
   "attachments": {},
   "cell_type": "markdown",
   "metadata": {},
   "source": [
    "# Simple Evaluation Function\n",
    "The evaluation of chess moves is a critical component in the development of chess engines.\n",
    "This notebook can return a static centipawn value for each chess position. It will not look into the future and only consider the current state of the board. \n",
    "\n",
    "This method has been developed by Tomasz Michniewski in the Polish chess programming discussion list (progszach).\n",
    "\n",
    "\n",
    "https://www.chessprogramming.org/Simplified_Evaluation_Function"
   ]
  },
  {
   "cell_type": "code",
   "execution_count": null,
   "metadata": {},
   "outputs": [],
   "source": [
    "using Pkg\n",
    "#Pkg.add(\"Chess\")\n",
    "using Chess\n",
    "using BenchmarkTools\n",
    "using NBInclude"
   ]
  },
  {
   "attachments": {},
   "cell_type": "markdown",
   "id": "45e7973b",
   "metadata": {},
   "source": [
    "## Detecting the Endgame\n",
    "\n",
    "The is_endgame function takes in one argument, board, which is the current state of the chess board.  \n",
    "The function returns a boolean value of true if the game is in the endgame and false if it is not.\n",
    "\n",
    "The function uses a few checks to determine whether the game has reached the endgame stage or not.\n",
    "1. Both sides have no queens\n",
    "1. Every side which has a queen has additionally no other pieces or one minorpiece maximum.\n",
    "https://www.chessprogramming.org/Simplified_Evaluation_Function \n",
    "\n",
    "The is_endgame function also uses some inline functions to calculate the number of minor pieces left on the board. The num_minor_pieces function takes in one argument, side, which is the color of the pieces being counted. It calculates the number of knights and bishops on the board for that side and returns the total count.\n",
    "\n",
    "Finally, the is_in_endgame function takes in one argument, color, which is the color of the pieces being checked. It checks whether that color is in the endgame or not, based on the two checks described earlier. If the color is in the endgame, the function returns true, otherwise it returns false."
   ]
  },
  {
   "cell_type": "code",
   "execution_count": null,
   "id": "6bb33902",
   "metadata": {},
   "outputs": [],
   "source": [
    "function is_endgame(board::Board)::Bool\n",
    "    # Inline Functions to calculate the number of minor pieces\n",
    "    num_minor_pieces(side) = squarecount(knights(board, side)) + squarecount(bishops(board, side))\n",
    "    # Check if Player White or Black is in endgame\n",
    "    is_in_endgame(color) = isempty(queens(board, color)) || (num_minor_pieces(color) <= 1 && isempty(rooks(board, color)))\n",
    "    return is_in_endgame(WHITE) && is_in_endgame(BLACK)\n",
    "end"
   ]
  },
  {
   "attachments": {},
   "cell_type": "markdown",
   "id": "4ed50968",
   "metadata": {},
   "source": [
    "## Determining the Value of Piece on a Square:\n",
    "In the game of chess, each piece has a relative value based on their ability to move and control squares on the board. Understanding the values of the pieces is essential in evaluating the position of the game and determining which pieces to exchange and which to keep. In this research paper, we will explore how the values of the pieces are determined and how they help in evaluating a chess position."
   ]
  },
  {
   "attachments": {},
   "cell_type": "markdown",
   "metadata": {},
   "source": [
    "### Piecevalue:\n",
    "\n",
    "In the game of chess, the values of the pieces are determined based on its importance and strength on the board. For example, the pawn is the weakest piece on the board, and its value is set at 100 points. In contrast, the queen is the most powerful piece, and its value is set at 900 points. The values of the other pieces fall between these two extremes, with the knight and bishop having a value of 320 and 330 points, respectively, and the rook having a value of 500 points.\n",
    "\n",
    "In the following code, the global `Piece_Values` is set using a dictionary data structure. The dictionary maps the PieceType to its corresponding value in points."
   ]
  },
  {
   "cell_type": "code",
   "execution_count": null,
   "metadata": {},
   "outputs": [],
   "source": [
    "if !@isdefined(PIECE_VALUES)\n",
    "    const PIECE_VALUES::Dict{PieceType, Int} = Dict([(PAWN, 100),(KNIGHT, 320),(BISHOP, 330),(ROOK, 500),(QUEEN, 900),(KING, 20000)])\n",
    "end"
   ]
  },
  {
   "cell_type": "markdown",
   "metadata": {},
   "source": [
    "The `get_value` function takes in 1 argument, `piece` which is a chess piece. It returns the value of the piece from global variable **PIECE_VALUES**."
   ]
  },
  {
   "cell_type": "code",
   "execution_count": null,
   "metadata": {},
   "outputs": [],
   "source": [
    "function get_value(piece::Piece)::Int64\n",
    "    return get(PIECE_VALUES, ptype(piece), 0)\n",
    "end"
   ]
  },
  {
   "attachments": {},
   "cell_type": "markdown",
   "metadata": {},
   "source": [
    "### Square Values:\n",
    "\n",
    "The position of the pieces on the board can impact their value, making it essential to consider the square values when evaluating the position of a piece. To achieve this, two tables called `White_Pawn_Square_Table` and `Black_Pawn_Square_Table` are used. These tables contain the values for each type of piece and square on the board, based on the position.\n",
    "\n",
    " https://www.chessprogramming.org/Simplified_Evaluation_Function"
   ]
  },
  {
   "cell_type": "code",
   "execution_count": null,
   "metadata": {
    "scrolled": true
   },
   "outputs": [],
   "source": [
    "if !@isdefined(WHITE_PIECE_SQUARE_TABLES)\n",
    "    const WHITE_PIECE_SQUARE_TABLES::Dict{PieceType, Vector{Vector{Int8}}} = Dict(\n",
    "        PAWN => [\n",
    "        [  0,  0,  0,  0,  0,  0,  0,  0],\n",
    "        [ 50, 50, 50, 50, 50, 50, 50, 50],\n",
    "        [ 10, 10, 20, 30, 30, 20, 10, 10],\n",
    "        [  5,  5, 10, 25, 25, 10,  5,  5],\n",
    "        [  0,  0,  0, 20, 20,  0,  0,  0],\n",
    "        [  5, -5,-10,  0,  0,-10, -5,  5],\n",
    "        [  5, 10, 10,-20,-20, 10, 10,  5],\n",
    "        [  0,  0,  0,  0,  0,  0,  0,  0]\n",
    "    ],\n",
    "        KNIGHT => [\n",
    "        [-50,-40,-30,-30,-30,-30,-40,-50],\n",
    "        [-40,-20,  0,  0,  0,  0,-20,-40],\n",
    "        [-30,  0, 10, 15, 15, 10,  0,-30],\n",
    "        [-30,  5, 15, 20, 20, 15,  5,-30],\n",
    "        [-30,  0, 15, 20, 20, 15,  0,-30],\n",
    "        [-30,  5, 10, 15, 15, 10,  5,-30],\n",
    "        [-40,-20,  0,  5,  5,  0,-20,-40],\n",
    "        [-50,-40,-30,-30,-30,-30,-40,-50]\n",
    "    ],\n",
    "        BISHOP => [\n",
    "        [-20,-10,-10,-10,-10,-10,-10,-20],\n",
    "        [-10,  0,  0,  0,  0,  0,  0,-10],\n",
    "        [-10,  0,  5, 10, 10,  5,  0,-10],\n",
    "        [-10,  5,  5, 10, 10,  5,  5,-10],\n",
    "        [-10,  0, 10, 10, 10, 10,  0,-10],\n",
    "        [-10, 10, 10, 10, 10, 10, 10,-10],\n",
    "        [-10,  5,  0,  0,  0,  0,  5,-10],\n",
    "        [-20,-10,-10,-10,-10,-10,-10,-20]\n",
    "    ],\n",
    "        ROOK => [\n",
    "        [ 0,  0,  0,  0,  0,  0,  0,  0],\n",
    "        [ 5, 10, 10, 10, 10, 10, 10,  5],\n",
    "        [-5,  0,  0,  0,  0,  0,  0, -5],\n",
    "        [-5,  0,  0,  0,  0,  0,  0, -5],\n",
    "        [-5,  0,  0,  0,  0,  0,  0, -5],\n",
    "        [-5,  0,  0,  0,  0,  0,  0, -5],\n",
    "        [-5,  0,  0,  0,  0,  0,  0, -5],\n",
    "        [ 0,  0,  0,  5,  5,  0,  0,  0]\n",
    "    ],\n",
    "        QUEEN => [\n",
    "        [-20,-10,-10, -5, -5,-10,-10,-20],\n",
    "        [-10,  0,  0,  0,  0,  0,  0,-10],\n",
    "        [-10,  0,  5,  5,  5,  5,  0,-10],\n",
    "        [ -5,  0,  5,  5,  5,  5,  0, -5],\n",
    "        [  0,  0,  5,  5,  5,  5,  0, -5],\n",
    "        [-10,  5,  5,  5,  5,  5,  0,-10],\n",
    "        [-10,  0,  5,  0,  0,  0,  0,-10],\n",
    "        [-20,-10,-10, -5, -5,-10,-10,-20]\n",
    "    ],\n",
    "        KING => [\n",
    "        [-30,-40,-40,-50,-50,-40,-40,-30],\n",
    "        [-30,-40,-40,-50,-50,-40,-40,-30],\n",
    "        [-30,-40,-40,-50,-50,-40,-40,-30],\n",
    "        [-30,-40,-40,-50,-50,-40,-40,-30],\n",
    "        [-20,-30,-30,-40,-40,-30,-30,-20],\n",
    "        [-10,-20,-20,-20,-20,-20,-20,-10],\n",
    "        [ 20, 20,  0,  0,  0,  0, 20, 20],\n",
    "        [ 20, 30, 10,  0,  0, 10, 30, 20]\n",
    "    ]\n",
    "    )\n",
    "    const white_king_square_end_game_table::Array{Array{Int8, 1}, 1} = [\n",
    "        [-50,-40,-30,-20,-20,-30,-40,-50],\n",
    "        [-30,-20,-10,  0,  0,-10,-20,-30],\n",
    "        [-30,-10, 20, 30, 30, 20,-10,-30],\n",
    "        [-30,-10, 30, 40, 40, 30,-10,-30],\n",
    "        [-30,-10, 30, 40, 40, 30,-10,-30],\n",
    "        [-30,-10, 20, 30, 30, 20,-10,-30],\n",
    "        [-30,-30,  0,  0,  0,  0,-30,-30],\n",
    "        [-50,-30,-30,-30,-30,-30,-30,-50]\n",
    "    ]\n",
    "end"
   ]
  },
  {
   "cell_type": "code",
   "execution_count": null,
   "metadata": {},
   "outputs": [],
   "source": [
    "if !@isdefined(BLACK_PIECE_SQUARE_TABLES)\n",
    "    const BLACK_PIECE_SQUARE_TABLES::Dict{PieceType, Vector{Vector{Int8}}} = Dict(\n",
    "        PAWN => [\n",
    "        [  0,  0,  0,  0,  0,  0,  0,  0],\n",
    "        [  5, 10, 10,-20,-20, 10, 10,  5],\n",
    "        [  5, -5,-10,  0,  0,-10, -5,  5],\n",
    "        [  0,  0,  0, 20, 20,  0,  0,  0],\n",
    "        [  5,  5, 10, 25, 25, 10,  5,  5],\n",
    "        [ 10, 10, 20, 30, 30, 20, 10, 10],\n",
    "        [ 50, 50, 50, 50, 50, 50, 50, 50],\n",
    "        [  0,  0,  0,  0,  0,  0,  0,  0]\n",
    "    ],\n",
    "        KNIGHT => [\n",
    "        [-50,-40,-30,-30,-30,-30,-40,-50],\n",
    "        [-40,-20,  0,  5,  5,  0,-20,-40],\n",
    "        [-30,  5, 10, 15, 15, 10,  5,-30],\n",
    "        [-30,  0, 15, 20, 20, 15,  0,-30],\n",
    "        [-30,  5, 15, 20, 20, 15,  5,-30],\n",
    "        [-30,  0, 10, 15, 15, 10,  0,-30],\n",
    "        [-40,-20,  0,  0,  0,  0,-20,-40],\n",
    "        [-50,-40,-30,-30,-30,-30,-40,-50]\n",
    "    ],\n",
    "        BISHOP => [\n",
    "        [-20,-10,-10,-10,-10,-10,-10,-20],\n",
    "        [-10,  5,  0,  0,  0,  0,  5,-10],\n",
    "        [-10, 10, 10, 10, 10, 10, 10,-10],\n",
    "        [-10,  0, 10, 10, 10, 10,  0,-10],\n",
    "        [-10,  5,  5, 10, 10,  5,  5,-10],\n",
    "        [-10,  0,  5, 10, 10,  5,  0,-10],\n",
    "        [-10,  0,  0,  0,  0,  0,  0,-10],\n",
    "        [-20,-10,-10,-10,-10,-10,-10,-20]\n",
    "    ],\n",
    "        ROOK => [\n",
    "        [  0,  0,  0,  5,  5,  0,  0,  0],\n",
    "        [ -5,  0,  0,  0,  0,  0,  0, -5],\n",
    "        [ -5,  0,  0,  0,  0,  0,  0, -5],\n",
    "        [ -5,  0,  0,  0,  0,  0,  0, -5],\n",
    "        [ -5,  0,  0,  0,  0,  0,  0, -5],\n",
    "        [ -5,  0,  0,  0,  0,  0,  0, -5],\n",
    "        [  5, 10, 10, 10, 10, 10, 10,  5],\n",
    "        [  0,  0,  0,  0,  0,  0,  0,  0]\n",
    "    ],\n",
    "        QUEEN => [\n",
    "        [-20,-10,-10, -5, -5,-10,-10,-20],\n",
    "        [-10,  0,  5,  0,  0,  0,  0,-10],\n",
    "        [-10,  5,  5,  5,  5,  5,  0,-10],\n",
    "        [  0,  0,  5,  5,  5,  5,  0, -5],\n",
    "        [ -5,  0,  5,  5,  5,  5,  0, -5],\n",
    "        [-10,  0,  5,  5,  5,  5,  0,-10],\n",
    "        [-10,  0,  0,  0,  0,  0,  0,-10],\n",
    "        [-20,-10,-10, -5, -5,-10,-10,-20]\n",
    "    ],\n",
    "        KING => [\n",
    "        [ 20, 30, 10,  0,  0, 10, 30, 20],\n",
    "        [ 20, 20,  0,  0,  0,  0, 20, 20],\n",
    "        [-10,-20,-20,-20,-20,-20,-20,-10],\n",
    "        [-20,-30,-30,-40,-40,-30,-30,-20],\n",
    "        [-30,-40,-40,-50,-50,-40,-40,-30],\n",
    "        [-30,-40,-40,-50,-50,-40,-40,-30],\n",
    "        [-30,-40,-40,-50,-50,-40,-40,-30],\n",
    "        [-30,-40,-40,-50,-50,-40,-40,-30]\n",
    "    ]\n",
    "    )\n",
    "    const black_king_square_end_game_table::Array{Array{Int8, 1}, 1} = [\n",
    "        [-50,-30,-30,-30,-30,-30,-30,-50],\n",
    "        [-30,-30,  0,  0,  0,  0,-30,-30],\n",
    "        [-30,-10, 20, 30, 30, 20,-10,-30],\n",
    "        [-30,-10, 30, 40, 40, 30,-10,-30],\n",
    "        [-30,-10, 30, 40, 40, 30,-10,-30],\n",
    "        [-30,-10, 20, 30, 30, 20,-10,-30],\n",
    "        [-30,-20,-10,  0,  0,-10,-20,-30],\n",
    "        [-50,-40,-30,-20,-20,-30,-40,-50]\n",
    "    ]\n",
    "end"
   ]
  },
  {
   "cell_type": "markdown",
   "metadata": {},
   "source": [
    "The function `get_square_value` is used to evaluate the position of a chess piece on a board. As input parameters it takes a board (board::Board), a chess piece (piece::Piece) and a playing field (square::Square) on which the piece is located. The function calculates a numeric centipawn value that describes the strength or weakness of the current position of the piece. \n",
    "\n",
    "The King uses two tables. The `table_opt` can be set to \"end\" to enforce the usage of the endgame table. This feature overrides the actual position of the board."
   ]
  },
  {
   "cell_type": "code",
   "execution_count": null,
   "metadata": {},
   "outputs": [],
   "source": [
    "function get_square_value(board::Board, piece::Piece, square::Square, table_opt::String=\"\")::Int\n",
    "    piece_type::PieceType = ptype(piece)\n",
    "    if table_opt == \"\" && is_endgame(board)\n",
    "        table_opt = \"end\"\n",
    "    end\n",
    "\n",
    "    if Chess.pcolor(piece) == WHITE\n",
    "        square_table = WHITE_PIECE_SQUARE_TABLES[piece_type]\n",
    "        if piece_type == KING && table_opt ==  \"end\"\n",
    "            square_table = white_king_square_end_game_table\n",
    "        end\n",
    "    else\n",
    "        square_table = BLACK_PIECE_SQUARE_TABLES[piece_type]\n",
    "        if piece_type == KING && table_opt ==  \"end\"\n",
    "            square_table = black_king_square_end_game_table\n",
    "        end\n",
    "    end\n",
    "\n",
    "    squareString::String = tostring(square)\n",
    "    x::Int8 = Int(squareString[1]) - Int('a')+1\n",
    "    y::Int8 = parse(Int, squareString[2]) \n",
    "    return square_table[9 - y][x]\n",
    "end\n"
   ]
  },
  {
   "attachments": {},
   "cell_type": "markdown",
   "metadata": {},
   "source": [
    "### Using the Piece Values and Square Values to Evaluate the Position of Pieces:\n",
    "The `calc_score` function takes in 3 arguments, \n",
    "1. `board` which is a chess board \n",
    "1. `piece` which is a chess piece\n",
    "1. `square` which is a chess square\n",
    "\n",
    "The calc_score function is calculated by summing the value of the piece (get_value(piece)) and the square value (get_square_value(board, piece, square)). The calc_score function is used to evaluate the position of the chess pieces on the board."
   ]
  },
  {
   "cell_type": "code",
   "execution_count": null,
   "metadata": {},
   "outputs": [],
   "source": [
    "function calc_score(board::Board, piece::Piece, square::Square)::Int64\n",
    "    return get_value(piece) + get_square_value(board, piece, square)\n",
    "end"
   ]
  },
  {
   "attachments": {},
   "cell_type": "markdown",
   "id": "f83eb600",
   "metadata": {},
   "source": [
    "## Evaluation of a Position"
   ]
  },
  {
   "attachments": {},
   "cell_type": "markdown",
   "metadata": {},
   "source": [
    "### Non incremental Evaluation of a Position\n",
    "The function `evaluate_position` takes in one argument, `board` which is a chess board. It returns the value of the board. This function not incrementally evaluate one move.\n",
    "\n",
    "If the board argument is a terminal state, the terminal_evaluation function is called, which returns the final score of the game.\n",
    "\n",
    "The evaluate_position function iterates through each square on the board and calculates the score of each piece on that square. It uses the calc_score function to determine the value of the piece on the square. The score of the piece is then multiplied by 1 if it is a white piece or -1 if it is a black piece. Finally, the scores of all the pieces on the board are summed up to give the overall score of the board."
   ]
  },
  {
   "cell_type": "code",
   "execution_count": null,
   "metadata": {},
   "outputs": [],
   "source": [
    "function evaluate_position(board::Board)::Int64\n",
    "    if isterminal(board)\n",
    "        return terminal_evaluation(board)\n",
    "    end\n",
    "    score = 0\n",
    "    for x in 1:8,y in 1:8\n",
    "        square = Square(SquareFile(x),SquareRank(y))\n",
    "        piece = pieceon(board, square)\n",
    "        if piece != EMPTY\n",
    "            score += (Chess.pcolor(piece) == WHITE ? 1 : -1) * calc_score(board, piece, square)\n",
    "        end\n",
    "    end\n",
    "    return score \n",
    "end"
   ]
  },
  {
   "attachments": {},
   "cell_type": "markdown",
   "metadata": {},
   "source": [
    "### Incrementle Evaluation of a Move\n",
    " The idea behind incremental evaluation is to evaluate the effect of a move on the board's value by only considering the changes made by the move rather than evaluating the entire board from scratch.\n",
    " \n",
    " It reduces the computational cost of evaluating a move. Since only the changes made by the move need to be evaluated, the search tree can be pruned more effectively, resulting in faster and deeper searches."
   ]
  },
  {
   "attachments": {},
   "cell_type": "markdown",
   "metadata": {},
   "source": [
    "The function `valueCapturePiece` is used to update the value of a chessboard when a piece is captured by the opponent. It takes two input parameters:\n",
    "1. board: a chess board\n",
    "1. square: the square where the capture occurred\n",
    "\n",
    "If the square is empty, the function returns 0, as no piece was captured. Otherwise, it uses the calc_score function to determine the value of the captured piece, which is then subtracted from the current value of the chess board. The function returns the value of the captured piece as an integer."
   ]
  },
  {
   "cell_type": "code",
   "execution_count": null,
   "metadata": {},
   "outputs": [],
   "source": [
    "function valueCapturePiece(board::Board, square::Square)::Int64\n",
    "    capturePiece = pieceon(board, square)\n",
    "    return capturePiece == EMPTY ? 0 : calc_score(board, capturePiece, square)\n",
    "end"
   ]
  },
  {
   "attachments": {},
   "cell_type": "markdown",
   "metadata": {},
   "source": [
    "En passant is a unique chess move where a pawn can capture an opponent's pawn that has advanced two squares and landed on a square adjacent to it, as if the opposing pawn had only moved forward one square. https://www.chess.com/de/terms/en-passant-schachregeln \n",
    "\n",
    "The function `calcEnPassant` is used to calutate capture with en passant. As input parameters it takes a chess board `board` and a chess square `toSquare`. The toSquare parameter represents the destination square of the pawn that just moved.\n",
    "\n",
    "Inside the function, the epsquare function is used to retrieve the en passant square on the board. If there is no en passant square, the function returns zero. Otherwise, it checks if the toSquare parameter matches the en passant square. Otherwise, it checks if the toSquare parameter matches the en passant square.  If they match, the function returns the value of the captured pawn, otherwise it returns zero.\n"
   ]
  },
  {
   "cell_type": "code",
   "execution_count": null,
   "metadata": {},
   "outputs": [],
   "source": [
    "function calcEnPassant(board::Board, toSquare::Square)::Int64\n",
    "    enpassantSquare = epsquare(board)\n",
    "    if(enpassantSquare != SQ_NONE && enpassantSquare == toSquare)\n",
    "        lastToMove = to(lastmove(board))\n",
    "        return valueCapturePiece(board, lastToMove)\n",
    "    end \n",
    "    return 0\n",
    "end "
   ]
  },
  {
   "attachments": {},
   "cell_type": "markdown",
   "metadata": {},
   "source": [
    "\n",
    "In the game of chess, castling is a special move that involves the king and one of the rooks. This move allows the king to move two squares towards the rook, and the rook moves to the square over which the king passed. chess.com/lessons/playing-the-game/castling \n",
    "\n",
    "The function `calc_castle` is used to calculate the #rook# value of a castle move. As input parameters it takes a chess board `board` and a chess move `move`. Castling Kingside does not affect the value of the rook since the value aren't change after the move (f1/f8). Casteling Queenside adds +5 to the value of the position.The function checks if the move is a queensidecastle move. If it is not, the function returns zero. Otherwise, it returns +5 Rook Square https://www.chessprogramming.org/Simplified_Evaluation_Function."
   ]
  },
  {
   "cell_type": "code",
   "execution_count": null,
   "metadata": {},
   "outputs": [],
   "source": [
    "function calc_castle(board::Board, piece::Piece, toSquare::Square)::Int64\n",
    "    if(ptype(piece) == KING && cancastlequeenside(board, Chess.pcolor(piece)) && file(toSquare) == FILE_C)\n",
    "        return  5\n",
    "    end \n",
    "    return 0\n",
    "end"
   ]
  },
  {
   "attachments": {},
   "cell_type": "markdown",
   "metadata": {},
   "source": [
    "The `evaluate_move` function takes in a board with its current static centipawn `score` and a `move`, and it returns the static centipawn score after performing the move. The function uses an incremental implementation, which means it only considers and calculates the differences between the old and new position.\n",
    "\n",
    "The function first does the move to obtain an undo information structure, which is used to restore the board state after the move has been evaluated. The function then determines if the move results in an endgame position and adjusts the score accordingly.\n",
    "\n",
    "The function evaluates the piece on the starting square and determines the type of piece and whether it is black or white. The score is then inverted if the piece is black, to imitate the effect of black being white.\n",
    "\n",
    "The algorithm then subtracts the value of the piece on the old square and adds the value of the piece on the new square. The score of captured pieces is also subtracted from the score.\n",
    "\n",
    "The function also considers special events in chess, such as castling, promotion, en passant, and entry into endgame. If the piece is a pawn, the algorithm checks for en passant moves and adjusts the score accordingly. If the move results in a promotion, the piece is updated to the promoted piece. \n",
    "If the piece is a king, the algorithm checks for castling moves and adjusts the score accordingly. Castling kingside does not affect the value of the rook, while castling queenside adds +5 to the value of the position.\n",
    "\n",
    "The algorithm then calculates the score of the piece on the new square using the calc_score function, which takes into account the position of the piece on the board.\n",
    "\n",
    "If the move results in an endgame position, the algorithm adjusts the score based on the value of the piece on the board. \n",
    "\n",
    "The score is then inverted back if the piece is black.\n"
   ]
  },
  {
   "cell_type": "code",
   "execution_count": null,
   "metadata": {},
   "outputs": [],
   "source": [
    "function evaluate_move(board::Board, move::Move, score::Int64)::Int64\n",
    "    undoinfo::UndoInfo = domove!(board, move)\n",
    "    is_after_move_endgame::Bool = is_endgame(board)\n",
    "    if isterminal(board)\n",
    "        score = terminal_evaluation(board)\n",
    "        undomove!(board, undoinfo)\n",
    "        return score\n",
    "    end\n",
    "    undomove!(board, undoinfo)\n",
    "\n",
    "    toMove::Square = to(move)\n",
    "    fromMove::Square = from(move)\n",
    "    piece::Piece = pieceon(board, from(move))\n",
    "    pieceType::PieceType = ptype(piece)\n",
    "    isBlack::Bool = Chess.pcolor(piece) == BLACK\n",
    "    \n",
    "    # invert score if piece is black (imitate black is white)\n",
    "    score = isBlack ? -score : score\n",
    "    \n",
    "    # Sub Points for old Position from Piece\n",
    "    score -= valueCapturePiece(board, fromMove)\n",
    "    score += valueCapturePiece(board, toMove)\n",
    "\n",
    "    # Handle en passant and promotion\n",
    "    if pieceType == PAWN      \n",
    "        score += calcEnPassant(board, toMove)\n",
    "        if ispromotion(move)      \n",
    "            piece = Piece(sidetomove(board), promotion(move))\n",
    "        end\n",
    "    end\n",
    "    \n",
    "    # Handle castling\n",
    "    if pieceType == KING     \n",
    "        score += calc_castle(board, piece, toMove)\n",
    "    end\n",
    "    \n",
    "    score += calc_score(board, piece, toMove)\n",
    "    \n",
    "    # invert back\n",
    "    score = isBlack ? -score : score\n",
    "    # entry into endgame\n",
    "    if is_endgame(board) != is_after_move_endgame \n",
    "        undoInfo = domove!(board, move)\n",
    "        for kingPos in kings(board)\n",
    "            k = pieceon(board, kingPos)\n",
    "            score = Chess.pcolor(k) == BLACK ? -score : score\n",
    "            if is_after_move_endgame \n",
    "                score -= get_square_value(board, k, kingPos, \"middle\")\n",
    "                score += get_square_value(board, k, kingPos, \"end\")\n",
    "            else\n",
    "                score -= get_square_value(board, k, kingPos, \"end\")\n",
    "                score += get_square_value(board, k, kingPos, \"middle\")\n",
    "            end\n",
    "            score = Chess.pcolor(k) == BLACK ? -score : score\n",
    "        end\n",
    "        undomove!(board,undoInfo )\n",
    "    end\n",
    "    return score\n",
    "end"
   ]
  },
  {
   "attachments": {},
   "cell_type": "markdown",
   "id": "00d68f9e",
   "metadata": {},
   "source": [
    "### terminal_evaluation Function\n",
    "\n",
    "The terminal_evaluation function in Julia takes a Board object as an argument and returns an integer score representing the evaluation of the board in a given terminal state. The function checks if the board is in checkmate, stalemate, material draw, or rule 50 draw, and returns a score accordingly.\n",
    "\n",
    "The function first checks if the board is in a checkmate position. If the board is in checkmate, the function returns a score of -100000 or 100000, depending on which player is in checkmate.\n",
    "A repetition position occurs when the same position occurs three times in a game, and the same player has the same possible moves. If the board is a draw, it returns a score of 0."
   ]
  },
  {
   "cell_type": "code",
   "execution_count": null,
   "id": "ebc46d38",
   "metadata": {},
   "outputs": [],
   "source": [
    "function terminal_evaluation(state::Board)::Int64\n",
    "    if ischeckmate(state)\n",
    "        return sidetomove(state) == WHITE ? -100000 : 100000\n",
    "    elseif  isstalemate(state) ||\n",
    "           ismaterialdraw(state)    || isrule50draw(state)\n",
    "        return 0\n",
    "    end\n",
    "end"
   ]
  }
 ],
 "metadata": {
  "kernelspec": {
   "display_name": "Julia 1.8.2",
   "language": "julia",
   "name": "julia-1.8"
  },
  "language_info": {
   "file_extension": ".jl",
   "mimetype": "application/julia",
   "name": "julia",
   "version": "1.8.4"
  }
 },
 "nbformat": 4,
 "nbformat_minor": 5
}
