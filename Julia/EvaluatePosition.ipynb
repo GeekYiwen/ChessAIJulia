{
 "cells": [
  {
   "cell_type": "code",
   "execution_count": 1,
   "metadata": {},
   "outputs": [
    {
     "data": {
      "text/html": [
       "<link href='http://fonts.googleapis.com/css?family=Alegreya+Sans:100,300,400,500,700,800,900,100italic,300italic,400italic,500italic,700italic,800italic,900italic' rel='stylesheet' type='text/css'>\r\n",
       "<link href='http://fonts.googleapis.com/css?family=Arvo:400,700,400italic' rel='stylesheet' type='text/css'>\r\n",
       "<link href='http://fonts.googleapis.com/css?family=PT+Mono' rel='stylesheet' type='text/css'>\r\n",
       "<link href='http://fonts.googleapis.com/css?family=Shadows+Into+Light' rel='stylesheet' type='text/css'>\r\n",
       "<link href='http://fonts.googleapis.com/css?family=Philosopher:400,700,400italic,700italic' rel='stylesheet' type='text/css'>\r\n",
       "\r\n",
       "<style>\r\n",
       "\r\n",
       "@font-face {\r\n",
       "    font-family: \"Computer Modern\";\r\n",
       "    src: url('http://mirrors.ctan.org/fonts/cm-unicode/fonts/otf/cmunss.otf');\r\n",
       "}\r\n",
       "\r\n",
       ".container { width: 100% }\r\n",
       "\r\n",
       "/* Formatting for header cells */\r\n",
       ".text_cell_render h1 {\r\n",
       "    font-family: 'Philosopher', sans-serif;\r\n",
       "    font-weight: 400;\r\n",
       "    font-size: 2.2em;\r\n",
       "    line-height: 100%;\r\n",
       "    color: rgb(0, 80, 120);\r\n",
       "    margin-bottom: 0.1em;\r\n",
       "    margin-top: 0.1em;\r\n",
       "    display: block;\r\n",
       "}\t\r\n",
       ".text_cell_render h2 {\r\n",
       "    font-family: 'Philosopher', serif;\r\n",
       "    font-weight: 400;\r\n",
       "    font-size: 1.9em;\r\n",
       "    line-height: 100%;\r\n",
       "    color: rgb(200,100,0);\r\n",
       "    margin-bottom: 0.1em;\r\n",
       "    margin-top: 0.1em;\r\n",
       "    display: block;\r\n",
       "}\t\r\n",
       "\r\n",
       ".text_cell_render h3 {\r\n",
       "    font-family: 'Philosopher', serif;\r\n",
       "    margin-top:12px;\r\n",
       "    margin-bottom: 3px;\r\n",
       "    font-style: italic;\r\n",
       "    color: rgb(94,127,192);\r\n",
       "}\r\n",
       "\r\n",
       ".text_cell_render h4 {\r\n",
       "    font-family: 'Philosopher', serif;\r\n",
       "}\r\n",
       "\r\n",
       ".text_cell_render h5 {\r\n",
       "    font-family: 'Alegreya Sans', sans-serif;\r\n",
       "    font-weight: 300;\r\n",
       "    font-size: 16pt;\r\n",
       "    color: grey;\r\n",
       "    font-style: italic;\r\n",
       "    margin-bottom: .1em;\r\n",
       "    margin-top: 0.1em;\r\n",
       "    display: block;\r\n",
       "}\r\n",
       "\r\n",
       ".text_cell_render h6 {\r\n",
       "    font-family: 'PT Mono', sans-serif;\r\n",
       "    font-weight: 300;\r\n",
       "    font-size: 10pt;\r\n",
       "    color: grey;\r\n",
       "    margin-bottom: 1px;\r\n",
       "    margin-top: 1px;\r\n",
       "}\r\n",
       "\r\n",
       ".text_cell_render em {\r\n",
       "    font-family: 'Philosopher', sans-serif;\r\n",
       "    color:        blue;\r\n",
       "    background-color: rgb(255,220,180);\r\n",
       "    font-size:    110%;\r\n",
       "    margin-left:   2px;\r\n",
       "    margin-right:  2px;\r\n",
       "    font-weight:   100;\r\n",
       "}\r\n",
       "\r\n",
       ".text_cell_render b {\r\n",
       "    color:            rgb(255,195,195);\r\n",
       "    background-color: rgb(0,0,0);\r\n",
       "    font-size:    110%;\r\n",
       "    margin-left:   2px;\r\n",
       "    margin-right:  2px;\r\n",
       "    font-weight:   650;\r\n",
       "}\r\n",
       "\r\n",
       ".text_cell_render tt {\r\n",
       "    font-size:    120%;\r\n",
       "    margin-left:   2px;\r\n",
       "    margin-right:  2px;\r\n",
       "    font-weight:   150;\r\n",
       "}\r\n",
       "\r\n",
       ".Codemirror {\r\n",
       "    font-family: \"PT Mono\";\r\n",
       "    font-size: 100%;\r\n",
       "}\r\n",
       "\r\n",
       "</style>\r\n",
       "\r\n"
      ],
      "text/plain": [
       "HTML{String}(\"<link href='http://fonts.googleapis.com/css?family=Alegreya+Sans:100,300,400,500,700,800,900,100italic,300italic,400italic,500italic,700italic,800italic,900italic' rel='stylesheet' type='text/css'>\\r\\n<link href='http://fonts.googleapis.com/css?family=Arvo:400,700,400italic' rel='stylesheet' type='text/css'>\\r\\n<link href='http://fonts.googleapis.com/css?family=PT+Mono' rel='stylesheet' type='text/css'>\\r\\n<link href='http://fonts.googleapis.com/css?family=Shadows+Into+Light' rel='stylesheet' type='text/css'>\\r\\n<link href='http://fonts.googleapis.com/css?family=Philosopher:400,700,400italic,700italic' rel='stylesheet' type='text/css'>\\r\\n\\r\\n<style>\\r\\n\\r\\n@font-face {\\r\\n    font-family: \\\"Computer Modern\\\";\\r\\n    src: url('http://mirrors.ctan.org/fonts/cm-unicode/fonts/otf/cmunss.otf');\\r\\n}\\r\\n\\r\\n.container { width: 100% }\\r\\n\\r\\n/* Formatting for header cells */\\r\\n.text_cell_render h1 {\\r\\n    font-family: 'Philosopher', sans-serif;\\r\\n    font-weight: 400;\\r\\n    font-size: 2.2em;\\r\\n    line-height: 100%;\\r\\n    color: rgb(0, 80, 120);\\r\\n    margin-bottom: 0.1em;\\r\\n    margin-top: 0.1em;\\r\\n    display: block;\\r\\n}\\t\\r\\n.text_cell_render h2 {\\r\\n    font-family: 'Philosopher', serif;\\r\\n    font-weight: 400;\\r\\n    font-size: 1.9em;\\r\\n    line-height: 100%;\\r\\n    color: rgb(200,100,0);\\r\\n    margin-bottom: 0.1em;\\r\\n    margin-top: 0.1em;\\r\\n    display: block;\\r\\n}\\t\\r\\n\\r\\n.text_cell_render h3 {\\r\\n    font-family: 'Philosopher', serif;\\r\\n    margin-top:12px;\\r\\n    margin-bottom: 3px;\\r\\n    font-style: italic;\\r\\n    color: rgb(94,127,192);\\r\\n}\\r\\n\\r\\n.text_cell_render h4 {\\r\\n    font-family: 'Philosopher', serif;\\r\\n}\\r\\n\\r\\n.text_cell_render h5 {\\r\\n    font-family: 'Alegreya Sans', sans-serif;\\r\\n    font-weight: 300;\\r\\n    font-size: 16pt;\\r\\n    color: grey;\\r\\n    font-style: italic;\\r\\n    margin-bottom: .1em;\\r\\n    margin-top: 0.1em;\\r\\n    display: block;\\r\\n}\\r\\n\\r\\n.text_cell_render h6 {\\r\\n    font-family: 'PT Mono', sans-serif;\\r\\n    font-weight: 300;\\r\\n    font-size: 10pt;\\r\\n    color: grey;\\r\\n    margin-bottom: 1px;\\r\\n    margin-top: 1px;\\r\\n}\\r\\n\\r\\n.text_cell_render em {\\r\\n    font-family: 'Philosopher', sans-serif;\\r\\n    color:        blue;\\r\\n    background-color: rgb(255,220,180);\\r\\n    font-size:    110%;\\r\\n    margin-left:   2px;\\r\\n    margin-right:  2px;\\r\\n    font-weight:   100;\\r\\n}\\r\\n\\r\\n.text_cell_render b {\\r\\n    color:            rgb(255,195,195);\\r\\n    background-color: rgb(0,0,0);\\r\\n    font-size:    110%;\\r\\n    margin-left:   2px;\\r\\n    margin-right:  2px;\\r\\n    font-weight:   650;\\r\\n}\\r\\n\\r\\n.text_cell_render tt {\\r\\n    font-size:    120%;\\r\\n    margin-left:   2px;\\r\\n    margin-right:  2px;\\r\\n    font-weight:   150;\\r\\n}\\r\\n\\r\\n.Codemirror {\\r\\n    font-family: \\\"PT Mono\\\";\\r\\n    font-size: 100%;\\r\\n}\\r\\n\\r\\n</style>\\r\\n\\r\\n\")"
      ]
     },
     "execution_count": 1,
     "metadata": {},
     "output_type": "execute_result"
    }
   ],
   "source": [
    "HTML(read(open(\"style.css\"), String))"
   ]
  },
  {
   "cell_type": "markdown",
   "metadata": {},
   "source": [
    "# Simple Evaluation Function\n",
    "\n",
    "This notebook can return a static centipawn value for each chess position. It will not look into the future and only consider the current state of the board. \n",
    "\n",
    "This method has been developed by Tomasz Michniewski in the Polish chess programming discussion list (progszach).\n",
    "\n",
    "\n",
    "https://www.chessprogramming.org/Simplified_Evaluation_Function"
   ]
  },
  {
   "cell_type": "code",
   "execution_count": 2,
   "metadata": {},
   "outputs": [],
   "source": [
    "using Pkg\n",
    "#Pkg.add(\"Chess\")\n",
    "using Chess"
   ]
  },
  {
   "cell_type": "code",
   "execution_count": 3,
   "metadata": {
    "scrolled": true
   },
   "outputs": [
    {
     "data": {
      "text/plain": [
       "8-element Vector{Vector{Int64}}:\n",
       " [-50, -40, -30, -20, -20, -30, -40, -50]\n",
       " [-30, -20, -10, 0, 0, -10, -20, -30]\n",
       " [-30, -10, 20, 30, 30, 20, -10, -30]\n",
       " [-30, -10, 30, 40, 40, 30, -10, -30]\n",
       " [-30, -10, 30, 40, 40, 30, -10, -30]\n",
       " [-30, -10, 20, 30, 30, 20, -10, -30]\n",
       " [-30, -30, 0, 0, 0, 0, -30, -30]\n",
       " [-50, -30, -30, -30, -30, -30, -30, -50]"
      ]
     },
     "execution_count": 3,
     "metadata": {},
     "output_type": "execute_result"
    }
   ],
   "source": [
    "pawn_square_table = [\n",
    "    [0,  0,  0,  0,  0,  0,  0,  0],\n",
    "    [50, 50, 50, 50, 50, 50, 50, 50],\n",
    "    [10, 10, 20, 30, 30, 20, 10, 10],\n",
    "    [5,  5, 10, 25, 25, 10,  5,  5],\n",
    "    [0,  0,  0, 20, 20,  0,  0,  0],\n",
    "    [5, -5,-10,  0,  0,-10, -5,  5],\n",
    "    [5, 10, 10,-20,-20, 10, 10,  5],\n",
    "    [0,  0,  0,  0,  0,  0,  0,  0]\n",
    "]\n",
    "\n",
    "\n",
    "knight_square_table = [\n",
    "    [-50,-40,-30,-30,-30,-30,-40,-50],\n",
    "    [-40,-20,  0,  0,  0,  0,-20,-40],\n",
    "    [-30,  0, 10, 15, 15, 10,  0,-30],\n",
    "    [-30,  5, 15, 20, 20, 15,  5,-30],\n",
    "    [-30,  0, 15, 20, 20, 15,  0,-30],\n",
    "    [-30,  5, 10, 15, 15, 10,  5,-30],\n",
    "    [-40,-20,  0,  5,  5,  0,-20,-40],\n",
    "    [-50,-40,-30,-30,-30,-30,-40,-50]\n",
    "]\n",
    "\n",
    "bishop_square_table = [\n",
    "    [-20,-10,-10,-10,-10,-10,-10,-20],\n",
    "    [-10,  0,  0,  0,  0,  0,  0,-10],\n",
    "    [-10,  0,  5, 10, 10,  5,  0,-10],\n",
    "    [-10,  5,  5, 10, 10,  5,  5,-10],\n",
    "    [-10,  0, 10, 10, 10, 10,  0,-10],\n",
    "    [-10, 10, 10, 10, 10, 10, 10,-10],\n",
    "    [-10,  5,  0,  0,  0,  0,  5,-10],\n",
    "    [-20,-10,-10,-10,-10,-10,-10,-20]\n",
    "]\n",
    "\n",
    "rook_square_table = [\n",
    "    [ 0,  0,  0,  0,  0,  0,  0,  0],\n",
    "    [ 5, 10, 10, 10, 10, 10, 10,  5],\n",
    "    [-5,  0,  0,  0,  0,  0,  0, -5],\n",
    "    [-5,  0,  0,  0,  0,  0,  0, -5],\n",
    "    [-5,  0,  0,  0,  0,  0,  0, -5],\n",
    "    [-5,  0,  0,  0,  0,  0,  0, -5],\n",
    "    [-5,  0,  0,  0,  0,  0,  0, -5],\n",
    "    [ 0,  0,  0,  5,  5,  0,  0,  0]\n",
    "]\n",
    "\n",
    "queen_square_table = [\n",
    "    [-20,-10,-10, -5, -5,-10,-10,-20],\n",
    "    [-10,  0,  0,  0,  0,  0,  0,-10],\n",
    "    [-10,  0,  5,  5,  5,  5,  0,-10],\n",
    "    [ -5,  0,  5,  5,  5,  5,  0, -5],\n",
    "    [  0,  0,  5,  5,  5,  5,  0, -5],\n",
    "    [-10,  5,  5,  5,  5,  5,  0,-10],\n",
    "    [-10,  0,  5,  0,  0,  0,  0,-10],\n",
    "    [-20,-10,-10, -5, -5,-10,-10,-20]\n",
    "]\n",
    "\n",
    "king_square_middle_game_table = [\n",
    "    [-30,-40,-40,-50,-50,-40,-40,-30],\n",
    "    [-30,-40,-40,-50,-50,-40,-40,-30],\n",
    "    [-30,-40,-40,-50,-50,-40,-40,-30],\n",
    "    [-30,-40,-40,-50,-50,-40,-40,-30],\n",
    "    [-20,-30,-30,-40,-40,-30,-30,-20],\n",
    "    [-10,-20,-20,-20,-20,-20,-20,-10],\n",
    "    [ 20, 20,  0,  0,  0,  0, 20, 20],\n",
    "    [ 20, 30, 10,  0,  0, 10, 30, 20]\n",
    "]\n",
    "\n",
    "king_square_end_game_table = [\n",
    "    [-50,-40,-30,-20,-20,-30,-40,-50],\n",
    "    [-30,-20,-10,  0,  0,-10,-20,-30],\n",
    "    [-30,-10, 20, 30, 30, 20,-10,-30],\n",
    "    [-30,-10, 30, 40, 40, 30,-10,-30],\n",
    "    [-30,-10, 30, 40, 40, 30,-10,-30],\n",
    "    [-30,-10, 20, 30, 30, 20,-10,-30],\n",
    "    [-30,-30,  0,  0,  0,  0,-30,-30],\n",
    "    [-50,-30,-30,-30,-30,-30,-30,-50]\n",
    "]"
   ]
  },
  {
   "cell_type": "markdown",
   "metadata": {},
   "source": [
    "More efficient solution for get_Intex_by_file"
   ]
  },
  {
   "cell_type": "code",
   "execution_count": 4,
   "metadata": {},
   "outputs": [
    {
     "data": {
      "text/plain": [
       "get_value (generic function with 1 method)"
      ]
     },
     "execution_count": 4,
     "metadata": {},
     "output_type": "execute_result"
    }
   ],
   "source": [
    "function get_value(piece::Piece)\n",
    "    values = Dict([(PAWN, 100),(KNIGHT, 320),(BISHOP, 330),(ROOK, 500),(QUEEN, 900),(KING, 20000)])\n",
    "    pieceType = ptype(piece)\n",
    "    if pieceType in values.keys\n",
    "        return values[pieceType]\n",
    "    end\n",
    "end"
   ]
  },
  {
   "cell_type": "markdown",
   "metadata": {},
   "source": [
    "According to the article:\n",
    "\"Additionally we should define where the ending begins. For me it might be either if:\n",
    "\n",
    "Both sides have no queens or\n",
    "Every side which has a queen has additionally no other pieces or one minorpiece maximum.\""
   ]
  },
  {
   "cell_type": "code",
   "execution_count": 5,
   "metadata": {},
   "outputs": [
    {
     "data": {
      "text/plain": [
       "is_endgame (generic function with 1 method)"
      ]
     },
     "execution_count": 5,
     "metadata": {},
     "output_type": "execute_result"
    }
   ],
   "source": [
    "function is_endgame(board)\n",
    "    # Inline Functions to calculate the number of minor pieces\n",
    "    num_minor_pieces(side) = squarecount(knights(board, side)) + squarecount(bishops(board, side))\n",
    "    # Check if Player White or Black is in endgame\n",
    "    is_in_endgame(color) = isempty(queens(board, color)) || (num_minor_pieces(color) <= 1 && isempty(rooks(board, color)))\n",
    "    return is_in_endgame(WHITE) && is_in_endgame(BLACK)\n",
    "end"
   ]
  },
  {
   "cell_type": "markdown",
   "metadata": {},
   "source": [
    "## Get_Square_Value\n",
    "\n",
    "The function `get_square_value` is used to evaluate the position of a chess piece on a board. As input parameters it takes a board (board::Board), a chess piece (piece::Piece) and a playing field (square::Square) on which the piece is located. The function calculates a numeric centipawn value that describes the strength or weakness of the current position of the piece. \n",
    "\n",
    "The King uses two tables. The `table_opt` can be set to \"end\" to enforce the usage of the endgame table. This feature overrides the actual position of the board."
   ]
  },
  {
   "cell_type": "code",
   "execution_count": 6,
   "metadata": {},
   "outputs": [
    {
     "data": {
      "text/plain": [
       "get_square_value (generic function with 2 methods)"
      ]
     },
     "execution_count": 6,
     "metadata": {},
     "output_type": "execute_result"
    }
   ],
   "source": [
    "function get_square_value(board::Board, piece::Piece, square::Square, table_opt = \"middle\")\n",
    "    PIECE_SQUARE_TABLES = Dict(\n",
    "        PAWN => pawn_square_table,\n",
    "        KNIGHT => knight_square_table,\n",
    "        BISHOP => bishop_square_table,\n",
    "        ROOK => rook_square_table,\n",
    "        QUEEN => queen_square_table,\n",
    "        KING => king_square_middle_game_table\n",
    "    )\n",
    "    piece_type = ptype(piece)\n",
    "    if piece_type in PIECE_SQUARE_TABLES.keys\n",
    "        square_table = PIECE_SQUARE_TABLES[piece_type]\n",
    "    else\n",
    "        error(\"Invalid piece type: $(piece_type)\")\n",
    "    end\n",
    "    if piece_type == KING && (table_opt == \"end\" || is_endgame(board))\n",
    "        square_table = king_square_end_game_table\n",
    "    end\n",
    "    squareString = tostring(square)\n",
    "    x = Int(squareString[1]) - Int('a')+1\n",
    "    y = parse(Int64, squareString[2]) \n",
    "    if Chess.pcolor(piece) == BLACK\n",
    "        square_table = reverse(square_table)\n",
    "    end\n",
    "    return square_table[9 - y][x]\n",
    "end"
   ]
  },
  {
   "cell_type": "code",
   "execution_count": 7,
   "metadata": {},
   "outputs": [
    {
     "data": {
      "text/plain": [
       "calc_score (generic function with 1 method)"
      ]
     },
     "execution_count": 7,
     "metadata": {},
     "output_type": "execute_result"
    }
   ],
   "source": [
    "function calc_score(board, piece, square)\n",
    "    return get_value(piece) + get_square_value(board, piece, square)\n",
    "end"
   ]
  },
  {
   "cell_type": "markdown",
   "metadata": {},
   "source": [
    "## Ohne Inkrementelle Evaluation eines Zuges"
   ]
  },
  {
   "cell_type": "code",
   "execution_count": 8,
   "metadata": {},
   "outputs": [
    {
     "data": {
      "text/plain": [
       "evaluate_position (generic function with 1 method)"
      ]
     },
     "execution_count": 8,
     "metadata": {},
     "output_type": "execute_result"
    }
   ],
   "source": [
    "function evaluate_position(board:: Board)\n",
    "    if isterminal(board)\n",
    "        return terminal_evaluation(board)\n",
    "    end\n",
    "    score = 0\n",
    "    for x in 1:8,y in 1:8\n",
    "        square = Square(SquareFile(x),SquareRank(y))\n",
    "        piece = pieceon(board, square)\n",
    "        if piece != EMPTY\n",
    "            score += (Chess.pcolor(piece) == WHITE ? 1 : -1) * calc_score(board, piece, square)\n",
    "        end\n",
    "    end\n",
    "    return score \n",
    "end"
   ]
  },
  {
   "cell_type": "markdown",
   "metadata": {},
   "source": [
    "## Inkrementelle Evaluation eines Zuges"
   ]
  },
  {
   "cell_type": "markdown",
   "metadata": {},
   "source": [
    "### Capture Piece\n",
    "The function `valueCapturePiece` is used to update the value of a chessboard when a piece is captured by the opponent. As input parameters it takes a chess board (board) and a chess piece that was captured (toMove).\n",
    "\n",
    "When the function is called, the value of the captured piece is subtracted from the current value of the chess board."
   ]
  },
  {
   "cell_type": "code",
   "execution_count": 9,
   "metadata": {},
   "outputs": [
    {
     "data": {
      "text/plain": [
       "subCapturePiece (generic function with 1 method)"
      ]
     },
     "execution_count": 9,
     "metadata": {},
     "output_type": "execute_result"
    }
   ],
   "source": [
    "function valueCapturePiece(board, square::Square)    \n",
    "    capturePiece = pieceon(board, square)\n",
    "    return capturePiece == EMPTY ? 0 : calc_score(board, capturePiece, square)\n",
    "end"
   ]
  },
  {
   "cell_type": "code",
   "execution_count": 10,
   "metadata": {},
   "outputs": [
    {
     "data": {
      "text/plain": [
       "checkEnPassant (generic function with 1 method)"
      ]
     },
     "execution_count": 10,
     "metadata": {},
     "output_type": "execute_result"
    }
   ],
   "source": [
    "function checkEnPassant(board, toMove)\n",
    "    enpassantSquare = epsquare(board)\n",
    "    if(enpassantSquare != SQ_NONE && enpassantSquare == toMove)\n",
    "        lastToMove = to(lastmove(board))\n",
    "        return valueCapturePiece(board, lastToMove)\n",
    "    end \n",
    "    return 0\n",
    "end "
   ]
  },
  {
   "cell_type": "markdown",
   "metadata": {},
   "source": [
    "`calc_castle` checks wether the `move` done was a castleing move. \n",
    "\n",
    "If no the score will be returned back.\n",
    "\n",
    "If yes it will adds the value of the move rook. The moved King will be calculated as the regularmove in the `evaluate_move` function. Casteling Kingside does not effect the value of the rook. Casteling Queenside adds +5 to the value of the position.\n",
    "\n",
    "Check Castle KingSide is ignored, because the score is not changed. The reason is that the rook on square f1/f8 has the value zero. "
   ]
  },
  {
   "cell_type": "code",
   "execution_count": 11,
   "metadata": {},
   "outputs": [
    {
     "data": {
      "text/plain": [
       "calc_castle (generic function with 1 method)"
      ]
     },
     "execution_count": 11,
     "metadata": {},
     "output_type": "execute_result"
    }
   ],
   "source": [
    "function calc_castle(board, piece, toMove)\n",
    "    if(ptype(piece) == KING && cancastlequeenside(board, Chess.pcolor(piece)) && file(toMove) == FILE_C)\n",
    "        return  5\n",
    "    end \n",
    "    return 0\n",
    "end"
   ]
  },
  {
   "cell_type": "markdown",
   "metadata": {},
   "source": [
    "The function evaluate_move(board, move, score) takes in a `board` with it's current static centipawn `score` and a `move` and returns the static centipawn score after doing the move. The function is a incremental implementation meaning it will only consider and calculate the differences between the old and new position.\n",
    "\n",
    "Following things need to be considered:\n",
    "- Take away old square position value\n",
    "- Add new square position value\n",
    "- Take away score of captured pieces\n",
    "\n",
    "Special events in chess\n",
    "- castling\n",
    "- promotion\n",
    "- en passant\n",
    "- entry into endgame"
   ]
  },
  {
   "cell_type": "code",
   "execution_count": 14,
   "metadata": {},
   "outputs": [
    {
     "data": {
      "text/plain": [
       "evaluate_move (generic function with 1 method)"
      ]
     },
     "execution_count": 14,
     "metadata": {},
     "output_type": "execute_result"
    }
   ],
   "source": [
    "function evaluate_move(board:: Board, move:: Move, score)\n",
    "    board_after_move = domove(board, move)\n",
    "    if isterminal(board_after_move)\n",
    "        return terminal_evaluation(board_after_move)\n",
    "    end\n",
    "    toMove = to(move)\n",
    "    fromMove = from(move)\n",
    "    piece = pieceon(board, from(move))\n",
    "    pieceType = ptype(piece)\n",
    "    color = Chess.pcolor(piece)\n",
    "    \n",
    "    # invert score if piece is black (imitate black is white)\n",
    "    if color == BLACK\n",
    "        score = -score\n",
    "    end\n",
    "    \n",
    "    # Sub Points for old Position from Piece\n",
    "    score -= valueCapturePiece(board, fromMove)\n",
    "    score += valueCapturePiece(board, toMove)\n",
    "\n",
    "    # en passant\n",
    "    if pieceType == PAWN      \n",
    "        score += checkEnPassant(board, toMove)\n",
    "    end\n",
    "    \n",
    "    # promotion\n",
    "    if ispromotion(move)      \n",
    "        piece = Piece(sidetomove(board), promotion(move))\n",
    "    end\n",
    "    \n",
    "    # castling\n",
    "    if pieceType == KING     \n",
    "        score += calc_castle(board, piece, toMove)\n",
    "    end\n",
    "    \n",
    "    score += calc_score(board, piece, toMove)\n",
    "    \n",
    "    # invert back\n",
    "    if color == BLACK\n",
    "        score = -score\n",
    "    end\n",
    "    \n",
    "    # entry into endgame\n",
    "    if !is_endgame(board)\n",
    "        if is_endgame(board_after_move)\n",
    "            for kingPos in kings(board_after_move)\n",
    "                k = pieceon(board_after_move, kingPos)\n",
    "                score -= get_square_value(board, k, kingPos, \"middle\")\n",
    "                score += get_square_value(board, k, kingPos, \"end\")\n",
    "            end\n",
    "        end\n",
    "    end\n",
    "    return score\n",
    "end"
   ]
  },
  {
   "cell_type": "code",
   "execution_count": 13,
   "metadata": {},
   "outputs": [
    {
     "data": {
      "text/plain": [
       "terminal_evaluation (generic function with 1 method)"
      ]
     },
     "execution_count": 13,
     "metadata": {},
     "output_type": "execute_result"
    }
   ],
   "source": [
    "function terminal_evaluation(board:: Board)\n",
    "    if ischeckmate(board)\n",
    "        color = sidetomove(board)\n",
    "        if color == WHITE\n",
    "            return -100000\n",
    "        else\n",
    "            return 100000\n",
    "        end\n",
    "    elseif isstalemate(board)\n",
    "        return 0\n",
    "    elseif ismaterialdraw(board) # BAD\n",
    "        return 0 \n",
    "    elseif isrule50draw(board) \n",
    "        return 0\n",
    "    end\n",
    "    return\n",
    "end"
   ]
  },
  {
   "cell_type": "code",
   "execution_count": null,
   "metadata": {},
   "outputs": [],
   "source": []
  }
 ],
 "metadata": {
  "kernelspec": {
   "display_name": "Julia 1.8.2",
   "language": "julia",
   "name": "julia-1.8"
  },
  "language_info": {
   "file_extension": ".jl",
   "mimetype": "application/julia",
   "name": "julia",
   "version": "1.8.2"
  }
 },
 "nbformat": 4,
 "nbformat_minor": 5
}
