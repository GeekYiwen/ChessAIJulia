{
 "cells": [
  {
   "cell_type": "markdown",
   "id": "1db6e486",
   "metadata": {},
   "source": [
    "# Simple Evaluation Function\n",
    "\n",
    "This notebook can return a static centipawn value for each chess position. It will not look into the future and only consider the current state of the board. \n",
    "\n",
    "This method has been developed by Tomasz Michniewski in the Polish chess programming discussion list (progszach).\n",
    "\n",
    "\n",
    "https://www.chessprogramming.org/Simplified_Evaluation_Function"
   ]
  },
  {
   "cell_type": "code",
   "execution_count": 105,
   "id": "20225b6a",
   "metadata": {},
   "outputs": [],
   "source": [
    "using Pkg\n",
    "#Pkg.add(\"Chess\")\n",
    "using Chess"
   ]
  },
  {
   "cell_type": "code",
   "execution_count": 106,
   "id": "9f0a9005",
   "metadata": {},
   "outputs": [
    {
     "data": {
      "text/plain": [
       "8-element Vector{Vector{Int64}}:\n",
       " [-50, -40, -30, -20, -20, -30, -40, -50]\n",
       " [-30, -20, -10, 0, 0, -10, -20, -30]\n",
       " [-30, -10, 20, 30, 30, 20, -10, -30]\n",
       " [-30, -10, 30, 40, 40, 30, -10, -30]\n",
       " [-30, -10, 30, 40, 40, 30, -10, -30]\n",
       " [-30, -10, 20, 30, 30, 20, -10, -30]\n",
       " [-30, -30, 0, 0, 0, 0, -30, -30]\n",
       " [-50, -30, -30, -30, -30, -30, -30, -50]"
      ]
     },
     "execution_count": 106,
     "metadata": {},
     "output_type": "execute_result"
    }
   ],
   "source": [
    "pawn_square_table = [\n",
    "    [0,  0,  0,  0,  0,  0,  0,  0],\n",
    "    [50, 50, 50, 50, 50, 50, 50, 50],\n",
    "    [10, 10, 20, 30, 30, 20, 10, 10],\n",
    "    [5,  5, 10, 25, 25, 10,  5,  5],\n",
    "    [0,  0,  0, 20, 20,  0,  0,  0],\n",
    "    [5, -5,-10,  0,  0,-10, -5,  5],\n",
    "    [5, 10, 10,-20,-20, 10, 10,  5],\n",
    "    [0,  0,  0,  0,  0,  0,  0,  0]\n",
    "]\n",
    "\n",
    "\n",
    "knight_square_table = [\n",
    "    [-50,-40,-30,-30,-30,-30,-40,-50],\n",
    "    [-40,-20,  0,  0,  0,  0,-20,-40],\n",
    "    [-30,  0, 10, 15, 15, 10,  0,-30],\n",
    "    [-30,  5, 15, 20, 20, 15,  5,-30],\n",
    "    [-30,  0, 15, 20, 20, 15,  0,-30],\n",
    "    [-30,  5, 10, 15, 15, 10,  5,-30],\n",
    "    [-40,-20,  0,  5,  5,  0,-20,-40],\n",
    "    [-50,-40,-30,-30,-30,-30,-40,-50]\n",
    "]\n",
    "\n",
    "bishop_square_table = [\n",
    "    [-20,-10,-10,-10,-10,-10,-10,-20],\n",
    "    [-10,  0,  0,  0,  0,  0,  0,-10],\n",
    "    [-10,  0,  5, 10, 10,  5,  0,-10],\n",
    "    [-10,  5,  5, 10, 10,  5,  5,-10],\n",
    "    [-10,  0, 10, 10, 10, 10,  0,-10],\n",
    "    [-10, 10, 10, 10, 10, 10, 10,-10],\n",
    "    [-10,  5,  0,  0,  0,  0,  5,-10],\n",
    "    [-20,-10,-10,-10,-10,-10,-10,-20]\n",
    "]\n",
    "\n",
    "rook_square_table = [\n",
    "    [ 0,  0,  0,  0,  0,  0,  0,  0],\n",
    "    [ 5, 10, 10, 10, 10, 10, 10,  5],\n",
    "    [-5,  0,  0,  0,  0,  0,  0, -5],\n",
    "    [-5,  0,  0,  0,  0,  0,  0, -5],\n",
    "    [-5,  0,  0,  0,  0,  0,  0, -5],\n",
    "    [-5,  0,  0,  0,  0,  0,  0, -5],\n",
    "    [-5,  0,  0,  0,  0,  0,  0, -5],\n",
    "    [ 0,  0,  0,  5,  5,  0,  0,  0]\n",
    "]\n",
    "\n",
    "queen_square_table = [\n",
    "    [-20,-10,-10, -5, -5,-10,-10,-20],\n",
    "    [-10,  0,  0,  0,  0,  0,  0,-10],\n",
    "    [-10,  0,  5,  5,  5,  5,  0,-10],\n",
    "    [ -5,  0,  5,  5,  5,  5,  0, -5],\n",
    "    [  0,  0,  5,  5,  5,  5,  0, -5],\n",
    "    [-10,  5,  5,  5,  5,  5,  0,-10],\n",
    "    [-10,  0,  5,  0,  0,  0,  0,-10],\n",
    "    [-20,-10,-10, -5, -5,-10,-10,-20]\n",
    "]\n",
    "\n",
    "king_square_middle_game_table = [\n",
    "    [-30,-40,-40,-50,-50,-40,-40,-30],\n",
    "    [-30,-40,-40,-50,-50,-40,-40,-30],\n",
    "    [-30,-40,-40,-50,-50,-40,-40,-30],\n",
    "    [-30,-40,-40,-50,-50,-40,-40,-30],\n",
    "    [-20,-30,-30,-40,-40,-30,-30,-20],\n",
    "    [-10,-20,-20,-20,-20,-20,-20,-10],\n",
    "    [ 20, 20,  0,  0,  0,  0, 20, 20],\n",
    "    [ 20, 30, 10,  0,  0, 10, 30, 20]\n",
    "]\n",
    "\n",
    "king_square_end_game_table = [\n",
    "    [-50,-40,-30,-20,-20,-30,-40,-50],\n",
    "    [-30,-20,-10,  0,  0,-10,-20,-30],\n",
    "    [-30,-10, 20, 30, 30, 20,-10,-30],\n",
    "    [-30,-10, 30, 40, 40, 30,-10,-30],\n",
    "    [-30,-10, 30, 40, 40, 30,-10,-30],\n",
    "    [-30,-10, 20, 30, 30, 20,-10,-30],\n",
    "    [-30,-30,  0,  0,  0,  0,-30,-30],\n",
    "    [-50,-30,-30,-30,-30,-30,-30,-50]\n",
    "]"
   ]
  },
  {
   "cell_type": "markdown",
   "id": "95f7e885",
   "metadata": {},
   "source": [
    "`get_files()` returns a tuple with all file names as chars."
   ]
  },
  {
   "cell_type": "code",
   "execution_count": 107,
   "id": "40b272a5",
   "metadata": {},
   "outputs": [
    {
     "data": {
      "text/plain": [
       "get_files (generic function with 1 method)"
      ]
     },
     "execution_count": 107,
     "metadata": {},
     "output_type": "execute_result"
    }
   ],
   "source": [
    "function get_files()\n",
    "    return ('a', 'b', 'c', 'd', 'e', 'f', 'g', 'h')\n",
    "end"
   ]
  },
  {
   "cell_type": "code",
   "execution_count": 108,
   "id": "c2f40a24",
   "metadata": {},
   "outputs": [
    {
     "data": {
      "text/plain": [
       "('a', 'b', 'c', 'd', 'e', 'f', 'g', 'h')"
      ]
     },
     "execution_count": 108,
     "metadata": {},
     "output_type": "execute_result"
    }
   ],
   "source": [
    "get_files()"
   ]
  },
  {
   "cell_type": "markdown",
   "id": "d302bb46",
   "metadata": {},
   "source": [
    "`get_Index_by_File` returns the number according to the file char. 'a' => 1, 'b' => 2, ..."
   ]
  },
  {
   "cell_type": "code",
   "execution_count": 109,
   "id": "bb8e4ba7",
   "metadata": {},
   "outputs": [
    {
     "data": {
      "text/plain": [
       "get_Index_by_File (generic function with 1 method)"
      ]
     },
     "execution_count": 109,
     "metadata": {},
     "output_type": "execute_result"
    }
   ],
   "source": [
    "function get_Index_by_File(myfile::Char)\n",
    "    files=get_files()\n",
    "    return findfirst(item -> item == myfile, files)\n",
    "end"
   ]
  },
  {
   "cell_type": "code",
   "execution_count": 110,
   "id": "62579163",
   "metadata": {},
   "outputs": [
    {
     "data": {
      "text/plain": [
       "4"
      ]
     },
     "execution_count": 110,
     "metadata": {},
     "output_type": "execute_result"
    }
   ],
   "source": [
    "get_Index_by_File('d')"
   ]
  },
  {
   "cell_type": "markdown",
   "id": "2c9916a2",
   "metadata": {},
   "source": [
    "More efficient solution for get_Intex_by_file"
   ]
  },
  {
   "cell_type": "code",
   "execution_count": 111,
   "id": "6737e83d",
   "metadata": {},
   "outputs": [
    {
     "data": {
      "text/plain": [
       "get_value (generic function with 1 method)"
      ]
     },
     "execution_count": 111,
     "metadata": {},
     "output_type": "execute_result"
    }
   ],
   "source": [
    "function get_value(piece::Piece)\n",
    "    \n",
    "    if ptype(piece) == PAWN\n",
    "        return 100\n",
    "    elseif ptype(piece) == KNIGHT\n",
    "        return 320\n",
    "    elseif ptype(piece) == BISHOP\n",
    "        return 330\n",
    "    elseif ptype(piece) == ROOK\n",
    "        return 500\n",
    "    elseif ptype(piece) == QUEEN\n",
    "        return 900\n",
    "    elseif ptype(piece) == KING \n",
    "        return 20000\n",
    "    else\n",
    "    print(\"Figur nicht vorhanden\")\n",
    "    return nothing        \n",
    "\n",
    "    end \n",
    "end"
   ]
  },
  {
   "cell_type": "markdown",
   "id": "1deb95bc",
   "metadata": {},
   "source": [
    "Additionally we should define where the ending begins. For me it might be either if:\n",
    "\n",
    "Both sides have no queens or\n",
    "Every side which has a queen has additionally no other pieces or one minorpiece maximum."
   ]
  },
  {
   "cell_type": "code",
   "execution_count": 112,
   "id": "d7204b86",
   "metadata": {},
   "outputs": [
    {
     "data": {
      "text/plain": [
       "is_endgame (generic function with 1 method)"
      ]
     },
     "execution_count": 112,
     "metadata": {},
     "output_type": "execute_result"
    }
   ],
   "source": [
    "function is_endgame(board)\n",
    "    # Check if both sides have no queens\n",
    "    if(isempty(queens(board)))\n",
    "        return true\n",
    "    end \n",
    "     # Check if each side that has a queen also has no more than one minor piece\n",
    "    num_white_minor_pieces = squarecount(knights(board, WHITE)) + squarecount(bishops(board, WHITE))\n",
    "    num_black_minor_pieces = squarecount(knights(board, BLACK)) + squarecount(bishops(board, BLACK))\n",
    "    if(isempty(rooks(board)) && num_white_minor_pieces <= 1 && num_black_minor_pieces <= 1 )\n",
    "        return true\n",
    "    end\n",
    "    return false\n",
    "end"
   ]
  },
  {
   "cell_type": "code",
   "execution_count": 113,
   "id": "c7d81175",
   "metadata": {},
   "outputs": [
    {
     "data": {
      "text/plain": [
       "false"
      ]
     },
     "execution_count": 113,
     "metadata": {},
     "output_type": "execute_result"
    }
   ],
   "source": [
    "is_endgame(startboard())"
   ]
  },
  {
   "cell_type": "code",
   "execution_count": 114,
   "id": "df94287f",
   "metadata": {},
   "outputs": [
    {
     "data": {
      "text/plain": [
       "true"
      ]
     },
     "execution_count": 114,
     "metadata": {},
     "output_type": "execute_result"
    }
   ],
   "source": [
    "is_endgame(fromfen(\"r3k2r/pppppppp/8/8/8/8/PPPPPPPP/R3K2R w KQkq - 0 1\"))"
   ]
  },
  {
   "cell_type": "markdown",
   "id": "7db729b8",
   "metadata": {},
   "source": [
    "`get_square_value`..."
   ]
  },
  {
   "cell_type": "markdown",
   "id": "d345490a",
   "metadata": {},
   "source": [
    "## Get_Square_Value\n",
    "\n",
    "The function \"get_square_value\" is used to evaluate the position of a chess piece on a board. As input parameters it takes a board (board::Board), a chess piece (piece::Piece) and a playing field (square::Square) on which the piece is located. The function calculates a numeric value that describes the strength or weakness of the current position of the piece. "
   ]
  },
  {
   "cell_type": "code",
   "execution_count": 115,
   "id": "662e1854",
   "metadata": {},
   "outputs": [
    {
     "data": {
      "text/plain": [
       "get_square_value (generic function with 1 method)"
      ]
     },
     "execution_count": 115,
     "metadata": {},
     "output_type": "execute_result"
    }
   ],
   "source": [
    "function get_square_value(board::Board, piece::Piece, square::Square)\n",
    "    # Bestimmen Sie den Wert des Feldes für diese Schachfigur\n",
    "    if ptype(piece) == PAWN\n",
    "        square_table = pawn_square_table\n",
    "    elseif ptype(piece) == KNIGHT\n",
    "        square_table = knight_square_table\n",
    "    elseif ptype(piece) == BISHOP\n",
    "        square_table = bishop_square_table\n",
    "    elseif ptype(piece) == ROOK\n",
    "        square_table = rook_square_table\n",
    "    elseif ptype(piece) == QUEEN\n",
    "        square_table = queen_square_table\n",
    "    elseif ptype(piece) == KING\n",
    "        if(is_endgame(board))\n",
    "            square_table = king_square_end_game_table\n",
    "        else\n",
    "            square_table = king_square_middle_game_table\n",
    "        end\n",
    "    else\n",
    "        print(\"Figur nicht vorhanden\")\n",
    "        return nothing\n",
    "    end\n",
    "    squareString = tostring(square)\n",
    "    x = Int(squareString[1])-96\n",
    "    y = parse(Int64, squareString[2]) \n",
    "    if Chess.pcolor(piece) == WHITE\n",
    "        return square_table[9-y][x]\n",
    "   elseif Chess.pcolor(piece) == BLACK\n",
    "        square_table = reverse(square_table)\n",
    "        return square_table[9-y][x]\n",
    "    end\n",
    "end"
   ]
  },
  {
   "cell_type": "code",
   "execution_count": 116,
   "id": "4c39058f",
   "metadata": {},
   "outputs": [
    {
     "data": {
      "text/plain": [
       "calc_score (generic function with 3 methods)"
      ]
     },
     "execution_count": 116,
     "metadata": {},
     "output_type": "execute_result"
    }
   ],
   "source": [
    "function calc_score(board, piece, square)\n",
    "    return get_value(piece) + get_square_value(board, piece, square)\n",
    "end "
   ]
  },
  {
   "cell_type": "code",
   "execution_count": 153,
   "id": "bbf5e138",
   "metadata": {},
   "outputs": [
    {
     "data": {
      "text/plain": [
       "evaluate_position (generic function with 1 method)"
      ]
     },
     "execution_count": 153,
     "metadata": {},
     "output_type": "execute_result"
    }
   ],
   "source": [
    "function evaluate_position(board:: Board)\n",
    "    if isterminal(board)\n",
    "        return terminal_evaluation(board)\n",
    "    end\n",
    "    score = 0\n",
    "    files = get_files()\n",
    "    for x in 1:8\n",
    "        for y in 1:8\n",
    "            square = Square(SquareFile(x),SquareRank(y))\n",
    "            piece = pieceon(board, square)\n",
    "            if piece == EMPTY\n",
    "                continue\n",
    "            end\n",
    "            if Chess.pcolor(piece) == WHITE\n",
    "                score += calc_score(board, piece, square)\n",
    "            else\n",
    "                score -= calc_score(board, piece, square)\n",
    "            end\n",
    "            println(\"Piece: \" ,piece,\" Score: \",score, \" Square: \", square)\n",
    "        end\n",
    "    end \n",
    "    return score \n",
    "end   "
   ]
  },
  {
   "cell_type": "code",
   "execution_count": 154,
   "id": "0cffe7c6",
   "metadata": {},
   "outputs": [
    {
     "data": {
      "text/html": [
       "Board:<div class=\"chessboard\"><style soped=\"true\">.dark-square {\n",
       "    fill: #c3936a;\n",
       "    stroke-width: 0;\n",
       "}\n",
       ".light-square {\n",
       "    fill: #ffd7a6;\n",
       "    stroke-width: 0;\n",
       "}\n",
       ".highlight {\n",
       "    fill: #47d18b;\n",
       "}\n",
       "@media (prefers-color-scheme: dark) {\n",
       "    .dark-square {\n",
       "        fill: #00796b;\n",
       "    }\n",
       "    .light-square {\n",
       "        fill: #3ca59b;\n",
       "    }\n",
       "    .highlight {\n",
       "        fill: #d23600;\n",
       "    }\n",
       "}\n",
       "</style><svg style=\"float: left; margin-right: 20px\" viewBox=\"0 0 8 8\" height=\"280\" width=\"280\"><g><g><rect x=\"0\" y=\"0\" class=\"light-square\" height=\"1\" width=\"1\"></rect><image x=\"0\" xlink:href=\"https://raw.githubusercontent.com/romstad/Chess.jl/master/img/br.svg\" y=\"0\" height=\"1\" width=\"1\"></image></g><g><rect x=\"0\" y=\"1\" class=\"dark-square\" height=\"1\" width=\"1\"></rect><image x=\"0\" xlink:href=\"https://raw.githubusercontent.com/romstad/Chess.jl/master/img/bp.svg\" y=\"1\" height=\"1\" width=\"1\"></image></g><g><rect x=\"0\" y=\"2\" class=\"light-square\" height=\"1\" width=\"1\"></rect><g></g></g><g><rect x=\"0\" y=\"3\" class=\"dark-square\" height=\"1\" width=\"1\"></rect><g></g></g><g><rect x=\"0\" y=\"4\" class=\"light-square\" height=\"1\" width=\"1\"></rect><g></g></g><g><rect x=\"0\" y=\"5\" class=\"dark-square\" height=\"1\" width=\"1\"></rect><g></g></g><g><rect x=\"0\" y=\"6\" class=\"light-square\" height=\"1\" width=\"1\"></rect><image x=\"0\" xlink:href=\"https://raw.githubusercontent.com/romstad/Chess.jl/master/img/wp.svg\" y=\"6\" height=\"1\" width=\"1\"></image></g><g><rect x=\"0\" y=\"7\" class=\"dark-square\" height=\"1\" width=\"1\"></rect><image x=\"0\" xlink:href=\"https://raw.githubusercontent.com/romstad/Chess.jl/master/img/wr.svg\" y=\"7\" height=\"1\" width=\"1\"></image></g><g><rect x=\"1\" y=\"0\" class=\"dark-square\" height=\"1\" width=\"1\"></rect><image x=\"1\" xlink:href=\"https://raw.githubusercontent.com/romstad/Chess.jl/master/img/bn.svg\" y=\"0\" height=\"1\" width=\"1\"></image></g><g><rect x=\"1\" y=\"1\" class=\"light-square\" height=\"1\" width=\"1\"></rect><image x=\"1\" xlink:href=\"https://raw.githubusercontent.com/romstad/Chess.jl/master/img/bp.svg\" y=\"1\" height=\"1\" width=\"1\"></image></g><g><rect x=\"1\" y=\"2\" class=\"dark-square\" height=\"1\" width=\"1\"></rect><g></g></g><g><rect x=\"1\" y=\"3\" class=\"light-square\" height=\"1\" width=\"1\"></rect><g></g></g><g><rect x=\"1\" y=\"4\" class=\"dark-square\" height=\"1\" width=\"1\"></rect><g></g></g><g><rect x=\"1\" y=\"5\" class=\"light-square\" height=\"1\" width=\"1\"></rect><g></g></g><g><rect x=\"1\" y=\"6\" class=\"dark-square\" height=\"1\" width=\"1\"></rect><image x=\"1\" xlink:href=\"https://raw.githubusercontent.com/romstad/Chess.jl/master/img/wp.svg\" y=\"6\" height=\"1\" width=\"1\"></image></g><g><rect x=\"1\" y=\"7\" class=\"light-square\" height=\"1\" width=\"1\"></rect><g></g></g><g><rect x=\"2\" y=\"0\" class=\"light-square\" height=\"1\" width=\"1\"></rect><g></g></g><g><rect x=\"2\" y=\"1\" class=\"dark-square\" height=\"1\" width=\"1\"></rect><image x=\"2\" xlink:href=\"https://raw.githubusercontent.com/romstad/Chess.jl/master/img/bp.svg\" y=\"1\" height=\"1\" width=\"1\"></image></g><g><rect x=\"2\" y=\"2\" class=\"light-square\" height=\"1\" width=\"1\"></rect><g></g></g><g><rect x=\"2\" y=\"3\" class=\"dark-square\" height=\"1\" width=\"1\"></rect><g></g></g><g><rect x=\"2\" y=\"4\" class=\"light-square\" height=\"1\" width=\"1\"></rect><g></g></g><g><rect x=\"2\" y=\"5\" class=\"dark-square\" height=\"1\" width=\"1\"></rect><image x=\"2\" xlink:href=\"https://raw.githubusercontent.com/romstad/Chess.jl/master/img/wn.svg\" y=\"5\" height=\"1\" width=\"1\"></image></g><g><rect x=\"2\" y=\"6\" class=\"light-square\" height=\"1\" width=\"1\"></rect><image x=\"2\" xlink:href=\"https://raw.githubusercontent.com/romstad/Chess.jl/master/img/wp.svg\" y=\"6\" height=\"1\" width=\"1\"></image></g><g><rect x=\"2\" y=\"7\" class=\"dark-square\" height=\"1\" width=\"1\"></rect><g></g></g><g><rect x=\"3\" y=\"0\" class=\"dark-square\" height=\"1\" width=\"1\"></rect><image x=\"3\" xlink:href=\"https://raw.githubusercontent.com/romstad/Chess.jl/master/img/bq.svg\" y=\"0\" height=\"1\" width=\"1\"></image></g><g><rect x=\"3\" y=\"1\" class=\"light-square\" height=\"1\" width=\"1\"></rect><image x=\"3\" xlink:href=\"https://raw.githubusercontent.com/romstad/Chess.jl/master/img/bb.svg\" y=\"1\" height=\"1\" width=\"1\"></image></g><g><rect x=\"3\" y=\"2\" class=\"dark-square\" height=\"1\" width=\"1\"></rect><g></g></g><g><rect x=\"3\" y=\"3\" class=\"light-square\" height=\"1\" width=\"1\"></rect><image x=\"3\" xlink:href=\"https://raw.githubusercontent.com/romstad/Chess.jl/master/img/bp.svg\" y=\"3\" height=\"1\" width=\"1\"></image></g><g><rect x=\"3\" y=\"4\" class=\"dark-square\" height=\"1\" width=\"1\"></rect><image x=\"3\" xlink:href=\"https://raw.githubusercontent.com/romstad/Chess.jl/master/img/wp.svg\" y=\"4\" height=\"1\" width=\"1\"></image></g><g><rect x=\"3\" y=\"5\" class=\"light-square\" height=\"1\" width=\"1\"></rect><g></g></g><g><rect x=\"3\" y=\"6\" class=\"dark-square\" height=\"1\" width=\"1\"></rect><image x=\"3\" xlink:href=\"https://raw.githubusercontent.com/romstad/Chess.jl/master/img/wq.svg\" y=\"6\" height=\"1\" width=\"1\"></image></g><g><rect x=\"3\" y=\"7\" class=\"light-square\" height=\"1\" width=\"1\"></rect><g></g></g><g><rect x=\"4\" y=\"0\" class=\"light-square\" height=\"1\" width=\"1\"></rect><image x=\"4\" xlink:href=\"https://raw.githubusercontent.com/romstad/Chess.jl/master/img/bk.svg\" y=\"0\" height=\"1\" width=\"1\"></image></g><g><rect x=\"4\" y=\"1\" class=\"dark-square\" height=\"1\" width=\"1\"></rect><g></g></g><g><rect x=\"4\" y=\"2\" class=\"light-square\" height=\"1\" width=\"1\"></rect><image x=\"4\" xlink:href=\"https://raw.githubusercontent.com/romstad/Chess.jl/master/img/bp.svg\" y=\"2\" height=\"1\" width=\"1\"></image></g><g><rect x=\"4\" y=\"3\" class=\"dark-square\" height=\"1\" width=\"1\"></rect><g></g></g><g><rect x=\"4\" y=\"4\" class=\"light-square\" height=\"1\" width=\"1\"></rect><g></g></g><g><rect x=\"4\" y=\"5\" class=\"dark-square\" height=\"1\" width=\"1\"></rect><g></g></g><g><rect x=\"4\" y=\"6\" class=\"light-square\" height=\"1\" width=\"1\"></rect><image x=\"4\" xlink:href=\"https://raw.githubusercontent.com/romstad/Chess.jl/master/img/wp.svg\" y=\"6\" height=\"1\" width=\"1\"></image></g><g><rect x=\"4\" y=\"7\" class=\"dark-square\" height=\"1\" width=\"1\"></rect><image x=\"4\" xlink:href=\"https://raw.githubusercontent.com/romstad/Chess.jl/master/img/wk.svg\" y=\"7\" height=\"1\" width=\"1\"></image></g><g><rect x=\"5\" y=\"0\" class=\"dark-square\" height=\"1\" width=\"1\"></rect><image x=\"5\" xlink:href=\"https://raw.githubusercontent.com/romstad/Chess.jl/master/img/bb.svg\" y=\"0\" height=\"1\" width=\"1\"></image></g><g><rect x=\"5\" y=\"1\" class=\"light-square\" height=\"1\" width=\"1\"></rect><image x=\"5\" xlink:href=\"https://raw.githubusercontent.com/romstad/Chess.jl/master/img/bp.svg\" y=\"1\" height=\"1\" width=\"1\"></image></g><g><rect x=\"5\" y=\"2\" class=\"dark-square\" height=\"1\" width=\"1\"></rect><image x=\"5\" xlink:href=\"https://raw.githubusercontent.com/romstad/Chess.jl/master/img/bn.svg\" y=\"2\" height=\"1\" width=\"1\"></image></g><g><rect x=\"5\" y=\"3\" class=\"light-square\" height=\"1\" width=\"1\"></rect><g></g></g><g><rect x=\"5\" y=\"4\" class=\"dark-square\" height=\"1\" width=\"1\"></rect><image x=\"5\" xlink:href=\"https://raw.githubusercontent.com/romstad/Chess.jl/master/img/wb.svg\" y=\"4\" height=\"1\" width=\"1\"></image></g><g><rect x=\"5\" y=\"5\" class=\"light-square\" height=\"1\" width=\"1\"></rect><g></g></g><g><rect x=\"5\" y=\"6\" class=\"dark-square\" height=\"1\" width=\"1\"></rect><image x=\"5\" xlink:href=\"https://raw.githubusercontent.com/romstad/Chess.jl/master/img/wp.svg\" y=\"6\" height=\"1\" width=\"1\"></image></g><g><rect x=\"5\" y=\"7\" class=\"light-square\" height=\"1\" width=\"1\"></rect><image x=\"5\" xlink:href=\"https://raw.githubusercontent.com/romstad/Chess.jl/master/img/wb.svg\" y=\"7\" height=\"1\" width=\"1\"></image></g><g><rect x=\"6\" y=\"0\" class=\"light-square\" height=\"1\" width=\"1\"></rect><g></g></g><g><rect x=\"6\" y=\"1\" class=\"dark-square\" height=\"1\" width=\"1\"></rect><image x=\"6\" xlink:href=\"https://raw.githubusercontent.com/romstad/Chess.jl/master/img/bp.svg\" y=\"1\" height=\"1\" width=\"1\"></image></g><g><rect x=\"6\" y=\"2\" class=\"light-square\" height=\"1\" width=\"1\"></rect><g></g></g><g><rect x=\"6\" y=\"3\" class=\"dark-square\" height=\"1\" width=\"1\"></rect><g></g></g><g><rect x=\"6\" y=\"4\" class=\"light-square\" height=\"1\" width=\"1\"></rect><g></g></g><g><rect x=\"6\" y=\"5\" class=\"dark-square\" height=\"1\" width=\"1\"></rect><g></g></g><g><rect x=\"6\" y=\"6\" class=\"light-square\" height=\"1\" width=\"1\"></rect><image x=\"6\" xlink:href=\"https://raw.githubusercontent.com/romstad/Chess.jl/master/img/wp.svg\" y=\"6\" height=\"1\" width=\"1\"></image></g><g><rect x=\"6\" y=\"7\" class=\"dark-square\" height=\"1\" width=\"1\"></rect><image x=\"6\" xlink:href=\"https://raw.githubusercontent.com/romstad/Chess.jl/master/img/wn.svg\" y=\"7\" height=\"1\" width=\"1\"></image></g><g><rect x=\"7\" y=\"0\" class=\"dark-square\" height=\"1\" width=\"1\"></rect><image x=\"7\" xlink:href=\"https://raw.githubusercontent.com/romstad/Chess.jl/master/img/br.svg\" y=\"0\" height=\"1\" width=\"1\"></image></g><g><rect x=\"7\" y=\"1\" class=\"light-square\" height=\"1\" width=\"1\"></rect><image x=\"7\" xlink:href=\"https://raw.githubusercontent.com/romstad/Chess.jl/master/img/bp.svg\" y=\"1\" height=\"1\" width=\"1\"></image></g><g><rect x=\"7\" y=\"2\" class=\"dark-square\" height=\"1\" width=\"1\"></rect><g></g></g><g><rect x=\"7\" y=\"3\" class=\"light-square\" height=\"1\" width=\"1\"></rect><g></g></g><g><rect x=\"7\" y=\"4\" class=\"dark-square\" height=\"1\" width=\"1\"></rect><g></g></g><g><rect x=\"7\" y=\"5\" class=\"light-square\" height=\"1\" width=\"1\"></rect><g></g></g><g><rect x=\"7\" y=\"6\" class=\"dark-square\" height=\"1\" width=\"1\"></rect><image x=\"7\" xlink:href=\"https://raw.githubusercontent.com/romstad/Chess.jl/master/img/wp.svg\" y=\"6\" height=\"1\" width=\"1\"></image></g><g><rect x=\"7\" y=\"7\" class=\"light-square\" height=\"1\" width=\"1\"></rect><image x=\"7\" xlink:href=\"https://raw.githubusercontent.com/romstad/Chess.jl/master/img/wr.svg\" y=\"7\" height=\"1\" width=\"1\"></image></g></g><g></g></svg><div><p>White to move</p><p>Castle rights: KQkq</p><p><a href=\"https://lichess.org/editor/rn1qkb1r/pppb1ppp/4pn2/3p4/3P1B2/2N5/PPPQPPPP/R3KBNR_w_KQkq_-\" target=\"_blank\">Open in lichess</a></p></div></div>"
      ],
      "text/plain": [
       "Board (rn1qkb1r/pppb1ppp/4pn2/3p4/3P1B2/2N5/PPPQPPPP/R3KBNR w KQkq -):\n",
       " r  n  -  q  k  b  -  r \n",
       " p  p  p  b  -  p  p  p \n",
       " -  -  -  -  p  n  -  - \n",
       " -  -  -  p  -  -  -  - \n",
       " -  -  -  P  -  B  -  - \n",
       " -  -  N  -  -  -  -  - \n",
       " P  P  P  Q  P  P  P  P \n",
       " R  -  -  -  K  B  N  R "
      ]
     },
     "metadata": {},
     "output_type": "display_data"
    },
    {
     "name": "stdout",
     "output_type": "stream",
     "text": [
      "Piece: PIECE_BR Score: -500 Square: SQ_A8\n",
      "Piece: PIECE_BP Score: -605 Square: SQ_A7\n",
      "Piece: PIECE_WP Score: -500 Square: SQ_A2\n",
      "Piece: PIECE_WR Score: 0 Square: SQ_A1\n",
      "Piece: PIECE_BN Score: -280 Square: SQ_B8\n",
      "Piece: PIECE_BP Score: -390 Square: SQ_B7\n",
      "Piece: PIECE_WP Score: -280 Square: SQ_B2\n",
      "Piece: PIECE_BP Score: -390 Square: SQ_C7\n",
      "Piece: PIECE_WN Score: -60 Square: SQ_C3\n",
      "Piece: PIECE_WP Score: 50 Square: SQ_C2\n",
      "Piece: PIECE_BQ Score: -845 Square: SQ_D8\n",
      "Piece: PIECE_BB Score: -1175 Square: SQ_D7\n",
      "Piece: PIECE_BP Score: -1295 Square: SQ_D5\n",
      "Piece: PIECE_WP Score: -1175 Square: SQ_D4\n",
      "Piece: PIECE_WQ Score: -275 Square: SQ_D2\n",
      "Piece: PIECE_BK Score: -20275 Square: SQ_E8\n",
      "Piece: PIECE_BP Score: -20375 Square: SQ_E6\n",
      "Piece: PIECE_WP Score: -20295 Square: SQ_E2\n",
      "Piece: PIECE_WK Score: -295 Square: SQ_E1\n",
      "Piece: PIECE_BB Score: -615 Square: SQ_F8\n",
      "Piece: PIECE_BP Score: -725 Square: SQ_F7\n",
      "Piece: PIECE_BN Score: -1055 Square: SQ_F6\n",
      "Piece: PIECE_WB Score: -715 Square: SQ_F4\n",
      "Piece: PIECE_WP Score: -605 Square: SQ_F2\n",
      "Piece: PIECE_WB Score: -285 Square: SQ_F1\n",
      "Piece: PIECE_BP Score: -395 Square: SQ_G7\n",
      "Piece: PIECE_WP Score: -285 Square: SQ_G2\n",
      "Piece: PIECE_WN Score: -5 Square: SQ_G1\n",
      "Piece: PIECE_BR Score: -505 Square: SQ_H8\n",
      "Piece: PIECE_BP Score: -610 Square: SQ_H7\n",
      "Piece: PIECE_WP Score: -505 Square: SQ_H2\n",
      "Piece: PIECE_WR Score: -5 Square: SQ_H1\n"
     ]
    },
    {
     "data": {
      "text/plain": [
       "-5"
      ]
     },
     "execution_count": 154,
     "metadata": {},
     "output_type": "execute_result"
    }
   ],
   "source": [
    "b2 = fromfen(\"rn1qkb1r/pppb1ppp/4pn2/3p4/3P1B2/2N5/PPPQPPPP/R3KBNR w KQkq - 2 5\")\n",
    "display(b2)\n",
    "evaluate_position(b2)"
   ]
  },
  {
   "cell_type": "markdown",
   "id": "52428352",
   "metadata": {},
   "source": [
    "## Ohne Inkrementelle Evaluation eines Zuges"
   ]
  },
  {
   "attachments": {},
   "cell_type": "markdown",
   "id": "6b3708c3",
   "metadata": {},
   "source": [
    "Sollen wir das Entfernen? "
   ]
  },
  {
   "cell_type": "code",
   "execution_count": 118,
   "id": "9ecd4fb7",
   "metadata": {},
   "outputs": [
    {
     "data": {
      "text/plain": [
       "evaluate_move (generic function with 2 methods)"
      ]
     },
     "execution_count": 118,
     "metadata": {},
     "output_type": "execute_result"
    }
   ],
   "source": [
    "function evaluate_move(board, move)\n",
    "    oldScore = evaluate_position(board)\n",
    "    newBoard = domove(board, move)\n",
    "    newScore = evaluate_position(board)\n",
    "    return newScore - oldScore\n",
    "end"
   ]
  },
  {
   "cell_type": "markdown",
   "id": "49791a27",
   "metadata": {},
   "source": [
    "## Inkrementelle Evaluation eines Zuges"
   ]
  },
  {
   "attachments": {},
   "cell_type": "markdown",
   "id": "8970a832",
   "metadata": {},
   "source": [
    "### Capurte Piece\n",
    "The function \"subCapturePiece\" is used to update the value of a chessboard when a piece is captured by the opponent. As input parameters it takes a chess board (board) and a chess piece that was captured (toMove).\n",
    "\n",
    "When the function is called, the value of the captured piece is subtracted from the current value of the chess board."
   ]
  },
  {
   "cell_type": "code",
   "execution_count": 141,
   "id": "589db17f",
   "metadata": {},
   "outputs": [
    {
     "data": {
      "text/plain": [
       "subCapturePiece (generic function with 2 methods)"
      ]
     },
     "execution_count": 141,
     "metadata": {},
     "output_type": "execute_result"
    }
   ],
   "source": [
    "function subCapturePiece(board, square::Square)    \n",
    "    capturePiece = pieceon(board, square)\n",
    "    if (capturePiece != EMPTY)\n",
    "        if Chess.pcolor(capturePiece) == WHITE\n",
    "            return - calc_score(board, capturePiece, square)\n",
    "        else\n",
    "            return calc_score(board, capturePiece, square)\n",
    "        end\n",
    "    end\n",
    "    return 0\n",
    "end"
   ]
  },
  {
   "cell_type": "code",
   "execution_count": 120,
   "id": "7b1def44",
   "metadata": {},
   "outputs": [
    {
     "data": {
      "text/plain": [
       "checkEnPassant (generic function with 1 method)"
      ]
     },
     "execution_count": 120,
     "metadata": {},
     "output_type": "execute_result"
    }
   ],
   "source": [
    "function checkEnPassant(board, toMove)\n",
    "    enpassantSquare = epsquare(board)\n",
    "    if(enpassantSquare != SQ_NONE && enpassantSquare == toMove)\n",
    "        lastToMove = to(lastmove(board))\n",
    "        return subCapturePiece(board, lastToMove)\n",
    "    end \n",
    "    return 0\n",
    "end "
   ]
  },
  {
   "cell_type": "markdown",
   "id": "b9b0d150",
   "metadata": {},
   "source": [
    "`calc_castle` checks wether the `move` done was a castleing move. \n",
    "\n",
    "If no the score will be returned back.\n",
    "\n",
    "If yes it will adds the value of the move rook. The moved King will be calculated as the regularmove in the `evaluate_move` function. Casteling Kingside does not effect the value of the rook. Casteling Queenside adds +5 to the value of the position.\n",
    "\n",
    "Check Castle KingSide is ignored, because the score is not changed. The reason is that the rook on square f1/f8 has the value zero. "
   ]
  },
  {
   "cell_type": "code",
   "execution_count": 122,
   "id": "6754d799",
   "metadata": {},
   "outputs": [
    {
     "data": {
      "text/plain": [
       "calc_castle (generic function with 1 method)"
      ]
     },
     "execution_count": 122,
     "metadata": {},
     "output_type": "execute_result"
    }
   ],
   "source": [
    "function calc_castle(board, piece, toMove)\n",
    "    if(ptype(piece) == KING && cancastlequeenside(board, pcolor(piece))  && file(toMove) == FILE_C)\n",
    "        return  5\n",
    "    end \n",
    "    return 0\n",
    "end"
   ]
  },
  {
   "cell_type": "code",
   "execution_count": 138,
   "id": "36774366",
   "metadata": {},
   "outputs": [
    {
     "data": {
      "text/plain": [
       "evaluate_move (generic function with 2 methods)"
      ]
     },
     "execution_count": 138,
     "metadata": {},
     "output_type": "execute_result"
    }
   ],
   "source": [
    "function evaluate_move(board:: Board, move:: Move, score)\n",
    "    if isterminal(domove(board, move))\n",
    "        return terminal_evaluation(domove(board, move))\n",
    "    end\n",
    "    toMove = to(move)\n",
    "    fromMove = from(move)\n",
    "    piece = pieceon(board, from(move))\n",
    "    # Sub Points for old Position from Piece\n",
    "    score += subCapturePiece(board, from(move))\n",
    "    score += subCapturePiece(board, toMove)\n",
    "    if ptype(piece) == PAWN\n",
    "        score += checkEnPassant(board, toMove)\n",
    "    end\n",
    "    if ispromotion(move)\n",
    "        piece = Piece(sidetomove(board), promotion(move))\n",
    "    end\n",
    "    score += calc_castle(board,piece, toMove)\n",
    "    score += calc_score(board, piece, toMove)\n",
    "    return score\n",
    "end"
   ]
  },
  {
   "cell_type": "code",
   "execution_count": 139,
   "id": "febac661",
   "metadata": {},
   "outputs": [
    {
     "name": "stdout",
     "output_type": "stream",
     "text": [
      "Capture Piece: PIECE_WPSQ_E2"
     ]
    },
    {
     "data": {
      "text/plain": [
       "true"
      ]
     },
     "execution_count": 139,
     "metadata": {},
     "output_type": "execute_result"
    }
   ],
   "source": [
    "b1 = startboard()\n",
    "m1 = Move(Square(FILE_E,RANK_2), Square(FILE_E,RANK_4))\n",
    "evaluate_move(b1, m1, 0) == 40"
   ]
  },
  {
   "cell_type": "code",
   "execution_count": null,
   "id": "9dbf2f7e",
   "metadata": {},
   "outputs": [
    {
     "data": {
      "text/plain": [
       "terminal_evaluation (generic function with 1 method)"
      ]
     },
     "execution_count": 35,
     "metadata": {},
     "output_type": "execute_result"
    }
   ],
   "source": [
    "function terminal_evaluation(board:: Board)\n",
    "    if ischeckmate(board)\n",
    "        color = sidetomove(board)\n",
    "        if color == WHITE\n",
    "            return -100000\n",
    "        else\n",
    "            return 100000\n",
    "        end\n",
    "    elseif isstalemate(board)\n",
    "        return 0\n",
    "    elseif ismaterialdraw(board)\n",
    "        return 0\n",
    "    elseif isrule50draw(board)\n",
    "        return 0\n",
    "    end\n",
    "    return\n",
    "end"
   ]
  }
 ],
 "metadata": {
  "kernelspec": {
   "display_name": "Julia 1.8.2",
   "language": "julia",
   "name": "julia-1.8"
  },
  "language_info": {
   "file_extension": ".jl",
   "mimetype": "application/julia",
   "name": "julia",
   "version": "1.8.2"
  }
 },
 "nbformat": 4,
 "nbformat_minor": 5
}
