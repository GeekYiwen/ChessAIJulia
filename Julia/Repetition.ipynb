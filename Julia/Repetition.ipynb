{
 "cells": [
  {
   "cell_type": "code",
   "execution_count": null,
   "metadata": {},
   "outputs": [],
   "source": [
    "HTML(read(open(\"style.css\"), String))"
   ]
  },
  {
   "cell_type": "markdown",
   "metadata": {},
   "source": [
    "# Detection of a Draw by Repetition"
   ]
  },
  {
   "cell_type": "markdown",
   "metadata": {},
   "source": [
    "This notebook is used to detect a draw by repetition as this is function is not available in the `Chess.jl` library.\n",
    "\n",
    "In chess a draw occurs if the same position is reached three times in the same game.\n",
    "\n",
    "To detect a draw by repetition we associate a Dictionary repCounter with a `Board`. The dictionary pairs boards represented by their hash with the number of times the board has been reached in the game. Therefore the type of the Dictionary is `Dict{UInt64, Int8}()`. Each time a move is made the new board gets stored into the Dictionary with the value of one. If the board has already been stored the counter of this hash will increase by 1. If at any point a hash has the value of 3 a threefold repetition has occured and the game automatically results in a draw. \n"
   ]
  },
  {
   "cell_type": "markdown",
   "metadata": {},
   "source": [
    "The function isRepetition returns a boolean whether the repCounter has a position that has occured at least 3 times. \n",
    "\n",
    "Arguments:\n",
    "\n",
    "1. `repCounter::Dict{UInt64, Int8}()` repCounter Dictionary\n",
    "\n",
    "Returns True if a threefold repetition has occured. Otherwise returns False."
   ]
  },
  {
   "cell_type": "code",
   "execution_count": null,
   "metadata": {},
   "outputs": [],
   "source": [
    "function isRepetition(repCounter::Dict{UInt64, Int8})\n",
    "    return 3 in values(repCounter)\n",
    "end"
   ]
  },
  {
   "cell_type": "markdown",
   "metadata": {},
   "source": [
    "The function `incrementHash!` increments the counter of the given `hash` by one in the given `repCounter`. If the hash is not in the `repCounter` it will create a new entry with the hash and set it's value to 1.\n",
    "\n",
    "Arguments:\n",
    "\n",
    "1. `repCounter::Dict{UInt64, Int8}()` repCounter Dictionary\n",
    "1. `hash::UInt64` hash of the board"
   ]
  },
  {
   "cell_type": "code",
   "execution_count": null,
   "metadata": {},
   "outputs": [],
   "source": [
    "function incrementHash!(repCounter::Dict{UInt64, Int8}, hash::UInt64)\n",
    "    !haskey(repCounter, hash) ? repCounter[hash] = 1 : repCounter[hash] += 1\n",
    "end"
   ]
  },
  {
   "cell_type": "markdown",
   "metadata": {},
   "source": [
    "The function `decrementHash` decrements the counter of the given `hash` by one in the given `repCounter`.\n",
    "\n",
    "Arguments:\n",
    "\n",
    "1. `repCounter::Dict{UInt64, Int8}()` repCounter Dictionary\n",
    "1. `hash::UInt64` hash of the board"
   ]
  },
  {
   "cell_type": "code",
   "execution_count": null,
   "metadata": {},
   "outputs": [],
   "source": [
    "function decrementHash!(repCounter::Dict{UInt64, Int8}, hash::UInt64)\n",
    "    if repCounter[hash] == 1\n",
    "        delete!(repCounter, hash)\n",
    "    else\n",
    "        repCounter[hash] -= 1\n",
    "    end\n",
    "end"
   ]
  }
 ],
 "metadata": {
  "kernelspec": {
   "display_name": "Julia 1.8.2",
   "language": "julia",
   "name": "julia-1.8"
  },
  "language_info": {
   "file_extension": ".jl",
   "mimetype": "application/julia",
   "name": "julia",
   "version": "1.8.2"
  }
 },
 "nbformat": 4,
 "nbformat_minor": 4
}
