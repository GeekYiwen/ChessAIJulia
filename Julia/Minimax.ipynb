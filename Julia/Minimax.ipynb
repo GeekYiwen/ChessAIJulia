{
 "cells": [
  {
   "cell_type": "code",
   "execution_count": 1,
   "metadata": {},
   "outputs": [
    {
     "data": {
      "text/html": [
       "<link href='http://fonts.googleapis.com/css?family=Alegreya+Sans:100,300,400,500,700,800,900,100italic,300italic,400italic,500italic,700italic,800italic,900italic' rel='stylesheet' type='text/css'>\r\n",
       "<link href='http://fonts.googleapis.com/css?family=Arvo:400,700,400italic' rel='stylesheet' type='text/css'>\r\n",
       "<link href='http://fonts.googleapis.com/css?family=PT+Mono' rel='stylesheet' type='text/css'>\r\n",
       "<link href='http://fonts.googleapis.com/css?family=Shadows+Into+Light' rel='stylesheet' type='text/css'>\r\n",
       "<link href='http://fonts.googleapis.com/css?family=Philosopher:400,700,400italic,700italic' rel='stylesheet' type='text/css'>\r\n",
       "\r\n",
       "<style>\r\n",
       "\r\n",
       "@font-face {\r\n",
       "    font-family: \"Computer Modern\";\r\n",
       "    src: url('http://mirrors.ctan.org/fonts/cm-unicode/fonts/otf/cmunss.otf');\r\n",
       "}\r\n",
       "\r\n",
       ".container { width: 100% }\r\n",
       "\r\n",
       "/* Formatting for header cells */\r\n",
       ".text_cell_render h1 {\r\n",
       "    font-family: 'Philosopher', sans-serif;\r\n",
       "    font-weight: 400;\r\n",
       "    font-size: 2.2em;\r\n",
       "    line-height: 100%;\r\n",
       "    color: rgb(0, 80, 120);\r\n",
       "    margin-bottom: 0.1em;\r\n",
       "    margin-top: 0.1em;\r\n",
       "    display: block;\r\n",
       "}\t\r\n",
       ".text_cell_render h2 {\r\n",
       "    font-family: 'Philosopher', serif;\r\n",
       "    font-weight: 400;\r\n",
       "    font-size: 1.9em;\r\n",
       "    line-height: 100%;\r\n",
       "    color: rgb(200,100,0);\r\n",
       "    margin-bottom: 0.1em;\r\n",
       "    margin-top: 0.1em;\r\n",
       "    display: block;\r\n",
       "}\t\r\n",
       "\r\n",
       ".text_cell_render h3 {\r\n",
       "    font-family: 'Philosopher', serif;\r\n",
       "    margin-top:12px;\r\n",
       "    margin-bottom: 3px;\r\n",
       "    font-style: italic;\r\n",
       "    color: rgb(94,127,192);\r\n",
       "}\r\n",
       "\r\n",
       ".text_cell_render h4 {\r\n",
       "    font-family: 'Philosopher', serif;\r\n",
       "}\r\n",
       "\r\n",
       ".text_cell_render h5 {\r\n",
       "    font-family: 'Alegreya Sans', sans-serif;\r\n",
       "    font-weight: 300;\r\n",
       "    font-size: 16pt;\r\n",
       "    color: grey;\r\n",
       "    font-style: italic;\r\n",
       "    margin-bottom: .1em;\r\n",
       "    margin-top: 0.1em;\r\n",
       "    display: block;\r\n",
       "}\r\n",
       "\r\n",
       ".text_cell_render h6 {\r\n",
       "    font-family: 'PT Mono', sans-serif;\r\n",
       "    font-weight: 300;\r\n",
       "    font-size: 10pt;\r\n",
       "    color: grey;\r\n",
       "    margin-bottom: 1px;\r\n",
       "    margin-top: 1px;\r\n",
       "}\r\n",
       "\r\n",
       ".text_cell_render em {\r\n",
       "    font-family: 'Philosopher', sans-serif;\r\n",
       "    color:        blue;\r\n",
       "    background-color: rgb(255,220,180);\r\n",
       "    font-size:    110%;\r\n",
       "    margin-left:   2px;\r\n",
       "    margin-right:  2px;\r\n",
       "    font-weight:   100;\r\n",
       "}\r\n",
       "\r\n",
       ".text_cell_render b {\r\n",
       "    color:            rgb(255,195,195);\r\n",
       "    background-color: rgb(0,0,0);\r\n",
       "    font-size:    110%;\r\n",
       "    margin-left:   2px;\r\n",
       "    margin-right:  2px;\r\n",
       "    font-weight:   650;\r\n",
       "}\r\n",
       "\r\n",
       ".text_cell_render tt {\r\n",
       "    font-size:    120%;\r\n",
       "    margin-left:   2px;\r\n",
       "    margin-right:  2px;\r\n",
       "    font-weight:   150;\r\n",
       "}\r\n",
       "\r\n",
       ".Codemirror {\r\n",
       "    font-family: \"PT Mono\";\r\n",
       "    font-size: 100%;\r\n",
       "}\r\n",
       "\r\n",
       "</style>\r\n",
       "\r\n"
      ],
      "text/plain": [
       "HTML{String}(\"<link href='http://fonts.googleapis.com/css?family=Alegreya+Sans:100,300,400,500,700,800,900,100italic,300italic,400italic,500italic,700italic,800italic,900italic' rel='stylesheet' type='text/css'>\\r\\n<link href='http://fonts.googleapis.com/css?family=Arvo:400,700,400italic' rel='stylesheet' type='text/css'>\\r\\n<link href='http://fonts.googleapis.com/css?family=PT+Mono' rel='stylesheet' type='text/css'>\\r\\n<link href='http://fonts.googleapis.com/css?family=Shadows+Into+Light' rel='stylesheet' type='text/css'>\\r\\n<link href='http://fonts.googleapis.com/css?family=Philosopher:400,700,400italic,700italic' rel='stylesheet' type='text/css'>\\r\\n\\r\\n<style>\\r\\n\\r\\n@font-face {\\r\\n    font-family: \\\"Computer Modern\\\";\\r\\n    src: url('http://mirrors.ctan.org/fonts/cm-unicode/fonts/otf/cmunss.otf');\\r\\n}\\r\\n\\r\\n.container { width: 100% }\\r\\n\\r\\n/* Formatting for header cells */\\r\\n.text_cell_render h1 {\\r\\n    font-family: 'Philosopher', sans-serif;\\r\\n    font-weight: 400;\\r\\n    font-size: 2.2em;\\r\\n    line-height: 100%;\\r\\n    color: rgb(0, 80, 120);\\r\\n    margin-bottom: 0.1em;\\r\\n    margin-top: 0.1em;\\r\\n    display: block;\\r\\n}\\t\\r\\n.text_cell_render h2 {\\r\\n    font-family: 'Philosopher', serif;\\r\\n    font-weight: 400;\\r\\n    font-size: 1.9em;\\r\\n    line-height: 100%;\\r\\n    color: rgb(200,100,0);\\r\\n    margin-bottom: 0.1em;\\r\\n    margin-top: 0.1em;\\r\\n    display: block;\\r\\n}\\t\\r\\n\\r\\n.text_cell_render h3 {\\r\\n    font-family: 'Philosopher', serif;\\r\\n    margin-top:12px;\\r\\n    margin-bottom: 3px;\\r\\n    font-style: italic;\\r\\n    color: rgb(94,127,192);\\r\\n}\\r\\n\\r\\n.text_cell_render h4 {\\r\\n    font-family: 'Philosopher', serif;\\r\\n}\\r\\n\\r\\n.text_cell_render h5 {\\r\\n    font-family: 'Alegreya Sans', sans-serif;\\r\\n    font-weight: 300;\\r\\n    font-size: 16pt;\\r\\n    color: grey;\\r\\n    font-style: italic;\\r\\n    margin-bottom: .1em;\\r\\n    margin-top: 0.1em;\\r\\n    display: block;\\r\\n}\\r\\n\\r\\n.text_cell_render h6 {\\r\\n    font-family: 'PT Mono', sans-serif;\\r\\n    font-weight: 300;\\r\\n    font-size: 10pt;\\r\\n    color: grey;\\r\\n    margin-bottom: 1px;\\r\\n    margin-top: 1px;\\r\\n}\\r\\n\\r\\n.text_cell_render em {\\r\\n    font-family: 'Philosopher', sans-serif;\\r\\n    color:        blue;\\r\\n    background-color: rgb(255,220,180);\\r\\n    font-size:    110%;\\r\\n    margin-left:   2px;\\r\\n    margin-right:  2px;\\r\\n    font-weight:   100;\\r\\n}\\r\\n\\r\\n.text_cell_render b {\\r\\n    color:            rgb(255,195,195);\\r\\n    background-color: rgb(0,0,0);\\r\\n    font-size:    110%;\\r\\n    margin-left:   2px;\\r\\n    margin-right:  2px;\\r\\n    font-weight:   650;\\r\\n}\\r\\n\\r\\n.text_cell_render tt {\\r\\n    font-size:    120%;\\r\\n    margin-left:   2px;\\r\\n    margin-right:  2px;\\r\\n    font-weight:   150;\\r\\n}\\r\\n\\r\\n.Codemirror {\\r\\n    font-family: \\\"PT Mono\\\";\\r\\n    font-size: 100%;\\r\\n}\\r\\n\\r\\n</style>\\r\\n\\r\\n\")"
      ]
     },
     "execution_count": 1,
     "metadata": {},
     "output_type": "execute_result"
    }
   ],
   "source": [
    "HTML(read(open(\"style.css\"), String))"
   ]
  },
  {
   "cell_type": "markdown",
   "metadata": {},
   "source": [
    "# Minimax\n",
    "A Program to play a game of chess using random moves."
   ]
  },
  {
   "cell_type": "code",
   "execution_count": 2,
   "metadata": {},
   "outputs": [],
   "source": [
    "using Pkg\n",
    "# Pkg.add(\"Chess\")\n",
    "using Chess\n",
    "using Random\n",
    "\n",
    "# Pkg.add(\"NBInclude\")\n",
    "using NBInclude"
   ]
  },
  {
   "cell_type": "code",
   "execution_count": 3,
   "metadata": {},
   "outputs": [
    {
     "name": "stdout",
     "output_type": "stream",
     "text": [
      "keine Figur vorhandenSubCapture"
     ]
    },
    {
     "data": {
      "text/plain": [
       "100000"
      ]
     },
     "execution_count": 3,
     "metadata": {},
     "output_type": "execute_result"
    }
   ],
   "source": [
    "@nbinclude(\"EvaluatePosition.ipynb\")"
   ]
  },
  {
   "cell_type": "markdown",
   "metadata": {},
   "source": [
    "## MaxValue-function"
   ]
  },
  {
   "cell_type": "code",
   "execution_count": 4,
   "metadata": {},
   "outputs": [
    {
     "data": {
      "text/plain": [
       "maxValue (generic function with 1 method)"
      ]
     },
     "execution_count": 4,
     "metadata": {},
     "output_type": "execute_result"
    }
   ],
   "source": [
    "function maxValue(State, depth)\n",
    "    if isterminal(State) || depth == 0\n",
    "        return evaluate_position(State) - depth\n",
    "    end\n",
    "    return maximum([ minValue(domove(State, ns), depth-1) for ns in moves(State) ])\n",
    "end"
   ]
  },
  {
   "cell_type": "code",
   "execution_count": 5,
   "metadata": {},
   "outputs": [
    {
     "data": {
      "text/plain": [
       "maxValue (generic function with 2 methods)"
      ]
     },
     "execution_count": 5,
     "metadata": {},
     "output_type": "execute_result"
    }
   ],
   "source": [
    "function maxValue(State, score, depth)\n",
    "    if isterminal(State) \n",
    "        return terminal_evaluation(State) - depth\n",
    "    elseif depth <= 1\n",
    "        return maximum([ evaluate_move(State, move, score) for move in moves(State) ])\n",
    "    end\n",
    "    return maximum([ minValue(domove(State, move), evaluate_move(State, move, score), depth-1) for move in moves(State) ])\n",
    "end"
   ]
  },
  {
   "cell_type": "markdown",
   "metadata": {},
   "source": [
    "## MinValue-function"
   ]
  },
  {
   "cell_type": "code",
   "execution_count": 6,
   "metadata": {},
   "outputs": [
    {
     "data": {
      "text/plain": [
       "minValue (generic function with 1 method)"
      ]
     },
     "execution_count": 6,
     "metadata": {},
     "output_type": "execute_result"
    }
   ],
   "source": [
    "function minValue(State, depth)\n",
    "    if isterminal(State) || depth == 0\n",
    "      return evaluate_position(State) + depth\n",
    "    end\n",
    "    return minimum([ maxValue(domove(State, ns), depth-1) for ns in moves(State) ])\n",
    "end"
   ]
  },
  {
   "cell_type": "code",
   "execution_count": 7,
   "metadata": {},
   "outputs": [
    {
     "data": {
      "text/plain": [
       "minValue (generic function with 2 methods)"
      ]
     },
     "execution_count": 7,
     "metadata": {},
     "output_type": "execute_result"
    }
   ],
   "source": [
    "function minValue(State, score, depth)\n",
    "    if isterminal(State) \n",
    "        return terminal_evaluation(State) + depth\n",
    "    elseif depth <= 1\n",
    "        return minimum([ evaluate_move(State, move, score) for move in moves(State) ])\n",
    "    end\n",
    "    return minimum([ maxValue(domove(State, move), evaluate_move(State, move, score), depth-1) for move in moves(State) ])\n",
    "end"
   ]
  },
  {
   "cell_type": "code",
   "execution_count": 8,
   "metadata": {},
   "outputs": [
    {
     "data": {
      "text/plain": [
       "-710"
      ]
     },
     "execution_count": 8,
     "metadata": {},
     "output_type": "execute_result"
    }
   ],
   "source": [
    "b = fromfen(\"4k3/8/8/4p3/8/2BK4/8/q7 w - - 0 1\")\n",
    "minValue(b, 3)"
   ]
  },
  {
   "cell_type": "code",
   "execution_count": 9,
   "metadata": {},
   "outputs": [
    {
     "data": {
      "text/plain": [
       "-710"
      ]
     },
     "execution_count": 9,
     "metadata": {},
     "output_type": "execute_result"
    }
   ],
   "source": [
    "b = fromfen(\"4k3/8/8/4p3/8/2BK4/8/q7 w - - 0 1\")\n",
    "minValue(b, evaluate_position(b), 3)"
   ]
  },
  {
   "cell_type": "markdown",
   "metadata": {},
   "source": [
    "## Minimax-function"
   ]
  },
  {
   "cell_type": "markdown",
   "metadata": {},
   "source": [
    "The `minimax` function takes in a board and returns the value and the board of the best move. It's depth must be set."
   ]
  },
  {
   "cell_type": "code",
   "execution_count": 29,
   "metadata": {},
   "outputs": [
    {
     "data": {
      "text/plain": [
       "minimax (generic function with 2 methods)"
      ]
     },
     "execution_count": 29,
     "metadata": {},
     "output_type": "execute_result"
    }
   ],
   "source": [
    "function minimax(State, depth)\n",
    "    next_moves = moves(State)\n",
    "    if sidetomove(State) == WHITE\n",
    "        bestVal = maxValue(State, depth)\n",
    "        BestMoves = [move for move in next_moves if minValue(domove(State, move), depth-1) == bestVal]\n",
    "    elseif sidetomove(State) == BLACK\n",
    "        bestVal = minValue(State, depth)\n",
    "        BestMoves = [move for move in next_moves if maxValue(domove(State, move), depth-1) == bestVal]\n",
    "    end\n",
    "    BestMove = rand(BestMoves)\n",
    "    return bestVal, BestMove\n",
    "end"
   ]
  },
  {
   "cell_type": "markdown",
   "metadata": {},
   "source": [
    "The `minimax_verbal` function prints more information. "
   ]
  },
  {
   "cell_type": "code",
   "execution_count": 30,
   "metadata": {},
   "outputs": [
    {
     "data": {
      "text/plain": [
       "minimax (generic function with 2 methods)"
      ]
     },
     "execution_count": 30,
     "metadata": {},
     "output_type": "execute_result"
    }
   ],
   "source": [
    "function minimax(State, score, depth)\n",
    "    next_moves = moves(State)\n",
    "    print(next_moves)\n",
    "    BestMoves = []\n",
    "    bestVal = 0\n",
    "    if sidetomove(State) == WHITE\n",
    "        bestVal = maxValue(State, score, depth)\n",
    "        BestMoves = [move for move in next_moves if minValue(domove(State, move), evaluate_move(State, move, score), depth-1) == bestVal]\n",
    "    elseif sidetomove(State) == BLACK\n",
    "        bestVal = minValue(State, score, depth)\n",
    "        BestMoves = [move for move in next_moves if maxValue(domove(State, move), evaluate_move(State, move, score), depth-1) == bestVal]\n",
    "    end\n",
    "    BestMove = rand(BestMoves)\n",
    "    return bestVal, BestMove\n",
    "end"
   ]
  },
  {
   "cell_type": "code",
   "execution_count": 37,
   "metadata": {},
   "outputs": [
    {
     "data": {
      "text/plain": [
       "minimax_verbal (generic function with 2 methods)"
      ]
     },
     "execution_count": 37,
     "metadata": {},
     "output_type": "execute_result"
    }
   ],
   "source": [
    "function minimax_verbal(State, score, depth)\n",
    "    next_moves = moves(State)\n",
    "    BestMoves = []\n",
    "    pprint(State, color = true)\n",
    "    if sidetomove(State) == WHITE\n",
    "        bestVal = maxValue(State, score, depth)\n",
    "        for move in next_moves\n",
    "            state_after_move = domove(State, move)\n",
    "            minVal = minValue(state_after_move, evaluate_move(State, move, score), depth-1)\n",
    "            println(\"-----------------------\")\n",
    "            println(move)\n",
    "            pprint(state_after_move, color = true)\n",
    "            println(minVal)\n",
    "            println()\n",
    "            if minVal == bestVal\n",
    "                append!(BestMoves,  [move])\n",
    "            end\n",
    "        end\n",
    "    elseif sidetomove(State) == BLACK\n",
    "        bestVal = minValue(State, score, depth)\n",
    "        for move in next_moves\n",
    "            state_after_move = domove(State, move)\n",
    "            maxVal = maxValue(state_after_move, evaluate_move(State, move, score), depth-1)\n",
    "            println(\"-----------------------\")\n",
    "            println(move)\n",
    "            pprint(state_after_move, color = true)\n",
    "            println(minVal)\n",
    "            println()\n",
    "            if minVal == bestVal\n",
    "                append!(BestMoves,  [move])\n",
    "            end\n",
    "        end\n",
    "    end\n",
    "    BestMove = rand(BestMoves)\n",
    "    return bestVal, BestMove\n",
    "end"
   ]
  },
  {
   "cell_type": "code",
   "execution_count": 38,
   "metadata": {},
   "outputs": [
    {
     "name": "stdout",
     "output_type": "stream",
     "text": [
      "440\n",
      "Move[Move(a8a7)](100000, Move(a8a7))  0.095613 seconds (182.72 k allocations: 12.679 MiB)\n"
     ]
    }
   ],
   "source": [
    "b = fromfen(\"k7/2K5/8/8/8/8/1R6/8 b - - 0 1\")\n",
    "current_board_value = evaluate_position(b)\n",
    "println(current_board_value)\n",
    "@time begin\n",
    "    best_move = minimax(b, current_board_value, 5)\n",
    "    print(best_move)\n",
    "end"
   ]
  },
  {
   "cell_type": "code",
   "execution_count": 39,
   "metadata": {
    "scrolled": true
   },
   "outputs": [
    {
     "data": {
      "text/plain": [
       "playMinimaxMove (generic function with 1 method)"
      ]
     },
     "execution_count": 39,
     "metadata": {},
     "output_type": "execute_result"
    }
   ],
   "source": [
    "function playMinimaxMove(game, depth)\n",
    "    minimaxeval = minimax(board(game), depth)\n",
    "    domove!(game, minimaxeval[2])\n",
    "    return minimaxeval[1]\n",
    "end"
   ]
  },
  {
   "cell_type": "code",
   "execution_count": 43,
   "metadata": {},
   "outputs": [
    {
     "data": {
      "text/plain": [
       "playMinimaxMove (generic function with 2 methods)"
      ]
     },
     "execution_count": 43,
     "metadata": {},
     "output_type": "execute_result"
    }
   ],
   "source": [
    "function playMinimaxMove(game, depth, score)\n",
    "    minimaxeval = minimax(board(game), score, depth)\n",
    "    domove!(game, minimaxeval[2])\n",
    "    return minimaxeval[1]\n",
    "end"
   ]
  },
  {
   "cell_type": "code",
   "execution_count": 42,
   "metadata": {},
   "outputs": [
    {
     "name": "stdout",
     "output_type": "stream",
     "text": [
      "-680\n",
      "(190, Move(c3a1)) 48.551217 seconds (567.83 M allocations: 21.194 GiB, 3.82% gc time, 0.35% compilation time)\n"
     ]
    }
   ],
   "source": [
    "b = fromfen(\"8/4k3/8/4p3/8/2BK4/8/q7 w - - 0 1\")\n",
    "current_board_value = evaluate_position(b)\n",
    "println(current_board_value)\n",
    "@time begin\n",
    "    best_move = minimax(b, 3)\n",
    "    print(best_move)\n",
    "end"
   ]
  },
  {
   "cell_type": "code",
   "execution_count": 41,
   "metadata": {
    "collapsed": true
   },
   "outputs": [
    {
     "name": "stdout",
     "output_type": "stream",
     "text": [
      "-680\n",
      "\u001b[38;2;0;0;0;48;2;138;204;192m   \u001b[38;2;0;0;0;48;2;102;176;163m   \u001b[38;2;0;0;0;48;2;138;204;192m   \u001b[38;2;0;0;0;48;2;102;176;163m   \u001b[38;2;0;0;0;48;2;138;204;192m   \u001b[38;2;0;0;0;48;2;102;176;163m   \u001b[38;2;0;0;0;48;2;138;204;192m   \u001b[38;2;0;0;0;48;2;102;176;163m   \u001b[0m\n",
      "\u001b[38;2;0;0;0;48;2;102;176;163m   \u001b[38;2;0;0;0;48;2;138;204;192m   \u001b[38;2;0;0;0;48;2;102;176;163m   \u001b[38;2;0;0;0;48;2;138;204;192m   \u001b[38;2;0;0;0;48;2;102;176;163m k \u001b[38;2;0;0;0;48;2;138;204;192m   \u001b[38;2;0;0;0;48;2;102;176;163m   \u001b[38;2;0;0;0;48;2;138;204;192m   \u001b[0m\n",
      "\u001b[38;2;0;0;0;48;2;138;204;192m   \u001b[38;2;0;0;0;48;2;102;176;163m   \u001b[38;2;0;0;0;48;2;138;204;192m   \u001b[38;2;0;0;0;48;2;102;176;163m   \u001b[38;2;0;0;0;48;2;138;204;192m   \u001b[38;2;0;0;0;48;2;102;176;163m   \u001b[38;2;0;0;0;48;2;138;204;192m   \u001b[38;2;0;0;0;48;2;102;176;163m   \u001b[0m\n",
      "\u001b[38;2;0;0;0;48;2;102;176;163m   \u001b[38;2;0;0;0;48;2;138;204;192m   \u001b[38;2;0;0;0;48;2;102;176;163m   \u001b[38;2;0;0;0;48;2;138;204;192m   \u001b[38;2;0;0;0;48;2;102;176;163m p \u001b[38;2;0;0;0;48;2;138;204;192m   \u001b[38;2;0;0;0;48;2;102;176;163m   \u001b[38;2;0;0;0;48;2;138;204;192m   \u001b[0m\n",
      "\u001b[38;2;0;0;0;48;2;138;204;192m   \u001b[38;2;0;0;0;48;2;102;176;163m   \u001b[38;2;0;0;0;48;2;138;204;192m   \u001b[38;2;0;0;0;48;2;102;176;163m   \u001b[38;2;0;0;0;48;2;138;204;192m   \u001b[38;2;0;0;0;48;2;102;176;163m   \u001b[38;2;0;0;0;48;2;138;204;192m   \u001b[38;2;0;0;0;48;2;102;176;163m   \u001b[0m\n",
      "\u001b[38;2;0;0;0;48;2;102;176;163m   \u001b[38;2;0;0;0;48;2;138;204;192m   \u001b[38;2;255;255;136;48;2;102;176;163m b \u001b[38;2;255;255;136;48;2;138;204;192m k \u001b[38;2;0;0;0;48;2;102;176;163m   \u001b[38;2;0;0;0;48;2;138;204;192m   \u001b[38;2;0;0;0;48;2;102;176;163m   \u001b[38;2;0;0;0;48;2;138;204;192m   \u001b[0m\n",
      "\u001b[38;2;0;0;0;48;2;138;204;192m   \u001b[38;2;0;0;0;48;2;102;176;163m   \u001b[38;2;0;0;0;48;2;138;204;192m   \u001b[38;2;0;0;0;48;2;102;176;163m   \u001b[38;2;0;0;0;48;2;138;204;192m   \u001b[38;2;0;0;0;48;2;102;176;163m   \u001b[38;2;0;0;0;48;2;138;204;192m   \u001b[38;2;0;0;0;48;2;102;176;163m   \u001b[0m\n",
      "\u001b[38;2;0;0;0;48;2;102;176;163m q \u001b[38;2;0;0;0;48;2;138;204;192m   \u001b[38;2;0;0;0;48;2;102;176;163m   \u001b[38;2;0;0;0;48;2;138;204;192m   \u001b[38;2;0;0;0;48;2;102;176;163m   \u001b[38;2;0;0;0;48;2;138;204;192m   \u001b[38;2;0;0;0;48;2;102;176;163m   \u001b[38;2;0;0;0;48;2;138;204;192m   \u001b[0m\n",
      "8/4k3/8/4p3/8/2BK4/8/q7 w - -\n",
      "-----------------------\n",
      "Move(c3a5)\n",
      "\u001b[38;2;0;0;0;48;2;138;204;192m   \u001b[38;2;0;0;0;48;2;102;176;163m   \u001b[38;2;0;0;0;48;2;138;204;192m   \u001b[38;2;0;0;0;48;2;102;176;163m   \u001b[38;2;0;0;0;48;2;138;204;192m   \u001b[38;2;0;0;0;48;2;102;176;163m   \u001b[38;2;0;0;0;48;2;138;204;192m   \u001b[38;2;0;0;0;48;2;102;176;163m   \u001b[0m\n",
      "\u001b[38;2;0;0;0;48;2;102;176;163m   \u001b[38;2;0;0;0;48;2;138;204;192m   \u001b[38;2;0;0;0;48;2;102;176;163m   \u001b[38;2;0;0;0;48;2;138;204;192m   \u001b[38;2;0;0;0;48;2;102;176;163m k \u001b[38;2;0;0;0;48;2;138;204;192m   \u001b[38;2;0;0;0;48;2;102;176;163m   \u001b[38;2;0;0;0;48;2;138;204;192m   \u001b[0m\n",
      "\u001b[38;2;0;0;0;48;2;138;204;192m   \u001b[38;2;0;0;0;48;2;102;176;163m   \u001b[38;2;0;0;0;48;2;138;204;192m   \u001b[38;2;0;0;0;48;2;102;176;163m   \u001b[38;2;0;0;0;48;2;138;204;192m   \u001b[38;2;0;0;0;48;2;102;176;163m   \u001b[38;2;0;0;0;48;2;138;204;192m   \u001b[38;2;0;0;0;48;2;102;176;163m   \u001b[0m\n",
      "\u001b[38;2;255;255;136;48;2;102;176;163m b \u001b[38;2;0;0;0;48;2;138;204;192m   \u001b[38;2;0;0;0;48;2;102;176;163m   \u001b[38;2;0;0;0;48;2;138;204;192m   \u001b[38;2;0;0;0;48;2;102;176;163m p \u001b[38;2;0;0;0;48;2;138;204;192m   \u001b[38;2;0;0;0;48;2;102;176;163m   \u001b[38;2;0;0;0;48;2;138;204;192m   \u001b[0m\n",
      "\u001b[38;2;0;0;0;48;2;138;204;192m   \u001b[38;2;0;0;0;48;2;102;176;163m   \u001b[38;2;0;0;0;48;2;138;204;192m   \u001b[38;2;0;0;0;48;2;102;176;163m   \u001b[38;2;0;0;0;48;2;138;204;192m   \u001b[38;2;0;0;0;48;2;102;176;163m   \u001b[38;2;0;0;0;48;2;138;204;192m   \u001b[38;2;0;0;0;48;2;102;176;163m   \u001b[0m\n",
      "\u001b[38;2;0;0;0;48;2;102;176;163m   \u001b[38;2;0;0;0;48;2;138;204;192m   \u001b[38;2;0;0;0;48;2;102;176;163m   \u001b[38;2;255;255;136;48;2;138;204;192m k \u001b[38;2;0;0;0;48;2;102;176;163m   \u001b[38;2;0;0;0;48;2;138;204;192m   \u001b[38;2;0;0;0;48;2;102;176;163m   \u001b[38;2;0;0;0;48;2;138;204;192m   \u001b[0m\n",
      "\u001b[38;2;0;0;0;48;2;138;204;192m   \u001b[38;2;0;0;0;48;2;102;176;163m   \u001b[38;2;0;0;0;48;2;138;204;192m   \u001b[38;2;0;0;0;48;2;102;176;163m   \u001b[38;2;0;0;0;48;2;138;204;192m   \u001b[38;2;0;0;0;48;2;102;176;163m   \u001b[38;2;0;0;0;48;2;138;204;192m   \u001b[38;2;0;0;0;48;2;102;176;163m   \u001b[0m\n",
      "\u001b[38;2;0;0;0;48;2;102;176;163m q \u001b[38;2;0;0;0;48;2;138;204;192m   \u001b[38;2;0;0;0;48;2;102;176;163m   \u001b[38;2;0;0;0;48;2;138;204;192m   \u001b[38;2;0;0;0;48;2;102;176;163m   \u001b[38;2;0;0;0;48;2;138;204;192m   \u001b[38;2;0;0;0;48;2;102;176;163m   \u001b[38;2;0;0;0;48;2;138;204;192m   \u001b[0m\n",
      "8/4k3/8/B3p3/8/3K4/8/q7 b - -\n",
      "-1010\n",
      "\n",
      "-----------------------\n",
      "Move(c3a1)\n",
      "\u001b[38;2;0;0;0;48;2;138;204;192m   \u001b[38;2;0;0;0;48;2;102;176;163m   \u001b[38;2;0;0;0;48;2;138;204;192m   \u001b[38;2;0;0;0;48;2;102;176;163m   \u001b[38;2;0;0;0;48;2;138;204;192m   \u001b[38;2;0;0;0;48;2;102;176;163m   \u001b[38;2;0;0;0;48;2;138;204;192m   \u001b[38;2;0;0;0;48;2;102;176;163m   \u001b[0m\n",
      "\u001b[38;2;0;0;0;48;2;102;176;163m   \u001b[38;2;0;0;0;48;2;138;204;192m   \u001b[38;2;0;0;0;48;2;102;176;163m   \u001b[38;2;0;0;0;48;2;138;204;192m   \u001b[38;2;0;0;0;48;2;102;176;163m k \u001b[38;2;0;0;0;48;2;138;204;192m   \u001b[38;2;0;0;0;48;2;102;176;163m   \u001b[38;2;0;0;0;48;2;138;204;192m   \u001b[0m\n",
      "\u001b[38;2;0;0;0;48;2;138;204;192m   \u001b[38;2;0;0;0;48;2;102;176;163m   \u001b[38;2;0;0;0;48;2;138;204;192m   \u001b[38;2;0;0;0;48;2;102;176;163m   \u001b[38;2;0;0;0;48;2;138;204;192m   \u001b[38;2;0;0;0;48;2;102;176;163m   \u001b[38;2;0;0;0;48;2;138;204;192m   \u001b[38;2;0;0;0;48;2;102;176;163m   \u001b[0m\n",
      "\u001b[38;2;0;0;0;48;2;102;176;163m   \u001b[38;2;0;0;0;48;2;138;204;192m   \u001b[38;2;0;0;0;48;2;102;176;163m   \u001b[38;2;0;0;0;48;2;138;204;192m   \u001b[38;2;0;0;0;48;2;102;176;163m p \u001b[38;2;0;0;0;48;2;138;204;192m   \u001b[38;2;0;0;0;48;2;102;176;163m   \u001b[38;2;0;0;0;48;2;138;204;192m   \u001b[0m\n",
      "\u001b[38;2;0;0;0;48;2;138;204;192m   \u001b[38;2;0;0;0;48;2;102;176;163m   \u001b[38;2;0;0;0;48;2;138;204;192m   \u001b[38;2;0;0;0;48;2;102;176;163m   \u001b[38;2;0;0;0;48;2;138;204;192m   \u001b[38;2;0;0;0;48;2;102;176;163m   \u001b[38;2;0;0;0;48;2;138;204;192m   \u001b[38;2;0;0;0;48;2;102;176;163m   \u001b[0m\n",
      "\u001b[38;2;0;0;0;48;2;102;176;163m   \u001b[38;2;0;0;0;48;2;138;204;192m   \u001b[38;2;0;0;0;48;2;102;176;163m   \u001b[38;2;255;255;136;48;2;138;204;192m k \u001b[38;2;0;0;0;48;2;102;176;163m   \u001b[38;2;0;0;0;48;2;138;204;192m   \u001b[38;2;0;0;0;48;2;102;176;163m   \u001b[38;2;0;0;0;48;2;138;204;192m   \u001b[0m\n",
      "\u001b[38;2;0;0;0;48;2;138;204;192m   \u001b[38;2;0;0;0;48;2;102;176;163m   \u001b[38;2;0;0;0;48;2;138;204;192m   \u001b[38;2;0;0;0;48;2;102;176;163m   \u001b[38;2;0;0;0;48;2;138;204;192m   \u001b[38;2;0;0;0;48;2;102;176;163m   \u001b[38;2;0;0;0;48;2;138;204;192m   \u001b[38;2;0;0;0;48;2;102;176;163m   \u001b[0m\n",
      "\u001b[38;2;255;255;136;48;2;102;176;163m b \u001b[38;2;0;0;0;48;2;138;204;192m   \u001b[38;2;0;0;0;48;2;102;176;163m   \u001b[38;2;0;0;0;48;2;138;204;192m   \u001b[38;2;0;0;0;48;2;102;176;163m   \u001b[38;2;0;0;0;48;2;138;204;192m   \u001b[38;2;0;0;0;48;2;102;176;163m   \u001b[38;2;0;0;0;48;2;138;204;192m   \u001b[0m\n",
      "8/4k3/8/4p3/8/3K4/8/B7 b - -\n",
      "190\n",
      "\n",
      "-----------------------\n",
      "Move(c3b4)\n",
      "\u001b[38;2;0;0;0;48;2;138;204;192m   \u001b[38;2;0;0;0;48;2;102;176;163m   \u001b[38;2;0;0;0;48;2;138;204;192m   \u001b[38;2;0;0;0;48;2;102;176;163m   \u001b[38;2;0;0;0;48;2;138;204;192m   \u001b[38;2;0;0;0;48;2;102;176;163m   \u001b[38;2;0;0;0;48;2;138;204;192m   \u001b[38;2;0;0;0;48;2;102;176;163m   \u001b[0m\n",
      "\u001b[38;2;0;0;0;48;2;102;176;163m   \u001b[38;2;0;0;0;48;2;138;204;192m   \u001b[38;2;0;0;0;48;2;102;176;163m   \u001b[38;2;0;0;0;48;2;138;204;192m   \u001b[38;2;0;0;0;48;2;102;176;163m k \u001b[38;2;0;0;0;48;2;138;204;192m   \u001b[38;2;0;0;0;48;2;102;176;163m   \u001b[38;2;0;0;0;48;2;138;204;192m   \u001b[0m\n",
      "\u001b[38;2;0;0;0;48;2;138;204;192m   \u001b[38;2;0;0;0;48;2;102;176;163m   \u001b[38;2;0;0;0;48;2;138;204;192m   \u001b[38;2;0;0;0;48;2;102;176;163m   \u001b[38;2;0;0;0;48;2;138;204;192m   \u001b[38;2;0;0;0;48;2;102;176;163m   \u001b[38;2;0;0;0;48;2;138;204;192m   \u001b[38;2;0;0;0;48;2;102;176;163m   \u001b[0m\n",
      "\u001b[38;2;0;0;0;48;2;102;176;163m   \u001b[38;2;0;0;0;48;2;138;204;192m   \u001b[38;2;0;0;0;48;2;102;176;163m   \u001b[38;2;0;0;0;48;2;138;204;192m   \u001b[38;2;0;0;0;48;2;102;176;163m p \u001b[38;2;0;0;0;48;2;138;204;192m   \u001b[38;2;0;0;0;48;2;102;176;163m   \u001b[38;2;0;0;0;48;2;138;204;192m   \u001b[0m\n",
      "\u001b[38;2;0;0;0;48;2;138;204;192m   \u001b[38;2;255;255;136;48;2;102;176;163m b \u001b[38;2;0;0;0;48;2;138;204;192m   \u001b[38;2;0;0;0;48;2;102;176;163m   \u001b[38;2;0;0;0;48;2;138;204;192m   \u001b[38;2;0;0;0;48;2;102;176;163m   \u001b[38;2;0;0;0;48;2;138;204;192m   \u001b[38;2;0;0;0;48;2;102;176;163m   \u001b[0m\n",
      "\u001b[38;2;0;0;0;48;2;102;176;163m   \u001b[38;2;0;0;0;48;2;138;204;192m   \u001b[38;2;0;0;0;48;2;102;176;163m   \u001b[38;2;255;255;136;48;2;138;204;192m k \u001b[38;2;0;0;0;48;2;102;176;163m   \u001b[38;2;0;0;0;48;2;138;204;192m   \u001b[38;2;0;0;0;48;2;102;176;163m   \u001b[38;2;0;0;0;48;2;138;204;192m   \u001b[0m\n",
      "\u001b[38;2;0;0;0;48;2;138;204;192m   \u001b[38;2;0;0;0;48;2;102;176;163m   \u001b[38;2;0;0;0;48;2;138;204;192m   \u001b[38;2;0;0;0;48;2;102;176;163m   \u001b[38;2;0;0;0;48;2;138;204;192m   \u001b[38;2;0;0;0;48;2;102;176;163m   \u001b[38;2;0;0;0;48;2;138;204;192m   \u001b[38;2;0;0;0;48;2;102;176;163m   \u001b[0m\n",
      "\u001b[38;2;0;0;0;48;2;102;176;163m q \u001b[38;2;0;0;0;48;2;138;204;192m   \u001b[38;2;0;0;0;48;2;102;176;163m   \u001b[38;2;0;0;0;48;2;138;204;192m   \u001b[38;2;0;0;0;48;2;102;176;163m   \u001b[38;2;0;0;0;48;2;138;204;192m   \u001b[38;2;0;0;0;48;2;102;176;163m   \u001b[38;2;0;0;0;48;2;138;204;192m   \u001b[0m\n",
      "8/4k3/8/4p3/1B6/3K4/8/q7 b - -\n",
      "-690\n",
      "\n"
     ]
    },
    {
     "name": "stdout",
     "output_type": "stream",
     "text": [
      "-----------------------\n",
      "Move(c3b2)\n",
      "\u001b[38;2;0;0;0;48;2;138;204;192m   \u001b[38;2;0;0;0;48;2;102;176;163m   \u001b[38;2;0;0;0;48;2;138;204;192m   \u001b[38;2;0;0;0;48;2;102;176;163m   \u001b[38;2;0;0;0;48;2;138;204;192m   \u001b[38;2;0;0;0;48;2;102;176;163m   \u001b[38;2;0;0;0;48;2;138;204;192m   \u001b[38;2;0;0;0;48;2;102;176;163m   \u001b[0m\n",
      "\u001b[38;2;0;0;0;48;2;102;176;163m   \u001b[38;2;0;0;0;48;2;138;204;192m   \u001b[38;2;0;0;0;48;2;102;176;163m   \u001b[38;2;0;0;0;48;2;138;204;192m   \u001b[38;2;0;0;0;48;2;102;176;163m k \u001b[38;2;0;0;0;48;2;138;204;192m   \u001b[38;2;0;0;0;48;2;102;176;163m   \u001b[38;2;0;0;0;48;2;138;204;192m   \u001b[0m\n",
      "\u001b[38;2;0;0;0;48;2;138;204;192m   \u001b[38;2;0;0;0;48;2;102;176;163m   \u001b[38;2;0;0;0;48;2;138;204;192m   \u001b[38;2;0;0;0;48;2;102;176;163m   \u001b[38;2;0;0;0;48;2;138;204;192m   \u001b[38;2;0;0;0;48;2;102;176;163m   \u001b[38;2;0;0;0;48;2;138;204;192m   \u001b[38;2;0;0;0;48;2;102;176;163m   \u001b[0m\n",
      "\u001b[38;2;0;0;0;48;2;102;176;163m   \u001b[38;2;0;0;0;48;2;138;204;192m   \u001b[38;2;0;0;0;48;2;102;176;163m   \u001b[38;2;0;0;0;48;2;138;204;192m   \u001b[38;2;0;0;0;48;2;102;176;163m p \u001b[38;2;0;0;0;48;2;138;204;192m   \u001b[38;2;0;0;0;48;2;102;176;163m   \u001b[38;2;0;0;0;48;2;138;204;192m   \u001b[0m\n",
      "\u001b[38;2;0;0;0;48;2;138;204;192m   \u001b[38;2;0;0;0;48;2;102;176;163m   \u001b[38;2;0;0;0;48;2;138;204;192m   \u001b[38;2;0;0;0;48;2;102;176;163m   \u001b[38;2;0;0;0;48;2;138;204;192m   \u001b[38;2;0;0;0;48;2;102;176;163m   \u001b[38;2;0;0;0;48;2;138;204;192m   \u001b[38;2;0;0;0;48;2;102;176;163m   \u001b[0m\n",
      "\u001b[38;2;0;0;0;48;2;102;176;163m   \u001b[38;2;0;0;0;48;2;138;204;192m   \u001b[38;2;0;0;0;48;2;102;176;163m   \u001b[38;2;255;255;136;48;2;138;204;192m k \u001b[38;2;0;0;0;48;2;102;176;163m   \u001b[38;2;0;0;0;48;2;138;204;192m   \u001b[38;2;0;0;0;48;2;102;176;163m   \u001b[38;2;0;0;0;48;2;138;204;192m   \u001b[0m\n",
      "\u001b[38;2;0;0;0;48;2;138;204;192m   \u001b[38;2;255;255;136;48;2;102;176;163m b \u001b[38;2;0;0;0;48;2;138;204;192m   \u001b[38;2;0;0;0;48;2;102;176;163m   \u001b[38;2;0;0;0;48;2;138;204;192m   \u001b[38;2;0;0;0;48;2;102;176;163m   \u001b[38;2;0;0;0;48;2;138;204;192m   \u001b[38;2;0;0;0;48;2;102;176;163m   \u001b[0m\n",
      "\u001b[38;2;0;0;0;48;2;102;176;163m q \u001b[38;2;0;0;0;48;2;138;204;192m   \u001b[38;2;0;0;0;48;2;102;176;163m   \u001b[38;2;0;0;0;48;2;138;204;192m   \u001b[38;2;0;0;0;48;2;102;176;163m   \u001b[38;2;0;0;0;48;2;138;204;192m   \u001b[38;2;0;0;0;48;2;102;176;163m   \u001b[38;2;0;0;0;48;2;138;204;192m   \u001b[0m\n",
      "8/4k3/8/4p3/8/3K4/1B6/q7 b - -\n",
      "-1050\n",
      "\n",
      "-----------------------\n",
      "Move(c3d4)\n",
      "\u001b[38;2;0;0;0;48;2;138;204;192m   \u001b[38;2;0;0;0;48;2;102;176;163m   \u001b[38;2;0;0;0;48;2;138;204;192m   \u001b[38;2;0;0;0;48;2;102;176;163m   \u001b[38;2;0;0;0;48;2;138;204;192m   \u001b[38;2;0;0;0;48;2;102;176;163m   \u001b[38;2;0;0;0;48;2;138;204;192m   \u001b[38;2;0;0;0;48;2;102;176;163m   \u001b[0m\n",
      "\u001b[38;2;0;0;0;48;2;102;176;163m   \u001b[38;2;0;0;0;48;2;138;204;192m   \u001b[38;2;0;0;0;48;2;102;176;163m   \u001b[38;2;0;0;0;48;2;138;204;192m   \u001b[38;2;0;0;0;48;2;102;176;163m k \u001b[38;2;0;0;0;48;2;138;204;192m   \u001b[38;2;0;0;0;48;2;102;176;163m   \u001b[38;2;0;0;0;48;2;138;204;192m   \u001b[0m\n",
      "\u001b[38;2;0;0;0;48;2;138;204;192m   \u001b[38;2;0;0;0;48;2;102;176;163m   \u001b[38;2;0;0;0;48;2;138;204;192m   \u001b[38;2;0;0;0;48;2;102;176;163m   \u001b[38;2;0;0;0;48;2;138;204;192m   \u001b[38;2;0;0;0;48;2;102;176;163m   \u001b[38;2;0;0;0;48;2;138;204;192m   \u001b[38;2;0;0;0;48;2;102;176;163m   \u001b[0m\n",
      "\u001b[38;2;0;0;0;48;2;102;176;163m   \u001b[38;2;0;0;0;48;2;138;204;192m   \u001b[38;2;0;0;0;48;2;102;176;163m   \u001b[38;2;0;0;0;48;2;138;204;192m   \u001b[38;2;0;0;0;48;2;102;176;163m p \u001b[38;2;0;0;0;48;2;138;204;192m   \u001b[38;2;0;0;0;48;2;102;176;163m   \u001b[38;2;0;0;0;48;2;138;204;192m   \u001b[0m\n",
      "\u001b[38;2;0;0;0;48;2;138;204;192m   \u001b[38;2;0;0;0;48;2;102;176;163m   \u001b[38;2;0;0;0;48;2;138;204;192m   \u001b[38;2;255;255;136;48;2;102;176;163m b \u001b[38;2;0;0;0;48;2;138;204;192m   \u001b[38;2;0;0;0;48;2;102;176;163m   \u001b[38;2;0;0;0;48;2;138;204;192m   \u001b[38;2;0;0;0;48;2;102;176;163m   \u001b[0m\n",
      "\u001b[38;2;0;0;0;48;2;102;176;163m   \u001b[38;2;0;0;0;48;2;138;204;192m   \u001b[38;2;0;0;0;48;2;102;176;163m   \u001b[38;2;255;255;136;48;2;138;204;192m k \u001b[38;2;0;0;0;48;2;102;176;163m   \u001b[38;2;0;0;0;48;2;138;204;192m   \u001b[38;2;0;0;0;48;2;102;176;163m   \u001b[38;2;0;0;0;48;2;138;204;192m   \u001b[0m\n",
      "\u001b[38;2;0;0;0;48;2;138;204;192m   \u001b[38;2;0;0;0;48;2;102;176;163m   \u001b[38;2;0;0;0;48;2;138;204;192m   \u001b[38;2;0;0;0;48;2;102;176;163m   \u001b[38;2;0;0;0;48;2;138;204;192m   \u001b[38;2;0;0;0;48;2;102;176;163m   \u001b[38;2;0;0;0;48;2;138;204;192m   \u001b[38;2;0;0;0;48;2;102;176;163m   \u001b[0m\n",
      "\u001b[38;2;0;0;0;48;2;102;176;163m q \u001b[38;2;0;0;0;48;2;138;204;192m   \u001b[38;2;0;0;0;48;2;102;176;163m   \u001b[38;2;0;0;0;48;2;138;204;192m   \u001b[38;2;0;0;0;48;2;102;176;163m   \u001b[38;2;0;0;0;48;2;138;204;192m   \u001b[38;2;0;0;0;48;2;102;176;163m   \u001b[38;2;0;0;0;48;2;138;204;192m   \u001b[0m\n",
      "8/4k3/8/4p3/3B4/3K4/8/q7 b - -\n",
      "-1025\n",
      "\n",
      "-----------------------\n",
      "Move(c3d2)\n",
      "\u001b[38;2;0;0;0;48;2;138;204;192m   \u001b[38;2;0;0;0;48;2;102;176;163m   \u001b[38;2;0;0;0;48;2;138;204;192m   \u001b[38;2;0;0;0;48;2;102;176;163m   \u001b[38;2;0;0;0;48;2;138;204;192m   \u001b[38;2;0;0;0;48;2;102;176;163m   \u001b[38;2;0;0;0;48;2;138;204;192m   \u001b[38;2;0;0;0;48;2;102;176;163m   \u001b[0m\n",
      "\u001b[38;2;0;0;0;48;2;102;176;163m   \u001b[38;2;0;0;0;48;2;138;204;192m   \u001b[38;2;0;0;0;48;2;102;176;163m   \u001b[38;2;0;0;0;48;2;138;204;192m   \u001b[38;2;0;0;0;48;2;102;176;163m k \u001b[38;2;0;0;0;48;2;138;204;192m   \u001b[38;2;0;0;0;48;2;102;176;163m   \u001b[38;2;0;0;0;48;2;138;204;192m   \u001b[0m\n",
      "\u001b[38;2;0;0;0;48;2;138;204;192m   \u001b[38;2;0;0;0;48;2;102;176;163m   \u001b[38;2;0;0;0;48;2;138;204;192m   \u001b[38;2;0;0;0;48;2;102;176;163m   \u001b[38;2;0;0;0;48;2;138;204;192m   \u001b[38;2;0;0;0;48;2;102;176;163m   \u001b[38;2;0;0;0;48;2;138;204;192m   \u001b[38;2;0;0;0;48;2;102;176;163m   \u001b[0m\n",
      "\u001b[38;2;0;0;0;48;2;102;176;163m   \u001b[38;2;0;0;0;48;2;138;204;192m   \u001b[38;2;0;0;0;48;2;102;176;163m   \u001b[38;2;0;0;0;48;2;138;204;192m   \u001b[38;2;0;0;0;48;2;102;176;163m p \u001b[38;2;0;0;0;48;2;138;204;192m   \u001b[38;2;0;0;0;48;2;102;176;163m   \u001b[38;2;0;0;0;48;2;138;204;192m   \u001b[0m\n",
      "\u001b[38;2;0;0;0;48;2;138;204;192m   \u001b[38;2;0;0;0;48;2;102;176;163m   \u001b[38;2;0;0;0;48;2;138;204;192m   \u001b[38;2;0;0;0;48;2;102;176;163m   \u001b[38;2;0;0;0;48;2;138;204;192m   \u001b[38;2;0;0;0;48;2;102;176;163m   \u001b[38;2;0;0;0;48;2;138;204;192m   \u001b[38;2;0;0;0;48;2;102;176;163m   \u001b[0m\n",
      "\u001b[38;2;0;0;0;48;2;102;176;163m   \u001b[38;2;0;0;0;48;2;138;204;192m   \u001b[38;2;0;0;0;48;2;102;176;163m   \u001b[38;2;255;255;136;48;2;138;204;192m k \u001b[38;2;0;0;0;48;2;102;176;163m   \u001b[38;2;0;0;0;48;2;138;204;192m   \u001b[38;2;0;0;0;48;2;102;176;163m   \u001b[38;2;0;0;0;48;2;138;204;192m   \u001b[0m\n",
      "\u001b[38;2;0;0;0;48;2;138;204;192m   \u001b[38;2;0;0;0;48;2;102;176;163m   \u001b[38;2;0;0;0;48;2;138;204;192m   \u001b[38;2;255;255;136;48;2;102;176;163m b \u001b[38;2;0;0;0;48;2;138;204;192m   \u001b[38;2;0;0;0;48;2;102;176;163m   \u001b[38;2;0;0;0;48;2;138;204;192m   \u001b[38;2;0;0;0;48;2;102;176;163m   \u001b[0m\n",
      "\u001b[38;2;0;0;0;48;2;102;176;163m q \u001b[38;2;0;0;0;48;2;138;204;192m   \u001b[38;2;0;0;0;48;2;102;176;163m   \u001b[38;2;0;0;0;48;2;138;204;192m   \u001b[38;2;0;0;0;48;2;102;176;163m   \u001b[38;2;0;0;0;48;2;138;204;192m   \u001b[38;2;0;0;0;48;2;102;176;163m   \u001b[38;2;0;0;0;48;2;138;204;192m   \u001b[0m\n",
      "8/4k3/8/4p3/8/3K4/3B4/q7 b - -\n",
      "-690\n",
      "\n",
      "-----------------------\n",
      "Move(c3e5)\n",
      "\u001b[38;2;0;0;0;48;2;138;204;192m   \u001b[38;2;0;0;0;48;2;102;176;163m   \u001b[38;2;0;0;0;48;2;138;204;192m   \u001b[38;2;0;0;0;48;2;102;176;163m   \u001b[38;2;0;0;0;48;2;138;204;192m   \u001b[38;2;0;0;0;48;2;102;176;163m   \u001b[38;2;0;0;0;48;2;138;204;192m   \u001b[38;2;0;0;0;48;2;102;176;163m   \u001b[0m\n",
      "\u001b[38;2;0;0;0;48;2;102;176;163m   \u001b[38;2;0;0;0;48;2;138;204;192m   \u001b[38;2;0;0;0;48;2;102;176;163m   \u001b[38;2;0;0;0;48;2;138;204;192m   \u001b[38;2;0;0;0;48;2;102;176;163m k \u001b[38;2;0;0;0;48;2;138;204;192m   \u001b[38;2;0;0;0;48;2;102;176;163m   \u001b[38;2;0;0;0;48;2;138;204;192m   \u001b[0m\n",
      "\u001b[38;2;0;0;0;48;2;138;204;192m   \u001b[38;2;0;0;0;48;2;102;176;163m   \u001b[38;2;0;0;0;48;2;138;204;192m   \u001b[38;2;0;0;0;48;2;102;176;163m   \u001b[38;2;0;0;0;48;2;138;204;192m   \u001b[38;2;0;0;0;48;2;102;176;163m   \u001b[38;2;0;0;0;48;2;138;204;192m   \u001b[38;2;0;0;0;48;2;102;176;163m   \u001b[0m\n",
      "\u001b[38;2;0;0;0;48;2;102;176;163m   \u001b[38;2;0;0;0;48;2;138;204;192m   \u001b[38;2;0;0;0;48;2;102;176;163m   \u001b[38;2;0;0;0;48;2;138;204;192m   \u001b[38;2;255;255;136;48;2;102;176;163m b \u001b[38;2;0;0;0;48;2;138;204;192m   \u001b[38;2;0;0;0;48;2;102;176;163m   \u001b[38;2;0;0;0;48;2;138;204;192m   \u001b[0m\n",
      "\u001b[38;2;0;0;0;48;2;138;204;192m   \u001b[38;2;0;0;0;48;2;102;176;163m   \u001b[38;2;0;0;0;48;2;138;204;192m   \u001b[38;2;0;0;0;48;2;102;176;163m   \u001b[38;2;0;0;0;48;2;138;204;192m   \u001b[38;2;0;0;0;48;2;102;176;163m   \u001b[38;2;0;0;0;48;2;138;204;192m   \u001b[38;2;0;0;0;48;2;102;176;163m   \u001b[0m\n",
      "\u001b[38;2;0;0;0;48;2;102;176;163m   \u001b[38;2;0;0;0;48;2;138;204;192m   \u001b[38;2;0;0;0;48;2;102;176;163m   \u001b[38;2;255;255;136;48;2;138;204;192m k \u001b[38;2;0;0;0;48;2;102;176;163m   \u001b[38;2;0;0;0;48;2;138;204;192m   \u001b[38;2;0;0;0;48;2;102;176;163m   \u001b[38;2;0;0;0;48;2;138;204;192m   \u001b[0m\n",
      "\u001b[38;2;0;0;0;48;2;138;204;192m   \u001b[38;2;0;0;0;48;2;102;176;163m   \u001b[38;2;0;0;0;48;2;138;204;192m   \u001b[38;2;0;0;0;48;2;102;176;163m   \u001b[38;2;0;0;0;48;2;138;204;192m   \u001b[38;2;0;0;0;48;2;102;176;163m   \u001b[38;2;0;0;0;48;2;138;204;192m   \u001b[38;2;0;0;0;48;2;102;176;163m   \u001b[0m\n",
      "\u001b[38;2;0;0;0;48;2;102;176;163m q \u001b[38;2;0;0;0;48;2;138;204;192m   \u001b[38;2;0;0;0;48;2;102;176;163m   \u001b[38;2;0;0;0;48;2;138;204;192m   \u001b[38;2;0;0;0;48;2;102;176;163m   \u001b[38;2;0;0;0;48;2;138;204;192m   \u001b[38;2;0;0;0;48;2;102;176;163m   \u001b[38;2;0;0;0;48;2;138;204;192m   \u001b[0m\n",
      "8/4k3/8/4B3/8/3K4/8/q7 b - -\n",
      "-890\n",
      "\n"
     ]
    },
    {
     "name": "stdout",
     "output_type": "stream",
     "text": [
      "-----------------------\n",
      "Move(c3e1)\n",
      "\u001b[38;2;0;0;0;48;2;138;204;192m   \u001b[38;2;0;0;0;48;2;102;176;163m   \u001b[38;2;0;0;0;48;2;138;204;192m   \u001b[38;2;0;0;0;48;2;102;176;163m   \u001b[38;2;0;0;0;48;2;138;204;192m   \u001b[38;2;0;0;0;48;2;102;176;163m   \u001b[38;2;0;0;0;48;2;138;204;192m   \u001b[38;2;0;0;0;48;2;102;176;163m   \u001b[0m\n",
      "\u001b[38;2;0;0;0;48;2;102;176;163m   \u001b[38;2;0;0;0;48;2;138;204;192m   \u001b[38;2;0;0;0;48;2;102;176;163m   \u001b[38;2;0;0;0;48;2;138;204;192m   \u001b[38;2;0;0;0;48;2;102;176;163m k \u001b[38;2;0;0;0;48;2;138;204;192m   \u001b[38;2;0;0;0;48;2;102;176;163m   \u001b[38;2;0;0;0;48;2;138;204;192m   \u001b[0m\n",
      "\u001b[38;2;0;0;0;48;2;138;204;192m   \u001b[38;2;0;0;0;48;2;102;176;163m   \u001b[38;2;0;0;0;48;2;138;204;192m   \u001b[38;2;0;0;0;48;2;102;176;163m   \u001b[38;2;0;0;0;48;2;138;204;192m   \u001b[38;2;0;0;0;48;2;102;176;163m   \u001b[38;2;0;0;0;48;2;138;204;192m   \u001b[38;2;0;0;0;48;2;102;176;163m   \u001b[0m\n",
      "\u001b[38;2;0;0;0;48;2;102;176;163m   \u001b[38;2;0;0;0;48;2;138;204;192m   \u001b[38;2;0;0;0;48;2;102;176;163m   \u001b[38;2;0;0;0;48;2;138;204;192m   \u001b[38;2;0;0;0;48;2;102;176;163m p \u001b[38;2;0;0;0;48;2;138;204;192m   \u001b[38;2;0;0;0;48;2;102;176;163m   \u001b[38;2;0;0;0;48;2;138;204;192m   \u001b[0m\n",
      "\u001b[38;2;0;0;0;48;2;138;204;192m   \u001b[38;2;0;0;0;48;2;102;176;163m   \u001b[38;2;0;0;0;48;2;138;204;192m   \u001b[38;2;0;0;0;48;2;102;176;163m   \u001b[38;2;0;0;0;48;2;138;204;192m   \u001b[38;2;0;0;0;48;2;102;176;163m   \u001b[38;2;0;0;0;48;2;138;204;192m   \u001b[38;2;0;0;0;48;2;102;176;163m   \u001b[0m\n",
      "\u001b[38;2;0;0;0;48;2;102;176;163m   \u001b[38;2;0;0;0;48;2;138;204;192m   \u001b[38;2;0;0;0;48;2;102;176;163m   \u001b[38;2;255;255;136;48;2;138;204;192m k \u001b[38;2;0;0;0;48;2;102;176;163m   \u001b[38;2;0;0;0;48;2;138;204;192m   \u001b[38;2;0;0;0;48;2;102;176;163m   \u001b[38;2;0;0;0;48;2;138;204;192m   \u001b[0m\n",
      "\u001b[38;2;0;0;0;48;2;138;204;192m   \u001b[38;2;0;0;0;48;2;102;176;163m   \u001b[38;2;0;0;0;48;2;138;204;192m   \u001b[38;2;0;0;0;48;2;102;176;163m   \u001b[38;2;0;0;0;48;2;138;204;192m   \u001b[38;2;0;0;0;48;2;102;176;163m   \u001b[38;2;0;0;0;48;2;138;204;192m   \u001b[38;2;0;0;0;48;2;102;176;163m   \u001b[0m\n",
      "\u001b[38;2;0;0;0;48;2;102;176;163m q \u001b[38;2;0;0;0;48;2;138;204;192m   \u001b[38;2;0;0;0;48;2;102;176;163m   \u001b[38;2;0;0;0;48;2;138;204;192m   \u001b[38;2;255;255;136;48;2;102;176;163m b \u001b[38;2;0;0;0;48;2;138;204;192m   \u001b[38;2;0;0;0;48;2;102;176;163m   \u001b[38;2;0;0;0;48;2;138;204;192m   \u001b[0m\n",
      "8/4k3/8/4p3/8/3K4/8/q3B3 b - -\n",
      "-1010\n",
      "\n",
      "-----------------------\n",
      "Move(d3c4)\n",
      "\u001b[38;2;0;0;0;48;2;138;204;192m   \u001b[38;2;0;0;0;48;2;102;176;163m   \u001b[38;2;0;0;0;48;2;138;204;192m   \u001b[38;2;0;0;0;48;2;102;176;163m   \u001b[38;2;0;0;0;48;2;138;204;192m   \u001b[38;2;0;0;0;48;2;102;176;163m   \u001b[38;2;0;0;0;48;2;138;204;192m   \u001b[38;2;0;0;0;48;2;102;176;163m   \u001b[0m\n",
      "\u001b[38;2;0;0;0;48;2;102;176;163m   \u001b[38;2;0;0;0;48;2;138;204;192m   \u001b[38;2;0;0;0;48;2;102;176;163m   \u001b[38;2;0;0;0;48;2;138;204;192m   \u001b[38;2;0;0;0;48;2;102;176;163m k \u001b[38;2;0;0;0;48;2;138;204;192m   \u001b[38;2;0;0;0;48;2;102;176;163m   \u001b[38;2;0;0;0;48;2;138;204;192m   \u001b[0m\n",
      "\u001b[38;2;0;0;0;48;2;138;204;192m   \u001b[38;2;0;0;0;48;2;102;176;163m   \u001b[38;2;0;0;0;48;2;138;204;192m   \u001b[38;2;0;0;0;48;2;102;176;163m   \u001b[38;2;0;0;0;48;2;138;204;192m   \u001b[38;2;0;0;0;48;2;102;176;163m   \u001b[38;2;0;0;0;48;2;138;204;192m   \u001b[38;2;0;0;0;48;2;102;176;163m   \u001b[0m\n",
      "\u001b[38;2;0;0;0;48;2;102;176;163m   \u001b[38;2;0;0;0;48;2;138;204;192m   \u001b[38;2;0;0;0;48;2;102;176;163m   \u001b[38;2;0;0;0;48;2;138;204;192m   \u001b[38;2;0;0;0;48;2;102;176;163m p \u001b[38;2;0;0;0;48;2;138;204;192m   \u001b[38;2;0;0;0;48;2;102;176;163m   \u001b[38;2;0;0;0;48;2;138;204;192m   \u001b[0m\n",
      "\u001b[38;2;0;0;0;48;2;138;204;192m   \u001b[38;2;0;0;0;48;2;102;176;163m   \u001b[38;2;255;255;136;48;2;138;204;192m k \u001b[38;2;0;0;0;48;2;102;176;163m   \u001b[38;2;0;0;0;48;2;138;204;192m   \u001b[38;2;0;0;0;48;2;102;176;163m   \u001b[38;2;0;0;0;48;2;138;204;192m   \u001b[38;2;0;0;0;48;2;102;176;163m   \u001b[0m\n",
      "\u001b[38;2;0;0;0;48;2;102;176;163m   \u001b[38;2;0;0;0;48;2;138;204;192m   \u001b[38;2;255;255;136;48;2;102;176;163m b \u001b[38;2;0;0;0;48;2;138;204;192m   \u001b[38;2;0;0;0;48;2;102;176;163m   \u001b[38;2;0;0;0;48;2;138;204;192m   \u001b[38;2;0;0;0;48;2;102;176;163m   \u001b[38;2;0;0;0;48;2;138;204;192m   \u001b[0m\n",
      "\u001b[38;2;0;0;0;48;2;138;204;192m   \u001b[38;2;0;0;0;48;2;102;176;163m   \u001b[38;2;0;0;0;48;2;138;204;192m   \u001b[38;2;0;0;0;48;2;102;176;163m   \u001b[38;2;0;0;0;48;2;138;204;192m   \u001b[38;2;0;0;0;48;2;102;176;163m   \u001b[38;2;0;0;0;48;2;138;204;192m   \u001b[38;2;0;0;0;48;2;102;176;163m   \u001b[0m\n",
      "\u001b[38;2;0;0;0;48;2;102;176;163m q \u001b[38;2;0;0;0;48;2;138;204;192m   \u001b[38;2;0;0;0;48;2;102;176;163m   \u001b[38;2;0;0;0;48;2;138;204;192m   \u001b[38;2;0;0;0;48;2;102;176;163m   \u001b[38;2;0;0;0;48;2;138;204;192m   \u001b[38;2;0;0;0;48;2;102;176;163m   \u001b[38;2;0;0;0;48;2;138;204;192m   \u001b[0m\n",
      "8/4k3/8/4p3/2K5/2B5/8/q7 b - -\n",
      "-695\n",
      "\n",
      "-----------------------\n",
      "Move(d3c2)\n",
      "\u001b[38;2;0;0;0;48;2;138;204;192m   \u001b[38;2;0;0;0;48;2;102;176;163m   \u001b[38;2;0;0;0;48;2;138;204;192m   \u001b[38;2;0;0;0;48;2;102;176;163m   \u001b[38;2;0;0;0;48;2;138;204;192m   \u001b[38;2;0;0;0;48;2;102;176;163m   \u001b[38;2;0;0;0;48;2;138;204;192m   \u001b[38;2;0;0;0;48;2;102;176;163m   \u001b[0m\n",
      "\u001b[38;2;0;0;0;48;2;102;176;163m   \u001b[38;2;0;0;0;48;2;138;204;192m   \u001b[38;2;0;0;0;48;2;102;176;163m   \u001b[38;2;0;0;0;48;2;138;204;192m   \u001b[38;2;0;0;0;48;2;102;176;163m k \u001b[38;2;0;0;0;48;2;138;204;192m   \u001b[38;2;0;0;0;48;2;102;176;163m   \u001b[38;2;0;0;0;48;2;138;204;192m   \u001b[0m\n",
      "\u001b[38;2;0;0;0;48;2;138;204;192m   \u001b[38;2;0;0;0;48;2;102;176;163m   \u001b[38;2;0;0;0;48;2;138;204;192m   \u001b[38;2;0;0;0;48;2;102;176;163m   \u001b[38;2;0;0;0;48;2;138;204;192m   \u001b[38;2;0;0;0;48;2;102;176;163m   \u001b[38;2;0;0;0;48;2;138;204;192m   \u001b[38;2;0;0;0;48;2;102;176;163m   \u001b[0m\n",
      "\u001b[38;2;0;0;0;48;2;102;176;163m   \u001b[38;2;0;0;0;48;2;138;204;192m   \u001b[38;2;0;0;0;48;2;102;176;163m   \u001b[38;2;0;0;0;48;2;138;204;192m   \u001b[38;2;0;0;0;48;2;102;176;163m p \u001b[38;2;0;0;0;48;2;138;204;192m   \u001b[38;2;0;0;0;48;2;102;176;163m   \u001b[38;2;0;0;0;48;2;138;204;192m   \u001b[0m\n",
      "\u001b[38;2;0;0;0;48;2;138;204;192m   \u001b[38;2;0;0;0;48;2;102;176;163m   \u001b[38;2;0;0;0;48;2;138;204;192m   \u001b[38;2;0;0;0;48;2;102;176;163m   \u001b[38;2;0;0;0;48;2;138;204;192m   \u001b[38;2;0;0;0;48;2;102;176;163m   \u001b[38;2;0;0;0;48;2;138;204;192m   \u001b[38;2;0;0;0;48;2;102;176;163m   \u001b[0m\n",
      "\u001b[38;2;0;0;0;48;2;102;176;163m   \u001b[38;2;0;0;0;48;2;138;204;192m   \u001b[38;2;255;255;136;48;2;102;176;163m b \u001b[38;2;0;0;0;48;2;138;204;192m   \u001b[38;2;0;0;0;48;2;102;176;163m   \u001b[38;2;0;0;0;48;2;138;204;192m   \u001b[38;2;0;0;0;48;2;102;176;163m   \u001b[38;2;0;0;0;48;2;138;204;192m   \u001b[0m\n",
      "\u001b[38;2;0;0;0;48;2;138;204;192m   \u001b[38;2;0;0;0;48;2;102;176;163m   \u001b[38;2;255;255;136;48;2;138;204;192m k \u001b[38;2;0;0;0;48;2;102;176;163m   \u001b[38;2;0;0;0;48;2;138;204;192m   \u001b[38;2;0;0;0;48;2;102;176;163m   \u001b[38;2;0;0;0;48;2;138;204;192m   \u001b[38;2;0;0;0;48;2;102;176;163m   \u001b[0m\n",
      "\u001b[38;2;0;0;0;48;2;102;176;163m q \u001b[38;2;0;0;0;48;2;138;204;192m   \u001b[38;2;0;0;0;48;2;102;176;163m   \u001b[38;2;0;0;0;48;2;138;204;192m   \u001b[38;2;0;0;0;48;2;102;176;163m   \u001b[38;2;0;0;0;48;2;138;204;192m   \u001b[38;2;0;0;0;48;2;102;176;163m   \u001b[38;2;0;0;0;48;2;138;204;192m   \u001b[0m\n",
      "8/4k3/8/4p3/8/2B5/2K5/q7 b - -\n",
      "-665\n",
      "\n",
      "-----------------------\n",
      "Move(d3d2)\n",
      "\u001b[38;2;0;0;0;48;2;138;204;192m   \u001b[38;2;0;0;0;48;2;102;176;163m   \u001b[38;2;0;0;0;48;2;138;204;192m   \u001b[38;2;0;0;0;48;2;102;176;163m   \u001b[38;2;0;0;0;48;2;138;204;192m   \u001b[38;2;0;0;0;48;2;102;176;163m   \u001b[38;2;0;0;0;48;2;138;204;192m   \u001b[38;2;0;0;0;48;2;102;176;163m   \u001b[0m\n",
      "\u001b[38;2;0;0;0;48;2;102;176;163m   \u001b[38;2;0;0;0;48;2;138;204;192m   \u001b[38;2;0;0;0;48;2;102;176;163m   \u001b[38;2;0;0;0;48;2;138;204;192m   \u001b[38;2;0;0;0;48;2;102;176;163m k \u001b[38;2;0;0;0;48;2;138;204;192m   \u001b[38;2;0;0;0;48;2;102;176;163m   \u001b[38;2;0;0;0;48;2;138;204;192m   \u001b[0m\n",
      "\u001b[38;2;0;0;0;48;2;138;204;192m   \u001b[38;2;0;0;0;48;2;102;176;163m   \u001b[38;2;0;0;0;48;2;138;204;192m   \u001b[38;2;0;0;0;48;2;102;176;163m   \u001b[38;2;0;0;0;48;2;138;204;192m   \u001b[38;2;0;0;0;48;2;102;176;163m   \u001b[38;2;0;0;0;48;2;138;204;192m   \u001b[38;2;0;0;0;48;2;102;176;163m   \u001b[0m\n",
      "\u001b[38;2;0;0;0;48;2;102;176;163m   \u001b[38;2;0;0;0;48;2;138;204;192m   \u001b[38;2;0;0;0;48;2;102;176;163m   \u001b[38;2;0;0;0;48;2;138;204;192m   \u001b[38;2;0;0;0;48;2;102;176;163m p \u001b[38;2;0;0;0;48;2;138;204;192m   \u001b[38;2;0;0;0;48;2;102;176;163m   \u001b[38;2;0;0;0;48;2;138;204;192m   \u001b[0m\n",
      "\u001b[38;2;0;0;0;48;2;138;204;192m   \u001b[38;2;0;0;0;48;2;102;176;163m   \u001b[38;2;0;0;0;48;2;138;204;192m   \u001b[38;2;0;0;0;48;2;102;176;163m   \u001b[38;2;0;0;0;48;2;138;204;192m   \u001b[38;2;0;0;0;48;2;102;176;163m   \u001b[38;2;0;0;0;48;2;138;204;192m   \u001b[38;2;0;0;0;48;2;102;176;163m   \u001b[0m\n",
      "\u001b[38;2;0;0;0;48;2;102;176;163m   \u001b[38;2;0;0;0;48;2;138;204;192m   \u001b[38;2;255;255;136;48;2;102;176;163m b \u001b[38;2;0;0;0;48;2;138;204;192m   \u001b[38;2;0;0;0;48;2;102;176;163m   \u001b[38;2;0;0;0;48;2;138;204;192m   \u001b[38;2;0;0;0;48;2;102;176;163m   \u001b[38;2;0;0;0;48;2;138;204;192m   \u001b[0m\n",
      "\u001b[38;2;0;0;0;48;2;138;204;192m   \u001b[38;2;0;0;0;48;2;102;176;163m   \u001b[38;2;0;0;0;48;2;138;204;192m   \u001b[38;2;255;255;136;48;2;102;176;163m k \u001b[38;2;0;0;0;48;2;138;204;192m   \u001b[38;2;0;0;0;48;2;102;176;163m   \u001b[38;2;0;0;0;48;2;138;204;192m   \u001b[38;2;0;0;0;48;2;102;176;163m   \u001b[0m\n",
      "\u001b[38;2;0;0;0;48;2;102;176;163m q \u001b[38;2;0;0;0;48;2;138;204;192m   \u001b[38;2;0;0;0;48;2;102;176;163m   \u001b[38;2;0;0;0;48;2;138;204;192m   \u001b[38;2;0;0;0;48;2;102;176;163m   \u001b[38;2;0;0;0;48;2;138;204;192m   \u001b[38;2;0;0;0;48;2;102;176;163m   \u001b[38;2;0;0;0;48;2;138;204;192m   \u001b[0m\n",
      "8/4k3/8/4p3/8/2B5/3K4/q7 b - -\n",
      "-665\n"
     ]
    },
    {
     "name": "stdout",
     "output_type": "stream",
     "text": [
      "\n",
      "-----------------------\n",
      "Move(d3e4)\n",
      "\u001b[38;2;0;0;0;48;2;138;204;192m   \u001b[38;2;0;0;0;48;2;102;176;163m   \u001b[38;2;0;0;0;48;2;138;204;192m   \u001b[38;2;0;0;0;48;2;102;176;163m   \u001b[38;2;0;0;0;48;2;138;204;192m   \u001b[38;2;0;0;0;48;2;102;176;163m   \u001b[38;2;0;0;0;48;2;138;204;192m   \u001b[38;2;0;0;0;48;2;102;176;163m   \u001b[0m\n",
      "\u001b[38;2;0;0;0;48;2;102;176;163m   \u001b[38;2;0;0;0;48;2;138;204;192m   \u001b[38;2;0;0;0;48;2;102;176;163m   \u001b[38;2;0;0;0;48;2;138;204;192m   \u001b[38;2;0;0;0;48;2;102;176;163m k \u001b[38;2;0;0;0;48;2;138;204;192m   \u001b[38;2;0;0;0;48;2;102;176;163m   \u001b[38;2;0;0;0;48;2;138;204;192m   \u001b[0m\n",
      "\u001b[38;2;0;0;0;48;2;138;204;192m   \u001b[38;2;0;0;0;48;2;102;176;163m   \u001b[38;2;0;0;0;48;2;138;204;192m   \u001b[38;2;0;0;0;48;2;102;176;163m   \u001b[38;2;0;0;0;48;2;138;204;192m   \u001b[38;2;0;0;0;48;2;102;176;163m   \u001b[38;2;0;0;0;48;2;138;204;192m   \u001b[38;2;0;0;0;48;2;102;176;163m   \u001b[0m\n",
      "\u001b[38;2;0;0;0;48;2;102;176;163m   \u001b[38;2;0;0;0;48;2;138;204;192m   \u001b[38;2;0;0;0;48;2;102;176;163m   \u001b[38;2;0;0;0;48;2;138;204;192m   \u001b[38;2;0;0;0;48;2;102;176;163m p \u001b[38;2;0;0;0;48;2;138;204;192m   \u001b[38;2;0;0;0;48;2;102;176;163m   \u001b[38;2;0;0;0;48;2;138;204;192m   \u001b[0m\n",
      "\u001b[38;2;0;0;0;48;2;138;204;192m   \u001b[38;2;0;0;0;48;2;102;176;163m   \u001b[38;2;0;0;0;48;2;138;204;192m   \u001b[38;2;0;0;0;48;2;102;176;163m   \u001b[38;2;255;255;136;48;2;138;204;192m k \u001b[38;2;0;0;0;48;2;102;176;163m   \u001b[38;2;0;0;0;48;2;138;204;192m   \u001b[38;2;0;0;0;48;2;102;176;163m   \u001b[0m\n",
      "\u001b[38;2;0;0;0;48;2;102;176;163m   \u001b[38;2;0;0;0;48;2;138;204;192m   \u001b[38;2;255;255;136;48;2;102;176;163m b \u001b[38;2;0;0;0;48;2;138;204;192m   \u001b[38;2;0;0;0;48;2;102;176;163m   \u001b[38;2;0;0;0;48;2;138;204;192m   \u001b[38;2;0;0;0;48;2;102;176;163m   \u001b[38;2;0;0;0;48;2;138;204;192m   \u001b[0m\n",
      "\u001b[38;2;0;0;0;48;2;138;204;192m   \u001b[38;2;0;0;0;48;2;102;176;163m   \u001b[38;2;0;0;0;48;2;138;204;192m   \u001b[38;2;0;0;0;48;2;102;176;163m   \u001b[38;2;0;0;0;48;2;138;204;192m   \u001b[38;2;0;0;0;48;2;102;176;163m   \u001b[38;2;0;0;0;48;2;138;204;192m   \u001b[38;2;0;0;0;48;2;102;176;163m   \u001b[0m\n",
      "\u001b[38;2;0;0;0;48;2;102;176;163m q \u001b[38;2;0;0;0;48;2;138;204;192m   \u001b[38;2;0;0;0;48;2;102;176;163m   \u001b[38;2;0;0;0;48;2;138;204;192m   \u001b[38;2;0;0;0;48;2;102;176;163m   \u001b[38;2;0;0;0;48;2;138;204;192m   \u001b[38;2;0;0;0;48;2;102;176;163m   \u001b[38;2;0;0;0;48;2;138;204;192m   \u001b[0m\n",
      "8/4k3/8/4p3/4K3/2B5/8/q7 b - -\n",
      "-1065\n",
      "\n",
      "-----------------------\n",
      "Move(d3e3)\n",
      "\u001b[38;2;0;0;0;48;2;138;204;192m   \u001b[38;2;0;0;0;48;2;102;176;163m   \u001b[38;2;0;0;0;48;2;138;204;192m   \u001b[38;2;0;0;0;48;2;102;176;163m   \u001b[38;2;0;0;0;48;2;138;204;192m   \u001b[38;2;0;0;0;48;2;102;176;163m   \u001b[38;2;0;0;0;48;2;138;204;192m   \u001b[38;2;0;0;0;48;2;102;176;163m   \u001b[0m\n",
      "\u001b[38;2;0;0;0;48;2;102;176;163m   \u001b[38;2;0;0;0;48;2;138;204;192m   \u001b[38;2;0;0;0;48;2;102;176;163m   \u001b[38;2;0;0;0;48;2;138;204;192m   \u001b[38;2;0;0;0;48;2;102;176;163m k \u001b[38;2;0;0;0;48;2;138;204;192m   \u001b[38;2;0;0;0;48;2;102;176;163m   \u001b[38;2;0;0;0;48;2;138;204;192m   \u001b[0m\n",
      "\u001b[38;2;0;0;0;48;2;138;204;192m   \u001b[38;2;0;0;0;48;2;102;176;163m   \u001b[38;2;0;0;0;48;2;138;204;192m   \u001b[38;2;0;0;0;48;2;102;176;163m   \u001b[38;2;0;0;0;48;2;138;204;192m   \u001b[38;2;0;0;0;48;2;102;176;163m   \u001b[38;2;0;0;0;48;2;138;204;192m   \u001b[38;2;0;0;0;48;2;102;176;163m   \u001b[0m\n",
      "\u001b[38;2;0;0;0;48;2;102;176;163m   \u001b[38;2;0;0;0;48;2;138;204;192m   \u001b[38;2;0;0;0;48;2;102;176;163m   \u001b[38;2;0;0;0;48;2;138;204;192m   \u001b[38;2;0;0;0;48;2;102;176;163m p \u001b[38;2;0;0;0;48;2;138;204;192m   \u001b[38;2;0;0;0;48;2;102;176;163m   \u001b[38;2;0;0;0;48;2;138;204;192m   \u001b[0m\n",
      "\u001b[38;2;0;0;0;48;2;138;204;192m   \u001b[38;2;0;0;0;48;2;102;176;163m   \u001b[38;2;0;0;0;48;2;138;204;192m   \u001b[38;2;0;0;0;48;2;102;176;163m   \u001b[38;2;0;0;0;48;2;138;204;192m   \u001b[38;2;0;0;0;48;2;102;176;163m   \u001b[38;2;0;0;0;48;2;138;204;192m   \u001b[38;2;0;0;0;48;2;102;176;163m   \u001b[0m\n",
      "\u001b[38;2;0;0;0;48;2;102;176;163m   \u001b[38;2;0;0;0;48;2;138;204;192m   \u001b[38;2;255;255;136;48;2;102;176;163m b \u001b[38;2;0;0;0;48;2;138;204;192m   \u001b[38;2;255;255;136;48;2;102;176;163m k \u001b[38;2;0;0;0;48;2;138;204;192m   \u001b[38;2;0;0;0;48;2;102;176;163m   \u001b[38;2;0;0;0;48;2;138;204;192m   \u001b[0m\n",
      "\u001b[38;2;0;0;0;48;2;138;204;192m   \u001b[38;2;0;0;0;48;2;102;176;163m   \u001b[38;2;0;0;0;48;2;138;204;192m   \u001b[38;2;0;0;0;48;2;102;176;163m   \u001b[38;2;0;0;0;48;2;138;204;192m   \u001b[38;2;0;0;0;48;2;102;176;163m   \u001b[38;2;0;0;0;48;2;138;204;192m   \u001b[38;2;0;0;0;48;2;102;176;163m   \u001b[0m\n",
      "\u001b[38;2;0;0;0;48;2;102;176;163m q \u001b[38;2;0;0;0;48;2;138;204;192m   \u001b[38;2;0;0;0;48;2;102;176;163m   \u001b[38;2;0;0;0;48;2;138;204;192m   \u001b[38;2;0;0;0;48;2;102;176;163m   \u001b[38;2;0;0;0;48;2;138;204;192m   \u001b[38;2;0;0;0;48;2;102;176;163m   \u001b[38;2;0;0;0;48;2;138;204;192m   \u001b[0m\n",
      "8/4k3/8/4p3/8/2B1K3/8/q7 b - -\n",
      "-1005\n",
      "\n",
      "-----------------------\n",
      "Move(d3e2)\n",
      "\u001b[38;2;0;0;0;48;2;138;204;192m   \u001b[38;2;0;0;0;48;2;102;176;163m   \u001b[38;2;0;0;0;48;2;138;204;192m   \u001b[38;2;0;0;0;48;2;102;176;163m   \u001b[38;2;0;0;0;48;2;138;204;192m   \u001b[38;2;0;0;0;48;2;102;176;163m   \u001b[38;2;0;0;0;48;2;138;204;192m   \u001b[38;2;0;0;0;48;2;102;176;163m   \u001b[0m\n",
      "\u001b[38;2;0;0;0;48;2;102;176;163m   \u001b[38;2;0;0;0;48;2;138;204;192m   \u001b[38;2;0;0;0;48;2;102;176;163m   \u001b[38;2;0;0;0;48;2;138;204;192m   \u001b[38;2;0;0;0;48;2;102;176;163m k \u001b[38;2;0;0;0;48;2;138;204;192m   \u001b[38;2;0;0;0;48;2;102;176;163m   \u001b[38;2;0;0;0;48;2;138;204;192m   \u001b[0m\n",
      "\u001b[38;2;0;0;0;48;2;138;204;192m   \u001b[38;2;0;0;0;48;2;102;176;163m   \u001b[38;2;0;0;0;48;2;138;204;192m   \u001b[38;2;0;0;0;48;2;102;176;163m   \u001b[38;2;0;0;0;48;2;138;204;192m   \u001b[38;2;0;0;0;48;2;102;176;163m   \u001b[38;2;0;0;0;48;2;138;204;192m   \u001b[38;2;0;0;0;48;2;102;176;163m   \u001b[0m\n",
      "\u001b[38;2;0;0;0;48;2;102;176;163m   \u001b[38;2;0;0;0;48;2;138;204;192m   \u001b[38;2;0;0;0;48;2;102;176;163m   \u001b[38;2;0;0;0;48;2;138;204;192m   \u001b[38;2;0;0;0;48;2;102;176;163m p \u001b[38;2;0;0;0;48;2;138;204;192m   \u001b[38;2;0;0;0;48;2;102;176;163m   \u001b[38;2;0;0;0;48;2;138;204;192m   \u001b[0m\n",
      "\u001b[38;2;0;0;0;48;2;138;204;192m   \u001b[38;2;0;0;0;48;2;102;176;163m   \u001b[38;2;0;0;0;48;2;138;204;192m   \u001b[38;2;0;0;0;48;2;102;176;163m   \u001b[38;2;0;0;0;48;2;138;204;192m   \u001b[38;2;0;0;0;48;2;102;176;163m   \u001b[38;2;0;0;0;48;2;138;204;192m   \u001b[38;2;0;0;0;48;2;102;176;163m   \u001b[0m\n",
      "\u001b[38;2;0;0;0;48;2;102;176;163m   \u001b[38;2;0;0;0;48;2;138;204;192m   \u001b[38;2;255;255;136;48;2;102;176;163m b \u001b[38;2;0;0;0;48;2;138;204;192m   \u001b[38;2;0;0;0;48;2;102;176;163m   \u001b[38;2;0;0;0;48;2;138;204;192m   \u001b[38;2;0;0;0;48;2;102;176;163m   \u001b[38;2;0;0;0;48;2;138;204;192m   \u001b[0m\n",
      "\u001b[38;2;0;0;0;48;2;138;204;192m   \u001b[38;2;0;0;0;48;2;102;176;163m   \u001b[38;2;0;0;0;48;2;138;204;192m   \u001b[38;2;0;0;0;48;2;102;176;163m   \u001b[38;2;255;255;136;48;2;138;204;192m k \u001b[38;2;0;0;0;48;2;102;176;163m   \u001b[38;2;0;0;0;48;2;138;204;192m   \u001b[38;2;0;0;0;48;2;102;176;163m   \u001b[0m\n",
      "\u001b[38;2;0;0;0;48;2;102;176;163m q \u001b[38;2;0;0;0;48;2;138;204;192m   \u001b[38;2;0;0;0;48;2;102;176;163m   \u001b[38;2;0;0;0;48;2;138;204;192m   \u001b[38;2;0;0;0;48;2;102;176;163m   \u001b[38;2;0;0;0;48;2;138;204;192m   \u001b[38;2;0;0;0;48;2;102;176;163m   \u001b[38;2;0;0;0;48;2;138;204;192m   \u001b[0m\n",
      "8/4k3/8/4p3/8/2B5/4K3/q7 b - -\n",
      "-1005\n",
      "\n",
      "(190, Move(c3a1)) 27.497222 seconds (68.85 M allocations: 3.090 GiB, 1.26% gc time)\n"
     ]
    }
   ],
   "source": [
    "b = fromfen(\"8/4k3/8/4p3/8/2BK4/8/q7 w - - 0 1\")\n",
    "current_board_value = evaluate_position(b)\n",
    "println(current_board_value)\n",
    "@time begin\n",
    "    best_move = minimax_verbal(b, current_board_value, 3)\n",
    "    print(best_move)\n",
    "end"
   ]
  },
  {
   "cell_type": "code",
   "execution_count": null,
   "metadata": {},
   "outputs": [],
   "source": []
  }
 ],
 "metadata": {
  "kernelspec": {
   "display_name": "Julia 1.8.2",
   "language": "julia",
   "name": "julia-1.8"
  },
  "language_info": {
   "file_extension": ".jl",
   "mimetype": "application/julia",
   "name": "julia",
   "version": "1.8.2"
  }
 },
 "nbformat": 4,
 "nbformat_minor": 4
}
