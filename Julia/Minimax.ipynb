{
 "cells": [
  {
   "cell_type": "code",
   "execution_count": 1,
   "metadata": {},
   "outputs": [
    {
     "data": {
      "text/html": [
       "<link href='http://fonts.googleapis.com/css?family=Alegreya+Sans:100,300,400,500,700,800,900,100italic,300italic,400italic,500italic,700italic,800italic,900italic' rel='stylesheet' type='text/css'>\r\n",
       "<link href='http://fonts.googleapis.com/css?family=Arvo:400,700,400italic' rel='stylesheet' type='text/css'>\r\n",
       "<link href='http://fonts.googleapis.com/css?family=PT+Mono' rel='stylesheet' type='text/css'>\r\n",
       "<link href='http://fonts.googleapis.com/css?family=Shadows+Into+Light' rel='stylesheet' type='text/css'>\r\n",
       "<link href='http://fonts.googleapis.com/css?family=Philosopher:400,700,400italic,700italic' rel='stylesheet' type='text/css'>\r\n",
       "\r\n",
       "<style>\r\n",
       "\r\n",
       "@font-face {\r\n",
       "    font-family: \"Computer Modern\";\r\n",
       "    src: url('http://mirrors.ctan.org/fonts/cm-unicode/fonts/otf/cmunss.otf');\r\n",
       "}\r\n",
       "\r\n",
       ".container { width: 100% }\r\n",
       "\r\n",
       "/* Formatting for header cells */\r\n",
       ".text_cell_render h1 {\r\n",
       "    font-family: 'Philosopher', sans-serif;\r\n",
       "    font-weight: 400;\r\n",
       "    font-size: 2.2em;\r\n",
       "    line-height: 100%;\r\n",
       "    color: rgb(0, 80, 120);\r\n",
       "    margin-bottom: 0.1em;\r\n",
       "    margin-top: 0.1em;\r\n",
       "    display: block;\r\n",
       "}\t\r\n",
       ".text_cell_render h2 {\r\n",
       "    font-family: 'Philosopher', serif;\r\n",
       "    font-weight: 400;\r\n",
       "    font-size: 1.9em;\r\n",
       "    line-height: 100%;\r\n",
       "    color: rgb(200,100,0);\r\n",
       "    margin-bottom: 0.1em;\r\n",
       "    margin-top: 0.1em;\r\n",
       "    display: block;\r\n",
       "}\t\r\n",
       "\r\n",
       ".text_cell_render h3 {\r\n",
       "    font-family: 'Philosopher', serif;\r\n",
       "    margin-top:12px;\r\n",
       "    margin-bottom: 3px;\r\n",
       "    font-style: italic;\r\n",
       "    color: rgb(94,127,192);\r\n",
       "}\r\n",
       "\r\n",
       ".text_cell_render h4 {\r\n",
       "    font-family: 'Philosopher', serif;\r\n",
       "}\r\n",
       "\r\n",
       ".text_cell_render h5 {\r\n",
       "    font-family: 'Alegreya Sans', sans-serif;\r\n",
       "    font-weight: 300;\r\n",
       "    font-size: 16pt;\r\n",
       "    color: grey;\r\n",
       "    font-style: italic;\r\n",
       "    margin-bottom: .1em;\r\n",
       "    margin-top: 0.1em;\r\n",
       "    display: block;\r\n",
       "}\r\n",
       "\r\n",
       ".text_cell_render h6 {\r\n",
       "    font-family: 'PT Mono', sans-serif;\r\n",
       "    font-weight: 300;\r\n",
       "    font-size: 10pt;\r\n",
       "    color: grey;\r\n",
       "    margin-bottom: 1px;\r\n",
       "    margin-top: 1px;\r\n",
       "}\r\n",
       "\r\n",
       ".text_cell_render em {\r\n",
       "    font-family: 'Philosopher', sans-serif;\r\n",
       "    color:        blue;\r\n",
       "    background-color: rgb(255,220,180);\r\n",
       "    font-size:    110%;\r\n",
       "    margin-left:   2px;\r\n",
       "    margin-right:  2px;\r\n",
       "    font-weight:   100;\r\n",
       "}\r\n",
       "\r\n",
       ".text_cell_render b {\r\n",
       "    color:            rgb(255,195,195);\r\n",
       "    background-color: rgb(0,0,0);\r\n",
       "    font-size:    110%;\r\n",
       "    margin-left:   2px;\r\n",
       "    margin-right:  2px;\r\n",
       "    font-weight:   650;\r\n",
       "}\r\n",
       "\r\n",
       ".text_cell_render tt {\r\n",
       "    font-size:    120%;\r\n",
       "    margin-left:   2px;\r\n",
       "    margin-right:  2px;\r\n",
       "    font-weight:   150;\r\n",
       "}\r\n",
       "\r\n",
       ".Codemirror {\r\n",
       "    font-family: \"PT Mono\";\r\n",
       "    font-size: 100%;\r\n",
       "}\r\n",
       "\r\n",
       "</style>\r\n",
       "\r\n"
      ],
      "text/plain": [
       "HTML{String}(\"<link href='http://fonts.googleapis.com/css?family=Alegreya+Sans:100,300,400,500,700,800,900,100italic,300italic,400italic,500italic,700italic,800italic,900italic' rel='stylesheet' type='text/css'>\\r\\n<link href='http://fonts.googleapis.com/css?family=Arvo:400,700,400italic' rel='stylesheet' type='text/css'>\\r\\n<link href='http://fonts.googleapis.com/css?family=PT+Mono' rel='stylesheet' type='text/css'>\\r\\n<link href='http://fonts.googleapis.com/css?family=Shadows+Into+Light' rel='stylesheet' type='text/css'>\\r\\n<link href='http://fonts.googleapis.com/css?family=Philosopher:400,700,400italic,700italic' rel='stylesheet' type='text/css'>\\r\\n\\r\\n<style>\\r\\n\\r\\n@font-face {\\r\\n    font-family: \\\"Computer Modern\\\";\\r\\n    src: url('http://mirrors.ctan.org/fonts/cm-unicode/fonts/otf/cmunss.otf');\\r\\n}\\r\\n\\r\\n.container { width: 100% }\\r\\n\\r\\n/* Formatting for header cells */\\r\\n.text_cell_render h1 {\\r\\n    font-family: 'Philosopher', sans-serif;\\r\\n    font-weight: 400;\\r\\n    font-size: 2.2em;\\r\\n    line-height: 100%;\\r\\n    color: rgb(0, 80, 120);\\r\\n    margin-bottom: 0.1em;\\r\\n    margin-top: 0.1em;\\r\\n    display: block;\\r\\n}\\t\\r\\n.text_cell_render h2 {\\r\\n    font-family: 'Philosopher', serif;\\r\\n    font-weight: 400;\\r\\n    font-size: 1.9em;\\r\\n    line-height: 100%;\\r\\n    color: rgb(200,100,0);\\r\\n    margin-bottom: 0.1em;\\r\\n    margin-top: 0.1em;\\r\\n    display: block;\\r\\n}\\t\\r\\n\\r\\n.text_cell_render h3 {\\r\\n    font-family: 'Philosopher', serif;\\r\\n    margin-top:12px;\\r\\n    margin-bottom: 3px;\\r\\n    font-style: italic;\\r\\n    color: rgb(94,127,192);\\r\\n}\\r\\n\\r\\n.text_cell_render h4 {\\r\\n    font-family: 'Philosopher', serif;\\r\\n}\\r\\n\\r\\n.text_cell_render h5 {\\r\\n    font-family: 'Alegreya Sans', sans-serif;\\r\\n    font-weight: 300;\\r\\n    font-size: 16pt;\\r\\n    color: grey;\\r\\n    font-style: italic;\\r\\n    margin-bottom: .1em;\\r\\n    margin-top: 0.1em;\\r\\n    display: block;\\r\\n}\\r\\n\\r\\n.text_cell_render h6 {\\r\\n    font-family: 'PT Mono', sans-serif;\\r\\n    font-weight: 300;\\r\\n    font-size: 10pt;\\r\\n    color: grey;\\r\\n    margin-bottom: 1px;\\r\\n    margin-top: 1px;\\r\\n}\\r\\n\\r\\n.text_cell_render em {\\r\\n    font-family: 'Philosopher', sans-serif;\\r\\n    color:        blue;\\r\\n    background-color: rgb(255,220,180);\\r\\n    font-size:    110%;\\r\\n    margin-left:   2px;\\r\\n    margin-right:  2px;\\r\\n    font-weight:   100;\\r\\n}\\r\\n\\r\\n.text_cell_render b {\\r\\n    color:            rgb(255,195,195);\\r\\n    background-color: rgb(0,0,0);\\r\\n    font-size:    110%;\\r\\n    margin-left:   2px;\\r\\n    margin-right:  2px;\\r\\n    font-weight:   650;\\r\\n}\\r\\n\\r\\n.text_cell_render tt {\\r\\n    font-size:    120%;\\r\\n    margin-left:   2px;\\r\\n    margin-right:  2px;\\r\\n    font-weight:   150;\\r\\n}\\r\\n\\r\\n.Codemirror {\\r\\n    font-family: \\\"PT Mono\\\";\\r\\n    font-size: 100%;\\r\\n}\\r\\n\\r\\n</style>\\r\\n\\r\\n\")"
      ]
     },
     "execution_count": 1,
     "metadata": {},
     "output_type": "execute_result"
    }
   ],
   "source": [
    "HTML(read(open(\"style.css\"), String))"
   ]
  },
  {
   "cell_type": "markdown",
   "metadata": {},
   "source": [
    "# Minimax\n",
    "A program to play a game of chess using the Minimax algorithm. The Minimax algorithm calculates all different possibilities of the current position and chooses the best move. It assumes that all players try to play the best possible moves. From whites perspective white chooses the best move of blacks best moves. We have to limit the amout of moves that minimax will go into the future due to the huge amount of possibilities that chess has. Therefore we stop the minimax algorithm at a certain depth.  "
   ]
  },
  {
   "cell_type": "code",
   "execution_count": 2,
   "metadata": {},
   "outputs": [],
   "source": [
    "using Pkg\n",
    "# Pkg.add(\"Chess\")\n",
    "using Chess\n",
    "using Random\n",
    "\n",
    "# Pkg.add(\"NBInclude\")\n",
    "using NBInclude"
   ]
  },
  {
   "cell_type": "code",
   "execution_count": 3,
   "metadata": {},
   "outputs": [
    {
     "name": "stdout",
     "output_type": "stream",
     "text": [
      "keine Figur vorhandenSubCapture"
     ]
    },
    {
     "data": {
      "text/plain": [
       "100000"
      ]
     },
     "execution_count": 3,
     "metadata": {},
     "output_type": "execute_result"
    }
   ],
   "source": [
    "@nbinclude(\"EvaluatePosition.ipynb\")"
   ]
  },
  {
   "cell_type": "code",
   "execution_count": 4,
   "metadata": {},
   "outputs": [
    {
     "data": {
      "text/plain": [
       "Dict{Any, Any}()"
      ]
     },
     "execution_count": 4,
     "metadata": {},
     "output_type": "execute_result"
    }
   ],
   "source": [
    "gCacheMaxVal = Dict()"
   ]
  },
  {
   "cell_type": "code",
   "execution_count": 5,
   "metadata": {},
   "outputs": [
    {
     "data": {
      "text/plain": [
       "Dict{Any, Any}()"
      ]
     },
     "execution_count": 5,
     "metadata": {},
     "output_type": "execute_result"
    }
   ],
   "source": [
    "gCacheMinVal = Dict()"
   ]
  },
  {
   "cell_type": "markdown",
   "metadata": {},
   "source": [
    "## MaxValue-function\n",
    "This function looks for the maximum value that white can achieve from a position. Meanwhile black tries to minimize the value of the position. Therefore white will take the maximal value of the minimum value of the next move that can happen.\n",
    "\n",
    "Note: The depth is subtracted to give a better/worse rating to evaluate short mating paths as a petter path. (if there is a Mate in 3 (M3) and M1 Path then choose the M1 Path)"
   ]
  },
  {
   "cell_type": "markdown",
   "metadata": {},
   "source": [
    "`maxValue(State::Board, depth::Int64)` is the non-incremental implementation of the maxValue function. It takes in the current board and the depth it should calculate and returns the best score it can achieve."
   ]
  },
  {
   "cell_type": "code",
   "execution_count": 6,
   "metadata": {},
   "outputs": [
    {
     "data": {
      "text/plain": [
       "maxValue (generic function with 1 method)"
      ]
     },
     "execution_count": 6,
     "metadata": {},
     "output_type": "execute_result"
    }
   ],
   "source": [
    "function maxValue(State::Board, depth::Int64)\n",
    "    if isterminal(State) || depth == 0\n",
    "        return evaluate_position(State) - depth\n",
    "    end\n",
    "    return maximum([ minValue(domove(State, ns), depth-1) for ns in moves(State) ])\n",
    "end"
   ]
  },
  {
   "cell_type": "markdown",
   "metadata": {},
   "source": [
    "`maxValue(State::Board, score, depth::Int64)` is the incremental implementation of the maxValue function. It takes in the current board, the current score of the board and the depth it should calculates and returns the best score it can achieve."
   ]
  },
  {
   "cell_type": "code",
   "execution_count": 7,
   "metadata": {},
   "outputs": [
    {
     "data": {
      "text/plain": [
       "maxValue (generic function with 2 methods)"
      ]
     },
     "execution_count": 7,
     "metadata": {},
     "output_type": "execute_result"
    }
   ],
   "source": [
    "function maxValue(State::Board, score::Int64, depth::Int64)\n",
    "    if isterminal(State) \n",
    "        return terminal_evaluation(State) - depth\n",
    "    elseif depth <= 1\n",
    "        return maximum([ evaluate_move(State, move, score) for move in moves(State) ])\n",
    "    end\n",
    "    return maximum([ minValue(domove(State, move), evaluate_move(State, move, score), depth-1) for move in moves(State) ])\n",
    "end"
   ]
  },
  {
   "cell_type": "markdown",
   "metadata": {},
   "source": [
    "### with Memoization"
   ]
  },
  {
   "cell_type": "markdown",
   "metadata": {},
   "source": [
    "This function is the same maxValue function above. Additionally it will save the calculated score in a global Cache. It will retrieve the value if it has already been calculated. It therefore must already be in the cache."
   ]
  },
  {
   "cell_type": "code",
   "execution_count": 8,
   "metadata": {},
   "outputs": [
    {
     "data": {
      "text/plain": [
       "maxValue (generic function with 2 methods)"
      ]
     },
     "execution_count": 8,
     "metadata": {},
     "output_type": "execute_result"
    }
   ],
   "source": [
    "function maxValue(State::Board, score::Int64, depth::Int64)\n",
    "    # Memoization\n",
    "    global gCacheMaxVal\n",
    "    entry = (State, score, depth)\n",
    "    if entry in keys(gCacheMaxVal)\n",
    "        return gCacheMaxVal[entry]\n",
    "    end\n",
    "    # maxValue Calculation\n",
    "    # run old minValue result = minValue(State, score, depth)\n",
    "    if isterminal(State) \n",
    "        result = terminal_evaluation(State) - depth\n",
    "    elseif depth <= 1\n",
    "        result = maximum([ evaluate_move(State, move, score) for move in moves(State) ])\n",
    "    else\n",
    "        result = maximum([ minValue(domove(State, move), evaluate_move(State, move, score), depth-1) for move in moves(State) ])\n",
    "    end\n",
    "    # Save in Cache\n",
    "    merge!(gCacheMaxVal, Dict(entry => result))\n",
    "    result\n",
    "end"
   ]
  },
  {
   "cell_type": "markdown",
   "metadata": {},
   "source": [
    "## MinValue-function\n",
    "MinValue does the opposite of the MaxValue function. Therefore it looks for the minimum value that black can achieve from a position. Meanwhile white tries to maximize the value of the position. Therefore black will take the minimal value of the maximum value of the next move that can happen."
   ]
  },
  {
   "cell_type": "code",
   "execution_count": 9,
   "metadata": {},
   "outputs": [
    {
     "data": {
      "text/plain": [
       "minValue (generic function with 1 method)"
      ]
     },
     "execution_count": 9,
     "metadata": {},
     "output_type": "execute_result"
    }
   ],
   "source": [
    "function minValue(State::Board, depth::Int64)\n",
    "    if isterminal(State) || depth == 0\n",
    "      return evaluate_position(State) + depth\n",
    "    end\n",
    "    return minimum([ maxValue(domove(State, ns), depth-1) for ns in moves(State) ])\n",
    "end"
   ]
  },
  {
   "cell_type": "code",
   "execution_count": 10,
   "metadata": {},
   "outputs": [
    {
     "data": {
      "text/plain": [
       "minValue (generic function with 2 methods)"
      ]
     },
     "execution_count": 10,
     "metadata": {},
     "output_type": "execute_result"
    }
   ],
   "source": [
    "function minValue(State::Board, score::Int64, depth::Int64)\n",
    "    if isterminal(State) \n",
    "        return terminal_evaluation(State) + depth\n",
    "    elseif depth <= 1\n",
    "        return minimum([ evaluate_move(State, move, score) for move in moves(State) ])\n",
    "    end\n",
    "    return minimum([ maxValue(domove(State, move), evaluate_move(State, move, score), depth-1) for move in moves(State) ])\n",
    "end"
   ]
  },
  {
   "cell_type": "markdown",
   "metadata": {},
   "source": [
    "### with Memoization"
   ]
  },
  {
   "cell_type": "code",
   "execution_count": 11,
   "metadata": {},
   "outputs": [
    {
     "data": {
      "text/plain": [
       "minValue (generic function with 2 methods)"
      ]
     },
     "execution_count": 11,
     "metadata": {},
     "output_type": "execute_result"
    }
   ],
   "source": [
    "function minValue(State::Board, score::Int64, depth::Int64)\n",
    "    # Memoization\n",
    "    global gCacheMinVal\n",
    "    entry = (State, score, depth)\n",
    "    if entry in keys(gCacheMinVal)\n",
    "        return gCacheMinVal[entry]\n",
    "    end\n",
    "    # maxValue Calculation\n",
    "    # run old minValue result = minValue(State, score, depth)\n",
    "    if isterminal(State) \n",
    "        result = terminal_evaluation(State) - depth\n",
    "    elseif depth <= 1\n",
    "        result = minimum([ evaluate_move(State, move, score) for move in moves(State) ])\n",
    "    else\n",
    "        result = minimum([ maxValue(domove(State, move), evaluate_move(State, move, score), depth-1) for move in moves(State) ])\n",
    "    end\n",
    "    # Save in Cache\n",
    "    merge!(gCacheMinVal, Dict(entry => result))\n",
    "    result\n",
    "end"
   ]
  },
  {
   "cell_type": "code",
   "execution_count": 12,
   "metadata": {
    "scrolled": true
   },
   "outputs": [
    {
     "data": {
      "text/html": [
       "# 2 methods for generic function <b>minValue</b>:<ul><li> minValue(State::<b>Board</b>, depth::<b>Int64</b>) in Main at In[9]:1</li> <li> minValue(State::<b>Board</b>, score::<b>Int64</b>, depth::<b>Int64</b>) in Main at In[11]:1</li> </ul>"
      ],
      "text/plain": [
       "# 2 methods for generic function \"minValue\":\n",
       "[1] minValue(State::Board, depth::Int64) in Main at In[9]:1\n",
       "[2] minValue(State::Board, score::Int64, depth::Int64) in Main at In[11]:1"
      ]
     },
     "execution_count": 12,
     "metadata": {},
     "output_type": "execute_result"
    }
   ],
   "source": [
    "methods(minValue)"
   ]
  },
  {
   "cell_type": "code",
   "execution_count": 13,
   "metadata": {},
   "outputs": [
    {
     "data": {
      "text/html": [
       "# 2 methods for generic function <b>maxValue</b>:<ul><li> maxValue(State::<b>Board</b>, depth::<b>Int64</b>) in Main at In[6]:1</li> <li> maxValue(State::<b>Board</b>, score::<b>Int64</b>, depth::<b>Int64</b>) in Main at In[8]:1</li> </ul>"
      ],
      "text/plain": [
       "# 2 methods for generic function \"maxValue\":\n",
       "[1] maxValue(State::Board, depth::Int64) in Main at In[6]:1\n",
       "[2] maxValue(State::Board, score::Int64, depth::Int64) in Main at In[8]:1"
      ]
     },
     "execution_count": 13,
     "metadata": {},
     "output_type": "execute_result"
    }
   ],
   "source": [
    "methods(maxValue)"
   ]
  },
  {
   "cell_type": "code",
   "execution_count": null,
   "metadata": {},
   "outputs": [],
   "source": [
    "b = fromfen(\"4k3/8/8/4p3/8/2BK4/8/q7 w - - 0 1\")\n",
    "minValue(b, 3)"
   ]
  },
  {
   "cell_type": "code",
   "execution_count": 14,
   "metadata": {},
   "outputs": [
    {
     "data": {
      "text/plain": [
       "-710"
      ]
     },
     "execution_count": 14,
     "metadata": {},
     "output_type": "execute_result"
    }
   ],
   "source": [
    "b = fromfen(\"4k3/8/8/4p3/8/2BK4/8/q7 w - - 0 1\")\n",
    "minValue(b, evaluate_position(b), 3)"
   ]
  },
  {
   "cell_type": "code",
   "execution_count": 16,
   "metadata": {},
   "outputs": [
    {
     "data": {
      "text/plain": [
       "Dict{Any, Any} with 289 entries:\n",
       "  (Board (4k3/q7/8/4p3/8/2B5/2K5/8 w - -):…                             => -700\n",
       "  (Board (8/5k2/8/B3p3/8/3K4/8/q7 w - -):…                              => -720\n",
       "  (Board (4k3/8/8/8/4p3/2B5/4K3/q7 w - -):…                             => -695\n",
       "  (Board (4k3/8/8/4p3/8/3K4/3B4/2q5 w - -):…                            => -720\n",
       "  (Board (4k3/8/8/4p3/8/2B5/2K5/6q1 w - -):…                            => -700\n",
       "  (Board (q3k3/8/8/4p3/8/2B5/3K4/8 w - -):…                             => -690\n",
       "  (Board (4k3/8/8/4p3/8/3K4/8/4q3 w - -):…                              => -1045\n",
       "  (Board (4k3/8/8/4p3/8/2B5/3K4/2q5 w - -):…                            => -690\n",
       "  (Board (3k4/8/8/4p3/3B4/3K4/8/q7 w - -):…                             => -700\n",
       "  (Board (3k4/8/8/4p3/8/3K4/1B6/q7 w - -):…                             => -705\n",
       "  (Board (4k3/8/8/4p3/8/2B5/3K4/1q6 w - -):…                            => -700\n",
       "  (Board (4k3/8/8/4p3/8/q2K4/1B6/8 w - -):…                             => -715\n",
       "  (Board (4k3/8/8/8/4p3/3K4/8/B7 w - -):…                               => 0\n",
       "  (Board (4k3/8/8/4p3/8/3K4/1q6/4B3 w - -):…                            => -740\n",
       "  (Board (4k3/8/8/q3p3/8/3K4/3B4/8 w - -):…                             => -725\n",
       "  (Board (4k3/8/8/4p3/3B4/3K4/8/7q w - -):…                             => -710\n",
       "  (Board (4k3/8/q7/4p3/8/2B5/4K3/8 w - -):…                             => -690\n",
       "  (Board (4k3/8/8/q3p3/8/2B5/2K5/8 w - -):…                             => -705\n",
       "  (Board (4k3/8/8/q3p3/8/3K4/8/8 w - -):…                               => -1055\n",
       "  (Board (4k3/8/8/4p3/3B4/q2K4/8/8 w - -):…                             => -710\n",
       "  (Board (4k3/8/8/4B3/8/3K4/8/4q3 w - -):…                              => -605\n",
       "  (Board (4k3/8/8/B3p3/8/3K4/1q6/8 w - -):…                             => -740\n",
       "  (Board (4k3/8/8/4p3/2K5/2B5/8/3q4 w - -):…                            => -735\n",
       "  (Board (8/4k3/8/4p3/8/3K4/3B4/q7 w - -):…                             => -710\n",
       "  (Board (4k3/8/8/4p3/8/2B5/2K5/3q4 w - -):…                            => -655\n",
       "  ⋮                                                                     => ⋮"
      ]
     },
     "execution_count": 16,
     "metadata": {},
     "output_type": "execute_result"
    }
   ],
   "source": [
    "gCacheMinVal"
   ]
  },
  {
   "cell_type": "markdown",
   "metadata": {},
   "source": [
    "## Add Memoization"
   ]
  },
  {
   "cell_type": "code",
   "execution_count": null,
   "metadata": {},
   "outputs": [],
   "source": [
    "# @nbinclude(\"Memoization.ipynb\")"
   ]
  },
  {
   "cell_type": "markdown",
   "metadata": {},
   "source": [
    "Using `invoke` to overwrite the functions defined above. Q: https://discourse.julialang.org/t/overwriting-functions/404"
   ]
  },
  {
   "cell_type": "code",
   "execution_count": null,
   "metadata": {},
   "outputs": [],
   "source": [
    "# maxValue(State::Board, score::Int64, depth::Int64) = invoke(memoize(maxValue(State::Board, score::Int64, depth::Int64), Tuple{Board, Int64, Int64}, State, score, depth))"
   ]
  },
  {
   "cell_type": "code",
   "execution_count": null,
   "metadata": {},
   "outputs": [],
   "source": [
    "# minValue(State::Board, score::Int64, depth::Int64) = invoke(memoize(minValue(State::Board, score::Int64, depth::Int64), Tuple{Board, Int64, Int64}, State, score, depth))"
   ]
  },
  {
   "cell_type": "code",
   "execution_count": null,
   "metadata": {},
   "outputs": [],
   "source": [
    "# methods(maxValue)"
   ]
  },
  {
   "cell_type": "code",
   "execution_count": null,
   "metadata": {},
   "outputs": [],
   "source": [
    "# b = fromfen(\"k7/2K5/8/8/8/8/1R6/8 b - - 0 1\")\n",
    "# maxValue(b, 440, 5)"
   ]
  },
  {
   "cell_type": "markdown",
   "metadata": {},
   "source": [
    "## Minimax-function"
   ]
  },
  {
   "cell_type": "markdown",
   "metadata": {},
   "source": [
    "The `minimax` function takes in a board and returns the value and the board of the best move. It's depth must be set."
   ]
  },
  {
   "cell_type": "markdown",
   "metadata": {},
   "source": [
    "non-inkremental implementation"
   ]
  },
  {
   "cell_type": "code",
   "execution_count": 17,
   "metadata": {},
   "outputs": [
    {
     "data": {
      "text/plain": [
       "minimax (generic function with 1 method)"
      ]
     },
     "execution_count": 17,
     "metadata": {},
     "output_type": "execute_result"
    }
   ],
   "source": [
    "function minimax(State::Board, depth::Int64)\n",
    "    next_moves = moves(State)\n",
    "    if sidetomove(State) == WHITE\n",
    "        bestVal = maxValue(State, depth)\n",
    "        BestMoves = [move for move in next_moves if minValue(domove(State, move), depth-1) == bestVal]\n",
    "    elseif sidetomove(State) == BLACK\n",
    "        bestVal = minValue(State, depth)\n",
    "        BestMoves = [move for move in next_moves if maxValue(domove(State, move), depth-1) == bestVal]\n",
    "    end\n",
    "    BestMove = rand(BestMoves)\n",
    "    return bestVal, BestMove\n",
    "end"
   ]
  },
  {
   "cell_type": "markdown",
   "metadata": {},
   "source": [
    "The `minimax_verbal` function prints more information. "
   ]
  },
  {
   "cell_type": "code",
   "execution_count": 18,
   "metadata": {},
   "outputs": [
    {
     "data": {
      "text/plain": [
       "minimax (generic function with 2 methods)"
      ]
     },
     "execution_count": 18,
     "metadata": {},
     "output_type": "execute_result"
    }
   ],
   "source": [
    "function minimax(State::Board, score::Int64, depth::Int64)\n",
    "    next_moves = moves(State)\n",
    "    print(next_moves)\n",
    "    BestMoves = []\n",
    "    bestVal = 0\n",
    "    if sidetomove(State) == WHITE\n",
    "        bestVal = maxValue(State, score, depth)\n",
    "        BestMoves = [move for move in next_moves if minValue(domove(State, move), evaluate_move(State, move, score), depth-1) == bestVal]\n",
    "    elseif sidetomove(State) == BLACK\n",
    "        bestVal = minValue(State, score, depth)\n",
    "        BestMoves = [move for move in next_moves if maxValue(domove(State, move), evaluate_move(State, move, score), depth-1) == bestVal]\n",
    "    end\n",
    "    BestMove = rand(BestMoves)\n",
    "    return bestVal, BestMove\n",
    "end"
   ]
  },
  {
   "cell_type": "code",
   "execution_count": 19,
   "metadata": {},
   "outputs": [
    {
     "data": {
      "text/plain": [
       "minimax_verbal (generic function with 1 method)"
      ]
     },
     "execution_count": 19,
     "metadata": {},
     "output_type": "execute_result"
    }
   ],
   "source": [
    "function minimax_verbal(State::Board, score::Int64, depth::Int64)\n",
    "    next_moves = moves(State)\n",
    "    BestMoves = []\n",
    "    pprint(State, color = true)\n",
    "    if sidetomove(State) == WHITE\n",
    "        bestVal = maxValue(State, score, depth)\n",
    "        for move in next_moves\n",
    "            state_after_move = domove(State, move)\n",
    "            minVal = minValue(state_after_move, evaluate_move(State, move, score), depth-1)\n",
    "            println(\"-----------------------\")\n",
    "            println(move)\n",
    "            display(state_after_move)\n",
    "            println(minVal)\n",
    "            println()\n",
    "            if minVal == bestVal\n",
    "                append!(BestMoves,  [move])\n",
    "            end\n",
    "        end\n",
    "    elseif sidetomove(State) == BLACK\n",
    "        bestVal = minValue(State, score, depth)\n",
    "        for move in next_moves\n",
    "            state_after_move = domove(State, move)\n",
    "            maxVal = maxValue(state_after_move, evaluate_move(State, move, score), depth-1)\n",
    "            println(\"-----------------------\")\n",
    "            println(move)\n",
    "            display(state_after_move)\n",
    "            println(minVal)\n",
    "            println()\n",
    "            if minVal == bestVal\n",
    "                append!(BestMoves,  [move])\n",
    "            end\n",
    "        end\n",
    "    end\n",
    "    BestMove = rand(BestMoves)\n",
    "    return bestVal, BestMove\n",
    "end"
   ]
  },
  {
   "cell_type": "code",
   "execution_count": 20,
   "metadata": {
    "scrolled": true
   },
   "outputs": [
    {
     "data": {
      "text/plain": [
       "playMinimaxMove (generic function with 1 method)"
      ]
     },
     "execution_count": 20,
     "metadata": {},
     "output_type": "execute_result"
    }
   ],
   "source": [
    "function playMinimaxMove(game::Game, depth::Int64)\n",
    "    minimaxeval = minimax(board(game), depth)\n",
    "    domove!(game, minimaxeval[2])\n",
    "    return minimaxeval[1]\n",
    "end"
   ]
  },
  {
   "cell_type": "code",
   "execution_count": 21,
   "metadata": {},
   "outputs": [
    {
     "data": {
      "text/plain": [
       "playMinimaxMove (generic function with 2 methods)"
      ]
     },
     "execution_count": 21,
     "metadata": {},
     "output_type": "execute_result"
    }
   ],
   "source": [
    "function playMinimaxMove(game::Game, depth::Int64, score::Int64)\n",
    "    minimaxeval = minimax(board(game), score, depth)\n",
    "    domove!(game, minimaxeval[2])\n",
    "    return minimaxeval[1]\n",
    "end"
   ]
  },
  {
   "cell_type": "code",
   "execution_count": 22,
   "metadata": {},
   "outputs": [
    {
     "name": "stdout",
     "output_type": "stream",
     "text": [
      "440\n",
      "Move[Move(a8a7)](99999, Move(a8a7))  0.330165 seconds (520.85 k allocations: 31.052 MiB, 3.83% gc time, 71.56% compilation time)\n"
     ]
    }
   ],
   "source": [
    "b = fromfen(\"k7/2K5/8/8/8/8/1R6/8 b - - 0 1\")\n",
    "current_board_value = evaluate_position(b)\n",
    "println(current_board_value)\n",
    "@time begin\n",
    "    best_move = minimax(b, current_board_value, 5)\n",
    "    print(best_move)\n",
    "end"
   ]
  },
  {
   "cell_type": "code",
   "execution_count": 24,
   "metadata": {},
   "outputs": [
    {
     "data": {
      "text/plain": [
       "1654"
      ]
     },
     "execution_count": 24,
     "metadata": {},
     "output_type": "execute_result"
    }
   ],
   "source": [
    "length(gCacheMinVal)"
   ]
  },
  {
   "cell_type": "code",
   "execution_count": 25,
   "metadata": {},
   "outputs": [
    {
     "name": "stdout",
     "output_type": "stream",
     "text": [
      "-680\n",
      "(185, Move(c3a1))  0.277841 seconds (2.47 M allocations: 94.970 MiB, 7.76% gc time, 28.68% compilation time)\n"
     ]
    }
   ],
   "source": [
    "b = fromfen(\"8/4k3/8/4p3/8/2BK4/8/q7 w - - 0 1\")\n",
    "current_board_value = evaluate_position(b)\n",
    "println(current_board_value)\n",
    "@time begin\n",
    "    best_move = minimax(b, 3)\n",
    "    print(best_move)\n",
    "end"
   ]
  },
  {
   "cell_type": "code",
   "execution_count": 28,
   "metadata": {},
   "outputs": [
    {
     "name": "stdout",
     "output_type": "stream",
     "text": [
      "-680\n",
      "\u001b[38;2;0;0;0;48;2;138;204;192m   \u001b[38;2;0;0;0;48;2;102;176;163m   \u001b[38;2;0;0;0;48;2;138;204;192m   \u001b[38;2;0;0;0;48;2;102;176;163m   \u001b[38;2;0;0;0;48;2;138;204;192m   \u001b[38;2;0;0;0;48;2;102;176;163m   \u001b[38;2;0;0;0;48;2;138;204;192m   \u001b[38;2;0;0;0;48;2;102;176;163m   \u001b[0m\n",
      "\u001b[38;2;0;0;0;48;2;102;176;163m   \u001b[38;2;0;0;0;48;2;138;204;192m   \u001b[38;2;0;0;0;48;2;102;176;163m   \u001b[38;2;0;0;0;48;2;138;204;192m   \u001b[38;2;0;0;0;48;2;102;176;163m k \u001b[38;2;0;0;0;48;2;138;204;192m   \u001b[38;2;0;0;0;48;2;102;176;163m   \u001b[38;2;0;0;0;48;2;138;204;192m   \u001b[0m\n",
      "\u001b[38;2;0;0;0;48;2;138;204;192m   \u001b[38;2;0;0;0;48;2;102;176;163m   \u001b[38;2;0;0;0;48;2;138;204;192m   \u001b[38;2;0;0;0;48;2;102;176;163m   \u001b[38;2;0;0;0;48;2;138;204;192m   \u001b[38;2;0;0;0;48;2;102;176;163m   \u001b[38;2;0;0;0;48;2;138;204;192m   \u001b[38;2;0;0;0;48;2;102;176;163m   \u001b[0m\n",
      "\u001b[38;2;0;0;0;48;2;102;176;163m   \u001b[38;2;0;0;0;48;2;138;204;192m   \u001b[38;2;0;0;0;48;2;102;176;163m   \u001b[38;2;0;0;0;48;2;138;204;192m   \u001b[38;2;0;0;0;48;2;102;176;163m p \u001b[38;2;0;0;0;48;2;138;204;192m   \u001b[38;2;0;0;0;48;2;102;176;163m   \u001b[38;2;0;0;0;48;2;138;204;192m   \u001b[0m\n",
      "\u001b[38;2;0;0;0;48;2;138;204;192m   \u001b[38;2;0;0;0;48;2;102;176;163m   \u001b[38;2;0;0;0;48;2;138;204;192m   \u001b[38;2;0;0;0;48;2;102;176;163m   \u001b[38;2;0;0;0;48;2;138;204;192m   \u001b[38;2;0;0;0;48;2;102;176;163m   \u001b[38;2;0;0;0;48;2;138;204;192m   \u001b[38;2;0;0;0;48;2;102;176;163m   \u001b[0m\n",
      "\u001b[38;2;0;0;0;48;2;102;176;163m   \u001b[38;2;0;0;0;48;2;138;204;192m   \u001b[38;2;255;255;136;48;2;102;176;163m b \u001b[38;2;255;255;136;48;2;138;204;192m k \u001b[38;2;0;0;0;48;2;102;176;163m   \u001b[38;2;0;0;0;48;2;138;204;192m   \u001b[38;2;0;0;0;48;2;102;176;163m   \u001b[38;2;0;0;0;48;2;138;204;192m   \u001b[0m\n",
      "\u001b[38;2;0;0;0;48;2;138;204;192m   \u001b[38;2;0;0;0;48;2;102;176;163m   \u001b[38;2;0;0;0;48;2;138;204;192m   \u001b[38;2;0;0;0;48;2;102;176;163m   \u001b[38;2;0;0;0;48;2;138;204;192m   \u001b[38;2;0;0;0;48;2;102;176;163m   \u001b[38;2;0;0;0;48;2;138;204;192m   \u001b[38;2;0;0;0;48;2;102;176;163m   \u001b[0m\n",
      "\u001b[38;2;0;0;0;48;2;102;176;163m q \u001b[38;2;0;0;0;48;2;138;204;192m   \u001b[38;2;0;0;0;48;2;102;176;163m   \u001b[38;2;0;0;0;48;2;138;204;192m   \u001b[38;2;0;0;0;48;2;102;176;163m   \u001b[38;2;0;0;0;48;2;138;204;192m   \u001b[38;2;0;0;0;48;2;102;176;163m   \u001b[38;2;0;0;0;48;2;138;204;192m   \u001b[0m\n",
      "8/4k3/8/4p3/8/2BK4/8/q7 w - -\n",
      "-----------------------\n",
      "Move(c3a5)\n",
      "\u001b[38;2;0;0;0;48;2;138;204;192m   \u001b[38;2;0;0;0;48;2;102;176;163m   \u001b[38;2;0;0;0;48;2;138;204;192m   \u001b[38;2;0;0;0;48;2;102;176;163m   \u001b[38;2;0;0;0;48;2;138;204;192m   \u001b[38;2;0;0;0;48;2;102;176;163m   \u001b[38;2;0;0;0;48;2;138;204;192m   \u001b[38;2;0;0;0;48;2;102;176;163m   \u001b[0m\n",
      "\u001b[38;2;0;0;0;48;2;102;176;163m   \u001b[38;2;0;0;0;48;2;138;204;192m   \u001b[38;2;0;0;0;48;2;102;176;163m   \u001b[38;2;0;0;0;48;2;138;204;192m   \u001b[38;2;0;0;0;48;2;102;176;163m k \u001b[38;2;0;0;0;48;2;138;204;192m   \u001b[38;2;0;0;0;48;2;102;176;163m   \u001b[38;2;0;0;0;48;2;138;204;192m   \u001b[0m\n",
      "\u001b[38;2;0;0;0;48;2;138;204;192m   \u001b[38;2;0;0;0;48;2;102;176;163m   \u001b[38;2;0;0;0;48;2;138;204;192m   \u001b[38;2;0;0;0;48;2;102;176;163m   \u001b[38;2;0;0;0;48;2;138;204;192m   \u001b[38;2;0;0;0;48;2;102;176;163m   \u001b[38;2;0;0;0;48;2;138;204;192m   \u001b[38;2;0;0;0;48;2;102;176;163m   \u001b[0m\n",
      "\u001b[38;2;255;255;136;48;2;102;176;163m b \u001b[38;2;0;0;0;48;2;138;204;192m   \u001b[38;2;0;0;0;48;2;102;176;163m   \u001b[38;2;0;0;0;48;2;138;204;192m   \u001b[38;2;0;0;0;48;2;102;176;163m p \u001b[38;2;0;0;0;48;2;138;204;192m   \u001b[38;2;0;0;0;48;2;102;176;163m   \u001b[38;2;0;0;0;48;2;138;204;192m   \u001b[0m\n",
      "\u001b[38;2;0;0;0;48;2;138;204;192m   \u001b[38;2;0;0;0;48;2;102;176;163m   \u001b[38;2;0;0;0;48;2;138;204;192m   \u001b[38;2;0;0;0;48;2;102;176;163m   \u001b[38;2;0;0;0;48;2;138;204;192m   \u001b[38;2;0;0;0;48;2;102;176;163m   \u001b[38;2;0;0;0;48;2;138;204;192m   \u001b[38;2;0;0;0;48;2;102;176;163m   \u001b[0m\n",
      "\u001b[38;2;0;0;0;48;2;102;176;163m   \u001b[38;2;0;0;0;48;2;138;204;192m   \u001b[38;2;0;0;0;48;2;102;176;163m   \u001b[38;2;255;255;136;48;2;138;204;192m k \u001b[38;2;0;0;0;48;2;102;176;163m   \u001b[38;2;0;0;0;48;2;138;204;192m   \u001b[38;2;0;0;0;48;2;102;176;163m   \u001b[38;2;0;0;0;48;2;138;204;192m   \u001b[0m\n",
      "\u001b[38;2;0;0;0;48;2;138;204;192m   \u001b[38;2;0;0;0;48;2;102;176;163m   \u001b[38;2;0;0;0;48;2;138;204;192m   \u001b[38;2;0;0;0;48;2;102;176;163m   \u001b[38;2;0;0;0;48;2;138;204;192m   \u001b[38;2;0;0;0;48;2;102;176;163m   \u001b[38;2;0;0;0;48;2;138;204;192m   \u001b[38;2;0;0;0;48;2;102;176;163m   \u001b[0m\n",
      "\u001b[38;2;0;0;0;48;2;102;176;163m q \u001b[38;2;0;0;0;48;2;138;204;192m   \u001b[38;2;0;0;0;48;2;102;176;163m   \u001b[38;2;0;0;0;48;2;138;204;192m   \u001b[38;2;0;0;0;48;2;102;176;163m   \u001b[38;2;0;0;0;48;2;138;204;192m   \u001b[38;2;0;0;0;48;2;102;176;163m   \u001b[38;2;0;0;0;48;2;138;204;192m   \u001b[0m\n",
      "8/4k3/8/B3p3/8/3K4/8/q7 b - -\n",
      "-1010\n",
      "\n",
      "-----------------------\n",
      "Move(c3a1)\n",
      "\u001b[38;2;0;0;0;48;2;138;204;192m   \u001b[38;2;0;0;0;48;2;102;176;163m   \u001b[38;2;0;0;0;48;2;138;204;192m   \u001b[38;2;0;0;0;48;2;102;176;163m   \u001b[38;2;0;0;0;48;2;138;204;192m   \u001b[38;2;0;0;0;48;2;102;176;163m   \u001b[38;2;0;0;0;48;2;138;204;192m   \u001b[38;2;0;0;0;48;2;102;176;163m   \u001b[0m\n",
      "\u001b[38;2;0;0;0;48;2;102;176;163m   \u001b[38;2;0;0;0;48;2;138;204;192m   \u001b[38;2;0;0;0;48;2;102;176;163m   \u001b[38;2;0;0;0;48;2;138;204;192m   \u001b[38;2;0;0;0;48;2;102;176;163m k \u001b[38;2;0;0;0;48;2;138;204;192m   \u001b[38;2;0;0;0;48;2;102;176;163m   \u001b[38;2;0;0;0;48;2;138;204;192m   \u001b[0m\n",
      "\u001b[38;2;0;0;0;48;2;138;204;192m   \u001b[38;2;0;0;0;48;2;102;176;163m   \u001b[38;2;0;0;0;48;2;138;204;192m   \u001b[38;2;0;0;0;48;2;102;176;163m   \u001b[38;2;0;0;0;48;2;138;204;192m   \u001b[38;2;0;0;0;48;2;102;176;163m   \u001b[38;2;0;0;0;48;2;138;204;192m   \u001b[38;2;0;0;0;48;2;102;176;163m   \u001b[0m\n",
      "\u001b[38;2;0;0;0;48;2;102;176;163m   \u001b[38;2;0;0;0;48;2;138;204;192m   \u001b[38;2;0;0;0;48;2;102;176;163m   \u001b[38;2;0;0;0;48;2;138;204;192m   \u001b[38;2;0;0;0;48;2;102;176;163m p \u001b[38;2;0;0;0;48;2;138;204;192m   \u001b[38;2;0;0;0;48;2;102;176;163m   \u001b[38;2;0;0;0;48;2;138;204;192m   \u001b[0m\n",
      "\u001b[38;2;0;0;0;48;2;138;204;192m   \u001b[38;2;0;0;0;48;2;102;176;163m   \u001b[38;2;0;0;0;48;2;138;204;192m   \u001b[38;2;0;0;0;48;2;102;176;163m   \u001b[38;2;0;0;0;48;2;138;204;192m   \u001b[38;2;0;0;0;48;2;102;176;163m   \u001b[38;2;0;0;0;48;2;138;204;192m   \u001b[38;2;0;0;0;48;2;102;176;163m   \u001b[0m\n",
      "\u001b[38;2;0;0;0;48;2;102;176;163m   \u001b[38;2;0;0;0;48;2;138;204;192m   \u001b[38;2;0;0;0;48;2;102;176;163m   \u001b[38;2;255;255;136;48;2;138;204;192m k \u001b[38;2;0;0;0;48;2;102;176;163m   \u001b[38;2;0;0;0;48;2;138;204;192m   \u001b[38;2;0;0;0;48;2;102;176;163m   \u001b[38;2;0;0;0;48;2;138;204;192m   \u001b[0m\n",
      "\u001b[38;2;0;0;0;48;2;138;204;192m   \u001b[38;2;0;0;0;48;2;102;176;163m   \u001b[38;2;0;0;0;48;2;138;204;192m   \u001b[38;2;0;0;0;48;2;102;176;163m   \u001b[38;2;0;0;0;48;2;138;204;192m   \u001b[38;2;0;0;0;48;2;102;176;163m   \u001b[38;2;0;0;0;48;2;138;204;192m   \u001b[38;2;0;0;0;48;2;102;176;163m   \u001b[0m\n",
      "\u001b[38;2;255;255;136;48;2;102;176;163m b \u001b[38;2;0;0;0;48;2;138;204;192m   \u001b[38;2;0;0;0;48;2;102;176;163m   \u001b[38;2;0;0;0;48;2;138;204;192m   \u001b[38;2;0;0;0;48;2;102;176;163m   \u001b[38;2;0;0;0;48;2;138;204;192m   \u001b[38;2;0;0;0;48;2;102;176;163m   \u001b[38;2;0;0;0;48;2;138;204;192m   \u001b[0m\n",
      "8/4k3/8/4p3/8/3K4/8/B7 b - -\n",
      "190\n",
      "\n",
      "-----------------------\n",
      "Move(c3b4)\n",
      "\u001b[38;2;0;0;0;48;2;138;204;192m   \u001b[38;2;0;0;0;48;2;102;176;163m   \u001b[38;2;0;0;0;48;2;138;204;192m   \u001b[38;2;0;0;0;48;2;102;176;163m   \u001b[38;2;0;0;0;48;2;138;204;192m   \u001b[38;2;0;0;0;48;2;102;176;163m   \u001b[38;2;0;0;0;48;2;138;204;192m   \u001b[38;2;0;0;0;48;2;102;176;163m   \u001b[0m\n",
      "\u001b[38;2;0;0;0;48;2;102;176;163m   \u001b[38;2;0;0;0;48;2;138;204;192m   \u001b[38;2;0;0;0;48;2;102;176;163m   \u001b[38;2;0;0;0;48;2;138;204;192m   \u001b[38;2;0;0;0;48;2;102;176;163m k \u001b[38;2;0;0;0;48;2;138;204;192m   \u001b[38;2;0;0;0;48;2;102;176;163m   \u001b[38;2;0;0;0;48;2;138;204;192m   \u001b[0m\n",
      "\u001b[38;2;0;0;0;48;2;138;204;192m   \u001b[38;2;0;0;0;48;2;102;176;163m   \u001b[38;2;0;0;0;48;2;138;204;192m   \u001b[38;2;0;0;0;48;2;102;176;163m   \u001b[38;2;0;0;0;48;2;138;204;192m   \u001b[38;2;0;0;0;48;2;102;176;163m   \u001b[38;2;0;0;0;48;2;138;204;192m   \u001b[38;2;0;0;0;48;2;102;176;163m   \u001b[0m\n",
      "\u001b[38;2;0;0;0;48;2;102;176;163m   \u001b[38;2;0;0;0;48;2;138;204;192m   \u001b[38;2;0;0;0;48;2;102;176;163m   \u001b[38;2;0;0;0;48;2;138;204;192m   \u001b[38;2;0;0;0;48;2;102;176;163m p \u001b[38;2;0;0;0;48;2;138;204;192m   \u001b[38;2;0;0;0;48;2;102;176;163m   \u001b[38;2;0;0;0;48;2;138;204;192m   \u001b[0m\n",
      "\u001b[38;2;0;0;0;48;2;138;204;192m   \u001b[38;2;255;255;136;48;2;102;176;163m b \u001b[38;2;0;0;0;48;2;138;204;192m   \u001b[38;2;0;0;0;48;2;102;176;163m   \u001b[38;2;0;0;0;48;2;138;204;192m   \u001b[38;2;0;0;0;48;2;102;176;163m   \u001b[38;2;0;0;0;48;2;138;204;192m   \u001b[38;2;0;0;0;48;2;102;176;163m   \u001b[0m\n",
      "\u001b[38;2;0;0;0;48;2;102;176;163m   \u001b[38;2;0;0;0;48;2;138;204;192m   \u001b[38;2;0;0;0;48;2;102;176;163m   \u001b[38;2;255;255;136;48;2;138;204;192m k \u001b[38;2;0;0;0;48;2;102;176;163m   \u001b[38;2;0;0;0;48;2;138;204;192m   \u001b[38;2;0;0;0;48;2;102;176;163m   \u001b[38;2;0;0;0;48;2;138;204;192m   \u001b[0m\n",
      "\u001b[38;2;0;0;0;48;2;138;204;192m   \u001b[38;2;0;0;0;48;2;102;176;163m   \u001b[38;2;0;0;0;48;2;138;204;192m   \u001b[38;2;0;0;0;48;2;102;176;163m   \u001b[38;2;0;0;0;48;2;138;204;192m   \u001b[38;2;0;0;0;48;2;102;176;163m   \u001b[38;2;0;0;0;48;2;138;204;192m   \u001b[38;2;0;0;0;48;2;102;176;163m   \u001b[0m\n"
     ]
    },
    {
     "name": "stdout",
     "output_type": "stream",
     "text": [
      "\u001b[38;2;0;0;0;48;2;102;176;163m q \u001b[38;2;0;0;0;48;2;138;204;192m   \u001b[38;2;0;0;0;48;2;102;176;163m   \u001b[38;2;0;0;0;48;2;138;204;192m   \u001b[38;2;0;0;0;48;2;102;176;163m   \u001b[38;2;0;0;0;48;2;138;204;192m   \u001b[38;2;0;0;0;48;2;102;176;163m   \u001b[38;2;0;0;0;48;2;138;204;192m   \u001b[0m\n",
      "8/4k3/8/4p3/1B6/3K4/8/q7 b - -\n",
      "-690\n",
      "\n",
      "-----------------------\n",
      "Move(c3b2)\n",
      "\u001b[38;2;0;0;0;48;2;138;204;192m   \u001b[38;2;0;0;0;48;2;102;176;163m   \u001b[38;2;0;0;0;48;2;138;204;192m   \u001b[38;2;0;0;0;48;2;102;176;163m   \u001b[38;2;0;0;0;48;2;138;204;192m   \u001b[38;2;0;0;0;48;2;102;176;163m   \u001b[38;2;0;0;0;48;2;138;204;192m   \u001b[38;2;0;0;0;48;2;102;176;163m   \u001b[0m\n",
      "\u001b[38;2;0;0;0;48;2;102;176;163m   \u001b[38;2;0;0;0;48;2;138;204;192m   \u001b[38;2;0;0;0;48;2;102;176;163m   \u001b[38;2;0;0;0;48;2;138;204;192m   \u001b[38;2;0;0;0;48;2;102;176;163m k \u001b[38;2;0;0;0;48;2;138;204;192m   \u001b[38;2;0;0;0;48;2;102;176;163m   \u001b[38;2;0;0;0;48;2;138;204;192m   \u001b[0m\n",
      "\u001b[38;2;0;0;0;48;2;138;204;192m   \u001b[38;2;0;0;0;48;2;102;176;163m   \u001b[38;2;0;0;0;48;2;138;204;192m   \u001b[38;2;0;0;0;48;2;102;176;163m   \u001b[38;2;0;0;0;48;2;138;204;192m   \u001b[38;2;0;0;0;48;2;102;176;163m   \u001b[38;2;0;0;0;48;2;138;204;192m   \u001b[38;2;0;0;0;48;2;102;176;163m   \u001b[0m\n",
      "\u001b[38;2;0;0;0;48;2;102;176;163m   \u001b[38;2;0;0;0;48;2;138;204;192m   \u001b[38;2;0;0;0;48;2;102;176;163m   \u001b[38;2;0;0;0;48;2;138;204;192m   \u001b[38;2;0;0;0;48;2;102;176;163m p \u001b[38;2;0;0;0;48;2;138;204;192m   \u001b[38;2;0;0;0;48;2;102;176;163m   \u001b[38;2;0;0;0;48;2;138;204;192m   \u001b[0m\n",
      "\u001b[38;2;0;0;0;48;2;138;204;192m   \u001b[38;2;0;0;0;48;2;102;176;163m   \u001b[38;2;0;0;0;48;2;138;204;192m   \u001b[38;2;0;0;0;48;2;102;176;163m   \u001b[38;2;0;0;0;48;2;138;204;192m   \u001b[38;2;0;0;0;48;2;102;176;163m   \u001b[38;2;0;0;0;48;2;138;204;192m   \u001b[38;2;0;0;0;48;2;102;176;163m   \u001b[0m\n",
      "\u001b[38;2;0;0;0;48;2;102;176;163m   \u001b[38;2;0;0;0;48;2;138;204;192m   \u001b[38;2;0;0;0;48;2;102;176;163m   \u001b[38;2;255;255;136;48;2;138;204;192m k \u001b[38;2;0;0;0;48;2;102;176;163m   \u001b[38;2;0;0;0;48;2;138;204;192m   \u001b[38;2;0;0;0;48;2;102;176;163m   \u001b[38;2;0;0;0;48;2;138;204;192m   \u001b[0m\n",
      "\u001b[38;2;0;0;0;48;2;138;204;192m   \u001b[38;2;255;255;136;48;2;102;176;163m b \u001b[38;2;0;0;0;48;2;138;204;192m   \u001b[38;2;0;0;0;48;2;102;176;163m   \u001b[38;2;0;0;0;48;2;138;204;192m   \u001b[38;2;0;0;0;48;2;102;176;163m   \u001b[38;2;0;0;0;48;2;138;204;192m   \u001b[38;2;0;0;0;48;2;102;176;163m   \u001b[0m\n",
      "\u001b[38;2;0;0;0;48;2;102;176;163m q \u001b[38;2;0;0;0;48;2;138;204;192m   \u001b[38;2;0;0;0;48;2;102;176;163m   \u001b[38;2;0;0;0;48;2;138;204;192m   \u001b[38;2;0;0;0;48;2;102;176;163m   \u001b[38;2;0;0;0;48;2;138;204;192m   \u001b[38;2;0;0;0;48;2;102;176;163m   \u001b[38;2;0;0;0;48;2;138;204;192m   \u001b[0m\n",
      "8/4k3/8/4p3/8/3K4/1B6/q7 b - -\n",
      "-1050\n",
      "\n",
      "-----------------------\n",
      "Move(c3d4)\n",
      "\u001b[38;2;0;0;0;48;2;138;204;192m   \u001b[38;2;0;0;0;48;2;102;176;163m   \u001b[38;2;0;0;0;48;2;138;204;192m   \u001b[38;2;0;0;0;48;2;102;176;163m   \u001b[38;2;0;0;0;48;2;138;204;192m   \u001b[38;2;0;0;0;48;2;102;176;163m   \u001b[38;2;0;0;0;48;2;138;204;192m   \u001b[38;2;0;0;0;48;2;102;176;163m   \u001b[0m\n",
      "\u001b[38;2;0;0;0;48;2;102;176;163m   \u001b[38;2;0;0;0;48;2;138;204;192m   \u001b[38;2;0;0;0;48;2;102;176;163m   \u001b[38;2;0;0;0;48;2;138;204;192m   \u001b[38;2;0;0;0;48;2;102;176;163m k \u001b[38;2;0;0;0;48;2;138;204;192m   \u001b[38;2;0;0;0;48;2;102;176;163m   \u001b[38;2;0;0;0;48;2;138;204;192m   \u001b[0m\n",
      "\u001b[38;2;0;0;0;48;2;138;204;192m   \u001b[38;2;0;0;0;48;2;102;176;163m   \u001b[38;2;0;0;0;48;2;138;204;192m   \u001b[38;2;0;0;0;48;2;102;176;163m   \u001b[38;2;0;0;0;48;2;138;204;192m   \u001b[38;2;0;0;0;48;2;102;176;163m   \u001b[38;2;0;0;0;48;2;138;204;192m   \u001b[38;2;0;0;0;48;2;102;176;163m   \u001b[0m\n",
      "\u001b[38;2;0;0;0;48;2;102;176;163m   \u001b[38;2;0;0;0;48;2;138;204;192m   \u001b[38;2;0;0;0;48;2;102;176;163m   \u001b[38;2;0;0;0;48;2;138;204;192m   \u001b[38;2;0;0;0;48;2;102;176;163m p \u001b[38;2;0;0;0;48;2;138;204;192m   \u001b[38;2;0;0;0;48;2;102;176;163m   \u001b[38;2;0;0;0;48;2;138;204;192m   \u001b[0m\n",
      "\u001b[38;2;0;0;0;48;2;138;204;192m   \u001b[38;2;0;0;0;48;2;102;176;163m   \u001b[38;2;0;0;0;48;2;138;204;192m   \u001b[38;2;255;255;136;48;2;102;176;163m b \u001b[38;2;0;0;0;48;2;138;204;192m   \u001b[38;2;0;0;0;48;2;102;176;163m   \u001b[38;2;0;0;0;48;2;138;204;192m   \u001b[38;2;0;0;0;48;2;102;176;163m   \u001b[0m\n",
      "\u001b[38;2;0;0;0;48;2;102;176;163m   \u001b[38;2;0;0;0;48;2;138;204;192m   \u001b[38;2;0;0;0;48;2;102;176;163m   \u001b[38;2;255;255;136;48;2;138;204;192m k \u001b[38;2;0;0;0;48;2;102;176;163m   \u001b[38;2;0;0;0;48;2;138;204;192m   \u001b[38;2;0;0;0;48;2;102;176;163m   \u001b[38;2;0;0;0;48;2;138;204;192m   \u001b[0m\n",
      "\u001b[38;2;0;0;0;48;2;138;204;192m   \u001b[38;2;0;0;0;48;2;102;176;163m   \u001b[38;2;0;0;0;48;2;138;204;192m   \u001b[38;2;0;0;0;48;2;102;176;163m   \u001b[38;2;0;0;0;48;2;138;204;192m   \u001b[38;2;0;0;0;48;2;102;176;163m   \u001b[38;2;0;0;0;48;2;138;204;192m   \u001b[38;2;0;0;0;48;2;102;176;163m   \u001b[0m\n",
      "\u001b[38;2;0;0;0;48;2;102;176;163m q \u001b[38;2;0;0;0;48;2;138;204;192m   \u001b[38;2;0;0;0;48;2;102;176;163m   \u001b[38;2;0;0;0;48;2;138;204;192m   \u001b[38;2;0;0;0;48;2;102;176;163m   \u001b[38;2;0;0;0;48;2;138;204;192m   \u001b[38;2;0;0;0;48;2;102;176;163m   \u001b[38;2;0;0;0;48;2;138;204;192m   \u001b[0m\n",
      "8/4k3/8/4p3/3B4/3K4/8/q7 b - -\n",
      "-1025\n",
      "\n",
      "-----------------------\n",
      "Move(c3d2)\n",
      "\u001b[38;2;0;0;0;48;2;138;204;192m   \u001b[38;2;0;0;0;48;2;102;176;163m   \u001b[38;2;0;0;0;48;2;138;204;192m   \u001b[38;2;0;0;0;48;2;102;176;163m   \u001b[38;2;0;0;0;48;2;138;204;192m   \u001b[38;2;0;0;0;48;2;102;176;163m   \u001b[38;2;0;0;0;48;2;138;204;192m   \u001b[38;2;0;0;0;48;2;102;176;163m   \u001b[0m\n",
      "\u001b[38;2;0;0;0;48;2;102;176;163m   \u001b[38;2;0;0;0;48;2;138;204;192m   \u001b[38;2;0;0;0;48;2;102;176;163m   \u001b[38;2;0;0;0;48;2;138;204;192m   \u001b[38;2;0;0;0;48;2;102;176;163m k \u001b[38;2;0;0;0;48;2;138;204;192m   \u001b[38;2;0;0;0;48;2;102;176;163m   \u001b[38;2;0;0;0;48;2;138;204;192m   \u001b[0m\n",
      "\u001b[38;2;0;0;0;48;2;138;204;192m   \u001b[38;2;0;0;0;48;2;102;176;163m   \u001b[38;2;0;0;0;48;2;138;204;192m   \u001b[38;2;0;0;0;48;2;102;176;163m   \u001b[38;2;0;0;0;48;2;138;204;192m   \u001b[38;2;0;0;0;48;2;102;176;163m   \u001b[38;2;0;0;0;48;2;138;204;192m   \u001b[38;2;0;0;0;48;2;102;176;163m   \u001b[0m\n",
      "\u001b[38;2;0;0;0;48;2;102;176;163m   \u001b[38;2;0;0;0;48;2;138;204;192m   \u001b[38;2;0;0;0;48;2;102;176;163m   \u001b[38;2;0;0;0;48;2;138;204;192m   \u001b[38;2;0;0;0;48;2;102;176;163m p \u001b[38;2;0;0;0;48;2;138;204;192m   \u001b[38;2;0;0;0;48;2;102;176;163m   \u001b[38;2;0;0;0;48;2;138;204;192m   \u001b[0m\n",
      "\u001b[38;2;0;0;0;48;2;138;204;192m   \u001b[38;2;0;0;0;48;2;102;176;163m   \u001b[38;2;0;0;0;48;2;138;204;192m   \u001b[38;2;0;0;0;48;2;102;176;163m   \u001b[38;2;0;0;0;48;2;138;204;192m   \u001b[38;2;0;0;0;48;2;102;176;163m   \u001b[38;2;0;0;0;48;2;138;204;192m   \u001b[38;2;0;0;0;48;2;102;176;163m   \u001b[0m\n",
      "\u001b[38;2;0;0;0;48;2;102;176;163m   \u001b[38;2;0;0;0;48;2;138;204;192m   \u001b[38;2;0;0;0;48;2;102;176;163m   \u001b[38;2;255;255;136;48;2;138;204;192m k \u001b[38;2;0;0;0;48;2;102;176;163m   \u001b[38;2;0;0;0;48;2;138;204;192m   \u001b[38;2;0;0;0;48;2;102;176;163m   \u001b[38;2;0;0;0;48;2;138;204;192m   \u001b[0m\n",
      "\u001b[38;2;0;0;0;48;2;138;204;192m   \u001b[38;2;0;0;0;48;2;102;176;163m   \u001b[38;2;0;0;0;48;2;138;204;192m   \u001b[38;2;255;255;136;48;2;102;176;163m b \u001b[38;2;0;0;0;48;2;138;204;192m   \u001b[38;2;0;0;0;48;2;102;176;163m   \u001b[38;2;0;0;0;48;2;138;204;192m   \u001b[38;2;0;0;0;48;2;102;176;163m   \u001b[0m\n",
      "\u001b[38;2;0;0;0;48;2;102;176;163m q \u001b[38;2;0;0;0;48;2;138;204;192m   \u001b[38;2;0;0;0;48;2;102;176;163m   \u001b[38;2;0;0;0;48;2;138;204;192m   \u001b[38;2;0;0;0;48;2;102;176;163m   \u001b[38;2;0;0;0;48;2;138;204;192m   \u001b[38;2;0;0;0;48;2;102;176;163m   \u001b[38;2;0;0;0;48;2;138;204;192m   \u001b[0m\n",
      "8/4k3/8/4p3/8/3K4/3B4/q7 b - -\n",
      "-690\n",
      "\n",
      "-----------------------\n",
      "Move(c3e5)\n",
      "\u001b[38;2;0;0;0;48;2;138;204;192m   \u001b[38;2;0;0;0;48;2;102;176;163m   \u001b[38;2;0;0;0;48;2;138;204;192m   \u001b[38;2;0;0;0;48;2;102;176;163m   \u001b[38;2;0;0;0;48;2;138;204;192m   \u001b[38;2;0;0;0;48;2;102;176;163m   \u001b[38;2;0;0;0;48;2;138;204;192m   \u001b[38;2;0;0;0;48;2;102;176;163m   \u001b[0m\n",
      "\u001b[38;2;0;0;0;48;2;102;176;163m   \u001b[38;2;0;0;0;48;2;138;204;192m   \u001b[38;2;0;0;0;48;2;102;176;163m   \u001b[38;2;0;0;0;48;2;138;204;192m   \u001b[38;2;0;0;0;48;2;102;176;163m k \u001b[38;2;0;0;0;48;2;138;204;192m   \u001b[38;2;0;0;0;48;2;102;176;163m   \u001b[38;2;0;0;0;48;2;138;204;192m   \u001b[0m\n",
      "\u001b[38;2;0;0;0;48;2;138;204;192m   \u001b[38;2;0;0;0;48;2;102;176;163m   \u001b[38;2;0;0;0;48;2;138;204;192m   \u001b[38;2;0;0;0;48;2;102;176;163m   \u001b[38;2;0;0;0;48;2;138;204;192m   \u001b[38;2;0;0;0;48;2;102;176;163m   \u001b[38;2;0;0;0;48;2;138;204;192m   \u001b[38;2;0;0;0;48;2;102;176;163m   \u001b[0m\n",
      "\u001b[38;2;0;0;0;48;2;102;176;163m   \u001b[38;2;0;0;0;48;2;138;204;192m   \u001b[38;2;0;0;0;48;2;102;176;163m   \u001b[38;2;0;0;0;48;2;138;204;192m   \u001b[38;2;255;255;136;48;2;102;176;163m b \u001b[38;2;0;0;0;48;2;138;204;192m   \u001b[38;2;0;0;0;48;2;102;176;163m   \u001b[38;2;0;0;0;48;2;138;204;192m   \u001b[0m\n",
      "\u001b[38;2;0;0;0;48;2;138;204;192m   \u001b[38;2;0;0;0;48;2;102;176;163m   \u001b[38;2;0;0;0;48;2;138;204;192m   \u001b[38;2;0;0;0;48;2;102;176;163m   \u001b[38;2;0;0;0;48;2;138;204;192m   \u001b[38;2;0;0;0;48;2;102;176;163m   \u001b[38;2;0;0;0;48;2;138;204;192m   \u001b[38;2;0;0;0;48;2;102;176;163m   \u001b[0m\n",
      "\u001b[38;2;0;0;0;48;2;102;176;163m   \u001b[38;2;0;0;0;48;2;138;204;192m   \u001b[38;2;0;0;0;48;2;102;176;163m   \u001b[38;2;255;255;136;48;2;138;204;192m k \u001b[38;2;0;0;0;48;2;102;176;163m   \u001b[38;2;0;0;0;48;2;138;204;192m   \u001b[38;2;0;0;0;48;2;102;176;163m   \u001b[38;2;0;0;0;48;2;138;204;192m   \u001b[0m\n",
      "\u001b[38;2;0;0;0;48;2;138;204;192m   \u001b[38;2;0;0;0;48;2;102;176;163m   \u001b[38;2;0;0;0;48;2;138;204;192m   \u001b[38;2;0;0;0;48;2;102;176;163m   \u001b[38;2;0;0;0;48;2;138;204;192m   \u001b[38;2;0;0;0;48;2;102;176;163m   \u001b[38;2;0;0;0;48;2;138;204;192m   \u001b[38;2;0;0;0;48;2;102;176;163m   \u001b[0m\n",
      "\u001b[38;2;0;0;0;48;2;102;176;163m q \u001b[38;2;0;0;0;48;2;138;204;192m   \u001b[38;2;0;0;0;48;2;102;176;163m   \u001b[38;2;0;0;0;48;2;138;204;192m   \u001b[38;2;0;0;0;48;2;102;176;163m   \u001b[38;2;0;0;0;48;2;138;204;192m   \u001b[38;2;0;0;0;48;2;102;176;163m   \u001b[38;2;0;0;0;48;2;138;204;192m   \u001b[0m\n",
      "8/4k3/8/4B3/8/3K4/8/q7 b - -\n",
      "-890\n"
     ]
    },
    {
     "name": "stdout",
     "output_type": "stream",
     "text": [
      "\n",
      "-----------------------\n",
      "Move(c3e1)\n",
      "\u001b[38;2;0;0;0;48;2;138;204;192m   \u001b[38;2;0;0;0;48;2;102;176;163m   \u001b[38;2;0;0;0;48;2;138;204;192m   \u001b[38;2;0;0;0;48;2;102;176;163m   \u001b[38;2;0;0;0;48;2;138;204;192m   \u001b[38;2;0;0;0;48;2;102;176;163m   \u001b[38;2;0;0;0;48;2;138;204;192m   \u001b[38;2;0;0;0;48;2;102;176;163m   \u001b[0m\n",
      "\u001b[38;2;0;0;0;48;2;102;176;163m   \u001b[38;2;0;0;0;48;2;138;204;192m   \u001b[38;2;0;0;0;48;2;102;176;163m   \u001b[38;2;0;0;0;48;2;138;204;192m   \u001b[38;2;0;0;0;48;2;102;176;163m k \u001b[38;2;0;0;0;48;2;138;204;192m   \u001b[38;2;0;0;0;48;2;102;176;163m   \u001b[38;2;0;0;0;48;2;138;204;192m   \u001b[0m\n",
      "\u001b[38;2;0;0;0;48;2;138;204;192m   \u001b[38;2;0;0;0;48;2;102;176;163m   \u001b[38;2;0;0;0;48;2;138;204;192m   \u001b[38;2;0;0;0;48;2;102;176;163m   \u001b[38;2;0;0;0;48;2;138;204;192m   \u001b[38;2;0;0;0;48;2;102;176;163m   \u001b[38;2;0;0;0;48;2;138;204;192m   \u001b[38;2;0;0;0;48;2;102;176;163m   \u001b[0m\n",
      "\u001b[38;2;0;0;0;48;2;102;176;163m   \u001b[38;2;0;0;0;48;2;138;204;192m   \u001b[38;2;0;0;0;48;2;102;176;163m   \u001b[38;2;0;0;0;48;2;138;204;192m   \u001b[38;2;0;0;0;48;2;102;176;163m p \u001b[38;2;0;0;0;48;2;138;204;192m   \u001b[38;2;0;0;0;48;2;102;176;163m   \u001b[38;2;0;0;0;48;2;138;204;192m   \u001b[0m\n",
      "\u001b[38;2;0;0;0;48;2;138;204;192m   \u001b[38;2;0;0;0;48;2;102;176;163m   \u001b[38;2;0;0;0;48;2;138;204;192m   \u001b[38;2;0;0;0;48;2;102;176;163m   \u001b[38;2;0;0;0;48;2;138;204;192m   \u001b[38;2;0;0;0;48;2;102;176;163m   \u001b[38;2;0;0;0;48;2;138;204;192m   \u001b[38;2;0;0;0;48;2;102;176;163m   \u001b[0m\n",
      "\u001b[38;2;0;0;0;48;2;102;176;163m   \u001b[38;2;0;0;0;48;2;138;204;192m   \u001b[38;2;0;0;0;48;2;102;176;163m   \u001b[38;2;255;255;136;48;2;138;204;192m k \u001b[38;2;0;0;0;48;2;102;176;163m   \u001b[38;2;0;0;0;48;2;138;204;192m   \u001b[38;2;0;0;0;48;2;102;176;163m   \u001b[38;2;0;0;0;48;2;138;204;192m   \u001b[0m\n",
      "\u001b[38;2;0;0;0;48;2;138;204;192m   \u001b[38;2;0;0;0;48;2;102;176;163m   \u001b[38;2;0;0;0;48;2;138;204;192m   \u001b[38;2;0;0;0;48;2;102;176;163m   \u001b[38;2;0;0;0;48;2;138;204;192m   \u001b[38;2;0;0;0;48;2;102;176;163m   \u001b[38;2;0;0;0;48;2;138;204;192m   \u001b[38;2;0;0;0;48;2;102;176;163m   \u001b[0m\n",
      "\u001b[38;2;0;0;0;48;2;102;176;163m q \u001b[38;2;0;0;0;48;2;138;204;192m   \u001b[38;2;0;0;0;48;2;102;176;163m   \u001b[38;2;0;0;0;48;2;138;204;192m   \u001b[38;2;255;255;136;48;2;102;176;163m b \u001b[38;2;0;0;0;48;2;138;204;192m   \u001b[38;2;0;0;0;48;2;102;176;163m   \u001b[38;2;0;0;0;48;2;138;204;192m   \u001b[0m\n",
      "8/4k3/8/4p3/8/3K4/8/q3B3 b - -\n",
      "-1010\n",
      "\n",
      "-----------------------\n",
      "Move(d3c4)\n",
      "\u001b[38;2;0;0;0;48;2;138;204;192m   \u001b[38;2;0;0;0;48;2;102;176;163m   \u001b[38;2;0;0;0;48;2;138;204;192m   \u001b[38;2;0;0;0;48;2;102;176;163m   \u001b[38;2;0;0;0;48;2;138;204;192m   \u001b[38;2;0;0;0;48;2;102;176;163m   \u001b[38;2;0;0;0;48;2;138;204;192m   \u001b[38;2;0;0;0;48;2;102;176;163m   \u001b[0m\n",
      "\u001b[38;2;0;0;0;48;2;102;176;163m   \u001b[38;2;0;0;0;48;2;138;204;192m   \u001b[38;2;0;0;0;48;2;102;176;163m   \u001b[38;2;0;0;0;48;2;138;204;192m   \u001b[38;2;0;0;0;48;2;102;176;163m k \u001b[38;2;0;0;0;48;2;138;204;192m   \u001b[38;2;0;0;0;48;2;102;176;163m   \u001b[38;2;0;0;0;48;2;138;204;192m   \u001b[0m\n",
      "\u001b[38;2;0;0;0;48;2;138;204;192m   \u001b[38;2;0;0;0;48;2;102;176;163m   \u001b[38;2;0;0;0;48;2;138;204;192m   \u001b[38;2;0;0;0;48;2;102;176;163m   \u001b[38;2;0;0;0;48;2;138;204;192m   \u001b[38;2;0;0;0;48;2;102;176;163m   \u001b[38;2;0;0;0;48;2;138;204;192m   \u001b[38;2;0;0;0;48;2;102;176;163m   \u001b[0m\n",
      "\u001b[38;2;0;0;0;48;2;102;176;163m   \u001b[38;2;0;0;0;48;2;138;204;192m   \u001b[38;2;0;0;0;48;2;102;176;163m   \u001b[38;2;0;0;0;48;2;138;204;192m   \u001b[38;2;0;0;0;48;2;102;176;163m p \u001b[38;2;0;0;0;48;2;138;204;192m   \u001b[38;2;0;0;0;48;2;102;176;163m   \u001b[38;2;0;0;0;48;2;138;204;192m   \u001b[0m\n",
      "\u001b[38;2;0;0;0;48;2;138;204;192m   \u001b[38;2;0;0;0;48;2;102;176;163m   \u001b[38;2;255;255;136;48;2;138;204;192m k \u001b[38;2;0;0;0;48;2;102;176;163m   \u001b[38;2;0;0;0;48;2;138;204;192m   \u001b[38;2;0;0;0;48;2;102;176;163m   \u001b[38;2;0;0;0;48;2;138;204;192m   \u001b[38;2;0;0;0;48;2;102;176;163m   \u001b[0m\n",
      "\u001b[38;2;0;0;0;48;2;102;176;163m   \u001b[38;2;0;0;0;48;2;138;204;192m   \u001b[38;2;255;255;136;48;2;102;176;163m b \u001b[38;2;0;0;0;48;2;138;204;192m   \u001b[38;2;0;0;0;48;2;102;176;163m   \u001b[38;2;0;0;0;48;2;138;204;192m   \u001b[38;2;0;0;0;48;2;102;176;163m   \u001b[38;2;0;0;0;48;2;138;204;192m   \u001b[0m\n",
      "\u001b[38;2;0;0;0;48;2;138;204;192m   \u001b[38;2;0;0;0;48;2;102;176;163m   \u001b[38;2;0;0;0;48;2;138;204;192m   \u001b[38;2;0;0;0;48;2;102;176;163m   \u001b[38;2;0;0;0;48;2;138;204;192m   \u001b[38;2;0;0;0;48;2;102;176;163m   \u001b[38;2;0;0;0;48;2;138;204;192m   \u001b[38;2;0;0;0;48;2;102;176;163m   \u001b[0m\n",
      "\u001b[38;2;0;0;0;48;2;102;176;163m q \u001b[38;2;0;0;0;48;2;138;204;192m   \u001b[38;2;0;0;0;48;2;102;176;163m   \u001b[38;2;0;0;0;48;2;138;204;192m   \u001b[38;2;0;0;0;48;2;102;176;163m   \u001b[38;2;0;0;0;48;2;138;204;192m   \u001b[38;2;0;0;0;48;2;102;176;163m   \u001b[38;2;0;0;0;48;2;138;204;192m   \u001b[0m\n",
      "8/4k3/8/4p3/2K5/2B5/8/q7 b - -\n",
      "-695\n",
      "\n",
      "-----------------------\n",
      "Move(d3c2)\n",
      "\u001b[38;2;0;0;0;48;2;138;204;192m   \u001b[38;2;0;0;0;48;2;102;176;163m   \u001b[38;2;0;0;0;48;2;138;204;192m   \u001b[38;2;0;0;0;48;2;102;176;163m   \u001b[38;2;0;0;0;48;2;138;204;192m   \u001b[38;2;0;0;0;48;2;102;176;163m   \u001b[38;2;0;0;0;48;2;138;204;192m   \u001b[38;2;0;0;0;48;2;102;176;163m   \u001b[0m\n",
      "\u001b[38;2;0;0;0;48;2;102;176;163m   \u001b[38;2;0;0;0;48;2;138;204;192m   \u001b[38;2;0;0;0;48;2;102;176;163m   \u001b[38;2;0;0;0;48;2;138;204;192m   \u001b[38;2;0;0;0;48;2;102;176;163m k \u001b[38;2;0;0;0;48;2;138;204;192m   \u001b[38;2;0;0;0;48;2;102;176;163m   \u001b[38;2;0;0;0;48;2;138;204;192m   \u001b[0m\n",
      "\u001b[38;2;0;0;0;48;2;138;204;192m   \u001b[38;2;0;0;0;48;2;102;176;163m   \u001b[38;2;0;0;0;48;2;138;204;192m   \u001b[38;2;0;0;0;48;2;102;176;163m   \u001b[38;2;0;0;0;48;2;138;204;192m   \u001b[38;2;0;0;0;48;2;102;176;163m   \u001b[38;2;0;0;0;48;2;138;204;192m   \u001b[38;2;0;0;0;48;2;102;176;163m   \u001b[0m\n",
      "\u001b[38;2;0;0;0;48;2;102;176;163m   \u001b[38;2;0;0;0;48;2;138;204;192m   \u001b[38;2;0;0;0;48;2;102;176;163m   \u001b[38;2;0;0;0;48;2;138;204;192m   \u001b[38;2;0;0;0;48;2;102;176;163m p \u001b[38;2;0;0;0;48;2;138;204;192m   \u001b[38;2;0;0;0;48;2;102;176;163m   \u001b[38;2;0;0;0;48;2;138;204;192m   \u001b[0m\n",
      "\u001b[38;2;0;0;0;48;2;138;204;192m   \u001b[38;2;0;0;0;48;2;102;176;163m   \u001b[38;2;0;0;0;48;2;138;204;192m   \u001b[38;2;0;0;0;48;2;102;176;163m   \u001b[38;2;0;0;0;48;2;138;204;192m   \u001b[38;2;0;0;0;48;2;102;176;163m   \u001b[38;2;0;0;0;48;2;138;204;192m   \u001b[38;2;0;0;0;48;2;102;176;163m   \u001b[0m\n",
      "\u001b[38;2;0;0;0;48;2;102;176;163m   \u001b[38;2;0;0;0;48;2;138;204;192m   \u001b[38;2;255;255;136;48;2;102;176;163m b \u001b[38;2;0;0;0;48;2;138;204;192m   \u001b[38;2;0;0;0;48;2;102;176;163m   \u001b[38;2;0;0;0;48;2;138;204;192m   \u001b[38;2;0;0;0;48;2;102;176;163m   \u001b[38;2;0;0;0;48;2;138;204;192m   \u001b[0m\n",
      "\u001b[38;2;0;0;0;48;2;138;204;192m   \u001b[38;2;0;0;0;48;2;102;176;163m   \u001b[38;2;255;255;136;48;2;138;204;192m k \u001b[38;2;0;0;0;48;2;102;176;163m   \u001b[38;2;0;0;0;48;2;138;204;192m   \u001b[38;2;0;0;0;48;2;102;176;163m   \u001b[38;2;0;0;0;48;2;138;204;192m   \u001b[38;2;0;0;0;48;2;102;176;163m   \u001b[0m\n",
      "\u001b[38;2;0;0;0;48;2;102;176;163m q \u001b[38;2;0;0;0;48;2;138;204;192m   \u001b[38;2;0;0;0;48;2;102;176;163m   \u001b[38;2;0;0;0;48;2;138;204;192m   \u001b[38;2;0;0;0;48;2;102;176;163m   \u001b[38;2;0;0;0;48;2;138;204;192m   \u001b[38;2;0;0;0;48;2;102;176;163m   \u001b[38;2;0;0;0;48;2;138;204;192m   \u001b[0m\n",
      "8/4k3/8/4p3/8/2B5/2K5/q7 b - -\n",
      "-665\n",
      "\n",
      "-----------------------\n",
      "Move(d3d2)\n",
      "\u001b[38;2;0;0;0;48;2;138;204;192m   \u001b[38;2;0;0;0;48;2;102;176;163m   \u001b[38;2;0;0;0;48;2;138;204;192m   \u001b[38;2;0;0;0;48;2;102;176;163m   \u001b[38;2;0;0;0;48;2;138;204;192m   \u001b[38;2;0;0;0;48;2;102;176;163m   \u001b[38;2;0;0;0;48;2;138;204;192m   \u001b[38;2;0;0;0;48;2;102;176;163m   \u001b[0m\n",
      "\u001b[38;2;0;0;0;48;2;102;176;163m   \u001b[38;2;0;0;0;48;2;138;204;192m   \u001b[38;2;0;0;0;48;2;102;176;163m   \u001b[38;2;0;0;0;48;2;138;204;192m   \u001b[38;2;0;0;0;48;2;102;176;163m k \u001b[38;2;0;0;0;48;2;138;204;192m   \u001b[38;2;0;0;0;48;2;102;176;163m   \u001b[38;2;0;0;0;48;2;138;204;192m   \u001b[0m\n",
      "\u001b[38;2;0;0;0;48;2;138;204;192m   \u001b[38;2;0;0;0;48;2;102;176;163m   \u001b[38;2;0;0;0;48;2;138;204;192m   \u001b[38;2;0;0;0;48;2;102;176;163m   \u001b[38;2;0;0;0;48;2;138;204;192m   \u001b[38;2;0;0;0;48;2;102;176;163m   \u001b[38;2;0;0;0;48;2;138;204;192m   \u001b[38;2;0;0;0;48;2;102;176;163m   \u001b[0m\n",
      "\u001b[38;2;0;0;0;48;2;102;176;163m   \u001b[38;2;0;0;0;48;2;138;204;192m   \u001b[38;2;0;0;0;48;2;102;176;163m   \u001b[38;2;0;0;0;48;2;138;204;192m   \u001b[38;2;0;0;0;48;2;102;176;163m p \u001b[38;2;0;0;0;48;2;138;204;192m   \u001b[38;2;0;0;0;48;2;102;176;163m   \u001b[38;2;0;0;0;48;2;138;204;192m   \u001b[0m\n",
      "\u001b[38;2;0;0;0;48;2;138;204;192m   \u001b[38;2;0;0;0;48;2;102;176;163m   \u001b[38;2;0;0;0;48;2;138;204;192m   \u001b[38;2;0;0;0;48;2;102;176;163m   \u001b[38;2;0;0;0;48;2;138;204;192m   \u001b[38;2;0;0;0;48;2;102;176;163m   \u001b[38;2;0;0;0;48;2;138;204;192m   \u001b[38;2;0;0;0;48;2;102;176;163m   \u001b[0m\n",
      "\u001b[38;2;0;0;0;48;2;102;176;163m   \u001b[38;2;0;0;0;48;2;138;204;192m   \u001b[38;2;255;255;136;48;2;102;176;163m b \u001b[38;2;0;0;0;48;2;138;204;192m   \u001b[38;2;0;0;0;48;2;102;176;163m   \u001b[38;2;0;0;0;48;2;138;204;192m   \u001b[38;2;0;0;0;48;2;102;176;163m   \u001b[38;2;0;0;0;48;2;138;204;192m   \u001b[0m\n",
      "\u001b[38;2;0;0;0;48;2;138;204;192m   \u001b[38;2;0;0;0;48;2;102;176;163m   \u001b[38;2;0;0;0;48;2;138;204;192m   \u001b[38;2;255;255;136;48;2;102;176;163m k \u001b[38;2;0;0;0;48;2;138;204;192m   \u001b[38;2;0;0;0;48;2;102;176;163m   \u001b[38;2;0;0;0;48;2;138;204;192m   \u001b[38;2;0;0;0;48;2;102;176;163m   \u001b[0m\n",
      "\u001b[38;2;0;0;0;48;2;102;176;163m q \u001b[38;2;0;0;0;48;2;138;204;192m   \u001b[38;2;0;0;0;48;2;102;176;163m   \u001b[38;2;0;0;0;48;2;138;204;192m   \u001b[38;2;0;0;0;48;2;102;176;163m   \u001b[38;2;0;0;0;48;2;138;204;192m   \u001b[38;2;0;0;0;48;2;102;176;163m   \u001b[38;2;0;0;0;48;2;138;204;192m   \u001b[0m\n",
      "8/4k3/8/4p3/8/2B5/3K4/q7 b - -\n",
      "-665\n"
     ]
    },
    {
     "name": "stdout",
     "output_type": "stream",
     "text": [
      "\n",
      "-----------------------\n",
      "Move(d3e4)\n",
      "\u001b[38;2;0;0;0;48;2;138;204;192m   \u001b[38;2;0;0;0;48;2;102;176;163m   \u001b[38;2;0;0;0;48;2;138;204;192m   \u001b[38;2;0;0;0;48;2;102;176;163m   \u001b[38;2;0;0;0;48;2;138;204;192m   \u001b[38;2;0;0;0;48;2;102;176;163m   \u001b[38;2;0;0;0;48;2;138;204;192m   \u001b[38;2;0;0;0;48;2;102;176;163m   \u001b[0m\n",
      "\u001b[38;2;0;0;0;48;2;102;176;163m   \u001b[38;2;0;0;0;48;2;138;204;192m   \u001b[38;2;0;0;0;48;2;102;176;163m   \u001b[38;2;0;0;0;48;2;138;204;192m   \u001b[38;2;0;0;0;48;2;102;176;163m k \u001b[38;2;0;0;0;48;2;138;204;192m   \u001b[38;2;0;0;0;48;2;102;176;163m   \u001b[38;2;0;0;0;48;2;138;204;192m   \u001b[0m\n",
      "\u001b[38;2;0;0;0;48;2;138;204;192m   \u001b[38;2;0;0;0;48;2;102;176;163m   \u001b[38;2;0;0;0;48;2;138;204;192m   \u001b[38;2;0;0;0;48;2;102;176;163m   \u001b[38;2;0;0;0;48;2;138;204;192m   \u001b[38;2;0;0;0;48;2;102;176;163m   \u001b[38;2;0;0;0;48;2;138;204;192m   \u001b[38;2;0;0;0;48;2;102;176;163m   \u001b[0m\n",
      "\u001b[38;2;0;0;0;48;2;102;176;163m   \u001b[38;2;0;0;0;48;2;138;204;192m   \u001b[38;2;0;0;0;48;2;102;176;163m   \u001b[38;2;0;0;0;48;2;138;204;192m   \u001b[38;2;0;0;0;48;2;102;176;163m p \u001b[38;2;0;0;0;48;2;138;204;192m   \u001b[38;2;0;0;0;48;2;102;176;163m   \u001b[38;2;0;0;0;48;2;138;204;192m   \u001b[0m\n",
      "\u001b[38;2;0;0;0;48;2;138;204;192m   \u001b[38;2;0;0;0;48;2;102;176;163m   \u001b[38;2;0;0;0;48;2;138;204;192m   \u001b[38;2;0;0;0;48;2;102;176;163m   \u001b[38;2;255;255;136;48;2;138;204;192m k \u001b[38;2;0;0;0;48;2;102;176;163m   \u001b[38;2;0;0;0;48;2;138;204;192m   \u001b[38;2;0;0;0;48;2;102;176;163m   \u001b[0m\n",
      "\u001b[38;2;0;0;0;48;2;102;176;163m   \u001b[38;2;0;0;0;48;2;138;204;192m   \u001b[38;2;255;255;136;48;2;102;176;163m b \u001b[38;2;0;0;0;48;2;138;204;192m   \u001b[38;2;0;0;0;48;2;102;176;163m   \u001b[38;2;0;0;0;48;2;138;204;192m   \u001b[38;2;0;0;0;48;2;102;176;163m   \u001b[38;2;0;0;0;48;2;138;204;192m   \u001b[0m\n",
      "\u001b[38;2;0;0;0;48;2;138;204;192m   \u001b[38;2;0;0;0;48;2;102;176;163m   \u001b[38;2;0;0;0;48;2;138;204;192m   \u001b[38;2;0;0;0;48;2;102;176;163m   \u001b[38;2;0;0;0;48;2;138;204;192m   \u001b[38;2;0;0;0;48;2;102;176;163m   \u001b[38;2;0;0;0;48;2;138;204;192m   \u001b[38;2;0;0;0;48;2;102;176;163m   \u001b[0m\n",
      "\u001b[38;2;0;0;0;48;2;102;176;163m q \u001b[38;2;0;0;0;48;2;138;204;192m   \u001b[38;2;0;0;0;48;2;102;176;163m   \u001b[38;2;0;0;0;48;2;138;204;192m   \u001b[38;2;0;0;0;48;2;102;176;163m   \u001b[38;2;0;0;0;48;2;138;204;192m   \u001b[38;2;0;0;0;48;2;102;176;163m   \u001b[38;2;0;0;0;48;2;138;204;192m   \u001b[0m\n",
      "8/4k3/8/4p3/4K3/2B5/8/q7 b - -\n",
      "-1065\n",
      "\n",
      "-----------------------\n",
      "Move(d3e3)\n",
      "\u001b[38;2;0;0;0;48;2;138;204;192m   \u001b[38;2;0;0;0;48;2;102;176;163m   \u001b[38;2;0;0;0;48;2;138;204;192m   \u001b[38;2;0;0;0;48;2;102;176;163m   \u001b[38;2;0;0;0;48;2;138;204;192m   \u001b[38;2;0;0;0;48;2;102;176;163m   \u001b[38;2;0;0;0;48;2;138;204;192m   \u001b[38;2;0;0;0;48;2;102;176;163m   \u001b[0m\n",
      "\u001b[38;2;0;0;0;48;2;102;176;163m   \u001b[38;2;0;0;0;48;2;138;204;192m   \u001b[38;2;0;0;0;48;2;102;176;163m   \u001b[38;2;0;0;0;48;2;138;204;192m   \u001b[38;2;0;0;0;48;2;102;176;163m k \u001b[38;2;0;0;0;48;2;138;204;192m   \u001b[38;2;0;0;0;48;2;102;176;163m   \u001b[38;2;0;0;0;48;2;138;204;192m   \u001b[0m\n",
      "\u001b[38;2;0;0;0;48;2;138;204;192m   \u001b[38;2;0;0;0;48;2;102;176;163m   \u001b[38;2;0;0;0;48;2;138;204;192m   \u001b[38;2;0;0;0;48;2;102;176;163m   \u001b[38;2;0;0;0;48;2;138;204;192m   \u001b[38;2;0;0;0;48;2;102;176;163m   \u001b[38;2;0;0;0;48;2;138;204;192m   \u001b[38;2;0;0;0;48;2;102;176;163m   \u001b[0m\n",
      "\u001b[38;2;0;0;0;48;2;102;176;163m   \u001b[38;2;0;0;0;48;2;138;204;192m   \u001b[38;2;0;0;0;48;2;102;176;163m   \u001b[38;2;0;0;0;48;2;138;204;192m   \u001b[38;2;0;0;0;48;2;102;176;163m p \u001b[38;2;0;0;0;48;2;138;204;192m   \u001b[38;2;0;0;0;48;2;102;176;163m   \u001b[38;2;0;0;0;48;2;138;204;192m   \u001b[0m\n",
      "\u001b[38;2;0;0;0;48;2;138;204;192m   \u001b[38;2;0;0;0;48;2;102;176;163m   \u001b[38;2;0;0;0;48;2;138;204;192m   \u001b[38;2;0;0;0;48;2;102;176;163m   \u001b[38;2;0;0;0;48;2;138;204;192m   \u001b[38;2;0;0;0;48;2;102;176;163m   \u001b[38;2;0;0;0;48;2;138;204;192m   \u001b[38;2;0;0;0;48;2;102;176;163m   \u001b[0m\n",
      "\u001b[38;2;0;0;0;48;2;102;176;163m   \u001b[38;2;0;0;0;48;2;138;204;192m   \u001b[38;2;255;255;136;48;2;102;176;163m b \u001b[38;2;0;0;0;48;2;138;204;192m   \u001b[38;2;255;255;136;48;2;102;176;163m k \u001b[38;2;0;0;0;48;2;138;204;192m   \u001b[38;2;0;0;0;48;2;102;176;163m   \u001b[38;2;0;0;0;48;2;138;204;192m   \u001b[0m\n",
      "\u001b[38;2;0;0;0;48;2;138;204;192m   \u001b[38;2;0;0;0;48;2;102;176;163m   \u001b[38;2;0;0;0;48;2;138;204;192m   \u001b[38;2;0;0;0;48;2;102;176;163m   \u001b[38;2;0;0;0;48;2;138;204;192m   \u001b[38;2;0;0;0;48;2;102;176;163m   \u001b[38;2;0;0;0;48;2;138;204;192m   \u001b[38;2;0;0;0;48;2;102;176;163m   \u001b[0m\n",
      "\u001b[38;2;0;0;0;48;2;102;176;163m q \u001b[38;2;0;0;0;48;2;138;204;192m   \u001b[38;2;0;0;0;48;2;102;176;163m   \u001b[38;2;0;0;0;48;2;138;204;192m   \u001b[38;2;0;0;0;48;2;102;176;163m   \u001b[38;2;0;0;0;48;2;138;204;192m   \u001b[38;2;0;0;0;48;2;102;176;163m   \u001b[38;2;0;0;0;48;2;138;204;192m   \u001b[0m\n",
      "8/4k3/8/4p3/8/2B1K3/8/q7 b - -\n",
      "-1005\n",
      "\n",
      "-----------------------\n",
      "Move(d3e2)\n",
      "\u001b[38;2;0;0;0;48;2;138;204;192m   \u001b[38;2;0;0;0;48;2;102;176;163m   \u001b[38;2;0;0;0;48;2;138;204;192m   \u001b[38;2;0;0;0;48;2;102;176;163m   \u001b[38;2;0;0;0;48;2;138;204;192m   \u001b[38;2;0;0;0;48;2;102;176;163m   \u001b[38;2;0;0;0;48;2;138;204;192m   \u001b[38;2;0;0;0;48;2;102;176;163m   \u001b[0m\n",
      "\u001b[38;2;0;0;0;48;2;102;176;163m   \u001b[38;2;0;0;0;48;2;138;204;192m   \u001b[38;2;0;0;0;48;2;102;176;163m   \u001b[38;2;0;0;0;48;2;138;204;192m   \u001b[38;2;0;0;0;48;2;102;176;163m k \u001b[38;2;0;0;0;48;2;138;204;192m   \u001b[38;2;0;0;0;48;2;102;176;163m   \u001b[38;2;0;0;0;48;2;138;204;192m   \u001b[0m\n",
      "\u001b[38;2;0;0;0;48;2;138;204;192m   \u001b[38;2;0;0;0;48;2;102;176;163m   \u001b[38;2;0;0;0;48;2;138;204;192m   \u001b[38;2;0;0;0;48;2;102;176;163m   \u001b[38;2;0;0;0;48;2;138;204;192m   \u001b[38;2;0;0;0;48;2;102;176;163m   \u001b[38;2;0;0;0;48;2;138;204;192m   \u001b[38;2;0;0;0;48;2;102;176;163m   \u001b[0m\n",
      "\u001b[38;2;0;0;0;48;2;102;176;163m   \u001b[38;2;0;0;0;48;2;138;204;192m   \u001b[38;2;0;0;0;48;2;102;176;163m   \u001b[38;2;0;0;0;48;2;138;204;192m   \u001b[38;2;0;0;0;48;2;102;176;163m p \u001b[38;2;0;0;0;48;2;138;204;192m   \u001b[38;2;0;0;0;48;2;102;176;163m   \u001b[38;2;0;0;0;48;2;138;204;192m   \u001b[0m\n",
      "\u001b[38;2;0;0;0;48;2;138;204;192m   \u001b[38;2;0;0;0;48;2;102;176;163m   \u001b[38;2;0;0;0;48;2;138;204;192m   \u001b[38;2;0;0;0;48;2;102;176;163m   \u001b[38;2;0;0;0;48;2;138;204;192m   \u001b[38;2;0;0;0;48;2;102;176;163m   \u001b[38;2;0;0;0;48;2;138;204;192m   \u001b[38;2;0;0;0;48;2;102;176;163m   \u001b[0m\n",
      "\u001b[38;2;0;0;0;48;2;102;176;163m   \u001b[38;2;0;0;0;48;2;138;204;192m   \u001b[38;2;255;255;136;48;2;102;176;163m b \u001b[38;2;0;0;0;48;2;138;204;192m   \u001b[38;2;0;0;0;48;2;102;176;163m   \u001b[38;2;0;0;0;48;2;138;204;192m   \u001b[38;2;0;0;0;48;2;102;176;163m   \u001b[38;2;0;0;0;48;2;138;204;192m   \u001b[0m\n",
      "\u001b[38;2;0;0;0;48;2;138;204;192m   \u001b[38;2;0;0;0;48;2;102;176;163m   \u001b[38;2;0;0;0;48;2;138;204;192m   \u001b[38;2;0;0;0;48;2;102;176;163m   \u001b[38;2;255;255;136;48;2;138;204;192m k \u001b[38;2;0;0;0;48;2;102;176;163m   \u001b[38;2;0;0;0;48;2;138;204;192m   \u001b[38;2;0;0;0;48;2;102;176;163m   \u001b[0m\n",
      "\u001b[38;2;0;0;0;48;2;102;176;163m q \u001b[38;2;0;0;0;48;2;138;204;192m   \u001b[38;2;0;0;0;48;2;102;176;163m   \u001b[38;2;0;0;0;48;2;138;204;192m   \u001b[38;2;0;0;0;48;2;102;176;163m   \u001b[38;2;0;0;0;48;2;138;204;192m   \u001b[38;2;0;0;0;48;2;102;176;163m   \u001b[38;2;0;0;0;48;2;138;204;192m   \u001b[0m\n",
      "8/4k3/8/4p3/8/2B5/4K3/q7 b - -\n",
      "-1005\n",
      "\n",
      "(190, Move(c3a1)) 32.181087 seconds (71.31 M allocations: 3.265 GiB, 6.93% gc time)\n"
     ]
    }
   ],
   "source": [
    "b = fromfen(\"8/4k3/8/4p3/8/2BK4/8/q7 w - - 0 1\")\n",
    "current_board_value = evaluate_position(b)\n",
    "println(current_board_value)\n",
    "@time begin\n",
    "    best_move = minimax_verbal(b, current_board_value, 5)\n",
    "    print(best_move)\n",
    "end"
   ]
  },
  {
   "cell_type": "code",
   "execution_count": null,
   "metadata": {},
   "outputs": [],
   "source": []
  }
 ],
 "metadata": {
  "kernelspec": {
   "display_name": "Julia 1.8.2",
   "language": "julia",
   "name": "julia-1.8"
  },
  "language_info": {
   "file_extension": ".jl",
   "mimetype": "application/julia",
   "name": "julia",
   "version": "1.8.2"
  }
 },
 "nbformat": 4,
 "nbformat_minor": 4
}
