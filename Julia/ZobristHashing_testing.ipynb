{
 "cells": [
  {
   "cell_type": "code",
   "execution_count": null,
   "metadata": {},
   "outputs": [],
   "source": [
    "HTML(read(open(\"style.css\"), String))"
   ]
  },
  {
   "cell_type": "markdown",
   "metadata": {},
   "source": [
    "# Testfile for ZobristHashing.jl"
   ]
  },
  {
   "cell_type": "code",
   "execution_count": null,
   "metadata": {},
   "outputs": [],
   "source": [
    "# Pkg.add(\"NBInclude\")\n",
    "using NBInclude\n",
    "using Test\n",
    "using BenchmarkTools"
   ]
  },
  {
   "cell_type": "code",
   "execution_count": null,
   "metadata": {},
   "outputs": [],
   "source": [
    "@nbinclude(\"ZobristHashing.ipynb\")"
   ]
  },
  {
   "cell_type": "code",
   "execution_count": null,
   "metadata": {},
   "outputs": [],
   "source": [
    "zobrist = generate_zobrist_hashing()"
   ]
  },
  {
   "cell_type": "markdown",
   "metadata": {},
   "source": [
    "## Non-Incremental Zobrist Hashing"
   ]
  },
  {
   "cell_type": "markdown",
   "metadata": {},
   "source": [
    "### Benchmark testing"
   ]
  },
  {
   "cell_type": "code",
   "execution_count": null,
   "metadata": {},
   "outputs": [],
   "source": [
    "b = startboard()\n",
    "@btime zobrist_hash(b)"
   ]
  },
  {
   "cell_type": "markdown",
   "metadata": {},
   "source": [
    "## Incremental Zobrist Hashing"
   ]
  },
  {
   "cell_type": "markdown",
   "metadata": {},
   "source": [
    "### Regular Move "
   ]
  },
  {
   "cell_type": "code",
   "execution_count": null,
   "metadata": {},
   "outputs": [],
   "source": [
    "b1 = startboard()\n",
    "display(b1)\n",
    "b2 = domove(b1,  \"e2e4\")\n",
    "@testset \"Inkrementelle ZobristHashing\" begin\n",
    "    @test zobrist_hash(b1, zobrist_hash(b1), movefromstring(\"e2e4\") ) == zobrist_hash(b2)\n",
    "end"
   ]
  },
  {
   "cell_type": "markdown",
   "metadata": {},
   "source": [
    "### Castling Move"
   ]
  },
  {
   "cell_type": "code",
   "execution_count": null,
   "metadata": {},
   "outputs": [],
   "source": [
    "# WHITE\n",
    "b1 =fromfen(\"r3k2r/pppppppp/8/8/8/8/PPPPPPPP/R3K2R w KQkq - 0 1\")\n",
    "b2 = domove(b1,  \"e1g1\")\n",
    "display(b1)\n",
    "display(b2)\n",
    "@testset \"castling\" begin\n",
    "    @test zobrist_hash(b1, zobrist_hash(b1), movefromstring(\"e1g1\") ) == zobrist_hash(b2)\n",
    "end"
   ]
  },
  {
   "cell_type": "code",
   "execution_count": null,
   "metadata": {},
   "outputs": [],
   "source": [
    "# WHITE\n",
    "b1 =fromfen(\"r3k2r/pppppppp/8/8/8/8/PPPPPPPP/R3K2R w KQkq - 0 1\")\n",
    "b2 = domove(b1,  \"e1c1\")\n",
    "display(b1)\n",
    "display(b2)\n",
    "@testset \"castling\" begin\n",
    "    @test zobrist_hash(b1, zobrist_hash(b1), movefromstring(\"e1c1\") ) == zobrist_hash(b2)\n",
    "end"
   ]
  },
  {
   "cell_type": "code",
   "execution_count": null,
   "metadata": {},
   "outputs": [],
   "source": [
    "# BLACK King side\n",
    "b1 =fromfen(\"r3k2r/pppppppp/8/8/8/8/PPPPPPPP/R3K2R b KQkq - 0 1\")\n",
    "b2 = domove(b1,  \"e8g8\")\n",
    "display(b1)\n",
    "@testset \"castling BLACK King side\" begin\n",
    "    @test zobrist_hash(b1, zobrist_hash(b1), movefromstring(\"e8g8\") ) == zobrist_hash(b2)\n",
    "end"
   ]
  },
  {
   "cell_type": "code",
   "execution_count": null,
   "metadata": {},
   "outputs": [],
   "source": [
    "# BLACK Queenside\n",
    "b1 =fromfen(\"r3k2r/pppppppp/8/8/8/8/PPPPPPPP/R3K2R b KQkq - 0 1\")\n",
    "b2 = domove(b1,  \"e8c8\")\n",
    "display(b1)\n",
    "@testset \"castling BLACK King side\" begin\n",
    "    @test zobrist_hash(b1, zobrist_hash(b1), movefromstring(\"e8c8\") ) == zobrist_hash(b2)\n",
    "end"
   ]
  },
  {
   "cell_type": "markdown",
   "metadata": {},
   "source": [
    "### En Passant Move"
   ]
  },
  {
   "cell_type": "code",
   "execution_count": null,
   "metadata": {},
   "outputs": [],
   "source": [
    "# White En Passant\n",
    "b1 =fromfen(\"rnbqkbnr/pppp1ppp/4p3/4P3/8/8/PPPP1PPP/RNBQKBNR w KQkq - 0 1\")\n",
    "b2 = domove(b1,  \"d7d5\")\n",
    "display(b1)\n",
    "display(b2)\n",
    "@testset \"En Passant\" begin\n",
    "    @test zobrist_hash(b1, zobrist_hash(b1), movefromstring(\"d7d5\") ) == zobrist_hash(b2)\n",
    "end"
   ]
  },
  {
   "cell_type": "code",
   "execution_count": null,
   "metadata": {},
   "outputs": [],
   "source": [
    "# Black En Passant\n",
    "b1 = fromfen(\"rnbqkbnr/pppp1ppp/8/8/4p3/1P6/PBPPPPPP/RN1QKBNR w KQkq - 0 1\")\n",
    "b2 = domove(b1,  \"d2d4\")\n",
    "display(b1)\n",
    "display(b2)\n",
    "@testset \"En Passant\" begin\n",
    "    @test zobrist_hash(b1, zobrist_hash(b1), movefromstring(\"d2d4\") ) == zobrist_hash(b2)\n",
    "end"
   ]
  },
  {
   "cell_type": "markdown",
   "metadata": {},
   "source": [
    "### Castling\n"
   ]
  },
  {
   "cell_type": "code",
   "execution_count": null,
   "metadata": {},
   "outputs": [],
   "source": [
    "b1 = fromfen(\"6k1/3P1ppp/8/8/8/8/PPP1p3/1K6 w - - 0 1\")\n",
    "b2 = domove(b1,  \"d7d8q\")\n",
    "display(b1)\n",
    "display(b2)\n",
    "@testset \"Promotion\" begin\n",
    "    @test zobrist_hash(b1, zobrist_hash(b1), movefromstring(\"d7d8q\") ) == zobrist_hash(b2)\n",
    "end"
   ]
  },
  {
   "cell_type": "code",
   "execution_count": null,
   "metadata": {},
   "outputs": [],
   "source": [
    "b1 = fromfen(\"6k1/3P1ppp/8/8/8/8/PPP1p3/1K6 b - - 0 1\")\n",
    "b2 = domove(b1,  \"e2e1q\")\n",
    "display(b1)\n",
    "display(b2)\n",
    "@testset \"Promotion\" begin\n",
    "    @test zobrist_hash(b1, zobrist_hash(b1), movefromstring(\"e2e1q\") ) == zobrist_hash(b2)\n",
    "end"
   ]
  },
  {
   "cell_type": "markdown",
   "metadata": {},
   "source": [
    "## Testing with random move engine"
   ]
  },
  {
   "cell_type": "code",
   "execution_count": null,
   "metadata": {},
   "outputs": [],
   "source": [
    "@nbinclude(\"RandomChess.ipynb\")"
   ]
  },
  {
   "cell_type": "code",
   "execution_count": null,
   "metadata": {},
   "outputs": [],
   "source": [
    "@testset \"Hashing with Random Engine\" begin\n",
    "    Random.seed!(1)\n",
    "    testBoard = startboard()\n",
    "    testHash = zobrist_hash(testBoard)\n",
    "    while !isterminal(testBoard)\n",
    "        move = generateRandomMove(testBoard)\n",
    "        incrementalHash = zobrist_hash(testBoard, testHash, move)\n",
    "        domove!(testBoard, move)\n",
    "        actualHash = zobrist_hash(testBoard)\n",
    "        @test incrementalHash == actualHash\n",
    "        if incrementalHash != actualHash\n",
    "            display(testBoard)\n",
    "            println(lastmove(testBoard))\n",
    "        end\n",
    "        testHash = actualHash\n",
    "    end\n",
    "end"
   ]
  },
  {
   "cell_type": "markdown",
   "metadata": {},
   "source": [
    "### Benchmark testing"
   ]
  },
  {
   "cell_type": "code",
   "execution_count": null,
   "metadata": {},
   "outputs": [],
   "source": [
    "b = startboard()\n",
    "startboardhash = zobrist_hash(b)\n",
    "move = movefromstring(\"e2e4\")\n",
    "for i in 1:10\n",
    "    @btime zobrist_hash(b, startboardhash, move)\n",
    "end"
   ]
  },
  {
   "cell_type": "code",
   "execution_count": null,
   "metadata": {},
   "outputs": [],
   "source": [
    "b = startboard()\n",
    "startboardhash = zobrist_hash(b)\n",
    "move = movefromstring(\"e2e4\")\n",
    "for i in 1:10\n",
    "    @btime zobrist_hash(b)\n",
    "end"
   ]
  }
 ],
 "metadata": {
  "kernelspec": {
   "display_name": "Julia 1.8.2",
   "language": "julia",
   "name": "julia-1.8"
  },
  "language_info": {
   "file_extension": ".jl",
   "mimetype": "application/julia",
   "name": "julia",
   "version": "1.8.2"
  }
 },
 "nbformat": 4,
 "nbformat_minor": 2
}
