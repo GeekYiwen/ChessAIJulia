{
 "cells": [
  {
   "cell_type": "code",
   "execution_count": null,
   "metadata": {},
   "outputs": [],
   "source": [
    "HTML(read(open(\"style.css\"), String))"
   ]
  },
  {
   "cell_type": "markdown",
   "metadata": {},
   "source": [
    "# Testing for Advanced Board struct"
   ]
  },
  {
   "cell_type": "code",
   "execution_count": null,
   "metadata": {},
   "outputs": [],
   "source": [
    "using Chess\n",
    "using NBInclude\n",
    "using BenchmarkTools\n",
    "using Test"
   ]
  },
  {
   "cell_type": "code",
   "execution_count": null,
   "metadata": {},
   "outputs": [],
   "source": [
    "@nbinclude(\"AdvancedBoard.ipynb\")"
   ]
  },
  {
   "cell_type": "markdown",
   "metadata": {},
   "source": [
    "## Test Initialization"
   ]
  },
  {
   "cell_type": "code",
   "execution_count": null,
   "metadata": {
    "scrolled": true
   },
   "outputs": [],
   "source": [
    "b = startboard()\n",
    "a = AdvBoard(b)\n",
    "@testset \"Initialization\" begin\n",
    "    @test a.state == b\n",
    "    @test a.score == 0\n",
    "    @test a.hash == zobrist_hash(b)\n",
    "    @test a.repCounter == Dict(a.hash => 1)\n",
    "end"
   ]
  },
  {
   "cell_type": "code",
   "execution_count": null,
   "metadata": {},
   "outputs": [],
   "source": [
    "domoveAdv!(a, movefromstring(\"e2e4\"))"
   ]
  },
  {
   "cell_type": "markdown",
   "metadata": {},
   "source": [
    "## Test Repetition"
   ]
  },
  {
   "cell_type": "code",
   "execution_count": null,
   "metadata": {
    "scrolled": true
   },
   "outputs": [],
   "source": [
    "b = fromfen(\"k4r2/8/8/8/8/8/8/K3R3 w - - 0 1\")\n",
    "aB = AdvBoard(b)\n",
    "\n",
    "domoveAdv!(aB, movefromstring(\"e1d1\"))\n",
    "domoveAdv!(aB, movefromstring(\"f8e8\"))\n",
    "domoveAdv!(aB, movefromstring(\"d1e1\"))\n",
    "domoveAdv!(aB, movefromstring(\"e8f8\"))\n",
    "domoveAdv!(aB, movefromstring(\"e1d1\"))\n",
    "domoveAdv!(aB, movefromstring(\"f8e8\"))\n",
    "domoveAdv!(aB, movefromstring(\"d1e1\"))\n",
    "undoInfo = domoveAdv!(aB, movefromstring(\"e8f8\"))\n",
    "\n",
    "@testset \"Repetition\" begin\n",
    "    @test isRepetition(aB.repCounter)\n",
    "    undomoveAdv!(aB, undoInfo)\n",
    "    @test evaluate_move(aB, movefromstring(\"e8f8\")) == 0\n",
    "end"
   ]
  }
 ],
 "metadata": {
  "kernelspec": {
   "display_name": "Julia 1.8.4",
   "language": "julia",
   "name": "julia-1.8"
  },
  "language_info": {
   "file_extension": ".jl",
   "mimetype": "application/julia",
   "name": "julia",
   "version": "1.8.4"
  }
 },
 "nbformat": 4,
 "nbformat_minor": 4
}
